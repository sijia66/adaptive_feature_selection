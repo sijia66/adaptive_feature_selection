{
 "cells": [
  {
   "cell_type": "markdown",
   "metadata": {},
   "source": [
    "# Purposes of this document\n",
    "\n",
    "this exp was set up to scramble the rows of the Kalman filter. \n"
   ]
  },
  {
   "cell_type": "code",
   "execution_count": 1,
   "metadata": {
    "ExecuteTime": {
     "end_time": "2021-02-05T01:14:38.474256Z",
     "start_time": "2021-02-05T01:14:38.471925Z"
    }
   },
   "outputs": [],
   "source": [
    "\n",
    "exp_conds = ['encoder C matrix but scrambed rotationally',\n",
    "            'encoder C matrix but shift four rows done']\n",
    "INDEX_SCRAMBLED_SAME_ENC_ROT = 0\n",
    "INDEX_SCRAMBLED_SAME_ENC_SHIFT = 1\n",
    "\n",
    "#generate task params\n",
    "N_TARGETS = 8\n",
    "N_TRIALS = 8\n",
    "\n",
    "NUM_EXP = len(exp_conds)# how many experiments we are running. "
   ]
  },
  {
   "cell_type": "markdown",
   "metadata": {},
   "source": [
    "# setting up the simulation components\n",
    "\n",
    "this section largely copyied and pasted from   \n",
    "bmi3d-sijia(branch)-bulti_in_experiemnts\n",
    "https://github.com/sijia66/brain-python-interface/blob/master/built_in_tasks/sim_task_KF.py"
   ]
  },
  {
   "cell_type": "code",
   "execution_count": 2,
   "metadata": {
    "ExecuteTime": {
     "end_time": "2021-02-05T01:14:39.290117Z",
     "start_time": "2021-02-05T01:14:38.475569Z"
    }
   },
   "outputs": [
    {
     "name": "stderr",
     "output_type": "stream",
     "text": [
      "/home/sijia-aw/BMi3D_my/lab_bmi3d/riglib/blackrock/cerelink.py:13: UserWarning: Unable to import cerebus library. Check if is installed if using the Blackrock NeuroPort system\n",
      "  warnings.warn(\"Unable to import cerebus library. Check if is installed if using the Blackrock NeuroPort system\")\n"
     ]
    }
   ],
   "source": [
    "# import libraries\n",
    "# make sure these directories are in the python path., \n",
    "from bmimultitasks import SimBMIControlMulti, SimBMICosEncKFDec, BMIControlMultiNoWindow\n",
    "from features import SaveHDF\n",
    "from features.simulation_features import get_enc_setup, SimKFDecoderRandom, SimCosineTunedEnc,SimIntentionLQRController, SimClockTick\n",
    "from features.simulation_features import SimHDF, SimTime\n",
    "\n",
    "from riglib import experiment\n",
    "\n",
    "from riglib.stereo_opengl.window import FakeWindow\n",
    "from riglib.bmi import train\n",
    "\n",
    "import weights\n",
    "\n",
    "import time\n",
    "import copy\n",
    "import numpy as np\n",
    "import sympy as sp\n",
    "import itertools #for identical sequences\n",
    "import matplotlib.pyplot as plt\n",
    "\n",
    "\n",
    "from weights import replace_kalman_filter"
   ]
  },
  {
   "cell_type": "markdown",
   "metadata": {},
   "source": [
    "##  set up trial information"
   ]
  },
  {
   "cell_type": "code",
   "execution_count": 3,
   "metadata": {
    "ExecuteTime": {
     "end_time": "2021-02-05T01:14:39.292792Z",
     "start_time": "2021-02-05T01:14:39.290924Z"
    }
   },
   "outputs": [],
   "source": [
    "seq = SimBMIControlMulti.sim_target_seq_generator_multi(\n",
    "N_TARGETS, N_TRIALS)\n",
    "\n",
    "#create a second version of the tasks\n",
    "seqs = itertools.tee(seq, NUM_EXP)"
   ]
  },
  {
   "cell_type": "markdown",
   "metadata": {},
   "source": [
    "##  simulation encoder decoder setup"
   ]
  },
  {
   "cell_type": "code",
   "execution_count": 4,
   "metadata": {
    "ExecuteTime": {
     "end_time": "2021-02-05T01:14:39.305381Z",
     "start_time": "2021-02-05T01:14:39.293809Z"
    }
   },
   "outputs": [
    {
     "name": "stdout",
     "output_type": "stream",
     "text": [
      "features.simulation_features: get_enc_setup has a tuning_level of 1 \n",
      "\n"
     ]
    }
   ],
   "source": [
    "#clda on random \n",
    "DECODER_MODE = 'trained' # in this case we load simulation_features.SimKFDecoderRandom\n",
    "ENCODER_TYPE = 'cosine_tuned_encoder'\n",
    "LEARNER_TYPE = 'dumb' # to dumb or not dumb it is a question 'feedback'\n",
    "UPDATER_TYPE = 'none' #none or \"smooth_batch\"\n",
    "\n",
    "\n",
    "SAVE_HDF = False\n",
    "SAVE_SIM_HDF = True #this makes the task data available as exp.task_data_hist\n",
    "DEBUG_FEATURE = False\n",
    "\n",
    "#neuron set up : 'std (20 neurons)' or 'toy (4 neurons)' \n",
    "N_NEURONS, N_STATES, sim_C = get_enc_setup(sim_mode = 'std')"
   ]
  },
  {
   "cell_type": "markdown",
   "metadata": {},
   "source": [
    "## from the setup options, set up experiment"
   ]
  },
  {
   "cell_type": "code",
   "execution_count": 5,
   "metadata": {
    "ExecuteTime": {
     "end_time": "2021-02-05T01:14:39.315866Z",
     "start_time": "2021-02-05T01:14:39.306137Z"
    }
   },
   "outputs": [
    {
     "name": "stdout",
     "output_type": "stream",
     "text": [
      "__main__: selected SimCosineTunedEnc\n",
      "\n",
      "__main__: set decoder to SimKFDecoderSup\n",
      "\n",
      "__main__: need to specify an updater\n"
     ]
    }
   ],
   "source": [
    "# set up assist level\n",
    "assist_level = (0, 0)\n",
    "\n",
    "#base_class = SimBMIControlMulti\n",
    "base_class = BMIControlMultiNoWindow\n",
    "feats = []\n",
    "\n",
    "#set up intention feedbackcontroller\n",
    "#this ideally set before the encoder\n",
    "feats.append(SimIntentionLQRController)\n",
    "\n",
    "#set up the encoder\n",
    "if ENCODER_TYPE == 'cosine_tuned_encoder' :\n",
    "    feats.append(SimCosineTunedEnc)\n",
    "    print(f'{__name__}: selected SimCosineTunedEnc\\n')\n",
    "    \n",
    "    \n",
    "   #take care the decoder setup\n",
    "if DECODER_MODE == 'random':\n",
    "    feats.append(SimKFDecoderRandom)\n",
    "    print(f'{__name__}: set base class ')\n",
    "    print(f'{__name__}: selected SimKFDecoderRandom \\n')\n",
    "else: #defaul to a cosEnc and a pre-traind KF DEC\n",
    "    from features.simulation_features import SimKFDecoderSup\n",
    "    feats.append(SimKFDecoderSup)\n",
    "    print(f'{__name__}: set decoder to SimKFDecoderSup\\n')\n",
    "    \n",
    "    \n",
    "#you know what? \n",
    "#learner only collects firing rates labeled with estimated estimates\n",
    "#we would also need to use the labeled data\n",
    "#now, we can set up a dumb/or not-dumb learner\n",
    "if LEARNER_TYPE == 'feedback':\n",
    "    from features.simulation_features import SimFeedbackLearner\n",
    "    feats.append(SimFeedbackLearner)\n",
    "else:\n",
    "    from features.simulation_features import SimDumbLearner\n",
    "    feats.append(SimDumbLearner)\n",
    "\n",
    "\n",
    "\n",
    "\n",
    "#to update the decoder.\n",
    "if UPDATER_TYPE == 'smooth_batch':\n",
    "    from features.simulation_features import SimSmoothBatch\n",
    "    feats.append(SimSmoothBatch)\n",
    "else: #defaut to none \n",
    "    print(f'{__name__}: need to specify an updater')\n",
    "    \n",
    "if DEBUG_FEATURE: \n",
    "    from features.simulation_features import DebugFeature\n",
    "    feats.append(DebugFeature)\n",
    "    \n",
    "if SAVE_HDF: feats.append(SaveHDF)\n",
    "if SAVE_SIM_HDF: feats.append(SimHDF)\n",
    "    \n",
    "    \n",
    "#pass the real time limit on clock\n",
    "feats.append(SimClockTick)\n",
    "feats.append(SimTime)\n",
    "\n",
    "\n",
    "#save everthing in a kw\n",
    "kwargs = dict()\n",
    "kwargs['sim_C'] = sim_C"
   ]
  },
  {
   "cell_type": "markdown",
   "metadata": {},
   "source": [
    "## seed the exp"
   ]
  },
  {
   "cell_type": "code",
   "execution_count": 6,
   "metadata": {
    "ExecuteTime": {
     "end_time": "2021-02-05T01:14:39.327798Z",
     "start_time": "2021-02-05T01:14:39.316677Z"
    }
   },
   "outputs": [],
   "source": [
    "np.random.seed(0)"
   ]
  },
  {
   "cell_type": "markdown",
   "metadata": {},
   "source": [
    "## make our experiment class"
   ]
  },
  {
   "cell_type": "code",
   "execution_count": 7,
   "metadata": {
    "ExecuteTime": {
     "end_time": "2021-02-05T01:14:39.338356Z",
     "start_time": "2021-02-05T01:14:39.329373Z"
    }
   },
   "outputs": [
    {
     "name": "stdout",
     "output_type": "stream",
     "text": [
      "metaclass constructor\n",
      "(<class 'features.simulation_features.SimIntentionLQRController'>, <class 'features.simulation_features.SimCosineTunedEnc'>, <class 'features.simulation_features.SimKFDecoderSup'>, <class 'features.simulation_features.SimDumbLearner'>, <class 'features.simulation_features.SimHDF'>, <class 'features.simulation_features.SimClockTick'>, <class 'features.simulation_features.SimTime'>, <class 'bmimultitasks.BMIControlMultiNoWindow'>)\n",
      "[<class 'features.simulation_features.SimIntentionLQRController'>, <class 'features.simulation_features.SimCosineTunedEnc'>, <class 'features.simulation_features.SimKFDecoderSup'>, <class 'features.simulation_features.SimDumbLearner'>, <class 'features.simulation_features.SimHDF'>, <class 'features.simulation_features.SimClockTick'>, <class 'features.simulation_features.SimTime'>]\n"
     ]
    }
   ],
   "source": [
    "#spawn the task\n",
    "Exp = experiment.make(base_class, feats=feats)\n"
   ]
  },
  {
   "cell_type": "markdown",
   "metadata": {},
   "source": [
    "# creat experiments with different C matrices"
   ]
  },
  {
   "cell_type": "markdown",
   "metadata": {},
   "source": [
    "we now we have the current experiment"
   ]
  },
  {
   "cell_type": "markdown",
   "metadata": {},
   "source": [
    "## create exps"
   ]
  },
  {
   "cell_type": "code",
   "execution_count": 8,
   "metadata": {
    "ExecuteTime": {
     "end_time": "2021-02-05T01:14:39.474081Z",
     "start_time": "2021-02-05T01:14:39.339825Z"
    }
   },
   "outputs": [
    {
     "name": "stdout",
     "output_type": "stream",
     "text": [
      "\n",
      "features.simulation_features.SimIntentionLQRController: LQRController used \n",
      "\n",
      "finished executing Experiment.__init__\n",
      "\n",
      "features.simulation_features.SimIntentionLQRController: LQRController used \n",
      "\n",
      "finished executing Experiment.__init__\n",
      "\n",
      "SimCosineTunedEnc SSM: State space: ['hand_px', 'hand_py', 'hand_pz', 'hand_vx', 'hand_vy', 'hand_vz', 'offset'] \n",
      "\n",
      "neural encoder init function  <BMIControlMultiNoWindow(Thread-4, initial)>\n",
      "features.simulation_features: added tracking of K matrix\n",
      "Creating simulation decoder..\n",
      "SimKFDecoderSup:loaded self.encoder\n",
      "<riglib.bmi.sim_neurons.GenericCosEnc object at 0x7fc8a63f4c10> <class 'riglib.bmi.sim_neurons.GenericCosEnc'>\n",
      "SimKFDecoderSup:loaded self.ssm\n",
      "<riglib.bmi.sim_neurons.GenericCosEnc object at 0x7fc8a63f4c10> <class 'riglib.bmi.sim_neurons.GenericCosEnc'>\n",
      "SimKFDecoderSup: units:  20\n",
      " SimKFDecoderSup: zscore decoder ? :  False\n",
      "{}\n",
      "end of kwargs\n",
      "('zscore value: ', False, <class 'bool'>)\n",
      "no init_zscore\n",
      "<bmimultitasks.SimpleEndpointAssister object at 0x7fc8a63f4d00>\n",
      "\n",
      "SimCosineTunedEnc SSM: State space: ['hand_px', 'hand_py', 'hand_pz', 'hand_vx', 'hand_vy', 'hand_vz', 'offset'] \n",
      "\n",
      "neural encoder init function  <BMIControlMultiNoWindow(Thread-5, initial)>\n",
      "features.simulation_features: added tracking of K matrix\n",
      "Creating simulation decoder..\n",
      "SimKFDecoderSup:loaded self.encoder\n",
      "<riglib.bmi.sim_neurons.GenericCosEnc object at 0x7fc8a64036a0> <class 'riglib.bmi.sim_neurons.GenericCosEnc'>\n",
      "SimKFDecoderSup:loaded self.ssm\n",
      "<riglib.bmi.sim_neurons.GenericCosEnc object at 0x7fc8a64036a0> <class 'riglib.bmi.sim_neurons.GenericCosEnc'>\n",
      "SimKFDecoderSup: units:  20\n",
      " SimKFDecoderSup: zscore decoder ? :  False\n",
      "{}\n",
      "end of kwargs\n",
      "('zscore value: ', False, <class 'bool'>)\n",
      "no init_zscore\n",
      "<bmimultitasks.SimpleEndpointAssister object at 0x7fc8a6403f40>\n"
     ]
    }
   ],
   "source": [
    "exps = [Exp(s, **kwargs) for s in seqs]\n",
    "for e in exps: e.init()"
   ]
  },
  {
   "cell_type": "markdown",
   "metadata": {},
   "source": [
    "check how to redu the number of digits. "
   ]
  },
  {
   "cell_type": "markdown",
   "metadata": {},
   "source": [
    "## make the decoder observation matrix same as enc"
   ]
  },
  {
   "cell_type": "code",
   "execution_count": 9,
   "metadata": {
    "ExecuteTime": {
     "end_time": "2021-02-05T01:14:39.477340Z",
     "start_time": "2021-02-05T01:14:39.475106Z"
    }
   },
   "outputs": [],
   "source": [
    "enc_C = exps[INDEX_SCRAMBLED_SAME_ENC_ROT].encoder.C\n",
    "row_indices = list(range(N_NEURONS))\n",
    "\n",
    "row_indices[0] = 1\n",
    "row_indices[1] = 2\n",
    "row_indices[2] = 3\n",
    "row_indices[3] = 0\n",
    "\n",
    "enc_c_scrambled = enc_C[row_indices]"
   ]
  },
  {
   "cell_type": "code",
   "execution_count": 10,
   "metadata": {
    "ExecuteTime": {
     "end_time": "2021-02-05T01:14:39.493826Z",
     "start_time": "2021-02-05T01:14:39.478321Z"
    }
   },
   "outputs": [
    {
     "name": "stdout",
     "output_type": "stream",
     "text": [
      "C matrix before\n",
      "[[ 0.00000000e+00  0.00000000e+00  0.00000000e+00  5.25523092e-02\n",
      "   0.00000000e+00  7.24325647e-05  1.05334196e-01]\n",
      " [ 0.00000000e+00  0.00000000e+00  0.00000000e+00 -5.07262743e-02\n",
      "   0.00000000e+00 -1.69454581e-03  1.08596254e-01]\n",
      " [ 0.00000000e+00  0.00000000e+00  0.00000000e+00 -6.84486912e-03\n",
      "   0.00000000e+00  5.28040645e-02  1.12094910e-01]\n",
      " [ 0.00000000e+00  0.00000000e+00  0.00000000e+00  3.46171993e-03\n",
      "   0.00000000e+00 -4.99738192e-02  1.08525201e-01]\n",
      " [ 0.00000000e+00  0.00000000e+00  0.00000000e+00  0.00000000e+00\n",
      "   0.00000000e+00  0.00000000e+00  0.00000000e+00]\n",
      " [ 0.00000000e+00  0.00000000e+00  0.00000000e+00  0.00000000e+00\n",
      "   0.00000000e+00  0.00000000e+00  0.00000000e+00]\n",
      " [ 0.00000000e+00  0.00000000e+00  0.00000000e+00  0.00000000e+00\n",
      "   0.00000000e+00  0.00000000e+00  0.00000000e+00]\n",
      " [ 0.00000000e+00  0.00000000e+00  0.00000000e+00  0.00000000e+00\n",
      "   0.00000000e+00  0.00000000e+00  0.00000000e+00]\n",
      " [ 0.00000000e+00  0.00000000e+00  0.00000000e+00  0.00000000e+00\n",
      "   0.00000000e+00  0.00000000e+00  0.00000000e+00]\n",
      " [ 0.00000000e+00  0.00000000e+00  0.00000000e+00  0.00000000e+00\n",
      "   0.00000000e+00  0.00000000e+00  0.00000000e+00]\n",
      " [ 0.00000000e+00  0.00000000e+00  0.00000000e+00  0.00000000e+00\n",
      "   0.00000000e+00  0.00000000e+00  0.00000000e+00]\n",
      " [ 0.00000000e+00  0.00000000e+00  0.00000000e+00  0.00000000e+00\n",
      "   0.00000000e+00  0.00000000e+00  0.00000000e+00]\n",
      " [ 0.00000000e+00  0.00000000e+00  0.00000000e+00  0.00000000e+00\n",
      "   0.00000000e+00  0.00000000e+00  0.00000000e+00]\n",
      " [ 0.00000000e+00  0.00000000e+00  0.00000000e+00  0.00000000e+00\n",
      "   0.00000000e+00  0.00000000e+00  0.00000000e+00]\n",
      " [ 0.00000000e+00  0.00000000e+00  0.00000000e+00  0.00000000e+00\n",
      "   0.00000000e+00  0.00000000e+00  0.00000000e+00]\n",
      " [ 0.00000000e+00  0.00000000e+00  0.00000000e+00  0.00000000e+00\n",
      "   0.00000000e+00  0.00000000e+00  0.00000000e+00]\n",
      " [ 0.00000000e+00  0.00000000e+00  0.00000000e+00  0.00000000e+00\n",
      "   0.00000000e+00  0.00000000e+00  0.00000000e+00]\n",
      " [ 0.00000000e+00  0.00000000e+00  0.00000000e+00  0.00000000e+00\n",
      "   0.00000000e+00  0.00000000e+00  0.00000000e+00]\n",
      " [ 0.00000000e+00  0.00000000e+00  0.00000000e+00  0.00000000e+00\n",
      "   0.00000000e+00  0.00000000e+00  0.00000000e+00]\n",
      " [ 0.00000000e+00  0.00000000e+00  0.00000000e+00  0.00000000e+00\n",
      "   0.00000000e+00  0.00000000e+00  0.00000000e+00]]\n",
      "C matrix after\n",
      "[[ 0.  0.  0. -1.  0.  0.  0.]\n",
      " [ 0.  0.  0.  0.  0.  1.  0.]\n",
      " [ 0.  0.  0.  0.  0. -1.  0.]\n",
      " [ 0.  0.  0.  1.  0.  0.  0.]\n",
      " [ 0.  0.  0.  0.  0.  0.  0.]\n",
      " [ 0.  0.  0.  0.  0.  0.  0.]\n",
      " [ 0.  0.  0.  0.  0.  0.  0.]\n",
      " [ 0.  0.  0.  0.  0.  0.  0.]\n",
      " [ 0.  0.  0.  0.  0.  0.  0.]\n",
      " [ 0.  0.  0.  0.  0.  0.  0.]\n",
      " [ 0.  0.  0.  0.  0.  0.  0.]\n",
      " [ 0.  0.  0.  0.  0.  0.  0.]\n",
      " [ 0.  0.  0.  0.  0.  0.  0.]\n",
      " [ 0.  0.  0.  0.  0.  0.  0.]\n",
      " [ 0.  0.  0.  0.  0.  0.  0.]\n",
      " [ 0.  0.  0.  0.  0.  0.  0.]\n",
      " [ 0.  0.  0.  0.  0.  0.  0.]\n",
      " [ 0.  0.  0.  0.  0.  0.  0.]\n",
      " [ 0.  0.  0.  0.  0.  0.  0.]\n",
      " [ 0.  0.  0.  0.  0.  0.  0.]]\n",
      "C_xpose_Q_inv before:\n",
      "[[ 0.          0.          0.          0.          0.          0.\n",
      "   0.          0.          0.          0.          0.          0.\n",
      "   0.          0.          0.          0.          0.          0.\n",
      "   0.          0.        ]\n",
      " [ 0.          0.          0.          0.          0.          0.\n",
      "   0.          0.          0.          0.          0.          0.\n",
      "   0.          0.          0.          0.          0.          0.\n",
      "   0.          0.        ]\n",
      " [ 0.          0.          0.          0.          0.          0.\n",
      "   0.          0.          0.          0.          0.          0.\n",
      "   0.          0.          0.          0.          0.          0.\n",
      "   0.          0.        ]\n",
      " [ 0.50010257 -0.51279915 -0.06352229  0.05172548  0.          0.\n",
      "   0.          0.          0.          0.          0.          0.\n",
      "   0.          0.          0.          0.          0.          0.\n",
      "   0.          0.        ]\n",
      " [ 0.          0.          0.          0.          0.          0.\n",
      "   0.          0.          0.          0.          0.          0.\n",
      "   0.          0.          0.          0.          0.          0.\n",
      "   0.          0.        ]\n",
      " [ 0.00225026  0.01352492  0.45234761 -0.39572735  0.          0.\n",
      "   0.          0.          0.          0.          0.          0.\n",
      "   0.          0.          0.          0.          0.          0.\n",
      "   0.          0.        ]\n",
      " [ 0.89096638  0.94120063  0.88928474  0.71962113  0.          0.\n",
      "   0.          0.          0.          0.          0.          0.\n",
      "   0.          0.          0.          0.          0.          0.\n",
      "   0.          0.        ]]\n",
      "C_xpose_Q_inv_C after:\n",
      "[[ 0.          0.          0.          0.          0.          0.\n",
      "   0.          0.          0.          0.          0.          0.\n",
      "   0.          0.          0.          0.          0.          0.\n",
      "   0.          0.        ]\n",
      " [ 0.          0.          0.          0.          0.          0.\n",
      "   0.          0.          0.          0.          0.          0.\n",
      "   0.          0.          0.          0.          0.          0.\n",
      "   0.          0.        ]\n",
      " [ 0.          0.          0.          0.          0.          0.\n",
      "   0.          0.          0.          0.          0.          0.\n",
      "   0.          0.          0.          0.          0.          0.\n",
      "   0.          0.        ]\n",
      " [-8.99548574  0.08881219 -0.42325686  7.50044478  0.          0.\n",
      "   0.          0.          0.          0.          0.          0.\n",
      "   0.          0.          0.          0.          0.          0.\n",
      "   0.          0.        ]\n",
      " [ 0.          0.          0.          0.          0.          0.\n",
      "   0.          0.          0.          0.          0.          0.\n",
      "   0.          0.          0.          0.          0.          0.\n",
      "   0.          0.        ]\n",
      " [-0.55419692  9.36596757 -8.04894063 -0.04212787  0.          0.\n",
      "   0.          0.          0.          0.          0.          0.\n",
      "   0.          0.          0.          0.          0.          0.\n",
      "   0.          0.        ]\n",
      " [ 0.          0.          0.          0.          0.          0.\n",
      "   0.          0.          0.          0.          0.          0.\n",
      "   0.          0.          0.          0.          0.          0.\n",
      "   0.          0.        ]]\n",
      "C_xpose_Q_inv_C_before:\n",
      "[[ 0.          0.          0.          0.          0.          0.\n",
      "   0.        ]\n",
      " [ 0.          0.          0.          0.          0.          0.\n",
      "   0.        ]\n",
      " [ 0.          0.          0.          0.          0.          0.\n",
      "   0.        ]\n",
      " [ 0.          0.          0.          0.0529078   0.         -0.00503397\n",
      "  -0.00451717]\n",
      " [ 0.          0.          0.          0.          0.          0.\n",
      "   0.        ]\n",
      " [ 0.          0.          0.         -0.00503397  0.          0.04363904\n",
      "   0.00946526]\n",
      " [ 0.          0.          0.         -0.00451717  0.          0.00946526\n",
      "   0.37384141]]\n",
      "C_xpose_Q_inv_C after:\n",
      "[[ 0.          0.          0.          0.          0.          0.\n",
      "   0.        ]\n",
      " [ 0.          0.          0.          0.          0.          0.\n",
      "   0.        ]\n",
      " [ 0.          0.          0.          0.          0.          0.\n",
      "   0.        ]\n",
      " [ 0.          0.          0.         16.49593052  0.          0.51206905\n",
      "   0.        ]\n",
      " [ 0.          0.          0.          0.          0.          0.\n",
      "   0.        ]\n",
      " [ 0.          0.          0.          0.51206905  0.         17.4149082\n",
      "   0.        ]\n",
      " [ 0.          0.          0.          0.          0.          0.\n",
      "   0.        ]]\n"
     ]
    }
   ],
   "source": [
    "\n",
    "replace_kalman_filter(exps[INDEX_SCRAMBLED_SAME_ENC_ROT].bmi_system.decoder.filt, enc_c_scrambled)"
   ]
  },
  {
   "cell_type": "markdown",
   "metadata": {},
   "source": [
    "## make a decoder C with the same as encoder C but scrambed"
   ]
  },
  {
   "cell_type": "code",
   "execution_count": 11,
   "metadata": {
    "ExecuteTime": {
     "end_time": "2021-02-05T01:14:39.499156Z",
     "start_time": "2021-02-05T01:14:39.494938Z"
    }
   },
   "outputs": [
    {
     "name": "stdout",
     "output_type": "stream",
     "text": [
      "before\n",
      "[[ 0.  0.  0.  1.  0.  0.  0.]\n",
      " [ 0.  0.  0. -1.  0.  0.  0.]\n",
      " [ 0.  0.  0.  0.  0.  1.  0.]\n",
      " [ 0.  0.  0.  0.  0. -1.  0.]\n",
      " [ 0.  0.  0.  0.  0.  0.  0.]\n",
      " [ 0.  0.  0.  0.  0.  0.  0.]\n",
      " [ 0.  0.  0.  0.  0.  0.  0.]\n",
      " [ 0.  0.  0.  0.  0.  0.  0.]]\n",
      "after\n",
      "[[ 0.  0.  0.  0.  0.  0.  0.]\n",
      " [ 0.  0.  0.  0.  0.  0.  0.]\n",
      " [ 0.  0.  0.  0.  0.  0.  0.]\n",
      " [ 0.  0.  0.  0.  0.  0.  0.]\n",
      " [ 0.  0.  0.  1.  0.  0.  0.]\n",
      " [ 0.  0.  0. -1.  0.  0.  0.]\n",
      " [ 0.  0.  0.  0.  0.  1.  0.]\n",
      " [ 0.  0.  0.  0.  0. -1.  0.]]\n"
     ]
    }
   ],
   "source": [
    "enc_C = exps[INDEX_SCRAMBLED_SAME_ENC_SHIFT].encoder.C\n",
    "row_indices = list(range(N_NEURONS))\n",
    "\n",
    "temp_rows = row_indices[0:4]\n",
    "row_indices[0:4] = row_indices[4:8]\n",
    "row_indices[4:8] = temp_rows\n",
    "\n",
    "\n",
    "FIRST_N_ROWS  = 8 \n",
    "\n",
    "enc_c_scrambled = enc_C[row_indices]\n",
    "print('before')\n",
    "print(enc_C[:FIRST_N_ROWS, :])\n",
    "\n",
    "print('after')\n",
    "print(enc_c_scrambled[:FIRST_N_ROWS, :])"
   ]
  },
  {
   "cell_type": "code",
   "execution_count": 12,
   "metadata": {
    "ExecuteTime": {
     "end_time": "2021-02-05T01:14:39.512352Z",
     "start_time": "2021-02-05T01:14:39.500122Z"
    },
    "scrolled": true
   },
   "outputs": [
    {
     "name": "stdout",
     "output_type": "stream",
     "text": [
      "C matrix before\n",
      "[[ 0.          0.          0.          0.05331107  0.         -0.00806011\n",
      "   0.11338165]\n",
      " [ 0.          0.          0.         -0.05623546  0.         -0.00115704\n",
      "   0.10861833]\n",
      " [ 0.          0.          0.          0.00367813  0.          0.0499676\n",
      "   0.11037844]\n",
      " [ 0.          0.          0.         -0.00131614  0.         -0.04918718\n",
      "   0.09430843]\n",
      " [ 0.          0.          0.          0.          0.          0.\n",
      "   0.        ]\n",
      " [ 0.          0.          0.          0.          0.          0.\n",
      "   0.        ]\n",
      " [ 0.          0.          0.          0.          0.          0.\n",
      "   0.        ]\n",
      " [ 0.          0.          0.          0.          0.          0.\n",
      "   0.        ]\n",
      " [ 0.          0.          0.          0.          0.          0.\n",
      "   0.        ]\n",
      " [ 0.          0.          0.          0.          0.          0.\n",
      "   0.        ]\n",
      " [ 0.          0.          0.          0.          0.          0.\n",
      "   0.        ]\n",
      " [ 0.          0.          0.          0.          0.          0.\n",
      "   0.        ]\n",
      " [ 0.          0.          0.          0.          0.          0.\n",
      "   0.        ]\n",
      " [ 0.          0.          0.          0.          0.          0.\n",
      "   0.        ]\n",
      " [ 0.          0.          0.          0.          0.          0.\n",
      "   0.        ]\n",
      " [ 0.          0.          0.          0.          0.          0.\n",
      "   0.        ]\n",
      " [ 0.          0.          0.          0.          0.          0.\n",
      "   0.        ]\n",
      " [ 0.          0.          0.          0.          0.          0.\n",
      "   0.        ]\n",
      " [ 0.          0.          0.          0.          0.          0.\n",
      "   0.        ]\n",
      " [ 0.          0.          0.          0.          0.          0.\n",
      "   0.        ]]\n",
      "C matrix after\n",
      "[[ 0.  0.  0.  0.  0.  0.  0.]\n",
      " [ 0.  0.  0.  0.  0.  0.  0.]\n",
      " [ 0.  0.  0.  0.  0.  0.  0.]\n",
      " [ 0.  0.  0.  0.  0.  0.  0.]\n",
      " [ 0.  0.  0.  1.  0.  0.  0.]\n",
      " [ 0.  0.  0. -1.  0.  0.  0.]\n",
      " [ 0.  0.  0.  0.  0.  1.  0.]\n",
      " [ 0.  0.  0.  0.  0. -1.  0.]\n",
      " [ 0.  0.  0.  0.  0.  0.  0.]\n",
      " [ 0.  0.  0.  0.  0.  0.  0.]\n",
      " [ 0.  0.  0.  0.  0.  0.  0.]\n",
      " [ 0.  0.  0.  0.  0.  0.  0.]\n",
      " [ 0.  0.  0.  0.  0.  0.  0.]\n",
      " [ 0.  0.  0.  0.  0.  0.  0.]\n",
      " [ 0.  0.  0.  0.  0.  0.  0.]\n",
      " [ 0.  0.  0.  0.  0.  0.  0.]\n",
      " [ 0.  0.  0.  0.  0.  0.  0.]\n",
      " [ 0.  0.  0.  0.  0.  0.  0.]\n",
      " [ 0.  0.  0.  0.  0.  0.  0.]\n",
      " [ 0.  0.  0.  0.  0.  0.  0.]]\n",
      "C_xpose_Q_inv before:\n",
      "[[ 0.          0.          0.          0.          0.          0.\n",
      "   0.          0.          0.          0.          0.          0.\n",
      "   0.          0.          0.          0.          0.          0.\n",
      "   0.          0.        ]\n",
      " [ 0.          0.          0.          0.          0.          0.\n",
      "   0.          0.          0.          0.          0.          0.\n",
      "   0.          0.          0.          0.          0.          0.\n",
      "   0.          0.        ]\n",
      " [ 0.          0.          0.          0.          0.          0.\n",
      "   0.          0.          0.          0.          0.          0.\n",
      "   0.          0.          0.          0.          0.          0.\n",
      "   0.          0.        ]\n",
      " [ 0.45342501 -0.52091401  0.01110543 -0.00415848  0.          0.\n",
      "   0.          0.          0.          0.          0.          0.\n",
      "   0.          0.          0.          0.          0.          0.\n",
      "   0.          0.        ]\n",
      " [ 0.          0.          0.          0.          0.          0.\n",
      "   0.          0.          0.          0.          0.          0.\n",
      "   0.          0.          0.          0.          0.          0.\n",
      "   0.          0.        ]\n",
      " [-0.07976991  0.00818933  0.48164444 -0.49320155  0.          0.\n",
      "   0.          0.          0.          0.          0.          0.\n",
      "   0.          0.          0.          0.          0.          0.\n",
      "   0.          0.        ]\n",
      " [ 0.8450877   0.92081976  0.94936792  0.83488295  0.          0.\n",
      "   0.          0.          0.          0.          0.          0.\n",
      "   0.          0.          0.          0.          0.          0.\n",
      "   0.          0.        ]]\n",
      "C_xpose_Q_inv_C after:\n",
      "[[0. 0. 0. 0. 0. 0. 0. 0. 0. 0. 0. 0. 0. 0. 0. 0. 0. 0. 0. 0.]\n",
      " [0. 0. 0. 0. 0. 0. 0. 0. 0. 0. 0. 0. 0. 0. 0. 0. 0. 0. 0. 0.]\n",
      " [0. 0. 0. 0. 0. 0. 0. 0. 0. 0. 0. 0. 0. 0. 0. 0. 0. 0. 0. 0.]\n",
      " [0. 0. 0. 0. 0. 0. 0. 0. 0. 0. 0. 0. 0. 0. 0. 0. 0. 0. 0. 0.]\n",
      " [0. 0. 0. 0. 0. 0. 0. 0. 0. 0. 0. 0. 0. 0. 0. 0. 0. 0. 0. 0.]\n",
      " [0. 0. 0. 0. 0. 0. 0. 0. 0. 0. 0. 0. 0. 0. 0. 0. 0. 0. 0. 0.]\n",
      " [0. 0. 0. 0. 0. 0. 0. 0. 0. 0. 0. 0. 0. 0. 0. 0. 0. 0. 0. 0.]]\n",
      "C_xpose_Q_inv_C_before:\n",
      "[[ 0.          0.          0.          0.          0.          0.\n",
      "   0.        ]\n",
      " [ 0.          0.          0.          0.          0.          0.\n",
      "   0.        ]\n",
      " [ 0.          0.          0.          0.          0.          0.\n",
      "   0.        ]\n",
      " [ 0.          0.          0.          0.05351273  0.         -0.00229248\n",
      "  -0.00433712]\n",
      " [ 0.          0.          0.          0.          0.          0.\n",
      "   0.        ]\n",
      " [ 0.          0.          0.         -0.00229248  0.          0.04895929\n",
      "  -0.00150483]\n",
      " [ 0.          0.          0.         -0.00433712  0.         -0.00150483\n",
      "   0.37936159]]\n",
      "C_xpose_Q_inv_C after:\n",
      "[[0. 0. 0. 0. 0. 0. 0.]\n",
      " [0. 0. 0. 0. 0. 0. 0.]\n",
      " [0. 0. 0. 0. 0. 0. 0.]\n",
      " [0. 0. 0. 0. 0. 0. 0.]\n",
      " [0. 0. 0. 0. 0. 0. 0.]\n",
      " [0. 0. 0. 0. 0. 0. 0.]\n",
      " [0. 0. 0. 0. 0. 0. 0.]]\n"
     ]
    }
   ],
   "source": [
    "\n",
    "replace_kalman_filter(exps[INDEX_SCRAMBLED_SAME_ENC_SHIFT].bmi_system.decoder.filt, enc_c_scrambled)"
   ]
  },
  {
   "cell_type": "markdown",
   "metadata": {},
   "source": [
    "somehow the c has not been passed to the decoder. \n"
   ]
  },
  {
   "cell_type": "markdown",
   "metadata": {},
   "source": [
    "# assemble into a complete loop"
   ]
  },
  {
   "cell_type": "code",
   "execution_count": 13,
   "metadata": {
    "ExecuteTime": {
     "end_time": "2021-02-05T01:14:39.523684Z",
     "start_time": "2021-02-05T01:14:39.514295Z"
    },
    "scrolled": true
   },
   "outputs": [],
   "source": [
    "#make this into a loop\n",
    "\n",
    "def run_exp_loop(exp):\n",
    "        # riglib.experiment: line 597 - 601\n",
    "    #exp.next_trial = next(exp.gen)\n",
    "    # -+exp._parse_next_trial()np.arraynp.array\n",
    "\n",
    "\n",
    "    # we need to set the initial state\n",
    "    # per fsm.run:  line 138\n",
    "\n",
    "\n",
    "    # Initialize the FSM before the loop\n",
    "    exp.set_state(exp.state)\n",
    "\n",
    "\n",
    "    while exp.state is not None:\n",
    "\n",
    "        # exp.fsm_tick()\n",
    "\n",
    "        ### Execute commands#####\n",
    "        exp.exec_state_specific_actions(exp.state)\n",
    "\n",
    "        ###run the bmi loop #####\n",
    "        # _cycle\n",
    "\n",
    "        # bmi feature extraction, eh\n",
    "        #riglib.bmi: 1202\n",
    "        feature_data = exp.get_features()\n",
    "\n",
    "        # Determine the target_state and save to file\n",
    "        current_assist_level = exp.get_current_assist_level()\n",
    "        '''\n",
    "            if np.any(current_assist_level > 0) or exp.learn_flag:\n",
    "            target_state = exp.get_target_BMI_state(exp.decoder.states)\n",
    "        else:\n",
    "            target_state = np.ones(\n",
    "                [exp.decoder.n_states, exp.decoder.n_subbins]) * np.nan\n",
    "\n",
    "        '''\n",
    "        target_state = exp.get_target_BMI_state(exp.decoder.states)\n",
    "\n",
    "\n",
    "        # decode the new features\n",
    "        # riglib.bmi.bmiloop: line 1245\n",
    "        neural_features = feature_data[exp.extractor.feature_type]\n",
    "\n",
    "        # call decoder.\n",
    "        #tmp = exp.call_decoder(neural_features, target_state, **kwargs)\n",
    "        neural_obs = neural_features\n",
    "        learn_flag = exp.learn_flag\n",
    "        task_state = exp.state\n",
    "\n",
    "        n_units, n_obs = neural_obs.shape\n",
    "        # If the target is specified as a 1D position, tile to match\n",
    "        # the number of dimensions as the neural features\n",
    "        if np.ndim(target_state) == 1 or (target_state.shape[1] == 1 and n_obs > 1):\n",
    "            target_state = np.tile(target_state, [1, n_obs])\n",
    "\n",
    "        decoded_states = np.zeros([exp.bmi_system.decoder.n_states, n_obs])\n",
    "        update_flag = False\n",
    "\n",
    "        for k in range(n_obs):\n",
    "            neural_obs_k = neural_obs[:, k].reshape(-1, 1)\n",
    "            target_state_k = target_state[:, k]\n",
    "\n",
    "            # NOTE: the conditional below is *only* for compatibility with older Carmena\n",
    "            # lab data collected using a different MATLAB-based system. In all python cases,\n",
    "            # the task_state should never contain NaN values.\n",
    "            if np.any(np.isnan(target_state_k)):\n",
    "                task_state = 'no_target'\n",
    "\n",
    "            #################################\n",
    "            # Decode the current observation\n",
    "            #################################\n",
    "            decodable_obs, decode = exp.bmi_system.feature_accumulator(\n",
    "                neural_obs_k)\n",
    "            if decode:  # if a new decodable observation is available from the feature accumulator\n",
    "                prev_state = exp.bmi_system.decoder.get_state()\n",
    "\n",
    "                exp.bmi_system.decoder(decodable_obs, **kwargs)\n",
    "                # Determine whether the current state or previous state should be given to the learner\n",
    "                if exp.bmi_system.learner.input_state_index == 0:\n",
    "                    learner_state = exp.bmi_system.decoder.get_state()\n",
    "                elif exp.bmi_system.learner.input_state_index == -1:\n",
    "                    learner_state = prev_state\n",
    "                else:\n",
    "                    print((\"Not implemented yet: %d\" %\n",
    "                           exp.bmi_system.learner.input_state_index))\n",
    "                    learner_state = prev_state\n",
    "\n",
    "                if learn_flag:\n",
    "                    exp.bmi_system.learner(decodable_obs.copy(), learner_state, target_state_k, exp.bmi_system.decoder.get_state(\n",
    "                    ), task_state, state_order=exp.bmi_system.decoder.ssm.state_order)\n",
    "\n",
    "            decoded_states[:, k] = exp.bmi_system.decoder.get_state()\n",
    "\n",
    "            ############################\n",
    "            # Update decoder parameters\n",
    "            ############################\n",
    "            if exp.bmi_system.learner.is_ready():\n",
    "                batch_data = exp.bmi_system.learner.get_batch()\n",
    "                batch_data['decoder'] = exp.bmi_system.decoder\n",
    "                kwargs.update(batch_data)\n",
    "                exp.bmi_system.updater(**kwargs)\n",
    "                exp.bmi_system.learner.disable()\n",
    "\n",
    "            new_params = None  # by default, no new parameters are available\n",
    "            if exp.bmi_system.has_updater:\n",
    "                new_params = copy.deepcopy(exp.bmi_system.updater.get_result())\n",
    "\n",
    "            # Update the decoder if new parameters are available\n",
    "            if not (new_params is None):\n",
    "                exp.bmi_system.decoder.update_params(\n",
    "                    new_params, **exp.bmi_system.updater.update_kwargs)\n",
    "                new_params['intended_kin'] = batch_data['intended_kin']\n",
    "                new_params['spike_counts_batch'] = batch_data['spike_counts']\n",
    "\n",
    "                exp.bmi_system.learner.enable()\n",
    "                update_flag = True\n",
    "\n",
    "                # Save new parameters to parameter history\n",
    "                exp.bmi_system.param_hist.append(new_params)\n",
    "\n",
    "\n",
    "\n",
    "        # saved as task data\n",
    "        # return decoded_states, update_flag\n",
    "        tmp = decoded_states\n",
    "        exp.task_data['internal_decoder_state'] = tmp\n",
    "\n",
    "        # reset the plant position\n",
    "        # @riglib.bmi.BMILoop.move_plant  line:1254\n",
    "        exp.plant.drive(exp.decoder)\n",
    "\n",
    "        # check state transitions and run the FSM.\n",
    "        current_state = exp.state\n",
    "\n",
    "        # iterate over the possible events which could move the task out of the current state\n",
    "        for event in exp.status[current_state]:\n",
    "            # if the event has occurred\n",
    "            if exp.test_state_transition_event(event):\n",
    "                # execute commands to end the current state\n",
    "                exp.end_state(current_state)\n",
    "\n",
    "                # trigger the transition for the event\n",
    "                exp.trigger_event(event)\n",
    "\n",
    "                # stop searching for transition events (transition events must be\n",
    "                # mutually exclusive for this FSM to function properly)\n",
    "                break\n",
    "\n",
    "        # sort out the loop params.\n",
    "        # inc cycle count\n",
    "        exp.cycle_count += 1\n",
    "\n",
    "        # save target data as was done in manualControlTasks._cycle\n",
    "        exp.task_data['target'] = exp.target_location.copy()\n",
    "        exp.task_data['target_index'] = exp.target_index\n",
    "\n",
    "        #done in bmi:_cycle after move_plant\n",
    "        exp.task_data['loop_time'] = exp.iter_time()\n",
    "\n",
    "\n",
    "        #fb_controller data\n",
    "        exp.task_data['target_state'] = target_state\n",
    "\n",
    "        #encoder data\n",
    "        #input to this is actually extractor\n",
    "        exp.task_data['ctrl_input'] = np.reshape(exp.extractor.sim_ctrl, (1,-1))\n",
    "\n",
    "        #actually output\n",
    "        exp.task_data['spike_counts'] = feature_data['spike_counts']\n",
    "\n",
    "\n",
    "        #save the decoder_state\n",
    "        #from BMILoop.move_plant\n",
    "        exp.task_data['decoder_state'] = exp.decoder.get_state(shape=(-1,1))\n",
    "        exp.task_data['K'] = exp.decoder.filt.K\n",
    "        exp.task_data['KC'] = exp.decoder.filt.KC\n",
    "        exp.task_data['pred_state_mean'] = exp.decoder.filt.pred_state_mean\n",
    "        exp.task_data['post_state_mean'] = exp.decoder.filt.post_state_mean\n",
    "\n",
    "\n",
    "        # as well as plant data.\n",
    "        plant_data = exp.plant.get_data_to_save()\n",
    "        for key in plant_data:\n",
    "            exp.task_data[key] = plant_data[key]\n",
    "\n",
    "        # clda data handled in the above call.\n",
    "\n",
    "        # save to the list hisory of data.\n",
    "        exp.task_data_hist.append(exp.task_data.copy())\n",
    "\n",
    "\n",
    "    if exp.verbose:\n",
    "        print(\"end of FSM.run, task state is\", exp.state)\n",
    "    \n",
    "    \n"
   ]
  },
  {
   "cell_type": "code",
   "execution_count": 14,
   "metadata": {
    "ExecuteTime": {
     "end_time": "2021-02-05T01:15:09.063021Z",
     "start_time": "2021-02-05T01:14:39.524893Z"
    }
   },
   "outputs": [
    {
     "name": "stdout",
     "output_type": "stream",
     "text": [
      "runseq\n",
      "end of FSM.run, task state is None\n",
      "Finished running  encoder C matrix but scrambed rotationally\n",
      "runseq\n",
      "end of FSM.run, task state is None\n",
      "Finished running  encoder C matrix but shift four rows done\n"
     ]
    }
   ],
   "source": [
    "for i,e in enumerate(exps):\n",
    "    run_exp_loop(e)\n",
    "    print(f'Finished running  {exp_conds[i]}')"
   ]
  },
  {
   "cell_type": "markdown",
   "metadata": {
    "ExecuteTime": {
     "end_time": "2021-01-25T01:00:26.027506Z",
     "start_time": "2021-01-25T01:00:26.024320Z"
    }
   },
   "source": [
    "# Preprocess the data for loading"
   ]
  },
  {
   "cell_type": "code",
   "execution_count": 15,
   "metadata": {
    "ExecuteTime": {
     "end_time": "2021-02-05T01:15:09.065454Z",
     "start_time": "2021-02-05T01:15:09.063880Z"
    }
   },
   "outputs": [],
   "source": [
    "import  matplotlib.pyplot as plt"
   ]
  },
  {
   "cell_type": "code",
   "execution_count": 16,
   "metadata": {
    "ExecuteTime": {
     "end_time": "2021-02-05T01:15:09.221853Z",
     "start_time": "2021-02-05T01:15:09.066292Z"
    }
   },
   "outputs": [
    {
     "data": {
      "text/plain": [
       "2"
      ]
     },
     "execution_count": 16,
     "metadata": {},
     "output_type": "execute_result"
    }
   ],
   "source": [
    "task_data_hist_np_all = [np.array(e.task_data_hist) for e in exps]\n",
    "len(task_data_hist_np_all)"
   ]
  },
  {
   "cell_type": "code",
   "execution_count": 17,
   "metadata": {
    "ExecuteTime": {
     "end_time": "2021-02-05T01:15:09.224492Z",
     "start_time": "2021-02-05T01:15:09.222805Z"
    }
   },
   "outputs": [],
   "source": [
    "cursor_trajectories = [np.squeeze(task_data_hist_np['cursor']) for task_data_hist_np in task_data_hist_np_all]"
   ]
  },
  {
   "cell_type": "code",
   "execution_count": 18,
   "metadata": {
    "ExecuteTime": {
     "end_time": "2021-02-05T01:15:09.344227Z",
     "start_time": "2021-02-05T01:15:09.225485Z"
    },
    "scrolled": true
   },
   "outputs": [
    {
     "data": {
      "image/png": "[encoded data removed]",
      "text/plain": [
       "<Figure size 432x288 with 1 Axes>"
      ]
     },
     "metadata": {
      "needs_background": "light"
     },
     "output_type": "display_data"
    }
   ],
   "source": [
    "for cursor_trajectory in cursor_trajectories:\n",
    "    plt.plot(cursor_trajectory[:,0], cursor_trajectory[:,2])"
   ]
  },
  {
   "cell_type": "code",
   "execution_count": 19,
   "metadata": {
    "ExecuteTime": {
     "end_time": "2021-02-05T01:15:09.347428Z",
     "start_time": "2021-02-05T01:15:09.345279Z"
    }
   },
   "outputs": [
    {
     "name": "stdout",
     "output_type": "stream",
     "text": [
      "0\n",
      "0\n"
     ]
    }
   ],
   "source": [
    "for e in  exps: print(e.calc_state_occurrences('reward'))"
   ]
  },
  {
   "cell_type": "markdown",
   "metadata": {},
   "source": [
    "# Walk through loop"
   ]
  },
  {
   "cell_type": "markdown",
   "metadata": {},
   "source": [
    "## declare defs and conventions"
   ]
  },
  {
   "cell_type": "code",
   "execution_count": 20,
   "metadata": {
    "ExecuteTime": {
     "end_time": "2021-02-05T01:15:09.359348Z",
     "start_time": "2021-02-05T01:15:09.348217Z"
    }
   },
   "outputs": [],
   "source": [
    "FRAME_RATE = 60\n",
    "INT_WINDOW_TIME = 10 # for looking at sample raw data\n",
    "\n",
    "# some conventions as we go down the loop\n",
    "X_VEL_STATE_IND = 3\n",
    "Y_VEL_STATE_IND = 5\n",
    "X_POS_STATE_IND = 0\n",
    "Y_POS_STATE_IND = 2\n",
    "\n",
    "state_indices = [X_POS_STATE_IND,\n",
    "                 Y_POS_STATE_IND,\n",
    "                 X_VEL_STATE_IND,\n",
    "                 Y_VEL_STATE_IND]\n",
    "state_names = ['x pos ', 'y pos', 'x vel', 'y vel']\n",
    "\n",
    "\n",
    "INT_WIN_SAMPLES = INT_WINDOW_TIME * FRAME_RATE\n",
    "\n"
   ]
  },
  {
   "cell_type": "markdown",
   "metadata": {},
   "source": [
    "## this system starts from feedback_controller"
   ]
  },
  {
   "cell_type": "markdown",
   "metadata": {},
   "source": [
    "feedback controller generates ctrl input matrix   \n",
    "from the difference between the target state and the and current state"
   ]
  },
  {
   "cell_type": "markdown",
   "metadata": {},
   "source": [
    "from LQRcontroller\n",
    "\n",
    " ns = self.A * current_state + self.B * self.F * (target_state - current_state)"
   ]
  },
  {
   "cell_type": "code",
   "execution_count": 21,
   "metadata": {
    "ExecuteTime": {
     "end_time": "2021-02-05T01:15:09.373827Z",
     "start_time": "2021-02-05T01:15:09.360181Z"
    }
   },
   "outputs": [
    {
     "name": "stdout",
     "output_type": "stream",
     "text": [
      "[[1.  0.  0.  0.1 0.  0.  0. ]\n",
      " [0.  1.  0.  0.  0.1 0.  0. ]\n",
      " [0.  0.  1.  0.  0.  0.1 0. ]\n",
      " [0.  0.  0.  0.8 0.  0.  0. ]\n",
      " [0.  0.  0.  0.  0.8 0.  0. ]\n",
      " [0.  0.  0.  0.  0.  0.8 0. ]\n",
      " [0.  0.  0.  0.  0.  0.  1. ]]\n",
      "\n",
      "[[1.  0.  0.  0.1 0.  0.  0. ]\n",
      " [0.  1.  0.  0.  0.1 0.  0. ]\n",
      " [0.  0.  1.  0.  0.  0.1 0. ]\n",
      " [0.  0.  0.  0.8 0.  0.  0. ]\n",
      " [0.  0.  0.  0.  0.8 0.  0. ]\n",
      " [0.  0.  0.  0.  0.  0.8 0. ]\n",
      " [0.  0.  0.  0.  0.  0.  1. ]]\n",
      "\n"
     ]
    }
   ],
   "source": [
    "for e in exps: \n",
    "    print(e.fb_ctrl.A)\n",
    "    print()"
   ]
  },
  {
   "cell_type": "code",
   "execution_count": 22,
   "metadata": {
    "ExecuteTime": {
     "end_time": "2021-02-05T01:15:09.384293Z",
     "start_time": "2021-02-05T01:15:09.374654Z"
    }
   },
   "outputs": [
    {
     "name": "stdout",
     "output_type": "stream",
     "text": [
      "[[  0.   0.   0.]\n",
      " [  0.   0.   0.]\n",
      " [  0.   0.   0.]\n",
      " [100.   0.   0.]\n",
      " [  0. 100.   0.]\n",
      " [  0.   0. 100.]\n",
      " [  0.   0.   0.]]\n",
      "\n",
      "[[  0.   0.   0.]\n",
      " [  0.   0.   0.]\n",
      " [  0.   0.   0.]\n",
      " [100.   0.   0.]\n",
      " [  0. 100.   0.]\n",
      " [  0.   0. 100.]\n",
      " [  0.   0.   0.]]\n",
      "\n"
     ]
    }
   ],
   "source": [
    "for e in exps: \n",
    "    print(e.fb_ctrl.B)\n",
    "    print()"
   ]
  },
  {
   "cell_type": "markdown",
   "metadata": {},
   "source": [
    "this feedback_controller matrix is calculated using the infinite horizon Linear Quardratic Programming method\n",
    "at the beginining "
   ]
  },
  {
   "cell_type": "markdown",
   "metadata": {},
   "source": [
    "again, from this equation  \n",
    "Bu = B * F * (target_state - current_state)  \n",
    "we get the control input"
   ]
  },
  {
   "cell_type": "markdown",
   "metadata": {},
   "source": [
    "## and the encoder generates the control firing rates from the control Bu vector"
   ]
  },
  {
   "cell_type": "markdown",
   "metadata": {},
   "source": [
    "from GenCosEnc line 130  \n",
    "rates = np.dot(self.C, next_state)  \n",
    "here, the Bu matrix is the next state  \n",
    "\n",
    "the rates are then used to gen spike counts in the same decoder function "
   ]
  },
  {
   "cell_type": "code",
   "execution_count": 23,
   "metadata": {
    "ExecuteTime": {
     "end_time": "2021-02-05T01:15:09.394465Z",
     "start_time": "2021-02-05T01:15:09.385590Z"
    }
   },
   "outputs": [
    {
     "name": "stdout",
     "output_type": "stream",
     "text": [
      "(53065, 7)\n",
      "(54208, 7)\n"
     ]
    }
   ],
   "source": [
    "# inputs to the encoder\n",
    "\n",
    "encoder_ctrl_input_all  = [ np.squeeze(task_data_hist_np['ctrl_input']) for task_data_hist_np in task_data_hist_np_all]\n",
    "\n",
    "\n",
    "for e in encoder_ctrl_input_all:\n",
    "    print(e.shape)"
   ]
  },
  {
   "cell_type": "code",
   "execution_count": 24,
   "metadata": {
    "ExecuteTime": {
     "end_time": "2021-02-05T01:15:09.518791Z",
     "start_time": "2021-02-05T01:15:09.395776Z"
    }
   },
   "outputs": [
    {
     "data": {
      "text/plain": [
       "Text(0.5, 1.0, 'Control vectors that go into the encoder')"
      ]
     },
     "execution_count": 24,
     "metadata": {},
     "output_type": "execute_result"
    },
    {
     "data": {
      "image/png": "[encoded data removed]",
      "text/plain": [
       "<Figure size 432x288 with 1 Axes>"
      ]
     },
     "metadata": {
      "needs_background": "light"
     },
     "output_type": "display_data"
    }
   ],
   "source": [
    "\n",
    "\n",
    "for encoder_ctrl_input in encoder_ctrl_input_all:\n",
    "    time_axis = np.arange(INT_WIN_SAMPLES) / FRAME_RATE\n",
    "    plt.plot(time_axis, encoder_ctrl_input[:INT_WIN_SAMPLES, X_VEL_STATE_IND]  )\n",
    "\n",
    "plt.legend(exp_conds)\n",
    "plt.xlabel('time (s)')\n",
    "plt.ylabel('Velocity')\n",
    "plt.title('Control vectors that go into the encoder')"
   ]
  },
  {
   "cell_type": "code",
   "execution_count": 25,
   "metadata": {
    "ExecuteTime": {
     "end_time": "2021-02-05T01:15:09.637246Z",
     "start_time": "2021-02-05T01:15:09.521621Z"
    }
   },
   "outputs": [
    {
     "data": {
      "text/plain": [
       "<matplotlib.legend.Legend at 0x7fc8916aa790>"
      ]
     },
     "execution_count": 25,
     "metadata": {},
     "output_type": "execute_result"
    },
    {
     "data": {
      "image/png": "[encoded data removed]",
      "text/plain": [
       "<Figure size 432x288 with 1 Axes>"
      ]
     },
     "metadata": {
      "needs_background": "light"
     },
     "output_type": "display_data"
    }
   ],
   "source": [
    "time_axis = np.arange(INT_WIN_SAMPLES) / FRAME_RATE\n",
    "\n",
    "for encoder_ctrl_input in encoder_ctrl_input_all:\n",
    "    plt.plot(time_axis, \n",
    "             encoder_ctrl_input[:INT_WIN_SAMPLES, (X_VEL_STATE_IND, )])\n",
    "    \n",
    "    \n",
    "plt.xlabel('time (s)')\n",
    "plt.ylabel('Velocity')\n",
    "plt.title('Control vectors that go into the encoder')\n",
    "plt.legend(exp_conds)"
   ]
  },
  {
   "cell_type": "markdown",
   "metadata": {},
   "source": [
    "# compare decoder tracking with encoder"
   ]
  },
  {
   "cell_type": "markdown",
   "metadata": {},
   "source": [
    "we started off with three configurations of the decoder matrix.\n",
    "1. randomly assigned\n",
    "2. pretrained on gaussian generated state-firing pairs, the states were not coupled\n",
    "3. exactly the same as the decoder matrix"
   ]
  },
  {
   "cell_type": "code",
   "execution_count": 26,
   "metadata": {
    "ExecuteTime": {
     "end_time": "2021-02-05T01:15:09.642264Z",
     "start_time": "2021-02-05T01:15:09.639036Z"
    },
    "scrolled": true
   },
   "outputs": [
    {
     "name": "stdout",
     "output_type": "stream",
     "text": [
      "The tuning angles encoder C matrix but shift four rows done\n",
      "[ -0.  90. -90.   0.  nan  nan  nan  nan  nan  nan  nan  nan  nan  nan\n",
      "  nan  nan  nan  nan  nan  nan]\n",
      "The tuning angles encoder C matrix but shift four rows done\n",
      "[ nan  nan  nan  nan   0.  -0.  90. -90.  nan  nan  nan  nan  nan  nan\n",
      "  nan  nan  nan  nan  nan  nan]\n"
     ]
    },
    {
     "name": "stderr",
     "output_type": "stream",
     "text": [
      "/home/sijia-aw/BMi3D_my/operation_funny_chicken/adaptive_feature_selection/weights.py:66: RuntimeWarning: divide by zero encountered in double_scalars\n",
      "  tuning_angles = [np.rad2deg(np.arctan(neuron_row[COL_Z] / neuron_row[COL_X])) for neuron_row in mat_kf_c]\n",
      "/home/sijia-aw/BMi3D_my/operation_funny_chicken/adaptive_feature_selection/weights.py:66: RuntimeWarning: invalid value encountered in double_scalars\n",
      "  tuning_angles = [np.rad2deg(np.arctan(neuron_row[COL_Z] / neuron_row[COL_X])) for neuron_row in mat_kf_c]\n"
     ]
    }
   ],
   "source": [
    "for e in exps:\n",
    "    print(f'The tuning angles {exp_conds[i]}')\n",
    "    print(weights.cal_tuning_angle(np.array(e.bmi_system.decoder.filt.C)))"
   ]
  },
  {
   "cell_type": "markdown",
   "metadata": {},
   "source": [
    "yet, they all have the same A matrices\n"
   ]
  },
  {
   "cell_type": "code",
   "execution_count": 27,
   "metadata": {
    "ExecuteTime": {
     "end_time": "2021-02-05T01:15:09.653296Z",
     "start_time": "2021-02-05T01:15:09.643027Z"
    }
   },
   "outputs": [
    {
     "name": "stdout",
     "output_type": "stream",
     "text": [
      "the encoder C matrix for encoder C matrix but scrambed rotationally\n",
      "[[ 0.  0.  0.  1.  0.  0.  0.]\n",
      " [ 0.  0.  0. -1.  0.  0.  0.]\n",
      " [ 0.  0.  0.  0.  0.  1.  0.]\n",
      " [ 0.  0.  0.  0.  0. -1.  0.]\n",
      " [ 0.  0.  0.  0.  0.  0.  0.]\n",
      " [ 0.  0.  0.  0.  0.  0.  0.]\n",
      " [ 0.  0.  0.  0.  0.  0.  0.]\n",
      " [ 0.  0.  0.  0.  0.  0.  0.]\n",
      " [ 0.  0.  0.  0.  0.  0.  0.]\n",
      " [ 0.  0.  0.  0.  0.  0.  0.]\n",
      " [ 0.  0.  0.  0.  0.  0.  0.]\n",
      " [ 0.  0.  0.  0.  0.  0.  0.]\n",
      " [ 0.  0.  0.  0.  0.  0.  0.]\n",
      " [ 0.  0.  0.  0.  0.  0.  0.]\n",
      " [ 0.  0.  0.  0.  0.  0.  0.]\n",
      " [ 0.  0.  0.  0.  0.  0.  0.]\n",
      " [ 0.  0.  0.  0.  0.  0.  0.]\n",
      " [ 0.  0.  0.  0.  0.  0.  0.]\n",
      " [ 0.  0.  0.  0.  0.  0.  0.]\n",
      " [ 0.  0.  0.  0.  0.  0.  0.]]\n",
      "the encoder C matrix for encoder C matrix but shift four rows done\n",
      "[[ 0.  0.  0.  1.  0.  0.  0.]\n",
      " [ 0.  0.  0. -1.  0.  0.  0.]\n",
      " [ 0.  0.  0.  0.  0.  1.  0.]\n",
      " [ 0.  0.  0.  0.  0. -1.  0.]\n",
      " [ 0.  0.  0.  0.  0.  0.  0.]\n",
      " [ 0.  0.  0.  0.  0.  0.  0.]\n",
      " [ 0.  0.  0.  0.  0.  0.  0.]\n",
      " [ 0.  0.  0.  0.  0.  0.  0.]\n",
      " [ 0.  0.  0.  0.  0.  0.  0.]\n",
      " [ 0.  0.  0.  0.  0.  0.  0.]\n",
      " [ 0.  0.  0.  0.  0.  0.  0.]\n",
      " [ 0.  0.  0.  0.  0.  0.  0.]\n",
      " [ 0.  0.  0.  0.  0.  0.  0.]\n",
      " [ 0.  0.  0.  0.  0.  0.  0.]\n",
      " [ 0.  0.  0.  0.  0.  0.  0.]\n",
      " [ 0.  0.  0.  0.  0.  0.  0.]\n",
      " [ 0.  0.  0.  0.  0.  0.  0.]\n",
      " [ 0.  0.  0.  0.  0.  0.  0.]\n",
      " [ 0.  0.  0.  0.  0.  0.  0.]\n",
      " [ 0.  0.  0.  0.  0.  0.  0.]]\n"
     ]
    }
   ],
   "source": [
    "for i,e in enumerate(exps):\n",
    "    print(f'the encoder C matrix for {exp_conds[i]}')\n",
    "    print(e.encoder.C)"
   ]
  },
  {
   "cell_type": "code",
   "execution_count": 28,
   "metadata": {
    "ExecuteTime": {
     "end_time": "2021-02-05T01:15:09.662445Z",
     "start_time": "2021-02-05T01:15:09.654319Z"
    }
   },
   "outputs": [],
   "source": [
    "decoder_states_all = [ np.squeeze(task_data_hist_np['decoder_state']) for task_data_hist_np in task_data_hist_np_all]"
   ]
  },
  {
   "cell_type": "markdown",
   "metadata": {},
   "source": [
    "let's look at the firing rates "
   ]
  },
  {
   "cell_type": "code",
   "execution_count": 29,
   "metadata": {
    "ExecuteTime": {
     "end_time": "2021-02-05T01:15:09.672349Z",
     "start_time": "2021-02-05T01:15:09.663308Z"
    }
   },
   "outputs": [],
   "source": [
    "firing_rates_all = [ np.squeeze(task_data_hist_np['spike_counts']) for task_data_hist_np in task_data_hist_np_all]"
   ]
  },
  {
   "cell_type": "code",
   "execution_count": 30,
   "metadata": {
    "ExecuteTime": {
     "end_time": "2021-02-05T01:15:09.910860Z",
     "start_time": "2021-02-05T01:15:09.673168Z"
    },
    "scrolled": true
   },
   "outputs": [
    {
     "data": {
      "text/plain": [
       "[<matplotlib.lines.Line2D at 0x7fc8915755b0>,\n",
       " <matplotlib.lines.Line2D at 0x7fc891582520>,\n",
       " <matplotlib.lines.Line2D at 0x7fc891582610>,\n",
       " <matplotlib.lines.Line2D at 0x7fc8915826d0>,\n",
       " <matplotlib.lines.Line2D at 0x7fc891582790>,\n",
       " <matplotlib.lines.Line2D at 0x7fc891582850>,\n",
       " <matplotlib.lines.Line2D at 0x7fc891582910>,\n",
       " <matplotlib.lines.Line2D at 0x7fc8915829d0>,\n",
       " <matplotlib.lines.Line2D at 0x7fc891582a90>,\n",
       " <matplotlib.lines.Line2D at 0x7fc891582b50>,\n",
       " <matplotlib.lines.Line2D at 0x7fc8915d9c40>,\n",
       " <matplotlib.lines.Line2D at 0x7fc891582c70>,\n",
       " <matplotlib.lines.Line2D at 0x7fc891582d60>,\n",
       " <matplotlib.lines.Line2D at 0x7fc891582e20>,\n",
       " <matplotlib.lines.Line2D at 0x7fc891582ee0>,\n",
       " <matplotlib.lines.Line2D at 0x7fc891582fa0>,\n",
       " <matplotlib.lines.Line2D at 0x7fc89158c0a0>,\n",
       " <matplotlib.lines.Line2D at 0x7fc89158c160>,\n",
       " <matplotlib.lines.Line2D at 0x7fc89158c220>,\n",
       " <matplotlib.lines.Line2D at 0x7fc89158c2e0>]"
      ]
     },
     "execution_count": 30,
     "metadata": {},
     "output_type": "execute_result"
    },
    {
     "data": {
      "image/png": "[encoded data removed]",
      "text/plain": [
       "<Figure size 1296x432 with 2 Axes>"
      ]
     },
     "metadata": {},
     "output_type": "display_data"
    }
   ],
   "source": [
    "NUM_SUBPLOT_ROWS = 1\n",
    "NUM_SUBPLOT_COLUMNS = NUM_EXP\n",
    "\n",
    "\n",
    "fig, axes = plt.subplots(NUM_SUBPLOT_ROWS,NUM_EXP, figsize=(18, 6), facecolor='w', edgecolor='k')\n",
    "fig.subplots_adjust(hspace = .5, wspace=.001)\n",
    "\n",
    "i = 0\n",
    "    \n",
    "plt.plot(time_axis, firing_rates_all[i][:INT_WIN_SAMPLES,:])\n"
   ]
  },
  {
   "cell_type": "markdown",
   "metadata": {},
   "source": [
    "they are all really sparse"
   ]
  },
  {
   "cell_type": "markdown",
   "metadata": {},
   "source": [
    "this tracks really well \n",
    "I think because the Kalman filter does not run on the positions. "
   ]
  },
  {
   "cell_type": "code",
   "execution_count": 31,
   "metadata": {
    "ExecuteTime": {
     "end_time": "2021-02-05T01:15:10.010947Z",
     "start_time": "2021-02-05T01:15:09.911703Z"
    }
   },
   "outputs": [
    {
     "data": {
      "text/plain": [
       "Text(0.5, 1.0, 'encoder C matrix but scrambed rotationallyx vel')"
      ]
     },
     "execution_count": 31,
     "metadata": {},
     "output_type": "execute_result"
    },
    {
     "data": {
      "image/png": "[encoded data removed]",
      "text/plain": [
       "<Figure size 432x288 with 1 Axes>"
      ]
     },
     "metadata": {
      "needs_background": "light"
     },
     "output_type": "display_data"
    }
   ],
   "source": [
    "NUM_SUBPLOT_ROWS = 2\n",
    "NUM_SUBPLOT_COLUMNS = NUM_EXP\n",
    "\n",
    "\n",
    "\n",
    "time_axis = np.arange(INT_WIN_SAMPLES)/FRAME_RATE \n",
    "\n",
    "i = 0\n",
    "plt.plot(time_axis, encoder_ctrl_input_all[i][:INT_WIN_SAMPLES,X_VEL_STATE_IND])\n",
    "plt.plot(time_axis, decoder_states_all[i][:INT_WIN_SAMPLES,X_VEL_STATE_IND])\n",
    "plt.title(exp_conds[i] +  'x vel')\n",
    "\n",
    "    \n",
    "\n"
   ]
  },
  {
   "cell_type": "code",
   "execution_count": 32,
   "metadata": {
    "ExecuteTime": {
     "end_time": "2021-02-05T01:15:10.118180Z",
     "start_time": "2021-02-05T01:15:10.011885Z"
    },
    "scrolled": true
   },
   "outputs": [
    {
     "data": {
      "text/plain": [
       "Text(0.5, 1.0, 'encoder C matrix but scrambed rotationally Y vel')"
      ]
     },
     "execution_count": 32,
     "metadata": {},
     "output_type": "execute_result"
    },
    {
     "data": {
      "image/png": "[encoded data removed]",
      "text/plain": [
       "<Figure size 432x288 with 1 Axes>"
      ]
     },
     "metadata": {
      "needs_background": "light"
     },
     "output_type": "display_data"
    }
   ],
   "source": [
    "\n",
    "plt.plot(time_axis, encoder_ctrl_input_all[i][:INT_WIN_SAMPLES,Y_VEL_STATE_IND])\n",
    "plt.plot(time_axis, decoder_states_all[i][:INT_WIN_SAMPLES,Y_VEL_STATE_IND])\n",
    "plt.title(exp_conds[i] +  ' Y vel')\n"
   ]
  },
  {
   "cell_type": "code",
   "execution_count": 33,
   "metadata": {
    "ExecuteTime": {
     "end_time": "2021-02-05T01:15:10.124702Z",
     "start_time": "2021-02-05T01:15:10.119070Z"
    }
   },
   "outputs": [
    {
     "name": "stderr",
     "output_type": "stream",
     "text": [
      "/home/sijia-aw/BMi3D_my/lib/python3.8/site-packages/numpy/lib/function_base.py:2525: RuntimeWarning: invalid value encountered in true_divide\n",
      "  c /= stddev[:, None]\n",
      "/home/sijia-aw/BMi3D_my/lib/python3.8/site-packages/numpy/lib/function_base.py:2526: RuntimeWarning: invalid value encountered in true_divide\n",
      "  c /= stddev[None, :]\n"
     ]
    },
    {
     "data": {
      "text/plain": [
       "[[1.0, nan, 0.9999999999999998, 1.0, nan, 1.0, nan],\n",
       " [nan, nan, nan, nan, nan, nan, nan]]"
      ]
     },
     "execution_count": 33,
     "metadata": {},
     "output_type": "execute_result"
    }
   ],
   "source": [
    "corr_coefs = list()\n",
    "N_STATES = 7\n",
    "\n",
    "for i,ee in enumerate(exps):\n",
    "    corr_coef = [np.corrcoef(encoder_ctrl_input_all[i][:INT_WIN_SAMPLES,state_i],\n",
    "                            decoder_states_all[i][:INT_WIN_SAMPLES,state_i])[1,1]  for state_i in range(N_STATES)]\n",
    "    corr_coefs.append(corr_coef)\n",
    "    \n",
    "corr_coefs"
   ]
  },
  {
   "cell_type": "code",
   "execution_count": 35,
   "metadata": {
    "ExecuteTime": {
     "end_time": "2021-02-05T01:15:51.091612Z",
     "start_time": "2021-02-05T01:15:50.823355Z"
    }
   },
   "outputs": [
    {
     "data": {
      "image/png": "[encoded data removed]",
      "text/plain": [
       "<Figure size 432x288 with 1 Axes>"
      ]
     },
     "metadata": {
      "needs_background": "light"
     },
     "output_type": "display_data"
    }
   ],
   "source": [
    "exps[INDEX_SCRAMBLED_SAME_ENC_ROT].decoder.plot_K()"
   ]
  },
  {
   "cell_type": "code",
   "execution_count": 37,
   "metadata": {
    "ExecuteTime": {
     "end_time": "2021-02-05T01:16:26.299470Z",
     "start_time": "2021-02-05T01:16:26.112168Z"
    }
   },
   "outputs": [
    {
     "data": {
      "image/png": "[encoded data removed]",
      "text/plain": [
       "<Figure size 432x288 with 1 Axes>"
      ]
     },
     "metadata": {
      "needs_background": "light"
     },
     "output_type": "display_data"
    }
   ],
   "source": [
    "exps[INDEX_SCRAMBLED_SAME_ENC_SHIFT].decoder.plot_K()"
   ]
  },
  {
   "cell_type": "code",
   "execution_count": null,
   "metadata": {
    "ExecuteTime": {
     "end_time": "2021-02-05T01:15:10.206743Z",
     "start_time": "2021-02-05T01:14:38.522Z"
    },
    "scrolled": true
   },
   "outputs": [],
   "source": [
    "exps[INDEX_SCRAMBLED_SAME_ENC].decoder.plot_C()"
   ]
  },
  {
   "cell_type": "markdown",
   "metadata": {},
   "source": [
    "check the C matrix\n",
    "before compute the steady state K  \n",
    "\n",
    "and double check the C is what I set to. "
   ]
  },
  {
   "cell_type": "markdown",
   "metadata": {},
   "source": [
    "## let's look at the K matrix\n"
   ]
  },
  {
   "cell_type": "code",
   "execution_count": null,
   "metadata": {
    "ExecuteTime": {
     "end_time": "2021-02-05T01:15:10.207174Z",
     "start_time": "2021-02-05T01:14:38.524Z"
    }
   },
   "outputs": [],
   "source": [
    "sp.Matrix(exps[INDEX_SAME_ENC].decoder.filt.obs_t)"
   ]
  },
  {
   "cell_type": "code",
   "execution_count": null,
   "metadata": {
    "ExecuteTime": {
     "end_time": "2021-02-05T01:15:10.207685Z",
     "start_time": "2021-02-05T01:14:38.526Z"
    }
   },
   "outputs": [],
   "source": [
    "plt.plot(firing_rates_all[INDEX_SAME_ENC][:,1])"
   ]
  },
  {
   "cell_type": "code",
   "execution_count": null,
   "metadata": {
    "ExecuteTime": {
     "end_time": "2021-02-05T01:15:10.208104Z",
     "start_time": "2021-02-05T01:14:38.528Z"
    }
   },
   "outputs": [],
   "source": [
    "sp.Matrix(exps[INDEX_SAME_ENC].decoder.filt.pred_state_mean)"
   ]
  },
  {
   "cell_type": "code",
   "execution_count": null,
   "metadata": {
    "ExecuteTime": {
     "end_time": "2021-02-05T01:15:10.208663Z",
     "start_time": "2021-02-05T01:14:38.529Z"
    }
   },
   "outputs": [],
   "source": [
    "sp.Matrix(exps[INDEX_SAME_ENC].decoder.filt.post_state_mean)"
   ]
  },
  {
   "cell_type": "code",
   "execution_count": null,
   "metadata": {
    "ExecuteTime": {
     "end_time": "2021-02-05T01:15:10.209352Z",
     "start_time": "2021-02-05T01:14:38.531Z"
    },
    "scrolled": true
   },
   "outputs": [],
   "source": [
    "sp.Matrix(exps[INDEX_SAME_ENC].decoder.filt.K)\n",
    "sp.Matrix(exps[INDEX_SAME_ENC].decoder.filt.KC)"
   ]
  },
  {
   "cell_type": "code",
   "execution_count": null,
   "metadata": {
    "ExecuteTime": {
     "end_time": "2021-02-05T01:15:10.209775Z",
     "start_time": "2021-02-05T01:14:38.533Z"
    }
   },
   "outputs": [],
   "source": [
    "K_hist_all  = [ np.squeeze(task_data_hist_np['K']) for task_data_hist_np in task_data_hist_np_all]\n",
    "KC_hist_all  = [ np.squeeze(task_data_hist_np['KC']) for task_data_hist_np in task_data_hist_np_all]\n",
    "pred_state_mean_hist_all  = [ np.squeeze(task_data_hist_np['pred_state_mean']) for task_data_hist_np in task_data_hist_np_all]\n",
    "post_state_mean_hist_all  = [ np.squeeze(task_data_hist_np['post_state_mean']) for task_data_hist_np in task_data_hist_np_all]\n"
   ]
  },
  {
   "cell_type": "code",
   "execution_count": null,
   "metadata": {
    "ExecuteTime": {
     "end_time": "2021-02-05T01:15:10.210211Z",
     "start_time": "2021-02-05T01:14:38.534Z"
    }
   },
   "outputs": [],
   "source": [
    "post_state_mean_hist_all[INDEX_RANDOM_DECODER].shape"
   ]
  },
  {
   "cell_type": "code",
   "execution_count": null,
   "metadata": {
    "ExecuteTime": {
     "end_time": "2021-02-04T04:48:23.132247Z",
     "start_time": "2021-02-04T04:48:23.129596Z"
    }
   },
   "outputs": [],
   "source": []
  },
  {
   "cell_type": "code",
   "execution_count": null,
   "metadata": {
    "ExecuteTime": {
     "end_time": "2021-02-05T01:15:10.210604Z",
     "start_time": "2021-02-05T01:14:38.536Z"
    }
   },
   "outputs": [],
   "source": [
    "plt.plot(time_axis, \n",
    "         pred_state_mean_hist_all[INDEX_SAME_ENC][:INT_WIN_SAMPLES,X_VEL_STATE_IND])\n",
    "plt.plot(time_axis, \n",
    "         post_state_mean_hist_all[INDEX_SAME_ENC][:INT_WIN_SAMPLES,X_VEL_STATE_IND])\n",
    "plt.legend(['pred state mean', \n",
    "            'post state mean'])"
   ]
  },
  {
   "cell_type": "code",
   "execution_count": null,
   "metadata": {
    "ExecuteTime": {
     "end_time": "2021-02-05T01:15:10.211008Z",
     "start_time": "2021-02-05T01:14:38.538Z"
    }
   },
   "outputs": [],
   "source": [
    "TIME_IND = 100\n",
    "sp.Matrix(K_hist_all[INDEX_RANDOM_DECODER][TIME_IND])\n"
   ]
  },
  {
   "cell_type": "code",
   "execution_count": null,
   "metadata": {
    "ExecuteTime": {
     "end_time": "2021-02-05T01:15:10.211508Z",
     "start_time": "2021-02-05T01:14:38.539Z"
    }
   },
   "outputs": [],
   "source": [
    "sp.Matrix(KC_hist_all[INDEX_RANDOM_DECODER][TIME_IND])"
   ]
  },
  {
   "cell_type": "code",
   "execution_count": null,
   "metadata": {},
   "outputs": [],
   "source": []
  },
  {
   "cell_type": "markdown",
   "metadata": {},
   "source": [
    "## steady state K"
   ]
  },
  {
   "cell_type": "code",
   "execution_count": null,
   "metadata": {
    "ExecuteTime": {
     "end_time": "2021-02-05T01:15:10.211908Z",
     "start_time": "2021-02-05T01:14:38.542Z"
    }
   },
   "outputs": [],
   "source": [
    "e = exps[INDEX_RANDOM_DECODER]\n",
    "\n",
    "e.decoder.plot_K()"
   ]
  },
  {
   "cell_type": "code",
   "execution_count": null,
   "metadata": {
    "ExecuteTime": {
     "end_time": "2021-02-05T01:15:10.212561Z",
     "start_time": "2021-02-05T01:14:38.544Z"
    }
   },
   "outputs": [],
   "source": [
    "for i,e in enumerate(exps):\n",
    "    e.decoder.plot_K()"
   ]
  },
  {
   "cell_type": "code",
   "execution_count": null,
   "metadata": {
    "ExecuteTime": {
     "end_time": "2021-02-05T01:15:10.213096Z",
     "start_time": "2021-02-05T01:14:38.545Z"
    },
    "scrolled": true
   },
   "outputs": [],
   "source": [
    "exps[INDEX_SCRAMBLED_SAME_ENC].decoder.filt.C\n",
    "    "
   ]
  },
  {
   "cell_type": "code",
   "execution_count": null,
   "metadata": {
    "ExecuteTime": {
     "end_time": "2021-02-05T01:15:10.213608Z",
     "start_time": "2021-02-05T01:14:38.546Z"
    }
   },
   "outputs": [],
   "source": [
    "for i,e in enumerate(exps):\n",
    "    print(f'The tuning angles {exp_conds[i]}')\n",
    "    print(weights.cal_tuning_angle(np.array(e.bmi_system.decoder.filt.C)))"
   ]
  },
  {
   "cell_type": "code",
   "execution_count": null,
   "metadata": {
    "ExecuteTime": {
     "end_time": "2021-02-05T01:15:10.213981Z",
     "start_time": "2021-02-05T01:14:38.548Z"
    }
   },
   "outputs": [],
   "source": [
    "exps[INDEX_PRETRAINED].decoder.filt.K"
   ]
  },
  {
   "cell_type": "markdown",
   "metadata": {},
   "source": [
    "this is very interesing "
   ]
  },
  {
   "cell_type": "markdown",
   "metadata": {},
   "source": [
    "# summarize the behaviour"
   ]
  },
  {
   "cell_type": "code",
   "execution_count": null,
   "metadata": {
    "ExecuteTime": {
     "end_time": "2021-02-05T01:15:10.214367Z",
     "start_time": "2021-02-05T01:14:38.550Z"
    },
    "scrolled": true
   },
   "outputs": [],
   "source": [
    "def filter_state(state_log:list, state_to_match:str)->list:\n",
    "    '''\n",
    "    state_log: a list of tuples (state:string, start_time: float)\n",
    "    state_to_watch\n",
    "    \n",
    "    returns a list of element type\n",
    "    '''\n",
    "    \n",
    "    \n",
    "    return list(filter(lambda k: k[0] == state_to_match, state_log) )\n",
    "\n",
    "def calc_inter_wait_times(wait_log: list)-> list:\n",
    "    \"\"\"\n",
    "    state_log: a list of tuples (\"wait\", start_time: float)\n",
    "    return a list of tuples: (\"wait\", start_time: float, diff_time)\n",
    "    \"\"\"\n",
    "    wait_log_with_diff = list()\n",
    "    for i, wait_state in enumerate(wait_log):\n",
    "        if i == len(wait_log)-1: #there is nothing to subtract, just put zero.\n",
    "            wait_log_with_diff.append((wait_state[1],  0))\n",
    "            \n",
    "        else:\n",
    "            finish_time = wait_log[i+1][1]\n",
    "            wait_log_with_diff.append((wait_state[1],  finish_time - wait_state[1]))\n",
    "    \n",
    "    return np.array(wait_log_with_diff[:-1])\n",
    "    \n",
    "    \n",
    "\"\"\"\n",
    "wait_seq = filter_state(state_log, 'wait')\n",
    "wait_seq_diff = np.array(calc_inter_wait_times(wait_seq))\n",
    "len(wait_seq_diff)\n",
    "\"\"\"\n"
   ]
  },
  {
   "cell_type": "markdown",
   "metadata": {},
   "source": [
    "# examine tracking by trial"
   ]
  },
  {
   "cell_type": "code",
   "execution_count": null,
   "metadata": {
    "ExecuteTime": {
     "end_time": "2021-02-05T01:15:10.214741Z",
     "start_time": "2021-02-05T01:14:38.552Z"
    },
    "code_folding": [],
    "scrolled": true
   },
   "outputs": [],
   "source": [
    "#get the timings \n",
    "i = 0\n",
    "\n",
    "corre_coef_exp = list()\n",
    "for e_i,e in enumerate(exps):\n",
    "    \n",
    "    \n",
    "    corr_coef_window = list()\n",
    "    for trial_start_time, trial_length in wait_seq_diff:\n",
    "        win_start_sample = int(trial_start_time * FRAME_RATE)\n",
    "        win_finish_sample = int((trial_start_time + trial_length) * FRAME_RATE)\n",
    "\n",
    "        window_range = range(win_start_sample,win_finish_sample)\n",
    "\n",
    "        corr_coef = [np.corrcoef(encoder_ctrl_input_all[i][window_range,state_i],\n",
    "                            decoder_states_all[i][window_range,state_i])[1,1]  for state_i in range(N_STATES)]\n",
    "\n",
    "        corr_coef_window.append(corr_coef)\n",
    "    \n",
    "    corre_coef_exp.append(corr_coef_window)\n",
    "    \n",
    "\n",
    "    \n",
    "corre_coef_exp = np.array(corre_coef_exp)\n",
    "corre_coef_exp.shape"
   ]
  },
  {
   "cell_type": "code",
   "execution_count": null,
   "metadata": {
    "ExecuteTime": {
     "end_time": "2021-02-05T01:15:10.215118Z",
     "start_time": "2021-02-05T01:14:38.554Z"
    }
   },
   "outputs": [],
   "source": [
    "plt.plot(np.squeeze(corre_coef_exp[:,:,X_VEL_STATE_IND]).T)\n"
   ]
  }
 ],
 "metadata": {
  "kernelspec": {
   "display_name": "Python 3",
   "language": "python",
   "name": "python3"
  },
  "language_info": {
   "codemirror_mode": {
    "name": "ipython",
    "version": 3
   },
   "file_extension": ".py",
   "mimetype": "text/x-python",
   "name": "python",
   "nbconvert_exporter": "python",
   "pygments_lexer": "ipython3",
   "version": "3.8.5"
  },
  "toc": {
   "base_numbering": 1,
   "nav_menu": {},
   "number_sections": true,
   "sideBar": true,
   "skip_h1_title": false,
   "title_cell": "Table of Contents",
   "title_sidebar": "Contents",
   "toc_cell": false,
   "toc_position": {
    "height": "calc(100% - 180px)",
    "left": "10px",
    "top": "150px",
    "width": "293.112px"
   },
   "toc_section_display": true,
   "toc_window_display": true
  },
  "varInspector": {
   "cols": {
    "lenName": 16,
    "lenType": 16,
    "lenVar": 40
   },
   "kernels_config": {
    "python": {
     "delete_cmd_postfix": "",
     "delete_cmd_prefix": "del ",
     "library": "var_list.py",
     "varRefreshCmd": "print(var_dic_list())"
    },
    "r": {
     "delete_cmd_postfix": ") ",
     "delete_cmd_prefix": "rm(",
     "library": "var_list.r",
     "varRefreshCmd": "cat(var_dic_list()) "
    }
   },
   "types_to_exclude": [
    "module",
    "function",
    "builtin_function_or_method",
    "instance",
    "_Feature"
   ],
   "window_display": false
  }
 },
 "nbformat": 4,
 "nbformat_minor": 4
}
