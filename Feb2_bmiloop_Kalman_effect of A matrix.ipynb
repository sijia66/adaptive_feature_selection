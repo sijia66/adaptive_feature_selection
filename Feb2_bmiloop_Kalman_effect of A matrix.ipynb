{
 "cells": [
  {
   "cell_type": "markdown",
   "metadata": {},
   "source": [
    "# Purposes of this document\n",
    "\n",
    "we are gonna set up with three exps with identical seq\n",
    "for the kalman filter A matrix. \n",
    "\n",
    "- [ ]  drops very slow\n",
    "- [ ]  same\n",
    "- [ ]  drops very fast."
   ]
  },
  {
   "cell_type": "markdown",
   "metadata": {},
   "source": [
    "# setting up the simulation components\n",
    "\n",
    "this section largely copyied and pasted from   \n",
    "bmi3d-sijia(branch)-bulti_in_experiemnts\n",
    "https://github.com/sijia66/brain-python-interface/blob/master/built_in_tasks/sim_task_KF.py"
   ]
  },
  {
   "cell_type": "code",
   "execution_count": 1,
   "metadata": {
    "ExecuteTime": {
     "end_time": "2021-02-03T00:23:09.358947Z",
     "start_time": "2021-02-03T00:23:08.586300Z"
    }
   },
   "outputs": [
    {
     "name": "stderr",
     "output_type": "stream",
     "text": [
      "/home/sijia-aw/BMi3D_my/lab_bmi3d/riglib/blackrock/cerelink.py:13: UserWarning: Unable to import cerebus library. Check if is installed if using the Blackrock NeuroPort system\n",
      "  warnings.warn(\"Unable to import cerebus library. Check if is installed if using the Blackrock NeuroPort system\")\n"
     ]
    }
   ],
   "source": [
    "# import libraries\n",
    "# make sure these directories are in the python path., \n",
    "from bmimultitasks import SimBMIControlMulti, SimBMICosEncKFDec, BMIControlMultiNoWindow\n",
    "from features import SaveHDF\n",
    "from features.simulation_features import get_enc_setup, SimKFDecoderRandom, SimCosineTunedEnc,SimIntentionLQRController, SimClockTick\n",
    "from features.simulation_features import SimHDF, SimTime\n",
    "\n",
    "from riglib import experiment\n",
    "\n",
    "from riglib.stereo_opengl.window import FakeWindow\n",
    "from riglib.bmi import train\n",
    "\n",
    "import weights\n",
    "\n",
    "import time\n",
    "import copy\n",
    "import numpy as np\n",
    "import sympy as sp\n",
    "import matplotlib.pyplot as plt\n",
    "import itertools #for identical sequences\n"
   ]
  },
  {
   "cell_type": "markdown",
   "metadata": {},
   "source": [
    "##  set up trial information"
   ]
  },
  {
   "cell_type": "code",
   "execution_count": 2,
   "metadata": {
    "ExecuteTime": {
     "end_time": "2021-02-03T00:23:09.361943Z",
     "start_time": "2021-02-03T00:23:09.359985Z"
    }
   },
   "outputs": [],
   "source": [
    "NUM_EXP = 8 # how many experiments we are running. \n",
    "\n",
    "#generate task params\n",
    "N_TARGETS = 8\n",
    "N_TRIALS = 80\n",
    "seq = SimBMIControlMulti.sim_target_seq_generator_multi(\n",
    "N_TARGETS, N_TRIALS)\n",
    "\n",
    "#create a second version of the tasks\n",
    "seqs = itertools.tee(seq, NUM_EXP)"
   ]
  },
  {
   "cell_type": "markdown",
   "metadata": {},
   "source": [
    "##  simulation encoder decoder setup"
   ]
  },
  {
   "cell_type": "code",
   "execution_count": 3,
   "metadata": {
    "ExecuteTime": {
     "end_time": "2021-02-03T00:23:09.375196Z",
     "start_time": "2021-02-03T00:23:09.362817Z"
    }
   },
   "outputs": [
    {
     "name": "stdout",
     "output_type": "stream",
     "text": [
      "features.simulation_features: get_enc_setup has a tuning_level of 1 \n",
      "\n"
     ]
    }
   ],
   "source": [
    "#clda on random \n",
    "DECODER_MODE = 'trained' # in this case we load simulation_features.SimKFDecoderRandom\n",
    "ENCODER_TYPE = 'cosine_tuned_encoder'\n",
    "LEARNER_TYPE = 'dumb' # to dumb or not dumb it is a question 'feedback'\n",
    "UPDATER_TYPE = 'none' #none or \"smooth_batch\"\n",
    "\n",
    "\n",
    "SAVE_HDF = False\n",
    "SAVE_SIM_HDF = True #this makes the task data available as exp.task_data_hist\n",
    "DEBUG_FEATURE = False\n",
    "\n",
    "#neuron set up : 'std (20 neurons)' or 'toy (4 neurons)' \n",
    "N_NEURONS, N_STATES, sim_C = get_enc_setup(sim_mode = 'toy')"
   ]
  },
  {
   "cell_type": "markdown",
   "metadata": {},
   "source": [
    "## from the setup options, set up experiment"
   ]
  },
  {
   "cell_type": "code",
   "execution_count": 4,
   "metadata": {
    "ExecuteTime": {
     "end_time": "2021-02-03T00:23:09.385429Z",
     "start_time": "2021-02-03T00:23:09.375978Z"
    }
   },
   "outputs": [
    {
     "name": "stdout",
     "output_type": "stream",
     "text": [
      "__main__: selected SimCosineTunedEnc\n",
      "\n",
      "__main__: set decoder to SimKFDecoderSup\n",
      "\n",
      "__main__: need to specify an updater\n"
     ]
    }
   ],
   "source": [
    "# set up assist level\n",
    "assist_level = (0, 0)\n",
    "\n",
    "#base_class = SimBMIControlMulti\n",
    "base_class = BMIControlMultiNoWindow\n",
    "feats = []\n",
    "\n",
    "#set up intention feedbackcontroller\n",
    "#this ideally set before the encoder\n",
    "feats.append(SimIntentionLQRController)\n",
    "\n",
    "#set up the encoder\n",
    "if ENCODER_TYPE == 'cosine_tuned_encoder' :\n",
    "    feats.append(SimCosineTunedEnc)\n",
    "    print(f'{__name__}: selected SimCosineTunedEnc\\n')\n",
    "    \n",
    "    \n",
    "   #take care the decoder setup\n",
    "if DECODER_MODE == 'random':\n",
    "    feats.append(SimKFDecoderRandom)\n",
    "    print(f'{__name__}: set base class ')\n",
    "    print(f'{__name__}: selected SimKFDecoderRandom \\n')\n",
    "else: #defaul to a cosEnc and a pre-traind KF DEC\n",
    "    from features.simulation_features import SimKFDecoderSup\n",
    "    feats.append(SimKFDecoderSup)\n",
    "    print(f'{__name__}: set decoder to SimKFDecoderSup\\n')\n",
    "    \n",
    "    \n",
    "#you know what? \n",
    "#learner only collects firing rates labeled with estimated estimates\n",
    "#we would also need to use the labeled data\n",
    "#now, we can set up a dumb/or not-dumb learner\n",
    "if LEARNER_TYPE == 'feedback':\n",
    "    from features.simulation_features import SimFeedbackLearner\n",
    "    feats.append(SimFeedbackLearner)\n",
    "else:\n",
    "    from features.simulation_features import SimDumbLearner\n",
    "    feats.append(SimDumbLearner)\n",
    "\n",
    "\n",
    "\n",
    "\n",
    "#to update the decoder.\n",
    "if UPDATER_TYPE == 'smooth_batch':\n",
    "    from features.simulation_features import SimSmoothBatch\n",
    "    feats.append(SimSmoothBatch)\n",
    "else: #defaut to none \n",
    "    print(f'{__name__}: need to specify an updater')\n",
    "    \n",
    "if DEBUG_FEATURE: \n",
    "    from features.simulation_features import DebugFeature\n",
    "    feats.append(DebugFeature)\n",
    "    \n",
    "if SAVE_HDF: feats.append(SaveHDF)\n",
    "if SAVE_SIM_HDF: feats.append(SimHDF)\n",
    "    \n",
    "    \n",
    "#pass the real time limit on clock\n",
    "feats.append(SimClockTick)\n",
    "feats.append(SimTime)\n",
    "\n",
    "\n",
    "#save everthing in a kw\n",
    "kwargs = dict()\n",
    "kwargs['sim_C'] = sim_C"
   ]
  },
  {
   "cell_type": "markdown",
   "metadata": {},
   "source": [
    "## seed the exp"
   ]
  },
  {
   "cell_type": "code",
   "execution_count": 5,
   "metadata": {
    "ExecuteTime": {
     "end_time": "2021-02-03T00:23:09.393469Z",
     "start_time": "2021-02-03T00:23:09.386709Z"
    }
   },
   "outputs": [],
   "source": [
    "np.random.seed(1)"
   ]
  },
  {
   "cell_type": "markdown",
   "metadata": {},
   "source": [
    "## make our experiment class"
   ]
  },
  {
   "cell_type": "code",
   "execution_count": 6,
   "metadata": {
    "ExecuteTime": {
     "end_time": "2021-02-03T00:23:09.398200Z",
     "start_time": "2021-02-03T00:23:09.394367Z"
    }
   },
   "outputs": [
    {
     "name": "stdout",
     "output_type": "stream",
     "text": [
      "metaclass constructor\n",
      "(<class 'features.simulation_features.SimIntentionLQRController'>, <class 'features.simulation_features.SimCosineTunedEnc'>, <class 'features.simulation_features.SimKFDecoderSup'>, <class 'features.simulation_features.SimDumbLearner'>, <class 'features.simulation_features.SimHDF'>, <class 'features.simulation_features.SimClockTick'>, <class 'features.simulation_features.SimTime'>, <class 'bmimultitasks.BMIControlMultiNoWindow'>)\n",
      "[<class 'features.simulation_features.SimIntentionLQRController'>, <class 'features.simulation_features.SimCosineTunedEnc'>, <class 'features.simulation_features.SimKFDecoderSup'>, <class 'features.simulation_features.SimDumbLearner'>, <class 'features.simulation_features.SimHDF'>, <class 'features.simulation_features.SimClockTick'>, <class 'features.simulation_features.SimTime'>]\n"
     ]
    }
   ],
   "source": [
    "#spawn the task\n",
    "Exp = experiment.make(base_class, feats=feats)\n"
   ]
  },
  {
   "cell_type": "markdown",
   "metadata": {},
   "source": [
    "# creat experiments with different C matrices"
   ]
  },
  {
   "cell_type": "markdown",
   "metadata": {},
   "source": [
    "## declare defs and conventions"
   ]
  },
  {
   "cell_type": "code",
   "execution_count": 40,
   "metadata": {
    "ExecuteTime": {
     "end_time": "2021-02-03T00:40:16.381278Z",
     "start_time": "2021-02-03T00:40:16.378774Z"
    }
   },
   "outputs": [],
   "source": [
    "FRAME_RATE = 60\n",
    "INT_WINDOW_TIME = 10 # for looking at sample raw data\n",
    "NUM_SEC_IN_MIN = 60\n",
    "\n",
    "# some conventions as we go down the loop\n",
    "X_VEL_STATE_IND = 3\n",
    "Y_VEL_STATE_IND = 5\n",
    "X_POS_STATE_IND = 0\n",
    "Y_POS_STATE_IND = 2\n",
    "\n",
    "state_indices = [X_POS_STATE_IND,\n",
    "                 Y_POS_STATE_IND,\n",
    "                 X_VEL_STATE_IND,\n",
    "                 Y_VEL_STATE_IND]\n",
    "state_names = ['x pos ', 'y pos', 'x vel', 'y vel']\n",
    "\n",
    "\n",
    "INT_WIN_SAMPLES = INT_WINDOW_TIME * FRAME_RATE\n"
   ]
  },
  {
   "cell_type": "markdown",
   "metadata": {},
   "source": [
    "we now we have the current experiment"
   ]
  },
  {
   "cell_type": "markdown",
   "metadata": {},
   "source": [
    "## create exps"
   ]
  },
  {
   "cell_type": "code",
   "execution_count": 8,
   "metadata": {
    "ExecuteTime": {
     "end_time": "2021-02-03T00:23:09.412404Z",
     "start_time": "2021-02-03T00:23:09.403583Z"
    }
   },
   "outputs": [
    {
     "data": {
      "text/plain": [
       "['vel transfer rate = 0.1',\n",
       " 'vel transfer rate = 0.2',\n",
       " 'vel transfer rate = 0.3',\n",
       " 'vel transfer rate = 0.4',\n",
       " 'vel transfer rate = 0.5',\n",
       " 'vel transfer rate = 0.6',\n",
       " 'vel transfer rate = 0.7',\n",
       " 'vel transfer rate = 0.8']"
      ]
     },
     "execution_count": 8,
     "metadata": {},
     "output_type": "execute_result"
    }
   ],
   "source": [
    "vel_transfer_rates = [0.1, 0.2, 0.3, 0.4, 0.5, 0.6,  0.7, 0.8]\n",
    "\n",
    "exp_conds = ['vel transfer rate = ' + str(r) for r in vel_transfer_rates]\n",
    "\n",
    "exp_conds"
   ]
  },
  {
   "cell_type": "code",
   "execution_count": 9,
   "metadata": {
    "ExecuteTime": {
     "end_time": "2021-02-03T00:23:09.483870Z",
     "start_time": "2021-02-03T00:23:09.413193Z"
    }
   },
   "outputs": [
    {
     "name": "stdout",
     "output_type": "stream",
     "text": [
      "\n",
      "features.simulation_features.SimIntentionLQRController: LQRController used \n",
      "\n",
      "finished executing Experiment.__init__\n",
      "\n",
      "features.simulation_features.SimIntentionLQRController: LQRController used \n",
      "\n",
      "finished executing Experiment.__init__\n",
      "\n",
      "features.simulation_features.SimIntentionLQRController: LQRController used \n",
      "\n",
      "finished executing Experiment.__init__\n",
      "\n",
      "features.simulation_features.SimIntentionLQRController: LQRController used \n",
      "\n",
      "finished executing Experiment.__init__\n",
      "\n",
      "features.simulation_features.SimIntentionLQRController: LQRController used \n",
      "\n",
      "finished executing Experiment.__init__\n",
      "\n",
      "features.simulation_features.SimIntentionLQRController: LQRController used \n",
      "\n",
      "finished executing Experiment.__init__\n",
      "\n",
      "features.simulation_features.SimIntentionLQRController: LQRController used \n",
      "\n",
      "finished executing Experiment.__init__\n",
      "\n",
      "features.simulation_features.SimIntentionLQRController: LQRController used \n",
      "\n",
      "finished executing Experiment.__init__\n"
     ]
    }
   ],
   "source": [
    "exps = [Exp(s, **kwargs) for s in seqs]"
   ]
  },
  {
   "cell_type": "code",
   "execution_count": 10,
   "metadata": {
    "ExecuteTime": {
     "end_time": "2021-02-03T00:23:09.882082Z",
     "start_time": "2021-02-03T00:23:09.484831Z"
    }
   },
   "outputs": [
    {
     "name": "stdout",
     "output_type": "stream",
     "text": [
      "\n",
      "SimCosineTunedEnc SSM: State space: ['hand_px', 'hand_py', 'hand_pz', 'hand_vx', 'hand_vy', 'hand_vz', 'offset'] \n",
      "\n",
      "neural encoder init function  <BMIControlMultiNoWindow(Thread-4, initial)>\n",
      "Creating simulation decoder..\n",
      "SimKFDecoderSup:loaded self.encoder\n",
      "<riglib.bmi.sim_neurons.GenericCosEnc object at 0x7f0bf7bfb970> <class 'riglib.bmi.sim_neurons.GenericCosEnc'>\n",
      "SimKFDecoderSup:loaded self.ssm\n",
      "<riglib.bmi.sim_neurons.GenericCosEnc object at 0x7f0bf7bfb970> <class 'riglib.bmi.sim_neurons.GenericCosEnc'>\n",
      "SimKFDecoderSup: units:  4\n",
      " SimKFDecoderSup: zscore decoder ? :  False\n",
      "{}\n",
      "end of kwargs\n",
      "('zscore value: ', False, <class 'bool'>)\n",
      "no init_zscore\n",
      "<bmimultitasks.SimpleEndpointAssister object at 0x7f0bf7bfbbe0>\n",
      "\n",
      "SimCosineTunedEnc SSM: State space: ['hand_px', 'hand_py', 'hand_pz', 'hand_vx', 'hand_vy', 'hand_vz', 'offset'] \n",
      "\n",
      "neural encoder init function  <BMIControlMultiNoWindow(Thread-5, initial)>\n",
      "Creating simulation decoder..\n",
      "SimKFDecoderSup:loaded self.encoder\n",
      "<riglib.bmi.sim_neurons.GenericCosEnc object at 0x7f0bf73c2100> <class 'riglib.bmi.sim_neurons.GenericCosEnc'>\n",
      "SimKFDecoderSup:loaded self.ssm\n",
      "<riglib.bmi.sim_neurons.GenericCosEnc object at 0x7f0bf73c2100> <class 'riglib.bmi.sim_neurons.GenericCosEnc'>\n",
      "SimKFDecoderSup: units:  4\n",
      " SimKFDecoderSup: zscore decoder ? :  False\n",
      "{}\n",
      "end of kwargs\n",
      "('zscore value: ', False, <class 'bool'>)\n",
      "no init_zscore\n",
      "<bmimultitasks.SimpleEndpointAssister object at 0x7f0c40057040>\n",
      "\n",
      "SimCosineTunedEnc SSM: State space: ['hand_px', 'hand_py', 'hand_pz', 'hand_vx', 'hand_vy', 'hand_vz', 'offset'] \n",
      "\n",
      "neural encoder init function  <BMIControlMultiNoWindow(Thread-6, initial)>\n",
      "Creating simulation decoder..\n",
      "SimKFDecoderSup:loaded self.encoder\n",
      "<riglib.bmi.sim_neurons.GenericCosEnc object at 0x7f0bf73c21c0> <class 'riglib.bmi.sim_neurons.GenericCosEnc'>\n",
      "SimKFDecoderSup:loaded self.ssm\n",
      "<riglib.bmi.sim_neurons.GenericCosEnc object at 0x7f0bf73c21c0> <class 'riglib.bmi.sim_neurons.GenericCosEnc'>\n",
      "SimKFDecoderSup: units:  4\n",
      " SimKFDecoderSup: zscore decoder ? :  False\n",
      "{}\n",
      "end of kwargs\n",
      "('zscore value: ', False, <class 'bool'>)\n",
      "no init_zscore\n",
      "<bmimultitasks.SimpleEndpointAssister object at 0x7f0bf73c2af0>\n",
      "\n",
      "SimCosineTunedEnc SSM: State space: ['hand_px', 'hand_py', 'hand_pz', 'hand_vx', 'hand_vy', 'hand_vz', 'offset'] \n",
      "\n",
      "neural encoder init function  <BMIControlMultiNoWindow(Thread-7, initial)>\n",
      "Creating simulation decoder..\n",
      "SimKFDecoderSup:loaded self.encoder\n",
      "<riglib.bmi.sim_neurons.GenericCosEnc object at 0x7f0bf73b01c0> <class 'riglib.bmi.sim_neurons.GenericCosEnc'>\n",
      "SimKFDecoderSup:loaded self.ssm\n",
      "<riglib.bmi.sim_neurons.GenericCosEnc object at 0x7f0bf73b01c0> <class 'riglib.bmi.sim_neurons.GenericCosEnc'>\n",
      "SimKFDecoderSup: units:  4\n",
      " SimKFDecoderSup: zscore decoder ? :  False\n",
      "{}\n",
      "end of kwargs\n",
      "('zscore value: ', False, <class 'bool'>)\n",
      "no init_zscore\n",
      "<bmimultitasks.SimpleEndpointAssister object at 0x7f0bf73c2d30>\n",
      "\n",
      "SimCosineTunedEnc SSM: State space: ['hand_px', 'hand_py', 'hand_pz', 'hand_vx', 'hand_vy', 'hand_vz', 'offset'] \n",
      "\n",
      "neural encoder init function  <BMIControlMultiNoWindow(Thread-8, initial)>\n",
      "Creating simulation decoder..\n",
      "SimKFDecoderSup:loaded self.encoder\n",
      "<riglib.bmi.sim_neurons.GenericCosEnc object at 0x7f0bf73b0a90> <class 'riglib.bmi.sim_neurons.GenericCosEnc'>\n",
      "SimKFDecoderSup:loaded self.ssm\n",
      "<riglib.bmi.sim_neurons.GenericCosEnc object at 0x7f0bf73b0a90> <class 'riglib.bmi.sim_neurons.GenericCosEnc'>\n",
      "SimKFDecoderSup: units:  4\n",
      " SimKFDecoderSup: zscore decoder ? :  False\n",
      "{}\n",
      "end of kwargs\n",
      "('zscore value: ', False, <class 'bool'>)\n",
      "no init_zscore\n",
      "<bmimultitasks.SimpleEndpointAssister object at 0x7f0bf73b0a60>\n",
      "\n",
      "SimCosineTunedEnc SSM: State space: ['hand_px', 'hand_py', 'hand_pz', 'hand_vx', 'hand_vy', 'hand_vz', 'offset'] \n",
      "\n",
      "neural encoder init function  <BMIControlMultiNoWindow(Thread-9, initial)>\n",
      "Creating simulation decoder..\n",
      "SimKFDecoderSup:loaded self.encoder\n",
      "<riglib.bmi.sim_neurons.GenericCosEnc object at 0x7f0bf73b4400> <class 'riglib.bmi.sim_neurons.GenericCosEnc'>\n",
      "SimKFDecoderSup:loaded self.ssm\n",
      "<riglib.bmi.sim_neurons.GenericCosEnc object at 0x7f0bf73b4400> <class 'riglib.bmi.sim_neurons.GenericCosEnc'>\n",
      "SimKFDecoderSup: units:  4\n",
      " SimKFDecoderSup: zscore decoder ? :  False\n",
      "{}\n",
      "end of kwargs\n",
      "('zscore value: ', False, <class 'bool'>)\n",
      "no init_zscore\n",
      "<bmimultitasks.SimpleEndpointAssister object at 0x7f0bf73b4a30>\n",
      "\n",
      "SimCosineTunedEnc SSM: State space: ['hand_px', 'hand_py', 'hand_pz', 'hand_vx', 'hand_vy', 'hand_vz', 'offset'] \n",
      "\n",
      "neural encoder init function  <BMIControlMultiNoWindow(Thread-10, initial)>\n",
      "Creating simulation decoder..\n",
      "SimKFDecoderSup:loaded self.encoder\n",
      "<riglib.bmi.sim_neurons.GenericCosEnc object at 0x7f0bf73b4220> <class 'riglib.bmi.sim_neurons.GenericCosEnc'>\n",
      "SimKFDecoderSup:loaded self.ssm\n",
      "<riglib.bmi.sim_neurons.GenericCosEnc object at 0x7f0bf73b4220> <class 'riglib.bmi.sim_neurons.GenericCosEnc'>\n",
      "SimKFDecoderSup: units:  4\n",
      " SimKFDecoderSup: zscore decoder ? :  False\n",
      "{}\n",
      "end of kwargs\n",
      "('zscore value: ', False, <class 'bool'>)\n",
      "no init_zscore\n",
      "<bmimultitasks.SimpleEndpointAssister object at 0x7f0bf73b4070>\n",
      "\n",
      "SimCosineTunedEnc SSM: State space: ['hand_px', 'hand_py', 'hand_pz', 'hand_vx', 'hand_vy', 'hand_vz', 'offset'] \n",
      "\n",
      "neural encoder init function  <BMIControlMultiNoWindow(Thread-11, initial)>\n",
      "Creating simulation decoder..\n",
      "SimKFDecoderSup:loaded self.encoder\n",
      "<riglib.bmi.sim_neurons.GenericCosEnc object at 0x7f0bf73bb700> <class 'riglib.bmi.sim_neurons.GenericCosEnc'>\n",
      "SimKFDecoderSup:loaded self.ssm\n",
      "<riglib.bmi.sim_neurons.GenericCosEnc object at 0x7f0bf73bb700> <class 'riglib.bmi.sim_neurons.GenericCosEnc'>\n",
      "SimKFDecoderSup: units:  4\n",
      " SimKFDecoderSup: zscore decoder ? :  False\n",
      "{}\n",
      "end of kwargs\n",
      "('zscore value: ', False, <class 'bool'>)\n",
      "no init_zscore\n",
      "<bmimultitasks.SimpleEndpointAssister object at 0x7f0bf73bba00>\n"
     ]
    }
   ],
   "source": [
    "for e in exps: e.init()"
   ]
  },
  {
   "cell_type": "markdown",
   "metadata": {},
   "source": [
    "## iteratively change the decoder a matrix"
   ]
  },
  {
   "cell_type": "code",
   "execution_count": 11,
   "metadata": {
    "ExecuteTime": {
     "end_time": "2021-02-03T00:23:09.885550Z",
     "start_time": "2021-02-03T00:23:09.882903Z"
    }
   },
   "outputs": [
    {
     "name": "stdout",
     "output_type": "stream",
     "text": [
      "0\n",
      "1\n",
      "2\n",
      "3\n",
      "4\n",
      "5\n",
      "6\n",
      "7\n"
     ]
    }
   ],
   "source": [
    "exp = exps[0]\n",
    "exp.bmi_system.decoder.filt.A\n",
    "\n",
    "for i,e in enumerate(exps): \n",
    "    print(i)\n",
    "    e.bmi_system.decoder.filt.A[X_POS_STATE_IND, X_VEL_STATE_IND] = vel_transfer_rates[i]\n",
    "    e.bmi_system.decoder.filt.A[Y_POS_STATE_IND, Y_VEL_STATE_IND] = vel_transfer_rates[i]"
   ]
  },
  {
   "cell_type": "code",
   "execution_count": 12,
   "metadata": {
    "ExecuteTime": {
     "end_time": "2021-02-03T00:23:09.898908Z",
     "start_time": "2021-02-03T00:23:09.886490Z"
    }
   },
   "outputs": [
    {
     "name": "stdout",
     "output_type": "stream",
     "text": [
      "[[1.  0.  0.  0.1 0.  0.  0. ]\n",
      " [0.  1.  0.  0.  0.1 0.  0. ]\n",
      " [0.  0.  1.  0.  0.  0.1 0. ]\n",
      " [0.  0.  0.  0.8 0.  0.  0. ]\n",
      " [0.  0.  0.  0.  0.8 0.  0. ]\n",
      " [0.  0.  0.  0.  0.  0.8 0. ]\n",
      " [0.  0.  0.  0.  0.  0.  1. ]]\n",
      "[[1.  0.  0.  0.2 0.  0.  0. ]\n",
      " [0.  1.  0.  0.  0.1 0.  0. ]\n",
      " [0.  0.  1.  0.  0.  0.2 0. ]\n",
      " [0.  0.  0.  0.8 0.  0.  0. ]\n",
      " [0.  0.  0.  0.  0.8 0.  0. ]\n",
      " [0.  0.  0.  0.  0.  0.8 0. ]\n",
      " [0.  0.  0.  0.  0.  0.  1. ]]\n",
      "[[1.  0.  0.  0.3 0.  0.  0. ]\n",
      " [0.  1.  0.  0.  0.1 0.  0. ]\n",
      " [0.  0.  1.  0.  0.  0.3 0. ]\n",
      " [0.  0.  0.  0.8 0.  0.  0. ]\n",
      " [0.  0.  0.  0.  0.8 0.  0. ]\n",
      " [0.  0.  0.  0.  0.  0.8 0. ]\n",
      " [0.  0.  0.  0.  0.  0.  1. ]]\n",
      "[[1.  0.  0.  0.4 0.  0.  0. ]\n",
      " [0.  1.  0.  0.  0.1 0.  0. ]\n",
      " [0.  0.  1.  0.  0.  0.4 0. ]\n",
      " [0.  0.  0.  0.8 0.  0.  0. ]\n",
      " [0.  0.  0.  0.  0.8 0.  0. ]\n",
      " [0.  0.  0.  0.  0.  0.8 0. ]\n",
      " [0.  0.  0.  0.  0.  0.  1. ]]\n",
      "[[1.  0.  0.  0.5 0.  0.  0. ]\n",
      " [0.  1.  0.  0.  0.1 0.  0. ]\n",
      " [0.  0.  1.  0.  0.  0.5 0. ]\n",
      " [0.  0.  0.  0.8 0.  0.  0. ]\n",
      " [0.  0.  0.  0.  0.8 0.  0. ]\n",
      " [0.  0.  0.  0.  0.  0.8 0. ]\n",
      " [0.  0.  0.  0.  0.  0.  1. ]]\n",
      "[[1.  0.  0.  0.6 0.  0.  0. ]\n",
      " [0.  1.  0.  0.  0.1 0.  0. ]\n",
      " [0.  0.  1.  0.  0.  0.6 0. ]\n",
      " [0.  0.  0.  0.8 0.  0.  0. ]\n",
      " [0.  0.  0.  0.  0.8 0.  0. ]\n",
      " [0.  0.  0.  0.  0.  0.8 0. ]\n",
      " [0.  0.  0.  0.  0.  0.  1. ]]\n",
      "[[1.  0.  0.  0.7 0.  0.  0. ]\n",
      " [0.  1.  0.  0.  0.1 0.  0. ]\n",
      " [0.  0.  1.  0.  0.  0.7 0. ]\n",
      " [0.  0.  0.  0.8 0.  0.  0. ]\n",
      " [0.  0.  0.  0.  0.8 0.  0. ]\n",
      " [0.  0.  0.  0.  0.  0.8 0. ]\n",
      " [0.  0.  0.  0.  0.  0.  1. ]]\n",
      "[[1.  0.  0.  0.8 0.  0.  0. ]\n",
      " [0.  1.  0.  0.  0.1 0.  0. ]\n",
      " [0.  0.  1.  0.  0.  0.8 0. ]\n",
      " [0.  0.  0.  0.8 0.  0.  0. ]\n",
      " [0.  0.  0.  0.  0.8 0.  0. ]\n",
      " [0.  0.  0.  0.  0.  0.8 0. ]\n",
      " [0.  0.  0.  0.  0.  0.  1. ]]\n"
     ]
    }
   ],
   "source": [
    "for e in exps: \n",
    "    print(e.bmi_system.decoder.filt.A)"
   ]
  },
  {
   "cell_type": "markdown",
   "metadata": {},
   "source": [
    "## compare the observation matrices. "
   ]
  },
  {
   "cell_type": "code",
   "execution_count": 13,
   "metadata": {
    "ExecuteTime": {
     "end_time": "2021-02-03T00:23:09.912974Z",
     "start_time": "2021-02-03T00:23:09.899807Z"
    }
   },
   "outputs": [
    {
     "name": "stdout",
     "output_type": "stream",
     "text": [
      "the Kalman C matrix for vel transfer rate = 0.1\n",
      "[[ 0.          0.          0.          0.04543676  0.          0.00380779\n",
      "   0.09943454]\n",
      " [ 0.          0.          0.         -0.05382271  0.          0.00016457\n",
      "   0.11221833]\n",
      " [ 0.          0.          0.          0.00544746  0.          0.04920284\n",
      "   0.1054158 ]\n",
      " [ 0.          0.          0.         -0.00040239  0.         -0.05309139\n",
      "   0.10750627]]\n",
      "the Kalman C matrix for vel transfer rate = 0.2\n",
      "[[ 0.          0.          0.          0.06080898  0.          0.00161378\n",
      "   0.11316095]\n",
      " [ 0.          0.          0.         -0.0415758   0.         -0.00551316\n",
      "   0.09200519]\n",
      " [ 0.          0.          0.         -0.00168082  0.          0.04667513\n",
      "   0.10872267]\n",
      " [ 0.          0.          0.         -0.00125981  0.         -0.04764708\n",
      "   0.09681514]]\n",
      "the Kalman C matrix for vel transfer rate = 0.3\n",
      "[[ 0.          0.          0.          0.04675015  0.          0.0004684\n",
      "   0.10761276]\n",
      " [ 0.          0.          0.         -0.05647135  0.          0.00157982\n",
      "   0.11896381]\n",
      " [ 0.          0.          0.         -0.00053016  0.          0.04810621\n",
      "   0.10350685]\n",
      " [ 0.          0.          0.          0.00293153  0.         -0.05290159\n",
      "   0.11027382]]\n",
      "the Kalman C matrix for vel transfer rate = 0.4\n",
      "[[ 0.          0.          0.          0.05542827  0.          0.0031203\n",
      "   0.10342071]\n",
      " [ 0.          0.          0.         -0.04158502  0.         -0.0002053\n",
      "   0.09326721]\n",
      " [ 0.          0.          0.          0.00425147  0.          0.04919152\n",
      "   0.10110733]\n",
      " [ 0.          0.          0.         -0.00118595  0.         -0.04659292\n",
      "   0.09539585]]\n",
      "the Kalman C matrix for vel transfer rate = 0.5\n",
      "[[ 0.00000000e+00  0.00000000e+00  0.00000000e+00  4.50957053e-02\n",
      "   0.00000000e+00  3.81124874e-03  1.03560617e-01]\n",
      " [ 0.00000000e+00  0.00000000e+00  0.00000000e+00 -5.72933819e-02\n",
      "   0.00000000e+00  7.94734255e-05  1.22087886e-01]\n",
      " [ 0.00000000e+00  0.00000000e+00  0.00000000e+00  4.45867157e-03\n",
      "   0.00000000e+00  4.99378720e-02  1.03609854e-01]\n",
      " [ 0.00000000e+00  0.00000000e+00  0.00000000e+00 -1.67309945e-03\n",
      "   0.00000000e+00 -4.91028015e-02  1.05177167e-01]]\n",
      "the Kalman C matrix for vel transfer rate = 0.6\n",
      "[[ 0.          0.          0.          0.04458101  0.         -0.00022538\n",
      "   0.10591121]\n",
      " [ 0.          0.          0.         -0.04458469  0.         -0.00017058\n",
      "   0.10064344]\n",
      " [ 0.          0.          0.         -0.00105484  0.          0.04957153\n",
      "   0.09666294]\n",
      " [ 0.          0.          0.         -0.00111655  0.         -0.04845553\n",
      "   0.10168892]]\n",
      "the Kalman C matrix for vel transfer rate = 0.7\n",
      "[[ 0.          0.          0.          0.0499326   0.         -0.00115101\n",
      "   0.09635066]\n",
      " [ 0.          0.          0.         -0.05345578  0.          0.00164591\n",
      "   0.115976  ]\n",
      " [ 0.          0.          0.          0.00098273  0.          0.05135041\n",
      "   0.11212655]\n",
      " [ 0.          0.          0.          0.00127924  0.         -0.051541\n",
      "   0.10367414]]\n",
      "the Kalman C matrix for vel transfer rate = 0.8\n",
      "[[ 0.          0.          0.          0.04911986  0.         -0.00041428\n",
      "   0.10251804]\n",
      " [ 0.          0.          0.         -0.04766112  0.         -0.00039083\n",
      "   0.09462912]\n",
      " [ 0.          0.          0.         -0.00132567  0.          0.05780345\n",
      "   0.11415578]\n",
      " [ 0.          0.          0.          0.00213668  0.         -0.04199335\n",
      "   0.09344176]]\n"
     ]
    }
   ],
   "source": [
    "for i,e in enumerate(exps):\n",
    "    print(f'the Kalman C matrix for {exp_conds[i]}')\n",
    "    print(e.bmi_system.decoder.filt.C)"
   ]
  },
  {
   "cell_type": "code",
   "execution_count": 14,
   "metadata": {
    "ExecuteTime": {
     "end_time": "2021-02-03T00:23:09.918036Z",
     "start_time": "2021-02-03T00:23:09.913880Z"
    },
    "scrolled": true
   },
   "outputs": [
    {
     "name": "stdout",
     "output_type": "stream",
     "text": [
      "The tuning angles vel transfer rate = 0.1\n",
      "[ 4.79043221 -0.17518568 83.68226065 89.56575699]\n",
      "The tuning angles vel transfer rate = 0.2\n",
      "[  1.5201905    7.55363663 -87.93760818  88.48542303]\n",
      "The tuning angles vel transfer rate = 0.3\n",
      "[  0.5740358   -1.60246614 -89.36859387 -86.82820756]\n",
      "The tuning angles vel transfer rate = 0.4\n",
      "[ 3.222031    0.28285501 85.06038379 88.54194317]\n",
      "The tuning angles vel transfer rate = 0.5\n",
      "[ 4.83085401e+00 -7.94767003e-02  8.48979110e+01  8.80484929e+01]\n",
      "The tuning angles vel transfer rate = 0.6\n",
      "[ -0.28965545   0.21921593 -88.78098382  88.67998109]\n",
      "The tuning angles vel transfer rate = 0.7\n",
      "[ -1.32051185  -1.76358413  88.90362383 -88.57821886]\n",
      "The tuning angles vel transfer rate = 0.8\n",
      "[ -0.48322103   0.46982302 -88.68620293 -87.0872273 ]\n"
     ]
    }
   ],
   "source": [
    "for i,e in enumerate(exps):\n",
    "    print(f'The tuning angles {exp_conds[i]}')\n",
    "    print(weights.cal_tuning_angle(np.array(e.bmi_system.decoder.filt.C)))"
   ]
  },
  {
   "cell_type": "code",
   "execution_count": 15,
   "metadata": {
    "ExecuteTime": {
     "end_time": "2021-02-03T00:23:10.023344Z",
     "start_time": "2021-02-03T00:23:09.919001Z"
    }
   },
   "outputs": [
    {
     "data": {
      "text/plain": [
       "(0, 2)"
      ]
     },
     "execution_count": 15,
     "metadata": {},
     "output_type": "execute_result"
    },
    {
     "data": {
      "image/png": "[encoded data removed]",
      "text/plain": [
       "<Figure size 432x288 with 1 Axes>"
      ]
     },
     "metadata": {
      "needs_background": "light"
     },
     "output_type": "display_data"
    }
   ],
   "source": [
    "a = 11\n",
    "fig = plt.figure()\n",
    "a = fig.add_axes([0.1,0.1,0.8,0.8])\n",
    "\n",
    "a.arrow(0,0, 1, 2, width = 0.06, head_width = 0.2, head_length= 2)\n",
    "a.set_ylim([0,6])\n",
    "a.set_xlim([0,2])\n"
   ]
  },
  {
   "cell_type": "markdown",
   "metadata": {},
   "source": [
    "# assemble into a complete loop"
   ]
  },
  {
   "cell_type": "code",
   "execution_count": 16,
   "metadata": {
    "ExecuteTime": {
     "end_time": "2021-02-03T00:23:10.033359Z",
     "start_time": "2021-02-03T00:23:10.024386Z"
    },
    "scrolled": true
   },
   "outputs": [],
   "source": [
    "#make this into a loop\n",
    "\n",
    "def run_exp_loop(exp):\n",
    "        # riglib.experiment: line 597 - 601\n",
    "    #exp.next_trial = next(exp.gen)\n",
    "    # -+exp._parse_next_trial()np.arraynp.array\n",
    "\n",
    "\n",
    "    # we need to set the initial state\n",
    "    # per fsm.run:  line 138\n",
    "\n",
    "\n",
    "    # Initialize the FSM before the loop\n",
    "    exp.set_state(exp.state)\n",
    "\n",
    "\n",
    "    while exp.state is not None:\n",
    "\n",
    "        # exp.fsm_tick()\n",
    "\n",
    "        ### Execute commands#####\n",
    "        exp.exec_state_specific_actions(exp.state)\n",
    "\n",
    "        ###run the bmi loop #####\n",
    "        # _cycle\n",
    "\n",
    "        # bmi feature extraction, eh\n",
    "        #riglib.bmi: 1202\n",
    "        feature_data = exp.get_features()\n",
    "\n",
    "        # Determine the target_state and save to file\n",
    "        current_assist_level = exp.get_current_assist_level()\n",
    "        '''\n",
    "            if np.any(current_assist_level > 0) or exp.learn_flag:\n",
    "            target_state = exp.get_target_BMI_state(exp.decoder.states)\n",
    "        else:\n",
    "            target_state = np.ones(\n",
    "                [exp.decoder.n_states, exp.decoder.n_subbins]) * np.nan\n",
    "\n",
    "        '''\n",
    "        target_state = exp.get_target_BMI_state(exp.decoder.states)\n",
    "\n",
    "\n",
    "        # decode the new features\n",
    "        # riglib.bmi.bmiloop: line 1245\n",
    "        neural_features = feature_data[exp.extractor.feature_type]\n",
    "\n",
    "        # call decoder.\n",
    "        #tmp = exp.call_decoder(neural_features, target_state, **kwargs)\n",
    "        neural_obs = neural_features\n",
    "        learn_flag = exp.learn_flag\n",
    "        task_state = exp.state\n",
    "\n",
    "        n_units, n_obs = neural_obs.shape\n",
    "        # If the target is specified as a 1D position, tile to match\n",
    "        # the number of dimensions as the neural features\n",
    "        if np.ndim(target_state) == 1 or (target_state.shape[1] == 1 and n_obs > 1):\n",
    "            target_state = np.tile(target_state, [1, n_obs])\n",
    "\n",
    "        decoded_states = np.zeros([exp.bmi_system.decoder.n_states, n_obs])\n",
    "        update_flag = False\n",
    "\n",
    "        for k in range(n_obs):\n",
    "            neural_obs_k = neural_obs[:, k].reshape(-1, 1)\n",
    "            target_state_k = target_state[:, k]\n",
    "\n",
    "            # NOTE: the conditional below is *only* for compatibility with older Carmena\n",
    "            # lab data collected using a different MATLAB-based system. In all python cases,\n",
    "            # the task_state should never contain NaN values.\n",
    "            if np.any(np.isnan(target_state_k)):\n",
    "                task_state = 'no_target'\n",
    "\n",
    "            #################################\n",
    "            # Decode the current observation\n",
    "            #################################\n",
    "            decodable_obs, decode = exp.bmi_system.feature_accumulator(\n",
    "                neural_obs_k)\n",
    "            if decode:  # if a new decodable observation is available from the feature accumulator\n",
    "                prev_state = exp.bmi_system.decoder.get_state()\n",
    "\n",
    "                exp.bmi_system.decoder(decodable_obs, **kwargs)\n",
    "                # Determine whether the current state or previous state should be given to the learner\n",
    "                if exp.bmi_system.learner.input_state_index == 0:\n",
    "                    learner_state = exp.bmi_system.decoder.get_state()\n",
    "                elif exp.bmi_system.learner.input_state_index == -1:\n",
    "                    learner_state = prev_state\n",
    "                else:\n",
    "                    print((\"Not implemented yet: %d\" %\n",
    "                           exp.bmi_system.learner.input_state_index))\n",
    "                    learner_state = prev_state\n",
    "\n",
    "                if learn_flag:\n",
    "                    exp.bmi_system.learner(decodable_obs.copy(), learner_state, target_state_k, exp.bmi_system.decoder.get_state(\n",
    "                    ), task_state, state_order=exp.bmi_system.decoder.ssm.state_order)\n",
    "\n",
    "            decoded_states[:, k] = exp.bmi_system.decoder.get_state()\n",
    "\n",
    "            ############################\n",
    "            # Update decoder parameters\n",
    "            ############################\n",
    "            if exp.bmi_system.learner.is_ready():\n",
    "                batch_data = exp.bmi_system.learner.get_batch()\n",
    "                batch_data['decoder'] = exp.bmi_system.decoder\n",
    "                kwargs.update(batch_data)\n",
    "                exp.bmi_system.updater(**kwargs)\n",
    "                exp.bmi_system.learner.disable()\n",
    "\n",
    "            new_params = None  # by default, no new parameters are available\n",
    "            if exp.bmi_system.has_updater:\n",
    "                new_params = copy.deepcopy(exp.bmi_system.updater.get_result())\n",
    "\n",
    "            # Update the decoder if new parameters are available\n",
    "            if not (new_params is None):\n",
    "                exp.bmi_system.decoder.update_params(\n",
    "                    new_params, **exp.bmi_system.updater.update_kwargs)\n",
    "                new_params['intended_kin'] = batch_data['intended_kin']\n",
    "                new_params['spike_counts_batch'] = batch_data['spike_counts']\n",
    "\n",
    "                exp.bmi_system.learner.enable()\n",
    "                update_flag = True\n",
    "\n",
    "                # Save new parameters to parameter history\n",
    "                exp.bmi_system.param_hist.append(new_params)\n",
    "\n",
    "\n",
    "\n",
    "        # saved as task data\n",
    "        # return decoded_states, update_flag\n",
    "        tmp = decoded_states\n",
    "        exp.task_data['internal_decoder_state'] = tmp\n",
    "\n",
    "        # reset the plant position\n",
    "        # @riglib.bmi.BMILoop.move_plant  line:1254\n",
    "        exp.plant.drive(exp.decoder)\n",
    "\n",
    "        # check state transitions and run the FSM.\n",
    "        current_state = exp.state\n",
    "\n",
    "        # iterate over the possible events which could move the task out of the current state\n",
    "        for event in exp.status[current_state]:\n",
    "            # if the event has occurred\n",
    "            if exp.test_state_transition_event(event):\n",
    "                # execute commands to end the current state\n",
    "                exp.end_state(current_state)\n",
    "\n",
    "                # trigger the transition for the event\n",
    "                exp.trigger_event(event)\n",
    "\n",
    "                # stop searching for transition events (transition events must be\n",
    "                # mutually exclusive for this FSM to function properly)\n",
    "                break\n",
    "\n",
    "        # sort out the loop params.\n",
    "        # inc cycle count\n",
    "        exp.cycle_count += 1\n",
    "\n",
    "        # save target data as was done in manualControlTasks._cycle\n",
    "        exp.task_data['target'] = exp.target_location.copy()\n",
    "        exp.task_data['target_index'] = exp.target_index\n",
    "\n",
    "        #done in bmi:_cycle after move_plant\n",
    "        exp.task_data['loop_time'] = exp.iter_time()\n",
    "\n",
    "\n",
    "        #fb_controller data\n",
    "        exp.task_data['target_state'] = target_state\n",
    "\n",
    "        #encoder data\n",
    "        #input to this is actually extractor\n",
    "        exp.task_data['ctrl_input'] = np.reshape(exp.extractor.sim_ctrl, (1,-1))\n",
    "\n",
    "        #actually output\n",
    "        exp.task_data['spike_counts'] = feature_data['spike_counts']\n",
    "\n",
    "\n",
    "        #save the decoder_state\n",
    "        #from BMILoop.move_plant\n",
    "        exp.task_data['decoder_state'] = exp.decoder.get_state(shape=(-1,1))\n",
    "\n",
    "\n",
    "        # as well as plant data.\n",
    "        plant_data = exp.plant.get_data_to_save()\n",
    "        for key in plant_data:\n",
    "            exp.task_data[key] = plant_data[key]\n",
    "\n",
    "        # clda data handled in the above call.\n",
    "\n",
    "        # save to the list hisory of data.\n",
    "        exp.task_data_hist.append(exp.task_data.copy())\n",
    "\n",
    "\n",
    "    if exp.verbose:\n",
    "        print(\"end of FSM.run, task state is\", exp.state)\n",
    "    \n",
    "    \n"
   ]
  },
  {
   "cell_type": "code",
   "execution_count": 17,
   "metadata": {
    "ExecuteTime": {
     "end_time": "2021-02-03T00:26:16.333639Z",
     "start_time": "2021-02-03T00:23:10.034210Z"
    }
   },
   "outputs": [
    {
     "name": "stdout",
     "output_type": "stream",
     "text": [
      "runseq\n",
      "end of FSM.run, task state is None\n",
      "Finished running  vel transfer rate = 0.1\n",
      "runseq\n",
      "end of FSM.run, task state is None\n",
      "Finished running  vel transfer rate = 0.2\n",
      "runseq\n",
      "end of FSM.run, task state is None\n",
      "Finished running  vel transfer rate = 0.3\n",
      "runseq\n",
      "end of FSM.run, task state is None\n",
      "Finished running  vel transfer rate = 0.4\n",
      "runseq\n",
      "end of FSM.run, task state is None\n",
      "Finished running  vel transfer rate = 0.5\n",
      "runseq\n",
      "end of FSM.run, task state is None\n",
      "Finished running  vel transfer rate = 0.6\n",
      "runseq\n",
      "end of FSM.run, task state is None\n",
      "Finished running  vel transfer rate = 0.7\n",
      "runseq\n",
      "end of FSM.run, task state is None\n",
      "Finished running  vel transfer rate = 0.8\n"
     ]
    }
   ],
   "source": [
    "for i,e in enumerate(exps):\n",
    "    run_exp_loop(e)\n",
    "    print(f'Finished running  {exp_conds[i]}')"
   ]
  },
  {
   "cell_type": "markdown",
   "metadata": {
    "ExecuteTime": {
     "end_time": "2021-01-25T01:00:26.027506Z",
     "start_time": "2021-01-25T01:00:26.024320Z"
    }
   },
   "source": [
    "## Preprocess the data for loading"
   ]
  },
  {
   "cell_type": "code",
   "execution_count": 18,
   "metadata": {
    "ExecuteTime": {
     "end_time": "2021-02-03T00:26:16.766234Z",
     "start_time": "2021-02-03T00:26:16.334778Z"
    }
   },
   "outputs": [
    {
     "data": {
      "text/plain": [
       "8"
      ]
     },
     "execution_count": 18,
     "metadata": {},
     "output_type": "execute_result"
    }
   ],
   "source": [
    "task_data_hist_np_all = [np.array(e.task_data_hist) for e in exps]\n",
    "len(task_data_hist_np_all)"
   ]
  },
  {
   "cell_type": "markdown",
   "metadata": {},
   "source": [
    "# Walk through the behaviour"
   ]
  },
  {
   "cell_type": "code",
   "execution_count": 19,
   "metadata": {
    "ExecuteTime": {
     "end_time": "2021-02-03T00:26:16.768714Z",
     "start_time": "2021-02-03T00:26:16.767000Z"
    }
   },
   "outputs": [],
   "source": [
    "cursor_trajectories = [np.squeeze(task_data_hist_np['cursor']) for task_data_hist_np in task_data_hist_np_all]"
   ]
  },
  {
   "cell_type": "code",
   "execution_count": 21,
   "metadata": {
    "ExecuteTime": {
     "end_time": "2021-02-03T00:26:43.300759Z",
     "start_time": "2021-02-03T00:26:42.631992Z"
    }
   },
   "outputs": [
    {
     "data": {
      "image/png": "[encoded data removed]",
      "text/plain": [
       "<Figure size 2016x432 with 8 Axes>"
      ]
     },
     "metadata": {
      "needs_background": "light"
     },
     "output_type": "display_data"
    }
   ],
   "source": [
    "NUM_SUBPLOT_ROWS = 1\n",
    "NUM_SUBPLOT_COLUMNS = NUM_EXP\n",
    "FIGURE_SIZE = (28,6)\n",
    "\n",
    "\n",
    "fig, axs = plt.subplots(NUM_SUBPLOT_ROWS, NUM_SUBPLOT_COLUMNS, figsize = FIGURE_SIZE)\n",
    "\n",
    "for i,ax in enumerate(axs):\n",
    "    ax.plot(cursor_trajectories[i][:INT_WIN_SAMPLES,0], cursor_trajectories[i][:INT_WIN_SAMPLES,2])\n",
    "    ax.set_title(exp_conds[i])\n"
   ]
  },
  {
   "cell_type": "markdown",
   "metadata": {},
   "source": [
    "as the transfer of velocity to the position states increase \n",
    "we are seeing more and more rugged trajectories\n",
    "\n",
    "[[1.  0.  0.  0.1 0.  0.  0. ]\n",
    " [0.  1.  0.  0.  0.1 0.  0. ]\n",
    " [0.  0.  1.  0.  0.  0.1 0. ]\n",
    " [0.  0.  0.  0.8 0.  0.  0. ]\n",
    " [0.  0.  0.  0.  0.8 0.  0. ]\n",
    " [0.  0.  0.  0.  0.  0.8 0. ]\n",
    " [0.  0.  0.  0.  0.  0.  1. ]]\n",
    " \n",
    " as a result the succuss rates also decrase"
   ]
  },
  {
   "cell_type": "code",
   "execution_count": 36,
   "metadata": {
    "ExecuteTime": {
     "end_time": "2021-02-03T00:35:27.513550Z",
     "start_time": "2021-02-03T00:35:27.511017Z"
    }
   },
   "outputs": [
    {
     "data": {
      "text/plain": [
       "390.5833333333333"
      ]
     },
     "execution_count": 36,
     "metadata": {},
     "output_type": "execute_result"
    }
   ],
   "source": [
    "len(cursor_trajectories[0]) / FRAME_RATE"
   ]
  },
  {
   "cell_type": "code",
   "execution_count": 42,
   "metadata": {
    "ExecuteTime": {
     "end_time": "2021-02-03T00:40:45.995254Z",
     "start_time": "2021-02-03T00:40:45.757412Z"
    }
   },
   "outputs": [
    {
     "data": {
      "text/plain": [
       "Text(0, 0.5, 'Rewards per minute')"
      ]
     },
     "execution_count": 42,
     "metadata": {},
     "output_type": "execute_result"
    },
    {
     "data": {
      "image/png": "[encoded data removed]",
      "text/plain": [
       "<Figure size 1152x432 with 2 Axes>"
      ]
     },
     "metadata": {
      "needs_background": "light"
     },
     "output_type": "display_data"
    }
   ],
   "source": [
    "rewards = [e.calc_state_occurrences('reward') for e in exps]\n",
    "reward_percentages = np.array(rewards) / N_TRIALS * 100\n",
    "\n",
    "reward_rates = np.zeros(NUM_EXP)\n",
    "\n",
    "for i,r in enumerate(rewards):\n",
    "    reward_rates[i] = r /  len(cursor_trajectories[i]) * FRAME_RATE * NUM_SEC_IN_MIN\n",
    "\n",
    "\n",
    "NUM_SUBPLOT_ROW = 1\n",
    "NUM_SUBPLOT_COL  = 2\n",
    "FIGURE_SIZE = (16,6)\n",
    "\n",
    "fig, axs = plt.subplots(NUM_SUBPLOT_ROW, NUM_SUBPLOT_COL, figsize = FIGURE_SIZE)\n",
    "\n",
    "axs[0].plot(vel_transfer_rates, reward_percentages)\n",
    "axs[0].set_title(f'percentage of rewarded  trials among a total of {N_TRIALS} trials ')\n",
    "axs[0].set_xlabel('Vel transfer value')\n",
    "\n",
    "axs[1].plot(vel_transfer_rates, reward_rates)\n",
    "axs[1].set_title(f'Mean reward rates ')\n",
    "axs[1].set_xlabel('Vel transfer value')\n",
    "axs[1].set_ylabel('Rewards per minute')\n"
   ]
  },
  {
   "cell_type": "markdown",
   "metadata": {},
   "source": [
    "## this system starts from feedback_controller"
   ]
  },
  {
   "cell_type": "markdown",
   "metadata": {},
   "source": [
    "feedback controller generates ctrl input matrix   \n",
    "from the difference between the target state and the and current state"
   ]
  },
  {
   "cell_type": "markdown",
   "metadata": {},
   "source": [
    "from LQRcontroller\n",
    "\n",
    " ns = self.A * current_state + self.B * self.F * (target_state - current_state)"
   ]
  },
  {
   "cell_type": "code",
   "execution_count": null,
   "metadata": {
    "ExecuteTime": {
     "end_time": "2021-02-03T00:26:17.415936Z",
     "start_time": "2021-02-03T00:23:08.673Z"
    },
    "scrolled": true
   },
   "outputs": [],
   "source": [
    "for e in exps: \n",
    "    print(e.fb_ctrl.A)\n",
    "    print()"
   ]
  },
  {
   "cell_type": "code",
   "execution_count": null,
   "metadata": {
    "ExecuteTime": {
     "end_time": "2021-02-03T00:26:17.416422Z",
     "start_time": "2021-02-03T00:23:08.675Z"
    },
    "scrolled": true
   },
   "outputs": [],
   "source": [
    "for e in exps: \n",
    "    print(e.fb_ctrl.B)\n",
    "    print()"
   ]
  },
  {
   "cell_type": "markdown",
   "metadata": {},
   "source": [
    "this feedback_controller matrix is calculated using the infinite horizon Linear Quardratic Programming method\n",
    "at the beginining "
   ]
  },
  {
   "cell_type": "markdown",
   "metadata": {},
   "source": [
    "again, from this equation  \n",
    "Bu = B * F * (target_state - current_state)  \n",
    "we get the control input"
   ]
  },
  {
   "cell_type": "markdown",
   "metadata": {},
   "source": [
    "## and the encoder generates the control firing rates from the control Bu vector"
   ]
  },
  {
   "cell_type": "markdown",
   "metadata": {},
   "source": [
    "from GenCosEnc line 130  \n",
    "rates = np.dot(self.C, next_state)  \n",
    "here, the Bu matrix is the next state  \n",
    "\n",
    "the rates are then used to gen spike counts in the same decoder function "
   ]
  },
  {
   "cell_type": "code",
   "execution_count": null,
   "metadata": {
    "ExecuteTime": {
     "end_time": "2021-02-03T00:26:17.416860Z",
     "start_time": "2021-02-03T00:23:08.710Z"
    }
   },
   "outputs": [],
   "source": [
    "# inputs to the encoder\n",
    "\n",
    "encoder_ctrl_input_all  = [ np.squeeze(task_data_hist_np['ctrl_input']) for task_data_hist_np in task_data_hist_np_all]"
   ]
  },
  {
   "cell_type": "code",
   "execution_count": null,
   "metadata": {
    "ExecuteTime": {
     "end_time": "2021-02-03T00:26:17.417377Z",
     "start_time": "2021-02-03T00:23:08.712Z"
    }
   },
   "outputs": [],
   "source": [
    "\n",
    "\n",
    "for encoder_ctrl_input in encoder_ctrl_input_all:\n",
    "    time_axis = np.arange(INT_WIN_SAMPLES) / FRAME_RATE\n",
    "    plt.plot(time_axis, encoder_ctrl_input[:INT_WIN_SAMPLES, X_VEL_STATE_IND]  )\n",
    "\n",
    "plt.legend(exp_conds)\n",
    "plt.xlabel('time (s)')\n",
    "plt.ylabel('Velocity')\n",
    "plt.title('Control vectors that go into the encoder')"
   ]
  },
  {
   "cell_type": "code",
   "execution_count": null,
   "metadata": {
    "ExecuteTime": {
     "end_time": "2021-02-03T00:26:17.418014Z",
     "start_time": "2021-02-03T00:23:08.713Z"
    }
   },
   "outputs": [],
   "source": [
    "time_axis = np.arange(INT_WIN_SAMPLES) / FRAME_RATE\n",
    "\n",
    "for encoder_ctrl_input in encoder_ctrl_input_all:\n",
    "    plt.plot(time_axis, \n",
    "             encoder_ctrl_input[:INT_WIN_SAMPLES, (X_VEL_STATE_IND, )])\n",
    "    \n",
    "    \n",
    "plt.xlabel('time (s)')\n",
    "plt.ylabel('Velocity')\n",
    "plt.title('Control vectors that go into the encoder')\n",
    "plt.legend(exp_conds)"
   ]
  },
  {
   "cell_type": "markdown",
   "metadata": {},
   "source": [
    "# compare decoder tracking with encoder"
   ]
  },
  {
   "cell_type": "markdown",
   "metadata": {},
   "source": [
    "we started off with three configurations of the decoder matrix.\n",
    "1. randomly assigned\n",
    "2. pretrained on gaussian generated state-firing pairs, the states were not coupled\n",
    "3. exactly the same as the decoder matrix"
   ]
  },
  {
   "cell_type": "code",
   "execution_count": null,
   "metadata": {
    "ExecuteTime": {
     "end_time": "2021-02-03T00:26:17.418458Z",
     "start_time": "2021-02-03T00:23:08.715Z"
    },
    "scrolled": true
   },
   "outputs": [],
   "source": [
    "for e in exps:\n",
    "    print(f'The tuning angles {exp_conds[i]}')\n",
    "    print(weights.cal_tuning_angle(np.array(e.bmi_system.decoder.filt.C)))"
   ]
  },
  {
   "cell_type": "markdown",
   "metadata": {},
   "source": [
    "yet, they all have the same A matrices\n"
   ]
  },
  {
   "cell_type": "code",
   "execution_count": null,
   "metadata": {
    "ExecuteTime": {
     "end_time": "2021-02-03T00:26:17.418920Z",
     "start_time": "2021-02-03T00:23:08.717Z"
    }
   },
   "outputs": [],
   "source": [
    "for i,e in enumerate(exps):\n",
    "    print(f'the Kalman C matrix for {exp_conds[i]}')\n",
    "    print(e.encoder.C)"
   ]
  },
  {
   "cell_type": "code",
   "execution_count": null,
   "metadata": {
    "ExecuteTime": {
     "end_time": "2021-02-03T00:26:17.419374Z",
     "start_time": "2021-02-03T00:23:08.719Z"
    }
   },
   "outputs": [],
   "source": [
    "decoder_states_all = [ np.squeeze(task_data_hist_np['decoder_state']) for task_data_hist_np in task_data_hist_np_all]"
   ]
  },
  {
   "cell_type": "markdown",
   "metadata": {},
   "source": [
    "let's look at the firing rates "
   ]
  },
  {
   "cell_type": "code",
   "execution_count": null,
   "metadata": {
    "ExecuteTime": {
     "end_time": "2021-02-03T00:26:17.419842Z",
     "start_time": "2021-02-03T00:23:08.720Z"
    }
   },
   "outputs": [],
   "source": [
    "firing_rates_all = [ np.squeeze(task_data_hist_np['spike_counts']) for task_data_hist_np in task_data_hist_np_all]"
   ]
  },
  {
   "cell_type": "code",
   "execution_count": null,
   "metadata": {
    "ExecuteTime": {
     "end_time": "2021-02-03T00:26:17.420279Z",
     "start_time": "2021-02-03T00:23:08.723Z"
    },
    "scrolled": true
   },
   "outputs": [],
   "source": [
    "NUM_SUBPLOT_ROWS = 1\n",
    "NUM_SUBPLOT_COLUMNS = NUM_EXP\n",
    "\n",
    "\n",
    "fig, axes = plt.subplots(NUM_SUBPLOT_ROWS,NUM_EXP, figsize=(18, 6), facecolor='w', edgecolor='k')\n",
    "fig.subplots_adjust(hspace = .5, wspace=.001)\n",
    "\n",
    "\n",
    "for i,a in enumerate(axes):\n",
    "    \n",
    "    a.plot(time_axis, firing_rates_all[i][:INT_WIN_SAMPLES,:])\n",
    "    a.set_title(exp_conds[i] +  'x pos')"
   ]
  },
  {
   "cell_type": "markdown",
   "metadata": {},
   "source": [
    "they are all really sparse"
   ]
  },
  {
   "cell_type": "code",
   "execution_count": null,
   "metadata": {
    "ExecuteTime": {
     "end_time": "2021-02-03T00:26:17.420662Z",
     "start_time": "2021-02-03T00:23:08.725Z"
    },
    "scrolled": true
   },
   "outputs": [],
   "source": [
    "NUM_SUBPLOT_ROWS = 2\n",
    "NUM_SUBPLOT_COLUMNS = NUM_EXP\n",
    "FIGURE_SIZE = (28,6) \n",
    "\n",
    "\n",
    "fig, axes = plt.subplots(NUM_SUBPLOT_ROWS,NUM_EXP, figsize=FIGURE_SIZE, facecolor='w', edgecolor='k')\n",
    "fig.subplots_adjust(hspace = .5, wspace=.001)\n",
    "\n",
    "time_axis = np.arange(INT_WIN_SAMPLES)/FRAME_RATE \n",
    "\n",
    "for i,a in enumerate(axes[0]):\n",
    "    \n",
    "    a.plot(time_axis, encoder_ctrl_input_all[i][:INT_WIN_SAMPLES,X_POS_STATE_IND])\n",
    "    a.plot(time_axis, decoder_states_all[i][:INT_WIN_SAMPLES,X_POS_STATE_IND])\n",
    "    a.set_title(exp_conds[i] +  'x pos')\n",
    "    \n",
    "    \n",
    "\n",
    "\n",
    "for i,a in enumerate(axes[1]):\n",
    "    \n",
    "    a.plot(time_axis, encoder_ctrl_input_all[i][:INT_WIN_SAMPLES,Y_POS_STATE_IND])\n",
    "    a.plot(time_axis, decoder_states_all[i][:INT_WIN_SAMPLES,Y_POS_STATE_IND])\n",
    "    a.set_title(exp_conds[i] +  ' Y pos')\n",
    "    "
   ]
  },
  {
   "cell_type": "markdown",
   "metadata": {},
   "source": [
    "this tracks really well \n",
    "I think because the Kalman filter does not run on the positions. "
   ]
  },
  {
   "cell_type": "code",
   "execution_count": null,
   "metadata": {
    "ExecuteTime": {
     "end_time": "2021-02-03T00:26:17.421231Z",
     "start_time": "2021-02-03T00:23:08.728Z"
    }
   },
   "outputs": [],
   "source": [
    "NUM_SUBPLOT_ROWS = 2\n",
    "NUM_SUBPLOT_COLUMNS = NUM_EXP\n",
    "FIGURE_SIZE = (28,6)\n",
    "\n",
    "\n",
    "fig, axes = plt.subplots(NUM_SUBPLOT_ROWS,NUM_EXP, figsize= FIGURE_SIZE, facecolor='w', edgecolor='k')\n",
    "fig.subplots_adjust(hspace = .5, wspace=.001)\n",
    "\n",
    "time_axis = np.arange(INT_WIN_SAMPLES)/FRAME_RATE \n",
    "\n",
    "for i,a in enumerate(axes[0]):\n",
    "    \n",
    "    a.plot(time_axis, encoder_ctrl_input_all[i][:INT_WIN_SAMPLES,X_VEL_STATE_IND])\n",
    "    a.plot(time_axis, decoder_states_all[i][:INT_WIN_SAMPLES,X_VEL_STATE_IND])\n",
    "    a.set_title(exp_conds[i] +  'x vel')\n",
    "    \n",
    "    \n",
    "\n",
    "\n",
    "for i,a in enumerate(axes[1]):\n",
    "    \n",
    "    a.plot(time_axis, encoder_ctrl_input_all[i][:INT_WIN_SAMPLES,Y_VEL_STATE_IND])\n",
    "    a.plot(time_axis, decoder_states_all[i][:INT_WIN_SAMPLES,Y_VEL_STATE_IND])\n",
    "    a.set_title(exp_conds[i] +  ' Y vel')\n",
    "    "
   ]
  },
  {
   "cell_type": "code",
   "execution_count": null,
   "metadata": {
    "ExecuteTime": {
     "end_time": "2021-02-03T00:26:17.421678Z",
     "start_time": "2021-02-03T00:23:08.730Z"
    }
   },
   "outputs": [],
   "source": [
    "corr_coefs = list()\n",
    "N_STATES = 7\n",
    "\n",
    "for i,ee in enumerate(exps):\n",
    "    corr_coef = [np.corrcoef(encoder_ctrl_input_all[i][:INT_WIN_SAMPLES,state_i],\n",
    "                            decoder_states_all[i][:INT_WIN_SAMPLES,state_i])[1,1]  for state_i in range(N_STATES)]\n",
    "    corr_coefs.append(corr_coef)\n",
    "    \n",
    "corr_coefs"
   ]
  },
  {
   "cell_type": "markdown",
   "metadata": {},
   "source": [
    "this is again perfect tracking\n",
    "because the encoder has perfect knowledge of the decoder.\n",
    "we are generating the control inputs using the decoder states.  \n",
    "\n",
    "again, from this equation  \n",
    "Bu = B * F * (target_state - current_state)  \n",
    "we get the control input\n",
    "\n",
    "this is almost like transparent operating, right. \n",
    "what would be an ideal encoder and decoder relationship. "
   ]
  },
  {
   "cell_type": "markdown",
   "metadata": {},
   "source": [
    "this is very interesing "
   ]
  },
  {
   "cell_type": "markdown",
   "metadata": {},
   "source": [
    "# summarize the behaviour"
   ]
  },
  {
   "cell_type": "code",
   "execution_count": null,
   "metadata": {
    "ExecuteTime": {
     "end_time": "2021-02-03T00:26:17.422128Z",
     "start_time": "2021-02-03T00:23:08.765Z"
    },
    "scrolled": true
   },
   "outputs": [],
   "source": [
    "def filter_state(state_log:list, state_to_match:str)->list:\n",
    "    '''\n",
    "    state_log: a list of tuples (state:string, start_time: float)\n",
    "    state_to_watch\n",
    "    \n",
    "    returns a list of element type\n",
    "    '''\n",
    "    \n",
    "    \n",
    "    return list(filter(lambda k: k[0] == state_to_match, state_log) )\n",
    "\n",
    "def calc_inter_wait_times(wait_log: list)-> list:\n",
    "    \"\"\"\n",
    "    state_log: a list of tuples (\"wait\", start_time: float)\n",
    "    return a list of tuples: (\"wait\", start_time: float, diff_time)\n",
    "    \"\"\"\n",
    "    wait_log_with_diff = list()\n",
    "    for i, wait_state in enumerate(wait_log):\n",
    "        if i == len(wait_log)-1: #there is nothing to subtract, just put zero.\n",
    "            wait_log_with_diff.append((wait_state[1],  0))\n",
    "            \n",
    "        else:\n",
    "            finish_time = wait_log[i+1][1]\n",
    "            wait_log_with_diff.append((wait_state[1],  finish_time - wait_state[1]))\n",
    "    \n",
    "    return np.array(wait_log_with_diff[:-1])\n",
    "    \n",
    "    \n",
    "\n",
    "wait_seq = filter_state(state_log, 'wait')\n",
    "wait_seq_diff = np.array(calc_inter_wait_times(wait_seq))\n",
    "len(wait_seq_diff)"
   ]
  },
  {
   "cell_type": "markdown",
   "metadata": {},
   "source": [
    "# examine tracking by trial"
   ]
  },
  {
   "cell_type": "code",
   "execution_count": null,
   "metadata": {
    "ExecuteTime": {
     "end_time": "2021-02-03T00:26:17.422647Z",
     "start_time": "2021-02-03T00:23:08.771Z"
    },
    "code_folding": [],
    "scrolled": true
   },
   "outputs": [],
   "source": [
    "#get the timings \n",
    "i = 0\n",
    "\n",
    "corre_coef_exp = list()\n",
    "for e_i,e in enumerate(exps):\n",
    "    \n",
    "    \n",
    "    corr_coef_window = list()\n",
    "    for trial_start_time, trial_length in wait_seq_diff:\n",
    "        win_start_sample = int(trial_start_time * FRAME_RATE)\n",
    "        win_finish_sample = int((trial_start_time + trial_length) * FRAME_RATE)\n",
    "\n",
    "        window_range = range(win_start_sample,win_finish_sample)\n",
    "\n",
    "        corr_coef = [np.corrcoef(encoder_ctrl_input_all[i][window_range,state_i],\n",
    "                            decoder_states_all[i][window_range,state_i])[1,1]  for state_i in range(N_STATES)]\n",
    "\n",
    "        corr_coef_window.append(corr_coef)\n",
    "    \n",
    "    corre_coef_exp.append(corr_coef_window)\n",
    "    \n",
    "\n",
    "    \n",
    "corre_coef_exp = np.array(corre_coef_exp)\n",
    "corre_coef_exp.shape"
   ]
  },
  {
   "cell_type": "code",
   "execution_count": null,
   "metadata": {
    "ExecuteTime": {
     "end_time": "2021-02-03T00:26:17.423066Z",
     "start_time": "2021-02-03T00:23:08.773Z"
    }
   },
   "outputs": [],
   "source": [
    "plt.plot(np.squeeze(corre_coef_exp[:,:,X_VEL_STATE_IND]).T)\n"
   ]
  }
 ],
 "metadata": {
  "kernelspec": {
   "display_name": "Python 3",
   "language": "python",
   "name": "python3"
  },
  "language_info": {
   "codemirror_mode": {
    "name": "ipython",
    "version": 3
   },
   "file_extension": ".py",
   "mimetype": "text/x-python",
   "name": "python",
   "nbconvert_exporter": "python",
   "pygments_lexer": "ipython3",
   "version": "3.8.5"
  },
  "toc": {
   "base_numbering": 1,
   "nav_menu": {},
   "number_sections": true,
   "sideBar": true,
   "skip_h1_title": false,
   "title_cell": "Table of Contents",
   "title_sidebar": "Contents",
   "toc_cell": false,
   "toc_position": {
    "height": "calc(100% - 180px)",
    "left": "10px",
    "top": "150px",
    "width": "293.119px"
   },
   "toc_section_display": true,
   "toc_window_display": true
  },
  "varInspector": {
   "cols": {
    "lenName": 16,
    "lenType": 16,
    "lenVar": 40
   },
   "kernels_config": {
    "python": {
     "delete_cmd_postfix": "",
     "delete_cmd_prefix": "del ",
     "library": "var_list.py",
     "varRefreshCmd": "print(var_dic_list())"
    },
    "r": {
     "delete_cmd_postfix": ") ",
     "delete_cmd_prefix": "rm(",
     "library": "var_list.r",
     "varRefreshCmd": "cat(var_dic_list()) "
    }
   },
   "types_to_exclude": [
    "module",
    "function",
    "builtin_function_or_method",
    "instance",
    "_Feature"
   ],
   "window_display": false
  }
 },
 "nbformat": 4,
 "nbformat_minor": 4
}
