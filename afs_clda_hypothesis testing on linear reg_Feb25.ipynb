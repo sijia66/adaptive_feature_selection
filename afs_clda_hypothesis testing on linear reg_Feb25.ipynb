{
 "cells": [
  {
   "cell_type": "markdown",
   "metadata": {},
   "source": [
    "# Purposes of this document\n",
    "\n",
    "the goal is to actually\n",
    "examine the relevance of the features with respect to the estimated intentions.\n",
    "\n",
    "we fit the est. intentions to the features(spike_counts) \n",
    "and test the p_values of the reg. coefficients. \n",
    "\n",
    "we expect to see:\n",
    "1. for each row,  it should similar to the encoder C matrix\n",
    "2. the non-relevant features or non-encoding features would have close to 1 p-values. \n",
    "\n",
    "in the end, \n",
    "we will demonstrate the mismatch through\n",
    "1. the rewarded trials and the reward trial rate. \n",
    "2. qualitative comparisions of trajectories. \n",
    "3. the tuning directions of C. and the tracking performance using correlation coefficients"
   ]
  },
  {
   "cell_type": "markdown",
   "metadata": {},
   "source": [
    "# ideas"
   ]
  },
  {
   "cell_type": "markdown",
   "metadata": {},
   "source": [
    "we play with the supervision way\n",
    "\n",
    "\n",
    "\n",
    "do feature selection in unsupervised way\n",
    "don't have\n",
    "little variance features can be dropped. \n",
    "this would be particularly int.\n",
    "\n",
    "why feature selection could be separate? \n",
    "for instance,  change in the neuron recording.\n",
    "thing happen at the background. \n",
    "quickly capture that. \n",
    "\n",
    "finish the simulations\n",
    "1. firing rates\n",
    "2. the convergence is a function of SNR, might be interesing, in the context of feature selection. \n",
    "\n",
    "make a  simulation\n",
    "1. some neurons high SNR, and some neuron low\n",
    "2. the high SNR might be learnt faster. \n",
    "3. train on more higher SNR \n",
    "3. gradually add in features. \n",
    "4. a nice demo of feature selection of sequentially. \n",
    "5. would a scheme that does that be performance beneficial\n",
    "6. the low SNRS are useful but can be added later. \n",
    "\n",
    "connected neural networks.\n",
    "1. big obvious features that explain well. \n",
    "2. some really nice features. \\\n",
    "3. cats and dogs. learn the brightness instead of the animals. \n",
    "4. similar things, we have a distribution "
   ]
  },
  {
   "cell_type": "markdown",
   "metadata": {},
   "source": [
    "# Experimental setup related to the questions\n",
    "\n",
    "this part should be configured to directly test the hypothesis put forward in the previous section\n"
   ]
  },
  {
   "cell_type": "code",
   "execution_count": 1,
   "metadata": {
    "ExecuteTime": {
     "end_time": "2021-03-01T19:58:41.276374Z",
     "start_time": "2021-03-01T19:58:41.235104Z"
    }
   },
   "outputs": [],
   "source": [
    "import numpy as np\n",
    "\n",
    "#encoder mean firing rate\n",
    "neuron_firing_rates  = [1, 10, 100]\n",
    "\n",
    "#for comparision\n",
    "exp_conds = [f'enc. mean FR:{b} Hz' for b in neuron_firing_rates]\n",
    "\n",
    "\n",
    "#setting clda parameters \n",
    "##learner: collects paird data at batch_sizes\n",
    "RHO = 0.5\n",
    "batch_size = 50\n",
    "\n",
    "\n",
    "#assistor set up assist level\n",
    "assist_level = (0.05, 0.0)\n",
    "\n",
    "#learner and updater: actualy set up rho\n",
    "UPDATER_BATCH_TIME = 1\n",
    "UPDATER_HALF_LIFE = np.log(RHO)  * UPDATER_BATCH_TIME / np.log(0.5)\n"
   ]
  },
  {
   "cell_type": "code",
   "execution_count": 2,
   "metadata": {
    "ExecuteTime": {
     "end_time": "2021-03-01T19:58:41.278916Z",
     "start_time": "2021-03-01T19:58:41.277315Z"
    }
   },
   "outputs": [],
   "source": [
    "# CHANGE: game mechanics: generate task params\n",
    "N_TARGETS = 8\n",
    "N_TRIALS = 80\n",
    "\n",
    "NUM_EXP = len(exp_conds) # how many experiments we are running. "
   ]
  },
  {
   "cell_type": "markdown",
   "metadata": {},
   "source": [
    "# Config the experiments\n",
    "\n",
    "this section largely copyied and pasted from   \n",
    "bmi3d-sijia(branch)-bulti_in_experiemnts\n",
    "https://github.com/sijia66/brain-python-interface/blob/master/built_in_tasks/sim_task_KF.py"
   ]
  },
  {
   "cell_type": "markdown",
   "metadata": {},
   "source": [
    "## load dependant libraries"
   ]
  },
  {
   "cell_type": "code",
   "execution_count": 3,
   "metadata": {
    "ExecuteTime": {
     "end_time": "2021-03-01T19:58:42.199820Z",
     "start_time": "2021-03-01T19:58:41.279751Z"
    }
   },
   "outputs": [
    {
     "name": "stderr",
     "output_type": "stream",
     "text": [
      "/home/sijia-aw/BMi3D_my/lab_bmi3d/riglib/blackrock/cerelink.py:13: UserWarning: Unable to import cerebus library. Check if is installed if using the Blackrock NeuroPort system\n",
      "  warnings.warn(\"Unable to import cerebus library. Check if is installed if using the Blackrock NeuroPort system\")\n"
     ]
    }
   ],
   "source": [
    "# import libraries\n",
    "# make sure these directories are in the python path., \n",
    "from bmimultitasks import SimBMIControlMulti, SimBMICosEncKFDec, BMIControlMultiNoWindow\n",
    "from features import SaveHDF\n",
    "from features.simulation_features import get_enc_setup, SimKFDecoderRandom, SimCosineTunedEnc,SimIntentionLQRController, SimClockTick\n",
    "from features.simulation_features import SimHDF, SimTime\n",
    "\n",
    "from riglib import experiment\n",
    "\n",
    "from riglib.stereo_opengl.window import FakeWindow\n",
    "from riglib.bmi import train\n",
    "\n",
    "from weights import calc_p_values_for_spike_batches_use_intended_kin\n",
    "from weights import calc_single_batch_p_values_by_fitting_kinematics_to_spike_counts\n",
    "import weights\n",
    "\n",
    "import time\n",
    "import copy\n",
    "import numpy as np\n",
    "import matplotlib.pyplot as plt\n",
    "import sympy as sp\n",
    "import itertools #for identical sequences\n",
    "\n",
    "np.set_printoptions(precision=2, suppress=True)\n"
   ]
  },
  {
   "cell_type": "markdown",
   "metadata": {},
   "source": [
    "##  behaviour and task setup"
   ]
  },
  {
   "cell_type": "code",
   "execution_count": 4,
   "metadata": {
    "ExecuteTime": {
     "end_time": "2021-03-01T19:58:42.203108Z",
     "start_time": "2021-03-01T19:58:42.200587Z"
    }
   },
   "outputs": [],
   "source": [
    "seq = SimBMIControlMulti.sim_target_seq_generator_multi(\n",
    "N_TARGETS, N_TRIALS)\n",
    "\n",
    "#create a second version of the tasks\n",
    "seqs = itertools.tee(seq, NUM_EXP + 1)\n",
    "target_seq = list(seqs[NUM_EXP])\n",
    "\n",
    "seqs = seqs[:NUM_EXP]\n",
    "\n",
    "\n",
    "SAVE_HDF = False\n",
    "SAVE_SIM_HDF = True #this makes the task data available as exp.task_data_hist\n",
    "DEBUG_FEATURE = False\n",
    "\n",
    "\n",
    "#base_class = SimBMIControlMulti\n",
    "base_class = BMIControlMultiNoWindow\n",
    "\n",
    "#for adding experimental features such as encoder, decoder\n",
    "feats = []"
   ]
  },
  {
   "cell_type": "markdown",
   "metadata": {},
   "source": [
    "## encoder\n",
    "\n",
    "the cosine tuned encoder uses a poisson process, right\n",
    "https://en.wikipedia.org/wiki/Poisson_distribution\n",
    "so if the lambda is 1, then it's very likely "
   ]
  },
  {
   "cell_type": "code",
   "execution_count": 5,
   "metadata": {
    "ExecuteTime": {
     "end_time": "2021-03-01T19:58:42.211392Z",
     "start_time": "2021-03-01T19:58:42.203967Z"
    }
   },
   "outputs": [
    {
     "name": "stdout",
     "output_type": "stream",
     "text": [
      "features.simulation_features: get_enc_setup has a tuning_level of 1 \n",
      "\n",
      "__main__: selected SimCosineTunedEnc\n",
      "\n"
     ]
    }
   ],
   "source": [
    "ENCODER_TYPE = 'cosine_tuned_encoder'\n",
    "\n",
    "#neuron set up : 'std (20 neurons)' or 'toy (4 neurons)' \n",
    "N_NEURONS, N_STATES, sim_C = get_enc_setup(sim_mode = 'toy')\n",
    "\n",
    "\n",
    "#actually multiply out the firing rates. \n",
    "sim_C_all = [sim_C * nfr for nfr in neuron_firing_rates]\n",
    "\n",
    "\n",
    "#set up intention feedbackcontroller\n",
    "#this ideally set before the encoder\n",
    "feats.append(SimIntentionLQRController)\n",
    "\n",
    "#set up the encoder\n",
    "if ENCODER_TYPE == 'cosine_tuned_encoder' :\n",
    "    feats.append(SimCosineTunedEnc)\n",
    "    print(f'{__name__}: selected SimCosineTunedEnc\\n')"
   ]
  },
  {
   "cell_type": "markdown",
   "metadata": {},
   "source": [
    "## decoder setup"
   ]
  },
  {
   "cell_type": "code",
   "execution_count": 6,
   "metadata": {
    "ExecuteTime": {
     "end_time": "2021-03-01T19:58:42.221749Z",
     "start_time": "2021-03-01T19:58:42.212221Z"
    }
   },
   "outputs": [
    {
     "name": "stdout",
     "output_type": "stream",
     "text": [
      "__main__: set base class \n",
      "__main__: selected SimKFDecoderRandom \n",
      "\n"
     ]
    }
   ],
   "source": [
    "#clda on random \n",
    "DECODER_MODE = 'random' # random \n",
    "\n",
    "   #take care the decoder setup\n",
    "if DECODER_MODE == 'random':\n",
    "    feats.append(SimKFDecoderRandom)\n",
    "    print(f'{__name__}: set base class ')\n",
    "    print(f'{__name__}: selected SimKFDecoderRandom \\n')\n",
    "else: #defaul to a cosEnc and a pre-traind KF DEC\n",
    "    from features.simulation_features import SimKFDecoderSup\n",
    "    feats.append(SimKFDecoderSup)\n",
    "    print(f'{__name__}: set decoder to SimKFDecoderSup\\n')"
   ]
  },
  {
   "cell_type": "markdown",
   "metadata": {},
   "source": [
    "##  clda: learner and updater"
   ]
  },
  {
   "cell_type": "code",
   "execution_count": 7,
   "metadata": {
    "ExecuteTime": {
     "end_time": "2021-03-01T19:58:42.231575Z",
     "start_time": "2021-03-01T19:58:42.223129Z"
    }
   },
   "outputs": [],
   "source": [
    "\n",
    "\n",
    "LEARNER_TYPE = 'feedback' # to dumb or not dumb it is a question 'feedback'\n",
    "UPDATER_TYPE = 'smooth_batch' #none or \"smooth_batch\"\n",
    "\n",
    "\n",
    "#you know what? \n",
    "#learner only collects firing rates labeled with estimated estimates\n",
    "#we would also need to use the labeled data\n",
    "#now, we can set up a dumb/or not-dumb learner\n",
    "if LEARNER_TYPE == 'feedback':\n",
    "    from features.simulation_features import SimFeedbackLearner\n",
    "    feats.append(SimFeedbackLearner)\n",
    "else:\n",
    "    from features.simulation_features import SimDumbLearner\n",
    "    feats.append(SimDumbLearner)\n",
    "\n",
    "#to update the decoder.\n",
    "if UPDATER_TYPE == 'smooth_batch':\n",
    "    from features.simulation_features import SimSmoothBatch\n",
    "    feats.append(SimSmoothBatch)\n",
    "else: #defaut to none \n",
    "    print(f'{__name__}: need to specify an updater')\n",
    "    \n",
    "\n"
   ]
  },
  {
   "cell_type": "markdown",
   "metadata": {},
   "source": [
    "## assistor setup"
   ]
  },
  {
   "cell_type": "markdown",
   "metadata": {},
   "source": [
    "## (Check) config the experiment"
   ]
  },
  {
   "cell_type": "code",
   "execution_count": 8,
   "metadata": {
    "ExecuteTime": {
     "end_time": "2021-03-01T19:58:42.242278Z",
     "start_time": "2021-03-01T19:58:42.232628Z"
    }
   },
   "outputs": [
    {
     "data": {
      "text/plain": [
       "[{'assist_level': (0.05, 0.0),\n",
       "  'sim_C': array([[ 0.,  0.,  0.,  1.,  0.,  0.,  0.],\n",
       "         [ 0.,  0.,  0., -1.,  0.,  0.,  0.],\n",
       "         [ 0.,  0.,  0.,  0.,  0.,  1.,  0.],\n",
       "         [ 0.,  0.,  0.,  0.,  0., -1.,  0.]]),\n",
       "  'batch_size': 50,\n",
       "  'batch_time': 1,\n",
       "  'half_life': 1.0},\n",
       " {'assist_level': (0.05, 0.0),\n",
       "  'sim_C': array([[  0.,   0.,   0.,  10.,   0.,   0.,   0.],\n",
       "         [  0.,   0.,   0., -10.,   0.,   0.,   0.],\n",
       "         [  0.,   0.,   0.,   0.,   0.,  10.,   0.],\n",
       "         [  0.,   0.,   0.,   0.,   0., -10.,   0.]]),\n",
       "  'batch_size': 50,\n",
       "  'batch_time': 1,\n",
       "  'half_life': 1.0},\n",
       " {'assist_level': (0.05, 0.0),\n",
       "  'sim_C': array([[   0.,    0.,    0.,  100.,    0.,    0.,    0.],\n",
       "         [   0.,    0.,    0., -100.,    0.,    0.,    0.],\n",
       "         [   0.,    0.,    0.,    0.,    0.,  100.,    0.],\n",
       "         [   0.,    0.,    0.,    0.,    0., -100.,    0.]]),\n",
       "  'batch_size': 50,\n",
       "  'batch_time': 1,\n",
       "  'half_life': 1.0}]"
      ]
     },
     "execution_count": 8,
     "metadata": {},
     "output_type": "execute_result"
    }
   ],
   "source": [
    "if DEBUG_FEATURE: \n",
    "    from features.simulation_features import DebugFeature\n",
    "    feats.append(DebugFeature)\n",
    "    \n",
    "if SAVE_HDF: feats.append(SaveHDF)\n",
    "if SAVE_SIM_HDF: feats.append(SimHDF)\n",
    "    \n",
    "    \n",
    "#pass the real time limit on clock\n",
    "feats.append(SimClockTick)\n",
    "feats.append(SimTime)\n",
    "\n",
    "\n",
    "kwargs_exps = list()\n",
    "\n",
    "for i in range(NUM_EXP):\n",
    "    d = dict()\n",
    "    \n",
    "    d['assist_level'] = assist_level\n",
    "    d['sim_C'] = sim_C_all[i]\n",
    "    d['batch_size'] = batch_size\n",
    "    \n",
    "    d['batch_time'] = UPDATER_BATCH_TIME\n",
    "    d['half_life'] = UPDATER_HALF_LIFE\n",
    "    \n",
    "    kwargs_exps.append(d)\n",
    "\n",
    "\n",
    "kwargs_exps"
   ]
  },
  {
   "cell_type": "markdown",
   "metadata": {},
   "source": [
    "## make and initalize experiment instances"
   ]
  },
  {
   "cell_type": "code",
   "execution_count": 9,
   "metadata": {
    "ExecuteTime": {
     "end_time": "2021-03-01T19:58:42.283292Z",
     "start_time": "2021-03-01T19:58:42.243016Z"
    }
   },
   "outputs": [
    {
     "name": "stdout",
     "output_type": "stream",
     "text": [
      "metaclass constructor\n",
      "(<class 'features.simulation_features.SimIntentionLQRController'>, <class 'features.simulation_features.SimCosineTunedEnc'>, <class 'features.simulation_features.SimKFDecoderRandom'>, <class 'features.simulation_features.SimFeedbackLearner'>, <class 'features.simulation_features.SimSmoothBatch'>, <class 'features.simulation_features.SimHDF'>, <class 'features.simulation_features.SimClockTick'>, <class 'features.simulation_features.SimTime'>, <class 'bmimultitasks.BMIControlMultiNoWindow'>)\n",
      "[<class 'features.simulation_features.SimIntentionLQRController'>, <class 'features.simulation_features.SimCosineTunedEnc'>, <class 'features.simulation_features.SimKFDecoderRandom'>, <class 'features.simulation_features.SimFeedbackLearner'>, <class 'features.simulation_features.SimSmoothBatch'>, <class 'features.simulation_features.SimHDF'>, <class 'features.simulation_features.SimClockTick'>, <class 'features.simulation_features.SimTime'>]\n",
      "\n",
      "features.simulation_features.SimIntentionLQRController: LQRController used \n",
      "\n",
      "\n",
      " features.simulation_features.SimFeedbackLearner: start to create a sim leaner with a batchsize of 50\n",
      "features.simulation_features.SimSmoothBatch: rho in this simulation is  0.5\n",
      "\n",
      "finished executing Experiment.__init__\n",
      "\n",
      "features.simulation_features.SimIntentionLQRController: LQRController used \n",
      "\n",
      "\n",
      " features.simulation_features.SimFeedbackLearner: start to create a sim leaner with a batchsize of 50\n",
      "features.simulation_features.SimSmoothBatch: rho in this simulation is  0.5\n",
      "\n",
      "finished executing Experiment.__init__\n",
      "\n",
      "features.simulation_features.SimIntentionLQRController: LQRController used \n",
      "\n",
      "\n",
      " features.simulation_features.SimFeedbackLearner: start to create a sim leaner with a batchsize of 50\n",
      "features.simulation_features.SimSmoothBatch: rho in this simulation is  0.5\n",
      "\n",
      "finished executing Experiment.__init__\n",
      "\n",
      "SimCosineTunedEnc SSM: State space: ['hand_px', 'hand_py', 'hand_pz', 'hand_vx', 'hand_vy', 'hand_vz', 'offset'] \n",
      "\n",
      "neural encoder init function  <BMIControlMultiNoWindow(Thread-4, initial)>\n",
      "features.simulation_features: added tracking of K matrix\n",
      "<bmimultitasks.SimpleEndpointAssister object at 0x7fd190c09700>\n",
      "features.simulation_features: batch size is 50\n",
      "Reset states for learner: \n",
      "[]\n",
      "Done states for learner: \n",
      "[]\n",
      "\n",
      "features.simulation_features.SimFeedbackLearner: flip the self.learn_flag to true\n",
      "features.simulation_features.SimFeedbackLearner: succussfully created a feedback controller learner\n",
      "\n",
      "\n",
      "SimSmoothBatch: created an updater with a batch time of 1 and a half_life of 1.0 \n",
      "\n",
      "\n",
      "SimCosineTunedEnc SSM: State space: ['hand_px', 'hand_py', 'hand_pz', 'hand_vx', 'hand_vy', 'hand_vz', 'offset'] \n",
      "\n",
      "neural encoder init function  <BMIControlMultiNoWindow(Thread-5, initial)>\n",
      "features.simulation_features: added tracking of K matrix\n",
      "<bmimultitasks.SimpleEndpointAssister object at 0x7fd1903b4df0>\n",
      "features.simulation_features: batch size is 50\n",
      "Reset states for learner: \n",
      "[]\n",
      "Done states for learner: \n",
      "[]\n",
      "\n",
      "features.simulation_features.SimFeedbackLearner: flip the self.learn_flag to true\n",
      "features.simulation_features.SimFeedbackLearner: succussfully created a feedback controller learner\n",
      "\n",
      "\n",
      "SimSmoothBatch: created an updater with a batch time of 1 and a half_life of 1.0 \n",
      "\n",
      "\n",
      "SimCosineTunedEnc SSM: State space: ['hand_px', 'hand_py', 'hand_pz', 'hand_vx', 'hand_vy', 'hand_vz', 'offset'] \n",
      "\n",
      "neural encoder init function  <BMIControlMultiNoWindow(Thread-6, initial)>\n",
      "features.simulation_features: added tracking of K matrix\n",
      "<bmimultitasks.SimpleEndpointAssister object at 0x7fd1903e5490>\n",
      "features.simulation_features: batch size is 50\n",
      "Reset states for learner: \n",
      "[]\n",
      "Done states for learner: \n",
      "[]\n",
      "\n",
      "features.simulation_features.SimFeedbackLearner: flip the self.learn_flag to true\n",
      "features.simulation_features.SimFeedbackLearner: succussfully created a feedback controller learner\n",
      "\n",
      "\n",
      "SimSmoothBatch: created an updater with a batch time of 1 and a half_life of 1.0 \n",
      "\n"
     ]
    }
   ],
   "source": [
    "#seed the experiment\n",
    "np.random.seed(0)\n",
    "\n",
    "#spawn the task\n",
    "Exp = experiment.make(base_class, feats=feats)\n",
    "\n",
    "exps = list()#create a list of experiment\n",
    "\n",
    "for i,s in enumerate(seqs):\n",
    "    e = Exp(s, **kwargs_exps[i])\n",
    "    exps.append(e)\n",
    "\n",
    "#run the ini\n",
    "for e in exps: e.init()"
   ]
  },
  {
   "cell_type": "markdown",
   "metadata": {},
   "source": [
    "# Pre-experiment check: check the Kalman filter before training"
   ]
  },
  {
   "cell_type": "code",
   "execution_count": 10,
   "metadata": {
    "ExecuteTime": {
     "end_time": "2021-03-01T19:58:42.638333Z",
     "start_time": "2021-03-01T19:58:42.284137Z"
    }
   },
   "outputs": [
    {
     "name": "stdout",
     "output_type": "stream",
     "text": [
      "we replace the encoder using the weights\n",
      "assume, they are all randomly initialized get the first decoder\n",
      "get a handle to the first decoder\n",
      "we check the new decoder C matrix:\n"
     ]
    },
    {
     "data": {
      "image/png": "[encoded data removed]",
      "text/plain": [
       "<Figure size 864x288 with 3 Axes>"
      ]
     },
     "metadata": {
      "needs_background": "light"
     },
     "output_type": "display_data"
    }
   ],
   "source": [
    "print('we replace the encoder using the weights')\n",
    "print('assume, they are all randomly initialized get the first decoder')\n",
    "print('get a handle to the first decoder')\n",
    "first_decoder = exps[0].decoder\n",
    "target_C = first_decoder.filt.C\n",
    "    \n",
    "#replace the decoder\n",
    "for i,e in enumerate(exps):\n",
    "    weights.change_target_kalman_filter_with_a_C_mat(e.decoder.filt, target_C, debug=False)\n",
    "    \n",
    "print('we check the new decoder C matrix:')\n",
    "\n",
    "decoder_c_figure, axs = plt.subplots(nrows=1, \n",
    "                               ncols=NUM_EXP, figsize = [12,4])\n",
    "decoder_c_figure.suptitle('Decoder C matrix ')\n",
    "\n",
    "for i,e in enumerate(exps):\n",
    "    e.decoder.plot_C(ax = axs[i])\n",
    "    axs[i].set_title(exp_conds[i])"
   ]
  },
  {
   "cell_type": "markdown",
   "metadata": {},
   "source": [
    "# Experiment run: assemble into a complete loop"
   ]
  },
  {
   "cell_type": "markdown",
   "metadata": {},
   "source": [
    "##  define the function"
   ]
  },
  {
   "cell_type": "code",
   "execution_count": 11,
   "metadata": {
    "ExecuteTime": {
     "end_time": "2021-03-01T19:58:42.649227Z",
     "start_time": "2021-03-01T19:58:42.639199Z"
    },
    "scrolled": true
   },
   "outputs": [],
   "source": [
    "#make this into a loop\n",
    "\n",
    "def run_exp_loop(exp,  **kwargs):\n",
    "        # riglib.experiment: line 597 - 601\n",
    "    #exp.next_trial = next(exp.gen)\n",
    "    # -+exp._parse_next_trial()np.arraynp.array\n",
    "\n",
    "\n",
    "    # we need to set the initial state\n",
    "    # per fsm.run:  line 138\n",
    "\n",
    "\n",
    "    # Initialize the FSM before the loop\n",
    "    exp.set_state(exp.state)\n",
    "    \n",
    "    finished_trials = exp.calc_state_occurrences('wait')\n",
    "    print(f'finished: {finished_trials}')\n",
    "\n",
    "\n",
    "    while exp.state is not None:\n",
    "\n",
    "        # exp.fsm_tick()\n",
    "\n",
    "        ### Execute commands#####\n",
    "        exp.exec_state_specific_actions(exp.state)\n",
    "\n",
    "        ###run the bmi loop #####\n",
    "        # _cycle\n",
    "\n",
    "        # bmi feature extraction, eh\n",
    "        #riglib.bmi: 1202\n",
    "        feature_data = exp.get_features()\n",
    "\n",
    "        # Determine the target_state and save to file\n",
    "        current_assist_level = exp.get_current_assist_level()\n",
    "        target_state = exp.get_target_BMI_state(exp.decoder.states)\n",
    "\n",
    "        # Determine the assistive control inputs to the Decoder\n",
    "        #update assistive control level\n",
    "        exp.update_level()\n",
    "        if np.any(current_assist_level) > 0:\n",
    "            current_state = exp.get_current_state()\n",
    "\n",
    "            if target_state.shape[1] > 1:\n",
    "                assist_kwargs = exp.assister(current_state, \n",
    "                                             target_state[:,0].reshape(-1,1), \n",
    "                                             current_assist_level, mode= exp.state)\n",
    "            else:\n",
    "                assist_kwargs = exp.assister(current_state, \n",
    "                                              target_state, \n",
    "                                              current_assist_level, \n",
    "                                              mode= exp.state)\n",
    "\n",
    "            kwargs.update(assist_kwargs)\n",
    "            \n",
    "        \n",
    "\n",
    "        # decode the new features\n",
    "        # riglib.bmi.bmiloop: line 1245\n",
    "        neural_features = feature_data[exp.extractor.feature_type]\n",
    "\n",
    "        # call decoder.\n",
    "        #tmp = exp.call_decoder(neural_features, target_state, **kwargs)\n",
    "        neural_obs = neural_features\n",
    "        learn_flag = exp.learn_flag\n",
    "        task_state = exp.state\n",
    "\n",
    "        n_units, n_obs = neural_obs.shape\n",
    "        # If the target is specified as a 1D position, tile to match\n",
    "        # the number of dimensions as the neural features\n",
    "        if np.ndim(target_state) == 1 or (target_state.shape[1] == 1 and n_obs > 1):\n",
    "            target_state = np.tile(target_state, [1, n_obs])\n",
    "\n",
    "        decoded_states = np.zeros([exp.bmi_system.decoder.n_states, n_obs])\n",
    "        update_flag = False\n",
    "\n",
    "        for k in range(n_obs):\n",
    "            neural_obs_k = neural_obs[:, k].reshape(-1, 1)\n",
    "            target_state_k = target_state[:, k]\n",
    "\n",
    "            # NOTE: the conditional below is *only* for compatibility with older Carmena\n",
    "            # lab data collected using a different MATLAB-based system. In all python cases,\n",
    "            # the task_state should never contain NaN values.\n",
    "            if np.any(np.isnan(target_state_k)):\n",
    "                task_state = 'no_target'\n",
    "\n",
    "            #################################\n",
    "            # Decode the current observation\n",
    "            #################################\n",
    "            decodable_obs, decode = exp.bmi_system.feature_accumulator(\n",
    "                neural_obs_k)\n",
    "            if decode:  # if a new decodable observation is available from the feature accumulator\n",
    "                prev_state = exp.bmi_system.decoder.get_state()\n",
    "\n",
    "                exp.bmi_system.decoder(decodable_obs, **kwargs)\n",
    "                # Determine whether the current state or previous state should be given to the learner\n",
    "                if exp.bmi_system.learner.input_state_index == 0:\n",
    "                    learner_state = exp.bmi_system.decoder.get_state()\n",
    "                elif exp.bmi_system.learner.input_state_index == -1:\n",
    "                    learner_state = prev_state\n",
    "                else:\n",
    "                    print((\"Not implemented yet: %d\" %\n",
    "                           exp.bmi_system.learner.input_state_index))\n",
    "                    learner_state = prev_state\n",
    "\n",
    "                if learn_flag:\n",
    "                    exp.bmi_system.learner(decodable_obs.copy(), learner_state, target_state_k, exp.bmi_system.decoder.get_state(\n",
    "                    ), task_state, state_order=exp.bmi_system.decoder.ssm.state_order)\n",
    "\n",
    "            decoded_states[:, k] = exp.bmi_system.decoder.get_state()\n",
    "\n",
    "            ############################\n",
    "            # Update decoder parameters\n",
    "            ############################\n",
    "            if exp.bmi_system.learner.is_ready():\n",
    "                batch_data = exp.bmi_system.learner.get_batch()\n",
    "                batch_data['decoder'] = exp.bmi_system.decoder\n",
    "                kwargs.update(batch_data)\n",
    "                exp.bmi_system.updater(**kwargs)\n",
    "                exp.bmi_system.learner.disable()\n",
    "\n",
    "            new_params = None  # by default, no new parameters are available\n",
    "            if exp.bmi_system.has_updater:\n",
    "                new_params = copy.deepcopy(exp.bmi_system.updater.get_result())\n",
    "\n",
    "            # Update the decoder if new parameters are available\n",
    "            if not (new_params is None):\n",
    "                exp.bmi_system.decoder.update_params(\n",
    "                    new_params, **exp.bmi_system.updater.update_kwargs)\n",
    "                new_params['intended_kin'] = batch_data['intended_kin']\n",
    "                new_params['spike_counts_batch'] = batch_data['spike_counts']\n",
    "\n",
    "                exp.bmi_system.learner.enable()\n",
    "                update_flag = True\n",
    "\n",
    "                # Save new parameters to parameter history\n",
    "                exp.bmi_system.param_hist.append(new_params)\n",
    "\n",
    "\n",
    "\n",
    "        # saved as task data\n",
    "        # return decoded_states, update_flag\n",
    "        tmp = decoded_states\n",
    "        exp.task_data['internal_decoder_state'] = tmp\n",
    "\n",
    "        # reset the plant position\n",
    "        # @riglib.bmi.BMILoop.move_plant  line:1254\n",
    "        exp.plant.drive(exp.decoder)\n",
    "\n",
    "        # check state transitions and run the FSM.\n",
    "        current_state = exp.state\n",
    "\n",
    "        # iterate over the possible events which could move the task out of the current state\n",
    "        for event in exp.status[current_state]:\n",
    "            # if the event has occurred\n",
    "            if exp.test_state_transition_event(event):\n",
    "                # execute commands to end the current state\n",
    "                exp.end_state(current_state)\n",
    "\n",
    "                # trigger the transition for the event\n",
    "                exp.trigger_event(event)\n",
    "\n",
    "                # stop searching for transition events (transition events must be\n",
    "                # mutually exclusive for this FSM to function properly)\n",
    "                break\n",
    "\n",
    "        # sort out the loop params.\n",
    "        # inc cycle count\n",
    "        exp.cycle_count += 1\n",
    "\n",
    "        # save target data as was done in manualControlTasks._cycle\n",
    "        exp.task_data['target'] = exp.target_location.copy()\n",
    "        exp.task_data['target_index'] = exp.target_index\n",
    "\n",
    "        #done in bmi:_cycle after move_plant\n",
    "        exp.task_data['loop_time'] = exp.iter_time()\n",
    "\n",
    "\n",
    "        #fb_controller data\n",
    "        exp.task_data['target_state'] = target_state\n",
    "\n",
    "        #encoder data\n",
    "        #input to this is actually extractor\n",
    "        exp.task_data['ctrl_input'] = np.reshape(exp.extractor.sim_ctrl, (1,-1))\n",
    "\n",
    "        #actually output\n",
    "        exp.task_data['spike_counts'] = feature_data['spike_counts']\n",
    "\n",
    "\n",
    "        #save the decoder_state\n",
    "        #from BMILoop.move_plant\n",
    "        exp.task_data['decoder_state'] = exp.decoder.get_state(shape=(-1,1))\n",
    "        \n",
    "        #save bmi_data\n",
    "        exp.task_data['update_bmi'] = update_flag\n",
    "\n",
    "\n",
    "        # as well as plant data.\n",
    "        plant_data = exp.plant.get_data_to_save()\n",
    "        for key in plant_data:\n",
    "            exp.task_data[key] = plant_data[key]\n",
    "\n",
    "        # clda data handled in the above call.\n",
    "\n",
    "        # save to the list hisory of data.\n",
    "        exp.task_data_hist.append(exp.task_data.copy())\n",
    "        \n",
    "        #print out the trial update whenever wait count changes, alright. \n",
    "        if finished_trials != exp.calc_state_occurrences('wait'):\n",
    "            finished_trials = exp.calc_state_occurrences('wait')\n",
    "            print(f'finished trials :{finished_trials} with a current assist level of {exp.get_current_assist_level()}')\n",
    "\n",
    "\n",
    "    if exp.verbose:\n",
    "        print(\"end of FSM.run, task state is\", exp.state)\n",
    "    \n",
    "    \n"
   ]
  },
  {
   "cell_type": "markdown",
   "metadata": {},
   "source": [
    "## actually running the experiments"
   ]
  },
  {
   "cell_type": "code",
   "execution_count": 12,
   "metadata": {
    "ExecuteTime": {
     "end_time": "2021-03-01T19:59:28.831260Z",
     "start_time": "2021-03-01T19:58:42.650095Z"
    },
    "scrolled": true
   },
   "outputs": [
    {
     "name": "stdout",
     "output_type": "stream",
     "text": [
      "runseq\n",
      "finished: 1\n",
      "assist_level:  0.05\n"
     ]
    },
    {
     "name": "stderr",
     "output_type": "stream",
     "text": [
      "/home/sijia-aw/BMi3D_my/lab_bmi3d/riglib/bmi/kfdecoder.py:372: FutureWarning: `rcond` parameter will change to the default of machine precision times ``max(M, N)`` where M and N are the input matrix dimensions.\n",
      "To use the future default and silence this warning we advise to pass `rcond=None`, to keep using the old, explicitly pass `rcond=-1`.\n",
      "  C = np.mat(np.linalg.lstsq(X.T, Y.T)[0].T)\n"
     ]
    },
    {
     "name": "stdout",
     "output_type": "stream",
     "text": [
      "assist_level:  0.045\n",
      "finished trials :2 with a current assist level of 0.0410125\n",
      "assist_level:  0.04\n",
      "assist_level:  0.035\n",
      "finished trials :3 with a current assist level of 0.031856944444444445\n",
      "finished trials :4 with a current assist level of 0.03155694444444444\n",
      "assist_level:  0.03\n",
      "finished trials :5 with a current assist level of 0.029973611111111114\n",
      "finished trials :6 with a current assist level of 0.029356944444444446\n",
      "finished trials :7 with a current assist level of 0.028948611111111112\n",
      "finished trials :8 with a current assist level of 0.02861388888888889\n",
      "finished trials :9 with a current assist level of 0.02804861111111111\n",
      "finished trials :10 with a current assist level of 0.027472222222222224\n",
      "finished trials :11 with a current assist level of 0.026631944444444444\n",
      "finished trials :12 with a current assist level of 0.026013888888888892\n",
      "finished trials :13 with a current assist level of 0.025565277777777784\n",
      "finished trials :14 with a current assist level of 0.025023611111111115\n",
      "assist_level:  0.025\n",
      "finished trials :15 with a current assist level of 0.024722222222222225\n",
      "finished trials :16 with a current assist level of 0.02444722222222222\n",
      "finished trials :17 with a current assist level of 0.02398888888888889\n",
      "finished trials :18 with a current assist level of 0.023622222222222225\n",
      "finished trials :19 with a current assist level of 0.02320555555555556\n",
      "finished trials :20 with a current assist level of 0.02270555555555556\n",
      "finished trials :21 with a current assist level of 0.022330555555555562\n",
      "finished trials :22 with a current assist level of 0.021163888888888895\n",
      "finished trials :23 with a current assist level of 0.02063888888888889\n",
      "finished trials :24 with a current assist level of 0.020106944444444448\n",
      "assist_level:  0.020000000000000004\n",
      "finished trials :25 with a current assist level of 0.019763888888888893\n",
      "finished trials :26 with a current assist level of 0.019423611111111114\n",
      "finished trials :27 with a current assist level of 0.018722222222222223\n",
      "finished trials :28 with a current assist level of 0.016697222222222224\n",
      "finished trials :29 with a current assist level of 0.016205555555555556\n",
      "finished trials :30 with a current assist level of 0.015013888888888889\n",
      "assist_level:  0.015000000000000006\n",
      "finished trials :31 with a current assist level of 0.013997222222222223\n",
      "finished trials :32 with a current assist level of 0.013722222222222226\n",
      "finished trials :33 with a current assist level of 0.012847222222222225\n",
      "finished trials :34 with a current assist level of 0.012190277777777779\n",
      "finished trials :35 with a current assist level of 0.011356944444444447\n",
      "finished trials :36 with a current assist level of 0.010981944444444447\n",
      "finished trials :37 with a current assist level of 0.010465277777777775\n",
      "assist_level:  0.009999999999999995\n",
      "finished trials :38 with a current assist level of 0.007631944444444441\n",
      "finished trials :39 with a current assist level of 0.007123611111111108\n",
      "finished trials :40 with a current assist level of 0.005498611111111114\n",
      "finished trials :41 with a current assist level of 0.005199999999999996\n",
      "assist_level:  0.0049999999999999975\n",
      "finished trials :42 with a current assist level of 0.004390277777777785\n",
      "finished trials :43 with a current assist level of 0.0032416666666666635\n",
      "finished trials :44 with a current assist level of 0.0029\n",
      "finished trials :45 with a current assist level of 0.0020750000000000005\n",
      "finished trials :46 with a current assist level of 0.000899999999999998\n",
      "assist_level at final value after 43 successful trials\n",
      "finished trials :47 with a current assist level of 0.0\n",
      "finished trials :48 with a current assist level of 0.0\n",
      "finished trials :49 with a current assist level of 0.0\n",
      "finished trials :50 with a current assist level of 0.0\n",
      "finished trials :51 with a current assist level of 0.0\n",
      "finished trials :52 with a current assist level of 0.0\n",
      "finished trials :53 with a current assist level of 0.0\n",
      "finished trials :54 with a current assist level of 0.0\n",
      "finished trials :55 with a current assist level of 0.0\n",
      "finished trials :56 with a current assist level of 0.0\n",
      "finished trials :57 with a current assist level of 0.0\n",
      "finished trials :58 with a current assist level of 0.0\n",
      "finished trials :59 with a current assist level of 0.0\n",
      "finished trials :60 with a current assist level of 0.0\n",
      "finished trials :61 with a current assist level of 0.0\n",
      "finished trials :62 with a current assist level of 0.0\n",
      "finished trials :63 with a current assist level of 0.0\n",
      "finished trials :64 with a current assist level of 0.0\n",
      "finished trials :65 with a current assist level of 0.0\n",
      "finished trials :66 with a current assist level of 0.0\n",
      "finished trials :67 with a current assist level of 0.0\n",
      "finished trials :68 with a current assist level of 0.0\n",
      "finished trials :69 with a current assist level of 0.0\n",
      "finished trials :70 with a current assist level of 0.0\n",
      "finished trials :71 with a current assist level of 0.0\n",
      "finished trials :72 with a current assist level of 0.0\n",
      "finished trials :73 with a current assist level of 0.0\n",
      "finished trials :74 with a current assist level of 0.0\n",
      "finished trials :75 with a current assist level of 0.0\n",
      "finished trials :76 with a current assist level of 0.0\n",
      "finished trials :77 with a current assist level of 0.0\n",
      "finished trials :78 with a current assist level of 0.0\n",
      "finished trials :79 with a current assist level of 0.0\n",
      "finished trials :80 with a current assist level of 0.0\n",
      "finished trials :81 with a current assist level of 0.0\n",
      "end of FSM.run, task state is None\n",
      "Finished running  enc. mean FR:1 Hz\n",
      "runseq\n",
      "finished: 1\n",
      "finished trials :2 with a current assist level of 0.04809722222222222\n",
      "finished trials :3 with a current assist level of 0.04788194444444445\n",
      "finished trials :4 with a current assist level of 0.04763194444444445\n",
      "finished trials :5 with a current assist level of 0.04738888888888889\n",
      "finished trials :6 with a current assist level of 0.047150000000000004\n",
      "finished trials :7 with a current assist level of 0.04693194444444445\n",
      "finished trials :8 with a current assist level of 0.046733333333333335\n",
      "finished trials :9 with a current assist level of 0.04649166666666667\n",
      "finished trials :10 with a current assist level of 0.046248611111111115\n",
      "finished trials :11 with a current assist level of 0.045983333333333334\n",
      "finished trials :12 with a current assist level of 0.045783333333333336\n",
      "finished trials :13 with a current assist level of 0.045533333333333335\n",
      "finished trials :14 with a current assist level of 0.045283333333333335\n",
      "finished trials :15 with a current assist level of 0.04494027777777778\n",
      "finished trials :16 with a current assist level of 0.04464027777777778\n",
      "finished trials :17 with a current assist level of 0.04435\n",
      "finished trials :18 with a current assist level of 0.044083333333333335\n",
      "finished trials :19 with a current assist level of 0.04385\n",
      "finished trials :20 with a current assist level of 0.043633333333333336\n",
      "finished trials :21 with a current assist level of 0.04340555555555556\n",
      "finished trials :22 with a current assist level of 0.04316666666666667\n",
      "finished trials :23 with a current assist level of 0.04291666666666667\n",
      "finished trials :24 with a current assist level of 0.042675000000000005\n",
      "finished trials :25 with a current assist level of 0.04244166666666667\n",
      "finished trials :26 with a current assist level of 0.042197222222222226\n",
      "finished trials :27 with a current assist level of 0.041958333333333334\n",
      "finished trials :28 with a current assist level of 0.04169166666666667\n",
      "finished trials :29 with a current assist level of 0.041433333333333336\n",
      "finished trials :30 with a current assist level of 0.04116666666666667\n",
      "finished trials :31 with a current assist level of 0.04088194444444444\n",
      "finished trials :32 with a current assist level of 0.04063194444444444\n",
      "finished trials :33 with a current assist level of 0.04034027777777778\n",
      "finished trials :34 with a current assist level of 0.040125\n",
      "finished trials :35 with a current assist level of 0.039900000000000005\n",
      "finished trials :36 with a current assist level of 0.039655555555555555\n",
      "finished trials :37 with a current assist level of 0.03941666666666667\n",
      "finished trials :38 with a current assist level of 0.039156944444444446\n",
      "finished trials :39 with a current assist level of 0.038913888888888894\n",
      "finished trials :40 with a current assist level of 0.0386\n",
      "finished trials :41 with a current assist level of 0.03839166666666667\n",
      "finished trials :42 with a current assist level of 0.03814861111111111\n"
     ]
    },
    {
     "name": "stdout",
     "output_type": "stream",
     "text": [
      "finished trials :43 with a current assist level of 0.03788333333333334\n",
      "finished trials :44 with a current assist level of 0.03764861111111111\n",
      "finished trials :45 with a current assist level of 0.03744027777777778\n",
      "finished trials :46 with a current assist level of 0.03703888888888889\n",
      "finished trials :47 with a current assist level of 0.03662222222222222\n",
      "finished trials :48 with a current assist level of 0.03632361111111111\n",
      "finished trials :49 with a current assist level of 0.03566388888888889\n",
      "finished trials :50 with a current assist level of 0.03544027777777778\n",
      "finished trials :51 with a current assist level of 0.03519027777777778\n",
      "finished trials :52 with a current assist level of 0.03495555555555556\n",
      "finished trials :53 with a current assist level of 0.03469861111111111\n",
      "finished trials :54 with a current assist level of 0.034383333333333335\n",
      "finished trials :55 with a current assist level of 0.03399722222222222\n",
      "finished trials :56 with a current assist level of 0.03370555555555556\n",
      "finished trials :57 with a current assist level of 0.033398611111111115\n",
      "finished trials :58 with a current assist level of 0.033174999999999996\n",
      "finished trials :59 with a current assist level of 0.03294027777777778\n",
      "finished trials :60 with a current assist level of 0.03271666666666667\n",
      "finished trials :61 with a current assist level of 0.032538888888888895\n",
      "finished trials :62 with a current assist level of 0.03171666666666667\n",
      "finished trials :63 with a current assist level of 0.031406944444444446\n",
      "finished trials :64 with a current assist level of 0.03105\n",
      "finished trials :65 with a current assist level of 0.03076527777777778\n",
      "finished trials :66 with a current assist level of 0.030431944444444445\n",
      "finished trials :67 with a current assist level of 0.030098611111111114\n",
      "finished trials :68 with a current assist level of 0.02984166666666667\n",
      "finished trials :69 with a current assist level of 0.029580555555555554\n",
      "finished trials :70 with a current assist level of 0.029231944444444446\n",
      "finished trials :71 with a current assist level of 0.028955555555555557\n",
      "finished trials :72 with a current assist level of 0.028647222222222223\n",
      "finished trials :73 with a current assist level of 0.028381944444444446\n",
      "finished trials :74 with a current assist level of 0.028138888888888894\n",
      "finished trials :75 with a current assist level of 0.027888888888888894\n",
      "finished trials :76 with a current assist level of 0.02768055555555556\n",
      "finished trials :77 with a current assist level of 0.02742361111111111\n",
      "finished trials :78 with a current assist level of 0.026988888888888892\n",
      "finished trials :79 with a current assist level of 0.026773611111111116\n",
      "finished trials :80 with a current assist level of 0.026506944444444444\n",
      "finished trials :81 with a current assist level of 0.026273611111111116\n",
      "end of FSM.run, task state is None\n",
      "Finished running  enc. mean FR:10 Hz\n",
      "runseq\n",
      "finished: 1\n",
      "finished trials :2 with a current assist level of 0.048898611111111115\n",
      "finished trials :3 with a current assist level of 0.04870555555555556\n",
      "finished trials :4 with a current assist level of 0.04850694444444445\n",
      "finished trials :5 with a current assist level of 0.04830555555555556\n",
      "finished trials :6 with a current assist level of 0.04809722222222222\n",
      "finished trials :7 with a current assist level of 0.04788888888888889\n",
      "finished trials :8 with a current assist level of 0.04768055555555556\n",
      "finished trials :9 with a current assist level of 0.047455555555555556\n",
      "finished trials :10 with a current assist level of 0.047248611111111116\n",
      "finished trials :11 with a current assist level of 0.04703333333333334\n",
      "finished trials :12 with a current assist level of 0.046816666666666666\n",
      "finished trials :13 with a current assist level of 0.04659861111111111\n",
      "finished trials :14 with a current assist level of 0.04638055555555556\n",
      "finished trials :15 with a current assist level of 0.04618194444444445\n",
      "finished trials :16 with a current assist level of 0.045956944444444446\n",
      "finished trials :17 with a current assist level of 0.045748611111111115\n",
      "finished trials :18 with a current assist level of 0.045547222222222225\n",
      "finished trials :19 with a current assist level of 0.04535694444444445\n",
      "finished trials :20 with a current assist level of 0.04514861111111111\n",
      "finished trials :21 with a current assist level of 0.044950000000000004\n",
      "finished trials :22 with a current assist level of 0.044741666666666666\n",
      "finished trials :23 with a current assist level of 0.04453055555555556\n",
      "finished trials :24 with a current assist level of 0.04431666666666667\n",
      "finished trials :25 with a current assist level of 0.0441\n",
      "finished trials :26 with a current assist level of 0.04386388888888889\n",
      "finished trials :27 with a current assist level of 0.043666666666666666\n",
      "finished trials :28 with a current assist level of 0.04344722222222223\n",
      "finished trials :29 with a current assist level of 0.04321666666666667\n",
      "finished trials :30 with a current assist level of 0.043008333333333336\n",
      "finished trials :31 with a current assist level of 0.04280833333333334\n",
      "finished trials :32 with a current assist level of 0.04259166666666667\n",
      "finished trials :33 with a current assist level of 0.042275\n",
      "finished trials :34 with a current assist level of 0.041875\n",
      "finished trials :35 with a current assist level of 0.04158333333333333\n",
      "finished trials :36 with a current assist level of 0.04133333333333333\n",
      "finished trials :37 with a current assist level of 0.04109027777777778\n",
      "finished trials :38 with a current assist level of 0.04088194444444444\n",
      "finished trials :39 with a current assist level of 0.040683333333333335\n",
      "finished trials :40 with a current assist level of 0.040475000000000004\n",
      "finished trials :41 with a current assist level of 0.04021527777777778\n",
      "finished trials :42 with a current assist level of 0.039933333333333335\n",
      "finished trials :43 with a current assist level of 0.03971527777777778\n",
      "finished trials :44 with a current assist level of 0.039483333333333336\n",
      "finished trials :45 with a current assist level of 0.03924027777777778\n",
      "finished trials :46 with a current assist level of 0.03896666666666667\n",
      "finished trials :47 with a current assist level of 0.03877361111111111\n",
      "finished trials :48 with a current assist level of 0.03855\n",
      "finished trials :49 with a current assist level of 0.038330555555555555\n",
      "finished trials :50 with a current assist level of 0.038122222222222224\n",
      "finished trials :51 with a current assist level of 0.03791388888888889\n",
      "finished trials :52 with a current assist level of 0.03769861111111111\n",
      "finished trials :53 with a current assist level of 0.03748194444444445\n",
      "finished trials :54 with a current assist level of 0.03726666666666667\n",
      "finished trials :55 with a current assist level of 0.03703888888888889\n",
      "finished trials :56 with a current assist level of 0.03681527777777778\n",
      "finished trials :57 with a current assist level of 0.0366\n",
      "finished trials :58 with a current assist level of 0.03638333333333334\n",
      "finished trials :59 with a current assist level of 0.036175\n",
      "finished trials :60 with a current assist level of 0.03594861111111111\n",
      "finished trials :61 with a current assist level of 0.03574722222222222\n",
      "finished trials :62 with a current assist level of 0.035475\n",
      "finished trials :63 with a current assist level of 0.03516388888888889\n",
      "finished trials :64 with a current assist level of 0.034898611111111116\n",
      "finished trials :65 with a current assist level of 0.034675000000000004\n",
      "finished trials :66 with a current assist level of 0.03448194444444445\n",
      "finished trials :67 with a current assist level of 0.03426666666666667\n",
      "finished trials :68 with a current assist level of 0.03403888888888889\n",
      "finished trials :69 with a current assist level of 0.03383055555555556\n",
      "finished trials :70 with a current assist level of 0.03361527777777778\n",
      "finished trials :71 with a current assist level of 0.033398611111111115\n",
      "finished trials :72 with a current assist level of 0.03319027777777778\n",
      "finished trials :73 with a current assist level of 0.032981944444444446\n",
      "finished trials :74 with a current assist level of 0.03276527777777778\n",
      "finished trials :75 with a current assist level of 0.032556944444444444\n",
      "finished trials :76 with a current assist level of 0.03234861111111111\n",
      "finished trials :77 with a current assist level of 0.03213333333333333\n",
      "finished trials :78 with a current assist level of 0.031925\n",
      "finished trials :79 with a current assist level of 0.03171666666666667\n",
      "finished trials :80 with a current assist level of 0.031497222222222225\n"
     ]
    },
    {
     "name": "stdout",
     "output_type": "stream",
     "text": [
      "finished trials :81 with a current assist level of 0.031288888888888894\n",
      "end of FSM.run, task state is None\n",
      "Finished running  enc. mean FR:100 Hz\n"
     ]
    }
   ],
   "source": [
    "for i,e in enumerate(exps):\n",
    "    run_exp_loop(e, **kwargs_exps[i])\n",
    "    print(f'Finished running  {exp_conds[i]}')"
   ]
  },
  {
   "cell_type": "markdown",
   "metadata": {
    "ExecuteTime": {
     "end_time": "2021-01-25T01:00:26.027506Z",
     "start_time": "2021-01-25T01:00:26.024320Z"
    }
   },
   "source": [
    "# Postprocessing the data for loading"
   ]
  },
  {
   "cell_type": "code",
   "execution_count": 13,
   "metadata": {
    "ExecuteTime": {
     "end_time": "2021-03-01T19:59:28.834477Z",
     "start_time": "2021-03-01T19:59:28.832109Z"
    }
   },
   "outputs": [
    {
     "name": "stdout",
     "output_type": "stream",
     "text": [
      "78\n",
      "80\n",
      "80\n"
     ]
    }
   ],
   "source": [
    "for e in  exps: print(e.calc_state_occurrences('reward'))"
   ]
  },
  {
   "cell_type": "markdown",
   "metadata": {},
   "source": [
    "## declare defs and conventions"
   ]
  },
  {
   "cell_type": "code",
   "execution_count": 14,
   "metadata": {
    "ExecuteTime": {
     "end_time": "2021-03-01T19:59:28.844098Z",
     "start_time": "2021-03-01T19:59:28.835283Z"
    }
   },
   "outputs": [],
   "source": [
    "FRAME_RATE = 60\n",
    "INT_WINDOW_TIME = 10 # s for looking at sample raw data\n",
    "\n",
    "# some conventions as we go down the loop\n",
    "X_VEL_STATE_IND = 3\n",
    "Y_VEL_STATE_IND = 5\n",
    "X_POS_STATE_IND = 0\n",
    "Y_POS_STATE_IND = 2\n",
    "\n",
    "state_indices = [X_POS_STATE_IND,\n",
    "                 Y_POS_STATE_IND,\n",
    "                 X_VEL_STATE_IND,\n",
    "                 Y_VEL_STATE_IND]\n",
    "state_names = ['x pos ', 'y pos', 'x vel', 'y vel']\n",
    "\n",
    "\n",
    "INT_WIN_SAMPLES = INT_WINDOW_TIME * FRAME_RATE\n",
    "\n"
   ]
  },
  {
   "cell_type": "markdown",
   "metadata": {},
   "source": [
    "## Refactor out the data"
   ]
  },
  {
   "cell_type": "code",
   "execution_count": 15,
   "metadata": {
    "ExecuteTime": {
     "end_time": "2021-03-01T19:59:28.957801Z",
     "start_time": "2021-03-01T19:59:28.844957Z"
    }
   },
   "outputs": [
    {
     "data": {
      "text/plain": [
       "dtype([('cursor', '<f8', (3,)), ('obs_t', '<f8', (4, 1)), ('K', '<f8', (7, 4)), ('KC', '<f8', (7, 7)), ('pred_state_mean', '<f8', (7, 1)), ('post_state_mean', '<f8', (7, 1)), ('pred_state_P', '<f8', (7, 7)), ('post_state_P', '<f8', (7, 7)), ('loop_time', '<f8', (1,)), ('decoder_state', '<f8', (7, 1)), ('internal_decoder_state', '<f8', (7, 1)), ('target_state', '<f8', (7, 1)), ('update_bmi', '<f8', (1,)), ('spike_counts', '<f8', (4, 1)), ('bin_edges', '<f8', (2,)), ('ctrl_input', '<f8', (7,)), ('assist_level', '<f8', (1,)), ('target', '<f8', (3,)), ('target_index', '<i4', (1,))])"
      ]
     },
     "execution_count": 15,
     "metadata": {},
     "output_type": "execute_result"
    }
   ],
   "source": [
    "task_data_hist_np_all = [np.array(e.task_data_hist) for e in exps]\n",
    "len(task_data_hist_np_all)\n",
    "task_data_hist_np_all[0].dtype"
   ]
  },
  {
   "cell_type": "markdown",
   "metadata": {},
   "source": [
    "## Finished time in seconds"
   ]
  },
  {
   "cell_type": "code",
   "execution_count": 16,
   "metadata": {
    "ExecuteTime": {
     "end_time": "2021-03-01T19:59:28.961182Z",
     "start_time": "2021-03-01T19:59:28.958678Z"
    }
   },
   "outputs": [
    {
     "data": {
      "text/plain": [
       "[995, 284, 224]"
      ]
     },
     "execution_count": 16,
     "metadata": {},
     "output_type": "execute_result"
    }
   ],
   "source": [
    "finished_times_in_seconds = [int(len(s)/FRAME_RATE) for s in task_data_hist_np_all]\n",
    "finished_times_in_seconds"
   ]
  },
  {
   "cell_type": "markdown",
   "metadata": {},
   "source": [
    "# Post data analysis"
   ]
  },
  {
   "cell_type": "markdown",
   "metadata": {},
   "source": [
    "## Overall  trial statistics succuss rate)"
   ]
  },
  {
   "cell_type": "code",
   "execution_count": 17,
   "metadata": {
    "ExecuteTime": {
     "end_time": "2021-03-01T19:59:28.968485Z",
     "start_time": "2021-03-01T19:59:28.961985Z"
    }
   },
   "outputs": [],
   "source": [
    "def filter_state(state_log:list, state_to_match:str)->list:\n",
    "    '''#set axis limits of plot (x=0 to 20, y=0 to 20)\n",
    "plt.axis([0, 20, 0, 20])\n",
    "plt.axis(\"equal\")\n",
    "\n",
    "    state_log: a list of tuples (state:string, start_time: float)\n",
    "    state_to_watch\n",
    "    \n",
    "    returns a list of element type\n",
    "    '''\n",
    "    \n",
    "    return list(filter(lambda k: k[0] == state_to_match, state_log) )\n",
    "\n",
    "def calc_inter_wait_times(wait_log: list)-> list:\n",
    "    \"\"\"\n",
    "    state_log: a list of tuples (\"wait\", start_time: float)\n",
    "    return a list of tuples: (\"wait\", start_time: float, diff_time)\n",
    "    \"\"\"\n",
    "    wait_log_with_diff = list()\n",
    "    for i, wait_state in enumerate(wait_log):\n",
    "        if i == len(wait_log)-1: #there is nothing to subtract, just put zero.\n",
    "            wait_log_with_diff.append((wait_state[1],  0))\n",
    "            \n",
    "        else:\n",
    "            finish_time = wait_log[i+1][1]\n",
    "            wait_log_with_diff.append((wait_state[1],  finish_time - wait_state[1]))\n",
    "    \n",
    "    return np.array(wait_log_with_diff[:-1])"
   ]
  },
  {
   "cell_type": "code",
   "execution_count": 18,
   "metadata": {
    "ExecuteTime": {
     "end_time": "2021-03-01T19:59:28.976202Z",
     "start_time": "2021-03-01T19:59:28.969461Z"
    }
   },
   "outputs": [],
   "source": [
    "state_logs = [e.state_log for e in exps]\n"
   ]
  },
  {
   "cell_type": "code",
   "execution_count": 19,
   "metadata": {
    "ExecuteTime": {
     "end_time": "2021-03-01T19:59:28.984355Z",
     "start_time": "2021-03-01T19:59:28.977065Z"
    }
   },
   "outputs": [],
   "source": [
    "STATE_CUT_NAME =  'wait'\n",
    "#get the state logs\n",
    "wait_logs = [filter_state(s, STATE_CUT_NAME) for s in state_logs]\n",
    "\n",
    "inter_wait_times = [calc_inter_wait_times(w) for w in wait_logs]\n",
    "#this has both start times "
   ]
  },
  {
   "cell_type": "code",
   "execution_count": 20,
   "metadata": {
    "ExecuteTime": {
     "end_time": "2021-03-01T19:59:29.102180Z",
     "start_time": "2021-03-01T19:59:28.985295Z"
    },
    "scrolled": true
   },
   "outputs": [
    {
     "data": {
      "text/plain": [
       "Text(0, 0.5, 'Trial time (s)')"
      ]
     },
     "execution_count": 20,
     "metadata": {},
     "output_type": "execute_result"
    },
    {
     "data": {
      "image/png": "[encoded data removed]",
      "text/plain": [
       "<Figure size 432x288 with 1 Axes>"
      ]
     },
     "metadata": {
      "needs_background": "light"
     },
     "output_type": "display_data"
    }
   ],
   "source": [
    "\n",
    "\n",
    "for i in inter_wait_times:\n",
    "    plt.scatter(i[:,0], i[:,1])\n",
    "\n",
    "plt.legend(exp_conds)\n",
    "plt.xlabel('Training progression(s)')\n",
    "plt.ylabel('Trial time (s)')"
   ]
  },
  {
   "cell_type": "code",
   "execution_count": 21,
   "metadata": {
    "ExecuteTime": {
     "end_time": "2021-03-01T19:59:29.105161Z",
     "start_time": "2021-03-01T19:59:29.103144Z"
    }
   },
   "outputs": [],
   "source": [
    "wait_time = inter_wait_times[0]\n",
    "task_data_hist_np = task_data_hist_np_all[0]\n",
    "\n"
   ]
  },
  {
   "cell_type": "code",
   "execution_count": 22,
   "metadata": {
    "ExecuteTime": {
     "end_time": "2021-03-01T19:59:29.113070Z",
     "start_time": "2021-03-01T19:59:29.106129Z"
    }
   },
   "outputs": [],
   "source": [
    "def sort_trials(wait_time:list, \n",
    "                target_seq:list,\n",
    "                task_data_hist_np:dict, \n",
    "                dict_keys, FRAME_RATE = 60):\n",
    "    trial_dict = list()\n",
    "    \n",
    "    for i,row in enumerate(wait_time):\n",
    "        start_time = row[0]\n",
    "        inter_wait_time = row[1]\n",
    "\n",
    "        start_sample = int(start_time * FRAME_RATE)\n",
    "        inter_wait_sample = int(inter_wait_time * FRAME_RATE)\n",
    "        stop_sample = start_sample + inter_wait_sample\n",
    "\n",
    "        single_trial_dict = dict()\n",
    "\n",
    "        for k in dict_keys:\n",
    "            \n",
    "            requested_type_data = np.squeeze(task_data_hist_np[k])\n",
    "            single_trial_dict[k] =  requested_type_data[start_sample:stop_sample,\n",
    "                                                       :]\n",
    "        #add more info\n",
    "        single_trial_dict['start_time'] = row[0]\n",
    "        single_trial_dict['inter_wait_time'] = row[1]\n",
    "        \n",
    "        #add target info\n",
    "        single_trial_dict['targets'] = target_seq[i]\n",
    "\n",
    "        #add the dictionary to the list\n",
    "        trial_dict.append(single_trial_dict)\n",
    "        \n",
    "    return trial_dict\n",
    "\n"
   ]
  },
  {
   "cell_type": "code",
   "execution_count": 23,
   "metadata": {
    "ExecuteTime": {
     "end_time": "2021-03-01T19:59:29.124792Z",
     "start_time": "2021-03-01T19:59:29.113953Z"
    }
   },
   "outputs": [
    {
     "data": {
      "text/plain": [
       "3"
      ]
     },
     "execution_count": 23,
     "metadata": {},
     "output_type": "execute_result"
    }
   ],
   "source": [
    "\n",
    "\n",
    "trial_dicts_all = []\n",
    "dict_keys = ['cursor', #behaviour\n",
    "             'ctrl_input', 'spike_counts', #encoder translates intended ctrl into spike counts\n",
    "             'decoder_state']\n",
    "\n",
    "for i in range(NUM_EXP):\n",
    "    wait_time = inter_wait_times[i]\n",
    "    task_data_hist_np = task_data_hist_np_all[i]\n",
    "    \n",
    "    trial_dict_0 = sort_trials(wait_time, \n",
    "                               target_seq,\n",
    "                               task_data_hist_np, dict_keys)\n",
    "    \n",
    "    trial_dicts_all.append(trial_dict_0)\n",
    "\n",
    "len(trial_dicts_all)"
   ]
  },
  {
   "cell_type": "markdown",
   "metadata": {},
   "source": [
    "## Trajectory analysis"
   ]
  },
  {
   "cell_type": "code",
   "execution_count": 24,
   "metadata": {
    "ExecuteTime": {
     "end_time": "2021-03-01T19:59:29.225881Z",
     "start_time": "2021-03-01T19:59:29.127185Z"
    }
   },
   "outputs": [
    {
     "data": {
      "image/png": "[encoded data removed]",
      "text/plain": [
       "<Figure size 432x288 with 1 Axes>"
      ]
     },
     "metadata": {
      "needs_background": "light"
     },
     "output_type": "display_data"
    }
   ],
   "source": [
    "n_roi_trials = N_TRIALS - 1\n",
    "unique_targets =  np.unique(target_seq, axis = 0)\n",
    "\n",
    "\n",
    "X_CURSOR = 0\n",
    "Z_CURSOR = 2\n",
    "CIRCL_ALPHA = 0.2\n",
    "\n",
    "\n",
    "\n",
    "RANGE_LIM =  15\n",
    "figure, axes = plt.subplots() \n",
    "\n",
    "axes.set_xlim(-RANGE_LIM, RANGE_LIM)\n",
    "axes.set_ylim(-RANGE_LIM, RANGE_LIM)\n",
    "\n",
    "CIRCLE_RADIUS = exps[0].target_radius\n",
    "\n",
    "#plot the targets\n",
    "\n",
    "#plot the origin\n",
    "\n",
    "cc = plt.Circle((0,0 ), \n",
    "            radius = CIRCLE_RADIUS,\n",
    "            alpha = CIRCL_ALPHA)\n",
    "\n",
    "axes.add_artist( cc ) \n",
    "\n",
    "for origin_t in unique_targets:\n",
    "    origin = origin_t[0]\n",
    "    t = origin_t[1]\n",
    "\n",
    "    cc = plt.Circle((t[X_CURSOR],t[Z_CURSOR] ), \n",
    "                    radius = CIRCLE_RADIUS,\n",
    "                    alpha = CIRCL_ALPHA)\n",
    "                     \n",
    "    axes.set_aspect( 1 ) \n",
    "    axes.add_artist( cc ) \n",
    "    \n",
    "    \n",
    "for trial_dict in trial_dicts_all:\n",
    "    \n",
    "    sample_trial = trial_dict[n_roi_trials]\n",
    "    trial_cursor_trajectory = sample_trial['cursor']\n",
    "    \n",
    "    \n",
    "    axes.plot(trial_cursor_trajectory[:, X_CURSOR], \n",
    "             trial_cursor_trajectory[:, Z_CURSOR])\n",
    "    N_TRIALS = 80\n",
    "\n"
   ]
  },
  {
   "cell_type": "code",
   "execution_count": 25,
   "metadata": {
    "ExecuteTime": {
     "end_time": "2021-03-01T19:59:29.229368Z",
     "start_time": "2021-03-01T19:59:29.227102Z"
    },
    "scrolled": true
   },
   "outputs": [
    {
     "name": "stdout",
     "output_type": "stream",
     "text": [
      "finished trials:\n",
      "enc. mean FR:1 Hz: 78 out of 80\n",
      "enc. mean FR:10 Hz: 80 out of 80\n",
      "enc. mean FR:100 Hz: 80 out of 80\n"
     ]
    }
   ],
   "source": [
    "print('finished trials:')\n",
    "\n",
    "for i,e in  enumerate(exps): \n",
    "    reward_num = e.calc_state_occurrences('reward')\n",
    "    print(f'{exp_conds[i]}: {reward_num} out of {N_TRIALS}')"
   ]
  },
  {
   "cell_type": "markdown",
   "metadata": {},
   "source": [
    "## encoder\n",
    "\n",
    "the job of the encoder is to directly encode intention into firing rates\n",
    "the direct measure is just pearson correlation coefficients between \n",
    "the intentions and the firing rates"
   ]
  },
  {
   "cell_type": "code",
   "execution_count": 26,
   "metadata": {
    "ExecuteTime": {
     "end_time": "2021-03-01T19:59:29.237957Z",
     "start_time": "2021-03-01T19:59:29.230185Z"
    }
   },
   "outputs": [
    {
     "name": "stdout",
     "output_type": "stream",
     "text": [
      "the encoder observation Q matrix\n",
      "enc. mean FR:1 Hz\n",
      "7\n",
      "enc. mean FR:10 Hz\n",
      "7\n",
      "enc. mean FR:100 Hz\n",
      "7\n"
     ]
    }
   ],
   "source": [
    "print('the encoder observation Q matrix')\n",
    "for i,e in enumerate(exps):\n",
    "    print(exp_conds[i])\n",
    "    print(e.encoder.ssm.w)"
   ]
  },
  {
   "cell_type": "code",
   "execution_count": 27,
   "metadata": {
    "ExecuteTime": {
     "end_time": "2021-03-01T19:59:29.245207Z",
     "start_time": "2021-03-01T19:59:29.238710Z"
    }
   },
   "outputs": [],
   "source": [
    "n_exp = 0\n",
    "\n",
    "\n",
    "spike_count_sample = trial_dicts_all[n_exp][n_roi_trials]['spike_counts']"
   ]
  },
  {
   "cell_type": "markdown",
   "metadata": {},
   "source": [
    "## decoder"
   ]
  },
  {
   "cell_type": "code",
   "execution_count": 28,
   "metadata": {
    "ExecuteTime": {
     "end_time": "2021-03-01T19:59:29.600208Z",
     "start_time": "2021-03-01T19:59:29.246153Z"
    },
    "scrolled": false
   },
   "outputs": [
    {
     "name": "stdout",
     "output_type": "stream",
     "text": [
      "steady state tuning curves:\n"
     ]
    },
    {
     "data": {
      "text/plain": [
       "Text(0, -0.27999999999999997, 'CLDA rho 0.5')"
      ]
     },
     "execution_count": 28,
     "metadata": {},
     "output_type": "execute_result"
    },
    {
     "data": {
      "image/png": "[encoded data removed]",
      "text/plain": [
       "<Figure size 864x288 with 3 Axes>"
      ]
     },
     "metadata": {
      "needs_background": "light"
     },
     "output_type": "display_data"
    }
   ],
   "source": [
    "TEXT_OFFSET_VERTICAL = -0.2\n",
    "\n",
    "decoder_c_after,axs = plt.subplots(1, NUM_EXP,\n",
    "                                  figsize = (12,4))\n",
    "\n",
    "decoder_c_after.suptitle('C matrix after')\n",
    "\n",
    "print('steady state tuning curves:')\n",
    "for i,e in enumerate(exps):\n",
    "    e.decoder.plot_C(ax = axs[i])\n",
    "    axs[i].set_title(exp_conds[i])\n",
    "    \n",
    "    #get the lower left coordinate\n",
    "    y_lim_range  = axs[i].get_ylim()[1] - axs[i].get_ylim()[0]\n",
    "    \n",
    "    axs[i].text(0, TEXT_OFFSET_VERTICAL,\n",
    "                f'finished {N_TRIALS} trials in {finished_times_in_seconds[i]} s', \n",
    "               transform = axs[i].transAxes)\n",
    "\n",
    "decoder_c_after.text(0, 1.4 * TEXT_OFFSET_VERTICAL, \n",
    "                     f'CLDA rho {RHO}',\n",
    "                    transform = axs[0].transAxes)\n"
   ]
  },
  {
   "cell_type": "markdown",
   "metadata": {},
   "source": [
    "the convergence time\n",
    "change in the decoder parameter.\n",
    "when the decoder parameter \n",
    "\n",
    "make a plot \n",
    "convergence time on the y axis.\n",
    "more continuous SNR range. \n",
    "parametrically,  \n",
    "\n",
    "error metric\n",
    "what the deocder converges.\n",
    "1. compared to the encoder."
   ]
  },
  {
   "cell_type": "code",
   "execution_count": 29,
   "metadata": {
    "ExecuteTime": {
     "end_time": "2021-03-01T19:59:29.831980Z",
     "start_time": "2021-03-01T19:59:29.601127Z"
    }
   },
   "outputs": [
    {
     "data": {
      "image/png": "[encoded data removed]",
      "text/plain": [
       "<Figure size 864x288 with 3 Axes>"
      ]
     },
     "execution_count": 29,
     "metadata": {},
     "output_type": "execute_result"
    }
   ],
   "source": [
    "decoder_c_figure"
   ]
  },
  {
   "cell_type": "markdown",
   "metadata": {},
   "source": [
    "## compare before and after the training"
   ]
  },
  {
   "cell_type": "code",
   "execution_count": 30,
   "metadata": {
    "ExecuteTime": {
     "end_time": "2021-03-01T19:59:30.182396Z",
     "start_time": "2021-03-01T19:59:29.832783Z"
    }
   },
   "outputs": [
    {
     "data": {
      "image/png": "[encoded data removed]",
      "text/plain": [
       "<Figure size 864x288 with 6 Axes>"
      ]
     },
     "metadata": {
      "needs_background": "light"
     },
     "output_type": "display_data"
    }
   ],
   "source": [
    "\n",
    "\n",
    "N_ROWS = 2 #before and after \n",
    "FIGURE_SIZE_2_by_4 = (12,4)\n",
    "figure_compare_decoder_C_matrix,axs = plt.subplots(2,NUM_EXP, \n",
    "                                                   figsize = (12,4))\n",
    "\n",
    "for i in range(NUM_EXP):\n",
    "    axs[0, i] = decoder_c_figure.get_axes()[i]\n",
    "    axs[1, i] = decoder_c_after.get_axes()[i]\n",
    "    "
   ]
  },
  {
   "cell_type": "markdown",
   "metadata": {},
   "source": [
    "# CLDA updates"
   ]
  },
  {
   "cell_type": "markdown",
   "metadata": {},
   "source": [
    "## clda update frequencies"
   ]
  },
  {
   "cell_type": "code",
   "execution_count": 31,
   "metadata": {
    "ExecuteTime": {
     "end_time": "2021-03-01T19:59:30.186471Z",
     "start_time": "2021-03-01T19:59:30.183222Z"
    }
   },
   "outputs": [
    {
     "name": "stdout",
     "output_type": "stream",
     "text": [
      "did clda for 199 times\n",
      "did clda for 56 times\n",
      "did clda for 44 times\n"
     ]
    }
   ],
   "source": [
    "\n",
    "clda_params_all = [np.array(e.bmi_system.param_hist) for e in exps]\n",
    "\n",
    "for c in clda_params_all:\n",
    "    print(f'did clda for {len(c)} times')"
   ]
  },
  {
   "cell_type": "code",
   "execution_count": 32,
   "metadata": {
    "ExecuteTime": {
     "end_time": "2021-03-01T19:59:30.194376Z",
     "start_time": "2021-03-01T19:59:30.187289Z"
    }
   },
   "outputs": [],
   "source": [
    "update_bmi_all = np.squeeze(task_data_hist_np_all[0]['update_bmi'])"
   ]
  },
  {
   "cell_type": "code",
   "execution_count": 33,
   "metadata": {
    "ExecuteTime": {
     "end_time": "2021-03-01T19:59:30.286550Z",
     "start_time": "2021-03-01T19:59:30.195308Z"
    }
   },
   "outputs": [
    {
     "data": {
      "text/plain": [
       "Text(0.5, 0, 'frame count')"
      ]
     },
     "execution_count": 33,
     "metadata": {},
     "output_type": "execute_result"
    },
    {
     "data": {
      "image/png": "[encoded data removed]",
      "text/plain": [
       "<Figure size 432x288 with 1 Axes>"
      ]
     },
     "metadata": {
      "needs_background": "light"
     },
     "output_type": "display_data"
    }
   ],
   "source": [
    "plt.plot(update_bmi_all[:240])\n",
    "plt.xlabel('frame count')"
   ]
  },
  {
   "cell_type": "markdown",
   "metadata": {},
   "source": [
    "## reformat the matrix"
   ]
  },
  {
   "cell_type": "code",
   "execution_count": 34,
   "metadata": {
    "ExecuteTime": {
     "end_time": "2021-03-01T19:59:30.292256Z",
     "start_time": "2021-03-01T19:59:30.287408Z"
    }
   },
   "outputs": [
    {
     "data": {
      "text/plain": [
       "3"
      ]
     },
     "execution_count": 34,
     "metadata": {},
     "output_type": "execute_result"
    }
   ],
   "source": [
    "clda_params = clda_params_all[1]\n",
    "\n",
    "clda_params_dict_all = list()\n",
    "\n",
    "for p in clda_params_all:\n",
    "    clda_params_dict = dict()\n",
    "    for param_key in p[0].keys():\n",
    "        clda_params_dict[param_key] = np.array([ record_i[param_key] for record_i in p])\n",
    "    \n",
    "    clda_params_dict_all.append(clda_params_dict)\n",
    "\n",
    "\n",
    "len(clda_params_dict_all)"
   ]
  },
  {
   "cell_type": "markdown",
   "metadata": {},
   "source": [
    "## observation covariance matrix"
   ]
  },
  {
   "cell_type": "code",
   "execution_count": 35,
   "metadata": {
    "ExecuteTime": {
     "end_time": "2021-03-01T19:59:30.298219Z",
     "start_time": "2021-03-01T19:59:30.293107Z"
    }
   },
   "outputs": [
    {
     "name": "stdout",
     "output_type": "stream",
     "text": [
      "enc. mean FR:1 Hz\n",
      "[[3.05 0.   0.07 0.  ]\n",
      " [0.   2.5  0.   0.  ]\n",
      " [0.07 0.   2.72 0.  ]\n",
      " [0.   0.   0.   2.5 ]]\n",
      "\n",
      "enc. mean FR:10 Hz\n",
      "[[ 5.49  0.   -0.42 -0.04]\n",
      " [ 0.    2.5   0.    0.  ]\n",
      " [-0.42  0.    8.22  0.  ]\n",
      " [-0.04  0.    0.    2.51]]\n",
      "\n",
      "enc. mean FR:100 Hz\n",
      "[[ 999.54  967.    190.15  239.21]\n",
      " [ 967.   1114.97  188.24  238.27]\n",
      " [ 190.15  188.24  811.09  752.36]\n",
      " [ 239.21  238.27  752.36  852.61]]\n",
      "\n"
     ]
    }
   ],
   "source": [
    "n_sample = 1\n",
    "\n",
    "for i,c in enumerate(clda_params_dict_all):\n",
    "    print(exp_conds[i])\n",
    "    print(c['kf.Q'][n_sample,:,:])\n",
    "    print()"
   ]
  },
  {
   "cell_type": "markdown",
   "metadata": {},
   "source": [
    "## clda K matrix"
   ]
  },
  {
   "cell_type": "code",
   "execution_count": 36,
   "metadata": {
    "ExecuteTime": {
     "end_time": "2021-03-01T19:59:30.305924Z",
     "start_time": "2021-03-01T19:59:30.298994Z"
    }
   },
   "outputs": [],
   "source": [
    "kf_C = clda_params_dict['kf.C']"
   ]
  },
  {
   "cell_type": "code",
   "execution_count": 37,
   "metadata": {
    "ExecuteTime": {
     "end_time": "2021-03-01T19:59:30.314642Z",
     "start_time": "2021-03-01T19:59:30.306776Z"
    }
   },
   "outputs": [
    {
     "name": "stdout",
     "output_type": "stream",
     "text": [
      "K matrix before:\n",
      "[[ 0.    0.    0.    5.05  0.   -1.05 16.32]\n",
      " [ 0.    0.    0.   -1.02  0.   -0.24 17.03]\n",
      " [ 0.    0.    0.    0.55  0.    3.   14.31]\n",
      " [ 0.    0.    0.    1.79  0.   -1.63 17.15]]\n",
      "K matrix after:\n",
      "[[ 0.    0.    0.    4.8   0.    0.24 19.1 ]\n",
      " [ 0.    0.    0.   -4.76  0.    0.32 18.83]\n",
      " [ 0.    0.    0.   -0.05  0.    4.65 21.18]\n",
      " [ 0.    0.    0.    0.1   0.   -4.74 21.18]]\n"
     ]
    }
   ],
   "source": [
    "print('K matrix before:')\n",
    "print(kf_C[0,:,:])\n",
    "print('K matrix after:')\n",
    "print(kf_C[-1,:,:])"
   ]
  },
  {
   "cell_type": "code",
   "execution_count": 38,
   "metadata": {
    "ExecuteTime": {
     "end_time": "2021-03-01T19:59:30.670994Z",
     "start_time": "2021-03-01T19:59:30.315381Z"
    }
   },
   "outputs": [
    {
     "data": {
      "image/png": "[encoded data removed]",
      "text/plain": [
       "<Figure size 1152x288 with 4 Axes>"
      ]
     },
     "metadata": {
      "needs_background": "light"
     },
     "output_type": "display_data"
    }
   ],
   "source": [
    "N_CLDA_ROI_TIME = 800\n",
    "\n",
    "FIGURE_SIZE = (2,10)\n",
    "\n",
    "N_NEURONS\n",
    "\n",
    "f, axs = plt.subplots(1,N_NEURONS,figsize=(16,4))\n",
    "\n",
    "for i in range(N_NEURONS):\n",
    "    axs[i].plot(np.squeeze(kf_C[:N_CLDA_ROI_TIME,i, X_VEL_STATE_IND]))\n",
    "    axs[i].plot(np.squeeze(kf_C[:N_CLDA_ROI_TIME,i, Y_VEL_STATE_IND]))\n",
    "    axs[i].legend(['x vel', 'y_vel'])\n",
    "    axs[i].set_title(f'neuron {i} ')\n",
    "    axs[i].set_xlabel('clda update count ')\n",
    "    axs[i].set_ylabel('Decoder weight value')\n",
    "\n"
   ]
  },
  {
   "cell_type": "code",
   "execution_count": 39,
   "metadata": {
    "ExecuteTime": {
     "end_time": "2021-03-01T19:59:30.674753Z",
     "start_time": "2021-03-01T19:59:30.671983Z"
    }
   },
   "outputs": [
    {
     "data": {
      "text/plain": [
       "array([[ 0.,  0.,  0.,  1.,  0.,  0.,  0.],\n",
       "       [ 0.,  0.,  0., -1.,  0.,  0.,  0.],\n",
       "       [ 0.,  0.,  0.,  0.,  0.,  1.,  0.],\n",
       "       [ 0.,  0.,  0.,  0.,  0., -1.,  0.]])"
      ]
     },
     "execution_count": 39,
     "metadata": {},
     "output_type": "execute_result"
    }
   ],
   "source": [
    "exps[0].encoder.C"
   ]
  },
  {
   "cell_type": "markdown",
   "metadata": {},
   "source": [
    "## examine training batches"
   ]
  },
  {
   "cell_type": "code",
   "execution_count": 40,
   "metadata": {
    "ExecuteTime": {
     "end_time": "2021-03-01T19:59:30.682487Z",
     "start_time": "2021-03-01T19:59:30.675645Z"
    }
   },
   "outputs": [],
   "source": [
    "spike_counts_batch = clda_params_dict['spike_counts_batch'] \n",
    "intended_kin = clda_params_dict['intended_kin']"
   ]
  },
  {
   "cell_type": "code",
   "execution_count": 41,
   "metadata": {
    "ExecuteTime": {
     "end_time": "2021-03-01T19:59:30.691917Z",
     "start_time": "2021-03-01T19:59:30.683498Z"
    }
   },
   "outputs": [
    {
     "name": "stdout",
     "output_type": "stream",
     "text": [
      "intended kinematics:\n",
      "[[  5.09   7.7    8.84   8.8    8.12   6.86   5.43   3.86   2.44   1.16\n",
      "    0.21  -0.54  -1.07  -1.35  -1.44  -1.39  -1.17  -0.86  -0.56  -0.35\n",
      "   -0.14   0.71   1.91   3.18   4.4    5.58   6.62   7.5    8.13   8.52\n",
      "    8.63   8.6    8.54   8.41   7.51   6.39   5.27   3.97   2.7    1.69\n",
      "    0.81   0.07  -0.48  -0.78  -0.95  -0.33   0.59   1.56   2.59   3.46]\n",
      " [  0.     0.     0.     0.     0.     0.     0.     0.     0.     0.\n",
      "    0.     0.     0.     0.     0.     0.     0.     0.     0.     0.\n",
      "    0.     0.     0.     0.     0.     0.     0.     0.     0.     0.\n",
      "    0.     0.     0.     0.     0.     0.     0.     0.     0.     0.\n",
      "    0.     0.     0.     0.     0.     0.     0.     0.     0.     0.  ]\n",
      " [ 14.    12.93  11.11   8.8    6.45   4.18   2.08   0.37  -0.93  -1.77\n",
      "   -2.32  -2.46  -2.32  -2.04  -1.6   -1.05  -0.53  -0.04   0.23   0.46\n",
      "    0.63   0.79   0.9    0.98   1.07   1.08   1.02   0.97   0.8    0.59\n",
      "    0.41   0.24   0.09  -0.01  -0.14  -0.28  -0.4   -0.49  -0.58  -0.66\n",
      "   -0.68  -0.65  -0.58  -0.51  -0.37   0.51   1.54   2.82   4.14   5.21]\n",
      " [ 22.38  10.94   1.25  -5.93  -9.8  -12.31 -12.58 -12.2  -10.43  -8.58\n",
      "   -6.08  -4.18  -2.5   -0.83   0.38   1.21   1.96   2.34   2.16   8.46\n",
      "    8.16  10.47  11.65  11.29  10.16   8.95   7.36   5.71   3.82   2.14\n",
      "    0.46  -0.42  -7.59  -7.83 -10.74 -11.56 -10.93 -10.72  -9.64  -7.57\n",
      "   -5.93  -4.54  -3.     3.48   4.44   7.73   9.12   8.91   8.44   7.05]\n",
      " [  0.     0.     0.     0.     0.     0.     0.     0.     0.     0.\n",
      "    0.     0.     0.     0.     0.     0.     0.     0.     0.     0.\n",
      "    0.     0.     0.     0.     0.     0.     0.     0.     0.     0.\n",
      "    0.     0.     0.     0.     0.     0.     0.     0.     0.     0.\n",
      "    0.     0.     0.     0.     0.     0.     0.     0.     0.     0.  ]\n",
      " [-12.04 -16.01 -18.88 -20.06 -18.86 -16.73 -14.1  -10.68  -7.25  -3.98\n",
      "   -1.71   0.68   2.27   3.04   3.59   3.84   3.41   2.84   1.62   1.05\n",
      "    0.52   0.22  -0.15  -0.34  -0.45  -0.77  -1.12  -1.12  -1.48  -1.6\n",
      "   -1.37  -1.15  -0.96  -0.62  -0.53  -0.49  -0.32  -0.08  -0.03   0.12\n",
      "    0.37   0.66   0.81   5.64   5.84   8.59   9.07   9.43   8.79   6.81]\n",
      " [  1.     1.     1.     1.     1.     1.     1.     1.     1.     1.\n",
      "    1.     1.     1.     1.     1.     1.     1.     1.     1.     1.\n",
      "    1.     1.     1.     1.     1.     1.     1.     1.     1.     1.\n",
      "    1.     1.     1.     1.     1.     1.     1.     1.     1.     1.\n",
      "    1.     1.     1.     1.     1.     1.     1.     1.     1.     1.  ]]\n",
      "spike counts:\n",
      "[[240. 114.  13.   0.   0.   0.   0.   0.   0.   0.   0.   0.   0.   0.\n",
      "    2.  16.  25.  25.  18.  16.  73. 104. 110. 106. 103.  91.  77.  56.\n",
      "   37.  13.   2.   0.   0.   0.   0.   0.   0.   0.   0.   0.   0.   0.\n",
      "    0.   0.  50.  76.  79.  84.  71.  67.]\n",
      " [  0.   0.   0.  47. 102. 119. 134. 121. 110.  81.  65.  48.  26.  10.\n",
      "    0.   0.   0.   0.   0.   0.   0.   0.   0.   0.   0.   0.   0.   0.\n",
      "    0.   0.   0.   1.   5.  77.  99.  99. 116. 113.  89.  76.  65.  48.\n",
      "   26.  17.   0.   0.   0.   0.   0.   0.]\n",
      " [  0.   0.   0.   0.   0.   0.   0.   0.   0.   0.   0.  10.  21.  33.\n",
      "   42.  39.  36.  20.  18.  13.   8.   1.   0.   0.   0.   0.   0.   0.\n",
      "    0.   0.   0.   0.   0.   0.   0.   0.   0.   0.   0.   1.   5.   7.\n",
      "    6.  10.  66.  75.  95.  98.  79.  73.]\n",
      " [106. 157. 189. 189. 181. 166. 134. 100.  64.  43.  11.   0.   0.   0.\n",
      "    0.   0.   0.   0.   0.   0.   0.   0.   1.   1.   6.  11.   9.  16.\n",
      "   18.  14.  12.  11.   7.   7.   7.   5.   2.   3.   2.   0.   0.   0.\n",
      "    0.   0.   0.   0.   0.   0.   0.   0.]]\n",
      "trained KF C matrix:\n",
      "[[ 0.    0.    0.    5.    0.   -0.86 38.85]\n",
      " [ 0.    0.    0.   -3.91  0.   -0.45 40.25]\n",
      " [ 0.    0.    0.    0.55  0.    3.02 43.65]\n",
      " [ 0.    0.    0.    0.82  0.   -5.42 45.29]]\n"
     ]
    }
   ],
   "source": [
    "training_sample_point = 2\n",
    "\n",
    "print('intended kinematics:')\n",
    "print(intended_kin[training_sample_point])\n",
    "\n",
    "print('spike counts:')\n",
    "print(spike_counts_batch[training_sample_point])\n",
    "\n",
    "print('trained KF C matrix:')\n",
    "print(kf_C[training_sample_point])"
   ]
  },
  {
   "cell_type": "markdown",
   "metadata": {},
   "source": [
    "# feature analyses"
   ]
  },
  {
   "cell_type": "code",
   "execution_count": 42,
   "metadata": {
    "ExecuteTime": {
     "end_time": "2021-03-01T19:59:30.699523Z",
     "start_time": "2021-03-01T19:59:30.692658Z"
    }
   },
   "outputs": [],
   "source": [
    "import statsmodels.api as sm\n"
   ]
  },
  {
   "cell_type": "markdown",
   "metadata": {},
   "source": [
    "## Examine relevance of one neuron from one batch "
   ]
  },
  {
   "cell_type": "markdown",
   "metadata": {},
   "source": [
    "### Select data"
   ]
  },
  {
   "cell_type": "code",
   "execution_count": 43,
   "metadata": {
    "ExecuteTime": {
     "end_time": "2021-03-01T19:59:30.706345Z",
     "start_time": "2021-03-01T19:59:30.700600Z"
    }
   },
   "outputs": [
    {
     "data": {
      "text/plain": [
       "dict_keys(['kf.C', 'kf.Q', 'kf.C_xpose_Q_inv_C', 'kf.C_xpose_Q_inv', 'mFR', 'sdFR', 'rho', 'intended_kin', 'spike_counts_batch'])"
      ]
     },
     "execution_count": 43,
     "metadata": {},
     "output_type": "execute_result"
    }
   ],
   "source": [
    "clda_params_dict.keys() # this is from one experiment"
   ]
  },
  {
   "cell_type": "code",
   "execution_count": 44,
   "metadata": {
    "ExecuteTime": {
     "end_time": "2021-03-01T19:59:30.712108Z",
     "start_time": "2021-03-01T19:59:30.707213Z"
    },
    "scrolled": true
   },
   "outputs": [
    {
     "name": "stdout",
     "output_type": "stream",
     "text": [
      "44\n",
      "44\n"
     ]
    }
   ],
   "source": [
    "spike_counts_batch = clda_params_dict['spike_counts_batch']\n",
    "intended_kin = clda_params_dict['intended_kin']\n",
    "print(f'{len(spike_counts_batch)}')\n",
    "print(f'{len(intended_kin)}')"
   ]
  },
  {
   "cell_type": "code",
   "execution_count": 45,
   "metadata": {
    "ExecuteTime": {
     "end_time": "2021-03-01T19:59:30.723247Z",
     "start_time": "2021-03-01T19:59:30.713035Z"
    }
   },
   "outputs": [
    {
     "name": "stdout",
     "output_type": "stream",
     "text": [
      "look at one batch: batch number 0\n",
      "spike count\n",
      "[[  0.   0.   5.  91. 131. 235. 317. 414.   0.   0.   0.   0.   0.   0.\n",
      "    0.   0.   0.   0.   0.   0.   0.   0.   0.   0.   4.  20.  35.  58.\n",
      "   71.  79.  96.  87.  94.  95.  86. 114. 115. 104.  77.  53.  40.  31.\n",
      "   39.  37.  33.  38.  43.  55.  82.  97.]\n",
      " [  0.   1.   0.   0.   0.   0.   0.   0.  50.  74.  66.  67.  48.  53.\n",
      "   49.  40.  47.  30.  28.  24.  31.  15.   7.   0.   0.   0.   0.   0.\n",
      "    0.   0.   0.   0.   0.   0.   0.   0.   0.   0.   0.   0.   0.   0.\n",
      "    0.   0.   0.   0.   0.   0.   0.   0.]\n",
      " [  0.   0.   0.   0.   0.   0.   0.   0. 107. 126. 129. 116. 116. 128.\n",
      "  116. 127. 130. 102. 115. 128. 108. 127. 104. 120. 116.  97.  96. 116.\n",
      "  135. 141. 125. 113. 115. 121. 110. 118. 127. 134. 130. 113. 114. 112.\n",
      "  131. 134. 124. 113. 123. 116. 114. 108.]\n",
      " [  0.   5.   0.   5.  83.  85. 160. 175.   0.   0.   0.   0.   0.   0.\n",
      "    0.   0.   0.   0.   0.   0.   0.   0.   0.   0.   0.   0.   0.   0.\n",
      "    0.   0.   0.   0.   0.   0.   0.   0.   0.   0.   0.   0.   0.   0.\n",
      "    0.   0.   0.   0.   0.   0.   0.   0.]]\n",
      "intended kin\n",
      "[[  0.    -0.03   0.06   0.16   1.74   5.74  11.36  19.97  14.    13.39\n",
      "   12.81  12.14  11.6   10.92  10.18   9.51   8.69   7.9    7.22   6.42\n",
      "    5.49   4.78   3.8    2.96   1.93   1.01   0.5    0.24   0.15   0.11\n",
      "    0.14   0.57   0.95   1.42   1.85   2.24   3.     3.69   4.14   4.21\n",
      "    4.05   3.68   3.19   2.68   2.11   1.56   1.19   0.81   0.68   0.99]\n",
      " [  0.     0.     0.     0.     0.     0.     0.     0.     0.     0.\n",
      "    0.     0.     0.     0.     0.     0.     0.     0.     0.     0.\n",
      "    0.     0.     0.     0.     0.     0.     0.     0.     0.     0.\n",
      "    0.     0.     0.     0.     0.     0.     0.     0.     0.     0.\n",
      "    0.     0.     0.     0.     0.     0.     0.     0.     0.     0.  ]\n",
      " [  0.    -0.05  -0.01  -0.2   -2.51  -4.41  -8.91 -14.1  -14.   -14.\n",
      "  -14.   -14.   -14.   -14.   -14.   -14.   -14.   -14.   -14.   -14.\n",
      "  -14.   -14.   -14.   -14.   -14.   -14.   -14.   -14.   -14.   -14.\n",
      "  -14.   -14.   -14.   -14.   -14.   -14.   -14.   -14.   -14.   -14.\n",
      "  -14.   -14.   -14.   -14.   -14.   -14.   -14.   -14.   -14.   -14.  ]\n",
      " [  0.    -0.13   7.28   7.24  14.28  24.42  30.5   40.23  -5.16  -7.21\n",
      "   -6.9   -6.69  -5.76  -5.69  -5.38  -4.52  -4.44  -3.71  -2.62  -2.41\n",
      "   -2.23  -0.74  -0.96   0.25   0.41   1.65   4.27   6.11   7.71   8.39\n",
      "    8.94  10.75  10.24  10.37   9.92   9.16  10.72  10.1    8.45   5.96\n",
      "    4.29   3.22   2.76   3.17   3.37   3.82   4.99   5.49   6.97   9.36]\n",
      " [  0.     0.     0.     0.     0.     0.     0.     0.     0.     0.\n",
      "    0.     0.     0.     0.     0.     0.     0.     0.     0.     0.\n",
      "    0.     0.     0.     0.     0.     0.     0.     0.     0.     0.\n",
      "    0.     0.     0.     0.     0.     0.     0.     0.     0.     0.\n",
      "    0.     0.     0.     0.     0.     0.     0.     0.     0.     0.  ]\n",
      " [  0.    -0.24   0.13  -0.65  -8.28  -7.59 -15.01 -16.75  12.04  12.04\n",
      "   12.04  12.04  12.04  12.04  12.04  12.04  12.04  12.04  12.04  12.04\n",
      "   12.04  12.04  12.04  12.04  12.04  12.04  12.04  12.04  12.04  12.04\n",
      "   12.04  12.04  12.04  12.04  12.04  12.04  12.04  12.04  12.04  12.04\n",
      "   12.04  12.04  12.04  12.04  12.04  12.04  12.04  12.04  12.04  12.04]\n",
      " [  1.     1.     1.     1.     1.     1.     1.     1.     1.     1.\n",
      "    1.     1.     1.     1.     1.     1.     1.     1.     1.     1.\n",
      "    1.     1.     1.     1.     1.     1.     1.     1.     1.     1.\n",
      "    1.     1.     1.     1.     1.     1.     1.     1.     1.     1.\n",
      "    1.     1.     1.     1.     1.     1.     1.     1.     1.     1.  ]]\n"
     ]
    }
   ],
   "source": [
    "# we just take one batch\n",
    "batch_of_interest = 0\n",
    "spike_count_one_batch = spike_counts_batch[batch_of_interest]\n",
    "intended_kin_one_batch = intended_kin[batch_of_interest]\n",
    "\n",
    "print(f'look at one batch: batch number {batch_of_interest}')\n",
    "print(f'spike count')\n",
    "print(spike_count_one_batch)\n",
    "\n",
    "print(f'intended kin')\n",
    "print(intended_kin_one_batch)"
   ]
  },
  {
   "cell_type": "code",
   "execution_count": 46,
   "metadata": {
    "ExecuteTime": {
     "end_time": "2021-03-01T19:59:30.732308Z",
     "start_time": "2021-03-01T19:59:30.724390Z"
    }
   },
   "outputs": [
    {
     "name": "stdout",
     "output_type": "stream",
     "text": [
      "we are dealing with a velocity decoder\n",
      "we only look at  x vel and y vel:\n",
      "We assume we are only interested how firing rates encode x, y vel\n",
      "after selecting the vels:\n",
      "[[  0.    -0.13   7.28   7.24  14.28  24.42  30.5   40.23  -5.16  -7.21\n",
      "   -6.9   -6.69  -5.76  -5.69  -5.38  -4.52  -4.44  -3.71  -2.62  -2.41\n",
      "   -2.23  -0.74  -0.96   0.25   0.41   1.65   4.27   6.11   7.71   8.39\n",
      "    8.94  10.75  10.24  10.37   9.92   9.16  10.72  10.1    8.45   5.96\n",
      "    4.29   3.22   2.76   3.17   3.37   3.82   4.99   5.49   6.97   9.36]\n",
      " [  0.    -0.24   0.13  -0.65  -8.28  -7.59 -15.01 -16.75  12.04  12.04\n",
      "   12.04  12.04  12.04  12.04  12.04  12.04  12.04  12.04  12.04  12.04\n",
      "   12.04  12.04  12.04  12.04  12.04  12.04  12.04  12.04  12.04  12.04\n",
      "   12.04  12.04  12.04  12.04  12.04  12.04  12.04  12.04  12.04  12.04\n",
      "   12.04  12.04  12.04  12.04  12.04  12.04  12.04  12.04  12.04  12.04]]\n"
     ]
    }
   ],
   "source": [
    "print('we are dealing with a velocity decoder')\n",
    "print('we only look at  x vel and y vel:')\n",
    "print('We assume we are only interested how firing rates encode x, y vel')\n",
    "\n",
    "intended_kin_one_batch_2D = intended_kin_one_batch[(X_VEL_STATE_IND, Y_VEL_STATE_IND),:]\n",
    "print('after selecting the vels:')\n",
    "print(intended_kin_one_batch_2D)"
   ]
  },
  {
   "cell_type": "code",
   "execution_count": 47,
   "metadata": {
    "ExecuteTime": {
     "end_time": "2021-03-01T19:59:30.738476Z",
     "start_time": "2021-03-01T19:59:30.733125Z"
    }
   },
   "outputs": [
    {
     "name": "stdout",
     "output_type": "stream",
     "text": [
      "we will do  one neuron at a time\n",
      "the neuron that we are interested is neuron 0\n",
      "and selected firing rates:\n",
      "[  0.   0.   5.  91. 131. 235. 317. 414.   0.   0.   0.   0.   0.   0.\n",
      "   0.   0.   0.   0.   0.   0.   0.   0.   0.   0.   4.  20.  35.  58.\n",
      "  71.  79.  96.  87.  94.  95.  86. 114. 115. 104.  77.  53.  40.  31.\n",
      "  39.  37.  33.  38.  43.  55.  82.  97.]\n"
     ]
    }
   ],
   "source": [
    "print('we will do  one neuron at a time')\n",
    "n_roi_neuron = 0\n",
    "print(f'the neuron that we are interested is neuron {n_roi_neuron}')\n",
    "print('and selected firing rates:')\n",
    "\n",
    "spike_count_one_batch_one_neuron = spike_count_one_batch[n_roi_neuron,:]\n",
    "\n",
    "print(spike_count_one_batch_one_neuron)"
   ]
  },
  {
   "cell_type": "markdown",
   "metadata": {},
   "source": [
    "### OLS model fitting"
   ]
  },
  {
   "cell_type": "code",
   "execution_count": 48,
   "metadata": {
    "ExecuteTime": {
     "end_time": "2021-03-01T19:59:30.748428Z",
     "start_time": "2021-03-01T19:59:30.739277Z"
    }
   },
   "outputs": [
    {
     "name": "stdout",
     "output_type": "stream",
     "text": [
      "we transpose the vector for fitting\n",
      "the independent variables are  the intended kin hence, X\n",
      "[[  0.     0.  ]\n",
      " [ -0.13  -0.24]\n",
      " [  7.28   0.13]\n",
      " [  7.24  -0.65]\n",
      " [ 14.28  -8.28]\n",
      " [ 24.42  -7.59]\n",
      " [ 30.5  -15.01]\n",
      " [ 40.23 -16.75]\n",
      " [ -5.16  12.04]\n",
      " [ -7.21  12.04]\n",
      " [ -6.9   12.04]\n",
      " [ -6.69  12.04]\n",
      " [ -5.76  12.04]\n",
      " [ -5.69  12.04]\n",
      " [ -5.38  12.04]\n",
      " [ -4.52  12.04]\n",
      " [ -4.44  12.04]\n",
      " [ -3.71  12.04]\n",
      " [ -2.62  12.04]\n",
      " [ -2.41  12.04]\n",
      " [ -2.23  12.04]\n",
      " [ -0.74  12.04]\n",
      " [ -0.96  12.04]\n",
      " [  0.25  12.04]\n",
      " [  0.41  12.04]\n",
      " [  1.65  12.04]\n",
      " [  4.27  12.04]\n",
      " [  6.11  12.04]\n",
      " [  7.71  12.04]\n",
      " [  8.39  12.04]\n",
      " [  8.94  12.04]\n",
      " [ 10.75  12.04]\n",
      " [ 10.24  12.04]\n",
      " [ 10.37  12.04]\n",
      " [  9.92  12.04]\n",
      " [  9.16  12.04]\n",
      " [ 10.72  12.04]\n",
      " [ 10.1   12.04]\n",
      " [  8.45  12.04]\n",
      " [  5.96  12.04]\n",
      " [  4.29  12.04]\n",
      " [  3.22  12.04]\n",
      " [  2.76  12.04]\n",
      " [  3.17  12.04]\n",
      " [  3.37  12.04]\n",
      " [  3.82  12.04]\n",
      " [  4.99  12.04]\n",
      " [  5.49  12.04]\n",
      " [  6.97  12.04]\n",
      " [  9.36  12.04]]\n",
      "the dependent variable is the neuron spike connt, hence y\n",
      "[[  0.]\n",
      " [  0.]\n",
      " [  5.]\n",
      " [ 91.]\n",
      " [131.]\n",
      " [235.]\n",
      " [317.]\n",
      " [414.]\n",
      " [  0.]\n",
      " [  0.]\n",
      " [  0.]\n",
      " [  0.]\n",
      " [  0.]\n",
      " [  0.]\n",
      " [  0.]\n",
      " [  0.]\n",
      " [  0.]\n",
      " [  0.]\n",
      " [  0.]\n",
      " [  0.]\n",
      " [  0.]\n",
      " [  0.]\n",
      " [  0.]\n",
      " [  0.]\n",
      " [  4.]\n",
      " [ 20.]\n",
      " [ 35.]\n",
      " [ 58.]\n",
      " [ 71.]\n",
      " [ 79.]\n",
      " [ 96.]\n",
      " [ 87.]\n",
      " [ 94.]\n",
      " [ 95.]\n",
      " [ 86.]\n",
      " [114.]\n",
      " [115.]\n",
      " [104.]\n",
      " [ 77.]\n",
      " [ 53.]\n",
      " [ 40.]\n",
      " [ 31.]\n",
      " [ 39.]\n",
      " [ 37.]\n",
      " [ 33.]\n",
      " [ 38.]\n",
      " [ 43.]\n",
      " [ 55.]\n",
      " [ 82.]\n",
      " [ 97.]]\n"
     ]
    }
   ],
   "source": [
    "print('we transpose the vector for fitting')\n",
    "X = intended_kin_one_batch_2D.T\n",
    "y = np.reshape(spike_count_one_batch_one_neuron, (-1,1))\n",
    "\n",
    "\n",
    "print('the independent variables are  the intended kin hence, X')\n",
    "print(X)\n",
    "\n",
    "\n",
    "print('the dependent variable is the neuron spike connt, hence y')\n",
    "print(y)\n"
   ]
  },
  {
   "cell_type": "code",
   "execution_count": 49,
   "metadata": {
    "ExecuteTime": {
     "end_time": "2021-03-01T19:59:30.755391Z",
     "start_time": "2021-03-01T19:59:30.749378Z"
    }
   },
   "outputs": [
    {
     "name": "stdout",
     "output_type": "stream",
     "text": [
      "we add the constant one to the states (X)\n",
      "the new X is\n",
      "[[  1.     0.     0.  ]\n",
      " [  1.    -0.13  -0.24]\n",
      " [  1.     7.28   0.13]\n",
      " [  1.     7.24  -0.65]\n",
      " [  1.    14.28  -8.28]\n",
      " [  1.    24.42  -7.59]\n",
      " [  1.    30.5  -15.01]\n",
      " [  1.    40.23 -16.75]\n",
      " [  1.    -5.16  12.04]\n",
      " [  1.    -7.21  12.04]\n",
      " [  1.    -6.9   12.04]\n",
      " [  1.    -6.69  12.04]\n",
      " [  1.    -5.76  12.04]\n",
      " [  1.    -5.69  12.04]\n",
      " [  1.    -5.38  12.04]\n",
      " [  1.    -4.52  12.04]\n",
      " [  1.    -4.44  12.04]\n",
      " [  1.    -3.71  12.04]\n",
      " [  1.    -2.62  12.04]\n",
      " [  1.    -2.41  12.04]\n",
      " [  1.    -2.23  12.04]\n",
      " [  1.    -0.74  12.04]\n",
      " [  1.    -0.96  12.04]\n",
      " [  1.     0.25  12.04]\n",
      " [  1.     0.41  12.04]\n",
      " [  1.     1.65  12.04]\n",
      " [  1.     4.27  12.04]\n",
      " [  1.     6.11  12.04]\n",
      " [  1.     7.71  12.04]\n",
      " [  1.     8.39  12.04]\n",
      " [  1.     8.94  12.04]\n",
      " [  1.    10.75  12.04]\n",
      " [  1.    10.24  12.04]\n",
      " [  1.    10.37  12.04]\n",
      " [  1.     9.92  12.04]\n",
      " [  1.     9.16  12.04]\n",
      " [  1.    10.72  12.04]\n",
      " [  1.    10.1   12.04]\n",
      " [  1.     8.45  12.04]\n",
      " [  1.     5.96  12.04]\n",
      " [  1.     4.29  12.04]\n",
      " [  1.     3.22  12.04]\n",
      " [  1.     2.76  12.04]\n",
      " [  1.     3.17  12.04]\n",
      " [  1.     3.37  12.04]\n",
      " [  1.     3.82  12.04]\n",
      " [  1.     4.99  12.04]\n",
      " [  1.     5.49  12.04]\n",
      " [  1.     6.97  12.04]\n",
      " [  1.     9.36  12.04]]\n"
     ]
    }
   ],
   "source": [
    "print('we add the constant one to the states (X)')\n",
    "X = sm.add_constant(X, has_constant= 'raise')\n",
    "print('the new X is')\n",
    "print(X)"
   ]
  },
  {
   "cell_type": "code",
   "execution_count": 50,
   "metadata": {
    "ExecuteTime": {
     "end_time": "2021-03-01T19:59:30.768068Z",
     "start_time": "2021-03-01T19:59:30.756141Z"
    }
   },
   "outputs": [
    {
     "name": "stdout",
     "output_type": "stream",
     "text": [
      "now we can fit using statsmodels.ols\n",
      "print results\n",
      "                            OLS Regression Results                            \n",
      "==============================================================================\n",
      "Dep. Variable:                      y   R-squared:                       0.926\n",
      "Model:                            OLS   Adj. R-squared:                  0.923\n",
      "Method:                 Least Squares   F-statistic:                     295.0\n",
      "Date:                Mon, 01 Mar 2021   Prob (F-statistic):           2.50e-27\n",
      "Time:                        11:59:30   Log-Likelihood:                -224.90\n",
      "No. Observations:                  50   AIC:                             455.8\n",
      "Df Residuals:                      47   BIC:                             461.5\n",
      "Df Model:                           2                                         \n",
      "Covariance Type:            nonrobust                                         \n",
      "==============================================================================\n",
      "                 coef    std err          t      P>|t|      [0.025      0.975]\n",
      "------------------------------------------------------------------------------\n",
      "const         31.6853      8.122      3.901      0.000      15.345      48.025\n",
      "x1             7.8578      0.492     15.986      0.000       6.869       8.847\n",
      "x2            -1.1314      0.625     -1.812      0.076      -2.388       0.125\n",
      "==============================================================================\n",
      "Omnibus:                       11.968   Durbin-Watson:                   0.708\n",
      "Prob(Omnibus):                  0.003   Jarque-Bera (JB):               20.270\n",
      "Skew:                          -0.645   Prob(JB):                     3.97e-05\n",
      "Kurtosis:                       5.840   Cond. No.                         29.9\n",
      "==============================================================================\n",
      "\n",
      "Warnings:\n",
      "[1] Standard Errors assume that the covariance matrix of the errors is correctly specified.\n"
     ]
    }
   ],
   "source": [
    "print('now we can fit using statsmodels.ols')\n",
    "\n",
    "ols_spike_from_states = sm.OLS(y, X)\n",
    "\n",
    "results_ols_spike_from_states = ols_spike_from_states.fit()\n",
    "\n",
    "print('print results')\n",
    "print(results_ols_spike_from_states.summary())"
   ]
  },
  {
   "cell_type": "code",
   "execution_count": 51,
   "metadata": {
    "ExecuteTime": {
     "end_time": "2021-03-01T19:59:30.775597Z",
     "start_time": "2021-03-01T19:59:30.768954Z"
    }
   },
   "outputs": [
    {
     "name": "stdout",
     "output_type": "stream",
     "text": [
      "the p-values test against if the coefficients are zero\n",
      "the p values for this neuron of index 0\n",
      "[0.   0.   0.08]\n",
      "the reg. coeff. are \n",
      "[31.69  7.86 -1.13]\n",
      "\n",
      "at a significance_level of 0.05:\n",
      "this array has the indix of the states that are significantly correlated with the firing rates  \n"
     ]
    },
    {
     "data": {
      "text/plain": [
       "(array([0, 1]),)"
      ]
     },
     "execution_count": 51,
     "metadata": {},
     "output_type": "execute_result"
    }
   ],
   "source": [
    "print('the p-values test against if the coefficients are zero')\n",
    "neuron_batch_pvalue = results_ols_spike_from_states.pvalues\n",
    "\n",
    "print(f'the p values for this neuron of index {n_roi_neuron}')\n",
    "print(neuron_batch_pvalue)\n",
    "\n",
    "neuron_batch_coeff = results_ols_spike_from_states.params\n",
    "\n",
    "print('the reg. coeff. are ')\n",
    "print(neuron_batch_coeff)\n",
    "\n",
    "print()\n",
    "significance_level = 0.05\n",
    "print(f'at a significance_level of {significance_level}:')\n",
    "print('this array has the indix of the states that are significantly correlated with the firing rates  ')\n",
    "\n",
    "np.where(neuron_batch_pvalue < significance_level)"
   ]
  },
  {
   "cell_type": "markdown",
   "metadata": {},
   "source": [
    "## iterate up the model testing procedure"
   ]
  },
  {
   "cell_type": "code",
   "execution_count": 52,
   "metadata": {
    "ExecuteTime": {
     "end_time": "2021-03-01T19:59:30.783119Z",
     "start_time": "2021-03-01T19:59:30.776454Z"
    },
    "code_folding": []
   },
   "outputs": [
    {
     "name": "stdout",
     "output_type": "stream",
     "text": [
      "we write a function that actually  check if any given neuron has a sig state\n"
     ]
    }
   ],
   "source": [
    "print('we write a function that actually  check if any given neuron has a sig state')\n",
    "\n",
    "\n",
    "\n",
    "        \n",
    "\n",
    "\n",
    "\n",
    "\n"
   ]
  },
  {
   "cell_type": "code",
   "execution_count": 53,
   "metadata": {
    "ExecuteTime": {
     "end_time": "2021-03-01T19:59:30.792652Z",
     "start_time": "2021-03-01T19:59:30.783906Z"
    }
   },
   "outputs": [
    {
     "name": "stdout",
     "output_type": "stream",
     "text": [
      "with the functions, we can fit and test the one neuron and against the state\n"
     ]
    }
   ],
   "source": [
    "print('with the functions, we can fit and test the one neuron and against the state')"
   ]
  },
  {
   "cell_type": "code",
   "execution_count": 54,
   "metadata": {
    "ExecuteTime": {
     "end_time": "2021-03-01T19:59:30.800449Z",
     "start_time": "2021-03-01T19:59:30.793715Z"
    }
   },
   "outputs": [],
   "source": [
    "significance_level = 0.05\n",
    "\n",
    "\n",
    "    \n",
    "\n",
    "\n"
   ]
  },
  {
   "cell_type": "code",
   "execution_count": 55,
   "metadata": {
    "ExecuteTime": {
     "end_time": "2021-03-01T19:59:30.811000Z",
     "start_time": "2021-03-01T19:59:30.801391Z"
    },
    "scrolled": true
   },
   "outputs": [
    {
     "name": "stdout",
     "output_type": "stream",
     "text": [
      "we transpose the vector for fitting\n",
      "the independent variables are  the intended kin hence, X\n",
      "[[  0.     0.  ]\n",
      " [ -0.13  -0.24]\n",
      " [  7.28   0.13]\n",
      " [  7.24  -0.65]\n",
      " [ 14.28  -8.28]\n",
      " [ 24.42  -7.59]\n",
      " [ 30.5  -15.01]\n",
      " [ 40.23 -16.75]\n",
      " [ -5.16  12.04]\n",
      " [ -7.21  12.04]\n",
      " [ -6.9   12.04]\n",
      " [ -6.69  12.04]\n",
      " [ -5.76  12.04]\n",
      " [ -5.69  12.04]\n",
      " [ -5.38  12.04]\n",
      " [ -4.52  12.04]\n",
      " [ -4.44  12.04]\n",
      " [ -3.71  12.04]\n",
      " [ -2.62  12.04]\n",
      " [ -2.41  12.04]\n",
      " [ -2.23  12.04]\n",
      " [ -0.74  12.04]\n",
      " [ -0.96  12.04]\n",
      " [  0.25  12.04]\n",
      " [  0.41  12.04]\n",
      " [  1.65  12.04]\n",
      " [  4.27  12.04]\n",
      " [  6.11  12.04]\n",
      " [  7.71  12.04]\n",
      " [  8.39  12.04]\n",
      " [  8.94  12.04]\n",
      " [ 10.75  12.04]\n",
      " [ 10.24  12.04]\n",
      " [ 10.37  12.04]\n",
      " [  9.92  12.04]\n",
      " [  9.16  12.04]\n",
      " [ 10.72  12.04]\n",
      " [ 10.1   12.04]\n",
      " [  8.45  12.04]\n",
      " [  5.96  12.04]\n",
      " [  4.29  12.04]\n",
      " [  3.22  12.04]\n",
      " [  2.76  12.04]\n",
      " [  3.17  12.04]\n",
      " [  3.37  12.04]\n",
      " [  3.82  12.04]\n",
      " [  4.99  12.04]\n",
      " [  5.49  12.04]\n",
      " [  6.97  12.04]\n",
      " [  9.36  12.04]]\n",
      "the dependent variable is the neuron spike connt, hence y\n",
      "[[  0.]\n",
      " [  0.]\n",
      " [  5.]\n",
      " [ 91.]\n",
      " [131.]\n",
      " [235.]\n",
      " [317.]\n",
      " [414.]\n",
      " [  0.]\n",
      " [  0.]\n",
      " [  0.]\n",
      " [  0.]\n",
      " [  0.]\n",
      " [  0.]\n",
      " [  0.]\n",
      " [  0.]\n",
      " [  0.]\n",
      " [  0.]\n",
      " [  0.]\n",
      " [  0.]\n",
      " [  0.]\n",
      " [  0.]\n",
      " [  0.]\n",
      " [  0.]\n",
      " [  4.]\n",
      " [ 20.]\n",
      " [ 35.]\n",
      " [ 58.]\n",
      " [ 71.]\n",
      " [ 79.]\n",
      " [ 96.]\n",
      " [ 87.]\n",
      " [ 94.]\n",
      " [ 95.]\n",
      " [ 86.]\n",
      " [114.]\n",
      " [115.]\n",
      " [104.]\n",
      " [ 77.]\n",
      " [ 53.]\n",
      " [ 40.]\n",
      " [ 31.]\n",
      " [ 39.]\n",
      " [ 37.]\n",
      " [ 33.]\n",
      " [ 38.]\n",
      " [ 43.]\n",
      " [ 55.]\n",
      " [ 82.]\n",
      " [ 97.]]\n",
      "fitting_results:\n",
      "(array([31.69,  7.86, -1.13]), array([0.  , 0.  , 0.08]), True, array([0, 1]))\n"
     ]
    }
   ],
   "source": [
    "from weights import fit_ols\n",
    "\n",
    "print('we transpose the vector for fitting')\n",
    "X = intended_kin_one_batch_2D.T\n",
    "y = np.reshape(spike_count_one_batch_one_neuron, (-1,1))\n",
    "\n",
    "\n",
    "print('the independent variables are  the intended kin hence, X')\n",
    "print(X)\n",
    "\n",
    "\n",
    "print('the dependent variable is the neuron spike connt, hence y')\n",
    "print(y)\n",
    "\n",
    "results = fit_ols(y, X)\n",
    "\n",
    "print('fitting_results:')\n",
    "print(results)\n"
   ]
  },
  {
   "cell_type": "markdown",
   "metadata": {},
   "source": [
    "## test across the neurons in a batch"
   ]
  },
  {
   "cell_type": "code",
   "execution_count": 56,
   "metadata": {
    "ExecuteTime": {
     "end_time": "2021-03-01T19:59:30.821312Z",
     "start_time": "2021-03-01T19:59:30.811849Z"
    }
   },
   "outputs": [
    {
     "data": {
      "text/plain": [
       "(4, 50)"
      ]
     },
     "execution_count": 56,
     "metadata": {},
     "output_type": "execute_result"
    }
   ],
   "source": [
    "spike_count_one_batch.shape"
   ]
  },
  {
   "cell_type": "code",
   "execution_count": 57,
   "metadata": {
    "ExecuteTime": {
     "end_time": "2021-03-01T19:59:30.834106Z",
     "start_time": "2021-03-01T19:59:30.822179Z"
    }
   },
   "outputs": [
    {
     "name": "stdout",
     "output_type": "stream",
     "text": [
      "the pvalue matrix for a batch\n"
     ]
    },
    {
     "name": "stderr",
     "output_type": "stream",
     "text": [
      "/home/sijia-aw/BMi3D_my/lib/python3.8/site-packages/statsmodels/base/model.py:1294: RuntimeWarning: invalid value encountered in true_divide\n",
      "  return self.params / self.bse\n",
      "/home/sijia-aw/BMi3D_my/lib/python3.8/site-packages/scipy/stats/_distn_infrastructure.py:903: RuntimeWarning: invalid value encountered in greater\n",
      "  return (a < x) & (x < b)\n",
      "/home/sijia-aw/BMi3D_my/lib/python3.8/site-packages/scipy/stats/_distn_infrastructure.py:903: RuntimeWarning: invalid value encountered in less\n",
      "  return (a < x) & (x < b)\n",
      "/home/sijia-aw/BMi3D_my/lib/python3.8/site-packages/scipy/stats/_distn_infrastructure.py:1912: RuntimeWarning: invalid value encountered in less_equal\n",
      "  cond2 = cond0 & (x <= _a)\n",
      "/home/sijia-aw/BMi3D_my/operation_funny_chicken/adaptive_feature_selection/weights.py:219: RuntimeWarning: invalid value encountered in less_equal\n",
      "  sig_test_list = np.where(p_value_array <= significance_level)\n"
     ]
    },
    {
     "data": {
      "text/plain": [
       "array([[0.05, 0.66, 0.  , 0.82, 0.  ,  nan, 0.73, 0.04],\n",
       "       [0.  , 0.01, 0.  , 0.19, 0.  ,  nan, 0.  , 0.  ]])"
      ]
     },
     "execution_count": 57,
     "metadata": {},
     "output_type": "execute_result"
    }
   ],
   "source": [
    "\n",
    "\n",
    "n_roi_neuron = 0\n",
    "\n",
    "#assume spike_count_one_batch has the shape N_NEURONS by N_time points\n",
    "#assume that intended_kin_one_batch_2D has N_states by N_Time_points\n",
    "\n",
    "'''\n",
    "\n",
    "'''\n",
    "#get intended kinematics this is fixed for each neuron\n",
    "intended_kin_one_batch_2D = intended_kin_one_batch[(X_VEL_STATE_IND, Y_VEL_STATE_IND),:]\n",
    "#('we transpose the vector for fitting')\n",
    "intended_kin_one_batch_2D = intended_kin_one_batch_2D.T\n",
    "spike_count_one_batch = intended_kin_one_batch.T\n",
    "\n",
    "neuron_batch_pvalue_matrix = calc_single_batch_p_values_by_fitting_kinematics_to_spike_counts(spike_count_one_batch,\n",
    "                                                                       intended_kin_one_batch_2D)\n",
    "\n",
    "print(f'the pvalue matrix for a batch')\n",
    "neuron_batch_pvalue_matrix"
   ]
  },
  {
   "cell_type": "code",
   "execution_count": 58,
   "metadata": {
    "ExecuteTime": {
     "end_time": "2021-03-01T19:59:30.845099Z",
     "start_time": "2021-03-01T19:59:30.835003Z"
    },
    "scrolled": true
   },
   "outputs": [
    {
     "name": "stdout",
     "output_type": "stream",
     "text": [
      "test out the calculate_p_value_matrix\n",
      "[[0.   0.03 0.01]\n",
      " [ nan  nan  nan]\n",
      " [0.   0.   0.  ]\n",
      " [0.06 0.   0.  ]\n",
      " [ nan  nan  nan]\n",
      " [0.   0.   0.  ]\n",
      " [0.   0.01 0.03]]\n",
      "\n",
      "for comparision, this is what we just calculated\n"
     ]
    },
    {
     "data": {
      "text/plain": [
       "array([[0.05, 0.66, 0.  , 0.82, 0.  ,  nan, 0.73, 0.04],\n",
       "       [0.  , 0.01, 0.  , 0.19, 0.  ,  nan, 0.  , 0.  ]])"
      ]
     },
     "execution_count": 58,
     "metadata": {},
     "output_type": "execute_result"
    }
   ],
   "source": [
    "\n",
    "\n",
    "print('test out the calculate_p_value_matrix')\n",
    "\n",
    "calc_p_value_matrix_result = calc_single_batch_p_values_by_fitting_kinematics_to_spike_counts(\n",
    "                            intended_kin_one_batch_2D, \n",
    "                            spike_count_one_batch)\n",
    "print(calc_p_value_matrix_result)\n",
    "print()\n",
    "print('for comparision, this is what we just calculated')\n",
    "neuron_batch_pvalue_matrix"
   ]
  },
  {
   "cell_type": "markdown",
   "metadata": {},
   "source": [
    "## calculate p_values for a different batch"
   ]
  },
  {
   "cell_type": "code",
   "execution_count": 59,
   "metadata": {
    "ExecuteTime": {
     "end_time": "2021-03-01T19:59:30.849274Z",
     "start_time": "2021-03-01T19:59:30.845886Z"
    }
   },
   "outputs": [
    {
     "name": "stdout",
     "output_type": "stream",
     "text": [
      "(2, 50)\n"
     ]
    },
    {
     "data": {
      "text/plain": [
       "(4, 50)"
      ]
     },
     "execution_count": 59,
     "metadata": {},
     "output_type": "execute_result"
    }
   ],
   "source": [
    "# we just take one batch\n",
    "batch_of_interest = 1\n",
    "\n",
    "intended_kin_one_batch = intended_kin[batch_of_interest]\n",
    "intended_kin_one_batch_2D = intended_kin_one_batch[(X_VEL_STATE_IND, Y_VEL_STATE_IND),:]\n",
    "spike_count_one_batch = spike_counts_batch[batch_of_interest]\n",
    "\n",
    "print(intended_kin_one_batch_2D.shape)\n",
    "spike_count_one_batch.shape"
   ]
  },
  {
   "cell_type": "code",
   "execution_count": 60,
   "metadata": {
    "ExecuteTime": {
     "end_time": "2021-03-01T19:59:30.858965Z",
     "start_time": "2021-03-01T19:59:30.850033Z"
    },
    "scrolled": true
   },
   "outputs": [
    {
     "name": "stdout",
     "output_type": "stream",
     "text": [
      "[[0.   0.   0.13]\n",
      " [0.   0.   0.08]\n",
      " [0.   0.34 0.  ]\n",
      " [0.   0.48 0.  ]]\n",
      "here, the issues are if any of the rows are linearly dependent\n",
      "the fit just does not work\n"
     ]
    }
   ],
   "source": [
    "# we just take one batch\n",
    "batch_of_interest = 1\n",
    "\n",
    "intended_kin_one_batch = intended_kin[batch_of_interest]\n",
    "intended_kin_one_batch_2D = intended_kin_one_batch[(X_VEL_STATE_IND, Y_VEL_STATE_IND),:].T\n",
    "spike_count_one_batch = spike_counts_batch[batch_of_interest].T\n",
    "\n",
    "\n",
    "\n",
    "\n",
    "calc_p_value_matrix_result = calc_single_batch_p_values_by_fitting_kinematics_to_spike_counts(\n",
    "                            intended_kin_one_batch_2D, \n",
    "                            spike_count_one_batch)\n",
    "\n",
    "print(calc_p_value_matrix_result)\n",
    "print('here, the issues are if any of the rows are linearly dependent')\n",
    "print('the fit just does not work')"
   ]
  },
  {
   "cell_type": "markdown",
   "metadata": {},
   "source": [
    "## calculate p_values across the batches"
   ]
  },
  {
   "cell_type": "code",
   "execution_count": 61,
   "metadata": {
    "ExecuteTime": {
     "end_time": "2021-03-01T19:59:30.866222Z",
     "start_time": "2021-03-01T19:59:30.859838Z"
    }
   },
   "outputs": [
    {
     "name": "stdout",
     "output_type": "stream",
     "text": [
      "(44, 4, 50)\n",
      "(44, 7, 50)\n"
     ]
    }
   ],
   "source": [
    "print(spike_counts_batch.shape)\n",
    "print(intended_kin.shape)"
   ]
  },
  {
   "cell_type": "code",
   "execution_count": 62,
   "metadata": {
    "ExecuteTime": {
     "end_time": "2021-03-01T19:59:30.939088Z",
     "start_time": "2021-03-01T19:59:30.866971Z"
    }
   },
   "outputs": [
    {
     "name": "stdout",
     "output_type": "stream",
     "text": [
      "regress on the states index : 3 and 5\n",
      "we can check the type of the design matrix\n"
     ]
    },
    {
     "data": {
      "text/plain": [
       "(44, 4, 3)"
      ]
     },
     "execution_count": 62,
     "metadata": {},
     "output_type": "execute_result"
    }
   ],
   "source": [
    "\n",
    "\n",
    "batch_pvalue_matrix = calc_p_values_for_spike_batches_use_intended_kin(spike_counts_batch, \n",
    "                                                                       intended_kin)\n",
    "    \n",
    "print('we can check the type of the design matrix')\n",
    "batch_pvalue_matrix.shape"
   ]
  },
  {
   "cell_type": "code",
   "execution_count": 63,
   "metadata": {
    "ExecuteTime": {
     "end_time": "2021-03-01T19:59:31.045042Z",
     "start_time": "2021-03-01T19:59:30.939944Z"
    }
   },
   "outputs": [
    {
     "name": "stdout",
     "output_type": "stream",
     "text": [
      "we look at the batched p_value 0\n"
     ]
    },
    {
     "data": {
      "text/plain": [
       "<matplotlib.legend.Legend at 0x7fd1843ff3a0>"
      ]
     },
     "execution_count": 63,
     "metadata": {},
     "output_type": "execute_result"
    },
    {
     "data": {
      "image/png": "[encoded data removed]",
      "text/plain": [
       "<Figure size 432x288 with 1 Axes>"
      ]
     },
     "metadata": {
      "needs_background": "light"
     },
     "output_type": "display_data"
    }
   ],
   "source": [
    "n_roi_neuron = 0\n",
    "print(f'we look at the batched p_value {n_roi_neuron}')\n",
    "batch_pvalue_matrix_neuron = np.squeeze(batch_pvalue_matrix[:,n_roi_neuron,:])\n",
    "\n",
    "plt.plot(batch_pvalue_matrix_neuron)\n",
    "plt.xlabel('update count')\n",
    "plt.legend(['X vel', 'Y vel'])"
   ]
  },
  {
   "cell_type": "code",
   "execution_count": 64,
   "metadata": {
    "ExecuteTime": {
     "end_time": "2021-03-01T19:59:31.345539Z",
     "start_time": "2021-03-01T19:59:31.045969Z"
    },
    "scrolled": false
   },
   "outputs": [
    {
     "data": {
      "image/png": "[encoded data removed]",
      "text/plain": [
       "<Figure size 1152x288 with 4 Axes>"
      ]
     },
     "metadata": {
      "needs_background": "light"
     },
     "output_type": "display_data"
    }
   ],
   "source": [
    "\n",
    "\n",
    "\n",
    "fig, axs = plt.subplots(1,N_NEURONS, figsize = (16,4))\n",
    "\n",
    "for n in range(N_NEURONS):\n",
    "    \n",
    "    \n",
    "    \n",
    "    batch_pvalue_matrix_neuron = np.squeeze(batch_pvalue_matrix[:,n,:])\n",
    "    axs[n].plot(batch_pvalue_matrix_neuron[:,1:])\n",
    "    \n",
    "    \n",
    "    if n == 0: axs[n].legend(['X Vel', 'Y vel'])\n",
    "\n",
    "\n"
   ]
  },
  {
   "cell_type": "markdown",
   "metadata": {},
   "source": [
    "the batch time is small\n",
    "a batch should include at least 4 reaches.\n",
    "very linear. all of a sudden, it gets way.\n",
    "\n",
    "inside target, setting the int to zero. \n",
    "the hold vel is zero.  "
   ]
  },
  {
   "cell_type": "markdown",
   "metadata": {},
   "source": [
    "## compare across conditions"
   ]
  },
  {
   "cell_type": "code",
   "execution_count": 65,
   "metadata": {
    "ExecuteTime": {
     "end_time": "2021-03-01T19:59:31.354873Z",
     "start_time": "2021-03-01T19:59:31.346612Z"
    }
   },
   "outputs": [],
   "source": [
    "for n in range(N_NEURONS):\n",
    "    \n",
    "    \n",
    "    \n",
    "    batch_pvalue_matrix_neuron = np.squeeze(batch_pvalue_matrix[:,n,:])\n",
    "    axs[n].plot(batch_pvalue_matrix_neuron[:,1:])\n",
    "    \n",
    "    \n",
    "    if n == 0: axs[n].legend(['X Vel', 'Y vel'])\n"
   ]
  }
 ],
 "metadata": {
  "kernelspec": {
   "display_name": "Python 3",
   "language": "python",
   "name": "python3"
  },
  "language_info": {
   "codemirror_mode": {
    "name": "ipython",
    "version": 3
   },
   "file_extension": ".py",
   "mimetype": "text/x-python",
   "name": "python",
   "nbconvert_exporter": "python",
   "pygments_lexer": "ipython3",
   "version": "3.8.5"
  },
  "toc": {
   "base_numbering": 1,
   "nav_menu": {},
   "number_sections": true,
   "sideBar": true,
   "skip_h1_title": false,
   "title_cell": "Table of Contents",
   "title_sidebar": "Contents",
   "toc_cell": false,
   "toc_position": {
    "height": "600.8px",
    "left": "35px",
    "top": "353.8px",
    "width": "293.1px"
   },
   "toc_section_display": true,
   "toc_window_display": true
  },
  "varInspector": {
   "cols": {
    "lenName": 16,
    "lenType": 16,
    "lenVar": 40
   },
   "kernels_config": {
    "python": {
     "delete_cmd_postfix": "",
     "delete_cmd_prefix": "del ",
     "library": "var_list.py",
     "varRefreshCmd": "print(var_dic_list())"
    },
    "r": {
     "delete_cmd_postfix": ") ",
     "delete_cmd_prefix": "rm(",
     "library": "var_list.r",
     "varRefreshCmd": "cat(var_dic_list()) "
    }
   },
   "types_to_exclude": [
    "module",
    "function",
    "builtin_function_or_method",
    "instance",
    "_Feature"
   ],
   "window_display": false
  }
 },
 "nbformat": 4,
 "nbformat_minor": 4
}
