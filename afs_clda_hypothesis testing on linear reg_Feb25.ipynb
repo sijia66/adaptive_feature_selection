{
 "cells": [
  {
   "cell_type": "markdown",
   "metadata": {},
   "source": [
    "# Purposes of this document\n",
    "\n",
    "the goal is to actually\n",
    "examine the relevance of the features with respect to the estimated intentions.\n",
    "\n",
    "we fit the est. intentions to the features(spike_counts) \n",
    "and test the p_values of the reg. coefficients. \n",
    "\n",
    "we expect to see:\n",
    "1. for each row,  it should similar to the encoder C matrix\n",
    "2. the non-relevant features or non-encoding features would have close to 1 p-values. \n",
    "\n",
    "in the end, \n",
    "we will demonstrate the mismatch through\n",
    "1. the rewarded trials and the reward trial rate. \n",
    "2. qualitative comparisions of trajectories. \n",
    "3. the tuning directions of C. and the tracking performance using correlation coefficients"
   ]
  },
  {
   "cell_type": "markdown",
   "metadata": {},
   "source": [
    "# Experimental setup related to the questions\n",
    "\n",
    "this part should be configured to directly test the hypothesis put forward in the previous section\n"
   ]
  },
  {
   "cell_type": "code",
   "execution_count": 1,
   "metadata": {
    "ExecuteTime": {
     "end_time": "2021-02-23T19:44:47.806021Z",
     "start_time": "2021-02-23T19:44:47.744609Z"
    }
   },
   "outputs": [],
   "source": [
    "import numpy as np\n",
    "\n",
    "#encoder mean firing rate\n",
    "neuron_firing_rates  = [1, 10, 100]\n",
    "\n",
    "#for comparision\n",
    "exp_conds = [f'enc. mean FR:{b} s' for b in neuron_firing_rates]\n",
    "\n",
    "\n",
    "#setting clda parameters \n",
    "##learner: collects paird data at batch_sizes\n",
    "RHO = 0.5\n",
    "batch_size = 10\n",
    "\n",
    "\n",
    "#assistor set up assist level\n",
    "assist_level = (0.05, 0.0)\n",
    "\n",
    "#learner and updater: actualy set up rho\n",
    "UPDATER_BATCH_TIME = 1\n",
    "UPDATER_HALF_LIFE = np.log(RHO)  * UPDATER_BATCH_TIME / np.log(0.5)\n"
   ]
  },
  {
   "cell_type": "code",
   "execution_count": 2,
   "metadata": {
    "ExecuteTime": {
     "end_time": "2021-02-23T19:44:47.809344Z",
     "start_time": "2021-02-23T19:44:47.807047Z"
    }
   },
   "outputs": [],
   "source": [
    "# CHANGE: game mechanics: generate task params\n",
    "N_TARGETS = 8\n",
    "N_TRIALS = 8\n",
    "\n",
    "NUM_EXP = len(exp_conds) # how many experiments we are running. "
   ]
  },
  {
   "cell_type": "markdown",
   "metadata": {},
   "source": [
    "# setting up the simulation components\n",
    "\n",
    "this section largely copyied and pasted from   \n",
    "bmi3d-sijia(branch)-bulti_in_experiemnts\n",
    "https://github.com/sijia66/brain-python-interface/blob/master/built_in_tasks/sim_task_KF.py"
   ]
  },
  {
   "cell_type": "code",
   "execution_count": 3,
   "metadata": {
    "ExecuteTime": {
     "end_time": "2021-02-23T19:44:48.569975Z",
     "start_time": "2021-02-23T19:44:47.810155Z"
    }
   },
   "outputs": [
    {
     "name": "stderr",
     "output_type": "stream",
     "text": [
      "/home/sijia-aw/BMi3D_my/lab_bmi3d/riglib/blackrock/cerelink.py:13: UserWarning: Unable to import cerebus library. Check if is installed if using the Blackrock NeuroPort system\n",
      "  warnings.warn(\"Unable to import cerebus library. Check if is installed if using the Blackrock NeuroPort system\")\n"
     ]
    }
   ],
   "source": [
    "# import libraries\n",
    "# make sure these directories are in the python path., \n",
    "from bmimultitasks import SimBMIControlMulti, SimBMICosEncKFDec, BMIControlMultiNoWindow\n",
    "from features import SaveHDF\n",
    "from features.simulation_features import get_enc_setup, SimKFDecoderRandom, SimCosineTunedEnc,SimIntentionLQRController, SimClockTick\n",
    "from features.simulation_features import SimHDF, SimTime\n",
    "\n",
    "from riglib import experiment\n",
    "\n",
    "from riglib.stereo_opengl.window import FakeWindow\n",
    "from riglib.bmi import train\n",
    "\n",
    "from weights import replace_kalman_filter\n",
    "import weights\n",
    "\n",
    "import time\n",
    "import copy\n",
    "import numpy as np\n",
    "import matplotlib.pyplot as plt\n",
    "import sympy as sp\n",
    "import itertools #for identical sequences\n",
    "\n",
    "np.set_printoptions(precision=2, suppress=True)\n"
   ]
  },
  {
   "cell_type": "markdown",
   "metadata": {},
   "source": [
    "##  behaviour and task setup"
   ]
  },
  {
   "cell_type": "code",
   "execution_count": 4,
   "metadata": {
    "ExecuteTime": {
     "end_time": "2021-02-23T19:44:48.573329Z",
     "start_time": "2021-02-23T19:44:48.570829Z"
    }
   },
   "outputs": [],
   "source": [
    "seq = SimBMIControlMulti.sim_target_seq_generator_multi(\n",
    "N_TARGETS, N_TRIALS)\n",
    "\n",
    "#create a second version of the tasks\n",
    "seqs = itertools.tee(seq, NUM_EXP + 1)\n",
    "target_seq = list(seqs[NUM_EXP])\n",
    "\n",
    "seqs = seqs[:NUM_EXP]\n",
    "\n",
    "\n",
    "SAVE_HDF = False\n",
    "SAVE_SIM_HDF = True #this makes the task data available as exp.task_data_hist\n",
    "DEBUG_FEATURE = False\n",
    "\n",
    "\n",
    "#base_class = SimBMIControlMulti\n",
    "base_class = BMIControlMultiNoWindow\n",
    "\n",
    "#for adding experimental features such as encoder, decoder\n",
    "feats = []"
   ]
  },
  {
   "cell_type": "markdown",
   "metadata": {},
   "source": [
    "## encoder\n",
    "\n",
    "the cosine tuned encoder uses a poisson process, right\n",
    "https://en.wikipedia.org/wiki/Poisson_distribution\n",
    "so if the lambda is 1, then it's very likely "
   ]
  },
  {
   "cell_type": "code",
   "execution_count": 5,
   "metadata": {
    "ExecuteTime": {
     "end_time": "2021-02-23T19:44:48.584709Z",
     "start_time": "2021-02-23T19:44:48.574290Z"
    }
   },
   "outputs": [
    {
     "name": "stdout",
     "output_type": "stream",
     "text": [
      "features.simulation_features: get_enc_setup has a tuning_level of 1 \n",
      "\n",
      "__main__: selected SimCosineTunedEnc\n",
      "\n"
     ]
    }
   ],
   "source": [
    "ENCODER_TYPE = 'cosine_tuned_encoder'\n",
    "\n",
    "#neuron set up : 'std (20 neurons)' or 'toy (4 neurons)' \n",
    "N_NEURONS, N_STATES, sim_C = get_enc_setup(sim_mode = 'toy')\n",
    "\n",
    "\n",
    "#actually multiply out the firing rates. \n",
    "sim_C_all = [sim_C * nfr for nfr in neuron_firing_rates]\n",
    "\n",
    "\n",
    "#set up intention feedbackcontroller\n",
    "#this ideally set before the encoder\n",
    "feats.append(SimIntentionLQRController)\n",
    "\n",
    "#set up the encoder\n",
    "if ENCODER_TYPE == 'cosine_tuned_encoder' :\n",
    "    feats.append(SimCosineTunedEnc)\n",
    "    print(f'{__name__}: selected SimCosineTunedEnc\\n')"
   ]
  },
  {
   "cell_type": "markdown",
   "metadata": {},
   "source": [
    "## decoder setup"
   ]
  },
  {
   "cell_type": "code",
   "execution_count": 6,
   "metadata": {
    "ExecuteTime": {
     "end_time": "2021-02-23T19:44:48.595487Z",
     "start_time": "2021-02-23T19:44:48.585552Z"
    }
   },
   "outputs": [
    {
     "name": "stdout",
     "output_type": "stream",
     "text": [
      "__main__: set base class \n",
      "__main__: selected SimKFDecoderRandom \n",
      "\n"
     ]
    }
   ],
   "source": [
    "#clda on random \n",
    "DECODER_MODE = 'random' # random \n",
    "\n",
    "   #take care the decoder setup\n",
    "if DECODER_MODE == 'random':\n",
    "    feats.append(SimKFDecoderRandom)\n",
    "    print(f'{__name__}: set base class ')\n",
    "    print(f'{__name__}: selected SimKFDecoderRandom \\n')\n",
    "else: #defaul to a cosEnc and a pre-traind KF DEC\n",
    "    from features.simulation_features import SimKFDecoderSup\n",
    "    feats.append(SimKFDecoderSup)\n",
    "    print(f'{__name__}: set decoder to SimKFDecoderSup\\n')"
   ]
  },
  {
   "cell_type": "markdown",
   "metadata": {},
   "source": [
    "##  clda: learner and updater"
   ]
  },
  {
   "cell_type": "code",
   "execution_count": 7,
   "metadata": {
    "ExecuteTime": {
     "end_time": "2021-02-23T19:44:48.605294Z",
     "start_time": "2021-02-23T19:44:48.598260Z"
    }
   },
   "outputs": [],
   "source": [
    "\n",
    "\n",
    "LEARNER_TYPE = 'feedback' # to dumb or not dumb it is a question 'feedback'\n",
    "UPDATER_TYPE = 'smooth_batch' #none or \"smooth_batch\"\n",
    "\n",
    "\n",
    "#you know what? \n",
    "#learner only collects firing rates labeled with estimated estimates\n",
    "#we would also need to use the labeled data\n",
    "#now, we can set up a dumb/or not-dumb learner\n",
    "if LEARNER_TYPE == 'feedback':\n",
    "    from features.simulation_features import SimFeedbackLearner\n",
    "    feats.append(SimFeedbackLearner)\n",
    "else:\n",
    "    from features.simulation_features import SimDumbLearner\n",
    "    feats.append(SimDumbLearner)\n",
    "\n",
    "#to update the decoder.\n",
    "if UPDATER_TYPE == 'smooth_batch':\n",
    "    from features.simulation_features import SimSmoothBatch\n",
    "    feats.append(SimSmoothBatch)\n",
    "else: #defaut to none \n",
    "    print(f'{__name__}: need to specify an updater')\n",
    "    \n",
    "\n"
   ]
  },
  {
   "cell_type": "markdown",
   "metadata": {},
   "source": [
    "## assistor setup"
   ]
  },
  {
   "cell_type": "markdown",
   "metadata": {},
   "source": [
    "## (Check) config the experiment"
   ]
  },
  {
   "cell_type": "code",
   "execution_count": 8,
   "metadata": {
    "ExecuteTime": {
     "end_time": "2021-02-23T19:44:48.614244Z",
     "start_time": "2021-02-23T19:44:48.606129Z"
    }
   },
   "outputs": [
    {
     "data": {
      "text/plain": [
       "[{'assist_level': (0.05, 0.0),\n",
       "  'sim_C': array([[ 0.,  0.,  0.,  1.,  0.,  0.,  0.],\n",
       "         [ 0.,  0.,  0., -1.,  0.,  0.,  0.],\n",
       "         [ 0.,  0.,  0.,  0.,  0.,  1.,  0.],\n",
       "         [ 0.,  0.,  0.,  0.,  0., -1.,  0.]]),\n",
       "  'batch_size': 10},\n",
       " {'assist_level': (0.05, 0.0),\n",
       "  'sim_C': array([[  0.,   0.,   0.,  10.,   0.,   0.,   0.],\n",
       "         [  0.,   0.,   0., -10.,   0.,   0.,   0.],\n",
       "         [  0.,   0.,   0.,   0.,   0.,  10.,   0.],\n",
       "         [  0.,   0.,   0.,   0.,   0., -10.,   0.]]),\n",
       "  'batch_size': 10},\n",
       " {'assist_level': (0.05, 0.0),\n",
       "  'sim_C': array([[   0.,    0.,    0.,  100.,    0.,    0.,    0.],\n",
       "         [   0.,    0.,    0., -100.,    0.,    0.,    0.],\n",
       "         [   0.,    0.,    0.,    0.,    0.,  100.,    0.],\n",
       "         [   0.,    0.,    0.,    0.,    0., -100.,    0.]]),\n",
       "  'batch_size': 10}]"
      ]
     },
     "execution_count": 8,
     "metadata": {},
     "output_type": "execute_result"
    }
   ],
   "source": [
    "if DEBUG_FEATURE: \n",
    "    from features.simulation_features import DebugFeature\n",
    "    feats.append(DebugFeature)\n",
    "    \n",
    "if SAVE_HDF: feats.append(SaveHDF)\n",
    "if SAVE_SIM_HDF: feats.append(SimHDF)\n",
    "    \n",
    "    \n",
    "#pass the real time limit on clock\n",
    "feats.append(SimClockTick)\n",
    "feats.append(SimTime)\n",
    "\n",
    "\n",
    "kwargs_exps = list()\n",
    "\n",
    "for i in range(NUM_EXP):\n",
    "    d = dict()\n",
    "    \n",
    "    d['assist_level'] = assist_level\n",
    "    d['sim_C'] = sim_C_all[i]\n",
    "    d['batch_size'] = batch_size\n",
    "    \n",
    "    kwargs_exps.append(d)\n",
    "\n",
    "\n",
    "kwargs_exps"
   ]
  },
  {
   "cell_type": "markdown",
   "metadata": {},
   "source": [
    "## make and initalize experiment instances"
   ]
  },
  {
   "cell_type": "code",
   "execution_count": 9,
   "metadata": {
    "ExecuteTime": {
     "end_time": "2021-02-23T19:44:48.654593Z",
     "start_time": "2021-02-23T19:44:48.615153Z"
    }
   },
   "outputs": [
    {
     "name": "stdout",
     "output_type": "stream",
     "text": [
      "metaclass constructor\n",
      "(<class 'features.simulation_features.SimIntentionLQRController'>, <class 'features.simulation_features.SimCosineTunedEnc'>, <class 'features.simulation_features.SimKFDecoderRandom'>, <class 'features.simulation_features.SimFeedbackLearner'>, <class 'features.simulation_features.SimSmoothBatch'>, <class 'features.simulation_features.SimHDF'>, <class 'features.simulation_features.SimClockTick'>, <class 'features.simulation_features.SimTime'>, <class 'bmimultitasks.BMIControlMultiNoWindow'>)\n",
      "[<class 'features.simulation_features.SimIntentionLQRController'>, <class 'features.simulation_features.SimCosineTunedEnc'>, <class 'features.simulation_features.SimKFDecoderRandom'>, <class 'features.simulation_features.SimFeedbackLearner'>, <class 'features.simulation_features.SimSmoothBatch'>, <class 'features.simulation_features.SimHDF'>, <class 'features.simulation_features.SimClockTick'>, <class 'features.simulation_features.SimTime'>]\n",
      "\n",
      "features.simulation_features.SimIntentionLQRController: LQRController used \n",
      "\n",
      "\n",
      " features.simulation_features.SimFeedbackLearner: start to create a sim leaner with a batchsize of 10\n",
      "features.simulation_features.SimSmoothBatch: rho in this simulation is  0.9885140203528962\n",
      "\n",
      "finished executing Experiment.__init__\n",
      "\n",
      "features.simulation_features.SimIntentionLQRController: LQRController used \n",
      "\n",
      "\n",
      " features.simulation_features.SimFeedbackLearner: start to create a sim leaner with a batchsize of 10\n",
      "features.simulation_features.SimSmoothBatch: rho in this simulation is  0.9885140203528962\n",
      "\n",
      "finished executing Experiment.__init__\n",
      "\n",
      "features.simulation_features.SimIntentionLQRController: LQRController used \n",
      "\n",
      "\n",
      " features.simulation_features.SimFeedbackLearner: start to create a sim leaner with a batchsize of 10\n",
      "features.simulation_features.SimSmoothBatch: rho in this simulation is  0.9885140203528962\n",
      "\n",
      "finished executing Experiment.__init__\n",
      "\n",
      "SimCosineTunedEnc SSM: State space: ['hand_px', 'hand_py', 'hand_pz', 'hand_vx', 'hand_vy', 'hand_vz', 'offset'] \n",
      "\n",
      "neural encoder init function  <BMIControlMultiNoWindow(Thread-4, initial)>\n",
      "features.simulation_features: added tracking of K matrix\n",
      "<bmimultitasks.SimpleEndpointAssister object at 0x7f1debc48310>\n",
      "features.simulation_features: batch size is 10\n",
      "Reset states for learner: \n",
      "[]\n",
      "Done states for learner: \n",
      "[]\n",
      "\n",
      "features.simulation_features.SimFeedbackLearner: flip the self.learn_flag to true\n",
      "features.simulation_features.SimFeedbackLearner: succussfully created a feedback controller learner\n",
      "\n",
      "\n",
      "SimSmoothBatch: created an updater with a batch time of 1 and a half_life of 60 \n",
      "\n",
      "\n",
      "SimCosineTunedEnc SSM: State space: ['hand_px', 'hand_py', 'hand_pz', 'hand_vx', 'hand_vy', 'hand_vz', 'offset'] \n",
      "\n",
      "neural encoder init function  <BMIControlMultiNoWindow(Thread-5, initial)>\n",
      "features.simulation_features: added tracking of K matrix\n",
      "<bmimultitasks.SimpleEndpointAssister object at 0x7f1debc6fc40>\n",
      "features.simulation_features: batch size is 10\n",
      "Reset states for learner: \n",
      "[]\n",
      "Done states for learner: \n",
      "[]\n",
      "\n",
      "features.simulation_features.SimFeedbackLearner: flip the self.learn_flag to true\n",
      "features.simulation_features.SimFeedbackLearner: succussfully created a feedback controller learner\n",
      "\n",
      "\n",
      "SimSmoothBatch: created an updater with a batch time of 1 and a half_life of 60 \n",
      "\n",
      "\n",
      "SimCosineTunedEnc SSM: State space: ['hand_px', 'hand_py', 'hand_pz', 'hand_vx', 'hand_vy', 'hand_vz', 'offset'] \n",
      "\n",
      "neural encoder init function  <BMIControlMultiNoWindow(Thread-6, initial)>\n",
      "features.simulation_features: added tracking of K matrix\n",
      "<bmimultitasks.SimpleEndpointAssister object at 0x7f1debc64d00>\n",
      "features.simulation_features: batch size is 10\n",
      "Reset states for learner: \n",
      "[]\n",
      "Done states for learner: \n",
      "[]\n",
      "\n",
      "features.simulation_features.SimFeedbackLearner: flip the self.learn_flag to true\n",
      "features.simulation_features.SimFeedbackLearner: succussfully created a feedback controller learner\n",
      "\n",
      "\n",
      "SimSmoothBatch: created an updater with a batch time of 1 and a half_life of 60 \n",
      "\n"
     ]
    }
   ],
   "source": [
    "#seed the experiment\n",
    "np.random.seed(0)\n",
    "\n",
    "#spawn the task\n",
    "Exp = experiment.make(base_class, feats=feats)\n",
    "\n",
    "exps = list()#create a list of experiment\n",
    "\n",
    "for i,s in enumerate(seqs):\n",
    "    e = Exp(s, **kwargs_exps[i])\n",
    "    exps.append(e)\n",
    "\n",
    "#run the ini\n",
    "for e in exps: e.init()"
   ]
  },
  {
   "cell_type": "markdown",
   "metadata": {},
   "source": [
    "# Pre-experiment check: check the Kalman filter before training"
   ]
  },
  {
   "cell_type": "code",
   "execution_count": 10,
   "metadata": {
    "ExecuteTime": {
     "end_time": "2021-02-23T19:44:49.024284Z",
     "start_time": "2021-02-23T19:44:48.655390Z"
    }
   },
   "outputs": [
    {
     "data": {
      "image/png": "[encoded data removed]",
      "text/plain": [
       "<Figure size 432x288 with 1 Axes>"
      ]
     },
     "metadata": {
      "needs_background": "light"
     },
     "output_type": "display_data"
    },
    {
     "data": {
      "image/png": "[encoded data removed]",
      "text/plain": [
       "<Figure size 432x288 with 1 Axes>"
      ]
     },
     "metadata": {
      "needs_background": "light"
     },
     "output_type": "display_data"
    },
    {
     "data": {
      "image/png": "[encoded data removed]",
      "text/plain": [
       "<Figure size 432x288 with 1 Axes>"
      ]
     },
     "metadata": {
      "needs_background": "light"
     },
     "output_type": "display_data"
    }
   ],
   "source": [
    "for e in exps:\n",
    "    e.decoder.plot_K()"
   ]
  },
  {
   "cell_type": "markdown",
   "metadata": {},
   "source": [
    "# Experiment run: assemble into a complete loop"
   ]
  },
  {
   "cell_type": "markdown",
   "metadata": {},
   "source": [
    "##  define the function"
   ]
  },
  {
   "cell_type": "code",
   "execution_count": 11,
   "metadata": {
    "ExecuteTime": {
     "end_time": "2021-02-23T19:44:49.035024Z",
     "start_time": "2021-02-23T19:44:49.025174Z"
    },
    "scrolled": true
   },
   "outputs": [],
   "source": [
    "#make this into a loop\n",
    "\n",
    "def run_exp_loop(exp,  **kwargs):\n",
    "        # riglib.experiment: line 597 - 601\n",
    "    #exp.next_trial = next(exp.gen)\n",
    "    # -+exp._parse_next_trial()np.arraynp.array\n",
    "\n",
    "\n",
    "    # we need to set the initial state\n",
    "    # per fsm.run:  line 138\n",
    "\n",
    "\n",
    "    # Initialize the FSM before the loop\n",
    "    exp.set_state(exp.state)\n",
    "    \n",
    "    finished_trials = exp.calc_state_occurrences('wait')\n",
    "    print(f'finished: {finished_trials}')\n",
    "\n",
    "\n",
    "    while exp.state is not None:\n",
    "\n",
    "        # exp.fsm_tick()\n",
    "\n",
    "        ### Execute commands#####\n",
    "        exp.exec_state_specific_actions(exp.state)\n",
    "\n",
    "        ###run the bmi loop #####\n",
    "        # _cycle\n",
    "\n",
    "        # bmi feature extraction, eh\n",
    "        #riglib.bmi: 1202\n",
    "        feature_data = exp.get_features()\n",
    "\n",
    "        # Determine the target_state and save to file\n",
    "        current_assist_level = exp.get_current_assist_level()\n",
    "        target_state = exp.get_target_BMI_state(exp.decoder.states)\n",
    "\n",
    "        # Determine the assistive control inputs to the Decoder\n",
    "        #update assistive control level\n",
    "        exp.update_level()\n",
    "        if np.any(current_assist_level) > 0:\n",
    "            current_state = exp.get_current_state()\n",
    "\n",
    "            if target_state.shape[1] > 1:\n",
    "                assist_kwargs = exp.assister(current_state, \n",
    "                                             target_state[:,0].reshape(-1,1), \n",
    "                                             current_assist_level, mode= exp.state)\n",
    "            else:\n",
    "                assist_kwargs = exp.assister(current_state, \n",
    "                                              target_state, \n",
    "                                              current_assist_level, \n",
    "                                              mode= exp.state)\n",
    "\n",
    "            kwargs.update(assist_kwargs)\n",
    "            \n",
    "        \n",
    "\n",
    "        # decode the new features\n",
    "        # riglib.bmi.bmiloop: line 1245\n",
    "        neural_features = feature_data[exp.extractor.feature_type]\n",
    "\n",
    "        # call decoder.\n",
    "        #tmp = exp.call_decoder(neural_features, target_state, **kwargs)\n",
    "        neural_obs = neural_features\n",
    "        learn_flag = exp.learn_flag\n",
    "        task_state = exp.state\n",
    "\n",
    "        n_units, n_obs = neural_obs.shape\n",
    "        # If the target is specified as a 1D position, tile to match\n",
    "        # the number of dimensions as the neural features\n",
    "        if np.ndim(target_state) == 1 or (target_state.shape[1] == 1 and n_obs > 1):\n",
    "            target_state = np.tile(target_state, [1, n_obs])\n",
    "\n",
    "        decoded_states = np.zeros([exp.bmi_system.decoder.n_states, n_obs])\n",
    "        update_flag = False\n",
    "\n",
    "        for k in range(n_obs):\n",
    "            neural_obs_k = neural_obs[:, k].reshape(-1, 1)\n",
    "            target_state_k = target_state[:, k]\n",
    "\n",
    "            # NOTE: the conditional below is *only* for compatibility with older Carmena\n",
    "            # lab data collected using a different MATLAB-based system. In all python cases,\n",
    "            # the task_state should never contain NaN values.\n",
    "            if np.any(np.isnan(target_state_k)):\n",
    "                task_state = 'no_target'\n",
    "\n",
    "            #################################\n",
    "            # Decode the current observation\n",
    "            #################################\n",
    "            decodable_obs, decode = exp.bmi_system.feature_accumulator(\n",
    "                neural_obs_k)\n",
    "            if decode:  # if a new decodable observation is available from the feature accumulator\n",
    "                prev_state = exp.bmi_system.decoder.get_state()\n",
    "\n",
    "                exp.bmi_system.decoder(decodable_obs, **kwargs)\n",
    "                # Determine whether the current state or previous state should be given to the learner\n",
    "                if exp.bmi_system.learner.input_state_index == 0:\n",
    "                    learner_state = exp.bmi_system.decoder.get_state()\n",
    "                elif exp.bmi_system.learner.input_state_index == -1:\n",
    "                    learner_state = prev_state\n",
    "                else:\n",
    "                    print((\"Not implemented yet: %d\" %\n",
    "                           exp.bmi_system.learner.input_state_index))\n",
    "                    learner_state = prev_state\n",
    "\n",
    "                if learn_flag:\n",
    "                    exp.bmi_system.learner(decodable_obs.copy(), learner_state, target_state_k, exp.bmi_system.decoder.get_state(\n",
    "                    ), task_state, state_order=exp.bmi_system.decoder.ssm.state_order)\n",
    "\n",
    "            decoded_states[:, k] = exp.bmi_system.decoder.get_state()\n",
    "\n",
    "            ############################\n",
    "            # Update decoder parameters\n",
    "            ############################\n",
    "            if exp.bmi_system.learner.is_ready():\n",
    "                batch_data = exp.bmi_system.learner.get_batch()\n",
    "                batch_data['decoder'] = exp.bmi_system.decoder\n",
    "                kwargs.update(batch_data)\n",
    "                exp.bmi_system.updater(**kwargs)\n",
    "                exp.bmi_system.learner.disable()\n",
    "\n",
    "            new_params = None  # by default, no new parameters are available\n",
    "            if exp.bmi_system.has_updater:\n",
    "                new_params = copy.deepcopy(exp.bmi_system.updater.get_result())\n",
    "\n",
    "            # Update the decoder if new parameters are available\n",
    "            if not (new_params is None):\n",
    "                exp.bmi_system.decoder.update_params(\n",
    "                    new_params, **exp.bmi_system.updater.update_kwargs)\n",
    "                new_params['intended_kin'] = batch_data['intended_kin']\n",
    "                new_params['spike_counts_batch'] = batch_data['spike_counts']\n",
    "\n",
    "                exp.bmi_system.learner.enable()\n",
    "                update_flag = True\n",
    "\n",
    "                # Save new parameters to parameter history\n",
    "                exp.bmi_system.param_hist.append(new_params)\n",
    "\n",
    "\n",
    "\n",
    "        # saved as task data\n",
    "        # return decoded_states, update_flag\n",
    "        tmp = decoded_states\n",
    "        exp.task_data['internal_decoder_state'] = tmp\n",
    "\n",
    "        # reset the plant position\n",
    "        # @riglib.bmi.BMILoop.move_plant  line:1254\n",
    "        exp.plant.drive(exp.decoder)\n",
    "\n",
    "        # check state transitions and run the FSM.\n",
    "        current_state = exp.state\n",
    "\n",
    "        # iterate over the possible events which could move the task out of the current state\n",
    "        for event in exp.status[current_state]:\n",
    "            # if the event has occurred\n",
    "            if exp.test_state_transition_event(event):\n",
    "                # execute commands to end the current state\n",
    "                exp.end_state(current_state)\n",
    "\n",
    "                # trigger the transition for the event\n",
    "                exp.trigger_event(event)\n",
    "\n",
    "                # stop searching for transition events (transition events must be\n",
    "                # mutually exclusive for this FSM to function properly)\n",
    "                break\n",
    "\n",
    "        # sort out the loop params.\n",
    "        # inc cycle count\n",
    "        exp.cycle_count += 1\n",
    "\n",
    "        # save target data as was done in manualControlTasks._cycle\n",
    "        exp.task_data['target'] = exp.target_location.copy()\n",
    "        exp.task_data['target_index'] = exp.target_index\n",
    "\n",
    "        #done in bmi:_cycle after move_plant\n",
    "        exp.task_data['loop_time'] = exp.iter_time()\n",
    "\n",
    "\n",
    "        #fb_controller data\n",
    "        exp.task_data['target_state'] = target_state\n",
    "\n",
    "        #encoder data\n",
    "        #input to this is actually extractor\n",
    "        exp.task_data['ctrl_input'] = np.reshape(exp.extractor.sim_ctrl, (1,-1))\n",
    "\n",
    "        #actually output\n",
    "        exp.task_data['spike_counts'] = feature_data['spike_counts']\n",
    "\n",
    "\n",
    "        #save the decoder_state\n",
    "        #from BMILoop.move_plant\n",
    "        exp.task_data['decoder_state'] = exp.decoder.get_state(shape=(-1,1))\n",
    "        \n",
    "        #save bmi_data\n",
    "        exp.task_data['update_bmi'] = update_flag\n",
    "\n",
    "\n",
    "        # as well as plant data.\n",
    "        plant_data = exp.plant.get_data_to_save()\n",
    "        for key in plant_data:\n",
    "            exp.task_data[key] = plant_data[key]\n",
    "\n",
    "        # clda data handled in the above call.\n",
    "\n",
    "        # save to the list hisory of data.\n",
    "        exp.task_data_hist.append(exp.task_data.copy())\n",
    "        \n",
    "        #print out the trial update whenever wait count changes, alright. \n",
    "        if finished_trials != exp.calc_state_occurrences('wait'):\n",
    "            finished_trials = exp.calc_state_occurrences('wait')\n",
    "            print(f'finished trials :{finished_trials} with a current assist level of {exp.get_current_assist_level()}')\n",
    "\n",
    "\n",
    "    if exp.verbose:\n",
    "        print(\"end of FSM.run, task state is\", exp.state)\n",
    "    \n",
    "    \n"
   ]
  },
  {
   "cell_type": "markdown",
   "metadata": {},
   "source": [
    "## actually running the experiments"
   ]
  },
  {
   "cell_type": "code",
   "execution_count": 12,
   "metadata": {
    "ExecuteTime": {
     "end_time": "2021-02-23T19:47:00.421367Z",
     "start_time": "2021-02-23T19:44:49.035963Z"
    },
    "scrolled": true
   },
   "outputs": [
    {
     "name": "stdout",
     "output_type": "stream",
     "text": [
      "runseq\n",
      "finished: 1\n",
      "assist_level:  0.05\n"
     ]
    },
    {
     "name": "stderr",
     "output_type": "stream",
     "text": [
      "/home/sijia-aw/BMi3D_my/lab_bmi3d/riglib/bmi/kfdecoder.py:372: FutureWarning: `rcond` parameter will change to the default of machine precision times ``max(M, N)`` where M and N are the input matrix dimensions.\n",
      "To use the future default and silence this warning we advise to pass `rcond=None`, to keep using the old, explicitly pass `rcond=-1`.\n",
      "  C = np.mat(np.linalg.lstsq(X.T, Y.T)[0].T)\n"
     ]
    },
    {
     "name": "stdout",
     "output_type": "stream",
     "text": [
      "assist_level:  0.045\n",
      "finished trials :2 with a current assist level of 0.04077083333333334\n",
      "assist_level:  0.04\n",
      "assist_level:  0.035\n",
      "finished trials :3 with a current assist level of 0.03156111111111111\n",
      "assist_level:  0.03\n",
      "assist_level:  0.025\n",
      "finished trials :4 with a current assist level of 0.022351388888888893\n",
      "assist_level:  0.020000000000000004\n",
      "assist_level:  0.015000000000000006\n",
      "finished trials :5 with a current assist level of 0.01314166666666667\n",
      "assist_level:  0.009999999999999995\n",
      "assist_level:  0.0049999999999999975\n",
      "finished trials :6 with a current assist level of 0.003931944444444453\n",
      "assist_level at final value after 0 successful trials\n",
      "finished trials :7 with a current assist level of 0.0\n",
      "finished trials :8 with a current assist level of 0.0\n",
      "finished trials :9 with a current assist level of 0.0\n",
      "end of FSM.run, task state is None\n",
      "Finished running  enc. mean FR:1 s\n",
      "runseq\n",
      "finished: 1\n",
      "finished trials :2 with a current assist level of 0.04800694444444445\n",
      "finished trials :3 with a current assist level of 0.047275000000000005\n",
      "finished trials :4 with a current assist level of 0.04663055555555556\n",
      "finished trials :5 with a current assist level of 0.045706944444444446\n",
      "finished trials :6 with a current assist level of 0.045033333333333335\n",
      "finished trials :7 with a current assist level of 0.044458333333333336\n",
      "finished trials :8 with a current assist level of 0.03534166666666667\n",
      "finished trials :9 with a current assist level of 0.031615277777777784\n",
      "end of FSM.run, task state is None\n",
      "Finished running  enc. mean FR:10 s\n",
      "runseq\n",
      "finished: 1\n",
      "observations have counts >> 1000 \n",
      "observations have counts >> 1000 \n",
      "observations have counts >> 1000 \n",
      "observations have counts >> 1000 \n",
      "finished trials :2 with a current assist level of 0.04309027777777778\n",
      "finished trials :3 with a current assist level of 0.041308333333333336\n",
      "finished trials :4 with a current assist level of 0.04108333333333333\n",
      "finished trials :5 with a current assist level of 0.03994166666666667\n",
      "finished trials :6 with a current assist level of 0.0391\n",
      "finished trials :7 with a current assist level of 0.03885\n",
      "finished trials :8 with a current assist level of 0.037656944444444444\n",
      "finished trials :9 with a current assist level of 0.03690694444444445\n",
      "end of FSM.run, task state is None\n",
      "Finished running  enc. mean FR:100 s\n"
     ]
    }
   ],
   "source": [
    "for i,e in enumerate(exps):\n",
    "    run_exp_loop(e, **kwargs_exps[i])\n",
    "    print(f'Finished running  {exp_conds[i]}')"
   ]
  },
  {
   "cell_type": "markdown",
   "metadata": {
    "ExecuteTime": {
     "end_time": "2021-01-25T01:00:26.027506Z",
     "start_time": "2021-01-25T01:00:26.024320Z"
    }
   },
   "source": [
    "# Postprocessing the data for loading"
   ]
  },
  {
   "cell_type": "code",
   "execution_count": 13,
   "metadata": {
    "ExecuteTime": {
     "end_time": "2021-02-23T19:47:00.424358Z",
     "start_time": "2021-02-23T19:47:00.422181Z"
    }
   },
   "outputs": [
    {
     "name": "stdout",
     "output_type": "stream",
     "text": [
      "0\n",
      "8\n",
      "7\n"
     ]
    }
   ],
   "source": [
    "for e in  exps: print(e.calc_state_occurrences('reward'))"
   ]
  },
  {
   "cell_type": "markdown",
   "metadata": {},
   "source": [
    "## declare defs and conventions"
   ]
  },
  {
   "cell_type": "code",
   "execution_count": 14,
   "metadata": {
    "ExecuteTime": {
     "end_time": "2021-02-23T19:47:00.436239Z",
     "start_time": "2021-02-23T19:47:00.425143Z"
    }
   },
   "outputs": [],
   "source": [
    "FRAME_RATE = 60\n",
    "INT_WINDOW_TIME = 10 # s for looking at sample raw data\n",
    "\n",
    "# some conventions as we go down the loop\n",
    "X_VEL_STATE_IND = 3\n",
    "Y_VEL_STATE_IND = 5\n",
    "X_POS_STATE_IND = 0\n",
    "Y_POS_STATE_IND = 2\n",
    "\n",
    "state_indices = [X_POS_STATE_IND,\n",
    "                 Y_POS_STATE_IND,\n",
    "                 X_VEL_STATE_IND,\n",
    "                 Y_VEL_STATE_IND]\n",
    "state_names = ['x pos ', 'y pos', 'x vel', 'y vel']\n",
    "\n",
    "\n",
    "INT_WIN_SAMPLES = INT_WINDOW_TIME * FRAME_RATE\n",
    "\n"
   ]
  },
  {
   "cell_type": "markdown",
   "metadata": {},
   "source": [
    "## Refactor out the data"
   ]
  },
  {
   "cell_type": "code",
   "execution_count": 15,
   "metadata": {
    "ExecuteTime": {
     "end_time": "2021-02-23T19:47:00.538459Z",
     "start_time": "2021-02-23T19:47:00.437317Z"
    }
   },
   "outputs": [
    {
     "data": {
      "text/plain": [
       "dtype([('cursor', '<f8', (3,)), ('obs_t', '<f8', (4, 1)), ('K', '<f8', (7, 4)), ('KC', '<f8', (7, 7)), ('pred_state_mean', '<f8', (7, 1)), ('post_state_mean', '<f8', (7, 1)), ('pred_state_P', '<f8', (7, 7)), ('post_state_P', '<f8', (7, 7)), ('loop_time', '<f8', (1,)), ('decoder_state', '<f8', (7, 1)), ('internal_decoder_state', '<f8', (7, 1)), ('target_state', '<f8', (7, 1)), ('update_bmi', '<f8', (1,)), ('spike_counts', '<f8', (4, 1)), ('bin_edges', '<f8', (2,)), ('ctrl_input', '<f8', (7,)), ('assist_level', '<f8', (1,)), ('target', '<f8', (3,)), ('target_index', '<i4', (1,))])"
      ]
     },
     "execution_count": 15,
     "metadata": {},
     "output_type": "execute_result"
    }
   ],
   "source": [
    "task_data_hist_np_all = [np.array(e.task_data_hist) for e in exps]\n",
    "len(task_data_hist_np_all)\n",
    "task_data_hist_np_all[0].dtype"
   ]
  },
  {
   "cell_type": "markdown",
   "metadata": {},
   "source": [
    "# Post data analysis"
   ]
  },
  {
   "cell_type": "markdown",
   "metadata": {},
   "source": [
    "## Overall  trial statistics succuss rate)"
   ]
  },
  {
   "cell_type": "code",
   "execution_count": 16,
   "metadata": {
    "ExecuteTime": {
     "end_time": "2021-02-23T19:47:00.542791Z",
     "start_time": "2021-02-23T19:47:00.539626Z"
    }
   },
   "outputs": [],
   "source": [
    "def filter_state(state_log:list, state_to_match:str)->list:\n",
    "    '''#set axis limits of plot (x=0 to 20, y=0 to 20)\n",
    "plt.axis([0, 20, 0, 20])\n",
    "plt.axis(\"equal\")\n",
    "\n",
    "    state_log: a list of tuples (state:string, start_time: float)\n",
    "    state_to_watch\n",
    "    \n",
    "    returns a list of element type\n",
    "    '''\n",
    "    \n",
    "    return list(filter(lambda k: k[0] == state_to_match, state_log) )\n",
    "\n",
    "def calc_inter_wait_times(wait_log: list)-> list:\n",
    "    \"\"\"\n",
    "    state_log: a list of tuples (\"wait\", start_time: float)\n",
    "    return a list of tuples: (\"wait\", start_time: float, diff_time)\n",
    "    \"\"\"\n",
    "    wait_log_with_diff = list()\n",
    "    for i, wait_state in enumerate(wait_log):\n",
    "        if i == len(wait_log)-1: #there is nothing to subtract, just put zero.\n",
    "            wait_log_with_diff.append((wait_state[1],  0))\n",
    "            \n",
    "        else:\n",
    "            finish_time = wait_log[i+1][1]\n",
    "            wait_log_with_diff.append((wait_state[1],  finish_time - wait_state[1]))\n",
    "    \n",
    "    return np.array(wait_log_with_diff[:-1])"
   ]
  },
  {
   "cell_type": "code",
   "execution_count": 17,
   "metadata": {
    "ExecuteTime": {
     "end_time": "2021-02-23T19:47:00.555249Z",
     "start_time": "2021-02-23T19:47:00.543737Z"
    }
   },
   "outputs": [],
   "source": [
    "state_logs = [e.state_log for e in exps]\n"
   ]
  },
  {
   "cell_type": "code",
   "execution_count": 18,
   "metadata": {
    "ExecuteTime": {
     "end_time": "2021-02-23T19:47:00.561397Z",
     "start_time": "2021-02-23T19:47:00.556242Z"
    }
   },
   "outputs": [],
   "source": [
    "STATE_CUT_NAME =  'wait'\n",
    "#get the state logs\n",
    "wait_logs = [filter_state(s, STATE_CUT_NAME) for s in state_logs]\n",
    "\n",
    "inter_wait_times = [calc_inter_wait_times(w) for w in wait_logs]\n",
    "#this has both start times "
   ]
  },
  {
   "cell_type": "code",
   "execution_count": 19,
   "metadata": {
    "ExecuteTime": {
     "end_time": "2021-02-23T19:47:00.684543Z",
     "start_time": "2021-02-23T19:47:00.562342Z"
    },
    "scrolled": true
   },
   "outputs": [
    {
     "data": {
      "text/plain": [
       "Text(0, 0.5, 'Trial time (s)')"
      ]
     },
     "execution_count": 19,
     "metadata": {},
     "output_type": "execute_result"
    },
    {
     "data": {
      "image/png": "[encoded data removed]",
      "text/plain": [
       "<Figure size 432x288 with 1 Axes>"
      ]
     },
     "metadata": {
      "needs_background": "light"
     },
     "output_type": "display_data"
    }
   ],
   "source": [
    "\n",
    "\n",
    "for i in inter_wait_times:\n",
    "    plt.scatter(i[:,0], i[:,1])\n",
    "\n",
    "plt.legend(exp_conds)\n",
    "plt.xlabel('Training progression(s)')\n",
    "plt.ylabel('Trial time (s)')"
   ]
  },
  {
   "cell_type": "code",
   "execution_count": 20,
   "metadata": {
    "ExecuteTime": {
     "end_time": "2021-02-23T19:47:00.687149Z",
     "start_time": "2021-02-23T19:47:00.685446Z"
    }
   },
   "outputs": [],
   "source": [
    "wait_time = inter_wait_times[0]\n",
    "task_data_hist_np = task_data_hist_np_all[0]\n",
    "\n"
   ]
  },
  {
   "cell_type": "code",
   "execution_count": 21,
   "metadata": {
    "ExecuteTime": {
     "end_time": "2021-02-23T19:47:00.699199Z",
     "start_time": "2021-02-23T19:47:00.688276Z"
    }
   },
   "outputs": [],
   "source": [
    "def sort_trials(wait_time:list, \n",
    "                target_seq:list,\n",
    "                task_data_hist_np:dict, \n",
    "                dict_keys, FRAME_RATE = 60):\n",
    "    trial_dict = list()\n",
    "    \n",
    "    for i,row in enumerate(wait_time):\n",
    "        start_time = row[0]\n",
    "        inter_wait_time = row[1]\n",
    "\n",
    "        start_sample = int(start_time * FRAME_RATE)\n",
    "        inter_wait_sample = int(inter_wait_time * FRAME_RATE)\n",
    "        stop_sample = start_sample + inter_wait_sample\n",
    "\n",
    "        single_trial_dict = dict()\n",
    "\n",
    "        for k in dict_keys:\n",
    "            \n",
    "            requested_type_data = np.squeeze(task_data_hist_np[k])\n",
    "            single_trial_dict[k] =  requested_type_data[start_sample:stop_sample,\n",
    "                                                       :]\n",
    "        #add more info\n",
    "        single_trial_dict['start_time'] = row[0]\n",
    "        single_trial_dict['inter_wait_time'] = row[1]\n",
    "        \n",
    "        #add target info\n",
    "        single_trial_dict['targets'] = target_seq[i]\n",
    "\n",
    "        #add the dictionary to the list\n",
    "        trial_dict.append(single_trial_dict)\n",
    "        \n",
    "    return trial_dict\n",
    "\n"
   ]
  },
  {
   "cell_type": "code",
   "execution_count": 22,
   "metadata": {
    "ExecuteTime": {
     "end_time": "2021-02-23T19:47:00.708529Z",
     "start_time": "2021-02-23T19:47:00.700021Z"
    }
   },
   "outputs": [
    {
     "data": {
      "text/plain": [
       "3"
      ]
     },
     "execution_count": 22,
     "metadata": {},
     "output_type": "execute_result"
    }
   ],
   "source": [
    "\n",
    "\n",
    "trial_dicts_all = []\n",
    "dict_keys = ['cursor', #behaviour\n",
    "             'ctrl_input', 'spike_counts', #encoder translates intended ctrl into spike counts\n",
    "             'decoder_state']\n",
    "\n",
    "for i in range(NUM_EXP):\n",
    "    wait_time = inter_wait_times[i]\n",
    "    task_data_hist_np = task_data_hist_np_all[i]\n",
    "    \n",
    "    trial_dict_0 = sort_trials(wait_time, \n",
    "                               target_seq,\n",
    "                               task_data_hist_np, dict_keys)\n",
    "    \n",
    "    trial_dicts_all.append(trial_dict_0)\n",
    "\n",
    "len(trial_dicts_all)"
   ]
  },
  {
   "cell_type": "markdown",
   "metadata": {},
   "source": [
    "## Trajectory analysis"
   ]
  },
  {
   "cell_type": "code",
   "execution_count": 23,
   "metadata": {
    "ExecuteTime": {
     "end_time": "2021-02-23T19:47:00.814181Z",
     "start_time": "2021-02-23T19:47:00.709364Z"
    }
   },
   "outputs": [
    {
     "data": {
      "image/png": "[encoded data removed]",
      "text/plain": [
       "<Figure size 432x288 with 1 Axes>"
      ]
     },
     "metadata": {
      "needs_background": "light"
     },
     "output_type": "display_data"
    }
   ],
   "source": [
    "n_roi_trials = N_TRIALS - 1\n",
    "unique_targets =  np.unique(target_seq, axis = 0)\n",
    "\n",
    "\n",
    "X_CURSOR = 0\n",
    "Z_CURSOR = 2\n",
    "CIRCL_ALPHA = 0.2\n",
    "\n",
    "\n",
    "\n",
    "RANGE_LIM =  15\n",
    "figure, axes = plt.subplots() \n",
    "\n",
    "axes.set_xlim(-RANGE_LIM, RANGE_LIM)\n",
    "axes.set_ylim(-RANGE_LIM, RANGE_LIM)\n",
    "\n",
    "CIRCLE_RADIUS = exps[0].target_radius\n",
    "\n",
    "#plot the targets\n",
    "\n",
    "#plot the origin\n",
    "\n",
    "cc = plt.Circle((0,0 ), \n",
    "            radius = CIRCLE_RADIUS,\n",
    "            alpha = CIRCL_ALPHA)\n",
    "\n",
    "axes.add_artist( cc ) \n",
    "\n",
    "for origin_t in unique_targets:\n",
    "    origin = origin_t[0]\n",
    "    t = origin_t[1]\n",
    "\n",
    "    cc = plt.Circle((t[X_CURSOR],t[Z_CURSOR] ), \n",
    "                    radius = CIRCLE_RADIUS,\n",
    "                    alpha = CIRCL_ALPHA)\n",
    "                     \n",
    "    axes.set_aspect( 1 ) \n",
    "    axes.add_artist( cc ) \n",
    "    \n",
    "    \n",
    "for trial_dict in trial_dicts_all:\n",
    "    \n",
    "    sample_trial = trial_dict[n_roi_trials]\n",
    "    trial_cursor_trajectory = sample_trial['cursor']\n",
    "    \n",
    "    \n",
    "    axes.plot(trial_cursor_trajectory[:, X_CURSOR], \n",
    "             trial_cursor_trajectory[:, Z_CURSOR])\n",
    "    N_TRIALS = 80\n",
    "\n"
   ]
  },
  {
   "cell_type": "code",
   "execution_count": 24,
   "metadata": {
    "ExecuteTime": {
     "end_time": "2021-02-23T19:47:00.818786Z",
     "start_time": "2021-02-23T19:47:00.816381Z"
    },
    "scrolled": true
   },
   "outputs": [
    {
     "name": "stdout",
     "output_type": "stream",
     "text": [
      "finished trials:\n",
      "enc. mean FR:1 s: 0 out of 80\n",
      "enc. mean FR:10 s: 8 out of 80\n",
      "enc. mean FR:100 s: 7 out of 80\n"
     ]
    }
   ],
   "source": [
    "print('finished trials:')\n",
    "\n",
    "for i,e in  enumerate(exps): \n",
    "    reward_num = e.calc_state_occurrences('reward')\n",
    "    print(f'{exp_conds[i]}: {reward_num} out of {N_TRIALS}')"
   ]
  },
  {
   "cell_type": "markdown",
   "metadata": {},
   "source": [
    "## encoder\n",
    "\n",
    "the job of the encoder is to directly encode intention into firing rates\n",
    "the direct measure is just pearson correlation coefficients between \n",
    "the intentions and the firing rates"
   ]
  },
  {
   "cell_type": "code",
   "execution_count": 25,
   "metadata": {
    "ExecuteTime": {
     "end_time": "2021-02-23T19:47:00.829220Z",
     "start_time": "2021-02-23T19:47:00.819775Z"
    }
   },
   "outputs": [
    {
     "name": "stdout",
     "output_type": "stream",
     "text": [
      "the encoder observation Q matrix\n",
      "enc. mean FR:1 s\n",
      "7\n",
      "enc. mean FR:10 s\n",
      "7\n",
      "enc. mean FR:100 s\n",
      "7\n"
     ]
    }
   ],
   "source": [
    "print('the encoder observation Q matrix')\n",
    "for i,e in enumerate(exps):\n",
    "    print(exp_conds[i])\n",
    "    print(e.encoder.ssm.w)"
   ]
  },
  {
   "cell_type": "code",
   "execution_count": 26,
   "metadata": {
    "ExecuteTime": {
     "end_time": "2021-02-23T19:47:00.838520Z",
     "start_time": "2021-02-23T19:47:00.830083Z"
    }
   },
   "outputs": [],
   "source": [
    "n_exp = 0\n",
    "\n",
    "\n",
    "spike_count_sample = trial_dicts_all[n_exp][n_roi_trials]['spike_counts']"
   ]
  },
  {
   "cell_type": "markdown",
   "metadata": {},
   "source": [
    "## decoder"
   ]
  },
  {
   "cell_type": "code",
   "execution_count": 27,
   "metadata": {
    "ExecuteTime": {
     "end_time": "2021-02-23T19:47:01.242240Z",
     "start_time": "2021-02-23T19:47:00.839514Z"
    },
    "scrolled": false
   },
   "outputs": [
    {
     "name": "stdout",
     "output_type": "stream",
     "text": [
      "steady state tuning curves:\n"
     ]
    },
    {
     "data": {
      "image/png": "[encoded data removed]",
      "text/plain": [
       "<Figure size 432x288 with 1 Axes>"
      ]
     },
     "metadata": {
      "needs_background": "light"
     },
     "output_type": "display_data"
    },
    {
     "data": {
      "image/png": "[encoded data removed]",
      "text/plain": [
       "<Figure size 432x288 with 1 Axes>"
      ]
     },
     "metadata": {
      "needs_background": "light"
     },
     "output_type": "display_data"
    },
    {
     "data": {
      "image/png": "[encoded data removed]",
      "text/plain": [
       "<Figure size 432x288 with 1 Axes>"
      ]
     },
     "metadata": {
      "needs_background": "light"
     },
     "output_type": "display_data"
    }
   ],
   "source": [
    "print('steady state tuning curves:')\n",
    "\n",
    "for i,e in enumerate(exps):\n",
    "    e.decoder.plot_C()"
   ]
  },
  {
   "cell_type": "markdown",
   "metadata": {},
   "source": [
    "# CLDA updates"
   ]
  },
  {
   "cell_type": "markdown",
   "metadata": {},
   "source": [
    "## clda update frequencies"
   ]
  },
  {
   "cell_type": "code",
   "execution_count": 28,
   "metadata": {
    "ExecuteTime": {
     "end_time": "2021-02-23T19:47:01.245434Z",
     "start_time": "2021-02-23T19:47:01.243153Z"
    }
   },
   "outputs": [
    {
     "name": "stdout",
     "output_type": "stream",
     "text": [
      "did clda for 884 times\n",
      "did clda for 220 times\n",
      "did clda for 157 times\n"
     ]
    }
   ],
   "source": [
    "\n",
    "clda_params_all = [np.array(e.bmi_system.param_hist) for e in exps]\n",
    "\n",
    "for c in clda_params_all:\n",
    "    print(f'did clda for {len(c)} times')"
   ]
  },
  {
   "cell_type": "code",
   "execution_count": 29,
   "metadata": {
    "ExecuteTime": {
     "end_time": "2021-02-23T19:47:01.257439Z",
     "start_time": "2021-02-23T19:47:01.246252Z"
    }
   },
   "outputs": [],
   "source": [
    "update_bmi_all = np.squeeze(task_data_hist_np_all[0]['update_bmi'])"
   ]
  },
  {
   "cell_type": "code",
   "execution_count": 30,
   "metadata": {
    "ExecuteTime": {
     "end_time": "2021-02-23T19:47:01.353709Z",
     "start_time": "2021-02-23T19:47:01.258270Z"
    }
   },
   "outputs": [
    {
     "data": {
      "text/plain": [
       "Text(0.5, 0, 'frame count')"
      ]
     },
     "execution_count": 30,
     "metadata": {},
     "output_type": "execute_result"
    },
    {
     "data": {
      "image/png": "[encoded data removed]",
      "text/plain": [
       "<Figure size 432x288 with 1 Axes>"
      ]
     },
     "metadata": {
      "needs_background": "light"
     },
     "output_type": "display_data"
    }
   ],
   "source": [
    "plt.plot(update_bmi_all[:240])\n",
    "plt.xlabel('frame count')"
   ]
  },
  {
   "cell_type": "markdown",
   "metadata": {},
   "source": [
    "## reformat the matrix"
   ]
  },
  {
   "cell_type": "code",
   "execution_count": 31,
   "metadata": {
    "ExecuteTime": {
     "end_time": "2021-02-23T19:47:01.363377Z",
     "start_time": "2021-02-23T19:47:01.354683Z"
    }
   },
   "outputs": [
    {
     "data": {
      "text/plain": [
       "3"
      ]
     },
     "execution_count": 31,
     "metadata": {},
     "output_type": "execute_result"
    }
   ],
   "source": [
    "clda_params = clda_params_all[1]\n",
    "\n",
    "clda_params_dict_all = list()\n",
    "\n",
    "for p in clda_params_all:\n",
    "    clda_params_dict = dict()\n",
    "    for param_key in p[0].keys():\n",
    "        clda_params_dict[param_key] = np.array([ record_i[param_key] for record_i in p])\n",
    "    \n",
    "    clda_params_dict_all.append(clda_params_dict)\n",
    "\n",
    "\n",
    "len(clda_params_dict_all)"
   ]
  },
  {
   "cell_type": "markdown",
   "metadata": {},
   "source": [
    "## observation covariance matrix"
   ]
  },
  {
   "cell_type": "code",
   "execution_count": 32,
   "metadata": {
    "ExecuteTime": {
     "end_time": "2021-02-23T19:47:01.367219Z",
     "start_time": "2021-02-23T19:47:01.364236Z"
    }
   },
   "outputs": [
    {
     "name": "stdout",
     "output_type": "stream",
     "text": [
      "enc. mean FR:1 s\n",
      "[[9.79 0.   0.   0.  ]\n",
      " [0.   9.77 0.   0.  ]\n",
      " [0.   0.   9.77 0.  ]\n",
      " [0.   0.   0.   9.77]]\n",
      "\n",
      "enc. mean FR:10 s\n",
      "[[ 9.92 -0.01 -0.    0.01]\n",
      " [-0.01  9.77  0.   -0.  ]\n",
      " [-0.    0.    9.79  0.  ]\n",
      " [ 0.01 -0.    0.    9.77]]\n",
      "\n",
      "enc. mean FR:100 s\n",
      "[[13.97 -0.29 -0.03  0.4 ]\n",
      " [-0.29  9.83 -0.04 -0.07]\n",
      " [-0.03 -0.04 10.73  0.79]\n",
      " [ 0.4  -0.07  0.79 10.66]]\n",
      "\n"
     ]
    }
   ],
   "source": [
    "n_sample = 1\n",
    "\n",
    "for i,c in enumerate(clda_params_dict_all):\n",
    "    print(exp_conds[i])\n",
    "    print(c['kf.Q'][n_sample,:,:])\n",
    "    print()"
   ]
  },
  {
   "cell_type": "markdown",
   "metadata": {},
   "source": [
    "## clda K matrix"
   ]
  },
  {
   "cell_type": "code",
   "execution_count": 33,
   "metadata": {
    "ExecuteTime": {
     "end_time": "2021-02-23T19:47:01.376708Z",
     "start_time": "2021-02-23T19:47:01.367994Z"
    }
   },
   "outputs": [],
   "source": [
    "kf_C = clda_params_dict['kf.C']"
   ]
  },
  {
   "cell_type": "code",
   "execution_count": 34,
   "metadata": {
    "ExecuteTime": {
     "end_time": "2021-02-23T19:47:01.383605Z",
     "start_time": "2021-02-23T19:47:01.377629Z"
    }
   },
   "outputs": [
    {
     "name": "stdout",
     "output_type": "stream",
     "text": [
      "K matrix before:\n",
      "[[ 0.    0.    0.   -0.27  0.   -0.37 -0.78]\n",
      " [ 0.    0.    0.   -1.62  0.   -0.9   0.09]\n",
      " [ 0.    0.    0.   -1.22  0.   -0.63 -0.84]\n",
      " [ 0.    0.    0.   -1.15  0.    0.38 -1.47]]\n",
      "K matrix after:\n",
      "[[ 0.    0.    0.    2.76  0.    0.34 18.76]\n",
      " [ 0.    0.    0.   -3.86  0.    0.71 22.85]\n",
      " [ 0.    0.    0.    1.16  0.    4.55 35.86]\n",
      " [ 0.    0.    0.   -0.11  0.   -3.3  28.65]]\n"
     ]
    }
   ],
   "source": [
    "print('K matrix before:')\n",
    "print(kf_C[0,:,:])\n",
    "print('K matrix after:')\n",
    "print(kf_C[-1,:,:])"
   ]
  },
  {
   "cell_type": "code",
   "execution_count": 35,
   "metadata": {
    "ExecuteTime": {
     "end_time": "2021-02-23T19:47:01.746496Z",
     "start_time": "2021-02-23T19:47:01.384344Z"
    }
   },
   "outputs": [
    {
     "data": {
      "image/png": "[encoded data removed]",
      "text/plain": [
       "<Figure size 1152x288 with 4 Axes>"
      ]
     },
     "metadata": {
      "needs_background": "light"
     },
     "output_type": "display_data"
    }
   ],
   "source": [
    "N_CLDA_ROI_TIME = 800\n",
    "\n",
    "FIGURE_SIZE = (2,10)\n",
    "\n",
    "N_NEURONS\n",
    "\n",
    "f, axs = plt.subplots(1,N_NEURONS,figsize=(16,4))\n",
    "\n",
    "for i in range(N_NEURONS):\n",
    "    axs[i].plot(np.squeeze(kf_C[:N_CLDA_ROI_TIME,i, X_VEL_STATE_IND]))\n",
    "    axs[i].plot(np.squeeze(kf_C[:N_CLDA_ROI_TIME,i, Y_VEL_STATE_IND]))\n",
    "    axs[i].legend(['x vel', 'y_vel'])\n",
    "    axs[i].set_title(f'neuron {i} ')\n",
    "    axs[i].set_xlabel('clda update count ')\n",
    "    axs[i].set_ylabel('Decoder weight value')\n",
    "\n"
   ]
  },
  {
   "cell_type": "code",
   "execution_count": 36,
   "metadata": {
    "ExecuteTime": {
     "end_time": "2021-02-23T19:47:01.749817Z",
     "start_time": "2021-02-23T19:47:01.747371Z"
    }
   },
   "outputs": [
    {
     "data": {
      "text/plain": [
       "array([[ 0.,  0.,  0.,  1.,  0.,  0.,  0.],\n",
       "       [ 0.,  0.,  0., -1.,  0.,  0.,  0.],\n",
       "       [ 0.,  0.,  0.,  0.,  0.,  1.,  0.],\n",
       "       [ 0.,  0.,  0.,  0.,  0., -1.,  0.]])"
      ]
     },
     "execution_count": 36,
     "metadata": {},
     "output_type": "execute_result"
    }
   ],
   "source": [
    "exps[0].encoder.C"
   ]
  },
  {
   "cell_type": "markdown",
   "metadata": {},
   "source": [
    "## examine training batches"
   ]
  },
  {
   "cell_type": "code",
   "execution_count": 37,
   "metadata": {
    "ExecuteTime": {
     "end_time": "2021-02-23T19:47:01.760576Z",
     "start_time": "2021-02-23T19:47:01.750556Z"
    }
   },
   "outputs": [],
   "source": [
    "spike_counts_batch = clda_params_dict['spike_counts_batch'] \n",
    "intended_kin = clda_params_dict['intended_kin']"
   ]
  },
  {
   "cell_type": "code",
   "execution_count": 38,
   "metadata": {
    "ExecuteTime": {
     "end_time": "2021-02-23T19:47:01.773866Z",
     "start_time": "2021-02-23T19:47:01.761390Z"
    }
   },
   "outputs": [
    {
     "name": "stdout",
     "output_type": "stream",
     "text": [
      "intended kinematics:\n",
      "[[ -4.25  -5.76  -7.33  -8.62  -9.98 -11.43 -12.64 -13.78 -14.75 -14.  ]\n",
      " [  0.     0.     0.     0.     0.     0.     0.     0.     0.     0.  ]\n",
      " [-14.   -14.   -14.   -14.   -14.   -14.   -14.   -14.   -14.   -14.  ]\n",
      " [  2.22   1.44   2.36   4.43   4.85   5.61   7.89   8.99  10.47  18.92]\n",
      " [  0.     0.     0.     0.     0.     0.     0.     0.     0.     0.  ]\n",
      " [ 12.04  12.04  12.04  12.04  12.04  12.04  12.04  12.04  12.04  12.04]\n",
      " [  1.     1.     1.     1.     1.     1.     1.     1.     1.     1.  ]]\n",
      "spike counts:\n",
      "[[ 22.   9.  34.  55.  52.  49.  74.  88. 104. 177.]\n",
      " [  0.   0.   0.   0.   0.   0.   0.   0.   0.   0.]\n",
      " [121. 119. 111. 128. 132. 114. 121. 116. 119. 121.]\n",
      " [  0.   0.   0.   0.   0.   0.   0.   0.   0.   0.]]\n",
      "trained KF C matrix:\n",
      "[[ 0.    0.    0.   -0.    0.   -0.37 -1.03]\n",
      " [ 0.    0.    0.   -1.58  0.   -0.88  0.08]\n",
      " [ 0.    0.    0.   -1.2   0.   -0.4  -0.53]\n",
      " [ 0.    0.    0.   -1.13  0.    0.36 -1.23]]\n"
     ]
    }
   ],
   "source": [
    "training_sample_point = 2\n",
    "\n",
    "print('intended kinematics:')\n",
    "print(intended_kin[training_sample_point])\n",
    "\n",
    "print('spike counts:')\n",
    "print(spike_counts_batch[training_sample_point])\n",
    "\n",
    "print('trained KF C matrix:')\n",
    "print(kf_C[training_sample_point])"
   ]
  },
  {
   "cell_type": "markdown",
   "metadata": {},
   "source": [
    "# feature analyses"
   ]
  },
  {
   "cell_type": "code",
   "execution_count": 42,
   "metadata": {
    "ExecuteTime": {
     "end_time": "2021-02-23T19:48:35.882436Z",
     "start_time": "2021-02-23T19:48:35.876691Z"
    }
   },
   "outputs": [],
   "source": [
    "import statsmodels.api as sm\n"
   ]
  },
  {
   "cell_type": "markdown",
   "metadata": {},
   "source": [
    "## Examine relevance of one neuron from one batch "
   ]
  },
  {
   "cell_type": "markdown",
   "metadata": {},
   "source": [
    "### Select data"
   ]
  },
  {
   "cell_type": "code",
   "execution_count": 43,
   "metadata": {
    "ExecuteTime": {
     "end_time": "2021-02-23T19:48:47.754070Z",
     "start_time": "2021-02-23T19:48:47.751272Z"
    }
   },
   "outputs": [
    {
     "data": {
      "text/plain": [
       "dict_keys(['kf.C', 'kf.Q', 'kf.C_xpose_Q_inv_C', 'kf.C_xpose_Q_inv', 'mFR', 'sdFR', 'rho', 'intended_kin', 'spike_counts_batch'])"
      ]
     },
     "execution_count": 43,
     "metadata": {},
     "output_type": "execute_result"
    }
   ],
   "source": [
    "clda_params_dict.keys() # this is from one experiment"
   ]
  },
  {
   "cell_type": "code",
   "execution_count": 47,
   "metadata": {
    "ExecuteTime": {
     "end_time": "2021-02-23T19:54:25.382758Z",
     "start_time": "2021-02-23T19:54:25.374433Z"
    },
    "scrolled": true
   },
   "outputs": [
    {
     "name": "stdout",
     "output_type": "stream",
     "text": [
      "157\n",
      "157\n"
     ]
    }
   ],
   "source": [
    "spike_counts_batch = clda_params_dict['spike_counts_batch']\n",
    "intended_kin = clda_params_dict['intended_kin']\n",
    "print(f'{len(spike_counts_batch)}')\n",
    "print(f'{len(intended_kin)}')"
   ]
  },
  {
   "cell_type": "code",
   "execution_count": 50,
   "metadata": {
    "ExecuteTime": {
     "end_time": "2021-02-23T19:58:40.233090Z",
     "start_time": "2021-02-23T19:58:40.229525Z"
    }
   },
   "outputs": [
    {
     "name": "stdout",
     "output_type": "stream",
     "text": [
      "look at one batch: batch number 0\n",
      "spike count\n",
      "[[ 0.  0.  0. 62. 68. 19. 53. 59. 66. 65.]\n",
      " [ 0.  7.  5.  0.  0.  0.  0.  0.  0.  0.]\n",
      " [ 0.  0.  0.  0.  0. 19.  0.  0.  0.  9.]\n",
      " [ 0.  0.  2.  0. 38.  0. 10.  7. 22.  0.]]\n",
      "intended kin\n",
      "[[ 0.   -0.05 -0.24 -0.42 -0.43 -1.92 -2.19 -2.59 -2.86 -3.73]\n",
      " [ 0.    0.    0.    0.    0.    0.    0.    0.    0.    0.  ]\n",
      " [ 0.    0.03 -0.09 -0.05 -1.11  0.13 -0.5  -0.76 -1.35 -1.08]\n",
      " [ 0.   -0.24  6.02  6.14  6.34  1.89  5.69  6.47  7.22  5.7 ]\n",
      " [ 0.    0.    0.    0.    0.    0.    0.    0.    0.    0.  ]\n",
      " [ 0.    0.13 -0.45  0.01 -3.06  2.46 -0.83 -0.76 -1.44  0.7 ]\n",
      " [ 1.    1.    1.    1.    1.    1.    1.    1.    1.    1.  ]]\n"
     ]
    }
   ],
   "source": [
    "# we just take one batch\n",
    "batch_of_interest = 0\n",
    "spike_count_one_batch = spike_counts_batch[batch_of_interest]\n",
    "intended_kin_one_batch = intended_kin[batch_of_interest]\n",
    "\n",
    "print(f'look at one batch: batch number {batch_of_interest}')\n",
    "print(f'spike count')\n",
    "print(spike_count_one_batch)\n",
    "\n",
    "print(f'intended kin')\n",
    "print(intended_kin_one_batch)"
   ]
  },
  {
   "cell_type": "code",
   "execution_count": 57,
   "metadata": {
    "ExecuteTime": {
     "end_time": "2021-02-23T20:04:40.484729Z",
     "start_time": "2021-02-23T20:04:40.481654Z"
    }
   },
   "outputs": [
    {
     "name": "stdout",
     "output_type": "stream",
     "text": [
      "we are dealing with a velocity decoder\n",
      "we only look at  x vel and y vel:\n",
      "We assume we are only interested how firing rates encode x, y vel\n",
      "after selecting the vels:\n",
      "[[ 0.   -0.24  6.02  6.14  6.34  1.89  5.69  6.47  7.22  5.7 ]\n",
      " [ 0.    0.13 -0.45  0.01 -3.06  2.46 -0.83 -0.76 -1.44  0.7 ]]\n"
     ]
    }
   ],
   "source": [
    "print('we are dealing with a velocity decoder')\n",
    "print('we only look at  x vel and y vel:')\n",
    "print('We assume we are only interested how firing rates encode x, y vel')\n",
    "\n",
    "intended_kin_one_batch_2D = intended_kin_one_batch[(X_VEL_STATE_IND, Y_VEL_STATE_IND),:]\n",
    "print('after selecting the vels:')\n",
    "print(intended_kin_one_batch_2D)"
   ]
  },
  {
   "cell_type": "code",
   "execution_count": 58,
   "metadata": {
    "ExecuteTime": {
     "end_time": "2021-02-23T20:06:51.163546Z",
     "start_time": "2021-02-23T20:06:51.160980Z"
    }
   },
   "outputs": [
    {
     "name": "stdout",
     "output_type": "stream",
     "text": [
      "we will do  one neuron at a time\n",
      "the neuron that we are interested is neuron 0\n",
      "and selected firing rates:\n",
      "[ 0.  0.  0. 62. 68. 19. 53. 59. 66. 65.]\n"
     ]
    }
   ],
   "source": [
    "print('we will do  one neuron at a time')\n",
    "n_roi_neuron = 0\n",
    "print(f'the neuron that we are interested is neuron {n_roi_neuron}')\n",
    "print('and selected firing rates:')\n",
    "\n",
    "spike_count_one_batch_one_neuron = spike_count_one_batch[n_roi_neuron,:]\n",
    "\n",
    "print(spike_count_one_batch_one_neuron)"
   ]
  },
  {
   "cell_type": "markdown",
   "metadata": {},
   "source": [
    "### OLS model fitting"
   ]
  },
  {
   "cell_type": "code",
   "execution_count": 189,
   "metadata": {
    "ExecuteTime": {
     "end_time": "2021-02-24T03:07:21.031966Z",
     "start_time": "2021-02-24T03:07:21.019707Z"
    }
   },
   "outputs": [
    {
     "name": "stdout",
     "output_type": "stream",
     "text": [
      "we transpose the vector for fitting\n",
      "the independent variables are  the intended kin hence, X\n",
      "[[ 12.04 -12.04]\n",
      " [ 12.04 -12.04]\n",
      " [ 12.04 -12.04]\n",
      " [ 12.04 -12.04]\n",
      " [ 12.04 -12.04]\n",
      " [ 12.04 -12.04]\n",
      " [ 12.04 -12.04]\n",
      " [ 12.04 -12.04]\n",
      " [ 12.04 -12.04]\n",
      " [ 12.04 -12.04]]\n",
      "the dependent variable is the neuron spike connt, hence y\n",
      "[[ 22.]\n",
      " [  9.]\n",
      " [ 34.]\n",
      " [ 55.]\n",
      " [ 52.]\n",
      " [ 49.]\n",
      " [ 74.]\n",
      " [ 88.]\n",
      " [104.]\n",
      " [177.]]\n"
     ]
    }
   ],
   "source": [
    "print('we transpose the vector for fitting')\n",
    "X = intended_kin_one_batch_2D.T\n",
    "y = np.reshape(spike_count_one_batch_one_neuron, (-1,1))\n",
    "\n",
    "\n",
    "print('the independent variables are  the intended kin hence, X')\n",
    "print(X)\n",
    "\n",
    "\n",
    "print('the dependent variable is the neuron spike connt, hence y')\n",
    "print(y)\n"
   ]
  },
  {
   "cell_type": "code",
   "execution_count": 197,
   "metadata": {
    "ExecuteTime": {
     "end_time": "2021-02-24T03:11:44.287410Z",
     "start_time": "2021-02-24T03:11:44.262963Z"
    }
   },
   "outputs": [
    {
     "name": "stdout",
     "output_type": "stream",
     "text": [
      "we add the constant one to the states (X)\n"
     ]
    },
    {
     "ename": "ValueError",
     "evalue": "data already contains a constant",
     "output_type": "error",
     "traceback": [
      "\u001b[0;31m---------------------------------------------------------------------------\u001b[0m",
      "\u001b[0;31mValueError\u001b[0m                                Traceback (most recent call last)",
      "\u001b[0;32m<ipython-input-197-d719c4977e91>\u001b[0m in \u001b[0;36m<module>\u001b[0;34m\u001b[0m\n\u001b[1;32m      1\u001b[0m \u001b[0mprint\u001b[0m\u001b[0;34m(\u001b[0m\u001b[0;34m'we add the constant one to the states (X)'\u001b[0m\u001b[0;34m)\u001b[0m\u001b[0;34m\u001b[0m\u001b[0;34m\u001b[0m\u001b[0m\n\u001b[0;32m----> 2\u001b[0;31m \u001b[0mX\u001b[0m \u001b[0;34m=\u001b[0m \u001b[0msm\u001b[0m\u001b[0;34m.\u001b[0m\u001b[0madd_constant\u001b[0m\u001b[0;34m(\u001b[0m\u001b[0mX\u001b[0m\u001b[0;34m,\u001b[0m \u001b[0mhas_constant\u001b[0m\u001b[0;34m=\u001b[0m \u001b[0;34m'raise'\u001b[0m\u001b[0;34m)\u001b[0m\u001b[0;34m\u001b[0m\u001b[0;34m\u001b[0m\u001b[0m\n\u001b[0m\u001b[1;32m      3\u001b[0m \u001b[0mprint\u001b[0m\u001b[0;34m(\u001b[0m\u001b[0;34m'the new X is'\u001b[0m\u001b[0;34m)\u001b[0m\u001b[0;34m\u001b[0m\u001b[0;34m\u001b[0m\u001b[0m\n\u001b[1;32m      4\u001b[0m \u001b[0mprint\u001b[0m\u001b[0;34m(\u001b[0m\u001b[0mX\u001b[0m\u001b[0;34m)\u001b[0m\u001b[0;34m\u001b[0m\u001b[0;34m\u001b[0m\u001b[0m\n",
      "\u001b[0;32m~/BMi3D_my/lib/python3.8/site-packages/statsmodels/tools/tools.py\u001b[0m in \u001b[0;36madd_constant\u001b[0;34m(data, prepend, has_constant)\u001b[0m\n\u001b[1;32m    309\u001b[0m             \u001b[0;32mreturn\u001b[0m \u001b[0mx\u001b[0m\u001b[0;34m\u001b[0m\u001b[0;34m\u001b[0m\u001b[0m\n\u001b[1;32m    310\u001b[0m         \u001b[0;32melif\u001b[0m \u001b[0mhas_constant\u001b[0m \u001b[0;34m==\u001b[0m \u001b[0;34m'raise'\u001b[0m\u001b[0;34m:\u001b[0m\u001b[0;34m\u001b[0m\u001b[0;34m\u001b[0m\u001b[0m\n\u001b[0;32m--> 311\u001b[0;31m             \u001b[0;32mraise\u001b[0m \u001b[0mValueError\u001b[0m\u001b[0;34m(\u001b[0m\u001b[0;34m\"data already contains a constant\"\u001b[0m\u001b[0;34m)\u001b[0m\u001b[0;34m\u001b[0m\u001b[0;34m\u001b[0m\u001b[0m\n\u001b[0m\u001b[1;32m    312\u001b[0m \u001b[0;34m\u001b[0m\u001b[0m\n\u001b[1;32m    313\u001b[0m     \u001b[0mx\u001b[0m \u001b[0;34m=\u001b[0m \u001b[0;34m[\u001b[0m\u001b[0mnp\u001b[0m\u001b[0;34m.\u001b[0m\u001b[0mones\u001b[0m\u001b[0;34m(\u001b[0m\u001b[0mx\u001b[0m\u001b[0;34m.\u001b[0m\u001b[0mshape\u001b[0m\u001b[0;34m[\u001b[0m\u001b[0;36m0\u001b[0m\u001b[0;34m]\u001b[0m\u001b[0;34m)\u001b[0m\u001b[0;34m,\u001b[0m \u001b[0mx\u001b[0m\u001b[0;34m]\u001b[0m\u001b[0;34m\u001b[0m\u001b[0;34m\u001b[0m\u001b[0m\n",
      "\u001b[0;31mValueError\u001b[0m: data already contains a constant"
     ]
    }
   ],
   "source": [
    "print('we add the constant one to the states (X)')\n",
    "X = sm.add_constant(X, has_constant= 'raise')\n",
    "print('the new X is')\n",
    "print(X)"
   ]
  },
  {
   "cell_type": "code",
   "execution_count": 193,
   "metadata": {
    "ExecuteTime": {
     "end_time": "2021-02-24T03:09:31.709165Z",
     "start_time": "2021-02-24T03:09:31.701082Z"
    }
   },
   "outputs": [
    {
     "name": "stdout",
     "output_type": "stream",
     "text": [
      "now we can fit using statsmodels.ols\n",
      "print results\n",
      "                            OLS Regression Results                            \n",
      "==============================================================================\n",
      "Dep. Variable:                      y   R-squared:                       0.000\n",
      "Model:                            OLS   Adj. R-squared:                  0.000\n",
      "Method:                 Least Squares   F-statistic:                       nan\n",
      "Date:                Tue, 23 Feb 2021   Prob (F-statistic):                nan\n",
      "Time:                        19:09:31   Log-Likelihood:                -52.468\n",
      "No. Observations:                  10   AIC:                             106.9\n",
      "Df Residuals:                       9   BIC:                             107.2\n",
      "Df Model:                           0                                         \n",
      "Covariance Type:            nonrobust                                         \n",
      "==============================================================================\n",
      "                 coef    std err          t      P>|t|      [0.025      0.975]\n",
      "------------------------------------------------------------------------------\n",
      "const          0.2281      0.053      4.334      0.002       0.109       0.347\n",
      "x1             2.7474      0.634      4.334      0.002       1.313       4.182\n",
      "x2            -2.7474      0.634     -4.334      0.002      -4.182      -1.313\n",
      "==============================================================================\n",
      "Omnibus:                        6.194   Durbin-Watson:                   0.363\n",
      "Prob(Omnibus):                  0.045   Jarque-Bera (JB):                2.365\n",
      "Skew:                           1.129   Prob(JB):                        0.307\n",
      "Kurtosis:                       3.761   Cond. No.                     3.42e+31\n",
      "==============================================================================\n",
      "\n",
      "Warnings:\n",
      "[1] Standard Errors assume that the covariance matrix of the errors is correctly specified.\n",
      "[2] The smallest eigenvalue is 2.49e-60. This might indicate that there are\n",
      "strong multicollinearity problems or that the design matrix is singular.\n"
     ]
    },
    {
     "name": "stderr",
     "output_type": "stream",
     "text": [
      "/home/sijia-aw/BMi3D_my/lib/python3.8/site-packages/scipy/stats/stats.py:1534: UserWarning: kurtosistest only valid for n>=20 ... continuing anyway, n=10\n",
      "  warnings.warn(\"kurtosistest only valid for n>=20 ... continuing \"\n",
      "/home/sijia-aw/BMi3D_my/lib/python3.8/site-packages/statsmodels/regression/linear_model.py:1657: RuntimeWarning: invalid value encountered in double_scalars\n",
      "  return self.ess/self.df_model\n"
     ]
    }
   ],
   "source": [
    "print('now we can fit using statsmodels.ols')\n",
    "\n",
    "ols_spike_from_states = sm.OLS(y, X)\n",
    "\n",
    "results_ols_spike_from_states = ols_spike_from_states.fit()\n",
    "\n",
    "print('print results')\n",
    "print(results_ols_spike_from_states.summary())"
   ]
  },
  {
   "cell_type": "code",
   "execution_count": 87,
   "metadata": {
    "ExecuteTime": {
     "end_time": "2021-02-23T20:40:35.469719Z",
     "start_time": "2021-02-23T20:40:35.452421Z"
    }
   },
   "outputs": [
    {
     "name": "stdout",
     "output_type": "stream",
     "text": [
      "the p-values test against if the coefficients are zero\n",
      "the p values for this neuron of index 0\n",
      "[0.89 0.03 0.86]\n",
      "the reg. coeff. are \n",
      "[ 2.14  8.12 -1.05]\n",
      "\n",
      "at a significance_level of 0.05:\n",
      "this array has the indix of the states that are significantly correlated with the firing rate \n"
     ]
    },
    {
     "data": {
      "text/plain": [
       "(array([1]),)"
      ]
     },
     "execution_count": 87,
     "metadata": {},
     "output_type": "execute_result"
    }
   ],
   "source": [
    "print('the p-values test against if the coefficients are zero')\n",
    "neuron_batch_pvalue = results_ols_spike_from_states.pvalues\n",
    "\n",
    "print(f'the p values for this neuron of index {n_roi_neuron}')\n",
    "print(neuron_batch_pvalue)\n",
    "\n",
    "neuron_batch_coeff = results_ols_spike_from_states.params\n",
    "\n",
    "print('the reg. coeff. are ')\n",
    "print(neuron_batch_coeff)\n",
    "\n",
    "print()\n",
    "significance_level = 0.05\n",
    "print(f'at a significance_level of {significance_level}:')\n",
    "print('this array has the indix of the states that are significantly correlated with the firing rates  ')\n",
    "\n",
    "np.where(neuron_batch_pvalue < significance_level)"
   ]
  },
  {
   "cell_type": "markdown",
   "metadata": {},
   "source": [
    "## iterate up the model testing procedure"
   ]
  },
  {
   "cell_type": "code",
   "execution_count": 127,
   "metadata": {
    "ExecuteTime": {
     "end_time": "2021-02-24T01:56:59.442573Z",
     "start_time": "2021-02-24T01:56:59.427902Z"
    },
    "code_folding": []
   },
   "outputs": [
    {
     "name": "stdout",
     "output_type": "stream",
     "text": [
      "we write a function that actually  check if any given neuron has a sig state\n"
     ]
    }
   ],
   "source": [
    "print('we write a function that actually  check if any given neuron has a sig state')\n",
    "\n",
    "\n",
    "def get_significant_index(p_value_array: np.array, \n",
    "                          significance_level = 0.05, \n",
    "                         compare_mode = 'smaller_or_equal'):\n",
    "    '''\n",
    "    compare each element in the p_value_list against signifance level. \n",
    "    mode defaults to smaller_than for comparing p_value\n",
    "    '''\n",
    "    \n",
    "    if compare_mode == 'smaller_or_equal': \n",
    "        sig_test_list = np.where(p_value_array <= significance_level)\n",
    "        sig_test_list = np.array(np.squeeze(sig_test_list))\n",
    "        return sig_test_list\n",
    "    elif compare_mode == 'larger_or_equal':\n",
    "        return np.where(p_value_array >= significance_level)\n",
    "    elif compare_mode == 'equal':\n",
    "        return np.where(p_value_array == significance_level)\n",
    "    else:\n",
    "        raise Exception(f'unknown mode {compare_mode}')\n",
    "        \n",
    "\n",
    "def is_any_pvalue_significant(p_value_array: np.array, \n",
    "                              significance_level = 0.05,\n",
    "                              compare_mode = 'smaller_or_equal'):\n",
    "    \"\"\"\n",
    "    given the p_value_array\n",
    "    check if any of the element is smaller than the significance_level (default to 0.05)\n",
    "    \"\"\"\n",
    "    sig_test_list = get_significant_index(p_value_array,\n",
    "                                           significance_level,\n",
    "                                           compare_mode)\n",
    "    \n",
    "    \n",
    "    return not (len(sig_test_list) == 0)\n",
    "\n",
    "\n",
    "\n"
   ]
  },
  {
   "cell_type": "code",
   "execution_count": 93,
   "metadata": {
    "ExecuteTime": {
     "end_time": "2021-02-24T01:08:18.718391Z",
     "start_time": "2021-02-24T01:08:18.711098Z"
    }
   },
   "outputs": [
    {
     "name": "stdout",
     "output_type": "stream",
     "text": [
      "with the functions, we can fit and test the one neuron and against the state\n"
     ]
    }
   ],
   "source": [
    "print('with the functions, we can fit and test the one neuron and against the state')"
   ]
  },
  {
   "cell_type": "code",
   "execution_count": 198,
   "metadata": {
    "ExecuteTime": {
     "end_time": "2021-02-24T03:18:11.853149Z",
     "start_time": "2021-02-24T03:18:11.849792Z"
    }
   },
   "outputs": [],
   "source": [
    "significance_level = 0.05\n",
    "\n",
    "def have_same_num_rows(x: np.array, y:np.array):\n",
    "    \"\"\"\n",
    "    check if x and y have the same number of rows\n",
    "    \"\"\"\n",
    "    y_num_rows = x.shape[0]\n",
    "    x_num_rows = y.shape[0]\n",
    "    return y_num_rows == x_num_rows\n",
    "    \n",
    "    \n",
    "def fit_ols(y, X, \n",
    "            significance_level = 0.05,\n",
    "           add_constant_term_flag = True,\n",
    "           force_add_constant = True):\n",
    "    \"\"\"\n",
    "    fit  X to y in the ordinary least square sense\n",
    "    in pre-conditioning, if add_constant_term_flag == True, returns \n",
    "    \n",
    "    and returns  a tuple  of (neuron_batch_coeff, neuron_batch_pvalue, \n",
    "                                sig_flag, sig_p_value_indices)\n",
    "    \"\"\"\n",
    "    #pre-fit: check the same number of rows\n",
    "    if not have_same_num_rows(y, X): \n",
    "            raise Exception(f'y and X do not have the same number of rows') \n",
    "\n",
    "    #pre-fit: add the constant one to the states (X)'\n",
    "    if  add_constant_term_flag: \n",
    "        if force_add_constant:\n",
    "            X = sm.add_constant(X, has_constant='add')\n",
    "        else:\n",
    "            X = sm.add_constant(X, has_constant='raise')\n",
    "\n",
    "    #fit using statsmodels.ols')\n",
    "    ols_spike_from_states = sm.OLS(y, X)\n",
    "    results_ols_spike_from_states = ols_spike_from_states.fit()\n",
    "\n",
    "    #post-fit: get the coefficients\n",
    "    neuron_batch_coeff = results_ols_spike_from_states.params\n",
    "    #('the p-values test against if the coefficients are zero')\n",
    "    neuron_batch_pvalue = results_ols_spike_from_states.pvalues\n",
    "\n",
    "    sig_p_value_indices = np.array(get_significant_index(neuron_batch_pvalue,\n",
    "                                                significance_level = significance_level))\n",
    "\n",
    "    #return if any of the indix is empty\n",
    "    sig_flag = not (sig_p_value_indices.size == 0)\n",
    "\n",
    "    return (neuron_batch_coeff, \n",
    "           neuron_batch_pvalue,\n",
    "           sig_flag,\n",
    "           sig_p_value_indices)\n",
    "\n"
   ]
  },
  {
   "cell_type": "code",
   "execution_count": 185,
   "metadata": {
    "ExecuteTime": {
     "end_time": "2021-02-24T03:04:50.832285Z",
     "start_time": "2021-02-24T03:04:50.812527Z"
    },
    "scrolled": true
   },
   "outputs": [
    {
     "name": "stdout",
     "output_type": "stream",
     "text": [
      "we transpose the vector for fitting\n",
      "the independent variables are  the intended kin hence, X\n",
      "[[ 12.04 -12.04]\n",
      " [ 12.04 -12.04]\n",
      " [ 12.04 -12.04]\n",
      " [ 12.04 -12.04]\n",
      " [ 12.04 -12.04]\n",
      " [ 12.04 -12.04]\n",
      " [ 12.04 -12.04]\n",
      " [ 12.04 -12.04]\n",
      " [ 12.04 -12.04]\n",
      " [ 12.04 -12.04]]\n",
      "the dependent variable is the neuron spike connt, hence y\n",
      "[[ 22.]\n",
      " [  9.]\n",
      " [ 34.]\n",
      " [ 55.]\n",
      " [ 52.]\n",
      " [ 49.]\n",
      " [ 74.]\n",
      " [ 88.]\n",
      " [104.]\n",
      " [177.]]\n",
      "fitting_results:\n",
      "(array([ 2.76, -2.76]), array([0., 0.]), True, array([0, 1]))\n"
     ]
    }
   ],
   "source": [
    "print('we transpose the vector for fitting')\n",
    "X = intended_kin_one_batch_2D.T\n",
    "y = np.reshape(spike_count_one_batch_one_neuron, (-1,1))\n",
    "\n",
    "\n",
    "print('the independent variables are  the intended kin hence, X')\n",
    "print(X)\n",
    "\n",
    "\n",
    "print('the dependent variable is the neuron spike connt, hence y')\n",
    "print(y)\n",
    "\n",
    "results = fit_ols(y, X)\n",
    "\n",
    "print('fitting_results:')\n",
    "print(results)\n"
   ]
  },
  {
   "cell_type": "markdown",
   "metadata": {},
   "source": [
    "## test across the neurons in a batch"
   ]
  },
  {
   "cell_type": "code",
   "execution_count": 196,
   "metadata": {
    "ExecuteTime": {
     "end_time": "2021-02-24T03:10:31.103859Z",
     "start_time": "2021-02-24T03:10:31.095779Z"
    }
   },
   "outputs": [
    {
     "name": "stdout",
     "output_type": "stream",
     "text": [
      "[0. 0. 0.]\n",
      "[nan nan nan]\n",
      "[nan nan nan]\n",
      "[0. 0. 0.]\n",
      "the pvalue matrix for a batch\n"
     ]
    },
    {
     "name": "stderr",
     "output_type": "stream",
     "text": [
      "/home/sijia-aw/BMi3D_my/lib/python3.8/site-packages/statsmodels/base/model.py:1294: RuntimeWarning: invalid value encountered in true_divide\n",
      "  return self.params / self.bse\n",
      "/home/sijia-aw/BMi3D_my/lib/python3.8/site-packages/scipy/stats/_distn_infrastructure.py:903: RuntimeWarning: invalid value encountered in greater\n",
      "  return (a < x) & (x < b)\n",
      "/home/sijia-aw/BMi3D_my/lib/python3.8/site-packages/scipy/stats/_distn_infrastructure.py:903: RuntimeWarning: invalid value encountered in less\n",
      "  return (a < x) & (x < b)\n",
      "/home/sijia-aw/BMi3D_my/lib/python3.8/site-packages/scipy/stats/_distn_infrastructure.py:1912: RuntimeWarning: invalid value encountered in less_equal\n",
      "  cond2 = cond0 & (x <= _a)\n",
      "<ipython-input-127-4e8d2504454f>:13: RuntimeWarning: invalid value encountered in less_equal\n",
      "  sig_test_list = np.where(p_value_array <= significance_level)\n"
     ]
    },
    {
     "data": {
      "text/plain": [
       "array([[ 0.,  0.,  0.],\n",
       "       [nan, nan, nan],\n",
       "       [nan, nan, nan],\n",
       "       [ 0.,  0.,  0.]])"
      ]
     },
     "execution_count": 196,
     "metadata": {},
     "output_type": "execute_result"
    }
   ],
   "source": [
    "n_roi_neuron = 0\n",
    "\n",
    "#assume spike_count_one_batch has the shape N_NEURONS by N_time points\n",
    "#assume that intended_kin_one_batch_2D has N_states by N_Time_points\n",
    "\n",
    "\n",
    "#get intended kinematics this is fixed for each neuron\n",
    "intended_kin_one_batch_2D = intended_kin_one_batch[(X_VEL_STATE_IND, Y_VEL_STATE_IND),:]\n",
    "#('we transpose the vector for fitting')\n",
    "X = intended_kin_one_batch_2D.T\n",
    "\n",
    "#pre-initialize to speed up\n",
    "#after the transpose, we look at how many columns\n",
    "N_Neurons = spike_count_one_batch.shape[0]\n",
    "N_STATES = X.shape[1] + 1 # add 1 for the intersept\n",
    "\n",
    "neuron_batch_pvalue_matrix = np.empty((N_Neurons, N_STATES))\n",
    "neuron_batch_pvalue_matrix[:] = np.NaN #set all values to NaN\n",
    "\n",
    "for n_roi_neuron in range(N_Neurons):\n",
    "\n",
    "    #('selected firing rates:')\n",
    "    spike_count_one_batch_one_neuron = spike_count_one_batch[n_roi_neuron,:]\n",
    "    y = np.reshape(spike_count_one_batch_one_neuron, (-1,1)) #transpose\n",
    "\n",
    "    (neuron_batch_coeff, neuron_batch_pvalue, sig_flag, sig_p_value_indices) = fit_ols(y, X)\n",
    "    \n",
    "    print(neuron_batch_pvalue)\n",
    "    neuron_batch_pvalue_matrix[n_roi_neuron,:] = neuron_batch_pvalue\n",
    "\n",
    "print(f'the pvalue matrix for a batch')\n",
    "neuron_batch_pvalue_matrix"
   ]
  },
  {
   "cell_type": "code",
   "execution_count": 201,
   "metadata": {
    "ExecuteTime": {
     "end_time": "2021-02-24T03:19:00.257472Z",
     "start_time": "2021-02-24T03:19:00.231464Z"
    },
    "scrolled": true
   },
   "outputs": [
    {
     "name": "stdout",
     "output_type": "stream",
     "text": [
      "test out the calculate_p_value_matrix\n",
      "[[ 0.  0.  0.]\n",
      " [nan nan nan]\n",
      " [nan nan nan]\n",
      " [ 0.  0.  0.]]\n",
      "\n",
      "for comparision, this is what we just calculated\n"
     ]
    },
    {
     "name": "stderr",
     "output_type": "stream",
     "text": [
      "<ipython-input-127-4e8d2504454f>:13: RuntimeWarning: invalid value encountered in less_equal\n",
      "  sig_test_list = np.where(p_value_array <= significance_level)\n"
     ]
    },
    {
     "data": {
      "text/plain": [
       "array([[ 0.,  0.,  0.],\n",
       "       [nan, nan, nan],\n",
       "       [nan, nan, nan],\n",
       "       [ 0.,  0.,  0.]])"
      ]
     },
     "execution_count": 201,
     "metadata": {},
     "output_type": "execute_result"
    }
   ],
   "source": [
    "# we are gonna package this in a batch\n",
    "\n",
    "def calculate_p_value_matrix(intended_kin_one_batch_2D:np.array, \n",
    "                            spike_count_one_batch:np.array):\n",
    "    \"\"\"\n",
    "    this function iteratively fits an ols of the states to the firing rates \n",
    "    spike_count_one_batch = reg_coeff * intended_kin_one_batch_2D + error\n",
    "    and returns a neuron_batch_pvalue_matrix of N_NEURONS by (N_STATES + 1) \n",
    "    \n",
    "    inputs:\n",
    "    intended_kin_one_batch_2D: N_NEURONS by N_TIME_POINTS\n",
    "    spike_count_one_batch: N_STATES by N_TIME_POINTS\n",
    "    \n",
    "    output:\n",
    "    neuron_batch_pvalue_matrix: N_NEURONS by (N_STATES + 1) \n",
    "    \"\"\"\n",
    "\n",
    "    X = intended_kin_one_batch_2D.T\n",
    "\n",
    "    #pre-initialize to speed up\n",
    "    #after the transpose, we look at how many columns\n",
    "    N_Neurons = spike_count_one_batch.shape[0]\n",
    "    N_STATES = X.shape[1] + 1 # add 1 for the intersept\n",
    "\n",
    "    neuron_batch_pvalue_matrix = np.empty((N_Neurons, N_STATES))\n",
    "    neuron_batch_pvalue_matrix[:] = np.NaN #set all values to NaN\n",
    "\n",
    "    for n_roi_neuron in range(N_Neurons):\n",
    "\n",
    "        #('selected firing rates:')\n",
    "        spike_count_one_batch_one_neuron = spike_count_one_batch[n_roi_neuron,:]\n",
    "        y = np.reshape(spike_count_one_batch_one_neuron, (-1,1)) #transpose\n",
    "        \n",
    "        (neuron_batch_coeff, neuron_batch_pvalue, sig_flag, sig_p_value_indices) = fit_ols(y, X)\n",
    "        neuron_batch_pvalue_matrix[n_roi_neuron,:] = neuron_batch_pvalue\n",
    "        \n",
    "    return neuron_batch_pvalue_matrix\n",
    "\n",
    "print('test out the calculate_p_value_matrix')\n",
    "\n",
    "calc_p_value_matrix_result = calculate_p_value_matrix(intended_kin_one_batch_2D, \n",
    "                            spike_count_one_batch)\n",
    "print(calc_p_value_matrix_result)\n",
    "print()\n",
    "print('for comparision, this is what we just calculated')\n",
    "neuron_batch_pvalue_matrix"
   ]
  },
  {
   "cell_type": "markdown",
   "metadata": {},
   "source": [
    "## calculate p_values for a different batch"
   ]
  },
  {
   "cell_type": "code",
   "execution_count": 204,
   "metadata": {
    "ExecuteTime": {
     "end_time": "2021-02-24T03:20:09.638785Z",
     "start_time": "2021-02-24T03:20:09.616688Z"
    },
    "scrolled": true
   },
   "outputs": [
    {
     "name": "stdout",
     "output_type": "stream",
     "text": [
      "[[ 0.  0.  0.]\n",
      " [nan nan nan]\n",
      " [nan nan nan]\n",
      " [ 0.  0.  0.]]\n",
      "here, the issues are if any of the rows are linearly dependent\n",
      "the fit just does not work\n"
     ]
    },
    {
     "name": "stderr",
     "output_type": "stream",
     "text": [
      "<ipython-input-127-4e8d2504454f>:13: RuntimeWarning: invalid value encountered in less_equal\n",
      "  sig_test_list = np.where(p_value_array <= significance_level)\n"
     ]
    }
   ],
   "source": [
    "# we just take one batch\n",
    "batch_of_interest = 12\n",
    "\n",
    "intended_kin_one_batch = intended_kin[batch_of_interest]\n",
    "intended_kin_one_batch_2D = intended_kin_one_batch[(X_VEL_STATE_IND, Y_VEL_STATE_IND),:]\n",
    "spike_count_one_batch = spike_counts_batch[batch_of_interest]\n",
    "\n",
    "\n",
    "calc_p_value_matrix_result = calculate_p_value_matrix(intended_kin_one_batch_2D, \n",
    "                            spike_count_one_batch)\n",
    "\n",
    "print(calc_p_value_matrix_result)\n",
    "\n",
    "print('here, the issues are if any of the rows are linearly dependent')\n",
    "print('the fit just does not work')"
   ]
  },
  {
   "cell_type": "markdown",
   "metadata": {},
   "source": [
    "## calculate p_values across the batches"
   ]
  },
  {
   "cell_type": "code",
   "execution_count": 211,
   "metadata": {
    "ExecuteTime": {
     "end_time": "2021-02-24T03:24:55.693757Z",
     "start_time": "2021-02-24T03:24:55.684944Z"
    }
   },
   "outputs": [
    {
     "data": {
      "text/plain": [
       "(157, 7, 10)"
      ]
     },
     "execution_count": 211,
     "metadata": {},
     "output_type": "execute_result"
    }
   ],
   "source": [
    "intended_kin.shape"
   ]
  },
  {
   "cell_type": "code",
   "execution_count": 218,
   "metadata": {
    "ExecuteTime": {
     "end_time": "2021-02-24T03:34:25.107369Z",
     "start_time": "2021-02-24T03:34:24.884345Z"
    }
   },
   "outputs": [
    {
     "name": "stderr",
     "output_type": "stream",
     "text": [
      "<ipython-input-127-4e8d2504454f>:13: RuntimeWarning: invalid value encountered in less_equal\n",
      "  sig_test_list = np.where(p_value_array <= significance_level)\n"
     ]
    },
    {
     "name": "stdout",
     "output_type": "stream",
     "text": [
      "we can check the type of the design matrix\n"
     ]
    },
    {
     "data": {
      "text/plain": [
       "(157, 4, 3)"
      ]
     },
     "execution_count": 218,
     "metadata": {},
     "output_type": "execute_result"
    }
   ],
   "source": [
    "(N_UPDATE_BATCHES_SPIKE, N_NEURONS, BATCH_SIZE_SPIKE) = spike_counts_batch.shape\n",
    "(N_UPDATE_BATCHES_KIN, N_STATES, BATCH_SIZE_KIN) = intended_kin.shape\n",
    "\n",
    "if not (N_UPDATE_BATCHES_SPIKE == N_UPDATE_BATCHES_KIN): \n",
    "    raise Exceptio(f'the spike count length of {N_UPDATE_BATCHES_SPIKE} does not equal to {N_UPDATE_BATCHES_KIN}' )\n",
    "\n",
    "if not (BATCH_SIZE_KIN == BATCH_SIZE_SPIKE): \n",
    "    raise Exceptio(f'the batch size  of {BATCH_SIZE_KIN} does not equal to {BATCH_SIZE_SPIKE}' )\n",
    "\n",
    "# the number of columns of in the design matrix\n",
    "N_TRACKED_STATES = 3 # ( CONST, X_VEL_STATE_IND, Y_VEL_STATE_IND)\n",
    "    \n",
    "batch_pvalue_matrix = np.empty((N_UPDATE_BATCHES_SPIKE,N_Neurons, N_TRACKED_STATES))\n",
    "batch_pvalue_matrix[:] = np.NaN #set all values to NaN\n",
    "    \n",
    "for batch_of_interest in range(N_UPDATE_BATCHES):\n",
    "    \n",
    "    intended_kin_one_batch = intended_kin[batch_of_interest]\n",
    "    intended_kin_one_batch_2D = intended_kin_one_batch[(X_VEL_STATE_IND, Y_VEL_STATE_IND),:]\n",
    "    spike_count_one_batch = spike_counts_batch[batch_of_interest]\n",
    "\n",
    "    batch_pvalue_matrix[batch_of_interest, :, :] = calculate_p_value_matrix(intended_kin_one_batch_2D, \n",
    "                            spike_count_one_batch)\n",
    "    \n",
    "    \n",
    "print('we can check the type of the design matrix')\n",
    "batch_pvalue_matrix.shape"
   ]
  },
  {
   "cell_type": "code",
   "execution_count": 236,
   "metadata": {
    "ExecuteTime": {
     "end_time": "2021-02-24T04:16:19.645098Z",
     "start_time": "2021-02-24T04:16:19.525536Z"
    }
   },
   "outputs": [
    {
     "data": {
      "text/plain": [
       "<matplotlib.legend.Legend at 0x7f1dd07140a0>"
      ]
     },
     "execution_count": 236,
     "metadata": {},
     "output_type": "execute_result"
    },
    {
     "data": {
      "image/png": "[encoded data removed]",
      "text/plain": [
       "<Figure size 432x288 with 1 Axes>"
      ]
     },
     "metadata": {
      "needs_background": "light"
     },
     "output_type": "display_data"
    }
   ],
   "source": [
    "plt.plot((batch_pvalue_matrix_neuron[:,1:]))\n",
    "plt.xlabel('update count')\n",
    "plt.legend(['X vel', 'Y vel'])"
   ]
  },
  {
   "cell_type": "code",
   "execution_count": 234,
   "metadata": {
    "ExecuteTime": {
     "end_time": "2021-02-24T04:14:38.647596Z",
     "start_time": "2021-02-24T04:14:38.362849Z"
    },
    "scrolled": true
   },
   "outputs": [
    {
     "ename": "AttributeError",
     "evalue": "'numpy.ndarray' object has no attribute 'legend'",
     "output_type": "error",
     "traceback": [
      "\u001b[0;31m---------------------------------------------------------------------------\u001b[0m",
      "\u001b[0;31mAttributeError\u001b[0m                            Traceback (most recent call last)",
      "\u001b[0;32m<ipython-input-234-a3cc43bef1f6>\u001b[0m in \u001b[0;36m<module>\u001b[0;34m\u001b[0m\n\u001b[1;32m      7\u001b[0m     \u001b[0mbatch_pvalue_matrix_neuron\u001b[0m \u001b[0;34m=\u001b[0m \u001b[0mnp\u001b[0m\u001b[0;34m.\u001b[0m\u001b[0msqueeze\u001b[0m\u001b[0;34m(\u001b[0m\u001b[0mbatch_pvalue_matrix\u001b[0m\u001b[0;34m[\u001b[0m\u001b[0;34m:\u001b[0m\u001b[0;34m,\u001b[0m\u001b[0mn\u001b[0m\u001b[0;34m,\u001b[0m\u001b[0;34m:\u001b[0m\u001b[0;34m]\u001b[0m\u001b[0;34m)\u001b[0m\u001b[0;34m\u001b[0m\u001b[0;34m\u001b[0m\u001b[0m\n\u001b[1;32m      8\u001b[0m     \u001b[0maxs\u001b[0m\u001b[0;34m[\u001b[0m\u001b[0mn\u001b[0m\u001b[0;34m]\u001b[0m\u001b[0;34m.\u001b[0m\u001b[0mplot\u001b[0m\u001b[0;34m(\u001b[0m\u001b[0mbatch_pvalue_matrix_neuron\u001b[0m\u001b[0;34m[\u001b[0m\u001b[0;34m:\u001b[0m\u001b[0;34m,\u001b[0m\u001b[0;36m1\u001b[0m\u001b[0;34m:\u001b[0m\u001b[0;34m]\u001b[0m\u001b[0;34m)\u001b[0m\u001b[0;34m\u001b[0m\u001b[0;34m\u001b[0m\u001b[0m\n\u001b[0;32m----> 9\u001b[0;31m     \u001b[0maxs\u001b[0m\u001b[0;34m.\u001b[0m\u001b[0mlegend\u001b[0m\u001b[0;34m(\u001b[0m\u001b[0;34m'p value for X vel'\u001b[0m\u001b[0;34m,\u001b[0m \u001b[0;34m'p value for y vel'\u001b[0m\u001b[0;34m)\u001b[0m\u001b[0;34m\u001b[0m\u001b[0;34m\u001b[0m\u001b[0m\n\u001b[0m\u001b[1;32m     10\u001b[0m \u001b[0;34m\u001b[0m\u001b[0m\n",
      "\u001b[0;31mAttributeError\u001b[0m: 'numpy.ndarray' object has no attribute 'legend'"
     ]
    },
    {
     "data": {
      "image/png": "[encoded data removed]",
      "text/plain": [
       "<Figure size 1152x288 with 4 Axes>"
      ]
     },
     "metadata": {
      "needs_background": "light"
     },
     "output_type": "display_data"
    }
   ],
   "source": [
    "n_roi_neuron = 0\n",
    "\n",
    "\n",
    "fig, axs = plt.subplots(1,N_NEURONS, figsize = (16,4))\n",
    "\n",
    "for n in range(N_NEURONS):\n",
    "    batch_pvalue_matrix_neuron = np.squeeze(batch_pvalue_matrix[:,n,:])\n",
    "    axs[n].plot(batch_pvalue_matrix_neuron[:,1:])\n",
    "    ('p value for X vel', 'p value for y vel')\n",
    "    \n"
   ]
  }
 ],
 "metadata": {
  "kernelspec": {
   "display_name": "Python 3",
   "language": "python",
   "name": "python3"
  },
  "language_info": {
   "codemirror_mode": {
    "name": "ipython",
    "version": 3
   },
   "file_extension": ".py",
   "mimetype": "text/x-python",
   "name": "python",
   "nbconvert_exporter": "python",
   "pygments_lexer": "ipython3",
   "version": "3.8.5"
  },
  "toc": {
   "base_numbering": 1,
   "nav_menu": {},
   "number_sections": true,
   "sideBar": true,
   "skip_h1_title": false,
   "title_cell": "Table of Contents",
   "title_sidebar": "Contents",
   "toc_cell": false,
   "toc_position": {
    "height": "calc(100% - 180px)",
    "left": "10px",
    "top": "150px",
    "width": "293.115px"
   },
   "toc_section_display": true,
   "toc_window_display": false
  },
  "varInspector": {
   "cols": {
    "lenName": 16,
    "lenType": 16,
    "lenVar": 40
   },
   "kernels_config": {
    "python": {
     "delete_cmd_postfix": "",
     "delete_cmd_prefix": "del ",
     "library": "var_list.py",
     "varRefreshCmd": "print(var_dic_list())"
    },
    "r": {
     "delete_cmd_postfix": ") ",
     "delete_cmd_prefix": "rm(",
     "library": "var_list.r",
     "varRefreshCmd": "cat(var_dic_list()) "
    }
   },
   "types_to_exclude": [
    "module",
    "function",
    "builtin_function_or_method",
    "instance",
    "_Feature"
   ],
   "window_display": false
  }
 },
 "nbformat": 4,
 "nbformat_minor": 4
}
