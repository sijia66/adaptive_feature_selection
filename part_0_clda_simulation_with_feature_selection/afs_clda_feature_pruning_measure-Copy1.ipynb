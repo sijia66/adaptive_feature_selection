{
 "cells": [
  {
   "cell_type": "markdown",
   "metadata": {},
   "source": []
  },
  {
   "cell_type": "markdown",
   "metadata": {},
   "source": [
    "# Purposes of this document\n",
    "\n",
    "the reason I am doing this is that I want to make this really easy kind of thing.  "
   ]
  },
  {
   "cell_type": "markdown",
   "metadata": {},
   "source": [
    "# ideas"
   ]
  },
  {
   "cell_type": "code",
   "execution_count": 3,
   "metadata": {
    "ExecuteTime": {
     "end_time": "2021-07-16T03:12:29.268236Z",
     "start_time": "2021-07-16T03:12:29.266170Z"
    }
   },
   "outputs": [],
   "source": [
    "\n",
    "#random_seeds = [0, 100, 1000]\n",
    "#num_rep = len(random_seeds)"
   ]
  },
  {
   "cell_type": "markdown",
   "metadata": {},
   "source": [
    "apply leo's idea, we are gonna be suspicious everything, right. "
   ]
  },
  {
   "cell_type": "code",
   "execution_count": 4,
   "metadata": {
    "ExecuteTime": {
     "end_time": "2021-07-16T03:12:29.369653Z",
     "start_time": "2021-07-16T03:12:29.271915Z"
    }
   },
   "outputs": [
    {
     "name": "stdout",
     "output_type": "stream",
     "text": [
      "['0.60']\n",
      "1\n"
     ]
    }
   ],
   "source": [
    "import numpy as np\n",
    "\n",
    "percent_high_SNR_noises = np.array([0.6])\n",
    "\n",
    "num_noises = len(percent_high_SNR_noises)\n",
    "\n",
    "\n",
    "percent_high_SNR_noises_labels = [f'{s:.2f}' for s in percent_high_SNR_noises]\n",
    "\n",
    "print(percent_high_SNR_noises_labels)\n",
    "print(num_noises)"
   ]
  },
  {
   "cell_type": "code",
   "execution_count": 5,
   "metadata": {
    "ExecuteTime": {
     "end_time": "2021-07-16T03:12:29.371815Z",
     "start_time": "2021-07-16T03:12:29.370513Z"
    }
   },
   "outputs": [],
   "source": [
    "#the second idea is actually to prune the feature set\n",
    "batch_to_prune = 50"
   ]
  },
  {
   "cell_type": "markdown",
   "metadata": {},
   "source": [
    "# Experimental setup related to the questions\n",
    "\n",
    "this part should be configured to directly test the hypothesis put forward in the previous section\n"
   ]
  },
  {
   "cell_type": "code",
   "execution_count": 6,
   "metadata": {
    "ExecuteTime": {
     "end_time": "2021-07-16T03:12:29.377673Z",
     "start_time": "2021-07-16T03:12:29.372724Z"
    }
   },
   "outputs": [],
   "source": [
    "mean_firing_rate_low = 50\n",
    "mean_firing_rate_high = 200"
   ]
  },
  {
   "cell_type": "code",
   "execution_count": 7,
   "metadata": {
    "ExecuteTime": {
     "end_time": "2021-07-16T03:12:29.387290Z",
     "start_time": "2021-07-16T03:12:29.378740Z"
    }
   },
   "outputs": [
    {
     "name": "stdout",
     "output_type": "stream",
     "text": [
      "[array([False, False, False, False, False, False, False, False, False,\n",
      "       False, False, False, False, False, False, False, False, False,\n",
      "       False, False, False, False, False, False,  True,  True,  True,\n",
      "        True,  True,  True,  True,  True]), array([False, False, False, False, False, False, False, False,  True,\n",
      "        True,  True,  True,  True,  True,  True,  True, False, False,\n",
      "       False, False, False, False, False, False, False, False, False,\n",
      "       False, False, False, False, False]), array([False, False, False, False, False, False, False, False, False,\n",
      "       False, False, False, False, False, False, False,  True,  True,\n",
      "        True,  True,  True,  True,  True,  True, False, False, False,\n",
      "       False, False, False, False, False]), array([ True,  True,  True,  True,  True,  True,  True,  True, False,\n",
      "       False, False, False, False, False, False, False, False, False,\n",
      "       False, False, False, False, False, False, False, False, False,\n",
      "       False, False, False, False, False])]\n",
      "set up the variances in a list:\n",
      "we therefore know the number of neurons to be 32\n",
      "[[0.8]\n",
      " [0.8]\n",
      " [0.8]\n",
      " [0.8]\n",
      " [0.8]\n",
      " [0.8]\n",
      " [0.8]\n",
      " [0.8]\n",
      " [1. ]\n",
      " [1. ]\n",
      " [1. ]\n",
      " [1. ]\n",
      " [1. ]\n",
      " [1. ]\n",
      " [1. ]\n",
      " [1. ]\n",
      " [1. ]\n",
      " [1. ]\n",
      " [1. ]\n",
      " [1. ]\n",
      " [1. ]\n",
      " [1. ]\n",
      " [1. ]\n",
      " [1. ]\n",
      " [1. ]\n",
      " [1. ]\n",
      " [1. ]\n",
      " [1. ]\n",
      " [1. ]\n",
      " [1. ]\n",
      " [1. ]\n",
      " [1. ]]\n"
     ]
    }
   ],
   "source": [
    "\n",
    "np.set_printoptions(precision=2, suppress=True)\n",
    "\n",
    "noise_mode = 'fixed_gaussian'\n",
    "fixed_noise_level = 5#Hz\n",
    "\n",
    "n_neurons = 32\n",
    "\n",
    "n_neurons_per_group = 8\n",
    "\n",
    "\n",
    "\n",
    "no_noise_neuron_ind = np.arange(n_neurons_per_group)\n",
    "medium_noise_neuron_ind = np.arange(n_neurons_per_group, 2 * n_neurons_per_group)\n",
    "low_noise_neuron_ind = np.arange(2*n_neurons_per_group, 3 * n_neurons_per_group)\n",
    "high_noise_neuron_ind = np.arange(3 * n_neurons_per_group, 4* n_neurons_per_group)\n",
    "\n",
    "neuron_type_indices_in_a_list = [\n",
    "    high_noise_neuron_ind,\n",
    "    medium_noise_neuron_ind,\n",
    "    low_noise_neuron_ind,\n",
    "    no_noise_neuron_ind\n",
    "]\n",
    "\n",
    "N_TYPES_OF_NEURONS = len(neuron_type_indices_in_a_list)\n",
    "\n",
    "\n",
    "no_noise_neuron_list = np.full(n_neurons, False, dtype = bool)\n",
    "low_noise_neuron_list = np.full(n_neurons, False, dtype = bool)\n",
    "medium_noise_neuron_list = np.full(n_neurons, False, dtype = bool)\n",
    "high_noise_neuron_list = np.full(n_neurons, False, dtype = bool)\n",
    "\n",
    "with_noise_neuron_list = np.full(n_neurons, False, dtype = bool)\n",
    "\n",
    "\n",
    "\n",
    "no_noise_neuron_list[no_noise_neuron_ind] = True\n",
    "low_noise_neuron_list[low_noise_neuron_ind] = True\n",
    "medium_noise_neuron_list[medium_noise_neuron_ind] = True\n",
    "high_noise_neuron_list[high_noise_neuron_ind] = True\n",
    "\n",
    "with_noise_neuron_list[low_noise_neuron_ind] = True\n",
    "with_noise_neuron_list[medium_noise_neuron_ind] = True\n",
    "with_noise_neuron_list[high_noise_neuron_ind] = True\n",
    "\n",
    "neuron_type_bool_list = [\n",
    "    high_noise_neuron_list,\n",
    "    medium_noise_neuron_list,\n",
    "    low_noise_neuron_list,\n",
    "    no_noise_neuron_list,\n",
    "]\n",
    "\n",
    "print(neuron_type_bool_list)\n",
    "\n",
    "\n",
    "percent_of_count = np.ones(n_neurons)[:, np.newaxis]\n",
    "\n",
    "print(f'set up the variances in a list:')\n",
    "\n",
    "percent_of_count[high_noise_neuron_ind] = 1 \n",
    "percent_of_count[medium_noise_neuron_ind] = 1\n",
    "percent_of_count[low_noise_neuron_ind] = 1\n",
    "percent_of_count[no_noise_neuron_ind] = 0.8\n",
    "\n",
    "print(f'we therefore know the number of neurons to be {n_neurons}')\n",
    "print(percent_of_count)"
   ]
  },
  {
   "cell_type": "code",
   "execution_count": 8,
   "metadata": {
    "ExecuteTime": {
     "end_time": "2021-07-16T03:12:29.394200Z",
     "start_time": "2021-07-16T03:12:29.388182Z"
    }
   },
   "outputs": [],
   "source": [
    "# make percent of count into a list \n",
    "percent_of_count_in_a_list = list()\n",
    "\n",
    "for i in range(num_noises):\n",
    "    percent_of_count = np.ones(n_neurons)[:, np.newaxis]\n",
    "\n",
    "\n",
    "    percent_of_count[high_noise_neuron_ind] =  1\n",
    "    percent_of_count[medium_noise_neuron_ind] = 1\n",
    "    percent_of_count[low_noise_neuron_ind] = 1\n",
    "    percent_of_count[no_noise_neuron_ind] = percent_high_SNR_noises[i]\n",
    "    \n",
    "    percent_of_count_in_a_list.append(percent_of_count)\n"
   ]
  },
  {
   "cell_type": "code",
   "execution_count": 9,
   "metadata": {
    "ExecuteTime": {
     "end_time": "2021-07-16T03:12:29.403757Z",
     "start_time": "2021-07-16T03:12:29.394973Z"
    }
   },
   "outputs": [
    {
     "name": "stdout",
     "output_type": "stream",
     "text": [
      "we have experimental conditions ['Full set', 'Iterative feature selection']\n"
     ]
    }
   ],
   "source": [
    "\n",
    "#for comparision\n",
    "#for comparision\n",
    "\n",
    "exp_conds = [ 'Full set', 'Iterative feature selection',]\n",
    "\n",
    "print(f'we have experimental conditions {exp_conds}')\n",
    "\n",
    "#setting clda parameters \n",
    "##learner: collects paird data at batch_sizes\n",
    "RHO = 0.5\n",
    "batch_size = 100\n",
    "\n",
    "\n",
    "#assistor set up assist level\n",
    "assist_level = (0.0, 0.0)\n",
    "\n",
    "#learner and updater: actualy set up rho\n",
    "UPDATER_BATCH_TIME = 1\n",
    "UPDATER_HALF_LIFE = np.log(RHO)  * UPDATER_BATCH_TIME / np.log(0.5)\n"
   ]
  },
  {
   "cell_type": "code",
   "execution_count": 10,
   "metadata": {
    "ExecuteTime": {
     "end_time": "2021-07-16T03:12:29.409775Z",
     "start_time": "2021-07-16T03:12:29.404684Z"
    }
   },
   "outputs": [],
   "source": [
    "# CHANGE: game mechanics: generate task params\n",
    "N_TARGETS = 8\n",
    "N_TRIALS = 800\n",
    "\n",
    "NUM_EXP_COND = len(exp_conds) # how many experiments we are running. \n",
    "NUM_EXP = NUM_EXP_COND"
   ]
  },
  {
   "cell_type": "markdown",
   "metadata": {},
   "source": [
    "# Config the experiments\n",
    "\n",
    "this section largely copyied and pasted from   \n",
    "bmi3d-sijia(branch)-bulti_in_experiemnts\n",
    "https://github.com/sijia66/brain-python-interface/blob/master/built_in_tasks/sim_task_KF.py"
   ]
  },
  {
   "cell_type": "markdown",
   "metadata": {},
   "source": [
    "## load dependant libraries"
   ]
  },
  {
   "cell_type": "code",
   "execution_count": 11,
   "metadata": {
    "ExecuteTime": {
     "end_time": "2021-07-16T03:12:29.568363Z",
     "start_time": "2021-07-16T03:12:29.411155Z"
    }
   },
   "outputs": [],
   "source": [
    "from afs_plotting import *"
   ]
  },
  {
   "cell_type": "code",
   "execution_count": 12,
   "metadata": {
    "ExecuteTime": {
     "end_time": "2021-07-16T03:12:30.990910Z",
     "start_time": "2021-07-16T03:12:29.569501Z"
    }
   },
   "outputs": [
    {
     "name": "stderr",
     "output_type": "stream",
     "text": [
      "/home/sijia-aw/BMi3D_my/lab_bmi3d/riglib/blackrock/cerelink.py:13: UserWarning: Unable to import cerebus library. Check if is installed if using the Blackrock NeuroPort system\n",
      "  warnings.warn(\"Unable to import cerebus library. Check if is installed if using the Blackrock NeuroPort system\")\n"
     ]
    }
   ],
   "source": [
    "# import libraries\n",
    "# make sure these directories are in the python path., \n",
    "from bmimultitasks import SimBMIControlMulti, SimBMICosEncKFDec, BMIControlMultiNoWindow\n",
    "from features import SaveHDF\n",
    "from features.simulation_features import get_enc_setup, SimKFDecoderRandom,SimIntentionLQRController, SimClockTick\n",
    "from features.simulation_features import SimHDF, SimTime\n",
    "\n",
    "from riglib import experiment\n",
    "\n",
    "from riglib.stereo_opengl.window import FakeWindow\n",
    "from riglib.bmi import train\n",
    "\n",
    "\n",
    "from behaviour_metrics import filter_state, sort_trials\n",
    "\n",
    "from weights import calc_p_values_for_spike_batches_use_intended_kin\n",
    "from weights import calc_single_batch_p_values_by_fitting_kinematics_to_spike_counts\n",
    "import weights\n",
    "\n",
    "import time\n",
    "import copy\n",
    "import numpy as np\n",
    "import matplotlib.pyplot as plt\n",
    "import sympy as sp\n",
    "import itertools #for identical sequences\n",
    "\n",
    "np.set_printoptions(precision=2, suppress=True)\n"
   ]
  },
  {
   "cell_type": "markdown",
   "metadata": {},
   "source": [
    "##  behaviour and task setup"
   ]
  },
  {
   "cell_type": "code",
   "execution_count": 13,
   "metadata": {
    "ExecuteTime": {
     "end_time": "2021-07-16T03:12:30.996013Z",
     "start_time": "2021-07-16T03:12:30.991773Z"
    }
   },
   "outputs": [],
   "source": [
    "seq = SimBMIControlMulti.sim_target_seq_generator_multi(\n",
    "N_TARGETS, N_TRIALS)\n",
    "\n",
    "#create a second version of the tasks\n",
    "seqs = itertools.tee(seq, NUM_EXP + 1)\n",
    "target_seq = list(seqs[NUM_EXP])\n",
    "\n",
    "seqs = seqs[:NUM_EXP]\n",
    "\n",
    "\n",
    "SAVE_HDF = False\n",
    "SAVE_SIM_HDF = True #this makes the task data available as exp.task_data_hist\n",
    "DEBUG_FEATURE = False\n",
    "\n",
    "\n",
    "#base_class = SimBMIControlMulti\n",
    "base_class = BMIControlMultiNoWindow\n",
    "\n",
    "#for adding experimental features such as encoder, decoder\n",
    "feats = []\n",
    "feats_2 = []\n"
   ]
  },
  {
   "cell_type": "markdown",
   "metadata": {},
   "source": [
    "goin"
   ]
  },
  {
   "cell_type": "markdown",
   "metadata": {},
   "source": [
    "## Time control"
   ]
  },
  {
   "cell_type": "code",
   "execution_count": 14,
   "metadata": {
    "ExecuteTime": {
     "end_time": "2021-07-16T03:12:31.018009Z",
     "start_time": "2021-07-16T03:12:30.997080Z"
    }
   },
   "outputs": [],
   "source": [
    "from simulation_features import TimeCountDown\n",
    "\n",
    "feats.append(TimeCountDown)\n",
    "feats_2.append(TimeCountDown)\n",
    "\n",
    "total_exp_time = 1200# in seconds"
   ]
  },
  {
   "cell_type": "markdown",
   "metadata": {},
   "source": [
    "## encoder\n",
    "\n",
    "the cosine tuned encoder uses a poisson process, right\n",
    "https://en.wikipedia.org/wiki/Poisson_distribution\n",
    "so if the lambda is 1, then it's very likely "
   ]
  },
  {
   "cell_type": "code",
   "execution_count": 15,
   "metadata": {
    "ExecuteTime": {
     "end_time": "2021-07-16T03:12:31.037301Z",
     "start_time": "2021-07-16T03:12:31.022971Z"
    }
   },
   "outputs": [
    {
     "name": "stdout",
     "output_type": "stream",
     "text": [
      "features.simulation_features: get_enc_setup has a tuning_level of 1 \n",
      "\n",
      "[ True  True  True  True  True  True  True  True False False False False\n",
      " False False False False False False False False False False False False\n",
      " False False False False False False False False]\n",
      "(32, 7)\n"
     ]
    }
   ],
   "source": [
    "from features.simulation_features import get_enc_setup\n",
    "\n",
    "ENCODER_TYPE = 'cosine_tuned_encoder_with_poisson_noise'\n",
    "\n",
    "#neuron set up : 'std (20 neurons)' or 'toy (4 neurons)' \n",
    "N_NEURONS, N_STATES, sim_C = get_enc_setup(sim_mode = 'rot_90', n_neurons= n_neurons)\n",
    "\n",
    "\n",
    "print(no_noise_neuron_list)\n",
    "#multiply our the neurons\n",
    "sim_C[with_noise_neuron_list] =  sim_C[with_noise_neuron_list]  * mean_firing_rate_low\n",
    "sim_C[no_noise_neuron_list]  = sim_C[no_noise_neuron_list] * mean_firing_rate_high\n",
    "\n",
    "\n",
    "print(sim_C.shape)\n",
    "\n",
    "#set up intention feedbackcontroller\n",
    "#this ideally set before the encoder\n",
    "feats.append(SimIntentionLQRController)\n",
    "\n",
    "#set up the encoder\n",
    "from features.simulation_features import SimCosineTunedEncWithNoise\n",
    "feats.append(SimCosineTunedEncWithNoise)\n",
    "\n",
    "\n",
    "feats_2.append(SimIntentionLQRController)\n",
    "feats_2.append(SimCosineTunedEncWithNoise)"
   ]
  },
  {
   "cell_type": "markdown",
   "metadata": {},
   "source": [
    "## decoder setup"
   ]
  },
  {
   "cell_type": "code",
   "execution_count": 16,
   "metadata": {
    "ExecuteTime": {
     "end_time": "2021-07-16T03:12:31.052600Z",
     "start_time": "2021-07-16T03:12:31.041702Z"
    }
   },
   "outputs": [
    {
     "name": "stdout",
     "output_type": "stream",
     "text": [
      "__main__: set base class \n",
      "__main__: selected SimKFDecoderRandom \n",
      "\n"
     ]
    }
   ],
   "source": [
    "#clda on random \n",
    "DECODER_MODE = 'random' # random \n",
    "\n",
    "   #take care the decoder setup\n",
    "if DECODER_MODE == 'random':\n",
    "    feats.append(SimKFDecoderRandom)\n",
    "    feats_2.append(SimKFDecoderRandom)\n",
    "    print(f'{__name__}: set base class ')\n",
    "    print(f'{__name__}: selected SimKFDecoderRandom \\n')\n",
    "else: #defaul to a cosEnc and a pre-traind KF DEC\n",
    "    from features.simulation_features import SimKFDecoderSup\n",
    "    feats.append(SimKFDecoderSup)\n",
    "    feats_2.append(SimKFDecoderRandom)\n",
    "    print(f'{__name__}: set decoder to SimKFDecoderSup\\n')"
   ]
  },
  {
   "cell_type": "markdown",
   "metadata": {},
   "source": [
    "##  clda: learner and updater"
   ]
  },
  {
   "cell_type": "code",
   "execution_count": 17,
   "metadata": {
    "ExecuteTime": {
     "end_time": "2021-07-16T03:12:31.063492Z",
     "start_time": "2021-07-16T03:12:31.056489Z"
    }
   },
   "outputs": [],
   "source": [
    "\n",
    "\n",
    "LEARNER_TYPE = 'feedback' # to dumb or not dumb it is a question 'feedback'\n",
    "UPDATER_TYPE = 'smooth_batch' #none or \"smooth_batch\"\n",
    "\n",
    "\n",
    "#you know what? \n",
    "#learner only collects firing rates labeled with estimated estimates\n",
    "#we would also need to use the labeled data\n",
    "#now, we can set up a dumb/or not-dumb learner\n",
    "if LEARNER_TYPE == 'feedback':\n",
    "    from features.simulation_features import SimFeedbackLearner\n",
    "    feats.append(SimFeedbackLearner)\n",
    "    feats_2.append(SimFeedbackLearner)\n",
    "else:\n",
    "    from features.simulation_features import SimDumbLearner\n",
    "    feats.append(SimDumbLearner)\n",
    "    feats_2.append(SimDumbLearner)\n",
    "\n",
    "#to update the decoder.\n",
    "if UPDATER_TYPE == 'smooth_batch':\n",
    "    from features.simulation_features import SimSmoothBatch\n",
    "    feats.append(SimSmoothBatch)\n",
    "    feats_2.append(SimSmoothBatch)\n",
    "else: #defaut to none \n",
    "    print(f'{__name__}: need to specify an updater')\n",
    "    \n",
    "\n"
   ]
  },
  {
   "cell_type": "markdown",
   "metadata": {},
   "source": [
    "## feature selector setup"
   ]
  },
  {
   "cell_type": "code",
   "execution_count": 18,
   "metadata": {
    "ExecuteTime": {
     "end_time": "2021-07-16T03:12:31.215745Z",
     "start_time": "2021-07-16T03:12:31.065446Z"
    }
   },
   "outputs": [
    {
     "name": "stdout",
     "output_type": "stream",
     "text": [
      "kwargs will be updated in a later time\n",
      "the feature adaptation project is tracking dict_keys(['transform_x_flag', 'transform_y_flag', 'feature_x_transformer', 'feature_y_transformer', 'n_starting_feats', 'n_states']) \n"
     ]
    }
   ],
   "source": [
    "from feature_selection_feature import FeatureTransformer, TransformerBatchToFit\n",
    "from feature_selection_feature import FeatureSelector, LassoFeatureSelector, SNRFeatureSelector, IterativeFeatureSelector\n",
    "from feature_selection_feature import IterativeFeatureRemoval, ReliabilityFeatureSelector\n",
    "\n",
    "#pass the real time limit on clock\n",
    "feats.append(FeatureSelector)\n",
    "feats_2.append(ReliabilityFeatureSelector)\n",
    "\n",
    "\n",
    "feature_x_meth_arg = [\n",
    "    ('transpose', None ),\n",
    "]\n",
    "\n",
    "kwargs_feature = dict()\n",
    "kwargs_feature = {\n",
    "    'transform_x_flag':True,\n",
    "    'transform_y_flag':True,\n",
    "    'feature_x_transformer':FeatureTransformer(feature_x_meth_arg),\n",
    "    'feature_y_transformer':TransformerBatchToFit(),\n",
    "    'n_starting_feats': n_neurons,\n",
    "    'n_states':  7\n",
    "}\n",
    "\n",
    "print('kwargs will be updated in a later time')\n",
    "print(f'the feature adaptation project is tracking {kwargs_feature.keys()} ')"
   ]
  },
  {
   "cell_type": "markdown",
   "metadata": {},
   "source": [
    "## assistor setup"
   ]
  },
  {
   "cell_type": "markdown",
   "metadata": {},
   "source": [
    "## (Check) config the experiment"
   ]
  },
  {
   "cell_type": "code",
   "execution_count": 19,
   "metadata": {
    "ExecuteTime": {
     "end_time": "2021-07-16T03:12:31.218373Z",
     "start_time": "2021-07-16T03:12:31.216682Z"
    }
   },
   "outputs": [],
   "source": [
    "exp_feats = [feats, feats_2] \n"
   ]
  },
  {
   "cell_type": "code",
   "execution_count": 20,
   "metadata": {
    "ExecuteTime": {
     "end_time": "2021-07-16T03:12:31.226534Z",
     "start_time": "2021-07-16T03:12:31.219206Z"
    }
   },
   "outputs": [],
   "source": [
    "if DEBUG_FEATURE: \n",
    "    from features.simulation_features import DebugFeature\n",
    "    feats.append(DebugFeature)\n",
    "    \n",
    "if SAVE_HDF: \n",
    "    feats.append(SaveHDF)\n",
    "    feats_2.append(SaveHDF)\n",
    "if SAVE_SIM_HDF: \n",
    "    feats.append(SimHDF)\n",
    "    feats_2.append(SimHDF)\n",
    "    \n",
    "    \n",
    "#pass the real time limit on clock\n",
    "feats.append(SimClockTick)\n",
    "feats.append(SimTime)\n",
    "\n",
    "feats_2.append(SimClockTick)\n",
    "feats_2.append(SimTime)\n",
    "\n"
   ]
  },
  {
   "cell_type": "code",
   "execution_count": 21,
   "metadata": {
    "ExecuteTime": {
     "end_time": "2021-07-16T03:12:31.236685Z",
     "start_time": "2021-07-16T03:12:31.227473Z"
    }
   },
   "outputs": [
    {
     "data": {
      "text/plain": [
       "[array([[0.6],\n",
       "        [0.6],\n",
       "        [0.6],\n",
       "        [0.6],\n",
       "        [0.6],\n",
       "        [0.6],\n",
       "        [0.6],\n",
       "        [0.6],\n",
       "        [1. ],\n",
       "        [1. ],\n",
       "        [1. ],\n",
       "        [1. ],\n",
       "        [1. ],\n",
       "        [1. ],\n",
       "        [1. ],\n",
       "        [1. ],\n",
       "        [1. ],\n",
       "        [1. ],\n",
       "        [1. ],\n",
       "        [1. ],\n",
       "        [1. ],\n",
       "        [1. ],\n",
       "        [1. ],\n",
       "        [1. ],\n",
       "        [1. ],\n",
       "        [1. ],\n",
       "        [1. ],\n",
       "        [1. ],\n",
       "        [1. ],\n",
       "        [1. ],\n",
       "        [1. ],\n",
       "        [1. ]])]"
      ]
     },
     "execution_count": 21,
     "metadata": {},
     "output_type": "execute_result"
    }
   ],
   "source": [
    "percent_of_count_in_a_list"
   ]
  },
  {
   "cell_type": "code",
   "execution_count": 22,
   "metadata": {
    "ExecuteTime": {
     "end_time": "2021-07-16T03:12:31.244224Z",
     "start_time": "2021-07-16T03:12:31.237514Z"
    }
   },
   "outputs": [
    {
     "name": "stdout",
     "output_type": "stream",
     "text": [
      "we have got 2 exps\n"
     ]
    }
   ],
   "source": [
    "\n",
    "\n",
    "kwargs_exps = list()\n",
    "\n",
    "for i in range(NUM_EXP):\n",
    "    d = dict()\n",
    "    \n",
    "    d['total_exp_time'] = total_exp_time\n",
    "    \n",
    "    d['assist_level'] = assist_level\n",
    "    d['sim_C'] = sim_C\n",
    "    \n",
    "    d['noise_mode'] = noise_mode\n",
    "    d['percent_noise'] = percent_of_count\n",
    "    d['fixed_noise_level'] = fixed_noise_level\n",
    "    \n",
    "    d['batch_size'] = batch_size\n",
    "    \n",
    "    d['batch_time'] = UPDATER_BATCH_TIME\n",
    "    d['half_life'] = UPDATER_HALF_LIFE\n",
    "    \n",
    "    \n",
    "    d.update(kwargs_feature)\n",
    "    \n",
    "    kwargs_exps.append(d)\n",
    "\n",
    "\n",
    "\n",
    "print(f'we have got {len(kwargs_exps)} exps')"
   ]
  },
  {
   "cell_type": "markdown",
   "metadata": {},
   "source": [
    "## make and initalize experiment instances"
   ]
  },
  {
   "cell_type": "code",
   "execution_count": 23,
   "metadata": {
    "ExecuteTime": {
     "end_time": "2021-07-16T03:12:31.252963Z",
     "start_time": "2021-07-16T03:12:31.245101Z"
    }
   },
   "outputs": [
    {
     "data": {
      "text/plain": [
       "(<itertools._tee at 0x7fc391cebd40>, <itertools._tee at 0x7fc3ea658480>)"
      ]
     },
     "execution_count": 23,
     "metadata": {},
     "output_type": "execute_result"
    }
   ],
   "source": [
    "seqs\n"
   ]
  },
  {
   "cell_type": "code",
   "execution_count": 24,
   "metadata": {
    "ExecuteTime": {
     "end_time": "2021-07-16T03:12:31.291644Z",
     "start_time": "2021-07-16T03:12:31.253783Z"
    }
   },
   "outputs": [
    {
     "name": "stdout",
     "output_type": "stream",
     "text": [
      "metaclass constructor\n",
      "(<class 'simulation_features.TimeCountDown'>, <class 'features.simulation_features.SimIntentionLQRController'>, <class 'features.simulation_features.SimCosineTunedEncWithNoise'>, <class 'features.simulation_features.SimKFDecoderRandom'>, <class 'features.simulation_features.SimFeedbackLearner'>, <class 'features.simulation_features.SimSmoothBatch'>, <class 'feature_selection_feature.FeatureSelector'>, <class 'features.simulation_features.SimHDF'>, <class 'features.simulation_features.SimClockTick'>, <class 'features.simulation_features.SimTime'>, <class 'bmimultitasks.BMIControlMultiNoWindow'>)\n",
      "[<class 'simulation_features.TimeCountDown'>, <class 'features.simulation_features.SimIntentionLQRController'>, <class 'features.simulation_features.SimCosineTunedEncWithNoise'>, <class 'features.simulation_features.SimKFDecoderRandom'>, <class 'features.simulation_features.SimFeedbackLearner'>, <class 'features.simulation_features.SimSmoothBatch'>, <class 'feature_selection_feature.FeatureSelector'>, <class 'features.simulation_features.SimHDF'>, <class 'features.simulation_features.SimClockTick'>, <class 'features.simulation_features.SimTime'>]\n",
      "\n",
      "features.simulation_features.SimIntentionLQRController: LQRController used \n",
      "\n",
      "\n",
      " features.simulation_features.SimFeedbackLearner: start to create a sim leaner with a batchsize of 100\n",
      "features.simulation_features.SimSmoothBatch: rho in this simulation is  0.5\n",
      "\n",
      "finished executing Experiment.__init__\n",
      "in feature selector mod\n",
      "feature init: [array([ True,  True,  True,  True,  True,  True,  True,  True,  True,\n",
      "        True,  True,  True,  True,  True,  True,  True,  True,  True,\n",
      "        True,  True,  True,  True,  True,  True,  True,  True,  True,\n",
      "        True,  True,  True,  True,  True])]\n",
      "feature selector: add initial decoder weights\n",
      "<class 'features.simulation_features.SimCosineTunedEncWithNoise'>: added CosineTunedEncWithNoise \n",
      "TimeCountDown: assume  fps to be 60\n",
      "metaclass constructor\n",
      "(<class 'simulation_features.TimeCountDown'>, <class 'features.simulation_features.SimIntentionLQRController'>, <class 'features.simulation_features.SimCosineTunedEncWithNoise'>, <class 'features.simulation_features.SimKFDecoderRandom'>, <class 'features.simulation_features.SimFeedbackLearner'>, <class 'features.simulation_features.SimSmoothBatch'>, <class 'feature_selection_feature.ReliabilityFeatureSelector'>, <class 'features.simulation_features.SimHDF'>, <class 'features.simulation_features.SimClockTick'>, <class 'features.simulation_features.SimTime'>, <class 'bmimultitasks.BMIControlMultiNoWindow'>)\n",
      "[<class 'simulation_features.TimeCountDown'>, <class 'features.simulation_features.SimIntentionLQRController'>, <class 'features.simulation_features.SimCosineTunedEncWithNoise'>, <class 'features.simulation_features.SimKFDecoderRandom'>, <class 'features.simulation_features.SimFeedbackLearner'>, <class 'features.simulation_features.SimSmoothBatch'>, <class 'feature_selection_feature.ReliabilityFeatureSelector'>, <class 'features.simulation_features.SimHDF'>, <class 'features.simulation_features.SimClockTick'>, <class 'features.simulation_features.SimTime'>]\n",
      "\n",
      "features.simulation_features.SimIntentionLQRController: LQRController used \n",
      "\n",
      "\n",
      " features.simulation_features.SimFeedbackLearner: start to create a sim leaner with a batchsize of 100\n",
      "features.simulation_features.SimSmoothBatch: rho in this simulation is  0.5\n",
      "\n",
      "finished executing Experiment.__init__\n",
      "in feature selector mod\n",
      "feature init: [array([ True,  True,  True,  True,  True,  True,  True,  True,  True,\n",
      "        True,  True,  True,  True,  True,  True,  True,  True,  True,\n",
      "        True,  True,  True,  True,  True,  True,  True,  True,  True,\n",
      "        True,  True,  True,  True,  True])]\n",
      "feature selector: add initial decoder weights\n",
      "<class 'features.simulation_features.SimCosineTunedEncWithNoise'>: added CosineTunedEncWithNoise \n",
      "TimeCountDown: assume  fps to be 60\n",
      "\n",
      " using encoder with additional noises  State space: ['hand_px', 'hand_py', 'hand_pz', 'hand_vx', 'hand_vy', 'hand_vz', 'offset'] \n",
      "\n",
      "<bound method GenericCosEncWithNoise._gen_fixed_gaussian_noise of <riglib.bmi.sim_neurons.GenericCosEncWithNoise object at 0x7fc38e6bf700>>\n",
      "neural encoder init function  <BMIControlMultiNoWindow(Thread-4, initial)>\n",
      "features.simulation_features: added tracking of K matrix\n",
      "<bmimultitasks.SimpleEndpointAssister object at 0x7fc38e6bfc70>\n",
      "features.simulation_features: batch size is 100\n",
      "Reset states for learner: \n",
      "[]\n",
      "Done states for learner: \n",
      "[]\n",
      "\n",
      "features.simulation_features.SimFeedbackLearner: flip the self.learn_flag to true\n",
      "features.simulation_features.SimFeedbackLearner: succussfully created a feedback controller learner\n",
      "\n",
      "\n",
      "SimSmoothBatch: created an updater with a batch time of 1 and a half_life of 1.0 \n",
      "\n",
      "next\n",
      "\n",
      "\n",
      " using encoder with additional noises  State space: ['hand_px', 'hand_py', 'hand_pz', 'hand_vx', 'hand_vy', 'hand_vz', 'offset'] \n",
      "\n",
      "<bound method GenericCosEncWithNoise._gen_fixed_gaussian_noise of <riglib.bmi.sim_neurons.GenericCosEncWithNoise object at 0x7fc38e6d6250>>\n",
      "neural encoder init function  <BMIControlMultiNoWindow(Thread-5, initial)>\n",
      "features.simulation_features: added tracking of K matrix\n",
      "<bmimultitasks.SimpleEndpointAssister object at 0x7fc38e6bf3a0>\n",
      "features.simulation_features: batch size is 100\n",
      "Reset states for learner: \n",
      "[]\n",
      "Done states for learner: \n",
      "[]\n",
      "\n",
      "features.simulation_features.SimFeedbackLearner: flip the self.learn_flag to true\n",
      "features.simulation_features.SimFeedbackLearner: succussfully created a feedback controller learner\n",
      "\n",
      "\n",
      "SimSmoothBatch: created an updater with a batch time of 1 and a half_life of 1.0 \n",
      "\n",
      "next\n",
      "\n"
     ]
    }
   ],
   "source": [
    "\n",
    "exps_reps = list()\n",
    "\n",
    "\n",
    "for i,s in enumerate(seqs):\n",
    "\n",
    "    f = exp_feats[i]\n",
    "    Exp = experiment.make(base_class, feats=f)\n",
    "\n",
    "    e = Exp(s, **kwargs_exps[i])\n",
    "\n",
    "    exps_reps.append(e)\n",
    "\n",
    "exps_np  = np.array(exps_reps, dtype = 'object')\n",
    "\n",
    "\n",
    "\n",
    "#run the ini\n",
    "for e in exps_np: \n",
    "    e.init()\n",
    "    print('next')\n",
    "    print()\n",
    "    "
   ]
  },
  {
   "cell_type": "code",
   "execution_count": 25,
   "metadata": {
    "ExecuteTime": {
     "end_time": "2021-07-16T03:12:31.294361Z",
     "start_time": "2021-07-16T03:12:31.292489Z"
    }
   },
   "outputs": [
    {
     "name": "stdout",
     "output_type": "stream",
     "text": [
      "2\n"
     ]
    }
   ],
   "source": [
    "\n",
    "\n",
    "print(NUM_EXP)"
   ]
  },
  {
   "cell_type": "markdown",
   "metadata": {},
   "source": [
    "# Pre-experiment check: check the Kalman filter before training"
   ]
  },
  {
   "cell_type": "code",
   "execution_count": 26,
   "metadata": {
    "ExecuteTime": {
     "end_time": "2021-07-16T03:12:31.654714Z",
     "start_time": "2021-07-16T03:12:31.295738Z"
    }
   },
   "outputs": [
    {
     "name": "stdout",
     "output_type": "stream",
     "text": [
      "we replace the encoder using the weights\n",
      "assume, they are all randomly initialized get the first decoder\n",
      "get a handle to the first decoder\n",
      "\n",
      "select_decoder_features: _change_one_flag = False\n",
      "(32, 7)\n",
      "(32, 7)\n",
      "active feature set is [ True  True  True  True  True  True  True  True  True  True  True  True\n",
      "  True  True  True  True  True  True  True  True  True  True  True  True\n",
      "  True  True  True  True  True  True  True  True]\n",
      "after trans: (32, 7)\n",
      "after trans: (32, 32)\n",
      "decoder change flag to false\n",
      "select_decoder_features: _change_one_flag = False\n",
      "(32, 7)\n",
      "(32, 7)\n",
      "active feature set is [ True  True  True  True  True  True  True  True  True  True  True  True\n",
      "  True  True  True  True  True  True  True  True  True  True  True  True\n",
      "  True  True  True  True  True  True  True  True]\n",
      "after trans: (32, 7)\n",
      "after trans: (32, 32)\n",
      "decoder change flag to false\n",
      "we check the new decoder C matrix:\n"
     ]
    },
    {
     "data": {
      "image/png": "[encoded data removed]",
      "text/plain": [
       "<Figure size 576x576 with 4 Axes>"
      ]
     },
     "metadata": {
      "needs_background": "light"
     },
     "output_type": "display_data"
    }
   ],
   "source": [
    "from afs_plotting import plot_prefered_directions\n",
    "\n",
    "print('we replace the encoder using the weights')\n",
    "print('assume, they are all randomly initialized get the first decoder')\n",
    "print('get a handle to the first decoder')\n",
    "first_decoder = exps_np[0].decoder\n",
    "target_C = first_decoder.filt.C\n",
    "target_Q = np.copy(first_decoder.filt.Q)\n",
    "\n",
    "print()\n",
    "diag_val = 10000\n",
    "np.fill_diagonal(target_Q, diag_val)\n",
    "\n",
    "#replace the decoder\n",
    "for i,e in enumerate(exps_np):\n",
    "    weights.change_target_kalman_filter_with_a_C_mat(e.decoder.filt, target_C, \n",
    "                                                     Q= target_Q, debug=False)\n",
    "    e.select_decoder_features(e.decoder)\n",
    "    e.record_feature_active_set(e.decoder)\n",
    "    \n",
    "print('we check the new decoder C matrix:')\n",
    "\n",
    "figure_decoder_C, axs_decoder_C = plt.subplots(nrows=2, \n",
    "                               ncols=NUM_EXP, figsize = [GLOBAL_FIGURE_VERTICAL_SIZE * NUM_EXP, GLOBAL_FIGURE_VERTICAL_SIZE * 2],squeeze = False)\n",
    "figure_decoder_C.suptitle('KF C Matrix Before Training ')\n",
    "\n",
    "for i,e in enumerate(exps_np):\n",
    "    C = e.decoder.filt.C\n",
    "    plot_prefered_directions(C, ax = axs_decoder_C[0,i])\n",
    "    #axs_decoder_C[0,i].set_title(exp_conds[i])"
   ]
  },
  {
   "cell_type": "markdown",
   "metadata": {},
   "source": []
  },
  {
   "cell_type": "code",
   "execution_count": 41,
   "metadata": {
    "ExecuteTime": {
     "end_time": "2021-07-16T03:28:53.465255Z",
     "start_time": "2021-07-16T03:28:53.442799Z"
    }
   },
   "outputs": [
    {
     "data": {
      "image/svg+xml": [
       "<?xml version=\"1.0\" encoding=\"UTF-8\" standalone=\"no\"?>\n",
       "<!DOCTYPE svg PUBLIC \"-//W3C//DTD SVG 1.1//EN\"\n",
       " \"http://www.w3.org/Graphics/SVG/1.1/DTD/svg11.dtd\">\n",
       "<!-- Generated by graphviz version 2.43.0 (0)\n",
       " -->\n",
       "<!-- Title: %3 Pages: 1 -->\n",
       "<svg width=\"951pt\" height=\"299pt\"\n",
       " viewBox=\"0.00 0.00 950.73 298.95\" xmlns=\"http://www.w3.org/2000/svg\" xmlns:xlink=\"http://www.w3.org/1999/xlink\">\n",
       "<g id=\"graph0\" class=\"graph\" transform=\"scale(1 1) rotate(0) translate(4 294.95)\">\n",
       "<title>%3</title>\n",
       "<polygon fill=\"white\" stroke=\"transparent\" points=\"-4,4 -4,-294.95 946.73,-294.95 946.73,4 -4,4\"/>\n",
       "<!-- encoder -->\n",
       "<g id=\"node1\" class=\"node\">\n",
       "<title>encoder</title>\n",
       "<ellipse fill=\"none\" stroke=\"black\" cx=\"582.01\" cy=\"-272.95\" rx=\"360.94\" ry=\"18\"/>\n",
       "<text text-anchor=\"start\" x=\"312.51\" y=\"-269.25\" font-family=\"Times,serif\" font-size=\"14.00\">riglib.bmi.sim_neurons.GenericCosEncWithNoise object at 0x7fc38e6bf700</text>\n",
       "</g>\n",
       "<!-- decoder -->\n",
       "<g id=\"node2\" class=\"node\">\n",
       "<title>decoder</title>\n",
       "<ellipse fill=\"none\" stroke=\"black\" cx=\"582.01\" cy=\"-200.95\" rx=\"280.25\" ry=\"18\"/>\n",
       "<text text-anchor=\"start\" x=\"374.51\" y=\"-197.25\" font-family=\"Times,serif\" font-size=\"14.00\">riglib.bmi.kfdecoder.KFDecoder object at 0x7fc38e6f9d00</text>\n",
       "</g>\n",
       "<!-- encoder&#45;&gt;decoder -->\n",
       "<g id=\"edge1\" class=\"edge\">\n",
       "<title>encoder&#45;&gt;decoder</title>\n",
       "<path fill=\"none\" stroke=\"black\" d=\"M582.01,-254.65C582.01,-246.94 582.01,-237.67 582.01,-229.07\"/>\n",
       "<polygon fill=\"black\" stroke=\"black\" points=\"585.51,-229.06 582.01,-219.06 578.51,-229.06 585.51,-229.06\"/>\n",
       "</g>\n",
       "<!-- learner -->\n",
       "<g id=\"node3\" class=\"node\">\n",
       "<title>learner</title>\n",
       "<ellipse fill=\"none\" stroke=\"black\" cx=\"379.01\" cy=\"-109.48\" rx=\"379.02\" ry=\"37.45\"/>\n",
       "<text text-anchor=\"middle\" x=\"379.01\" y=\"-120.78\" font-family=\"Times,serif\" font-size=\"14.00\">&lt;riglib.bmi.clda.FeedbackControllerLearner object at 0x7fc38e6bf790&gt; </text>\n",
       "<text text-anchor=\"middle\" x=\"379.01\" y=\"-105.78\" font-family=\"Times,serif\" font-size=\"14.00\"> &#160;&#160;&#160;&#160;&#160;&#160;&#160;&#160;&#160;&#160;&#160;&#160;&#160;&#160;&#160;&#160;&#160;with a batch size of 100 </text>\n",
       "<text text-anchor=\"middle\" x=\"379.01\" y=\"-90.78\" font-family=\"Times,serif\" font-size=\"14.00\"> &#160;&#160;&#160;&#160;&#160;&#160;&#160;&#160;&#160;&#160;&#160;&#160;&#160;&#160;&#160;&#160;&#160;and a rho of 0.5</text>\n",
       "</g>\n",
       "<!-- decoder&#45;&gt;learner -->\n",
       "<g id=\"edge2\" class=\"edge\">\n",
       "<title>decoder&#45;&gt;learner</title>\n",
       "<path fill=\"none\" stroke=\"black\" d=\"M543.35,-182.91C522.25,-173.61 495.19,-161.68 469.13,-150.2\"/>\n",
       "<polygon fill=\"black\" stroke=\"black\" points=\"470.54,-146.99 459.97,-146.16 467.71,-153.4 470.54,-146.99\"/>\n",
       "</g>\n",
       "<!-- updater -->\n",
       "<g id=\"node4\" class=\"node\">\n",
       "<title>updater</title>\n",
       "<ellipse fill=\"none\" stroke=\"black\" cx=\"582.01\" cy=\"-18\" rx=\"276.75\" ry=\"18\"/>\n",
       "<text text-anchor=\"start\" x=\"377.01\" y=\"-14.3\" font-family=\"Times,serif\" font-size=\"14.00\">riglib.bmi.clda.KFSmoothbatch object at 0x7fc38e6bf6d0</text>\n",
       "</g>\n",
       "<!-- learner&#45;&gt;updater -->\n",
       "<g id=\"edge3\" class=\"edge\">\n",
       "<title>learner&#45;&gt;updater</title>\n",
       "<path fill=\"none\" stroke=\"black\" d=\"M459.82,-72.86C485.17,-61.68 512.32,-49.72 534.57,-39.91\"/>\n",
       "<polygon fill=\"black\" stroke=\"black\" points=\"536.04,-43.08 543.78,-35.85 533.22,-36.68 536.04,-43.08\"/>\n",
       "</g>\n",
       "<!-- updater&#45;&gt;decoder -->\n",
       "<g id=\"edge4\" class=\"edge\">\n",
       "<title>updater&#45;&gt;decoder</title>\n",
       "<path fill=\"none\" stroke=\"black\" d=\"M675.49,-34.99C715.25,-43.87 755.19,-56.33 767.01,-72 787.06,-98.6 787.06,-120.35 767.01,-146.95 756.16,-161.34 721.62,-173.01 685.26,-181.71\"/>\n",
       "<polygon fill=\"black\" stroke=\"black\" points=\"684.45,-178.3 675.49,-183.96 686.02,-185.12 684.45,-178.3\"/>\n",
       "</g>\n",
       "</g>\n",
       "</svg>\n"
      ],
      "text/plain": [
       "<graphviz.dot.Digraph at 0x7fc38c1fd640>"
      ]
     },
     "execution_count": 41,
     "metadata": {},
     "output_type": "execute_result"
    }
   ],
   "source": [
    "from graphviz import Digraph\n",
    "\n",
    "sim_diagram = Digraph()\n",
    "\n",
    "#TODO make this into a function \n",
    "sim_diagram.node('encoder', f'{exps_np[0].encoder}')\n",
    "sim_diagram.node('decoder',f'{exps_np[0].decoder}')\n",
    "sim_diagram.node('learner', f'{exps_np[0].learner} \\n \\\n",
    "                 with a batch size of {batch_size} \\n \\\n",
    "                 and a rho of {RHO}')\n",
    "sim_diagram.node('updater', f'{exps_np[0].updater}')\n",
    "\n",
    "\n",
    "sim_diagram.edge('encoder', 'decoder')\n",
    "sim_diagram.edge('decoder', 'learner')\n",
    "sim_diagram.edge('learner','updater')\n",
    "sim_diagram.edge('updater','decoder')\n",
    "\n",
    "sim_diagram"
   ]
  },
  {
   "cell_type": "markdown",
   "metadata": {},
   "source": [
    "# Experiment run: assemble into a complete loop"
   ]
  },
  {
   "cell_type": "markdown",
   "metadata": {},
   "source": [
    "## actually running the experiments"
   ]
  },
  {
   "cell_type": "code",
   "execution_count": 25,
   "metadata": {
    "ExecuteTime": {
     "end_time": "2021-07-06T19:21:21.811683Z",
     "start_time": "2021-07-06T19:21:21.809556Z"
    }
   },
   "outputs": [
    {
     "data": {
      "text/plain": [
       "2"
      ]
     },
     "execution_count": 25,
     "metadata": {},
     "output_type": "execute_result"
    }
   ],
   "source": [
    "len(kwargs_exps)"
   ]
  },
  {
   "cell_type": "code",
   "execution_count": 26,
   "metadata": {
    "ExecuteTime": {
     "end_time": "2021-07-06T19:22:24.592218Z",
     "start_time": "2021-07-06T19:21:21.812892Z"
    }
   },
   "outputs": [
    {
     "name": "stdout",
     "output_type": "stream",
     "text": [
      "runseq\n",
      "finished: 1\n",
      "assist_level at final value after 0 successful trials\n"
     ]
    },
    {
     "name": "stderr",
     "output_type": "stream",
     "text": [
      "/home/sijia-aw/BMi3D_my/lab_bmi3d/riglib/bmi/kfdecoder.py:372: FutureWarning: `rcond` parameter will change to the default of machine precision times ``max(M, N)`` where M and N are the input matrix dimensions.\n",
      "To use the future default and silence this warning we advise to pass `rcond=None`, to keep using the old, explicitly pass `rcond=-1`.\n",
      "  C = np.mat(np.linalg.lstsq(X.T, Y.T)[0].T)\n"
     ]
    },
    {
     "name": "stdout",
     "output_type": "stream",
     "text": [
      "exit\n",
      "end of FSM.run, task state is None\n",
      "\n",
      "runseq\n",
      "finished: 1\n",
      "reliability fs: [-2829.83 -3186.59 -2718.11 -2890.28 -2772.02 -3324.44 -2566.26 -2815.44\n",
      " -1776.62 -2552.59 -1744.52 -2138.37 -1985.14 -2678.6  -2026.23 -2238.02\n",
      " -2003.29 -2579.4  -2121.5  -2375.06 -1962.47 -2256.99 -1782.64 -2027.03\n",
      " -2244.48 -2744.99 -1974.61 -2709.67 -1550.8  -2409.42 -2055.61 -2430.08]\n",
      "determine feature change: after set up [ True  True  True  True  True  True False  True False False False False\n",
      " False False False False False False False False False False False False\n",
      " False  True False False False False False False]\n",
      "decoder changes here at 1799\n",
      "select_decoder_features: _change_one_flag = False\n",
      "(32, 7)\n",
      "(32, 7)\n",
      "active feature set is [ True  True  True  True  True  True False  True False False False False\n",
      " False False False False False False False False False False False False\n",
      " False  True False False False False False False]\n",
      "after trans: (8, 7)\n",
      "after trans: (8, 8)\n",
      "decoder change flag to false\n",
      "determine feature change: after set up [ True  True  True  True  True  True  True  True False False False False\n",
      " False False False False False False False False False False False False\n",
      " False  True False False False False False False]\n",
      "decoder changes here at 17999\n",
      "select_decoder_features: _change_one_flag = False\n",
      "(8, 7)\n",
      "(8, 7)\n",
      "active feature set is [ True  True  True  True  True  True  True  True False False False False\n",
      " False False False False False False False False False False False False\n",
      " False  True False False False False False False]\n",
      "after trans: (9, 7)\n",
      "after trans: (9, 9)\n",
      "decoder change flag to false\n",
      "determine feature change: after set up [ True  True  True  True  True  True  True  True  True False False False\n",
      " False False False False False False False False False False False False\n",
      " False  True False False False False False False]\n",
      "decoder changes here at 18599\n",
      "select_decoder_features: _change_one_flag = False\n",
      "(9, 7)\n",
      "(9, 7)\n",
      "active feature set is [ True  True  True  True  True  True  True  True  True False False False\n",
      " False False False False False False False False False False False False\n",
      " False  True False False False False False False]\n",
      "after trans: (10, 7)\n",
      "after trans: (10, 10)\n",
      "decoder change flag to false\n",
      "determine feature change: after set up [ True  True  True  True  True  True  True  True  True  True False False\n",
      " False False False False False False False False False False False False\n",
      " False  True False False False False False False]\n",
      "decoder changes here at 19199\n",
      "select_decoder_features: _change_one_flag = False\n",
      "(10, 7)\n",
      "(10, 7)\n",
      "active feature set is [ True  True  True  True  True  True  True  True  True  True False False\n",
      " False False False False False False False False False False False False\n",
      " False  True False False False False False False]\n",
      "after trans: (11, 7)\n",
      "after trans: (11, 11)\n",
      "decoder change flag to false\n",
      "determine feature change: after set up [ True  True  True  True  True  True  True  True  True  True  True False\n",
      " False False False False False False False False False False False False\n",
      " False  True False False False False False False]\n",
      "decoder changes here at 19799\n",
      "select_decoder_features: _change_one_flag = False\n",
      "(11, 7)\n",
      "(11, 7)\n",
      "active feature set is [ True  True  True  True  True  True  True  True  True  True  True False\n",
      " False False False False False False False False False False False False\n",
      " False  True False False False False False False]\n",
      "after trans: (12, 7)\n",
      "after trans: (12, 12)\n",
      "decoder change flag to false\n",
      "determine feature change: after set up [ True  True  True  True  True  True  True  True  True  True  True  True\n",
      " False False False False False False False False False False False False\n",
      " False  True False False False False False False]\n",
      "decoder changes here at 20399\n",
      "select_decoder_features: _change_one_flag = False\n",
      "(12, 7)\n",
      "(12, 7)\n",
      "active feature set is [ True  True  True  True  True  True  True  True  True  True  True  True\n",
      " False False False False False False False False False False False False\n",
      " False  True False False False False False False]\n",
      "after trans: (13, 7)\n",
      "after trans: (13, 13)\n",
      "decoder change flag to false\n",
      "determine feature change: after set up [ True  True  True  True  True  True  True  True  True  True  True  True\n",
      "  True False False False False False False False False False False False\n",
      " False  True False False False False False False]\n",
      "decoder changes here at 20999\n",
      "select_decoder_features: _change_one_flag = False\n",
      "(13, 7)\n",
      "(13, 7)\n",
      "active feature set is [ True  True  True  True  True  True  True  True  True  True  True  True\n",
      "  True False False False False False False False False False False False\n",
      " False  True False False False False False False]\n",
      "after trans: (14, 7)\n",
      "after trans: (14, 14)\n",
      "decoder change flag to false\n",
      "determine feature change: after set up [ True  True  True  True  True  True  True  True  True  True  True  True\n",
      "  True  True False False False False False False False False False False\n",
      " False  True False False False False False False]\n",
      "decoder changes here at 21599\n",
      "select_decoder_features: _change_one_flag = False\n",
      "(14, 7)\n",
      "(14, 7)\n",
      "active feature set is [ True  True  True  True  True  True  True  True  True  True  True  True\n",
      "  True  True False False False False False False False False False False\n",
      " False  True False False False False False False]\n",
      "after trans: (15, 7)\n",
      "after trans: (15, 15)\n",
      "decoder change flag to false\n",
      "determine feature change: after set up [ True  True  True  True  True  True  True  True  True  True  True  True\n",
      "  True  True  True False False False False False False False False False\n",
      " False  True False False False False False False]\n",
      "decoder changes here at 22199\n",
      "select_decoder_features: _change_one_flag = False\n",
      "(15, 7)\n",
      "(15, 7)\n",
      "active feature set is [ True  True  True  True  True  True  True  True  True  True  True  True\n",
      "  True  True  True False False False False False False False False False\n",
      " False  True False False False False False False]\n",
      "after trans: (16, 7)\n",
      "after trans: (16, 16)\n",
      "decoder change flag to false\n",
      "determine feature change: after set up [ True  True  True  True  True  True  True  True  True  True  True  True\n",
      "  True  True  True  True False False False False False False False False\n",
      " False  True False False False False False False]\n",
      "decoder changes here at 22799\n",
      "select_decoder_features: _change_one_flag = False\n",
      "(16, 7)\n",
      "(16, 7)\n",
      "active feature set is [ True  True  True  True  True  True  True  True  True  True  True  True\n",
      "  True  True  True  True False False False False False False False False\n",
      " False  True False False False False False False]\n",
      "after trans: (17, 7)\n",
      "after trans: (17, 17)\n",
      "decoder change flag to false\n",
      "determine feature change: after set up [ True  True  True  True  True  True  True  True  True  True  True  True\n",
      "  True  True  True  True  True False False False False False False False\n",
      " False  True False False False False False False]\n",
      "decoder changes here at 23399\n",
      "select_decoder_features: _change_one_flag = False\n",
      "(17, 7)\n",
      "(17, 7)\n",
      "active feature set is [ True  True  True  True  True  True  True  True  True  True  True  True\n",
      "  True  True  True  True  True False False False False False False False\n",
      " False  True False False False False False False]\n",
      "after trans: (18, 7)\n",
      "after trans: (18, 18)\n",
      "decoder change flag to false\n",
      "determine feature change: after set up [ True  True  True  True  True  True  True  True  True  True  True  True\n",
      "  True  True  True  True  True  True False False False False False False\n",
      " False  True False False False False False False]\n",
      "decoder changes here at 23999\n",
      "select_decoder_features: _change_one_flag = False\n",
      "(18, 7)\n",
      "(18, 7)\n",
      "active feature set is [ True  True  True  True  True  True  True  True  True  True  True  True\n",
      "  True  True  True  True  True  True False False False False False False\n",
      " False  True False False False False False False]\n",
      "after trans: (19, 7)\n",
      "after trans: (19, 19)\n",
      "decoder change flag to false\n",
      "determine feature change: after set up [ True  True  True  True  True  True  True  True  True  True  True  True\n",
      "  True  True  True  True  True  True  True False False False False False\n",
      " False  True False False False False False False]\n",
      "decoder changes here at 24599\n",
      "select_decoder_features: _change_one_flag = False\n",
      "(19, 7)\n",
      "(19, 7)\n",
      "active feature set is [ True  True  True  True  True  True  True  True  True  True  True  True\n",
      "  True  True  True  True  True  True  True False False False False False\n",
      " False  True False False False False False False]\n",
      "after trans: (20, 7)\n",
      "after trans: (20, 20)\n",
      "decoder change flag to false\n"
     ]
    },
    {
     "name": "stdout",
     "output_type": "stream",
     "text": [
      "determine feature change: after set up [ True  True  True  True  True  True  True  True  True  True  True  True\n",
      "  True  True  True  True  True  True  True  True False False False False\n",
      " False  True False False False False False False]\n",
      "decoder changes here at 25199\n",
      "select_decoder_features: _change_one_flag = False\n",
      "(20, 7)\n",
      "(20, 7)\n",
      "active feature set is [ True  True  True  True  True  True  True  True  True  True  True  True\n",
      "  True  True  True  True  True  True  True  True False False False False\n",
      " False  True False False False False False False]\n",
      "after trans: (21, 7)\n",
      "after trans: (21, 21)\n",
      "decoder change flag to false\n",
      "determine feature change: after set up [ True  True  True  True  True  True  True  True  True  True  True  True\n",
      "  True  True  True  True  True  True  True  True  True False False False\n",
      " False  True False False False False False False]\n",
      "decoder changes here at 25799\n",
      "select_decoder_features: _change_one_flag = False\n",
      "(21, 7)\n",
      "(21, 7)\n",
      "active feature set is [ True  True  True  True  True  True  True  True  True  True  True  True\n",
      "  True  True  True  True  True  True  True  True  True False False False\n",
      " False  True False False False False False False]\n",
      "after trans: (22, 7)\n",
      "after trans: (22, 22)\n",
      "decoder change flag to false\n",
      "determine feature change: after set up [ True  True  True  True  True  True  True  True  True  True  True  True\n",
      "  True  True  True  True  True  True  True  True  True  True False False\n",
      " False  True False False False False False False]\n",
      "decoder changes here at 26399\n",
      "select_decoder_features: _change_one_flag = False\n",
      "(22, 7)\n",
      "(22, 7)\n",
      "active feature set is [ True  True  True  True  True  True  True  True  True  True  True  True\n",
      "  True  True  True  True  True  True  True  True  True  True False False\n",
      " False  True False False False False False False]\n",
      "after trans: (23, 7)\n",
      "after trans: (23, 23)\n",
      "decoder change flag to false\n",
      "determine feature change: after set up [ True  True  True  True  True  True  True  True  True  True  True  True\n",
      "  True  True  True  True  True  True  True  True  True  True  True False\n",
      " False  True False False False False False False]\n",
      "decoder changes here at 26999\n",
      "select_decoder_features: _change_one_flag = False\n",
      "(23, 7)\n",
      "(23, 7)\n",
      "active feature set is [ True  True  True  True  True  True  True  True  True  True  True  True\n",
      "  True  True  True  True  True  True  True  True  True  True  True False\n",
      " False  True False False False False False False]\n",
      "after trans: (24, 7)\n",
      "after trans: (24, 24)\n",
      "decoder change flag to false\n",
      "determine feature change: after set up [ True  True  True  True  True  True  True  True  True  True  True  True\n",
      "  True  True  True  True  True  True  True  True  True  True  True  True\n",
      " False  True False False False False False False]\n",
      "decoder changes here at 27599\n",
      "select_decoder_features: _change_one_flag = False\n",
      "(24, 7)\n",
      "(24, 7)\n",
      "active feature set is [ True  True  True  True  True  True  True  True  True  True  True  True\n",
      "  True  True  True  True  True  True  True  True  True  True  True  True\n",
      " False  True False False False False False False]\n",
      "after trans: (25, 7)\n",
      "after trans: (25, 25)\n",
      "decoder change flag to false\n",
      "determine feature change: after set up [ True  True  True  True  True  True  True  True  True  True  True  True\n",
      "  True  True  True  True  True  True  True  True  True  True  True  True\n",
      "  True  True False False False False False False]\n",
      "decoder changes here at 28199\n",
      "select_decoder_features: _change_one_flag = False\n",
      "(25, 7)\n",
      "(25, 7)\n",
      "active feature set is [ True  True  True  True  True  True  True  True  True  True  True  True\n",
      "  True  True  True  True  True  True  True  True  True  True  True  True\n",
      "  True  True False False False False False False]\n",
      "after trans: (26, 7)\n",
      "after trans: (26, 26)\n",
      "decoder change flag to false\n",
      "determine feature change: after set up [ True  True  True  True  True  True  True  True  True  True  True  True\n",
      "  True  True  True  True  True  True  True  True  True  True  True  True\n",
      "  True  True False False False False False False]\n",
      "decoder changes here at 28799\n",
      "select_decoder_features: _change_one_flag = False\n",
      "(26, 7)\n",
      "(26, 7)\n",
      "active feature set is [ True  True  True  True  True  True  True  True  True  True  True  True\n",
      "  True  True  True  True  True  True  True  True  True  True  True  True\n",
      "  True  True False False False False False False]\n",
      "after trans: (26, 7)\n",
      "after trans: (26, 26)\n",
      "decoder change flag to false\n",
      "determine feature change: after set up [ True  True  True  True  True  True  True  True  True  True  True  True\n",
      "  True  True  True  True  True  True  True  True  True  True  True  True\n",
      "  True  True  True False False False False False]\n",
      "decoder changes here at 29399\n",
      "select_decoder_features: _change_one_flag = False\n",
      "(26, 7)\n",
      "(26, 7)\n",
      "active feature set is [ True  True  True  True  True  True  True  True  True  True  True  True\n",
      "  True  True  True  True  True  True  True  True  True  True  True  True\n",
      "  True  True  True False False False False False]\n",
      "after trans: (27, 7)\n",
      "after trans: (27, 27)\n",
      "decoder change flag to false\n",
      "determine feature change: after set up [ True  True  True  True  True  True  True  True  True  True  True  True\n",
      "  True  True  True  True  True  True  True  True  True  True  True  True\n",
      "  True  True  True  True False False False False]\n",
      "decoder changes here at 29999\n",
      "select_decoder_features: _change_one_flag = False\n",
      "(27, 7)\n",
      "(27, 7)\n",
      "active feature set is [ True  True  True  True  True  True  True  True  True  True  True  True\n",
      "  True  True  True  True  True  True  True  True  True  True  True  True\n",
      "  True  True  True  True False False False False]\n",
      "after trans: (28, 7)\n",
      "after trans: (28, 28)\n",
      "decoder change flag to false\n",
      "determine feature change: after set up [ True  True  True  True  True  True  True  True  True  True  True  True\n",
      "  True  True  True  True  True  True  True  True  True  True  True  True\n",
      "  True  True  True  True  True False False False]\n",
      "decoder changes here at 30599\n",
      "select_decoder_features: _change_one_flag = False\n",
      "(28, 7)\n",
      "(28, 7)\n",
      "active feature set is [ True  True  True  True  True  True  True  True  True  True  True  True\n",
      "  True  True  True  True  True  True  True  True  True  True  True  True\n",
      "  True  True  True  True  True False False False]\n",
      "after trans: (29, 7)\n",
      "after trans: (29, 29)\n",
      "decoder change flag to false\n",
      "determine feature change: after set up [ True  True  True  True  True  True  True  True  True  True  True  True\n",
      "  True  True  True  True  True  True  True  True  True  True  True  True\n",
      "  True  True  True  True  True  True False False]\n",
      "decoder changes here at 31199\n",
      "select_decoder_features: _change_one_flag = False\n",
      "(29, 7)\n",
      "(29, 7)\n",
      "active feature set is [ True  True  True  True  True  True  True  True  True  True  True  True\n",
      "  True  True  True  True  True  True  True  True  True  True  True  True\n",
      "  True  True  True  True  True  True False False]\n",
      "after trans: (30, 7)\n",
      "after trans: (30, 30)\n",
      "decoder change flag to false\n",
      "determine feature change: after set up [ True  True  True  True  True  True  True  True  True  True  True  True\n",
      "  True  True  True  True  True  True  True  True  True  True  True  True\n",
      "  True  True  True  True  True  True  True False]\n",
      "decoder changes here at 31799\n",
      "select_decoder_features: _change_one_flag = False\n",
      "(30, 7)\n",
      "(30, 7)\n",
      "active feature set is [ True  True  True  True  True  True  True  True  True  True  True  True\n",
      "  True  True  True  True  True  True  True  True  True  True  True  True\n",
      "  True  True  True  True  True  True  True False]\n",
      "after trans: (31, 7)\n",
      "after trans: (31, 31)\n",
      "decoder change flag to false\n",
      "determine feature change: after set up [ True  True  True  True  True  True  True  True  True  True  True  True\n",
      "  True  True  True  True  True  True  True  True  True  True  True  True\n",
      "  True  True  True  True  True  True  True  True]\n",
      "decoder changes here at 32399\n",
      "select_decoder_features: _change_one_flag = False\n",
      "(31, 7)\n",
      "(31, 7)\n",
      "active feature set is [ True  True  True  True  True  True  True  True  True  True  True  True\n",
      "  True  True  True  True  True  True  True  True  True  True  True  True\n",
      "  True  True  True  True  True  True  True  True]\n",
      "after trans: (32, 7)\n",
      "after trans: (32, 32)\n",
      "decoder change flag to false\n",
      "exit\n",
      "end of FSM.run, task state is None\n",
      "\n"
     ]
    }
   ],
   "source": [
    "from feature_selection_feature import run_exp_loop\n",
    "seed_index = -1\n",
    "\n",
    "for i,e in enumerate(exps_np):\n",
    "    \n",
    "    np.random.seed(1000)\n",
    "    \n",
    "    \n",
    "    run_exp_loop(e, **kwargs_exps[i])\n",
    "        \n",
    "    print()"
   ]
  },
  {
   "cell_type": "markdown",
   "metadata": {
    "ExecuteTime": {
     "end_time": "2021-01-25T01:00:26.027506Z",
     "start_time": "2021-01-25T01:00:26.024320Z"
    }
   },
   "source": [
    "# Postprocessing the data for loading"
   ]
  },
  {
   "cell_type": "code",
   "execution_count": 27,
   "metadata": {
    "ExecuteTime": {
     "end_time": "2021-07-06T19:22:24.631006Z",
     "start_time": "2021-07-06T19:22:24.593099Z"
    }
   },
   "outputs": [],
   "source": [
    "import seaborn as sns\n",
    "sns.set_context('talk')"
   ]
  },
  {
   "cell_type": "code",
   "execution_count": 28,
   "metadata": {
    "ExecuteTime": {
     "end_time": "2021-07-06T19:22:24.635576Z",
     "start_time": "2021-07-06T19:22:24.631905Z"
    }
   },
   "outputs": [
    {
     "data": {
      "text/plain": [
       "array([262, 253])"
      ]
     },
     "execution_count": 28,
     "metadata": {},
     "output_type": "execute_result"
    }
   ],
   "source": [
    "num_rewards = [e.calc_state_occurrences('reward') for e in  exps_np]\n",
    "\n",
    "num_rewards = np.array(num_rewards)\n",
    "\n",
    "\n",
    "num_rewards\n"
   ]
  },
  {
   "cell_type": "markdown",
   "metadata": {},
   "source": [
    "## declare defs and conventions"
   ]
  },
  {
   "cell_type": "code",
   "execution_count": 29,
   "metadata": {
    "ExecuteTime": {
     "end_time": "2021-07-06T19:22:24.649063Z",
     "start_time": "2021-07-06T19:22:24.636546Z"
    }
   },
   "outputs": [],
   "source": [
    "FRAME_RATE = 60\n",
    "INT_WINDOW_TIME = 10 # s for looking at sample raw data\n",
    "\n",
    "# some conventions as we go down the loop\n",
    "X_VEL_STATE_IND = 3\n",
    "Y_VEL_STATE_IND = 5\n",
    "X_POS_STATE_IND = 0\n",
    "Y_POS_STATE_IND = 2\n",
    "\n",
    "state_indices = [X_POS_STATE_IND,\n",
    "                 Y_POS_STATE_IND,\n",
    "                 X_VEL_STATE_IND,\n",
    "                 Y_VEL_STATE_IND]\n",
    "state_names = ['x pos ', 'y pos', 'x vel', 'y vel']\n",
    "\n",
    "\n",
    "INT_WIN_SAMPLES = INT_WINDOW_TIME * FRAME_RATE\n",
    "\n"
   ]
  },
  {
   "cell_type": "markdown",
   "metadata": {},
   "source": [
    "## Refactor out the data"
   ]
  },
  {
   "cell_type": "code",
   "execution_count": 30,
   "metadata": {
    "ExecuteTime": {
     "end_time": "2021-07-06T19:22:24.828449Z",
     "start_time": "2021-07-06T19:22:24.649975Z"
    }
   },
   "outputs": [
    {
     "data": {
      "text/plain": [
       "dtype([('cursor', '<f8', (3,)), ('obs_t', '<f8', (32, 1)), ('KC', '<f8', (7, 7)), ('pred_state_mean', '<f8', (7, 1)), ('post_state_mean', '<f8', (7, 1)), ('pred_state_P', '<f8', (7, 7)), ('post_state_P', '<f8', (7, 7)), ('loop_time', '<f8', (1,)), ('decoder_state', '<f8', (7, 1)), ('internal_decoder_state', '<f8', (7, 1)), ('target_state', '<f8', (7, 1)), ('update_bmi', '<f8', (1,)), ('spike_counts', '<f8', (32, 1)), ('bin_edges', '<f8', (2,)), ('ctrl_input', '<f8', (7,)), ('assist_level', '<f8', (1,)), ('target', '<f8', (3,)), ('target_index', '<i4', (1,))])"
      ]
     },
     "execution_count": 30,
     "metadata": {},
     "output_type": "execute_result"
    }
   ],
   "source": [
    "exps = exps_np\n",
    "\n",
    "task_data_hist_np_all = [np.array(e.task_data_hist) for e in exps_np]\n",
    "len(task_data_hist_np_all)\n",
    "task_data_hist_np_all[0].dtype"
   ]
  },
  {
   "cell_type": "markdown",
   "metadata": {},
   "source": [
    "## Finished time in seconds"
   ]
  },
  {
   "cell_type": "code",
   "execution_count": 31,
   "metadata": {
    "ExecuteTime": {
     "end_time": "2021-07-06T19:22:24.831439Z",
     "start_time": "2021-07-06T19:22:24.829236Z"
    }
   },
   "outputs": [
    {
     "data": {
      "text/plain": [
       "[1200, 1200]"
      ]
     },
     "execution_count": 31,
     "metadata": {},
     "output_type": "execute_result"
    }
   ],
   "source": [
    "finished_times_in_seconds = [int(len(s)/FRAME_RATE) for s in task_data_hist_np_all]\n",
    "finished_times_in_seconds"
   ]
  },
  {
   "cell_type": "markdown",
   "metadata": {},
   "source": [
    "# Post data analysis"
   ]
  },
  {
   "cell_type": "markdown",
   "metadata": {},
   "source": [
    "## Overall  trial statistics succuss rate)"
   ]
  },
  {
   "cell_type": "code",
   "execution_count": 32,
   "metadata": {
    "ExecuteTime": {
     "end_time": "2021-07-06T19:22:24.841138Z",
     "start_time": "2021-07-06T19:22:24.832247Z"
    }
   },
   "outputs": [
    {
     "data": {
      "text/plain": [
       "1200"
      ]
     },
     "execution_count": 32,
     "metadata": {},
     "output_type": "execute_result"
    }
   ],
   "source": [
    "total_exp_time"
   ]
  },
  {
   "cell_type": "code",
   "execution_count": 33,
   "metadata": {
    "ExecuteTime": {
     "end_time": "2021-07-06T19:22:24.851058Z",
     "start_time": "2021-07-06T19:22:24.841894Z"
    }
   },
   "outputs": [
    {
     "data": {
      "text/plain": [
       "71959.0"
      ]
     },
     "execution_count": 33,
     "metadata": {},
     "output_type": "execute_result"
    }
   ],
   "source": [
    "state_log = exps[1].state_log \n",
    "state_log[-1][1] * 60"
   ]
  },
  {
   "cell_type": "code",
   "execution_count": 34,
   "metadata": {
    "ExecuteTime": {
     "end_time": "2021-07-06T19:22:24.967087Z",
     "start_time": "2021-07-06T19:22:24.851812Z"
    },
    "scrolled": true
   },
   "outputs": [
    {
     "name": "stdout",
     "output_type": "stream",
     "text": [
      "(2, 20)\n"
     ]
    },
    {
     "data": {
      "text/plain": [
       "<matplotlib.legend.Legend at 0x7fcfd2af5580>"
      ]
     },
     "execution_count": 34,
     "metadata": {},
     "output_type": "execute_result"
    },
    {
     "data": {
      "image/png": "[encoded data removed]",
      "text/plain": [
       "<Figure size 432x288 with 1 Axes>"
      ]
     },
     "metadata": {
      "needs_background": "light"
     },
     "output_type": "display_data"
    }
   ],
   "source": [
    "import behaviour_metrics\n",
    "import importlib\n",
    "import matplotlib.colors as cm\n",
    "import matplotlib as mpl\n",
    "\n",
    "importlib.reload(behaviour_metrics)\n",
    "\n",
    "window_length = 60 #s\n",
    "\n",
    "\n",
    "reward_events_per_minute = [behaviour_metrics.calc_event_rate_from_state_log(e.state_log,'reward', \n",
    "                                                                             total_time = total_exp_time,\n",
    "                                                                             window_length = window_length) for e in exps]\n",
    "reward_events_per_minute = np.array(reward_events_per_minute) * 60 / window_length\n",
    "\n",
    "\n",
    "import afs_plotting\n",
    "importlib.reload(afs_plotting)\n",
    "from afs_plotting import get_cmap\n",
    "\n",
    "\n",
    "time_vec = np.arange(reward_events_per_minute.shape[1]) * window_length / 60\n",
    "\n",
    "print(reward_events_per_minute.shape)\n",
    "\n",
    "cmap = get_cmap(num_noises)\n",
    "cmap_2 = get_cmap(num_noises, color = mpl.cm.Oranges)\n",
    "cmap_3 = get_cmap(num_noises, color = mpl.cm.Reds)\n",
    "\n",
    "\n",
    "for i in range(num_noises):\n",
    "    plt.plot(time_vec, reward_events_per_minute[i].T,color = 'b')\n",
    "    plt.plot(time_vec, reward_events_per_minute[i +  num_noises].T,color = 'r')\n",
    "    \n",
    "    \n",
    "plt.ylabel('# of rewards per minute')\n",
    "plt.title('Reward Rate')\n",
    "plt.xlabel('Time (min)')\n",
    "plt.legend(exp_conds)\n"
   ]
  },
  {
   "cell_type": "code",
   "execution_count": 35,
   "metadata": {
    "ExecuteTime": {
     "end_time": "2021-07-06T19:22:24.974018Z",
     "start_time": "2021-07-06T19:22:24.968009Z"
    }
   },
   "outputs": [
    {
     "name": "stdout",
     "output_type": "stream",
     "text": [
      "308\n",
      "305\n"
     ]
    }
   ],
   "source": [
    "trial_dicts_all = []\n",
    "dict_keys = ['cursor', #behaviour\n",
    "             'ctrl_input', 'spike_counts', #encoder translates intended ctrl into spike counts\n",
    "             'decoder_state']\n",
    "\n",
    "\n",
    "for i in range(NUM_EXP):\n",
    "    \n",
    "    segmented_trials = behaviour_metrics.segment_trials_in_state_log(exps[i].state_log)\n",
    "\n",
    "    task_data_hist_np = task_data_hist_np_all[i]\n",
    "    trial_dict_0 = behaviour_metrics.sort_trials_use_segmented_log(segmented_trials, \n",
    "                               target_seq,\n",
    "                               task_data_hist_np, dict_keys)\n",
    "    \n",
    "    trial_dicts_all.append(trial_dict_0)\n",
    "\n",
    "for t in trial_dicts_all: print(len(t))"
   ]
  },
  {
   "cell_type": "markdown",
   "metadata": {},
   "source": [
    "## Trajectory analysis"
   ]
  },
  {
   "cell_type": "code",
   "execution_count": 36,
   "metadata": {
    "ExecuteTime": {
     "end_time": "2021-07-06T19:22:25.211036Z",
     "start_time": "2021-07-06T19:22:24.974857Z"
    }
   },
   "outputs": [
    {
     "name": "stdout",
     "output_type": "stream",
     "text": [
      "2\n"
     ]
    },
    {
     "data": {
      "text/plain": [
       "<bound method Figure.tight_layout of <Figure size 288x864 with 3 Axes>>"
      ]
     },
     "execution_count": 36,
     "metadata": {},
     "output_type": "execute_result"
    },
    {
     "data": {
      "image/png": "[encoded data removed]",
      "text/plain": [
       "<Figure size 288x864 with 3 Axes>"
      ]
     },
     "metadata": {
      "needs_background": "light"
     },
     "output_type": "display_data"
    }
   ],
   "source": [
    "figure_trajectory, axes_trajectory = plt.subplots(3, num_noises, figsize = (num_noises* GLOBAL_FIGURE_VERTICAL_SIZE, \n",
    "                                                  3  * GLOBAL_FIGURE_VERTICAL_SIZE),\n",
    "                                                 squeeze = False) \n",
    "\n",
    "\n",
    "n_roi_trials = 60\n",
    "\n",
    "\n",
    "CIRCLE_RADIUS = exps[0].target_radius\n",
    "\n",
    "print(CIRCLE_RADIUS)\n",
    "\n",
    "for i  in range(num_noises): \n",
    "\n",
    "    afs_plotting.add_center_out_grid(axes_trajectory[0,i], target_seq, CIRCLE_RADIUS)\n",
    "    \n",
    "    \n",
    "    sample_trial = trial_dicts_all[i][n_roi_trials]\n",
    "    trial_cursor_trajectory = sample_trial['cursor']\n",
    "    \n",
    "    afs_plotting.plot_trial_trajectory(axes_trajectory[0,i], trial_cursor_trajectory)\n",
    "    axes_trajectory[0,i].set_title(percent_high_SNR_noises_labels[i])\n",
    "    \n",
    "    afs_plotting.add_center_out_grid(axes_trajectory[1,i], target_seq, CIRCLE_RADIUS)\n",
    "    sample_trial = trial_dicts_all[i + num_noises][n_roi_trials]\n",
    "    trial_cursor_trajectory = sample_trial['cursor']\n",
    "    \n",
    "    afs_plotting.plot_trial_trajectory(axes_trajectory[1,i], trial_cursor_trajectory)\n",
    "    \n",
    "    \n",
    "figure_trajectory.tight_layout"
   ]
  },
  {
   "cell_type": "markdown",
   "metadata": {},
   "source": [
    "to make this point, \n",
    "we should be lo"
   ]
  },
  {
   "cell_type": "code",
   "execution_count": 37,
   "metadata": {
    "ExecuteTime": {
     "end_time": "2021-07-06T19:22:25.214455Z",
     "start_time": "2021-07-06T19:22:25.211877Z"
    },
    "scrolled": true
   },
   "outputs": [
    {
     "name": "stdout",
     "output_type": "stream",
     "text": [
      "finished trials:\n",
      "Full set: 262 out of 800\n",
      "Iterative feature selection: 253 out of 800\n"
     ]
    }
   ],
   "source": [
    "print('finished trials:')\n",
    "\n",
    "for i,e in  enumerate(exps): \n",
    "    reward_num = e.calc_state_occurrences('reward')\n",
    "    print(f'{exp_conds[i]}: {reward_num} out of {N_TRIALS}')"
   ]
  },
  {
   "cell_type": "markdown",
   "metadata": {},
   "source": [
    "## encoder\n",
    "\n",
    "the job of the encoder is to directly encode intention into firing rates\n",
    "the direct measure is just pearson correlation coefficients between \n",
    "the intentions and the firing rates"
   ]
  },
  {
   "cell_type": "markdown",
   "metadata": {},
   "source": [
    "## decoder"
   ]
  },
  {
   "cell_type": "code",
   "execution_count": 38,
   "metadata": {
    "ExecuteTime": {
     "end_time": "2021-07-06T19:22:25.546493Z",
     "start_time": "2021-07-06T19:22:25.215325Z"
    },
    "scrolled": true
   },
   "outputs": [
    {
     "name": "stdout",
     "output_type": "stream",
     "text": [
      "steady state tuning curves:\n"
     ]
    },
    {
     "data": {
      "image/png": "[encoded data removed]",
      "text/plain": [
       "<Figure size 576x576 with 4 Axes>"
      ]
     },
     "execution_count": 38,
     "metadata": {},
     "output_type": "execute_result"
    }
   ],
   "source": [
    "from afs_plotting import plot_prefered_directions\n",
    "\n",
    "TEXT_OFFSET_VERTICAL = -0.2\n",
    "\n",
    "\n",
    "figure_decoder_C.suptitle('KF C matrix before and after CLDA')\n",
    "\n",
    "print('steady state tuning curves:')\n",
    "\n",
    "for  i,e in enumerate(exps): \n",
    "\n",
    "    e = exps[i]\n",
    "    C = e.decoder.filt.C\n",
    "\n",
    "    plot_prefered_directions(C, ax = axs_decoder_C[1,i])\n",
    "    axs_decoder_C[1,i].set_title(percent_high_SNR_noises_labels[i % num_noises])\n",
    "\n",
    "figure_decoder_C"
   ]
  },
  {
   "cell_type": "code",
   "execution_count": 39,
   "metadata": {
    "ExecuteTime": {
     "end_time": "2021-07-06T19:22:25.756840Z",
     "start_time": "2021-07-06T19:22:25.547317Z"
    }
   },
   "outputs": [
    {
     "data": {
      "image/png": "[encoded data removed]",
      "text/plain": [
       "<Figure size 288x576 with 2 Axes>"
      ]
     },
     "metadata": {
      "needs_background": "light"
     },
     "output_type": "display_data"
    }
   ],
   "source": [
    "figure_KF_C, axes_KF_C = plt.subplots(2, num_noises, figsize = (num_noises* GLOBAL_FIGURE_VERTICAL_SIZE, \n",
    "                                                  2 * GLOBAL_FIGURE_VERTICAL_SIZE),\n",
    "                                     squeeze = False) \n",
    "\n",
    "\n",
    "for i in range(num_noises):\n",
    "    e = exps[i]\n",
    "    C = e.decoder.filt.C\n",
    "\n",
    "    plot_prefered_directions(C, ax = axes_KF_C[0,i])\n",
    "    axes_KF_C[0,i].set_title(f'{percent_high_SNR_noises_labels[i]}')\n",
    "    \n",
    "    e = exps[i + num_noises]\n",
    "    C = e.decoder.filt.C\n",
    "\n",
    "    plot_prefered_directions(C, ax = axes_KF_C[1,i])\n",
    "    axs_decoder_C[1,i].set_title(f'{percent_high_SNR_noises_labels[i]}')\n",
    "    \n",
    "\n",
    "    \n",
    "    "
   ]
  },
  {
   "cell_type": "markdown",
   "metadata": {},
   "source": [
    "## Compare to the decoder"
   ]
  },
  {
   "cell_type": "code",
   "execution_count": 40,
   "metadata": {
    "ExecuteTime": {
     "end_time": "2021-07-06T19:22:26.142248Z",
     "start_time": "2021-07-06T19:22:25.757724Z"
    }
   },
   "outputs": [
    {
     "data": {
      "text/plain": [
       "(0, 100)"
      ]
     },
     "execution_count": 40,
     "metadata": {},
     "output_type": "execute_result"
    },
    {
     "data": {
      "image/png": "[encoded data removed]",
      "text/plain": [
       "<Figure size 288x576 with 2 Axes>"
      ]
     },
     "metadata": {
      "needs_background": "light"
     },
     "output_type": "display_data"
    }
   ],
   "source": [
    "import matplotlib.cm as cm\n",
    "import importlib\n",
    "\n",
    "import convergence_analysis\n",
    "importlib.reload(convergence_analysis)\n",
    "from convergence_analysis import calc_cosine_sim_bet_two_matrices, calc_cosine_to_target_matrix\n",
    "\n",
    "\n",
    "figure_C, axes_C = plt.subplots(2,num_noises, figsize = (num_noises * GLOBAL_FIGURE_VERTICAL_SIZE, \n",
    "                                               2*GLOBAL_FIGURE_VERTICAL_SIZE),\n",
    "                               sharey = True, squeeze = False)\n",
    "\n",
    "time_vec = np.arange(0, total_exp_time + 1, batch_size * 0.1, ) \n",
    "\n",
    "\n",
    "cmap = get_cmap(num_noises)\n",
    "\n",
    "for i in range(num_noises):\n",
    "    \n",
    "    e = exps[i]\n",
    "    enc_directions = e.encoder.C\n",
    "    dec_directions = np.array(e._used_C_mat_list)\n",
    "    angles_hist = calc_cosine_to_target_matrix( dec_directions,enc_directions)\n",
    "    active_angles = np.mean(angles_hist[:, with_noise_neuron_list], axis = 1)\n",
    "    axes_C[0,i].plot(time_vec, active_angles, color = 'b')\n",
    "    active_angles = np.mean(angles_hist[:, no_noise_neuron_list], axis = 1)\n",
    "    axes_C[1,i].plot(time_vec, active_angles, color = 'b')\n",
    "    \n",
    "    axes_C[0,i].set_title(f'Rel. noise ratio {percent_high_SNR_noises_labels[i]}')\n",
    "    \n",
    "    \n",
    "    e = exps[i + num_noises]\n",
    "    enc_directions = e.encoder.C\n",
    "    dec_directions = np.array(e._used_C_mat_list)\n",
    "    \n",
    "    angles_hist = calc_cosine_to_target_matrix( dec_directions,enc_directions)\n",
    "    active_angles = np.mean(angles_hist[:, with_noise_neuron_list], axis = 1)\n",
    "    axes_C[0,i].plot(time_vec, active_angles, color = 'y')\n",
    "    active_angles = np.mean(angles_hist[:, no_noise_neuron_list], axis = 1)\n",
    "    axes_C[1,i].plot(time_vec, active_angles, color = 'y')\n",
    "    \n",
    "    '''\n",
    "    e = exps[i + 2 * num_noises]\n",
    "    enc_directions = e.encoder.C\n",
    "    dec_directions = np.array(e._used_C_mat_list)\n",
    "    \n",
    "    angles_hist = calc_cosine_to_target_matrix( dec_directions,enc_directions)\n",
    "    active_angles = np.mean(angles_hist[:, with_noise_neuron_list], axis = 1)\n",
    "    axes_C[0,i].plot(time_vec, active_angles, color = 'r')\n",
    "    active_angles = np.mean(angles_hist[:, no_noise_neuron_list], axis = 1)\n",
    "    axes_C[1,i].plot(time_vec, active_angles, color = 'r')\n",
    "    \n",
    "    '''\n",
    "\n",
    "\n",
    "    \n",
    "axes_C[0,0].set_ylabel('Angle (deg)')\n",
    "axes_C[1,0].set_ylabel('Angle (deg)')\n",
    "\n",
    "axes_C[0,0].set_xlim([0,100])\n",
    "axes_C[1,0].set_xlim([0,100])\n"
   ]
  },
  {
   "cell_type": "markdown",
   "metadata": {},
   "source": [
    "# looking at K matrix"
   ]
  },
  {
   "cell_type": "markdown",
   "metadata": {
    "ExecuteTime": {
     "end_time": "2021-06-03T22:53:28.553975Z",
     "start_time": "2021-06-03T22:53:28.548543Z"
    }
   },
   "source": [
    " $K_i^T = \\begin{bmatrix} P_{ix} & P_{iy} & V_{ix} & V_{iy} \\end{bmatrix}$\n",
    "\n"
   ]
  },
  {
   "cell_type": "markdown",
   "metadata": {
    "ExecuteTime": {
     "end_time": "2021-06-30T09:31:05.641100Z",
     "start_time": "2021-06-30T09:31:05.638897Z"
    }
   },
   "source": [
    "$r_i = norm [\\frac{C[i,:]}{Q_{ii}}]$"
   ]
  },
  {
   "cell_type": "code",
   "execution_count": 41,
   "metadata": {
    "ExecuteTime": {
     "end_time": "2021-07-06T19:22:26.144611Z",
     "start_time": "2021-07-06T19:22:26.143111Z"
    }
   },
   "outputs": [],
   "source": [
    "exps = exps_np"
   ]
  },
  {
   "cell_type": "code",
   "execution_count": 42,
   "metadata": {
    "ExecuteTime": {
     "end_time": "2021-07-06T19:22:26.454470Z",
     "start_time": "2021-07-06T19:22:26.145443Z"
    }
   },
   "outputs": [
    {
     "data": {
      "image/png": "[encoded data removed]",
      "text/plain": [
       "<Figure size 576x288 with 2 Axes>"
      ]
     },
     "metadata": {
      "needs_background": "light"
     },
     "output_type": "display_data"
    }
   ],
   "source": [
    "figure_k_matrix, axes_k_matrix = plt.subplots(1, 2,\n",
    "                                          figsize = (GLOBAL_FIGURE_VERTICAL_SIZE * 2,\n",
    "                                                    GLOBAL_FIGURE_VERTICAL_SIZE * num_noises),\n",
    "                                             sharey = True, sharex = True, squeeze = False)\n",
    "\n",
    "for i in range(num_noises):\n",
    "    \n",
    "    K = exps[i].k_mat_params[-1].T\n",
    "    plot_prefered_directions(K, ax  = axes_k_matrix[i, 0])\n",
    "    axes_k_matrix[i, 0].set_title(percent_high_SNR_noises_labels[i])\n",
    "    \n",
    "    K = exps[i + num_noises].k_mat_params[-1].T\n",
    "    plot_prefered_directions(K, ax  = axes_k_matrix[i, 1])\n",
    "    axes_k_matrix[i, 1].set_title(percent_high_SNR_noises_labels[i])\n",
    "    \n",
    "\n",
    "figure_k_matrix.tight_layout()"
   ]
  },
  {
   "cell_type": "code",
   "execution_count": 43,
   "metadata": {
    "ExecuteTime": {
     "end_time": "2021-07-06T19:22:26.670867Z",
     "start_time": "2021-07-06T19:22:26.455273Z"
    }
   },
   "outputs": [
    {
     "data": {
      "text/plain": [
       "Text(0.5, 1.0, 'Encoder directions')"
      ]
     },
     "execution_count": 43,
     "metadata": {},
     "output_type": "execute_result"
    },
    {
     "data": {
      "image/png": "[encoded data removed]",
      "text/plain": [
       "<Figure size 576x288 with 2 Axes>"
      ]
     },
     "metadata": {
      "needs_background": "light"
     },
     "output_type": "display_data"
    }
   ],
   "source": [
    "figure_encoder, axes_encoder = plt.subplots(1,2, figsize = (GLOBAL_FIGURE_VERTICAL_SIZE * 2,\n",
    "                                                    GLOBAL_FIGURE_VERTICAL_SIZE))\n",
    "\n",
    "def update_xlabels(ax):\n",
    "    xlabels = [format(label, ',.0f') for label in ax.get_xticks()]\n",
    "    ax.set_xticklabels(xlabels)\n",
    "\n",
    "K = exps[i].k_mat_params[10].T / np.max(K)\n",
    "plot_prefered_directions(K, ax = axes_encoder[0])\n",
    "axes_encoder[0].set_title('Initial rand. directions')\n",
    "\n",
    "\n",
    "e = exps[0]\n",
    "C = e.encoder.C / np.max(C)\n",
    "plot_prefered_directions(C, ax = axes_encoder[1])\n",
    "axes_encoder[1].set_title('Encoder directions')"
   ]
  },
  {
   "cell_type": "markdown",
   "metadata": {},
   "source": [
    "# Feature analysis"
   ]
  },
  {
   "cell_type": "code",
   "execution_count": 44,
   "metadata": {
    "ExecuteTime": {
     "end_time": "2021-07-06T19:22:26.821100Z",
     "start_time": "2021-07-06T19:22:26.671711Z"
    },
    "scrolled": true
   },
   "outputs": [
    {
     "data": {
      "image/png": "[encoded data removed]",
      "text/plain": [
       "<Figure size 576x288 with 2 Axes>"
      ]
     },
     "metadata": {
      "needs_background": "light"
     },
     "output_type": "display_data"
    }
   ],
   "source": [
    "from matplotlib import colors\n",
    "\n",
    "\n",
    "exps = exps_np\n",
    "fig_feature_active_map, axes_feat_active_map = plt.subplots(1, NUM_EXP,\n",
    "                                                            figsize = ( NUM_EXP* GLOBAL_FIGURE_VERTICAL_SIZE,\n",
    "                                                                      GLOBAL_FIGURE_VERTICAL_SIZE),\n",
    "                                                           )\n",
    "axes_feat_active_map[0].set_ylabel('Learner Batch number')\n",
    "\n",
    "#color true to yellow\n",
    "cmap = colors.ListedColormap(['yellow'])\n",
    "\n",
    "for i, exp in enumerate(exps):\n",
    "\n",
    "    active_feat_heat_map = np.array(exp._active_feat_set_list, dtype = np.int32)\n",
    "    \n",
    "    #https://stackoverflow.com/questions/40985961/matplotlib-how-to-change-data-point-color-based-on-its-boolean-value-consisten\n",
    "    active_feat_heat_map = np.ma.masked_where(active_feat_heat_map == False, active_feat_heat_map)\n",
    "    \n",
    "    a = axes_feat_active_map[i].imshow(active_feat_heat_map.T, cmap = cmap)\n",
    "    axes_feat_active_map[i].grid(False)\n",
    "    #color false to blue\n",
    "    cmap.set_bad(color='blue')\n",
    "    \n",
    "    \n",
    "    axes_feat_active_map[i].set_ylabel('Features')\n",
    "    axes_feat_active_map[i].set_xlabel('Feature update count')\n",
    "\n",
    "\n",
    "fig_feature_active_map.tight_layout()\n",
    "#fig_feature_active_map.colorbar(a, ax=axes_feat_active_map.ravel().tolist())"
   ]
  },
  {
   "cell_type": "code",
   "execution_count": 45,
   "metadata": {
    "ExecuteTime": {
     "end_time": "2021-07-06T19:22:26.897515Z",
     "start_time": "2021-07-06T19:22:26.821970Z"
    }
   },
   "outputs": [
    {
     "data": {
      "text/plain": [
       "Text(0.5, 1.0, 'Full feature set')"
      ]
     },
     "execution_count": 45,
     "metadata": {},
     "output_type": "execute_result"
    },
    {
     "data": {
      "image/png": "[encoded data removed]",
      "text/plain": [
       "<Figure size 288x288 with 1 Axes>"
      ]
     },
     "metadata": {
      "needs_background": "light"
     },
     "output_type": "display_data"
    }
   ],
   "source": [
    "fig_feature_active_map_example, axes_feat_active_map_example = plt.subplots(1, 1,\n",
    "                                                            figsize = ( GLOBAL_FIGURE_VERTICAL_SIZE,\n",
    "                                                                      GLOBAL_FIGURE_VERTICAL_SIZE),\n",
    "                                                           )\n",
    "axes_feat_active_map[0].set_ylabel('Learner Batch number')\n",
    "\n",
    "#color true to yellow\n",
    "cmap = colors.ListedColormap(['yellow'])\n",
    "\n",
    "i = 0\n",
    "exp =  exps[i]\n",
    "\n",
    "active_feat_heat_map = np.array(exp._active_feat_set_list, dtype = np.int32)\n",
    "\n",
    "#https://stackoverflow.com/questions/40985961/matplotlib-how-to-change-data-point-color-based-on-its-boolean-value-consisten\n",
    "active_feat_heat_map = np.ma.masked_where(active_feat_heat_map == False, active_feat_heat_map)\n",
    "\n",
    "a = axes_feat_active_map_example.imshow(active_feat_heat_map.T, cmap = cmap)\n",
    "axes_feat_active_map[i].grid(False)\n",
    "#color false to blue\n",
    "cmap.set_bad(color='blue')\n",
    "\n",
    "axes_feat_active_map_example.set_ylabel('Features')\n",
    "axes_feat_active_map_example.set_xlabel('Feature update count')\n",
    "axes_feat_active_map_example.set_title('Full feature set')\n"
   ]
  },
  {
   "cell_type": "code",
   "execution_count": 46,
   "metadata": {
    "ExecuteTime": {
     "end_time": "2021-07-06T19:22:26.976760Z",
     "start_time": "2021-07-06T19:22:26.898285Z"
    }
   },
   "outputs": [
    {
     "data": {
      "text/plain": [
       "Text(0.5, 1.0, 'Consistent high SNR subset')"
      ]
     },
     "execution_count": 46,
     "metadata": {},
     "output_type": "execute_result"
    },
    {
     "data": {
      "image/png": "[encoded data removed]",
      "text/plain": [
       "<Figure size 288x288 with 1 Axes>"
      ]
     },
     "metadata": {
      "needs_background": "light"
     },
     "output_type": "display_data"
    }
   ],
   "source": [
    "fig_feature_active_map_example, axes_feat_active_map_example = plt.subplots(1, 1,\n",
    "                                                            figsize = ( GLOBAL_FIGURE_VERTICAL_SIZE,\n",
    "                                                                      GLOBAL_FIGURE_VERTICAL_SIZE),\n",
    "                                                           )\n",
    "axes_feat_active_map[0].set_ylabel('Learner Batch number')\n",
    "\n",
    "#color true to yellow\n",
    "cmap = colors.ListedColormap(['yellow'])\n",
    "\n",
    "i = -1\n",
    "exp =  exps[i]\n",
    "\n",
    "active_feat_heat_map = np.array(exp._active_feat_set_list, dtype = np.int32)\n",
    "\n",
    "#https://stackoverflow.com/questions/40985961/matplotlib-how-to-change-data-point-color-based-on-its-boolean-value-consisten\n",
    "active_feat_heat_map = np.ma.masked_where(active_feat_heat_map == False, active_feat_heat_map)\n",
    "\n",
    "a = axes_feat_active_map_example.imshow(active_feat_heat_map.T, cmap = cmap)\n",
    "axes_feat_active_map_example.grid(False)\n",
    "#color false to blue\n",
    "cmap.set_bad(color='blue')\n",
    "\n",
    "axes_feat_active_map_example.set_ylabel('Features')\n",
    "axes_feat_active_map_example.set_xlabel('Feature update count')\n",
    "axes_feat_active_map_example.set_title('Consistent high SNR subset')"
   ]
  },
  {
   "cell_type": "markdown",
   "metadata": {},
   "source": [
    "## Examine used K mat"
   ]
  },
  {
   "cell_type": "code",
   "execution_count": 47,
   "metadata": {
    "ExecuteTime": {
     "end_time": "2021-07-06T19:22:27.139494Z",
     "start_time": "2021-07-06T19:22:26.977596Z"
    }
   },
   "outputs": [
    {
     "data": {
      "text/plain": [
       "<matplotlib.legend.Legend at 0x7fcfd0b58a60>"
      ]
     },
     "execution_count": 47,
     "metadata": {},
     "output_type": "execute_result"
    },
    {
     "data": {
      "image/png": "[encoded data removed]",
      "text/plain": [
       "<Figure size 576x288 with 2 Axes>"
      ]
     },
     "metadata": {
      "needs_background": "light"
     },
     "output_type": "display_data"
    }
   ],
   "source": [
    "fig_Q, axes_Q = plt.subplots(1,2,figsize = (GLOBAL_FIGURE_VERTICAL_SIZE*2, GLOBAL_FIGURE_VERTICAL_SIZE) \n",
    "                             ,sharey = True)\n",
    "\n",
    "cmap_q = get_cmap(num_noises)\n",
    "cmap_q_1 = get_cmap(num_noises, mpl.cm.Oranges)\n",
    "cmap_q_2 = get_cmap(num_noises, mpl.cm.Reds)\n",
    "\n",
    "batch_time = 10\n",
    "\n",
    "time_vec = np.arange(len(exp._used_Q_diag_list)) * batch_time\n",
    "\n",
    "\n",
    "for i in range(num_noises):\n",
    "    exp = exps[i]\n",
    "    Q_list = np.array(exp._used_Q_diag_list)\n",
    "\n",
    "    Q_diag_no_noise = np.mean(Q_list[:, no_noise_neuron_list], axis = 1)\n",
    "    Q_diag_noise = np.mean(Q_list[:, with_noise_neuron_list], axis = 1)\n",
    "    \n",
    "    axes_Q[0].plot(time_vec, Q_diag_noise, c = 'b')\n",
    "    axes_Q[1].plot(time_vec, Q_diag_no_noise, c = 'b')\n",
    "    \n",
    "    \n",
    "    exp = exps[i+num_noises]\n",
    "    Q_list = np.array(exp._used_Q_diag_list)\n",
    "\n",
    "    Q_diag_no_noise = np.mean(Q_list[:, no_noise_neuron_list], axis = 1)\n",
    "    Q_diag_noise = np.mean(Q_list[:, with_noise_neuron_list], axis = 1)\n",
    "    \n",
    "    axes_Q[0].plot(time_vec, Q_diag_noise, c = 'r')\n",
    "    axes_Q[1].plot(time_vec, Q_diag_no_noise, c = 'r')\n",
    "    \n",
    "\n",
    "    \n",
    "\n",
    "axes_Q[0].set_xlabel('Time (s)')\n",
    "axes_Q[1].set_xlabel('Time (s)')\n",
    "\n",
    "axes_Q[0].set_title('Noisy neurons')\n",
    "axes_Q[1].set_title('High SNR neurons')\n",
    "axes_Q[1].legend(exp_conds)"
   ]
  },
  {
   "cell_type": "code",
   "execution_count": 48,
   "metadata": {
    "ExecuteTime": {
     "end_time": "2021-07-06T19:22:27.355833Z",
     "start_time": "2021-07-06T19:22:27.140358Z"
    }
   },
   "outputs": [
    {
     "name": "stdout",
     "output_type": "stream",
     "text": [
      "[[ 0.    0.   -0.    0.01  0.   -0.01  0.  ]\n",
      " [ 0.    0.    0.   -0.    0.    0.02  0.  ]\n",
      " [-0.    0.   -0.   -0.02  0.    0.    0.  ]\n",
      " [ 0.    0.   -0.    0.    0.   -0.02  0.  ]\n",
      " [ 0.    0.    0.    0.02  0.   -0.    0.  ]\n",
      " [ 0.    0.    0.    0.    0.    0.02  0.  ]\n",
      " [-0.    0.   -0.   -0.02  0.   -0.    0.  ]\n",
      " [-0.    0.   -0.   -0.    0.   -0.01  0.  ]\n",
      " [ 0.    0.    0.    0.    0.    0.    0.  ]\n",
      " [ 0.    0.    0.    0.    0.    0.    0.  ]\n",
      " [-0.    0.   -0.   -0.    0.   -0.    0.  ]\n",
      " [-0.    0.   -0.   -0.    0.   -0.    0.  ]\n",
      " [-0.    0.    0.   -0.    0.    0.    0.  ]\n",
      " [-0.    0.    0.   -0.    0.    0.    0.  ]\n",
      " [-0.    0.   -0.   -0.    0.   -0.    0.  ]\n",
      " [-0.    0.    0.   -0.    0.    0.    0.  ]\n",
      " [ 0.    0.    0.    0.    0.    0.    0.  ]\n",
      " [-0.    0.    0.   -0.    0.    0.    0.  ]\n",
      " [-0.    0.   -0.   -0.    0.   -0.    0.  ]\n",
      " [ 0.    0.   -0.    0.    0.   -0.    0.  ]\n",
      " [ 0.    0.    0.    0.    0.    0.    0.  ]\n",
      " [-0.    0.    0.   -0.    0.    0.    0.  ]\n",
      " [-0.    0.    0.   -0.    0.    0.    0.  ]\n",
      " [-0.    0.   -0.   -0.    0.   -0.    0.  ]\n",
      " [-0.    0.   -0.   -0.    0.   -0.    0.  ]\n",
      " [ 0.    0.   -0.    0.    0.   -0.    0.  ]\n",
      " [-0.    0.   -0.   -0.    0.   -0.    0.  ]\n",
      " [ 0.    0.   -0.    0.    0.   -0.    0.  ]\n",
      " [ 0.    0.    0.    0.    0.    0.    0.  ]\n",
      " [ 0.    0.    0.    0.    0.    0.    0.  ]\n",
      " [-0.    0.    0.   -0.    0.    0.    0.  ]\n",
      " [-0.    0.   -0.   -0.    0.   -0.    0.  ]]\n",
      "[[ 0.    0.    0.    0.02  0.    0.    0.  ]\n",
      " [ 0.    0.    0.    0.    0.    0.01  0.  ]\n",
      " [-0.    0.   -0.   -0.01  0.   -0.    0.  ]\n",
      " [ 0.    0.   -0.    0.    0.   -0.02  0.  ]\n",
      " [ 0.    0.    0.    0.02  0.    0.    0.  ]\n",
      " [ 0.    0.    0.    0.    0.    0.02  0.  ]\n",
      " [-0.    0.   -0.   -0.02  0.   -0.    0.  ]\n",
      " [-0.    0.   -0.   -0.    0.   -0.01  0.  ]\n",
      " [-0.    0.    0.   -0.    0.    0.    0.  ]\n",
      " [-0.    0.    0.   -0.    0.    0.    0.  ]\n",
      " [-0.    0.    0.   -0.    0.    0.    0.  ]\n",
      " [-0.    0.   -0.   -0.    0.   -0.    0.  ]\n",
      " [ 0.    0.    0.    0.    0.    0.    0.  ]\n",
      " [-0.    0.    0.   -0.    0.    0.    0.  ]\n",
      " [ 0.    0.   -0.    0.    0.   -0.    0.  ]\n",
      " [ 0.    0.   -0.    0.    0.   -0.    0.  ]\n",
      " [-0.    0.   -0.   -0.    0.   -0.    0.  ]\n",
      " [-0.    0.   -0.   -0.    0.   -0.    0.  ]\n",
      " [-0.    0.    0.   -0.    0.    0.    0.  ]\n",
      " [ 0.    0.   -0.    0.    0.   -0.    0.  ]\n",
      " [ 0.    0.    0.    0.    0.    0.    0.  ]\n",
      " [-0.    0.    0.   -0.    0.    0.    0.  ]\n",
      " [ 0.    0.    0.    0.    0.    0.    0.  ]\n",
      " [ 0.    0.   -0.    0.    0.   -0.    0.  ]\n",
      " [ 0.    0.   -0.    0.    0.   -0.    0.  ]\n",
      " [ 0.    0.    0.    0.    0.    0.    0.  ]\n",
      " [ 0.    0.    0.    0.    0.    0.    0.  ]\n",
      " [ 0.    0.   -0.    0.    0.   -0.    0.  ]\n",
      " [ 0.    0.    0.    0.    0.    0.    0.  ]\n",
      " [ 0.    0.    0.    0.    0.    0.    0.  ]\n",
      " [-0.    0.    0.   -0.    0.    0.    0.  ]\n",
      " [ 0.    0.   -0.    0.    0.   -0.    0.  ]]\n"
     ]
    },
    {
     "data": {
      "image/png": "[encoded data removed]",
      "text/plain": [
       "<Figure size 576x288 with 2 Axes>"
      ]
     },
     "metadata": {
      "needs_background": "light"
     },
     "output_type": "display_data"
    }
   ],
   "source": [
    "figure_k_matrix, axes_k_matrix = plt.subplots(1,NUM_EXP,\n",
    "                                          figsize = (GLOBAL_FIGURE_VERTICAL_SIZE * NUM_EXP,\n",
    "                                                    GLOBAL_FIGURE_VERTICAL_SIZE))\n",
    "\n",
    "\n",
    "\n",
    "for i,e in enumerate(exps):\n",
    "    K = (e._used_K_mat_list[-1]).T\n",
    "    print(K)\n",
    "\n",
    "    plot_prefered_directions(K, ax  = axes_k_matrix[i])\n",
    "    axes_k_matrix[i].set_title(exp_conds[i])\n",
    "    \n"
   ]
  },
  {
   "cell_type": "markdown",
   "metadata": {},
   "source": [
    "## examine used C mat"
   ]
  },
  {
   "cell_type": "code",
   "execution_count": 49,
   "metadata": {
    "ExecuteTime": {
     "end_time": "2021-07-06T19:22:27.358666Z",
     "start_time": "2021-07-06T19:22:27.356671Z"
    }
   },
   "outputs": [],
   "source": [
    "updated_C_mat = np.array(exp._used_C_mat_list)"
   ]
  },
  {
   "cell_type": "markdown",
   "metadata": {},
   "source": [
    "## examine Q matrix\n"
   ]
  },
  {
   "cell_type": "code",
   "execution_count": 50,
   "metadata": {
    "ExecuteTime": {
     "end_time": "2021-07-06T19:22:27.368600Z",
     "start_time": "2021-07-06T19:22:27.359546Z"
    }
   },
   "outputs": [
    {
     "data": {
      "text/plain": [
       "(121, 32)"
      ]
     },
     "execution_count": 50,
     "metadata": {},
     "output_type": "execute_result"
    }
   ],
   "source": [
    "q_list = np.array(exp._used_Q_diag_list)\n",
    "q_list.shape"
   ]
  },
  {
   "cell_type": "code",
   "execution_count": 51,
   "metadata": {
    "ExecuteTime": {
     "end_time": "2021-07-06T19:22:27.539683Z",
     "start_time": "2021-07-06T19:22:27.369424Z"
    }
   },
   "outputs": [
    {
     "data": {
      "text/plain": [
       "array([[ 0.  ,  0.  ,  0.  ,  1.67,  0.  ,  1.64, -0.62],\n",
       "       [ 0.  ,  0.  ,  0.  , -0.15,  0.  , -0.58,  2.05],\n",
       "       [ 0.  ,  0.  ,  0.  ,  0.27,  0.  ,  0.98,  0.15],\n",
       "       [ 0.  ,  0.  ,  0.  , -0.39,  0.  , -2.52,  5.27],\n",
       "       [ 0.  ,  0.  ,  0.  ,  1.38,  0.  , -0.18,  0.83],\n",
       "       [ 0.  ,  0.  ,  0.  ,  0.24,  0.  ,  0.68,  0.3 ],\n",
       "       [ 0.  ,  0.  ,  0.  , -0.16,  0.  ,  0.38,  1.84],\n",
       "       [ 0.  ,  0.  ,  0.  ,  0.08,  0.  , -0.84,  1.23],\n",
       "       [ 0.  ,  0.  ,  0.  , -0.08,  0.  , -0.87,  4.39],\n",
       "       [ 0.  ,  0.  ,  0.  ,  0.03,  0.  , -0.06,  1.09],\n",
       "       [ 0.  ,  0.  ,  0.  , -0.09,  0.  , -0.3 ,  3.25],\n",
       "       [ 0.  ,  0.  ,  0.  , -0.22,  0.  , -0.64,  4.78],\n",
       "       [ 0.  ,  0.  ,  0.  ,  0.01,  0.  , -0.21,  3.93],\n",
       "       [ 0.  ,  0.  ,  0.  , -0.03,  0.  , -0.94,  2.28],\n",
       "       [ 0.  ,  0.  ,  0.  ,  0.24,  0.  ,  0.14,  1.02],\n",
       "       [ 0.  ,  0.  ,  0.  ,  0.31,  0.  ,  0.68,  1.15],\n",
       "       [ 0.  ,  0.  ,  0.  ,  0.08,  0.  , -0.83,  1.45],\n",
       "       [ 0.  ,  0.  ,  0.  , -0.32,  0.  , -1.33,  4.09],\n",
       "       [ 0.  ,  0.  ,  0.  ,  0.11,  0.  ,  0.62,  2.65],\n",
       "       [ 0.  ,  0.  ,  0.  , -0.07,  0.  , -0.95,  2.34],\n",
       "       [ 0.  ,  0.  ,  0.  ,  0.37,  0.  , -0.1 ,  0.58],\n",
       "       [ 0.  ,  0.  ,  0.  ,  0.13,  0.  ,  1.28,  2.16],\n",
       "       [ 0.  ,  0.  ,  0.  ,  0.12,  0.  ,  0.46,  1.48],\n",
       "       [ 0.  ,  0.  ,  0.  , -0.52,  0.  , -2.17,  6.17],\n",
       "       [ 0.  ,  0.  ,  0.  , -0.18,  0.  , -0.93,  5.91],\n",
       "       [ 0.  ,  0.  ,  0.  , -0.53,  0.  , -1.72,  6.65],\n",
       "       [ 0.  ,  0.  ,  0.  , -0.61,  0.  , -2.39,  5.69],\n",
       "       [ 0.  ,  0.  ,  0.  ,  0.36,  0.  ,  0.71, -0.42],\n",
       "       [ 0.  ,  0.  ,  0.  ,  0.23,  0.  , -0.14,  1.87],\n",
       "       [ 0.  ,  0.  ,  0.  , -0.05,  0.  , -0.11,  2.68],\n",
       "       [ 0.  ,  0.  ,  0.  ,  0.02,  0.  ,  0.47,  2.46],\n",
       "       [ 0.  ,  0.  ,  0.  , -0.16,  0.  , -1.51,  4.01]])"
      ]
     },
     "execution_count": 51,
     "metadata": {},
     "output_type": "execute_result"
    },
    {
     "data": {
      "image/png": "[encoded data removed]",
      "text/plain": [
       "<Figure size 432x288 with 3 Axes>"
      ]
     },
     "metadata": {
      "needs_background": "light"
     },
     "output_type": "display_data"
    }
   ],
   "source": [
    "i = 1\n",
    "\n",
    "c_mat = updated_C_mat[i,:,:]\n",
    "\n",
    "\n",
    "fig_c_mat, axes_c_mat = plt.subplots(1,2)\n",
    "pos = axes_c_mat[0].imshow(c_mat)\n",
    "fig_c_mat.colorbar(pos, ax=axes_c_mat[0])\n",
    "\n",
    "\n",
    "#normalized\n",
    "q_diag = q_list[i,:].reshape(-1,1)\n",
    "q_diag_tile = np.tile(q_diag, (1,7))\n",
    "\n",
    "pos = axes_c_mat[1].imshow(c_mat/q_diag_tile)\n",
    "\n",
    "c_mat/q_diag_tile *  1000"
   ]
  },
  {
   "cell_type": "markdown",
   "metadata": {},
   "source": [
    "how do we show this is a good measure of the feature quality sort of thing?"
   ]
  },
  {
   "cell_type": "code",
   "execution_count": 52,
   "metadata": {
    "ExecuteTime": {
     "end_time": "2021-07-06T19:22:27.656369Z",
     "start_time": "2021-07-06T19:22:27.540637Z"
    }
   },
   "outputs": [
    {
     "data": {
      "text/plain": [
       "<matplotlib.legend.Legend at 0x7fcfd0889f70>"
      ]
     },
     "execution_count": 52,
     "metadata": {},
     "output_type": "execute_result"
    },
    {
     "data": {
      "image/png": "[encoded data removed]",
      "text/plain": [
       "<Figure size 432x288 with 1 Axes>"
      ]
     },
     "metadata": {
      "needs_background": "light"
     },
     "output_type": "display_data"
    }
   ],
   "source": [
    "# plot out of the mean weight of convergence\n",
    "\n",
    "C_norm = updated_C_mat[:,:, (X_VEL_STATE_IND, Y_VEL_STATE_IND)]\n",
    "C_norm  = np.linalg.norm(C_norm, axis = 2)\n",
    "C_norm_noisy = np.mean(C_norm[:, with_noise_neuron_list], axis = 1)\n",
    "C_norm_clean = np.mean(C_norm[:, no_noise_neuron_list], axis = 1)\n",
    "\n",
    "plt.plot(C_norm_noisy)\n",
    "plt.plot(C_norm_clean)\n",
    "plt.xlabel(f'Number of batch updates with a batch size of {batch_size}')\n",
    "plt.title('For a fixed encoder, the decoder weights \\n converge to final values within a couple of batches')\n",
    "plt.legend(['Noisy', 'high SNR'])\n"
   ]
  },
  {
   "cell_type": "code",
   "execution_count": 59,
   "metadata": {
    "ExecuteTime": {
     "end_time": "2021-07-06T19:27:40.633565Z",
     "start_time": "2021-07-06T19:27:40.503843Z"
    }
   },
   "outputs": [
    {
     "data": {
      "text/plain": [
       "(0, 10)"
      ]
     },
     "execution_count": 59,
     "metadata": {},
     "output_type": "execute_result"
    },
    {
     "data": {
      "image/png": "[encoded data removed]",
      "text/plain": [
       "<Figure size 432x288 with 1 Axes>"
      ]
     },
     "metadata": {
      "needs_background": "light"
     },
     "output_type": "display_data"
    }
   ],
   "source": [
    "# Q value \n",
    "q_diag_noisy = np.mean(q_list[:, with_noise_neuron_list], axis = 1)\n",
    "q_diag_clean = np.mean(q_list[:, no_noise_neuron_list], axis = 1)\n",
    "\n",
    "\n",
    "plt.plot(q_diag_noisy)\n",
    "plt.plot(q_diag_clean)\n",
    "plt.xlabel(f'Number of batch updates with a batch size of {batch_size}')\n",
    "#plt.title('For a fixed encoder ,\\n diagnoal values of the Q matrix converge as the same rate as the C matrix ')\n",
    "plt.legend(['Noisy', 'high SNR'])\n",
    "plt.xlim((0,10))"
   ]
  },
  {
   "cell_type": "markdown",
   "metadata": {},
   "source": [
    "## Q matrix"
   ]
  },
  {
   "cell_type": "code",
   "execution_count": 54,
   "metadata": {
    "ExecuteTime": {
     "end_time": "2021-07-06T19:22:27.777346Z",
     "start_time": "2021-07-06T19:22:27.775267Z"
    }
   },
   "outputs": [
    {
     "data": {
      "text/plain": [
       "(121, 32)"
      ]
     },
     "execution_count": 54,
     "metadata": {},
     "output_type": "execute_result"
    }
   ],
   "source": [
    "q_list.shape"
   ]
  },
  {
   "cell_type": "code",
   "execution_count": 58,
   "metadata": {
    "ExecuteTime": {
     "end_time": "2021-07-06T19:25:16.575883Z",
     "start_time": "2021-07-06T19:25:16.454685Z"
    }
   },
   "outputs": [
    {
     "data": {
      "text/plain": [
       "<matplotlib.lines.Line2D at 0x7fcfd0de2280>"
      ]
     },
     "execution_count": 58,
     "metadata": {},
     "output_type": "execute_result"
    },
    {
     "data": {
      "image/png": "[encoded data removed]",
      "text/plain": [
       "<Figure size 432x288 with 1 Axes>"
      ]
     },
     "metadata": {
      "needs_background": "light"
     },
     "output_type": "display_data"
    }
   ],
   "source": [
    "num_points = 3\n",
    "x = np.arange(num_points)\n",
    "\n",
    "A = np.vstack([x, np.ones(len(x))]).T\n",
    "\n",
    "r_slopes_Q_3pt = np.zeros(N_NEURONS)\n",
    "\n",
    "for i in range(N_NEURONS):\n",
    "    y = q_list[:num_points,i]\n",
    "    m,c = np.linalg.lstsq(A, y, rcond = 0)[0]\n",
    "    r_slopes_Q_3pt[i] = m\n",
    "\n",
    "plt.plot(r_slopes_Q_3pt)\n",
    "plt.xlabel('Neuron count')\n",
    "plt.ylabel('Slopes of reduction in error (abs)')\n",
    "plt.axvline(7, color = 'r')"
   ]
  },
  {
   "cell_type": "code",
   "execution_count": 56,
   "metadata": {
    "ExecuteTime": {
     "end_time": "2021-07-06T19:22:27.973688Z",
     "start_time": "2021-07-06T19:22:27.880677Z"
    }
   },
   "outputs": [
    {
     "data": {
      "text/plain": [
       "(array([3., 1., 4., 0., 2., 5., 6., 6., 2., 3.]),\n",
       " array([1813.04, 2077.91, 2342.78, 2607.65, 2872.52, 3137.39, 3402.26,\n",
       "        3667.13, 3932.  , 4196.87, 4461.74]),\n",
       " <a list of 10 Patch objects>)"
      ]
     },
     "execution_count": 56,
     "metadata": {},
     "output_type": "execute_result"
    },
    {
     "data": {
      "image/png": "[encoded data removed]",
      "text/plain": [
       "<Figure size 432x288 with 1 Axes>"
      ]
     },
     "metadata": {
      "needs_background": "light"
     },
     "output_type": "display_data"
    }
   ],
   "source": [
    "plt.hist(q_list[-1,:])"
   ]
  },
  {
   "cell_type": "code",
   "execution_count": 57,
   "metadata": {
    "ExecuteTime": {
     "end_time": "2021-07-06T19:22:28.068854Z",
     "start_time": "2021-07-06T19:22:27.974530Z"
    }
   },
   "outputs": [
    {
     "ename": "NameError",
     "evalue": "name 'r_slopes' is not defined",
     "output_type": "error",
     "traceback": [
      "\u001b[0;31m---------------------------------------------------------------------------\u001b[0m",
      "\u001b[0;31mNameError\u001b[0m                                 Traceback (most recent call last)",
      "\u001b[0;32m<ipython-input-57-132a2dcd079f>\u001b[0m in \u001b[0;36m<module>\u001b[0;34m\u001b[0m\n\u001b[0;32m----> 1\u001b[0;31m \u001b[0mplt\u001b[0m\u001b[0;34m.\u001b[0m\u001b[0mhist\u001b[0m\u001b[0;34m(\u001b[0m\u001b[0mr_slopes\u001b[0m\u001b[0;34m)\u001b[0m\u001b[0;34m\u001b[0m\u001b[0;34m\u001b[0m\u001b[0m\n\u001b[0m\u001b[1;32m      2\u001b[0m \u001b[0mplt\u001b[0m\u001b[0;34m.\u001b[0m\u001b[0mxlabel\u001b[0m\u001b[0;34m(\u001b[0m\u001b[0;34m'Slope of 3 point reliabilty index'\u001b[0m\u001b[0;34m)\u001b[0m\u001b[0;34m\u001b[0m\u001b[0;34m\u001b[0m\u001b[0m\n\u001b[1;32m      3\u001b[0m \u001b[0mplt\u001b[0m\u001b[0;34m.\u001b[0m\u001b[0mylabel\u001b[0m\u001b[0;34m(\u001b[0m\u001b[0;34m'Counts'\u001b[0m\u001b[0;34m)\u001b[0m\u001b[0;34m\u001b[0m\u001b[0;34m\u001b[0m\u001b[0m\n\u001b[1;32m      4\u001b[0m \u001b[0mplt\u001b[0m\u001b[0;34m.\u001b[0m\u001b[0mtitle\u001b[0m\u001b[0;34m(\u001b[0m\u001b[0;34m\"Clear separation of the two feature groups\"\u001b[0m\u001b[0;34m)\u001b[0m\u001b[0;34m\u001b[0m\u001b[0;34m\u001b[0m\u001b[0m\n",
      "\u001b[0;31mNameError\u001b[0m: name 'r_slopes' is not defined"
     ]
    }
   ],
   "source": [
    "plt.hist(r_slopes)\n",
    "plt.xlabel('Slope of 3 point reliabilty index')\n",
    "plt.ylabel('Counts')\n",
    "plt.title(\"Clear separation of the two feature groups\")"
   ]
  },
  {
   "cell_type": "code",
   "execution_count": null,
   "metadata": {
    "ExecuteTime": {
     "end_time": "2021-07-06T19:22:28.069723Z",
     "start_time": "2021-07-06T19:21:20.125Z"
    }
   },
   "outputs": [],
   "source": [
    "# now we can measure out the things\n",
    "\n",
    "C_mat = updated_C_mat[:,:,(X_VEL_STATE_IND, Y_VEL_STATE_IND)]\n",
    "q_list_tile = q_list[:,:, np.newaxis]\n",
    "q_list_tile = np.tile(q_list_tile, (1,1,2))\n",
    "\n",
    "q_measure = C_mat / q_list_tile\n",
    "\n",
    "print(q_measure.shape)\n",
    "\n",
    "'''\n",
    "\n",
    "'''\n",
    "q_measure_norm  = np.linalg.norm(q_measure, axis = 2)\n",
    "q_measure_noisy= np.mean(q_measure_norm[:, with_noise_neuron_list], axis = 1)\n",
    "q_measure_clean= np.mean(q_measure_norm[:, no_noise_neuron_list], axis = 1)\n",
    "\n",
    "\n",
    "plt.plot(q_measure_noisy)\n",
    "plt.plot(q_measure_clean)\n",
    "plt.xlabel(f'Number of batch updates with a batch size of {batch_size}')\n",
    "plt.title('Noisy normalized weights may be used for feature selection')\n",
    "plt.legend(['Noisy', 'high SNR'])\n",
    "plt.ylabel('Q normalzied weights')"
   ]
  },
  {
   "cell_type": "code",
   "execution_count": null,
   "metadata": {
    "ExecuteTime": {
     "end_time": "2021-07-06T19:22:28.070162Z",
     "start_time": "2021-07-06T19:21:20.126Z"
    }
   },
   "outputs": [],
   "source": [
    "time_snap_shots = [1, 2, 3, 5, 10, 16]\n",
    "\n",
    "fig, axes = plt.subplots(1, len(time_snap_shots),\n",
    "                        figsize = (5 * 4, 4))\n",
    "\n",
    "for i,t in enumerate(time_snap_shots):\n",
    "    axes[i].hist(q_measure_norm[t,:])\n",
    "    axes[i].set_xlabel('Reliability index ')\n",
    "    axes[i].set_ylabel('Counts')\n",
    "    axes[i].set_title(f'Distribution at batch {t}')\n",
    "\n",
    "fig.tight_layout()"
   ]
  },
  {
   "cell_type": "code",
   "execution_count": null,
   "metadata": {
    "ExecuteTime": {
     "end_time": "2021-07-06T19:22:28.070561Z",
     "start_time": "2021-07-06T19:21:20.127Z"
    }
   },
   "outputs": [],
   "source": [
    "q_list\n"
   ]
  },
  {
   "cell_type": "code",
   "execution_count": null,
   "metadata": {
    "ExecuteTime": {
     "end_time": "2021-07-06T19:22:28.071025Z",
     "start_time": "2021-07-06T19:21:20.129Z"
    }
   },
   "outputs": [],
   "source": [
    "from scipy import stats\n",
    "\n",
    "\n",
    "p_values = list()\n",
    "\n",
    "for i in range(2, len(q_measure_norm)):\n",
    "    (statistic, pvalue) = stats.ks_2samp(q_list[1,:], q_list[i,:])\n",
    "    p_values.append(pvalue)\n",
    "    \n",
    "pvalues = np.array(p_values)\n",
    "\n",
    "plt.plot(pvalues)"
   ]
  },
  {
   "cell_type": "markdown",
   "metadata": {},
   "source": [
    "## before we tackle with quality measure.\n",
    "we can first look at the convergence of the "
   ]
  },
  {
   "cell_type": "code",
   "execution_count": null,
   "metadata": {
    "ExecuteTime": {
     "end_time": "2021-07-06T19:22:28.071438Z",
     "start_time": "2021-07-06T19:21:20.131Z"
    }
   },
   "outputs": [],
   "source": [
    "q_measure_norm_diff = np.diff(q_measure_norm, axis = 0)\n",
    "plt.plot(q_measure_norm_diff[0,:])\n",
    "plt.xlabel('Neuron count')\n",
    "plt.ylabel('Difference in reliability index')\n",
    "plt.title('Diff. of the Reliability index between the first two batches \\n does not discrminate between the noisy features and the clean features')"
   ]
  },
  {
   "cell_type": "code",
   "execution_count": null,
   "metadata": {
    "ExecuteTime": {
     "end_time": "2021-07-06T19:22:28.071894Z",
     "start_time": "2021-07-06T19:21:20.133Z"
    }
   },
   "outputs": [],
   "source": [
    "num_points = 3\n",
    "x = np.arange(num_points)\n",
    "\n",
    "A = np.vstack([x, np.ones(len(x))]).T\n",
    "\n",
    "r_slopes_3pt = np.zeros(N_NEURONS)\n",
    "\n",
    "for i in range(N_NEURONS):\n",
    "    y = q_measure_norm[:num_points,i]\n",
    "    m,c = np.linalg.lstsq(A, y, rcond = 0)[0]\n",
    "    r_slopes_3pt[i] = m\n",
    "\n",
    "plt.plot(r_slopes_3pt)\n",
    "plt.xlabel('Neuron count')\n",
    "plt.ylabel('Slope of 3 point reliabilty index')\n",
    "plt.title('Using the first 3 batches is more discriminative')"
   ]
  },
  {
   "cell_type": "code",
   "execution_count": null,
   "metadata": {
    "ExecuteTime": {
     "end_time": "2021-07-06T19:22:28.072295Z",
     "start_time": "2021-07-06T19:21:20.135Z"
    }
   },
   "outputs": [],
   "source": [
    "num_points = 10\n",
    "x = np.arange(num_points)\n",
    "\n",
    "A = np.vstack([x, np.ones(len(x))]).T\n",
    "\n",
    "r_slopes = np.zeros(N_NEURONS)\n",
    "\n",
    "for i in range(N_NEURONS):\n",
    "    y = q_measure_norm[:num_points,i]\n",
    "    m,c = np.linalg.lstsq(A, y, rcond = 0)[0]\n",
    "    r_slopes[i] = m\n",
    "\n",
    "plt.plot(r_slopes)\n",
    "plt.xlabel('Neuron count')\n",
    "plt.ylabel('Slope of 10 batch reliabilty index')\n",
    "plt.title('Using the first 10 batches is even more discriminative')"
   ]
  },
  {
   "cell_type": "code",
   "execution_count": null,
   "metadata": {
    "ExecuteTime": {
     "end_time": "2021-07-06T19:22:28.072677Z",
     "start_time": "2021-07-06T19:21:20.136Z"
    }
   },
   "outputs": [],
   "source": [
    "plt.hist(r_slopes)\n",
    "plt.xlabel('Slope of 3 point reliabilty index')\n",
    "plt.ylabel('Counts')\n",
    "plt.title(\"Clear separation of the two feature groups\")"
   ]
  },
  {
   "cell_type": "markdown",
   "metadata": {},
   "source": [
    "$r_k =  "
   ]
  },
  {
   "cell_type": "code",
   "execution_count": null,
   "metadata": {
    "ExecuteTime": {
     "end_time": "2021-07-06T19:22:28.073098Z",
     "start_time": "2021-07-06T19:21:20.139Z"
    },
    "scrolled": true
   },
   "outputs": [],
   "source": [
    "figure_q_measure, axes_q_measure = plt.subplots(2,3,\n",
    "                                                figsize = (3 * GLOBAL_FIGURE_VERTICAL_SIZE, 2*GLOBAL_FIGURE_VERTICAL_SIZE))\n",
    "\n",
    "axes_q_measure[0,0].plot(q_measure_norm_diff[0,:])\n",
    "axes_q_measure[0,0].set_xlabel('Neuron count')\n",
    "axes_q_measure[0,0].set_ylabel('Difference in reliability index')\n",
    "axes_q_measure[0,0].set_title('2 batches')\n",
    "\n",
    "axes_q_measure[1,0].hist(q_measure_norm_diff[0,:])\n",
    "axes_q_measure[1,0].set_ylabel('Counts')\n",
    "axes_q_measure[1,0].set_xlabel('Difference in the reliability index')\n",
    "\n",
    "\n",
    "axes_q_measure[0,1].plot(r_slopes_3pt)\n",
    "axes_q_measure[0,1].set_xlabel('Neuron count')\n",
    "axes_q_measure[0,1].set_ylabel('Slopes of 3 point reliabilty index')\n",
    "axes_q_measure[0,1].set_title('3 batches')\n",
    "\n",
    "\n",
    "\n",
    "axes_q_measure[1,1].hist(r_slopes_3pt)\n",
    "axes_q_measure[1,1].set_xlabel('Slopes of 3 point reliabilty index')\n",
    "axes_q_measure[1,1].set_ylabel('Counts')\n",
    "\n",
    "\n",
    "axes_q_measure[0,2].plot(r_slopes)\n",
    "axes_q_measure[0,2].set_xlabel('Neuron count')\n",
    "axes_q_measure[0,2].set_ylabel('Slopes of 10 point reliabilty index')\n",
    "axes_q_measure[0,2].set_title('10 batches')\n",
    "\n",
    "axes_q_measure[1,2].hist(r_slopes)\n",
    "axes_q_measure[1,2].set_xlabel('Slopes of 10 batch reliabilty index')\n",
    "axes_q_measure[1,2].set_ylabel('Counts')\n",
    "\n",
    "\n",
    "\n",
    "plt.tight_layout()"
   ]
  },
  {
   "cell_type": "markdown",
   "metadata": {
    "ExecuteTime": {
     "end_time": "2021-07-02T18:20:32.890035Z",
     "start_time": "2021-07-02T18:20:32.887542Z"
    }
   },
   "source": [
    "we can use a gaussian mixture model to speed up the calculation sort of thing. "
   ]
  },
  {
   "cell_type": "code",
   "execution_count": null,
   "metadata": {
    "ExecuteTime": {
     "end_time": "2021-07-06T19:22:28.073469Z",
     "start_time": "2021-07-06T19:21:20.141Z"
    }
   },
   "outputs": [],
   "source": [
    "from scipy import stats\n",
    "\n",
    "stats.ks_2samp(r_slopes_3pt, r_slopes)"
   ]
  },
  {
   "cell_type": "code",
   "execution_count": null,
   "metadata": {
    "ExecuteTime": {
     "end_time": "2021-07-06T19:22:28.073880Z",
     "start_time": "2021-07-06T19:21:20.142Z"
    }
   },
   "outputs": [],
   "source": [
    "stats.ks_2samp(q_measure_norm_diff[0,:],\n",
    "               r_slopes_3pt)"
   ]
  }
 ],
 "metadata": {
  "kernelspec": {
   "display_name": "Python 3",
   "language": "python",
   "name": "python3"
  },
  "language_info": {
   "codemirror_mode": {
    "name": "ipython",
    "version": 3
   },
   "file_extension": ".py",
   "mimetype": "text/x-python",
   "name": "python",
   "nbconvert_exporter": "python",
   "pygments_lexer": "ipython3",
   "version": "3.8.10"
  },
  "toc": {
   "base_numbering": 1,
   "nav_menu": {},
   "number_sections": true,
   "sideBar": true,
   "skip_h1_title": false,
   "title_cell": "Table of Contents",
   "title_sidebar": "Contents",
   "toc_cell": false,
   "toc_position": {
    "height": "600.8px",
    "left": "35px",
    "top": "353.8px",
    "width": "376.031px"
   },
   "toc_section_display": true,
   "toc_window_display": false
  },
  "varInspector": {
   "cols": {
    "lenName": 16,
    "lenType": 16,
    "lenVar": 40
   },
   "kernels_config": {
    "python": {
     "delete_cmd_postfix": "",
     "delete_cmd_prefix": "del ",
     "library": "var_list.py",
     "varRefreshCmd": "print(var_dic_list())"
    },
    "r": {
     "delete_cmd_postfix": ") ",
     "delete_cmd_prefix": "rm(",
     "library": "var_list.r",
     "varRefreshCmd": "cat(var_dic_list()) "
    }
   },
   "types_to_exclude": [
    "module",
    "function",
    "builtin_function_or_method",
    "instance",
    "_Feature"
   ],
   "window_display": false
  }
 },
 "nbformat": 4,
 "nbformat_minor": 4
}
