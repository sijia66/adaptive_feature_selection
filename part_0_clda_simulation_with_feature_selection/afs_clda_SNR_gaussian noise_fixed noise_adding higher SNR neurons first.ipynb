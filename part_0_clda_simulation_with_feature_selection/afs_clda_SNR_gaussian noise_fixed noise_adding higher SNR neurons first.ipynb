{
 "cells": [
  {
   "cell_type": "markdown",
   "metadata": {},
   "source": [
    "# TO-Do list\n",
    "1. need to or the new features and the old features.\n",
    "\n",
    "need to change to sth. like thisl \n",
    "A = np.array([True, True, False])\n",
    "B = np.array([False, True, False])\n",
    "\n",
    "AorB = np.logical_or(A, B)\n",
    "AorB"
   ]
  },
  {
   "cell_type": "markdown",
   "metadata": {},
   "source": []
  },
  {
   "cell_type": "markdown",
   "metadata": {},
   "source": [
    "# Purposes of this document\n",
    "\n",
    "the goal\n",
    "1. add mean gaussian rates to the neurons\n",
    "2. correct the added offsets\n",
    "\n",
    "and then we use variance decomposition to meaure the noisiness of features/neurons\n"
   ]
  },
  {
   "cell_type": "markdown",
   "metadata": {},
   "source": [
    "# ideas"
   ]
  },
  {
   "cell_type": "markdown",
   "metadata": {},
   "source": [
    "# Experimental setup related to the questions\n",
    "\n",
    "this part should be configured to directly test the hypothesis put forward in the previous section\n"
   ]
  },
  {
   "cell_type": "code",
   "execution_count": 1,
   "metadata": {
    "ExecuteTime": {
     "end_time": "2021-04-28T17:44:32.266105Z",
     "start_time": "2021-04-28T17:44:32.263964Z"
    }
   },
   "outputs": [],
   "source": [
    "mean_firing_rate = 100"
   ]
  },
  {
   "cell_type": "code",
   "execution_count": 2,
   "metadata": {
    "ExecuteTime": {
     "end_time": "2021-04-28T17:44:32.317286Z",
     "start_time": "2021-04-28T17:44:32.267454Z"
    }
   },
   "outputs": [
    {
     "name": "stdout",
     "output_type": "stream",
     "text": [
      "set up the variances in a list:\n",
      "we therefore know the number of neurons to be 32\n",
      "[[1.  ]\n",
      " [1.  ]\n",
      " [1.  ]\n",
      " [1.  ]\n",
      " [1.  ]\n",
      " [1.  ]\n",
      " [1.  ]\n",
      " [1.  ]\n",
      " [0.5 ]\n",
      " [0.5 ]\n",
      " [0.5 ]\n",
      " [0.5 ]\n",
      " [0.5 ]\n",
      " [0.5 ]\n",
      " [0.5 ]\n",
      " [0.5 ]\n",
      " [0.25]\n",
      " [0.25]\n",
      " [0.25]\n",
      " [0.25]\n",
      " [0.25]\n",
      " [0.25]\n",
      " [0.25]\n",
      " [0.25]\n",
      " [0.  ]\n",
      " [0.  ]\n",
      " [0.  ]\n",
      " [0.  ]\n",
      " [0.  ]\n",
      " [0.  ]\n",
      " [0.  ]\n",
      " [0.  ]]\n"
     ]
    }
   ],
   "source": [
    "import numpy as np\n",
    "np.set_printoptions(precision=2, suppress=True)\n",
    "\n",
    "noise_mode = 'fixed_gaussian'\n",
    "fixed_noise_level = 50 #Hz\n",
    "\n",
    "n_neurons = 32\n",
    "\n",
    "n_neurons_per_group = 8\n",
    "\n",
    "high_noise_neuron_ind = np.arange(n_neurons_per_group)\n",
    "medium_noise_neuron_ind = np.arange(n_neurons_per_group, 2 * n_neurons_per_group)\n",
    "low_noise_neuron_ind = np.arange(2*n_neurons_per_group, 3 * n_neurons_per_group)\n",
    "no_noise_neuron_ind = np.arange(3 * n_neurons_per_group, 4* n_neurons_per_group)\n",
    "\n",
    "neuron_type_indices_in_a_list = [\n",
    "    high_noise_neuron_ind,\n",
    "    medium_noise_neuron_ind,\n",
    "    low_noise_neuron_ind,\n",
    "    no_noise_neuron_ind\n",
    "]\n",
    "\n",
    "N_TYPES_OF_NEURONS = len(neuron_type_indices_in_a_list)\n",
    "\n",
    "\n",
    "percent_of_count = np.ones(n_neurons)[:, np.newaxis]\n",
    "\n",
    "print(f'set up the variances in a list:')\n",
    "\n",
    "percent_of_count[high_noise_neuron_ind] =  1\n",
    "percent_of_count[medium_noise_neuron_ind] = 0.5\n",
    "percent_of_count[low_noise_neuron_ind] = 0.25\n",
    "percent_of_count[no_noise_neuron_ind] = 0\n",
    "\n",
    "print(f'we therefore know the number of neurons to be {n_neurons}')\n",
    "print(percent_of_count)"
   ]
  },
  {
   "cell_type": "code",
   "execution_count": null,
   "metadata": {
    "ExecuteTime": {
     "end_time": "2021-04-26T16:31:48.305013Z",
     "start_time": "2021-04-26T16:31:48.302214Z"
    }
   },
   "outputs": [],
   "source": []
  },
  {
   "cell_type": "code",
   "execution_count": 3,
   "metadata": {
    "ExecuteTime": {
     "end_time": "2021-04-28T17:44:32.325612Z",
     "start_time": "2021-04-28T17:44:32.320330Z"
    }
   },
   "outputs": [
    {
     "name": "stdout",
     "output_type": "stream",
     "text": [
      "we have experimental conditions ['neurons with three types of noises']\n"
     ]
    }
   ],
   "source": [
    "\n",
    "#for comparision\n",
    "exp_conds = ['neurons with three types of noises']\n",
    "print(f'we have experimental conditions {exp_conds}')\n",
    "\n",
    "#setting clda parameters \n",
    "##learner: collects paird data at batch_sizes\n",
    "RHO = 0.5\n",
    "batch_size = 100\n",
    "\n",
    "\n",
    "#assistor set up assist level\n",
    "assist_level = (0.05, 0.0)\n",
    "\n",
    "#learner and updater: actualy set up rho\n",
    "UPDATER_BATCH_TIME = 1\n",
    "UPDATER_HALF_LIFE = np.log(RHO)  * UPDATER_BATCH_TIME / np.log(0.5)\n"
   ]
  },
  {
   "cell_type": "code",
   "execution_count": 4,
   "metadata": {
    "ExecuteTime": {
     "end_time": "2021-04-28T17:44:32.343611Z",
     "start_time": "2021-04-28T17:44:32.328565Z"
    }
   },
   "outputs": [],
   "source": [
    "# CHANGE: game mechanics: generate task params\n",
    "N_TARGETS = 8\n",
    "N_TRIALS = 80\n",
    "\n",
    "NUM_EXP = len(exp_conds) # how many experiments we are running. "
   ]
  },
  {
   "cell_type": "markdown",
   "metadata": {},
   "source": [
    "# Config the experiments\n",
    "\n",
    "this section largely copyied and pasted from   \n",
    "bmi3d-sijia(branch)-bulti_in_experiemnts\n",
    "https://github.com/sijia66/brain-python-interface/blob/master/built_in_tasks/sim_task_KF.py"
   ]
  },
  {
   "cell_type": "markdown",
   "metadata": {},
   "source": [
    "## load dependant libraries"
   ]
  },
  {
   "cell_type": "code",
   "execution_count": 5,
   "metadata": {
    "ExecuteTime": {
     "end_time": "2021-04-28T17:44:32.356769Z",
     "start_time": "2021-04-28T17:44:32.351905Z"
    }
   },
   "outputs": [],
   "source": [
    "GLOBAL_FIGURE_VERTICAL_SIZE = 4"
   ]
  },
  {
   "cell_type": "code",
   "execution_count": 6,
   "metadata": {
    "ExecuteTime": {
     "end_time": "2021-04-28T17:44:33.265534Z",
     "start_time": "2021-04-28T17:44:32.358083Z"
    }
   },
   "outputs": [
    {
     "name": "stderr",
     "output_type": "stream",
     "text": [
      "/home/sijia-aw/BMi3D_my/lab_bmi3d/riglib/blackrock/cerelink.py:13: UserWarning: Unable to import cerebus library. Check if is installed if using the Blackrock NeuroPort system\n",
      "  warnings.warn(\"Unable to import cerebus library. Check if is installed if using the Blackrock NeuroPort system\")\n"
     ]
    }
   ],
   "source": [
    "# import libraries\n",
    "# make sure these directories are in the python path., \n",
    "from bmimultitasks import SimBMIControlMulti, SimBMICosEncKFDec, BMIControlMultiNoWindow\n",
    "from features import SaveHDF\n",
    "from features.simulation_features import get_enc_setup, SimKFDecoderRandom,SimIntentionLQRController, SimClockTick\n",
    "from features.simulation_features import SimHDF, SimTime\n",
    "\n",
    "from riglib import experiment\n",
    "\n",
    "from riglib.stereo_opengl.window import FakeWindow\n",
    "from riglib.bmi import train\n",
    "\n",
    "\n",
    "from behaviour_metrics import calc_inter_wait_times, filter_state, sort_trials\n",
    "\n",
    "from weights import calc_p_values_for_spike_batches_use_intended_kin\n",
    "from weights import calc_single_batch_p_values_by_fitting_kinematics_to_spike_counts\n",
    "import weights\n",
    "\n",
    "import time\n",
    "import copy\n",
    "import numpy as np\n",
    "import matplotlib.pyplot as plt\n",
    "import sympy as sp\n",
    "import itertools #for identical sequences\n",
    "\n",
    "np.set_printoptions(precision=2, suppress=True)\n"
   ]
  },
  {
   "cell_type": "markdown",
   "metadata": {},
   "source": [
    "##  behaviour and task setup"
   ]
  },
  {
   "cell_type": "code",
   "execution_count": 7,
   "metadata": {
    "ExecuteTime": {
     "end_time": "2021-04-28T17:44:33.269311Z",
     "start_time": "2021-04-28T17:44:33.266604Z"
    }
   },
   "outputs": [],
   "source": [
    "seq = SimBMIControlMulti.sim_target_seq_generator_multi(\n",
    "N_TARGETS, N_TRIALS)\n",
    "\n",
    "#create a second version of the tasks\n",
    "seqs = itertools.tee(seq, NUM_EXP + 1)\n",
    "target_seq = list(seqs[NUM_EXP])\n",
    "\n",
    "seqs = seqs[:NUM_EXP]\n",
    "\n",
    "\n",
    "SAVE_HDF = False\n",
    "SAVE_SIM_HDF = True #this makes the task data available as exp.task_data_hist\n",
    "DEBUG_FEATURE = False\n",
    "\n",
    "\n",
    "#base_class = SimBMIControlMulti\n",
    "base_class = BMIControlMultiNoWindow\n",
    "\n",
    "#for adding experimental features such as encoder, decoder\n",
    "feats = []"
   ]
  },
  {
   "cell_type": "markdown",
   "metadata": {},
   "source": [
    "## encoder\n",
    "\n",
    "the cosine tuned encoder uses a poisson process, right\n",
    "https://en.wikipedia.org/wiki/Poisson_distribution\n",
    "so if the lambda is 1, then it's very likely "
   ]
  },
  {
   "cell_type": "code",
   "execution_count": 8,
   "metadata": {
    "ExecuteTime": {
     "end_time": "2021-04-28T17:44:33.283577Z",
     "start_time": "2021-04-28T17:44:33.270100Z"
    }
   },
   "outputs": [
    {
     "name": "stdout",
     "output_type": "stream",
     "text": [
      "features.simulation_features: get_enc_setup has a tuning_level of 1 \n",
      "\n",
      "[[   0.    0.    0.  100.    0.    0.    0.]\n",
      " [   0.    0.    0.    0.    0.  100.    0.]\n",
      " [   0.    0.    0. -100.    0.    0.    0.]\n",
      " [   0.    0.    0.   -0.    0. -100.    0.]\n",
      " [   0.    0.    0.  100.    0.    0.    0.]\n",
      " [   0.    0.    0.    0.    0.  100.    0.]\n",
      " [   0.    0.    0. -100.    0.    0.    0.]\n",
      " [   0.    0.    0.   -0.    0. -100.    0.]\n",
      " [   0.    0.    0.  100.    0.    0.    0.]\n",
      " [   0.    0.    0.    0.    0.  100.    0.]\n",
      " [   0.    0.    0. -100.    0.    0.    0.]\n",
      " [   0.    0.    0.   -0.    0. -100.    0.]\n",
      " [   0.    0.    0.  100.    0.    0.    0.]\n",
      " [   0.    0.    0.    0.    0.  100.    0.]\n",
      " [   0.    0.    0. -100.    0.    0.    0.]\n",
      " [   0.    0.    0.   -0.    0. -100.    0.]\n",
      " [   0.    0.    0.  100.    0.    0.    0.]\n",
      " [   0.    0.    0.    0.    0.  100.    0.]\n",
      " [   0.    0.    0. -100.    0.    0.    0.]\n",
      " [   0.    0.    0.   -0.    0. -100.    0.]\n",
      " [   0.    0.    0.  100.    0.    0.    0.]\n",
      " [   0.    0.    0.    0.    0.  100.    0.]\n",
      " [   0.    0.    0. -100.    0.    0.    0.]\n",
      " [   0.    0.    0.   -0.    0. -100.    0.]\n",
      " [   0.    0.    0.  100.    0.    0.    0.]\n",
      " [   0.    0.    0.    0.    0.  100.    0.]\n",
      " [   0.    0.    0. -100.    0.    0.    0.]\n",
      " [   0.    0.    0.   -0.    0. -100.    0.]\n",
      " [   0.    0.    0.  100.    0.    0.    0.]\n",
      " [   0.    0.    0.    0.    0.  100.    0.]\n",
      " [   0.    0.    0. -100.    0.    0.    0.]\n",
      " [   0.    0.    0.   -0.    0. -100.    0.]]\n",
      "__main__: selected SimCosineTunedEnc\n",
      "\n"
     ]
    }
   ],
   "source": [
    "from features.simulation_features import get_enc_setup\n",
    "\n",
    "ENCODER_TYPE = 'cosine_tuned_encoder_with_poisson_noise'\n",
    "\n",
    "#neuron set up : 'std (20 neurons)' or 'toy (4 neurons)' \n",
    "N_NEURONS, N_STATES, sim_C = get_enc_setup(sim_mode = 'rot_90', n_neurons= n_neurons)\n",
    "\n",
    "#multiply our the neurons\n",
    "sim_C = sim_C * mean_firing_rate\n",
    "\n",
    "#im_C = sim_C * np.tile(percent_of_count,(1, N_STATES))\n",
    "print(sim_C)\n",
    "\n",
    "\n",
    "#set up intention feedbackcontroller\n",
    "#this ideally set before the encoder\n",
    "feats.append(SimIntentionLQRController)\n",
    "\n",
    "#set up the encoder\n",
    "from features.simulation_features import SimCosineTunedEncWithNoise\n",
    "feats.append(SimCosineTunedEncWithNoise)\n",
    "print(f'{__name__}: selected SimCosineTunedEnc\\n')"
   ]
  },
  {
   "cell_type": "markdown",
   "metadata": {},
   "source": [
    "## decoder setup"
   ]
  },
  {
   "cell_type": "code",
   "execution_count": 9,
   "metadata": {
    "ExecuteTime": {
     "end_time": "2021-04-28T17:44:33.296443Z",
     "start_time": "2021-04-28T17:44:33.284515Z"
    }
   },
   "outputs": [
    {
     "name": "stdout",
     "output_type": "stream",
     "text": [
      "__main__: set base class \n",
      "__main__: selected SimKFDecoderRandom \n",
      "\n"
     ]
    }
   ],
   "source": [
    "#clda on random \n",
    "DECODER_MODE = 'random' # random \n",
    "\n",
    "   #take care the decoder setup\n",
    "if DECODER_MODE == 'random':\n",
    "    feats.append(SimKFDecoderRandom)\n",
    "    print(f'{__name__}: set base class ')\n",
    "    print(f'{__name__}: selected SimKFDecoderRandom \\n')\n",
    "else: #defaul to a cosEnc and a pre-traind KF DEC\n",
    "    from features.simulation_features import SimKFDecoderSup\n",
    "    feats.append(SimKFDecoderSup)\n",
    "    print(f'{__name__}: set decoder to SimKFDecoderSup\\n')"
   ]
  },
  {
   "cell_type": "markdown",
   "metadata": {},
   "source": [
    "##  clda: learner and updater"
   ]
  },
  {
   "cell_type": "code",
   "execution_count": 10,
   "metadata": {
    "ExecuteTime": {
     "end_time": "2021-04-28T17:44:33.306323Z",
     "start_time": "2021-04-28T17:44:33.297364Z"
    }
   },
   "outputs": [],
   "source": [
    "\n",
    "\n",
    "LEARNER_TYPE = 'feedback' # to dumb or not dumb it is a question 'feedback'\n",
    "UPDATER_TYPE = 'smooth_batch' #none or \"smooth_batch\"\n",
    "\n",
    "\n",
    "#you know what? \n",
    "#learner only collects firing rates labeled with estimated estimates\n",
    "#we would also need to use the labeled data\n",
    "#now, we can set up a dumb/or not-dumb learner\n",
    "if LEARNER_TYPE == 'feedback':\n",
    "    from features.simulation_features import SimFeedbackLearner\n",
    "    feats.append(SimFeedbackLearner)\n",
    "else:\n",
    "    from features.simulation_features import SimDumbLearner\n",
    "    feats.append(SimDumbLearner)\n",
    "\n",
    "#to update the decoder.\n",
    "if UPDATER_TYPE == 'smooth_batch':\n",
    "    from features.simulation_features import SimSmoothBatch\n",
    "    feats.append(SimSmoothBatch)\n",
    "else: #defaut to none \n",
    "    print(f'{__name__}: need to specify an updater')\n",
    "    \n",
    "\n"
   ]
  },
  {
   "cell_type": "markdown",
   "metadata": {},
   "source": [
    "## feature selector setup"
   ]
  },
  {
   "cell_type": "code",
   "execution_count": 11,
   "metadata": {
    "ExecuteTime": {
     "end_time": "2021-04-28T17:44:33.388527Z",
     "start_time": "2021-04-28T17:44:33.307199Z"
    }
   },
   "outputs": [
    {
     "name": "stdout",
     "output_type": "stream",
     "text": [
      "kwargs will be updated in a later time\n",
      "the feature adaptation project is tracking dict_keys(['transform_x_flag', 'transform_y_flag', 'feature_x_transformer', 'feature_y_transformer', 'n_starting_feats', 'n_states']) \n"
     ]
    }
   ],
   "source": [
    "from feature_selection_feature import FeatureTransformer, TransformerBatchToFit\n",
    "from feature_selection_feature import FeatureSelector, LassoFeatureSelector, SNRFeatureSelector\n",
    "\n",
    "\n",
    "#pass the real time limit on clock\n",
    "feats.append(SNRFeatureSelector)\n",
    "\n",
    "feature_x_meth_arg = [\n",
    "    ('transpose', None ),\n",
    "]\n",
    "\n",
    "kwargs_feature = dict()\n",
    "kwargs_feature = {\n",
    "    'transform_x_flag':True,\n",
    "    'transform_y_flag':True,\n",
    "    'feature_x_transformer':FeatureTransformer(feature_x_meth_arg),\n",
    "    'feature_y_transformer':TransformerBatchToFit(),\n",
    "    'n_starting_feats': n_neurons,\n",
    "    'n_states':  7\n",
    "}\n",
    "\n",
    "print('kwargs will be updated in a later time')\n",
    "print(f'the feature adaptation project is tracking {kwargs_feature.keys()} ')"
   ]
  },
  {
   "cell_type": "markdown",
   "metadata": {},
   "source": [
    "## assistor setup"
   ]
  },
  {
   "cell_type": "markdown",
   "metadata": {},
   "source": [
    "## (Check) config the experiment"
   ]
  },
  {
   "cell_type": "code",
   "execution_count": 12,
   "metadata": {
    "ExecuteTime": {
     "end_time": "2021-04-28T17:44:33.396257Z",
     "start_time": "2021-04-28T17:44:33.389372Z"
    }
   },
   "outputs": [
    {
     "data": {
      "text/plain": [
       "[{'assist_level': (0.05, 0.0),\n",
       "  'sim_C': array([[   0.,    0.,    0.,  100.,    0.,    0.,    0.],\n",
       "         [   0.,    0.,    0.,    0.,    0.,  100.,    0.],\n",
       "         [   0.,    0.,    0., -100.,    0.,    0.,    0.],\n",
       "         [   0.,    0.,    0.,   -0.,    0., -100.,    0.],\n",
       "         [   0.,    0.,    0.,  100.,    0.,    0.,    0.],\n",
       "         [   0.,    0.,    0.,    0.,    0.,  100.,    0.],\n",
       "         [   0.,    0.,    0., -100.,    0.,    0.,    0.],\n",
       "         [   0.,    0.,    0.,   -0.,    0., -100.,    0.],\n",
       "         [   0.,    0.,    0.,  100.,    0.,    0.,    0.],\n",
       "         [   0.,    0.,    0.,    0.,    0.,  100.,    0.],\n",
       "         [   0.,    0.,    0., -100.,    0.,    0.,    0.],\n",
       "         [   0.,    0.,    0.,   -0.,    0., -100.,    0.],\n",
       "         [   0.,    0.,    0.,  100.,    0.,    0.,    0.],\n",
       "         [   0.,    0.,    0.,    0.,    0.,  100.,    0.],\n",
       "         [   0.,    0.,    0., -100.,    0.,    0.,    0.],\n",
       "         [   0.,    0.,    0.,   -0.,    0., -100.,    0.],\n",
       "         [   0.,    0.,    0.,  100.,    0.,    0.,    0.],\n",
       "         [   0.,    0.,    0.,    0.,    0.,  100.,    0.],\n",
       "         [   0.,    0.,    0., -100.,    0.,    0.,    0.],\n",
       "         [   0.,    0.,    0.,   -0.,    0., -100.,    0.],\n",
       "         [   0.,    0.,    0.,  100.,    0.,    0.,    0.],\n",
       "         [   0.,    0.,    0.,    0.,    0.,  100.,    0.],\n",
       "         [   0.,    0.,    0., -100.,    0.,    0.,    0.],\n",
       "         [   0.,    0.,    0.,   -0.,    0., -100.,    0.],\n",
       "         [   0.,    0.,    0.,  100.,    0.,    0.,    0.],\n",
       "         [   0.,    0.,    0.,    0.,    0.,  100.,    0.],\n",
       "         [   0.,    0.,    0., -100.,    0.,    0.,    0.],\n",
       "         [   0.,    0.,    0.,   -0.,    0., -100.,    0.],\n",
       "         [   0.,    0.,    0.,  100.,    0.,    0.,    0.],\n",
       "         [   0.,    0.,    0.,    0.,    0.,  100.,    0.],\n",
       "         [   0.,    0.,    0., -100.,    0.,    0.,    0.],\n",
       "         [   0.,    0.,    0.,   -0.,    0., -100.,    0.]]),\n",
       "  'noise_mode': 'fixed_gaussian',\n",
       "  'percent_noise': array([[1.  ],\n",
       "         [1.  ],\n",
       "         [1.  ],\n",
       "         [1.  ],\n",
       "         [1.  ],\n",
       "         [1.  ],\n",
       "         [1.  ],\n",
       "         [1.  ],\n",
       "         [0.5 ],\n",
       "         [0.5 ],\n",
       "         [0.5 ],\n",
       "         [0.5 ],\n",
       "         [0.5 ],\n",
       "         [0.5 ],\n",
       "         [0.5 ],\n",
       "         [0.5 ],\n",
       "         [0.25],\n",
       "         [0.25],\n",
       "         [0.25],\n",
       "         [0.25],\n",
       "         [0.25],\n",
       "         [0.25],\n",
       "         [0.25],\n",
       "         [0.25],\n",
       "         [0.  ],\n",
       "         [0.  ],\n",
       "         [0.  ],\n",
       "         [0.  ],\n",
       "         [0.  ],\n",
       "         [0.  ],\n",
       "         [0.  ],\n",
       "         [0.  ]]),\n",
       "  'fixed_noise_level': 50,\n",
       "  'batch_size': 100,\n",
       "  'batch_time': 1,\n",
       "  'half_life': 1.0,\n",
       "  'transform_x_flag': True,\n",
       "  'transform_y_flag': True,\n",
       "  'feature_x_transformer': <feature_selection_feature.FeatureTransformer at 0x7fdbf66ab2e0>,\n",
       "  'feature_y_transformer': <feature_selection_feature.TransformerBatchToFit at 0x7fdbf66ab3d0>,\n",
       "  'n_starting_feats': 32,\n",
       "  'n_states': 7}]"
      ]
     },
     "execution_count": 12,
     "metadata": {},
     "output_type": "execute_result"
    }
   ],
   "source": [
    "if DEBUG_FEATURE: \n",
    "    from features.simulation_features import DebugFeature\n",
    "    feats.append(DebugFeature)\n",
    "    \n",
    "if SAVE_HDF: feats.append(SaveHDF)\n",
    "if SAVE_SIM_HDF: feats.append(SimHDF)\n",
    "    \n",
    "    \n",
    "#pass the real time limit on clock\n",
    "feats.append(SimClockTick)\n",
    "feats.append(SimTime)\n",
    "\n",
    "\n",
    "kwargs_exps = list()\n",
    "\n",
    "for i in range(NUM_EXP):\n",
    "    d = dict()\n",
    "    \n",
    "    d['assist_level'] = assist_level\n",
    "    d['sim_C'] = sim_C\n",
    "    \n",
    "    d['noise_mode'] = noise_mode\n",
    "    d['percent_noise'] = percent_of_count\n",
    "    d['fixed_noise_level'] = fixed_noise_level\n",
    "    \n",
    "    d['batch_size'] = batch_size\n",
    "    \n",
    "    d['batch_time'] = UPDATER_BATCH_TIME\n",
    "    d['half_life'] = UPDATER_HALF_LIFE\n",
    "    \n",
    "    d.update(kwargs_feature)\n",
    "    \n",
    "    kwargs_exps.append(d)\n",
    "\n",
    "\n",
    "kwargs_exps"
   ]
  },
  {
   "cell_type": "markdown",
   "metadata": {},
   "source": [
    "## make and initalize experiment instances"
   ]
  },
  {
   "cell_type": "code",
   "execution_count": 13,
   "metadata": {
    "ExecuteTime": {
     "end_time": "2021-04-28T17:44:33.466542Z",
     "start_time": "2021-04-28T17:44:33.397128Z"
    }
   },
   "outputs": [
    {
     "name": "stdout",
     "output_type": "stream",
     "text": [
      "metaclass constructor\n",
      "(<class 'features.simulation_features.SimIntentionLQRController'>, <class 'features.simulation_features.SimCosineTunedEncWithNoise'>, <class 'features.simulation_features.SimKFDecoderRandom'>, <class 'features.simulation_features.SimFeedbackLearner'>, <class 'features.simulation_features.SimSmoothBatch'>, <class 'feature_selection_feature.SNRFeatureSelector'>, <class 'features.simulation_features.SimHDF'>, <class 'features.simulation_features.SimClockTick'>, <class 'features.simulation_features.SimTime'>, <class 'bmimultitasks.BMIControlMultiNoWindow'>)\n",
      "[<class 'features.simulation_features.SimIntentionLQRController'>, <class 'features.simulation_features.SimCosineTunedEncWithNoise'>, <class 'features.simulation_features.SimKFDecoderRandom'>, <class 'features.simulation_features.SimFeedbackLearner'>, <class 'features.simulation_features.SimSmoothBatch'>, <class 'feature_selection_feature.SNRFeatureSelector'>, <class 'features.simulation_features.SimHDF'>, <class 'features.simulation_features.SimClockTick'>, <class 'features.simulation_features.SimTime'>]\n",
      "\n",
      "features.simulation_features.SimIntentionLQRController: LQRController used \n",
      "\n",
      "\n",
      " features.simulation_features.SimFeedbackLearner: start to create a sim leaner with a batchsize of 100\n",
      "features.simulation_features.SimSmoothBatch: rho in this simulation is  0.5\n",
      "\n",
      "finished executing Experiment.__init__\n",
      "feature init: [array([ True,  True,  True,  True,  True,  True,  True,  True,  True,\n",
      "        True,  True,  True,  True,  True,  True,  True,  True,  True,\n",
      "        True,  True,  True,  True,  True,  True,  True,  True,  True,\n",
      "        True,  True,  True,  True,  True])]\n",
      "<class 'features.simulation_features.SimCosineTunedEncWithNoise'>: added CosineTunedEncWithNoise \n",
      "\n",
      " using encoder with additional noises  State space: ['hand_px', 'hand_py', 'hand_pz', 'hand_vx', 'hand_vy', 'hand_vz', 'offset'] \n",
      "\n",
      "<bound method GenericCosEncWithNoise._gen_fixed_gaussian_noise of <riglib.bmi.sim_neurons.GenericCosEncWithNoise object at 0x7fdbf3f014c0>>\n",
      "neural encoder init function  <BMIControlMultiNoWindow(Thread-4, initial)>\n",
      "features.simulation_features: added tracking of K matrix\n",
      "<bmimultitasks.SimpleEndpointAssister object at 0x7fdbf3f018e0>\n",
      "features.simulation_features: batch size is 100\n",
      "Reset states for learner: \n",
      "[]\n",
      "Done states for learner: \n",
      "[]\n",
      "\n",
      "features.simulation_features.SimFeedbackLearner: flip the self.learn_flag to true\n",
      "features.simulation_features.SimFeedbackLearner: succussfully created a feedback controller learner\n",
      "\n",
      "\n",
      "SimSmoothBatch: created an updater with a batch time of 1 and a half_life of 1.0 \n",
      "\n"
     ]
    }
   ],
   "source": [
    "#seed the experiment\n",
    "np.random.seed(0)\n",
    "\n",
    "#spawn the task\n",
    "Exp = experiment.make(base_class, feats=feats)\n",
    "\n",
    "exps = list()#create a list of experiment\n",
    "\n",
    "for i,s in enumerate(seqs):\n",
    "    e = Exp(s, **kwargs_exps[i])\n",
    "    exps.append(e)\n",
    "\n",
    "#run the ini\n",
    "for e in exps: e.init()"
   ]
  },
  {
   "cell_type": "markdown",
   "metadata": {},
   "source": [
    "# Pre-experiment check: check the Kalman filter before training"
   ]
  },
  {
   "cell_type": "code",
   "execution_count": 14,
   "metadata": {
    "ExecuteTime": {
     "end_time": "2021-04-28T17:44:33.695787Z",
     "start_time": "2021-04-28T17:44:33.467391Z"
    }
   },
   "outputs": [
    {
     "name": "stdout",
     "output_type": "stream",
     "text": [
      "we replace the encoder using the weights\n",
      "assume, they are all randomly initialized get the first decoder\n",
      "get a handle to the first decoder\n",
      "[[ 0.    0.    0.    2.24  0.   -0.98  0.95]\n",
      " [ 0.    0.    0.    0.14  0.    0.76  0.12]\n",
      " [ 0.    0.    0.   -0.21  0.   -0.85 -2.55]\n",
      " [ 0.    0.    0.    2.27  0.    0.05 -0.19]\n",
      " [ 0.    0.    0.    0.38  0.   -1.98 -0.35]\n",
      " [ 0.    0.    0.   -0.39  0.   -1.05 -1.42]\n",
      " [ 0.    0.    0.   -0.44  0.    0.78 -1.61]\n",
      " [ 0.    0.    0.   -0.51  0.   -0.03  0.43]\n",
      " [ 0.    0.    0.   -0.36  0.   -0.36 -0.81]\n",
      " [ 0.    0.    0.   -1.63  0.   -0.91  0.05]\n",
      " [ 0.    0.    0.   -1.23  0.   -0.68 -0.87]\n",
      " [ 0.    0.    0.   -1.17  0.    0.47 -1.54]\n",
      " [ 0.    0.    0.   -0.18  0.    1.05 -0.4 ]\n",
      " [ 0.    0.    0.    0.36  0.    0.01  1.79]\n",
      " [ 0.    0.    0.   -1.35  0.    0.97 -1.17]\n",
      " [ 0.    0.    0.    1.92  0.    1.87  0.91]\n",
      " [ 0.    0.    0.    0.8   0.   -0.16  0.61]\n",
      " [ 0.    0.    0.    0.3   0.   -0.69 -0.15]\n",
      " [ 0.    0.    0.    0.41  0.    0.54 -0.67]\n",
      " [ 0.    0.    0.    0.58  0.    0.4  -1.09]\n",
      " [ 0.    0.    0.    0.64  0.    0.94 -0.91]\n",
      " [ 0.    0.    0.   -0.07  0.   -0.74 -0.83]\n",
      " [ 0.    0.    0.   -1.08  0.   -0.44 -0.5 ]\n",
      " [ 0.    0.    0.   -1.23  0.   -1.   -1.54]\n",
      " [ 0.    0.    0.    0.32  0.   -0.65 -1.03]\n",
      " [ 0.    0.    0.   -0.46  0.   -0.35 -1.37]\n",
      " [ 0.    0.    0.   -1.6   0.    0.05 -0.74]\n",
      " [ 0.    0.    0.   -0.04  0.    0.52 -0.17]\n",
      " [ 0.    0.    0.    1.34  0.   -0.24  1.1 ]\n",
      " [ 0.    0.    0.   -0.02  0.    0.28 -0.1 ]\n",
      " [ 0.    0.    0.   -0.47  0.   -0.41 -0.02]\n",
      " [ 0.    0.    0.   -0.96  0.   -0.46  0.48]]\n",
      "we check the new decoder C matrix:\n"
     ]
    },
    {
     "data": {
      "image/png": "[encoded data removed]",
      "text/plain": [
       "<Figure size 288x288 with 1 Axes>"
      ]
     },
     "metadata": {
      "needs_background": "light"
     },
     "output_type": "display_data"
    }
   ],
   "source": [
    "print('we replace the encoder using the weights')\n",
    "print('assume, they are all randomly initialized get the first decoder')\n",
    "print('get a handle to the first decoder')\n",
    "first_decoder = exps[0].decoder\n",
    "target_C = first_decoder.filt.C\n",
    "    \n",
    "#replace the decoder\n",
    "for i,e in enumerate(exps):\n",
    "    print(target_C)\n",
    "    weights.change_target_kalman_filter_with_a_C_mat(e.decoder.filt, target_C, debug=False)\n",
    "    \n",
    "print('we check the new decoder C matrix:')\n",
    "\n",
    "decoder_c_figure, axs = plt.subplots(nrows=1, \n",
    "                               ncols=NUM_EXP, figsize = [GLOBAL_FIGURE_VERTICAL_SIZE, GLOBAL_FIGURE_VERTICAL_SIZE],squeeze = False)\n",
    "decoder_c_figure.suptitle('Decoder C matrix ')\n",
    "\n",
    "for i,e in enumerate(exps):\n",
    "    e.decoder.plot_C(ax = axs[0,i])\n",
    "    axs[0,i].set_title(exp_conds[i])"
   ]
  },
  {
   "cell_type": "markdown",
   "metadata": {},
   "source": [
    "# Experiment run: assemble into a complete loop"
   ]
  },
  {
   "cell_type": "markdown",
   "metadata": {},
   "source": [
    "##  define the function"
   ]
  },
  {
   "cell_type": "code",
   "execution_count": 15,
   "metadata": {
    "ExecuteTime": {
     "end_time": "2021-04-28T17:44:33.707453Z",
     "start_time": "2021-04-28T17:44:33.696768Z"
    },
    "scrolled": true
   },
   "outputs": [],
   "source": [
    "#make this into a loop\n",
    "\n",
    "\n",
    "\n",
    "def run_exp_loop(exp,  **kwargs):\n",
    "        # riglib.experiment: line 597 - 601\n",
    "    #exp.next_trial = next(exp.gen)\n",
    "    # -+exp._parse_next_trial()np.arraynp.array\n",
    "\n",
    "\n",
    "    # we need to set the initial state\n",
    "    # per fsm.run:  line 138\n",
    "\n",
    "\n",
    "    # Initialize the FSM before the loop\n",
    "    exp.set_state(exp.state)\n",
    "    \n",
    "    finished_trials = exp.calc_state_occurrences('wait')\n",
    "    print(f'finished: {finished_trials}')\n",
    "\n",
    "\n",
    "    while exp.state is not None:\n",
    "\n",
    "        # exp.fsm_tick()\n",
    "\n",
    "        ### Execute commands#####\n",
    "        exp.exec_state_specific_actions(exp.state)\n",
    "\n",
    "        ###run the bmi loop #####\n",
    "        # _cycle\n",
    "\n",
    "        # bmi feature extraction, eh\n",
    "        #riglib.bmi: 1202\n",
    "        feature_data = exp.get_features()\n",
    "\n",
    "        # Determine the target_state and save to file\n",
    "        current_assist_level = exp.get_current_assist_level()\n",
    "        target_state = exp.get_target_BMI_state(exp.decoder.states)\n",
    "\n",
    "        # Determine the assistive control inputs to the Decoder\n",
    "        #update assistive control level\n",
    "        exp.update_level()\n",
    "        if np.any(current_assist_level) > 0:\n",
    "            current_state = exp.get_current_state()\n",
    "\n",
    "            if target_state.shape[1] > 1:\n",
    "                assist_kwargs = exp.assister(current_state, \n",
    "                                             target_state[:,0].reshape(-1,1), \n",
    "                                             current_assist_level, mode= exp.state)\n",
    "            else:\n",
    "                assist_kwargs = exp.assister(current_state, \n",
    "                                              target_state, \n",
    "                                              current_assist_level, \n",
    "                                              mode= exp.state)\n",
    "\n",
    "            kwargs.update(assist_kwargs)\n",
    "            \n",
    "        \n",
    "\n",
    "        # decode the new features\n",
    "        # riglib.bmi.bmiloop: line 1245\n",
    "        neural_features = feature_data[exp.extractor.feature_type]\n",
    "        \n",
    "        \n",
    "\n",
    "        # call decoder.\n",
    "        #tmp = exp.call_decoder(neural_features, target_state, **kwargs)\n",
    "        neural_obs = neural_features\n",
    "        learn_flag = exp.learn_flag\n",
    "        task_state = exp.state\n",
    "\n",
    "        n_units, n_obs = neural_obs.shape\n",
    "        # If the target is specified as a 1D position, tile to match\n",
    "        # the number of dimensions as the neural features\n",
    "        if np.ndim(target_state) == 1 or (target_state.shape[1] == 1 and n_obs > 1):\n",
    "            target_state = np.tile(target_state, [1, n_obs])\n",
    "\n",
    "        decoded_states = np.zeros([exp.bmi_system.decoder.n_states, n_obs])\n",
    "        update_flag = False\n",
    "\n",
    "        for k in range(n_obs):\n",
    "            neural_obs_k = neural_obs[:, k].reshape(-1, 1)\n",
    "            target_state_k = target_state[:, k]\n",
    "\n",
    "            # NOTE: the conditional below is *only* for compatibility with older Carmena\n",
    "            # lab data collected using a different MATLAB-based system. In all python cases,\n",
    "            # the task_state should never contain NaN values.\n",
    "            if np.any(np.isnan(target_state_k)):\n",
    "                task_state = 'no_target'\n",
    "\n",
    "            #################################\n",
    "            # Decode the current observation\n",
    "            #################################\n",
    "            decodable_obs, decode = exp.bmi_system.feature_accumulator(\n",
    "                neural_obs_k)\n",
    "            \n",
    "            if exp.is_feature_change():\n",
    "                decodable_obs = exp.select_features(decodable_obs)\n",
    "            \n",
    "            if decode:  # if a new decodable observation is available from the feature accumulator\n",
    "                prev_state = exp.bmi_system.decoder.get_state()\n",
    "\n",
    "                exp.bmi_system.decoder(decodable_obs, **kwargs)\n",
    "                # Determine whether the current state or previous state should be given to the learner\n",
    "                if exp.bmi_system.learner.input_state_index == 0:\n",
    "                    learner_state = exp.bmi_system.decoder.get_state()\n",
    "                elif exp.bmi_system.learner.input_state_index == -1:\n",
    "                    learner_state = prev_state\n",
    "                else:\n",
    "                    print((\"Not implemented yet: %d\" %\n",
    "                           exp.bmi_system.learner.input_state_index))\n",
    "                    learner_state = prev_state\n",
    "\n",
    "                if learn_flag:\n",
    "                    exp.bmi_system.learner(decodable_obs.copy(), learner_state, target_state_k, exp.bmi_system.decoder.get_state(\n",
    "                    ), task_state, state_order=exp.bmi_system.decoder.ssm.state_order)\n",
    "\n",
    "            decoded_states[:, k] = exp.bmi_system.decoder.get_state()\n",
    "\n",
    "            ############################\n",
    "            # Update decoder parameters\n",
    "            ############################\n",
    "            if exp.bmi_system.learner.is_ready():\n",
    "                batch_data = exp.bmi_system.learner.get_batch()\n",
    "                batch_data['decoder'] = exp.bmi_system.decoder\n",
    "                kwargs.update(batch_data)\n",
    "                exp.bmi_system.updater(**kwargs)\n",
    "                exp.bmi_system.learner.disable()\n",
    "                \n",
    "                #measure features. \n",
    "                if isinstance(exp, FeatureSelector):\n",
    "                    exp.measure_features(batch_data['spike_counts'],\n",
    "                                       batch_data['intended_kin'])\n",
    "                \n",
    "\n",
    "            new_params = None  # by default, no new parameters are available\n",
    "            if exp.bmi_system.has_updater:\n",
    "                new_params = copy.deepcopy(exp.bmi_system.updater.get_result())\n",
    "\n",
    "            # Update the decoder if new parameters are available\n",
    "            if not (new_params is None):\n",
    "                exp.bmi_system.decoder.update_params(\n",
    "                    new_params, **exp.bmi_system.updater.update_kwargs)\n",
    "                new_params['intended_kin'] = batch_data['intended_kin']\n",
    "                new_params['spike_counts_batch'] = batch_data['spike_counts']\n",
    "\n",
    "                exp.bmi_system.learner.enable()\n",
    "                update_flag = True\n",
    "\n",
    "                # Save new parameters to parameter history\n",
    "                exp.bmi_system.param_hist.append(new_params)\n",
    "                \n",
    "                #take care of the decoder selection stuff\n",
    "                if exp.is_decoder_change():\n",
    "                    #only select the first four neurons\n",
    "                    print(f'decoder changes here at {exp.cycle_count}')\n",
    "                    exp.select_decoder_features(exp.decoder, debug = True)\n",
    "                \n",
    "                #record the current feature active set\n",
    "                exp.record_feature_active_set(exp.decoder)\n",
    "\n",
    "\n",
    "        # saved as task data\n",
    "        # return decoded_states, update_flag\n",
    "        tmp = decoded_states\n",
    "        exp.task_data['internal_decoder_state'] = tmp\n",
    "\n",
    "        # reset the plant position\n",
    "        # @riglib.bmi.BMILoop.move_plant  line:1254\n",
    "        exp.plant.drive(exp.decoder)\n",
    "\n",
    "        # check state transitions and run the FSM.\n",
    "        current_state = exp.state\n",
    "\n",
    "        # iterate over the possible events which could move the task out of the current state\n",
    "        for event in exp.status[current_state]:\n",
    "            # if the event has occurred\n",
    "            if exp.test_state_transition_event(event):\n",
    "                # execute commands to end the current state\n",
    "                exp.end_state(current_state)\n",
    "\n",
    "                # trigger the transition for the event\n",
    "                exp.trigger_event(event)\n",
    "\n",
    "                # stop searching for transition events (transition events must be\n",
    "                # mutually exclusive for this FSM to function properly)\n",
    "                break\n",
    "\n",
    "        # sort out the loop params.\n",
    "        # inc cycle count\n",
    "        exp.cycle_count += 1\n",
    "\n",
    "        # save target data as was done in manualControlTasks._cycle\n",
    "        exp.task_data['target'] = exp.target_location.copy()\n",
    "        exp.task_data['target_index'] = exp.target_index\n",
    "\n",
    "        #done in bmi:_cycle after move_plant\n",
    "        exp.task_data['loop_time'] = exp.iter_time()\n",
    "\n",
    "\n",
    "        #fb_controller data\n",
    "        exp.task_data['target_state'] = target_state\n",
    "\n",
    "        #encoder data\n",
    "        #input to this is actually extractor\n",
    "        exp.task_data['ctrl_input'] = np.reshape(exp.extractor.sim_ctrl, (1,-1))\n",
    "\n",
    "        #actually output\n",
    "        exp.task_data['spike_counts'] = feature_data['spike_counts']\n",
    "\n",
    "\n",
    "        #save the decoder_state\n",
    "        #from BMILoop.move_plant\n",
    "        exp.task_data['decoder_state'] = exp.decoder.get_state(shape=(-1,1))\n",
    "        \n",
    "        #save bmi_data\n",
    "        exp.task_data['update_bmi'] = update_flag\n",
    "\n",
    "\n",
    "        # as well as plant data.\n",
    "        plant_data = exp.plant.get_data_to_save()\n",
    "        for key in plant_data:\n",
    "            exp.task_data[key] = plant_data[key]\n",
    "\n",
    "        # clda data handled in the above call.\n",
    "\n",
    "        # save to the list hisory of data.\n",
    "        exp.task_data_hist.append(exp.task_data.copy())\n",
    "        \n",
    "        #print out the trial update whenever wait count changes, alright. \n",
    "        if finished_trials != exp.calc_state_occurrences('wait'):\n",
    "            finished_trials = exp.calc_state_occurrences('wait')\n",
    "            print(f'finished trials :{finished_trials} with a current assist level of {exp.get_current_assist_level()}')\n",
    "\n",
    "\n",
    "    if exp.verbose:\n",
    "        print(\"end of FSM.run, task state is\", exp.state)\n",
    "    \n",
    "    \n"
   ]
  },
  {
   "cell_type": "code",
   "execution_count": 16,
   "metadata": {
    "ExecuteTime": {
     "end_time": "2021-04-28T17:44:33.720159Z",
     "start_time": "2021-04-28T17:44:33.708396Z"
    }
   },
   "outputs": [
    {
     "data": {
      "text/plain": [
       "<riglib.bmi.accumulator.RectWindowSpikeRateEstimator at 0x7fdbf3f01d30>"
      ]
     },
     "execution_count": 16,
     "metadata": {},
     "output_type": "execute_result"
    }
   ],
   "source": [
    "exps[0].bmi_system.feature_accumulator"
   ]
  },
  {
   "cell_type": "code",
   "execution_count": 17,
   "metadata": {
    "ExecuteTime": {
     "end_time": "2021-04-28T17:44:33.730488Z",
     "start_time": "2021-04-28T17:44:33.721130Z"
    }
   },
   "outputs": [
    {
     "data": {
      "text/plain": [
       "<riglib.bmi.kfdecoder.KFDecoder at 0x7fdbf3f01ee0>"
      ]
     },
     "execution_count": 17,
     "metadata": {},
     "output_type": "execute_result"
    }
   ],
   "source": [
    "exps[0].bmi_system.decoder"
   ]
  },
  {
   "cell_type": "markdown",
   "metadata": {},
   "source": [
    "## actually running the experiments"
   ]
  },
  {
   "cell_type": "code",
   "execution_count": 18,
   "metadata": {
    "ExecuteTime": {
     "end_time": "2021-04-28T17:44:40.260706Z",
     "start_time": "2021-04-28T17:44:33.731597Z"
    },
    "scrolled": false
   },
   "outputs": [
    {
     "name": "stdout",
     "output_type": "stream",
     "text": [
      "runseq\n",
      "finished: 1\n",
      "assist_level:  0.05\n"
     ]
    },
    {
     "name": "stderr",
     "output_type": "stream",
     "text": [
      "/home/sijia-aw/BMi3D_my/lab_bmi3d/riglib/bmi/kfdecoder.py:372: FutureWarning: `rcond` parameter will change to the default of machine precision times ``max(M, N)`` where M and N are the input matrix dimensions.\n",
      "To use the future default and silence this warning we advise to pass `rcond=None`, to keep using the old, explicitly pass `rcond=-1`.\n",
      "  C = np.mat(np.linalg.lstsq(X.T, Y.T)[0].T)\n"
     ]
    },
    {
     "name": "stdout",
     "output_type": "stream",
     "text": [
      "(32, 7)\n",
      "(32, 7)\n",
      "(32, 7)\n",
      "(32, 7)\n",
      "finished trials :2 with a current assist level of 0.04801388888888889\n",
      "finished trials :3 with a current assist level of 0.04783055555555556\n",
      "finished trials :4 with a current assist level of 0.047648611111111114\n",
      "determine_change_features: [[16]\n",
      " [20]\n",
      " [24]\n",
      " [26]\n",
      " [28]\n",
      " [29]\n",
      " [30]\n",
      " [31]]\n",
      "decoder changes here at 1799\n",
      "select_decoder_features: _change_one_flag = False\n",
      "(32, 7)\n",
      "(32, 7)\n",
      "active feature set is [False False False False False False False False False False False False\n",
      " False False False False  True False False False  True False False False\n",
      "  True False  True False  True  True  True  True]\n",
      "after trans: (8, 7)\n",
      "after trans: (8, 8)\n",
      "decoder change flag to false\n",
      "(8, 7)\n",
      "(8, 7)\n",
      "(8, 7)\n",
      "(8, 7)\n",
      "(8, 7)\n",
      "(8, 7)\n",
      "finished trials :5 with a current assist level of 0.045748611111111115\n",
      "finished trials :6 with a current assist level of 0.045540277777777784\n",
      "finished trials :7 with a current assist level of 0.045283333333333335\n",
      "determine_change_features: [[3]\n",
      " [5]\n",
      " [6]\n",
      " [7]]\n",
      "determine_change_feature: 6\n",
      "active set before: [False False False False False False False False False False False False\n",
      " False False False False  True False False False  True False False False\n",
      "  True False  True False  True  True  True  True]\n",
      "determine feature change: after set up [False False False  True False  True  True  True False False False False\n",
      " False False False False  True False False False  True False False False\n",
      "  True False  True False  True  True  True  True]\n",
      "decoder changes here at 3599\n",
      "select_decoder_features: _change_one_flag = False\n",
      "(8, 7)\n",
      "(8, 7)\n",
      "active feature set is [False False False  True False  True  True  True False False False False\n",
      " False False False False  True False False False  True False False False\n",
      "  True False  True False  True  True  True  True]\n",
      "after trans: (12, 7)\n",
      "after trans: (12, 12)\n",
      "decoder change flag to false\n",
      "(12, 7)\n",
      "(12, 7)\n",
      "assist_level:  0.045\n",
      "finished trials :8 with a current assist level of 0.044998611111111114\n",
      "finished trials :9 with a current assist level of 0.04475555555555556\n",
      "finished trials :10 with a current assist level of 0.04454166666666667\n",
      "finished trials :11 with a current assist level of 0.044333333333333336\n",
      "(12, 7)\n",
      "(12, 7)\n",
      "finished trials :12 with a current assist level of 0.04410833333333333\n",
      "finished trials :13 with a current assist level of 0.04388333333333334\n",
      "finished trials :14 with a current assist level of 0.043666666666666666\n",
      "finished trials :15 with a current assist level of 0.04344166666666667\n",
      "(12, 7)\n",
      "(12, 7)\n",
      "finished trials :16 with a current assist level of 0.04323333333333333\n",
      "finished trials :17 with a current assist level of 0.043008333333333336\n",
      "finished trials :18 with a current assist level of 0.04278055555555556\n",
      "finished trials :19 with a current assist level of 0.04256666666666667\n",
      "(12, 7)\n",
      "(12, 7)\n",
      "finished trials :20 with a current assist level of 0.04235\n",
      "finished trials :21 with a current assist level of 0.042133333333333335\n",
      "finished trials :22 with a current assist level of 0.04191666666666667\n",
      "finished trials :23 with a current assist level of 0.041697222222222226\n",
      "(12, 7)\n",
      "(12, 7)\n",
      "finished trials :24 with a current assist level of 0.041488888888888895\n",
      "finished trials :25 with a current assist level of 0.041280555555555556\n",
      "finished trials :26 with a current assist level of 0.041072222222222225\n",
      "finished trials :27 with a current assist level of 0.040863888888888894\n",
      "(12, 7)\n",
      "(12, 7)\n",
      "finished trials :28 with a current assist level of 0.040641666666666666\n",
      "finished trials :29 with a current assist level of 0.040433333333333335\n",
      "finished trials :30 with a current assist level of 0.040233333333333336\n",
      "finished trials :31 with a current assist level of 0.040025000000000005\n",
      "(12, 7)\n",
      "(12, 7)\n",
      "assist_level:  0.04\n",
      "finished trials :32 with a current assist level of 0.039822222222222224\n",
      "finished trials :33 with a current assist level of 0.039608333333333336\n",
      "finished trials :34 with a current assist level of 0.039405555555555555\n",
      "finished trials :35 with a current assist level of 0.03919027777777778\n",
      "(12, 7)\n",
      "(12, 7)\n",
      "finished trials :36 with a current assist level of 0.03896666666666667\n",
      "finished trials :37 with a current assist level of 0.03875833333333334\n",
      "finished trials :38 with a current assist level of 0.03855833333333333\n",
      "finished trials :39 with a current assist level of 0.03834166666666667\n",
      "(12, 7)\n",
      "(12, 7)\n",
      "finished trials :40 with a current assist level of 0.038122222222222224\n",
      "finished trials :41 with a current assist level of 0.037906944444444444\n",
      "finished trials :42 with a current assist level of 0.03770555555555556\n",
      "(12, 7)\n",
      "(12, 7)\n",
      "finished trials :43 with a current assist level of 0.03749027777777778\n",
      "finished trials :44 with a current assist level of 0.03727361111111111\n",
      "finished trials :45 with a current assist level of 0.03705833333333333\n",
      "finished trials :46 with a current assist level of 0.03685\n",
      "(12, 7)\n",
      "(12, 7)\n",
      "finished trials :47 with a current assist level of 0.03663333333333334\n",
      "finished trials :48 with a current assist level of 0.03643333333333333\n",
      "finished trials :49 with a current assist level of 0.03621666666666667\n",
      "finished trials :50 with a current assist level of 0.03599722222222222\n",
      "(12, 7)\n",
      "(12, 7)\n",
      "finished trials :51 with a current assist level of 0.03577361111111112\n",
      "finished trials :52 with a current assist level of 0.03557361111111111\n",
      "finished trials :53 with a current assist level of 0.03535\n",
      "finished trials :54 with a current assist level of 0.03514861111111112\n",
      "(12, 7)\n",
      "(12, 7)\n",
      "assist_level:  0.035\n",
      "finished trials :55 with a current assist level of 0.03494027777777778\n",
      "finished trials :56 with a current assist level of 0.034716666666666667\n",
      "finished trials :57 with a current assist level of 0.034508333333333335\n",
      "finished trials :58 with a current assist level of 0.0343\n",
      "(12, 7)\n",
      "(12, 7)\n",
      "finished trials :59 with a current assist level of 0.034100000000000005\n",
      "finished trials :60 with a current assist level of 0.03389166666666667\n",
      "finished trials :61 with a current assist level of 0.03368333333333333\n",
      "finished trials :62 with a current assist level of 0.03346666666666667\n",
      "(12, 7)\n",
      "(12, 7)\n",
      "finished trials :63 with a current assist level of 0.03326666666666667\n",
      "finished trials :64 with a current assist level of 0.033049999999999996\n",
      "finished trials :65 with a current assist level of 0.03284166666666667\n",
      "finished trials :66 with a current assist level of 0.03262222222222222\n",
      "(12, 7)\n",
      "(12, 7)\n",
      "finished trials :67 with a current assist level of 0.03240694444444445\n",
      "finished trials :68 with a current assist level of 0.03219861111111111\n",
      "finished trials :69 with a current assist level of 0.03199027777777778\n",
      "finished trials :70 with a current assist level of 0.03176527777777778\n",
      "(12, 7)\n",
      "(12, 7)\n",
      "finished trials :71 with a current assist level of 0.03157361111111111\n",
      "finished trials :72 with a current assist level of 0.03135694444444445\n",
      "finished trials :73 with a current assist level of 0.03114027777777778\n",
      "finished trials :74 with a current assist level of 0.030931944444444446\n",
      "(12, 7)\n",
      "(12, 7)\n",
      "finished trials :75 with a current assist level of 0.030723611111111115\n",
      "finished trials :76 with a current assist level of 0.030508333333333332\n",
      "finished trials :77 with a current assist level of 0.030281944444444445\n",
      "finished trials :78 with a current assist level of 0.03007361111111111\n",
      "(12, 7)\n",
      "(12, 7)\n",
      "assist_level:  0.03\n",
      "finished trials :79 with a current assist level of 0.029872222222222224\n",
      "finished trials :80 with a current assist level of 0.029663888888888892\n",
      "finished trials :81 with a current assist level of 0.029440277777777777\n",
      "end of FSM.run, task state is None\n",
      "Finished running  neurons with three types of noises\n"
     ]
    }
   ],
   "source": [
    "for i,e in enumerate(exps):\n",
    "    run_exp_loop(e, **kwargs_exps[i])\n",
    "    print(f'Finished running  {exp_conds[i]}')"
   ]
  },
  {
   "cell_type": "markdown",
   "metadata": {
    "ExecuteTime": {
     "end_time": "2021-01-25T01:00:26.027506Z",
     "start_time": "2021-01-25T01:00:26.024320Z"
    }
   },
   "source": [
    "# Postprocessing the data for loading"
   ]
  },
  {
   "cell_type": "code",
   "execution_count": 19,
   "metadata": {
    "ExecuteTime": {
     "end_time": "2021-04-28T17:44:40.265028Z",
     "start_time": "2021-04-28T17:44:40.262827Z"
    }
   },
   "outputs": [
    {
     "name": "stdout",
     "output_type": "stream",
     "text": [
      "80\n"
     ]
    }
   ],
   "source": [
    "for e in  exps: print(e.calc_state_occurrences('reward'))"
   ]
  },
  {
   "cell_type": "markdown",
   "metadata": {},
   "source": [
    "## declare defs and conventions"
   ]
  },
  {
   "cell_type": "code",
   "execution_count": 20,
   "metadata": {
    "ExecuteTime": {
     "end_time": "2021-04-28T17:44:40.278081Z",
     "start_time": "2021-04-28T17:44:40.266275Z"
    }
   },
   "outputs": [],
   "source": [
    "FRAME_RATE = 60\n",
    "INT_WINDOW_TIME = 10 # s for looking at sample raw data\n",
    "\n",
    "# some conventions as we go down the loop\n",
    "X_VEL_STATE_IND = 3\n",
    "Y_VEL_STATE_IND = 5\n",
    "X_POS_STATE_IND = 0\n",
    "Y_POS_STATE_IND = 2\n",
    "\n",
    "state_indices = [X_POS_STATE_IND,\n",
    "                 Y_POS_STATE_IND,\n",
    "                 X_VEL_STATE_IND,\n",
    "                 Y_VEL_STATE_IND]\n",
    "state_names = ['x pos ', 'y pos', 'x vel', 'y vel']\n",
    "\n",
    "\n",
    "INT_WIN_SAMPLES = INT_WINDOW_TIME * FRAME_RATE\n",
    "\n"
   ]
  },
  {
   "cell_type": "markdown",
   "metadata": {},
   "source": [
    "## Refactor out the data"
   ]
  },
  {
   "cell_type": "code",
   "execution_count": 21,
   "metadata": {
    "ExecuteTime": {
     "end_time": "2021-04-28T17:44:40.308083Z",
     "start_time": "2021-04-28T17:44:40.279009Z"
    }
   },
   "outputs": [
    {
     "data": {
      "text/plain": [
       "dtype([('cursor', '<f8', (3,)), ('obs_t', '<f8', (32, 1)), ('KC', '<f8', (7, 7)), ('pred_state_mean', '<f8', (7, 1)), ('post_state_mean', '<f8', (7, 1)), ('pred_state_P', '<f8', (7, 7)), ('post_state_P', '<f8', (7, 7)), ('loop_time', '<f8', (1,)), ('decoder_state', '<f8', (7, 1)), ('internal_decoder_state', '<f8', (7, 1)), ('target_state', '<f8', (7, 1)), ('update_bmi', '<f8', (1,)), ('spike_counts', '<f8', (32, 1)), ('bin_edges', '<f8', (2,)), ('ctrl_input', '<f8', (7,)), ('assist_level', '<f8', (1,)), ('target', '<f8', (3,)), ('target_index', '<i4', (1,))])"
      ]
     },
     "execution_count": 21,
     "metadata": {},
     "output_type": "execute_result"
    }
   ],
   "source": [
    "task_data_hist_np_all = [np.array(e.task_data_hist) for e in exps]\n",
    "len(task_data_hist_np_all)\n",
    "task_data_hist_np_all[0].dtype"
   ]
  },
  {
   "cell_type": "markdown",
   "metadata": {},
   "source": [
    "## Finished time in seconds"
   ]
  },
  {
   "cell_type": "code",
   "execution_count": 22,
   "metadata": {
    "ExecuteTime": {
     "end_time": "2021-04-28T17:44:40.311464Z",
     "start_time": "2021-04-28T17:44:40.308921Z"
    }
   },
   "outputs": [
    {
     "data": {
      "text/plain": [
       "[246]"
      ]
     },
     "execution_count": 22,
     "metadata": {},
     "output_type": "execute_result"
    }
   ],
   "source": [
    "finished_times_in_seconds = [int(len(s)/FRAME_RATE) for s in task_data_hist_np_all]\n",
    "finished_times_in_seconds"
   ]
  },
  {
   "cell_type": "markdown",
   "metadata": {},
   "source": [
    "# Post data analysis"
   ]
  },
  {
   "cell_type": "markdown",
   "metadata": {},
   "source": [
    "## Overall  trial statistics succuss rate)"
   ]
  },
  {
   "cell_type": "code",
   "execution_count": 23,
   "metadata": {
    "ExecuteTime": {
     "end_time": "2021-04-28T17:44:40.320518Z",
     "start_time": "2021-04-28T17:44:40.312344Z"
    }
   },
   "outputs": [],
   "source": [
    "state_logs = [e.state_log for e in exps]\n"
   ]
  },
  {
   "cell_type": "code",
   "execution_count": 24,
   "metadata": {
    "ExecuteTime": {
     "end_time": "2021-04-28T17:44:40.330418Z",
     "start_time": "2021-04-28T17:44:40.321319Z"
    }
   },
   "outputs": [],
   "source": [
    "STATE_CUT_NAME =  'wait'\n",
    "#get the state logs\n",
    "wait_logs = [filter_state(s, STATE_CUT_NAME) for s in state_logs]\n",
    "\n",
    "inter_wait_times = [calc_inter_wait_times(w) for w in wait_logs]\n",
    "#this has both start times "
   ]
  },
  {
   "cell_type": "code",
   "execution_count": 25,
   "metadata": {
    "ExecuteTime": {
     "end_time": "2021-04-28T17:44:40.435918Z",
     "start_time": "2021-04-28T17:44:40.331347Z"
    },
    "scrolled": true
   },
   "outputs": [
    {
     "data": {
      "text/plain": [
       "Text(0, 0.5, 'Trial time (s)')"
      ]
     },
     "execution_count": 25,
     "metadata": {},
     "output_type": "execute_result"
    },
    {
     "data": {
      "image/png": "[encoded data removed]",
      "text/plain": [
       "<Figure size 432x288 with 1 Axes>"
      ]
     },
     "metadata": {
      "needs_background": "light"
     },
     "output_type": "display_data"
    }
   ],
   "source": [
    "for i in inter_wait_times:\n",
    "    plt.scatter(i[:,0], i[:,1])\n",
    "\n",
    "plt.legend(exp_conds)\n",
    "plt.xlabel('Training progression(s)')\n",
    "plt.ylabel('Trial time (s)')"
   ]
  },
  {
   "cell_type": "code",
   "execution_count": 26,
   "metadata": {
    "ExecuteTime": {
     "end_time": "2021-04-28T17:44:40.438485Z",
     "start_time": "2021-04-28T17:44:40.436902Z"
    }
   },
   "outputs": [],
   "source": [
    "wait_time = inter_wait_times[0]\n",
    "task_data_hist_np = task_data_hist_np_all[0]"
   ]
  },
  {
   "cell_type": "code",
   "execution_count": 27,
   "metadata": {
    "ExecuteTime": {
     "end_time": "2021-04-28T17:44:40.448438Z",
     "start_time": "2021-04-28T17:44:40.439354Z"
    }
   },
   "outputs": [],
   "source": [
    "def sort_trials(wait_time:list, \n",
    "                target_seq:list,\n",
    "                task_data_hist_np:dict, \n",
    "                dict_keys, FRAME_RATE = 60):\n",
    "    trial_dict = list()\n",
    "    \n",
    "    for i,row in enumerate(wait_time):\n",
    "        start_time = row[0]\n",
    "        inter_wait_time = row[1]\n",
    "\n",
    "        start_sample = int(start_time * FRAME_RATE)\n",
    "        inter_wait_sample = int(inter_wait_time * FRAME_RATE)\n",
    "        stop_sample = start_sample + inter_wait_sample\n",
    "\n",
    "        single_trial_dict = dict()\n",
    "\n",
    "        for k in dict_keys:\n",
    "            \n",
    "            requested_type_data = np.squeeze(task_data_hist_np[k])\n",
    "            single_trial_dict[k] =  requested_type_data[start_sample:stop_sample,\n",
    "                                                       :]\n",
    "        #add more info\n",
    "        single_trial_dict['start_time'] = row[0]\n",
    "        single_trial_dict['inter_wait_time'] = row[1]\n",
    "        \n",
    "        #add target info\n",
    "        single_trial_dict['targets'] = target_seq[i]\n",
    "\n",
    "        #add the dictionary to the list\n",
    "        trial_dict.append(single_trial_dict)\n",
    "        \n",
    "    return trial_dict\n",
    "\n"
   ]
  },
  {
   "cell_type": "code",
   "execution_count": 28,
   "metadata": {
    "ExecuteTime": {
     "end_time": "2021-04-28T17:44:40.461771Z",
     "start_time": "2021-04-28T17:44:40.449327Z"
    }
   },
   "outputs": [
    {
     "data": {
      "text/plain": [
       "1"
      ]
     },
     "execution_count": 28,
     "metadata": {},
     "output_type": "execute_result"
    }
   ],
   "source": [
    "\n",
    "\n",
    "trial_dicts_all = []\n",
    "dict_keys = ['cursor', #behaviour\n",
    "             'ctrl_input', 'spike_counts', #encoder translates intended ctrl into spike counts\n",
    "             'decoder_state']\n",
    "\n",
    "for i in range(NUM_EXP):\n",
    "    wait_time = inter_wait_times[i]\n",
    "    task_data_hist_np = task_data_hist_np_all[i]\n",
    "    \n",
    "    trial_dict_0 = sort_trials(wait_time, \n",
    "                               target_seq,\n",
    "                               task_data_hist_np, dict_keys)\n",
    "    \n",
    "    trial_dicts_all.append(trial_dict_0)\n",
    "\n",
    "len(trial_dicts_all)"
   ]
  },
  {
   "cell_type": "markdown",
   "metadata": {},
   "source": [
    "## Trajectory analysis"
   ]
  },
  {
   "cell_type": "code",
   "execution_count": 29,
   "metadata": {
    "ExecuteTime": {
     "end_time": "2021-04-28T17:44:40.559492Z",
     "start_time": "2021-04-28T17:44:40.462545Z"
    }
   },
   "outputs": [
    {
     "data": {
      "image/png": "[encoded data removed]",
      "text/plain": [
       "<Figure size 432x288 with 1 Axes>"
      ]
     },
     "metadata": {
      "needs_background": "light"
     },
     "output_type": "display_data"
    }
   ],
   "source": [
    "n_roi_trials = N_TRIALS - 1\n",
    "unique_targets =  np.unique(target_seq, axis = 0)\n",
    "\n",
    "\n",
    "X_CURSOR = 0\n",
    "Z_CURSOR = 2\n",
    "CIRCL_ALPHA = 0.2\n",
    "\n",
    "\n",
    "\n",
    "RANGE_LIM =  15\n",
    "figure, axes = plt.subplots() \n",
    "\n",
    "axes.set_xlim(-RANGE_LIM, RANGE_LIM)\n",
    "axes.set_ylim(-RANGE_LIM, RANGE_LIM)\n",
    "\n",
    "CIRCLE_RADIUS = exps[0].target_radius\n",
    "\n",
    "#plot the targets\n",
    "\n",
    "#plot the origin\n",
    "\n",
    "cc = plt.Circle((0,0 ), \n",
    "            radius = CIRCLE_RADIUS,\n",
    "            alpha = CIRCL_ALPHA)\n",
    "\n",
    "axes.add_artist( cc ) \n",
    "\n",
    "for origin_t in unique_targets:\n",
    "    origin = origin_t[0]\n",
    "    t = origin_t[1]\n",
    "\n",
    "    cc = plt.Circle((t[X_CURSOR],t[Z_CURSOR] ), \n",
    "                    radius = CIRCLE_RADIUS,\n",
    "                    alpha = CIRCL_ALPHA)\n",
    "                     \n",
    "    axes.set_aspect( 1 ) \n",
    "    axes.add_artist( cc ) \n",
    "    \n",
    "    \n",
    "for trial_dict in trial_dicts_all:\n",
    "    \n",
    "    sample_trial = trial_dict[n_roi_trials]\n",
    "    trial_cursor_trajectory = sample_trial['cursor']\n",
    "    \n",
    "    \n",
    "    axes.plot(trial_cursor_trajectory[:, X_CURSOR], \n",
    "             trial_cursor_trajectory[:, Z_CURSOR])\n",
    "    N_TRIALS = 80\n",
    "\n"
   ]
  },
  {
   "cell_type": "code",
   "execution_count": 30,
   "metadata": {
    "ExecuteTime": {
     "end_time": "2021-04-28T17:44:40.562687Z",
     "start_time": "2021-04-28T17:44:40.560510Z"
    },
    "scrolled": true
   },
   "outputs": [
    {
     "name": "stdout",
     "output_type": "stream",
     "text": [
      "finished trials:\n",
      "neurons with three types of noises: 80 out of 80\n"
     ]
    }
   ],
   "source": [
    "print('finished trials:')\n",
    "\n",
    "for i,e in  enumerate(exps): \n",
    "    reward_num = e.calc_state_occurrences('reward')\n",
    "    print(f'{exp_conds[i]}: {reward_num} out of {N_TRIALS}')"
   ]
  },
  {
   "cell_type": "markdown",
   "metadata": {},
   "source": [
    "## encoder\n",
    "\n",
    "the job of the encoder is to directly encode intention into firing rates\n",
    "the direct measure is just pearson correlation coefficients between \n",
    "the intentions and the firing rates"
   ]
  },
  {
   "cell_type": "code",
   "execution_count": 31,
   "metadata": {
    "ExecuteTime": {
     "end_time": "2021-04-28T17:44:40.572486Z",
     "start_time": "2021-04-28T17:44:40.563476Z"
    }
   },
   "outputs": [
    {
     "name": "stdout",
     "output_type": "stream",
     "text": [
      "the encoder observation Q matrix\n",
      "neurons with three types of noises\n",
      "7\n"
     ]
    }
   ],
   "source": [
    "print('the encoder observation Q matrix')\n",
    "for i,e in enumerate(exps):\n",
    "    print(exp_conds[i])\n",
    "    print(e.encoder.ssm.w)"
   ]
  },
  {
   "cell_type": "code",
   "execution_count": 32,
   "metadata": {
    "ExecuteTime": {
     "end_time": "2021-04-28T17:44:40.582009Z",
     "start_time": "2021-04-28T17:44:40.573345Z"
    }
   },
   "outputs": [],
   "source": [
    "n_exp = 0\n",
    "spike_count_sample = trial_dicts_all[n_exp][n_roi_trials]['spike_counts']"
   ]
  },
  {
   "cell_type": "markdown",
   "metadata": {},
   "source": [
    "## decoder"
   ]
  },
  {
   "cell_type": "code",
   "execution_count": 33,
   "metadata": {
    "ExecuteTime": {
     "end_time": "2021-04-28T17:44:40.735212Z",
     "start_time": "2021-04-28T17:44:40.583560Z"
    },
    "scrolled": false
   },
   "outputs": [
    {
     "name": "stdout",
     "output_type": "stream",
     "text": [
      "steady state tuning curves:\n"
     ]
    },
    {
     "data": {
      "text/plain": [
       "Text(0, -0.27999999999999997, 'CLDA rho 0.5')"
      ]
     },
     "execution_count": 33,
     "metadata": {},
     "output_type": "execute_result"
    },
    {
     "data": {
      "image/png": "[encoded data removed]",
      "text/plain": [
       "<Figure size 432x288 with 1 Axes>"
      ]
     },
     "metadata": {
      "needs_background": "light"
     },
     "output_type": "display_data"
    }
   ],
   "source": [
    "TEXT_OFFSET_VERTICAL = -0.2\n",
    "\n",
    "figure_decoder_c_after,axs = plt.subplots()\n",
    "\n",
    "figure_decoder_c_after.suptitle('C matrix after')\n",
    "\n",
    "print('steady state tuning curves:')\n",
    "e = exps[0]\n",
    "\n",
    "e.decoder.plot_C(ax = axs)\n",
    "axs.set_title(exp_conds[i])\n",
    "\n",
    "#get the lower left coordinate\n",
    "y_lim_range  = axs.get_ylim()[1] - axs.get_ylim()[0]\n",
    "\n",
    "axs.text(0, TEXT_OFFSET_VERTICAL,\n",
    "            f'finished {N_TRIALS} trials in {finished_times_in_seconds[i]} s', \n",
    "           transform = axs.transAxes)\n",
    "\n",
    "figure_decoder_c_after.text(0, 1.4 * TEXT_OFFSET_VERTICAL, \n",
    "                 f'CLDA rho {RHO}',\n",
    "                transform = axs.transAxes)\n"
   ]
  },
  {
   "cell_type": "markdown",
   "metadata": {},
   "source": []
  },
  {
   "cell_type": "code",
   "execution_count": 34,
   "metadata": {
    "ExecuteTime": {
     "end_time": "2021-04-28T17:44:40.900452Z",
     "start_time": "2021-04-28T17:44:40.736116Z"
    }
   },
   "outputs": [
    {
     "data": {
      "image/png": "[encoded data removed]",
      "text/plain": [
       "<Figure size 288x288 with 1 Axes>"
      ]
     },
     "execution_count": 34,
     "metadata": {},
     "output_type": "execute_result"
    }
   ],
   "source": [
    "decoder_c_figure"
   ]
  },
  {
   "cell_type": "markdown",
   "metadata": {},
   "source": [
    "# CLDA updates"
   ]
  },
  {
   "cell_type": "markdown",
   "metadata": {},
   "source": [
    "## clda update frequencies"
   ]
  },
  {
   "cell_type": "code",
   "execution_count": 35,
   "metadata": {
    "ExecuteTime": {
     "end_time": "2021-04-28T17:44:40.904071Z",
     "start_time": "2021-04-28T17:44:40.901395Z"
    }
   },
   "outputs": [
    {
     "data": {
      "text/plain": [
       "[24]"
      ]
     },
     "execution_count": 35,
     "metadata": {},
     "output_type": "execute_result"
    }
   ],
   "source": [
    "\n",
    "clda_params_all = [np.array(e.bmi_system.param_hist) for e in exps]\n",
    "\n",
    "\n",
    "\n",
    "clda_update_times = [len(c) for c in clda_params_all]\n",
    "\n",
    "clda_update_times"
   ]
  },
  {
   "cell_type": "code",
   "execution_count": 36,
   "metadata": {
    "ExecuteTime": {
     "end_time": "2021-04-28T17:44:40.913289Z",
     "start_time": "2021-04-28T17:44:40.904850Z"
    }
   },
   "outputs": [],
   "source": [
    "update_bmi_all = np.squeeze(task_data_hist_np_all[0]['update_bmi'])"
   ]
  },
  {
   "cell_type": "markdown",
   "metadata": {},
   "source": [
    "## reformat the matrix"
   ]
  },
  {
   "cell_type": "code",
   "execution_count": 37,
   "metadata": {
    "ExecuteTime": {
     "end_time": "2021-04-28T17:44:40.923064Z",
     "start_time": "2021-04-28T17:44:40.914245Z"
    }
   },
   "outputs": [],
   "source": [
    "clda_params = clda_params_all[0]\n",
    "\n",
    "clda_params.dtype.names"
   ]
  },
  {
   "cell_type": "code",
   "execution_count": 38,
   "metadata": {
    "ExecuteTime": {
     "end_time": "2021-04-28T17:44:40.933844Z",
     "start_time": "2021-04-28T17:44:40.923932Z"
    }
   },
   "outputs": [
    {
     "name": "stdout",
     "output_type": "stream",
     "text": [
      "dict_keys(['kf.C', 'kf.Q', 'kf.C_xpose_Q_inv_C', 'kf.C_xpose_Q_inv', 'mFR', 'sdFR', 'rho', 'intended_kin', 'spike_counts_batch'])\n"
     ]
    },
    {
     "data": {
      "text/plain": [
       "1"
      ]
     },
     "execution_count": 38,
     "metadata": {},
     "output_type": "execute_result"
    }
   ],
   "source": [
    "clda_params = clda_params_all[0]\n",
    "\n",
    "clda_params_dict_all = list()\n",
    "\n",
    "for p in clda_params_all:\n",
    "    clda_params_dict = dict()\n",
    "    print(p[0].keys())\n",
    "    for param_key in p[0].keys():\n",
    "        clda_params_dict[param_key] = [ record_i[param_key] for record_i in p]\n",
    "    \n",
    "    clda_params_dict_all.append(clda_params_dict)\n",
    "\n",
    "\n",
    "len(clda_params_dict_all)"
   ]
  },
  {
   "cell_type": "code",
   "execution_count": 39,
   "metadata": {
    "ExecuteTime": {
     "end_time": "2021-04-28T17:44:40.943970Z",
     "start_time": "2021-04-28T17:44:40.934650Z"
    }
   },
   "outputs": [
    {
     "data": {
      "text/plain": [
       "list"
      ]
     },
     "execution_count": 39,
     "metadata": {},
     "output_type": "execute_result"
    }
   ],
   "source": [
    "type(clda_params_dict['kf.C'])"
   ]
  },
  {
   "cell_type": "markdown",
   "metadata": {},
   "source": [
    "## observation covariance matrix"
   ]
  },
  {
   "cell_type": "code",
   "execution_count": 40,
   "metadata": {
    "ExecuteTime": {
     "end_time": "2021-04-28T17:44:40.953938Z",
     "start_time": "2021-04-28T17:44:40.944968Z"
    }
   },
   "outputs": [
    {
     "name": "stdout",
     "output_type": "stream",
     "text": [
      "neurons with three types of noises\n",
      "[[5206.39  -22.87 1372.53 ... -167.97 1095.57 -164.13]\n",
      " [ -22.87 6775.87   14.35 ... 1178.19  230.95 1180.64]\n",
      " [1372.53   14.35 4624.23 ...  120.22 1189.04   55.7 ]\n",
      " ...\n",
      " [-167.97 1178.19  120.22 ... 1019.2   108.1   909.31]\n",
      " [1095.57  230.95 1189.04 ...  108.1  1069.67   89.73]\n",
      " [-164.13 1180.64   55.7  ...  909.31   89.73  963.96]]\n",
      "\n"
     ]
    }
   ],
   "source": [
    "n_sample = 1\n",
    "\n",
    "for i,c in enumerate(clda_params_dict_all):\n",
    "    print(exp_conds[i])\n",
    "    print(c['kf.Q'][n_sample])\n",
    "    print()"
   ]
  },
  {
   "cell_type": "markdown",
   "metadata": {},
   "source": [
    "## clda C matrix"
   ]
  },
  {
   "cell_type": "code",
   "execution_count": 41,
   "metadata": {
    "ExecuteTime": {
     "end_time": "2021-04-28T17:44:40.964412Z",
     "start_time": "2021-04-28T17:44:40.954727Z"
    }
   },
   "outputs": [
    {
     "name": "stdout",
     "output_type": "stream",
     "text": [
      "we need to remind ourself this does not include the Kalman weights, right\n",
      "we include the weights from the initial random recorder\n",
      "clda params dict has params of dict_keys(['kf.C', 'kf.Q', 'kf.C_xpose_Q_inv_C', 'kf.C_xpose_Q_inv', 'mFR', 'sdFR', 'rho', 'intended_kin', 'spike_counts_batch'])\n",
      "\n",
      "kf_C has the shape of 24\n",
      "mFR has the shape of 24\n",
      "spike_counts batch has the shape of 24\n",
      "intended kin has the shape of 24\n"
     ]
    }
   ],
   "source": [
    "print('we need to remind ourself this does not include the Kalman weights, right')\n",
    "print('we include the weights from the initial random recorder')\n",
    "print(f'clda params dict has params of {clda_params_dict.keys()}\\n')\n",
    "\n",
    "kf_C = clda_params_dict['kf.C']\n",
    "spike_counts_batch =  clda_params_dict['spike_counts_batch']\n",
    "intended_kin = clda_params_dict['intended_kin']\n",
    "mFR = clda_params_dict['mFR']\n",
    "\n",
    "\n",
    "print(f'kf_C has the shape of {len(kf_C)}')\n",
    "print(f'mFR has the shape of {len(mFR)}')\n",
    "print(f'spike_counts batch has the shape of {len(spike_counts_batch)}')\n",
    "print(f'intended kin has the shape of {len(intended_kin)}')"
   ]
  },
  {
   "cell_type": "code",
   "execution_count": 42,
   "metadata": {
    "ExecuteTime": {
     "end_time": "2021-04-28T17:44:40.976159Z",
     "start_time": "2021-04-28T17:44:40.965166Z"
    }
   },
   "outputs": [
    {
     "name": "stdout",
     "output_type": "stream",
     "text": [
      "C matrix before:\n",
      "[[ 0.    0.    0.    2.02  0.   -0.63 28.22]\n",
      " [ 0.    0.    0.    0.02  0.    2.67 37.38]\n",
      " [ 0.    0.    0.   -1.8   0.   -0.79 34.06]\n",
      " [ 0.    0.    0.    1.58  0.    0.49 15.77]\n",
      " [ 0.    0.    0.    1.77  0.   -1.05 32.46]\n",
      " [ 0.    0.    0.   -0.52  0.    2.42 27.09]\n",
      " [ 0.    0.    0.   -0.74  0.   -0.37 32.28]\n",
      " [ 0.    0.    0.   -0.17  0.   -0.32 28.61]\n",
      " [ 0.    0.    0.    1.95  0.   -0.83 24.1 ]\n",
      " [ 0.    0.    0.   -0.69  0.    2.67 19.16]\n",
      " [ 0.    0.    0.   -2.74  0.   -0.57 22.79]\n",
      " [ 0.    0.    0.   -0.38  0.   -0.51 19.2 ]\n",
      " [ 0.    0.    0.    2.54  0.    1.   16.23]\n",
      " [ 0.    0.    0.    0.27  0.    3.05 22.99]\n",
      " [ 0.    0.    0.   -2.11  0.    0.1  23.42]\n",
      " [ 0.    0.    0.    0.55  0.   -0.75 29.92]\n",
      " [ 0.    0.    0.    3.01  0.   -0.41 19.54]\n",
      " [ 0.    0.    0.    0.17  0.    3.1  17.46]\n",
      " [ 0.    0.    0.   -1.7   0.    0.05 17.76]\n",
      " [ 0.    0.    0.    0.34  0.   -1.3  21.03]\n",
      " [ 0.    0.    0.    2.8   0.    0.3  16.44]\n",
      " [ 0.    0.    0.   -0.38  0.    2.94 18.77]\n",
      " [ 0.    0.    0.   -2.1   0.   -0.38 17.85]\n",
      " [ 0.    0.    0.   -0.6   0.   -1.47 16.21]\n",
      " [ 0.    0.    0.    2.93  0.   -0.49 14.25]\n",
      " [ 0.    0.    0.   -0.27  0.    3.35 16.86]\n",
      " [ 0.    0.    0.   -3.09  0.   -0.48 18.98]\n",
      " [ 0.    0.    0.    0.06  0.   -1.13 15.82]\n",
      " [ 0.    0.    0.    3.5   0.   -0.28 15.65]\n",
      " [ 0.    0.    0.   -0.02  0.    3.67 17.01]\n",
      " [ 0.    0.    0.   -2.36  0.   -0.63 17.55]\n",
      " [ 0.    0.    0.   -0.43  0.   -1.74 17.57]]\n",
      "C matrix after:\n",
      "[[ 0.    0.    0.   -0.95  0.   -2.45 50.29]\n",
      " [ 0.    0.    0.    0.62  0.    4.03 56.82]\n",
      " [ 0.    0.    0.   -1.81  0.    0.7  45.92]\n",
      " [ 0.    0.    0.    0.22  0.   -2.79 52.87]\n",
      " [ 0.    0.    0.    4.26  0.   -0.14 24.34]\n",
      " [ 0.    0.    0.    3.87  0.   -0.01 21.56]\n",
      " [ 0.    0.    0.    4.69  0.   -0.07 14.99]\n",
      " [ 0.    0.    0.   -4.5   0.   -0.05 14.68]\n",
      " [ 0.    0.    0.    4.64  0.   -0.03 14.74]\n",
      " [ 0.    0.    0.    0.01  0.    4.69 25.17]\n",
      " [ 0.    0.    0.   -4.92  0.   -0.02 15.6 ]\n",
      " [ 0.    0.    0.   -0.14  0.   -4.86 25.46]]\n"
     ]
    }
   ],
   "source": [
    "print('C matrix before:')\n",
    "print(kf_C[0])\n",
    "print('C matrix after:')\n",
    "print(kf_C[-1])"
   ]
  },
  {
   "cell_type": "markdown",
   "metadata": {},
   "source": [
    "## plot the mfr"
   ]
  },
  {
   "cell_type": "code",
   "execution_count": 43,
   "metadata": {
    "ExecuteTime": {
     "end_time": "2021-04-28T17:44:41.329888Z",
     "start_time": "2021-04-28T17:44:40.976917Z"
    },
    "code_folding": [],
    "scrolled": true
   },
   "outputs": [
    {
     "ename": "TypeError",
     "evalue": "list indices must be integers or slices, not tuple",
     "output_type": "error",
     "traceback": [
      "\u001b[0;31m---------------------------------------------------------------------------\u001b[0m",
      "\u001b[0;31mTypeError\u001b[0m                                 Traceback (most recent call last)",
      "\u001b[0;32m<ipython-input-43-00946e51be56>\u001b[0m in \u001b[0;36m<module>\u001b[0;34m\u001b[0m\n\u001b[1;32m      7\u001b[0m \u001b[0;34m\u001b[0m\u001b[0m\n\u001b[1;32m      8\u001b[0m \u001b[0;32mfor\u001b[0m \u001b[0mi\u001b[0m\u001b[0;34m,\u001b[0m\u001b[0ma\u001b[0m \u001b[0;32min\u001b[0m \u001b[0menumerate\u001b[0m\u001b[0;34m(\u001b[0m\u001b[0maxes_clda_mfr\u001b[0m\u001b[0;34m)\u001b[0m\u001b[0;34m:\u001b[0m\u001b[0;34m\u001b[0m\u001b[0;34m\u001b[0m\u001b[0m\n\u001b[0;32m----> 9\u001b[0;31m     a.plot(mFR[:,\n\u001b[0m\u001b[1;32m     10\u001b[0m                neuron_type_indices_in_a_list[i]])\n\u001b[1;32m     11\u001b[0m     \u001b[0ma\u001b[0m\u001b[0;34m.\u001b[0m\u001b[0mset_xlabel\u001b[0m\u001b[0;34m(\u001b[0m\u001b[0;34m'ClDA batch number'\u001b[0m\u001b[0;34m)\u001b[0m\u001b[0;34m\u001b[0m\u001b[0;34m\u001b[0m\u001b[0m\n",
      "\u001b[0;31mTypeError\u001b[0m: list indices must be integers or slices, not tuple"
     ]
    },
    {
     "data": {
      "image/png": "[encoded data removed]",
      "text/plain": [
       "<Figure size 1152x288 with 4 Axes>"
      ]
     },
     "metadata": {
      "needs_background": "light"
     },
     "output_type": "display_data"
    }
   ],
   "source": [
    "figure_clda_mfr, axes_clda_mfr = \\\n",
    "plt.subplots(1, N_TYPES_OF_NEURONS, \n",
    "             figsize = (N_TYPES_OF_NEURONS * GLOBAL_FIGURE_VERTICAL_SIZE,\n",
    "                        GLOBAL_FIGURE_VERTICAL_SIZE),\n",
    "            sharey = True)\n",
    "\n",
    "\n",
    "for i,a in enumerate(axes_clda_mfr):\n",
    "    a.plot(mFR[:,\n",
    "               neuron_type_indices_in_a_list[i]])\n",
    "    a.set_xlabel('ClDA batch number')\n",
    "\n",
    "    \n",
    "axes_clda_mfr[0].set_ylabel('Firing counts per batch')\n",
    "print(f'the first couple of batches')"
   ]
  },
  {
   "cell_type": "markdown",
   "metadata": {},
   "source": [
    "clda basically picks up the the noise\n",
    "and treating the my poisson noise as a constant term. "
   ]
  },
  {
   "cell_type": "markdown",
   "metadata": {},
   "source": [
    "## examine training batches"
   ]
  },
  {
   "cell_type": "code",
   "execution_count": null,
   "metadata": {
    "ExecuteTime": {
     "end_time": "2021-04-28T17:44:41.330965Z",
     "start_time": "2021-04-28T17:44:32.359Z"
    }
   },
   "outputs": [],
   "source": [
    "\n",
    "training_sample_point = 0\n",
    "print('we find out the covariance of the ')\n",
    "\n",
    "spike_counts_one_batch = spike_counts_batch[training_sample_point,:,:]\n",
    "\n",
    "print('spike counts:')\n",
    "spike_counts_one_batch_cov = np.corrcoef(spike_counts_one_batch)\n",
    "\n",
    "figure_corrcov, axes_corrcov = plt.subplots(1,1,\n",
    "                                           figsize = (GLOBAL_FIGURE_VERTICAL_SIZE, GLOBAL_FIGURE_VERTICAL_SIZE))\n",
    "\n",
    "neuron_roi = 0\n",
    "\n",
    "axes_corrcov.scatter(range(N_NEURONS), \n",
    "                     spike_counts_one_batch_cov[neuron_roi, :])\n",
    "axes_corrcov.set_title(f'Correlation with the {neuron_roi} neurons')\n",
    "axes_corrcov.set_xlabel('Neuron Index')\n",
    "axes_corrcov.set_ylabel('Correlation coefficient')\n",
    "\n",
    "print(f'they encode the same states, albeit at different values')\n",
    "print(f'neurons that encode the same direction have the proportional firing rates ')\n",
    "print(f'they have the same learned targets')\n",
    "print(f'as a result, the linear fit be more or less the same')\n",
    "print(f'which of course violates my assumption that the noise should decrease the correlation')"
   ]
  },
  {
   "cell_type": "markdown",
   "metadata": {},
   "source": [
    "## KF.C matrix convergence"
   ]
  },
  {
   "cell_type": "code",
   "execution_count": null,
   "metadata": {
    "ExecuteTime": {
     "end_time": "2021-04-28T17:44:41.331397Z",
     "start_time": "2021-04-28T17:44:32.361Z"
    },
    "scrolled": true
   },
   "outputs": [],
   "source": [
    "\n",
    "# now, we can average over the neurons. \n",
    "from weights_linear_regression import calc_a_history_of_matrix_L2norms_along_first_axis\n",
    "\n",
    "the_history_of_KF_weights_in_time_by_neurons = calc_a_history_of_matrix_L2norms_along_first_axis(kf_C, \n",
    "                                                                        indices_to_sum=(X_VEL_STATE_IND, Y_VEL_STATE_IND))\n",
    "\n",
    "figure_weights_norm, axes_weights_norm = plt.subplots( 1, N_TYPES_OF_NEURONS,\n",
    "    figsize = (N_TYPES_OF_NEURONS * GLOBAL_FIGURE_VERTICAL_SIZE, GLOBAL_FIGURE_VERTICAL_SIZE))\n",
    "\n",
    "for i,a in enumerate(axes_weights_norm):\n",
    "    a.plot(the_history_of_KF_weights_in_time_by_neurons[:,\n",
    "                                                        neuron_type_indices_in_a_list[i]])\n",
    "    "
   ]
  },
  {
   "cell_type": "code",
   "execution_count": null,
   "metadata": {
    "ExecuteTime": {
     "end_time": "2021-04-28T17:44:41.331770Z",
     "start_time": "2021-04-28T17:44:32.364Z"
    },
    "scrolled": true
   },
   "outputs": [],
   "source": [
    "min_array = the_history_of_KF_weights_in_time_by_neurons[0,:][np.newaxis,:]\n",
    "print(min_array.shape)\n",
    "\n",
    "normalized_kf_history = the_history_of_KF_weights_in_time_by_neurons - \\\n",
    "np.repeat(min_array, 22, axis = 0)\n",
    "\n",
    "\n",
    "the_history_of_KF_weights_in_time_by_neurons = calc_a_history_of_matrix_L2norms_along_first_axis(kf_C, \n",
    "                                                                        indices_to_sum=(X_VEL_STATE_IND, Y_VEL_STATE_IND))\n",
    "\n",
    "figure_weights_norm, axes_weights_norm = plt.subplots( 1, N_TYPES_OF_NEURONS,\n",
    "    figsize = (N_TYPES_OF_NEURONS * GLOBAL_FIGURE_VERTICAL_SIZE, GLOBAL_FIGURE_VERTICAL_SIZE))\n",
    "for i,a in enumerate(axes_weights_norm):\n",
    "    a.plot(normalized_kf_history[:, neuron_type_indices_in_a_list[i]])\n",
    "    \n",
    "    \n"
   ]
  },
  {
   "cell_type": "code",
   "execution_count": null,
   "metadata": {
    "ExecuteTime": {
     "end_time": "2021-04-28T17:44:41.332132Z",
     "start_time": "2021-04-28T17:44:32.365Z"
    }
   },
   "outputs": [],
   "source": [
    "kf_series = normalized_kf_history[:, neuron_type_indices_in_a_list[3]]\n",
    "\n",
    "kf_series_temp = kf_series[:,1]\n",
    "\n",
    "kf_series_temp"
   ]
  },
  {
   "cell_type": "code",
   "execution_count": null,
   "metadata": {
    "ExecuteTime": {
     "end_time": "2021-04-28T17:44:41.332515Z",
     "start_time": "2021-04-28T17:44:32.368Z"
    }
   },
   "outputs": [],
   "source": [
    "from convergence_analysis import ExpFitAnalyzer, calc_flipped_shifted_exponential\n",
    "\n",
    "#calculate this across neurons\n",
    "exp_fit_analyzer = ExpFitAnalyzer()\n",
    "\n",
    "fig_fit, ax_fit = plt.subplots(4,8, figsize = (32,16))\n",
    "\n",
    "fitting_params = list()\n",
    "x_data = np.arange(normalized_kf_history.shape[0])\n",
    "\n",
    "for i,ax in enumerate(ax_fit.flat):\n",
    "    kf_series_temp = normalized_kf_history[:,i]\n",
    "    \n",
    "20\n",
    "    \n",
    "    (fitting_param_temp, var) = exp_fit_analyzer.calc_fitting_params(calc_flipped_shifted_exponential, x_data, kf_series_temp)\n",
    "    fitting_params.append(fitting_param_temp)\n",
    "    \n",
    "    #plot the fit\n",
    "    exp_fit_analyzer.calc_estimated_y()\n",
    "    exp_fit_analyzer.plot_fitting(ax)\n",
    "    \n",
    "    \n",
    "    \n"
   ]
  },
  {
   "cell_type": "code",
   "execution_count": null,
   "metadata": {
    "ExecuteTime": {
     "end_time": "2021-04-28T17:44:41.332905Z",
     "start_time": "2021-04-28T17:44:32.369Z"
    }
   },
   "outputs": [],
   "source": [
    "fitting_params_a = np.array(fitting_params)[:,0]\n",
    "\n",
    "fitting_params_a = np.reshape(fitting_params_a, (-1,8))\n",
    "print(fitting_params_a)\n",
    "\n",
    "plt.boxplot(fitting_params_a.T)"
   ]
  },
  {
   "cell_type": "code",
   "execution_count": null,
   "metadata": {
    "ExecuteTime": {
     "end_time": "2021-04-28T17:44:41.333271Z",
     "start_time": "2021-04-28T17:44:32.372Z"
    }
   },
   "outputs": [],
   "source": [
    "fitting_params_b = np.array(fitting_params)[:,1]\n",
    "\n",
    "fitting_params_b = np.reshape(fitting_params_b, (-1,8))\n",
    "print(fitting_params_b)\n",
    "\n",
    "plt.boxplot(fitting_params_b.T)"
   ]
  },
  {
   "cell_type": "code",
   "execution_count": null,
   "metadata": {
    "ExecuteTime": {
     "end_time": "2021-04-28T17:44:41.333637Z",
     "start_time": "2021-04-28T17:44:32.374Z"
    }
   },
   "outputs": [],
   "source": [
    "plt.boxplot(fitting_params_b.T)\n",
    "plt.ylim([0,8])"
   ]
  },
  {
   "cell_type": "markdown",
   "metadata": {},
   "source": [
    "## KF_Q matrix"
   ]
  },
  {
   "cell_type": "markdown",
   "metadata": {},
   "source": [
    "### last slice"
   ]
  },
  {
   "cell_type": "code",
   "execution_count": null,
   "metadata": {
    "ExecuteTime": {
     "end_time": "2021-04-28T17:44:41.334026Z",
     "start_time": "2021-04-28T17:44:32.376Z"
    }
   },
   "outputs": [],
   "source": [
    "kf_Q = clda_params_dict['kf.Q']\n",
    "\n",
    "kf_Q_first = kf_Q[0, :,:]\n",
    "kf_Q_last = kf_Q[-1, :,:]\n",
    "\n",
    "kf_Q_diag = np.array([np.diag(kf_Q[i,:,:]) for i in range(kf_Q.shape[0])])"
   ]
  },
  {
   "cell_type": "code",
   "execution_count": null,
   "metadata": {
    "ExecuteTime": {
     "end_time": "2021-04-28T17:44:41.334460Z",
     "start_time": "2021-04-28T17:44:32.378Z"
    },
    "scrolled": true
   },
   "outputs": [],
   "source": [
    "fig_comp_kf_Q, axes_comp_kf_Q = plt.subplots(1,4, \n",
    "                                            figsize = (4 * GLOBAL_FIGURE_VERTICAL_SIZE, GLOBAL_FIGURE_VERTICAL_SIZE))\n",
    "\n",
    "axes_comp_kf_Q[0].imshow(kf_Q_first)\n",
    "axes_comp_kf_Q[0].set_title('Q matrix after first CLDA update')\n",
    "axes_comp_kf_Q[0].set_xlabel('Neuron count')\n",
    "axes_comp_kf_Q[0].set_ylabel('Neuron count')\n",
    "\n",
    "axes_comp_kf_Q[1].imshow(kf_Q_last)\n",
    "axes_comp_kf_Q[1].set_title('Q matrix after training')\n",
    "axes_comp_kf_Q[1].set_xlabel('Neuron count')\n",
    "axes_comp_kf_Q[1].set_ylabel('Neuron count')\n",
    "\n",
    "#plot the diag\n",
    "axes_comp_kf_Q[2].plot(np.diag(kf_Q_first))\n",
    "axes_comp_kf_Q[2].plot(np.diag(kf_Q_last))\n",
    "axes_comp_kf_Q[2].set_title('Diagonal Values')\n",
    "axes_comp_kf_Q[2].set_xlabel('Neuron count')\n",
    "axes_comp_kf_Q[2].legend(['before',\n",
    "                          'after'])\n",
    "\n",
    "#plot the diag\n",
    "axes_comp_kf_Q[3].plot(kf_Q_diag)\n",
    "axes_comp_kf_Q[3].set_title('Diagonal Values')\n",
    "axes_comp_kf_Q[3].set_xlabel('CLDA updates')\n",
    "\n"
   ]
  },
  {
   "cell_type": "markdown",
   "metadata": {},
   "source": [
    "## plot K matrix"
   ]
  },
  {
   "cell_type": "code",
   "execution_count": null,
   "metadata": {
    "ExecuteTime": {
     "end_time": "2021-04-28T17:44:41.334947Z",
     "start_time": "2021-04-28T17:44:32.380Z"
    }
   },
   "outputs": [],
   "source": [
    "task_data_hist = np.array(exps[0].task_data_hist)\n",
    "\n",
    "kf_K = np.squeeze(task_data_hist['K'])"
   ]
  },
  {
   "cell_type": "code",
   "execution_count": null,
   "metadata": {
    "ExecuteTime": {
     "end_time": "2021-04-28T17:44:41.335354Z",
     "start_time": "2021-04-28T17:44:32.382Z"
    },
    "scrolled": true
   },
   "outputs": [],
   "source": [
    "kf_K.shape"
   ]
  },
  {
   "cell_type": "code",
   "execution_count": null,
   "metadata": {
    "ExecuteTime": {
     "end_time": "2021-04-28T17:44:41.335785Z",
     "start_time": "2021-04-28T17:44:32.384Z"
    }
   },
   "outputs": [],
   "source": [
    "kf_K_last = kf_K[-1,:,:]\n"
   ]
  },
  {
   "cell_type": "code",
   "execution_count": null,
   "metadata": {
    "ExecuteTime": {
     "end_time": "2021-04-28T17:44:41.336231Z",
     "start_time": "2021-04-28T17:44:32.385Z"
    }
   },
   "outputs": [],
   "source": [
    "from afs_plotting import plot_prefered_directions\n",
    "\n",
    "figure_K_mat, axes_K_mat = plt.subplots(1,2,\n",
    "                                       figsize = (GLOBAL_FIGURE_VERTICAL_SIZE *2, \n",
    "                                                 GLOBAL_FIGURE_VERTICAL_SIZE))\n",
    "\n",
    "axes_K_mat[0].imshow(kf_K_last)\n",
    "axes_K_mat[0].set_ylabel('States')\n",
    "axes_K_mat[0].set_xlabel('Neurons')\n",
    "axes_K_mat[0].set_title('KF matrix')\n",
    "\n",
    "plot_prefered_directions(kf_K_last.T,\n",
    "                        ax = axes_K_mat[1])\n",
    "axes_K_mat[1].set_title('Preferred directions')"
   ]
  },
  {
   "cell_type": "markdown",
   "metadata": {},
   "source": [
    "## Batch analyses"
   ]
  },
  {
   "cell_type": "code",
   "execution_count": null,
   "metadata": {
    "ExecuteTime": {
     "end_time": "2021-04-28T17:44:41.336610Z",
     "start_time": "2021-04-28T17:44:32.387Z"
    }
   },
   "outputs": [],
   "source": [
    "batch_of_interest = 0\n",
    "spike_count_one_batch_in_neuron_by_frame = spike_counts_batch[batch_of_interest, :, :]\n",
    "\n",
    "print(f'we just count one batch')\n",
    "spike_count_sum_in_neuron = np.sum(spike_count_one_batch_in_neuron_by_frame, axis = 1)\n",
    "\n",
    "figure_neuron_count_sum, axes_neuron_count_sum = plt.subplots()\n",
    "\n",
    "print(spike_count_sum_in_neuron)\n",
    "\n",
    "axes_neuron_count_sum.scatter(np.arange(len(spike_count_sum_in_neuron)), spike_count_sum_in_neuron)\n"
   ]
  },
  {
   "cell_type": "markdown",
   "metadata": {},
   "source": []
  },
  {
   "cell_type": "markdown",
   "metadata": {},
   "source": [
    "# Feature analysis"
   ]
  },
  {
   "cell_type": "code",
   "execution_count": 45,
   "metadata": {
    "ExecuteTime": {
     "end_time": "2021-04-28T17:45:12.975439Z",
     "start_time": "2021-04-28T17:45:12.973666Z"
    }
   },
   "outputs": [],
   "source": [
    "exp = exps[0]"
   ]
  },
  {
   "cell_type": "code",
   "execution_count": 46,
   "metadata": {
    "ExecuteTime": {
     "end_time": "2021-04-28T17:45:12.987959Z",
     "start_time": "2021-04-28T17:45:12.976360Z"
    }
   },
   "outputs": [
    {
     "name": "stdout",
     "output_type": "stream",
     "text": [
      "25\n",
      "this is in comparision to [24]\n"
     ]
    }
   ],
   "source": [
    "print(len(exp._active_feat_set_list))\n",
    "print(f'this is in comparision to {clda_update_times}')"
   ]
  },
  {
   "cell_type": "code",
   "execution_count": 47,
   "metadata": {
    "ExecuteTime": {
     "end_time": "2021-04-28T17:45:13.084030Z",
     "start_time": "2021-04-28T17:45:12.988794Z"
    },
    "scrolled": true
   },
   "outputs": [
    {
     "data": {
      "text/plain": [
       "Text(0, 0.5, 'Learner Batch number')"
      ]
     },
     "execution_count": 47,
     "metadata": {},
     "output_type": "execute_result"
    },
    {
     "data": {
      "image/png": "[encoded data removed]",
      "text/plain": [
       "<Figure size 288x288 with 1 Axes>"
      ]
     },
     "metadata": {
      "needs_background": "light"
     },
     "output_type": "display_data"
    }
   ],
   "source": [
    "fig_feature_active_map, axes_feat_active_map = plt.subplots(figsize = (GLOBAL_FIGURE_VERTICAL_SIZE,\n",
    "                                                                      GLOBAL_FIGURE_VERTICAL_SIZE))\n",
    "\n",
    "active_feat_heat_map = np.array(exp._active_feat_set_list)\n",
    "\n",
    "axes_feat_active_map.imshow(active_feat_heat_map)\n",
    "axes_feat_active_map.set_xlabel('All features')\n",
    "axes_feat_active_map.set_ylabel('Learner Batch number')\n"
   ]
  },
  {
   "cell_type": "markdown",
   "metadata": {},
   "source": [
    "## examine used C mat"
   ]
  },
  {
   "cell_type": "code",
   "execution_count": 48,
   "metadata": {
    "ExecuteTime": {
     "end_time": "2021-04-28T17:45:13.086782Z",
     "start_time": "2021-04-28T17:45:13.085136Z"
    }
   },
   "outputs": [],
   "source": [
    "updated_C_mat = np.array(exp._used_C_mat_list)"
   ]
  },
  {
   "cell_type": "code",
   "execution_count": 49,
   "metadata": {
    "ExecuteTime": {
     "end_time": "2021-04-28T17:45:13.096986Z",
     "start_time": "2021-04-28T17:45:13.087647Z"
    }
   },
   "outputs": [
    {
     "data": {
      "text/plain": [
       "(24, 32, 7)"
      ]
     },
     "execution_count": 49,
     "metadata": {},
     "output_type": "execute_result"
    }
   ],
   "source": [
    "updated_C_mat.shape"
   ]
  },
  {
   "cell_type": "code",
   "execution_count": 54,
   "metadata": {
    "ExecuteTime": {
     "end_time": "2021-04-28T17:46:22.620375Z",
     "start_time": "2021-04-28T17:46:22.244274Z"
    }
   },
   "outputs": [
    {
     "data": {
      "image/png": "[encoded data removed]",
      "text/plain": [
       "<Figure size 1152x288 with 4 Axes>"
      ]
     },
     "metadata": {
      "needs_background": "light"
     },
     "output_type": "display_data"
    }
   ],
   "source": [
    "from weights_linear_regression import calc_a_history_of_matrix_L2norms_along_first_axis\n",
    "\n",
    "the_history_of_KF_weights_in_time_by_neurons = calc_a_history_of_matrix_L2norms_along_first_axis(updated_C_mat, \n",
    "                                                                        indices_to_sum=(X_VEL_STATE_IND, Y_VEL_STATE_IND))\n",
    "\n",
    "figure_weights_norm, axes_weights_norm = plt.subplots( 1, N_TYPES_OF_NEURONS,\n",
    "    figsize = (N_TYPES_OF_NEURONS * GLOBAL_FIGURE_VERTICAL_SIZE, GLOBAL_FIGURE_VERTICAL_SIZE))\n",
    "\n",
    "for i,a in enumerate(axes_weights_norm):\n",
    "    a.plot(the_history_of_KF_weights_in_time_by_neurons[:, neuron_type_indices_in_a_list[i]])\n",
    "    a.set_xlabel('Batch number')\n",
    "    a.set_ylabel('Weight')"
   ]
  },
  {
   "cell_type": "markdown",
   "metadata": {},
   "source": [
    "## examine Q matrix\n"
   ]
  },
  {
   "cell_type": "code",
   "execution_count": 51,
   "metadata": {
    "ExecuteTime": {
     "end_time": "2021-04-28T17:45:13.417966Z",
     "start_time": "2021-04-28T17:45:13.416378Z"
    }
   },
   "outputs": [],
   "source": [
    "q_list = np.array(exp.Q_diag_list)"
   ]
  },
  {
   "cell_type": "code",
   "execution_count": 52,
   "metadata": {
    "ExecuteTime": {
     "end_time": "2021-04-28T17:45:13.428301Z",
     "start_time": "2021-04-28T17:45:13.418803Z"
    }
   },
   "outputs": [
    {
     "data": {
      "text/plain": [
       "array([245.58, 255.62,  62.62,  83.89,  59.04,  50.24,  83.06,  12.1 ])"
      ]
     },
     "execution_count": 52,
     "metadata": {},
     "output_type": "execute_result"
    }
   ],
   "source": [
    "q_list[4]"
   ]
  }
 ],
 "metadata": {
  "kernelspec": {
   "display_name": "Python 3",
   "language": "python",
   "name": "python3"
  },
  "language_info": {
   "codemirror_mode": {
    "name": "ipython",
    "version": 3
   },
   "file_extension": ".py",
   "mimetype": "text/x-python",
   "name": "python",
   "nbconvert_exporter": "python",
   "pygments_lexer": "ipython3",
   "version": "3.8.5"
  },
  "toc": {
   "base_numbering": 1,
   "nav_menu": {},
   "number_sections": true,
   "sideBar": true,
   "skip_h1_title": false,
   "title_cell": "Table of Contents",
   "title_sidebar": "Contents",
   "toc_cell": false,
   "toc_position": {
    "height": "600.8px",
    "left": "35px",
    "top": "353.8px",
    "width": "293.083px"
   },
   "toc_section_display": true,
   "toc_window_display": true
  },
  "varInspector": {
   "cols": {
    "lenName": 16,
    "lenType": 16,
    "lenVar": 40
   },
   "kernels_config": {
    "python": {
     "delete_cmd_postfix": "",
     "delete_cmd_prefix": "del ",
     "library": "var_list.py",
     "varRefreshCmd": "print(var_dic_list())"
    },
    "r": {
     "delete_cmd_postfix": ") ",
     "delete_cmd_prefix": "rm(",
     "library": "var_list.r",
     "varRefreshCmd": "cat(var_dic_list()) "
    }
   },
   "types_to_exclude": [
    "module",
    "function",
    "builtin_function_or_method",
    "instance",
    "_Feature"
   ],
   "window_display": false
  }
 },
 "nbformat": 4,
 "nbformat_minor": 4
}
