{
 "cells": [
  {
   "cell_type": "markdown",
   "metadata": {},
   "source": [
    "# Purpose of this simulation\n"
   ]
  },
  {
   "cell_type": "markdown",
   "metadata": {},
   "source": [
    "# ideas"
   ]
  },
  {
   "cell_type": "code",
   "execution_count": 1,
   "metadata": {
    "ExecuteTime": {
     "end_time": "2021-06-02T19:14:31.747059Z",
     "start_time": "2021-06-02T19:14:31.745038Z"
    }
   },
   "outputs": [
    {
     "name": "stdout",
     "output_type": "stream",
     "text": [
      "w/o feature selection\n",
      "w/ iter feature selection\n",
      "w/o start with high SNR neurons\n"
     ]
    }
   ],
   "source": [
    "\n",
    "#for comparision\n",
    "exp_conds = ['w/o feature selection', \n",
    "             'w/ iter feature selection',\n",
    "            'w/o start with high SNR neurons']\n",
    "\n",
    "for e in exp_conds: print(e)\n"
   ]
  },
  {
   "cell_type": "markdown",
   "metadata": {},
   "source": [
    "# Experimental setup related to the questions\n",
    "\n",
    "this part should be configured to directly test the hypothesis put forward in the previous section\n"
   ]
  },
  {
   "cell_type": "code",
   "execution_count": 2,
   "metadata": {
    "ExecuteTime": {
     "end_time": "2021-06-02T19:14:31.804190Z",
     "start_time": "2021-06-02T19:14:31.747986Z"
    }
   },
   "outputs": [],
   "source": [
    "import numpy as np\n",
    "np.set_printoptions(precision=2, suppress=True)\n",
    "\n",
    "mean_firing_rate_low = 50\n",
    "mean_firing_rate_high = 100\n",
    "\n",
    "noise_mode = 'fixed_gaussian'\n",
    "fixed_noise_level = 5 #Hz"
   ]
  },
  {
   "cell_type": "code",
   "execution_count": 3,
   "metadata": {
    "ExecuteTime": {
     "end_time": "2021-06-02T19:14:31.808879Z",
     "start_time": "2021-06-02T19:14:31.805169Z"
    }
   },
   "outputs": [
    {
     "name": "stdout",
     "output_type": "stream",
     "text": [
      "We have two types of indices: \n",
      "noisy:[ 0  1  2  3  4  5  6  7  8  9 10 11 12 13 14 15 16 17 18 19 20 21 22 23]\n",
      "non_noisy:[24 25 26 27 28 29 30 31]\n"
     ]
    }
   ],
   "source": [
    "\n",
    "\n",
    "neuron_types = ['noisy', 'non_noisy']\n",
    "\n",
    "n_neurons = 32\n",
    "n_neurons_noisy_group = 24\n",
    "n_neurons_no_noise_group = 8\n",
    "\n",
    "\n",
    "noise_neuron_ind = np.arange(n_neurons_noisy_group)\n",
    "no_noise_neuron_ind = np.arange(n_neurons_noisy_group, n_neurons_noisy_group + n_neurons_no_noise_group)\n",
    "\n",
    "neuron_type_indices_in_a_list = [\n",
    "    noise_neuron_ind, \n",
    "    no_noise_neuron_ind\n",
    "]\n",
    "\n",
    "\n",
    "noise_neuron_list = np.full(n_neurons, False, dtype = bool)\n",
    "no_noise_neuron_list = np.full(n_neurons, False, dtype = bool)\n",
    "\n",
    "\n",
    "noise_neuron_list[noise_neuron_ind] = True\n",
    "no_noise_neuron_list[no_noise_neuron_ind] = True\n",
    "\n",
    "\n",
    "\n",
    "neuron_type_bool_list = [\n",
    "    noise_neuron_list,\n",
    "    no_noise_neuron_list,\n",
    "]\n",
    "\n",
    "N_TYPES_OF_NEURONS = 2\n",
    "\n",
    "print('We have two types of indices: ')\n",
    "for t,l in enumerate(neuron_type_indices_in_a_list): print(f'{neuron_types[t]}:{l}')\n"
   ]
  },
  {
   "cell_type": "code",
   "execution_count": 4,
   "metadata": {
    "ExecuteTime": {
     "end_time": "2021-06-02T19:14:31.816975Z",
     "start_time": "2021-06-02T19:14:31.809736Z"
    }
   },
   "outputs": [
    {
     "name": "stdout",
     "output_type": "stream",
     "text": [
      "set up the variances in a list:\n",
      "we therefore know the number of neurons to be 32\n",
      "[[1.]\n",
      " [1.]\n",
      " [1.]\n",
      " [1.]\n",
      " [1.]\n",
      " [1.]\n",
      " [1.]\n",
      " [1.]\n",
      " [1.]\n",
      " [1.]\n",
      " [1.]\n",
      " [1.]\n",
      " [1.]\n",
      " [1.]\n",
      " [1.]\n",
      " [1.]\n",
      " [1.]\n",
      " [1.]\n",
      " [1.]\n",
      " [1.]\n",
      " [1.]\n",
      " [1.]\n",
      " [1.]\n",
      " [1.]\n",
      " [1.]\n",
      " [1.]\n",
      " [1.]\n",
      " [1.]\n",
      " [1.]\n",
      " [1.]\n",
      " [1.]\n",
      " [1.]]\n"
     ]
    }
   ],
   "source": [
    "percent_of_count = np.ones(n_neurons)[:, np.newaxis]\n",
    "print(f'set up the variances in a list:')\n",
    "\n",
    "percent_of_count[noise_neuron_ind] =  1\n",
    "percent_of_count[no_noise_neuron_ind] = 1\n",
    "\n",
    "print(f'we therefore know the number of neurons to be {n_neurons}')\n",
    "print(percent_of_count)"
   ]
  },
  {
   "cell_type": "code",
   "execution_count": 5,
   "metadata": {
    "ExecuteTime": {
     "end_time": "2021-06-02T19:14:31.819877Z",
     "start_time": "2021-06-02T19:14:31.818057Z"
    }
   },
   "outputs": [],
   "source": [
    "# CHANGE: game mechanics: generate task params\n",
    "N_TARGETS = 8\n",
    "N_TRIALS = 200\n",
    "\n",
    "NUM_EXP = len(exp_conds) # how many experiments we are running. "
   ]
  },
  {
   "cell_type": "markdown",
   "metadata": {},
   "source": [
    "# Config the experiments\n",
    "\n",
    "this section largely copyied and pasted from   \n",
    "bmi3d-sijia(branch)-bulti_in_experiemnts\n",
    "https://github.com/sijia66/brain-python-interface/blob/master/built_in_tasks/sim_task_KF.py"
   ]
  },
  {
   "cell_type": "markdown",
   "metadata": {},
   "source": [
    "## load dependant libraries"
   ]
  },
  {
   "cell_type": "code",
   "execution_count": 6,
   "metadata": {
    "ExecuteTime": {
     "end_time": "2021-06-02T19:14:31.823717Z",
     "start_time": "2021-06-02T19:14:31.820759Z"
    }
   },
   "outputs": [],
   "source": [
    "GLOBAL_FIGURE_VERTICAL_SIZE = 4"
   ]
  },
  {
   "cell_type": "code",
   "execution_count": 7,
   "metadata": {
    "ExecuteTime": {
     "end_time": "2021-06-02T19:14:32.718379Z",
     "start_time": "2021-06-02T19:14:31.825299Z"
    },
    "scrolled": true
   },
   "outputs": [
    {
     "name": "stderr",
     "output_type": "stream",
     "text": [
      "/home/sijia-aw/BMi3D_my/lab_bmi3d/riglib/blackrock/cerelink.py:13: UserWarning: Unable to import cerebus library. Check if is installed if using the Blackrock NeuroPort system\n",
      "  warnings.warn(\"Unable to import cerebus library. Check if is installed if using the Blackrock NeuroPort system\")\n"
     ]
    }
   ],
   "source": [
    "# import libraries\n",
    "# make sure these directories are in the python path., \n",
    "from bmimultitasks import SimBMIControlMulti, SimBMICosEncKFDec, BMIControlMultiNoWindow\n",
    "from features import SaveHDF\n",
    "from features.simulation_features import get_enc_setup, SimKFDecoderRandom,SimIntentionLQRController, SimClockTick\n",
    "from features.simulation_features import SimHDF, SimTime\n",
    "\n",
    "from riglib import experiment\n",
    "\n",
    "from riglib.stereo_opengl.window import FakeWindow\n",
    "from riglib.bmi import train\n",
    "\n",
    "\n",
    "from behaviour_metrics import  filter_state, sort_trials\n",
    "\n",
    "from weights import calc_p_values_for_spike_batches_use_intended_kin\n",
    "from weights import calc_single_batch_p_values_by_fitting_kinematics_to_spike_counts\n",
    "import weights\n",
    "\n",
    "import time\n",
    "import copy\n",
    "import numpy as np\n",
    "import matplotlib.pyplot as plt\n",
    "import sympy as sp\n",
    "import itertools #for identical sequences\n",
    "\n",
    "np.set_printoptions(precision=2, suppress=True)\n"
   ]
  },
  {
   "cell_type": "markdown",
   "metadata": {},
   "source": [
    "##  behaviour and task setup"
   ]
  },
  {
   "cell_type": "code",
   "execution_count": 8,
   "metadata": {
    "ExecuteTime": {
     "end_time": "2021-06-02T19:14:32.723985Z",
     "start_time": "2021-06-02T19:14:32.720599Z"
    }
   },
   "outputs": [],
   "source": [
    "seq = SimBMIControlMulti.sim_target_seq_generator_multi(\n",
    "N_TARGETS, N_TRIALS)\n",
    "\n",
    "#create a second version of the tasks\n",
    "seqs = itertools.tee(seq, NUM_EXP + 1)\n",
    "target_seq = list(seqs[NUM_EXP])\n",
    "\n",
    "seqs = seqs[:NUM_EXP]\n",
    "\n",
    "\n",
    "SAVE_HDF = False\n",
    "SAVE_SIM_HDF = True #this makes the task data available as exp.task_data_hist\n",
    "DEBUG_FEATURE = False\n",
    "\n",
    "\n",
    "#base_class = SimBMIControlMulti\n",
    "base_class = BMIControlMultiNoWindow\n",
    "\n",
    "#for adding experimental features such as encoder, decoder\n",
    "feats = []\n",
    "feats_2 = []\n",
    "feats_set = [] # this is a going to be a list of lists "
   ]
  },
  {
   "cell_type": "code",
   "execution_count": 9,
   "metadata": {
    "ExecuteTime": {
     "end_time": "2021-06-02T19:14:32.733801Z",
     "start_time": "2021-06-02T19:14:32.724878Z"
    }
   },
   "outputs": [],
   "source": [
    "from simulation_features import TimeCountDown\n",
    "\n",
    "feats.append(TimeCountDown)\n",
    "feats_2.append(TimeCountDown)\n",
    "\n",
    "total_exp_time = 3000# in seconds"
   ]
  },
  {
   "cell_type": "code",
   "execution_count": 10,
   "metadata": {
    "ExecuteTime": {
     "end_time": "2021-06-02T19:14:32.742261Z",
     "start_time": "2021-06-02T19:14:32.734735Z"
    }
   },
   "outputs": [],
   "source": [
    "#from features.sync_features import NIDAQSync"
   ]
  },
  {
   "cell_type": "markdown",
   "metadata": {},
   "source": [
    "## encoder\n",
    "\n",
    "the cosine tuned encoder uses a poisson process, right\n",
    "https://en.wikipedia.org/wiki/Poisson_distribution\n",
    "so if the lambda is 1, then it's very likely "
   ]
  },
  {
   "cell_type": "code",
   "execution_count": 11,
   "metadata": {
    "ExecuteTime": {
     "end_time": "2021-06-02T19:14:32.755856Z",
     "start_time": "2021-06-02T19:14:32.743286Z"
    }
   },
   "outputs": [
    {
     "name": "stdout",
     "output_type": "stream",
     "text": [
      "features.simulation_features: get_enc_setup has a tuning_level of 1 \n",
      "\n",
      "[False False False False False False False False False False False False\n",
      " False False False False False False False False False False False False\n",
      "  True  True  True  True  True  True  True  True]\n",
      "[[   0.    0.    0.   50.    0.    0.    0.]\n",
      " [   0.    0.    0.    0.    0.   50.    0.]\n",
      " [   0.    0.    0.  -50.    0.    0.    0.]\n",
      " [   0.    0.    0.   -0.    0.  -50.    0.]\n",
      " [   0.    0.    0.   50.    0.    0.    0.]\n",
      " [   0.    0.    0.    0.    0.   50.    0.]\n",
      " [   0.    0.    0.  -50.    0.    0.    0.]\n",
      " [   0.    0.    0.   -0.    0.  -50.    0.]\n",
      " [   0.    0.    0.   50.    0.    0.    0.]\n",
      " [   0.    0.    0.    0.    0.   50.    0.]\n",
      " [   0.    0.    0.  -50.    0.    0.    0.]\n",
      " [   0.    0.    0.   -0.    0.  -50.    0.]\n",
      " [   0.    0.    0.   50.    0.    0.    0.]\n",
      " [   0.    0.    0.    0.    0.   50.    0.]\n",
      " [   0.    0.    0.  -50.    0.    0.    0.]\n",
      " [   0.    0.    0.   -0.    0.  -50.    0.]\n",
      " [   0.    0.    0.   50.    0.    0.    0.]\n",
      " [   0.    0.    0.    0.    0.   50.    0.]\n",
      " [   0.    0.    0.  -50.    0.    0.    0.]\n",
      " [   0.    0.    0.   -0.    0.  -50.    0.]\n",
      " [   0.    0.    0.   50.    0.    0.    0.]\n",
      " [   0.    0.    0.    0.    0.   50.    0.]\n",
      " [   0.    0.    0.  -50.    0.    0.    0.]\n",
      " [   0.    0.    0.   -0.    0.  -50.    0.]\n",
      " [   0.    0.    0.  100.    0.    0.    0.]\n",
      " [   0.    0.    0.    0.    0.  100.    0.]\n",
      " [   0.    0.    0. -100.    0.    0.    0.]\n",
      " [   0.    0.    0.   -0.    0. -100.    0.]\n",
      " [   0.    0.    0.  100.    0.    0.    0.]\n",
      " [   0.    0.    0.    0.    0.  100.    0.]\n",
      " [   0.    0.    0. -100.    0.    0.    0.]\n",
      " [   0.    0.    0.   -0.    0. -100.    0.]]\n"
     ]
    }
   ],
   "source": [
    "from features.simulation_features import get_enc_setup\n",
    "\n",
    "ENCODER_TYPE = 'cosine_tuned_encoder_with_poisson_noise'\n",
    "\n",
    "#neuron set up : 'std (20 neurons)' or 'toy (4 neurons)' \n",
    "N_NEURONS, N_STATES, sim_C = get_enc_setup(sim_mode = 'rot_90', n_neurons= n_neurons)\n",
    "\n",
    "\n",
    "print(no_noise_neuron_list)\n",
    "#multiply our the neurons\n",
    "sim_C[noise_neuron_list] =  sim_C[noise_neuron_list]  * mean_firing_rate_low\n",
    "sim_C[no_noise_neuron_list]  = sim_C[no_noise_neuron_list] * mean_firing_rate_high\n",
    "\n",
    "\n",
    "print(sim_C)\n",
    "\n",
    "#set up intention feedbackcontroller\n",
    "#this ideally set before the encoder\n",
    "feats.append(SimIntentionLQRController)\n",
    "\n",
    "#set up the encoder\n",
    "from features.simulation_features import SimCosineTunedEncWithNoise\n",
    "feats.append(SimCosineTunedEncWithNoise)\n",
    "\n",
    "\n",
    "feats_2.append(SimIntentionLQRController)\n",
    "feats_2.append(SimCosineTunedEncWithNoise)"
   ]
  },
  {
   "cell_type": "markdown",
   "metadata": {},
   "source": [
    "## decoder setup"
   ]
  },
  {
   "cell_type": "code",
   "execution_count": 12,
   "metadata": {
    "ExecuteTime": {
     "end_time": "2021-06-02T19:14:32.765001Z",
     "start_time": "2021-06-02T19:14:32.756833Z"
    }
   },
   "outputs": [
    {
     "name": "stdout",
     "output_type": "stream",
     "text": [
      "__main__: set base class \n",
      "__main__: selected SimKFDecoderRandom \n",
      "\n"
     ]
    }
   ],
   "source": [
    "#clda on random \n",
    "DECODER_MODE = 'random' # random \n",
    "\n",
    "   #take care the decoder setup\n",
    "if DECODER_MODE == 'random':\n",
    "    feats.append(SimKFDecoderRandom)\n",
    "    feats_2.append(SimKFDecoderRandom)\n",
    "    print(f'{__name__}: set base class ')\n",
    "    print(f'{__name__}: selected SimKFDecoderRandom \\n')\n",
    "else: #defaul to a cosEnc and a pre-traind KF DEC\n",
    "    from features.simulation_features import SimKFDecoderSup\n",
    "    feats.append(SimKFDecoderSup)\n",
    "    feats_2.append(SimKFDecoderRandom)\n",
    "    print(f'{__name__}: set decoder to SimKFDecoderSup\\n')"
   ]
  },
  {
   "cell_type": "markdown",
   "metadata": {},
   "source": [
    "##  clda: learner and updater"
   ]
  },
  {
   "cell_type": "code",
   "execution_count": 13,
   "metadata": {
    "ExecuteTime": {
     "end_time": "2021-06-02T19:14:32.771333Z",
     "start_time": "2021-06-02T19:14:32.765731Z"
    }
   },
   "outputs": [],
   "source": [
    "\n",
    "#setting clda parameters \n",
    "##learner: collects paird data at batch_sizes\n",
    "RHO = 0.01\n",
    "batch_size = 100\n",
    "\n",
    "\n",
    "#learner and updater: actualy set up rho\n",
    "UPDATER_BATCH_TIME = 1\n",
    "UPDATER_HALF_LIFE = np.log(RHO)  * UPDATER_BATCH_TIME / np.log(0.5)\n",
    "\n",
    "\n",
    "\n",
    "LEARNER_TYPE = 'feedback' # to dumb or not dumb it is a question 'feedback'\n",
    "UPDATER_TYPE = 'smooth_batch' #none or \"smooth_batch\"\n",
    "\n",
    "\n",
    "#you know what? \n",
    "#learner only collects firing rates labeled with estimated estimates\n",
    "#we would also need to use the labeled data\n",
    "#now, we can set up a dumb/or not-dumb learner\n",
    "if LEARNER_TYPE == 'feedback':\n",
    "    from features.simulation_features import SimFeedbackLearner\n",
    "    feats.append(SimFeedbackLearner)\n",
    "    feats_2.append(SimFeedbackLearner)\n",
    "else:\n",
    "    from features.simulation_features import SimDumbLearner\n",
    "    feats.append(SimDumbLearner)\n",
    "    feats_2.append(SimDumbLearner)\n",
    "\n",
    "#to update the decoder.\n",
    "if UPDATER_TYPE == 'smooth_batch':\n",
    "    from features.simulation_features import SimSmoothBatch\n",
    "    feats.append(SimSmoothBatch)\n",
    "    feats_2.append(SimSmoothBatch)\n",
    "else: #defaut to none \n",
    "    print(f'{__name__}: need to specify an updater')"
   ]
  },
  {
   "cell_type": "markdown",
   "metadata": {},
   "source": [
    "## feature selector setup"
   ]
  },
  {
   "cell_type": "code",
   "execution_count": 14,
   "metadata": {
    "ExecuteTime": {
     "end_time": "2021-06-02T19:14:32.880116Z",
     "start_time": "2021-06-02T19:14:32.772149Z"
    }
   },
   "outputs": [
    {
     "name": "stdout",
     "output_type": "stream",
     "text": [
      "kwargs will be updated in a later time\n",
      "the feature adaptation project is tracking dict_keys(['transform_x_flag', 'transform_y_flag', 'feature_x_transformer', 'feature_y_transformer', 'n_starting_feats', 'n_states']) \n"
     ]
    }
   ],
   "source": [
    "from feature_selection_feature import FeatureTransformer, TransformerBatchToFit\n",
    "from feature_selection_feature import FeatureSelector, LassoFeatureSelector, SNRFeatureSelector, IterativeFeatureSelector\n",
    "\n",
    "\n",
    "#pass the real time limit on clock\n",
    "feats.append(FeatureSelector)\n",
    "feats_2.append(IterativeFeatureSelector)\n",
    "\n",
    "\n",
    "feature_x_meth_arg = [\n",
    "    ('transpose', None ),\n",
    "]\n",
    "\n",
    "kwargs_feature = dict()\n",
    "kwargs_feature = {\n",
    "    'transform_x_flag':True,\n",
    "    'transform_y_flag':True,\n",
    "    'feature_x_transformer':FeatureTransformer(feature_x_meth_arg),\n",
    "    'feature_y_transformer':TransformerBatchToFit(),\n",
    "    'n_starting_feats': n_neurons,\n",
    "    'n_states':  7\n",
    "}\n",
    "\n",
    "print('kwargs will be updated in a later time')\n",
    "print(f'the feature adaptation project is tracking {kwargs_feature.keys()} ')"
   ]
  },
  {
   "cell_type": "markdown",
   "metadata": {},
   "source": [
    "## assistor setup"
   ]
  },
  {
   "cell_type": "code",
   "execution_count": 15,
   "metadata": {
    "ExecuteTime": {
     "end_time": "2021-06-02T19:14:32.882696Z",
     "start_time": "2021-06-02T19:14:32.881159Z"
    }
   },
   "outputs": [],
   "source": [
    "#assistor set up assist level\n",
    "assist_level = (0.0, 0.0)"
   ]
  },
  {
   "cell_type": "markdown",
   "metadata": {},
   "source": [
    "## (Check) config the experiment"
   ]
  },
  {
   "cell_type": "code",
   "execution_count": 16,
   "metadata": {
    "ExecuteTime": {
     "end_time": "2021-06-02T19:14:32.890690Z",
     "start_time": "2021-06-02T19:14:32.883482Z"
    }
   },
   "outputs": [
    {
     "data": {
      "text/plain": [
       "[[simulation_features.TimeCountDown,\n",
       "  features.simulation_features.SimIntentionLQRController,\n",
       "  features.simulation_features.SimCosineTunedEncWithNoise,\n",
       "  features.simulation_features.SimKFDecoderRandom,\n",
       "  features.simulation_features.SimFeedbackLearner,\n",
       "  features.simulation_features.SimSmoothBatch,\n",
       "  feature_selection_feature.FeatureSelector],\n",
       " [simulation_features.TimeCountDown,\n",
       "  features.simulation_features.SimIntentionLQRController,\n",
       "  features.simulation_features.SimCosineTunedEncWithNoise,\n",
       "  features.simulation_features.SimKFDecoderRandom,\n",
       "  features.simulation_features.SimFeedbackLearner,\n",
       "  features.simulation_features.SimSmoothBatch,\n",
       "  feature_selection_feature.IterativeFeatureSelector],\n",
       " [simulation_features.TimeCountDown,\n",
       "  features.simulation_features.SimIntentionLQRController,\n",
       "  features.simulation_features.SimCosineTunedEncWithNoise,\n",
       "  features.simulation_features.SimKFDecoderRandom,\n",
       "  features.simulation_features.SimFeedbackLearner,\n",
       "  features.simulation_features.SimSmoothBatch,\n",
       "  feature_selection_feature.FeatureSelector]]"
      ]
     },
     "execution_count": 16,
     "metadata": {},
     "output_type": "execute_result"
    }
   ],
   "source": [
    "exp_feats = [feats, feats_2, feats]\n",
    "exp_feats"
   ]
  },
  {
   "cell_type": "code",
   "execution_count": 17,
   "metadata": {
    "ExecuteTime": {
     "end_time": "2021-06-02T19:14:32.898261Z",
     "start_time": "2021-06-02T19:14:32.891413Z"
    }
   },
   "outputs": [],
   "source": [
    "if DEBUG_FEATURE: \n",
    "    from features.simulation_features import DebugFeature\n",
    "    feats.append(DebugFeature)\n",
    "    \n",
    "if SAVE_HDF: \n",
    "    feats.append(SaveHDF)\n",
    "    feats_2.append(SaveHDF)\n",
    "if SAVE_SIM_HDF: \n",
    "    feats.append(SimHDF)\n",
    "    feats_2.append(SimHDF)\n",
    "    \n",
    "    \n",
    "#pass the real time limit on clock\n",
    "feats.append(SimClockTick)\n",
    "feats.append(SimTime)\n",
    "\n",
    "feats_2.append(SimClockTick)\n",
    "feats_2.append(SimTime)\n"
   ]
  },
  {
   "cell_type": "code",
   "execution_count": 18,
   "metadata": {
    "ExecuteTime": {
     "end_time": "2021-06-02T19:14:32.914021Z",
     "start_time": "2021-06-02T19:14:32.899136Z"
    }
   },
   "outputs": [
    {
     "name": "stdout",
     "output_type": "stream",
     "text": [
      "we have got 3 exps\n"
     ]
    },
    {
     "data": {
      "text/plain": [
       "[{'total_exp_time': 3000,\n",
       "  'assist_level': (0.0, 0.0),\n",
       "  'sim_C': array([[   0.,    0.,    0.,   50.,    0.,    0.,    0.],\n",
       "         [   0.,    0.,    0.,    0.,    0.,   50.,    0.],\n",
       "         [   0.,    0.,    0.,  -50.,    0.,    0.,    0.],\n",
       "         [   0.,    0.,    0.,   -0.,    0.,  -50.,    0.],\n",
       "         [   0.,    0.,    0.,   50.,    0.,    0.,    0.],\n",
       "         [   0.,    0.,    0.,    0.,    0.,   50.,    0.],\n",
       "         [   0.,    0.,    0.,  -50.,    0.,    0.,    0.],\n",
       "         [   0.,    0.,    0.,   -0.,    0.,  -50.,    0.],\n",
       "         [   0.,    0.,    0.,   50.,    0.,    0.,    0.],\n",
       "         [   0.,    0.,    0.,    0.,    0.,   50.,    0.],\n",
       "         [   0.,    0.,    0.,  -50.,    0.,    0.,    0.],\n",
       "         [   0.,    0.,    0.,   -0.,    0.,  -50.,    0.],\n",
       "         [   0.,    0.,    0.,   50.,    0.,    0.,    0.],\n",
       "         [   0.,    0.,    0.,    0.,    0.,   50.,    0.],\n",
       "         [   0.,    0.,    0.,  -50.,    0.,    0.,    0.],\n",
       "         [   0.,    0.,    0.,   -0.,    0.,  -50.,    0.],\n",
       "         [   0.,    0.,    0.,   50.,    0.,    0.,    0.],\n",
       "         [   0.,    0.,    0.,    0.,    0.,   50.,    0.],\n",
       "         [   0.,    0.,    0.,  -50.,    0.,    0.,    0.],\n",
       "         [   0.,    0.,    0.,   -0.,    0.,  -50.,    0.],\n",
       "         [   0.,    0.,    0.,   50.,    0.,    0.,    0.],\n",
       "         [   0.,    0.,    0.,    0.,    0.,   50.,    0.],\n",
       "         [   0.,    0.,    0.,  -50.,    0.,    0.,    0.],\n",
       "         [   0.,    0.,    0.,   -0.,    0.,  -50.,    0.],\n",
       "         [   0.,    0.,    0.,  100.,    0.,    0.,    0.],\n",
       "         [   0.,    0.,    0.,    0.,    0.,  100.,    0.],\n",
       "         [   0.,    0.,    0., -100.,    0.,    0.,    0.],\n",
       "         [   0.,    0.,    0.,   -0.,    0., -100.,    0.],\n",
       "         [   0.,    0.,    0.,  100.,    0.,    0.,    0.],\n",
       "         [   0.,    0.,    0.,    0.,    0.,  100.,    0.],\n",
       "         [   0.,    0.,    0., -100.,    0.,    0.,    0.],\n",
       "         [   0.,    0.,    0.,   -0.,    0., -100.,    0.]]),\n",
       "  'noise_mode': 'fixed_gaussian',\n",
       "  'percent_noise': array([[1.],\n",
       "         [1.],\n",
       "         [1.],\n",
       "         [1.],\n",
       "         [1.],\n",
       "         [1.],\n",
       "         [1.],\n",
       "         [1.],\n",
       "         [1.],\n",
       "         [1.],\n",
       "         [1.],\n",
       "         [1.],\n",
       "         [1.],\n",
       "         [1.],\n",
       "         [1.],\n",
       "         [1.],\n",
       "         [1.],\n",
       "         [1.],\n",
       "         [1.],\n",
       "         [1.],\n",
       "         [1.],\n",
       "         [1.],\n",
       "         [1.],\n",
       "         [1.],\n",
       "         [1.],\n",
       "         [1.],\n",
       "         [1.],\n",
       "         [1.],\n",
       "         [1.],\n",
       "         [1.],\n",
       "         [1.],\n",
       "         [1.]]),\n",
       "  'fixed_noise_level': 5,\n",
       "  'batch_size': 100,\n",
       "  'batch_time': 1,\n",
       "  'half_life': 6.643856189774724,\n",
       "  'transform_x_flag': True,\n",
       "  'transform_y_flag': True,\n",
       "  'feature_x_transformer': <feature_selection_feature.FeatureTransformer at 0x7f34bd005130>,\n",
       "  'feature_y_transformer': <feature_selection_feature.TransformerBatchToFit at 0x7f34bd005400>,\n",
       "  'n_starting_feats': 32,\n",
       "  'n_states': 7},\n",
       " {'total_exp_time': 3000,\n",
       "  'assist_level': (0.0, 0.0),\n",
       "  'sim_C': array([[   0.,    0.,    0.,   50.,    0.,    0.,    0.],\n",
       "         [   0.,    0.,    0.,    0.,    0.,   50.,    0.],\n",
       "         [   0.,    0.,    0.,  -50.,    0.,    0.,    0.],\n",
       "         [   0.,    0.,    0.,   -0.,    0.,  -50.,    0.],\n",
       "         [   0.,    0.,    0.,   50.,    0.,    0.,    0.],\n",
       "         [   0.,    0.,    0.,    0.,    0.,   50.,    0.],\n",
       "         [   0.,    0.,    0.,  -50.,    0.,    0.,    0.],\n",
       "         [   0.,    0.,    0.,   -0.,    0.,  -50.,    0.],\n",
       "         [   0.,    0.,    0.,   50.,    0.,    0.,    0.],\n",
       "         [   0.,    0.,    0.,    0.,    0.,   50.,    0.],\n",
       "         [   0.,    0.,    0.,  -50.,    0.,    0.,    0.],\n",
       "         [   0.,    0.,    0.,   -0.,    0.,  -50.,    0.],\n",
       "         [   0.,    0.,    0.,   50.,    0.,    0.,    0.],\n",
       "         [   0.,    0.,    0.,    0.,    0.,   50.,    0.],\n",
       "         [   0.,    0.,    0.,  -50.,    0.,    0.,    0.],\n",
       "         [   0.,    0.,    0.,   -0.,    0.,  -50.,    0.],\n",
       "         [   0.,    0.,    0.,   50.,    0.,    0.,    0.],\n",
       "         [   0.,    0.,    0.,    0.,    0.,   50.,    0.],\n",
       "         [   0.,    0.,    0.,  -50.,    0.,    0.,    0.],\n",
       "         [   0.,    0.,    0.,   -0.,    0.,  -50.,    0.],\n",
       "         [   0.,    0.,    0.,   50.,    0.,    0.,    0.],\n",
       "         [   0.,    0.,    0.,    0.,    0.,   50.,    0.],\n",
       "         [   0.,    0.,    0.,  -50.,    0.,    0.,    0.],\n",
       "         [   0.,    0.,    0.,   -0.,    0.,  -50.,    0.],\n",
       "         [   0.,    0.,    0.,  100.,    0.,    0.,    0.],\n",
       "         [   0.,    0.,    0.,    0.,    0.,  100.,    0.],\n",
       "         [   0.,    0.,    0., -100.,    0.,    0.,    0.],\n",
       "         [   0.,    0.,    0.,   -0.,    0., -100.,    0.],\n",
       "         [   0.,    0.,    0.,  100.,    0.,    0.,    0.],\n",
       "         [   0.,    0.,    0.,    0.,    0.,  100.,    0.],\n",
       "         [   0.,    0.,    0., -100.,    0.,    0.,    0.],\n",
       "         [   0.,    0.,    0.,   -0.,    0., -100.,    0.]]),\n",
       "  'noise_mode': 'fixed_gaussian',\n",
       "  'percent_noise': array([[1.],\n",
       "         [1.],\n",
       "         [1.],\n",
       "         [1.],\n",
       "         [1.],\n",
       "         [1.],\n",
       "         [1.],\n",
       "         [1.],\n",
       "         [1.],\n",
       "         [1.],\n",
       "         [1.],\n",
       "         [1.],\n",
       "         [1.],\n",
       "         [1.],\n",
       "         [1.],\n",
       "         [1.],\n",
       "         [1.],\n",
       "         [1.],\n",
       "         [1.],\n",
       "         [1.],\n",
       "         [1.],\n",
       "         [1.],\n",
       "         [1.],\n",
       "         [1.],\n",
       "         [1.],\n",
       "         [1.],\n",
       "         [1.],\n",
       "         [1.],\n",
       "         [1.],\n",
       "         [1.],\n",
       "         [1.],\n",
       "         [1.]]),\n",
       "  'fixed_noise_level': 5,\n",
       "  'batch_size': 100,\n",
       "  'batch_time': 1,\n",
       "  'half_life': 6.643856189774724,\n",
       "  'transform_x_flag': True,\n",
       "  'transform_y_flag': True,\n",
       "  'feature_x_transformer': <feature_selection_feature.FeatureTransformer at 0x7f34bd005130>,\n",
       "  'feature_y_transformer': <feature_selection_feature.TransformerBatchToFit at 0x7f34bd005400>,\n",
       "  'n_starting_feats': 32,\n",
       "  'n_states': 7,\n",
       "  'init_feat_set': array([False, False, False, False, False, False, False, False, False,\n",
       "         False, False, False, False, False, False, False, False, False,\n",
       "         False, False, False, False, False, False,  True,  True,  True,\n",
       "          True,  True,  True,  True,  True])},\n",
       " {'total_exp_time': 3000,\n",
       "  'assist_level': (0.0, 0.0),\n",
       "  'sim_C': array([[   0.,    0.,    0.,   50.,    0.,    0.,    0.],\n",
       "         [   0.,    0.,    0.,    0.,    0.,   50.,    0.],\n",
       "         [   0.,    0.,    0.,  -50.,    0.,    0.,    0.],\n",
       "         [   0.,    0.,    0.,   -0.,    0.,  -50.,    0.],\n",
       "         [   0.,    0.,    0.,   50.,    0.,    0.,    0.],\n",
       "         [   0.,    0.,    0.,    0.,    0.,   50.,    0.],\n",
       "         [   0.,    0.,    0.,  -50.,    0.,    0.,    0.],\n",
       "         [   0.,    0.,    0.,   -0.,    0.,  -50.,    0.],\n",
       "         [   0.,    0.,    0.,   50.,    0.,    0.,    0.],\n",
       "         [   0.,    0.,    0.,    0.,    0.,   50.,    0.],\n",
       "         [   0.,    0.,    0.,  -50.,    0.,    0.,    0.],\n",
       "         [   0.,    0.,    0.,   -0.,    0.,  -50.,    0.],\n",
       "         [   0.,    0.,    0.,   50.,    0.,    0.,    0.],\n",
       "         [   0.,    0.,    0.,    0.,    0.,   50.,    0.],\n",
       "         [   0.,    0.,    0.,  -50.,    0.,    0.,    0.],\n",
       "         [   0.,    0.,    0.,   -0.,    0.,  -50.,    0.],\n",
       "         [   0.,    0.,    0.,   50.,    0.,    0.,    0.],\n",
       "         [   0.,    0.,    0.,    0.,    0.,   50.,    0.],\n",
       "         [   0.,    0.,    0.,  -50.,    0.,    0.,    0.],\n",
       "         [   0.,    0.,    0.,   -0.,    0.,  -50.,    0.],\n",
       "         [   0.,    0.,    0.,   50.,    0.,    0.,    0.],\n",
       "         [   0.,    0.,    0.,    0.,    0.,   50.,    0.],\n",
       "         [   0.,    0.,    0.,  -50.,    0.,    0.,    0.],\n",
       "         [   0.,    0.,    0.,   -0.,    0.,  -50.,    0.],\n",
       "         [   0.,    0.,    0.,  100.,    0.,    0.,    0.],\n",
       "         [   0.,    0.,    0.,    0.,    0.,  100.,    0.],\n",
       "         [   0.,    0.,    0., -100.,    0.,    0.,    0.],\n",
       "         [   0.,    0.,    0.,   -0.,    0., -100.,    0.],\n",
       "         [   0.,    0.,    0.,  100.,    0.,    0.,    0.],\n",
       "         [   0.,    0.,    0.,    0.,    0.,  100.,    0.],\n",
       "         [   0.,    0.,    0., -100.,    0.,    0.,    0.],\n",
       "         [   0.,    0.,    0.,   -0.,    0., -100.,    0.]]),\n",
       "  'noise_mode': 'fixed_gaussian',\n",
       "  'percent_noise': array([[1.],\n",
       "         [1.],\n",
       "         [1.],\n",
       "         [1.],\n",
       "         [1.],\n",
       "         [1.],\n",
       "         [1.],\n",
       "         [1.],\n",
       "         [1.],\n",
       "         [1.],\n",
       "         [1.],\n",
       "         [1.],\n",
       "         [1.],\n",
       "         [1.],\n",
       "         [1.],\n",
       "         [1.],\n",
       "         [1.],\n",
       "         [1.],\n",
       "         [1.],\n",
       "         [1.],\n",
       "         [1.],\n",
       "         [1.],\n",
       "         [1.],\n",
       "         [1.],\n",
       "         [1.],\n",
       "         [1.],\n",
       "         [1.],\n",
       "         [1.],\n",
       "         [1.],\n",
       "         [1.],\n",
       "         [1.],\n",
       "         [1.]]),\n",
       "  'fixed_noise_level': 5,\n",
       "  'batch_size': 100,\n",
       "  'batch_time': 1,\n",
       "  'half_life': 6.643856189774724,\n",
       "  'transform_x_flag': True,\n",
       "  'transform_y_flag': True,\n",
       "  'feature_x_transformer': <feature_selection_feature.FeatureTransformer at 0x7f34bd005130>,\n",
       "  'feature_y_transformer': <feature_selection_feature.TransformerBatchToFit at 0x7f34bd005400>,\n",
       "  'n_starting_feats': 32,\n",
       "  'n_states': 7,\n",
       "  'init_feat_set': array([False, False, False, False, False, False, False, False, False,\n",
       "         False, False, False, False, False, False, False, False, False,\n",
       "         False, False, False, False, False, False,  True,  True,  True,\n",
       "          True,  True,  True,  True,  True])}]"
      ]
     },
     "execution_count": 18,
     "metadata": {},
     "output_type": "execute_result"
    }
   ],
   "source": [
    "kwargs_exps = list()\n",
    "\n",
    "for i in range(NUM_EXP):\n",
    "    d = dict()\n",
    "    \n",
    "    d['total_exp_time'] = total_exp_time\n",
    "    \n",
    "    d['assist_level'] = assist_level\n",
    "    d['sim_C'] = sim_C\n",
    "    \n",
    "    d['noise_mode'] = noise_mode\n",
    "    d['percent_noise'] = percent_of_count\n",
    "    d['fixed_noise_level'] = fixed_noise_level\n",
    "    \n",
    "    d['batch_size'] = batch_size\n",
    "    \n",
    "    d['batch_time'] = UPDATER_BATCH_TIME\n",
    "    d['half_life'] = UPDATER_HALF_LIFE\n",
    "    \n",
    "    \n",
    "    d.update(kwargs_feature)\n",
    "    \n",
    "    kwargs_exps.append(d)\n",
    "\n",
    "kwargs_exps[1]['init_feat_set'] = np.full(N_NEURONS, False, dtype = bool)\n",
    "kwargs_exps[1]['init_feat_set'][no_noise_neuron_list] = True\n",
    "\n",
    "kwargs_exps[2]['init_feat_set'] = np.full(N_NEURONS, False, dtype = bool)\n",
    "kwargs_exps[2]['init_feat_set'][no_noise_neuron_list] = True\n",
    "\n",
    "print(f'we have got {len(kwargs_exps)} exps')\n",
    "kwargs_exps"
   ]
  },
  {
   "cell_type": "markdown",
   "metadata": {},
   "source": [
    "## make and initalize experiment instances"
   ]
  },
  {
   "cell_type": "code",
   "execution_count": 19,
   "metadata": {
    "ExecuteTime": {
     "end_time": "2021-06-02T19:14:32.952205Z",
     "start_time": "2021-06-02T19:14:32.914946Z"
    }
   },
   "outputs": [
    {
     "name": "stdout",
     "output_type": "stream",
     "text": [
      "metaclass constructor\n",
      "(<class 'simulation_features.TimeCountDown'>, <class 'features.simulation_features.SimIntentionLQRController'>, <class 'features.simulation_features.SimCosineTunedEncWithNoise'>, <class 'features.simulation_features.SimKFDecoderRandom'>, <class 'features.simulation_features.SimFeedbackLearner'>, <class 'features.simulation_features.SimSmoothBatch'>, <class 'feature_selection_feature.FeatureSelector'>, <class 'features.simulation_features.SimHDF'>, <class 'features.simulation_features.SimClockTick'>, <class 'features.simulation_features.SimTime'>, <class 'bmimultitasks.BMIControlMultiNoWindow'>)\n",
      "[<class 'simulation_features.TimeCountDown'>, <class 'features.simulation_features.SimIntentionLQRController'>, <class 'features.simulation_features.SimCosineTunedEncWithNoise'>, <class 'features.simulation_features.SimKFDecoderRandom'>, <class 'features.simulation_features.SimFeedbackLearner'>, <class 'features.simulation_features.SimSmoothBatch'>, <class 'feature_selection_feature.FeatureSelector'>, <class 'features.simulation_features.SimHDF'>, <class 'features.simulation_features.SimClockTick'>, <class 'features.simulation_features.SimTime'>]\n",
      "\n",
      "features.simulation_features.SimIntentionLQRController: LQRController used \n",
      "\n",
      "\n",
      " features.simulation_features.SimFeedbackLearner: start to create a sim leaner with a batchsize of 100\n",
      "features.simulation_features.SimSmoothBatch: rho in this simulation is  0.9009288012833828\n",
      "\n",
      "finished executing Experiment.__init__\n",
      "in feature selector mod\n",
      "feature init: [array([ True,  True,  True,  True,  True,  True,  True,  True,  True,\n",
      "        True,  True,  True,  True,  True,  True,  True,  True,  True,\n",
      "        True,  True,  True,  True,  True,  True,  True,  True,  True,\n",
      "        True,  True,  True,  True,  True])]\n",
      "feature selector: add initial decoder weights\n",
      "<class 'features.simulation_features.SimCosineTunedEncWithNoise'>: added CosineTunedEncWithNoise \n",
      "TimeCountDown: assume  fps to be 60\n",
      "metaclass constructor\n",
      "(<class 'simulation_features.TimeCountDown'>, <class 'features.simulation_features.SimIntentionLQRController'>, <class 'features.simulation_features.SimCosineTunedEncWithNoise'>, <class 'features.simulation_features.SimKFDecoderRandom'>, <class 'features.simulation_features.SimFeedbackLearner'>, <class 'features.simulation_features.SimSmoothBatch'>, <class 'feature_selection_feature.IterativeFeatureSelector'>, <class 'features.simulation_features.SimHDF'>, <class 'features.simulation_features.SimClockTick'>, <class 'features.simulation_features.SimTime'>, <class 'bmimultitasks.BMIControlMultiNoWindow'>)\n",
      "[<class 'simulation_features.TimeCountDown'>, <class 'features.simulation_features.SimIntentionLQRController'>, <class 'features.simulation_features.SimCosineTunedEncWithNoise'>, <class 'features.simulation_features.SimKFDecoderRandom'>, <class 'features.simulation_features.SimFeedbackLearner'>, <class 'features.simulation_features.SimSmoothBatch'>, <class 'feature_selection_feature.IterativeFeatureSelector'>, <class 'features.simulation_features.SimHDF'>, <class 'features.simulation_features.SimClockTick'>, <class 'features.simulation_features.SimTime'>]\n",
      "\n",
      "features.simulation_features.SimIntentionLQRController: LQRController used \n",
      "\n",
      "\n",
      " features.simulation_features.SimFeedbackLearner: start to create a sim leaner with a batchsize of 100\n",
      "features.simulation_features.SimSmoothBatch: rho in this simulation is  0.9009288012833828\n",
      "\n",
      "finished executing Experiment.__init__\n",
      "in feature selector mod\n",
      "use user supplied features\n",
      "feature init: [array([False, False, False, False, False, False, False, False, False,\n",
      "       False, False, False, False, False, False, False, False, False,\n",
      "       False, False, False, False, False, False,  True,  True,  True,\n",
      "        True,  True,  True,  True,  True])]\n",
      "feature selector: add initial decoder weights\n",
      "<class 'features.simulation_features.SimCosineTunedEncWithNoise'>: added CosineTunedEncWithNoise \n",
      "TimeCountDown: assume  fps to be 60\n",
      "metaclass constructor\n",
      "(<class 'simulation_features.TimeCountDown'>, <class 'features.simulation_features.SimIntentionLQRController'>, <class 'features.simulation_features.SimCosineTunedEncWithNoise'>, <class 'features.simulation_features.SimKFDecoderRandom'>, <class 'features.simulation_features.SimFeedbackLearner'>, <class 'features.simulation_features.SimSmoothBatch'>, <class 'feature_selection_feature.FeatureSelector'>, <class 'features.simulation_features.SimHDF'>, <class 'features.simulation_features.SimClockTick'>, <class 'features.simulation_features.SimTime'>, <class 'bmimultitasks.BMIControlMultiNoWindow'>)\n",
      "[<class 'simulation_features.TimeCountDown'>, <class 'features.simulation_features.SimIntentionLQRController'>, <class 'features.simulation_features.SimCosineTunedEncWithNoise'>, <class 'features.simulation_features.SimKFDecoderRandom'>, <class 'features.simulation_features.SimFeedbackLearner'>, <class 'features.simulation_features.SimSmoothBatch'>, <class 'feature_selection_feature.FeatureSelector'>, <class 'features.simulation_features.SimHDF'>, <class 'features.simulation_features.SimClockTick'>, <class 'features.simulation_features.SimTime'>]\n",
      "\n",
      "features.simulation_features.SimIntentionLQRController: LQRController used \n",
      "\n",
      "\n",
      " features.simulation_features.SimFeedbackLearner: start to create a sim leaner with a batchsize of 100\n",
      "features.simulation_features.SimSmoothBatch: rho in this simulation is  0.9009288012833828\n",
      "\n",
      "finished executing Experiment.__init__\n",
      "in feature selector mod\n",
      "use user supplied features\n",
      "feature init: [array([False, False, False, False, False, False, False, False, False,\n",
      "       False, False, False, False, False, False, False, False, False,\n",
      "       False, False, False, False, False, False,  True,  True,  True,\n",
      "        True,  True,  True,  True,  True])]\n",
      "feature selector: add initial decoder weights\n",
      "<class 'features.simulation_features.SimCosineTunedEncWithNoise'>: added CosineTunedEncWithNoise \n",
      "TimeCountDown: assume  fps to be 60\n",
      "\n",
      " using encoder with additional noises  State space: ['hand_px', 'hand_py', 'hand_pz', 'hand_vx', 'hand_vy', 'hand_vz', 'offset'] \n",
      "\n",
      "<bound method GenericCosEncWithNoise._gen_fixed_gaussian_noise of <riglib.bmi.sim_neurons.GenericCosEncWithNoise object at 0x7f34ba128100>>\n",
      "neural encoder init function  <BMIControlMultiNoWindow(Thread-4, initial)>\n",
      "features.simulation_features: added tracking of K matrix\n",
      "<bmimultitasks.SimpleEndpointAssister object at 0x7f34ba170b20>\n",
      "features.simulation_features: batch size is 100\n",
      "Reset states for learner: \n",
      "[]\n",
      "Done states for learner: \n",
      "[]\n",
      "\n",
      "features.simulation_features.SimFeedbackLearner: flip the self.learn_flag to true\n",
      "features.simulation_features.SimFeedbackLearner: succussfully created a feedback controller learner\n",
      "\n",
      "\n",
      "SimSmoothBatch: created an updater with a batch time of 1 and a half_life of 6.643856189774724 \n",
      "\n",
      "next\n",
      "\n",
      "\n",
      " using encoder with additional noises  State space: ['hand_px', 'hand_py', 'hand_pz', 'hand_vx', 'hand_vy', 'hand_vz', 'offset'] \n",
      "\n",
      "<bound method GenericCosEncWithNoise._gen_fixed_gaussian_noise of <riglib.bmi.sim_neurons.GenericCosEncWithNoise object at 0x7f34ba11b1f0>>\n",
      "neural encoder init function  <BMIControlMultiNoWindow(Thread-5, initial)>\n",
      "features.simulation_features: added tracking of K matrix\n",
      "<bmimultitasks.SimpleEndpointAssister object at 0x7f34ba128d30>\n",
      "features.simulation_features: batch size is 100\n",
      "Reset states for learner: \n",
      "[]\n",
      "Done states for learner: \n",
      "[]\n",
      "\n",
      "features.simulation_features.SimFeedbackLearner: flip the self.learn_flag to true\n",
      "features.simulation_features.SimFeedbackLearner: succussfully created a feedback controller learner\n",
      "\n",
      "\n",
      "SimSmoothBatch: created an updater with a batch time of 1 and a half_life of 6.643856189774724 \n",
      "\n",
      "next\n",
      "\n",
      "\n",
      " using encoder with additional noises  State space: ['hand_px', 'hand_py', 'hand_pz', 'hand_vx', 'hand_vy', 'hand_vz', 'offset'] \n",
      "\n",
      "<bound method GenericCosEncWithNoise._gen_fixed_gaussian_noise of <riglib.bmi.sim_neurons.GenericCosEncWithNoise object at 0x7f34ba11bb20>>\n",
      "neural encoder init function  <BMIControlMultiNoWindow(Thread-6, initial)>\n",
      "features.simulation_features: added tracking of K matrix\n",
      "<bmimultitasks.SimpleEndpointAssister object at 0x7f34ba11bd60>\n",
      "features.simulation_features: batch size is 100\n",
      "Reset states for learner: \n",
      "[]\n",
      "Done states for learner: \n",
      "[]\n",
      "\n",
      "features.simulation_features.SimFeedbackLearner: flip the self.learn_flag to true\n",
      "features.simulation_features.SimFeedbackLearner: succussfully created a feedback controller learner\n",
      "\n",
      "\n",
      "SimSmoothBatch: created an updater with a batch time of 1 and a half_life of 6.643856189774724 \n",
      "\n",
      "next\n",
      "\n"
     ]
    }
   ],
   "source": [
    "#seed the experiment\n",
    "np.random.seed(0)\n",
    "\n",
    "\n",
    "exps = list()#create a list of experiment\n",
    "\n",
    "for i,s in enumerate(seqs):\n",
    "    #spawn the task\n",
    "    f = exp_feats[i]\n",
    "    Exp = experiment.make(base_class, feats=f)\n",
    "    \n",
    "    e = Exp(s, **kwargs_exps[i])\n",
    "    exps.append(e)\n",
    "\n",
    "\n",
    "exps_np  = np.array(exps, dtype = 'object')\n",
    "    \n",
    "#run the ini\n",
    "for e in exps_np: \n",
    "    e.init()\n",
    "    print('next')\n",
    "    print()"
   ]
  },
  {
   "cell_type": "markdown",
   "metadata": {},
   "source": [
    "# Pre-experiment check: check the Kalman filter before training"
   ]
  },
  {
   "cell_type": "code",
   "execution_count": 20,
   "metadata": {
    "ExecuteTime": {
     "end_time": "2021-06-02T19:14:33.436589Z",
     "start_time": "2021-06-02T19:14:32.953077Z"
    }
   },
   "outputs": [
    {
     "name": "stdout",
     "output_type": "stream",
     "text": [
      "we replace the encoder using the weights\n",
      "assume, they are all randomly initialized get the first decoder\n",
      "get a handle to the first decoder\n",
      "\n",
      "[[5000.    0.    0. ...    0.    0.    0.]\n",
      " [   0. 5000.    0. ...    0.    0.    0.]\n",
      " [   0.    0. 5000. ...    0.    0.    0.]\n",
      " ...\n",
      " [   0.    0.    0. ... 5000.    0.    0.]\n",
      " [   0.    0.    0. ...    0. 5000.    0.]\n",
      " [   0.    0.    0. ...    0.    0. 5000.]]\n",
      "select_decoder_features: _change_one_flag = False\n",
      "(32, 7)\n",
      "(32, 7)\n",
      "active feature set is [ True  True  True  True  True  True  True  True  True  True  True  True\n",
      "  True  True  True  True  True  True  True  True  True  True  True  True\n",
      "  True  True  True  True  True  True  True  True]\n",
      "after trans: (32, 7)\n",
      "after trans: (32, 32)\n",
      "decoder change flag to false\n",
      "select_decoder_features: _change_one_flag = False\n",
      "(32, 7)\n",
      "(32, 7)\n",
      "active feature set is [False False False False False False False False False False False False\n",
      " False False False False False False False False False False False False\n",
      "  True  True  True  True  True  True  True  True]\n",
      "after trans: (8, 7)\n",
      "after trans: (8, 8)\n",
      "decoder change flag to false\n",
      "select_decoder_features: _change_one_flag = False\n",
      "(32, 7)\n",
      "(32, 7)\n",
      "active feature set is [False False False False False False False False False False False False\n",
      " False False False False False False False False False False False False\n",
      "  True  True  True  True  True  True  True  True]\n",
      "after trans: (8, 7)\n",
      "after trans: (8, 8)\n",
      "decoder change flag to false\n",
      "we check the new decoder C matrix:\n"
     ]
    },
    {
     "data": {
      "image/png": "[encoded data removed]",
      "text/plain": [
       "<Figure size 864x576 with 6 Axes>"
      ]
     },
     "metadata": {
      "needs_background": "light"
     },
     "output_type": "display_data"
    }
   ],
   "source": [
    "from afs_plotting import plot_prefered_directions\n",
    "\n",
    "print('we replace the encoder using the weights')\n",
    "print('assume, they are all randomly initialized get the first decoder')\n",
    "print('get a handle to the first decoder')\n",
    "first_decoder = exps_np[0].decoder\n",
    "target_C = first_decoder.filt.C\n",
    "target_Q = np.copy(first_decoder.filt.Q)\n",
    "\n",
    "print()\n",
    "diag_val = 5000\n",
    "np.fill_diagonal(target_Q, diag_val)\n",
    "\n",
    "print(target_Q)\n",
    "    \n",
    "#replace the decoder\n",
    "for i,e in enumerate(exps):\n",
    "    weights.change_target_kalman_filter_with_a_C_mat(e.decoder.filt, target_C, \n",
    "                                                     Q= target_Q, debug=False)\n",
    "    e.select_decoder_features(e.decoder)\n",
    "    e.record_feature_active_set(e.decoder)\n",
    "    \n",
    "print('we check the new decoder C matrix:')\n",
    "\n",
    "figure_decoder_C, axs_decoder_C = plt.subplots(nrows=2, \n",
    "                               ncols=NUM_EXP, figsize = [GLOBAL_FIGURE_VERTICAL_SIZE * NUM_EXP, GLOBAL_FIGURE_VERTICAL_SIZE * 2],squeeze = False)\n",
    "figure_decoder_C.suptitle('KF C Matrix Before Training ')\n",
    "\n",
    "for i,e in enumerate(exps):\n",
    "    C = e.decoder.filt.C\n",
    "    plot_prefered_directions(C, ax = axs_decoder_C[0,i])\n",
    "    axs_decoder_C[0,i].set_title(exp_conds[i])"
   ]
  },
  {
   "cell_type": "markdown",
   "metadata": {},
   "source": [
    "# Experiment run: assemble into a complete loop"
   ]
  },
  {
   "cell_type": "markdown",
   "metadata": {},
   "source": [
    "##  define the function"
   ]
  },
  {
   "cell_type": "code",
   "execution_count": 21,
   "metadata": {
    "ExecuteTime": {
     "end_time": "2021-06-02T19:14:33.449508Z",
     "start_time": "2021-06-02T19:14:33.437607Z"
    },
    "scrolled": true
   },
   "outputs": [],
   "source": [
    "#make this into a loop\n",
    "\n",
    "\n",
    "\n",
    "def run_exp_loop(exp,  **kwargs):\n",
    "        # riglib.experiment: line 597 - 601\n",
    "    #exp.next_trial = next(exp.gen)\n",
    "    # -+exp._parse_next_trial()np.arraynp.array\n",
    "\n",
    "\n",
    "    # we need to set the initial state\n",
    "    # per fsm.run:  line 138\n",
    "\n",
    "\n",
    "    # Initialize the FSM before the loop\n",
    "    exp.set_state(exp.state)\n",
    "    \n",
    "    finished_trials = exp.calc_state_occurrences('wait')\n",
    "    print(f'finished: {finished_trials}')\n",
    "\n",
    "\n",
    "    while exp.state is not None:\n",
    "\n",
    "        # exp.fsm_tick()\n",
    "\n",
    "        ### Execute commands#####\n",
    "        exp.exec_state_specific_actions(exp.state)\n",
    "\n",
    "        ###run the bmi loop #####\n",
    "        # _cycle\n",
    "\n",
    "        # bmi feature extraction, eh\n",
    "        #riglib.bmi: 1202\n",
    "        feature_data = exp.get_features()\n",
    "\n",
    "        # Determine the target_state and save to file\n",
    "        current_assist_level = exp.get_current_assist_level()\n",
    "        target_state = exp.get_target_BMI_state(exp.decoder.states)\n",
    "\n",
    "        # Determine the assistive control inputs to the Decoder\n",
    "        #update assistive control level\n",
    "        exp.update_level()\n",
    "        if np.any(current_assist_level) > 0:\n",
    "            current_state = exp.get_current_state()\n",
    "\n",
    "            if target_state.shape[1] > 1:\n",
    "                assist_kwargs = exp.assister(current_state, \n",
    "                                             target_state[:,0].reshape(-1,1), \n",
    "                                             current_assist_level, mode= exp.state)\n",
    "            else:\n",
    "                assist_kwargs = exp.assister(current_state, \n",
    "                                              target_state, \n",
    "                                              current_assist_level, \n",
    "                                              mode= exp.state)\n",
    "\n",
    "            kwargs.update(assist_kwargs)\n",
    "            \n",
    "        \n",
    "\n",
    "        # decode the new features\n",
    "        # riglib.bmi.bmiloop: line 1245\n",
    "        neural_features = feature_data[exp.extractor.feature_type]\n",
    "        \n",
    "        \n",
    "\n",
    "        # call decoder.\n",
    "        #tmp = exp.call_decoder(neural_features, target_state, **kwargs)\n",
    "        neural_obs = neural_features\n",
    "        learn_flag = exp.learn_flag\n",
    "        task_state = exp.state\n",
    "\n",
    "        n_units, n_obs = neural_obs.shape\n",
    "        # If the target is specified as a 1D position, tile to match\n",
    "        # the number of dimensions as the neural features\n",
    "        if np.ndim(target_state) == 1 or (target_state.shape[1] == 1 and n_obs > 1):\n",
    "            target_state = np.tile(target_state, [1, n_obs])\n",
    "\n",
    "        decoded_states = np.zeros([exp.bmi_system.decoder.n_states, n_obs])\n",
    "        update_flag = False\n",
    "\n",
    "        for k in range(n_obs):\n",
    "            neural_obs_k = neural_obs[:, k].reshape(-1, 1)\n",
    "            target_state_k = target_state[:, k]\n",
    "\n",
    "            # NOTE: the conditional below is *only* for compatibility with older Carmena\n",
    "            # lab data collected using a different MATLAB-based system. In all python cases,\n",
    "            # the task_state should never contain NaN values.\n",
    "            if np.any(np.isnan(target_state_k)):\n",
    "                task_state = 'no_target'\n",
    "\n",
    "            #################################\n",
    "            # Decode the current observation\n",
    "            #################################\n",
    "            unselected_decodable_obs, decode = exp.bmi_system.feature_accumulator(\n",
    "                neural_obs_k)\n",
    "            \n",
    "            if exp.is_feature_change():\n",
    "                #take care of the decoder selection stuff             \n",
    "                \n",
    "                decodable_obs = exp.select_features(unselected_decodable_obs)\n",
    "            else:\n",
    "                decodable_obs = unselected_decodable_obs.copy()\n",
    "            \n",
    "            if decode:  # if a new decodable observation is available from the feature accumulator\n",
    "                prev_state = exp.bmi_system.decoder.get_state()\n",
    "\n",
    "                exp.bmi_system.decoder(decodable_obs, **kwargs)\n",
    "                # Determine whether the current state or previous state should be given to the learner\n",
    "                if exp.bmi_system.learner.input_state_index == 0:\n",
    "                    learner_state = exp.bmi_system.decoder.get_state()\n",
    "                elif exp.bmi_system.learner.input_state_index == -1:\n",
    "                    learner_state = prev_state\n",
    "                else:\n",
    "                    print((\"Not implemented yet: %d\" %\n",
    "                           exp.bmi_system.learner.input_state_index))\n",
    "                    learner_state = prev_state\n",
    "\n",
    "                if learn_flag:\n",
    "                    exp.bmi_system.learner(unselected_decodable_obs.copy(), learner_state, target_state_k, exp.bmi_system.decoder.get_state(\n",
    "                    ), task_state, state_order=exp.bmi_system.decoder.ssm.state_order)\n",
    "\n",
    "            decoded_states[:, k] = exp.bmi_system.decoder.get_state()\n",
    "\n",
    "            ############################\n",
    "            # Update decoder parameters\n",
    "            ############################\n",
    "            if exp.bmi_system.learner.is_ready():\n",
    "                batch_data = exp.bmi_system.learner.get_batch()\n",
    "                batch_data['decoder'] = exp.bmi_system.decoder\n",
    "                \n",
    "                #for feature selection\n",
    "                unselected_batch = np.copy(batch_data['spike_counts'])\n",
    "                selected_batch = np.copy(unselected_batch[exp._active_feat_set,:])\n",
    "                batch_data['spike_counts'] = selected_batch.copy()\n",
    "                \n",
    "                kwargs.update(batch_data)\n",
    "                exp.bmi_system.updater(**kwargs)\n",
    "                exp.bmi_system.learner.disable()\n",
    "                \n",
    "                #measure features. \n",
    "                if isinstance(exp, FeatureSelector):\n",
    "                    exp.measure_features(unselected_batch,\n",
    "                                       batch_data['intended_kin'])\n",
    "                \n",
    "\n",
    "            new_params = None  # by default, no new parameters are available\n",
    "            if exp.bmi_system.has_updater:\n",
    "                new_params = copy.deepcopy(exp.bmi_system.updater.get_result())\n",
    "\n",
    "            # Update the decoder if new parameters are available\n",
    "            if not (new_params is None):\n",
    "                exp.bmi_system.decoder.update_params(\n",
    "                    new_params, **exp.bmi_system.updater.update_kwargs)\n",
    "                new_params['intended_kin'] = batch_data['intended_kin']\n",
    "                new_params['spike_counts_batch'] = batch_data['spike_counts']\n",
    "\n",
    "                exp.bmi_system.learner.enable()\n",
    "                update_flag = True\n",
    "\n",
    "                # Save new parameters to parameter history\n",
    "                exp.bmi_system.param_hist.append(new_params)\n",
    "                \n",
    "                #take care of the decoder selection stuff\n",
    "                if exp.is_decoder_change():\n",
    "                    #only select the first four neurons\n",
    "                    print(f'decoder changes here at {exp.cycle_count}')\n",
    "                    exp.select_decoder_features(exp.decoder, debug = True)\n",
    "                \n",
    "                #record the current feature active set\n",
    "                exp.record_feature_active_set(exp.decoder)\n",
    "\n",
    "\n",
    "        # saved as task data\n",
    "        # return decoded_states, update_flag\n",
    "        tmp = decoded_states\n",
    "        exp.task_data['internal_decoder_state'] = tmp\n",
    "\n",
    "        # reset the plant position\n",
    "        # @riglib.bmi.BMILoop.move_plant  line:1254\n",
    "        exp.plant.drive(exp.decoder)\n",
    "\n",
    "        # check state transitions and run the FSM.\n",
    "        current_state = exp.state\n",
    "\n",
    "        # iterate over the possible events which could move the task out of the current state\n",
    "        for event in exp.status[current_state]:\n",
    "            # if the event has occurred\n",
    "            if exp.test_state_transition_event(event):\n",
    "                # execute commands to end the current state\n",
    "                exp.end_state(current_state)\n",
    "\n",
    "                # trigger the transition for the event\n",
    "                exp.trigger_event(event)\n",
    "\n",
    "                # stop searching for transition events (transition events must be\n",
    "                # mutually exclusive for this FSM to function properly)\n",
    "                break\n",
    "\n",
    "        # sort out the loop params.\n",
    "        # inc cycle count\n",
    "        exp.cycle_count += 1\n",
    "\n",
    "        # save target data as was done in manualControlTasks._cycle\n",
    "        exp.task_data['target'] = exp.target_location.copy()\n",
    "        exp.task_data['target_index'] = exp.target_index\n",
    "\n",
    "        #done in bmi:_cycle after move_plant\n",
    "        exp.task_data['loop_time'] = exp.iter_time()\n",
    "\n",
    "\n",
    "        #fb_controller data\n",
    "        exp.task_data['target_state'] = target_state\n",
    "\n",
    "        #encoder data\n",
    "        #input to this is actually extractor\n",
    "        exp.task_data['ctrl_input'] = np.reshape(exp.extractor.sim_ctrl, (1,-1))\n",
    "\n",
    "        #actually output\n",
    "        exp.task_data['spike_counts'] = feature_data['spike_counts']\n",
    "        exp.k_mat_params.append(np.copy(exp.decoder.filt.K))\n",
    "\n",
    "\n",
    "        #save the decoder_state\n",
    "        #from BMILoop.move_plant\n",
    "        exp.task_data['decoder_state'] = exp.decoder.get_state(shape=(-1,1))\n",
    "        \n",
    "        #save bmi_data\n",
    "        exp.task_data['update_bmi'] = update_flag\n",
    "\n",
    "\n",
    "        # as well as plant data.\n",
    "        plant_data = exp.plant.get_data_to_save()\n",
    "        for key in plant_data:\n",
    "            exp.task_data[key] = plant_data[key]\n",
    "\n",
    "        # clda data handled in the above call.\n",
    "\n",
    "        # save to the list hisory of data.\n",
    "        exp.task_data_hist.append(exp.task_data.copy())\n",
    "        \n",
    "        #deal with the task count_down features\n",
    "        \n",
    "        if hasattr(exp, 'TOTAL_RUNNNING_TIME'):\n",
    "            if exp.cycle_count == exp.total_frames:\n",
    "                exp.state = None\n",
    "                print('exit')\n",
    "        \n",
    "        #print out the trial update whenever wait count changes, alright. \n",
    "        if finished_trials != exp.calc_state_occurrences('wait'):\n",
    "            finished_trials = exp.calc_state_occurrences('wait')\n",
    "            print(f'finished trials :{finished_trials} with a current assist level of {exp.get_current_assist_level()}')\n",
    "\n",
    "\n",
    "    if exp.verbose:\n",
    "        print(\"end of FSM.run, task state is\", exp.state)\n",
    "    \n",
    "    \n"
   ]
  },
  {
   "cell_type": "markdown",
   "metadata": {},
   "source": [
    "## actually running the experiments"
   ]
  },
  {
   "cell_type": "code",
   "execution_count": 22,
   "metadata": {
    "ExecuteTime": {
     "end_time": "2021-06-02T19:18:05.909785Z",
     "start_time": "2021-06-02T19:14:33.451368Z"
    },
    "scrolled": false
   },
   "outputs": [
    {
     "name": "stdout",
     "output_type": "stream",
     "text": [
      "runseq\n",
      "finished: 1\n",
      "assist_level at final value after 0 successful trials\n"
     ]
    },
    {
     "name": "stderr",
     "output_type": "stream",
     "text": [
      "/home/sijia-aw/BMi3D_my/lab_bmi3d/riglib/bmi/kfdecoder.py:372: FutureWarning: `rcond` parameter will change to the default of machine precision times ``max(M, N)`` where M and N are the input matrix dimensions.\n",
      "To use the future default and silence this warning we advise to pass `rcond=None`, to keep using the old, explicitly pass `rcond=-1`.\n",
      "  C = np.mat(np.linalg.lstsq(X.T, Y.T)[0].T)\n"
     ]
    },
    {
     "name": "stdout",
     "output_type": "stream",
     "text": [
      "finished trials :2 with a current assist level of 0.0\n",
      "finished trials :3 with a current assist level of 0.0\n",
      "finished trials :4 with a current assist level of 0.0\n",
      "finished trials :5 with a current assist level of 0.0\n",
      "finished trials :6 with a current assist level of 0.0\n",
      "finished trials :7 with a current assist level of 0.0\n",
      "finished trials :8 with a current assist level of 0.0\n",
      "finished trials :9 with a current assist level of 0.0\n",
      "finished trials :10 with a current assist level of 0.0\n",
      "finished trials :11 with a current assist level of 0.0\n",
      "finished trials :12 with a current assist level of 0.0\n",
      "finished trials :13 with a current assist level of 0.0\n",
      "finished trials :14 with a current assist level of 0.0\n",
      "finished trials :15 with a current assist level of 0.0\n",
      "finished trials :16 with a current assist level of 0.0\n",
      "finished trials :17 with a current assist level of 0.0\n",
      "finished trials :18 with a current assist level of 0.0\n",
      "finished trials :19 with a current assist level of 0.0\n",
      "finished trials :20 with a current assist level of 0.0\n",
      "finished trials :21 with a current assist level of 0.0\n",
      "finished trials :22 with a current assist level of 0.0\n",
      "finished trials :23 with a current assist level of 0.0\n",
      "finished trials :24 with a current assist level of 0.0\n",
      "finished trials :25 with a current assist level of 0.0\n",
      "finished trials :26 with a current assist level of 0.0\n",
      "finished trials :27 with a current assist level of 0.0\n",
      "finished trials :28 with a current assist level of 0.0\n",
      "finished trials :29 with a current assist level of 0.0\n",
      "finished trials :30 with a current assist level of 0.0\n",
      "finished trials :31 with a current assist level of 0.0\n",
      "finished trials :32 with a current assist level of 0.0\n",
      "finished trials :33 with a current assist level of 0.0\n",
      "finished trials :34 with a current assist level of 0.0\n",
      "finished trials :35 with a current assist level of 0.0\n",
      "finished trials :36 with a current assist level of 0.0\n",
      "finished trials :37 with a current assist level of 0.0\n",
      "finished trials :38 with a current assist level of 0.0\n",
      "finished trials :39 with a current assist level of 0.0\n",
      "finished trials :40 with a current assist level of 0.0\n",
      "finished trials :41 with a current assist level of 0.0\n",
      "finished trials :42 with a current assist level of 0.0\n",
      "finished trials :43 with a current assist level of 0.0\n",
      "finished trials :44 with a current assist level of 0.0\n",
      "finished trials :45 with a current assist level of 0.0\n",
      "finished trials :46 with a current assist level of 0.0\n",
      "finished trials :47 with a current assist level of 0.0\n",
      "finished trials :48 with a current assist level of 0.0\n",
      "finished trials :49 with a current assist level of 0.0\n",
      "finished trials :50 with a current assist level of 0.0\n",
      "finished trials :51 with a current assist level of 0.0\n",
      "finished trials :52 with a current assist level of 0.0\n",
      "finished trials :53 with a current assist level of 0.0\n",
      "finished trials :54 with a current assist level of 0.0\n",
      "finished trials :55 with a current assist level of 0.0\n",
      "finished trials :56 with a current assist level of 0.0\n",
      "finished trials :57 with a current assist level of 0.0\n",
      "finished trials :58 with a current assist level of 0.0\n",
      "finished trials :59 with a current assist level of 0.0\n",
      "finished trials :60 with a current assist level of 0.0\n",
      "finished trials :61 with a current assist level of 0.0\n",
      "finished trials :62 with a current assist level of 0.0\n",
      "finished trials :63 with a current assist level of 0.0\n",
      "finished trials :64 with a current assist level of 0.0\n",
      "finished trials :65 with a current assist level of 0.0\n",
      "finished trials :66 with a current assist level of 0.0\n",
      "finished trials :67 with a current assist level of 0.0\n",
      "finished trials :68 with a current assist level of 0.0\n",
      "finished trials :69 with a current assist level of 0.0\n",
      "finished trials :70 with a current assist level of 0.0\n",
      "finished trials :71 with a current assist level of 0.0\n",
      "finished trials :72 with a current assist level of 0.0\n",
      "finished trials :73 with a current assist level of 0.0\n",
      "finished trials :74 with a current assist level of 0.0\n",
      "finished trials :75 with a current assist level of 0.0\n",
      "finished trials :76 with a current assist level of 0.0\n",
      "finished trials :77 with a current assist level of 0.0\n",
      "finished trials :78 with a current assist level of 0.0\n",
      "finished trials :79 with a current assist level of 0.0\n",
      "finished trials :80 with a current assist level of 0.0\n",
      "finished trials :81 with a current assist level of 0.0\n",
      "finished trials :82 with a current assist level of 0.0\n",
      "finished trials :83 with a current assist level of 0.0\n",
      "finished trials :84 with a current assist level of 0.0\n",
      "finished trials :85 with a current assist level of 0.0\n",
      "finished trials :86 with a current assist level of 0.0\n",
      "finished trials :87 with a current assist level of 0.0\n",
      "finished trials :88 with a current assist level of 0.0\n",
      "finished trials :89 with a current assist level of 0.0\n",
      "finished trials :90 with a current assist level of 0.0\n",
      "finished trials :91 with a current assist level of 0.0\n",
      "finished trials :92 with a current assist level of 0.0\n",
      "finished trials :93 with a current assist level of 0.0\n",
      "finished trials :94 with a current assist level of 0.0\n",
      "finished trials :95 with a current assist level of 0.0\n",
      "finished trials :96 with a current assist level of 0.0\n",
      "finished trials :97 with a current assist level of 0.0\n",
      "finished trials :98 with a current assist level of 0.0\n",
      "finished trials :99 with a current assist level of 0.0\n",
      "finished trials :100 with a current assist level of 0.0\n",
      "finished trials :101 with a current assist level of 0.0\n",
      "finished trials :102 with a current assist level of 0.0\n",
      "finished trials :103 with a current assist level of 0.0\n",
      "finished trials :104 with a current assist level of 0.0\n",
      "finished trials :105 with a current assist level of 0.0\n",
      "finished trials :106 with a current assist level of 0.0\n",
      "finished trials :107 with a current assist level of 0.0\n",
      "finished trials :108 with a current assist level of 0.0\n",
      "finished trials :109 with a current assist level of 0.0\n",
      "finished trials :110 with a current assist level of 0.0\n",
      "finished trials :111 with a current assist level of 0.0\n",
      "finished trials :112 with a current assist level of 0.0\n",
      "finished trials :113 with a current assist level of 0.0\n",
      "finished trials :114 with a current assist level of 0.0\n",
      "finished trials :115 with a current assist level of 0.0\n",
      "finished trials :116 with a current assist level of 0.0\n",
      "finished trials :117 with a current assist level of 0.0\n",
      "finished trials :118 with a current assist level of 0.0\n",
      "finished trials :119 with a current assist level of 0.0\n",
      "finished trials :120 with a current assist level of 0.0\n",
      "finished trials :121 with a current assist level of 0.0\n",
      "finished trials :122 with a current assist level of 0.0\n",
      "finished trials :123 with a current assist level of 0.0\n",
      "finished trials :124 with a current assist level of 0.0\n",
      "finished trials :125 with a current assist level of 0.0\n",
      "finished trials :126 with a current assist level of 0.0\n",
      "finished trials :127 with a current assist level of 0.0\n",
      "finished trials :128 with a current assist level of 0.0\n",
      "finished trials :129 with a current assist level of 0.0\n",
      "finished trials :130 with a current assist level of 0.0\n",
      "finished trials :131 with a current assist level of 0.0\n",
      "finished trials :132 with a current assist level of 0.0\n",
      "finished trials :133 with a current assist level of 0.0\n",
      "finished trials :134 with a current assist level of 0.0\n",
      "finished trials :135 with a current assist level of 0.0\n",
      "finished trials :136 with a current assist level of 0.0\n",
      "finished trials :137 with a current assist level of 0.0\n",
      "finished trials :138 with a current assist level of 0.0\n",
      "finished trials :139 with a current assist level of 0.0\n",
      "finished trials :140 with a current assist level of 0.0\n",
      "finished trials :141 with a current assist level of 0.0\n",
      "finished trials :142 with a current assist level of 0.0\n",
      "finished trials :143 with a current assist level of 0.0\n",
      "finished trials :144 with a current assist level of 0.0\n",
      "finished trials :145 with a current assist level of 0.0\n",
      "finished trials :146 with a current assist level of 0.0\n",
      "finished trials :147 with a current assist level of 0.0\n",
      "finished trials :148 with a current assist level of 0.0\n",
      "finished trials :149 with a current assist level of 0.0\n",
      "finished trials :150 with a current assist level of 0.0\n",
      "finished trials :151 with a current assist level of 0.0\n"
     ]
    },
    {
     "name": "stdout",
     "output_type": "stream",
     "text": [
      "finished trials :152 with a current assist level of 0.0\n",
      "finished trials :153 with a current assist level of 0.0\n",
      "finished trials :154 with a current assist level of 0.0\n",
      "finished trials :155 with a current assist level of 0.0\n",
      "finished trials :156 with a current assist level of 0.0\n",
      "finished trials :157 with a current assist level of 0.0\n",
      "finished trials :158 with a current assist level of 0.0\n",
      "finished trials :159 with a current assist level of 0.0\n",
      "finished trials :160 with a current assist level of 0.0\n",
      "finished trials :161 with a current assist level of 0.0\n",
      "finished trials :162 with a current assist level of 0.0\n",
      "finished trials :163 with a current assist level of 0.0\n",
      "finished trials :164 with a current assist level of 0.0\n",
      "finished trials :165 with a current assist level of 0.0\n",
      "finished trials :166 with a current assist level of 0.0\n",
      "finished trials :167 with a current assist level of 0.0\n",
      "finished trials :168 with a current assist level of 0.0\n",
      "finished trials :169 with a current assist level of 0.0\n",
      "finished trials :170 with a current assist level of 0.0\n",
      "finished trials :171 with a current assist level of 0.0\n",
      "finished trials :172 with a current assist level of 0.0\n",
      "finished trials :173 with a current assist level of 0.0\n",
      "finished trials :174 with a current assist level of 0.0\n",
      "finished trials :175 with a current assist level of 0.0\n",
      "finished trials :176 with a current assist level of 0.0\n",
      "finished trials :177 with a current assist level of 0.0\n",
      "finished trials :178 with a current assist level of 0.0\n",
      "finished trials :179 with a current assist level of 0.0\n",
      "finished trials :180 with a current assist level of 0.0\n",
      "finished trials :181 with a current assist level of 0.0\n",
      "finished trials :182 with a current assist level of 0.0\n",
      "finished trials :183 with a current assist level of 0.0\n",
      "finished trials :184 with a current assist level of 0.0\n",
      "finished trials :185 with a current assist level of 0.0\n",
      "finished trials :186 with a current assist level of 0.0\n",
      "finished trials :187 with a current assist level of 0.0\n",
      "finished trials :188 with a current assist level of 0.0\n",
      "finished trials :189 with a current assist level of 0.0\n",
      "finished trials :190 with a current assist level of 0.0\n",
      "finished trials :191 with a current assist level of 0.0\n",
      "finished trials :192 with a current assist level of 0.0\n",
      "finished trials :193 with a current assist level of 0.0\n",
      "finished trials :194 with a current assist level of 0.0\n",
      "finished trials :195 with a current assist level of 0.0\n",
      "finished trials :196 with a current assist level of 0.0\n",
      "finished trials :197 with a current assist level of 0.0\n",
      "finished trials :198 with a current assist level of 0.0\n",
      "finished trials :199 with a current assist level of 0.0\n",
      "finished trials :200 with a current assist level of 0.0\n",
      "finished trials :201 with a current assist level of 0.0\n",
      "end of FSM.run, task state is None\n",
      "Finished running  w/o feature selection\n",
      "\n",
      "\n",
      "runseq\n",
      "finished: 1\n",
      "finished trials :2 with a current assist level of 0.0\n",
      "finished trials :3 with a current assist level of 0.0\n",
      "finished trials :4 with a current assist level of 0.0\n",
      "finished trials :5 with a current assist level of 0.0\n",
      "finished trials :6 with a current assist level of 0.0\n",
      "finished trials :7 with a current assist level of 0.0\n",
      "finished trials :8 with a current assist level of 0.0\n",
      "finished trials :9 with a current assist level of 0.0\n",
      "finished trials :10 with a current assist level of 0.0\n",
      "finished trials :11 with a current assist level of 0.0\n",
      "finished trials :12 with a current assist level of 0.0\n",
      "finished trials :13 with a current assist level of 0.0\n",
      "finished trials :14 with a current assist level of 0.0\n",
      "finished trials :15 with a current assist level of 0.0\n",
      "finished trials :16 with a current assist level of 0.0\n",
      "finished trials :17 with a current assist level of 0.0\n",
      "finished trials :18 with a current assist level of 0.0\n",
      "finished trials :19 with a current assist level of 0.0\n",
      "finished trials :20 with a current assist level of 0.0\n",
      "finished trials :21 with a current assist level of 0.0\n",
      "finished trials :22 with a current assist level of 0.0\n",
      "finished trials :23 with a current assist level of 0.0\n",
      "finished trials :24 with a current assist level of 0.0\n",
      "finished trials :25 with a current assist level of 0.0\n",
      "finished trials :26 with a current assist level of 0.0\n",
      "finished trials :27 with a current assist level of 0.0\n",
      "finished trials :28 with a current assist level of 0.0\n",
      "finished trials :29 with a current assist level of 0.0\n",
      "finished trials :30 with a current assist level of 0.0\n",
      "finished trials :31 with a current assist level of 0.0\n",
      "finished trials :32 with a current assist level of 0.0\n",
      "finished trials :33 with a current assist level of 0.0\n",
      "finished trials :34 with a current assist level of 0.0\n",
      "finished trials :35 with a current assist level of 0.0\n",
      "finished trials :36 with a current assist level of 0.0\n",
      "finished trials :37 with a current assist level of 0.0\n",
      "finished trials :38 with a current assist level of 0.0\n",
      "finished trials :39 with a current assist level of 0.0\n",
      "decoder changes here at 36599\n",
      "select_decoder_features: _change_one_flag = False\n",
      "(8, 7)\n",
      "(8, 7)\n",
      "active feature set is [False False False False False False False False False False False False\n",
      " False False False False False False False False False False False  True\n",
      "  True  True  True  True  True  True  True  True]\n",
      "after trans: (9, 7)\n",
      "after trans: (9, 9)\n",
      "decoder change flag to false\n",
      "finished trials :40 with a current assist level of 0.0\n",
      "decoder changes here at 37199\n",
      "select_decoder_features: _change_one_flag = False\n",
      "(9, 7)\n",
      "(9, 7)\n",
      "active feature set is [False False False False False False False False False False False False\n",
      " False False False False False False False False False False  True  True\n",
      "  True  True  True  True  True  True  True  True]\n",
      "after trans: (10, 7)\n",
      "after trans: (10, 10)\n",
      "decoder change flag to false\n",
      "finished trials :41 with a current assist level of 0.0\n",
      "finished trials :42 with a current assist level of 0.0\n",
      "decoder changes here at 37799\n",
      "select_decoder_features: _change_one_flag = False\n",
      "(10, 7)\n",
      "(10, 7)\n",
      "active feature set is [False False False False False False False False False False False False\n",
      " False False False False False False False False False  True  True  True\n",
      "  True  True  True  True  True  True  True  True]\n",
      "after trans: (11, 7)\n",
      "after trans: (11, 11)\n",
      "decoder change flag to false\n",
      "finished trials :43 with a current assist level of 0.0\n",
      "decoder changes here at 38399\n",
      "select_decoder_features: _change_one_flag = False\n",
      "(11, 7)\n",
      "(11, 7)\n",
      "active feature set is [False False False False False False False False False False False False\n",
      " False False False False False False False False  True  True  True  True\n",
      "  True  True  True  True  True  True  True  True]\n",
      "after trans: (12, 7)\n",
      "after trans: (12, 12)\n",
      "decoder change flag to false\n",
      "decoder changes here at 38999\n",
      "select_decoder_features: _change_one_flag = False\n",
      "(12, 7)\n",
      "(12, 7)\n",
      "active feature set is [False False False False False False False False False False False False\n",
      " False False False False False False False  True  True  True  True  True\n",
      "  True  True  True  True  True  True  True  True]\n",
      "after trans: (13, 7)\n",
      "after trans: (13, 13)\n",
      "decoder change flag to false\n",
      "decoder changes here at 39599\n",
      "select_decoder_features: _change_one_flag = False\n",
      "(13, 7)\n",
      "(13, 7)\n",
      "active feature set is [False False False False False False False False False False False False\n",
      " False False False False False False  True  True  True  True  True  True\n",
      "  True  True  True  True  True  True  True  True]\n",
      "after trans: (14, 7)\n",
      "after trans: (14, 14)\n",
      "decoder change flag to false\n",
      "finished trials :44 with a current assist level of 0.0\n",
      "decoder changes here at 40199\n",
      "select_decoder_features: _change_one_flag = False\n",
      "(14, 7)\n",
      "(14, 7)\n",
      "active feature set is [False False False False False False False False False False False False\n",
      " False False False False False  True  True  True  True  True  True  True\n",
      "  True  True  True  True  True  True  True  True]\n",
      "after trans: (15, 7)\n",
      "after trans: (15, 15)\n",
      "decoder change flag to false\n",
      "finished trials :45 with a current assist level of 0.0\n",
      "decoder changes here at 40799\n",
      "select_decoder_features: _change_one_flag = False\n",
      "(15, 7)\n",
      "(15, 7)\n",
      "active feature set is [False False False False False False False False False False False False\n",
      " False False False False  True  True  True  True  True  True  True  True\n",
      "  True  True  True  True  True  True  True  True]\n",
      "after trans: (16, 7)\n",
      "after trans: (16, 16)\n",
      "decoder change flag to false\n",
      "finished trials :46 with a current assist level of 0.0\n",
      "finished trials :47 with a current assist level of 0.0\n"
     ]
    },
    {
     "name": "stdout",
     "output_type": "stream",
     "text": [
      "decoder changes here at 41399\n",
      "select_decoder_features: _change_one_flag = False\n",
      "(16, 7)\n",
      "(16, 7)\n",
      "active feature set is [False False False False False False False False False False False False\n",
      " False False False  True  True  True  True  True  True  True  True  True\n",
      "  True  True  True  True  True  True  True  True]\n",
      "after trans: (17, 7)\n",
      "after trans: (17, 17)\n",
      "decoder change flag to false\n",
      "decoder changes here at 41999\n",
      "select_decoder_features: _change_one_flag = False\n",
      "(17, 7)\n",
      "(17, 7)\n",
      "active feature set is [False False False False False False False False False False False False\n",
      " False False  True  True  True  True  True  True  True  True  True  True\n",
      "  True  True  True  True  True  True  True  True]\n",
      "after trans: (18, 7)\n",
      "after trans: (18, 18)\n",
      "decoder change flag to false\n",
      "decoder changes here at 42599\n",
      "select_decoder_features: _change_one_flag = False\n",
      "(18, 7)\n",
      "(18, 7)\n",
      "active feature set is [False False False False False False False False False False False False\n",
      " False  True  True  True  True  True  True  True  True  True  True  True\n",
      "  True  True  True  True  True  True  True  True]\n",
      "after trans: (19, 7)\n",
      "after trans: (19, 19)\n",
      "decoder change flag to false\n",
      "decoder changes here at 43199\n",
      "select_decoder_features: _change_one_flag = False\n",
      "(19, 7)\n",
      "(19, 7)\n",
      "active feature set is [False False False False False False False False False False False False\n",
      "  True  True  True  True  True  True  True  True  True  True  True  True\n",
      "  True  True  True  True  True  True  True  True]\n",
      "after trans: (20, 7)\n",
      "after trans: (20, 20)\n",
      "decoder change flag to false\n",
      "decoder changes here at 43799\n",
      "select_decoder_features: _change_one_flag = False\n",
      "(20, 7)\n",
      "(20, 7)\n",
      "active feature set is [False False False False False False False False False False False  True\n",
      "  True  True  True  True  True  True  True  True  True  True  True  True\n",
      "  True  True  True  True  True  True  True  True]\n",
      "after trans: (21, 7)\n",
      "after trans: (21, 21)\n",
      "decoder change flag to false\n",
      "finished trials :48 with a current assist level of 0.0\n",
      "decoder changes here at 44399\n",
      "select_decoder_features: _change_one_flag = False\n",
      "(21, 7)\n",
      "(21, 7)\n",
      "active feature set is [False False False False False False False False False False  True  True\n",
      "  True  True  True  True  True  True  True  True  True  True  True  True\n",
      "  True  True  True  True  True  True  True  True]\n",
      "after trans: (22, 7)\n",
      "after trans: (22, 22)\n",
      "decoder change flag to false\n",
      "decoder changes here at 44999\n",
      "select_decoder_features: _change_one_flag = False\n",
      "(22, 7)\n",
      "(22, 7)\n",
      "active feature set is [False False False False False False False False False  True  True  True\n",
      "  True  True  True  True  True  True  True  True  True  True  True  True\n",
      "  True  True  True  True  True  True  True  True]\n",
      "after trans: (23, 7)\n",
      "after trans: (23, 23)\n",
      "decoder change flag to false\n",
      "decoder changes here at 45599\n",
      "select_decoder_features: _change_one_flag = False\n",
      "(23, 7)\n",
      "(23, 7)\n",
      "active feature set is [False False False False False False False False  True  True  True  True\n",
      "  True  True  True  True  True  True  True  True  True  True  True  True\n",
      "  True  True  True  True  True  True  True  True]\n",
      "after trans: (24, 7)\n",
      "after trans: (24, 24)\n",
      "decoder change flag to false\n",
      "decoder changes here at 46199\n",
      "select_decoder_features: _change_one_flag = False\n",
      "(24, 7)\n",
      "(24, 7)\n",
      "active feature set is [False False False False False False False  True  True  True  True  True\n",
      "  True  True  True  True  True  True  True  True  True  True  True  True\n",
      "  True  True  True  True  True  True  True  True]\n",
      "after trans: (25, 7)\n",
      "after trans: (25, 25)\n",
      "decoder change flag to false\n",
      "decoder changes here at 46799\n",
      "select_decoder_features: _change_one_flag = False\n",
      "(25, 7)\n",
      "(25, 7)\n",
      "active feature set is [False False False False False False  True  True  True  True  True  True\n",
      "  True  True  True  True  True  True  True  True  True  True  True  True\n",
      "  True  True  True  True  True  True  True  True]\n",
      "after trans: (26, 7)\n",
      "after trans: (26, 26)\n",
      "decoder change flag to false\n",
      "decoder changes here at 47399\n",
      "select_decoder_features: _change_one_flag = False\n",
      "(26, 7)\n",
      "(26, 7)\n",
      "active feature set is [False False False False False  True  True  True  True  True  True  True\n",
      "  True  True  True  True  True  True  True  True  True  True  True  True\n",
      "  True  True  True  True  True  True  True  True]\n",
      "after trans: (27, 7)\n",
      "after trans: (27, 27)\n",
      "decoder change flag to false\n",
      "finished trials :49 with a current assist level of 0.0\n",
      "decoder changes here at 47999\n",
      "select_decoder_features: _change_one_flag = False\n",
      "(27, 7)\n",
      "(27, 7)\n",
      "active feature set is [False False False False  True  True  True  True  True  True  True  True\n",
      "  True  True  True  True  True  True  True  True  True  True  True  True\n",
      "  True  True  True  True  True  True  True  True]\n",
      "after trans: (28, 7)\n",
      "after trans: (28, 28)\n",
      "decoder change flag to false\n",
      "decoder changes here at 48599\n",
      "select_decoder_features: _change_one_flag = False\n",
      "(28, 7)\n",
      "(28, 7)\n",
      "active feature set is [False False False  True  True  True  True  True  True  True  True  True\n",
      "  True  True  True  True  True  True  True  True  True  True  True  True\n",
      "  True  True  True  True  True  True  True  True]\n",
      "after trans: (29, 7)\n",
      "after trans: (29, 29)\n",
      "decoder change flag to false\n",
      "decoder changes here at 49199\n",
      "select_decoder_features: _change_one_flag = False\n",
      "(29, 7)\n",
      "(29, 7)\n",
      "active feature set is [False False  True  True  True  True  True  True  True  True  True  True\n",
      "  True  True  True  True  True  True  True  True  True  True  True  True\n",
      "  True  True  True  True  True  True  True  True]\n",
      "after trans: (30, 7)\n",
      "after trans: (30, 30)\n",
      "decoder change flag to false\n",
      "decoder changes here at 49799\n",
      "select_decoder_features: _change_one_flag = False\n",
      "(30, 7)\n",
      "(30, 7)\n",
      "active feature set is [False  True  True  True  True  True  True  True  True  True  True  True\n",
      "  True  True  True  True  True  True  True  True  True  True  True  True\n",
      "  True  True  True  True  True  True  True  True]\n",
      "after trans: (31, 7)\n",
      "after trans: (31, 31)\n",
      "decoder change flag to false\n",
      "finished trials :50 with a current assist level of 0.0\n",
      "decoder changes here at 50399\n",
      "select_decoder_features: _change_one_flag = False\n",
      "(31, 7)\n",
      "(31, 7)\n",
      "active feature set is [ True  True  True  True  True  True  True  True  True  True  True  True\n",
      "  True  True  True  True  True  True  True  True  True  True  True  True\n",
      "  True  True  True  True  True  True  True  True]\n",
      "after trans: (32, 7)\n",
      "after trans: (32, 32)\n",
      "decoder change flag to false\n",
      "finished trials :51 with a current assist level of 0.0\n",
      "finished trials :52 with a current assist level of 0.0\n",
      "finished trials :53 with a current assist level of 0.0\n",
      "finished trials :54 with a current assist level of 0.0\n",
      "finished trials :55 with a current assist level of 0.0\n",
      "finished trials :56 with a current assist level of 0.0\n",
      "finished trials :57 with a current assist level of 0.0\n",
      "finished trials :58 with a current assist level of 0.0\n",
      "finished trials :59 with a current assist level of 0.0\n",
      "finished trials :60 with a current assist level of 0.0\n",
      "finished trials :61 with a current assist level of 0.0\n",
      "finished trials :62 with a current assist level of 0.0\n",
      "finished trials :63 with a current assist level of 0.0\n",
      "finished trials :64 with a current assist level of 0.0\n",
      "finished trials :65 with a current assist level of 0.0\n",
      "finished trials :66 with a current assist level of 0.0\n",
      "finished trials :67 with a current assist level of 0.0\n",
      "finished trials :68 with a current assist level of 0.0\n",
      "finished trials :69 with a current assist level of 0.0\n",
      "finished trials :70 with a current assist level of 0.0\n",
      "finished trials :71 with a current assist level of 0.0\n",
      "finished trials :72 with a current assist level of 0.0\n",
      "finished trials :73 with a current assist level of 0.0\n",
      "finished trials :74 with a current assist level of 0.0\n",
      "finished trials :75 with a current assist level of 0.0\n",
      "finished trials :76 with a current assist level of 0.0\n",
      "finished trials :77 with a current assist level of 0.0\n",
      "finished trials :78 with a current assist level of 0.0\n",
      "finished trials :79 with a current assist level of 0.0\n",
      "finished trials :80 with a current assist level of 0.0\n",
      "finished trials :81 with a current assist level of 0.0\n",
      "finished trials :82 with a current assist level of 0.0\n",
      "finished trials :83 with a current assist level of 0.0\n",
      "finished trials :84 with a current assist level of 0.0\n"
     ]
    },
    {
     "name": "stdout",
     "output_type": "stream",
     "text": [
      "finished trials :85 with a current assist level of 0.0\n",
      "finished trials :86 with a current assist level of 0.0\n",
      "finished trials :87 with a current assist level of 0.0\n",
      "finished trials :88 with a current assist level of 0.0\n",
      "finished trials :89 with a current assist level of 0.0\n",
      "finished trials :90 with a current assist level of 0.0\n",
      "finished trials :91 with a current assist level of 0.0\n",
      "finished trials :92 with a current assist level of 0.0\n",
      "finished trials :93 with a current assist level of 0.0\n",
      "finished trials :94 with a current assist level of 0.0\n",
      "finished trials :95 with a current assist level of 0.0\n",
      "finished trials :96 with a current assist level of 0.0\n",
      "finished trials :97 with a current assist level of 0.0\n",
      "finished trials :98 with a current assist level of 0.0\n",
      "finished trials :99 with a current assist level of 0.0\n",
      "finished trials :100 with a current assist level of 0.0\n",
      "finished trials :101 with a current assist level of 0.0\n",
      "finished trials :102 with a current assist level of 0.0\n",
      "finished trials :103 with a current assist level of 0.0\n",
      "finished trials :104 with a current assist level of 0.0\n",
      "finished trials :105 with a current assist level of 0.0\n",
      "finished trials :106 with a current assist level of 0.0\n",
      "finished trials :107 with a current assist level of 0.0\n",
      "finished trials :108 with a current assist level of 0.0\n",
      "finished trials :109 with a current assist level of 0.0\n",
      "finished trials :110 with a current assist level of 0.0\n",
      "finished trials :111 with a current assist level of 0.0\n",
      "finished trials :112 with a current assist level of 0.0\n",
      "finished trials :113 with a current assist level of 0.0\n",
      "finished trials :114 with a current assist level of 0.0\n",
      "finished trials :115 with a current assist level of 0.0\n",
      "finished trials :116 with a current assist level of 0.0\n",
      "finished trials :117 with a current assist level of 0.0\n",
      "finished trials :118 with a current assist level of 0.0\n",
      "finished trials :119 with a current assist level of 0.0\n",
      "finished trials :120 with a current assist level of 0.0\n",
      "finished trials :121 with a current assist level of 0.0\n",
      "finished trials :122 with a current assist level of 0.0\n",
      "finished trials :123 with a current assist level of 0.0\n",
      "finished trials :124 with a current assist level of 0.0\n",
      "finished trials :125 with a current assist level of 0.0\n",
      "finished trials :126 with a current assist level of 0.0\n",
      "finished trials :127 with a current assist level of 0.0\n",
      "finished trials :128 with a current assist level of 0.0\n",
      "finished trials :129 with a current assist level of 0.0\n",
      "finished trials :130 with a current assist level of 0.0\n",
      "finished trials :131 with a current assist level of 0.0\n",
      "finished trials :132 with a current assist level of 0.0\n",
      "finished trials :133 with a current assist level of 0.0\n",
      "finished trials :134 with a current assist level of 0.0\n",
      "finished trials :135 with a current assist level of 0.0\n",
      "finished trials :136 with a current assist level of 0.0\n",
      "finished trials :137 with a current assist level of 0.0\n",
      "finished trials :138 with a current assist level of 0.0\n",
      "finished trials :139 with a current assist level of 0.0\n",
      "finished trials :140 with a current assist level of 0.0\n",
      "finished trials :141 with a current assist level of 0.0\n",
      "finished trials :142 with a current assist level of 0.0\n",
      "finished trials :143 with a current assist level of 0.0\n",
      "finished trials :144 with a current assist level of 0.0\n",
      "finished trials :145 with a current assist level of 0.0\n",
      "finished trials :146 with a current assist level of 0.0\n",
      "finished trials :147 with a current assist level of 0.0\n",
      "finished trials :148 with a current assist level of 0.0\n",
      "finished trials :149 with a current assist level of 0.0\n",
      "finished trials :150 with a current assist level of 0.0\n",
      "finished trials :151 with a current assist level of 0.0\n",
      "finished trials :152 with a current assist level of 0.0\n",
      "finished trials :153 with a current assist level of 0.0\n",
      "finished trials :154 with a current assist level of 0.0\n",
      "finished trials :155 with a current assist level of 0.0\n",
      "finished trials :156 with a current assist level of 0.0\n",
      "finished trials :157 with a current assist level of 0.0\n",
      "finished trials :158 with a current assist level of 0.0\n",
      "finished trials :159 with a current assist level of 0.0\n",
      "finished trials :160 with a current assist level of 0.0\n",
      "finished trials :161 with a current assist level of 0.0\n",
      "finished trials :162 with a current assist level of 0.0\n",
      "finished trials :163 with a current assist level of 0.0\n",
      "finished trials :164 with a current assist level of 0.0\n",
      "finished trials :165 with a current assist level of 0.0\n",
      "finished trials :166 with a current assist level of 0.0\n",
      "finished trials :167 with a current assist level of 0.0\n",
      "finished trials :168 with a current assist level of 0.0\n",
      "finished trials :169 with a current assist level of 0.0\n",
      "finished trials :170 with a current assist level of 0.0\n",
      "finished trials :171 with a current assist level of 0.0\n",
      "finished trials :172 with a current assist level of 0.0\n",
      "finished trials :173 with a current assist level of 0.0\n",
      "finished trials :174 with a current assist level of 0.0\n",
      "finished trials :175 with a current assist level of 0.0\n",
      "finished trials :176 with a current assist level of 0.0\n",
      "finished trials :177 with a current assist level of 0.0\n",
      "finished trials :178 with a current assist level of 0.0\n",
      "finished trials :179 with a current assist level of 0.0\n",
      "finished trials :180 with a current assist level of 0.0\n",
      "finished trials :181 with a current assist level of 0.0\n",
      "finished trials :182 with a current assist level of 0.0\n",
      "finished trials :183 with a current assist level of 0.0\n",
      "finished trials :184 with a current assist level of 0.0\n",
      "finished trials :185 with a current assist level of 0.0\n",
      "finished trials :186 with a current assist level of 0.0\n",
      "finished trials :187 with a current assist level of 0.0\n",
      "finished trials :188 with a current assist level of 0.0\n",
      "finished trials :189 with a current assist level of 0.0\n",
      "finished trials :190 with a current assist level of 0.0\n",
      "finished trials :191 with a current assist level of 0.0\n",
      "finished trials :192 with a current assist level of 0.0\n",
      "finished trials :193 with a current assist level of 0.0\n",
      "finished trials :194 with a current assist level of 0.0\n",
      "finished trials :195 with a current assist level of 0.0\n",
      "finished trials :196 with a current assist level of 0.0\n",
      "finished trials :197 with a current assist level of 0.0\n",
      "finished trials :198 with a current assist level of 0.0\n",
      "finished trials :199 with a current assist level of 0.0\n",
      "finished trials :200 with a current assist level of 0.0\n",
      "finished trials :201 with a current assist level of 0.0\n",
      "end of FSM.run, task state is None\n",
      "Finished running  w/ iter feature selection\n",
      "\n",
      "\n",
      "runseq\n",
      "finished: 1\n",
      "finished trials :2 with a current assist level of 0.0\n",
      "finished trials :3 with a current assist level of 0.0\n",
      "finished trials :4 with a current assist level of 0.0\n",
      "finished trials :5 with a current assist level of 0.0\n",
      "finished trials :6 with a current assist level of 0.0\n",
      "finished trials :7 with a current assist level of 0.0\n",
      "finished trials :8 with a current assist level of 0.0\n",
      "finished trials :9 with a current assist level of 0.0\n",
      "finished trials :10 with a current assist level of 0.0\n",
      "finished trials :11 with a current assist level of 0.0\n",
      "finished trials :12 with a current assist level of 0.0\n",
      "finished trials :13 with a current assist level of 0.0\n",
      "finished trials :14 with a current assist level of 0.0\n",
      "finished trials :15 with a current assist level of 0.0\n",
      "finished trials :16 with a current assist level of 0.0\n",
      "finished trials :17 with a current assist level of 0.0\n",
      "finished trials :18 with a current assist level of 0.0\n",
      "finished trials :19 with a current assist level of 0.0\n",
      "finished trials :20 with a current assist level of 0.0\n",
      "finished trials :21 with a current assist level of 0.0\n",
      "finished trials :22 with a current assist level of 0.0\n",
      "finished trials :23 with a current assist level of 0.0\n",
      "finished trials :24 with a current assist level of 0.0\n",
      "finished trials :25 with a current assist level of 0.0\n",
      "finished trials :26 with a current assist level of 0.0\n",
      "finished trials :27 with a current assist level of 0.0\n",
      "finished trials :28 with a current assist level of 0.0\n",
      "finished trials :29 with a current assist level of 0.0\n",
      "finished trials :30 with a current assist level of 0.0\n"
     ]
    },
    {
     "name": "stdout",
     "output_type": "stream",
     "text": [
      "finished trials :31 with a current assist level of 0.0\n",
      "finished trials :32 with a current assist level of 0.0\n",
      "finished trials :33 with a current assist level of 0.0\n",
      "finished trials :34 with a current assist level of 0.0\n",
      "finished trials :35 with a current assist level of 0.0\n",
      "finished trials :36 with a current assist level of 0.0\n",
      "finished trials :37 with a current assist level of 0.0\n",
      "finished trials :38 with a current assist level of 0.0\n",
      "finished trials :39 with a current assist level of 0.0\n",
      "finished trials :40 with a current assist level of 0.0\n",
      "finished trials :41 with a current assist level of 0.0\n",
      "finished trials :42 with a current assist level of 0.0\n",
      "finished trials :43 with a current assist level of 0.0\n",
      "finished trials :44 with a current assist level of 0.0\n",
      "finished trials :45 with a current assist level of 0.0\n",
      "finished trials :46 with a current assist level of 0.0\n",
      "finished trials :47 with a current assist level of 0.0\n",
      "finished trials :48 with a current assist level of 0.0\n",
      "finished trials :49 with a current assist level of 0.0\n",
      "finished trials :50 with a current assist level of 0.0\n",
      "finished trials :51 with a current assist level of 0.0\n",
      "finished trials :52 with a current assist level of 0.0\n",
      "finished trials :53 with a current assist level of 0.0\n",
      "finished trials :54 with a current assist level of 0.0\n",
      "finished trials :55 with a current assist level of 0.0\n",
      "finished trials :56 with a current assist level of 0.0\n",
      "finished trials :57 with a current assist level of 0.0\n",
      "finished trials :58 with a current assist level of 0.0\n",
      "finished trials :59 with a current assist level of 0.0\n",
      "finished trials :60 with a current assist level of 0.0\n",
      "finished trials :61 with a current assist level of 0.0\n",
      "finished trials :62 with a current assist level of 0.0\n",
      "finished trials :63 with a current assist level of 0.0\n",
      "finished trials :64 with a current assist level of 0.0\n",
      "finished trials :65 with a current assist level of 0.0\n",
      "finished trials :66 with a current assist level of 0.0\n",
      "finished trials :67 with a current assist level of 0.0\n",
      "finished trials :68 with a current assist level of 0.0\n",
      "finished trials :69 with a current assist level of 0.0\n",
      "finished trials :70 with a current assist level of 0.0\n",
      "finished trials :71 with a current assist level of 0.0\n",
      "finished trials :72 with a current assist level of 0.0\n",
      "finished trials :73 with a current assist level of 0.0\n",
      "finished trials :74 with a current assist level of 0.0\n",
      "finished trials :75 with a current assist level of 0.0\n",
      "finished trials :76 with a current assist level of 0.0\n",
      "finished trials :77 with a current assist level of 0.0\n",
      "finished trials :78 with a current assist level of 0.0\n",
      "finished trials :79 with a current assist level of 0.0\n",
      "finished trials :80 with a current assist level of 0.0\n",
      "finished trials :81 with a current assist level of 0.0\n",
      "finished trials :82 with a current assist level of 0.0\n",
      "finished trials :83 with a current assist level of 0.0\n",
      "finished trials :84 with a current assist level of 0.0\n",
      "finished trials :85 with a current assist level of 0.0\n",
      "finished trials :86 with a current assist level of 0.0\n",
      "finished trials :87 with a current assist level of 0.0\n",
      "finished trials :88 with a current assist level of 0.0\n",
      "finished trials :89 with a current assist level of 0.0\n",
      "finished trials :90 with a current assist level of 0.0\n",
      "finished trials :91 with a current assist level of 0.0\n",
      "finished trials :92 with a current assist level of 0.0\n",
      "finished trials :93 with a current assist level of 0.0\n",
      "finished trials :94 with a current assist level of 0.0\n",
      "finished trials :95 with a current assist level of 0.0\n",
      "finished trials :96 with a current assist level of 0.0\n",
      "finished trials :97 with a current assist level of 0.0\n",
      "finished trials :98 with a current assist level of 0.0\n",
      "finished trials :99 with a current assist level of 0.0\n",
      "finished trials :100 with a current assist level of 0.0\n",
      "finished trials :101 with a current assist level of 0.0\n",
      "finished trials :102 with a current assist level of 0.0\n",
      "finished trials :103 with a current assist level of 0.0\n",
      "finished trials :104 with a current assist level of 0.0\n",
      "finished trials :105 with a current assist level of 0.0\n",
      "finished trials :106 with a current assist level of 0.0\n",
      "finished trials :107 with a current assist level of 0.0\n",
      "finished trials :108 with a current assist level of 0.0\n",
      "finished trials :109 with a current assist level of 0.0\n",
      "finished trials :110 with a current assist level of 0.0\n",
      "finished trials :111 with a current assist level of 0.0\n",
      "finished trials :112 with a current assist level of 0.0\n",
      "finished trials :113 with a current assist level of 0.0\n",
      "finished trials :114 with a current assist level of 0.0\n",
      "finished trials :115 with a current assist level of 0.0\n",
      "finished trials :116 with a current assist level of 0.0\n",
      "finished trials :117 with a current assist level of 0.0\n",
      "finished trials :118 with a current assist level of 0.0\n",
      "finished trials :119 with a current assist level of 0.0\n",
      "finished trials :120 with a current assist level of 0.0\n",
      "finished trials :121 with a current assist level of 0.0\n",
      "finished trials :122 with a current assist level of 0.0\n",
      "finished trials :123 with a current assist level of 0.0\n",
      "finished trials :124 with a current assist level of 0.0\n",
      "finished trials :125 with a current assist level of 0.0\n",
      "finished trials :126 with a current assist level of 0.0\n",
      "finished trials :127 with a current assist level of 0.0\n",
      "finished trials :128 with a current assist level of 0.0\n",
      "finished trials :129 with a current assist level of 0.0\n",
      "finished trials :130 with a current assist level of 0.0\n",
      "finished trials :131 with a current assist level of 0.0\n",
      "finished trials :132 with a current assist level of 0.0\n",
      "finished trials :133 with a current assist level of 0.0\n",
      "finished trials :134 with a current assist level of 0.0\n",
      "finished trials :135 with a current assist level of 0.0\n",
      "finished trials :136 with a current assist level of 0.0\n",
      "finished trials :137 with a current assist level of 0.0\n",
      "finished trials :138 with a current assist level of 0.0\n",
      "finished trials :139 with a current assist level of 0.0\n",
      "finished trials :140 with a current assist level of 0.0\n",
      "finished trials :141 with a current assist level of 0.0\n",
      "finished trials :142 with a current assist level of 0.0\n",
      "finished trials :143 with a current assist level of 0.0\n",
      "finished trials :144 with a current assist level of 0.0\n",
      "finished trials :145 with a current assist level of 0.0\n",
      "finished trials :146 with a current assist level of 0.0\n",
      "finished trials :147 with a current assist level of 0.0\n",
      "finished trials :148 with a current assist level of 0.0\n",
      "finished trials :149 with a current assist level of 0.0\n",
      "finished trials :150 with a current assist level of 0.0\n",
      "finished trials :151 with a current assist level of 0.0\n",
      "finished trials :152 with a current assist level of 0.0\n",
      "finished trials :153 with a current assist level of 0.0\n",
      "finished trials :154 with a current assist level of 0.0\n",
      "finished trials :155 with a current assist level of 0.0\n",
      "finished trials :156 with a current assist level of 0.0\n",
      "finished trials :157 with a current assist level of 0.0\n",
      "finished trials :158 with a current assist level of 0.0\n",
      "finished trials :159 with a current assist level of 0.0\n",
      "finished trials :160 with a current assist level of 0.0\n",
      "finished trials :161 with a current assist level of 0.0\n",
      "finished trials :162 with a current assist level of 0.0\n",
      "finished trials :163 with a current assist level of 0.0\n",
      "finished trials :164 with a current assist level of 0.0\n",
      "finished trials :165 with a current assist level of 0.0\n",
      "finished trials :166 with a current assist level of 0.0\n",
      "finished trials :167 with a current assist level of 0.0\n",
      "finished trials :168 with a current assist level of 0.0\n",
      "finished trials :169 with a current assist level of 0.0\n",
      "finished trials :170 with a current assist level of 0.0\n",
      "finished trials :171 with a current assist level of 0.0\n",
      "finished trials :172 with a current assist level of 0.0\n",
      "finished trials :173 with a current assist level of 0.0\n",
      "finished trials :174 with a current assist level of 0.0\n",
      "finished trials :175 with a current assist level of 0.0\n",
      "finished trials :176 with a current assist level of 0.0\n",
      "finished trials :177 with a current assist level of 0.0\n",
      "finished trials :178 with a current assist level of 0.0\n"
     ]
    },
    {
     "name": "stdout",
     "output_type": "stream",
     "text": [
      "finished trials :179 with a current assist level of 0.0\n",
      "finished trials :180 with a current assist level of 0.0\n",
      "finished trials :181 with a current assist level of 0.0\n",
      "finished trials :182 with a current assist level of 0.0\n",
      "finished trials :183 with a current assist level of 0.0\n",
      "finished trials :184 with a current assist level of 0.0\n",
      "finished trials :185 with a current assist level of 0.0\n",
      "finished trials :186 with a current assist level of 0.0\n",
      "finished trials :187 with a current assist level of 0.0\n",
      "finished trials :188 with a current assist level of 0.0\n",
      "finished trials :189 with a current assist level of 0.0\n",
      "finished trials :190 with a current assist level of 0.0\n",
      "finished trials :191 with a current assist level of 0.0\n",
      "finished trials :192 with a current assist level of 0.0\n",
      "finished trials :193 with a current assist level of 0.0\n",
      "finished trials :194 with a current assist level of 0.0\n",
      "finished trials :195 with a current assist level of 0.0\n",
      "exit\n",
      "end of FSM.run, task state is None\n",
      "Finished running  w/o start with high SNR neurons\n",
      "\n",
      "\n"
     ]
    }
   ],
   "source": [
    "for i,e in enumerate(exps):\n",
    "    np.random.seed(999)\n",
    "    run_exp_loop(e, **kwargs_exps[i])\n",
    "    print(f'Finished running  {exp_conds[i]}')\n",
    "    print()\n",
    "    print()"
   ]
  },
  {
   "cell_type": "markdown",
   "metadata": {
    "ExecuteTime": {
     "end_time": "2021-01-25T01:00:26.027506Z",
     "start_time": "2021-01-25T01:00:26.024320Z"
    }
   },
   "source": [
    "# Postprocessing the data for loading"
   ]
  },
  {
   "cell_type": "markdown",
   "metadata": {},
   "source": [
    "## declare defs and conventions"
   ]
  },
  {
   "cell_type": "code",
   "execution_count": 23,
   "metadata": {
    "ExecuteTime": {
     "end_time": "2021-06-02T19:18:05.913285Z",
     "start_time": "2021-06-02T19:18:05.911039Z"
    }
   },
   "outputs": [],
   "source": [
    "FRAME_RATE = 60\n",
    "INT_WINDOW_TIME = 10 # s for looking at sample raw data\n",
    "\n",
    "# some conventions as we go down the loop\n",
    "X_VEL_STATE_IND = 3\n",
    "Y_VEL_STATE_IND = 5\n",
    "X_POS_STATE_IND = 0\n",
    "Y_POS_STATE_IND = 2\n",
    "\n",
    "state_indices = [X_POS_STATE_IND,\n",
    "                 Y_POS_STATE_IND,\n",
    "                 X_VEL_STATE_IND,\n",
    "                 Y_VEL_STATE_IND]\n",
    "state_names = ['x pos ', 'y pos', 'x vel', 'y vel']\n",
    "\n",
    "\n",
    "INT_WIN_SAMPLES = INT_WINDOW_TIME * FRAME_RATE"
   ]
  },
  {
   "cell_type": "markdown",
   "metadata": {},
   "source": [
    "## Refactor out the data"
   ]
  },
  {
   "cell_type": "code",
   "execution_count": 24,
   "metadata": {
    "ExecuteTime": {
     "end_time": "2021-06-02T19:18:06.456694Z",
     "start_time": "2021-06-02T19:18:05.914245Z"
    }
   },
   "outputs": [
    {
     "data": {
      "text/plain": [
       "dtype([('cursor', '<f8', (3,)), ('obs_t', '<f8', (32, 1)), ('KC', '<f8', (7, 7)), ('pred_state_mean', '<f8', (7, 1)), ('post_state_mean', '<f8', (7, 1)), ('pred_state_P', '<f8', (7, 7)), ('post_state_P', '<f8', (7, 7)), ('loop_time', '<f8', (1,)), ('decoder_state', '<f8', (7, 1)), ('internal_decoder_state', '<f8', (7, 1)), ('target_state', '<f8', (7, 1)), ('update_bmi', '<f8', (1,)), ('spike_counts', '<f8', (32, 1)), ('bin_edges', '<f8', (2,)), ('ctrl_input', '<f8', (7,)), ('assist_level', '<f8', (1,)), ('target', '<f8', (3,)), ('target_index', '<i4', (1,))])"
      ]
     },
     "execution_count": 24,
     "metadata": {},
     "output_type": "execute_result"
    }
   ],
   "source": [
    "task_data_hist_np_all = [np.array(e.task_data_hist) for e in exps]\n",
    "len(task_data_hist_np_all)\n",
    "task_data_hist_np_all[0].dtype"
   ]
  },
  {
   "cell_type": "markdown",
   "metadata": {},
   "source": [
    "## Finished time in seconds"
   ]
  },
  {
   "cell_type": "code",
   "execution_count": 25,
   "metadata": {
    "ExecuteTime": {
     "end_time": "2021-06-02T19:18:06.459981Z",
     "start_time": "2021-06-02T19:18:06.457583Z"
    },
    "scrolled": true
   },
   "outputs": [
    {
     "data": {
      "text/plain": [
       "[148175, 154857, 180000]"
      ]
     },
     "execution_count": 25,
     "metadata": {},
     "output_type": "execute_result"
    }
   ],
   "source": [
    "finished_times_in_seconds = [(len(s)) for s in task_data_hist_np_all]\n",
    "finished_times_in_seconds"
   ]
  },
  {
   "cell_type": "code",
   "execution_count": 26,
   "metadata": {
    "ExecuteTime": {
     "end_time": "2021-06-02T19:18:06.471714Z",
     "start_time": "2021-06-02T19:18:06.460721Z"
    },
    "scrolled": true
   },
   "outputs": [
    {
     "name": "stdout",
     "output_type": "stream",
     "text": [
      "200\n",
      "200\n",
      "194\n",
      "\n",
      "339\n",
      "351\n",
      "375\n"
     ]
    }
   ],
   "source": [
    "#calculate how many trials\n",
    "for e in  exps: print(e.calc_state_occurrences('reward'))\n",
    "print()\n",
    "\n",
    "for e in  exps: print(e.calc_trial_num())"
   ]
  },
  {
   "cell_type": "code",
   "execution_count": null,
   "metadata": {
    "ExecuteTime": {
     "end_time": "2021-05-26T01:46:33.305388Z",
     "start_time": "2021-05-26T01:46:33.294563Z"
    }
   },
   "outputs": [],
   "source": []
  },
  {
   "cell_type": "markdown",
   "metadata": {},
   "source": [
    "# Post data analysis"
   ]
  },
  {
   "cell_type": "markdown",
   "metadata": {},
   "source": [
    "## Total finished trials"
   ]
  },
  {
   "cell_type": "markdown",
   "metadata": {},
   "source": [
    "## Overall  trial statistics succuss rate)"
   ]
  },
  {
   "cell_type": "code",
   "execution_count": 27,
   "metadata": {
    "ExecuteTime": {
     "end_time": "2021-06-02T19:18:06.654106Z",
     "start_time": "2021-06-02T19:18:06.472508Z"
    }
   },
   "outputs": [
    {
     "name": "stdout",
     "output_type": "stream",
     "text": [
      "[array([0., 0., 2., 3., 5., 3., 2., 2., 3., 2., 2., 1., 3., 4., 4., 0., 0.,\n",
      "       3., 1., 5., 3., 2., 1., 3., 2., 2., 2., 4., 3., 2., 2., 2., 2., 2.,\n",
      "       1., 2., 1., 3., 4., 3., 1., 3., 4., 2., 1., 4., 1., 1., 2., 2., 3.,\n",
      "       4., 2., 0., 3., 4., 4., 4., 4., 3., 3., 1., 1., 3., 3., 4., 5., 2.,\n",
      "       5., 2., 3., 4., 4., 1., 4., 2., 2., 1., 0., 1., 2., 2.])\n",
      " array([0., 0., 0., 1., 3., 3., 2., 2., 4., 3., 3., 3., 0., 1., 2., 2., 2.,\n",
      "       2., 3., 1., 4., 1., 4., 0., 1., 0., 1., 1., 0., 1., 0., 3., 3., 2.,\n",
      "       3., 4., 3., 1., 2., 5., 2., 3., 1., 4., 2., 2., 4., 1., 3., 2., 4.,\n",
      "       1., 3., 3., 1., 3., 4., 1., 2., 3., 3., 3., 5., 4., 2., 2., 3., 5.,\n",
      "       3., 4., 3., 3., 2., 2., 2., 4., 2., 4., 2., 4., 4., 3., 1., 1., 1.,\n",
      "       2.])\n",
      " array([0., 0., 0., 1., 3., 3., 2., 2., 4., 3., 3., 3., 0., 1., 2., 2., 2.,\n",
      "       2., 3., 1., 1., 2., 3., 1., 3., 3., 1., 2., 1., 2., 2., 2., 2., 1.,\n",
      "       2., 1., 1., 2., 2., 3., 2., 3., 4., 2., 3., 2., 0., 1., 2., 1., 2.,\n",
      "       2., 1., 2., 1., 3., 2., 2., 1., 1., 3., 3., 2., 1., 3., 1., 2., 4.,\n",
      "       2., 2., 4., 2., 3., 2., 2., 2., 3., 2., 3., 1., 2., 0., 1., 1., 1.,\n",
      "       1., 2., 1., 3., 1., 3., 2., 1., 3., 3., 0., 2., 3., 2.])]\n"
     ]
    },
    {
     "ename": "ValueError",
     "evalue": "setting an array element with a sequence.",
     "output_type": "error",
     "traceback": [
      "\u001b[0;31m---------------------------------------------------------------------------\u001b[0m",
      "\u001b[0;31mTypeError\u001b[0m                                 Traceback (most recent call last)",
      "\u001b[0;31mTypeError\u001b[0m: only size-1 arrays can be converted to Python scalars",
      "\nThe above exception was the direct cause of the following exception:\n",
      "\u001b[0;31mValueError\u001b[0m                                Traceback (most recent call last)",
      "\u001b[0;32m<ipython-input-27-b7deaa9ad300>\u001b[0m in \u001b[0;36m<module>\u001b[0;34m\u001b[0m\n\u001b[1;32m      9\u001b[0m \u001b[0;34m\u001b[0m\u001b[0m\n\u001b[1;32m     10\u001b[0m \u001b[0mprint\u001b[0m\u001b[0;34m(\u001b[0m\u001b[0mreward_events_per_minute\u001b[0m\u001b[0;34m)\u001b[0m\u001b[0;34m\u001b[0m\u001b[0;34m\u001b[0m\u001b[0m\n\u001b[0;32m---> 11\u001b[0;31m \u001b[0mplt\u001b[0m\u001b[0;34m.\u001b[0m\u001b[0mplot\u001b[0m\u001b[0;34m(\u001b[0m\u001b[0mreward_events_per_minute\u001b[0m\u001b[0;34m.\u001b[0m\u001b[0mT\u001b[0m\u001b[0;34m)\u001b[0m\u001b[0;34m\u001b[0m\u001b[0;34m\u001b[0m\u001b[0m\n\u001b[0m",
      "\u001b[0;32m~/BMi3D_my/lib/python3.8/site-packages/matplotlib/pyplot.py\u001b[0m in \u001b[0;36mplot\u001b[0;34m(scalex, scaley, data, *args, **kwargs)\u001b[0m\n\u001b[1;32m   2785\u001b[0m \u001b[0;34m@\u001b[0m\u001b[0mdocstring\u001b[0m\u001b[0;34m.\u001b[0m\u001b[0mcopy\u001b[0m\u001b[0;34m(\u001b[0m\u001b[0mAxes\u001b[0m\u001b[0;34m.\u001b[0m\u001b[0mplot\u001b[0m\u001b[0;34m)\u001b[0m\u001b[0;34m\u001b[0m\u001b[0;34m\u001b[0m\u001b[0m\n\u001b[1;32m   2786\u001b[0m \u001b[0;32mdef\u001b[0m \u001b[0mplot\u001b[0m\u001b[0;34m(\u001b[0m\u001b[0;34m*\u001b[0m\u001b[0margs\u001b[0m\u001b[0;34m,\u001b[0m \u001b[0mscalex\u001b[0m\u001b[0;34m=\u001b[0m\u001b[0;32mTrue\u001b[0m\u001b[0;34m,\u001b[0m \u001b[0mscaley\u001b[0m\u001b[0;34m=\u001b[0m\u001b[0;32mTrue\u001b[0m\u001b[0;34m,\u001b[0m \u001b[0mdata\u001b[0m\u001b[0;34m=\u001b[0m\u001b[0;32mNone\u001b[0m\u001b[0;34m,\u001b[0m \u001b[0;34m**\u001b[0m\u001b[0mkwargs\u001b[0m\u001b[0;34m)\u001b[0m\u001b[0;34m:\u001b[0m\u001b[0;34m\u001b[0m\u001b[0;34m\u001b[0m\u001b[0m\n\u001b[0;32m-> 2787\u001b[0;31m     return gca().plot(\n\u001b[0m\u001b[1;32m   2788\u001b[0m         *args, scalex=scalex, scaley=scaley, **({\"data\": data} if data\n\u001b[1;32m   2789\u001b[0m         is not None else {}), **kwargs)\n",
      "\u001b[0;32m~/BMi3D_my/lib/python3.8/site-packages/matplotlib/axes/_axes.py\u001b[0m in \u001b[0;36mplot\u001b[0;34m(self, scalex, scaley, data, *args, **kwargs)\u001b[0m\n\u001b[1;32m   1665\u001b[0m         \u001b[0mlines\u001b[0m \u001b[0;34m=\u001b[0m \u001b[0;34m[\u001b[0m\u001b[0;34m*\u001b[0m\u001b[0mself\u001b[0m\u001b[0;34m.\u001b[0m\u001b[0m_get_lines\u001b[0m\u001b[0;34m(\u001b[0m\u001b[0;34m*\u001b[0m\u001b[0margs\u001b[0m\u001b[0;34m,\u001b[0m \u001b[0mdata\u001b[0m\u001b[0;34m=\u001b[0m\u001b[0mdata\u001b[0m\u001b[0;34m,\u001b[0m \u001b[0;34m**\u001b[0m\u001b[0mkwargs\u001b[0m\u001b[0;34m)\u001b[0m\u001b[0;34m]\u001b[0m\u001b[0;34m\u001b[0m\u001b[0;34m\u001b[0m\u001b[0m\n\u001b[1;32m   1666\u001b[0m         \u001b[0;32mfor\u001b[0m \u001b[0mline\u001b[0m \u001b[0;32min\u001b[0m \u001b[0mlines\u001b[0m\u001b[0;34m:\u001b[0m\u001b[0;34m\u001b[0m\u001b[0;34m\u001b[0m\u001b[0m\n\u001b[0;32m-> 1667\u001b[0;31m             \u001b[0mself\u001b[0m\u001b[0;34m.\u001b[0m\u001b[0madd_line\u001b[0m\u001b[0;34m(\u001b[0m\u001b[0mline\u001b[0m\u001b[0;34m)\u001b[0m\u001b[0;34m\u001b[0m\u001b[0;34m\u001b[0m\u001b[0m\n\u001b[0m\u001b[1;32m   1668\u001b[0m         \u001b[0mself\u001b[0m\u001b[0;34m.\u001b[0m\u001b[0mautoscale_view\u001b[0m\u001b[0;34m(\u001b[0m\u001b[0mscalex\u001b[0m\u001b[0;34m=\u001b[0m\u001b[0mscalex\u001b[0m\u001b[0;34m,\u001b[0m \u001b[0mscaley\u001b[0m\u001b[0;34m=\u001b[0m\u001b[0mscaley\u001b[0m\u001b[0;34m)\u001b[0m\u001b[0;34m\u001b[0m\u001b[0;34m\u001b[0m\u001b[0m\n\u001b[1;32m   1669\u001b[0m         \u001b[0;32mreturn\u001b[0m \u001b[0mlines\u001b[0m\u001b[0;34m\u001b[0m\u001b[0;34m\u001b[0m\u001b[0m\n",
      "\u001b[0;32m~/BMi3D_my/lib/python3.8/site-packages/matplotlib/axes/_base.py\u001b[0m in \u001b[0;36madd_line\u001b[0;34m(self, line)\u001b[0m\n\u001b[1;32m   1900\u001b[0m             \u001b[0mline\u001b[0m\u001b[0;34m.\u001b[0m\u001b[0mset_clip_path\u001b[0m\u001b[0;34m(\u001b[0m\u001b[0mself\u001b[0m\u001b[0;34m.\u001b[0m\u001b[0mpatch\u001b[0m\u001b[0;34m)\u001b[0m\u001b[0;34m\u001b[0m\u001b[0;34m\u001b[0m\u001b[0m\n\u001b[1;32m   1901\u001b[0m \u001b[0;34m\u001b[0m\u001b[0m\n\u001b[0;32m-> 1902\u001b[0;31m         \u001b[0mself\u001b[0m\u001b[0;34m.\u001b[0m\u001b[0m_update_line_limits\u001b[0m\u001b[0;34m(\u001b[0m\u001b[0mline\u001b[0m\u001b[0;34m)\u001b[0m\u001b[0;34m\u001b[0m\u001b[0;34m\u001b[0m\u001b[0m\n\u001b[0m\u001b[1;32m   1903\u001b[0m         \u001b[0;32mif\u001b[0m \u001b[0;32mnot\u001b[0m \u001b[0mline\u001b[0m\u001b[0;34m.\u001b[0m\u001b[0mget_label\u001b[0m\u001b[0;34m(\u001b[0m\u001b[0;34m)\u001b[0m\u001b[0;34m:\u001b[0m\u001b[0;34m\u001b[0m\u001b[0;34m\u001b[0m\u001b[0m\n\u001b[1;32m   1904\u001b[0m             \u001b[0mline\u001b[0m\u001b[0;34m.\u001b[0m\u001b[0mset_label\u001b[0m\u001b[0;34m(\u001b[0m\u001b[0;34m'_line%d'\u001b[0m \u001b[0;34m%\u001b[0m \u001b[0mlen\u001b[0m\u001b[0;34m(\u001b[0m\u001b[0mself\u001b[0m\u001b[0;34m.\u001b[0m\u001b[0mlines\u001b[0m\u001b[0;34m)\u001b[0m\u001b[0;34m)\u001b[0m\u001b[0;34m\u001b[0m\u001b[0;34m\u001b[0m\u001b[0m\n",
      "\u001b[0;32m~/BMi3D_my/lib/python3.8/site-packages/matplotlib/axes/_base.py\u001b[0m in \u001b[0;36m_update_line_limits\u001b[0;34m(self, line)\u001b[0m\n\u001b[1;32m   1922\u001b[0m         \u001b[0mFigures\u001b[0m \u001b[0mout\u001b[0m \u001b[0mthe\u001b[0m \u001b[0mdata\u001b[0m \u001b[0mlimit\u001b[0m \u001b[0mof\u001b[0m \u001b[0mthe\u001b[0m \u001b[0mgiven\u001b[0m \u001b[0mline\u001b[0m\u001b[0;34m,\u001b[0m \u001b[0mupdating\u001b[0m \u001b[0mself\u001b[0m\u001b[0;34m.\u001b[0m\u001b[0mdataLim\u001b[0m\u001b[0;34m.\u001b[0m\u001b[0;34m\u001b[0m\u001b[0;34m\u001b[0m\u001b[0m\n\u001b[1;32m   1923\u001b[0m         \"\"\"\n\u001b[0;32m-> 1924\u001b[0;31m         \u001b[0mpath\u001b[0m \u001b[0;34m=\u001b[0m \u001b[0mline\u001b[0m\u001b[0;34m.\u001b[0m\u001b[0mget_path\u001b[0m\u001b[0;34m(\u001b[0m\u001b[0;34m)\u001b[0m\u001b[0;34m\u001b[0m\u001b[0;34m\u001b[0m\u001b[0m\n\u001b[0m\u001b[1;32m   1925\u001b[0m         \u001b[0;32mif\u001b[0m \u001b[0mpath\u001b[0m\u001b[0;34m.\u001b[0m\u001b[0mvertices\u001b[0m\u001b[0;34m.\u001b[0m\u001b[0msize\u001b[0m \u001b[0;34m==\u001b[0m \u001b[0;36m0\u001b[0m\u001b[0;34m:\u001b[0m\u001b[0;34m\u001b[0m\u001b[0;34m\u001b[0m\u001b[0m\n\u001b[1;32m   1926\u001b[0m             \u001b[0;32mreturn\u001b[0m\u001b[0;34m\u001b[0m\u001b[0;34m\u001b[0m\u001b[0m\n",
      "\u001b[0;32m~/BMi3D_my/lib/python3.8/site-packages/matplotlib/lines.py\u001b[0m in \u001b[0;36mget_path\u001b[0;34m(self)\u001b[0m\n\u001b[1;32m   1025\u001b[0m         \"\"\"\n\u001b[1;32m   1026\u001b[0m         \u001b[0;32mif\u001b[0m \u001b[0mself\u001b[0m\u001b[0;34m.\u001b[0m\u001b[0m_invalidy\u001b[0m \u001b[0;32mor\u001b[0m \u001b[0mself\u001b[0m\u001b[0;34m.\u001b[0m\u001b[0m_invalidx\u001b[0m\u001b[0;34m:\u001b[0m\u001b[0;34m\u001b[0m\u001b[0;34m\u001b[0m\u001b[0m\n\u001b[0;32m-> 1027\u001b[0;31m             \u001b[0mself\u001b[0m\u001b[0;34m.\u001b[0m\u001b[0mrecache\u001b[0m\u001b[0;34m(\u001b[0m\u001b[0;34m)\u001b[0m\u001b[0;34m\u001b[0m\u001b[0;34m\u001b[0m\u001b[0m\n\u001b[0m\u001b[1;32m   1028\u001b[0m         \u001b[0;32mreturn\u001b[0m \u001b[0mself\u001b[0m\u001b[0;34m.\u001b[0m\u001b[0m_path\u001b[0m\u001b[0;34m\u001b[0m\u001b[0;34m\u001b[0m\u001b[0m\n\u001b[1;32m   1029\u001b[0m \u001b[0;34m\u001b[0m\u001b[0m\n",
      "\u001b[0;32m~/BMi3D_my/lib/python3.8/site-packages/matplotlib/lines.py\u001b[0m in \u001b[0;36mrecache\u001b[0;34m(self, always)\u001b[0m\n\u001b[1;32m    673\u001b[0m         \u001b[0;32mif\u001b[0m \u001b[0malways\u001b[0m \u001b[0;32mor\u001b[0m \u001b[0mself\u001b[0m\u001b[0;34m.\u001b[0m\u001b[0m_invalidy\u001b[0m\u001b[0;34m:\u001b[0m\u001b[0;34m\u001b[0m\u001b[0;34m\u001b[0m\u001b[0m\n\u001b[1;32m    674\u001b[0m             \u001b[0myconv\u001b[0m \u001b[0;34m=\u001b[0m \u001b[0mself\u001b[0m\u001b[0;34m.\u001b[0m\u001b[0mconvert_yunits\u001b[0m\u001b[0;34m(\u001b[0m\u001b[0mself\u001b[0m\u001b[0;34m.\u001b[0m\u001b[0m_yorig\u001b[0m\u001b[0;34m)\u001b[0m\u001b[0;34m\u001b[0m\u001b[0;34m\u001b[0m\u001b[0m\n\u001b[0;32m--> 675\u001b[0;31m             \u001b[0my\u001b[0m \u001b[0;34m=\u001b[0m \u001b[0m_to_unmasked_float_array\u001b[0m\u001b[0;34m(\u001b[0m\u001b[0myconv\u001b[0m\u001b[0;34m)\u001b[0m\u001b[0;34m.\u001b[0m\u001b[0mravel\u001b[0m\u001b[0;34m(\u001b[0m\u001b[0;34m)\u001b[0m\u001b[0;34m\u001b[0m\u001b[0;34m\u001b[0m\u001b[0m\n\u001b[0m\u001b[1;32m    676\u001b[0m         \u001b[0;32melse\u001b[0m\u001b[0;34m:\u001b[0m\u001b[0;34m\u001b[0m\u001b[0;34m\u001b[0m\u001b[0m\n\u001b[1;32m    677\u001b[0m             \u001b[0my\u001b[0m \u001b[0;34m=\u001b[0m \u001b[0mself\u001b[0m\u001b[0;34m.\u001b[0m\u001b[0m_y\u001b[0m\u001b[0;34m\u001b[0m\u001b[0;34m\u001b[0m\u001b[0m\n",
      "\u001b[0;32m~/BMi3D_my/lib/python3.8/site-packages/matplotlib/cbook/__init__.py\u001b[0m in \u001b[0;36m_to_unmasked_float_array\u001b[0;34m(x)\u001b[0m\n\u001b[1;32m   1388\u001b[0m         \u001b[0;32mreturn\u001b[0m \u001b[0mnp\u001b[0m\u001b[0;34m.\u001b[0m\u001b[0mma\u001b[0m\u001b[0;34m.\u001b[0m\u001b[0masarray\u001b[0m\u001b[0;34m(\u001b[0m\u001b[0mx\u001b[0m\u001b[0;34m,\u001b[0m \u001b[0mfloat\u001b[0m\u001b[0;34m)\u001b[0m\u001b[0;34m.\u001b[0m\u001b[0mfilled\u001b[0m\u001b[0;34m(\u001b[0m\u001b[0mnp\u001b[0m\u001b[0;34m.\u001b[0m\u001b[0mnan\u001b[0m\u001b[0;34m)\u001b[0m\u001b[0;34m\u001b[0m\u001b[0;34m\u001b[0m\u001b[0m\n\u001b[1;32m   1389\u001b[0m     \u001b[0;32melse\u001b[0m\u001b[0;34m:\u001b[0m\u001b[0;34m\u001b[0m\u001b[0;34m\u001b[0m\u001b[0m\n\u001b[0;32m-> 1390\u001b[0;31m         \u001b[0;32mreturn\u001b[0m \u001b[0mnp\u001b[0m\u001b[0;34m.\u001b[0m\u001b[0masarray\u001b[0m\u001b[0;34m(\u001b[0m\u001b[0mx\u001b[0m\u001b[0;34m,\u001b[0m \u001b[0mfloat\u001b[0m\u001b[0;34m)\u001b[0m\u001b[0;34m\u001b[0m\u001b[0;34m\u001b[0m\u001b[0m\n\u001b[0m\u001b[1;32m   1391\u001b[0m \u001b[0;34m\u001b[0m\u001b[0m\n\u001b[1;32m   1392\u001b[0m \u001b[0;34m\u001b[0m\u001b[0m\n",
      "\u001b[0;32m~/BMi3D_my/lib/python3.8/site-packages/numpy/core/_asarray.py\u001b[0m in \u001b[0;36masarray\u001b[0;34m(a, dtype, order)\u001b[0m\n\u001b[1;32m     83\u001b[0m \u001b[0;34m\u001b[0m\u001b[0m\n\u001b[1;32m     84\u001b[0m     \"\"\"\n\u001b[0;32m---> 85\u001b[0;31m     \u001b[0;32mreturn\u001b[0m \u001b[0marray\u001b[0m\u001b[0;34m(\u001b[0m\u001b[0ma\u001b[0m\u001b[0;34m,\u001b[0m \u001b[0mdtype\u001b[0m\u001b[0;34m,\u001b[0m \u001b[0mcopy\u001b[0m\u001b[0;34m=\u001b[0m\u001b[0;32mFalse\u001b[0m\u001b[0;34m,\u001b[0m \u001b[0morder\u001b[0m\u001b[0;34m=\u001b[0m\u001b[0morder\u001b[0m\u001b[0;34m)\u001b[0m\u001b[0;34m\u001b[0m\u001b[0;34m\u001b[0m\u001b[0m\n\u001b[0m\u001b[1;32m     86\u001b[0m \u001b[0;34m\u001b[0m\u001b[0m\n\u001b[1;32m     87\u001b[0m \u001b[0;34m\u001b[0m\u001b[0m\n",
      "\u001b[0;31mValueError\u001b[0m: setting an array element with a sequence."
     ]
    },
    {
     "data": {
      "image/png": "[encoded data removed]",
      "text/plain": [
       "<Figure size 432x288 with 1 Axes>"
      ]
     },
     "metadata": {
      "needs_background": "light"
     },
     "output_type": "display_data"
    }
   ],
   "source": [
    "import behaviour_metrics\n",
    "import importlib\n",
    "\n",
    "importlib.reload(behaviour_metrics)\n",
    "\n",
    "reward_events_per_minute = [behaviour_metrics.calc_event_rate_from_state_log(e.state_log,'reward',window_length=30) for e in exps]\n",
    "\n",
    "reward_events_per_minute = np.array(reward_events_per_minute)\n",
    "\n",
    "print(reward_events_per_minute)\n",
    "plt.plot(reward_events_per_minute.T)"
   ]
  },
  {
   "cell_type": "markdown",
   "metadata": {},
   "source": [
    "## sort into trials"
   ]
  },
  {
   "cell_type": "code",
   "execution_count": null,
   "metadata": {
    "ExecuteTime": {
     "end_time": "2021-06-02T19:18:06.654998Z",
     "start_time": "2021-06-02T19:14:31.797Z"
    }
   },
   "outputs": [],
   "source": [
    "state_log = e.state_log\n",
    "segmented_trials = behaviour_metrics.segment_trials_in_state_log(state_log)"
   ]
  },
  {
   "cell_type": "code",
   "execution_count": null,
   "metadata": {
    "ExecuteTime": {
     "end_time": "2021-06-02T19:18:06.655506Z",
     "start_time": "2021-06-02T19:14:31.798Z"
    }
   },
   "outputs": [],
   "source": [
    "trial_dicts_all = []\n",
    "dict_keys = ['cursor', #behaviour\n",
    "             'ctrl_input', 'spike_counts', #encoder translates intended ctrl into spike counts\n",
    "             'decoder_state']\n",
    "\n",
    "\n",
    "for i in range(NUM_EXP):\n",
    "    \n",
    "    segmented_trials = behaviour_metrics.segment_trials_in_state_log(exps[i].state_log)\n",
    "\n",
    "    task_data_hist_np = task_data_hist_np_all[i]\n",
    "    trial_dict_0 = behaviour_metrics.sort_trials_use_segmented_log(segmented_trials, \n",
    "                               target_seq,\n",
    "                               task_data_hist_np, dict_keys)\n",
    "    \n",
    "    trial_dicts_all.append(trial_dict_0)\n",
    "\n",
    "for t in trial_dicts_all: print(len(t))"
   ]
  },
  {
   "cell_type": "markdown",
   "metadata": {},
   "source": [
    "# Behaviour  analyses"
   ]
  },
  {
   "cell_type": "markdown",
   "metadata": {},
   "source": [
    "## Trajectory analysis"
   ]
  },
  {
   "cell_type": "code",
   "execution_count": null,
   "metadata": {
    "ExecuteTime": {
     "end_time": "2021-06-02T19:18:06.655862Z",
     "start_time": "2021-06-02T19:14:31.801Z"
    }
   },
   "outputs": [],
   "source": [
    "import afs_plotting\n",
    "importlib.reload(afs_plotting)"
   ]
  },
  {
   "cell_type": "code",
   "execution_count": null,
   "metadata": {
    "ExecuteTime": {
     "end_time": "2021-06-02T19:18:06.656316Z",
     "start_time": "2021-06-02T19:14:31.803Z"
    }
   },
   "outputs": [],
   "source": [
    "figure_trajectory, axes_trajectory = plt.subplots(1, NUM_EXP, figsize = (NUM_EXP * GLOBAL_FIGURE_VERTICAL_SIZE, \n",
    "                                                  GLOBAL_FIGURE_VERTICAL_SIZE)) \n",
    "\n",
    "\n",
    "n_roi_trials = 0\n",
    "\n",
    "CIRCLE_RADIUS = exps[0].target_radius\n",
    "\n",
    "print(CIRCLE_RADIUS)\n",
    "\n",
    "for i,axes in enumerate(axes_trajectory): \n",
    "\n",
    "    afs_plotting.add_center_out_grid(axes, target_seq, CIRCLE_RADIUS)\n",
    "    \n",
    "    \n",
    "    sample_trial = trial_dicts_all[i][n_roi_trials]\n",
    "    trial_cursor_trajectory = sample_trial['cursor']\n",
    "    \n",
    "    afs_plotting.plot_trial_trajectory(axes, trial_cursor_trajectory)\n",
    "\n",
    "    axes.set_title(f'Trial {N_TRIALS} of {exp_conds[i]} ')\n",
    "\n"
   ]
  },
  {
   "cell_type": "markdown",
   "metadata": {},
   "source": [
    "## Variance analysis"
   ]
  },
  {
   "cell_type": "code",
   "execution_count": null,
   "metadata": {
    "ExecuteTime": {
     "end_time": "2021-06-02T19:18:06.656710Z",
     "start_time": "2021-06-02T19:14:31.805Z"
    }
   },
   "outputs": [],
   "source": [
    "importlib.reload(behaviour_metrics)"
   ]
  },
  {
   "cell_type": "code",
   "execution_count": null,
   "metadata": {
    "ExecuteTime": {
     "end_time": "2021-06-02T19:18:06.657125Z",
     "start_time": "2021-06-02T19:14:31.806Z"
    },
    "scrolled": true
   },
   "outputs": [],
   "source": [
    "arc_length = [behaviour_metrics.calc_arc_length_from_trial_dict(trial_dict) for trial_dict in trial_dicts_all]\n",
    "for al in arc_length: plt.plot(al)\n",
    "plt.legend(exp_conds)"
   ]
  },
  {
   "cell_type": "markdown",
   "metadata": {},
   "source": [
    "# Kalman filter"
   ]
  },
  {
   "cell_type": "markdown",
   "metadata": {},
   "source": [
    "## encoder\n",
    "\n",
    "the job of the encoder is to directly encode intention into firing rates\n",
    "the direct measure is just pearson correlation coefficients between \n",
    "the intentions and the firing rates"
   ]
  },
  {
   "cell_type": "markdown",
   "metadata": {},
   "source": [
    "## decoder"
   ]
  },
  {
   "cell_type": "code",
   "execution_count": null,
   "metadata": {
    "ExecuteTime": {
     "end_time": "2021-06-02T19:18:06.657582Z",
     "start_time": "2021-06-02T19:14:31.809Z"
    },
    "scrolled": false
   },
   "outputs": [],
   "source": [
    "from afs_plotting import plot_prefered_directions\n",
    "\n",
    "TEXT_OFFSET_VERTICAL = -0.2\n",
    "\n",
    "\n",
    "figure_decoder_C.suptitle('KF C matrix before and after CLDA')\n",
    "\n",
    "print('steady state tuning curves:')\n",
    "\n",
    "for  i,e in enumerate(exps): \n",
    "\n",
    "    e = exps[i]\n",
    "    C = e.decoder.filt.C\n",
    "\n",
    "    plot_prefered_directions(C, ax = axs_decoder_C[1,i])\n",
    "    axs_decoder_C[1,i].set_title(f'{exp_conds[i]}')\n",
    "\n",
    "figure_decoder_C"
   ]
  },
  {
   "cell_type": "markdown",
   "metadata": {},
   "source": [
    "## Decoder compared to the encoder\n",
    "\n"
   ]
  },
  {
   "cell_type": "code",
   "execution_count": null,
   "metadata": {
    "ExecuteTime": {
     "end_time": "2021-06-02T19:18:06.658024Z",
     "start_time": "2021-06-02T19:14:31.811Z"
    }
   },
   "outputs": [],
   "source": [
    "import convergence_analysis\n",
    "importlib.reload(convergence_analysis)\n",
    "from convergence_analysis import calc_cosine_sim_bet_two_matrices, calc_cosine_to_target_matrix\n",
    "\n",
    "active_feat_set = exps[2]._active_feat_set\n",
    "\n",
    "\n",
    "for i,e in enumerate(exps):\n",
    "    enc_directions = e.encoder.C\n",
    "    dec_directions = np.array(e._used_C_mat_list)\n",
    "    \n",
    "\n",
    "    angles_hist = calc_cosine_to_target_matrix( dec_directions,enc_directions)\n",
    "    \n",
    "    if i == 0:\n",
    "        active_angles = np.mean(angles_hist[:,noise_neuron_list], axis = 1)\n",
    "        plt.plot(active_angles)\n",
    "    \n",
    "    active_angles = np.mean(angles_hist[:,active_feat_set], axis = 1)\n",
    "    plt.plot(active_angles)\n",
    "    \n"
   ]
  },
  {
   "cell_type": "markdown",
   "metadata": {},
   "source": []
  },
  {
   "cell_type": "markdown",
   "metadata": {},
   "source": [
    "## looking at K matrix"
   ]
  },
  {
   "cell_type": "code",
   "execution_count": null,
   "metadata": {
    "ExecuteTime": {
     "end_time": "2021-06-02T19:18:06.658446Z",
     "start_time": "2021-06-02T19:14:31.813Z"
    }
   },
   "outputs": [],
   "source": [
    "figure_k_matrix, axes_k_matrix = plt.subplots(2,NUM_EXP,\n",
    "                                          figsize = (GLOBAL_FIGURE_VERTICAL_SIZE * NUM_EXP,\n",
    "                                                    GLOBAL_FIGURE_VERTICAL_SIZE * 2))\n",
    "\n",
    "for i,e in enumerate(exps):\n",
    "    K = (e._used_K_mat_list[1]).T\n",
    "\n",
    "    plot_prefered_directions(K, ax  = axes_k_matrix[0, i])\n",
    "    axes_k_matrix[0, i].set_title(exp_conds[i])\n",
    "\n",
    "for i,e in enumerate(exps):\n",
    "    K = (e._used_K_mat_list[-1]).T\n",
    "    plot_prefered_directions(K, ax  = axes_k_matrix[1, i])\n",
    "    axes_k_matrix[1,i].set_title(exp_conds[i])"
   ]
  },
  {
   "cell_type": "code",
   "execution_count": null,
   "metadata": {
    "ExecuteTime": {
     "end_time": "2021-06-02T19:18:06.658850Z",
     "start_time": "2021-06-02T19:14:31.814Z"
    }
   },
   "outputs": [],
   "source": [
    "for i,e in enumerate(exps):\n",
    "    \n",
    "    enc_directions = e.encoder.C\n",
    "    \n",
    "    print(enc_directions.shape)\n",
    "    K_mat = np.array(e._used_K_mat_list[1:])\n",
    "    \n",
    "    K_mat = np.swapaxes(K_mat, 1,2)\n",
    "    print(K_mat.shape)\n",
    "    \n",
    "    if i == 0:\n",
    "        angles_hist = calc_cosine_to_target_matrix(K_mat[:, no_noise_neuron_list,:], \n",
    "                                                   enc_directions[no_noise_neuron_list,:])\n",
    "    else:\n",
    "        angles_hist = calc_cosine_to_target_matrix(K_mat, enc_directions[e._active_feat_set,:])\n",
    "    \n",
    "\n",
    "    active_angles = np.mean(angles_hist, axis = 1)\n",
    "    plt.plot(active_angles)"
   ]
  },
  {
   "cell_type": "code",
   "execution_count": null,
   "metadata": {},
   "outputs": [],
   "source": []
  },
  {
   "cell_type": "markdown",
   "metadata": {},
   "source": [
    "# Feature analysis"
   ]
  },
  {
   "cell_type": "code",
   "execution_count": null,
   "metadata": {
    "ExecuteTime": {
     "end_time": "2021-06-02T19:18:06.659254Z",
     "start_time": "2021-06-02T19:14:31.817Z"
    },
    "scrolled": true
   },
   "outputs": [],
   "source": [
    "from matplotlib import colors\n",
    "\n",
    "\n",
    "\n",
    "fig_feature_active_map, axes_feat_active_map = plt.subplots(1, NUM_EXP,\n",
    "                                                            figsize = ( NUM_EXP * GLOBAL_FIGURE_VERTICAL_SIZE,\n",
    "                                                                      GLOBAL_FIGURE_VERTICAL_SIZE),\n",
    "                                                           sharey = True)\n",
    "axes_feat_active_map[0].set_ylabel('Learner Batch number')\n",
    "\n",
    "#color true to yellow\n",
    "cmap = colors.ListedColormap(['white'])\n",
    "\n",
    "for i, exp in enumerate(exps):\n",
    "\n",
    "    active_feat_heat_map = np.array(exp._active_feat_set_list, dtype = np.int32)\n",
    "    \n",
    "    #https://stackoverflow.com/questions/40985961/matplotlib-how-to-change-data-point-color-based-on-its-boolean-value-consisten\n",
    "    active_feat_heat_map = np.ma.masked_where(active_feat_heat_map == False, active_feat_heat_map)\n",
    "    \n",
    "    a = axes_feat_active_map[i].imshow(active_feat_heat_map, cmap = cmap)\n",
    "    \n",
    "    #color false to blue\n",
    "    cmap.set_bad(color='black')\n",
    "    \n",
    "    axes_feat_active_map[i].set_xlabel('All features')\n",
    "    axes_feat_active_map[i].set_title(exp_conds[i])\n",
    "\n",
    "\n",
    "#fig_feature_active_map.colorbar(a, ax=axes_feat_active_map.ravel().tolist())"
   ]
  },
  {
   "cell_type": "markdown",
   "metadata": {},
   "source": [
    "## Examine used K mat"
   ]
  },
  {
   "cell_type": "markdown",
   "metadata": {},
   "source": [
    "## examine used C mat"
   ]
  },
  {
   "cell_type": "code",
   "execution_count": null,
   "metadata": {
    "ExecuteTime": {
     "end_time": "2021-06-02T19:18:06.659650Z",
     "start_time": "2021-06-02T19:14:31.821Z"
    }
   },
   "outputs": [],
   "source": [
    "import weights_linear_regression\n",
    "importlib.reload(weights_linear_regression)\n",
    "from weights_linear_regression import calc_a_history_of_matrix_L2norms_along_first_axis\n",
    "\n",
    "\n",
    "figure_weights_norm, axes_weights_norm = plt.subplots( NUM_EXP, N_TYPES_OF_NEURONS,\n",
    "    figsize = (N_TYPES_OF_NEURONS * GLOBAL_FIGURE_VERTICAL_SIZE, NUM_EXP * GLOBAL_FIGURE_VERTICAL_SIZE))\n",
    "\n",
    "C_mat_all = list()\n",
    "\n",
    "for j,exp in enumerate(exps):\n",
    "    \n",
    "    updated_C_mat = np.array(exp._used_C_mat_list)\n",
    "    the_history_of_KF_weights_in_time_by_neurons = calc_a_history_of_matrix_L2norms_along_first_axis(updated_C_mat, debug = False)\n",
    "\n",
    "    C_mat_all.append(np.copy(updated_C_mat))\n",
    "    axe_exp = axes_weights_norm[j,:]\n",
    "    for i,a in enumerate(axe_exp):\n",
    "        a.plot(the_history_of_KF_weights_in_time_by_neurons[:, neuron_type_indices_in_a_list[i]])\n",
    "        a.set_xlabel('Batch number')\n",
    "        a.set_ylabel('Weight')\n",
    "        \n",
    "C_mat_all = np.array(C_mat_all)"
   ]
  },
  {
   "cell_type": "code",
   "execution_count": null,
   "metadata": {
    "ExecuteTime": {
     "end_time": "2021-06-02T19:18:06.660052Z",
     "start_time": "2021-06-02T19:14:31.823Z"
    },
    "scrolled": true
   },
   "outputs": [],
   "source": [
    "fig_compr_means, axes_compr_means = plt.subplots(1, N_TYPES_OF_NEURONS,\n",
    "                                                figsize = (GLOBAL_FIGURE_VERTICAL_SIZE * N_TYPES_OF_NEURONS,\n",
    "                                                          GLOBAL_FIGURE_VERTICAL_SIZE),\n",
    "                                                sharey = True)\n",
    "selected_feature_set = no_noise_neuron_list\n",
    "for i,a in enumerate(axes_compr_means):\n",
    "\n",
    "    type_neuron_list = neuron_type_bool_list[i]\n",
    "    \n",
    "    for C in C_mat_all:\n",
    "\n",
    "\n",
    "        the_history_of_KF_weights_in_time_by_neurons = calc_a_history_of_matrix_L2norms_along_first_axis(C, \n",
    "                                                                                                         target_C=e.encoder.C,\n",
    "                                                                indices_to_sum=(X_VEL_STATE_IND, Y_VEL_STATE_IND))\n",
    "\n",
    "\n",
    "        selected_neurons = np.logical_and(selected_feature_set, type_neuron_list)\n",
    "\n",
    "        selected_mean = np.mean(the_history_of_KF_weights_in_time_by_neurons[:,selected_neurons], axis = 1)\n",
    "        std = np.std(the_history_of_KF_weights_in_time_by_neurons[:,selected_neurons], axis = 1)\n",
    "        \n",
    "        line = a.plot(selected_mean)\n",
    "        \n",
    "        x_data = np.arange((selected_mean).shape[0])\n",
    "        \n",
    "        \n",
    "        a.fill_between(x_data ,selected_mean - std, selected_mean + std, alpha = 0.1 )\n",
    "        a.legend(exp_conds)\n",
    "        \n",
    "handles, labels = a.get_legend_handles_labels()\n",
    "fig_compr_means.legend(handles, labels, loc='lower center')\n",
    "plt.show()\n",
    "    \n",
    "#axes_compr_means.set_title('Means of the high SNR weight trajectory')"
   ]
  },
  {
   "cell_type": "markdown",
   "metadata": {},
   "source": [
    "## Fit to the begining for non feature selected"
   ]
  },
  {
   "cell_type": "code",
   "execution_count": null,
   "metadata": {
    "ExecuteTime": {
     "end_time": "2021-05-27T05:12:16.685831Z",
     "start_time": "2021-05-27T05:12:16.679334Z"
    }
   },
   "outputs": [],
   "source": []
  },
  {
   "cell_type": "code",
   "execution_count": null,
   "metadata": {
    "ExecuteTime": {
     "end_time": "2021-06-02T19:18:06.660498Z",
     "start_time": "2021-06-02T19:14:31.827Z"
    },
    "scrolled": true
   },
   "outputs": [],
   "source": [
    "# now, we can average over the neurons. \n",
    "from weights_linear_regression import calc_a_history_of_matrix_L2norms_along_first_axis\n",
    "\n",
    "figure_weights_norm, axes_weights_norm = plt.subplots( 1, N_TYPES_OF_NEURONS,\n",
    "    figsize = (N_TYPES_OF_NEURONS * GLOBAL_FIGURE_VERTICAL_SIZE, GLOBAL_FIGURE_VERTICAL_SIZE))\n",
    "\n",
    "\n",
    "kf_C = np.copy(exps[0]._used_C_mat_list)\n",
    "\n",
    "the_history_of_KF_weights_in_time_by_neurons = calc_a_history_of_matrix_L2norms_along_first_axis(kf_C, \n",
    "                                                                        indices_to_sum=(X_VEL_STATE_IND, Y_VEL_STATE_IND))\n",
    "\n",
    "\n",
    "for i,a in enumerate(axes_weights_norm):\n",
    "    a.plot(the_history_of_KF_weights_in_time_by_neurons[:,\n",
    "                                                        neuron_type_indices_in_a_list[i]])\n",
    "    a.set_xlabel('clda update times')\n",
    "    "
   ]
  },
  {
   "cell_type": "code",
   "execution_count": null,
   "metadata": {
    "ExecuteTime": {
     "end_time": "2021-06-02T19:18:06.660922Z",
     "start_time": "2021-06-02T19:14:31.829Z"
    },
    "scrolled": true
   },
   "outputs": [],
   "source": [
    "from convergence_analysis import ExpFitAnalyzer, calc_flipped_shifted_exponential\n",
    "\n",
    "#calculate this across neurons\n",
    "exp_fit_analyzer = ExpFitAnalyzer()\n",
    "\n",
    "fig_fit, ax_fit = plt.subplots(4,8, figsize = (32,16))\n",
    "\n",
    "unfitted_list = list()\n",
    "fitting_params = list()\n",
    "\n",
    "\n",
    "x_data = np.arange(the_history_of_KF_weights_in_time_by_neurons.shape[0])\n",
    "\n",
    "for i,ax in enumerate(ax_fit.flat):\n",
    "    kf_series_temp = the_history_of_KF_weights_in_time_by_neurons[:,i]\n",
    "    \n",
    "    try:\n",
    "    \n",
    "        (fitting_param_temp, var) = exp_fit_analyzer.calc_fitting_params(calc_flipped_shifted_exponential, x_data, kf_series_temp)\n",
    "        \n",
    "        exp_fit_analyzer.calc_estimated_y()\n",
    "        exp_fit_analyzer.plot_fitting(ax)\n",
    "    \n",
    "    except:\n",
    "        unfitted_list.append(i)\n",
    "        fitting_param_temp = np.array([0, 0])\n",
    "        \n",
    "    fitting_params.append(fitting_param_temp)\n",
    "    "
   ]
  },
  {
   "cell_type": "code",
   "execution_count": null,
   "metadata": {},
   "outputs": [],
   "source": []
  },
  {
   "cell_type": "code",
   "execution_count": null,
   "metadata": {
    "ExecuteTime": {
     "end_time": "2021-06-02T19:18:06.661317Z",
     "start_time": "2021-06-02T19:14:31.832Z"
    }
   },
   "outputs": [],
   "source": [
    "fitting_params = np.array(fitting_params)\n",
    "fitting_params"
   ]
  },
  {
   "cell_type": "code",
   "execution_count": null,
   "metadata": {
    "ExecuteTime": {
     "end_time": "2021-06-02T19:18:06.661730Z",
     "start_time": "2021-06-02T19:14:31.834Z"
    }
   },
   "outputs": [],
   "source": [
    "fitting_params_all_exps = list()\n",
    "\n",
    "for e in exps:\n",
    "\n",
    "    kf_C = np.copy(e._used_C_mat_list)\n",
    "\n",
    "    the_history_of_KF_weights_in_time_by_neurons = calc_a_history_of_matrix_L2norms_along_first_axis(kf_C, \n",
    "                                                                            indices_to_sum=(X_VEL_STATE_IND, Y_VEL_STATE_IND))\n",
    "\n",
    "    x_data = np.arange(the_history_of_KF_weights_in_time_by_neurons.shape[0])\n",
    "    \n",
    "    fitting_params = []\n",
    "\n",
    "    for i in range(N_NEURONS):\n",
    "        kf_series_temp = the_history_of_KF_weights_in_time_by_neurons[:,i]\n",
    "\n",
    "        try:\n",
    "\n",
    "            (fitting_param_temp, var) = exp_fit_analyzer.calc_fitting_params(calc_flipped_shifted_exponential, x_data, kf_series_temp)\n",
    "\n",
    "        except:\n",
    "            unfitted_list.append(i)\n",
    "            fitting_param_temp = np.array([0, 0])\n",
    "\n",
    "        fitting_params.append(fitting_param_temp)\n",
    "    \n",
    "    #processing\n",
    "    fitting_params = np.array(fitting_params)\n",
    "    fitting_params_all_exps.append(fitting_params)\n",
    "\n",
    "len(fitting_params_all_exps)"
   ]
  },
  {
   "cell_type": "code",
   "execution_count": null,
   "metadata": {
    "ExecuteTime": {
     "end_time": "2021-06-02T19:18:06.662207Z",
     "start_time": "2021-06-02T19:14:31.836Z"
    }
   },
   "outputs": [],
   "source": [
    "fit_params "
   ]
  }
 ],
 "metadata": {
  "kernelspec": {
   "display_name": "Python 3",
   "language": "python",
   "name": "python3"
  },
  "language_info": {
   "codemirror_mode": {
    "name": "ipython",
    "version": 3
   },
   "file_extension": ".py",
   "mimetype": "text/x-python",
   "name": "python",
   "nbconvert_exporter": "python",
   "pygments_lexer": "ipython3",
   "version": "3.8.10"
  },
  "toc": {
   "base_numbering": 1,
   "nav_menu": {},
   "number_sections": true,
   "sideBar": true,
   "skip_h1_title": false,
   "title_cell": "Table of Contents",
   "title_sidebar": "Contents",
   "toc_cell": false,
   "toc_position": {
    "height": "600.8px",
    "left": "35px",
    "top": "353.8px",
    "width": "291.075px"
   },
   "toc_section_display": true,
   "toc_window_display": true
  },
  "varInspector": {
   "cols": {
    "lenName": 16,
    "lenType": 16,
    "lenVar": 40
   },
   "kernels_config": {
    "python": {
     "delete_cmd_postfix": "",
     "delete_cmd_prefix": "del ",
     "library": "var_list.py",
     "varRefreshCmd": "print(var_dic_list())"
    },
    "r": {
     "delete_cmd_postfix": ") ",
     "delete_cmd_prefix": "rm(",
     "library": "var_list.r",
     "varRefreshCmd": "cat(var_dic_list()) "
    }
   },
   "types_to_exclude": [
    "module",
    "function",
    "builtin_function_or_method",
    "instance",
    "_Feature"
   ],
   "window_display": false
  }
 },
 "nbformat": 4,
 "nbformat_minor": 4
}
