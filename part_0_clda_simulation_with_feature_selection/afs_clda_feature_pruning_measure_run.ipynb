{
 "cells": [
  {
   "cell_type": "markdown",
   "metadata": {},
   "source": []
  },
  {
   "cell_type": "markdown",
   "metadata": {},
   "source": [
    "# Purposes of this document\n",
    "\n",
    "the reason I am doing this is that I want to make this really easy kind of thing.  "
   ]
  },
  {
   "cell_type": "markdown",
   "metadata": {},
   "source": [
    "# ideas"
   ]
  },
  {
   "cell_type": "code",
   "execution_count": 1,
   "metadata": {
    "ExecuteTime": {
     "end_time": "2021-07-06T19:06:03.798149Z",
     "start_time": "2021-07-06T19:06:03.796129Z"
    }
   },
   "outputs": [],
   "source": [
    "\n",
    "random_seeds = [0, 100, 1000]\n",
    "num_rep = len(random_seeds)"
   ]
  },
  {
   "cell_type": "markdown",
   "metadata": {},
   "source": [
    "apply leo's idea, we are gonna be suspicious everything, right. "
   ]
  },
  {
   "cell_type": "code",
   "execution_count": 2,
   "metadata": {
    "ExecuteTime": {
     "end_time": "2021-07-06T19:06:03.851056Z",
     "start_time": "2021-07-06T19:06:03.799331Z"
    }
   },
   "outputs": [
    {
     "name": "stdout",
     "output_type": "stream",
     "text": [
      "['0.60']\n",
      "1\n"
     ]
    }
   ],
   "source": [
    "import numpy as np\n",
    "\n",
    "percent_high_SNR_noises = np.array([0.6])\n",
    "\n",
    "num_noises = len(percent_high_SNR_noises)\n",
    "\n",
    "\n",
    "percent_high_SNR_noises_labels = [f'{s:.2f}' for s in percent_high_SNR_noises]\n",
    "\n",
    "print(percent_high_SNR_noises_labels)\n",
    "print(num_noises)"
   ]
  },
  {
   "cell_type": "code",
   "execution_count": 3,
   "metadata": {
    "ExecuteTime": {
     "end_time": "2021-07-06T19:06:03.853501Z",
     "start_time": "2021-07-06T19:06:03.852082Z"
    }
   },
   "outputs": [],
   "source": [
    "#the second idea is actually to prune the feature set\n",
    "batch_to_prune = 50"
   ]
  },
  {
   "cell_type": "markdown",
   "metadata": {},
   "source": [
    "# Experimental setup related to the questions\n",
    "\n",
    "this part should be configured to directly test the hypothesis put forward in the previous section\n"
   ]
  },
  {
   "cell_type": "code",
   "execution_count": 4,
   "metadata": {
    "ExecuteTime": {
     "end_time": "2021-07-06T19:06:03.863170Z",
     "start_time": "2021-07-06T19:06:03.854351Z"
    }
   },
   "outputs": [],
   "source": [
    "mean_firing_rate_low = 50\n",
    "mean_firing_rate_high = 200"
   ]
  },
  {
   "cell_type": "code",
   "execution_count": 5,
   "metadata": {
    "ExecuteTime": {
     "end_time": "2021-07-06T19:06:03.879022Z",
     "start_time": "2021-07-06T19:06:03.864234Z"
    }
   },
   "outputs": [
    {
     "name": "stdout",
     "output_type": "stream",
     "text": [
      "[array([ True,  True,  True,  True,  True,  True,  True,  True, False,\n",
      "       False, False, False, False, False, False, False, False, False,\n",
      "       False, False, False, False, False, False, False, False, False,\n",
      "       False, False, False, False, False]), array([False, False, False, False, False, False, False, False,  True,\n",
      "        True,  True,  True,  True,  True,  True,  True, False, False,\n",
      "       False, False, False, False, False, False, False, False, False,\n",
      "       False, False, False, False, False]), array([False, False, False, False, False, False, False, False, False,\n",
      "       False, False, False, False, False, False, False,  True,  True,\n",
      "        True,  True,  True,  True,  True,  True, False, False, False,\n",
      "       False, False, False, False, False]), array([False, False, False, False, False, False, False, False, False,\n",
      "       False, False, False, False, False, False, False, False, False,\n",
      "       False, False, False, False, False, False,  True,  True,  True,\n",
      "        True,  True,  True,  True,  True])]\n",
      "set up the variances in a list:\n",
      "we therefore know the number of neurons to be 32\n",
      "[[1. ]\n",
      " [1. ]\n",
      " [1. ]\n",
      " [1. ]\n",
      " [1. ]\n",
      " [1. ]\n",
      " [1. ]\n",
      " [1. ]\n",
      " [1. ]\n",
      " [1. ]\n",
      " [1. ]\n",
      " [1. ]\n",
      " [1. ]\n",
      " [1. ]\n",
      " [1. ]\n",
      " [1. ]\n",
      " [1. ]\n",
      " [1. ]\n",
      " [1. ]\n",
      " [1. ]\n",
      " [1. ]\n",
      " [1. ]\n",
      " [1. ]\n",
      " [1. ]\n",
      " [0.8]\n",
      " [0.8]\n",
      " [0.8]\n",
      " [0.8]\n",
      " [0.8]\n",
      " [0.8]\n",
      " [0.8]\n",
      " [0.8]]\n"
     ]
    }
   ],
   "source": [
    "\n",
    "np.set_printoptions(precision=2, suppress=True)\n",
    "\n",
    "noise_mode = 'fixed_gaussian'\n",
    "fixed_noise_level = 5#Hz\n",
    "\n",
    "n_neurons = 32\n",
    "\n",
    "n_neurons_per_group = 8\n",
    "\n",
    "high_noise_neuron_ind = np.arange(n_neurons_per_group)\n",
    "medium_noise_neuron_ind = np.arange(n_neurons_per_group, 2 * n_neurons_per_group)\n",
    "low_noise_neuron_ind = np.arange(2*n_neurons_per_group, 3 * n_neurons_per_group)\n",
    "no_noise_neuron_ind = np.arange(3 * n_neurons_per_group, 4* n_neurons_per_group)\n",
    "\n",
    "neuron_type_indices_in_a_list = [\n",
    "    high_noise_neuron_ind,\n",
    "    medium_noise_neuron_ind,\n",
    "    low_noise_neuron_ind,\n",
    "    no_noise_neuron_ind\n",
    "]\n",
    "\n",
    "N_TYPES_OF_NEURONS = len(neuron_type_indices_in_a_list)\n",
    "\n",
    "\n",
    "no_noise_neuron_list = np.full(n_neurons, False, dtype = bool)\n",
    "low_noise_neuron_list = np.full(n_neurons, False, dtype = bool)\n",
    "medium_noise_neuron_list = np.full(n_neurons, False, dtype = bool)\n",
    "high_noise_neuron_list = np.full(n_neurons, False, dtype = bool)\n",
    "\n",
    "with_noise_neuron_list = np.full(n_neurons, False, dtype = bool)\n",
    "\n",
    "\n",
    "\n",
    "no_noise_neuron_list[no_noise_neuron_ind] = True\n",
    "low_noise_neuron_list[low_noise_neuron_ind] = True\n",
    "medium_noise_neuron_list[medium_noise_neuron_ind] = True\n",
    "high_noise_neuron_list[high_noise_neuron_ind] = True\n",
    "\n",
    "with_noise_neuron_list[low_noise_neuron_ind] = True\n",
    "with_noise_neuron_list[medium_noise_neuron_ind] = True\n",
    "with_noise_neuron_list[high_noise_neuron_ind] = True\n",
    "\n",
    "neuron_type_bool_list = [\n",
    "    high_noise_neuron_list,\n",
    "    medium_noise_neuron_list,\n",
    "    low_noise_neuron_list,\n",
    "    no_noise_neuron_list,\n",
    "]\n",
    "\n",
    "print(neuron_type_bool_list)\n",
    "\n",
    "\n",
    "percent_of_count = np.ones(n_neurons)[:, np.newaxis]\n",
    "\n",
    "print(f'set up the variances in a list:')\n",
    "\n",
    "percent_of_count[high_noise_neuron_ind] = 1 \n",
    "percent_of_count[medium_noise_neuron_ind] = 1\n",
    "percent_of_count[low_noise_neuron_ind] = 1\n",
    "percent_of_count[no_noise_neuron_ind] = 0.8\n",
    "\n",
    "print(f'we therefore know the number of neurons to be {n_neurons}')\n",
    "print(percent_of_count)"
   ]
  },
  {
   "cell_type": "code",
   "execution_count": 6,
   "metadata": {
    "ExecuteTime": {
     "end_time": "2021-07-06T19:06:03.888754Z",
     "start_time": "2021-07-06T19:06:03.880997Z"
    }
   },
   "outputs": [],
   "source": [
    "# make percent of count into a list \n",
    "percent_of_count_in_a_list = list()\n",
    "\n",
    "for i in range(num_noises):\n",
    "    percent_of_count = np.ones(n_neurons)[:, np.newaxis]\n",
    "\n",
    "\n",
    "    percent_of_count[high_noise_neuron_ind] =  1\n",
    "    percent_of_count[medium_noise_neuron_ind] = 1\n",
    "    percent_of_count[low_noise_neuron_ind] = 1\n",
    "    percent_of_count[no_noise_neuron_ind] = percent_high_SNR_noises[i]\n",
    "    \n",
    "    percent_of_count_in_a_list.append(percent_of_count)\n"
   ]
  },
  {
   "cell_type": "code",
   "execution_count": 7,
   "metadata": {
    "ExecuteTime": {
     "end_time": "2021-07-06T19:06:03.900419Z",
     "start_time": "2021-07-06T19:06:03.889909Z"
    }
   },
   "outputs": [
    {
     "name": "stdout",
     "output_type": "stream",
     "text": [
      "we have experimental conditions ['w/o FS 0.6']\n"
     ]
    }
   ],
   "source": [
    "\n",
    "#for comparision\n",
    "#for comparision\n",
    "\n",
    "exp_conds = [f'w/o FS {s}' for s in percent_high_SNR_noises]\n",
    "\n",
    "print(f'we have experimental conditions {exp_conds}')\n",
    "\n",
    "#setting clda parameters \n",
    "##learner: collects paird data at batch_sizes\n",
    "RHO = 0.5\n",
    "batch_size = 100\n",
    "\n",
    "\n",
    "#assistor set up assist level\n",
    "assist_level = (0.0, 0.0)\n",
    "\n",
    "#learner and updater: actualy set up rho\n",
    "UPDATER_BATCH_TIME = 1\n",
    "UPDATER_HALF_LIFE = np.log(RHO)  * UPDATER_BATCH_TIME / np.log(0.5)\n"
   ]
  },
  {
   "cell_type": "code",
   "execution_count": 8,
   "metadata": {
    "ExecuteTime": {
     "end_time": "2021-07-06T19:06:03.910356Z",
     "start_time": "2021-07-06T19:06:03.901237Z"
    }
   },
   "outputs": [],
   "source": [
    "# CHANGE: game mechanics: generate task params\n",
    "N_TARGETS = 8\n",
    "N_TRIALS = 800\n",
    "\n",
    "NUM_EXP_COND = len(exp_conds) # how many experiments we are running. \n",
    "NUM_EXP = NUM_EXP_COND * num_rep"
   ]
  },
  {
   "cell_type": "markdown",
   "metadata": {},
   "source": [
    "# Config the experiments\n",
    "\n",
    "this section largely copyied and pasted from   \n",
    "bmi3d-sijia(branch)-bulti_in_experiemnts\n",
    "https://github.com/sijia66/brain-python-interface/blob/master/built_in_tasks/sim_task_KF.py"
   ]
  },
  {
   "cell_type": "markdown",
   "metadata": {},
   "source": [
    "## load dependant libraries"
   ]
  },
  {
   "cell_type": "code",
   "execution_count": 9,
   "metadata": {
    "ExecuteTime": {
     "end_time": "2021-07-06T19:06:04.022566Z",
     "start_time": "2021-07-06T19:06:03.911111Z"
    }
   },
   "outputs": [],
   "source": [
    "from afs_plotting import *"
   ]
  },
  {
   "cell_type": "code",
   "execution_count": 10,
   "metadata": {
    "ExecuteTime": {
     "end_time": "2021-07-06T19:06:04.862862Z",
     "start_time": "2021-07-06T19:06:04.023436Z"
    }
   },
   "outputs": [
    {
     "name": "stderr",
     "output_type": "stream",
     "text": [
      "/home/sijia-aw/BMi3D_my/lab_bmi3d/riglib/blackrock/cerelink.py:13: UserWarning: Unable to import cerebus library. Check if is installed if using the Blackrock NeuroPort system\n",
      "  warnings.warn(\"Unable to import cerebus library. Check if is installed if using the Blackrock NeuroPort system\")\n"
     ]
    }
   ],
   "source": [
    "# import libraries\n",
    "# make sure these directories are in the python path., \n",
    "from bmimultitasks import SimBMIControlMulti, SimBMICosEncKFDec, BMIControlMultiNoWindow\n",
    "from features import SaveHDF\n",
    "from features.simulation_features import get_enc_setup, SimKFDecoderRandom,SimIntentionLQRController, SimClockTick\n",
    "from features.simulation_features import SimHDF, SimTime\n",
    "\n",
    "from riglib import experiment\n",
    "\n",
    "from riglib.stereo_opengl.window import FakeWindow\n",
    "from riglib.bmi import train\n",
    "\n",
    "\n",
    "from behaviour_metrics import filter_state, sort_trials\n",
    "\n",
    "from weights import calc_p_values_for_spike_batches_use_intended_kin\n",
    "from weights import calc_single_batch_p_values_by_fitting_kinematics_to_spike_counts\n",
    "import weights\n",
    "\n",
    "import time\n",
    "import copy\n",
    "import numpy as np\n",
    "import matplotlib.pyplot as plt\n",
    "import sympy as sp\n",
    "import itertools #for identical sequences\n",
    "\n",
    "np.set_printoptions(precision=2, suppress=True)\n"
   ]
  },
  {
   "cell_type": "markdown",
   "metadata": {},
   "source": [
    "##  behaviour and task setup"
   ]
  },
  {
   "cell_type": "code",
   "execution_count": 11,
   "metadata": {
    "ExecuteTime": {
     "end_time": "2021-07-06T19:06:04.867769Z",
     "start_time": "2021-07-06T19:06:04.863752Z"
    }
   },
   "outputs": [],
   "source": [
    "seq = SimBMIControlMulti.sim_target_seq_generator_multi(\n",
    "N_TARGETS, N_TRIALS)\n",
    "\n",
    "#create a second version of the tasks\n",
    "seqs = itertools.tee(seq, NUM_EXP + 1)\n",
    "target_seq = list(seqs[NUM_EXP])\n",
    "\n",
    "seqs = seqs[:NUM_EXP]\n",
    "\n",
    "\n",
    "SAVE_HDF = False\n",
    "SAVE_SIM_HDF = True #this makes the task data available as exp.task_data_hist\n",
    "DEBUG_FEATURE = False\n",
    "\n",
    "\n",
    "#base_class = SimBMIControlMulti\n",
    "base_class = BMIControlMultiNoWindow\n",
    "\n",
    "#for adding experimental features such as encoder, decoder\n",
    "feats = []\n",
    "feats_2 = []"
   ]
  },
  {
   "cell_type": "markdown",
   "metadata": {},
   "source": [
    "goin"
   ]
  },
  {
   "cell_type": "code",
   "execution_count": 12,
   "metadata": {
    "ExecuteTime": {
     "end_time": "2021-07-06T19:06:04.895949Z",
     "start_time": "2021-07-06T19:06:04.868670Z"
    }
   },
   "outputs": [],
   "source": [
    "from simulation_features import TimeCountDown\n",
    "\n",
    "feats.append(TimeCountDown)\n",
    "feats_2.append(TimeCountDown)\n",
    "\n",
    "total_exp_time = 600# in seconds"
   ]
  },
  {
   "cell_type": "markdown",
   "metadata": {},
   "source": [
    "## encoder\n",
    "\n",
    "the cosine tuned encoder uses a poisson process, right\n",
    "https://en.wikipedia.org/wiki/Poisson_distribution\n",
    "so if the lambda is 1, then it's very likely "
   ]
  },
  {
   "cell_type": "code",
   "execution_count": 13,
   "metadata": {
    "ExecuteTime": {
     "end_time": "2021-07-06T19:06:04.906291Z",
     "start_time": "2021-07-06T19:06:04.896903Z"
    }
   },
   "outputs": [
    {
     "name": "stdout",
     "output_type": "stream",
     "text": [
      "features.simulation_features: get_enc_setup has a tuning_level of 1 \n",
      "\n",
      "[False False False False False False False False False False False False\n",
      " False False False False False False False False False False False False\n",
      "  True  True  True  True  True  True  True  True]\n",
      "(32, 7)\n"
     ]
    }
   ],
   "source": [
    "from features.simulation_features import get_enc_setup\n",
    "\n",
    "ENCODER_TYPE = 'cosine_tuned_encoder_with_poisson_noise'\n",
    "\n",
    "#neuron set up : 'std (20 neurons)' or 'toy (4 neurons)' \n",
    "N_NEURONS, N_STATES, sim_C = get_enc_setup(sim_mode = 'rot_90', n_neurons= n_neurons)\n",
    "\n",
    "\n",
    "print(no_noise_neuron_list)\n",
    "#multiply our the neurons\n",
    "sim_C[with_noise_neuron_list] =  sim_C[with_noise_neuron_list]  * mean_firing_rate_low\n",
    "sim_C[no_noise_neuron_list]  = sim_C[no_noise_neuron_list] * mean_firing_rate_high\n",
    "\n",
    "\n",
    "print(sim_C.shape)\n",
    "\n",
    "#set up intention feedbackcontroller\n",
    "#this ideally set before the encoder\n",
    "feats.append(SimIntentionLQRController)\n",
    "\n",
    "#set up the encoder\n",
    "from features.simulation_features import SimCosineTunedEncWithNoise\n",
    "feats.append(SimCosineTunedEncWithNoise)\n",
    "\n",
    "\n",
    "feats_2.append(SimIntentionLQRController)\n",
    "feats_2.append(SimCosineTunedEncWithNoise)"
   ]
  },
  {
   "cell_type": "markdown",
   "metadata": {},
   "source": [
    "## decoder setup"
   ]
  },
  {
   "cell_type": "code",
   "execution_count": 14,
   "metadata": {
    "ExecuteTime": {
     "end_time": "2021-07-06T19:06:04.916721Z",
     "start_time": "2021-07-06T19:06:04.907107Z"
    }
   },
   "outputs": [
    {
     "name": "stdout",
     "output_type": "stream",
     "text": [
      "__main__: set base class \n",
      "__main__: selected SimKFDecoderRandom \n",
      "\n"
     ]
    }
   ],
   "source": [
    "#clda on random \n",
    "DECODER_MODE = 'random' # random \n",
    "\n",
    "   #take care the decoder setup\n",
    "if DECODER_MODE == 'random':\n",
    "    feats.append(SimKFDecoderRandom)\n",
    "    feats_2.append(SimKFDecoderRandom)\n",
    "    print(f'{__name__}: set base class ')\n",
    "    print(f'{__name__}: selected SimKFDecoderRandom \\n')\n",
    "else: #defaul to a cosEnc and a pre-traind KF DEC\n",
    "    from features.simulation_features import SimKFDecoderSup\n",
    "    feats.append(SimKFDecoderSup)\n",
    "    feats_2.append(SimKFDecoderSup)\n",
    "    print(f'{__name__}: set decoder to SimKFDecoderSup\\n')"
   ]
  },
  {
   "cell_type": "markdown",
   "metadata": {},
   "source": [
    "##  clda: learner and updater"
   ]
  },
  {
   "cell_type": "code",
   "execution_count": 15,
   "metadata": {
    "ExecuteTime": {
     "end_time": "2021-07-06T19:06:04.926027Z",
     "start_time": "2021-07-06T19:06:04.917507Z"
    }
   },
   "outputs": [],
   "source": [
    "\n",
    "\n",
    "LEARNER_TYPE = 'feedback' # to dumb or not dumb it is a question 'feedback'\n",
    "UPDATER_TYPE = 'smooth_batch' #none or \"smooth_batch\"\n",
    "\n",
    "\n",
    "#you know what? \n",
    "#learner only collects firing rates labeled with estimated estimates\n",
    "#we would also need to use the labeled data\n",
    "#now, we can set up a dumb/or not-dumb learner\n",
    "if LEARNER_TYPE == 'feedback':\n",
    "    from features.simulation_features import SimFeedbackLearner\n",
    "    feats.append(SimFeedbackLearner)\n",
    "    feats_2.append(SimFeedbackLearner)\n",
    "else:\n",
    "    from features.simulation_features import SimDumbLearner\n",
    "    feats.append(SimDumbLearner)\n",
    "    feats_2.append(SimDumbLearner)\n",
    "\n",
    "#to update the decoder.\n",
    "if UPDATER_TYPE == 'smooth_batch':\n",
    "    from features.simulation_features import SimSmoothBatch\n",
    "    feats.append(SimSmoothBatch)\n",
    "    feats_2.append(SimSmoothBatch)\n",
    "else: #defaut to none \n",
    "    print(f'{__name__}: need to specify an updater')\n",
    "    \n",
    "\n"
   ]
  },
  {
   "cell_type": "markdown",
   "metadata": {},
   "source": [
    "## feature selector setup"
   ]
  },
  {
   "cell_type": "code",
   "execution_count": 16,
   "metadata": {
    "ExecuteTime": {
     "end_time": "2021-07-06T19:06:05.065778Z",
     "start_time": "2021-07-06T19:06:04.926905Z"
    }
   },
   "outputs": [
    {
     "name": "stdout",
     "output_type": "stream",
     "text": [
      "kwargs will be updated in a later time\n",
      "the feature adaptation project is tracking dict_keys(['transform_x_flag', 'transform_y_flag', 'feature_x_transformer', 'feature_y_transformer', 'n_starting_feats', 'n_states']) \n"
     ]
    }
   ],
   "source": [
    "from feature_selection_feature import FeatureTransformer, TransformerBatchToFit\n",
    "from feature_selection_feature import FeatureSelector, LassoFeatureSelector, SNRFeatureSelector, IterativeFeatureSelector\n",
    "from feature_selection_feature import IterativeFeatureRemoval\n",
    "from feature_selection_feature import ReliabilityFeatureSelector\n",
    "\n",
    "#pass the real time limit on clock\n",
    "feats.append(ReliabilityFeatureSelector)\n",
    "feats_2.append(FeatureSelector)\n",
    "\n",
    "\n",
    "feature_x_meth_arg = [\n",
    "    ('transpose', None ),\n",
    "]\n",
    "\n",
    "kwargs_feature = dict()\n",
    "kwargs_feature = {\n",
    "    'transform_x_flag':True,\n",
    "    'transform_y_flag':True,\n",
    "    'feature_x_transformer':FeatureTransformer(feature_x_meth_arg),\n",
    "    'feature_y_transformer':TransformerBatchToFit(),\n",
    "    'n_starting_feats': n_neurons,\n",
    "    'n_states':  7\n",
    "}\n",
    "\n",
    "print('kwargs will be updated in a later time')\n",
    "print(f'the feature adaptation project is tracking {kwargs_feature.keys()} ')"
   ]
  },
  {
   "cell_type": "markdown",
   "metadata": {},
   "source": [
    "## assistor setup"
   ]
  },
  {
   "cell_type": "markdown",
   "metadata": {},
   "source": [
    "## (Check) config the experiment"
   ]
  },
  {
   "cell_type": "code",
   "execution_count": 17,
   "metadata": {
    "ExecuteTime": {
     "end_time": "2021-07-06T19:06:05.068109Z",
     "start_time": "2021-07-06T19:06:05.066575Z"
    }
   },
   "outputs": [],
   "source": [
    "exp_feats = [feats] * num_noises\n"
   ]
  },
  {
   "cell_type": "code",
   "execution_count": 18,
   "metadata": {
    "ExecuteTime": {
     "end_time": "2021-07-06T19:06:05.078801Z",
     "start_time": "2021-07-06T19:06:05.068876Z"
    }
   },
   "outputs": [],
   "source": [
    "if DEBUG_FEATURE: \n",
    "    from features.simulation_features import DebugFeature\n",
    "    feats.append(DebugFeature)\n",
    "    \n",
    "if SAVE_HDF: \n",
    "    feats.append(SaveHDF)\n",
    "    #eats_2.append(SaveHDF)\n",
    "if SAVE_SIM_HDF: \n",
    "    feats.append(SimHDF)\n",
    "    feats_2.append(SimHDF)\n",
    "    \n",
    "    \n",
    "#pass the real time limit on clock\n",
    "feats.append(SimClockTick)\n",
    "feats.append(SimTime)\n",
    "\n",
    "feats_2.append(SimClockTick)\n",
    "feats_2.append(SimTime)\n"
   ]
  },
  {
   "cell_type": "code",
   "execution_count": 19,
   "metadata": {
    "ExecuteTime": {
     "end_time": "2021-07-06T19:06:05.091908Z",
     "start_time": "2021-07-06T19:06:05.080689Z"
    }
   },
   "outputs": [
    {
     "name": "stdout",
     "output_type": "stream",
     "text": [
      "we have got 1 exps\n"
     ]
    }
   ],
   "source": [
    "\n",
    "\n",
    "kwargs_exps = list()\n",
    "\n",
    "for i in range(num_noises):\n",
    "    d = dict()\n",
    "    \n",
    "    d['total_exp_time'] = total_exp_time\n",
    "    \n",
    "    d['assist_level'] = assist_level\n",
    "    d['sim_C'] = sim_C\n",
    "    \n",
    "    d['noise_mode'] = noise_mode\n",
    "    d['percent_noise'] = percent_of_count_in_a_list[i]\n",
    "    d['fixed_noise_level'] = fixed_noise_level\n",
    "    \n",
    "    d['batch_size'] = batch_size\n",
    "    \n",
    "    d['batch_time'] = UPDATER_BATCH_TIME\n",
    "    d['half_life'] = UPDATER_HALF_LIFE\n",
    "    \n",
    "    \n",
    "    d.update(kwargs_feature)\n",
    "    \n",
    "    kwargs_exps.append(d)\n",
    "\n",
    "\n",
    "\n",
    "print(f'we have got {len(kwargs_exps)} exps')"
   ]
  },
  {
   "cell_type": "markdown",
   "metadata": {},
   "source": [
    "## make and initalize experiment instances"
   ]
  },
  {
   "cell_type": "code",
   "execution_count": 20,
   "metadata": {
    "ExecuteTime": {
     "end_time": "2021-07-06T19:06:05.142923Z",
     "start_time": "2021-07-06T19:06:05.093161Z"
    }
   },
   "outputs": [
    {
     "name": "stdout",
     "output_type": "stream",
     "text": [
      "metaclass constructor\n",
      "(<class 'simulation_features.TimeCountDown'>, <class 'features.simulation_features.SimIntentionLQRController'>, <class 'features.simulation_features.SimCosineTunedEncWithNoise'>, <class 'features.simulation_features.SimKFDecoderRandom'>, <class 'features.simulation_features.SimFeedbackLearner'>, <class 'features.simulation_features.SimSmoothBatch'>, <class 'feature_selection_feature.ReliabilityFeatureSelector'>, <class 'features.simulation_features.SimHDF'>, <class 'features.simulation_features.SimClockTick'>, <class 'features.simulation_features.SimTime'>, <class 'bmimultitasks.BMIControlMultiNoWindow'>)\n",
      "[<class 'simulation_features.TimeCountDown'>, <class 'features.simulation_features.SimIntentionLQRController'>, <class 'features.simulation_features.SimCosineTunedEncWithNoise'>, <class 'features.simulation_features.SimKFDecoderRandom'>, <class 'features.simulation_features.SimFeedbackLearner'>, <class 'features.simulation_features.SimSmoothBatch'>, <class 'feature_selection_feature.ReliabilityFeatureSelector'>, <class 'features.simulation_features.SimHDF'>, <class 'features.simulation_features.SimClockTick'>, <class 'features.simulation_features.SimTime'>]\n",
      "\n",
      "features.simulation_features.SimIntentionLQRController: LQRController used \n",
      "\n",
      "\n",
      " features.simulation_features.SimFeedbackLearner: start to create a sim leaner with a batchsize of 100\n",
      "features.simulation_features.SimSmoothBatch: rho in this simulation is  0.5\n",
      "\n",
      "finished executing Experiment.__init__\n",
      "in feature selector mod\n",
      "feature init: [array([ True,  True,  True,  True,  True,  True,  True,  True,  True,\n",
      "        True,  True,  True,  True,  True,  True,  True,  True,  True,\n",
      "        True,  True,  True,  True,  True,  True,  True,  True,  True,\n",
      "        True,  True,  True,  True,  True])]\n",
      "feature selector: add initial decoder weights\n",
      "<class 'features.simulation_features.SimCosineTunedEncWithNoise'>: added CosineTunedEncWithNoise \n",
      "TimeCountDown: assume  fps to be 60\n",
      "metaclass constructor\n",
      "(<class 'simulation_features.TimeCountDown'>, <class 'features.simulation_features.SimIntentionLQRController'>, <class 'features.simulation_features.SimCosineTunedEncWithNoise'>, <class 'features.simulation_features.SimKFDecoderRandom'>, <class 'features.simulation_features.SimFeedbackLearner'>, <class 'features.simulation_features.SimSmoothBatch'>, <class 'feature_selection_feature.ReliabilityFeatureSelector'>, <class 'features.simulation_features.SimHDF'>, <class 'features.simulation_features.SimClockTick'>, <class 'features.simulation_features.SimTime'>, <class 'bmimultitasks.BMIControlMultiNoWindow'>)\n",
      "[<class 'simulation_features.TimeCountDown'>, <class 'features.simulation_features.SimIntentionLQRController'>, <class 'features.simulation_features.SimCosineTunedEncWithNoise'>, <class 'features.simulation_features.SimKFDecoderRandom'>, <class 'features.simulation_features.SimFeedbackLearner'>, <class 'features.simulation_features.SimSmoothBatch'>, <class 'feature_selection_feature.ReliabilityFeatureSelector'>, <class 'features.simulation_features.SimHDF'>, <class 'features.simulation_features.SimClockTick'>, <class 'features.simulation_features.SimTime'>]\n",
      "\n",
      "features.simulation_features.SimIntentionLQRController: LQRController used \n",
      "\n",
      "\n",
      " features.simulation_features.SimFeedbackLearner: start to create a sim leaner with a batchsize of 100\n",
      "features.simulation_features.SimSmoothBatch: rho in this simulation is  0.5\n",
      "\n",
      "finished executing Experiment.__init__\n",
      "in feature selector mod\n",
      "feature init: [array([ True,  True,  True,  True,  True,  True,  True,  True,  True,\n",
      "        True,  True,  True,  True,  True,  True,  True,  True,  True,\n",
      "        True,  True,  True,  True,  True,  True,  True,  True,  True,\n",
      "        True,  True,  True,  True,  True])]\n",
      "feature selector: add initial decoder weights\n",
      "<class 'features.simulation_features.SimCosineTunedEncWithNoise'>: added CosineTunedEncWithNoise \n",
      "TimeCountDown: assume  fps to be 60\n",
      "metaclass constructor\n",
      "(<class 'simulation_features.TimeCountDown'>, <class 'features.simulation_features.SimIntentionLQRController'>, <class 'features.simulation_features.SimCosineTunedEncWithNoise'>, <class 'features.simulation_features.SimKFDecoderRandom'>, <class 'features.simulation_features.SimFeedbackLearner'>, <class 'features.simulation_features.SimSmoothBatch'>, <class 'feature_selection_feature.ReliabilityFeatureSelector'>, <class 'features.simulation_features.SimHDF'>, <class 'features.simulation_features.SimClockTick'>, <class 'features.simulation_features.SimTime'>, <class 'bmimultitasks.BMIControlMultiNoWindow'>)\n",
      "[<class 'simulation_features.TimeCountDown'>, <class 'features.simulation_features.SimIntentionLQRController'>, <class 'features.simulation_features.SimCosineTunedEncWithNoise'>, <class 'features.simulation_features.SimKFDecoderRandom'>, <class 'features.simulation_features.SimFeedbackLearner'>, <class 'features.simulation_features.SimSmoothBatch'>, <class 'feature_selection_feature.ReliabilityFeatureSelector'>, <class 'features.simulation_features.SimHDF'>, <class 'features.simulation_features.SimClockTick'>, <class 'features.simulation_features.SimTime'>]\n",
      "\n",
      "features.simulation_features.SimIntentionLQRController: LQRController used \n",
      "\n",
      "\n",
      " features.simulation_features.SimFeedbackLearner: start to create a sim leaner with a batchsize of 100\n",
      "features.simulation_features.SimSmoothBatch: rho in this simulation is  0.5\n",
      "\n",
      "finished executing Experiment.__init__\n",
      "in feature selector mod\n",
      "feature init: [array([ True,  True,  True,  True,  True,  True,  True,  True,  True,\n",
      "        True,  True,  True,  True,  True,  True,  True,  True,  True,\n",
      "        True,  True,  True,  True,  True,  True,  True,  True,  True,\n",
      "        True,  True,  True,  True,  True])]\n",
      "feature selector: add initial decoder weights\n",
      "<class 'features.simulation_features.SimCosineTunedEncWithNoise'>: added CosineTunedEncWithNoise \n",
      "TimeCountDown: assume  fps to be 60\n",
      "\n",
      " using encoder with additional noises  State space: ['hand_px', 'hand_py', 'hand_pz', 'hand_vx', 'hand_vy', 'hand_vz', 'offset'] \n",
      "\n",
      "<bound method GenericCosEncWithNoise._gen_fixed_gaussian_noise of <riglib.bmi.sim_neurons.GenericCosEncWithNoise object at 0x7fd20886df70>>\n",
      "neural encoder init function  <BMIControlMultiNoWindow(Thread-4, initial)>\n",
      "features.simulation_features: added tracking of K matrix\n",
      "<bmimultitasks.SimpleEndpointAssister object at 0x7fd20886dd90>\n",
      "features.simulation_features: batch size is 100\n",
      "Reset states for learner: \n",
      "[]\n",
      "Done states for learner: \n",
      "[]\n",
      "\n",
      "features.simulation_features.SimFeedbackLearner: flip the self.learn_flag to true\n",
      "features.simulation_features.SimFeedbackLearner: succussfully created a feedback controller learner\n",
      "\n",
      "\n",
      "SimSmoothBatch: created an updater with a batch time of 1 and a half_life of 1.0 \n",
      "\n",
      "next\n",
      "\n",
      "\n",
      " using encoder with additional noises  State space: ['hand_px', 'hand_py', 'hand_pz', 'hand_vx', 'hand_vy', 'hand_vz', 'offset'] \n",
      "\n",
      "<bound method GenericCosEncWithNoise._gen_fixed_gaussian_noise of <riglib.bmi.sim_neurons.GenericCosEncWithNoise object at 0x7fd208855f10>>\n",
      "neural encoder init function  <BMIControlMultiNoWindow(Thread-5, initial)>\n",
      "features.simulation_features: added tracking of K matrix\n",
      "<bmimultitasks.SimpleEndpointAssister object at 0x7fd208855ee0>\n",
      "features.simulation_features: batch size is 100\n",
      "Reset states for learner: \n",
      "[]\n",
      "Done states for learner: \n",
      "[]\n",
      "\n",
      "features.simulation_features.SimFeedbackLearner: flip the self.learn_flag to true\n",
      "features.simulation_features.SimFeedbackLearner: succussfully created a feedback controller learner\n",
      "\n",
      "\n",
      "SimSmoothBatch: created an updater with a batch time of 1 and a half_life of 1.0 \n",
      "\n",
      "next\n",
      "\n",
      "\n",
      " using encoder with additional noises  State space: ['hand_px', 'hand_py', 'hand_pz', 'hand_vx', 'hand_vy', 'hand_vz', 'offset'] \n",
      "\n",
      "<bound method GenericCosEncWithNoise._gen_fixed_gaussian_noise of <riglib.bmi.sim_neurons.GenericCosEncWithNoise object at 0x7fd20882d880>>\n",
      "neural encoder init function  <BMIControlMultiNoWindow(Thread-6, initial)>\n",
      "features.simulation_features: added tracking of K matrix\n",
      "<bmimultitasks.SimpleEndpointAssister object at 0x7fd2088d6e50>\n",
      "features.simulation_features: batch size is 100\n",
      "Reset states for learner: \n",
      "[]\n",
      "Done states for learner: \n",
      "[]\n",
      "\n",
      "features.simulation_features.SimFeedbackLearner: flip the self.learn_flag to true\n",
      "features.simulation_features.SimFeedbackLearner: succussfully created a feedback controller learner\n",
      "\n",
      "\n",
      "SimSmoothBatch: created an updater with a batch time of 1 and a half_life of 1.0 \n",
      "\n",
      "next\n",
      "\n"
     ]
    }
   ],
   "source": [
    "\n",
    "exps_reps = list()\n",
    "\n",
    "\n",
    "for i,s in enumerate(seqs):\n",
    "    \n",
    "    #spawn the task\n",
    "    kwargs_exps_index = i % NUM_EXP_COND\n",
    "    f = exp_feats[kwargs_exps_index]\n",
    "    Exp = experiment.make(base_class, feats=f)\n",
    "\n",
    "    e = Exp(s, **kwargs_exps[kwargs_exps_index])\n",
    "\n",
    "    exps_reps.append(e)\n",
    "\n",
    "exps_np  = np.array(exps_reps, dtype = 'object')\n",
    "\n",
    "\n",
    "\n",
    "#run the ini\n",
    "for e in exps_np: \n",
    "    e.init()\n",
    "    print('next')\n",
    "    print()\n",
    "    "
   ]
  },
  {
   "cell_type": "code",
   "execution_count": 21,
   "metadata": {
    "ExecuteTime": {
     "end_time": "2021-07-06T19:06:05.145677Z",
     "start_time": "2021-07-06T19:06:05.143755Z"
    }
   },
   "outputs": [
    {
     "name": "stdout",
     "output_type": "stream",
     "text": [
      "3\n"
     ]
    }
   ],
   "source": [
    "exps_rnd = np.reshape(exps_np, (num_rep,-1))\n",
    "\n",
    "exps_rnd.shape\n",
    "\n",
    "print(NUM_EXP)"
   ]
  },
  {
   "cell_type": "markdown",
   "metadata": {},
   "source": [
    "# Pre-experiment check: check the Kalman filter before training"
   ]
  },
  {
   "cell_type": "code",
   "execution_count": 22,
   "metadata": {
    "ExecuteTime": {
     "end_time": "2021-07-06T19:06:05.680250Z",
     "start_time": "2021-07-06T19:06:05.146456Z"
    }
   },
   "outputs": [
    {
     "name": "stdout",
     "output_type": "stream",
     "text": [
      "we replace the encoder using the weights\n",
      "assume, they are all randomly initialized get the first decoder\n",
      "get a handle to the first decoder\n",
      "\n",
      "select_decoder_features: _change_one_flag = False\n",
      "(32, 7)\n",
      "(32, 7)\n",
      "active feature set is [ True  True  True  True  True  True  True  True  True  True  True  True\n",
      "  True  True  True  True  True  True  True  True  True  True  True  True\n",
      "  True  True  True  True  True  True  True  True]\n",
      "after trans: (32, 7)\n",
      "after trans: (32, 32)\n",
      "decoder change flag to false\n",
      "select_decoder_features: _change_one_flag = False\n",
      "(32, 7)\n",
      "(32, 7)\n",
      "active feature set is [ True  True  True  True  True  True  True  True  True  True  True  True\n",
      "  True  True  True  True  True  True  True  True  True  True  True  True\n",
      "  True  True  True  True  True  True  True  True]\n",
      "after trans: (32, 7)\n",
      "after trans: (32, 32)\n",
      "decoder change flag to false\n",
      "select_decoder_features: _change_one_flag = False\n",
      "(32, 7)\n",
      "(32, 7)\n",
      "active feature set is [ True  True  True  True  True  True  True  True  True  True  True  True\n",
      "  True  True  True  True  True  True  True  True  True  True  True  True\n",
      "  True  True  True  True  True  True  True  True]\n",
      "after trans: (32, 7)\n",
      "after trans: (32, 32)\n",
      "decoder change flag to false\n",
      "we check the new decoder C matrix:\n"
     ]
    },
    {
     "data": {
      "image/png": "[encoded data removed]",
      "text/plain": [
       "<Figure size 864x576 with 6 Axes>"
      ]
     },
     "metadata": {
      "needs_background": "light"
     },
     "output_type": "display_data"
    }
   ],
   "source": [
    "from afs_plotting import plot_prefered_directions\n",
    "\n",
    "print('we replace the encoder using the weights')\n",
    "print('assume, they are all randomly initialized get the first decoder')\n",
    "print('get a handle to the first decoder')\n",
    "first_decoder = exps_np[0].decoder\n",
    "target_C = first_decoder.filt.C\n",
    "target_Q = np.copy(first_decoder.filt.Q)\n",
    "\n",
    "print()\n",
    "diag_val = 10000\n",
    "np.fill_diagonal(target_Q, diag_val)\n",
    "\n",
    "#replace the decoder\n",
    "for i,e in enumerate(exps_np):\n",
    "    weights.change_target_kalman_filter_with_a_C_mat(e.decoder.filt, target_C, \n",
    "                                                     Q= target_Q, debug=False)\n",
    "    e.select_decoder_features(e.decoder)\n",
    "    e.record_feature_active_set(e.decoder)\n",
    "    \n",
    "print('we check the new decoder C matrix:')\n",
    "\n",
    "figure_decoder_C, axs_decoder_C = plt.subplots(nrows=2, \n",
    "                               ncols=NUM_EXP, figsize = [GLOBAL_FIGURE_VERTICAL_SIZE * NUM_EXP, GLOBAL_FIGURE_VERTICAL_SIZE * 2],squeeze = False)\n",
    "figure_decoder_C.suptitle('KF C Matrix Before Training ')\n",
    "\n",
    "for i,e in enumerate(exps_np):\n",
    "    C = e.decoder.filt.C\n",
    "    plot_prefered_directions(C, ax = axs_decoder_C[0,i])\n",
    "    #axs_decoder_C[0,i].set_title(exp_conds[i])"
   ]
  },
  {
   "cell_type": "markdown",
   "metadata": {},
   "source": [
    "# Experiment run: assemble into a complete loop"
   ]
  },
  {
   "cell_type": "markdown",
   "metadata": {},
   "source": [
    "## actually running the experiments"
   ]
  },
  {
   "cell_type": "code",
   "execution_count": 23,
   "metadata": {
    "ExecuteTime": {
     "end_time": "2021-07-06T19:06:50.748753Z",
     "start_time": "2021-07-06T19:06:05.681134Z"
    }
   },
   "outputs": [
    {
     "name": "stdout",
     "output_type": "stream",
     "text": [
      "runseq\n",
      "finished: 1\n",
      "assist_level at final value after 0 successful trials\n"
     ]
    },
    {
     "name": "stderr",
     "output_type": "stream",
     "text": [
      "/home/sijia-aw/BMi3D_my/lab_bmi3d/riglib/bmi/kfdecoder.py:372: FutureWarning: `rcond` parameter will change to the default of machine precision times ``max(M, N)`` where M and N are the input matrix dimensions.\n",
      "To use the future default and silence this warning we advise to pass `rcond=None`, to keep using the old, explicitly pass `rcond=-1`.\n",
      "  C = np.mat(np.linalg.lstsq(X.T, Y.T)[0].T)\n"
     ]
    },
    {
     "name": "stdout",
     "output_type": "stream",
     "text": [
      "reliability fs: [-2055.17 -2019.99 -2158.54 -1818.84 -2527.66 -2602.27 -2079.56 -2069.84\n",
      " -2511.01 -2113.21 -2051.02 -1861.9  -2568.44 -2538.52 -2159.39 -1513.06\n",
      " -2465.19 -2139.05 -1572.79 -1751.36 -2512.16 -2520.34 -2264.01 -1975.14\n",
      " -2868.38 -2797.83 -2735.21 -2693.13 -3133.9  -2850.43 -2655.69 -2746.9 ]\n",
      "determine feature change: after set up [False False False False False False False False False False False False\n",
      " False False False False False False False False False False False False\n",
      "  True  True  True  True  True  True  True  True]\n",
      "decoder changes here at 1799\n",
      "select_decoder_features: _change_one_flag = False\n",
      "(32, 7)\n",
      "(32, 7)\n",
      "active feature set is [False False False False False False False False False False False False\n",
      " False False False False False False False False False False False False\n",
      "  True  True  True  True  True  True  True  True]\n",
      "after trans: (8, 7)\n",
      "after trans: (8, 8)\n",
      "decoder change flag to false\n",
      "determine feature change: after set up [ True  True  True  True  True  True  True  True False False False False\n",
      " False False False False False False False False False False False False\n",
      "  True  True  True  True  True  True  True  True]\n",
      "decoder changes here at 17999\n",
      "select_decoder_features: _change_one_flag = False\n",
      "(8, 7)\n",
      "(8, 7)\n",
      "active feature set is [ True  True  True  True  True  True  True  True False False False False\n",
      " False False False False False False False False False False False False\n",
      "  True  True  True  True  True  True  True  True]\n",
      "after trans: (16, 7)\n",
      "after trans: (16, 16)\n",
      "decoder change flag to false\n",
      "determine feature change: after set up [ True  True  True  True  True  True  True  True  True False False False\n",
      " False False False False False False False False False False False False\n",
      "  True  True  True  True  True  True  True  True]\n",
      "decoder changes here at 18599\n",
      "select_decoder_features: _change_one_flag = False\n",
      "(16, 7)\n",
      "(16, 7)\n",
      "active feature set is [ True  True  True  True  True  True  True  True  True False False False\n",
      " False False False False False False False False False False False False\n",
      "  True  True  True  True  True  True  True  True]\n",
      "after trans: (17, 7)\n",
      "after trans: (17, 17)\n",
      "decoder change flag to false\n",
      "determine feature change: after set up [ True  True  True  True  True  True  True  True  True  True False False\n",
      " False False False False False False False False False False False False\n",
      "  True  True  True  True  True  True  True  True]\n",
      "decoder changes here at 19199\n",
      "select_decoder_features: _change_one_flag = False\n",
      "(17, 7)\n",
      "(17, 7)\n",
      "active feature set is [ True  True  True  True  True  True  True  True  True  True False False\n",
      " False False False False False False False False False False False False\n",
      "  True  True  True  True  True  True  True  True]\n",
      "after trans: (18, 7)\n",
      "after trans: (18, 18)\n",
      "decoder change flag to false\n",
      "determine feature change: after set up [ True  True  True  True  True  True  True  True  True  True  True False\n",
      " False False False False False False False False False False False False\n",
      "  True  True  True  True  True  True  True  True]\n",
      "decoder changes here at 19799\n",
      "select_decoder_features: _change_one_flag = False\n",
      "(18, 7)\n",
      "(18, 7)\n",
      "active feature set is [ True  True  True  True  True  True  True  True  True  True  True False\n",
      " False False False False False False False False False False False False\n",
      "  True  True  True  True  True  True  True  True]\n",
      "after trans: (19, 7)\n",
      "after trans: (19, 19)\n",
      "decoder change flag to false\n",
      "determine feature change: after set up [ True  True  True  True  True  True  True  True  True  True  True  True\n",
      " False False False False False False False False False False False False\n",
      "  True  True  True  True  True  True  True  True]\n",
      "decoder changes here at 20399\n",
      "select_decoder_features: _change_one_flag = False\n",
      "(19, 7)\n",
      "(19, 7)\n",
      "active feature set is [ True  True  True  True  True  True  True  True  True  True  True  True\n",
      " False False False False False False False False False False False False\n",
      "  True  True  True  True  True  True  True  True]\n",
      "after trans: (20, 7)\n",
      "after trans: (20, 20)\n",
      "decoder change flag to false\n",
      "determine feature change: after set up [ True  True  True  True  True  True  True  True  True  True  True  True\n",
      "  True False False False False False False False False False False False\n",
      "  True  True  True  True  True  True  True  True]\n",
      "decoder changes here at 20999\n",
      "select_decoder_features: _change_one_flag = False\n",
      "(20, 7)\n",
      "(20, 7)\n",
      "active feature set is [ True  True  True  True  True  True  True  True  True  True  True  True\n",
      "  True False False False False False False False False False False False\n",
      "  True  True  True  True  True  True  True  True]\n",
      "after trans: (21, 7)\n",
      "after trans: (21, 21)\n",
      "decoder change flag to false\n",
      "determine feature change: after set up [ True  True  True  True  True  True  True  True  True  True  True  True\n",
      "  True  True False False False False False False False False False False\n",
      "  True  True  True  True  True  True  True  True]\n",
      "decoder changes here at 21599\n",
      "select_decoder_features: _change_one_flag = False\n",
      "(21, 7)\n",
      "(21, 7)\n",
      "active feature set is [ True  True  True  True  True  True  True  True  True  True  True  True\n",
      "  True  True False False False False False False False False False False\n",
      "  True  True  True  True  True  True  True  True]\n",
      "after trans: (22, 7)\n",
      "after trans: (22, 22)\n",
      "decoder change flag to false\n",
      "determine feature change: after set up [ True  True  True  True  True  True  True  True  True  True  True  True\n",
      "  True  True  True False False False False False False False False False\n",
      "  True  True  True  True  True  True  True  True]\n",
      "decoder changes here at 22199\n",
      "select_decoder_features: _change_one_flag = False\n",
      "(22, 7)\n",
      "(22, 7)\n",
      "active feature set is [ True  True  True  True  True  True  True  True  True  True  True  True\n",
      "  True  True  True False False False False False False False False False\n",
      "  True  True  True  True  True  True  True  True]\n",
      "after trans: (23, 7)\n",
      "after trans: (23, 23)\n",
      "decoder change flag to false\n",
      "determine feature change: after set up [ True  True  True  True  True  True  True  True  True  True  True  True\n",
      "  True  True  True  True False False False False False False False False\n",
      "  True  True  True  True  True  True  True  True]\n",
      "decoder changes here at 22799\n",
      "select_decoder_features: _change_one_flag = False\n",
      "(23, 7)\n",
      "(23, 7)\n",
      "active feature set is [ True  True  True  True  True  True  True  True  True  True  True  True\n",
      "  True  True  True  True False False False False False False False False\n",
      "  True  True  True  True  True  True  True  True]\n",
      "after trans: (24, 7)\n",
      "after trans: (24, 24)\n",
      "decoder change flag to false\n",
      "determine feature change: after set up [ True  True  True  True  True  True  True  True  True  True  True  True\n",
      "  True  True  True  True  True False False False False False False False\n",
      "  True  True  True  True  True  True  True  True]\n",
      "decoder changes here at 23399\n",
      "select_decoder_features: _change_one_flag = False\n",
      "(24, 7)\n",
      "(24, 7)\n",
      "active feature set is [ True  True  True  True  True  True  True  True  True  True  True  True\n",
      "  True  True  True  True  True False False False False False False False\n",
      "  True  True  True  True  True  True  True  True]\n",
      "after trans: (25, 7)\n",
      "after trans: (25, 25)\n",
      "decoder change flag to false\n",
      "determine feature change: after set up [ True  True  True  True  True  True  True  True  True  True  True  True\n",
      "  True  True  True  True  True  True False False False False False False\n",
      "  True  True  True  True  True  True  True  True]\n",
      "decoder changes here at 23999\n",
      "select_decoder_features: _change_one_flag = False\n",
      "(25, 7)\n",
      "(25, 7)\n",
      "active feature set is [ True  True  True  True  True  True  True  True  True  True  True  True\n",
      "  True  True  True  True  True  True False False False False False False\n",
      "  True  True  True  True  True  True  True  True]\n",
      "after trans: (26, 7)\n",
      "after trans: (26, 26)\n",
      "decoder change flag to false\n",
      "determine feature change: after set up [ True  True  True  True  True  True  True  True  True  True  True  True\n",
      "  True  True  True  True  True  True  True False False False False False\n",
      "  True  True  True  True  True  True  True  True]\n",
      "decoder changes here at 24599\n",
      "select_decoder_features: _change_one_flag = False\n",
      "(26, 7)\n",
      "(26, 7)\n",
      "active feature set is [ True  True  True  True  True  True  True  True  True  True  True  True\n",
      "  True  True  True  True  True  True  True False False False False False\n",
      "  True  True  True  True  True  True  True  True]\n",
      "after trans: (27, 7)\n",
      "after trans: (27, 27)\n",
      "decoder change flag to false\n"
     ]
    },
    {
     "name": "stdout",
     "output_type": "stream",
     "text": [
      "determine feature change: after set up [ True  True  True  True  True  True  True  True  True  True  True  True\n",
      "  True  True  True  True  True  True  True  True False False False False\n",
      "  True  True  True  True  True  True  True  True]\n",
      "decoder changes here at 25199\n",
      "select_decoder_features: _change_one_flag = False\n",
      "(27, 7)\n",
      "(27, 7)\n",
      "active feature set is [ True  True  True  True  True  True  True  True  True  True  True  True\n",
      "  True  True  True  True  True  True  True  True False False False False\n",
      "  True  True  True  True  True  True  True  True]\n",
      "after trans: (28, 7)\n",
      "after trans: (28, 28)\n",
      "decoder change flag to false\n",
      "determine feature change: after set up [ True  True  True  True  True  True  True  True  True  True  True  True\n",
      "  True  True  True  True  True  True  True  True  True False False False\n",
      "  True  True  True  True  True  True  True  True]\n",
      "decoder changes here at 25799\n",
      "select_decoder_features: _change_one_flag = False\n",
      "(28, 7)\n",
      "(28, 7)\n",
      "active feature set is [ True  True  True  True  True  True  True  True  True  True  True  True\n",
      "  True  True  True  True  True  True  True  True  True False False False\n",
      "  True  True  True  True  True  True  True  True]\n",
      "after trans: (29, 7)\n",
      "after trans: (29, 29)\n",
      "decoder change flag to false\n",
      "determine feature change: after set up [ True  True  True  True  True  True  True  True  True  True  True  True\n",
      "  True  True  True  True  True  True  True  True  True  True False False\n",
      "  True  True  True  True  True  True  True  True]\n",
      "decoder changes here at 26399\n",
      "select_decoder_features: _change_one_flag = False\n",
      "(29, 7)\n",
      "(29, 7)\n",
      "active feature set is [ True  True  True  True  True  True  True  True  True  True  True  True\n",
      "  True  True  True  True  True  True  True  True  True  True False False\n",
      "  True  True  True  True  True  True  True  True]\n",
      "after trans: (30, 7)\n",
      "after trans: (30, 30)\n",
      "decoder change flag to false\n",
      "determine feature change: after set up [ True  True  True  True  True  True  True  True  True  True  True  True\n",
      "  True  True  True  True  True  True  True  True  True  True  True False\n",
      "  True  True  True  True  True  True  True  True]\n",
      "decoder changes here at 26999\n",
      "select_decoder_features: _change_one_flag = False\n",
      "(30, 7)\n",
      "(30, 7)\n",
      "active feature set is [ True  True  True  True  True  True  True  True  True  True  True  True\n",
      "  True  True  True  True  True  True  True  True  True  True  True False\n",
      "  True  True  True  True  True  True  True  True]\n",
      "after trans: (31, 7)\n",
      "after trans: (31, 31)\n",
      "decoder change flag to false\n",
      "determine feature change: after set up [ True  True  True  True  True  True  True  True  True  True  True  True\n",
      "  True  True  True  True  True  True  True  True  True  True  True  True\n",
      "  True  True  True  True  True  True  True  True]\n",
      "decoder changes here at 27599\n",
      "select_decoder_features: _change_one_flag = False\n",
      "(31, 7)\n",
      "(31, 7)\n",
      "active feature set is [ True  True  True  True  True  True  True  True  True  True  True  True\n",
      "  True  True  True  True  True  True  True  True  True  True  True  True\n",
      "  True  True  True  True  True  True  True  True]\n",
      "after trans: (32, 7)\n",
      "after trans: (32, 32)\n",
      "decoder change flag to false\n",
      "determine feature change: after set up [ True  True  True  True  True  True  True  True  True  True  True  True\n",
      "  True  True  True  True  True  True  True  True  True  True  True  True\n",
      "  True  True  True  True  True  True  True  True]\n",
      "decoder changes here at 28199\n",
      "select_decoder_features: _change_one_flag = False\n",
      "(32, 7)\n",
      "(32, 7)\n",
      "active feature set is [ True  True  True  True  True  True  True  True  True  True  True  True\n",
      "  True  True  True  True  True  True  True  True  True  True  True  True\n",
      "  True  True  True  True  True  True  True  True]\n",
      "after trans: (32, 7)\n",
      "after trans: (32, 32)\n",
      "decoder change flag to false\n",
      "determine feature change: after set up [ True  True  True  True  True  True  True  True  True  True  True  True\n",
      "  True  True  True  True  True  True  True  True  True  True  True  True\n",
      "  True  True  True  True  True  True  True  True]\n",
      "decoder changes here at 28799\n",
      "select_decoder_features: _change_one_flag = False\n",
      "(32, 7)\n",
      "(32, 7)\n",
      "active feature set is [ True  True  True  True  True  True  True  True  True  True  True  True\n",
      "  True  True  True  True  True  True  True  True  True  True  True  True\n",
      "  True  True  True  True  True  True  True  True]\n",
      "after trans: (32, 7)\n",
      "after trans: (32, 32)\n",
      "decoder change flag to false\n",
      "determine feature change: after set up [ True  True  True  True  True  True  True  True  True  True  True  True\n",
      "  True  True  True  True  True  True  True  True  True  True  True  True\n",
      "  True  True  True  True  True  True  True  True]\n",
      "decoder changes here at 29399\n",
      "select_decoder_features: _change_one_flag = False\n",
      "(32, 7)\n",
      "(32, 7)\n",
      "active feature set is [ True  True  True  True  True  True  True  True  True  True  True  True\n",
      "  True  True  True  True  True  True  True  True  True  True  True  True\n",
      "  True  True  True  True  True  True  True  True]\n",
      "after trans: (32, 7)\n",
      "after trans: (32, 32)\n",
      "decoder change flag to false\n",
      "determine feature change: after set up [ True  True  True  True  True  True  True  True  True  True  True  True\n",
      "  True  True  True  True  True  True  True  True  True  True  True  True\n",
      "  True  True  True  True  True  True  True  True]\n",
      "decoder changes here at 29999\n",
      "select_decoder_features: _change_one_flag = False\n",
      "(32, 7)\n",
      "(32, 7)\n",
      "active feature set is [ True  True  True  True  True  True  True  True  True  True  True  True\n",
      "  True  True  True  True  True  True  True  True  True  True  True  True\n",
      "  True  True  True  True  True  True  True  True]\n",
      "after trans: (32, 7)\n",
      "after trans: (32, 32)\n",
      "decoder change flag to false\n",
      "determine feature change: after set up [ True  True  True  True  True  True  True  True  True  True  True  True\n",
      "  True  True  True  True  True  True  True  True  True  True  True  True\n",
      "  True  True  True  True  True  True  True  True]\n",
      "decoder changes here at 30599\n",
      "select_decoder_features: _change_one_flag = False\n",
      "(32, 7)\n",
      "(32, 7)\n",
      "active feature set is [ True  True  True  True  True  True  True  True  True  True  True  True\n",
      "  True  True  True  True  True  True  True  True  True  True  True  True\n",
      "  True  True  True  True  True  True  True  True]\n",
      "after trans: (32, 7)\n",
      "after trans: (32, 32)\n",
      "decoder change flag to false\n",
      "determine feature change: after set up [ True  True  True  True  True  True  True  True  True  True  True  True\n",
      "  True  True  True  True  True  True  True  True  True  True  True  True\n",
      "  True  True  True  True  True  True  True  True]\n",
      "decoder changes here at 31199\n",
      "select_decoder_features: _change_one_flag = False\n",
      "(32, 7)\n",
      "(32, 7)\n",
      "active feature set is [ True  True  True  True  True  True  True  True  True  True  True  True\n",
      "  True  True  True  True  True  True  True  True  True  True  True  True\n",
      "  True  True  True  True  True  True  True  True]\n",
      "after trans: (32, 7)\n",
      "after trans: (32, 32)\n",
      "decoder change flag to false\n",
      "determine feature change: after set up [ True  True  True  True  True  True  True  True  True  True  True  True\n",
      "  True  True  True  True  True  True  True  True  True  True  True  True\n",
      "  True  True  True  True  True  True  True  True]\n",
      "decoder changes here at 31799\n",
      "select_decoder_features: _change_one_flag = False\n",
      "(32, 7)\n",
      "(32, 7)\n",
      "active feature set is [ True  True  True  True  True  True  True  True  True  True  True  True\n",
      "  True  True  True  True  True  True  True  True  True  True  True  True\n",
      "  True  True  True  True  True  True  True  True]\n",
      "after trans: (32, 7)\n",
      "after trans: (32, 32)\n",
      "decoder change flag to false\n",
      "determine feature change: after set up [ True  True  True  True  True  True  True  True  True  True  True  True\n",
      "  True  True  True  True  True  True  True  True  True  True  True  True\n",
      "  True  True  True  True  True  True  True  True]\n",
      "decoder changes here at 32399\n",
      "select_decoder_features: _change_one_flag = False\n",
      "(32, 7)\n",
      "(32, 7)\n",
      "active feature set is [ True  True  True  True  True  True  True  True  True  True  True  True\n",
      "  True  True  True  True  True  True  True  True  True  True  True  True\n",
      "  True  True  True  True  True  True  True  True]\n",
      "after trans: (32, 7)\n",
      "after trans: (32, 32)\n",
      "decoder change flag to false\n",
      "exit\n",
      "end of FSM.run, task state is None\n",
      "Finished running  w/o FS 0.6\n",
      "0\n",
      "using random seed 0\n",
      "\n",
      "runseq\n",
      "finished: 1\n",
      "reliability fs: [-2554.88 -2270.93 -1932.52 -2169.86 -2087.84 -1828.3  -2012.54 -2023.56\n",
      " -2500.78 -1911.61 -2024.99 -1938.96 -2287.36 -2494.88 -1941.67 -1835.19\n",
      " -2315.76 -2281.3  -1802.75 -2379.01 -2328.01 -2223.85 -1717.43 -2207.81\n",
      " -3169.58 -2877.57 -2541.87 -2444.56 -2870.72 -2911.23 -2667.46 -2646.83]\n",
      "determine feature change: after set up [ True False False False False False False False False False False False\n",
      " False False False False False False False False False False False False\n",
      "  True  True  True False  True  True  True  True]\n",
      "decoder changes here at 1799\n",
      "select_decoder_features: _change_one_flag = False\n",
      "(32, 7)\n",
      "(32, 7)\n",
      "active feature set is [ True False False False False False False False False False False False\n",
      " False False False False False False False False False False False False\n",
      "  True  True  True False  True  True  True  True]\n",
      "after trans: (8, 7)\n",
      "after trans: (8, 8)\n",
      "decoder change flag to false\n"
     ]
    },
    {
     "name": "stdout",
     "output_type": "stream",
     "text": [
      "determine feature change: after set up [ True  True  True  True  True  True  True  True False False False False\n",
      " False False False False False False False False False False False False\n",
      "  True  True  True False  True  True  True  True]\n",
      "decoder changes here at 17999\n",
      "select_decoder_features: _change_one_flag = False\n",
      "(8, 7)\n",
      "(8, 7)\n",
      "active feature set is [ True  True  True  True  True  True  True  True False False False False\n",
      " False False False False False False False False False False False False\n",
      "  True  True  True False  True  True  True  True]\n",
      "after trans: (15, 7)\n",
      "after trans: (15, 15)\n",
      "decoder change flag to false\n",
      "determine feature change: after set up [ True  True  True  True  True  True  True  True  True False False False\n",
      " False False False False False False False False False False False False\n",
      "  True  True  True False  True  True  True  True]\n",
      "decoder changes here at 18599\n",
      "select_decoder_features: _change_one_flag = False\n",
      "(15, 7)\n",
      "(15, 7)\n",
      "active feature set is [ True  True  True  True  True  True  True  True  True False False False\n",
      " False False False False False False False False False False False False\n",
      "  True  True  True False  True  True  True  True]\n",
      "after trans: (16, 7)\n",
      "after trans: (16, 16)\n",
      "decoder change flag to false\n",
      "determine feature change: after set up [ True  True  True  True  True  True  True  True  True  True False False\n",
      " False False False False False False False False False False False False\n",
      "  True  True  True False  True  True  True  True]\n",
      "decoder changes here at 19199\n",
      "select_decoder_features: _change_one_flag = False\n",
      "(16, 7)\n",
      "(16, 7)\n",
      "active feature set is [ True  True  True  True  True  True  True  True  True  True False False\n",
      " False False False False False False False False False False False False\n",
      "  True  True  True False  True  True  True  True]\n",
      "after trans: (17, 7)\n",
      "after trans: (17, 17)\n",
      "decoder change flag to false\n",
      "determine feature change: after set up [ True  True  True  True  True  True  True  True  True  True  True False\n",
      " False False False False False False False False False False False False\n",
      "  True  True  True False  True  True  True  True]\n",
      "decoder changes here at 19799\n",
      "select_decoder_features: _change_one_flag = False\n",
      "(17, 7)\n",
      "(17, 7)\n",
      "active feature set is [ True  True  True  True  True  True  True  True  True  True  True False\n",
      " False False False False False False False False False False False False\n",
      "  True  True  True False  True  True  True  True]\n",
      "after trans: (18, 7)\n",
      "after trans: (18, 18)\n",
      "decoder change flag to false\n",
      "determine feature change: after set up [ True  True  True  True  True  True  True  True  True  True  True  True\n",
      " False False False False False False False False False False False False\n",
      "  True  True  True False  True  True  True  True]\n",
      "decoder changes here at 20399\n",
      "select_decoder_features: _change_one_flag = False\n",
      "(18, 7)\n",
      "(18, 7)\n",
      "active feature set is [ True  True  True  True  True  True  True  True  True  True  True  True\n",
      " False False False False False False False False False False False False\n",
      "  True  True  True False  True  True  True  True]\n",
      "after trans: (19, 7)\n",
      "after trans: (19, 19)\n",
      "decoder change flag to false\n",
      "determine feature change: after set up [ True  True  True  True  True  True  True  True  True  True  True  True\n",
      "  True False False False False False False False False False False False\n",
      "  True  True  True False  True  True  True  True]\n",
      "decoder changes here at 20999\n",
      "select_decoder_features: _change_one_flag = False\n",
      "(19, 7)\n",
      "(19, 7)\n",
      "active feature set is [ True  True  True  True  True  True  True  True  True  True  True  True\n",
      "  True False False False False False False False False False False False\n",
      "  True  True  True False  True  True  True  True]\n",
      "after trans: (20, 7)\n",
      "after trans: (20, 20)\n",
      "decoder change flag to false\n",
      "determine feature change: after set up [ True  True  True  True  True  True  True  True  True  True  True  True\n",
      "  True  True False False False False False False False False False False\n",
      "  True  True  True False  True  True  True  True]\n",
      "decoder changes here at 21599\n",
      "select_decoder_features: _change_one_flag = False\n",
      "(20, 7)\n",
      "(20, 7)\n",
      "active feature set is [ True  True  True  True  True  True  True  True  True  True  True  True\n",
      "  True  True False False False False False False False False False False\n",
      "  True  True  True False  True  True  True  True]\n",
      "after trans: (21, 7)\n",
      "after trans: (21, 21)\n",
      "decoder change flag to false\n",
      "determine feature change: after set up [ True  True  True  True  True  True  True  True  True  True  True  True\n",
      "  True  True  True False False False False False False False False False\n",
      "  True  True  True False  True  True  True  True]\n",
      "decoder changes here at 22199\n",
      "select_decoder_features: _change_one_flag = False\n",
      "(21, 7)\n",
      "(21, 7)\n",
      "active feature set is [ True  True  True  True  True  True  True  True  True  True  True  True\n",
      "  True  True  True False False False False False False False False False\n",
      "  True  True  True False  True  True  True  True]\n",
      "after trans: (22, 7)\n",
      "after trans: (22, 22)\n",
      "decoder change flag to false\n",
      "determine feature change: after set up [ True  True  True  True  True  True  True  True  True  True  True  True\n",
      "  True  True  True  True False False False False False False False False\n",
      "  True  True  True False  True  True  True  True]\n",
      "decoder changes here at 22799\n",
      "select_decoder_features: _change_one_flag = False\n",
      "(22, 7)\n",
      "(22, 7)\n",
      "active feature set is [ True  True  True  True  True  True  True  True  True  True  True  True\n",
      "  True  True  True  True False False False False False False False False\n",
      "  True  True  True False  True  True  True  True]\n",
      "after trans: (23, 7)\n",
      "after trans: (23, 23)\n",
      "decoder change flag to false\n",
      "determine feature change: after set up [ True  True  True  True  True  True  True  True  True  True  True  True\n",
      "  True  True  True  True  True False False False False False False False\n",
      "  True  True  True False  True  True  True  True]\n",
      "decoder changes here at 23399\n",
      "select_decoder_features: _change_one_flag = False\n",
      "(23, 7)\n",
      "(23, 7)\n",
      "active feature set is [ True  True  True  True  True  True  True  True  True  True  True  True\n",
      "  True  True  True  True  True False False False False False False False\n",
      "  True  True  True False  True  True  True  True]\n",
      "after trans: (24, 7)\n",
      "after trans: (24, 24)\n",
      "decoder change flag to false\n",
      "determine feature change: after set up [ True  True  True  True  True  True  True  True  True  True  True  True\n",
      "  True  True  True  True  True  True False False False False False False\n",
      "  True  True  True False  True  True  True  True]\n",
      "decoder changes here at 23999\n",
      "select_decoder_features: _change_one_flag = False\n",
      "(24, 7)\n",
      "(24, 7)\n",
      "active feature set is [ True  True  True  True  True  True  True  True  True  True  True  True\n",
      "  True  True  True  True  True  True False False False False False False\n",
      "  True  True  True False  True  True  True  True]\n",
      "after trans: (25, 7)\n",
      "after trans: (25, 25)\n",
      "decoder change flag to false\n",
      "determine feature change: after set up [ True  True  True  True  True  True  True  True  True  True  True  True\n",
      "  True  True  True  True  True  True  True False False False False False\n",
      "  True  True  True False  True  True  True  True]\n",
      "decoder changes here at 24599\n",
      "select_decoder_features: _change_one_flag = False\n",
      "(25, 7)\n",
      "(25, 7)\n",
      "active feature set is [ True  True  True  True  True  True  True  True  True  True  True  True\n",
      "  True  True  True  True  True  True  True False False False False False\n",
      "  True  True  True False  True  True  True  True]\n",
      "after trans: (26, 7)\n",
      "after trans: (26, 26)\n",
      "decoder change flag to false\n",
      "determine feature change: after set up [ True  True  True  True  True  True  True  True  True  True  True  True\n",
      "  True  True  True  True  True  True  True  True False False False False\n",
      "  True  True  True False  True  True  True  True]\n",
      "decoder changes here at 25199\n",
      "select_decoder_features: _change_one_flag = False\n",
      "(26, 7)\n",
      "(26, 7)\n",
      "active feature set is [ True  True  True  True  True  True  True  True  True  True  True  True\n",
      "  True  True  True  True  True  True  True  True False False False False\n",
      "  True  True  True False  True  True  True  True]\n",
      "after trans: (27, 7)\n",
      "after trans: (27, 27)\n",
      "decoder change flag to false\n",
      "determine feature change: after set up [ True  True  True  True  True  True  True  True  True  True  True  True\n",
      "  True  True  True  True  True  True  True  True  True False False False\n",
      "  True  True  True False  True  True  True  True]\n",
      "decoder changes here at 25799\n",
      "select_decoder_features: _change_one_flag = False\n",
      "(27, 7)\n",
      "(27, 7)\n",
      "active feature set is [ True  True  True  True  True  True  True  True  True  True  True  True\n",
      "  True  True  True  True  True  True  True  True  True False False False\n",
      "  True  True  True False  True  True  True  True]\n",
      "after trans: (28, 7)\n",
      "after trans: (28, 28)\n",
      "decoder change flag to false\n"
     ]
    },
    {
     "name": "stdout",
     "output_type": "stream",
     "text": [
      "determine feature change: after set up [ True  True  True  True  True  True  True  True  True  True  True  True\n",
      "  True  True  True  True  True  True  True  True  True  True False False\n",
      "  True  True  True False  True  True  True  True]\n",
      "decoder changes here at 26399\n",
      "select_decoder_features: _change_one_flag = False\n",
      "(28, 7)\n",
      "(28, 7)\n",
      "active feature set is [ True  True  True  True  True  True  True  True  True  True  True  True\n",
      "  True  True  True  True  True  True  True  True  True  True False False\n",
      "  True  True  True False  True  True  True  True]\n",
      "after trans: (29, 7)\n",
      "after trans: (29, 29)\n",
      "decoder change flag to false\n",
      "determine feature change: after set up [ True  True  True  True  True  True  True  True  True  True  True  True\n",
      "  True  True  True  True  True  True  True  True  True  True  True False\n",
      "  True  True  True False  True  True  True  True]\n",
      "decoder changes here at 26999\n",
      "select_decoder_features: _change_one_flag = False\n",
      "(29, 7)\n",
      "(29, 7)\n",
      "active feature set is [ True  True  True  True  True  True  True  True  True  True  True  True\n",
      "  True  True  True  True  True  True  True  True  True  True  True False\n",
      "  True  True  True False  True  True  True  True]\n",
      "after trans: (30, 7)\n",
      "after trans: (30, 30)\n",
      "decoder change flag to false\n",
      "determine feature change: after set up [ True  True  True  True  True  True  True  True  True  True  True  True\n",
      "  True  True  True  True  True  True  True  True  True  True  True  True\n",
      "  True  True  True False  True  True  True  True]\n",
      "decoder changes here at 27599\n",
      "select_decoder_features: _change_one_flag = False\n",
      "(30, 7)\n",
      "(30, 7)\n",
      "active feature set is [ True  True  True  True  True  True  True  True  True  True  True  True\n",
      "  True  True  True  True  True  True  True  True  True  True  True  True\n",
      "  True  True  True False  True  True  True  True]\n",
      "after trans: (31, 7)\n",
      "after trans: (31, 31)\n",
      "decoder change flag to false\n",
      "determine feature change: after set up [ True  True  True  True  True  True  True  True  True  True  True  True\n",
      "  True  True  True  True  True  True  True  True  True  True  True  True\n",
      "  True  True  True False  True  True  True  True]\n",
      "decoder changes here at 28199\n",
      "select_decoder_features: _change_one_flag = False\n",
      "(31, 7)\n",
      "(31, 7)\n",
      "active feature set is [ True  True  True  True  True  True  True  True  True  True  True  True\n",
      "  True  True  True  True  True  True  True  True  True  True  True  True\n",
      "  True  True  True False  True  True  True  True]\n",
      "after trans: (31, 7)\n",
      "after trans: (31, 31)\n",
      "decoder change flag to false\n",
      "determine feature change: after set up [ True  True  True  True  True  True  True  True  True  True  True  True\n",
      "  True  True  True  True  True  True  True  True  True  True  True  True\n",
      "  True  True  True False  True  True  True  True]\n",
      "decoder changes here at 28799\n",
      "select_decoder_features: _change_one_flag = False\n",
      "(31, 7)\n",
      "(31, 7)\n",
      "active feature set is [ True  True  True  True  True  True  True  True  True  True  True  True\n",
      "  True  True  True  True  True  True  True  True  True  True  True  True\n",
      "  True  True  True False  True  True  True  True]\n",
      "after trans: (31, 7)\n",
      "after trans: (31, 31)\n",
      "decoder change flag to false\n",
      "determine feature change: after set up [ True  True  True  True  True  True  True  True  True  True  True  True\n",
      "  True  True  True  True  True  True  True  True  True  True  True  True\n",
      "  True  True  True False  True  True  True  True]\n",
      "decoder changes here at 29399\n",
      "select_decoder_features: _change_one_flag = False\n",
      "(31, 7)\n",
      "(31, 7)\n",
      "active feature set is [ True  True  True  True  True  True  True  True  True  True  True  True\n",
      "  True  True  True  True  True  True  True  True  True  True  True  True\n",
      "  True  True  True False  True  True  True  True]\n",
      "after trans: (31, 7)\n",
      "after trans: (31, 31)\n",
      "decoder change flag to false\n",
      "determine feature change: after set up [ True  True  True  True  True  True  True  True  True  True  True  True\n",
      "  True  True  True  True  True  True  True  True  True  True  True  True\n",
      "  True  True  True  True  True  True  True  True]\n",
      "decoder changes here at 29999\n",
      "select_decoder_features: _change_one_flag = False\n",
      "(31, 7)\n",
      "(31, 7)\n",
      "active feature set is [ True  True  True  True  True  True  True  True  True  True  True  True\n",
      "  True  True  True  True  True  True  True  True  True  True  True  True\n",
      "  True  True  True  True  True  True  True  True]\n",
      "after trans: (32, 7)\n",
      "after trans: (32, 32)\n",
      "decoder change flag to false\n",
      "determine feature change: after set up [ True  True  True  True  True  True  True  True  True  True  True  True\n",
      "  True  True  True  True  True  True  True  True  True  True  True  True\n",
      "  True  True  True  True  True  True  True  True]\n",
      "decoder changes here at 30599\n",
      "select_decoder_features: _change_one_flag = False\n",
      "(32, 7)\n",
      "(32, 7)\n",
      "active feature set is [ True  True  True  True  True  True  True  True  True  True  True  True\n",
      "  True  True  True  True  True  True  True  True  True  True  True  True\n",
      "  True  True  True  True  True  True  True  True]\n",
      "after trans: (32, 7)\n",
      "after trans: (32, 32)\n",
      "decoder change flag to false\n",
      "determine feature change: after set up [ True  True  True  True  True  True  True  True  True  True  True  True\n",
      "  True  True  True  True  True  True  True  True  True  True  True  True\n",
      "  True  True  True  True  True  True  True  True]\n",
      "decoder changes here at 31199\n",
      "select_decoder_features: _change_one_flag = False\n",
      "(32, 7)\n",
      "(32, 7)\n",
      "active feature set is [ True  True  True  True  True  True  True  True  True  True  True  True\n",
      "  True  True  True  True  True  True  True  True  True  True  True  True\n",
      "  True  True  True  True  True  True  True  True]\n",
      "after trans: (32, 7)\n",
      "after trans: (32, 32)\n",
      "decoder change flag to false\n",
      "determine feature change: after set up [ True  True  True  True  True  True  True  True  True  True  True  True\n",
      "  True  True  True  True  True  True  True  True  True  True  True  True\n",
      "  True  True  True  True  True  True  True  True]\n",
      "decoder changes here at 31799\n",
      "select_decoder_features: _change_one_flag = False\n",
      "(32, 7)\n",
      "(32, 7)\n",
      "active feature set is [ True  True  True  True  True  True  True  True  True  True  True  True\n",
      "  True  True  True  True  True  True  True  True  True  True  True  True\n",
      "  True  True  True  True  True  True  True  True]\n",
      "after trans: (32, 7)\n",
      "after trans: (32, 32)\n",
      "decoder change flag to false\n",
      "determine feature change: after set up [ True  True  True  True  True  True  True  True  True  True  True  True\n",
      "  True  True  True  True  True  True  True  True  True  True  True  True\n",
      "  True  True  True  True  True  True  True  True]\n",
      "decoder changes here at 32399\n",
      "select_decoder_features: _change_one_flag = False\n",
      "(32, 7)\n",
      "(32, 7)\n",
      "active feature set is [ True  True  True  True  True  True  True  True  True  True  True  True\n",
      "  True  True  True  True  True  True  True  True  True  True  True  True\n",
      "  True  True  True  True  True  True  True  True]\n",
      "after trans: (32, 7)\n",
      "after trans: (32, 32)\n",
      "decoder change flag to false\n",
      "exit\n",
      "end of FSM.run, task state is None\n",
      "Finished running  w/o FS 0.6\n",
      "1\n",
      "using random seed 100\n",
      "\n",
      "runseq\n",
      "finished: 1\n",
      "reliability fs: [-2056.44 -2213.67 -2305.8  -2767.02 -2292.97 -2172.86 -2177.8  -2703.87\n",
      " -1670.9  -2238.69 -2109.83 -2636.22 -2303.61 -2206.23 -2266.3  -2659.37\n",
      " -2278.71 -2219.23 -2026.33 -2505.84 -1840.78 -2080.16 -2188.37 -2314.01\n",
      " -2820.6  -2816.95 -2573.9  -2941.32 -2477.   -2872.16 -2354.25 -3073.27]\n",
      "determine feature change: after set up [False False False  True False False False  True False False False False\n",
      " False False False  True False False False False False False False False\n",
      "  True  True False  True False  True False  True]\n",
      "decoder changes here at 1799\n",
      "select_decoder_features: _change_one_flag = False\n",
      "(32, 7)\n",
      "(32, 7)\n",
      "active feature set is [False False False  True False False False  True False False False False\n",
      " False False False  True False False False False False False False False\n",
      "  True  True False  True False  True False  True]\n",
      "after trans: (8, 7)\n",
      "after trans: (8, 8)\n",
      "decoder change flag to false\n",
      "determine feature change: after set up [ True  True  True  True  True  True  True  True False False False False\n",
      " False False False  True False False False False False False False False\n",
      "  True  True False  True False  True False  True]\n",
      "decoder changes here at 17999\n",
      "select_decoder_features: _change_one_flag = False\n",
      "(8, 7)\n",
      "(8, 7)\n",
      "active feature set is [ True  True  True  True  True  True  True  True False False False False\n",
      " False False False  True False False False False False False False False\n",
      "  True  True False  True False  True False  True]\n",
      "after trans: (14, 7)\n",
      "after trans: (14, 14)\n",
      "decoder change flag to false\n"
     ]
    },
    {
     "name": "stdout",
     "output_type": "stream",
     "text": [
      "determine feature change: after set up [ True  True  True  True  True  True  True  True  True False False False\n",
      " False False False  True False False False False False False False False\n",
      "  True  True False  True False  True False  True]\n",
      "decoder changes here at 18599\n",
      "select_decoder_features: _change_one_flag = False\n",
      "(14, 7)\n",
      "(14, 7)\n",
      "active feature set is [ True  True  True  True  True  True  True  True  True False False False\n",
      " False False False  True False False False False False False False False\n",
      "  True  True False  True False  True False  True]\n",
      "after trans: (15, 7)\n",
      "after trans: (15, 15)\n",
      "decoder change flag to false\n",
      "determine feature change: after set up [ True  True  True  True  True  True  True  True  True  True False False\n",
      " False False False  True False False False False False False False False\n",
      "  True  True False  True False  True False  True]\n",
      "decoder changes here at 19199\n",
      "select_decoder_features: _change_one_flag = False\n",
      "(15, 7)\n",
      "(15, 7)\n",
      "active feature set is [ True  True  True  True  True  True  True  True  True  True False False\n",
      " False False False  True False False False False False False False False\n",
      "  True  True False  True False  True False  True]\n",
      "after trans: (16, 7)\n",
      "after trans: (16, 16)\n",
      "decoder change flag to false\n",
      "determine feature change: after set up [ True  True  True  True  True  True  True  True  True  True  True False\n",
      " False False False  True False False False False False False False False\n",
      "  True  True False  True False  True False  True]\n",
      "decoder changes here at 19799\n",
      "select_decoder_features: _change_one_flag = False\n",
      "(16, 7)\n",
      "(16, 7)\n",
      "active feature set is [ True  True  True  True  True  True  True  True  True  True  True False\n",
      " False False False  True False False False False False False False False\n",
      "  True  True False  True False  True False  True]\n",
      "after trans: (17, 7)\n",
      "after trans: (17, 17)\n",
      "decoder change flag to false\n",
      "determine feature change: after set up [ True  True  True  True  True  True  True  True  True  True  True  True\n",
      " False False False  True False False False False False False False False\n",
      "  True  True False  True False  True False  True]\n",
      "decoder changes here at 20399\n",
      "select_decoder_features: _change_one_flag = False\n",
      "(17, 7)\n",
      "(17, 7)\n",
      "active feature set is [ True  True  True  True  True  True  True  True  True  True  True  True\n",
      " False False False  True False False False False False False False False\n",
      "  True  True False  True False  True False  True]\n",
      "after trans: (18, 7)\n",
      "after trans: (18, 18)\n",
      "decoder change flag to false\n",
      "determine feature change: after set up [ True  True  True  True  True  True  True  True  True  True  True  True\n",
      "  True False False  True False False False False False False False False\n",
      "  True  True False  True False  True False  True]\n",
      "decoder changes here at 20999\n",
      "select_decoder_features: _change_one_flag = False\n",
      "(18, 7)\n",
      "(18, 7)\n",
      "active feature set is [ True  True  True  True  True  True  True  True  True  True  True  True\n",
      "  True False False  True False False False False False False False False\n",
      "  True  True False  True False  True False  True]\n",
      "after trans: (19, 7)\n",
      "after trans: (19, 19)\n",
      "decoder change flag to false\n",
      "determine feature change: after set up [ True  True  True  True  True  True  True  True  True  True  True  True\n",
      "  True  True False  True False False False False False False False False\n",
      "  True  True False  True False  True False  True]\n",
      "decoder changes here at 21599\n",
      "select_decoder_features: _change_one_flag = False\n",
      "(19, 7)\n",
      "(19, 7)\n",
      "active feature set is [ True  True  True  True  True  True  True  True  True  True  True  True\n",
      "  True  True False  True False False False False False False False False\n",
      "  True  True False  True False  True False  True]\n",
      "after trans: (20, 7)\n",
      "after trans: (20, 20)\n",
      "decoder change flag to false\n",
      "determine feature change: after set up [ True  True  True  True  True  True  True  True  True  True  True  True\n",
      "  True  True  True  True False False False False False False False False\n",
      "  True  True False  True False  True False  True]\n",
      "decoder changes here at 22199\n",
      "select_decoder_features: _change_one_flag = False\n",
      "(20, 7)\n",
      "(20, 7)\n",
      "active feature set is [ True  True  True  True  True  True  True  True  True  True  True  True\n",
      "  True  True  True  True False False False False False False False False\n",
      "  True  True False  True False  True False  True]\n",
      "after trans: (21, 7)\n",
      "after trans: (21, 21)\n",
      "decoder change flag to false\n",
      "determine feature change: after set up [ True  True  True  True  True  True  True  True  True  True  True  True\n",
      "  True  True  True  True False False False False False False False False\n",
      "  True  True False  True False  True False  True]\n",
      "decoder changes here at 22799\n",
      "select_decoder_features: _change_one_flag = False\n",
      "(21, 7)\n",
      "(21, 7)\n",
      "active feature set is [ True  True  True  True  True  True  True  True  True  True  True  True\n",
      "  True  True  True  True False False False False False False False False\n",
      "  True  True False  True False  True False  True]\n",
      "after trans: (21, 7)\n",
      "after trans: (21, 21)\n",
      "decoder change flag to false\n",
      "determine feature change: after set up [ True  True  True  True  True  True  True  True  True  True  True  True\n",
      "  True  True  True  True  True False False False False False False False\n",
      "  True  True False  True False  True False  True]\n",
      "decoder changes here at 23399\n",
      "select_decoder_features: _change_one_flag = False\n",
      "(21, 7)\n",
      "(21, 7)\n",
      "active feature set is [ True  True  True  True  True  True  True  True  True  True  True  True\n",
      "  True  True  True  True  True False False False False False False False\n",
      "  True  True False  True False  True False  True]\n",
      "after trans: (22, 7)\n",
      "after trans: (22, 22)\n",
      "decoder change flag to false\n",
      "determine feature change: after set up [ True  True  True  True  True  True  True  True  True  True  True  True\n",
      "  True  True  True  True  True  True False False False False False False\n",
      "  True  True False  True False  True False  True]\n",
      "decoder changes here at 23999\n",
      "select_decoder_features: _change_one_flag = False\n",
      "(22, 7)\n",
      "(22, 7)\n",
      "active feature set is [ True  True  True  True  True  True  True  True  True  True  True  True\n",
      "  True  True  True  True  True  True False False False False False False\n",
      "  True  True False  True False  True False  True]\n",
      "after trans: (23, 7)\n",
      "after trans: (23, 23)\n",
      "decoder change flag to false\n",
      "determine feature change: after set up [ True  True  True  True  True  True  True  True  True  True  True  True\n",
      "  True  True  True  True  True  True  True False False False False False\n",
      "  True  True False  True False  True False  True]\n",
      "decoder changes here at 24599\n",
      "select_decoder_features: _change_one_flag = False\n",
      "(23, 7)\n",
      "(23, 7)\n",
      "active feature set is [ True  True  True  True  True  True  True  True  True  True  True  True\n",
      "  True  True  True  True  True  True  True False False False False False\n",
      "  True  True False  True False  True False  True]\n",
      "after trans: (24, 7)\n",
      "after trans: (24, 24)\n",
      "decoder change flag to false\n",
      "determine feature change: after set up [ True  True  True  True  True  True  True  True  True  True  True  True\n",
      "  True  True  True  True  True  True  True  True False False False False\n",
      "  True  True False  True False  True False  True]\n",
      "decoder changes here at 25199\n",
      "select_decoder_features: _change_one_flag = False\n",
      "(24, 7)\n",
      "(24, 7)\n",
      "active feature set is [ True  True  True  True  True  True  True  True  True  True  True  True\n",
      "  True  True  True  True  True  True  True  True False False False False\n",
      "  True  True False  True False  True False  True]\n",
      "after trans: (25, 7)\n",
      "after trans: (25, 25)\n",
      "decoder change flag to false\n",
      "determine feature change: after set up [ True  True  True  True  True  True  True  True  True  True  True  True\n",
      "  True  True  True  True  True  True  True  True  True False False False\n",
      "  True  True False  True False  True False  True]\n",
      "decoder changes here at 25799\n",
      "select_decoder_features: _change_one_flag = False\n",
      "(25, 7)\n",
      "(25, 7)\n",
      "active feature set is [ True  True  True  True  True  True  True  True  True  True  True  True\n",
      "  True  True  True  True  True  True  True  True  True False False False\n",
      "  True  True False  True False  True False  True]\n",
      "after trans: (26, 7)\n",
      "after trans: (26, 26)\n",
      "decoder change flag to false\n",
      "determine feature change: after set up [ True  True  True  True  True  True  True  True  True  True  True  True\n",
      "  True  True  True  True  True  True  True  True  True  True False False\n",
      "  True  True False  True False  True False  True]\n",
      "decoder changes here at 26399\n",
      "select_decoder_features: _change_one_flag = False\n",
      "(26, 7)\n",
      "(26, 7)\n",
      "active feature set is [ True  True  True  True  True  True  True  True  True  True  True  True\n",
      "  True  True  True  True  True  True  True  True  True  True False False\n",
      "  True  True False  True False  True False  True]\n",
      "after trans: (27, 7)\n",
      "after trans: (27, 27)\n",
      "decoder change flag to false\n"
     ]
    },
    {
     "name": "stdout",
     "output_type": "stream",
     "text": [
      "determine feature change: after set up [ True  True  True  True  True  True  True  True  True  True  True  True\n",
      "  True  True  True  True  True  True  True  True  True  True  True False\n",
      "  True  True False  True False  True False  True]\n",
      "decoder changes here at 26999\n",
      "select_decoder_features: _change_one_flag = False\n",
      "(27, 7)\n",
      "(27, 7)\n",
      "active feature set is [ True  True  True  True  True  True  True  True  True  True  True  True\n",
      "  True  True  True  True  True  True  True  True  True  True  True False\n",
      "  True  True False  True False  True False  True]\n",
      "after trans: (28, 7)\n",
      "after trans: (28, 28)\n",
      "decoder change flag to false\n",
      "determine feature change: after set up [ True  True  True  True  True  True  True  True  True  True  True  True\n",
      "  True  True  True  True  True  True  True  True  True  True  True  True\n",
      "  True  True False  True False  True False  True]\n",
      "decoder changes here at 27599\n",
      "select_decoder_features: _change_one_flag = False\n",
      "(28, 7)\n",
      "(28, 7)\n",
      "active feature set is [ True  True  True  True  True  True  True  True  True  True  True  True\n",
      "  True  True  True  True  True  True  True  True  True  True  True  True\n",
      "  True  True False  True False  True False  True]\n",
      "after trans: (29, 7)\n",
      "after trans: (29, 29)\n",
      "decoder change flag to false\n",
      "determine feature change: after set up [ True  True  True  True  True  True  True  True  True  True  True  True\n",
      "  True  True  True  True  True  True  True  True  True  True  True  True\n",
      "  True  True False  True False  True False  True]\n",
      "decoder changes here at 28199\n",
      "select_decoder_features: _change_one_flag = False\n",
      "(29, 7)\n",
      "(29, 7)\n",
      "active feature set is [ True  True  True  True  True  True  True  True  True  True  True  True\n",
      "  True  True  True  True  True  True  True  True  True  True  True  True\n",
      "  True  True False  True False  True False  True]\n",
      "after trans: (29, 7)\n",
      "after trans: (29, 29)\n",
      "decoder change flag to false\n",
      "determine feature change: after set up [ True  True  True  True  True  True  True  True  True  True  True  True\n",
      "  True  True  True  True  True  True  True  True  True  True  True  True\n",
      "  True  True False  True False  True False  True]\n",
      "decoder changes here at 28799\n",
      "select_decoder_features: _change_one_flag = False\n",
      "(29, 7)\n",
      "(29, 7)\n",
      "active feature set is [ True  True  True  True  True  True  True  True  True  True  True  True\n",
      "  True  True  True  True  True  True  True  True  True  True  True  True\n",
      "  True  True False  True False  True False  True]\n",
      "after trans: (29, 7)\n",
      "after trans: (29, 29)\n",
      "decoder change flag to false\n",
      "determine feature change: after set up [ True  True  True  True  True  True  True  True  True  True  True  True\n",
      "  True  True  True  True  True  True  True  True  True  True  True  True\n",
      "  True  True  True  True False  True False  True]\n",
      "decoder changes here at 29399\n",
      "select_decoder_features: _change_one_flag = False\n",
      "(29, 7)\n",
      "(29, 7)\n",
      "active feature set is [ True  True  True  True  True  True  True  True  True  True  True  True\n",
      "  True  True  True  True  True  True  True  True  True  True  True  True\n",
      "  True  True  True  True False  True False  True]\n",
      "after trans: (30, 7)\n",
      "after trans: (30, 30)\n",
      "decoder change flag to false\n",
      "determine feature change: after set up [ True  True  True  True  True  True  True  True  True  True  True  True\n",
      "  True  True  True  True  True  True  True  True  True  True  True  True\n",
      "  True  True  True  True False  True False  True]\n",
      "decoder changes here at 29999\n",
      "select_decoder_features: _change_one_flag = False\n",
      "(30, 7)\n",
      "(30, 7)\n",
      "active feature set is [ True  True  True  True  True  True  True  True  True  True  True  True\n",
      "  True  True  True  True  True  True  True  True  True  True  True  True\n",
      "  True  True  True  True False  True False  True]\n",
      "after trans: (30, 7)\n",
      "after trans: (30, 30)\n",
      "decoder change flag to false\n",
      "determine feature change: after set up [ True  True  True  True  True  True  True  True  True  True  True  True\n",
      "  True  True  True  True  True  True  True  True  True  True  True  True\n",
      "  True  True  True  True  True  True False  True]\n",
      "decoder changes here at 30599\n",
      "select_decoder_features: _change_one_flag = False\n",
      "(30, 7)\n",
      "(30, 7)\n",
      "active feature set is [ True  True  True  True  True  True  True  True  True  True  True  True\n",
      "  True  True  True  True  True  True  True  True  True  True  True  True\n",
      "  True  True  True  True  True  True False  True]\n",
      "after trans: (31, 7)\n",
      "after trans: (31, 31)\n",
      "decoder change flag to false\n",
      "determine feature change: after set up [ True  True  True  True  True  True  True  True  True  True  True  True\n",
      "  True  True  True  True  True  True  True  True  True  True  True  True\n",
      "  True  True  True  True  True  True False  True]\n",
      "decoder changes here at 31199\n",
      "select_decoder_features: _change_one_flag = False\n",
      "(31, 7)\n",
      "(31, 7)\n",
      "active feature set is [ True  True  True  True  True  True  True  True  True  True  True  True\n",
      "  True  True  True  True  True  True  True  True  True  True  True  True\n",
      "  True  True  True  True  True  True False  True]\n",
      "after trans: (31, 7)\n",
      "after trans: (31, 31)\n",
      "decoder change flag to false\n",
      "determine feature change: after set up [ True  True  True  True  True  True  True  True  True  True  True  True\n",
      "  True  True  True  True  True  True  True  True  True  True  True  True\n",
      "  True  True  True  True  True  True  True  True]\n",
      "decoder changes here at 31799\n",
      "select_decoder_features: _change_one_flag = False\n",
      "(31, 7)\n",
      "(31, 7)\n",
      "active feature set is [ True  True  True  True  True  True  True  True  True  True  True  True\n",
      "  True  True  True  True  True  True  True  True  True  True  True  True\n",
      "  True  True  True  True  True  True  True  True]\n",
      "after trans: (32, 7)\n",
      "after trans: (32, 32)\n",
      "decoder change flag to false\n",
      "determine feature change: after set up [ True  True  True  True  True  True  True  True  True  True  True  True\n",
      "  True  True  True  True  True  True  True  True  True  True  True  True\n",
      "  True  True  True  True  True  True  True  True]\n",
      "decoder changes here at 32399\n",
      "select_decoder_features: _change_one_flag = False\n",
      "(32, 7)\n",
      "(32, 7)\n",
      "active feature set is [ True  True  True  True  True  True  True  True  True  True  True  True\n",
      "  True  True  True  True  True  True  True  True  True  True  True  True\n",
      "  True  True  True  True  True  True  True  True]\n",
      "after trans: (32, 7)\n",
      "after trans: (32, 32)\n",
      "decoder change flag to false\n",
      "exit\n",
      "end of FSM.run, task state is None\n",
      "Finished running  w/o FS 0.6\n",
      "2\n",
      "using random seed 1000\n",
      "\n"
     ]
    }
   ],
   "source": [
    "from feature_selection_feature import run_exp_loop\n",
    "seed_index = -1\n",
    "\n",
    "for i,e in enumerate(exps_np):\n",
    "    \n",
    "    \n",
    "    \n",
    "    kwargs_exps_index = i % NUM_EXP_COND\n",
    "    \n",
    "    if kwargs_exps_index == 0: seed_index += 1\n",
    "    \n",
    "    #reset the seed.\n",
    "    np.random.seed(random_seeds[seed_index])\n",
    "    \n",
    "    \n",
    "    \n",
    "    run_exp_loop(e, **kwargs_exps[kwargs_exps_index])\n",
    "        \n",
    "\n",
    "        \n",
    "    print(f'Finished running  {exp_conds[kwargs_exps_index]}')\n",
    "    print(i)\n",
    "    print(f'using random seed {random_seeds[seed_index]}')\n",
    "    print()"
   ]
  },
  {
   "cell_type": "code",
   "execution_count": 24,
   "metadata": {
    "ExecuteTime": {
     "end_time": "2021-07-06T19:06:50.751878Z",
     "start_time": "2021-07-06T19:06:50.749705Z"
    }
   },
   "outputs": [
    {
     "data": {
      "text/plain": [
       "[0, 100, 1000]"
      ]
     },
     "execution_count": 24,
     "metadata": {},
     "output_type": "execute_result"
    }
   ],
   "source": [
    "random_seeds"
   ]
  },
  {
   "cell_type": "markdown",
   "metadata": {},
   "source": [
    "at this moment, \n",
    "the seed does not change the trajectory. \n",
    "the simulations with three different seeds \n",
    "my assumption is that \n",
    "1. the random seed will be used to generate encoded features. \n",
    "2. but they are the same.\n",
    "\n",
    "what do I care about \n",
    "1. want to have differnt decoder initialization? \n",
    "2. on a related note, the stuff I care about \n",
    "3. ultimately, we need to simplify to one experiment"
   ]
  },
  {
   "cell_type": "markdown",
   "metadata": {
    "ExecuteTime": {
     "end_time": "2021-01-25T01:00:26.027506Z",
     "start_time": "2021-01-25T01:00:26.024320Z"
    }
   },
   "source": [
    "# Postprocessing the data for loading"
   ]
  },
  {
   "cell_type": "code",
   "execution_count": 25,
   "metadata": {
    "ExecuteTime": {
     "end_time": "2021-07-06T19:06:50.796386Z",
     "start_time": "2021-07-06T19:06:50.752907Z"
    }
   },
   "outputs": [],
   "source": [
    "import seaborn as sns\n",
    "sns.set_context('talk')"
   ]
  },
  {
   "cell_type": "code",
   "execution_count": 26,
   "metadata": {
    "ExecuteTime": {
     "end_time": "2021-07-06T19:06:50.799664Z",
     "start_time": "2021-07-06T19:06:50.797301Z"
    }
   },
   "outputs": [
    {
     "data": {
      "text/plain": [
       "array([False])"
      ]
     },
     "execution_count": 26,
     "metadata": {},
     "output_type": "execute_result"
    }
   ],
   "source": [
    "exps_np_reshape = np.reshape(exps_np, (num_rep, -1))\n",
    "\n",
    "exps_np_reshape[0] == exps_np_reshape[1]"
   ]
  },
  {
   "cell_type": "code",
   "execution_count": 27,
   "metadata": {
    "ExecuteTime": {
     "end_time": "2021-07-06T19:06:50.991029Z",
     "start_time": "2021-07-06T19:06:50.800615Z"
    }
   },
   "outputs": [
    {
     "name": "stdout",
     "output_type": "stream",
     "text": [
      "[133 109  85]\n"
     ]
    },
    {
     "data": {
      "text/plain": [
       "<matplotlib.legend.Legend at 0x7fd205e09f70>"
      ]
     },
     "execution_count": 27,
     "metadata": {},
     "output_type": "execute_result"
    },
    {
     "data": {
      "image/png": "[encoded data removed]",
      "text/plain": [
       "<Figure size 432x288 with 1 Axes>"
      ]
     },
     "metadata": {},
     "output_type": "display_data"
    }
   ],
   "source": [
    "num_rewards = [e.calc_state_occurrences('reward') for e in  exps_np]\n",
    "\n",
    "num_rewards = np.array(num_rewards)\n",
    "print(num_rewards)\n",
    "\n",
    "num_rewards = num_rewards.reshape((3, num_noises)).T\n",
    "\n",
    "sns.set()\n",
    "\n",
    "\n",
    "\n",
    "plt.plot(percent_high_SNR_noises, num_rewards)\n",
    "plt.xlabel('Relative noise level of the high SNR neuron group')\n",
    "plt.ylabel('Trials completed (#)')\n",
    "plt.legend(['Full set', 'Noise feature removed', 'Constant subset'])"
   ]
  },
  {
   "cell_type": "code",
   "execution_count": 28,
   "metadata": {
    "ExecuteTime": {
     "end_time": "2021-07-06T19:06:51.088321Z",
     "start_time": "2021-07-06T19:06:50.991953Z"
    }
   },
   "outputs": [
    {
     "ename": "NameError",
     "evalue": "name 'exps' is not defined",
     "output_type": "error",
     "traceback": [
      "\u001b[0;31m---------------------------------------------------------------------------\u001b[0m",
      "\u001b[0;31mNameError\u001b[0m                                 Traceback (most recent call last)",
      "\u001b[0;32m<ipython-input-28-93d147364f36>\u001b[0m in \u001b[0;36m<module>\u001b[0;34m\u001b[0m\n\u001b[0;32m----> 1\u001b[0;31m \u001b[0mnum_rewards\u001b[0m \u001b[0;34m=\u001b[0m \u001b[0;34m[\u001b[0m\u001b[0me\u001b[0m\u001b[0;34m.\u001b[0m\u001b[0mcalc_state_occurrences\u001b[0m\u001b[0;34m(\u001b[0m\u001b[0;34m'reward'\u001b[0m\u001b[0;34m)\u001b[0m \u001b[0;32mfor\u001b[0m \u001b[0me\u001b[0m \u001b[0;32min\u001b[0m  \u001b[0mexps\u001b[0m\u001b[0;34m]\u001b[0m\u001b[0;34m\u001b[0m\u001b[0;34m\u001b[0m\u001b[0m\n\u001b[0m\u001b[1;32m      2\u001b[0m \u001b[0;34m\u001b[0m\u001b[0m\n\u001b[1;32m      3\u001b[0m \u001b[0mnum_rewards\u001b[0m \u001b[0;34m=\u001b[0m \u001b[0mnp\u001b[0m\u001b[0;34m.\u001b[0m\u001b[0marray\u001b[0m\u001b[0;34m(\u001b[0m\u001b[0mnum_rewards\u001b[0m\u001b[0;34m)\u001b[0m\u001b[0;34m\u001b[0m\u001b[0;34m\u001b[0m\u001b[0m\n\u001b[1;32m      4\u001b[0m \u001b[0;34m\u001b[0m\u001b[0m\n\u001b[1;32m      5\u001b[0m \u001b[0mnum_rewards\u001b[0m \u001b[0;34m=\u001b[0m \u001b[0mnum_rewards\u001b[0m\u001b[0;34m.\u001b[0m\u001b[0mreshape\u001b[0m\u001b[0;34m(\u001b[0m\u001b[0;34m(\u001b[0m\u001b[0;36m3\u001b[0m\u001b[0;34m,\u001b[0m \u001b[0mnum_noises\u001b[0m\u001b[0;34m)\u001b[0m\u001b[0;34m)\u001b[0m\u001b[0;34m.\u001b[0m\u001b[0mT\u001b[0m\u001b[0;34m\u001b[0m\u001b[0;34m\u001b[0m\u001b[0m\n",
      "\u001b[0;31mNameError\u001b[0m: name 'exps' is not defined"
     ]
    }
   ],
   "source": [
    "num_rewards = [e.calc_state_occurrences('reward') for e in  exps]\n",
    "\n",
    "num_rewards = np.array(num_rewards)\n",
    "\n",
    "num_rewards = num_rewards.reshape((3, num_noises)).T\n",
    "\n",
    "sns.set_context('talk')\n",
    "\n",
    "\n",
    "\n",
    "plt.plot(percent_high_SNR_noises, num_rewards[:,:2])\n",
    "plt.xlabel('Relative noise level of the high SNR neuron group')\n",
    "plt.ylabel('NUmber of rewards')\n",
    "plt.legend(['Full set', 'Noise feature removed'])\n",
    "plt.title(r'Increasing noise $\\to$ fewer rewards')"
   ]
  },
  {
   "cell_type": "code",
   "execution_count": null,
   "metadata": {
    "ExecuteTime": {
     "end_time": "2021-07-06T19:06:51.089559Z",
     "start_time": "2021-07-06T19:06:03.863Z"
    }
   },
   "outputs": [],
   "source": [
    "num_rewards_full_set = num_rewards[:, 0][:,np.newaxis]\n",
    "print(num_rewards_full_set.shape)\n",
    "\n",
    "\n",
    "num_rewards_norm = num_rewards - np.repeat(num_rewards_full_set, 3, axis = 1)\n",
    "\n",
    "plt.plot(percent_high_SNR_noises, num_rewards_norm)\n",
    "plt.xlabel('Relative noise level of the high SNR neuron group')\n",
    "plt.ylabel('Trials completed (#)')\n",
    "plt.legend(['Full set', 'Noise feature removed', 'Constant subset'])"
   ]
  },
  {
   "cell_type": "code",
   "execution_count": null,
   "metadata": {
    "ExecuteTime": {
     "end_time": "2021-07-06T19:06:51.090028Z",
     "start_time": "2021-07-06T19:06:03.865Z"
    }
   },
   "outputs": [],
   "source": [
    "num_rewards_full_set = num_rewards[:, 0][:,np.newaxis]\n",
    "print(num_rewards_full_set.shape)\n",
    "\n",
    "sns.set_context('talk')\n",
    "num_rewards_norm = num_rewards - np.repeat(num_rewards_full_set, 3, axis = 1)\n",
    "\n",
    "plt.plot(percent_high_SNR_noises, num_rewards_norm[:,:2])\n",
    "plt.xlabel('Relative noise level of the high SNR neuron group')\n",
    "plt.ylabel('Rel. number of rewards')\n",
    "plt.legend(['Full set', 'Noisy feature removed'])\n",
    "plt.title(r'Increasing noise favors noisy feature removal')"
   ]
  },
  {
   "cell_type": "code",
   "execution_count": null,
   "metadata": {
    "ExecuteTime": {
     "end_time": "2021-07-06T19:06:51.090398Z",
     "start_time": "2021-07-06T19:06:03.866Z"
    }
   },
   "outputs": [],
   "source": [
    "num_rewards"
   ]
  },
  {
   "cell_type": "markdown",
   "metadata": {},
   "source": [
    "## declare defs and conventions"
   ]
  },
  {
   "cell_type": "code",
   "execution_count": null,
   "metadata": {
    "ExecuteTime": {
     "end_time": "2021-07-06T19:06:51.090834Z",
     "start_time": "2021-07-06T19:06:03.869Z"
    }
   },
   "outputs": [],
   "source": [
    "FRAME_RATE = 60\n",
    "INT_WINDOW_TIME = 10 # s for looking at sample raw data\n",
    "\n",
    "# some conventions as we go down the loop\n",
    "X_VEL_STATE_IND = 3\n",
    "Y_VEL_STATE_IND = 5\n",
    "X_POS_STATE_IND = 0\n",
    "Y_POS_STATE_IND = 2\n",
    "\n",
    "state_indices = [X_POS_STATE_IND,\n",
    "                 Y_POS_STATE_IND,\n",
    "                 X_VEL_STATE_IND,\n",
    "                 Y_VEL_STATE_IND]\n",
    "state_names = ['x pos ', 'y pos', 'x vel', 'y vel']\n",
    "\n",
    "\n",
    "INT_WIN_SAMPLES = INT_WINDOW_TIME * FRAME_RATE\n",
    "\n"
   ]
  },
  {
   "cell_type": "markdown",
   "metadata": {},
   "source": [
    "## Refactor out the data"
   ]
  },
  {
   "cell_type": "code",
   "execution_count": null,
   "metadata": {
    "ExecuteTime": {
     "end_time": "2021-07-06T19:06:51.091206Z",
     "start_time": "2021-07-06T19:06:03.871Z"
    }
   },
   "outputs": [],
   "source": [
    "task_data_hist_np_all = [np.array(e.task_data_hist) for e in exps]\n",
    "len(task_data_hist_np_all)\n",
    "task_data_hist_np_all[0].dtype"
   ]
  },
  {
   "cell_type": "markdown",
   "metadata": {},
   "source": [
    "## Finished time in seconds"
   ]
  },
  {
   "cell_type": "code",
   "execution_count": null,
   "metadata": {
    "ExecuteTime": {
     "end_time": "2021-07-06T19:06:51.091887Z",
     "start_time": "2021-07-06T19:06:03.873Z"
    }
   },
   "outputs": [],
   "source": [
    "finished_times_in_seconds = [int(len(s)/FRAME_RATE) for s in task_data_hist_np_all]\n",
    "finished_times_in_seconds"
   ]
  },
  {
   "cell_type": "markdown",
   "metadata": {},
   "source": [
    "# Post data analysis"
   ]
  },
  {
   "cell_type": "markdown",
   "metadata": {},
   "source": [
    "## Overall  trial statistics succuss rate)"
   ]
  },
  {
   "cell_type": "code",
   "execution_count": null,
   "metadata": {
    "ExecuteTime": {
     "end_time": "2021-07-06T19:06:51.092329Z",
     "start_time": "2021-07-06T19:06:03.875Z"
    }
   },
   "outputs": [],
   "source": [
    "total_exp_time"
   ]
  },
  {
   "cell_type": "code",
   "execution_count": null,
   "metadata": {
    "ExecuteTime": {
     "end_time": "2021-07-06T19:06:51.092741Z",
     "start_time": "2021-07-06T19:06:03.877Z"
    }
   },
   "outputs": [],
   "source": [
    "1200 * 60"
   ]
  },
  {
   "cell_type": "code",
   "execution_count": null,
   "metadata": {
    "ExecuteTime": {
     "end_time": "2021-07-06T19:06:51.093309Z",
     "start_time": "2021-07-06T19:06:03.879Z"
    }
   },
   "outputs": [],
   "source": [
    "state_log = exps[1].state_log \n",
    "state_log[-1][1] * 60"
   ]
  },
  {
   "cell_type": "code",
   "execution_count": null,
   "metadata": {
    "ExecuteTime": {
     "end_time": "2021-07-06T19:06:51.093788Z",
     "start_time": "2021-07-06T19:06:03.881Z"
    },
    "scrolled": true
   },
   "outputs": [],
   "source": [
    "import behaviour_metrics\n",
    "import importlib\n",
    "import matplotlib.colors as cm\n",
    "import matplotlib as mpl\n",
    "\n",
    "importlib.reload(behaviour_metrics)\n",
    "\n",
    "window_length = 60 #s\n",
    "\n",
    "\n",
    "reward_events_per_minute = [behaviour_metrics.calc_event_rate_from_state_log(e.state_log,'reward', \n",
    "                                                                             total_time = total_exp_time,\n",
    "                                                                             window_length = window_length) for e in exps]\n",
    "reward_events_per_minute = np.array(reward_events_per_minute) * 60 / window_length\n",
    "\n",
    "\n",
    "import afs_plotting\n",
    "importlib.reload(afs_plotting)\n",
    "from afs_plotting import get_cmap\n",
    "\n",
    "\n",
    "time_vec = np.arange(reward_events_per_minute.shape[1]) * window_length / 60\n",
    "\n",
    "print(reward_events_per_minute.shape)\n",
    "\n",
    "cmap = get_cmap(num_noises)\n",
    "cmap_2 = get_cmap(num_noises, color = mpl.cm.Oranges)\n",
    "cmap_3 = get_cmap(num_noises, color = mpl.cm.Reds)\n",
    "\n",
    "\n",
    "for i in range(num_noises):\n",
    "    plt.plot(time_vec, reward_events_per_minute[i].T,color = cmap.to_rgba(i + 1))\n",
    "    plt.plot(time_vec, reward_events_per_minute[i +  num_noises].T,color = cmap_2.to_rgba(i + 1))\n",
    "    plt.plot(time_vec, reward_events_per_minute[i +  num_noises * 2].T,color = cmap_3.to_rgba(i + 1))\n",
    "    \n",
    "plt.ylabel('# of rewards per minute')\n",
    "plt.title('Reward Rate')\n",
    "plt.xlabel('Time (s)')\n",
    "\n"
   ]
  },
  {
   "cell_type": "code",
   "execution_count": null,
   "metadata": {
    "ExecuteTime": {
     "end_time": "2021-07-06T19:06:51.094245Z",
     "start_time": "2021-07-06T19:06:03.883Z"
    }
   },
   "outputs": [],
   "source": [
    "i = 1\n",
    "\n",
    "plt.plot(time_vec, reward_events_per_minute[i].T)\n",
    "plt.plot(time_vec, reward_events_per_minute[i +  num_noises].T)\n",
    "plt.plot(time_vec, reward_events_per_minute[i +  num_noises * 2].T)\n",
    "\n",
    "plt.ylabel('# of rewards per minute')\n",
    "plt.title('Reward Rate')\n",
    "plt.xlabel('Time (min)')\n",
    "plt.legend(['Full set', 'Noise feature removed', 'Constant subset'])"
   ]
  },
  {
   "cell_type": "code",
   "execution_count": null,
   "metadata": {
    "ExecuteTime": {
     "end_time": "2021-07-06T19:06:51.094674Z",
     "start_time": "2021-07-06T19:06:03.884Z"
    }
   },
   "outputs": [],
   "source": [
    "i = 1\n",
    "\n",
    "plt.plot(time_vec, reward_events_per_minute[i].T)\n",
    "plt.plot(time_vec, reward_events_per_minute[i +  num_noises].T)\n",
    "\n",
    "plt.ylabel('# of rewards per minute')\n",
    "plt.title('More rewarded trials after noisy features removed')\n",
    "plt.xlabel('Time (min)')\n",
    "plt.legend(['Full set', 'Noise feature removed'])"
   ]
  },
  {
   "cell_type": "code",
   "execution_count": null,
   "metadata": {
    "ExecuteTime": {
     "end_time": "2021-07-06T19:06:51.095129Z",
     "start_time": "2021-07-06T19:06:03.903Z"
    }
   },
   "outputs": [],
   "source": [
    "i = 2\n",
    "\n",
    "reward_events_per_minute_sample = reward_events_per_minute[(i, i + num_noises, i + 2*num_noises),:]\n",
    "\n",
    "reward_events_per_minute_sample_norm = reward_events_per_minute_sample - reward_events_per_minute_sample[0,:]\n",
    "\n",
    "plt.plot(time_vec, reward_events_per_minute_sample_norm.T)\n",
    "plt.ylabel('# of rewards per minute')\n",
    "plt.title('Relative reward rate')\n",
    "plt.xlabel('Time (s)')\n",
    "plt.legend(['Full set', 'Noise feature removed', 'Constant subset'])"
   ]
  },
  {
   "cell_type": "code",
   "execution_count": null,
   "metadata": {
    "ExecuteTime": {
     "end_time": "2021-07-06T19:06:51.095638Z",
     "start_time": "2021-07-06T19:06:03.905Z"
    }
   },
   "outputs": [],
   "source": [
    "exp = exps[1]\n",
    "importlib.reload(behaviour_metrics)\n",
    "from behaviour_metrics import generate_event_array, moving_sum, calc_moving_event_rate\n",
    "\n",
    "reward_array_sum =  calc_moving_event_rate(exps[2].state_log, 'reward',120)\n",
    "reward_array_sum_1 =  calc_moving_event_rate(exps[2 + 1 * num_noises].state_log, 'reward', 120)\n",
    "\n",
    "\n",
    "plt.plot(reward_array_sum)\n",
    "plt.plot(reward_array_sum_1 - reward_array_sum[:64771])"
   ]
  },
  {
   "cell_type": "code",
   "execution_count": null,
   "metadata": {
    "ExecuteTime": {
     "end_time": "2021-07-06T19:06:51.096114Z",
     "start_time": "2021-07-06T19:06:03.907Z"
    }
   },
   "outputs": [],
   "source": [
    "trial_dicts_all = []\n",
    "dict_keys = ['cursor', #behaviour\n",
    "             'ctrl_input', 'spike_counts', #encoder translates intended ctrl into spike counts\n",
    "             'decoder_state']\n",
    "\n",
    "\n",
    "for i in range(NUM_EXP):\n",
    "    \n",
    "    segmented_trials = behaviour_metrics.segment_trials_in_state_log(exps[i].state_log)\n",
    "\n",
    "    task_data_hist_np = task_data_hist_np_all[i]\n",
    "    trial_dict_0 = behaviour_metrics.sort_trials_use_segmented_log(segmented_trials, \n",
    "                               target_seq,\n",
    "                               task_data_hist_np, dict_keys)\n",
    "    \n",
    "    trial_dicts_all.append(trial_dict_0)\n",
    "\n",
    "for t in trial_dicts_all: print(len(t))"
   ]
  },
  {
   "cell_type": "markdown",
   "metadata": {},
   "source": [
    "## Trajectory analysis"
   ]
  },
  {
   "cell_type": "code",
   "execution_count": null,
   "metadata": {
    "ExecuteTime": {
     "end_time": "2021-07-06T19:06:51.096558Z",
     "start_time": "2021-07-06T19:06:03.909Z"
    }
   },
   "outputs": [],
   "source": [
    "figure_trajectory, axes_trajectory = plt.subplots(3, num_noises, figsize = (num_noises* GLOBAL_FIGURE_VERTICAL_SIZE, \n",
    "                                                  3  * GLOBAL_FIGURE_VERTICAL_SIZE)) \n",
    "\n",
    "\n",
    "n_roi_trials = 60\n",
    "\n",
    "\n",
    "CIRCLE_RADIUS = exps[0].target_radius\n",
    "\n",
    "print(CIRCLE_RADIUS)\n",
    "\n",
    "for i  in range(num_noises): \n",
    "\n",
    "    afs_plotting.add_center_out_grid(axes_trajectory[0,i], target_seq, CIRCLE_RADIUS)\n",
    "    \n",
    "    \n",
    "    sample_trial = trial_dicts_all[i][n_roi_trials]\n",
    "    trial_cursor_trajectory = sample_trial['cursor']\n",
    "    \n",
    "    afs_plotting.plot_trial_trajectory(axes_trajectory[0,i], trial_cursor_trajectory)\n",
    "    axes_trajectory[0,i].set_title(percent_high_SNR_noises_labels[i])\n",
    "    \n",
    "    afs_plotting.add_center_out_grid(axes_trajectory[1,i], target_seq, CIRCLE_RADIUS)\n",
    "    sample_trial = trial_dicts_all[i + num_noises][n_roi_trials]\n",
    "    trial_cursor_trajectory = sample_trial['cursor']\n",
    "    \n",
    "    afs_plotting.plot_trial_trajectory(axes_trajectory[1,i], trial_cursor_trajectory)\n",
    "    \n",
    "    \n",
    "    afs_plotting.add_center_out_grid(axes_trajectory[2,i], target_seq, CIRCLE_RADIUS)\n",
    "    sample_trial = trial_dicts_all[i + 2 * num_noises][n_roi_trials]\n",
    "    trial_cursor_trajectory = sample_trial['cursor']\n",
    "    \n",
    "    afs_plotting.plot_trial_trajectory(axes_trajectory[2,i], trial_cursor_trajectory)\n",
    "\n",
    "    #axes.set_title(f'Noise Ratio of {percent_high_SNR_noises_labels[i]} ')\n",
    "\n",
    "figure_trajectory.tight_layout"
   ]
  },
  {
   "cell_type": "markdown",
   "metadata": {},
   "source": [
    "to make this point, \n",
    "we should be lo"
   ]
  },
  {
   "cell_type": "code",
   "execution_count": null,
   "metadata": {
    "ExecuteTime": {
     "end_time": "2021-07-06T19:06:51.096999Z",
     "start_time": "2021-07-06T19:06:03.911Z"
    }
   },
   "outputs": [],
   "source": [
    "len(trial_dicts_all)"
   ]
  },
  {
   "cell_type": "code",
   "execution_count": null,
   "metadata": {
    "ExecuteTime": {
     "end_time": "2021-07-06T19:06:51.097525Z",
     "start_time": "2021-07-06T19:06:03.913Z"
    },
    "scrolled": true
   },
   "outputs": [],
   "source": [
    "print('finished trials:')\n",
    "\n",
    "for i,e in  enumerate(exps): \n",
    "    reward_num = e.calc_state_occurrences('reward')\n",
    "    print(f'{exp_conds[i]}: {reward_num} out of {N_TRIALS}')"
   ]
  },
  {
   "cell_type": "markdown",
   "metadata": {},
   "source": [
    "## encoder\n",
    "\n",
    "the job of the encoder is to directly encode intention into firing rates\n",
    "the direct measure is just pearson correlation coefficients between \n",
    "the intentions and the firing rates"
   ]
  },
  {
   "cell_type": "markdown",
   "metadata": {},
   "source": [
    "## decoder"
   ]
  },
  {
   "cell_type": "code",
   "execution_count": null,
   "metadata": {
    "ExecuteTime": {
     "end_time": "2021-07-06T19:06:51.097992Z",
     "start_time": "2021-07-06T19:06:03.915Z"
    },
    "scrolled": true
   },
   "outputs": [],
   "source": [
    "from afs_plotting import plot_prefered_directions\n",
    "\n",
    "TEXT_OFFSET_VERTICAL = -0.2\n",
    "\n",
    "\n",
    "figure_decoder_C.suptitle('KF C matrix before and after CLDA')\n",
    "\n",
    "print('steady state tuning curves:')\n",
    "\n",
    "for  i,e in enumerate(exps): \n",
    "\n",
    "    e = exps[i]\n",
    "    C = e.decoder.filt.C\n",
    "\n",
    "    plot_prefered_directions(C, ax = axs_decoder_C[1,i])\n",
    "    axs_decoder_C[1,i].set_title(percent_high_SNR_noises_labels[i % num_noises])\n",
    "\n",
    "figure_decoder_C"
   ]
  },
  {
   "cell_type": "code",
   "execution_count": null,
   "metadata": {
    "ExecuteTime": {
     "end_time": "2021-07-06T19:06:51.098394Z",
     "start_time": "2021-07-06T19:06:03.917Z"
    }
   },
   "outputs": [],
   "source": [
    "figure_KF_C, axes_KF_C = plt.subplots(3, num_noises, figsize = (num_noises* GLOBAL_FIGURE_VERTICAL_SIZE, \n",
    "                                                  3  * GLOBAL_FIGURE_VERTICAL_SIZE)) \n",
    "\n",
    "\n",
    "for i in range(num_noises):\n",
    "    e = exps[i]\n",
    "    C = e.decoder.filt.C\n",
    "\n",
    "    plot_prefered_directions(C, ax = axes_KF_C[0,i])\n",
    "    axes_KF_C[0,i].set_title(f'{percent_high_SNR_noises_labels[i]}')\n",
    "    \n",
    "    e = exps[i + num_noises]\n",
    "    C = e.decoder.filt.C\n",
    "\n",
    "    plot_prefered_directions(C, ax = axes_KF_C[1,i])\n",
    "    axs_decoder_C[1,i].set_title(f'{percent_high_SNR_noises_labels[i]}')\n",
    "    \n",
    "    e = exps[i + 2 * num_noises]\n",
    "    C = e.decoder.filt.C\n",
    "\n",
    "    plot_prefered_directions(C, ax = axes_KF_C[2,i])\n",
    "    axs_decoder_C[1,i].set_title(f'{percent_high_SNR_noises_labels[i]}')\n",
    "    \n",
    "    "
   ]
  },
  {
   "cell_type": "code",
   "execution_count": null,
   "metadata": {},
   "outputs": [],
   "source": []
  },
  {
   "cell_type": "markdown",
   "metadata": {},
   "source": [
    "## Compare to the decoder"
   ]
  },
  {
   "cell_type": "code",
   "execution_count": null,
   "metadata": {
    "ExecuteTime": {
     "end_time": "2021-07-06T19:06:51.098830Z",
     "start_time": "2021-07-06T19:06:03.920Z"
    }
   },
   "outputs": [],
   "source": [
    "import matplotlib.cm as cm\n",
    "\n",
    "import convergence_analysis\n",
    "importlib.reload(convergence_analysis)\n",
    "from convergence_analysis import calc_cosine_sim_bet_two_matrices, calc_cosine_to_target_matrix\n",
    "\n",
    "\n",
    "figure_C, axes_C = plt.subplots(2,num_noises, figsize = (num_noises * GLOBAL_FIGURE_VERTICAL_SIZE, \n",
    "                                               2*GLOBAL_FIGURE_VERTICAL_SIZE),\n",
    "                               sharey = True)\n",
    "\n",
    "time_vec = np.arange(0, total_exp_time + 1, batch_size * 0.1, ) \n",
    "\n",
    "\n",
    "cmap = get_cmap(num_noises)\n",
    "\n",
    "for i in range(num_noises):\n",
    "    \n",
    "    e = exps[i]\n",
    "    enc_directions = e.encoder.C\n",
    "    dec_directions = np.array(e._used_C_mat_list)\n",
    "    angles_hist = calc_cosine_to_target_matrix( dec_directions,enc_directions)\n",
    "    active_angles = np.mean(angles_hist[:, with_noise_neuron_list], axis = 1)\n",
    "    axes_C[0,i].plot(time_vec, active_angles, color = 'b')\n",
    "    active_angles = np.mean(angles_hist[:, no_noise_neuron_list], axis = 1)\n",
    "    axes_C[1,i].plot(time_vec, active_angles, color = 'b')\n",
    "    \n",
    "    axes_C[0,i].set_title(f'Rel. noise ratio {percent_high_SNR_noises_labels[i]}')\n",
    "    \n",
    "    \n",
    "    e = exps[i + num_noises]\n",
    "    enc_directions = e.encoder.C\n",
    "    dec_directions = np.array(e._used_C_mat_list)\n",
    "    \n",
    "    angles_hist = calc_cosine_to_target_matrix( dec_directions,enc_directions)\n",
    "    active_angles = np.mean(angles_hist[:, with_noise_neuron_list], axis = 1)\n",
    "    axes_C[0,i].plot(time_vec, active_angles, color = 'y')\n",
    "    active_angles = np.mean(angles_hist[:, no_noise_neuron_list], axis = 1)\n",
    "    axes_C[1,i].plot(time_vec, active_angles, color = 'y')\n",
    "    \n",
    "    e = exps[i + 2 * num_noises]\n",
    "    enc_directions = e.encoder.C\n",
    "    dec_directions = np.array(e._used_C_mat_list)\n",
    "    \n",
    "    angles_hist = calc_cosine_to_target_matrix( dec_directions,enc_directions)\n",
    "    active_angles = np.mean(angles_hist[:, with_noise_neuron_list], axis = 1)\n",
    "    axes_C[0,i].plot(time_vec, active_angles, color = 'r')\n",
    "    active_angles = np.mean(angles_hist[:, no_noise_neuron_list], axis = 1)\n",
    "    axes_C[1,i].plot(time_vec, active_angles, color = 'r')\n",
    "\n",
    "    \n",
    "axes_C[0,0].set_ylabel('Angle (deg)')\n",
    "axes_C[1,0].set_ylabel('Angle (deg)')\n",
    "\n"
   ]
  },
  {
   "cell_type": "markdown",
   "metadata": {},
   "source": [
    "# looking at K matrix"
   ]
  },
  {
   "cell_type": "markdown",
   "metadata": {
    "ExecuteTime": {
     "end_time": "2021-06-03T22:53:28.553975Z",
     "start_time": "2021-06-03T22:53:28.548543Z"
    }
   },
   "source": [
    " $K_i^T = \\begin{bmatrix} P_{ix} & P_{iy} & V_{ix} & V_{iy} \\end{bmatrix}$\n",
    "\n"
   ]
  },
  {
   "cell_type": "markdown",
   "metadata": {
    "ExecuteTime": {
     "end_time": "2021-06-30T09:31:05.641100Z",
     "start_time": "2021-06-30T09:31:05.638897Z"
    }
   },
   "source": [
    "$r_i = norm [\\frac{C[i,:]}{Q_{ii}}]$"
   ]
  },
  {
   "cell_type": "code",
   "execution_count": null,
   "metadata": {
    "ExecuteTime": {
     "end_time": "2021-07-06T19:06:51.099205Z",
     "start_time": "2021-07-06T19:06:03.923Z"
    }
   },
   "outputs": [],
   "source": [
    "exps = exps_np"
   ]
  },
  {
   "cell_type": "code",
   "execution_count": null,
   "metadata": {
    "ExecuteTime": {
     "end_time": "2021-07-06T19:06:51.099656Z",
     "start_time": "2021-07-06T19:06:03.926Z"
    }
   },
   "outputs": [],
   "source": [
    "figure_k_matrix, axes_k_matrix = plt.subplots(num_noises, 3,\n",
    "                                          figsize = (GLOBAL_FIGURE_VERTICAL_SIZE * 3,\n",
    "                                                    GLOBAL_FIGURE_VERTICAL_SIZE * num_noises),\n",
    "                                             sharey = True, sharex = True)\n",
    "\n",
    "for i in range(num_noises):\n",
    "    \n",
    "    K = exps[i].k_mat_params[-1].T\n",
    "    plot_prefered_directions(K, ax  = axes_k_matrix[i, 0])\n",
    "    axes_k_matrix[i, 0].set_title(percent_high_SNR_noises_labels[i])\n",
    "    \n",
    "    K = exps[i + num_noises].k_mat_params[-1].T\n",
    "    plot_prefered_directions(K, ax  = axes_k_matrix[i, 1])\n",
    "    axes_k_matrix[i, 1].set_title(percent_high_SNR_noises_labels[i])\n",
    "    \n",
    "    K = exps[i + 2 * num_noises].k_mat_params[-1].T\n",
    "    plot_prefered_directions(K, ax  = axes_k_matrix[i, 2])\n",
    "    axes_k_matrix[i,2].set_title(percent_high_SNR_noises_labels[i])\n",
    "    \n",
    "figure_k_matrix.tight_layout()"
   ]
  },
  {
   "cell_type": "code",
   "execution_count": null,
   "metadata": {
    "ExecuteTime": {
     "end_time": "2021-07-06T19:06:51.100040Z",
     "start_time": "2021-07-06T19:06:03.927Z"
    }
   },
   "outputs": [],
   "source": [
    "figure_encoder, axes_encoder = plt.subplots(1,2, figsize = (GLOBAL_FIGURE_VERTICAL_SIZE * 2,\n",
    "                                                    GLOBAL_FIGURE_VERTICAL_SIZE))\n",
    "\n",
    "def update_xlabels(ax):\n",
    "    xlabels = [format(label, ',.0f') for label in ax.get_xticks()]\n",
    "    ax.set_xticklabels(xlabels)\n",
    "\n",
    "K = exps[i].k_mat_params[10].T / np.max(K)\n",
    "plot_prefered_directions(K, ax = axes_encoder[0])\n",
    "axes_encoder[0].set_title('Initial rand. directions')\n",
    "\n",
    "\n",
    "e = exps[0]\n",
    "C = e.encoder.C / np.max(C)\n",
    "plot_prefered_directions(C, ax = axes_encoder[1])\n",
    "axes_encoder[1].set_title('Encoder directions')"
   ]
  },
  {
   "cell_type": "code",
   "execution_count": null,
   "metadata": {
    "ExecuteTime": {
     "end_time": "2021-07-06T19:06:51.100402Z",
     "start_time": "2021-07-06T19:06:03.929Z"
    }
   },
   "outputs": [],
   "source": [
    "figure_k_matrix_example, axes_k_matrix_example = plt.subplots(1, 3,\n",
    "                                          figsize = (GLOBAL_FIGURE_VERTICAL_SIZE * 3,\n",
    "                                                    GLOBAL_FIGURE_VERTICAL_SIZE),\n",
    "                                             sharey = True)\n",
    "\n",
    "i = exp_index = 2\n",
    "\n",
    "K = exps[i].k_mat_params[-1].T\n",
    "plot_prefered_directions(K, ax  = axes_k_matrix_example[0])\n",
    "axes_k_matrix_example[0].set_title('Full feature set')\n",
    "\n",
    "K = exps[exp_index + num_noises].k_mat_params[-1].T\n",
    "plot_prefered_directions(K, ax  = axes_k_matrix_example[1])\n",
    "axes_k_matrix_example[ 1].set_title('Noise feature removed')\n",
    "\n",
    "K = exps[i + 2 * num_noises].k_mat_params[-1].T\n",
    "plot_prefered_directions(K, ax  = axes_k_matrix_example[2])\n",
    "axes_k_matrix_example[2].set_title('Consistent subset')\n"
   ]
  },
  {
   "cell_type": "code",
   "execution_count": null,
   "metadata": {
    "ExecuteTime": {
     "end_time": "2021-07-06T19:06:51.100781Z",
     "start_time": "2021-07-06T19:06:03.931Z"
    }
   },
   "outputs": [],
   "source": [
    "figure_k_matrix_example, axes_k_matrix_example = plt.subplots(1, 2,\n",
    "                                          figsize = (GLOBAL_FIGURE_VERTICAL_SIZE * 2,\n",
    "                                                    GLOBAL_FIGURE_VERTICAL_SIZE),\n",
    "                                             sharey = True)\n",
    "\n",
    "i = exp_index = 2\n",
    "\n",
    "K = exps[i].k_mat_params[-1].T\n",
    "K_rotate = K[24:,:]\n",
    "plot_prefered_directions(K_rotate, ax  = axes_k_matrix_example[0])\n",
    "K_rotate = K[:24,:]\n",
    "plot_prefered_directions(K_rotate, ax  = axes_k_matrix_example[0])\n",
    "axes_k_matrix_example[0].set_title('Full feature set')\n",
    "\n",
    "\n",
    "#then plot the noise feature removed\n",
    "K = exps[exp_index + num_noises].k_mat_params[-1].T\n",
    "K_rotate = K[24:,:]\n",
    "plot_prefered_directions(K_rotate, ax  = axes_k_matrix_example[1])\n",
    "K_rotate = K[:24,:]\n",
    "plot_prefered_directions(K_rotate, ax  = axes_k_matrix_example[1])\n",
    "axes_k_matrix_example[ 1].set_title('Noise features removed')\n",
    "\n"
   ]
  },
  {
   "cell_type": "markdown",
   "metadata": {},
   "source": [
    "# Feature analysis"
   ]
  },
  {
   "cell_type": "code",
   "execution_count": null,
   "metadata": {
    "ExecuteTime": {
     "end_time": "2021-07-06T19:06:51.101152Z",
     "start_time": "2021-07-06T19:06:03.933Z"
    },
    "scrolled": true
   },
   "outputs": [],
   "source": [
    "from matplotlib import colors\n",
    "\n",
    "\n",
    "\n",
    "fig_feature_active_map, axes_feat_active_map = plt.subplots(1, NUM_EXP,\n",
    "                                                            figsize = ( NUM_EXP* GLOBAL_FIGURE_VERTICAL_SIZE,\n",
    "                                                                      GLOBAL_FIGURE_VERTICAL_SIZE),\n",
    "                                                           )\n",
    "axes_feat_active_map[0].set_ylabel('Learner Batch number')\n",
    "\n",
    "#color true to yellow\n",
    "cmap = colors.ListedColormap(['yellow'])\n",
    "\n",
    "for i, exp in enumerate(exps):\n",
    "\n",
    "    active_feat_heat_map = np.array(exp._active_feat_set_list, dtype = np.int32)\n",
    "    \n",
    "    #https://stackoverflow.com/questions/40985961/matplotlib-how-to-change-data-point-color-based-on-its-boolean-value-consisten\n",
    "    active_feat_heat_map = np.ma.masked_where(active_feat_heat_map == False, active_feat_heat_map)\n",
    "    \n",
    "    a = axes_feat_active_map[i].imshow(active_feat_heat_map.T, cmap = cmap)\n",
    "    axes_feat_active_map[i].grid(False)\n",
    "    #color false to blue\n",
    "    cmap.set_bad(color='blue')\n",
    "    \n",
    "    \n",
    "    axes_feat_active_map[i].set_ylabel('Features')\n",
    "    axes_feat_active_map[i].set_xlabel('Feature update count')\n",
    "\n",
    "\n",
    "\n",
    "#fig_feature_active_map.colorbar(a, ax=axes_feat_active_map.ravel().tolist())"
   ]
  },
  {
   "cell_type": "code",
   "execution_count": null,
   "metadata": {
    "ExecuteTime": {
     "end_time": "2021-07-06T19:06:51.101565Z",
     "start_time": "2021-07-06T19:06:03.935Z"
    }
   },
   "outputs": [],
   "source": [
    "fig_feature_active_map_example, axes_feat_active_map_example = plt.subplots(1, 1,\n",
    "                                                            figsize = ( GLOBAL_FIGURE_VERTICAL_SIZE,\n",
    "                                                                      GLOBAL_FIGURE_VERTICAL_SIZE),\n",
    "                                                           )\n",
    "axes_feat_active_map[0].set_ylabel('Learner Batch number')\n",
    "\n",
    "#color true to yellow\n",
    "cmap = colors.ListedColormap(['yellow'])\n",
    "\n",
    "i = 0\n",
    "exp =  exps[i]\n",
    "\n",
    "active_feat_heat_map = np.array(exp._active_feat_set_list, dtype = np.int32)\n",
    "\n",
    "#https://stackoverflow.com/questions/40985961/matplotlib-how-to-change-data-point-color-based-on-its-boolean-value-consisten\n",
    "active_feat_heat_map = np.ma.masked_where(active_feat_heat_map == False, active_feat_heat_map)\n",
    "\n",
    "a = axes_feat_active_map_example.imshow(active_feat_heat_map.T, cmap = cmap)\n",
    "axes_feat_active_map[i].grid(False)\n",
    "#color false to blue\n",
    "cmap.set_bad(color='blue')\n",
    "\n",
    "axes_feat_active_map_example.set_ylabel('Features')\n",
    "axes_feat_active_map_example.set_xlabel('Feature update count')\n",
    "axes_feat_active_map_example.set_title('Full feature set')\n"
   ]
  },
  {
   "cell_type": "code",
   "execution_count": null,
   "metadata": {
    "ExecuteTime": {
     "end_time": "2021-07-06T19:06:51.101971Z",
     "start_time": "2021-07-06T19:06:03.937Z"
    }
   },
   "outputs": [],
   "source": [
    "fig_feature_active_map_example, axes_feat_active_map_example = plt.subplots(1, 1,\n",
    "                                                            figsize = ( GLOBAL_FIGURE_VERTICAL_SIZE,\n",
    "                                                                      GLOBAL_FIGURE_VERTICAL_SIZE),\n",
    "                                                           )\n",
    "axes_feat_active_map[0].set_ylabel('Learner Batch number')\n",
    "\n",
    "#color true to yellow\n",
    "cmap = colors.ListedColormap(['yellow'])\n",
    "\n",
    "i = -1\n",
    "exp =  exps[i]\n",
    "\n",
    "active_feat_heat_map = np.array(exp._active_feat_set_list, dtype = np.int32)\n",
    "\n",
    "#https://stackoverflow.com/questions/40985961/matplotlib-how-to-change-data-point-color-based-on-its-boolean-value-consisten\n",
    "active_feat_heat_map = np.ma.masked_where(active_feat_heat_map == False, active_feat_heat_map)\n",
    "\n",
    "a = axes_feat_active_map_example.imshow(active_feat_heat_map.T, cmap = cmap)\n",
    "axes_feat_active_map_example.grid(False)\n",
    "#color false to blue\n",
    "cmap.set_bad(color='blue')\n",
    "\n",
    "axes_feat_active_map_example.set_ylabel('Features')\n",
    "axes_feat_active_map_example.set_xlabel('Feature update count')\n",
    "axes_feat_active_map_example.set_title('Consistent high SNR subset')"
   ]
  },
  {
   "cell_type": "code",
   "execution_count": null,
   "metadata": {
    "ExecuteTime": {
     "end_time": "2021-07-06T19:06:51.102549Z",
     "start_time": "2021-07-06T19:06:03.939Z"
    }
   },
   "outputs": [],
   "source": [
    "fig_feature_active_map_example, axes_feat_active_map_example = plt.subplots(1, 1,\n",
    "                                                            figsize = ( GLOBAL_FIGURE_VERTICAL_SIZE,\n",
    "                                                                      GLOBAL_FIGURE_VERTICAL_SIZE),\n",
    "                                                           )\n",
    "axes_feat_active_map[0].set_ylabel('Learner Batch number')\n",
    "\n",
    "#color true to yellow\n",
    "cmap = colors.ListedColormap(['yellow'])\n",
    "\n",
    "i = num_noises\n",
    "exp =  exps[i]\n",
    "\n",
    "active_feat_heat_map = np.array(exp._active_feat_set_list, dtype = np.int32)\n",
    "\n",
    "#https://stackoverflow.com/questions/40985961/matplotlib-how-to-change-data-point-color-based-on-its-boolean-value-consisten\n",
    "active_feat_heat_map = np.ma.masked_where(active_feat_heat_map == False, active_feat_heat_map)\n",
    "\n",
    "a = axes_feat_active_map_example.imshow(active_feat_heat_map.T, cmap = cmap)\n",
    "axes_feat_active_map_example.grid(False)\n",
    "#color false to blue\n",
    "cmap.set_bad(color='blue')\n",
    "\n",
    "axes_feat_active_map_example.set_ylabel('Features')\n",
    "axes_feat_active_map_example.set_xlabel('Feature update count')\n",
    "axes_feat_active_map_example.set_title('Feature pruning')"
   ]
  },
  {
   "cell_type": "code",
   "execution_count": null,
   "metadata": {
    "ExecuteTime": {
     "end_time": "2021-07-06T19:06:51.102966Z",
     "start_time": "2021-07-06T19:06:03.941Z"
    }
   },
   "outputs": [],
   "source": [
    "active_feat_heat_map[-1]"
   ]
  },
  {
   "cell_type": "markdown",
   "metadata": {},
   "source": [
    "## Examine used K mat"
   ]
  },
  {
   "cell_type": "code",
   "execution_count": null,
   "metadata": {
    "ExecuteTime": {
     "end_time": "2021-07-06T19:06:51.103363Z",
     "start_time": "2021-07-06T19:06:03.944Z"
    }
   },
   "outputs": [],
   "source": [
    "fig_Q, axes_Q = plt.subplots(1,2, sharey = True)\n",
    "\n",
    "cmap_q = get_cmap(num_noises)\n",
    "cmap_q_1 = get_cmap(num_noises, mpl.cm.Oranges)\n",
    "cmap_q_2 = get_cmap(num_noises, mpl.cm.Reds)\n",
    "\n",
    "for i in range(num_noises):\n",
    "    exp = exps[i]\n",
    "    Q_list = np.array(exp._used_Q_diag_list)\n",
    "\n",
    "    Q_diag_no_noise = np.mean(Q_list[:, no_noise_neuron_list], axis = 1)\n",
    "    Q_diag_noise = np.mean(Q_list[:, with_noise_neuron_list], axis = 1)\n",
    "    \n",
    "    axes_Q[0].plot(Q_diag_noise, c = cmap_q.to_rgba(i))\n",
    "    axes_Q[1].plot(Q_diag_no_noise, c = cmap_q.to_rgba(i))\n",
    "    \n",
    "    \n",
    "    exp = exps[i+num_noises]\n",
    "    Q_list = np.array(exp._used_Q_diag_list)\n",
    "\n",
    "    Q_diag_no_noise = np.mean(Q_list[:, no_noise_neuron_list], axis = 1)\n",
    "    Q_diag_noise = np.mean(Q_list[:, with_noise_neuron_list], axis = 1)\n",
    "    \n",
    "    axes_Q[0].plot(Q_diag_noise, c = cmap_q_1.to_rgba(i))\n",
    "    axes_Q[1].plot(Q_diag_no_noise, c = cmap_q_1.to_rgba(i))\n",
    "    \n",
    "    exp = exps[i+2*num_noises]\n",
    "    Q_list = np.array(exp._used_Q_diag_list)\n",
    "\n",
    "    Q_diag_no_noise = np.mean(Q_list[:, no_noise_neuron_list], axis = 1)\n",
    "    Q_diag_noise = np.mean(Q_list[:, with_noise_neuron_list], axis = 1)\n",
    "    \n",
    "    axes_Q[0].plot(Q_diag_noise, c = cmap_q_2.to_rgba(i))\n",
    "    axes_Q[1].plot(Q_diag_no_noise, c = cmap_q_2.to_rgba(i))\n",
    "    \n",
    "    \n",
    "\n",
    "axes_Q[0].set_xlabel('Time (s)')\n",
    "axes_Q[1].set_xlabel('Time (s)')\n",
    "\n",
    "axes_Q[0].set_title('Low SNR neurons')\n",
    "axes_Q[1].set_title('High SNR neurons')"
   ]
  },
  {
   "cell_type": "code",
   "execution_count": null,
   "metadata": {
    "ExecuteTime": {
     "end_time": "2021-07-06T19:06:51.103827Z",
     "start_time": "2021-07-06T19:06:03.946Z"
    }
   },
   "outputs": [],
   "source": [
    "figure_k_matrix, axes_k_matrix = plt.subplots(1,NUM_EXP,\n",
    "                                          figsize = (GLOBAL_FIGURE_VERTICAL_SIZE * NUM_EXP,\n",
    "                                                    GLOBAL_FIGURE_VERTICAL_SIZE))\n",
    "\n",
    "\n",
    "\n",
    "for i,e in enumerate(exps):\n",
    "    K = (e._used_K_mat_list[5]).T\n",
    "    print(K)\n",
    "\n",
    "    plot_prefered_directions(K, ax  = axes_k_matrix[i])\n",
    "    axes_k_matrix[i].set_title(exp_conds[i])\n",
    "    \n"
   ]
  },
  {
   "cell_type": "markdown",
   "metadata": {},
   "source": [
    "## examine used C mat"
   ]
  },
  {
   "cell_type": "code",
   "execution_count": null,
   "metadata": {
    "ExecuteTime": {
     "end_time": "2021-07-06T19:06:51.104310Z",
     "start_time": "2021-07-06T19:06:03.948Z"
    }
   },
   "outputs": [],
   "source": [
    "exp = exps_np[0]"
   ]
  },
  {
   "cell_type": "code",
   "execution_count": null,
   "metadata": {
    "ExecuteTime": {
     "end_time": "2021-07-06T19:06:51.104857Z",
     "start_time": "2021-07-06T19:06:03.950Z"
    }
   },
   "outputs": [],
   "source": [
    "updated_C_mat = np.array(exp._used_C_mat_list)"
   ]
  },
  {
   "cell_type": "code",
   "execution_count": null,
   "metadata": {
    "ExecuteTime": {
     "end_time": "2021-07-06T19:06:51.105303Z",
     "start_time": "2021-07-06T19:06:03.952Z"
    }
   },
   "outputs": [],
   "source": [
    "updated_C_mat.shape"
   ]
  },
  {
   "cell_type": "markdown",
   "metadata": {},
   "source": [
    "## examine Q matrix\n"
   ]
  },
  {
   "cell_type": "code",
   "execution_count": null,
   "metadata": {
    "ExecuteTime": {
     "end_time": "2021-07-06T19:06:51.106231Z",
     "start_time": "2021-07-06T19:06:03.954Z"
    }
   },
   "outputs": [],
   "source": [
    "q_list = np.array(exp._used_Q_diag_list)\n",
    "q_list.shape"
   ]
  },
  {
   "cell_type": "code",
   "execution_count": null,
   "metadata": {
    "ExecuteTime": {
     "end_time": "2021-07-06T19:06:51.106671Z",
     "start_time": "2021-07-06T19:06:03.956Z"
    }
   },
   "outputs": [],
   "source": [
    "i = 0\n",
    "\n",
    "c_mat = updated_C_mat[i,:,:]\n",
    "\n",
    "\n",
    "fig_c_mat, axes_c_mat = plt.subplots(1,2)\n",
    "pos = axes_c_mat[0].imshow(c_mat)\n",
    "fig_c_mat.colorbar(pos, ax=axes_c_mat[0])\n",
    "\n",
    "\n",
    "#normalized\n",
    "q_diag = q_list[i,:].reshape(-1,1)\n",
    "q_diag_tile = np.tile(q_diag, (1,7))\n",
    "\n",
    "pos = axes_c_mat[1].imshow(c_mat/q_diag_tile)"
   ]
  },
  {
   "cell_type": "code",
   "execution_count": null,
   "metadata": {
    "ExecuteTime": {
     "end_time": "2021-07-06T19:06:51.107117Z",
     "start_time": "2021-07-06T19:06:03.958Z"
    }
   },
   "outputs": [],
   "source": [
    "i = 1\n",
    "\n",
    "c_mat = updated_C_mat[i,:,:]\n",
    "\n",
    "\n",
    "fig_c_mat, axes_c_mat = plt.subplots(1,2)\n",
    "pos = axes_c_mat[0].imshow(c_mat)\n",
    "fig_c_mat.colorbar(pos, ax=axes_c_mat[0])\n",
    "\n",
    "\n",
    "#normalized\n",
    "q_diag = q_list[i,:].reshape(-1,1)\n",
    "q_diag_tile = np.tile(q_diag, (1,7))\n",
    "\n",
    "pos = axes_c_mat[1].imshow(c_mat/q_diag_tile)\n",
    "\n",
    "c_mat/q_diag_tile *  1000"
   ]
  },
  {
   "cell_type": "markdown",
   "metadata": {},
   "source": [
    "how do we show this is a good measure of the feature quality sort of thing?"
   ]
  },
  {
   "cell_type": "code",
   "execution_count": null,
   "metadata": {
    "ExecuteTime": {
     "end_time": "2021-07-06T19:06:51.107629Z",
     "start_time": "2021-07-06T19:06:03.960Z"
    }
   },
   "outputs": [],
   "source": [
    "# plot out of the mean weight of convergence\n",
    "\n",
    "C_norm = updated_C_mat[:,:, (X_VEL_STATE_IND, Y_VEL_STATE_IND)]\n",
    "C_norm  = np.linalg.norm(C_norm, axis = 2)\n",
    "C_norm_noisy = np.mean(C_norm[:, with_noise_neuron_list], axis = 1)\n",
    "C_norm_clean = np.mean(C_norm[:, no_noise_neuron_list], axis = 1)\n",
    "\n",
    "plt.plot(C_norm_noisy)\n",
    "plt.plot(C_norm_clean)\n",
    "plt.xlabel(f'Number of batch updates with a batch size of {batch_size}')\n",
    "plt.title('For a fixed encoder, the decoder weights \\n converge to final values within a couple of batches')\n",
    "plt.legend(['Noisy', 'high SNR'])\n",
    "plt.ylabel()"
   ]
  },
  {
   "cell_type": "code",
   "execution_count": null,
   "metadata": {
    "ExecuteTime": {
     "end_time": "2021-07-06T19:06:51.108093Z",
     "start_time": "2021-07-06T19:06:03.962Z"
    }
   },
   "outputs": [],
   "source": [
    "# Q value \n",
    "q_diag_noisy = np.mean(q_list[:, with_noise_neuron_list], axis = 1)\n",
    "q_diag_clean = np.mean(q_list[:, no_noise_neuron_list], axis = 1)\n",
    "\n",
    "\n",
    "plt.plot(q_diag_noisy)\n",
    "plt.plot(q_diag_clean)\n",
    "plt.xlabel(f'Number of batch updates with a batch size of {batch_size}')\n",
    "plt.title('For a fixed encoder ,\\n diagnoal values of the Q matrix converge at the same rate as the C matrix ')\n",
    "plt.legend(['Noisy', 'high SNR'])"
   ]
  },
  {
   "cell_type": "code",
   "execution_count": null,
   "metadata": {
    "ExecuteTime": {
     "end_time": "2021-07-06T19:06:51.108548Z",
     "start_time": "2021-07-06T19:06:03.964Z"
    }
   },
   "outputs": [],
   "source": [
    "# now we can measure out the things\n",
    "\n",
    "C_mat = updated_C_mat[:,:,(X_VEL_STATE_IND, Y_VEL_STATE_IND)]\n",
    "q_list_tile = q_list[:,:, np.newaxis]\n",
    "q_list_tile = np.tile(q_list_tile, (1,1,2))\n",
    "\n",
    "q_measure = C_mat / q_list_tile\n",
    "\n",
    "print(q_measure.shape)\n",
    "\n",
    "'''\n",
    "\n",
    "'''\n",
    "q_measure_norm  = np.linalg.norm(q_measure, axis = 2)\n",
    "q_measure_noisy= np.mean(q_measure_norm[:, with_noise_neuron_list], axis = 1)\n",
    "q_measure_clean= np.mean(q_measure_norm[:, no_noise_neuron_list], axis = 1)\n",
    "\n",
    "\n",
    "plt.plot(q_measure_noisy)\n",
    "plt.plot(q_measure_clean)\n",
    "plt.xlabel(f'Number of batch updates with a batch size of {batch_size}')\n",
    "plt.title('Noisy normalized weights may be used for feature selection')\n",
    "plt.legend(['Noisy', 'high SNR'])\n",
    "plt.ylabel('Q normalzied weights')"
   ]
  },
  {
   "cell_type": "code",
   "execution_count": null,
   "metadata": {
    "ExecuteTime": {
     "end_time": "2021-07-06T19:06:51.108958Z",
     "start_time": "2021-07-06T19:06:03.966Z"
    }
   },
   "outputs": [],
   "source": [
    "q_measure_norm_diff = np.diff(q_measure_norm, axis = 0)\n",
    "plt.plot(q_measure_norm_diff[0,:])\n",
    "plt.xlabel('Neuron count')\n",
    "plt.ylabel('Difference in reliability index')\n",
    "plt.title('Diff. of the Reliability index between the first two batches \\n does not discrminate between the noisy features and the clean features')"
   ]
  },
  {
   "cell_type": "code",
   "execution_count": null,
   "metadata": {
    "ExecuteTime": {
     "end_time": "2021-07-06T19:06:51.109319Z",
     "start_time": "2021-07-06T19:06:03.968Z"
    }
   },
   "outputs": [],
   "source": [
    "q_measure_norm * 1000"
   ]
  },
  {
   "cell_type": "code",
   "execution_count": null,
   "metadata": {
    "ExecuteTime": {
     "end_time": "2021-07-06T19:06:51.109762Z",
     "start_time": "2021-07-06T19:06:03.970Z"
    }
   },
   "outputs": [],
   "source": [
    "num_points = 3\n",
    "x = np.arange(num_points)\n",
    "\n",
    "A = np.vstack([x, np.ones(len(x))]).T\n",
    "\n",
    "r_slopes_3pt = np.zeros(N_NEURONS)\n",
    "\n",
    "for i in range(N_NEURONS):\n",
    "    y = q_measure_norm[:num_points,i]\n",
    "    m,c = np.linalg.lstsq(A, y, rcond = 0)[0]\n",
    "    r_slopes_3pt[i] = m\n",
    "\n",
    "plt.plot(r_slopes_3pt)\n",
    "plt.xlabel('Neuron count')\n",
    "plt.ylabel('Slope of 3 point reliabilty index')\n",
    "plt.title('Using the first 3 batches is more discriminative')"
   ]
  },
  {
   "cell_type": "code",
   "execution_count": null,
   "metadata": {
    "ExecuteTime": {
     "end_time": "2021-07-06T19:06:51.110158Z",
     "start_time": "2021-07-06T19:06:03.972Z"
    }
   },
   "outputs": [],
   "source": [
    "num_points = 10\n",
    "x = np.arange(num_points)\n",
    "\n",
    "A = np.vstack([x, np.ones(len(x))]).T\n",
    "\n",
    "r_slopes = np.zeros(N_NEURONS)\n",
    "\n",
    "for i in range(N_NEURONS):\n",
    "    y = q_measure_norm[:num_points,i]\n",
    "    m,c = np.linalg.lstsq(A, y, rcond = 0)[0]\n",
    "    r_slopes[i] = m\n",
    "\n",
    "plt.plot(r_slopes)\n",
    "plt.xlabel('Neuron count')\n",
    "plt.ylabel('Slope of 10 batch reliabilty index')\n",
    "plt.title('Using the first 10 batches is even more discriminative')"
   ]
  },
  {
   "cell_type": "code",
   "execution_count": null,
   "metadata": {},
   "outputs": [],
   "source": []
  },
  {
   "cell_type": "code",
   "execution_count": null,
   "metadata": {
    "ExecuteTime": {
     "end_time": "2021-07-06T19:06:51.110608Z",
     "start_time": "2021-07-06T19:06:03.975Z"
    }
   },
   "outputs": [],
   "source": [
    "plt.hist(r_slopes)\n",
    "plt.xlabel('Slope of 3 point reliabilty index')\n",
    "plt.ylabel('Counts')\n",
    "plt.title(\"Clear separation of the two feature groups\")"
   ]
  },
  {
   "cell_type": "markdown",
   "metadata": {},
   "source": [
    "$r_k =  "
   ]
  },
  {
   "cell_type": "code",
   "execution_count": null,
   "metadata": {
    "ExecuteTime": {
     "end_time": "2021-07-06T19:06:51.111243Z",
     "start_time": "2021-07-06T19:06:03.977Z"
    },
    "scrolled": true
   },
   "outputs": [],
   "source": [
    "figure_q_measure, axes_q_measure = plt.subplots(2,3,\n",
    "                                                figsize = (3 * GLOBAL_FIGURE_VERTICAL_SIZE, 2*GLOBAL_FIGURE_VERTICAL_SIZE))\n",
    "\n",
    "axes_q_measure[0,0].plot(q_measure_norm_diff[0,:])\n",
    "axes_q_measure[0,0].set_xlabel('Neuron count')\n",
    "axes_q_measure[0,0].set_ylabel('Difference in reliability index')\n",
    "axes_q_measure[0,0].set_title('2 batches')\n",
    "\n",
    "axes_q_measure[1,0].hist(q_measure_norm_diff[0,:])\n",
    "axes_q_measure[1,0].set_ylabel('Counts')\n",
    "axes_q_measure[1,0].set_xlabel('Difference in the reliability index')\n",
    "\n",
    "\n",
    "axes_q_measure[0,1].plot(r_slopes_3pt)\n",
    "axes_q_measure[0,1].set_xlabel('Neuron count')\n",
    "axes_q_measure[0,1].set_ylabel('Slopes of 3 point reliabilty index')\n",
    "axes_q_measure[0,1].set_title('3 batches')\n",
    "\n",
    "\n",
    "\n",
    "axes_q_measure[1,1].hist(r_slopes_3pt)\n",
    "axes_q_measure[1,1].set_xlabel('Slopes of 3 point reliabilty index')\n",
    "axes_q_measure[1,1].set_ylabel('Counts')\n",
    "\n",
    "\n",
    "axes_q_measure[0,2].plot(r_slopes)\n",
    "axes_q_measure[0,2].set_xlabel('Neuron count')\n",
    "axes_q_measure[0,2].set_ylabel('Slopes of 10 point reliabilty index')\n",
    "axes_q_measure[0,2].set_title('10 batches')\n",
    "\n",
    "axes_q_measure[1,2].hist(r_slopes)\n",
    "axes_q_measure[1,2].set_xlabel('Slopes of 10 point reliabilty index')\n",
    "axes_q_measure[1,2].set_ylabel('Counts')\n",
    "\n",
    "\n",
    "\n",
    "plt.tight_layout()"
   ]
  },
  {
   "cell_type": "markdown",
   "metadata": {},
   "source": [
    "this is where we can use the mini-batch cluster K-means\n",
    "Mini-Batch K-Means, see the discussions from this website. \n",
    "https://machinelearningmastery.com/clustering-algorithms-with-python/"
   ]
  },
  {
   "cell_type": "markdown",
   "metadata": {},
   "source": [
    "# Komogorov test\n",
    "\n",
    "this is not working sort of thing. \n",
    "so not good! "
   ]
  },
  {
   "cell_type": "code",
   "execution_count": null,
   "metadata": {
    "ExecuteTime": {
     "end_time": "2021-07-02T22:33:50.672836Z",
     "start_time": "2021-07-02T22:33:50.554406Z"
    }
   },
   "outputs": [],
   "source": []
  }
 ],
 "metadata": {
  "kernelspec": {
   "display_name": "Python 3",
   "language": "python",
   "name": "python3"
  },
  "language_info": {
   "codemirror_mode": {
    "name": "ipython",
    "version": 3
   },
   "file_extension": ".py",
   "mimetype": "text/x-python",
   "name": "python",
   "nbconvert_exporter": "python",
   "pygments_lexer": "ipython3",
   "version": "3.8.10"
  },
  "toc": {
   "base_numbering": 1,
   "nav_menu": {},
   "number_sections": true,
   "sideBar": true,
   "skip_h1_title": false,
   "title_cell": "Table of Contents",
   "title_sidebar": "Contents",
   "toc_cell": false,
   "toc_position": {
    "height": "600.8px",
    "left": "35px",
    "top": "353.8px",
    "width": "376.051px"
   },
   "toc_section_display": true,
   "toc_window_display": false
  },
  "varInspector": {
   "cols": {
    "lenName": 16,
    "lenType": 16,
    "lenVar": 40
   },
   "kernels_config": {
    "python": {
     "delete_cmd_postfix": "",
     "delete_cmd_prefix": "del ",
     "library": "var_list.py",
     "varRefreshCmd": "print(var_dic_list())"
    },
    "r": {
     "delete_cmd_postfix": ") ",
     "delete_cmd_prefix": "rm(",
     "library": "var_list.r",
     "varRefreshCmd": "cat(var_dic_list()) "
    }
   },
   "types_to_exclude": [
    "module",
    "function",
    "builtin_function_or_method",
    "instance",
    "_Feature"
   ],
   "window_display": false
  }
 },
 "nbformat": 4,
 "nbformat_minor": 4
}
