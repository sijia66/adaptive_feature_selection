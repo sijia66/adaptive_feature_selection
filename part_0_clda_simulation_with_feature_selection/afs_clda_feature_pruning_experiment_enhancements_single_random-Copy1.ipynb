{
 "cells": [
  {
   "cell_type": "markdown",
   "metadata": {},
   "source": []
  },
  {
   "cell_type": "markdown",
   "metadata": {},
   "source": [
    "# Purposes of this document\n",
    "\n",
    "the reason I am doing this is that I want to make this really easy kind of thing.  "
   ]
  },
  {
   "cell_type": "markdown",
   "metadata": {},
   "source": [
    "# ideas"
   ]
  },
  {
   "cell_type": "code",
   "execution_count": 1,
   "metadata": {
    "ExecuteTime": {
     "end_time": "2021-06-23T11:51:23.430489Z",
     "start_time": "2021-06-23T11:51:23.428043Z"
    }
   },
   "outputs": [],
   "source": [
    "\n",
    "random_seeds = [0, 100, 1000]\n",
    "num_rep = len(random_seeds)"
   ]
  },
  {
   "cell_type": "markdown",
   "metadata": {},
   "source": [
    "apply leo's idea, we are gonna be suspicious everything, right. "
   ]
  },
  {
   "cell_type": "code",
   "execution_count": 2,
   "metadata": {
    "ExecuteTime": {
     "end_time": "2021-06-23T11:51:23.508486Z",
     "start_time": "2021-06-23T11:51:23.431653Z"
    }
   },
   "outputs": [
    {
     "name": "stdout",
     "output_type": "stream",
     "text": [
      "['0.60']\n",
      "1\n"
     ]
    }
   ],
   "source": [
    "import numpy as np\n",
    "\n",
    "percent_high_SNR_noises = np.array([0.6])\n",
    "\n",
    "num_noises = len(percent_high_SNR_noises)\n",
    "\n",
    "\n",
    "percent_high_SNR_noises_labels = [f'{s:.2f}' for s in percent_high_SNR_noises]\n",
    "\n",
    "print(percent_high_SNR_noises_labels)\n",
    "print(num_noises)"
   ]
  },
  {
   "cell_type": "code",
   "execution_count": 3,
   "metadata": {
    "ExecuteTime": {
     "end_time": "2021-06-23T11:51:23.511097Z",
     "start_time": "2021-06-23T11:51:23.509335Z"
    }
   },
   "outputs": [],
   "source": [
    "#the second idea is actually to prune the feature set\n",
    "batch_to_prune = 50"
   ]
  },
  {
   "cell_type": "markdown",
   "metadata": {},
   "source": [
    "# Experimental setup related to the questions\n",
    "\n",
    "this part should be configured to directly test the hypothesis put forward in the previous section\n"
   ]
  },
  {
   "cell_type": "code",
   "execution_count": 4,
   "metadata": {
    "ExecuteTime": {
     "end_time": "2021-06-23T11:51:23.520702Z",
     "start_time": "2021-06-23T11:51:23.511938Z"
    }
   },
   "outputs": [],
   "source": [
    "mean_firing_rate_low = 50\n",
    "mean_firing_rate_high = 200"
   ]
  },
  {
   "cell_type": "code",
   "execution_count": 5,
   "metadata": {
    "ExecuteTime": {
     "end_time": "2021-06-23T11:51:23.532295Z",
     "start_time": "2021-06-23T11:51:23.521644Z"
    }
   },
   "outputs": [
    {
     "name": "stdout",
     "output_type": "stream",
     "text": [
      "[array([ True,  True,  True,  True,  True,  True,  True,  True, False,\n",
      "       False, False, False, False, False, False, False, False, False,\n",
      "       False, False, False, False, False, False, False, False, False,\n",
      "       False, False, False, False, False]), array([False, False, False, False, False, False, False, False,  True,\n",
      "        True,  True,  True,  True,  True,  True,  True, False, False,\n",
      "       False, False, False, False, False, False, False, False, False,\n",
      "       False, False, False, False, False]), array([False, False, False, False, False, False, False, False, False,\n",
      "       False, False, False, False, False, False, False,  True,  True,\n",
      "        True,  True,  True,  True,  True,  True, False, False, False,\n",
      "       False, False, False, False, False]), array([False, False, False, False, False, False, False, False, False,\n",
      "       False, False, False, False, False, False, False, False, False,\n",
      "       False, False, False, False, False, False,  True,  True,  True,\n",
      "        True,  True,  True,  True,  True])]\n",
      "set up the variances in a list:\n",
      "we therefore know the number of neurons to be 32\n",
      "[[1. ]\n",
      " [1. ]\n",
      " [1. ]\n",
      " [1. ]\n",
      " [1. ]\n",
      " [1. ]\n",
      " [1. ]\n",
      " [1. ]\n",
      " [1. ]\n",
      " [1. ]\n",
      " [1. ]\n",
      " [1. ]\n",
      " [1. ]\n",
      " [1. ]\n",
      " [1. ]\n",
      " [1. ]\n",
      " [1. ]\n",
      " [1. ]\n",
      " [1. ]\n",
      " [1. ]\n",
      " [1. ]\n",
      " [1. ]\n",
      " [1. ]\n",
      " [1. ]\n",
      " [0.8]\n",
      " [0.8]\n",
      " [0.8]\n",
      " [0.8]\n",
      " [0.8]\n",
      " [0.8]\n",
      " [0.8]\n",
      " [0.8]]\n"
     ]
    }
   ],
   "source": [
    "\n",
    "np.set_printoptions(precision=2, suppress=True)\n",
    "\n",
    "noise_mode = 'fixed_gaussian'\n",
    "fixed_noise_level = 5#Hz\n",
    "\n",
    "n_neurons = 32\n",
    "\n",
    "n_neurons_per_group = 8\n",
    "\n",
    "high_noise_neuron_ind = np.arange(n_neurons_per_group)\n",
    "medium_noise_neuron_ind = np.arange(n_neurons_per_group, 2 * n_neurons_per_group)\n",
    "low_noise_neuron_ind = np.arange(2*n_neurons_per_group, 3 * n_neurons_per_group)\n",
    "no_noise_neuron_ind = np.arange(3 * n_neurons_per_group, 4* n_neurons_per_group)\n",
    "\n",
    "neuron_type_indices_in_a_list = [\n",
    "    high_noise_neuron_ind,\n",
    "    medium_noise_neuron_ind,\n",
    "    low_noise_neuron_ind,\n",
    "    no_noise_neuron_ind\n",
    "]\n",
    "\n",
    "N_TYPES_OF_NEURONS = len(neuron_type_indices_in_a_list)\n",
    "\n",
    "\n",
    "no_noise_neuron_list = np.full(n_neurons, False, dtype = bool)\n",
    "low_noise_neuron_list = np.full(n_neurons, False, dtype = bool)\n",
    "medium_noise_neuron_list = np.full(n_neurons, False, dtype = bool)\n",
    "high_noise_neuron_list = np.full(n_neurons, False, dtype = bool)\n",
    "\n",
    "with_noise_neuron_list = np.full(n_neurons, False, dtype = bool)\n",
    "\n",
    "\n",
    "\n",
    "no_noise_neuron_list[no_noise_neuron_ind] = True\n",
    "low_noise_neuron_list[low_noise_neuron_ind] = True\n",
    "medium_noise_neuron_list[medium_noise_neuron_ind] = True\n",
    "high_noise_neuron_list[high_noise_neuron_ind] = True\n",
    "\n",
    "with_noise_neuron_list[low_noise_neuron_ind] = True\n",
    "with_noise_neuron_list[medium_noise_neuron_ind] = True\n",
    "with_noise_neuron_list[high_noise_neuron_ind] = True\n",
    "\n",
    "neuron_type_bool_list = [\n",
    "    high_noise_neuron_list,\n",
    "    medium_noise_neuron_list,\n",
    "    low_noise_neuron_list,\n",
    "    no_noise_neuron_list,\n",
    "]\n",
    "\n",
    "print(neuron_type_bool_list)\n",
    "\n",
    "\n",
    "percent_of_count = np.ones(n_neurons)[:, np.newaxis]\n",
    "\n",
    "print(f'set up the variances in a list:')\n",
    "\n",
    "percent_of_count[high_noise_neuron_ind] = 1 \n",
    "percent_of_count[medium_noise_neuron_ind] = 1\n",
    "percent_of_count[low_noise_neuron_ind] = 1\n",
    "percent_of_count[no_noise_neuron_ind] = 0.8\n",
    "\n",
    "print(f'we therefore know the number of neurons to be {n_neurons}')\n",
    "print(percent_of_count)"
   ]
  },
  {
   "cell_type": "code",
   "execution_count": 6,
   "metadata": {
    "ExecuteTime": {
     "end_time": "2021-06-23T11:51:23.543895Z",
     "start_time": "2021-06-23T11:51:23.533608Z"
    }
   },
   "outputs": [],
   "source": [
    "# make percent of count into a list \n",
    "percent_of_count_in_a_list = list()\n",
    "\n",
    "for i in range(num_noises):\n",
    "    percent_of_count = np.ones(n_neurons)[:, np.newaxis]\n",
    "\n",
    "\n",
    "    percent_of_count[high_noise_neuron_ind] =  1\n",
    "    percent_of_count[medium_noise_neuron_ind] = 1\n",
    "    percent_of_count[low_noise_neuron_ind] = 1\n",
    "    percent_of_count[no_noise_neuron_ind] = percent_high_SNR_noises[i]\n",
    "    \n",
    "    percent_of_count_in_a_list.append(percent_of_count)\n"
   ]
  },
  {
   "cell_type": "code",
   "execution_count": 7,
   "metadata": {
    "ExecuteTime": {
     "end_time": "2021-06-23T11:51:23.556797Z",
     "start_time": "2021-06-23T11:51:23.544975Z"
    }
   },
   "outputs": [
    {
     "name": "stdout",
     "output_type": "stream",
     "text": [
      "we have experimental conditions ['w/o FS 0.6']\n"
     ]
    }
   ],
   "source": [
    "\n",
    "#for comparision\n",
    "#for comparision\n",
    "\n",
    "exp_conds = [f'w/o FS {s}' for s in percent_high_SNR_noises]\n",
    "\n",
    "print(f'we have experimental conditions {exp_conds}')\n",
    "\n",
    "#setting clda parameters \n",
    "##learner: collects paird data at batch_sizes\n",
    "RHO = 0.5\n",
    "batch_size = 100\n",
    "\n",
    "\n",
    "#assistor set up assist level\n",
    "assist_level = (0.0, 0.0)\n",
    "\n",
    "#learner and updater: actualy set up rho\n",
    "UPDATER_BATCH_TIME = 1\n",
    "UPDATER_HALF_LIFE = np.log(RHO)  * UPDATER_BATCH_TIME / np.log(0.5)\n"
   ]
  },
  {
   "cell_type": "code",
   "execution_count": 8,
   "metadata": {
    "ExecuteTime": {
     "end_time": "2021-06-23T11:51:23.566662Z",
     "start_time": "2021-06-23T11:51:23.557694Z"
    }
   },
   "outputs": [],
   "source": [
    "# CHANGE: game mechanics: generate task params\n",
    "N_TARGETS = 8\n",
    "N_TRIALS = 800\n",
    "\n",
    "NUM_EXP_COND = len(exp_conds) # how many experiments we are running. \n",
    "NUM_EXP = NUM_EXP_COND * num_rep"
   ]
  },
  {
   "cell_type": "markdown",
   "metadata": {},
   "source": [
    "# Config the experiments\n",
    "\n",
    "this section largely copyied and pasted from   \n",
    "bmi3d-sijia(branch)-bulti_in_experiemnts\n",
    "https://github.com/sijia66/brain-python-interface/blob/master/built_in_tasks/sim_task_KF.py"
   ]
  },
  {
   "cell_type": "markdown",
   "metadata": {},
   "source": [
    "## load dependant libraries"
   ]
  },
  {
   "cell_type": "code",
   "execution_count": 9,
   "metadata": {
    "ExecuteTime": {
     "end_time": "2021-06-23T11:51:23.679818Z",
     "start_time": "2021-06-23T11:51:23.567600Z"
    }
   },
   "outputs": [],
   "source": [
    "from afs_plotting import *"
   ]
  },
  {
   "cell_type": "code",
   "execution_count": 10,
   "metadata": {
    "ExecuteTime": {
     "end_time": "2021-06-23T11:51:24.504982Z",
     "start_time": "2021-06-23T11:51:23.680713Z"
    }
   },
   "outputs": [
    {
     "name": "stderr",
     "output_type": "stream",
     "text": [
      "/home/sijia-aw/BMi3D_my/lab_bmi3d/riglib/blackrock/cerelink.py:13: UserWarning: Unable to import cerebus library. Check if is installed if using the Blackrock NeuroPort system\n",
      "  warnings.warn(\"Unable to import cerebus library. Check if is installed if using the Blackrock NeuroPort system\")\n"
     ]
    }
   ],
   "source": [
    "# import libraries\n",
    "# make sure these directories are in the python path., \n",
    "from bmimultitasks import SimBMIControlMulti, SimBMICosEncKFDec, BMIControlMultiNoWindow\n",
    "from features import SaveHDF\n",
    "from features.simulation_features import get_enc_setup, SimKFDecoderRandom,SimIntentionLQRController, SimClockTick\n",
    "from features.simulation_features import SimHDF, SimTime\n",
    "\n",
    "from riglib import experiment\n",
    "\n",
    "from riglib.stereo_opengl.window import FakeWindow\n",
    "from riglib.bmi import train\n",
    "\n",
    "\n",
    "from behaviour_metrics import filter_state, sort_trials\n",
    "\n",
    "from weights import calc_p_values_for_spike_batches_use_intended_kin\n",
    "from weights import calc_single_batch_p_values_by_fitting_kinematics_to_spike_counts\n",
    "import weights\n",
    "\n",
    "import time\n",
    "import copy\n",
    "import numpy as np\n",
    "import matplotlib.pyplot as plt\n",
    "import sympy as sp\n",
    "import itertools #for identical sequences\n",
    "\n",
    "np.set_printoptions(precision=2, suppress=True)\n"
   ]
  },
  {
   "cell_type": "markdown",
   "metadata": {},
   "source": [
    "##  behaviour and task setup"
   ]
  },
  {
   "cell_type": "code",
   "execution_count": 11,
   "metadata": {
    "ExecuteTime": {
     "end_time": "2021-06-23T11:51:24.509982Z",
     "start_time": "2021-06-23T11:51:24.505847Z"
    }
   },
   "outputs": [],
   "source": [
    "seq = SimBMIControlMulti.sim_target_seq_generator_multi(\n",
    "N_TARGETS, N_TRIALS)\n",
    "\n",
    "#create a second version of the tasks\n",
    "seqs = itertools.tee(seq, NUM_EXP + 1)\n",
    "target_seq = list(seqs[NUM_EXP])\n",
    "\n",
    "seqs = seqs[:NUM_EXP]\n",
    "\n",
    "\n",
    "SAVE_HDF = False\n",
    "SAVE_SIM_HDF = True #this makes the task data available as exp.task_data_hist\n",
    "DEBUG_FEATURE = False\n",
    "\n",
    "\n",
    "#base_class = SimBMIControlMulti\n",
    "base_class = BMIControlMultiNoWindow\n",
    "\n",
    "#for adding experimental features such as encoder, decoder\n",
    "feats = []\n"
   ]
  },
  {
   "cell_type": "markdown",
   "metadata": {},
   "source": [
    "goin"
   ]
  },
  {
   "cell_type": "code",
   "execution_count": 12,
   "metadata": {
    "ExecuteTime": {
     "end_time": "2021-06-23T11:51:24.523212Z",
     "start_time": "2021-06-23T11:51:24.510871Z"
    }
   },
   "outputs": [],
   "source": [
    "from simulation_features import TimeCountDown\n",
    "\n",
    "feats.append(TimeCountDown)\n",
    "\n",
    "total_exp_time = 600# in seconds"
   ]
  },
  {
   "cell_type": "markdown",
   "metadata": {},
   "source": [
    "## encoder\n",
    "\n",
    "the cosine tuned encoder uses a poisson process, right\n",
    "https://en.wikipedia.org/wiki/Poisson_distribution\n",
    "so if the lambda is 1, then it's very likely "
   ]
  },
  {
   "cell_type": "code",
   "execution_count": 13,
   "metadata": {
    "ExecuteTime": {
     "end_time": "2021-06-23T11:51:24.533080Z",
     "start_time": "2021-06-23T11:51:24.524196Z"
    }
   },
   "outputs": [
    {
     "name": "stdout",
     "output_type": "stream",
     "text": [
      "features.simulation_features: get_enc_setup has a tuning_level of 1 \n",
      "\n",
      "[False False False False False False False False False False False False\n",
      " False False False False False False False False False False False False\n",
      "  True  True  True  True  True  True  True  True]\n",
      "(32, 7)\n"
     ]
    }
   ],
   "source": [
    "from features.simulation_features import get_enc_setup\n",
    "\n",
    "ENCODER_TYPE = 'cosine_tuned_encoder_with_poisson_noise'\n",
    "\n",
    "#neuron set up : 'std (20 neurons)' or 'toy (4 neurons)' \n",
    "N_NEURONS, N_STATES, sim_C = get_enc_setup(sim_mode = 'rot_90', n_neurons= n_neurons)\n",
    "\n",
    "\n",
    "print(no_noise_neuron_list)\n",
    "#multiply our the neurons\n",
    "sim_C[with_noise_neuron_list] =  sim_C[with_noise_neuron_list]  * mean_firing_rate_low\n",
    "sim_C[no_noise_neuron_list]  = sim_C[no_noise_neuron_list] * mean_firing_rate_high\n",
    "\n",
    "\n",
    "print(sim_C.shape)\n",
    "\n",
    "#set up intention feedbackcontroller\n",
    "#this ideally set before the encoder\n",
    "feats.append(SimIntentionLQRController)\n",
    "\n",
    "#set up the encoder\n",
    "from features.simulation_features import SimCosineTunedEncWithNoise\n",
    "feats.append(SimCosineTunedEncWithNoise)\n",
    "\n",
    "\n",
    "#feats_2.append(SimIntentionLQRController)\n",
    "#feats_2.append(SimCosineTunedEncWithNoise)"
   ]
  },
  {
   "cell_type": "markdown",
   "metadata": {},
   "source": [
    "## decoder setup"
   ]
  },
  {
   "cell_type": "code",
   "execution_count": 14,
   "metadata": {
    "ExecuteTime": {
     "end_time": "2021-06-23T11:51:24.543317Z",
     "start_time": "2021-06-23T11:51:24.533847Z"
    }
   },
   "outputs": [
    {
     "name": "stdout",
     "output_type": "stream",
     "text": [
      "__main__: set base class \n",
      "__main__: selected SimKFDecoderRandom \n",
      "\n"
     ]
    }
   ],
   "source": [
    "#clda on random \n",
    "DECODER_MODE = 'random' # random \n",
    "\n",
    "   #take care the decoder setup\n",
    "if DECODER_MODE == 'random':\n",
    "    feats.append(SimKFDecoderRandom)\n",
    "    #feats_2.append(SimKFDecoderRandom)\n",
    "    print(f'{__name__}: set base class ')\n",
    "    print(f'{__name__}: selected SimKFDecoderRandom \\n')\n",
    "else: #defaul to a cosEnc and a pre-traind KF DEC\n",
    "    from features.simulation_features import SimKFDecoderSup\n",
    "    feats.append(SimKFDecoderSup)\n",
    "    #feats_2.append(SimKFDecoderRandom)\n",
    "    print(f'{__name__}: set decoder to SimKFDecoderSup\\n')"
   ]
  },
  {
   "cell_type": "markdown",
   "metadata": {},
   "source": [
    "##  clda: learner and updater"
   ]
  },
  {
   "cell_type": "code",
   "execution_count": 15,
   "metadata": {
    "ExecuteTime": {
     "end_time": "2021-06-23T11:51:24.553387Z",
     "start_time": "2021-06-23T11:51:24.544120Z"
    }
   },
   "outputs": [],
   "source": [
    "\n",
    "\n",
    "LEARNER_TYPE = 'feedback' # to dumb or not dumb it is a question 'feedback'\n",
    "UPDATER_TYPE = 'smooth_batch' #none or \"smooth_batch\"\n",
    "\n",
    "\n",
    "#you know what? \n",
    "#learner only collects firing rates labeled with estimated estimates\n",
    "#we would also need to use the labeled data\n",
    "#now, we can set up a dumb/or not-dumb learner\n",
    "if LEARNER_TYPE == 'feedback':\n",
    "    from features.simulation_features import SimFeedbackLearner\n",
    "    feats.append(SimFeedbackLearner)\n",
    "    #feats_2.append(SimFeedbackLearner)\n",
    "else:\n",
    "    from features.simulation_features import SimDumbLearner\n",
    "    feats.append(SimDumbLearner)\n",
    "    #feats_2.append(SimDumbLearner)\n",
    "\n",
    "#to update the decoder.\n",
    "if UPDATER_TYPE == 'smooth_batch':\n",
    "    from features.simulation_features import SimSmoothBatch\n",
    "    feats.append(SimSmoothBatch)\n",
    "    #feats_2.append(SimSmoothBatch)\n",
    "else: #defaut to none \n",
    "    print(f'{__name__}: need to specify an updater')\n",
    "    \n",
    "\n"
   ]
  },
  {
   "cell_type": "markdown",
   "metadata": {},
   "source": [
    "## feature selector setup"
   ]
  },
  {
   "cell_type": "code",
   "execution_count": 16,
   "metadata": {
    "ExecuteTime": {
     "end_time": "2021-06-23T11:51:24.694931Z",
     "start_time": "2021-06-23T11:51:24.554273Z"
    }
   },
   "outputs": [
    {
     "name": "stdout",
     "output_type": "stream",
     "text": [
      "kwargs will be updated in a later time\n",
      "the feature adaptation project is tracking dict_keys(['transform_x_flag', 'transform_y_flag', 'feature_x_transformer', 'feature_y_transformer', 'n_starting_feats', 'n_states']) \n"
     ]
    }
   ],
   "source": [
    "from feature_selection_feature import FeatureTransformer, TransformerBatchToFit\n",
    "from feature_selection_feature import FeatureSelector, LassoFeatureSelector, SNRFeatureSelector, IterativeFeatureSelector\n",
    "from feature_selection_feature import IterativeFeatureRemoval\n",
    "\n",
    "#pass the real time limit on clock\n",
    "feats.append(FeatureSelector)\n",
    "#feats_2.append(IterativeFeatureRemoval)\n",
    "\n",
    "\n",
    "feature_x_meth_arg = [\n",
    "    ('transpose', None ),\n",
    "]\n",
    "\n",
    "kwargs_feature = dict()\n",
    "kwargs_feature = {\n",
    "    'transform_x_flag':True,\n",
    "    'transform_y_flag':True,\n",
    "    'feature_x_transformer':FeatureTransformer(feature_x_meth_arg),\n",
    "    'feature_y_transformer':TransformerBatchToFit(),\n",
    "    'n_starting_feats': n_neurons,\n",
    "    'n_states':  7\n",
    "}\n",
    "\n",
    "print('kwargs will be updated in a later time')\n",
    "print(f'the feature adaptation project is tracking {kwargs_feature.keys()} ')"
   ]
  },
  {
   "cell_type": "markdown",
   "metadata": {},
   "source": [
    "## assistor setup"
   ]
  },
  {
   "cell_type": "markdown",
   "metadata": {},
   "source": [
    "## (Check) config the experiment"
   ]
  },
  {
   "cell_type": "code",
   "execution_count": 17,
   "metadata": {
    "ExecuteTime": {
     "end_time": "2021-06-23T11:51:24.697647Z",
     "start_time": "2021-06-23T11:51:24.695849Z"
    }
   },
   "outputs": [],
   "source": [
    "exp_feats = [feats] * num_noises\n"
   ]
  },
  {
   "cell_type": "code",
   "execution_count": 18,
   "metadata": {
    "ExecuteTime": {
     "end_time": "2021-06-23T11:51:24.707944Z",
     "start_time": "2021-06-23T11:51:24.698418Z"
    }
   },
   "outputs": [],
   "source": [
    "if DEBUG_FEATURE: \n",
    "    from features.simulation_features import DebugFeature\n",
    "    feats.append(DebugFeature)\n",
    "    \n",
    "if SAVE_HDF: \n",
    "    feats.append(SaveHDF)\n",
    "    #feats_2.append(SaveHDF)\n",
    "if SAVE_SIM_HDF: \n",
    "    feats.append(SimHDF)\n",
    "    #feats_2.append(SimHDF)\n",
    "    \n",
    "    \n",
    "#pass the real time limit on clock\n",
    "feats.append(SimClockTick)\n",
    "feats.append(SimTime)\n",
    "\n"
   ]
  },
  {
   "cell_type": "code",
   "execution_count": 19,
   "metadata": {
    "ExecuteTime": {
     "end_time": "2021-06-23T11:51:24.721152Z",
     "start_time": "2021-06-23T11:51:24.708882Z"
    }
   },
   "outputs": [
    {
     "name": "stdout",
     "output_type": "stream",
     "text": [
      "we have got 1 exps\n"
     ]
    }
   ],
   "source": [
    "\n",
    "\n",
    "kwargs_exps = list()\n",
    "\n",
    "for i in range(num_noises):\n",
    "    d = dict()\n",
    "    \n",
    "    d['total_exp_time'] = total_exp_time\n",
    "    \n",
    "    d['assist_level'] = assist_level\n",
    "    d['sim_C'] = sim_C\n",
    "    \n",
    "    d['noise_mode'] = noise_mode\n",
    "    d['percent_noise'] = percent_of_count_in_a_list[i]\n",
    "    d['fixed_noise_level'] = fixed_noise_level\n",
    "    \n",
    "    d['batch_size'] = batch_size\n",
    "    \n",
    "    d['batch_time'] = UPDATER_BATCH_TIME\n",
    "    d['half_life'] = UPDATER_HALF_LIFE\n",
    "    \n",
    "    \n",
    "    d.update(kwargs_feature)\n",
    "    \n",
    "    kwargs_exps.append(d)\n",
    "\n",
    "\n",
    "\n",
    "print(f'we have got {len(kwargs_exps)} exps')"
   ]
  },
  {
   "cell_type": "markdown",
   "metadata": {},
   "source": [
    "## make and initalize experiment instances"
   ]
  },
  {
   "cell_type": "code",
   "execution_count": 20,
   "metadata": {
    "ExecuteTime": {
     "end_time": "2021-06-23T11:51:24.769761Z",
     "start_time": "2021-06-23T11:51:24.722030Z"
    }
   },
   "outputs": [
    {
     "name": "stdout",
     "output_type": "stream",
     "text": [
      "metaclass constructor\n",
      "(<class 'simulation_features.TimeCountDown'>, <class 'features.simulation_features.SimIntentionLQRController'>, <class 'features.simulation_features.SimCosineTunedEncWithNoise'>, <class 'features.simulation_features.SimKFDecoderRandom'>, <class 'features.simulation_features.SimFeedbackLearner'>, <class 'features.simulation_features.SimSmoothBatch'>, <class 'feature_selection_feature.FeatureSelector'>, <class 'features.simulation_features.SimHDF'>, <class 'features.simulation_features.SimClockTick'>, <class 'features.simulation_features.SimTime'>, <class 'bmimultitasks.BMIControlMultiNoWindow'>)\n",
      "[<class 'simulation_features.TimeCountDown'>, <class 'features.simulation_features.SimIntentionLQRController'>, <class 'features.simulation_features.SimCosineTunedEncWithNoise'>, <class 'features.simulation_features.SimKFDecoderRandom'>, <class 'features.simulation_features.SimFeedbackLearner'>, <class 'features.simulation_features.SimSmoothBatch'>, <class 'feature_selection_feature.FeatureSelector'>, <class 'features.simulation_features.SimHDF'>, <class 'features.simulation_features.SimClockTick'>, <class 'features.simulation_features.SimTime'>]\n",
      "\n",
      "features.simulation_features.SimIntentionLQRController: LQRController used \n",
      "\n",
      "\n",
      " features.simulation_features.SimFeedbackLearner: start to create a sim leaner with a batchsize of 100\n",
      "features.simulation_features.SimSmoothBatch: rho in this simulation is  0.5\n",
      "\n",
      "finished executing Experiment.__init__\n",
      "in feature selector mod\n",
      "feature init: [array([ True,  True,  True,  True,  True,  True,  True,  True,  True,\n",
      "        True,  True,  True,  True,  True,  True,  True,  True,  True,\n",
      "        True,  True,  True,  True,  True,  True,  True,  True,  True,\n",
      "        True,  True,  True,  True,  True])]\n",
      "feature selector: add initial decoder weights\n",
      "<class 'features.simulation_features.SimCosineTunedEncWithNoise'>: added CosineTunedEncWithNoise \n",
      "TimeCountDown: assume  fps to be 60\n",
      "metaclass constructor\n",
      "(<class 'simulation_features.TimeCountDown'>, <class 'features.simulation_features.SimIntentionLQRController'>, <class 'features.simulation_features.SimCosineTunedEncWithNoise'>, <class 'features.simulation_features.SimKFDecoderRandom'>, <class 'features.simulation_features.SimFeedbackLearner'>, <class 'features.simulation_features.SimSmoothBatch'>, <class 'feature_selection_feature.FeatureSelector'>, <class 'features.simulation_features.SimHDF'>, <class 'features.simulation_features.SimClockTick'>, <class 'features.simulation_features.SimTime'>, <class 'bmimultitasks.BMIControlMultiNoWindow'>)\n",
      "[<class 'simulation_features.TimeCountDown'>, <class 'features.simulation_features.SimIntentionLQRController'>, <class 'features.simulation_features.SimCosineTunedEncWithNoise'>, <class 'features.simulation_features.SimKFDecoderRandom'>, <class 'features.simulation_features.SimFeedbackLearner'>, <class 'features.simulation_features.SimSmoothBatch'>, <class 'feature_selection_feature.FeatureSelector'>, <class 'features.simulation_features.SimHDF'>, <class 'features.simulation_features.SimClockTick'>, <class 'features.simulation_features.SimTime'>]\n",
      "\n",
      "features.simulation_features.SimIntentionLQRController: LQRController used \n",
      "\n",
      "\n",
      " features.simulation_features.SimFeedbackLearner: start to create a sim leaner with a batchsize of 100\n",
      "features.simulation_features.SimSmoothBatch: rho in this simulation is  0.5\n",
      "\n",
      "finished executing Experiment.__init__\n",
      "in feature selector mod\n",
      "feature init: [array([ True,  True,  True,  True,  True,  True,  True,  True,  True,\n",
      "        True,  True,  True,  True,  True,  True,  True,  True,  True,\n",
      "        True,  True,  True,  True,  True,  True,  True,  True,  True,\n",
      "        True,  True,  True,  True,  True])]\n",
      "feature selector: add initial decoder weights\n",
      "<class 'features.simulation_features.SimCosineTunedEncWithNoise'>: added CosineTunedEncWithNoise \n",
      "TimeCountDown: assume  fps to be 60\n",
      "metaclass constructor\n",
      "(<class 'simulation_features.TimeCountDown'>, <class 'features.simulation_features.SimIntentionLQRController'>, <class 'features.simulation_features.SimCosineTunedEncWithNoise'>, <class 'features.simulation_features.SimKFDecoderRandom'>, <class 'features.simulation_features.SimFeedbackLearner'>, <class 'features.simulation_features.SimSmoothBatch'>, <class 'feature_selection_feature.FeatureSelector'>, <class 'features.simulation_features.SimHDF'>, <class 'features.simulation_features.SimClockTick'>, <class 'features.simulation_features.SimTime'>, <class 'bmimultitasks.BMIControlMultiNoWindow'>)\n",
      "[<class 'simulation_features.TimeCountDown'>, <class 'features.simulation_features.SimIntentionLQRController'>, <class 'features.simulation_features.SimCosineTunedEncWithNoise'>, <class 'features.simulation_features.SimKFDecoderRandom'>, <class 'features.simulation_features.SimFeedbackLearner'>, <class 'features.simulation_features.SimSmoothBatch'>, <class 'feature_selection_feature.FeatureSelector'>, <class 'features.simulation_features.SimHDF'>, <class 'features.simulation_features.SimClockTick'>, <class 'features.simulation_features.SimTime'>]\n",
      "\n",
      "features.simulation_features.SimIntentionLQRController: LQRController used \n",
      "\n",
      "\n",
      " features.simulation_features.SimFeedbackLearner: start to create a sim leaner with a batchsize of 100\n",
      "features.simulation_features.SimSmoothBatch: rho in this simulation is  0.5\n",
      "\n",
      "finished executing Experiment.__init__\n",
      "in feature selector mod\n",
      "feature init: [array([ True,  True,  True,  True,  True,  True,  True,  True,  True,\n",
      "        True,  True,  True,  True,  True,  True,  True,  True,  True,\n",
      "        True,  True,  True,  True,  True,  True,  True,  True,  True,\n",
      "        True,  True,  True,  True,  True])]\n",
      "feature selector: add initial decoder weights\n",
      "<class 'features.simulation_features.SimCosineTunedEncWithNoise'>: added CosineTunedEncWithNoise \n",
      "TimeCountDown: assume  fps to be 60\n",
      "\n",
      " using encoder with additional noises  State space: ['hand_px', 'hand_py', 'hand_pz', 'hand_vx', 'hand_vy', 'hand_vz', 'offset'] \n",
      "\n",
      "<bound method GenericCosEncWithNoise._gen_fixed_gaussian_noise of <riglib.bmi.sim_neurons.GenericCosEncWithNoise object at 0x7f2baa9a7dc0>>\n",
      "neural encoder init function  <BMIControlMultiNoWindow(Thread-4, initial)>\n",
      "features.simulation_features: added tracking of K matrix\n",
      "<bmimultitasks.SimpleEndpointAssister object at 0x7f2baa9a7fd0>\n",
      "features.simulation_features: batch size is 100\n",
      "Reset states for learner: \n",
      "[]\n",
      "Done states for learner: \n",
      "[]\n",
      "\n",
      "features.simulation_features.SimFeedbackLearner: flip the self.learn_flag to true\n",
      "features.simulation_features.SimFeedbackLearner: succussfully created a feedback controller learner\n",
      "\n",
      "\n",
      "SimSmoothBatch: created an updater with a batch time of 1 and a half_life of 1.0 \n",
      "\n",
      "next\n",
      "\n",
      "\n",
      " using encoder with additional noises  State space: ['hand_px', 'hand_py', 'hand_pz', 'hand_vx', 'hand_vy', 'hand_vz', 'offset'] \n",
      "\n",
      "<bound method GenericCosEncWithNoise._gen_fixed_gaussian_noise of <riglib.bmi.sim_neurons.GenericCosEncWithNoise object at 0x7f2baa999d30>>\n",
      "neural encoder init function  <BMIControlMultiNoWindow(Thread-5, initial)>\n",
      "features.simulation_features: added tracking of K matrix\n",
      "<bmimultitasks.SimpleEndpointAssister object at 0x7f2baa999d60>\n",
      "features.simulation_features: batch size is 100\n",
      "Reset states for learner: \n",
      "[]\n",
      "Done states for learner: \n",
      "[]\n",
      "\n",
      "features.simulation_features.SimFeedbackLearner: flip the self.learn_flag to true\n",
      "features.simulation_features.SimFeedbackLearner: succussfully created a feedback controller learner\n",
      "\n",
      "\n",
      "SimSmoothBatch: created an updater with a batch time of 1 and a half_life of 1.0 \n",
      "\n",
      "next\n",
      "\n",
      "\n",
      " using encoder with additional noises  State space: ['hand_px', 'hand_py', 'hand_pz', 'hand_vx', 'hand_vy', 'hand_vz', 'offset'] \n",
      "\n",
      "<bound method GenericCosEncWithNoise._gen_fixed_gaussian_noise of <riglib.bmi.sim_neurons.GenericCosEncWithNoise object at 0x7f2baa1666a0>>\n",
      "neural encoder init function  <BMIControlMultiNoWindow(Thread-6, initial)>\n",
      "features.simulation_features: added tracking of K matrix\n",
      "<bmimultitasks.SimpleEndpointAssister object at 0x7f2baa9a7a30>\n",
      "features.simulation_features: batch size is 100\n",
      "Reset states for learner: \n",
      "[]\n",
      "Done states for learner: \n",
      "[]\n",
      "\n",
      "features.simulation_features.SimFeedbackLearner: flip the self.learn_flag to true\n",
      "features.simulation_features.SimFeedbackLearner: succussfully created a feedback controller learner\n",
      "\n",
      "\n",
      "SimSmoothBatch: created an updater with a batch time of 1 and a half_life of 1.0 \n",
      "\n",
      "next\n",
      "\n"
     ]
    }
   ],
   "source": [
    "\n",
    "exps_reps = list()\n",
    "\n",
    "\n",
    "for i,s in enumerate(seqs):\n",
    "    \n",
    "    #spawn the task\n",
    "    kwargs_exps_index = i % NUM_EXP_COND\n",
    "    f = exp_feats[kwargs_exps_index]\n",
    "    Exp = experiment.make(base_class, feats=f)\n",
    "\n",
    "    e = Exp(s, **kwargs_exps[kwargs_exps_index])\n",
    "\n",
    "    exps_reps.append(e)\n",
    "\n",
    "exps_np  = np.array(exps_reps, dtype = 'object')\n",
    "\n",
    "\n",
    "\n",
    "#run the ini\n",
    "for e in exps_np: \n",
    "    e.init()\n",
    "    print('next')\n",
    "    print()\n",
    "    "
   ]
  },
  {
   "cell_type": "code",
   "execution_count": 21,
   "metadata": {
    "ExecuteTime": {
     "end_time": "2021-06-23T11:51:24.772570Z",
     "start_time": "2021-06-23T11:51:24.770555Z"
    }
   },
   "outputs": [
    {
     "name": "stdout",
     "output_type": "stream",
     "text": [
      "3\n"
     ]
    }
   ],
   "source": [
    "exps_rnd = np.reshape(exps_np, (num_rep,-1))\n",
    "\n",
    "exps_rnd.shape\n",
    "\n",
    "print(NUM_EXP)"
   ]
  },
  {
   "cell_type": "markdown",
   "metadata": {},
   "source": [
    "# Pre-experiment check: check the Kalman filter before training"
   ]
  },
  {
   "cell_type": "code",
   "execution_count": 22,
   "metadata": {
    "ExecuteTime": {
     "end_time": "2021-06-23T11:51:25.318076Z",
     "start_time": "2021-06-23T11:51:24.773439Z"
    }
   },
   "outputs": [
    {
     "name": "stdout",
     "output_type": "stream",
     "text": [
      "we replace the encoder using the weights\n",
      "assume, they are all randomly initialized get the first decoder\n",
      "get a handle to the first decoder\n",
      "\n",
      "select_decoder_features: _change_one_flag = False\n",
      "(32, 7)\n",
      "(32, 7)\n",
      "active feature set is [ True  True  True  True  True  True  True  True  True  True  True  True\n",
      "  True  True  True  True  True  True  True  True  True  True  True  True\n",
      "  True  True  True  True  True  True  True  True]\n",
      "after trans: (32, 7)\n",
      "after trans: (32, 32)\n",
      "decoder change flag to false\n",
      "select_decoder_features: _change_one_flag = False\n",
      "(32, 7)\n",
      "(32, 7)\n",
      "active feature set is [ True  True  True  True  True  True  True  True  True  True  True  True\n",
      "  True  True  True  True  True  True  True  True  True  True  True  True\n",
      "  True  True  True  True  True  True  True  True]\n",
      "after trans: (32, 7)\n",
      "after trans: (32, 32)\n",
      "decoder change flag to false\n",
      "select_decoder_features: _change_one_flag = False\n",
      "(32, 7)\n",
      "(32, 7)\n",
      "active feature set is [ True  True  True  True  True  True  True  True  True  True  True  True\n",
      "  True  True  True  True  True  True  True  True  True  True  True  True\n",
      "  True  True  True  True  True  True  True  True]\n",
      "after trans: (32, 7)\n",
      "after trans: (32, 32)\n",
      "decoder change flag to false\n",
      "we check the new decoder C matrix:\n"
     ]
    },
    {
     "data": {
      "image/png": "[encoded data removed]",
      "text/plain": [
       "<Figure size 864x576 with 6 Axes>"
      ]
     },
     "metadata": {
      "needs_background": "light"
     },
     "output_type": "display_data"
    }
   ],
   "source": [
    "from afs_plotting import plot_prefered_directions\n",
    "\n",
    "print('we replace the encoder using the weights')\n",
    "print('assume, they are all randomly initialized get the first decoder')\n",
    "print('get a handle to the first decoder')\n",
    "first_decoder = exps_np[0].decoder\n",
    "target_C = first_decoder.filt.C\n",
    "target_Q = np.copy(first_decoder.filt.Q)\n",
    "\n",
    "print()\n",
    "diag_val = 10000\n",
    "np.fill_diagonal(target_Q, diag_val)\n",
    "\n",
    "#replace the decoder\n",
    "for i,e in enumerate(exps_np):\n",
    "    weights.change_target_kalman_filter_with_a_C_mat(e.decoder.filt, target_C, \n",
    "                                                     Q= target_Q, debug=False)\n",
    "    e.select_decoder_features(e.decoder)\n",
    "    e.record_feature_active_set(e.decoder)\n",
    "    \n",
    "print('we check the new decoder C matrix:')\n",
    "\n",
    "figure_decoder_C, axs_decoder_C = plt.subplots(nrows=2, \n",
    "                               ncols=NUM_EXP, figsize = [GLOBAL_FIGURE_VERTICAL_SIZE * NUM_EXP, GLOBAL_FIGURE_VERTICAL_SIZE * 2],squeeze = False)\n",
    "figure_decoder_C.suptitle('KF C Matrix Before Training ')\n",
    "\n",
    "for i,e in enumerate(exps_np):\n",
    "    C = e.decoder.filt.C\n",
    "    plot_prefered_directions(C, ax = axs_decoder_C[0,i])\n",
    "    #axs_decoder_C[0,i].set_title(exp_conds[i])"
   ]
  },
  {
   "cell_type": "markdown",
   "metadata": {},
   "source": [
    "# Experiment run: assemble into a complete loop"
   ]
  },
  {
   "cell_type": "markdown",
   "metadata": {},
   "source": [
    "## actually running the experiments"
   ]
  },
  {
   "cell_type": "code",
   "execution_count": 23,
   "metadata": {
    "ExecuteTime": {
     "end_time": "2021-06-23T11:52:09.214196Z",
     "start_time": "2021-06-23T11:51:25.318995Z"
    }
   },
   "outputs": [
    {
     "name": "stdout",
     "output_type": "stream",
     "text": [
      "runseq\n",
      "finished: 1\n",
      "assist_level at final value after 0 successful trials\n"
     ]
    },
    {
     "name": "stderr",
     "output_type": "stream",
     "text": [
      "/home/sijia-aw/BMi3D_my/lab_bmi3d/riglib/bmi/kfdecoder.py:372: FutureWarning: `rcond` parameter will change to the default of machine precision times ``max(M, N)`` where M and N are the input matrix dimensions.\n",
      "To use the future default and silence this warning we advise to pass `rcond=None`, to keep using the old, explicitly pass `rcond=-1`.\n",
      "  C = np.mat(np.linalg.lstsq(X.T, Y.T)[0].T)\n"
     ]
    },
    {
     "name": "stdout",
     "output_type": "stream",
     "text": [
      "exit\n",
      "end of FSM.run, task state is None\n",
      "Finished running  w/o FS 0.6\n",
      "0\n",
      "using random seed 0\n",
      "\n",
      "runseq\n",
      "finished: 1\n",
      "exit\n",
      "end of FSM.run, task state is None\n",
      "Finished running  w/o FS 0.6\n",
      "1\n",
      "using random seed 100\n",
      "\n",
      "runseq\n",
      "finished: 1\n",
      "exit\n",
      "end of FSM.run, task state is None\n",
      "Finished running  w/o FS 0.6\n",
      "2\n",
      "using random seed 1000\n",
      "\n"
     ]
    }
   ],
   "source": [
    "from feature_selection_feature import run_exp_loop\n",
    "seed_index = -1\n",
    "\n",
    "for i,e in enumerate(exps_np):\n",
    "    \n",
    "    \n",
    "    \n",
    "    kwargs_exps_index = i % NUM_EXP_COND\n",
    "    \n",
    "    if kwargs_exps_index == 0: seed_index += 1\n",
    "    \n",
    "    #reset the seed.\n",
    "    np.random.seed(random_seeds[seed_index])\n",
    "    \n",
    "    \n",
    "    try:\n",
    "        run_exp_loop(e, **kwargs_exps[kwargs_exps_index])\n",
    "        \n",
    "    except Exception as e:\n",
    "        print(e)\n",
    "        print(f'had problem running exp {i}')\n",
    "        \n",
    "    print(f'Finished running  {exp_conds[kwargs_exps_index]}')\n",
    "    print(i)\n",
    "    print(f'using random seed {random_seeds[seed_index]}')\n",
    "    print()"
   ]
  },
  {
   "cell_type": "code",
   "execution_count": 24,
   "metadata": {
    "ExecuteTime": {
     "end_time": "2021-06-23T11:52:09.218943Z",
     "start_time": "2021-06-23T11:52:09.216693Z"
    }
   },
   "outputs": [
    {
     "data": {
      "text/plain": [
       "[0, 100, 1000]"
      ]
     },
     "execution_count": 24,
     "metadata": {},
     "output_type": "execute_result"
    }
   ],
   "source": [
    "random_seeds"
   ]
  },
  {
   "cell_type": "markdown",
   "metadata": {},
   "source": [
    "at this moment, \n",
    "the seed does not change the trajectory. \n",
    "the simulations with three different seeds \n",
    "my assumption is that \n",
    "1. the random seed will be used to generate encoded features. \n",
    "2. but they are the same.\n",
    "\n",
    "what do I care about \n",
    "1. want to have differnt decoder initialization? \n",
    "2. on a related note, the stuff I care about \n",
    "3. ultimately, we need to simplify to one experiment"
   ]
  },
  {
   "cell_type": "markdown",
   "metadata": {
    "ExecuteTime": {
     "end_time": "2021-01-25T01:00:26.027506Z",
     "start_time": "2021-01-25T01:00:26.024320Z"
    }
   },
   "source": [
    "# Postprocessing the data for loading"
   ]
  },
  {
   "cell_type": "code",
   "execution_count": 25,
   "metadata": {
    "ExecuteTime": {
     "end_time": "2021-06-23T11:52:09.263297Z",
     "start_time": "2021-06-23T11:52:09.220231Z"
    }
   },
   "outputs": [],
   "source": [
    "import seaborn as sns\n",
    "sns.set_context('talk')"
   ]
  },
  {
   "cell_type": "code",
   "execution_count": 26,
   "metadata": {
    "ExecuteTime": {
     "end_time": "2021-06-23T11:52:09.266723Z",
     "start_time": "2021-06-23T11:52:09.264128Z"
    }
   },
   "outputs": [
    {
     "data": {
      "text/plain": [
       "array([False])"
      ]
     },
     "execution_count": 26,
     "metadata": {},
     "output_type": "execute_result"
    }
   ],
   "source": [
    "exps_np_reshape = np.reshape(exps_np, (num_rep, -1))\n",
    "\n",
    "exps_np_reshape[0] == exps_np_reshape[1]"
   ]
  },
  {
   "cell_type": "code",
   "execution_count": 27,
   "metadata": {
    "ExecuteTime": {
     "end_time": "2021-06-23T11:52:09.470913Z",
     "start_time": "2021-06-23T11:52:09.267584Z"
    }
   },
   "outputs": [
    {
     "name": "stdout",
     "output_type": "stream",
     "text": [
      "[128 135 142]\n"
     ]
    },
    {
     "data": {
      "text/plain": [
       "<matplotlib.legend.Legend at 0x7f2ba2696640>"
      ]
     },
     "execution_count": 27,
     "metadata": {},
     "output_type": "execute_result"
    },
    {
     "data": {
      "image/png": "[encoded data removed]",
      "text/plain": [
       "<Figure size 432x288 with 1 Axes>"
      ]
     },
     "metadata": {},
     "output_type": "display_data"
    }
   ],
   "source": [
    "num_rewards = [e.calc_state_occurrences('reward') for e in  exps_np]\n",
    "\n",
    "num_rewards = np.array(num_rewards)\n",
    "print(num_rewards)\n",
    "\n",
    "num_rewards = num_rewards.reshape((3, num_noises)).T\n",
    "\n",
    "sns.set()\n",
    "\n",
    "\n",
    "\n",
    "plt.plot(percent_high_SNR_noises, num_rewards)\n",
    "plt.xlabel('Relative noise level of the high SNR neuron group')\n",
    "plt.ylabel('Trials completed (#)')\n",
    "plt.legend(['Full set', 'Noise feature removed', 'Constant subset'])"
   ]
  },
  {
   "cell_type": "code",
   "execution_count": null,
   "metadata": {
    "ExecuteTime": {
     "end_time": "2021-06-23T11:52:09.928622Z",
     "start_time": "2021-06-23T11:51:23.481Z"
    }
   },
   "outputs": [],
   "source": [
    "num_rewards = [e.calc_state_occurrences('reward') for e in  exps]\n",
    "\n",
    "num_rewards = np.array(num_rewards)\n",
    "\n",
    "num_rewards = num_rewards.reshape((3, num_noises)).T\n",
    "\n",
    "sns.set_context('talk')\n",
    "\n",
    "\n",
    "\n",
    "plt.plot(percent_high_SNR_noises, num_rewards[:,:2])\n",
    "plt.xlabel('Relative noise level of the high SNR neuron group')\n",
    "plt.ylabel('NUmber of rewards')\n",
    "plt.legend(['Full set', 'Noise feature removed'])\n",
    "plt.title(r'Increasing noise $\\to$ fewer rewards')"
   ]
  },
  {
   "cell_type": "code",
   "execution_count": null,
   "metadata": {
    "ExecuteTime": {
     "end_time": "2021-06-23T11:52:09.929028Z",
     "start_time": "2021-06-23T11:51:23.483Z"
    }
   },
   "outputs": [],
   "source": [
    "num_rewards_full_set = num_rewards[:, 0][:,np.newaxis]\n",
    "print(num_rewards_full_set.shape)\n",
    "\n",
    "\n",
    "num_rewards_norm = num_rewards - np.repeat(num_rewards_full_set, 3, axis = 1)\n",
    "\n",
    "plt.plot(percent_high_SNR_noises, num_rewards_norm)\n",
    "plt.xlabel('Relative noise level of the high SNR neuron group')\n",
    "plt.ylabel('Trials completed (#)')\n",
    "plt.legend(['Full set', 'Noise feature removed', 'Constant subset'])"
   ]
  },
  {
   "cell_type": "code",
   "execution_count": null,
   "metadata": {
    "ExecuteTime": {
     "end_time": "2021-06-23T11:52:09.929426Z",
     "start_time": "2021-06-23T11:51:23.485Z"
    }
   },
   "outputs": [],
   "source": [
    "num_rewards_full_set = num_rewards[:, 0][:,np.newaxis]\n",
    "print(num_rewards_full_set.shape)\n",
    "\n",
    "sns.set_context('talk')\n",
    "num_rewards_norm = num_rewards - np.repeat(num_rewards_full_set, 3, axis = 1)\n",
    "\n",
    "plt.plot(percent_high_SNR_noises, num_rewards_norm[:,:2])\n",
    "plt.xlabel('Relative noise level of the high SNR neuron group')\n",
    "plt.ylabel('Rel. number of rewards')\n",
    "plt.legend(['Full set', 'Noisy feature removed'])\n",
    "plt.title(r'Increasing noise favors noisy feature removal')"
   ]
  },
  {
   "cell_type": "code",
   "execution_count": null,
   "metadata": {
    "ExecuteTime": {
     "end_time": "2021-06-23T11:52:09.929936Z",
     "start_time": "2021-06-23T11:51:23.487Z"
    }
   },
   "outputs": [],
   "source": [
    "num_rewards"
   ]
  },
  {
   "cell_type": "markdown",
   "metadata": {},
   "source": [
    "## declare defs and conventions"
   ]
  },
  {
   "cell_type": "code",
   "execution_count": null,
   "metadata": {
    "ExecuteTime": {
     "end_time": "2021-06-23T11:52:09.930441Z",
     "start_time": "2021-06-23T11:51:23.489Z"
    }
   },
   "outputs": [],
   "source": [
    "FRAME_RATE = 60\n",
    "INT_WINDOW_TIME = 10 # s for looking at sample raw data\n",
    "\n",
    "# some conventions as we go down the loop\n",
    "X_VEL_STATE_IND = 3\n",
    "Y_VEL_STATE_IND = 5\n",
    "X_POS_STATE_IND = 0\n",
    "Y_POS_STATE_IND = 2\n",
    "\n",
    "state_indices = [X_POS_STATE_IND,\n",
    "                 Y_POS_STATE_IND,\n",
    "                 X_VEL_STATE_IND,\n",
    "                 Y_VEL_STATE_IND]\n",
    "state_names = ['x pos ', 'y pos', 'x vel', 'y vel']\n",
    "\n",
    "\n",
    "INT_WIN_SAMPLES = INT_WINDOW_TIME * FRAME_RATE\n",
    "\n"
   ]
  },
  {
   "cell_type": "markdown",
   "metadata": {},
   "source": [
    "## Refactor out the data"
   ]
  },
  {
   "cell_type": "code",
   "execution_count": null,
   "metadata": {
    "ExecuteTime": {
     "end_time": "2021-06-23T11:52:09.930865Z",
     "start_time": "2021-06-23T11:51:23.491Z"
    }
   },
   "outputs": [],
   "source": [
    "task_data_hist_np_all = [np.array(e.task_data_hist) for e in exps]\n",
    "len(task_data_hist_np_all)\n",
    "task_data_hist_np_all[0].dtype"
   ]
  },
  {
   "cell_type": "markdown",
   "metadata": {},
   "source": [
    "## Finished time in seconds"
   ]
  },
  {
   "cell_type": "code",
   "execution_count": null,
   "metadata": {
    "ExecuteTime": {
     "end_time": "2021-06-23T11:52:09.931289Z",
     "start_time": "2021-06-23T11:51:23.493Z"
    }
   },
   "outputs": [],
   "source": [
    "finished_times_in_seconds = [int(len(s)/FRAME_RATE) for s in task_data_hist_np_all]\n",
    "finished_times_in_seconds"
   ]
  },
  {
   "cell_type": "markdown",
   "metadata": {},
   "source": [
    "# Post data analysis"
   ]
  },
  {
   "cell_type": "markdown",
   "metadata": {},
   "source": [
    "## Overall  trial statistics succuss rate)"
   ]
  },
  {
   "cell_type": "code",
   "execution_count": null,
   "metadata": {
    "ExecuteTime": {
     "end_time": "2021-06-23T11:52:09.931760Z",
     "start_time": "2021-06-23T11:51:23.496Z"
    }
   },
   "outputs": [],
   "source": [
    "total_exp_time"
   ]
  },
  {
   "cell_type": "code",
   "execution_count": null,
   "metadata": {
    "ExecuteTime": {
     "end_time": "2021-06-23T11:52:09.932293Z",
     "start_time": "2021-06-23T11:51:23.498Z"
    }
   },
   "outputs": [],
   "source": [
    "1200 * 60"
   ]
  },
  {
   "cell_type": "code",
   "execution_count": null,
   "metadata": {
    "ExecuteTime": {
     "end_time": "2021-06-23T11:52:09.932718Z",
     "start_time": "2021-06-23T11:51:23.501Z"
    }
   },
   "outputs": [],
   "source": [
    "state_log = exps[1].state_log \n",
    "state_log[-1][1] * 60"
   ]
  },
  {
   "cell_type": "code",
   "execution_count": null,
   "metadata": {
    "ExecuteTime": {
     "end_time": "2021-06-23T11:52:09.933194Z",
     "start_time": "2021-06-23T11:51:23.503Z"
    },
    "scrolled": true
   },
   "outputs": [],
   "source": [
    "import behaviour_metrics\n",
    "import importlib\n",
    "import matplotlib.colors as cm\n",
    "import matplotlib as mpl\n",
    "\n",
    "importlib.reload(behaviour_metrics)\n",
    "\n",
    "window_length = 60 #s\n",
    "\n",
    "\n",
    "reward_events_per_minute = [behaviour_metrics.calc_event_rate_from_state_log(e.state_log,'reward', \n",
    "                                                                             total_time = total_exp_time,\n",
    "                                                                             window_length = window_length) for e in exps]\n",
    "reward_events_per_minute = np.array(reward_events_per_minute) * 60 / window_length\n",
    "\n",
    "\n",
    "import afs_plotting\n",
    "importlib.reload(afs_plotting)\n",
    "from afs_plotting import get_cmap\n",
    "\n",
    "\n",
    "time_vec = np.arange(reward_events_per_minute.shape[1]) * window_length / 60\n",
    "\n",
    "print(reward_events_per_minute.shape)\n",
    "\n",
    "cmap = get_cmap(num_noises)\n",
    "cmap_2 = get_cmap(num_noises, color = mpl.cm.Oranges)\n",
    "cmap_3 = get_cmap(num_noises, color = mpl.cm.Reds)\n",
    "\n",
    "\n",
    "for i in range(num_noises):\n",
    "    plt.plot(time_vec, reward_events_per_minute[i].T,color = cmap.to_rgba(i + 1))\n",
    "    plt.plot(time_vec, reward_events_per_minute[i +  num_noises].T,color = cmap_2.to_rgba(i + 1))\n",
    "    plt.plot(time_vec, reward_events_per_minute[i +  num_noises * 2].T,color = cmap_3.to_rgba(i + 1))\n",
    "    \n",
    "plt.ylabel('# of rewards per minute')\n",
    "plt.title('Reward Rate')\n",
    "plt.xlabel('Time (s)')\n",
    "\n"
   ]
  },
  {
   "cell_type": "code",
   "execution_count": null,
   "metadata": {
    "ExecuteTime": {
     "end_time": "2021-06-23T11:52:09.933650Z",
     "start_time": "2021-06-23T11:51:23.505Z"
    }
   },
   "outputs": [],
   "source": [
    "i = 1\n",
    "\n",
    "plt.plot(time_vec, reward_events_per_minute[i].T)\n",
    "plt.plot(time_vec, reward_events_per_minute[i +  num_noises].T)\n",
    "plt.plot(time_vec, reward_events_per_minute[i +  num_noises * 2].T)\n",
    "\n",
    "plt.ylabel('# of rewards per minute')\n",
    "plt.title('Reward Rate')\n",
    "plt.xlabel('Time (min)')\n",
    "plt.legend(['Full set', 'Noise feature removed', 'Constant subset'])"
   ]
  },
  {
   "cell_type": "code",
   "execution_count": null,
   "metadata": {
    "ExecuteTime": {
     "end_time": "2021-06-23T11:52:09.934073Z",
     "start_time": "2021-06-23T11:51:23.507Z"
    }
   },
   "outputs": [],
   "source": [
    "i = 1\n",
    "\n",
    "plt.plot(time_vec, reward_events_per_minute[i].T)\n",
    "plt.plot(time_vec, reward_events_per_minute[i +  num_noises].T)\n",
    "\n",
    "plt.ylabel('# of rewards per minute')\n",
    "plt.title('More rewarded trials after noisy features removed')\n",
    "plt.xlabel('Time (min)')\n",
    "plt.legend(['Full set', 'Noise feature removed'])"
   ]
  },
  {
   "cell_type": "code",
   "execution_count": null,
   "metadata": {
    "ExecuteTime": {
     "end_time": "2021-06-23T11:52:09.934488Z",
     "start_time": "2021-06-23T11:51:23.509Z"
    }
   },
   "outputs": [],
   "source": [
    "i = 2\n",
    "\n",
    "reward_events_per_minute_sample = reward_events_per_minute[(i, i + num_noises, i + 2*num_noises),:]\n",
    "\n",
    "reward_events_per_minute_sample_norm = reward_events_per_minute_sample - reward_events_per_minute_sample[0,:]\n",
    "\n",
    "plt.plot(time_vec, reward_events_per_minute_sample_norm.T)\n",
    "plt.ylabel('# of rewards per minute')\n",
    "plt.title('Relative reward rate')\n",
    "plt.xlabel('Time (s)')\n",
    "plt.legend(['Full set', 'Noise feature removed', 'Constant subset'])"
   ]
  },
  {
   "cell_type": "code",
   "execution_count": null,
   "metadata": {
    "ExecuteTime": {
     "end_time": "2021-06-23T11:52:09.934910Z",
     "start_time": "2021-06-23T11:51:23.511Z"
    }
   },
   "outputs": [],
   "source": [
    "exp = exps[1]\n",
    "importlib.reload(behaviour_metrics)\n",
    "from behaviour_metrics import generate_event_array, moving_sum, calc_moving_event_rate\n",
    "\n",
    "reward_array_sum =  calc_moving_event_rate(exps[2].state_log, 'reward',120)\n",
    "reward_array_sum_1 =  calc_moving_event_rate(exps[2 + 1 * num_noises].state_log, 'reward', 120)\n",
    "\n",
    "\n",
    "plt.plot(reward_array_sum)\n",
    "plt.plot(reward_array_sum_1 - reward_array_sum[:64771])"
   ]
  },
  {
   "cell_type": "code",
   "execution_count": null,
   "metadata": {
    "ExecuteTime": {
     "end_time": "2021-06-23T11:52:09.935334Z",
     "start_time": "2021-06-23T11:51:23.513Z"
    }
   },
   "outputs": [],
   "source": [
    "trial_dicts_all = []\n",
    "dict_keys = ['cursor', #behaviour\n",
    "             'ctrl_input', 'spike_counts', #encoder translates intended ctrl into spike counts\n",
    "             'decoder_state']\n",
    "\n",
    "\n",
    "for i in range(NUM_EXP):\n",
    "    \n",
    "    segmented_trials = behaviour_metrics.segment_trials_in_state_log(exps[i].state_log)\n",
    "\n",
    "    task_data_hist_np = task_data_hist_np_all[i]\n",
    "    trial_dict_0 = behaviour_metrics.sort_trials_use_segmented_log(segmented_trials, \n",
    "                               target_seq,\n",
    "                               task_data_hist_np, dict_keys)\n",
    "    \n",
    "    trial_dicts_all.append(trial_dict_0)\n",
    "\n",
    "for t in trial_dicts_all: print(len(t))"
   ]
  },
  {
   "cell_type": "markdown",
   "metadata": {},
   "source": [
    "## Trajectory analysis"
   ]
  },
  {
   "cell_type": "code",
   "execution_count": null,
   "metadata": {
    "ExecuteTime": {
     "end_time": "2021-06-23T11:52:09.935801Z",
     "start_time": "2021-06-23T11:51:23.515Z"
    }
   },
   "outputs": [],
   "source": [
    "figure_trajectory, axes_trajectory = plt.subplots(3, num_noises, figsize = (num_noises* GLOBAL_FIGURE_VERTICAL_SIZE, \n",
    "                                                  3  * GLOBAL_FIGURE_VERTICAL_SIZE)) \n",
    "\n",
    "\n",
    "n_roi_trials = 60\n",
    "\n",
    "\n",
    "CIRCLE_RADIUS = exps[0].target_radius\n",
    "\n",
    "print(CIRCLE_RADIUS)\n",
    "\n",
    "for i  in range(num_noises): \n",
    "\n",
    "    afs_plotting.add_center_out_grid(axes_trajectory[0,i], target_seq, CIRCLE_RADIUS)\n",
    "    \n",
    "    \n",
    "    sample_trial = trial_dicts_all[i][n_roi_trials]\n",
    "    trial_cursor_trajectory = sample_trial['cursor']\n",
    "    \n",
    "    afs_plotting.plot_trial_trajectory(axes_trajectory[0,i], trial_cursor_trajectory)\n",
    "    axes_trajectory[0,i].set_title(percent_high_SNR_noises_labels[i])\n",
    "    \n",
    "    afs_plotting.add_center_out_grid(axes_trajectory[1,i], target_seq, CIRCLE_RADIUS)\n",
    "    sample_trial = trial_dicts_all[i + num_noises][n_roi_trials]\n",
    "    trial_cursor_trajectory = sample_trial['cursor']\n",
    "    \n",
    "    afs_plotting.plot_trial_trajectory(axes_trajectory[1,i], trial_cursor_trajectory)\n",
    "    \n",
    "    \n",
    "    afs_plotting.add_center_out_grid(axes_trajectory[2,i], target_seq, CIRCLE_RADIUS)\n",
    "    sample_trial = trial_dicts_all[i + 2 * num_noises][n_roi_trials]\n",
    "    trial_cursor_trajectory = sample_trial['cursor']\n",
    "    \n",
    "    afs_plotting.plot_trial_trajectory(axes_trajectory[2,i], trial_cursor_trajectory)\n",
    "\n",
    "    #axes.set_title(f'Noise Ratio of {percent_high_SNR_noises_labels[i]} ')\n",
    "\n",
    "figure_trajectory.tight_layout"
   ]
  },
  {
   "cell_type": "markdown",
   "metadata": {},
   "source": [
    "to make this point, \n",
    "we should be lo"
   ]
  },
  {
   "cell_type": "code",
   "execution_count": null,
   "metadata": {
    "ExecuteTime": {
     "end_time": "2021-06-23T11:52:09.936228Z",
     "start_time": "2021-06-23T11:51:23.517Z"
    }
   },
   "outputs": [],
   "source": [
    "len(trial_dicts_all)"
   ]
  },
  {
   "cell_type": "code",
   "execution_count": null,
   "metadata": {
    "ExecuteTime": {
     "end_time": "2021-06-23T11:52:09.936652Z",
     "start_time": "2021-06-23T11:51:23.520Z"
    },
    "scrolled": true
   },
   "outputs": [],
   "source": [
    "print('finished trials:')\n",
    "\n",
    "for i,e in  enumerate(exps): \n",
    "    reward_num = e.calc_state_occurrences('reward')\n",
    "    print(f'{exp_conds[i]}: {reward_num} out of {N_TRIALS}')"
   ]
  },
  {
   "cell_type": "markdown",
   "metadata": {},
   "source": [
    "## encoder\n",
    "\n",
    "the job of the encoder is to directly encode intention into firing rates\n",
    "the direct measure is just pearson correlation coefficients between \n",
    "the intentions and the firing rates"
   ]
  },
  {
   "cell_type": "markdown",
   "metadata": {},
   "source": [
    "## decoder"
   ]
  },
  {
   "cell_type": "code",
   "execution_count": null,
   "metadata": {
    "ExecuteTime": {
     "end_time": "2021-06-23T11:52:09.937202Z",
     "start_time": "2021-06-23T11:51:23.523Z"
    },
    "scrolled": true
   },
   "outputs": [],
   "source": [
    "from afs_plotting import plot_prefered_directions\n",
    "\n",
    "TEXT_OFFSET_VERTICAL = -0.2\n",
    "\n",
    "\n",
    "figure_decoder_C.suptitle('KF C matrix before and after CLDA')\n",
    "\n",
    "print('steady state tuning curves:')\n",
    "\n",
    "for  i,e in enumerate(exps): \n",
    "\n",
    "    e = exps[i]\n",
    "    C = e.decoder.filt.C\n",
    "\n",
    "    plot_prefered_directions(C, ax = axs_decoder_C[1,i])\n",
    "    axs_decoder_C[1,i].set_title(percent_high_SNR_noises_labels[i % num_noises])\n",
    "\n",
    "figure_decoder_C"
   ]
  },
  {
   "cell_type": "code",
   "execution_count": null,
   "metadata": {
    "ExecuteTime": {
     "end_time": "2021-06-23T11:52:09.937677Z",
     "start_time": "2021-06-23T11:51:23.526Z"
    }
   },
   "outputs": [],
   "source": [
    "figure_KF_C, axes_KF_C = plt.subplots(3, num_noises, figsize = (num_noises* GLOBAL_FIGURE_VERTICAL_SIZE, \n",
    "                                                  3  * GLOBAL_FIGURE_VERTICAL_SIZE)) \n",
    "\n",
    "\n",
    "for i in range(num_noises):\n",
    "    e = exps[i]\n",
    "    C = e.decoder.filt.C\n",
    "\n",
    "    plot_prefered_directions(C, ax = axes_KF_C[0,i])\n",
    "    axes_KF_C[0,i].set_title(f'{percent_high_SNR_noises_labels[i]}')\n",
    "    \n",
    "    e = exps[i + num_noises]\n",
    "    C = e.decoder.filt.C\n",
    "\n",
    "    plot_prefered_directions(C, ax = axes_KF_C[1,i])\n",
    "    axs_decoder_C[1,i].set_title(f'{percent_high_SNR_noises_labels[i]}')\n",
    "    \n",
    "    e = exps[i + 2 * num_noises]\n",
    "    C = e.decoder.filt.C\n",
    "\n",
    "    plot_prefered_directions(C, ax = axes_KF_C[2,i])\n",
    "    axs_decoder_C[1,i].set_title(f'{percent_high_SNR_noises_labels[i]}')\n",
    "    \n",
    "    "
   ]
  },
  {
   "cell_type": "code",
   "execution_count": null,
   "metadata": {},
   "outputs": [],
   "source": []
  },
  {
   "cell_type": "markdown",
   "metadata": {},
   "source": [
    "## Compare to the decoder"
   ]
  },
  {
   "cell_type": "code",
   "execution_count": null,
   "metadata": {
    "ExecuteTime": {
     "end_time": "2021-06-23T11:52:09.938118Z",
     "start_time": "2021-06-23T11:51:23.530Z"
    }
   },
   "outputs": [],
   "source": [
    "import matplotlib.cm as cm\n",
    "\n",
    "import convergence_analysis\n",
    "importlib.reload(convergence_analysis)\n",
    "from convergence_analysis import calc_cosine_sim_bet_two_matrices, calc_cosine_to_target_matrix\n",
    "\n",
    "\n",
    "figure_C, axes_C = plt.subplots(2,num_noises, figsize = (num_noises * GLOBAL_FIGURE_VERTICAL_SIZE, \n",
    "                                               2*GLOBAL_FIGURE_VERTICAL_SIZE),\n",
    "                               sharey = True)\n",
    "\n",
    "time_vec = np.arange(0, total_exp_time + 1, batch_size * 0.1, ) \n",
    "\n",
    "\n",
    "cmap = get_cmap(num_noises)\n",
    "\n",
    "for i in range(num_noises):\n",
    "    \n",
    "    e = exps[i]\n",
    "    enc_directions = e.encoder.C\n",
    "    dec_directions = np.array(e._used_C_mat_list)\n",
    "    angles_hist = calc_cosine_to_target_matrix( dec_directions,enc_directions)\n",
    "    active_angles = np.mean(angles_hist[:, with_noise_neuron_list], axis = 1)\n",
    "    axes_C[0,i].plot(time_vec, active_angles, color = 'b')\n",
    "    active_angles = np.mean(angles_hist[:, no_noise_neuron_list], axis = 1)\n",
    "    axes_C[1,i].plot(time_vec, active_angles, color = 'b')\n",
    "    \n",
    "    axes_C[0,i].set_title(f'Rel. noise ratio {percent_high_SNR_noises_labels[i]}')\n",
    "    \n",
    "    \n",
    "    e = exps[i + num_noises]\n",
    "    enc_directions = e.encoder.C\n",
    "    dec_directions = np.array(e._used_C_mat_list)\n",
    "    \n",
    "    angles_hist = calc_cosine_to_target_matrix( dec_directions,enc_directions)\n",
    "    active_angles = np.mean(angles_hist[:, with_noise_neuron_list], axis = 1)\n",
    "    axes_C[0,i].plot(time_vec, active_angles, color = 'y')\n",
    "    active_angles = np.mean(angles_hist[:, no_noise_neuron_list], axis = 1)\n",
    "    axes_C[1,i].plot(time_vec, active_angles, color = 'y')\n",
    "    \n",
    "    e = exps[i + 2 * num_noises]\n",
    "    enc_directions = e.encoder.C\n",
    "    dec_directions = np.array(e._used_C_mat_list)\n",
    "    \n",
    "    angles_hist = calc_cosine_to_target_matrix( dec_directions,enc_directions)\n",
    "    active_angles = np.mean(angles_hist[:, with_noise_neuron_list], axis = 1)\n",
    "    axes_C[0,i].plot(time_vec, active_angles, color = 'r')\n",
    "    active_angles = np.mean(angles_hist[:, no_noise_neuron_list], axis = 1)\n",
    "    axes_C[1,i].plot(time_vec, active_angles, color = 'r')\n",
    "\n",
    "    \n",
    "axes_C[0,0].set_ylabel('Angle (deg)')\n",
    "axes_C[1,0].set_ylabel('Angle (deg)')\n",
    "\n"
   ]
  },
  {
   "cell_type": "markdown",
   "metadata": {},
   "source": [
    "# looking at K matrix"
   ]
  },
  {
   "cell_type": "markdown",
   "metadata": {
    "ExecuteTime": {
     "end_time": "2021-06-03T22:53:28.553975Z",
     "start_time": "2021-06-03T22:53:28.548543Z"
    }
   },
   "source": [
    " $K_i^T = \\begin{bmatrix} P_{ix} & P_{iy} & V_{ix} & V_{iy} \\end{bmatrix}$\n",
    "\n"
   ]
  },
  {
   "cell_type": "code",
   "execution_count": null,
   "metadata": {
    "ExecuteTime": {
     "end_time": "2021-06-23T11:52:09.938577Z",
     "start_time": "2021-06-23T11:51:23.533Z"
    }
   },
   "outputs": [],
   "source": [
    "figure_k_matrix, axes_k_matrix = plt.subplots(num_noises, 3,\n",
    "                                          figsize = (GLOBAL_FIGURE_VERTICAL_SIZE * 3,\n",
    "                                                    GLOBAL_FIGURE_VERTICAL_SIZE * num_noises),\n",
    "                                             sharey = True, sharex = True)\n",
    "\n",
    "for i in range(num_noises):\n",
    "    \n",
    "    K = exps[i].k_mat_params[-1].T\n",
    "    plot_prefered_directions(K, ax  = axes_k_matrix[i, 0])\n",
    "    axes_k_matrix[i, 0].set_title(percent_high_SNR_noises_labels[i])\n",
    "    \n",
    "    K = exps[i + num_noises].k_mat_params[-1].T\n",
    "    plot_prefered_directions(K, ax  = axes_k_matrix[i, 1])\n",
    "    axes_k_matrix[i, 1].set_title(percent_high_SNR_noises_labels[i])\n",
    "    \n",
    "    K = exps[i + 2 * num_noises].k_mat_params[-1].T\n",
    "    plot_prefered_directions(K, ax  = axes_k_matrix[i, 2])\n",
    "    axes_k_matrix[i,2].set_title(percent_high_SNR_noises_labels[i])\n",
    "    \n",
    "figure_k_matrix.tight_layout()"
   ]
  },
  {
   "cell_type": "code",
   "execution_count": null,
   "metadata": {
    "ExecuteTime": {
     "end_time": "2021-06-23T11:52:09.939046Z",
     "start_time": "2021-06-23T11:51:23.535Z"
    }
   },
   "outputs": [],
   "source": [
    "figure_encoder, axes_encoder = plt.subplots(1,2, figsize = (GLOBAL_FIGURE_VERTICAL_SIZE * 2,\n",
    "                                                    GLOBAL_FIGURE_VERTICAL_SIZE))\n",
    "\n",
    "def update_xlabels(ax):\n",
    "    xlabels = [format(label, ',.0f') for label in ax.get_xticks()]\n",
    "    ax.set_xticklabels(xlabels)\n",
    "\n",
    "K = exps[i].k_mat_params[10].T / np.max(K)\n",
    "plot_prefered_directions(K, ax = axes_encoder[0])\n",
    "axes_encoder[0].set_title('Initial rand. directions')\n",
    "\n",
    "\n",
    "e = exps[0]\n",
    "C = e.encoder.C / np.max(C)\n",
    "plot_prefered_directions(C, ax = axes_encoder[1])\n",
    "axes_encoder[1].set_title('Encoder directions')"
   ]
  },
  {
   "cell_type": "code",
   "execution_count": null,
   "metadata": {
    "ExecuteTime": {
     "end_time": "2021-06-23T11:52:09.939480Z",
     "start_time": "2021-06-23T11:51:23.536Z"
    }
   },
   "outputs": [],
   "source": [
    "figure_k_matrix_example, axes_k_matrix_example = plt.subplots(1, 3,\n",
    "                                          figsize = (GLOBAL_FIGURE_VERTICAL_SIZE * 3,\n",
    "                                                    GLOBAL_FIGURE_VERTICAL_SIZE),\n",
    "                                             sharey = True)\n",
    "\n",
    "i = exp_index = 2\n",
    "\n",
    "K = exps[i].k_mat_params[-1].T\n",
    "plot_prefered_directions(K, ax  = axes_k_matrix_example[0])\n",
    "axes_k_matrix_example[0].set_title('Full feature set')\n",
    "\n",
    "K = exps[exp_index + num_noises].k_mat_params[-1].T\n",
    "plot_prefered_directions(K, ax  = axes_k_matrix_example[1])\n",
    "axes_k_matrix_example[ 1].set_title('Noise feature removed')\n",
    "\n",
    "K = exps[i + 2 * num_noises].k_mat_params[-1].T\n",
    "plot_prefered_directions(K, ax  = axes_k_matrix_example[2])\n",
    "axes_k_matrix_example[2].set_title('Consistent subset')\n"
   ]
  },
  {
   "cell_type": "code",
   "execution_count": null,
   "metadata": {
    "ExecuteTime": {
     "end_time": "2021-06-23T11:52:09.939919Z",
     "start_time": "2021-06-23T11:51:23.538Z"
    }
   },
   "outputs": [],
   "source": [
    "figure_k_matrix_example, axes_k_matrix_example = plt.subplots(1, 2,\n",
    "                                          figsize = (GLOBAL_FIGURE_VERTICAL_SIZE * 2,\n",
    "                                                    GLOBAL_FIGURE_VERTICAL_SIZE),\n",
    "                                             sharey = True)\n",
    "\n",
    "i = exp_index = 2\n",
    "\n",
    "K = exps[i].k_mat_params[-1].T\n",
    "K_rotate = K[24:,:]\n",
    "plot_prefered_directions(K_rotate, ax  = axes_k_matrix_example[0])\n",
    "K_rotate = K[:24,:]\n",
    "plot_prefered_directions(K_rotate, ax  = axes_k_matrix_example[0])\n",
    "axes_k_matrix_example[0].set_title('Full feature set')\n",
    "\n",
    "\n",
    "#then plot the noise feature removed\n",
    "K = exps[exp_index + num_noises].k_mat_params[-1].T\n",
    "K_rotate = K[24:,:]\n",
    "plot_prefered_directions(K_rotate, ax  = axes_k_matrix_example[1])\n",
    "K_rotate = K[:24,:]\n",
    "plot_prefered_directions(K_rotate, ax  = axes_k_matrix_example[1])\n",
    "axes_k_matrix_example[ 1].set_title('Noise features removed')\n",
    "\n"
   ]
  },
  {
   "cell_type": "markdown",
   "metadata": {},
   "source": [
    "# Feature analysis"
   ]
  },
  {
   "cell_type": "code",
   "execution_count": null,
   "metadata": {
    "ExecuteTime": {
     "end_time": "2021-06-23T11:52:09.940814Z",
     "start_time": "2021-06-23T11:51:23.542Z"
    },
    "scrolled": true
   },
   "outputs": [],
   "source": [
    "from matplotlib import colors\n",
    "\n",
    "\n",
    "\n",
    "fig_feature_active_map, axes_feat_active_map = plt.subplots(1, NUM_EXP,\n",
    "                                                            figsize = ( NUM_EXP* GLOBAL_FIGURE_VERTICAL_SIZE,\n",
    "                                                                      GLOBAL_FIGURE_VERTICAL_SIZE),\n",
    "                                                           )\n",
    "axes_feat_active_map[0].set_ylabel('Learner Batch number')\n",
    "\n",
    "#color true to yellow\n",
    "cmap = colors.ListedColormap(['yellow'])\n",
    "\n",
    "for i, exp in enumerate(exps):\n",
    "\n",
    "    active_feat_heat_map = np.array(exp._active_feat_set_list, dtype = np.int32)\n",
    "    \n",
    "    #https://stackoverflow.com/questions/40985961/matplotlib-how-to-change-data-point-color-based-on-its-boolean-value-consisten\n",
    "    active_feat_heat_map = np.ma.masked_where(active_feat_heat_map == False, active_feat_heat_map)\n",
    "    \n",
    "    a = axes_feat_active_map[i].imshow(active_feat_heat_map.T, cmap = cmap)\n",
    "    axes_feat_active_map[i].grid(False)\n",
    "    #color false to blue\n",
    "    cmap.set_bad(color='blue')\n",
    "    \n",
    "    \n",
    "    axes_feat_active_map[i].set_ylabel('Features')\n",
    "    axes_feat_active_map[i].set_xlabel('Feature update count')\n",
    "\n",
    "\n",
    "\n",
    "#fig_feature_active_map.colorbar(a, ax=axes_feat_active_map.ravel().tolist())"
   ]
  },
  {
   "cell_type": "code",
   "execution_count": null,
   "metadata": {
    "ExecuteTime": {
     "end_time": "2021-06-23T11:52:09.941259Z",
     "start_time": "2021-06-23T11:51:23.544Z"
    }
   },
   "outputs": [],
   "source": [
    "fig_feature_active_map_example, axes_feat_active_map_example = plt.subplots(1, 1,\n",
    "                                                            figsize = ( GLOBAL_FIGURE_VERTICAL_SIZE,\n",
    "                                                                      GLOBAL_FIGURE_VERTICAL_SIZE),\n",
    "                                                           )\n",
    "axes_feat_active_map[0].set_ylabel('Learner Batch number')\n",
    "\n",
    "#color true to yellow\n",
    "cmap = colors.ListedColormap(['yellow'])\n",
    "\n",
    "i = 0\n",
    "exp =  exps[i]\n",
    "\n",
    "active_feat_heat_map = np.array(exp._active_feat_set_list, dtype = np.int32)\n",
    "\n",
    "#https://stackoverflow.com/questions/40985961/matplotlib-how-to-change-data-point-color-based-on-its-boolean-value-consisten\n",
    "active_feat_heat_map = np.ma.masked_where(active_feat_heat_map == False, active_feat_heat_map)\n",
    "\n",
    "a = axes_feat_active_map_example.imshow(active_feat_heat_map.T, cmap = cmap)\n",
    "axes_feat_active_map[i].grid(False)\n",
    "#color false to blue\n",
    "cmap.set_bad(color='blue')\n",
    "\n",
    "axes_feat_active_map_example.set_ylabel('Features')\n",
    "axes_feat_active_map_example.set_xlabel('Feature update count')\n",
    "axes_feat_active_map_example.set_title('Full feature set')\n"
   ]
  },
  {
   "cell_type": "code",
   "execution_count": null,
   "metadata": {
    "ExecuteTime": {
     "end_time": "2021-06-23T11:52:09.941715Z",
     "start_time": "2021-06-23T11:51:23.546Z"
    }
   },
   "outputs": [],
   "source": [
    "fig_feature_active_map_example, axes_feat_active_map_example = plt.subplots(1, 1,\n",
    "                                                            figsize = ( GLOBAL_FIGURE_VERTICAL_SIZE,\n",
    "                                                                      GLOBAL_FIGURE_VERTICAL_SIZE),\n",
    "                                                           )\n",
    "axes_feat_active_map[0].set_ylabel('Learner Batch number')\n",
    "\n",
    "#color true to yellow\n",
    "cmap = colors.ListedColormap(['yellow'])\n",
    "\n",
    "i = -1\n",
    "exp =  exps[i]\n",
    "\n",
    "active_feat_heat_map = np.array(exp._active_feat_set_list, dtype = np.int32)\n",
    "\n",
    "#https://stackoverflow.com/questions/40985961/matplotlib-how-to-change-data-point-color-based-on-its-boolean-value-consisten\n",
    "active_feat_heat_map = np.ma.masked_where(active_feat_heat_map == False, active_feat_heat_map)\n",
    "\n",
    "a = axes_feat_active_map_example.imshow(active_feat_heat_map.T, cmap = cmap)\n",
    "axes_feat_active_map_example.grid(False)\n",
    "#color false to blue\n",
    "cmap.set_bad(color='blue')\n",
    "\n",
    "axes_feat_active_map_example.set_ylabel('Features')\n",
    "axes_feat_active_map_example.set_xlabel('Feature update count')\n",
    "axes_feat_active_map_example.set_title('Consistent high SNR subset')"
   ]
  },
  {
   "cell_type": "code",
   "execution_count": null,
   "metadata": {
    "ExecuteTime": {
     "end_time": "2021-06-23T11:52:09.942205Z",
     "start_time": "2021-06-23T11:51:23.548Z"
    }
   },
   "outputs": [],
   "source": [
    "fig_feature_active_map_example, axes_feat_active_map_example = plt.subplots(1, 1,\n",
    "                                                            figsize = ( GLOBAL_FIGURE_VERTICAL_SIZE,\n",
    "                                                                      GLOBAL_FIGURE_VERTICAL_SIZE),\n",
    "                                                           )\n",
    "axes_feat_active_map[0].set_ylabel('Learner Batch number')\n",
    "\n",
    "#color true to yellow\n",
    "cmap = colors.ListedColormap(['yellow'])\n",
    "\n",
    "i = num_noises\n",
    "exp =  exps[i]\n",
    "\n",
    "active_feat_heat_map = np.array(exp._active_feat_set_list, dtype = np.int32)\n",
    "\n",
    "#https://stackoverflow.com/questions/40985961/matplotlib-how-to-change-data-point-color-based-on-its-boolean-value-consisten\n",
    "active_feat_heat_map = np.ma.masked_where(active_feat_heat_map == False, active_feat_heat_map)\n",
    "\n",
    "a = axes_feat_active_map_example.imshow(active_feat_heat_map.T, cmap = cmap)\n",
    "axes_feat_active_map_example.grid(False)\n",
    "#color false to blue\n",
    "cmap.set_bad(color='blue')\n",
    "\n",
    "axes_feat_active_map_example.set_ylabel('Features')\n",
    "axes_feat_active_map_example.set_xlabel('Feature update count')\n",
    "axes_feat_active_map_example.set_title('Feature pruning')"
   ]
  },
  {
   "cell_type": "code",
   "execution_count": null,
   "metadata": {
    "ExecuteTime": {
     "end_time": "2021-06-23T11:52:09.942628Z",
     "start_time": "2021-06-23T11:51:23.549Z"
    }
   },
   "outputs": [],
   "source": [
    "active_feat_heat_map[-1]"
   ]
  },
  {
   "cell_type": "markdown",
   "metadata": {},
   "source": [
    "## Examine used K mat"
   ]
  },
  {
   "cell_type": "code",
   "execution_count": null,
   "metadata": {
    "ExecuteTime": {
     "end_time": "2021-06-23T11:52:09.943247Z",
     "start_time": "2021-06-23T11:51:23.552Z"
    }
   },
   "outputs": [],
   "source": [
    "fig_Q, axes_Q = plt.subplots(1,2, sharey = True)\n",
    "\n",
    "cmap_q = get_cmap(num_noises)\n",
    "cmap_q_1 = get_cmap(num_noises, mpl.cm.Oranges)\n",
    "cmap_q_2 = get_cmap(num_noises, mpl.cm.Reds)\n",
    "\n",
    "for i in range(num_noises):\n",
    "    exp = exps[i]\n",
    "    Q_list = np.array(exp._used_Q_diag_list)\n",
    "\n",
    "    Q_diag_no_noise = np.mean(Q_list[:, no_noise_neuron_list], axis = 1)\n",
    "    Q_diag_noise = np.mean(Q_list[:, with_noise_neuron_list], axis = 1)\n",
    "    \n",
    "    axes_Q[0].plot(Q_diag_noise, c = cmap_q.to_rgba(i))\n",
    "    axes_Q[1].plot(Q_diag_no_noise, c = cmap_q.to_rgba(i))\n",
    "    \n",
    "    \n",
    "    exp = exps[i+num_noises]\n",
    "    Q_list = np.array(exp._used_Q_diag_list)\n",
    "\n",
    "    Q_diag_no_noise = np.mean(Q_list[:, no_noise_neuron_list], axis = 1)\n",
    "    Q_diag_noise = np.mean(Q_list[:, with_noise_neuron_list], axis = 1)\n",
    "    \n",
    "    axes_Q[0].plot(Q_diag_noise, c = cmap_q_1.to_rgba(i))\n",
    "    axes_Q[1].plot(Q_diag_no_noise, c = cmap_q_1.to_rgba(i))\n",
    "    \n",
    "    exp = exps[i+2*num_noises]\n",
    "    Q_list = np.array(exp._used_Q_diag_list)\n",
    "\n",
    "    Q_diag_no_noise = np.mean(Q_list[:, no_noise_neuron_list], axis = 1)\n",
    "    Q_diag_noise = np.mean(Q_list[:, with_noise_neuron_list], axis = 1)\n",
    "    \n",
    "    axes_Q[0].plot(Q_diag_noise, c = cmap_q_2.to_rgba(i))\n",
    "    axes_Q[1].plot(Q_diag_no_noise, c = cmap_q_2.to_rgba(i))\n",
    "    \n",
    "    \n",
    "\n",
    "axes_Q[0].set_xlabel('Time (s)')\n",
    "axes_Q[1].set_xlabel('Time (s)')\n",
    "\n",
    "axes_Q[0].set_title('Low SNR neurons')\n",
    "axes_Q[1].set_title('High SNR neurons')"
   ]
  },
  {
   "cell_type": "code",
   "execution_count": null,
   "metadata": {
    "ExecuteTime": {
     "end_time": "2021-06-23T11:52:09.943658Z",
     "start_time": "2021-06-23T11:51:23.554Z"
    }
   },
   "outputs": [],
   "source": [
    "figure_k_matrix, axes_k_matrix = plt.subplots(1,NUM_EXP,\n",
    "                                          figsize = (GLOBAL_FIGURE_VERTICAL_SIZE * NUM_EXP,\n",
    "                                                    GLOBAL_FIGURE_VERTICAL_SIZE))\n",
    "\n",
    "\n",
    "\n",
    "for i,e in enumerate(exps):\n",
    "    K = (e._used_K_mat_list[5]).T\n",
    "    print(K)\n",
    "\n",
    "    plot_prefered_directions(K, ax  = axes_k_matrix[i])\n",
    "    axes_k_matrix[i].set_title(exp_conds[i])\n",
    "    \n"
   ]
  },
  {
   "cell_type": "markdown",
   "metadata": {},
   "source": [
    "## examine used C mat"
   ]
  },
  {
   "cell_type": "code",
   "execution_count": null,
   "metadata": {
    "ExecuteTime": {
     "end_time": "2021-06-23T11:52:09.944090Z",
     "start_time": "2021-06-23T11:51:23.556Z"
    }
   },
   "outputs": [],
   "source": [
    "updated_C_mat = np.array(exp._used_C_mat_list)"
   ]
  },
  {
   "cell_type": "code",
   "execution_count": null,
   "metadata": {
    "ExecuteTime": {
     "end_time": "2021-06-23T11:52:09.944529Z",
     "start_time": "2021-06-23T11:51:23.559Z"
    }
   },
   "outputs": [],
   "source": [
    "updated_C_mat.shape"
   ]
  },
  {
   "cell_type": "code",
   "execution_count": null,
   "metadata": {
    "ExecuteTime": {
     "end_time": "2021-06-23T11:52:09.944994Z",
     "start_time": "2021-06-23T11:51:23.561Z"
    }
   },
   "outputs": [],
   "source": [
    "from weights_linear_regression import calc_a_history_of_matrix_L2norms_along_first_axis\n",
    "\n",
    "\n",
    "figure_weights_norm, axes_weights_norm = plt.subplots( NUM_EXP, N_TYPES_OF_NEURONS,\n",
    "    figsize = (N_TYPES_OF_NEURONS * GLOBAL_FIGURE_VERTICAL_SIZE, NUM_EXP * GLOBAL_FIGURE_VERTICAL_SIZE))\n",
    "\n",
    "C_mat_all = list()\n",
    "\n",
    "for j,exp in enumerate(exps):\n",
    "    \n",
    "    updated_C_mat = np.array(exp._used_C_mat_list)\n",
    "    the_history_of_KF_weights_in_time_by_neurons = calc_a_history_of_matrix_L2norms_along_first_axis(updated_C_mat, \n",
    "                                                                        indices_to_sum=(X_VEL_STATE_IND, Y_VEL_STATE_IND))\n",
    "\n",
    "    C_mat_all.append(np.copy(updated_C_mat))\n",
    "    axe_exp = axes_weights_norm[j,:]\n",
    "    for i,a in enumerate(axe_exp):\n",
    "        a.plot(the_history_of_KF_weights_in_time_by_neurons[:, neuron_type_indices_in_a_list[i]])\n",
    "        a.set_xlabel('Batch number')\n",
    "        a.set_ylabel('Weight')\n",
    "        \n",
    "        \n",
    "\n",
    "C_mat_all = np.array(C_mat_all)"
   ]
  },
  {
   "cell_type": "code",
   "execution_count": null,
   "metadata": {
    "ExecuteTime": {
     "end_time": "2021-06-23T11:52:09.945455Z",
     "start_time": "2021-06-23T11:51:23.563Z"
    },
    "scrolled": true
   },
   "outputs": [],
   "source": [
    "fig_compr_means, axes_compr_means = plt.subplots(1, N_TYPES_OF_NEURONS,\n",
    "                                                figsize = (GLOBAL_FIGURE_VERTICAL_SIZE * N_TYPES_OF_NEURONS,\n",
    "                                                          GLOBAL_FIGURE_VERTICAL_SIZE),\n",
    "                                                sharey = True)\n",
    "selected_feature_set = no_noise_neuron_list\n",
    "for i,a in enumerate(axes_compr_means):\n",
    "\n",
    "    type_neuron_list = neuron_type_bool_list[i]\n",
    "    for C in C_mat_all:\n",
    "\n",
    "\n",
    "        the_history_of_KF_weights_in_time_by_neurons = calc_a_history_of_matrix_L2norms_along_first_axis(C, \n",
    "                                                                indices_to_sum=(X_VEL_STATE_IND, Y_VEL_STATE_IND))\n",
    "\n",
    "\n",
    "        selected_neurons = np.logical_and(selected_feature_set, type_neuron_list)\n",
    "\n",
    "        selected_mean = np.mean(the_history_of_KF_weights_in_time_by_neurons[:,selected_neurons], axis = 1)\n",
    "\n",
    "        line = a.plot(selected_mean)\n",
    "        a.legend(exp_conds)\n",
    "        \n",
    "handles, labels = a.get_legend_handles_labels()\n",
    "fig_compr_means.legend(handles, labels, loc='lower center')\n",
    "plt.show()\n",
    "    \n",
    "#axes_compr_means.set_title('Means of the high SNR weight trajectory')"
   ]
  },
  {
   "cell_type": "markdown",
   "metadata": {},
   "source": [
    "## Fit to the begining for non feature selected"
   ]
  },
  {
   "cell_type": "code",
   "execution_count": null,
   "metadata": {
    "ExecuteTime": {
     "end_time": "2021-06-23T11:52:09.945885Z",
     "start_time": "2021-06-23T11:51:23.566Z"
    }
   },
   "outputs": [],
   "source": [
    "kf_C = np.copy(exps[0]._used_C_mat_list)"
   ]
  },
  {
   "cell_type": "code",
   "execution_count": null,
   "metadata": {
    "ExecuteTime": {
     "end_time": "2021-06-23T11:52:09.946475Z",
     "start_time": "2021-06-23T11:51:23.568Z"
    }
   },
   "outputs": [],
   "source": [
    "# now, we can average over the neurons. \n",
    "from weights_linear_regression import calc_a_history_of_matrix_L2norms_along_first_axis\n",
    "\n",
    "the_history_of_KF_weights_in_time_by_neurons = calc_a_history_of_matrix_L2norms_along_first_axis(kf_C, \n",
    "                                                                        indices_to_sum=(X_VEL_STATE_IND, Y_VEL_STATE_IND))\n",
    "\n",
    "figure_weights_norm, axes_weights_norm = plt.subplots( 1, N_TYPES_OF_NEURONS,\n",
    "    figsize = (N_TYPES_OF_NEURONS * GLOBAL_FIGURE_VERTICAL_SIZE, GLOBAL_FIGURE_VERTICAL_SIZE))\n",
    "\n",
    "for i,a in enumerate(axes_weights_norm):\n",
    "    a.plot(the_history_of_KF_weights_in_time_by_neurons[:,\n",
    "                                                        neuron_type_indices_in_a_list[i]])\n",
    "    a.set_xlabel('clda update times')\n",
    "    "
   ]
  },
  {
   "cell_type": "code",
   "execution_count": null,
   "metadata": {
    "ExecuteTime": {
     "end_time": "2021-06-23T11:52:09.946980Z",
     "start_time": "2021-06-23T11:51:23.570Z"
    }
   },
   "outputs": [],
   "source": [
    "min_array = the_history_of_KF_weights_in_time_by_neurons[0,:][np.newaxis,:]\n",
    "print(min_array.shape)\n",
    "\n",
    "normalized_kf_history = the_history_of_KF_weights_in_time_by_neurons - \\\n",
    "np.repeat(min_array, \n",
    "          the_history_of_KF_weights_in_time_by_neurons.shape[0], \n",
    "          axis = 0)\n",
    "\n",
    "\n",
    "the_history_of_KF_weights_in_time_by_neurons = calc_a_history_of_matrix_L2norms_along_first_axis(kf_C, \n",
    "                                                                        indices_to_sum=(X_VEL_STATE_IND, Y_VEL_STATE_IND))\n",
    "\n",
    "figure_weights_norm, axes_weights_norm = plt.subplots( 1, N_TYPES_OF_NEURONS,\n",
    "    figsize = (N_TYPES_OF_NEURONS * GLOBAL_FIGURE_VERTICAL_SIZE, GLOBAL_FIGURE_VERTICAL_SIZE))\n",
    "for i,a in enumerate(axes_weights_norm):\n",
    "    a.plot(normalized_kf_history[:, neuron_type_indices_in_a_list[i]])"
   ]
  },
  {
   "cell_type": "code",
   "execution_count": null,
   "metadata": {
    "ExecuteTime": {
     "end_time": "2021-06-23T11:52:09.947482Z",
     "start_time": "2021-06-23T11:51:23.572Z"
    }
   },
   "outputs": [],
   "source": [
    "from convergence_analysis import ExpFitAnalyzer, calc_flipped_shifted_exponential\n",
    "\n",
    "#calculate this across neurons\n",
    "exp_fit_analyzer = ExpFitAnalyzer()\n",
    "\n",
    "fig_fit, ax_fit = plt.subplots(4,8, figsize = (32,16))\n",
    "\n",
    "unfitted_list = list()\n",
    "fitting_params = list()\n",
    "x_data = np.arange(normalized_kf_history.shape[0])\n",
    "\n",
    "for i,ax in enumerate(ax_fit.flat):\n",
    "    kf_series_temp = normalized_kf_history[:,i]\n",
    "    \n",
    "    try:\n",
    "    \n",
    "        (fitting_param_temp, var) = exp_fit_analyzer.calc_fitting_params(calc_flipped_shifted_exponential, x_data, kf_series_temp)\n",
    "\n",
    "        #plot the fit\n",
    "        exp_fit_analyzer.calc_estimated_y()\n",
    "        exp_fit_analyzer.plot_fitting(ax)\n",
    "        \n",
    "    except:\n",
    "        unfitted_list.append(i)\n",
    "        fitting_param_temp = np.array([0, 0])\n",
    "        \n",
    "    fitting_params.append(fitting_param_temp)\n",
    "    \n",
    "    \n",
    "    "
   ]
  },
  {
   "cell_type": "code",
   "execution_count": null,
   "metadata": {
    "ExecuteTime": {
     "end_time": "2021-06-23T11:52:09.947894Z",
     "start_time": "2021-06-23T11:51:23.574Z"
    }
   },
   "outputs": [],
   "source": [
    "fitting_params_a_wo = np.array(fitting_params)[:,0]\n",
    "\n",
    "fitting_params_a_wo_reshaped = np.reshape(fitting_params_a_wo, (-1,8))\n",
    "\n",
    "\n",
    "plt.boxplot(fitting_params_a_wo_reshaped.T)\n"
   ]
  },
  {
   "cell_type": "code",
   "execution_count": null,
   "metadata": {
    "ExecuteTime": {
     "end_time": "2021-06-23T11:52:09.948325Z",
     "start_time": "2021-06-23T11:51:23.576Z"
    }
   },
   "outputs": [],
   "source": [
    "fitting_params_b_wo = np.array(fitting_params)[:,1]\n",
    "\n",
    "fitting_params_b_wo_reshaped = np.reshape(fitting_params_b_wo, (-1,8))\n",
    "\n",
    "plt.boxplot(fitting_params_b_wo_reshaped.T)\n",
    "plt.ylim([-2,6])"
   ]
  },
  {
   "cell_type": "markdown",
   "metadata": {},
   "source": [
    "## fit to wz feature selection"
   ]
  },
  {
   "cell_type": "code",
   "execution_count": null,
   "metadata": {
    "ExecuteTime": {
     "end_time": "2021-06-23T11:52:09.948790Z",
     "start_time": "2021-06-23T11:51:23.578Z"
    }
   },
   "outputs": [],
   "source": [
    "kf_C = np.copy(exps[1]._used_C_mat_list)"
   ]
  },
  {
   "cell_type": "code",
   "execution_count": null,
   "metadata": {
    "ExecuteTime": {
     "end_time": "2021-06-23T11:52:09.949218Z",
     "start_time": "2021-06-23T11:51:23.581Z"
    },
    "scrolled": true
   },
   "outputs": [],
   "source": [
    "# now, we can average over the neurons. \n",
    "from weights_linear_regression import calc_a_history_of_matrix_L2norms_along_first_axis\n",
    "\n",
    "the_history_of_KF_weights_in_time_by_neurons = calc_a_history_of_matrix_L2norms_along_first_axis(kf_C, \n",
    "                                                                        indices_to_sum=(X_VEL_STATE_IND, Y_VEL_STATE_IND))\n",
    "\n",
    "figure_weights_norm, axes_weights_norm = plt.subplots( 1, N_TYPES_OF_NEURONS,\n",
    "    figsize = (N_TYPES_OF_NEURONS * GLOBAL_FIGURE_VERTICAL_SIZE, GLOBAL_FIGURE_VERTICAL_SIZE))\n",
    "\n",
    "for i,a in enumerate(axes_weights_norm):\n",
    "    a.plot(the_history_of_KF_weights_in_time_by_neurons[:,\n",
    "                                                        neuron_type_indices_in_a_list[i]])"
   ]
  },
  {
   "cell_type": "code",
   "execution_count": null,
   "metadata": {
    "ExecuteTime": {
     "end_time": "2021-06-23T11:52:09.949638Z",
     "start_time": "2021-06-23T11:51:23.583Z"
    },
    "scrolled": true
   },
   "outputs": [],
   "source": [
    "min_array = the_history_of_KF_weights_in_time_by_neurons[0,:][np.newaxis,:]\n",
    "print(min_array.shape)\n",
    "\n",
    "normalized_kf_history = the_history_of_KF_weights_in_time_by_neurons - \\\n",
    "np.repeat(min_array, \n",
    "          the_history_of_KF_weights_in_time_by_neurons.shape[0], \n",
    "          axis = 0)\n",
    "\n",
    "\n",
    "the_history_of_KF_weights_in_time_by_neurons = calc_a_history_of_matrix_L2norms_along_first_axis(kf_C, \n",
    "                                                                        indices_to_sum=(X_VEL_STATE_IND, Y_VEL_STATE_IND))\n",
    "\n",
    "figure_weights_norm, axes_weights_norm = plt.subplots( 1, N_TYPES_OF_NEURONS,\n",
    "    figsize = (N_TYPES_OF_NEURONS * GLOBAL_FIGURE_VERTICAL_SIZE, GLOBAL_FIGURE_VERTICAL_SIZE))\n",
    "for i,a in enumerate(axes_weights_norm):\n",
    "    a.plot(normalized_kf_history[:, neuron_type_indices_in_a_list[i]])"
   ]
  },
  {
   "cell_type": "code",
   "execution_count": null,
   "metadata": {
    "ExecuteTime": {
     "end_time": "2021-06-23T11:52:09.950052Z",
     "start_time": "2021-06-23T11:51:23.584Z"
    }
   },
   "outputs": [],
   "source": [
    "from convergence_analysis import ExpFitAnalyzer, calc_flipped_shifted_exponential\n",
    "\n",
    "#calculate this across neurons\n",
    "exp_fit_analyzer = ExpFitAnalyzer()\n",
    "\n",
    "fig_fit, ax_fit = plt.subplots(4,8, figsize = (32,16))\n",
    "\n",
    "unfitted_list = list()\n",
    "fitting_params = list()\n",
    "x_data = np.arange(normalized_kf_history.shape[0])\n",
    "\n",
    "for i,ax in enumerate(ax_fit.flat):\n",
    "    kf_series_temp = normalized_kf_history[:,i]\n",
    "    \n",
    "    try:\n",
    "    \n",
    "        (fitting_param_temp, var) = exp_fit_analyzer.calc_fitting_params(calc_flipped_shifted_exponential, x_data, kf_series_temp)\n",
    "\n",
    "        #plot the fit\n",
    "        exp_fit_analyzer.calc_estimated_y()\n",
    "        exp_fit_analyzer.plot_fitting(ax)\n",
    "        \n",
    "    except:\n",
    "        unfitted_list.append(i)\n",
    "        fitting_param_temp = np.array([0, 0])\n",
    "        \n",
    "    fitting_params.append(fitting_param_temp)\n",
    "    "
   ]
  },
  {
   "cell_type": "code",
   "execution_count": null,
   "metadata": {
    "ExecuteTime": {
     "end_time": "2021-06-23T11:52:09.950483Z",
     "start_time": "2021-06-23T11:51:23.587Z"
    }
   },
   "outputs": [],
   "source": [
    "fitting_params_a_w = np.array(fitting_params)[:,0]\n",
    "\n",
    "fitting_params_a_w_reshaped = np.reshape(fitting_params_a_w, (-1,8))\n",
    "\n",
    "plt.boxplot(fitting_params_a_w_reshaped.T)\n",
    "plt.ylim([-3,3])"
   ]
  },
  {
   "cell_type": "code",
   "execution_count": null,
   "metadata": {
    "ExecuteTime": {
     "end_time": "2021-06-23T11:52:09.950883Z",
     "start_time": "2021-06-23T11:51:23.589Z"
    },
    "scrolled": true
   },
   "outputs": [],
   "source": [
    "fitting_params_b_w = np.array(fitting_params)[:,1]\n",
    "\n",
    "fitting_params_b_w_reshaped = np.reshape(fitting_params_b_w, (-1,8))\n",
    "\n",
    "plt.boxplot(fitting_params_b_w_reshaped.T)\n",
    "plt.ylim([-5,10])"
   ]
  },
  {
   "cell_type": "code",
   "execution_count": null,
   "metadata": {
    "ExecuteTime": {
     "end_time": "2021-06-23T11:52:09.951351Z",
     "start_time": "2021-06-23T11:51:23.591Z"
    }
   },
   "outputs": [],
   "source": [
    "fitting_params_b_w"
   ]
  },
  {
   "cell_type": "markdown",
   "metadata": {},
   "source": [
    "## Compare only to selected a"
   ]
  },
  {
   "cell_type": "code",
   "execution_count": null,
   "metadata": {
    "ExecuteTime": {
     "end_time": "2021-06-23T11:52:09.951855Z",
     "start_time": "2021-06-23T11:51:23.594Z"
    }
   },
   "outputs": [],
   "source": [
    "fitting_params_b_w"
   ]
  },
  {
   "cell_type": "code",
   "execution_count": null,
   "metadata": {
    "ExecuteTime": {
     "end_time": "2021-06-23T11:52:09.952293Z",
     "start_time": "2021-06-23T11:51:23.596Z"
    }
   },
   "outputs": [],
   "source": [
    "box_plot_list =  list()\n",
    "box_plot_list_b = list()\n",
    "\n",
    "for i in range(N_TYPES_OF_NEURONS):\n",
    "    selected_neurons = np.logical_and(selected_feature_set, neuron_type_bool_list[i])\n",
    "    \n",
    "    box_plot_list.append(fitting_params_a_wo[selected_neurons])\n",
    "    box_plot_list.append(fitting_params_a_w[selected_neurons])\n",
    "    \n",
    "    box_plot_list_b.append(fitting_params_b_wo[selected_neurons])\n",
    "    box_plot_list_b.append(fitting_params_b_w[selected_neurons])\n",
    "\n",
    "    \n",
    "figure_selected_C, axes_selected_C = plt.subplots(1,2, figsize = (2* GLOBAL_FIGURE_VERTICAL_SIZE,\n",
    "                                                                 GLOBAL_FIGURE_VERTICAL_SIZE))\n",
    "    \n",
    "axes_selected_C[0].boxplot(box_plot_list)\n",
    "axes_selected_C[0].set_title('Asymptotic weight a')\n",
    "axes_selected_C[1].boxplot(box_plot_list_b)\n",
    "axes_selected_C[1].set_title('Rate of convergence b')\n",
    "\n",
    "axes_selected_C[1].set_ylim([0,10])"
   ]
  },
  {
   "cell_type": "code",
   "execution_count": null,
   "metadata": {
    "ExecuteTime": {
     "end_time": "2021-06-23T11:52:09.952688Z",
     "start_time": "2021-06-23T11:51:23.598Z"
    }
   },
   "outputs": [],
   "source": [
    "box_plot_list_b"
   ]
  },
  {
   "cell_type": "code",
   "execution_count": null,
   "metadata": {},
   "outputs": [],
   "source": []
  },
  {
   "cell_type": "markdown",
   "metadata": {},
   "source": [
    "## examine Q matrix\n"
   ]
  },
  {
   "cell_type": "code",
   "execution_count": null,
   "metadata": {
    "ExecuteTime": {
     "end_time": "2021-06-23T11:52:09.953096Z",
     "start_time": "2021-06-23T11:51:23.602Z"
    }
   },
   "outputs": [],
   "source": [
    "q_list = np.array(exp._used_Q_diag_list)"
   ]
  },
  {
   "cell_type": "code",
   "execution_count": null,
   "metadata": {
    "ExecuteTime": {
     "end_time": "2021-06-23T11:52:09.953509Z",
     "start_time": "2021-06-23T11:51:23.604Z"
    }
   },
   "outputs": [],
   "source": [
    "sp.Matrix(q_list[46])"
   ]
  }
 ],
 "metadata": {
  "kernelspec": {
   "display_name": "Python 3",
   "language": "python",
   "name": "python3"
  },
  "language_info": {
   "codemirror_mode": {
    "name": "ipython",
    "version": 3
   },
   "file_extension": ".py",
   "mimetype": "text/x-python",
   "name": "python",
   "nbconvert_exporter": "python",
   "pygments_lexer": "ipython3",
   "version": "3.8.5"
  },
  "toc": {
   "base_numbering": 1,
   "nav_menu": {},
   "number_sections": true,
   "sideBar": true,
   "skip_h1_title": false,
   "title_cell": "Table of Contents",
   "title_sidebar": "Contents",
   "toc_cell": false,
   "toc_position": {
    "height": "600.8px",
    "left": "35px",
    "top": "353.8px",
    "width": "376.065px"
   },
   "toc_section_display": true,
   "toc_window_display": true
  },
  "varInspector": {
   "cols": {
    "lenName": 16,
    "lenType": 16,
    "lenVar": 40
   },
   "kernels_config": {
    "python": {
     "delete_cmd_postfix": "",
     "delete_cmd_prefix": "del ",
     "library": "var_list.py",
     "varRefreshCmd": "print(var_dic_list())"
    },
    "r": {
     "delete_cmd_postfix": ") ",
     "delete_cmd_prefix": "rm(",
     "library": "var_list.r",
     "varRefreshCmd": "cat(var_dic_list()) "
    }
   },
   "types_to_exclude": [
    "module",
    "function",
    "builtin_function_or_method",
    "instance",
    "_Feature"
   ],
   "window_display": false
  }
 },
 "nbformat": 4,
 "nbformat_minor": 4
}
