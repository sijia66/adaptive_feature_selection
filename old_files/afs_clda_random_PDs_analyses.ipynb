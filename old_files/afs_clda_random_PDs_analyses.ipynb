{
 "cells": [
  {
   "cell_type": "markdown",
   "metadata": {},
   "source": [
    "# Purpose of this simulation\n"
   ]
  },
  {
   "cell_type": "code",
   "execution_count": 7,
   "metadata": {
    "ExecuteTime": {
     "end_time": "2021-08-25T03:57:57.732433Z",
     "start_time": "2021-08-25T03:57:57.726611Z"
    }
   },
   "outputs": [],
   "source": [
    "import matplotlib.pyplot as plt\n",
    "import numpy as np\n",
    "import tables"
   ]
  },
  {
   "cell_type": "markdown",
   "metadata": {},
   "source": [
    "# ideas"
   ]
  },
  {
   "cell_type": "code",
   "execution_count": 8,
   "metadata": {
    "ExecuteTime": {
     "end_time": "2021-08-25T03:58:00.076974Z",
     "start_time": "2021-08-25T03:58:00.074723Z"
    },
    "scrolled": true
   },
   "outputs": [
    {
     "name": "stdout",
     "output_type": "stream",
     "text": [
      "wo_feature selection\n",
      "w_iter feature selection\n",
      "start with high SNR neurons\n"
     ]
    }
   ],
   "source": [
    "\n",
    "#for comparision\n",
    "exp_conds = ['wo_feature selection', \n",
    "             'w_iter feature selection',\n",
    "            'start with high SNR neurons']\n",
    "\n",
    "for e in exp_conds: print(e)\n"
   ]
  },
  {
   "cell_type": "code",
   "execution_count": 10,
   "metadata": {
    "ExecuteTime": {
     "end_time": "2021-08-25T03:58:33.023495Z",
     "start_time": "2021-08-25T03:58:32.703058Z"
    }
   },
   "outputs": [],
   "source": [
    "import aopy\n",
    "import tables\n",
    "import os\n",
    "\n",
    "exp_data_all = list()\n",
    "exp_data_metadata_all = list()\n",
    "\n",
    "#for comparision\n",
    "exp_conds = ['wo_feature selection', \n",
    "             'w_iter feature selection',\n",
    "            'start with high SNR neurons']\n",
    "\n",
    "\n",
    "data_dump_folder = '/home/sijia-aw/BMi3D_my/operation_funny_chicken/sim_data/'\n",
    "\n",
    "for e in exp_conds:\n",
    "    files = {'hdf':e+'.h5'}\n",
    "    d,m = aopy.preproc.parse_bmi3d(data_dump_folder, files)\n",
    "    \n",
    "    exp_data_all.append(d)\n",
    "    exp_data_metadata_all.append(m)\n",
    "    "
   ]
  },
  {
   "cell_type": "code",
   "execution_count": 11,
   "metadata": {
    "ExecuteTime": {
     "end_time": "2021-08-25T03:58:35.078178Z",
     "start_time": "2021-08-25T03:58:35.069797Z"
    }
   },
   "outputs": [
    {
     "data": {
      "text/plain": [
       "3"
      ]
     },
     "execution_count": 11,
     "metadata": {},
     "output_type": "execute_result"
    }
   ],
   "source": [
    "len(exp_data_all)"
   ]
  },
  {
   "cell_type": "code",
   "execution_count": 12,
   "metadata": {
    "ExecuteTime": {
     "end_time": "2021-08-25T03:58:37.123455Z",
     "start_time": "2021-08-25T03:58:37.118201Z"
    }
   },
   "outputs": [
    {
     "data": {
      "text/plain": [
       "dtype([('kf_C', '<f8', (32, 7)), ('kf_Q', '<f8', (32, 32)), ('kf_C_xpose_Q_inv_C', '<f8', (7, 7)), ('kf_C_xpose_Q_inv', '<f8', (7, 32)), ('mFR', '<f8', (32,)), ('sdFR', '<f8', (32,)), ('rho', '<f8', (1,)), ('intended_kin', '<f8', (7, 100)), ('spike_counts_batch', '<f8', (32, 100))])"
      ]
     },
     "execution_count": 12,
     "metadata": {},
     "output_type": "execute_result"
    }
   ],
   "source": [
    "d['bmi3d_clda'].dtype"
   ]
  },
  {
   "cell_type": "code",
   "execution_count": 13,
   "metadata": {
    "ExecuteTime": {
     "end_time": "2021-08-25T03:58:46.422577Z",
     "start_time": "2021-08-25T03:58:46.414004Z"
    }
   },
   "outputs": [
    {
     "data": {
      "text/plain": [
       "dict_keys(['assist_level', 'assist_level_time', 'cursor_bounds', 'cursor_color', 'cursor_radius', 'delay_penalty_time', 'delay_time', 'fps', 'hold_penalty_time', 'hold_time', 'max_attempts', 'plant_hide_rate', 'plant_type', 'plant_visible', 'reset', 'reward_time', 'session_length', 'starting_pos', 'target_color', 'target_radius', 'timeout_penalty_time', 'timeout_time', 'event_sync_dch', 'event_sync_dict', 'event_sync_max_data', 'event_sync_nidaq_mask', 'reward_measure_ach', 'screen_measure_ach', 'screen_measure_dch', 'screen_sync_dch', 'screen_sync_nidaq_pin', 'sync_protocol', 'sync_protocol_version', 'sync_pulse_width', 'source_dir', 'source_files', 'bmi3d_parser', 'bmi3d_source', 'measure_latency_estimate', 'has_measured_timestamps', 'has_reward_system', 'bmi3d_start_time', 'n_cycles', 'n_trials'])"
      ]
     },
     "execution_count": 13,
     "metadata": {},
     "output_type": "execute_result"
    }
   ],
   "source": [
    "m.keys()"
   ]
  },
  {
   "cell_type": "markdown",
   "metadata": {
    "ExecuteTime": {
     "end_time": "2021-01-25T01:00:26.027506Z",
     "start_time": "2021-01-25T01:00:26.024320Z"
    }
   },
   "source": [
    "# Postprocessing the data for loading"
   ]
  },
  {
   "cell_type": "code",
   "execution_count": null,
   "metadata": {
    "ExecuteTime": {
     "end_time": "2021-08-10T02:09:33.443489Z",
     "start_time": "2021-08-10T02:09:31.456919Z"
    }
   },
   "outputs": [],
   "source": [
    "import os\n",
    "import aopy\n",
    "data_dir = os.getcwd()\n",
    "result_dir = '/home/sijia-aw/BMi3D_my/operation_funny_chicken/sim_data/'\n",
    "\n",
    "files = {\n",
    "    'hdf':'wo_feature selection'\n",
    "}\n",
    "\n",
    "result_filename = 'preprocessed_' + files['hdf']\n",
    "aopy.preproc.proc_exp(data_dir, files, result_dir, result_filename)"
   ]
  },
  {
   "cell_type": "code",
   "execution_count": null,
   "metadata": {
    "ExecuteTime": {
     "end_time": "2021-08-07T01:25:32.488900Z",
     "start_time": "2021-08-07T01:25:32.293054Z"
    },
    "scrolled": true
   },
   "outputs": [],
   "source": [
    "bmi3d_data, bmi3d_metadata = aopy.preproc.parse_bmi3d(data_dir, files)"
   ]
  },
  {
   "cell_type": "code",
   "execution_count": null,
   "metadata": {
    "ExecuteTime": {
     "end_time": "2021-08-07T00:38:42.404557Z",
     "start_time": "2021-08-07T00:38:42.397889Z"
    }
   },
   "outputs": [],
   "source": [
    "import sys\n",
    "sys.getsizeof(bmi3d_data)"
   ]
  },
  {
   "cell_type": "code",
   "execution_count": null,
   "metadata": {
    "ExecuteTime": {
     "end_time": "2021-08-07T01:11:22.163934Z",
     "start_time": "2021-08-07T01:11:22.158603Z"
    }
   },
   "outputs": [],
   "source": [
    "data_dict = dict()\n",
    "data_dict = {\n",
    "    'a':np.zeros((36000,7,7))\n",
    "} "
   ]
  },
  {
   "cell_type": "code",
   "execution_count": null,
   "metadata": {
    "ExecuteTime": {
     "end_time": "2021-08-07T01:11:59.501350Z",
     "start_time": "2021-08-07T01:11:59.486473Z"
    }
   },
   "outputs": [],
   "source": [
    "aopy.preproc.save_hdf(os.getcwd(), 'bmi3d_data_zeros.h5', data_dict, \"/exp_data\", append=False )"
   ]
  },
  {
   "cell_type": "code",
   "execution_count": null,
   "metadata": {
    "ExecuteTime": {
     "end_time": "2021-08-07T00:42:50.686375Z",
     "start_time": "2021-08-07T00:42:50.677950Z"
    }
   },
   "outputs": [],
   "source": [
    "bmi3d_data.keys()"
   ]
  },
  {
   "cell_type": "code",
   "execution_count": null,
   "metadata": {
    "ExecuteTime": {
     "end_time": "2021-08-07T00:48:06.927948Z",
     "start_time": "2021-08-07T00:48:06.916079Z"
    }
   },
   "outputs": [],
   "source": [
    "bmi3d_data['task']"
   ]
  },
  {
   "cell_type": "code",
   "execution_count": null,
   "metadata": {
    "ExecuteTime": {
     "end_time": "2021-08-07T00:58:49.724555Z",
     "start_time": "2021-08-07T00:58:49.720960Z"
    }
   },
   "outputs": [],
   "source": [
    "partial_bmi3d_dict = {\n",
    "    'a': bmi3d_data['task']['pred_state_P']\n",
    "}\n",
    "\n",
    "#74 mb for bmi3d_task\n",
    "#bmi3d_state: 157 kb\n",
    "#bmi3d_clock: 866.5kb\n",
    "#bmi3d_events: 96.2kb\n",
    "#bmi3d_trials:  7kb\n",
    "#task: 74mb\n",
    "#task 7 by 7 matrix 14.1 mbytes"
   ]
  },
  {
   "cell_type": "code",
   "execution_count": null,
   "metadata": {},
   "outputs": [],
   "source": []
  },
  {
   "cell_type": "code",
   "execution_count": null,
   "metadata": {
    "ExecuteTime": {
     "end_time": "2021-08-07T00:58:01.395528Z",
     "start_time": "2021-08-07T00:58:01.381713Z"
    },
    "scrolled": true
   },
   "outputs": [],
   "source": [
    "aopy.preproc.save_hdf(os.getcwd(), 'bmi3d_data_p.h5', partial_bmi3d_dict, \"/exp_data\", append=False )"
   ]
  },
  {
   "cell_type": "code",
   "execution_count": null,
   "metadata": {
    "ExecuteTime": {
     "end_time": "2021-08-07T01:26:01.371233Z",
     "start_time": "2021-08-07T01:26:01.318556Z"
    }
   },
   "outputs": [],
   "source": [
    "FILTERS = tables.Filters(complib='zlib', complevel=5)\n",
    "\n",
    "h5file = tables.open_file(\"earray_zeros_comp.h5\", mode = \"w\", title = \"Test file\")\n",
    "h5file.create_earray('/', 'somename', obj=bmi3d_data['task']['pred_state_P'],filters=FILTERS)\n",
    "    "
   ]
  },
  {
   "cell_type": "code",
   "execution_count": null,
   "metadata": {
    "ExecuteTime": {
     "end_time": "2021-08-07T01:26:46.439247Z",
     "start_time": "2021-08-07T01:26:46.422842Z"
    }
   },
   "outputs": [],
   "source": [
    "\n",
    "\n",
    "h5file = tables.open_file(\"earray_zeros_no_comp.h5\", mode = \"w\", title = \"Test file\")\n",
    "\n",
    "h5file.create_earray('/', 'somename', obj=bmi3d_data['task']['pred_state_P'])"
   ]
  },
  {
   "cell_type": "code",
   "execution_count": null,
   "metadata": {
    "ExecuteTime": {
     "end_time": "2021-08-07T01:21:58.496378Z",
     "start_time": "2021-08-07T01:21:58.483123Z"
    }
   },
   "outputs": [],
   "source": [
    "with tables.open_file(\"wo_feature selection\", mode = \"r\", title = \"Test file\") as f:\n",
    "    print(f)"
   ]
  },
  {
   "cell_type": "code",
   "execution_count": null,
   "metadata": {
    "ExecuteTime": {
     "end_time": "2021-08-07T01:22:00.569318Z",
     "start_time": "2021-08-07T01:22:00.563284Z"
    }
   },
   "outputs": [],
   "source": [
    "with tables.open_file(\"earray_zeros.h5\", mode = \"r\", title = \"Test file\") as f:\n",
    "    print(f)"
   ]
  },
  {
   "cell_type": "code",
   "execution_count": null,
   "metadata": {
    "ExecuteTime": {
     "end_time": "2021-08-07T00:21:47.883105Z",
     "start_time": "2021-08-07T00:21:47.874631Z"
    }
   },
   "outputs": [],
   "source": [
    "bmi3d_data.keys()"
   ]
  },
  {
   "cell_type": "code",
   "execution_count": null,
   "metadata": {
    "ExecuteTime": {
     "end_time": "2021-08-07T00:21:19.912042Z",
     "start_time": "2021-08-07T00:21:19.906626Z"
    }
   },
   "outputs": [],
   "source": [
    "sys.getsizeof(bmi3d_metadata)"
   ]
  },
  {
   "cell_type": "code",
   "execution_count": null,
   "metadata": {
    "ExecuteTime": {
     "end_time": "2021-08-06T22:30:59.904847Z",
     "start_time": "2021-08-06T22:30:59.886303Z"
    }
   },
   "outputs": [],
   "source": [
    "aopy.data.get_hdf_dictionary(result_dir, result_filename, show_tree = True)"
   ]
  },
  {
   "cell_type": "code",
   "execution_count": null,
   "metadata": {
    "ExecuteTime": {
     "end_time": "2021-08-06T22:31:11.863123Z",
     "start_time": "2021-08-06T22:31:11.822462Z"
    }
   },
   "outputs": [],
   "source": [
    "exp_data = aopy.data.load_hdf_group(result_dir, result_filename, 'exp_data')\n",
    "exp_metadata = aopy.data.load_hdf_group(result_dir, result_filename, 'exp_metadata')"
   ]
  },
  {
   "cell_type": "code",
   "execution_count": null,
   "metadata": {
    "ExecuteTime": {
     "end_time": "2021-08-07T00:11:22.740019Z",
     "start_time": "2021-08-07T00:11:22.733049Z"
    }
   },
   "outputs": [],
   "source": [
    "exp_metadata"
   ]
  },
  {
   "cell_type": "code",
   "execution_count": null,
   "metadata": {
    "ExecuteTime": {
     "end_time": "2021-08-06T22:31:13.431087Z",
     "start_time": "2021-08-06T22:31:13.422602Z"
    }
   },
   "outputs": [],
   "source": [
    "exp_data.keys()"
   ]
  },
  {
   "cell_type": "code",
   "execution_count": null,
   "metadata": {
    "ExecuteTime": {
     "end_time": "2021-08-06T22:33:03.978472Z",
     "start_time": "2021-08-06T22:33:03.823100Z"
    }
   },
   "outputs": [],
   "source": [
    "filename = files['hdf']\n",
    "\n",
    "task, task_metadata = aopy.data.load_bmi3d_hdf_table(os.getcwd(), filename, 'task')\n",
    "trials, trials_meta = aopy.data.load_bmi3d_hdf_table(os.getcwd(), filename, 'trials')\n",
    "clock, clock_meta = aopy.data.load_bmi3d_hdf_table(os.getcwd(), filename, 'sync_clock')\n",
    "\n",
    "\n",
    "clock.dtype"
   ]
  },
  {
   "cell_type": "code",
   "execution_count": null,
   "metadata": {
    "ExecuteTime": {
     "end_time": "2021-08-06T22:33:09.349428Z",
     "start_time": "2021-08-06T22:33:09.343157Z"
    }
   },
   "outputs": [],
   "source": [
    "task_metadata"
   ]
  },
  {
   "cell_type": "code",
   "execution_count": null,
   "metadata": {
    "ExecuteTime": {
     "end_time": "2021-08-07T01:13:44.229389Z",
     "start_time": "2021-08-07T01:13:44.224310Z"
    }
   },
   "outputs": [],
   "source": [
    "sys.getsizeof(bmi3d_data['task']['pred_state_P'])\n"
   ]
  },
  {
   "cell_type": "markdown",
   "metadata": {},
   "source": [
    "## declare defs and conventions"
   ]
  },
  {
   "cell_type": "code",
   "execution_count": null,
   "metadata": {
    "ExecuteTime": {
     "end_time": "2021-08-06T20:58:05.420493Z",
     "start_time": "2021-08-06T20:58:05.417118Z"
    }
   },
   "outputs": [],
   "source": [
    "CENTER_TARGET_ON = 16\n",
    "CURSOR_ENTER_CENTER_TARGET = 80\n",
    "CENTER_TARGET_OFF = 32\n",
    "REWARD = 48\n",
    "DELAY_PENALTY = 66\n",
    "TIMEOUT_PENALTY = 65\n",
    "HOLD_PENALTY = 64\n",
    "TRIAL_END = 239"
   ]
  },
  {
   "cell_type": "code",
   "execution_count": null,
   "metadata": {
    "ExecuteTime": {
     "end_time": "2021-08-06T20:58:05.705389Z",
     "start_time": "2021-08-06T20:58:05.421629Z"
    }
   },
   "outputs": [],
   "source": [
    "from feature_selection_feature import *\n"
   ]
  },
  {
   "cell_type": "code",
   "execution_count": null,
   "metadata": {
    "ExecuteTime": {
     "end_time": "2021-08-06T20:58:54.348925Z",
     "start_time": "2021-08-06T20:58:54.339921Z"
    }
   },
   "outputs": [],
   "source": [
    "exp_data['bmi3d_events'].dtype"
   ]
  },
  {
   "cell_type": "code",
   "execution_count": null,
   "metadata": {
    "ExecuteTime": {
     "end_time": "2021-08-06T20:58:56.457022Z",
     "start_time": "2021-08-06T20:58:56.449974Z"
    }
   },
   "outputs": [],
   "source": [
    "clock = exp_data['clock']\n",
    "#print(clock.dtype)\n",
    "events = exp_data['events']\n",
    "print(events.dtype)"
   ]
  },
  {
   "cell_type": "code",
   "execution_count": null,
   "metadata": {
    "ExecuteTime": {
     "end_time": "2021-08-06T20:58:58.074822Z",
     "start_time": "2021-08-06T20:58:58.065917Z"
    }
   },
   "outputs": [],
   "source": [
    "np.count_nonzero(events['event'] == b'TRIAL_END' )"
   ]
  },
  {
   "cell_type": "code",
   "execution_count": null,
   "metadata": {
    "ExecuteTime": {
     "end_time": "2021-08-06T20:59:00.295859Z",
     "start_time": "2021-08-06T20:59:00.290551Z"
    }
   },
   "outputs": [],
   "source": [
    "exp_data.keys()"
   ]
  },
  {
   "cell_type": "code",
   "execution_count": null,
   "metadata": {
    "ExecuteTime": {
     "end_time": "2021-08-06T22:31:29.351131Z",
     "start_time": "2021-08-06T22:31:29.342256Z"
    }
   },
   "outputs": [],
   "source": [
    "exp_data['trials']"
   ]
  },
  {
   "cell_type": "code",
   "execution_count": null,
   "metadata": {
    "ExecuteTime": {
     "end_time": "2021-08-06T20:58:05.767796Z",
     "start_time": "2021-08-06T20:58:05.754665Z"
    }
   },
   "outputs": [],
   "source": [
    "exp_data['bmi3d_task'].shape"
   ]
  },
  {
   "cell_type": "code",
   "execution_count": null,
   "metadata": {
    "ExecuteTime": {
     "end_time": "2021-08-06T20:58:05.779790Z",
     "start_time": "2021-08-06T20:58:05.771566Z"
    }
   },
   "outputs": [],
   "source": [
    "exp_data['bmi3d_task'].dtype"
   ]
  },
  {
   "cell_type": "code",
   "execution_count": null,
   "metadata": {
    "ExecuteTime": {
     "end_time": "2021-08-06T20:58:05.793804Z",
     "start_time": "2021-08-06T20:58:05.783755Z"
    }
   },
   "outputs": [],
   "source": [
    "np.unique(exp_data['bmi3d_task']['trial'])"
   ]
  },
  {
   "cell_type": "code",
   "execution_count": null,
   "metadata": {
    "ExecuteTime": {
     "end_time": "2021-08-06T20:58:05.801658Z",
     "start_time": "2021-08-06T20:58:05.796892Z"
    }
   },
   "outputs": [],
   "source": [
    "exp_data['clock'].shape"
   ]
  },
  {
   "cell_type": "code",
   "execution_count": null,
   "metadata": {
    "ExecuteTime": {
     "end_time": "2021-08-06T20:58:05.814669Z",
     "start_time": "2021-08-06T20:58:05.803624Z"
    }
   },
   "outputs": [],
   "source": [
    "exp_data['clock'][-1]"
   ]
  },
  {
   "cell_type": "code",
   "execution_count": null,
   "metadata": {
    "ExecuteTime": {
     "end_time": "2021-08-06T20:58:05.840672Z",
     "start_time": "2021-08-06T20:58:05.816821Z"
    }
   },
   "outputs": [],
   "source": [
    "exp_data['events']"
   ]
  },
  {
   "cell_type": "code",
   "execution_count": null,
   "metadata": {
    "ExecuteTime": {
     "end_time": "2021-08-06T20:58:05.845037Z",
     "start_time": "2021-08-06T20:58:05.842215Z"
    }
   },
   "outputs": [],
   "source": [
    "exp_data[]"
   ]
  },
  {
   "cell_type": "markdown",
   "metadata": {},
   "source": [
    "why does events don't have the wait state? \n",
    "how to define a trial "
   ]
  },
  {
   "cell_type": "code",
   "execution_count": null,
   "metadata": {
    "ExecuteTime": {
     "end_time": "2021-08-06T20:58:05.847140Z",
     "start_time": "2021-08-06T20:58:04.349Z"
    }
   },
   "outputs": [],
   "source": [
    "exp_data['task'].dtype"
   ]
  },
  {
   "cell_type": "code",
   "execution_count": null,
   "metadata": {
    "ExecuteTime": {
     "end_time": "2021-08-06T20:58:05.847887Z",
     "start_time": "2021-08-06T20:58:04.352Z"
    },
    "scrolled": false
   },
   "outputs": [],
   "source": [
    "exp_data['trials']"
   ]
  },
  {
   "cell_type": "code",
   "execution_count": null,
   "metadata": {
    "ExecuteTime": {
     "end_time": "2021-08-06T20:58:05.848618Z",
     "start_time": "2021-08-06T20:58:04.355Z"
    }
   },
   "outputs": [],
   "source": [
    "np.count_nonzero(exp_data['state']['msg'] == b'wait')"
   ]
  },
  {
   "cell_type": "code",
   "execution_count": null,
   "metadata": {
    "ExecuteTime": {
     "end_time": "2021-08-06T20:58:05.849187Z",
     "start_time": "2021-08-06T20:58:04.357Z"
    }
   },
   "outputs": [],
   "source": [
    "events['event']"
   ]
  },
  {
   "cell_type": "code",
   "execution_count": null,
   "metadata": {
    "ExecuteTime": {
     "end_time": "2021-08-06T20:58:05.849868Z",
     "start_time": "2021-08-06T20:58:04.360Z"
    }
   },
   "outputs": [],
   "source": [
    "event_names = events['event']\n",
    "event_cycles = events['time'] # confusingly, 'time' here refers to cycle count\n",
    "trial_segments, trial_times = aopy.preproc.get_trial_segments(events['code'], event_cycles, [CENTER_TARGET_ON ], \n",
    "                                                              [TRIAL_END])\n",
    "trial_segments = np.array(trial_segments)\n",
    "print(trial_segments.shape)\n",
    "print(trial_times.shape)\n",
    "#print(trial_segments)\n",
    "\n",
    "print(trial_times[0])\n",
    "\n",
    "print(trial_segments[-10:])\n",
    "print(trial_times[-10:])"
   ]
  },
  {
   "cell_type": "code",
   "execution_count": null,
   "metadata": {
    "ExecuteTime": {
     "end_time": "2021-08-06T20:58:05.850718Z",
     "start_time": "2021-08-06T20:58:04.364Z"
    }
   },
   "outputs": [],
   "source": [
    "cursor_kinematics = exp_data['task']['cursor'][:,[0,2]] # cursor (x, z, y) position on each bmi3d cycle\n",
    "time = exp_data['bmi3d_clock']['timestamp']"
   ]
  },
  {
   "cell_type": "code",
   "execution_count": null,
   "metadata": {
    "ExecuteTime": {
     "end_time": "2021-08-06T20:58:05.851344Z",
     "start_time": "2021-08-06T20:58:04.367Z"
    }
   },
   "outputs": [],
   "source": [
    "trial_indices = [range(t[0], t[1]) for t in trial_times]\n",
    "cursor_trajectories = [cursor_kinematics[t] for t in trial_indices]\n"
   ]
  },
  {
   "cell_type": "code",
   "execution_count": null,
   "metadata": {
    "ExecuteTime": {
     "end_time": "2021-08-06T20:58:05.852193Z",
     "start_time": "2021-08-06T20:58:04.370Z"
    }
   },
   "outputs": [],
   "source": [
    "trials.dtype"
   ]
  },
  {
   "cell_type": "code",
   "execution_count": null,
   "metadata": {
    "ExecuteTime": {
     "end_time": "2021-08-06T20:58:05.852786Z",
     "start_time": "2021-08-06T20:58:04.373Z"
    },
    "scrolled": true
   },
   "outputs": [],
   "source": [
    "np.max(trials['trial']) + 1"
   ]
  },
  {
   "cell_type": "code",
   "execution_count": null,
   "metadata": {
    "ExecuteTime": {
     "end_time": "2021-08-06T20:58:05.853417Z",
     "start_time": "2021-08-06T20:58:04.376Z"
    },
    "scrolled": true
   },
   "outputs": [],
   "source": [
    "exp_data['trials'].shape\n"
   ]
  },
  {
   "cell_type": "code",
   "execution_count": null,
   "metadata": {
    "ExecuteTime": {
     "end_time": "2021-08-06T20:58:05.854012Z",
     "start_time": "2021-08-06T20:58:04.379Z"
    }
   },
   "outputs": [],
   "source": [
    "exp_data['trials']"
   ]
  },
  {
   "cell_type": "code",
   "execution_count": null,
   "metadata": {
    "ExecuteTime": {
     "end_time": "2021-08-06T20:58:05.854677Z",
     "start_time": "2021-08-06T20:58:04.382Z"
    }
   },
   "outputs": [],
   "source": [
    "# get the unique target positions\n",
    "\n",
    "trials = exp_data['trials']\n",
    "\n",
    "print(trials.dtype)\n",
    "\n",
    "n_trials = len(trials)\n",
    "\n",
    "#trial_targets = aopy.postproc.get_trial_targets(trials['trial'], trials['target'][:,[0,2]]) # (x, z, y) -> (x, y)\n",
    "\n",
    "unique_targets = np.unique(trials['target'][:,(0,2)], axis  = 0)"
   ]
  },
  {
   "cell_type": "code",
   "execution_count": null,
   "metadata": {
    "ExecuteTime": {
     "end_time": "2021-08-06T20:58:05.855258Z",
     "start_time": "2021-08-06T20:58:04.384Z"
    }
   },
   "outputs": [],
   "source": [
    "unique_targets"
   ]
  },
  {
   "cell_type": "code",
   "execution_count": null,
   "metadata": {
    "ExecuteTime": {
     "end_time": "2021-08-06T20:58:05.855845Z",
     "start_time": "2021-08-06T20:58:04.387Z"
    }
   },
   "outputs": [],
   "source": [
    "len(cursor_trajectories)"
   ]
  },
  {
   "cell_type": "code",
   "execution_count": null,
   "metadata": {
    "ExecuteTime": {
     "end_time": "2021-08-06T20:58:05.856419Z",
     "start_time": "2021-08-06T20:58:04.390Z"
    }
   },
   "outputs": [],
   "source": [
    "fig, ax = plt.subplots(figsize=(8,8))\n",
    "bounds = exp_metadata['cursor_bounds'][[0,1,4,5]]\n",
    "aopy.visualization.plot_trajectories(cursor_trajectories[:10], bounds=bounds)\n",
    "aopy.visualization.plot_targets(unique_targets, exp_metadata['target_radius'])"
   ]
  },
  {
   "cell_type": "code",
   "execution_count": null,
   "metadata": {
    "ExecuteTime": {
     "end_time": "2021-08-06T20:58:05.856993Z",
     "start_time": "2021-08-06T20:58:04.393Z"
    }
   },
   "outputs": [],
   "source": [
    "fig, ax = plt.subplots(figsize=(8,8))\n",
    "bounds = exp_metadata['cursor_bounds'][[0,1,4,5]]\n",
    "aopy.visualization.plot_trajectories(cursor_trajectories[-10:], bounds=bounds)\n",
    "aopy.visualization.plot_targets(unique_targets, exp_metadata['target_radius'])"
   ]
  },
  {
   "cell_type": "markdown",
   "metadata": {},
   "source": [
    "# Post data analysis"
   ]
  },
  {
   "cell_type": "markdown",
   "metadata": {},
   "source": [
    "## Total finished trials"
   ]
  },
  {
   "cell_type": "markdown",
   "metadata": {},
   "source": [
    "## Overall  trial statistics succuss rate)"
   ]
  },
  {
   "cell_type": "code",
   "execution_count": null,
   "metadata": {
    "ExecuteTime": {
     "end_time": "2021-08-06T20:58:05.857513Z",
     "start_time": "2021-08-06T20:58:04.397Z"
    }
   },
   "outputs": [],
   "source": [
    "state_log = exp_data['state']\n",
    "state_log['msg']"
   ]
  },
  {
   "cell_type": "code",
   "execution_count": null,
   "metadata": {
    "ExecuteTime": {
     "end_time": "2021-08-06T20:58:05.858053Z",
     "start_time": "2021-08-06T20:58:04.400Z"
    }
   },
   "outputs": [],
   "source": [
    "import behaviour_metrics\n",
    "import importlib\n",
    "\n",
    "\n",
    "importlib.reload(behaviour_metrics)\n",
    "\n",
    "reward_events_per_minute = behaviour_metrics.calc_event_rate_from_state_log(state_log,b'target',window_length=30)\n",
    "reward_events_per_minute = np.array(reward_events_per_minute)\n",
    "\n",
    "print(reward_events_per_minute)\n",
    "plt.plot(reward_events_per_minute.T)\n",
    "plt.xlabel('Time (min)')\n",
    "plt.ylabel('Rewards (#)')"
   ]
  },
  {
   "cell_type": "markdown",
   "metadata": {},
   "source": [
    "## Sort into trials"
   ]
  },
  {
   "cell_type": "code",
   "execution_count": null,
   "metadata": {
    "ExecuteTime": {
     "end_time": "2021-08-06T20:58:05.858702Z",
     "start_time": "2021-08-06T20:58:04.404Z"
    }
   },
   "outputs": [],
   "source": [
    "state_log = e.state_log\n",
    "segmented_trials = behaviour_metrics.segment_trials_in_state_log(state_log)"
   ]
  },
  {
   "cell_type": "code",
   "execution_count": null,
   "metadata": {
    "ExecuteTime": {
     "end_time": "2021-08-06T20:58:05.859200Z",
     "start_time": "2021-08-06T20:58:04.407Z"
    }
   },
   "outputs": [],
   "source": [
    "trial_dicts_all = []\n",
    "dict_keys = ['cursor', #behaviour\n",
    "             'ctrl_input', 'spike_counts', #encoder translates intended ctrl into spike counts\n",
    "             'decoder_state']\n",
    "\n",
    "\n",
    "for i in range(NUM_EXP):\n",
    "    \n",
    "    segmented_trials = behaviour_metrics.segment_trials_in_state_log(exps[i].state_log)\n",
    "\n",
    "    task_data_hist_np = task_data_hist_np_all[i]\n",
    "    trial_dict_0 = behaviour_metrics.sort_trials_use_segmented_log(segmented_trials, \n",
    "                               target_seq,\n",
    "                               task_data_hist_np, dict_keys)\n",
    "    \n",
    "    trial_dicts_all.append(trial_dict_0)\n",
    "\n",
    "for t in trial_dicts_all: print(len(t))"
   ]
  },
  {
   "cell_type": "markdown",
   "metadata": {},
   "source": [
    "# Behaviour  analyses"
   ]
  },
  {
   "cell_type": "markdown",
   "metadata": {},
   "source": [
    "## Trajectory analysis"
   ]
  },
  {
   "cell_type": "code",
   "execution_count": null,
   "metadata": {
    "ExecuteTime": {
     "end_time": "2021-08-06T20:58:05.859670Z",
     "start_time": "2021-08-06T20:58:04.410Z"
    }
   },
   "outputs": [],
   "source": [
    "import afs_plotting\n",
    "importlib.reload(afs_plotting)"
   ]
  },
  {
   "cell_type": "code",
   "execution_count": null,
   "metadata": {
    "ExecuteTime": {
     "end_time": "2021-08-06T20:58:05.860145Z",
     "start_time": "2021-08-06T20:58:04.413Z"
    }
   },
   "outputs": [],
   "source": [
    "figure_trajectory, axes_trajectory = plt.subplots(1, NUM_EXP, figsize = (NUM_EXP * GLOBAL_FIGURE_VERTICAL_SIZE, \n",
    "                                                  GLOBAL_FIGURE_VERTICAL_SIZE)) \n",
    "\n",
    "\n",
    "n_roi_trials = 0\n",
    "\n",
    "CIRCLE_RADIUS = exps[0].target_radius\n",
    "\n",
    "print(CIRCLE_RADIUS)\n",
    "\n",
    "for i,axes in enumerate(axes_trajectory): \n",
    "\n",
    "    afs_plotting.add_center_out_grid(axes, target_seq, CIRCLE_RADIUS)\n",
    "    \n",
    "    \n",
    "    sample_trial = trial_dicts_all[i][n_roi_trials]\n",
    "    trial_cursor_trajectory = sample_trial['cursor']\n",
    "    \n",
    "    afs_plotting.plot_trial_trajectory(axes, trial_cursor_trajectory)\n",
    "\n",
    "    axes.set_title(f'Trial {N_TRIALS} of {exp_conds[i]} ')\n",
    "\n"
   ]
  },
  {
   "cell_type": "code",
   "execution_count": null,
   "metadata": {},
   "outputs": [],
   "source": []
  },
  {
   "cell_type": "markdown",
   "metadata": {},
   "source": [
    "## Variance analysis"
   ]
  },
  {
   "cell_type": "code",
   "execution_count": null,
   "metadata": {
    "ExecuteTime": {
     "end_time": "2021-08-06T20:58:05.860593Z",
     "start_time": "2021-08-06T20:58:04.418Z"
    }
   },
   "outputs": [],
   "source": [
    "importlib.reload(behaviour_metrics)"
   ]
  },
  {
   "cell_type": "code",
   "execution_count": null,
   "metadata": {
    "ExecuteTime": {
     "end_time": "2021-08-06T20:58:05.861101Z",
     "start_time": "2021-08-06T20:58:04.421Z"
    },
    "scrolled": true
   },
   "outputs": [],
   "source": [
    "arc_length = [behaviour_metrics.calc_arc_length_from_trial_dict(trial_dict) for trial_dict in trial_dicts_all]\n",
    "for al in arc_length: plt.plot(al)\n",
    "plt.legend(exp_conds)"
   ]
  },
  {
   "cell_type": "markdown",
   "metadata": {},
   "source": [
    "# Kalman filter"
   ]
  },
  {
   "cell_type": "markdown",
   "metadata": {},
   "source": [
    "## encoder\n",
    "\n",
    "the job of the encoder is to directly encode intention into firing rates\n",
    "the direct measure is just pearson correlation coefficients between \n",
    "the intentions and the firing rates"
   ]
  },
  {
   "cell_type": "markdown",
   "metadata": {},
   "source": [
    "## decoder"
   ]
  },
  {
   "cell_type": "code",
   "execution_count": null,
   "metadata": {
    "ExecuteTime": {
     "end_time": "2021-08-06T20:58:05.861615Z",
     "start_time": "2021-08-06T20:58:04.424Z"
    },
    "scrolled": false
   },
   "outputs": [],
   "source": [
    "from afs_plotting import plot_prefered_directions\n",
    "\n",
    "TEXT_OFFSET_VERTICAL = -0.2\n",
    "\n",
    "\n",
    "figure_decoder_C.suptitle('KF C matrix before and after CLDA')\n",
    "\n",
    "print('steady state tuning curves:')\n",
    "\n",
    "for  i,e in enumerate(exps): \n",
    "\n",
    "    e = exps[i]\n",
    "    C = e.decoder.filt.C\n",
    "\n",
    "    plot_prefered_directions(C, ax = axs_decoder_C[1,i])\n",
    "    axs_decoder_C[1,i].set_title(f'{exp_conds[i]}')\n",
    "\n",
    "figure_decoder_C"
   ]
  },
  {
   "cell_type": "markdown",
   "metadata": {},
   "source": [
    "## Decoder compared to the encoder\n",
    "\n"
   ]
  },
  {
   "cell_type": "code",
   "execution_count": null,
   "metadata": {
    "ExecuteTime": {
     "end_time": "2021-08-06T20:58:05.862085Z",
     "start_time": "2021-08-06T20:58:04.428Z"
    }
   },
   "outputs": [],
   "source": [
    "len(exps)"
   ]
  },
  {
   "cell_type": "code",
   "execution_count": null,
   "metadata": {
    "ExecuteTime": {
     "end_time": "2021-08-06T20:58:05.862570Z",
     "start_time": "2021-08-06T20:58:04.431Z"
    }
   },
   "outputs": [],
   "source": [
    "import convergence_analysis\n",
    "importlib.reload(convergence_analysis)\n",
    "from convergence_analysis import calc_cosine_sim_bet_two_matrices, calc_cosine_to_target_matrix\n",
    "\n",
    "active_feat_set = exps[2]._active_feat_set\n",
    "\n",
    "\n",
    "for i,e in enumerate(exps):\n",
    "    enc_directions = e.encoder.C\n",
    "    dec_directions = np.array(e._used_C_mat_list)\n",
    "    \n",
    "\n",
    "    angles_hist = calc_cosine_to_target_matrix( dec_directions,enc_directions)\n",
    "    \n",
    "    if i == 0:\n",
    "        active_angles = np.mean(angles_hist[:,noise_neuron_list], axis = 1)\n",
    "        plt.plot(active_angles)\n",
    "    \n",
    "    active_angles = np.mean(angles_hist[:,active_feat_set], axis = 1)\n",
    "    \n",
    "    plt.plot(active_angles)\n",
    "\n"
   ]
  },
  {
   "cell_type": "markdown",
   "metadata": {},
   "source": []
  },
  {
   "cell_type": "markdown",
   "metadata": {},
   "source": [
    "## looking at K matrix"
   ]
  },
  {
   "cell_type": "code",
   "execution_count": null,
   "metadata": {
    "ExecuteTime": {
     "end_time": "2021-08-06T20:58:05.863083Z",
     "start_time": "2021-08-06T20:58:04.434Z"
    }
   },
   "outputs": [],
   "source": [
    "figure_k_matrix, axes_k_matrix = plt.subplots(2,NUM_EXP,\n",
    "                                          figsize = (GLOBAL_FIGURE_VERTICAL_SIZE * NUM_EXP,\n",
    "                                                    GLOBAL_FIGURE_VERTICAL_SIZE * 2))\n",
    "\n",
    "for i,e in enumerate(exps):\n",
    "    K = (e._used_K_mat_list[1]).T\n",
    "\n",
    "    plot_prefered_directions(K, ax  = axes_k_matrix[0, i])\n",
    "    axes_k_matrix[0, i].set_title(exp_conds[i])\n",
    "\n",
    "for i,e in enumerate(exps):\n",
    "    K = (e._used_K_mat_list[-1]).T\n",
    "    plot_prefered_directions(K, ax  = axes_k_matrix[1, i])\n",
    "    axes_k_matrix[1,i].set_title(exp_conds[i])\n",
    "    \n",
    "    \n",
    "figure_k_matrix.tight_layout()"
   ]
  },
  {
   "cell_type": "markdown",
   "metadata": {},
   "source": [
    "# Feature analysis"
   ]
  },
  {
   "cell_type": "code",
   "execution_count": null,
   "metadata": {
    "ExecuteTime": {
     "end_time": "2021-08-06T20:58:05.863828Z",
     "start_time": "2021-08-06T20:58:04.437Z"
    },
    "scrolled": true
   },
   "outputs": [],
   "source": [
    "from matplotlib import colors\n",
    "\n",
    "\n",
    "\n",
    "fig_feature_active_map, axes_feat_active_map = plt.subplots(1, NUM_EXP,\n",
    "                                                            figsize = ( NUM_EXP * GLOBAL_FIGURE_VERTICAL_SIZE,\n",
    "                                                                      GLOBAL_FIGURE_VERTICAL_SIZE),\n",
    "                                                           sharey = True)\n",
    "axes_feat_active_map[0].set_ylabel('Learner Batch number')\n",
    "\n",
    "#color true to yellow\n",
    "cmap = colors.ListedColormap(['yellow'])\n",
    "\n",
    "for i, exp in enumerate(exps):\n",
    "\n",
    "    active_feat_heat_map = np.array(exp._active_feat_set_list, dtype = np.int32)\n",
    "    active_feat_heat_map = np.ma.masked_where(active_feat_heat_map == False, active_feat_heat_map)\n",
    "    a = axes_feat_active_map[i].imshow(active_feat_heat_map, cmap = cmap)\n",
    "\n",
    "    #color false to blue\n",
    "    cmap.set_bad(color='blue')\n",
    "    \n",
    "    axes_feat_active_map[i].set_xlabel('All features')\n",
    "    axes_feat_active_map[i].set_title(exp_conds[i])\n",
    "\n",
    "\n",
    "#fig_feature_active_map.colorbar(a, ax=axes_feat_active_map.ravel().tolist())"
   ]
  },
  {
   "cell_type": "markdown",
   "metadata": {},
   "source": [
    "## Examine used K mat"
   ]
  },
  {
   "cell_type": "markdown",
   "metadata": {},
   "source": [
    "## examine used C mat"
   ]
  },
  {
   "cell_type": "code",
   "execution_count": null,
   "metadata": {
    "ExecuteTime": {
     "end_time": "2021-08-06T20:58:05.864244Z",
     "start_time": "2021-08-06T20:58:04.441Z"
    }
   },
   "outputs": [],
   "source": [
    "import weights_linear_regression\n",
    "importlib.reload(weights_linear_regression)\n",
    "from weights_linear_regression import calc_a_history_of_matrix_L2norms_along_first_axis\n",
    "\n",
    "\n",
    "figure_weights_norm, axes_weights_norm = plt.subplots( NUM_EXP, N_TYPES_OF_NEURONS,\n",
    "    figsize = (N_TYPES_OF_NEURONS * GLOBAL_FIGURE_VERTICAL_SIZE, NUM_EXP * GLOBAL_FIGURE_VERTICAL_SIZE))\n",
    "\n",
    "C_mat_all = list()\n",
    "\n",
    "for j,exp in enumerate(exps):\n",
    "    \n",
    "    updated_C_mat = np.array(exp._used_C_mat_list)\n",
    "    the_history_of_KF_weights_in_time_by_neurons = calc_a_history_of_matrix_L2norms_along_first_axis(updated_C_mat, debug = False)\n",
    "\n",
    "    C_mat_all.append(np.copy(updated_C_mat))\n",
    "    axe_exp = axes_weights_norm[j,:]\n",
    "    for i,a in enumerate(axe_exp):\n",
    "        a.plot(the_history_of_KF_weights_in_time_by_neurons[:, neuron_type_indices_in_a_list[i]])\n",
    "        a.set_xlabel('Batch number')\n",
    "        a.set_ylabel('Weight')\n",
    "        \n",
    "C_mat_all = np.array(C_mat_all)"
   ]
  },
  {
   "cell_type": "code",
   "execution_count": null,
   "metadata": {
    "ExecuteTime": {
     "end_time": "2021-08-06T20:58:05.864709Z",
     "start_time": "2021-08-06T20:58:04.445Z"
    },
    "scrolled": true
   },
   "outputs": [],
   "source": [
    "fig_compr_means, axes_compr_means = plt.subplots(1, N_TYPES_OF_NEURONS,\n",
    "                                                figsize = (GLOBAL_FIGURE_VERTICAL_SIZE * N_TYPES_OF_NEURONS,\n",
    "                                                          GLOBAL_FIGURE_VERTICAL_SIZE),\n",
    "                                                sharey = True)\n",
    "selected_feature_set = no_noise_neuron_list\n",
    "for i,a in enumerate(axes_compr_means):\n",
    "\n",
    "    type_neuron_list = neuron_type_bool_list[i]\n",
    "    \n",
    "    for C in C_mat_all:\n",
    "\n",
    "\n",
    "        the_history_of_KF_weights_in_time_by_neurons = calc_a_history_of_matrix_L2norms_along_first_axis(C, \n",
    "                                                                                                         target_C=e.encoder.C,\n",
    "                                                                indices_to_sum=(X_VEL_STATE_IND, Y_VEL_STATE_IND))\n",
    "\n",
    "\n",
    "        selected_neurons = np.logical_and(selected_feature_set, type_neuron_list)\n",
    "\n",
    "        selected_mean = np.mean(the_history_of_KF_weights_in_time_by_neurons[:,selected_neurons], axis = 1)\n",
    "        std = np.std(the_history_of_KF_weights_in_time_by_neurons[:,selected_neurons], axis = 1)\n",
    "        \n",
    "        line = a.plot(selected_mean)\n",
    "        \n",
    "        x_data = np.arange((selected_mean).shape[0])\n",
    "        \n",
    "        \n",
    "        a.fill_between(x_data ,selected_mean - std, selected_mean + std, alpha = 0.1 )\n",
    "        a.legend(exp_conds)\n",
    "        \n",
    "handles, labels = a.get_legend_handles_labels()\n",
    "fig_compr_means.legend(handles, labels, loc='lower center')\n",
    "plt.show()\n",
    "    \n",
    "#axes_compr_means.set_title('Means of the high SNR weight trajectory')"
   ]
  }
 ],
 "metadata": {
  "kernelspec": {
   "display_name": "Python 3",
   "language": "python",
   "name": "python3"
  },
  "language_info": {
   "codemirror_mode": {
    "name": "ipython",
    "version": 3
   },
   "file_extension": ".py",
   "mimetype": "text/x-python",
   "name": "python",
   "nbconvert_exporter": "python",
   "pygments_lexer": "ipython3",
   "version": "3.8.10"
  },
  "toc": {
   "base_numbering": 1,
   "nav_menu": {},
   "number_sections": true,
   "sideBar": true,
   "skip_h1_title": false,
   "title_cell": "Table of Contents",
   "title_sidebar": "Contents",
   "toc_cell": false,
   "toc_position": {
    "height": "600.8px",
    "left": "35px",
    "top": "353.8px",
    "width": "312.062px"
   },
   "toc_section_display": true,
   "toc_window_display": false
  },
  "varInspector": {
   "cols": {
    "lenName": 16,
    "lenType": 16,
    "lenVar": 40
   },
   "kernels_config": {
    "python": {
     "delete_cmd_postfix": "",
     "delete_cmd_prefix": "del ",
     "library": "var_list.py",
     "varRefreshCmd": "print(var_dic_list())"
    },
    "r": {
     "delete_cmd_postfix": ") ",
     "delete_cmd_prefix": "rm(",
     "library": "var_list.r",
     "varRefreshCmd": "cat(var_dic_list()) "
    }
   },
   "types_to_exclude": [
    "module",
    "function",
    "builtin_function_or_method",
    "instance",
    "_Feature"
   ],
   "window_display": false
  }
 },
 "nbformat": 4,
 "nbformat_minor": 4
}
