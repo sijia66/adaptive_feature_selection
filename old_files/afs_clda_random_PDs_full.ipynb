{
 "cells": [
  {
   "cell_type": "markdown",
   "metadata": {},
   "source": [
    "# Purpose of this simulation\n"
   ]
  },
  {
   "cell_type": "markdown",
   "metadata": {},
   "source": [
    "# ideas"
   ]
  },
  {
   "cell_type": "code",
   "execution_count": 1,
   "metadata": {
    "ExecuteTime": {
     "end_time": "2021-09-28T21:12:20.767449Z",
     "start_time": "2021-09-28T21:12:20.765503Z"
    }
   },
   "outputs": [
    {
     "name": "stdout",
     "output_type": "stream",
     "text": [
      "wo_feature_selection\n",
      "w_iter_feature_selection\n"
     ]
    }
   ],
   "source": [
    "\n",
    "#for comparision\n",
    "exp_conds = ['wo_feature_selection', \n",
    "             'w_iter_feature_selection']\n",
    "\n",
    "for e in exp_conds: print(e)\n"
   ]
  },
  {
   "cell_type": "markdown",
   "metadata": {},
   "source": [
    "# Experimental setup related to the questions\n",
    "\n",
    "this part should be configured to directly test the hypothesis put forward in the previous section\n"
   ]
  },
  {
   "cell_type": "code",
   "execution_count": 2,
   "metadata": {
    "ExecuteTime": {
     "end_time": "2021-09-28T21:12:20.815555Z",
     "start_time": "2021-09-28T21:12:20.768285Z"
    }
   },
   "outputs": [
    {
     "name": "stdout",
     "output_type": "stream",
     "text": [
      "['wo_feature_selection_mfr_100', 'w_iter_feature_selection_mfr_100']\n"
     ]
    }
   ],
   "source": [
    "import numpy as np\n",
    "np.set_printoptions(precision=2, suppress=True)\n",
    "\n",
    "mean_firing_rate_low = 100\n",
    "mean_firing_rate_high = 100\n",
    "noise_mode = 'fixed_gaussian'\n",
    "fixed_noise_level = 0 #Hz\n",
    "\n",
    "#change the exp_conds\n",
    "\n",
    "exp_conds = [e + f'_mfr_100' for e in exp_conds]\n",
    "\n",
    "print(exp_conds)"
   ]
  },
  {
   "cell_type": "code",
   "execution_count": 3,
   "metadata": {
    "ExecuteTime": {
     "end_time": "2021-09-28T21:12:20.820113Z",
     "start_time": "2021-09-28T21:12:20.816379Z"
    }
   },
   "outputs": [
    {
     "name": "stdout",
     "output_type": "stream",
     "text": [
      "We have two types of indices: \n",
      "noisy:[ 0  1  2  3  4  5  6  7  8  9 10 11 12 13 14 15 16 17 18 19 20 21 22 23]\n",
      "non_noisy:[24 25 26 27 28 29 30 31]\n"
     ]
    }
   ],
   "source": [
    "\n",
    "\n",
    "neuron_types = ['noisy', 'non_noisy']\n",
    "\n",
    "n_neurons = 32\n",
    "n_neurons_noisy_group = 24\n",
    "n_neurons_no_noise_group = 8\n",
    "\n",
    "\n",
    "noise_neuron_ind = np.arange(n_neurons_noisy_group)\n",
    "no_noise_neuron_ind = np.arange(n_neurons_noisy_group, n_neurons_noisy_group + n_neurons_no_noise_group)\n",
    "\n",
    "neuron_type_indices_in_a_list = [\n",
    "    noise_neuron_ind, \n",
    "    no_noise_neuron_ind\n",
    "]\n",
    "\n",
    "\n",
    "noise_neuron_list = np.full(n_neurons, False, dtype = bool)\n",
    "no_noise_neuron_list = np.full(n_neurons, False, dtype = bool)\n",
    "\n",
    "\n",
    "noise_neuron_list[noise_neuron_ind] = True\n",
    "no_noise_neuron_list[no_noise_neuron_ind] = True\n",
    "\n",
    "\n",
    "\n",
    "neuron_type_bool_list = [\n",
    "    noise_neuron_list,\n",
    "    no_noise_neuron_list,\n",
    "]\n",
    "\n",
    "N_TYPES_OF_NEURONS = 2\n",
    "\n",
    "print('We have two types of indices: ')\n",
    "for t,l in enumerate(neuron_type_indices_in_a_list): print(f'{neuron_types[t]}:{l}')\n"
   ]
  },
  {
   "cell_type": "code",
   "execution_count": 4,
   "metadata": {
    "ExecuteTime": {
     "end_time": "2021-09-28T21:12:20.831415Z",
     "start_time": "2021-09-28T21:12:20.821098Z"
    }
   },
   "outputs": [
    {
     "name": "stdout",
     "output_type": "stream",
     "text": [
      "set up the variances in a list:\n",
      "we therefore know the number of neurons to be 32\n"
     ]
    }
   ],
   "source": [
    "percent_of_count = np.ones(n_neurons)[:, np.newaxis]\n",
    "print(f'set up the variances in a list:')\n",
    "\n",
    "percent_of_count[noise_neuron_ind] =  1\n",
    "percent_of_count[no_noise_neuron_ind] = 1\n",
    "\n",
    "print(f'we therefore know the number of neurons to be {n_neurons}')\n"
   ]
  },
  {
   "cell_type": "code",
   "execution_count": 5,
   "metadata": {
    "ExecuteTime": {
     "end_time": "2021-09-28T21:12:20.839736Z",
     "start_time": "2021-09-28T21:12:20.832363Z"
    }
   },
   "outputs": [],
   "source": [
    "# CHANGE: game mechanics: generate task params\n",
    "N_TARGETS = 8\n",
    "N_TRIALS = 200\n",
    "\n",
    "NUM_EXP = len(exp_conds) # how many experiments we are running. "
   ]
  },
  {
   "cell_type": "markdown",
   "metadata": {},
   "source": [
    "# Config the experiments\n",
    "\n",
    "this section largely copyied and pasted from   \n",
    "bmi3d-sijia(branch)-bulti_in_experiemnts\n",
    "https://github.com/sijia66/brain-python-interface/blob/master/built_in_tasks/sim_task_KF.py"
   ]
  },
  {
   "cell_type": "markdown",
   "metadata": {},
   "source": [
    "## load dependant libraries"
   ]
  },
  {
   "cell_type": "code",
   "execution_count": 6,
   "metadata": {
    "ExecuteTime": {
     "end_time": "2021-09-28T21:12:20.851017Z",
     "start_time": "2021-09-28T21:12:20.841244Z"
    }
   },
   "outputs": [],
   "source": [
    "GLOBAL_FIGURE_VERTICAL_SIZE = 4"
   ]
  },
  {
   "cell_type": "code",
   "execution_count": 7,
   "metadata": {
    "ExecuteTime": {
     "end_time": "2021-09-28T21:12:21.745822Z",
     "start_time": "2021-09-28T21:12:20.852060Z"
    },
    "scrolled": true
   },
   "outputs": [],
   "source": [
    "# import libraries\n",
    "# make sure these directories are in the python path., \n",
    "from bmimultitasks import SimBMIControlMulti, SimBMICosEncKFDec, BMIControlMultiNoWindow, SimpleTargetCapture\n",
    "from features import SaveHDF\n",
    "from features.simulation_features import get_enc_setup, SimKFDecoderRandom,SimIntentionLQRController, SimClockTick\n",
    "from features.simulation_features import SimHDF, SimTime\n",
    "\n",
    "from riglib import experiment\n",
    "\n",
    "from riglib.stereo_opengl.window import FakeWindow\n",
    "from riglib.bmi import train\n",
    "\n",
    "\n",
    "from behaviour_metrics import  filter_state, sort_trials\n",
    "\n",
    "from weights import calc_p_values_for_spike_batches_use_intended_kin\n",
    "from weights import calc_single_batch_p_values_by_fitting_kinematics_to_spike_counts\n",
    "import weights\n",
    "\n",
    "import time\n",
    "import copy\n",
    "import numpy as np\n",
    "import matplotlib.pyplot as plt\n",
    "import sympy as sp\n",
    "import itertools #for identical sequences\n",
    "\n",
    "np.set_printoptions(precision=2, suppress=True)\n"
   ]
  },
  {
   "cell_type": "markdown",
   "metadata": {},
   "source": [
    "##  behaviour and task setup"
   ]
  },
  {
   "cell_type": "code",
   "execution_count": 8,
   "metadata": {
    "ExecuteTime": {
     "end_time": "2021-09-28T21:12:21.757774Z",
     "start_time": "2021-09-28T21:12:21.746741Z"
    }
   },
   "outputs": [],
   "source": [
    "#seq = SimBMIControlMulti.sim_target_seq_generator_multi(\n",
    "#N_TARGETS, N_TRIALS)\n",
    "\n",
    "from target_capture_task import ConcreteTargetCapture\n",
    "seq = ConcreteTargetCapture.out_2D()\n",
    "\n",
    "#create a second version of the tasks\n",
    "seqs = itertools.tee(seq, NUM_EXP + 1)\n",
    "target_seq = list(seqs[NUM_EXP])\n",
    "\n",
    "seqs = seqs[:NUM_EXP]\n",
    "\n",
    "\n",
    "SAVE_HDF = True\n",
    "SAVE_SIM_HDF = True #this makes the task data available as exp.task_data_hist\n",
    "DEBUG_FEATURE = False\n",
    "\n",
    "\n",
    "#base_class = SimBMIControlMulti\n",
    "base_class = SimpleTargetCapture\n",
    "\n",
    "#for adding experimental features such as encoder, decoder\n",
    "feats = []\n",
    "feats_2 = []\n",
    "feats_set = [] # this is a going to be a list of lists "
   ]
  },
  {
   "cell_type": "markdown",
   "metadata": {},
   "source": [
    "## Additional task setup"
   ]
  },
  {
   "cell_type": "code",
   "execution_count": 9,
   "metadata": {
    "ExecuteTime": {
     "end_time": "2021-09-28T21:12:21.766426Z",
     "start_time": "2021-09-28T21:12:21.758602Z"
    }
   },
   "outputs": [],
   "source": [
    "from simulation_features import TimeCountDown\n",
    "from features.sync_features import HDFSync\n",
    "\n",
    "\n",
    "feats.append(HDFSync)\n",
    "feats_2.append(HDFSync)\n",
    "\n",
    "feats.append(TimeCountDown)\n",
    "feats_2.append(TimeCountDown)\n",
    "\n",
    "total_exp_time = 300# in seconds"
   ]
  },
  {
   "cell_type": "markdown",
   "metadata": {},
   "source": [
    "## encoder\n",
    "\n",
    "the cosine tuned encoder uses a poisson process, right\n",
    "https://en.wikipedia.org/wiki/Poisson_distribution\n",
    "so if the lambda is 1, then it's very likely "
   ]
  },
  {
   "cell_type": "code",
   "execution_count": 10,
   "metadata": {
    "ExecuteTime": {
     "end_time": "2021-09-28T21:12:21.772630Z",
     "start_time": "2021-09-28T21:12:21.767225Z"
    }
   },
   "outputs": [
    {
     "name": "stdout",
     "output_type": "stream",
     "text": [
      "features.simulation_features: get_enc_setup has a tuning_level of 1 \n",
      "\n"
     ]
    }
   ],
   "source": [
    "from features.simulation_features import get_enc_setup\n",
    "\n",
    "ENCODER_TYPE = 'cosine_tuned_encoder_with_poisson_noise'\n",
    "\n",
    "#neuron set up : 'std (20 neurons)' or 'toy (4 neurons)' \n",
    "N_NEURONS, N_STATES, sim_C = get_enc_setup(sim_mode = 'rot_90', n_neurons= n_neurons)\n",
    "\n",
    "#multiply our the neurons\n",
    "sim_C[noise_neuron_list] =  sim_C[noise_neuron_list]  * mean_firing_rate_low\n",
    "sim_C[no_noise_neuron_list]  = sim_C[no_noise_neuron_list] * mean_firing_rate_high\n",
    "\n",
    "\n",
    "\n",
    "\n",
    "#set up the encoder\n",
    "from features.simulation_features import SimCosineTunedEncWithNoise\n",
    "#set up intention feedbackcontroller\n",
    "#this ideally set before the encoder\n",
    "feats.append(SimIntentionLQRController)\n",
    "feats.append(SimCosineTunedEncWithNoise)\n",
    "\n",
    "\n",
    "feats_2.append(SimIntentionLQRController)\n",
    "feats_2.append(SimCosineTunedEncWithNoise)"
   ]
  },
  {
   "cell_type": "markdown",
   "metadata": {},
   "source": [
    "## decoder setup"
   ]
  },
  {
   "cell_type": "code",
   "execution_count": 11,
   "metadata": {
    "ExecuteTime": {
     "end_time": "2021-09-28T21:12:21.780990Z",
     "start_time": "2021-09-28T21:12:21.773290Z"
    }
   },
   "outputs": [
    {
     "name": "stdout",
     "output_type": "stream",
     "text": [
      "__main__: set base class \n",
      "__main__: selected SimKFDecoderRandom \n",
      "\n"
     ]
    }
   ],
   "source": [
    "#clda on random \n",
    "DECODER_MODE = 'random' # random \n",
    "\n",
    "   #take care the decoder setup\n",
    "if DECODER_MODE == 'random':\n",
    "    feats.append(SimKFDecoderRandom)\n",
    "    feats_2.append(SimKFDecoderRandom)\n",
    "    print(f'{__name__}: set base class ')\n",
    "    print(f'{__name__}: selected SimKFDecoderRandom \\n')\n",
    "else: #defaul to a cosEnc and a pre-traind KF DEC\n",
    "    from features.simulation_features import SimKFDecoderSup\n",
    "    feats.append(SimKFDecoderSup)\n",
    "    feats_2.append(SimKFDecoderSup)\n",
    "    print(f'{__name__}: set decoder to SimKFDecoderSup\\n')"
   ]
  },
  {
   "cell_type": "markdown",
   "metadata": {},
   "source": [
    "##  clda: learner and updater"
   ]
  },
  {
   "cell_type": "code",
   "execution_count": 12,
   "metadata": {
    "ExecuteTime": {
     "end_time": "2021-09-28T21:12:21.793159Z",
     "start_time": "2021-09-28T21:12:21.781773Z"
    }
   },
   "outputs": [],
   "source": [
    "\n",
    "#setting clda parameters \n",
    "##learner: collects paired data at batch_sizes\n",
    "RHO = 0.01\n",
    "batch_size = 100\n",
    "\n",
    "#learner and updater: actualy set up rho\n",
    "UPDATER_BATCH_TIME = 1\n",
    "UPDATER_HALF_LIFE = np.log(RHO)  * UPDATER_BATCH_TIME / np.log(0.5)\n",
    "\n",
    "\n",
    "\n",
    "LEARNER_TYPE = 'feedback' # to dumb or not dumb it is a question 'feedback'\n",
    "UPDATER_TYPE = 'smooth_batch' #none or \"smooth_batch\"\n",
    "\n",
    "\n",
    "#you know what? \n",
    "#learner only collects firing rates labeled with estimated estimates\n",
    "#we would also need to use the labeled data\n",
    "#now, we can set up a dumb/or not-dumb learner\n",
    "if LEARNER_TYPE == 'feedback':\n",
    "    from features.simulation_features import SimFeedbackLearner\n",
    "    feats.append(SimFeedbackLearner)\n",
    "    feats_2.append(SimFeedbackLearner)\n",
    "else:\n",
    "    from features.simulation_features import SimDumbLearner\n",
    "    feats.append(SimDumbLearner)\n",
    "    feats_2.append(SimDumbLearner)\n",
    "\n",
    "#to update the decoder.\n",
    "if UPDATER_TYPE == 'smooth_batch':\n",
    "    from features.simulation_features import SimSmoothBatch\n",
    "    feats.append(SimSmoothBatch)\n",
    "    feats_2.append(SimSmoothBatch)\n",
    "else: #defaut to none \n",
    "    print(f'{__name__}: need to specify an updater')"
   ]
  },
  {
   "cell_type": "markdown",
   "metadata": {},
   "source": [
    "## feature selector setup"
   ]
  },
  {
   "cell_type": "code",
   "execution_count": 13,
   "metadata": {
    "ExecuteTime": {
     "end_time": "2021-09-28T21:12:21.896537Z",
     "start_time": "2021-09-28T21:12:21.793987Z"
    }
   },
   "outputs": [
    {
     "name": "stdout",
     "output_type": "stream",
     "text": [
      "kwargs will be updated in a later time\n",
      "the feature adaptation project is tracking dict_keys(['transform_x_flag', 'transform_y_flag', 'n_starting_feats', 'n_states']) \n"
     ]
    }
   ],
   "source": [
    "from feature_selection_feature import FeatureTransformer, TransformerBatchToFit\n",
    "from feature_selection_feature import FeatureSelector, LassoFeatureSelector, SNRFeatureSelector, IterativeFeatureSelector\n",
    "from feature_selection_feature import ReliabilityFeatureSelector\n",
    "\n",
    "\n",
    "#pass the real time limit on clock\n",
    "feats.append(FeatureSelector)\n",
    "feats_2.append(ReliabilityFeatureSelector)\n",
    "\n",
    "\n",
    "feature_x_meth_arg = [\n",
    "    ('transpose', None ),\n",
    "]\n",
    "\n",
    "kwargs_feature = dict()\n",
    "kwargs_feature = {\n",
    "    'transform_x_flag':False,\n",
    "    'transform_y_flag':False,\n",
    "    'n_starting_feats': n_neurons,\n",
    "    'n_states':  7\n",
    "}\n",
    "\n",
    "print('kwargs will be updated in a later time')\n",
    "print(f'the feature adaptation project is tracking {kwargs_feature.keys()} ')"
   ]
  },
  {
   "cell_type": "markdown",
   "metadata": {},
   "source": [
    "## assistor setup"
   ]
  },
  {
   "cell_type": "code",
   "execution_count": 14,
   "metadata": {
    "ExecuteTime": {
     "end_time": "2021-09-28T21:12:21.898757Z",
     "start_time": "2021-09-28T21:12:21.897359Z"
    }
   },
   "outputs": [],
   "source": [
    "#assistor set up assist level\n",
    "assist_level = (0.0, 0.0)"
   ]
  },
  {
   "cell_type": "markdown",
   "metadata": {},
   "source": [
    "## (Check) config the experiment"
   ]
  },
  {
   "cell_type": "code",
   "execution_count": 15,
   "metadata": {
    "ExecuteTime": {
     "end_time": "2021-09-28T21:12:21.912869Z",
     "start_time": "2021-09-28T21:12:21.900422Z"
    }
   },
   "outputs": [
    {
     "data": {
      "text/plain": [
       "[[features.sync_features.HDFSync,\n",
       "  simulation_features.TimeCountDown,\n",
       "  features.simulation_features.SimIntentionLQRController,\n",
       "  features.simulation_features.SimCosineTunedEncWithNoise,\n",
       "  features.simulation_features.SimKFDecoderRandom,\n",
       "  features.simulation_features.SimFeedbackLearner,\n",
       "  features.simulation_features.SimSmoothBatch,\n",
       "  feature_selection_feature.FeatureSelector],\n",
       " [features.sync_features.HDFSync,\n",
       "  simulation_features.TimeCountDown,\n",
       "  features.simulation_features.SimIntentionLQRController,\n",
       "  features.simulation_features.SimCosineTunedEncWithNoise,\n",
       "  features.simulation_features.SimKFDecoderRandom,\n",
       "  features.simulation_features.SimFeedbackLearner,\n",
       "  features.simulation_features.SimSmoothBatch,\n",
       "  feature_selection_feature.ReliabilityFeatureSelector],\n",
       " [features.sync_features.HDFSync,\n",
       "  simulation_features.TimeCountDown,\n",
       "  features.simulation_features.SimIntentionLQRController,\n",
       "  features.simulation_features.SimCosineTunedEncWithNoise,\n",
       "  features.simulation_features.SimKFDecoderRandom,\n",
       "  features.simulation_features.SimFeedbackLearner,\n",
       "  features.simulation_features.SimSmoothBatch,\n",
       "  feature_selection_feature.FeatureSelector]]"
      ]
     },
     "execution_count": 15,
     "metadata": {},
     "output_type": "execute_result"
    }
   ],
   "source": [
    "exp_feats = [feats, feats_2, feats]\n",
    "exp_feats"
   ]
  },
  {
   "cell_type": "code",
   "execution_count": 16,
   "metadata": {
    "ExecuteTime": {
     "end_time": "2021-09-28T21:12:21.924962Z",
     "start_time": "2021-09-28T21:12:21.913864Z"
    }
   },
   "outputs": [],
   "source": [
    "if DEBUG_FEATURE: \n",
    "    from features.simulation_features import DebugFeature\n",
    "    feats.append(DebugFeature)\n",
    "    \n",
    "if SAVE_HDF: \n",
    "    feats.append(SaveHDF)\n",
    "    feats_2.append(SaveHDF)\n",
    "if SAVE_SIM_HDF: \n",
    "    feats.append(SimHDF)\n",
    "    feats_2.append(SimHDF)\n",
    "    \n",
    "    \n",
    "#pass the real time limit on clock\n",
    "feats.append(SimClockTick)\n",
    "feats.append(SimTime)\n",
    "\n",
    "feats_2.append(SimClockTick)\n",
    "feats_2.append(SimTime)\n"
   ]
  },
  {
   "cell_type": "code",
   "execution_count": 17,
   "metadata": {
    "ExecuteTime": {
     "end_time": "2021-09-28T21:12:21.937846Z",
     "start_time": "2021-09-28T21:12:21.925798Z"
    }
   },
   "outputs": [
    {
     "name": "stdout",
     "output_type": "stream",
     "text": [
      "we have got 2 exps\n"
     ]
    },
    {
     "data": {
      "text/plain": [
       "[{'total_exp_time': 300,\n",
       "  'assist_level': (0.0, 0.0),\n",
       "  'sim_C': array([[   0.,    0.,    0.,  100.,    0.,    0.,    0.],\n",
       "         [   0.,    0.,    0.,    0.,    0.,  100.,    0.],\n",
       "         [   0.,    0.,    0., -100.,    0.,    0.,    0.],\n",
       "         [   0.,    0.,    0.,   -0.,    0., -100.,    0.],\n",
       "         [   0.,    0.,    0.,  100.,    0.,    0.,    0.],\n",
       "         [   0.,    0.,    0.,    0.,    0.,  100.,    0.],\n",
       "         [   0.,    0.,    0., -100.,    0.,    0.,    0.],\n",
       "         [   0.,    0.,    0.,   -0.,    0., -100.,    0.],\n",
       "         [   0.,    0.,    0.,  100.,    0.,    0.,    0.],\n",
       "         [   0.,    0.,    0.,    0.,    0.,  100.,    0.],\n",
       "         [   0.,    0.,    0., -100.,    0.,    0.,    0.],\n",
       "         [   0.,    0.,    0.,   -0.,    0., -100.,    0.],\n",
       "         [   0.,    0.,    0.,  100.,    0.,    0.,    0.],\n",
       "         [   0.,    0.,    0.,    0.,    0.,  100.,    0.],\n",
       "         [   0.,    0.,    0., -100.,    0.,    0.,    0.],\n",
       "         [   0.,    0.,    0.,   -0.,    0., -100.,    0.],\n",
       "         [   0.,    0.,    0.,  100.,    0.,    0.,    0.],\n",
       "         [   0.,    0.,    0.,    0.,    0.,  100.,    0.],\n",
       "         [   0.,    0.,    0., -100.,    0.,    0.,    0.],\n",
       "         [   0.,    0.,    0.,   -0.,    0., -100.,    0.],\n",
       "         [   0.,    0.,    0.,  100.,    0.,    0.,    0.],\n",
       "         [   0.,    0.,    0.,    0.,    0.,  100.,    0.],\n",
       "         [   0.,    0.,    0., -100.,    0.,    0.,    0.],\n",
       "         [   0.,    0.,    0.,   -0.,    0., -100.,    0.],\n",
       "         [   0.,    0.,    0.,  100.,    0.,    0.,    0.],\n",
       "         [   0.,    0.,    0.,    0.,    0.,  100.,    0.],\n",
       "         [   0.,    0.,    0., -100.,    0.,    0.,    0.],\n",
       "         [   0.,    0.,    0.,   -0.,    0., -100.,    0.],\n",
       "         [   0.,    0.,    0.,  100.,    0.,    0.,    0.],\n",
       "         [   0.,    0.,    0.,    0.,    0.,  100.,    0.],\n",
       "         [   0.,    0.,    0., -100.,    0.,    0.,    0.],\n",
       "         [   0.,    0.,    0.,   -0.,    0., -100.,    0.]]),\n",
       "  'noise_neuron_list': array([ True,  True,  True,  True,  True,  True,  True,  True,  True,\n",
       "          True,  True,  True,  True,  True,  True,  True,  True,  True,\n",
       "          True,  True,  True,  True,  True,  True, False, False, False,\n",
       "         False, False, False, False, False]),\n",
       "  'noise_mode': 'fixed_gaussian',\n",
       "  'percent_noise': array([[1.],\n",
       "         [1.],\n",
       "         [1.],\n",
       "         [1.],\n",
       "         [1.],\n",
       "         [1.],\n",
       "         [1.],\n",
       "         [1.],\n",
       "         [1.],\n",
       "         [1.],\n",
       "         [1.],\n",
       "         [1.],\n",
       "         [1.],\n",
       "         [1.],\n",
       "         [1.],\n",
       "         [1.],\n",
       "         [1.],\n",
       "         [1.],\n",
       "         [1.],\n",
       "         [1.],\n",
       "         [1.],\n",
       "         [1.],\n",
       "         [1.],\n",
       "         [1.],\n",
       "         [1.],\n",
       "         [1.],\n",
       "         [1.],\n",
       "         [1.],\n",
       "         [1.],\n",
       "         [1.],\n",
       "         [1.],\n",
       "         [1.]]),\n",
       "  'fixed_noise_level': 0,\n",
       "  'batch_size': 100,\n",
       "  'batch_time': 1,\n",
       "  'half_life': 6.643856189774724,\n",
       "  'transform_x_flag': False,\n",
       "  'transform_y_flag': False,\n",
       "  'n_starting_feats': 32,\n",
       "  'n_states': 7},\n",
       " {'total_exp_time': 300,\n",
       "  'assist_level': (0.0, 0.0),\n",
       "  'sim_C': array([[   0.,    0.,    0.,  100.,    0.,    0.,    0.],\n",
       "         [   0.,    0.,    0.,    0.,    0.,  100.,    0.],\n",
       "         [   0.,    0.,    0., -100.,    0.,    0.,    0.],\n",
       "         [   0.,    0.,    0.,   -0.,    0., -100.,    0.],\n",
       "         [   0.,    0.,    0.,  100.,    0.,    0.,    0.],\n",
       "         [   0.,    0.,    0.,    0.,    0.,  100.,    0.],\n",
       "         [   0.,    0.,    0., -100.,    0.,    0.,    0.],\n",
       "         [   0.,    0.,    0.,   -0.,    0., -100.,    0.],\n",
       "         [   0.,    0.,    0.,  100.,    0.,    0.,    0.],\n",
       "         [   0.,    0.,    0.,    0.,    0.,  100.,    0.],\n",
       "         [   0.,    0.,    0., -100.,    0.,    0.,    0.],\n",
       "         [   0.,    0.,    0.,   -0.,    0., -100.,    0.],\n",
       "         [   0.,    0.,    0.,  100.,    0.,    0.,    0.],\n",
       "         [   0.,    0.,    0.,    0.,    0.,  100.,    0.],\n",
       "         [   0.,    0.,    0., -100.,    0.,    0.,    0.],\n",
       "         [   0.,    0.,    0.,   -0.,    0., -100.,    0.],\n",
       "         [   0.,    0.,    0.,  100.,    0.,    0.,    0.],\n",
       "         [   0.,    0.,    0.,    0.,    0.,  100.,    0.],\n",
       "         [   0.,    0.,    0., -100.,    0.,    0.,    0.],\n",
       "         [   0.,    0.,    0.,   -0.,    0., -100.,    0.],\n",
       "         [   0.,    0.,    0.,  100.,    0.,    0.,    0.],\n",
       "         [   0.,    0.,    0.,    0.,    0.,  100.,    0.],\n",
       "         [   0.,    0.,    0., -100.,    0.,    0.,    0.],\n",
       "         [   0.,    0.,    0.,   -0.,    0., -100.,    0.],\n",
       "         [   0.,    0.,    0.,  100.,    0.,    0.,    0.],\n",
       "         [   0.,    0.,    0.,    0.,    0.,  100.,    0.],\n",
       "         [   0.,    0.,    0., -100.,    0.,    0.,    0.],\n",
       "         [   0.,    0.,    0.,   -0.,    0., -100.,    0.],\n",
       "         [   0.,    0.,    0.,  100.,    0.,    0.,    0.],\n",
       "         [   0.,    0.,    0.,    0.,    0.,  100.,    0.],\n",
       "         [   0.,    0.,    0., -100.,    0.,    0.,    0.],\n",
       "         [   0.,    0.,    0.,   -0.,    0., -100.,    0.]]),\n",
       "  'noise_neuron_list': array([ True,  True,  True,  True,  True,  True,  True,  True,  True,\n",
       "          True,  True,  True,  True,  True,  True,  True,  True,  True,\n",
       "          True,  True,  True,  True,  True,  True, False, False, False,\n",
       "         False, False, False, False, False]),\n",
       "  'noise_mode': 'fixed_gaussian',\n",
       "  'percent_noise': array([[1.],\n",
       "         [1.],\n",
       "         [1.],\n",
       "         [1.],\n",
       "         [1.],\n",
       "         [1.],\n",
       "         [1.],\n",
       "         [1.],\n",
       "         [1.],\n",
       "         [1.],\n",
       "         [1.],\n",
       "         [1.],\n",
       "         [1.],\n",
       "         [1.],\n",
       "         [1.],\n",
       "         [1.],\n",
       "         [1.],\n",
       "         [1.],\n",
       "         [1.],\n",
       "         [1.],\n",
       "         [1.],\n",
       "         [1.],\n",
       "         [1.],\n",
       "         [1.],\n",
       "         [1.],\n",
       "         [1.],\n",
       "         [1.],\n",
       "         [1.],\n",
       "         [1.],\n",
       "         [1.],\n",
       "         [1.],\n",
       "         [1.]]),\n",
       "  'fixed_noise_level': 0,\n",
       "  'batch_size': 100,\n",
       "  'batch_time': 1,\n",
       "  'half_life': 6.643856189774724,\n",
       "  'transform_x_flag': False,\n",
       "  'transform_y_flag': False,\n",
       "  'n_starting_feats': 32,\n",
       "  'n_states': 7}]"
      ]
     },
     "execution_count": 17,
     "metadata": {},
     "output_type": "execute_result"
    }
   ],
   "source": [
    "kwargs_exps = list()\n",
    "\n",
    "for i in range(NUM_EXP):\n",
    "    d = dict()\n",
    "    \n",
    "    d['total_exp_time'] = total_exp_time\n",
    "    \n",
    "    d['assist_level'] = assist_level\n",
    "    d['sim_C'] = sim_C\n",
    "    \n",
    "    d['noise_neuron_list'] = noise_neuron_list\n",
    "    d['noise_mode'] = noise_mode\n",
    "    d['percent_noise'] = percent_of_count\n",
    "    d['fixed_noise_level'] = fixed_noise_level\n",
    "    \n",
    "    d['batch_size'] = batch_size\n",
    "    \n",
    "    d['batch_time'] = UPDATER_BATCH_TIME\n",
    "    d['half_life'] = UPDATER_HALF_LIFE\n",
    "    \n",
    "    \n",
    "    d.update(kwargs_feature)\n",
    "    \n",
    "    kwargs_exps.append(d)\n",
    "\n",
    "# kwargs_exps[1]['init_feat_set'] = np.full(N_NEURONS, True, dtype = bool)\n",
    "\n",
    "\n",
    "# kwargs_exps[2]['init_feat_set'] = np.full(N_NEURONS, False, dtype = bool)\n",
    "# kwargs_exps[2]['init_feat_set'][no_noise_neuron_list] = True\n",
    "\n",
    "print(f'we have got {len(kwargs_exps)} exps')\n",
    "kwargs_exps"
   ]
  },
  {
   "cell_type": "markdown",
   "metadata": {},
   "source": [
    "## make and initalize experiment instances"
   ]
  },
  {
   "cell_type": "code",
   "execution_count": 18,
   "metadata": {
    "ExecuteTime": {
     "end_time": "2021-09-28T21:12:21.972143Z",
     "start_time": "2021-09-28T21:12:21.938543Z"
    }
   },
   "outputs": [
    {
     "name": "stdout",
     "output_type": "stream",
     "text": [
      "\n",
      "features.simulation_features.SimIntentionLQRController: LQRController used \n",
      "\n",
      "\n",
      " features.simulation_features.SimFeedbackLearner: start to create a sim leaner with a batchsize of 100\n",
      "features.simulation_features.SimSmoothBatch: rho in this simulation is  0.9009288012833828\n",
      "\n",
      "finished executing Experiment.__init__\n",
      "in feature selector mod\n",
      "feature init: [array([ True,  True,  True,  True,  True,  True,  True,  True,  True,\n",
      "        True,  True,  True,  True,  True,  True,  True,  True,  True,\n",
      "        True,  True,  True,  True,  True,  True,  True,  True,  True,\n",
      "        True,  True,  True,  True,  True])]\n",
      "feature selector: add initial decoder weights\n",
      "<class 'features.simulation_features.SimCosineTunedEncWithNoise'>: added CosineTunedEncWithNoise \n",
      "TimeCountDown: assume  fps to be 60\n",
      "\n",
      "features.simulation_features.SimIntentionLQRController: LQRController used \n",
      "\n",
      "\n",
      " features.simulation_features.SimFeedbackLearner: start to create a sim leaner with a batchsize of 100\n",
      "features.simulation_features.SimSmoothBatch: rho in this simulation is  0.9009288012833828\n",
      "\n",
      "finished executing Experiment.__init__\n",
      "in feature selector mod\n",
      "feature init: [array([ True,  True,  True,  True,  True,  True,  True,  True,  True,\n",
      "        True,  True,  True,  True,  True,  True,  True,  True,  True,\n",
      "        True,  True,  True,  True,  True,  True,  True,  True,  True,\n",
      "        True,  True,  True,  True,  True])]\n",
      "feature selector: add initial decoder weights\n",
      "<class 'features.simulation_features.SimCosineTunedEncWithNoise'>: added CosineTunedEncWithNoise \n",
      "TimeCountDown: assume  fps to be 60\n",
      "next\n",
      "\n",
      "next\n",
      "\n"
     ]
    }
   ],
   "source": [
    "#seed the experiment\n",
    "np.random.seed(0)\n",
    "\n",
    "\n",
    "exps = list()#create a list of experiment\n",
    "\n",
    "for i,s in enumerate(seqs):\n",
    "    #spawn the task\n",
    "    f = exp_feats[i]\n",
    "    Exp = experiment.make(base_class, feats=f)\n",
    "    \n",
    "    e = Exp(s, **kwargs_exps[i])\n",
    "    exps.append(e)\n",
    "\n",
    "\n",
    "exps_np  = np.array(exps, dtype = 'object')\n",
    "#run the ini\n",
    "for e in exps_np: \n",
    "    #e.init()\n",
    "    print('next')\n",
    "    print()\n"
   ]
  },
  {
   "cell_type": "markdown",
   "metadata": {},
   "source": [
    "# Pre-experiment check: check the Kalman filter before training"
   ]
  },
  {
   "cell_type": "code",
   "execution_count": 19,
   "metadata": {
    "ExecuteTime": {
     "end_time": "2021-09-28T21:12:21.974371Z",
     "start_time": "2021-09-28T21:12:21.972988Z"
    }
   },
   "outputs": [],
   "source": [
    "# print('we check the new decoder C matrix:')\n",
    "\n",
    "# figure_decoder_C, axs_decoder_C = plt.subplots(nrows=2, \n",
    "#                                ncols=NUM_EXP, figsize = [GLOBAL_FIGURE_VERTICAL_SIZE * NUM_EXP, GLOBAL_FIGURE_VERTICAL_SIZE * 2],squeeze = False)\n",
    "# figure_decoder_C.suptitle('KF C Matrix Before Training ')\n",
    "\n",
    "# for i,e in enumerate(exps):\n",
    "#     C = e.decoder.filt.C\n",
    "#     plot_prefered_directions(C, ax = axs_decoder_C[0,i])\n",
    "#     axs_decoder_C[0,i].set_title(exp_conds[i])"
   ]
  },
  {
   "cell_type": "markdown",
   "metadata": {},
   "source": [
    "# Experiment run: assemble into a complete loop"
   ]
  },
  {
   "cell_type": "markdown",
   "metadata": {},
   "source": [
    "## actually running the experiments"
   ]
  },
  {
   "cell_type": "code",
   "execution_count": 20,
   "metadata": {
    "ExecuteTime": {
     "end_time": "2021-09-28T21:13:23.255155Z",
     "start_time": "2021-09-28T21:12:21.975085Z"
    },
    "scrolled": true
   },
   "outputs": [
    {
     "name": "stdout",
     "output_type": "stream",
     "text": [
      "\n",
      " using encoder with additional noises  State space: ['hand_px', 'hand_py', 'hand_pz', 'hand_vx', 'hand_vy', 'hand_vz', 'offset'] \n",
      "\n",
      "<bound method GenericCosEncWithNoise._gen_fixed_gaussian_noise of <riglib.bmi.sim_neurons.GenericCosEncWithNoise object at 0x7efe57da1cd0>>\n",
      "neural encoder init function  <SimpleTargetCapture(Thread-4, initial)>\n",
      "features.simulation_features: added tracking of K matrix\n",
      "sinkmanager start <class 'hdfwriter.hdfwriter.HDFWriter'>\n",
      "HDFWriter: Saving datafile to /tmp/tmpx1f0pn_a.h5\n",
      "HDFWriter: opening file\n",
      "HDFWriter registered 'sync_events'\n",
      "HDFWriter registered 'sync_clock'\n",
      "HDFWriter registered 'trials'\n",
      "HDFWriter registered 'task'\n",
      "<bmimultitasks.SimpleEndpointAssister object at 0x7efe57d8a7f0>\n",
      "features.simulation_features: batch size is 100\n",
      "Reset states for learner: \n",
      "[]\n",
      "Done states for learner: \n",
      "[]\n",
      "\n",
      "features.simulation_features.SimFeedbackLearner: flip the self.learn_flag to true\n",
      "features.simulation_features.SimFeedbackLearner: succussfully created a feedback controller learner\n",
      "\n",
      "\n",
      "SimSmoothBatch: created an updater with a batch time of 1 and a half_life of 6.643856189774724 \n",
      "\n",
      "..........................finished: 1\n",
      "assist_level at final value after 0 successful trials\n",
      "Warning: Cannot sync more than 1 event per cycle\n",
      "Overwriting [b'EXP_START'] with TARGET_ON event\n",
      "Warning: Cannot sync more than 1 event per cycle\n",
      "Overwriting [b'TARGET_ON'] with TARGET_ON event\n",
      "Warning: Cannot sync more than 1 event per cycle\n",
      "Overwriting [b'TARGET_ON'] with TARGET_ON event\n",
      "Warning: Cannot sync more than 1 event per cycle\n",
      "Overwriting [b'TARGET_ON'] with TARGET_ON event\n"
     ]
    },
    {
     "name": "stderr",
     "output_type": "stream",
     "text": [
      "/home/sijia-aw/BMi3D_my/lab_bmi3d/riglib/bmi/kfdecoder.py:372: FutureWarning: `rcond` parameter will change to the default of machine precision times ``max(M, N)`` where M and N are the input matrix dimensions.\n",
      "To use the future default and silence this warning we advise to pass `rcond=None`, to keep using the old, explicitly pass `rcond=-1`.\n",
      "  C = np.mat(np.linalg.lstsq(X.T, Y.T)[0].T)\n"
     ]
    },
    {
     "name": "stdout",
     "output_type": "stream",
     "text": [
      "Warning: Cannot sync more than 1 event per cycle\n",
      "Overwriting [b'TARGET_ON'] with TARGET_ON event\n",
      "Warning: Cannot sync more than 1 event per cycle\n",
      "Overwriting [b'TARGET_ON'] with TARGET_ON event\n",
      "Warning: Cannot sync more than 1 event per cycle\n",
      "Overwriting [b'TARGET_ON'] with TARGET_ON event\n",
      "Warning: Cannot sync more than 1 event per cycle\n",
      "Overwriting [b'TARGET_ON'] with TARGET_ON event\n",
      "Warning: Cannot sync more than 1 event per cycle\n",
      "Overwriting [b'TARGET_ON'] with TARGET_ON event\n",
      "Warning: Cannot sync more than 1 event per cycle\n",
      "Overwriting [b'TARGET_ON'] with TARGET_ON event\n",
      "Warning: Cannot sync more than 1 event per cycle\n",
      "Overwriting [b'TARGET_ON'] with TARGET_ON event\n",
      "Warning: Cannot sync more than 1 event per cycle\n",
      "Overwriting [b'TARGET_ON'] with TARGET_ON event\n",
      "Warning: Cannot sync more than 1 event per cycle\n",
      "Overwriting [b'TARGET_ON'] with TARGET_ON event\n",
      "Warning: Cannot sync more than 1 event per cycle\n",
      "Overwriting [b'TARGET_ON'] with TARGET_ON event\n",
      "Warning: Cannot sync more than 1 event per cycle\n",
      "Overwriting [b'TARGET_ON'] with TARGET_ON event\n",
      "Warning: Cannot sync more than 1 event per cycle\n",
      "Overwriting [b'TARGET_ON'] with TARGET_ON event\n",
      "Warning: Cannot sync more than 1 event per cycle\n",
      "Overwriting [b'TARGET_ON'] with TARGET_ON event\n",
      "Warning: Cannot sync more than 1 event per cycle\n",
      "Overwriting [b'TARGET_ON'] with TARGET_ON event\n",
      "Warning: Cannot sync more than 1 event per cycle\n",
      "Overwriting [b'TARGET_ON'] with TARGET_ON event\n",
      "Warning: Cannot sync more than 1 event per cycle\n",
      "Overwriting [b'TARGET_ON'] with TARGET_ON event\n",
      "Warning: Cannot sync more than 1 event per cycle\n",
      "Overwriting [b'TARGET_ON'] with TARGET_ON event\n",
      "Warning: Cannot sync more than 1 event per cycle\n",
      "Overwriting [b'TARGET_ON'] with TARGET_ON event\n",
      "Warning: Cannot sync more than 1 event per cycle\n",
      "Overwriting [b'TARGET_ON'] with TARGET_ON event\n",
      "Warning: Cannot sync more than 1 event per cycle\n",
      "Overwriting [b'TARGET_ON'] with TARGET_ON event\n",
      "Warning: Cannot sync more than 1 event per cycle\n",
      "Overwriting [b'TARGET_ON'] with TARGET_ON event\n",
      "Warning: Cannot sync more than 1 event per cycle\n",
      "Overwriting [b'TARGET_ON'] with TARGET_ON event\n",
      "Warning: Cannot sync more than 1 event per cycle\n",
      "Overwriting [b'TARGET_ON'] with TARGET_ON event\n",
      "Warning: Cannot sync more than 1 event per cycle\n",
      "Overwriting [b'TARGET_ON'] with TARGET_ON event\n",
      "Warning: Cannot sync more than 1 event per cycle\n",
      "Overwriting [b'TARGET_ON'] with TARGET_ON event\n",
      "Warning: Cannot sync more than 1 event per cycle\n",
      "Overwriting [b'TARGET_ON'] with TARGET_ON event\n",
      "Warning: Cannot sync more than 1 event per cycle\n",
      "Overwriting [b'TARGET_ON'] with TARGET_ON event\n",
      "Warning: Cannot sync more than 1 event per cycle\n",
      "Overwriting [b'TARGET_ON'] with TARGET_ON event\n",
      "Warning: Cannot sync more than 1 event per cycle\n",
      "Overwriting [b'TARGET_ON'] with TARGET_ON event\n",
      "Warning: Cannot sync more than 1 event per cycle\n",
      "Overwriting [b'TARGET_ON'] with TARGET_ON event\n",
      "Warning: Cannot sync more than 1 event per cycle\n",
      "Overwriting [b'TARGET_ON'] with TARGET_ON event\n",
      "Warning: Cannot sync more than 1 event per cycle\n",
      "Overwriting [b'TARGET_ON'] with TARGET_ON event\n",
      "Warning: Cannot sync more than 1 event per cycle\n",
      "Overwriting [b'TARGET_ON'] with TARGET_ON event\n",
      "Warning: Cannot sync more than 1 event per cycle\n",
      "Overwriting [b'TARGET_ON'] with TARGET_ON event\n",
      "Warning: Cannot sync more than 1 event per cycle\n",
      "Overwriting [b'TARGET_ON'] with TARGET_ON event\n",
      "Warning: Cannot sync more than 1 event per cycle\n",
      "Overwriting [b'TARGET_ON'] with TARGET_ON event\n",
      "Warning: Cannot sync more than 1 event per cycle\n",
      "Overwriting [b'TARGET_ON'] with TARGET_ON event\n",
      "Warning: Cannot sync more than 1 event per cycle\n",
      "Overwriting [b'TARGET_ON'] with TARGET_ON event\n",
      "Warning: Cannot sync more than 1 event per cycle\n",
      "Overwriting [b'TARGET_ON'] with TARGET_ON event\n",
      "Warning: Cannot sync more than 1 event per cycle\n",
      "Overwriting [b'TARGET_ON'] with TARGET_ON event\n",
      "Warning: Cannot sync more than 1 event per cycle\n",
      "Overwriting [b'TARGET_ON'] with TARGET_ON event\n",
      "Warning: Cannot sync more than 1 event per cycle\n",
      "Overwriting [b'TARGET_ON'] with TARGET_ON event\n",
      "Warning: Cannot sync more than 1 event per cycle\n",
      "Overwriting [b'TARGET_ON'] with TARGET_ON event\n",
      "Warning: Cannot sync more than 1 event per cycle\n",
      "Overwriting [b'TARGET_ON'] with TARGET_ON event\n",
      "Warning: Cannot sync more than 1 event per cycle\n",
      "Overwriting [b'TARGET_ON'] with TARGET_ON event\n",
      "Warning: Cannot sync more than 1 event per cycle\n",
      "Overwriting [b'TARGET_ON'] with TARGET_ON event\n",
      "Warning: Cannot sync more than 1 event per cycle\n",
      "Overwriting [b'TARGET_ON'] with TARGET_ON event\n",
      "Warning: Cannot sync more than 1 event per cycle\n",
      "Overwriting [b'TARGET_ON'] with TARGET_ON event\n",
      "Warning: Cannot sync more than 1 event per cycle\n",
      "Overwriting [b'TARGET_ON'] with TARGET_ON event\n",
      "Warning: Cannot sync more than 1 event per cycle\n",
      "Overwriting [b'TARGET_ON'] with TARGET_ON event\n",
      "Warning: Cannot sync more than 1 event per cycle\n",
      "Overwriting [b'TARGET_ON'] with TARGET_ON event\n",
      "Warning: Cannot sync more than 1 event per cycle\n",
      "Overwriting [b'TARGET_ON'] with TARGET_ON event\n",
      "Warning: Cannot sync more than 1 event per cycle\n",
      "Overwriting [b'TARGET_ON'] with TARGET_ON event\n",
      "Warning: Cannot sync more than 1 event per cycle\n",
      "Overwriting [b'TARGET_ON'] with TARGET_ON event\n",
      "Warning: Cannot sync more than 1 event per cycle\n",
      "Overwriting [b'TARGET_ON'] with TARGET_ON event\n",
      "Warning: Cannot sync more than 1 event per cycle\n",
      "Overwriting [b'TARGET_ON'] with TARGET_ON event\n",
      "Warning: Cannot sync more than 1 event per cycle\n",
      "Overwriting [b'TARGET_ON'] with TARGET_ON event\n",
      "Warning: Cannot sync more than 1 event per cycle\n",
      "Overwriting [b'TARGET_ON'] with TARGET_ON event\n",
      "Warning: Cannot sync more than 1 event per cycle\n",
      "Overwriting [b'TARGET_ON'] with TARGET_ON event\n",
      "Warning: Cannot sync more than 1 event per cycle\n",
      "Overwriting [b'TARGET_ON'] with TARGET_ON event\n",
      "Warning: Cannot sync more than 1 event per cycle\n",
      "Overwriting [b'TARGET_ON'] with TARGET_ON event\n",
      "Warning: Cannot sync more than 1 event per cycle\n",
      "Overwriting [b'TARGET_ON'] with TARGET_ON event\n",
      "Warning: Cannot sync more than 1 event per cycle\n",
      "Overwriting [b'TARGET_ON'] with TARGET_ON event\n",
      "Warning: Cannot sync more than 1 event per cycle\n",
      "Overwriting [b'TARGET_ON'] with TARGET_ON event\n",
      "Warning: Cannot sync more than 1 event per cycle\n",
      "Overwriting [b'TARGET_ON'] with TARGET_ON event\n",
      "Warning: Cannot sync more than 1 event per cycle\n",
      "Overwriting [b'TARGET_ON'] with TARGET_ON event\n",
      "Warning: Cannot sync more than 1 event per cycle\n",
      "Overwriting [b'TARGET_ON'] with TARGET_ON event\n",
      "Warning: Cannot sync more than 1 event per cycle\n",
      "Overwriting [b'TARGET_ON'] with TARGET_ON event\n",
      "Warning: Cannot sync more than 1 event per cycle\n",
      "Overwriting [b'TARGET_ON'] with TARGET_ON event\n",
      "Warning: Cannot sync more than 1 event per cycle\n",
      "Overwriting [b'TARGET_ON'] with TARGET_ON event\n",
      "Warning: Cannot sync more than 1 event per cycle\n",
      "Overwriting [b'TARGET_ON'] with TARGET_ON event\n",
      "Warning: Cannot sync more than 1 event per cycle\n",
      "Overwriting [b'TARGET_ON'] with TARGET_ON event\n",
      "Warning: Cannot sync more than 1 event per cycle\n",
      "Overwriting [b'TARGET_ON'] with TARGET_ON event\n",
      "Warning: Cannot sync more than 1 event per cycle\n",
      "Overwriting [b'TARGET_ON'] with TARGET_ON event\n",
      "Warning: Cannot sync more than 1 event per cycle\n",
      "Overwriting [b'TARGET_ON'] with TARGET_ON event\n",
      "Warning: Cannot sync more than 1 event per cycle\n",
      "Overwriting [b'TARGET_ON'] with TARGET_ON event\n",
      "Warning: Cannot sync more than 1 event per cycle\n",
      "Overwriting [b'TARGET_ON'] with TARGET_ON event\n",
      "Warning: Cannot sync more than 1 event per cycle\n",
      "Overwriting [b'TARGET_ON'] with TARGET_ON event\n",
      "Warning: Cannot sync more than 1 event per cycle\n",
      "Overwriting [b'TARGET_ON'] with TARGET_ON event\n",
      "Warning: Cannot sync more than 1 event per cycle\n",
      "Overwriting [b'TARGET_ON'] with TARGET_ON event\n",
      "Warning: Cannot sync more than 1 event per cycle\n",
      "Overwriting [b'TARGET_ON'] with TARGET_ON event\n",
      "Warning: Cannot sync more than 1 event per cycle\n",
      "Overwriting [b'TARGET_ON'] with TARGET_ON event\n",
      "Warning: Cannot sync more than 1 event per cycle\n",
      "Overwriting [b'TARGET_ON'] with TARGET_ON event\n",
      "Warning: Cannot sync more than 1 event per cycle\n",
      "Overwriting [b'TARGET_ON'] with TARGET_ON event\n",
      "Warning: Cannot sync more than 1 event per cycle\n",
      "Overwriting [b'TARGET_ON'] with TARGET_ON event\n",
      "Warning: Cannot sync more than 1 event per cycle\n",
      "Overwriting [b'TARGET_ON'] with TARGET_ON event\n",
      "Warning: Cannot sync more than 1 event per cycle\n",
      "Overwriting [b'TARGET_ON'] with TARGET_ON event\n"
     ]
    },
    {
     "name": "stdout",
     "output_type": "stream",
     "text": [
      "Warning: Cannot sync more than 1 event per cycle\n",
      "Overwriting [b'TARGET_ON'] with TARGET_ON event\n",
      "Warning: Cannot sync more than 1 event per cycle\n",
      "Overwriting [b'TARGET_ON'] with TARGET_ON event\n",
      "Warning: Cannot sync more than 1 event per cycle\n",
      "Overwriting [b'TARGET_ON'] with TARGET_ON event\n",
      "Warning: Cannot sync more than 1 event per cycle\n",
      "Overwriting [b'TARGET_ON'] with TARGET_ON event\n",
      "Warning: Cannot sync more than 1 event per cycle\n",
      "Overwriting [b'TARGET_ON'] with TARGET_ON event\n",
      "Warning: Cannot sync more than 1 event per cycle\n",
      "Overwriting [b'TARGET_ON'] with TARGET_ON event\n",
      "Warning: Cannot sync more than 1 event per cycle\n",
      "Overwriting [b'TARGET_ON'] with TARGET_ON event\n",
      "Warning: Cannot sync more than 1 event per cycle\n",
      "Overwriting [b'TARGET_ON'] with TARGET_ON event\n",
      "Warning: Cannot sync more than 1 event per cycle\n",
      "Overwriting [b'TARGET_ON'] with TARGET_ON event\n",
      "Warning: Cannot sync more than 1 event per cycle\n",
      "Overwriting [b'TARGET_ON'] with TARGET_ON event\n",
      "Warning: Cannot sync more than 1 event per cycle\n",
      "Overwriting [b'TARGET_ON'] with TARGET_ON event\n",
      "Warning: Cannot sync more than 1 event per cycle\n",
      "Overwriting [b'TARGET_ON'] with TARGET_ON event\n",
      "Warning: Cannot sync more than 1 event per cycle\n",
      "Overwriting [b'TARGET_ON'] with TARGET_ON event\n",
      "Warning: Cannot sync more than 1 event per cycle\n",
      "Overwriting [b'TARGET_ON'] with TARGET_ON event\n",
      "Warning: Cannot sync more than 1 event per cycle\n",
      "Overwriting [b'TARGET_ON'] with TARGET_ON event\n",
      "Warning: Cannot sync more than 1 event per cycle\n",
      "Overwriting [b'TARGET_ON'] with TARGET_ON event\n",
      "Warning: Cannot sync more than 1 event per cycle\n",
      "Overwriting [b'TARGET_ON'] with TARGET_ON event\n",
      "Warning: Cannot sync more than 1 event per cycle\n",
      "Overwriting [b'TARGET_ON'] with TARGET_ON event\n",
      "Warning: Cannot sync more than 1 event per cycle\n",
      "Overwriting [b'TARGET_ON'] with TARGET_ON event\n",
      "Warning: Cannot sync more than 1 event per cycle\n",
      "Overwriting [b'TARGET_ON'] with TARGET_ON event\n",
      "Warning: Cannot sync more than 1 event per cycle\n",
      "Overwriting [b'TARGET_ON'] with TARGET_ON event\n",
      "Warning: Cannot sync more than 1 event per cycle\n",
      "Overwriting [b'TARGET_ON'] with TARGET_ON event\n",
      "Warning: Cannot sync more than 1 event per cycle\n",
      "Overwriting [b'TARGET_ON'] with TARGET_ON event\n",
      "Warning: Cannot sync more than 1 event per cycle\n",
      "Overwriting [b'TARGET_ON'] with TARGET_ON event\n",
      "Warning: Cannot sync more than 1 event per cycle\n",
      "Overwriting [b'TARGET_ON'] with TARGET_ON event\n",
      "Warning: Cannot sync more than 1 event per cycle\n",
      "Overwriting [b'TARGET_ON'] with TARGET_ON event\n",
      "Warning: Cannot sync more than 1 event per cycle\n",
      "Overwriting [b'TARGET_ON'] with TARGET_ON event\n",
      "Warning: Cannot sync more than 1 event per cycle\n",
      "Overwriting [b'TARGET_ON'] with TARGET_ON event\n",
      "Warning: Cannot sync more than 1 event per cycle\n",
      "Overwriting [b'TARGET_ON'] with TARGET_ON event\n",
      "Warning: Cannot sync more than 1 event per cycle\n",
      "Overwriting [b'TARGET_ON'] with TARGET_ON event\n",
      "Warning: Cannot sync more than 1 event per cycle\n",
      "Overwriting [b'TARGET_ON'] with TARGET_ON event\n",
      "Warning: Cannot sync more than 1 event per cycle\n",
      "Overwriting [b'TARGET_ON'] with TARGET_ON event\n",
      "Warning: Cannot sync more than 1 event per cycle\n",
      "Overwriting [b'TARGET_ON'] with TARGET_ON event\n",
      "Warning: Cannot sync more than 1 event per cycle\n",
      "Overwriting [b'TARGET_ON'] with TARGET_ON event\n",
      "Warning: Cannot sync more than 1 event per cycle\n",
      "Overwriting [b'TARGET_ON'] with TARGET_ON event\n",
      "Warning: Cannot sync more than 1 event per cycle\n",
      "Overwriting [b'TARGET_ON'] with TARGET_ON event\n",
      "Warning: Cannot sync more than 1 event per cycle\n",
      "Overwriting [b'TARGET_ON'] with TARGET_ON event\n",
      "finish  at cycle_count: 18000\n",
      "..........................Closed hdf\n",
      "ended datasink\n",
      "0\n",
      "exit\n",
      "end of FSM.run, task state is None\n",
      "wait for 10s for hdf file to save\n",
      "saving file name to /tmp/tmpx1f0pn_a.h5\n",
      "riglib.bmi.bmi: clda table names\n",
      "['kf.C', 'kf.Q', 'kf.C_xpose_Q_inv_C', 'kf.C_xpose_Q_inv', 'mFR', 'sdFR', 'rho', 'intended_kin', 'spike_counts_batch']\n",
      "Finished running  wo_feature_selection_mfr_100\n",
      "\n",
      "\n",
      "\n",
      " using encoder with additional noises  State space: ['hand_px', 'hand_py', 'hand_pz', 'hand_vx', 'hand_vy', 'hand_vz', 'offset'] \n",
      "\n",
      "<bound method GenericCosEncWithNoise._gen_fixed_gaussian_noise of <riglib.bmi.sim_neurons.GenericCosEncWithNoise object at 0x7efdf8567280>>\n",
      "neural encoder init function  <SimpleTargetCapture(Thread-5, initial)>\n",
      "features.simulation_features: added tracking of K matrix\n",
      "sinkmanager start <class 'hdfwriter.hdfwriter.HDFWriter'>\n",
      "HDFWriter: Saving datafile to /tmp/tmpl6lgv5y2.h5\n",
      "HDFWriter: opening file\n",
      "HDFWriter registered 'sync_events'\n",
      "HDFWriter registered 'sync_clock'\n",
      "HDFWriter registered 'trials'\n",
      "<bmimultitasks.SimpleEndpointAssister object at 0x7efdf85678e0>\n",
      "features.simulation_features: batch size is 100\n",
      "Reset states for learner: \n",
      "[]\n",
      "Done states for learner: \n",
      "[]\n",
      "\n",
      "features.simulation_features.SimFeedbackLearner: flip the self.learn_flag to true\n",
      "features.simulation_features.SimFeedbackLearner: succussfully created a feedback controller learner\n",
      "\n",
      "\n",
      "SimSmoothBatch: created an updater with a batch time of 1 and a half_life of 6.643856189774724 \n",
      "\n",
      "HDFWriter registered 'task'\n",
      "..........................finished: 1\n",
      "assist_level at final value after 0 successful trials\n",
      "Warning: Cannot sync more than 1 event per cycle\n",
      "Overwriting [b'EXP_START'] with TARGET_ON event\n",
      "Warning: Cannot sync more than 1 event per cycle\n",
      "Overwriting [b'TARGET_ON'] with TARGET_ON event\n",
      "Warning: Cannot sync more than 1 event per cycle\n",
      "Overwriting [b'TARGET_ON'] with TARGET_ON event\n"
     ]
    },
    {
     "name": "stderr",
     "output_type": "stream",
     "text": [
      "/home/sijia-aw/BMi3D_my/lab_bmi3d/riglib/bmi/kfdecoder.py:372: FutureWarning: `rcond` parameter will change to the default of machine precision times ``max(M, N)`` where M and N are the input matrix dimensions.\n",
      "To use the future default and silence this warning we advise to pass `rcond=None`, to keep using the old, explicitly pass `rcond=-1`.\n",
      "  C = np.mat(np.linalg.lstsq(X.T, Y.T)[0].T)\n"
     ]
    },
    {
     "name": "stdout",
     "output_type": "stream",
     "text": [
      "Warning: Cannot sync more than 1 event per cycle\n",
      "Overwriting [b'TARGET_ON'] with TARGET_ON event\n",
      "Warning: Cannot sync more than 1 event per cycle\n",
      "Overwriting [b'TARGET_ON'] with TARGET_ON event\n",
      "Warning: Cannot sync more than 1 event per cycle\n",
      "Overwriting [b'TARGET_ON'] with TARGET_ON event\n",
      "Warning: Cannot sync more than 1 event per cycle\n",
      "Overwriting [b'TARGET_ON'] with TARGET_ON event\n",
      "Warning: Cannot sync more than 1 event per cycle\n",
      "Overwriting [b'TARGET_ON'] with TARGET_ON event\n",
      "Warning: Cannot sync more than 1 event per cycle\n",
      "Overwriting [b'TARGET_ON'] with TARGET_ON event\n",
      "[0.   0.   0.   0.   0.   0.   0.   0.   0.01 0.   0.   0.   0.   0.\n",
      " 0.   0.   0.01 0.   0.   0.   0.01 0.   0.   0.   0.01 0.   0.   0.\n",
      " 0.   0.   0.   0.  ]\n",
      "decoder changes here at 2400\n",
      "(32, 7)\n",
      "(32, 7)\n",
      "active feature set is [ True  True False  True False False False False  True  True False False\n",
      " False False False False  True False False False  True False False False\n",
      "  True False False False False False False False]\n",
      "after trans: (8, 7)\n",
      "after trans: (8, 8)\n",
      "decoder change flag to false\n",
      "Warning: Cannot sync more than 1 event per cycle\n",
      "Overwriting [b'TARGET_ON'] with TARGET_ON event\n",
      "[0.   0.   0.01 0.   0.   0.   0.   0.   0.   0.   0.01 0.01 0.   0.\n",
      " 0.   0.   0.   0.01 0.   0.   0.   0.   0.   0.   0.   0.   0.01 0.\n",
      " 0.01 0.   0.   0.01]\n",
      "decoder changes here at 3000\n",
      "(8, 7)\n",
      "(8, 7)\n",
      "active feature set is [False False  True False False False False  True False False  True  True\n",
      " False False False False False  True False False False False False False\n",
      " False False  True False  True False False  True]\n",
      "after trans: (8, 7)\n",
      "after trans: (8, 8)\n",
      "decoder change flag to false\n",
      "Warning: Cannot sync more than 1 event per cycle\n",
      "Overwriting [b'TARGET_ON'] with TARGET_ON event\n",
      "[0.   0.   0.01 0.   0.   0.01 0.   0.   0.   0.   0.   0.   0.   0.\n",
      " 0.01 0.   0.   0.   0.   0.   0.   0.   0.   0.   0.   0.01 0.   0.\n",
      " 0.   0.01 0.   0.  ]\n",
      "decoder changes here at 3600\n",
      "(8, 7)\n",
      "(8, 7)\n",
      "active feature set is [False False  True False False  True  True False False False False False\n",
      " False False  True False False  True False False False False False False\n",
      " False  True False False False  True  True False]\n",
      "after trans: (8, 7)\n",
      "after trans: (8, 8)\n",
      "decoder change flag to false\n",
      "Warning: Cannot sync more than 1 event per cycle\n",
      "Overwriting [b'TARGET_ON'] with TARGET_ON event\n",
      "[0.01 0.01 0.   0.   0.   0.   0.   0.01 0.   0.   0.   0.   0.   0.\n",
      " 0.   0.   0.   0.   0.01 0.   0.01 0.   0.   0.01 0.   0.   0.   0.\n",
      " 0.   0.01 0.   0.  ]\n",
      "decoder changes here at 4200\n",
      "(8, 7)\n",
      "(8, 7)\n",
      "active feature set is [ True  True False False False False False  True False False False False\n",
      " False False False False False False  True  True  True False False  True\n",
      " False False False False False  True False False]\n",
      "after trans: (8, 7)\n",
      "after trans: (8, 8)\n",
      "decoder change flag to false\n",
      "Warning: Cannot sync more than 1 event per cycle\n",
      "Overwriting [b'TARGET_ON'] with TARGET_ON event\n",
      "[0.   0.   0.01 0.01 0.   0.   0.   0.01 0.   0.01 0.   0.01 0.   0.01\n",
      " 0.   0.   0.   0.   0.   0.   0.01 0.   0.01 0.   0.   0.   0.01 0.\n",
      " 0.   0.   0.   0.  ]\n",
      "decoder changes here at 4800\n",
      "(8, 7)\n",
      "(8, 7)\n",
      "active feature set is [False False  True  True False False False  True False False False  True\n",
      " False  True False False False False False False  True False  True False\n",
      " False False  True False False False False False]\n",
      "after trans: (8, 7)\n",
      "after trans: (8, 8)\n",
      "decoder change flag to false\n",
      "Warning: Cannot sync more than 1 event per cycle\n",
      "Overwriting [b'TARGET_ON'] with TARGET_ON event\n",
      "[0.01 0.   0.   0.   0.01 0.   0.   0.   0.   0.   0.   0.   0.01 0.01\n",
      " 0.   0.   0.01 0.   0.   0.   0.   0.   0.   0.   0.   0.01 0.   0.\n",
      " 0.   0.   0.   0.01]\n",
      "decoder changes here at 5400\n",
      "(8, 7)\n",
      "(8, 7)\n",
      "active feature set is [ True False False False  True False False False False False False False\n",
      "  True  True False False  True False False False False False False False\n",
      "  True  True False False False False False  True]\n",
      "after trans: (8, 7)\n",
      "after trans: (8, 8)\n",
      "decoder change flag to false\n",
      "Warning: Cannot sync more than 1 event per cycle\n",
      "Overwriting [b'TARGET_ON'] with TARGET_ON event\n",
      "[0.   0.   0.   0.   0.01 0.   0.   0.   0.   0.   0.   0.   0.01 0.\n",
      " 0.01 0.01 0.   0.   0.   0.   0.   0.   0.   0.01 0.   0.   0.   0.\n",
      " 0.   0.   0.   0.01]\n",
      "decoder changes here at 6000\n",
      "(8, 7)\n",
      "(8, 7)\n",
      "active feature set is [False False False False  True False False False False False False False\n",
      "  True False  True  True  True False False  True False False False  True\n",
      " False False False False False False False  True]\n",
      "after trans: (8, 7)\n",
      "after trans: (8, 8)\n",
      "decoder change flag to false\n",
      "Warning: Cannot sync more than 1 event per cycle\n",
      "Overwriting [b'TARGET_ON'] with TARGET_ON event\n",
      "[0.   0.01 0.01 0.   0.   0.01 0.   0.   0.   0.   0.   0.   0.   0.01\n",
      " 0.   0.   0.   0.   0.01 0.   0.   0.   0.   0.   0.   0.   0.   0.\n",
      " 0.   0.   0.   0.  ]\n",
      "decoder changes here at 6600\n",
      "(8, 7)\n",
      "(8, 7)\n",
      "active feature set is [False  True  True False False  True False False False False False False\n",
      " False  True  True False False  True  True False False False False False\n",
      "  True False False False False False False False]\n",
      "after trans: (8, 7)\n",
      "after trans: (8, 8)\n",
      "decoder change flag to false\n",
      "Warning: Cannot sync more than 1 event per cycle\n",
      "Overwriting [b'TARGET_ON'] with TARGET_ON event\n",
      "[0.   0.   0.   0.   0.   0.01 0.   0.01 0.   0.01 0.01 0.01 0.01 0.01\n",
      " 0.01 0.01 0.   0.   0.   0.   0.   0.   0.   0.   0.01 0.   0.01 0.01\n",
      " 0.   0.01 0.01 0.  ]\n",
      "decoder changes here at 7200\n",
      "(8, 7)\n",
      "(8, 7)\n",
      "active feature set is [False False False False False  True False False False  True False False\n",
      "  True False  True  True False False False False False False False False\n",
      "  True False False  True False False  True False]\n",
      "after trans: (8, 7)\n",
      "after trans: (8, 8)\n",
      "decoder change flag to false\n",
      "Warning: Cannot sync more than 1 event per cycle\n",
      "Overwriting [b'TARGET_ON'] with TARGET_ON event\n",
      "Warning: Cannot sync more than 1 event per cycle\n",
      "Overwriting [b'TARGET_ON'] with TARGET_ON event\n",
      "Warning: Cannot sync more than 1 event per cycle\n",
      "Overwriting [b'TARGET_ON'] with TARGET_ON event\n",
      "[0.   0.   0.   0.   0.   0.   0.01 0.   0.   0.   0.01 0.   0.   0.\n",
      " 0.   0.01 0.01 0.   0.   0.   0.   0.   0.   0.   0.   0.   0.01 0.\n",
      " 0.   0.   0.   0.  ]\n",
      "decoder changes here at 7800\n",
      "(8, 7)\n",
      "(8, 7)\n",
      "active feature set is [False False False False False False  True  True False False  True  True\n",
      " False False False  True  True False False False False False False  True\n",
      " False False  True False False False False False]\n",
      "after trans: (8, 7)\n",
      "after trans: (8, 8)\n",
      "decoder change flag to false\n",
      "Warning: Cannot sync more than 1 event per cycle\n",
      "Overwriting [b'TARGET_ON'] with TARGET_ON event\n",
      "[0.   0.   0.   0.   0.   0.   0.01 0.   0.   0.01 0.   0.   0.   0.01\n",
      " 0.   0.   0.01 0.   0.01 0.   0.   0.   0.01 0.   0.   0.01 0.01 0.\n",
      " 0.   0.01 0.   0.  ]\n",
      "decoder changes here at 8400\n",
      "(8, 7)\n",
      "(8, 7)\n",
      "active feature set is [False False False False False False False False False  True False False\n",
      " False  True False False  True False  True False False False  True False\n",
      " False  True  True False False  True False False]\n",
      "after trans: (8, 7)\n",
      "after trans: (8, 8)\n",
      "decoder change flag to false\n",
      "Warning: Cannot sync more than 1 event per cycle\n",
      "Overwriting [b'TARGET_ON'] with TARGET_ON event\n",
      "[0.01 0.01 0.   0.   0.   0.   0.   0.   0.01 0.   0.   0.   0.   0.\n",
      " 0.   0.01 0.   0.   0.   0.   0.   0.   0.   0.   0.01 0.   0.   0.\n",
      " 0.   0.   0.   0.  ]\n",
      "decoder changes here at 9000\n",
      "(8, 7)\n",
      "(8, 7)\n",
      "active feature set is [ True  True False False False  True False False  True False False False\n",
      "  True False False  True False False False False False False False False\n",
      "  True False False False False False  True False]\n",
      "after trans: (8, 7)\n",
      "after trans: (8, 8)\n",
      "decoder change flag to false\n",
      "[0.   0.   0.   0.   0.   0.   0.   0.   0.01 0.   0.   0.   0.01 0.\n",
      " 0.   0.01 0.01 0.01 0.   0.   0.   0.   0.   0.01 0.   0.   0.   0.\n",
      " 0.   0.   0.   0.01]\n",
      "decoder changes here at 9600\n",
      "(8, 7)\n",
      "(8, 7)\n",
      "active feature set is [False False False  True False False False False  True False False False\n",
      "  True False False  True  True  True False False False False False  True\n",
      " False False False False False False False  True]\n",
      "after trans: (8, 7)\n",
      "after trans: (8, 8)\n",
      "decoder change flag to false\n",
      "Warning: Cannot sync more than 1 event per cycle\n",
      "Overwriting [b'TARGET_ON'] with TARGET_ON event\n"
     ]
    },
    {
     "name": "stdout",
     "output_type": "stream",
     "text": [
      "[0.   0.   0.01 0.01 0.   0.01 0.01 0.   0.   0.01 0.01 0.   0.   0.\n",
      " 0.01 0.   0.   0.01 0.   0.01 0.   0.01 0.   0.01 0.   0.   0.01 0.\n",
      " 0.01 0.   0.01 0.  ]\n",
      "decoder changes here at 10200\n",
      "(8, 7)\n",
      "(8, 7)\n",
      "active feature set is [False False  True False False False False False False  True False False\n",
      " False False False False False False False  True False  True False  True\n",
      " False False  True False  True False  True False]\n",
      "after trans: (8, 7)\n",
      "after trans: (8, 8)\n",
      "decoder change flag to false\n",
      "Warning: Cannot sync more than 1 event per cycle\n",
      "Overwriting [b'TARGET_ON'] with TARGET_ON event\n",
      "[0.   0.   0.   0.   0.   0.   0.   0.01 0.   0.   0.   0.   0.   0.01\n",
      " 0.   0.   0.   0.   0.01 0.   0.   0.01 0.01 0.01 0.01 0.   0.   0.\n",
      " 0.   0.01 0.   0.  ]\n",
      "decoder changes here at 10800\n",
      "(8, 7)\n",
      "(8, 7)\n",
      "active feature set is [False False False False False False False  True False False False False\n",
      " False  True False False False False  True False False  True  True  True\n",
      "  True False False False False  True False False]\n",
      "after trans: (8, 7)\n",
      "after trans: (8, 8)\n",
      "decoder change flag to false\n",
      "Warning: Cannot sync more than 1 event per cycle\n",
      "Overwriting [b'TARGET_ON'] with TARGET_ON event\n",
      "Warning: Cannot sync more than 1 event per cycle\n",
      "Overwriting [b'TARGET_ON'] with TARGET_ON event\n",
      "Warning: Cannot sync more than 1 event per cycle\n",
      "Overwriting [b'TARGET_ON'] with TARGET_ON event\n",
      "Warning: Cannot sync more than 1 event per cycle\n",
      "Overwriting [b'TARGET_ON'] with TARGET_ON event\n",
      "[0. 0. 0. 0. 0. 0. 0. 0. 0. 0. 0. 0. 0. 0. 0. 0. 0. 0. 0. 0. 0. 0. 0. 0.\n",
      " 0. 0. 0. 0. 0. 0. 0. 0.]\n",
      "decoder changes here at 11400\n",
      "(8, 7)\n",
      "(8, 7)\n",
      "active feature set is [ True False False False False False False False False False False  True\n",
      " False False False False False False False  True  True False False  True\n",
      "  True False False  True False False False  True]\n",
      "after trans: (8, 7)\n",
      "after trans: (8, 8)\n",
      "decoder change flag to false\n",
      "Warning: Cannot sync more than 1 event per cycle\n",
      "Overwriting [b'TARGET_ON'] with TARGET_ON event\n",
      "[0.   0.01 0.   0.01 0.   0.   0.01 0.   0.   0.   0.01 0.   0.   0.01\n",
      " 0.   0.   0.   0.01 0.   0.   0.   0.01 0.01 0.   0.   0.01 0.01 0.\n",
      " 0.   0.   0.   0.  ]\n",
      "decoder changes here at 12000\n",
      "(8, 7)\n",
      "(8, 7)\n",
      "active feature set is [False  True False  True False False  True False False False  True False\n",
      " False  True False False False False False False False  True  True False\n",
      " False False  True False False False False False]\n",
      "after trans: (8, 7)\n",
      "after trans: (8, 8)\n",
      "decoder change flag to false\n",
      "Warning: Cannot sync more than 1 event per cycle\n",
      "Overwriting [b'TARGET_ON'] with TARGET_ON event\n",
      "Warning: Cannot sync more than 1 event per cycle\n",
      "Overwriting [b'TARGET_ON'] with TARGET_ON event\n",
      "[0. 0. 0. 0. 0. 0. 0. 0. 0. 0. 0. 0. 0. 0. 0. 0. 0. 0. 0. 0. 0. 0. 0. 0.\n",
      " 0. 0. 0. 0. 0. 0. 0. 0.]\n",
      "decoder changes here at 12600\n",
      "(8, 7)\n",
      "(8, 7)\n",
      "active feature set is [False False False  True  True False  True  True False False  True False\n",
      " False False False  True False False False  True False False False False\n",
      " False False False False  True False False False]\n",
      "after trans: (8, 7)\n",
      "after trans: (8, 8)\n",
      "decoder change flag to false\n",
      "Warning: Cannot sync more than 1 event per cycle\n",
      "Overwriting [b'TARGET_ON'] with TARGET_ON event\n",
      "[0.   0.   0.   0.   0.   0.   0.   0.   0.   0.   0.   0.   0.   0.\n",
      " 0.   0.   0.   0.   0.   0.   0.   0.   0.   0.   0.   0.   0.   0.\n",
      " 0.   0.   0.01 0.  ]\n",
      "decoder changes here at 13200\n",
      "(8, 7)\n",
      "(8, 7)\n",
      "active feature set is [ True False  True False False  True False  True False False False False\n",
      " False  True False False False False False False False False False False\n",
      " False  True False False False  True  True False]\n",
      "after trans: (8, 7)\n",
      "after trans: (8, 8)\n",
      "decoder change flag to false\n",
      "Warning: Cannot sync more than 1 event per cycle\n",
      "Overwriting [b'TARGET_ON'] with TARGET_ON event\n",
      "[0.   0.01 0.   0.   0.   0.   0.   0.   0.   0.   0.   0.   0.   0.\n",
      " 0.   0.   0.   0.   0.   0.   0.   0.   0.   0.   0.   0.   0.   0.\n",
      " 0.   0.   0.   0.  ]\n",
      "decoder changes here at 13800\n",
      "(8, 7)\n",
      "(8, 7)\n",
      "active feature set is [False  True False  True False  True False False False  True False False\n",
      " False False False False  True False  True False False False False  True\n",
      " False False False False  True False False False]\n",
      "after trans: (8, 7)\n",
      "after trans: (8, 8)\n",
      "decoder change flag to false\n",
      "Warning: Cannot sync more than 1 event per cycle\n",
      "Overwriting [b'TARGET_ON'] with TARGET_ON event\n",
      "[0.   0.   0.01 0.   0.   0.   0.   0.   0.   0.   0.   0.01 0.   0.\n",
      " 0.   0.   0.   0.   0.   0.   0.01 0.   0.   0.01 0.   0.   0.01 0.\n",
      " 0.   0.   0.01 0.  ]\n",
      "decoder changes here at 14400\n",
      "(8, 7)\n",
      "(8, 7)\n",
      "active feature set is [False  True  True False False False False False False False False  True\n",
      " False False False False False False  True False  True False False  True\n",
      " False False  True False False False  True False]\n",
      "after trans: (8, 7)\n",
      "after trans: (8, 8)\n",
      "decoder change flag to false\n",
      "Warning: Cannot sync more than 1 event per cycle\n",
      "Overwriting [b'TARGET_ON'] with TARGET_ON event\n",
      "[0.   0.   0.01 0.   0.   0.   0.   0.   0.   0.   0.   0.   0.   0.\n",
      " 0.   0.   0.   0.   0.01 0.   0.   0.01 0.01 0.   0.   0.   0.   0.\n",
      " 0.   0.   0.   0.  ]\n",
      "decoder changes here at 15000\n",
      "(8, 7)\n",
      "(8, 7)\n",
      "active feature set is [False False  True False  True  True False  True False False False False\n",
      " False False False False False False  True False  True  True  True False\n",
      " False False False False False False False False]\n",
      "after trans: (8, 7)\n",
      "after trans: (8, 8)\n",
      "decoder change flag to false\n",
      "Warning: Cannot sync more than 1 event per cycle\n",
      "Overwriting [b'TARGET_ON'] with TARGET_ON event\n",
      "Warning: Cannot sync more than 1 event per cycle\n",
      "Overwriting [b'TARGET_ON'] with TARGET_ON event\n",
      "Warning: Cannot sync more than 1 event per cycle\n",
      "Overwriting [b'TARGET_ON'] with TARGET_ON event\n",
      "[0. 0. 0. 0. 0. 0. 0. 0. 0. 0. 0. 0. 0. 0. 0. 0. 0. 0. 0. 0. 0. 0. 0. 0.\n",
      " 0. 0. 0. 0. 0. 0. 0. 0.]\n",
      "decoder changes here at 15600\n",
      "(8, 7)\n",
      "(8, 7)\n",
      "active feature set is [False  True False False False  True False False False  True  True False\n",
      " False  True False False False False False False False False  True False\n",
      " False  True False False  True False False False]\n",
      "after trans: (8, 7)\n",
      "after trans: (8, 8)\n",
      "decoder change flag to false\n",
      "Warning: Cannot sync more than 1 event per cycle\n",
      "Overwriting [b'TARGET_ON'] with TARGET_ON event\n",
      "[0. 0. 0. 0. 0. 0. 0. 0. 0. 0. 0. 0. 0. 0. 0. 0. 0. 0. 0. 0. 0. 0. 0. 0.\n",
      " 0. 0. 0. 0. 0. 0. 0. 0.]\n",
      "decoder changes here at 16200\n",
      "(8, 7)\n",
      "(8, 7)\n",
      "active feature set is [False False False False  True  True False False  True  True False False\n",
      " False False False  True False False False False False False  True False\n",
      " False  True False False False  True False False]\n",
      "after trans: (8, 7)\n",
      "after trans: (8, 8)\n",
      "decoder change flag to false\n",
      "Warning: Cannot sync more than 1 event per cycle\n",
      "Overwriting [b'TARGET_ON'] with TARGET_ON event\n",
      "[0.   0.   0.   0.01 0.01 0.   0.   0.   0.   0.   0.   0.   0.   0.\n",
      " 0.   0.   0.   0.   0.   0.01 0.   0.   0.   0.   0.   0.   0.   0.\n",
      " 0.01 0.   0.   0.  ]\n",
      "decoder changes here at 16800\n",
      "(8, 7)\n",
      "(8, 7)\n",
      "active feature set is [False False False  True  True False  True False False False  True False\n",
      " False False False  True False False False  True  True False False False\n",
      " False False False False  True False False False]\n",
      "after trans: (8, 7)\n",
      "after trans: (8, 8)\n",
      "decoder change flag to false\n",
      "Warning: Cannot sync more than 1 event per cycle\n",
      "Overwriting [b'TARGET_ON'] with TARGET_ON event\n",
      "Warning: Cannot sync more than 1 event per cycle\n",
      "Overwriting [b'TARGET_ON'] with TARGET_ON event\n",
      "[0.   0.   0.   0.   0.   0.   0.   0.   0.   0.   0.   0.   0.   0.\n",
      " 0.   0.01 0.   0.   0.   0.   0.   0.   0.   0.   0.   0.   0.   0.01\n",
      " 0.   0.   0.   0.  ]\n",
      "decoder changes here at 17400\n",
      "(8, 7)\n",
      "(8, 7)\n",
      "active feature set is [ True False False False False False False False False False False  True\n",
      " False False False  True False False False False False False  True  True\n",
      "  True False False  True  True False False False]\n",
      "after trans: (8, 7)\n",
      "after trans: (8, 8)\n",
      "decoder change flag to false\n",
      "Warning: Cannot sync more than 1 event per cycle\n",
      "Overwriting [b'TARGET_ON'] with TARGET_ON event\n",
      "[0.   0.   0.   0.   0.   0.   0.   0.   0.   0.01 0.   0.   0.   0.01\n",
      " 0.   0.   0.   0.   0.   0.   0.   0.   0.   0.   0.   0.01 0.   0.\n",
      " 0.   0.   0.   0.01]\n",
      "decoder changes here at 18000\n",
      "(8, 7)\n",
      "(8, 7)\n",
      "active feature set is [False False False False False False False False False  True  True False\n",
      " False  True False False False  True  True False False  True False False\n",
      " False  True False False False False False  True]\n",
      "after trans: (8, 7)\n",
      "after trans: (8, 8)\n",
      "decoder change flag to false\n",
      "finish  at cycle_count: 18000\n"
     ]
    },
    {
     "name": "stdout",
     "output_type": "stream",
     "text": [
      "..........................Closed hdf\n",
      "ended datasink\n",
      "0\n",
      "exit\n",
      "end of FSM.run, task state is None\n",
      "wait for 10s for hdf file to save\n",
      "saving file name to /tmp/tmpl6lgv5y2.h5\n",
      "riglib.bmi.bmi: clda table names\n",
      "['kf.C', 'kf.Q', 'kf.C_xpose_Q_inv_C', 'kf.C_xpose_Q_inv', 'mFR', 'sdFR', 'rho', 'intended_kin', 'spike_counts_batch']\n",
      "Finished running  w_iter_feature_selection_mfr_100\n",
      "\n",
      "\n"
     ]
    }
   ],
   "source": [
    "from feature_selection_feature import run_exp_loop\n",
    "\n",
    "WAIT_FOR_HDF_FILE_TO_STOP = 10\n",
    "\n",
    "for i,e in enumerate(exps):\n",
    "    np.random.seed(0)\n",
    "    \n",
    "    e.init()\n",
    "\n",
    "    run_exp_loop(e, **kwargs_exps[i])\n",
    "    \n",
    "    e.hdf.stop()\n",
    "    print(f'wait for {WAIT_FOR_HDF_FILE_TO_STOP}s for hdf file to save')\n",
    "    time.sleep(WAIT_FOR_HDF_FILE_TO_STOP)\n",
    "    \n",
    "    \n",
    "    e.save_feature_params()\n",
    "    \n",
    "    time.sleep(WAIT_FOR_HDF_FILE_TO_STOP)\n",
    "    \n",
    "    e.cleanup_hdf()\n",
    "   \n",
    "\n",
    "    e.sinks.reset()\n",
    "    \n",
    "    print(f'Finished running  {exp_conds[i]}')\n",
    "    \n",
    "    print()\n",
    "    print()\n",
    "    \n",
    "\n"
   ]
  },
  {
   "cell_type": "code",
   "execution_count": 21,
   "metadata": {
    "ExecuteTime": {
     "end_time": "2021-09-28T21:13:23.288925Z",
     "start_time": "2021-09-28T21:13:23.256162Z"
    }
   },
   "outputs": [
    {
     "name": "stdout",
     "output_type": "stream",
     "text": [
      "cp /tmp/tmpx1f0pn_a.h5 /home/sijia-aw/BMi3D_my/operation_funny_chicken/sim_data/wo_feature_selection_mfr_100.h5\n",
      "cp /tmp/tmpl6lgv5y2.h5 /home/sijia-aw/BMi3D_my/operation_funny_chicken/sim_data/w_iter_feature_selection_mfr_100.h5\n"
     ]
    }
   ],
   "source": [
    "data_dump_folder = '/home/sijia-aw/BMi3D_my/operation_funny_chicken/sim_data/'\n",
    "\n",
    "import shutil\n",
    "\n",
    "import os\n",
    "import subprocess\n",
    "\n",
    "for i,e in enumerate(exps): \n",
    "\n",
    "    #shutil.move(e.h5file.name,  data_dump_folder + exp_conds[i] +'.h5')\n",
    "\n",
    "\n",
    "    import subprocess\n",
    "    old = e.h5file.name\n",
    "    new = data_dump_folder + exp_conds[i] +'.h5'\n",
    "    process = \"cp {} {}\".format(old,new)\n",
    "    \n",
    "    print(process)\n",
    "    subprocess.run(process, shell=True) # do not remember, assign shell value to True.\n",
    "\n"
   ]
  },
  {
   "cell_type": "markdown",
   "metadata": {
    "ExecuteTime": {
     "end_time": "2021-01-25T01:00:26.027506Z",
     "start_time": "2021-01-25T01:00:26.024320Z"
    }
   },
   "source": [
    "# Postprocessing the data for loading"
   ]
  },
  {
   "cell_type": "code",
   "execution_count": 22,
   "metadata": {
    "ExecuteTime": {
     "end_time": "2021-09-28T21:13:23.292382Z",
     "start_time": "2021-09-28T21:13:23.290035Z"
    }
   },
   "outputs": [
    {
     "name": "stdout",
     "output_type": "stream",
     "text": [
      "/tmp/tmpx1f0pn_a.h5\n",
      "/tmp/tmpl6lgv5y2.h5\n"
     ]
    }
   ],
   "source": [
    "for e in exps: print(f'{e.h5file.name}')\n"
   ]
  },
  {
   "cell_type": "code",
   "execution_count": 23,
   "metadata": {
    "ExecuteTime": {
     "end_time": "2021-09-28T21:13:23.543708Z",
     "start_time": "2021-09-28T21:13:23.293234Z"
    }
   },
   "outputs": [
    {
     "name": "stdout",
     "output_type": "stream",
     "text": [
      "/home/sijia-aw/BMi3D_my/operation_funny_chicken/sim_data/wo_feature_selection_mfr_100.h5 (File) ''\n",
      "Last modif.: 'Tue Sep 28 14:13:23 2021'\n",
      "Object Tree: \n",
      "/ (RootGroup) ''\n",
      "/clda (Table(30,), shuffle, zlib(5)) ''\n",
      "/sync_clock (Table(18000,), shuffle, zlib(5)) ''\n",
      "/sync_events (Table(255,), shuffle, zlib(5)) ''\n",
      "/task (Table(18000,), shuffle, zlib(5)) ''\n",
      "/task_msgs (Table(254,), shuffle, zlib(5)) ''\n",
      "/trials (Table(127,), shuffle, zlib(5)) ''\n",
      "/feature_selection (Group) ''\n",
      "/feature_selection/C_mat (Array(30, 32, 7)) ''\n",
      "/feature_selection/K_mat (Array(30, 7, 32)) ''\n",
      "/feature_selection/Q_diag (Array(30, 32)) ''\n",
      "/feature_selection/assist_level (Array(2,)) ''\n",
      "/feature_selection/batch_size (Array()) ''\n",
      "/feature_selection/batch_time (Array()) ''\n",
      "/feature_selection/feat_set (Array(31, 32)) ''\n",
      "/feature_selection/fixed_noise_level (Array()) ''\n",
      "/feature_selection/half_life (Array()) ''\n",
      "/feature_selection/n_starting_feats (Array()) ''\n",
      "/feature_selection/n_states (Array()) ''\n",
      "/feature_selection/noise_mode (UnImplemented()) ''\n",
      "/feature_selection/noise_neuron_list (Array(32,)) ''\n",
      "/feature_selection/percent_noise (Array(32, 1)) ''\n",
      "/feature_selection/sim_C (Array(32, 7)) ''\n",
      "/feature_selection/total_exp_time (Array()) ''\n",
      "/feature_selection/transform_x_flag (Array()) ''\n",
      "/feature_selection/transform_y_flag (Array()) ''\n",
      "\n",
      "wo_feature_selection_mfr_100\n",
      "/home/sijia-aw/BMi3D_my/operation_funny_chicken/sim_data/w_iter_feature_selection_mfr_100.h5 (File) ''\n",
      "Last modif.: 'Tue Sep 28 14:13:23 2021'\n",
      "Object Tree: \n",
      "/ (RootGroup) ''\n",
      "/clda (Table(4,), shuffle, zlib(5)) ''\n",
      "/sync_clock (Table(18000,), shuffle, zlib(5)) ''\n",
      "/sync_events (Table(85,), shuffle, zlib(5)) ''\n",
      "/task (Table(18000,), shuffle, zlib(5)) ''\n",
      "/task_msgs (Table(84,), shuffle, zlib(5)) ''\n",
      "/trials (Table(42,), shuffle, zlib(5)) ''\n",
      "/feature_selection (Group) ''\n",
      "/feature_selection/C_mat (Array(60, 32, 7)) ''\n",
      "/feature_selection/K_mat (Array(30, 7, 32)) ''\n",
      "/feature_selection/Q_diag (Array(30, 32)) ''\n",
      "/feature_selection/assist_level (Array(2,)) ''\n",
      "/feature_selection/batch_size (Array()) ''\n",
      "/feature_selection/batch_time (Array()) ''\n",
      "/feature_selection/feat_set (Array(31, 32)) ''\n",
      "/feature_selection/fixed_noise_level (Array()) ''\n",
      "/feature_selection/half_life (Array()) ''\n",
      "/feature_selection/n_starting_feats (Array()) ''\n",
      "/feature_selection/n_states (Array()) ''\n",
      "/feature_selection/noise_mode (UnImplemented()) ''\n",
      "/feature_selection/noise_neuron_list (Array(32,)) ''\n",
      "/feature_selection/percent_noise (Array(32, 1)) ''\n",
      "/feature_selection/sim_C (Array(32, 7)) ''\n",
      "/feature_selection/total_exp_time (Array()) ''\n",
      "/feature_selection/transform_x_flag (Array()) ''\n",
      "/feature_selection/transform_y_flag (Array()) ''\n",
      "\n"
     ]
    },
    {
     "name": "stderr",
     "output_type": "stream",
     "text": [
      "/home/sijia-aw/BMi3D_my/lib/python3.8/site-packages/tables/group.py:1201: UserWarning: problems loading leaf ``/feature_selection/noise_mode``::\n",
      "\n",
      "  variable length strings are not supported yet\n",
      "\n",
      "The leaf will become an ``UnImplemented`` node.\n",
      "  warnings.warn(\n"
     ]
    },
    {
     "name": "stdout",
     "output_type": "stream",
     "text": [
      "w_iter_feature_selection_mfr_100\n"
     ]
    }
   ],
   "source": [
    "import aopy\n",
    "import tables\n",
    "\n",
    "exp_data_all = list()\n",
    "exp_data_metadata_all = list()\n",
    "\n",
    "for i,e in enumerate(exp_conds):\n",
    "    files = {\n",
    "\n",
    "    'hdf':e+'.h5'\n",
    "\n",
    "    }\n",
    "    \n",
    "    file_name = os.path.join(data_dump_folder, files['hdf'])\n",
    "\n",
    "        \n",
    "    # write in the exp processing files\n",
    "    \n",
    "    aopy.data.save_hdf(data_dump_folder, file_name, kwargs_exps[i], data_group=\"/feature_selection\", append = True)\n",
    "    \n",
    "    with tables.open_file(file_name, mode = 'r') as f: print(f)\n",
    "    \n",
    "    try:\n",
    "        d,m = aopy.preproc.parse_bmi3d(data_dump_folder, files)\n",
    "    except:\n",
    "        print(f'cannot parse {e}')\n",
    "    \n",
    "    print(e)"
   ]
  },
  {
   "cell_type": "markdown",
   "metadata": {},
   "source": [
    "## declare defs and conventions"
   ]
  },
  {
   "cell_type": "code",
   "execution_count": 24,
   "metadata": {
    "ExecuteTime": {
     "end_time": "2021-09-28T21:13:23.546484Z",
     "start_time": "2021-09-28T21:13:23.544590Z"
    }
   },
   "outputs": [],
   "source": [
    "CENTER_TARGET_ON = 16\n",
    "CURSOR_ENTER_CENTER_TARGET = 80\n",
    "CENTER_TARGET_OFF = 32\n",
    "REWARD = 48\n",
    "DELAY_PENALTY = 66\n",
    "TIMEOUT_PENALTY = 65\n",
    "HOLD_PENALTY = 64\n",
    "TRIAL_END = 239"
   ]
  },
  {
   "cell_type": "code",
   "execution_count": 25,
   "metadata": {
    "ExecuteTime": {
     "end_time": "2021-09-28T21:13:23.553964Z",
     "start_time": "2021-09-28T21:13:23.547193Z"
    }
   },
   "outputs": [],
   "source": [
    "from feature_selection_feature import *\n"
   ]
  },
  {
   "cell_type": "markdown",
   "metadata": {},
   "source": [
    "## looking at one example data"
   ]
  },
  {
   "cell_type": "code",
   "execution_count": 26,
   "metadata": {
    "ExecuteTime": {
     "end_time": "2021-09-28T21:13:23.660977Z",
     "start_time": "2021-09-28T21:13:23.554717Z"
    }
   },
   "outputs": [
    {
     "name": "stdout",
     "output_type": "stream",
     "text": [
      "{'names':['prev_tick','timestamp_bmi3d'], 'formats':['<f8','<f8'], 'offsets':[16,24], 'itemsize':32}\n",
      "[('time', '<u8'), ('event', 'S32'), ('data', '<u4'), ('code', 'u1'), ('timestamp_bmi3d', '<f8'), ('timestamp', '<f8')]\n"
     ]
    }
   ],
   "source": [
    "exp_data, exp_metadata = aopy.preproc.parse_bmi3d(data_dump_folder, files)\n",
    "\n",
    "\n",
    "clock = exp_data['clock']\n",
    "print(clock.dtype)\n",
    "events = exp_data['events']\n",
    "print(events.dtype)"
   ]
  },
  {
   "cell_type": "code",
   "execution_count": 27,
   "metadata": {
    "ExecuteTime": {
     "end_time": "2021-09-28T21:13:23.664067Z",
     "start_time": "2021-09-28T21:13:23.661842Z"
    }
   },
   "outputs": [
    {
     "data": {
      "text/plain": [
       "80"
      ]
     },
     "execution_count": 27,
     "metadata": {},
     "output_type": "execute_result"
    }
   ],
   "source": [
    "CURSOR_ENTER_CENTER_TARGET"
   ]
  },
  {
   "cell_type": "code",
   "execution_count": 28,
   "metadata": {
    "ExecuteTime": {
     "end_time": "2021-09-28T21:13:23.674473Z",
     "start_time": "2021-09-28T21:13:23.664900Z"
    }
   },
   "outputs": [
    {
     "name": "stdout",
     "output_type": "stream",
     "text": [
      "[238 21 48 20 64 19 48 18 48 22 48 17 48 24 64 23 64 19 64 23 64 20 48 18\n",
      " 64 24 48 21 64 17 48 22 64 24 48 21 48 20 64 17 64 23 64 18 64 19 64 22\n",
      " 48 23 48 17 48 19 64 24 64 20 48 22 48 18 64 21 48 21 48 24 64 17 48 20\n",
      " 48 19 48 18 48 23 64 22 48 22 48 19 255]\n",
      "[[21 48]\n",
      " [20 64]\n",
      " [19 48]\n",
      " [18 48]\n",
      " [22 48]\n",
      " [17 48]\n",
      " [24 64]\n",
      " [23 64]\n",
      " [19 64]\n",
      " [23 64]]\n",
      "[[   1   48]\n",
      " [  49  650]\n",
      " [ 651  684]\n",
      " [ 685  726]\n",
      " [ 727 1296]\n",
      " [1297 1680]\n",
      " [1681 2282]\n",
      " [2283 2884]\n",
      " [2885 3486]\n",
      " [3487 4088]]\n"
     ]
    }
   ],
   "source": [
    "event_names = events['event']\n",
    "event_cycles = events['time'] # confusingly, 'time' here refers to cycle count\n",
    "\n",
    "print(events['code'])\n",
    "\n",
    "target_codes = range(17, 25)\n",
    "\n",
    "\n",
    "\n",
    "trial_segments, trial_times = aopy.preproc.get_trial_segments(events['code'], event_cycles, target_codes, [REWARD, HOLD_PENALTY, DELAY_PENALTY])\n",
    "trial_segments = np.array(trial_segments)\n",
    "print(trial_segments[:10])\n",
    "print(trial_times[:10])"
   ]
  },
  {
   "cell_type": "code",
   "execution_count": 29,
   "metadata": {
    "ExecuteTime": {
     "end_time": "2021-09-28T21:13:23.680373Z",
     "start_time": "2021-09-28T21:13:23.675171Z"
    }
   },
   "outputs": [],
   "source": [
    "cursor_kinematics = exp_data['task']['cursor'][:,[0,2]] # cursor (x, z, y) position on each bmi3d cycle\n",
    "time = exp_data['bmi3d_clock']['timestamp']"
   ]
  },
  {
   "cell_type": "code",
   "execution_count": 30,
   "metadata": {
    "ExecuteTime": {
     "end_time": "2021-09-28T21:13:23.688951Z",
     "start_time": "2021-09-28T21:13:23.681161Z"
    }
   },
   "outputs": [],
   "source": [
    "trial_indices = [range(t[0], t[1]) for t in trial_times]\n",
    "cursor_trajectories = [cursor_kinematics[t] for t in trial_indices]\n"
   ]
  },
  {
   "cell_type": "code",
   "execution_count": 31,
   "metadata": {
    "ExecuteTime": {
     "end_time": "2021-09-28T21:13:23.696399Z",
     "start_time": "2021-09-28T21:13:23.689714Z"
    }
   },
   "outputs": [
    {
     "name": "stdout",
     "output_type": "stream",
     "text": [
      "[(0, 5, [ -7.07,   0.  ,  -7.07]) (0, 4, [-10.  ,   0.  ,   0.  ])\n",
      " (0, 3, [ -7.07,   0.  ,   7.07]) (0, 2, [  0.  ,   0.  ,  10.  ])\n",
      " (0, 6, [ -0.  ,   0.  , -10.  ]) (0, 1, [  7.07,   0.  ,   7.07])\n",
      " (0, 8, [ 10.  ,   0.  ,  -0.  ]) (0, 7, [  7.07,   0.  ,  -7.07])\n",
      " (0, 3, [ -7.07,   0.  ,   7.07]) (0, 7, [  7.07,   0.  ,  -7.07])\n",
      " (0, 4, [-10.  ,   0.  ,   0.  ]) (0, 2, [  0.  ,   0.  ,  10.  ])\n",
      " (0, 8, [ 10.  ,   0.  ,  -0.  ]) (0, 5, [ -7.07,   0.  ,  -7.07])\n",
      " (0, 1, [  7.07,   0.  ,   7.07]) (0, 6, [ -0.  ,   0.  , -10.  ])\n",
      " (0, 8, [ 10.  ,   0.  ,  -0.  ]) (0, 5, [ -7.07,   0.  ,  -7.07])\n",
      " (0, 4, [-10.  ,   0.  ,   0.  ]) (0, 1, [  7.07,   0.  ,   7.07])\n",
      " (0, 7, [  7.07,   0.  ,  -7.07]) (0, 2, [  0.  ,   0.  ,  10.  ])\n",
      " (0, 3, [ -7.07,   0.  ,   7.07]) (0, 6, [ -0.  ,   0.  , -10.  ])\n",
      " (0, 7, [  7.07,   0.  ,  -7.07]) (0, 1, [  7.07,   0.  ,   7.07])\n",
      " (0, 3, [ -7.07,   0.  ,   7.07]) (0, 8, [ 10.  ,   0.  ,  -0.  ])\n",
      " (0, 4, [-10.  ,   0.  ,   0.  ]) (0, 6, [ -0.  ,   0.  , -10.  ])\n",
      " (0, 2, [  0.  ,   0.  ,  10.  ]) (0, 5, [ -7.07,   0.  ,  -7.07])\n",
      " (0, 5, [ -7.07,   0.  ,  -7.07]) (0, 8, [ 10.  ,   0.  ,  -0.  ])\n",
      " (0, 1, [  7.07,   0.  ,   7.07]) (0, 4, [-10.  ,   0.  ,   0.  ])\n",
      " (0, 3, [ -7.07,   0.  ,   7.07]) (0, 2, [  0.  ,   0.  ,  10.  ])\n",
      " (0, 7, [  7.07,   0.  ,  -7.07]) (0, 6, [ -0.  ,   0.  , -10.  ])\n",
      " (0, 6, [ -0.  ,   0.  , -10.  ]) (0, 3, [ -7.07,   0.  ,   7.07])]\n"
     ]
    }
   ],
   "source": [
    "# get the unique target positions\n",
    "\n",
    "trials = exp_data['trials']\n",
    "\n",
    "print(trials)\n",
    "\n",
    "n_trials = len(trials)\n",
    "\n",
    "trial_targets = aopy.postproc.get_trial_targets(trials['trial'], trials['target'][:,[0,2]]) # (x, z, y) -> (x, y)\n",
    "\n",
    "unique_targets = np.unique(np.concatenate(([t[1] for t in trial_targets], trial_targets[0])), axis=0)"
   ]
  },
  {
   "cell_type": "code",
   "execution_count": 32,
   "metadata": {
    "ExecuteTime": {
     "end_time": "2021-09-28T21:13:23.709582Z",
     "start_time": "2021-09-28T21:13:23.697117Z"
    }
   },
   "outputs": [
    {
     "data": {
      "text/plain": [
       "(-10.0, 10.0, 0.0, 0.0, -10.0, 10.0)"
      ]
     },
     "execution_count": 32,
     "metadata": {},
     "output_type": "execute_result"
    }
   ],
   "source": [
    "\n",
    "\n",
    "exp_metadata['cursor_bounds']"
   ]
  },
  {
   "cell_type": "code",
   "execution_count": 33,
   "metadata": {
    "ExecuteTime": {
     "end_time": "2021-09-28T21:13:23.883748Z",
     "start_time": "2021-09-28T21:13:23.710638Z"
    }
   },
   "outputs": [
    {
     "data": {
      "image/png": "[encoded data removed]",
      "text/plain": [
       "<Figure size 576x576 with 1 Axes>"
      ]
     },
     "metadata": {
      "needs_background": "light"
     },
     "output_type": "display_data"
    }
   ],
   "source": [
    "fig, ax = plt.subplots(figsize=(8,8))\n",
    "bounds = np.array([-10, 10, -10, 10])\n",
    "aopy.visualization.plot_trajectories(cursor_trajectories[:10], bounds=bounds)\n",
    "aopy.visualization.plot_targets(unique_targets, exp_metadata['target_radius'])"
   ]
  },
  {
   "cell_type": "markdown",
   "metadata": {},
   "source": [
    "## Refactor out the data"
   ]
  },
  {
   "cell_type": "markdown",
   "metadata": {},
   "source": [
    "## Finished time in seconds"
   ]
  },
  {
   "cell_type": "markdown",
   "metadata": {},
   "source": [
    "# Post data analysis"
   ]
  },
  {
   "cell_type": "code",
   "execution_count": 34,
   "metadata": {
    "ExecuteTime": {
     "end_time": "2021-09-28T21:13:23.886217Z",
     "start_time": "2021-09-28T21:13:23.884586Z"
    }
   },
   "outputs": [],
   "source": [
    "import seaborn as sns\n"
   ]
  },
  {
   "cell_type": "markdown",
   "metadata": {},
   "source": [
    "## Total finished trials"
   ]
  },
  {
   "cell_type": "code",
   "execution_count": 35,
   "metadata": {
    "ExecuteTime": {
     "end_time": "2021-09-28T21:13:23.896474Z",
     "start_time": "2021-09-28T21:13:23.887164Z"
    },
    "scrolled": true
   },
   "outputs": [
    {
     "name": "stdout",
     "output_type": "stream",
     "text": [
      "0\n",
      "0\n",
      "\n",
      "0\n",
      "0\n"
     ]
    }
   ],
   "source": [
    "#calculate how many trials\n",
    "for e in  exps: print(e.calc_state_occurrences('reward'))\n",
    "print()\n",
    "\n",
    "for e in  exps: print(e.calc_trial_num())"
   ]
  },
  {
   "cell_type": "markdown",
   "metadata": {},
   "source": [
    "## Overall  trial statistics succuss rate)"
   ]
  },
  {
   "cell_type": "code",
   "execution_count": 36,
   "metadata": {
    "ExecuteTime": {
     "end_time": "2021-09-28T21:13:24.033661Z",
     "start_time": "2021-09-28T21:13:23.897188Z"
    }
   },
   "outputs": [
    {
     "ename": "TypeError",
     "evalue": "'float' object cannot be interpreted as an integer",
     "output_type": "error",
     "traceback": [
      "\u001b[0;31m---------------------------------------------------------------------------\u001b[0m",
      "\u001b[0;31mTypeError\u001b[0m                                 Traceback (most recent call last)",
      "\u001b[0;32m<ipython-input-36-d38ad73d60fa>\u001b[0m in \u001b[0;36m<module>\u001b[0;34m\u001b[0m\n\u001b[1;32m      5\u001b[0m \u001b[0mimportlib\u001b[0m\u001b[0;34m.\u001b[0m\u001b[0mreload\u001b[0m\u001b[0;34m(\u001b[0m\u001b[0mbehaviour_metrics\u001b[0m\u001b[0;34m)\u001b[0m\u001b[0;34m\u001b[0m\u001b[0;34m\u001b[0m\u001b[0m\n\u001b[1;32m      6\u001b[0m \u001b[0;34m\u001b[0m\u001b[0m\n\u001b[0;32m----> 7\u001b[0;31m \u001b[0mreward_events_per_minute\u001b[0m \u001b[0;34m=\u001b[0m \u001b[0;34m[\u001b[0m\u001b[0mbehaviour_metrics\u001b[0m\u001b[0;34m.\u001b[0m\u001b[0mcalc_event_rate_from_state_log\u001b[0m\u001b[0;34m(\u001b[0m\u001b[0me\u001b[0m\u001b[0;34m.\u001b[0m\u001b[0mstate_log\u001b[0m\u001b[0;34m,\u001b[0m\u001b[0;34m'reward'\u001b[0m\u001b[0;34m,\u001b[0m\u001b[0mwindow_length\u001b[0m\u001b[0;34m=\u001b[0m\u001b[0;36m30\u001b[0m\u001b[0;34m)\u001b[0m \u001b[0;32mfor\u001b[0m \u001b[0me\u001b[0m \u001b[0;32min\u001b[0m \u001b[0mexps\u001b[0m\u001b[0;34m]\u001b[0m\u001b[0;34m\u001b[0m\u001b[0;34m\u001b[0m\u001b[0m\n\u001b[0m\u001b[1;32m      8\u001b[0m \u001b[0mreward_events_per_minute\u001b[0m \u001b[0;34m=\u001b[0m \u001b[0mnp\u001b[0m\u001b[0;34m.\u001b[0m\u001b[0marray\u001b[0m\u001b[0;34m(\u001b[0m\u001b[0mreward_events_per_minute\u001b[0m\u001b[0;34m)\u001b[0m\u001b[0;34m\u001b[0m\u001b[0;34m\u001b[0m\u001b[0m\n\u001b[1;32m      9\u001b[0m \u001b[0;34m\u001b[0m\u001b[0m\n",
      "\u001b[0;32m<ipython-input-36-d38ad73d60fa>\u001b[0m in \u001b[0;36m<listcomp>\u001b[0;34m(.0)\u001b[0m\n\u001b[1;32m      5\u001b[0m \u001b[0mimportlib\u001b[0m\u001b[0;34m.\u001b[0m\u001b[0mreload\u001b[0m\u001b[0;34m(\u001b[0m\u001b[0mbehaviour_metrics\u001b[0m\u001b[0;34m)\u001b[0m\u001b[0;34m\u001b[0m\u001b[0;34m\u001b[0m\u001b[0m\n\u001b[1;32m      6\u001b[0m \u001b[0;34m\u001b[0m\u001b[0m\n\u001b[0;32m----> 7\u001b[0;31m \u001b[0mreward_events_per_minute\u001b[0m \u001b[0;34m=\u001b[0m \u001b[0;34m[\u001b[0m\u001b[0mbehaviour_metrics\u001b[0m\u001b[0;34m.\u001b[0m\u001b[0mcalc_event_rate_from_state_log\u001b[0m\u001b[0;34m(\u001b[0m\u001b[0me\u001b[0m\u001b[0;34m.\u001b[0m\u001b[0mstate_log\u001b[0m\u001b[0;34m,\u001b[0m\u001b[0;34m'reward'\u001b[0m\u001b[0;34m,\u001b[0m\u001b[0mwindow_length\u001b[0m\u001b[0;34m=\u001b[0m\u001b[0;36m30\u001b[0m\u001b[0;34m)\u001b[0m \u001b[0;32mfor\u001b[0m \u001b[0me\u001b[0m \u001b[0;32min\u001b[0m \u001b[0mexps\u001b[0m\u001b[0;34m]\u001b[0m\u001b[0;34m\u001b[0m\u001b[0;34m\u001b[0m\u001b[0m\n\u001b[0m\u001b[1;32m      8\u001b[0m \u001b[0mreward_events_per_minute\u001b[0m \u001b[0;34m=\u001b[0m \u001b[0mnp\u001b[0m\u001b[0;34m.\u001b[0m\u001b[0marray\u001b[0m\u001b[0;34m(\u001b[0m\u001b[0mreward_events_per_minute\u001b[0m\u001b[0;34m)\u001b[0m\u001b[0;34m\u001b[0m\u001b[0;34m\u001b[0m\u001b[0m\n\u001b[1;32m      9\u001b[0m \u001b[0;34m\u001b[0m\u001b[0m\n",
      "\u001b[0;32m~/BMi3D_my/operation_funny_chicken/adaptive_feature_selection/behaviour_metrics.py\u001b[0m in \u001b[0;36mcalc_event_rate_from_state_log\u001b[0;34m(state_log, event_name, window_length_in_frames, FRAME_RATE, **kwargs)\u001b[0m\n\u001b[1;32m    170\u001b[0m     \u001b[0mwindow_length\u001b[0m \u001b[0;34m=\u001b[0m \u001b[0mwindow_length_in_frames\u001b[0m \u001b[0;34m/\u001b[0m \u001b[0mFRAME_RATE\u001b[0m\u001b[0;34m\u001b[0m\u001b[0;34m\u001b[0m\u001b[0m\n\u001b[1;32m    171\u001b[0m \u001b[0;34m\u001b[0m\u001b[0m\n\u001b[0;32m--> 172\u001b[0;31m     \u001b[0mevent_record\u001b[0m \u001b[0;34m=\u001b[0m \u001b[0mgenerate_event_array\u001b[0m\u001b[0;34m(\u001b[0m\u001b[0mstate_log\u001b[0m\u001b[0;34m,\u001b[0m \u001b[0mevent_name\u001b[0m\u001b[0;34m,\u001b[0m \u001b[0mFRAME_RATE\u001b[0m \u001b[0;34m=\u001b[0m \u001b[0mFRAME_RATE\u001b[0m\u001b[0;34m,\u001b[0m \u001b[0;34m**\u001b[0m\u001b[0mkwargs\u001b[0m\u001b[0;34m)\u001b[0m\u001b[0;34m\u001b[0m\u001b[0;34m\u001b[0m\u001b[0m\n\u001b[0m\u001b[1;32m    173\u001b[0m \u001b[0;34m\u001b[0m\u001b[0m\n\u001b[1;32m    174\u001b[0m     \u001b[0;32mreturn\u001b[0m \u001b[0mcalc_event_rate\u001b[0m\u001b[0;34m(\u001b[0m\u001b[0mevent_record\u001b[0m\u001b[0;34m,\u001b[0m \u001b[0mwindow_length\u001b[0m \u001b[0;34m=\u001b[0m \u001b[0mwindow_length\u001b[0m\u001b[0;34m,\u001b[0m \u001b[0mFS\u001b[0m \u001b[0;34m=\u001b[0m \u001b[0mFRAME_RATE\u001b[0m\u001b[0;34m)\u001b[0m\u001b[0;34m\u001b[0m\u001b[0;34m\u001b[0m\u001b[0m\n",
      "\u001b[0;32m~/BMi3D_my/operation_funny_chicken/adaptive_feature_selection/behaviour_metrics.py\u001b[0m in \u001b[0;36mgenerate_event_array\u001b[0;34m(state_log, event_name, total_time, FRAME_RATE, **kwargs)\u001b[0m\n\u001b[1;32m    197\u001b[0m \u001b[0;34m\u001b[0m\u001b[0m\n\u001b[1;32m    198\u001b[0m \u001b[0;34m\u001b[0m\u001b[0m\n\u001b[0;32m--> 199\u001b[0;31m     \u001b[0mevent_record\u001b[0m \u001b[0;34m=\u001b[0m \u001b[0mnp\u001b[0m\u001b[0;34m.\u001b[0m\u001b[0mzeros\u001b[0m\u001b[0;34m(\u001b[0m\u001b[0mtotal_num_frames\u001b[0m\u001b[0;34m)\u001b[0m\u001b[0;34m\u001b[0m\u001b[0;34m\u001b[0m\u001b[0m\n\u001b[0m\u001b[1;32m    200\u001b[0m     \u001b[0;31m#proc state log\u001b[0m\u001b[0;34m\u001b[0m\u001b[0;34m\u001b[0m\u001b[0;34m\u001b[0m\u001b[0m\n\u001b[1;32m    201\u001b[0m     \u001b[0;31m#each state has a ('state', time in float)\u001b[0m\u001b[0;34m\u001b[0m\u001b[0;34m\u001b[0m\u001b[0;34m\u001b[0m\u001b[0m\n",
      "\u001b[0;31mTypeError\u001b[0m: 'float' object cannot be interpreted as an integer"
     ]
    }
   ],
   "source": [
    "import behaviour_metrics\n",
    "import importlib\n",
    "\n",
    "sns.set_context(context = 'talk')\n",
    "importlib.reload(behaviour_metrics)\n",
    "\n",
    "reward_events_per_minute = [behaviour_metrics.calc_event_rate_from_state_log(e.state_log,'reward',window_length=30) for e in exps]\n",
    "reward_events_per_minute = np.array(reward_events_per_minute)\n",
    "\n",
    "print(reward_events_per_minute)\n",
    "plt.plot(reward_events_per_minute.T)\n",
    "plt.legend(exp_conds, bbox_to_anchor=(1, -0.1))\n",
    "plt.xlabel('Time (min)')\n",
    "plt.ylabel('Rewards (#)')"
   ]
  },
  {
   "cell_type": "markdown",
   "metadata": {},
   "source": [
    "## Sort into trials"
   ]
  },
  {
   "cell_type": "code",
   "execution_count": null,
   "metadata": {
    "ExecuteTime": {
     "end_time": "2021-09-28T21:13:24.034714Z",
     "start_time": "2021-09-28T21:12:20.722Z"
    }
   },
   "outputs": [],
   "source": [
    "state_log = e.state_log\n",
    "segmented_trials = behaviour_metrics.segment_trials_in_state_log(state_log)"
   ]
  },
  {
   "cell_type": "code",
   "execution_count": null,
   "metadata": {
    "ExecuteTime": {
     "end_time": "2021-09-28T21:13:24.035127Z",
     "start_time": "2021-09-28T21:12:20.724Z"
    }
   },
   "outputs": [],
   "source": [
    "trial_dicts_all = []\n",
    "dict_keys = ['cursor', #behaviour\n",
    "             'ctrl_input', 'spike_counts', #encoder translates intended ctrl into spike counts\n",
    "             'decoder_state']\n",
    "\n",
    "\n",
    "for i in range(NUM_EXP):\n",
    "    \n",
    "    segmented_trials = behaviour_metrics.segment_trials_in_state_log(exps[i].state_log)\n",
    "\n",
    "    task_data_hist_np = task_data_hist_np_all[i]\n",
    "    trial_dict_0 = behaviour_metrics.sort_trials_use_segmented_log(segmented_trials, \n",
    "                               target_seq,\n",
    "                               task_data_hist_np, dict_keys)\n",
    "    \n",
    "    trial_dicts_all.append(trial_dict_0)\n",
    "\n",
    "for t in trial_dicts_all: print(len(t))"
   ]
  },
  {
   "cell_type": "markdown",
   "metadata": {},
   "source": [
    "# Behaviour  analyses"
   ]
  },
  {
   "cell_type": "markdown",
   "metadata": {},
   "source": [
    "## Trajectory analysis"
   ]
  },
  {
   "cell_type": "code",
   "execution_count": null,
   "metadata": {
    "ExecuteTime": {
     "end_time": "2021-09-28T21:13:24.035567Z",
     "start_time": "2021-09-28T21:12:20.727Z"
    }
   },
   "outputs": [],
   "source": [
    "import afs_plotting\n",
    "importlib.reload(afs_plotting)"
   ]
  },
  {
   "cell_type": "code",
   "execution_count": null,
   "metadata": {
    "ExecuteTime": {
     "end_time": "2021-09-28T21:13:24.035959Z",
     "start_time": "2021-09-28T21:12:20.729Z"
    }
   },
   "outputs": [],
   "source": [
    "figure_trajectory, axes_trajectory = plt.subplots(1, NUM_EXP, figsize = (NUM_EXP * GLOBAL_FIGURE_VERTICAL_SIZE, \n",
    "                                                  GLOBAL_FIGURE_VERTICAL_SIZE)) \n",
    "\n",
    "\n",
    "n_roi_trials = 0\n",
    "\n",
    "CIRCLE_RADIUS = exps[0].target_radius\n",
    "\n",
    "print(CIRCLE_RADIUS)\n",
    "\n",
    "for i,axes in enumerate(axes_trajectory): \n",
    "\n",
    "    afs_plotting.add_center_out_grid(axes, target_seq, CIRCLE_RADIUS)\n",
    "    \n",
    "    \n",
    "    sample_trial = trial_dicts_all[i][n_roi_trials]\n",
    "    trial_cursor_trajectory = sample_trial['cursor']\n",
    "    \n",
    "    afs_plotting.plot_trial_trajectory(axes, trial_cursor_trajectory)\n",
    "\n",
    "    axes.set_title(f'Trial {N_TRIALS} of {exp_conds[i]} ')\n",
    "\n"
   ]
  },
  {
   "cell_type": "code",
   "execution_count": null,
   "metadata": {},
   "outputs": [],
   "source": []
  },
  {
   "cell_type": "markdown",
   "metadata": {},
   "source": [
    "## Variance analysis"
   ]
  },
  {
   "cell_type": "code",
   "execution_count": null,
   "metadata": {
    "ExecuteTime": {
     "end_time": "2021-09-28T21:13:24.036356Z",
     "start_time": "2021-09-28T21:12:20.733Z"
    }
   },
   "outputs": [],
   "source": [
    "importlib.reload(behaviour_metrics)"
   ]
  },
  {
   "cell_type": "code",
   "execution_count": null,
   "metadata": {
    "ExecuteTime": {
     "end_time": "2021-09-28T21:13:24.036762Z",
     "start_time": "2021-09-28T21:12:20.735Z"
    },
    "scrolled": true
   },
   "outputs": [],
   "source": [
    "arc_length = [behaviour_metrics.calc_arc_length_from_trial_dict(trial_dict) for trial_dict in trial_dicts_all]\n",
    "for al in arc_length: plt.plot(al)\n",
    "plt.legend(exp_conds)"
   ]
  },
  {
   "cell_type": "markdown",
   "metadata": {},
   "source": [
    "# Kalman filter"
   ]
  },
  {
   "cell_type": "markdown",
   "metadata": {},
   "source": [
    "## encoder\n",
    "\n",
    "the job of the encoder is to directly encode intention into firing rates\n",
    "the direct measure is just pearson correlation coefficients between \n",
    "the intentions and the firing rates"
   ]
  },
  {
   "cell_type": "markdown",
   "metadata": {},
   "source": [
    "## decoder"
   ]
  },
  {
   "cell_type": "code",
   "execution_count": null,
   "metadata": {
    "ExecuteTime": {
     "end_time": "2021-09-28T21:13:24.037157Z",
     "start_time": "2021-09-28T21:12:20.738Z"
    },
    "scrolled": false
   },
   "outputs": [],
   "source": [
    "from afs_plotting import plot_prefered_directions\n",
    "\n",
    "TEXT_OFFSET_VERTICAL = -0.2\n",
    "\n",
    "\n",
    "figure_decoder_C.suptitle('KF C matrix before and after CLDA')\n",
    "\n",
    "print('steady state tuning curves:')\n",
    "\n",
    "for  i,e in enumerate(exps): \n",
    "\n",
    "    e = exps[i]\n",
    "    C = e.decoder.filt.C\n",
    "\n",
    "    plot_prefered_directions(C, ax = axs_decoder_C[1,i])\n",
    "    axs_decoder_C[1,i].set_title(f'{exp_conds[i]}')\n",
    "\n",
    "figure_decoder_C"
   ]
  },
  {
   "cell_type": "markdown",
   "metadata": {},
   "source": [
    "## Decoder compared to the encoder\n",
    "\n"
   ]
  },
  {
   "cell_type": "code",
   "execution_count": null,
   "metadata": {
    "ExecuteTime": {
     "end_time": "2021-09-28T21:13:24.037614Z",
     "start_time": "2021-09-28T21:12:20.741Z"
    }
   },
   "outputs": [],
   "source": [
    "len(exps)"
   ]
  },
  {
   "cell_type": "code",
   "execution_count": null,
   "metadata": {
    "ExecuteTime": {
     "end_time": "2021-09-28T21:13:24.038034Z",
     "start_time": "2021-09-28T21:12:20.743Z"
    }
   },
   "outputs": [],
   "source": [
    "import convergence_analysis\n",
    "importlib.reload(convergence_analysis)\n",
    "from convergence_analysis import calc_cosine_sim_bet_two_matrices, calc_cosine_to_target_matrix\n",
    "\n",
    "active_feat_set = exps[2]._active_feat_set\n",
    "\n",
    "\n",
    "for i,e in enumerate(exps):\n",
    "    enc_directions = e.encoder.C\n",
    "    dec_directions = np.array(e._used_C_mat_list)\n",
    "    \n",
    "\n",
    "    angles_hist = calc_cosine_to_target_matrix( dec_directions,enc_directions)\n",
    "    \n",
    "    if i == 0:\n",
    "        active_angles = np.mean(angles_hist[:,noise_neuron_list], axis = 1)\n",
    "        plt.plot(active_angles)\n",
    "    \n",
    "    active_angles = np.mean(angles_hist[:,active_feat_set], axis = 1)\n",
    "    \n",
    "    plt.plot(active_angles)\n",
    "\n"
   ]
  },
  {
   "cell_type": "markdown",
   "metadata": {},
   "source": []
  },
  {
   "cell_type": "markdown",
   "metadata": {},
   "source": [
    "## looking at K matrix"
   ]
  },
  {
   "cell_type": "code",
   "execution_count": null,
   "metadata": {
    "ExecuteTime": {
     "end_time": "2021-09-28T21:13:24.038458Z",
     "start_time": "2021-09-28T21:12:20.747Z"
    }
   },
   "outputs": [],
   "source": [
    "figure_k_matrix, axes_k_matrix = plt.subplots(2,NUM_EXP,\n",
    "                                          figsize = (GLOBAL_FIGURE_VERTICAL_SIZE * NUM_EXP,\n",
    "                                                    GLOBAL_FIGURE_VERTICAL_SIZE * 2))\n",
    "\n",
    "for i,e in enumerate(exps):\n",
    "    K = (e._used_K_mat_list[1]).T\n",
    "\n",
    "    plot_prefered_directions(K, ax  = axes_k_matrix[0, i])\n",
    "    axes_k_matrix[0, i].set_title(exp_conds[i])\n",
    "\n",
    "for i,e in enumerate(exps):\n",
    "    K = (e._used_K_mat_list[-1]).T\n",
    "    plot_prefered_directions(K, ax  = axes_k_matrix[1, i])\n",
    "    axes_k_matrix[1,i].set_title(exp_conds[i])\n",
    "    \n",
    "    \n",
    "figure_k_matrix.tight_layout()"
   ]
  },
  {
   "cell_type": "markdown",
   "metadata": {},
   "source": [
    "# Feature analysis"
   ]
  },
  {
   "cell_type": "code",
   "execution_count": null,
   "metadata": {
    "ExecuteTime": {
     "end_time": "2021-09-28T21:13:24.038911Z",
     "start_time": "2021-09-28T21:12:20.749Z"
    },
    "scrolled": true
   },
   "outputs": [],
   "source": [
    "from matplotlib import colors\n",
    "\n",
    "\n",
    "\n",
    "fig_feature_active_map, axes_feat_active_map = plt.subplots(1, NUM_EXP,\n",
    "                                                            figsize = ( NUM_EXP * GLOBAL_FIGURE_VERTICAL_SIZE,\n",
    "                                                                      GLOBAL_FIGURE_VERTICAL_SIZE),\n",
    "                                                           sharey = True)\n",
    "axes_feat_active_map[0].set_ylabel('Learner Batch number')\n",
    "\n",
    "#color true to yellow\n",
    "cmap = colors.ListedColormap(['yellow'])\n",
    "\n",
    "for i, exp in enumerate(exps):\n",
    "\n",
    "    active_feat_heat_map = np.array(exp._active_feat_set_list, dtype = np.int32)\n",
    "    active_feat_heat_map = np.ma.masked_where(active_feat_heat_map == False, active_feat_heat_map)\n",
    "    a = axes_feat_active_map[i].imshow(active_feat_heat_map, cmap = cmap)\n",
    "\n",
    "    #color false to blue\n",
    "    cmap.set_bad(color='blue')\n",
    "    \n",
    "    axes_feat_active_map[i].set_xlabel('All features')\n",
    "    axes_feat_active_map[i].set_title(exp_conds[i])\n",
    "\n",
    "\n",
    "#fig_feature_active_map.colorbar(a, ax=axes_feat_active_map.ravel().tolist())"
   ]
  },
  {
   "cell_type": "markdown",
   "metadata": {},
   "source": [
    "## Examine used K mat"
   ]
  },
  {
   "cell_type": "markdown",
   "metadata": {},
   "source": [
    "## examine used C mat"
   ]
  },
  {
   "cell_type": "code",
   "execution_count": null,
   "metadata": {
    "ExecuteTime": {
     "end_time": "2021-09-28T21:13:24.039382Z",
     "start_time": "2021-09-28T21:12:20.753Z"
    }
   },
   "outputs": [],
   "source": [
    "import weights_linear_regression\n",
    "importlib.reload(weights_linear_regression)\n",
    "from weights_linear_regression import calc_a_history_of_matrix_L2norms_along_first_axis\n",
    "\n",
    "\n",
    "figure_weights_norm, axes_weights_norm = plt.subplots( NUM_EXP, N_TYPES_OF_NEURONS,\n",
    "    figsize = (N_TYPES_OF_NEURONS * GLOBAL_FIGURE_VERTICAL_SIZE, NUM_EXP * GLOBAL_FIGURE_VERTICAL_SIZE))\n",
    "\n",
    "C_mat_all = list()\n",
    "\n",
    "for j,exp in enumerate(exps):\n",
    "    \n",
    "    updated_C_mat = np.array(exp._used_C_mat_list)\n",
    "    the_history_of_KF_weights_in_time_by_neurons = calc_a_history_of_matrix_L2norms_along_first_axis(updated_C_mat, debug = False)\n",
    "\n",
    "    C_mat_all.append(np.copy(updated_C_mat))\n",
    "    axe_exp = axes_weights_norm[j,:]\n",
    "    for i,a in enumerate(axe_exp):\n",
    "        a.plot(the_history_of_KF_weights_in_time_by_neurons[:, neuron_type_indices_in_a_list[i]])\n",
    "        a.set_xlabel('Batch number')\n",
    "        a.set_ylabel('Weight')\n",
    "        \n",
    "C_mat_all = np.array(C_mat_all)"
   ]
  },
  {
   "cell_type": "code",
   "execution_count": null,
   "metadata": {
    "ExecuteTime": {
     "end_time": "2021-09-28T21:13:24.039813Z",
     "start_time": "2021-09-28T21:12:20.755Z"
    },
    "scrolled": true
   },
   "outputs": [],
   "source": [
    "fig_compr_means, axes_compr_means = plt.subplots(1, N_TYPES_OF_NEURONS,\n",
    "                                                figsize = (GLOBAL_FIGURE_VERTICAL_SIZE * N_TYPES_OF_NEURONS,\n",
    "                                                          GLOBAL_FIGURE_VERTICAL_SIZE),\n",
    "                                                sharey = True)\n",
    "selected_feature_set = no_noise_neuron_list\n",
    "for i,a in enumerate(axes_compr_means):\n",
    "\n",
    "    type_neuron_list = neuron_type_bool_list[i]\n",
    "    \n",
    "    for C in C_mat_all:\n",
    "\n",
    "\n",
    "        the_history_of_KF_weights_in_time_by_neurons = calc_a_history_of_matrix_L2norms_along_first_axis(C, \n",
    "                                                                                                         target_C=e.encoder.C,\n",
    "                                                                indices_to_sum=(X_VEL_STATE_IND, Y_VEL_STATE_IND))\n",
    "\n",
    "\n",
    "        selected_neurons = np.logical_and(selected_feature_set, type_neuron_list)\n",
    "\n",
    "        selected_mean = np.mean(the_history_of_KF_weights_in_time_by_neurons[:,selected_neurons], axis = 1)\n",
    "        std = np.std(the_history_of_KF_weights_in_time_by_neurons[:,selected_neurons], axis = 1)\n",
    "        \n",
    "        line = a.plot(selected_mean)\n",
    "        \n",
    "        x_data = np.arange((selected_mean).shape[0])\n",
    "        \n",
    "        \n",
    "        a.fill_between(x_data ,selected_mean - std, selected_mean + std, alpha = 0.1 )\n",
    "        a.legend(exp_conds)\n",
    "        \n",
    "handles, labels = a.get_legend_handles_labels()\n",
    "fig_compr_means.legend(handles, labels, loc='lower center')\n",
    "plt.show()\n",
    "    \n",
    "#axes_compr_means.set_title('Means of the high SNR weight trajectory')"
   ]
  }
 ],
 "metadata": {
  "kernelspec": {
   "display_name": "Python 3",
   "language": "python",
   "name": "python3"
  },
  "language_info": {
   "codemirror_mode": {
    "name": "ipython",
    "version": 3
   },
   "file_extension": ".py",
   "mimetype": "text/x-python",
   "name": "python",
   "nbconvert_exporter": "python",
   "pygments_lexer": "ipython3",
   "version": "3.8.10"
  },
  "toc": {
   "base_numbering": 1,
   "nav_menu": {},
   "number_sections": true,
   "sideBar": true,
   "skip_h1_title": false,
   "title_cell": "Table of Contents",
   "title_sidebar": "Contents",
   "toc_cell": false,
   "toc_position": {
    "height": "600.8px",
    "left": "35px",
    "top": "353.8px",
    "width": "312.073px"
   },
   "toc_section_display": true,
   "toc_window_display": true
  },
  "varInspector": {
   "cols": {
    "lenName": 16,
    "lenType": 16,
    "lenVar": 40
   },
   "kernels_config": {
    "python": {
     "delete_cmd_postfix": "",
     "delete_cmd_prefix": "del ",
     "library": "var_list.py",
     "varRefreshCmd": "print(var_dic_list())"
    },
    "r": {
     "delete_cmd_postfix": ") ",
     "delete_cmd_prefix": "rm(",
     "library": "var_list.r",
     "varRefreshCmd": "cat(var_dic_list()) "
    }
   },
   "types_to_exclude": [
    "module",
    "function",
    "builtin_function_or_method",
    "instance",
    "_Feature"
   ],
   "window_display": false
  }
 },
 "nbformat": 4,
 "nbformat_minor": 4
}
