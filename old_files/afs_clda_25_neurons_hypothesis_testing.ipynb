{
 "cells": [
  {
   "cell_type": "markdown",
   "metadata": {},
   "source": [
    "# Purposes of this document\n",
    "\n",
    "to see what happens as we move to 25 neurons"
   ]
  },
  {
   "cell_type": "markdown",
   "metadata": {},
   "source": [
    "# ideas"
   ]
  },
  {
   "cell_type": "markdown",
   "metadata": {},
   "source": []
  },
  {
   "cell_type": "markdown",
   "metadata": {},
   "source": [
    "# Experimental setup related to the questions\n",
    "\n",
    "this part should be configured to directly test the hypothesis put forward in the previous section\n"
   ]
  },
  {
   "cell_type": "code",
   "execution_count": 1,
   "metadata": {
    "ExecuteTime": {
     "end_time": "2021-03-01T23:07:31.266674Z",
     "start_time": "2021-03-01T23:07:30.691546Z"
    }
   },
   "outputs": [
    {
     "name": "stdout",
     "output_type": "stream",
     "text": [
      "features.simulation_features: get_enc_setup has a tuning_level of 1 \n",
      "\n",
      "examine the encoder weights distribution\n",
      "We expect the only the first four neurons carry information:\n",
      "[[ 0.  0.  0.  1.  0.  0.  0.]\n",
      " [ 0.  0.  0. -1.  0.  0.  0.]\n",
      " [ 0.  0.  0.  0.  0.  1.  0.]\n",
      " [ 0.  0.  0.  0.  0. -1.  0.]\n",
      " [ 0.  0.  0.  0.  0.  0.  0.]\n",
      " [ 0.  0.  0.  0.  0.  0.  0.]\n",
      " [ 0.  0.  0.  0.  0.  0.  0.]\n",
      " [ 0.  0.  0.  0.  0.  0.  0.]\n",
      " [ 0.  0.  0.  0.  0.  0.  0.]\n",
      " [ 0.  0.  0.  0.  0.  0.  0.]\n",
      " [ 0.  0.  0.  0.  0.  0.  0.]\n",
      " [ 0.  0.  0.  0.  0.  0.  0.]\n",
      " [ 0.  0.  0.  0.  0.  0.  0.]\n",
      " [ 0.  0.  0.  0.  0.  0.  0.]\n",
      " [ 0.  0.  0.  0.  0.  0.  0.]\n",
      " [ 0.  0.  0.  0.  0.  0.  0.]\n",
      " [ 0.  0.  0.  0.  0.  0.  0.]\n",
      " [ 0.  0.  0.  0.  0.  0.  0.]\n",
      " [ 0.  0.  0.  0.  0.  0.  0.]\n",
      " [ 0.  0.  0.  0.  0.  0.  0.]]\n"
     ]
    },
    {
     "name": "stderr",
     "output_type": "stream",
     "text": [
      "/home/sijia-aw/BMi3D_my/lab_bmi3d/riglib/blackrock/cerelink.py:13: UserWarning: Unable to import cerebus library. Check if is installed if using the Blackrock NeuroPort system\n",
      "  warnings.warn(\"Unable to import cerebus library. Check if is installed if using the Blackrock NeuroPort system\")\n"
     ]
    }
   ],
   "source": [
    "from features.simulation_features import get_enc_setup\n",
    "\n",
    "#neuron set up : 'std (20 neurons)' or 'toy (4 neurons)' \n",
    "N_NEURONS, N_STATES, sim_C = get_enc_setup(sim_mode = 'std')\n",
    "\n",
    "print('examine the encoder weights distribution')\n",
    "print('We expect the only the first four neurons carry information:')\n",
    "print(sim_C)"
   ]
  },
  {
   "cell_type": "code",
   "execution_count": 2,
   "metadata": {
    "ExecuteTime": {
     "end_time": "2021-03-01T23:07:31.269941Z",
     "start_time": "2021-03-01T23:07:31.267579Z"
    }
   },
   "outputs": [],
   "source": [
    "import numpy as np\n",
    "\n",
    "#encoder mean firing rate\n",
    "neuron_firing_rates  = [1, 10, 100]\n",
    "\n",
    "#for comparision\n",
    "exp_conds = [f'enc. mean FR:{b} Hz' for b in neuron_firing_rates]\n",
    "\n",
    "\n",
    "#setting clda parameters \n",
    "##learner: collects paird data at batch_sizes\n",
    "RHO = 0.5\n",
    "batch_size = 50\n",
    "\n",
    "\n",
    "#assistor set up assist level\n",
    "assist_level = (0.05, 0.0)\n",
    "\n",
    "#learner and updater: actualy set up rho\n",
    "UPDATER_BATCH_TIME = 1\n",
    "UPDATER_HALF_LIFE = np.log(RHO)  * UPDATER_BATCH_TIME / np.log(0.5)\n"
   ]
  },
  {
   "cell_type": "code",
   "execution_count": 3,
   "metadata": {
    "ExecuteTime": {
     "end_time": "2021-03-01T23:07:31.280007Z",
     "start_time": "2021-03-01T23:07:31.270785Z"
    }
   },
   "outputs": [],
   "source": [
    "# CHANGE: game mechanics: generate task params\n",
    "N_TARGETS = 8\n",
    "N_TRIALS = 80\n",
    "\n",
    "NUM_EXP = len(exp_conds) # how many experiments we are running. "
   ]
  },
  {
   "cell_type": "markdown",
   "metadata": {},
   "source": [
    "# Config the experiments\n",
    "\n",
    "this section largely copyied and pasted from   \n",
    "bmi3d-sijia(branch)-bulti_in_experiemnts\n",
    "https://github.com/sijia66/brain-python-interface/blob/master/built_in_tasks/sim_task_KF.py"
   ]
  },
  {
   "cell_type": "markdown",
   "metadata": {},
   "source": [
    "## load dependant libraries"
   ]
  },
  {
   "cell_type": "code",
   "execution_count": 4,
   "metadata": {
    "ExecuteTime": {
     "end_time": "2021-03-01T23:07:31.692170Z",
     "start_time": "2021-03-01T23:07:31.280988Z"
    }
   },
   "outputs": [],
   "source": [
    "# import libraries\n",
    "# make sure these directories are in the python path., \n",
    "from bmimultitasks import SimBMIControlMulti, SimBMICosEncKFDec, BMIControlMultiNoWindow\n",
    "from features import SaveHDF\n",
    "from features.simulation_features import get_enc_setup, SimKFDecoderRandom, SimCosineTunedEnc,SimIntentionLQRController, SimClockTick\n",
    "from features.simulation_features import SimHDF, SimTime\n",
    "\n",
    "from riglib import experiment\n",
    "\n",
    "from riglib.stereo_opengl.window import FakeWindow\n",
    "from riglib.bmi import train\n",
    "\n",
    "from weights import calc_p_values_for_spike_batches_use_intended_kin\n",
    "from weights import calc_single_batch_p_values_by_fitting_kinematics_to_spike_counts\n",
    "import weights\n",
    "\n",
    "import time\n",
    "import copy\n",
    "import numpy as np\n",
    "import matplotlib.pyplot as plt\n",
    "import sympy as sp\n",
    "import itertools #for identical sequences\n",
    "\n",
    "np.set_printoptions(precision=2, suppress=True)\n"
   ]
  },
  {
   "cell_type": "markdown",
   "metadata": {},
   "source": [
    "##  behaviour and task setup"
   ]
  },
  {
   "cell_type": "code",
   "execution_count": 5,
   "metadata": {
    "ExecuteTime": {
     "end_time": "2021-03-01T23:07:31.695675Z",
     "start_time": "2021-03-01T23:07:31.693013Z"
    }
   },
   "outputs": [],
   "source": [
    "seq = SimBMIControlMulti.sim_target_seq_generator_multi(\n",
    "N_TARGETS, N_TRIALS)\n",
    "\n",
    "#create a second version of the tasks\n",
    "seqs = itertools.tee(seq, NUM_EXP + 1)\n",
    "target_seq = list(seqs[NUM_EXP])\n",
    "\n",
    "seqs = seqs[:NUM_EXP]\n",
    "\n",
    "\n",
    "SAVE_HDF = False\n",
    "SAVE_SIM_HDF = True #this makes the task data available as exp.task_data_hist\n",
    "DEBUG_FEATURE = False\n",
    "\n",
    "\n",
    "#base_class = SimBMIControlMulti\n",
    "base_class = BMIControlMultiNoWindow\n",
    "\n",
    "#for adding experimental features such as encoder, decoder\n",
    "feats = []"
   ]
  },
  {
   "cell_type": "markdown",
   "metadata": {},
   "source": [
    "## encoder\n",
    "\n",
    "the cosine tuned encoder uses a poisson process, right\n",
    "https://en.wikipedia.org/wiki/Poisson_distribution\n",
    "so if the lambda is 1, then it's very likely "
   ]
  },
  {
   "cell_type": "code",
   "execution_count": 6,
   "metadata": {
    "ExecuteTime": {
     "end_time": "2021-03-01T23:07:31.706031Z",
     "start_time": "2021-03-01T23:07:31.696535Z"
    }
   },
   "outputs": [
    {
     "name": "stdout",
     "output_type": "stream",
     "text": [
      "__main__: selected SimCosineTunedEnc\n",
      "\n"
     ]
    }
   ],
   "source": [
    "ENCODER_TYPE = 'cosine_tuned_encoder'\n",
    "\n",
    "\n",
    "\n",
    "#actually multiply out the firing rates. \n",
    "sim_C_all = [sim_C * nfr for nfr in neuron_firing_rates]\n",
    "\n",
    "\n",
    "#set up intention feedbackcontroller\n",
    "#this ideally set before the encoder\n",
    "feats.append(SimIntentionLQRController)\n",
    "\n",
    "#set up the encoder\n",
    "if ENCODER_TYPE == 'cosine_tuned_encoder' :\n",
    "    feats.append(SimCosineTunedEnc)\n",
    "    print(f'{__name__}: selected SimCosineTunedEnc\\n')"
   ]
  },
  {
   "cell_type": "markdown",
   "metadata": {},
   "source": [
    "## decoder setup"
   ]
  },
  {
   "cell_type": "code",
   "execution_count": 7,
   "metadata": {
    "ExecuteTime": {
     "end_time": "2021-03-01T23:07:31.716231Z",
     "start_time": "2021-03-01T23:07:31.707568Z"
    }
   },
   "outputs": [
    {
     "name": "stdout",
     "output_type": "stream",
     "text": [
      "__main__: set base class \n",
      "__main__: selected SimKFDecoderRandom \n",
      "\n"
     ]
    }
   ],
   "source": [
    "#clda on random \n",
    "DECODER_MODE = 'random' # random \n",
    "\n",
    "   #take care the decoder setup\n",
    "if DECODER_MODE == 'random':\n",
    "    feats.append(SimKFDecoderRandom)\n",
    "    print(f'{__name__}: set base class ')\n",
    "    print(f'{__name__}: selected SimKFDecoderRandom \\n')\n",
    "else: #defaul to a cosEnc and a pre-traind KF DEC\n",
    "    from features.simulation_features import SimKFDecoderSup\n",
    "    feats.append(SimKFDecoderSup)\n",
    "    print(f'{__name__}: set decoder to SimKFDecoderSup\\n')"
   ]
  },
  {
   "cell_type": "markdown",
   "metadata": {},
   "source": [
    "##  clda: learner and updater"
   ]
  },
  {
   "cell_type": "code",
   "execution_count": 8,
   "metadata": {
    "ExecuteTime": {
     "end_time": "2021-03-01T23:07:31.725775Z",
     "start_time": "2021-03-01T23:07:31.717478Z"
    }
   },
   "outputs": [],
   "source": [
    "\n",
    "\n",
    "LEARNER_TYPE = 'feedback' # to dumb or not dumb it is a question 'feedback'\n",
    "UPDATER_TYPE = 'smooth_batch' #none or \"smooth_batch\"\n",
    "\n",
    "\n",
    "#you know what? \n",
    "#learner only collects firing rates labeled with estimated estimates\n",
    "#we would also need to use the labeled data\n",
    "#now, we can set up a dumb/or not-dumb learner\n",
    "if LEARNER_TYPE == 'feedback':\n",
    "    from features.simulation_features import SimFeedbackLearner\n",
    "    feats.append(SimFeedbackLearner)\n",
    "else:\n",
    "    from features.simulation_features import SimDumbLearner\n",
    "    feats.append(SimDumbLearner)\n",
    "\n",
    "#to update the decoder.\n",
    "if UPDATER_TYPE == 'smooth_batch':\n",
    "    from features.simulation_features import SimSmoothBatch\n",
    "    feats.append(SimSmoothBatch)\n",
    "else: #defaut to none \n",
    "    print(f'{__name__}: need to specify an updater')\n",
    "    \n",
    "\n"
   ]
  },
  {
   "cell_type": "markdown",
   "metadata": {},
   "source": [
    "## assistor setup"
   ]
  },
  {
   "cell_type": "markdown",
   "metadata": {},
   "source": [
    "## (Check) config the experiment"
   ]
  },
  {
   "cell_type": "code",
   "execution_count": 9,
   "metadata": {
    "ExecuteTime": {
     "end_time": "2021-03-01T23:07:31.740745Z",
     "start_time": "2021-03-01T23:07:31.726712Z"
    }
   },
   "outputs": [
    {
     "data": {
      "text/plain": [
       "[{'assist_level': (0.05, 0.0),\n",
       "  'sim_C': array([[ 0.,  0.,  0.,  1.,  0.,  0.,  0.],\n",
       "         [ 0.,  0.,  0., -1.,  0.,  0.,  0.],\n",
       "         [ 0.,  0.,  0.,  0.,  0.,  1.,  0.],\n",
       "         [ 0.,  0.,  0.,  0.,  0., -1.,  0.],\n",
       "         [ 0.,  0.,  0.,  0.,  0.,  0.,  0.],\n",
       "         [ 0.,  0.,  0.,  0.,  0.,  0.,  0.],\n",
       "         [ 0.,  0.,  0.,  0.,  0.,  0.,  0.],\n",
       "         [ 0.,  0.,  0.,  0.,  0.,  0.,  0.],\n",
       "         [ 0.,  0.,  0.,  0.,  0.,  0.,  0.],\n",
       "         [ 0.,  0.,  0.,  0.,  0.,  0.,  0.],\n",
       "         [ 0.,  0.,  0.,  0.,  0.,  0.,  0.],\n",
       "         [ 0.,  0.,  0.,  0.,  0.,  0.,  0.],\n",
       "         [ 0.,  0.,  0.,  0.,  0.,  0.,  0.],\n",
       "         [ 0.,  0.,  0.,  0.,  0.,  0.,  0.],\n",
       "         [ 0.,  0.,  0.,  0.,  0.,  0.,  0.],\n",
       "         [ 0.,  0.,  0.,  0.,  0.,  0.,  0.],\n",
       "         [ 0.,  0.,  0.,  0.,  0.,  0.,  0.],\n",
       "         [ 0.,  0.,  0.,  0.,  0.,  0.,  0.],\n",
       "         [ 0.,  0.,  0.,  0.,  0.,  0.,  0.],\n",
       "         [ 0.,  0.,  0.,  0.,  0.,  0.,  0.]]),\n",
       "  'batch_size': 50,\n",
       "  'batch_time': 1,\n",
       "  'half_life': 1.0},\n",
       " {'assist_level': (0.05, 0.0),\n",
       "  'sim_C': array([[  0.,   0.,   0.,  10.,   0.,   0.,   0.],\n",
       "         [  0.,   0.,   0., -10.,   0.,   0.,   0.],\n",
       "         [  0.,   0.,   0.,   0.,   0.,  10.,   0.],\n",
       "         [  0.,   0.,   0.,   0.,   0., -10.,   0.],\n",
       "         [  0.,   0.,   0.,   0.,   0.,   0.,   0.],\n",
       "         [  0.,   0.,   0.,   0.,   0.,   0.,   0.],\n",
       "         [  0.,   0.,   0.,   0.,   0.,   0.,   0.],\n",
       "         [  0.,   0.,   0.,   0.,   0.,   0.,   0.],\n",
       "         [  0.,   0.,   0.,   0.,   0.,   0.,   0.],\n",
       "         [  0.,   0.,   0.,   0.,   0.,   0.,   0.],\n",
       "         [  0.,   0.,   0.,   0.,   0.,   0.,   0.],\n",
       "         [  0.,   0.,   0.,   0.,   0.,   0.,   0.],\n",
       "         [  0.,   0.,   0.,   0.,   0.,   0.,   0.],\n",
       "         [  0.,   0.,   0.,   0.,   0.,   0.,   0.],\n",
       "         [  0.,   0.,   0.,   0.,   0.,   0.,   0.],\n",
       "         [  0.,   0.,   0.,   0.,   0.,   0.,   0.],\n",
       "         [  0.,   0.,   0.,   0.,   0.,   0.,   0.],\n",
       "         [  0.,   0.,   0.,   0.,   0.,   0.,   0.],\n",
       "         [  0.,   0.,   0.,   0.,   0.,   0.,   0.],\n",
       "         [  0.,   0.,   0.,   0.,   0.,   0.,   0.]]),\n",
       "  'batch_size': 50,\n",
       "  'batch_time': 1,\n",
       "  'half_life': 1.0},\n",
       " {'assist_level': (0.05, 0.0),\n",
       "  'sim_C': array([[   0.,    0.,    0.,  100.,    0.,    0.,    0.],\n",
       "         [   0.,    0.,    0., -100.,    0.,    0.,    0.],\n",
       "         [   0.,    0.,    0.,    0.,    0.,  100.,    0.],\n",
       "         [   0.,    0.,    0.,    0.,    0., -100.,    0.],\n",
       "         [   0.,    0.,    0.,    0.,    0.,    0.,    0.],\n",
       "         [   0.,    0.,    0.,    0.,    0.,    0.,    0.],\n",
       "         [   0.,    0.,    0.,    0.,    0.,    0.,    0.],\n",
       "         [   0.,    0.,    0.,    0.,    0.,    0.,    0.],\n",
       "         [   0.,    0.,    0.,    0.,    0.,    0.,    0.],\n",
       "         [   0.,    0.,    0.,    0.,    0.,    0.,    0.],\n",
       "         [   0.,    0.,    0.,    0.,    0.,    0.,    0.],\n",
       "         [   0.,    0.,    0.,    0.,    0.,    0.,    0.],\n",
       "         [   0.,    0.,    0.,    0.,    0.,    0.,    0.],\n",
       "         [   0.,    0.,    0.,    0.,    0.,    0.,    0.],\n",
       "         [   0.,    0.,    0.,    0.,    0.,    0.,    0.],\n",
       "         [   0.,    0.,    0.,    0.,    0.,    0.,    0.],\n",
       "         [   0.,    0.,    0.,    0.,    0.,    0.,    0.],\n",
       "         [   0.,    0.,    0.,    0.,    0.,    0.,    0.],\n",
       "         [   0.,    0.,    0.,    0.,    0.,    0.,    0.],\n",
       "         [   0.,    0.,    0.,    0.,    0.,    0.,    0.]]),\n",
       "  'batch_size': 50,\n",
       "  'batch_time': 1,\n",
       "  'half_life': 1.0}]"
      ]
     },
     "execution_count": 9,
     "metadata": {},
     "output_type": "execute_result"
    }
   ],
   "source": [
    "if DEBUG_FEATURE: \n",
    "    from features.simulation_features import DebugFeature\n",
    "    feats.append(DebugFeature)\n",
    "    \n",
    "if SAVE_HDF: feats.append(SaveHDF)\n",
    "if SAVE_SIM_HDF: feats.append(SimHDF)\n",
    "    \n",
    "    \n",
    "#pass the real time limit on clock\n",
    "feats.append(SimClockTick)\n",
    "feats.append(SimTime)\n",
    "\n",
    "\n",
    "kwargs_exps = list()\n",
    "\n",
    "for i in range(NUM_EXP):\n",
    "    d = dict()\n",
    "    \n",
    "    d['assist_level'] = assist_level\n",
    "    d['sim_C'] = sim_C_all[i]\n",
    "    d['batch_size'] = batch_size\n",
    "    \n",
    "    d['batch_time'] = UPDATER_BATCH_TIME\n",
    "    d['half_life'] = UPDATER_HALF_LIFE\n",
    "    \n",
    "    kwargs_exps.append(d)\n",
    "\n",
    "\n",
    "kwargs_exps"
   ]
  },
  {
   "cell_type": "markdown",
   "metadata": {},
   "source": [
    "## make and initalize experiment instances"
   ]
  },
  {
   "cell_type": "code",
   "execution_count": 10,
   "metadata": {
    "ExecuteTime": {
     "end_time": "2021-03-01T23:07:31.778537Z",
     "start_time": "2021-03-01T23:07:31.741673Z"
    }
   },
   "outputs": [
    {
     "name": "stdout",
     "output_type": "stream",
     "text": [
      "metaclass constructor\n",
      "(<class 'features.simulation_features.SimIntentionLQRController'>, <class 'features.simulation_features.SimCosineTunedEnc'>, <class 'features.simulation_features.SimKFDecoderRandom'>, <class 'features.simulation_features.SimFeedbackLearner'>, <class 'features.simulation_features.SimSmoothBatch'>, <class 'features.simulation_features.SimHDF'>, <class 'features.simulation_features.SimClockTick'>, <class 'features.simulation_features.SimTime'>, <class 'bmimultitasks.BMIControlMultiNoWindow'>)\n",
      "[<class 'features.simulation_features.SimIntentionLQRController'>, <class 'features.simulation_features.SimCosineTunedEnc'>, <class 'features.simulation_features.SimKFDecoderRandom'>, <class 'features.simulation_features.SimFeedbackLearner'>, <class 'features.simulation_features.SimSmoothBatch'>, <class 'features.simulation_features.SimHDF'>, <class 'features.simulation_features.SimClockTick'>, <class 'features.simulation_features.SimTime'>]\n",
      "\n",
      "features.simulation_features.SimIntentionLQRController: LQRController used \n",
      "\n",
      "\n",
      " features.simulation_features.SimFeedbackLearner: start to create a sim leaner with a batchsize of 50\n",
      "features.simulation_features.SimSmoothBatch: rho in this simulation is  0.5\n",
      "\n",
      "finished executing Experiment.__init__\n",
      "\n",
      "features.simulation_features.SimIntentionLQRController: LQRController used \n",
      "\n",
      "\n",
      " features.simulation_features.SimFeedbackLearner: start to create a sim leaner with a batchsize of 50\n",
      "features.simulation_features.SimSmoothBatch: rho in this simulation is  0.5\n",
      "\n",
      "finished executing Experiment.__init__\n",
      "\n",
      "features.simulation_features.SimIntentionLQRController: LQRController used \n",
      "\n",
      "\n",
      " features.simulation_features.SimFeedbackLearner: start to create a sim leaner with a batchsize of 50\n",
      "features.simulation_features.SimSmoothBatch: rho in this simulation is  0.5\n",
      "\n",
      "finished executing Experiment.__init__\n",
      "\n",
      "SimCosineTunedEnc SSM: State space: ['hand_px', 'hand_py', 'hand_pz', 'hand_vx', 'hand_vy', 'hand_vz', 'offset'] \n",
      "\n",
      "neural encoder init function  <BMIControlMultiNoWindow(Thread-4, initial)>\n",
      "features.simulation_features: added tracking of K matrix\n",
      "<bmimultitasks.SimpleEndpointAssister object at 0x7fcd5ea897f0>\n",
      "features.simulation_features: batch size is 50\n",
      "Reset states for learner: \n",
      "[]\n",
      "Done states for learner: \n",
      "[]\n",
      "\n",
      "features.simulation_features.SimFeedbackLearner: flip the self.learn_flag to true\n",
      "features.simulation_features.SimFeedbackLearner: succussfully created a feedback controller learner\n",
      "\n",
      "\n",
      "SimSmoothBatch: created an updater with a batch time of 1 and a half_life of 1.0 \n",
      "\n",
      "\n",
      "SimCosineTunedEnc SSM: State space: ['hand_px', 'hand_py', 'hand_pz', 'hand_vx', 'hand_vy', 'hand_vz', 'offset'] \n",
      "\n",
      "neural encoder init function  <BMIControlMultiNoWindow(Thread-5, initial)>\n",
      "features.simulation_features: added tracking of K matrix\n",
      "<bmimultitasks.SimpleEndpointAssister object at 0x7fcd5e1d8ee0>\n",
      "features.simulation_features: batch size is 50\n",
      "Reset states for learner: \n",
      "[]\n",
      "Done states for learner: \n",
      "[]\n",
      "\n",
      "features.simulation_features.SimFeedbackLearner: flip the self.learn_flag to true\n",
      "features.simulation_features.SimFeedbackLearner: succussfully created a feedback controller learner\n",
      "\n",
      "\n",
      "SimSmoothBatch: created an updater with a batch time of 1 and a half_life of 1.0 \n",
      "\n",
      "\n",
      "SimCosineTunedEnc SSM: State space: ['hand_px', 'hand_py', 'hand_pz', 'hand_vx', 'hand_vy', 'hand_vz', 'offset'] \n",
      "\n",
      "neural encoder init function  <BMIControlMultiNoWindow(Thread-6, initial)>\n",
      "features.simulation_features: added tracking of K matrix\n",
      "<bmimultitasks.SimpleEndpointAssister object at 0x7fcd5e2282e0>\n",
      "features.simulation_features: batch size is 50\n",
      "Reset states for learner: \n",
      "[]\n",
      "Done states for learner: \n",
      "[]\n",
      "\n",
      "features.simulation_features.SimFeedbackLearner: flip the self.learn_flag to true\n",
      "features.simulation_features.SimFeedbackLearner: succussfully created a feedback controller learner\n",
      "\n",
      "\n",
      "SimSmoothBatch: created an updater with a batch time of 1 and a half_life of 1.0 \n",
      "\n"
     ]
    }
   ],
   "source": [
    "#seed the experiment\n",
    "np.random.seed(0)\n",
    "\n",
    "#spawn the task\n",
    "Exp = experiment.make(base_class, feats=feats)\n",
    "\n",
    "exps = list()#create a list of experiment\n",
    "\n",
    "for i,s in enumerate(seqs):\n",
    "    e = Exp(s, **kwargs_exps[i])\n",
    "    exps.append(e)\n",
    "\n",
    "#run the ini\n",
    "for e in exps: e.init()"
   ]
  },
  {
   "cell_type": "markdown",
   "metadata": {},
   "source": [
    "# Pre-experiment check: check the Kalman filter before training"
   ]
  },
  {
   "cell_type": "code",
   "execution_count": 11,
   "metadata": {
    "ExecuteTime": {
     "end_time": "2021-03-01T23:07:32.289475Z",
     "start_time": "2021-03-01T23:07:31.779356Z"
    }
   },
   "outputs": [
    {
     "name": "stdout",
     "output_type": "stream",
     "text": [
      "we replace the encoder using the weights\n",
      "assume, they are all randomly initialized get the first decoder\n",
      "get a handle to the first decoder\n",
      "we check the new decoder C matrix:\n"
     ]
    },
    {
     "data": {
      "image/png": "[encoded data removed]",
      "text/plain": [
       "<Figure size 864x288 with 3 Axes>"
      ]
     },
     "metadata": {
      "needs_background": "light"
     },
     "output_type": "display_data"
    }
   ],
   "source": [
    "print('we replace the encoder using the weights')\n",
    "print('assume, they are all randomly initialized get the first decoder')\n",
    "print('get a handle to the first decoder')\n",
    "first_decoder = exps[0].decoder\n",
    "target_C = first_decoder.filt.C\n",
    "    \n",
    "#replace the decoder\n",
    "for i,e in enumerate(exps):\n",
    "    weights.change_target_kalman_filter_with_a_C_mat(e.decoder.filt, target_C, debug=False)\n",
    "    \n",
    "print('we check the new decoder C matrix:')\n",
    "\n",
    "decoder_c_figure, axs = plt.subplots(nrows=1, \n",
    "                               ncols=NUM_EXP, figsize = [12,4])\n",
    "decoder_c_figure.suptitle('Decoder C matrix ')\n",
    "\n",
    "for i,e in enumerate(exps):\n",
    "    e.decoder.plot_C(ax = axs[i])\n",
    "    axs[i].set_title(exp_conds[i])"
   ]
  },
  {
   "cell_type": "markdown",
   "metadata": {},
   "source": [
    "# Experiment run: assemble into a complete loop"
   ]
  },
  {
   "cell_type": "markdown",
   "metadata": {},
   "source": [
    "##  define the function"
   ]
  },
  {
   "cell_type": "code",
   "execution_count": 12,
   "metadata": {
    "ExecuteTime": {
     "end_time": "2021-03-01T23:07:32.300376Z",
     "start_time": "2021-03-01T23:07:32.290453Z"
    },
    "scrolled": true
   },
   "outputs": [],
   "source": [
    "#make this into a loop\n",
    "\n",
    "def run_exp_loop(exp,  **kwargs):\n",
    "        # riglib.experiment: line 597 - 601\n",
    "    #exp.next_trial = next(exp.gen)\n",
    "    # -+exp._parse_next_trial()np.arraynp.array\n",
    "\n",
    "\n",
    "    # we need to set the initial state\n",
    "    # per fsm.run:  line 138\n",
    "\n",
    "\n",
    "    # Initialize the FSM before the loop\n",
    "    exp.set_state(exp.state)\n",
    "    \n",
    "    finished_trials = exp.calc_state_occurrences('wait')\n",
    "    print(f'finished: {finished_trials}')\n",
    "\n",
    "\n",
    "    while exp.state is not None:\n",
    "\n",
    "        # exp.fsm_tick()\n",
    "\n",
    "        ### Execute commands#####\n",
    "        exp.exec_state_specific_actions(exp.state)\n",
    "\n",
    "        ###run the bmi loop #####\n",
    "        # _cycle\n",
    "\n",
    "        # bmi feature extraction, eh\n",
    "        #riglib.bmi: 1202\n",
    "        feature_data = exp.get_features()\n",
    "\n",
    "        # Determine the target_state and save to file\n",
    "        current_assist_level = exp.get_current_assist_level()\n",
    "        target_state = exp.get_target_BMI_state(exp.decoder.states)\n",
    "\n",
    "        # Determine the assistive control inputs to the Decoder\n",
    "        #update assistive control level\n",
    "        exp.update_level()\n",
    "        if np.any(current_assist_level) > 0:\n",
    "            current_state = exp.get_current_state()\n",
    "\n",
    "            if target_state.shape[1] > 1:\n",
    "                assist_kwargs = exp.assister(current_state, \n",
    "                                             target_state[:,0].reshape(-1,1), \n",
    "                                             current_assist_level, mode= exp.state)\n",
    "            else:\n",
    "                assist_kwargs = exp.assister(current_state, \n",
    "                                              target_state, \n",
    "                                              current_assist_level, \n",
    "                                              mode= exp.state)\n",
    "\n",
    "            kwargs.update(assist_kwargs)\n",
    "            \n",
    "        \n",
    "\n",
    "        # decode the new features\n",
    "        # riglib.bmi.bmiloop: line 1245\n",
    "        neural_features = feature_data[exp.extractor.feature_type]\n",
    "\n",
    "        # call decoder.\n",
    "        #tmp = exp.call_decoder(neural_features, target_state, **kwargs)\n",
    "        neural_obs = neural_features\n",
    "        learn_flag = exp.learn_flag\n",
    "        task_state = exp.state\n",
    "\n",
    "        n_units, n_obs = neural_obs.shape\n",
    "        # If the target is specified as a 1D position, tile to match\n",
    "        # the number of dimensions as the neural features\n",
    "        if np.ndim(target_state) == 1 or (target_state.shape[1] == 1 and n_obs > 1):\n",
    "            target_state = np.tile(target_state, [1, n_obs])\n",
    "\n",
    "        decoded_states = np.zeros([exp.bmi_system.decoder.n_states, n_obs])\n",
    "        update_flag = False\n",
    "\n",
    "        for k in range(n_obs):\n",
    "            neural_obs_k = neural_obs[:, k].reshape(-1, 1)\n",
    "            target_state_k = target_state[:, k]\n",
    "\n",
    "            # NOTE: the conditional below is *only* for compatibility with older Carmena\n",
    "            # lab data collected using a different MATLAB-based system. In all python cases,\n",
    "            # the task_state should never contain NaN values.\n",
    "            if np.any(np.isnan(target_state_k)):\n",
    "                task_state = 'no_target'\n",
    "\n",
    "            #################################\n",
    "            # Decode the current observation\n",
    "            #################################\n",
    "            decodable_obs, decode = exp.bmi_system.feature_accumulator(\n",
    "                neural_obs_k)\n",
    "            if decode:  # if a new decodable observation is available from the feature accumulator\n",
    "                prev_state = exp.bmi_system.decoder.get_state()\n",
    "\n",
    "                exp.bmi_system.decoder(decodable_obs, **kwargs)\n",
    "                # Determine whether the current state or previous state should be given to the learner\n",
    "                if exp.bmi_system.learner.input_state_index == 0:\n",
    "                    learner_state = exp.bmi_system.decoder.get_state()\n",
    "                elif exp.bmi_system.learner.input_state_index == -1:\n",
    "                    learner_state = prev_state\n",
    "                else:\n",
    "                    print((\"Not implemented yet: %d\" %\n",
    "                           exp.bmi_system.learner.input_state_index))\n",
    "                    learner_state = prev_state\n",
    "\n",
    "                if learn_flag:\n",
    "                    exp.bmi_system.learner(decodable_obs.copy(), learner_state, target_state_k, exp.bmi_system.decoder.get_state(\n",
    "                    ), task_state, state_order=exp.bmi_system.decoder.ssm.state_order)\n",
    "\n",
    "            decoded_states[:, k] = exp.bmi_system.decoder.get_state()\n",
    "\n",
    "            ############################\n",
    "            # Update decoder parameters\n",
    "            ############################\n",
    "            if exp.bmi_system.learner.is_ready():\n",
    "                batch_data = exp.bmi_system.learner.get_batch()\n",
    "                batch_data['decoder'] = exp.bmi_system.decoder\n",
    "                kwargs.update(batch_data)\n",
    "                exp.bmi_system.updater(**kwargs)\n",
    "                exp.bmi_system.learner.disable()\n",
    "\n",
    "            new_params = None  # by default, no new parameters are available\n",
    "            if exp.bmi_system.has_updater:\n",
    "                new_params = copy.deepcopy(exp.bmi_system.updater.get_result())\n",
    "\n",
    "            # Update the decoder if new parameters are available\n",
    "            if not (new_params is None):\n",
    "                exp.bmi_system.decoder.update_params(\n",
    "                    new_params, **exp.bmi_system.updater.update_kwargs)\n",
    "                new_params['intended_kin'] = batch_data['intended_kin']\n",
    "                new_params['spike_counts_batch'] = batch_data['spike_counts']\n",
    "\n",
    "                exp.bmi_system.learner.enable()\n",
    "                update_flag = True\n",
    "\n",
    "                # Save new parameters to parameter history\n",
    "                exp.bmi_system.param_hist.append(new_params)\n",
    "\n",
    "\n",
    "\n",
    "        # saved as task data\n",
    "        # return decoded_states, update_flag\n",
    "        tmp = decoded_states\n",
    "        exp.task_data['internal_decoder_state'] = tmp\n",
    "\n",
    "        # reset the plant position\n",
    "        # @riglib.bmi.BMILoop.move_plant  line:1254\n",
    "        exp.plant.drive(exp.decoder)\n",
    "\n",
    "        # check state transitions and run the FSM.\n",
    "        current_state = exp.state\n",
    "\n",
    "        # iterate over the possible events which could move the task out of the current state\n",
    "        for event in exp.status[current_state]:\n",
    "            # if the event has occurred\n",
    "            if exp.test_state_transition_event(event):\n",
    "                # execute commands to end the current state\n",
    "                exp.end_state(current_state)\n",
    "\n",
    "                # trigger the transition for the event\n",
    "                exp.trigger_event(event)\n",
    "\n",
    "                # stop searching for transition events (transition events must be\n",
    "                # mutually exclusive for this FSM to function properly)\n",
    "                break\n",
    "\n",
    "        # sort out the loop params.\n",
    "        # inc cycle count\n",
    "        exp.cycle_count += 1\n",
    "\n",
    "        # save target data as was done in manualControlTasks._cycle\n",
    "        exp.task_data['target'] = exp.target_location.copy()\n",
    "        exp.task_data['target_index'] = exp.target_index\n",
    "\n",
    "        #done in bmi:_cycle after move_plant\n",
    "        exp.task_data['loop_time'] = exp.iter_time()\n",
    "\n",
    "\n",
    "        #fb_controller data\n",
    "        exp.task_data['target_state'] = target_state\n",
    "\n",
    "        #encoder data\n",
    "        #input to this is actually extractor\n",
    "        exp.task_data['ctrl_input'] = np.reshape(exp.extractor.sim_ctrl, (1,-1))\n",
    "\n",
    "        #actually output\n",
    "        exp.task_data['spike_counts'] = feature_data['spike_counts']\n",
    "\n",
    "\n",
    "        #save the decoder_state\n",
    "        #from BMILoop.move_plant\n",
    "        exp.task_data['decoder_state'] = exp.decoder.get_state(shape=(-1,1))\n",
    "        \n",
    "        #save bmi_data\n",
    "        exp.task_data['update_bmi'] = update_flag\n",
    "\n",
    "\n",
    "        # as well as plant data.\n",
    "        plant_data = exp.plant.get_data_to_save()\n",
    "        for key in plant_data:\n",
    "            exp.task_data[key] = plant_data[key]\n",
    "\n",
    "        # clda data handled in the above call.\n",
    "\n",
    "        # save to the list hisory of data.\n",
    "        exp.task_data_hist.append(exp.task_data.copy())\n",
    "        \n",
    "        #print out the trial update whenever wait count changes, alright. \n",
    "        if finished_trials != exp.calc_state_occurrences('wait'):\n",
    "            finished_trials = exp.calc_state_occurrences('wait')\n",
    "            print(f'finished trials :{finished_trials} with a current assist level of {exp.get_current_assist_level()}')\n",
    "\n",
    "\n",
    "    if exp.verbose:\n",
    "        print(\"end of FSM.run, task state is\", exp.state)\n",
    "    \n",
    "    \n"
   ]
  },
  {
   "cell_type": "markdown",
   "metadata": {},
   "source": [
    "## actually running the experiments"
   ]
  },
  {
   "cell_type": "code",
   "execution_count": 13,
   "metadata": {
    "ExecuteTime": {
     "end_time": "2021-03-01T23:08:11.083170Z",
     "start_time": "2021-03-01T23:07:32.301309Z"
    },
    "scrolled": true
   },
   "outputs": [
    {
     "name": "stdout",
     "output_type": "stream",
     "text": [
      "runseq\n",
      "finished: 1\n",
      "assist_level:  0.05\n"
     ]
    },
    {
     "name": "stderr",
     "output_type": "stream",
     "text": [
      "/home/sijia-aw/BMi3D_my/lab_bmi3d/riglib/bmi/kfdecoder.py:372: FutureWarning: `rcond` parameter will change to the default of machine precision times ``max(M, N)`` where M and N are the input matrix dimensions.\n",
      "To use the future default and silence this warning we advise to pass `rcond=None`, to keep using the old, explicitly pass `rcond=-1`.\n",
      "  C = np.mat(np.linalg.lstsq(X.T, Y.T)[0].T)\n"
     ]
    },
    {
     "name": "stdout",
     "output_type": "stream",
     "text": [
      "finished trials :2 with a current assist level of 0.04510694444444445\n",
      "assist_level:  0.045\n",
      "finished trials :3 with a current assist level of 0.04473194444444445\n",
      "finished trials :4 with a current assist level of 0.0439\n",
      "finished trials :5 with a current assist level of 0.04364166666666667\n",
      "finished trials :6 with a current assist level of 0.041808333333333336\n",
      "finished trials :7 with a current assist level of 0.04098333333333334\n",
      "assist_level:  0.04\n",
      "finished trials :8 with a current assist level of 0.03946527777777778\n",
      "finished trials :9 with a current assist level of 0.038747222222222225\n",
      "finished trials :10 with a current assist level of 0.03707361111111111\n",
      "assist_level:  0.035\n",
      "finished trials :11 with a current assist level of 0.03460694444444445\n",
      "finished trials :12 with a current assist level of 0.03326666666666667\n",
      "finished trials :13 with a current assist level of 0.03284861111111111\n",
      "finished trials :14 with a current assist level of 0.03232361111111111\n",
      "finished trials :15 with a current assist level of 0.031856944444444445\n",
      "finished trials :16 with a current assist level of 0.031181944444444446\n",
      "finished trials :17 with a current assist level of 0.030723611111111115\n",
      "assist_level:  0.03\n",
      "finished trials :18 with a current assist level of 0.029925\n",
      "finished trials :19 with a current assist level of 0.029115277777777778\n",
      "finished trials :20 with a current assist level of 0.027398611111111113\n",
      "finished trials :21 with a current assist level of 0.026597222222222227\n",
      "finished trials :22 with a current assist level of 0.025722222222222226\n",
      "assist_level:  0.025\n",
      "finished trials :23 with a current assist level of 0.024997222222222226\n",
      "finished trials :24 with a current assist level of 0.024372222222222226\n",
      "finished trials :25 with a current assist level of 0.02345555555555556\n",
      "finished trials :26 with a current assist level of 0.022847222222222227\n",
      "finished trials :27 with a current assist level of 0.02244027777777778\n",
      "finished trials :28 with a current assist level of 0.02189861111111112\n",
      "finished trials :29 with a current assist level of 0.021597222222222226\n",
      "finished trials :30 with a current assist level of 0.020872222222222226\n",
      "finished trials :31 with a current assist level of 0.020423611111111115\n",
      "finished trials :32 with a current assist level of 0.020148611111111117\n",
      "assist_level:  0.020000000000000004\n",
      "finished trials :33 with a current assist level of 0.019780555555555558\n",
      "finished trials :34 with a current assist level of 0.01950694444444444\n",
      "finished trials :35 with a current assist level of 0.018523611111111116\n",
      "finished trials :36 with a current assist level of 0.01721527777777778\n",
      "finished trials :37 with a current assist level of 0.016905555555555556\n",
      "finished trials :38 with a current assist level of 0.015280555555555561\n",
      "assist_level:  0.015000000000000006\n",
      "finished trials :39 with a current assist level of 0.014773611111111112\n",
      "finished trials :40 with a current assist level of 0.013972222222222226\n",
      "finished trials :41 with a current assist level of 0.01283055555555556\n",
      "finished trials :42 with a current assist level of 0.01203888888888889\n",
      "finished trials :43 with a current assist level of 0.01114861111111111\n",
      "finished trials :44 with a current assist level of 0.010747222222222227\n",
      "finished trials :45 with a current assist level of 0.010205555555555558\n",
      "assist_level:  0.009999999999999995\n",
      "finished trials :46 with a current assist level of 0.009638888888888891\n",
      "finished trials :47 with a current assist level of 0.009106944444444445\n",
      "finished trials :48 with a current assist level of 0.007815277777777782\n",
      "finished trials :49 with a current assist level of 0.007430555555555558\n",
      "finished trials :50 with a current assist level of 0.006956944444444446\n",
      "finished trials :51 with a current assist level of 0.006463888888888894\n",
      "finished trials :52 with a current assist level of 0.006140277777777779\n",
      "finished trials :53 with a current assist level of 0.005672222222222231\n",
      "assist_level:  0.0049999999999999975\n",
      "finished trials :54 with a current assist level of 0.0047749999999999945\n",
      "finished trials :55 with a current assist level of 0.002066666666666661\n",
      "finished trials :56 with a current assist level of 0.0012236111111111198\n",
      "finished trials :57 with a current assist level of 0.0009083333333333304\n",
      "finished trials :58 with a current assist level of 0.0004986111111111163\n",
      "finished trials :59 with a current assist level of 7.499999999999868e-05\n",
      "assist_level at final value after 58 successful trials\n",
      "finished trials :60 with a current assist level of 0.0\n",
      "finished trials :61 with a current assist level of 0.0\n",
      "finished trials :62 with a current assist level of 0.0\n",
      "finished trials :63 with a current assist level of 0.0\n",
      "finished trials :64 with a current assist level of 0.0\n",
      "finished trials :65 with a current assist level of 0.0\n",
      "finished trials :66 with a current assist level of 0.0\n",
      "finished trials :67 with a current assist level of 0.0\n",
      "finished trials :68 with a current assist level of 0.0\n",
      "finished trials :69 with a current assist level of 0.0\n",
      "finished trials :70 with a current assist level of 0.0\n",
      "finished trials :71 with a current assist level of 0.0\n",
      "finished trials :72 with a current assist level of 0.0\n",
      "finished trials :73 with a current assist level of 0.0\n",
      "finished trials :74 with a current assist level of 0.0\n",
      "finished trials :75 with a current assist level of 0.0\n",
      "finished trials :76 with a current assist level of 0.0\n",
      "finished trials :77 with a current assist level of 0.0\n",
      "finished trials :78 with a current assist level of 0.0\n",
      "finished trials :79 with a current assist level of 0.0\n",
      "finished trials :80 with a current assist level of 0.0\n",
      "finished trials :81 with a current assist level of 0.0\n",
      "end of FSM.run, task state is None\n",
      "Finished running  enc. mean FR:1 Hz\n",
      "runseq\n",
      "finished: 1\n",
      "finished trials :2 with a current assist level of 0.04780555555555556\n",
      "finished trials :3 with a current assist level of 0.04729027777777778\n",
      "finished trials :4 with a current assist level of 0.04674166666666667\n",
      "finished trials :5 with a current assist level of 0.046463888888888895\n",
      "finished trials :6 with a current assist level of 0.046200000000000005\n",
      "finished trials :7 with a current assist level of 0.045950000000000005\n",
      "finished trials :8 with a current assist level of 0.04566527777777778\n",
      "finished trials :9 with a current assist level of 0.045408333333333335\n",
      "finished trials :10 with a current assist level of 0.045130555555555556\n",
      "finished trials :11 with a current assist level of 0.044915277777777776\n",
      "finished trials :12 with a current assist level of 0.04436388888888889\n",
      "finished trials :13 with a current assist level of 0.044125000000000004\n",
      "finished trials :14 with a current assist level of 0.04385833333333333\n",
      "finished trials :15 with a current assist level of 0.04359166666666667\n",
      "finished trials :16 with a current assist level of 0.04331666666666667\n",
      "finished trials :17 with a current assist level of 0.04294722222222223\n",
      "finished trials :18 with a current assist level of 0.042675000000000005\n",
      "finished trials :19 with a current assist level of 0.04241666666666667\n",
      "finished trials :20 with a current assist level of 0.04210833333333334\n",
      "finished trials :21 with a current assist level of 0.041875\n",
      "finished trials :22 with a current assist level of 0.041363888888888894\n",
      "finished trials :23 with a current assist level of 0.04115\n",
      "finished trials :24 with a current assist level of 0.040900000000000006\n",
      "finished trials :25 with a current assist level of 0.040625\n",
      "finished trials :26 with a current assist level of 0.040405555555555556\n",
      "finished trials :27 with a current assist level of 0.04017361111111111\n",
      "finished trials :28 with a current assist level of 0.039947222222222224\n",
      "finished trials :29 with a current assist level of 0.03971527777777778\n",
      "finished trials :30 with a current assist level of 0.03944166666666667\n",
      "finished trials :31 with a current assist level of 0.039231944444444444\n",
      "finished trials :32 with a current assist level of 0.03900833333333333\n",
      "finished trials :33 with a current assist level of 0.0388\n",
      "finished trials :34 with a current assist level of 0.03856527777777778\n",
      "finished trials :35 with a current assist level of 0.038323611111111114\n",
      "finished trials :36 with a current assist level of 0.03810694444444444\n",
      "finished trials :37 with a current assist level of 0.037872222222222224\n"
     ]
    },
    {
     "name": "stdout",
     "output_type": "stream",
     "text": [
      "finished trials :38 with a current assist level of 0.03757361111111111\n",
      "finished trials :39 with a current assist level of 0.03735694444444445\n",
      "finished trials :40 with a current assist level of 0.03710694444444445\n",
      "finished trials :41 with a current assist level of 0.03661527777777778\n",
      "finished trials :42 with a current assist level of 0.03639861111111112\n",
      "finished trials :43 with a current assist level of 0.03614861111111112\n",
      "finished trials :44 with a current assist level of 0.03591388888888889\n",
      "finished trials :45 with a current assist level of 0.03564861111111112\n",
      "finished trials :46 with a current assist level of 0.0351\n",
      "finished trials :47 with a current assist level of 0.03483055555555556\n",
      "finished trials :48 with a current assist level of 0.034591666666666666\n",
      "finished trials :49 with a current assist level of 0.0343\n",
      "finished trials :50 with a current assist level of 0.03401666666666667\n",
      "finished trials :51 with a current assist level of 0.03374722222222222\n",
      "finished trials :52 with a current assist level of 0.033508333333333334\n",
      "finished trials :53 with a current assist level of 0.032913888888888895\n",
      "finished trials :54 with a current assist level of 0.03269861111111111\n",
      "finished trials :55 with a current assist level of 0.03244861111111111\n",
      "finished trials :56 with a current assist level of 0.03220555555555556\n",
      "finished trials :57 with a current assist level of 0.031955555555555556\n",
      "finished trials :58 with a current assist level of 0.031731944444444445\n",
      "finished trials :59 with a current assist level of 0.031497222222222225\n",
      "finished trials :60 with a current assist level of 0.031231944444444448\n",
      "finished trials :61 with a current assist level of 0.030981944444444447\n",
      "finished trials :62 with a current assist level of 0.030723611111111115\n",
      "finished trials :63 with a current assist level of 0.030481944444444447\n",
      "finished trials :64 with a current assist level of 0.03021666666666667\n",
      "finished trials :65 with a current assist level of 0.029981944444444446\n",
      "finished trials :66 with a current assist level of 0.029323611111111113\n",
      "finished trials :67 with a current assist level of 0.02906527777777778\n",
      "finished trials :68 with a current assist level of 0.02878888888888889\n",
      "finished trials :69 with a current assist level of 0.028497222222222226\n",
      "finished trials :70 with a current assist level of 0.028180555555555556\n",
      "finished trials :71 with a current assist level of 0.027947222222222224\n",
      "finished trials :72 with a current assist level of 0.027738888888888893\n",
      "finished trials :73 with a current assist level of 0.027523611111111113\n",
      "finished trials :74 with a current assist level of 0.027273611111111113\n",
      "finished trials :75 with a current assist level of 0.026988888888888892\n",
      "finished trials :76 with a current assist level of 0.026763888888888893\n",
      "finished trials :77 with a current assist level of 0.026530555555555557\n",
      "finished trials :78 with a current assist level of 0.02633055555555556\n",
      "finished trials :79 with a current assist level of 0.02604861111111111\n",
      "finished trials :80 with a current assist level of 0.02583055555555556\n",
      "finished trials :81 with a current assist level of 0.02561388888888889\n",
      "end of FSM.run, task state is None\n",
      "Finished running  enc. mean FR:10 Hz\n",
      "runseq\n",
      "finished: 1\n",
      "finished trials :2 with a current assist level of 0.04939166666666667\n",
      "finished trials :3 with a current assist level of 0.04884166666666667\n",
      "finished trials :4 with a current assist level of 0.048572222222222225\n",
      "finished trials :5 with a current assist level of 0.04834027777777778\n",
      "finished trials :6 with a current assist level of 0.048113888888888894\n",
      "finished trials :7 with a current assist level of 0.04784027777777778\n",
      "finished trials :8 with a current assist level of 0.047606944444444445\n",
      "finished trials :9 with a current assist level of 0.04736388888888889\n",
      "finished trials :10 with a current assist level of 0.047150000000000004\n",
      "finished trials :11 with a current assist level of 0.046941666666666666\n",
      "finished trials :12 with a current assist level of 0.04672361111111111\n",
      "finished trials :13 with a current assist level of 0.04650555555555556\n",
      "finished trials :14 with a current assist level of 0.04629027777777778\n",
      "finished trials :15 with a current assist level of 0.046075000000000005\n",
      "finished trials :16 with a current assist level of 0.045858333333333334\n",
      "finished trials :17 with a current assist level of 0.04564861111111111\n",
      "finished trials :18 with a current assist level of 0.04543194444444445\n",
      "finished trials :19 with a current assist level of 0.045213888888888894\n",
      "finished trials :20 with a current assist level of 0.044998611111111114\n",
      "finished trials :21 with a current assist level of 0.04477361111111111\n",
      "finished trials :22 with a current assist level of 0.04453055555555556\n",
      "finished trials :23 with a current assist level of 0.04432222222222222\n",
      "finished trials :24 with a current assist level of 0.044083333333333335\n",
      "finished trials :25 with a current assist level of 0.04385833333333333\n",
      "finished trials :26 with a current assist level of 0.04365\n",
      "finished trials :27 with a current assist level of 0.04344722222222223\n",
      "finished trials :28 with a current assist level of 0.04323333333333333\n",
      "finished trials :29 with a current assist level of 0.04301666666666667\n",
      "finished trials :30 with a current assist level of 0.042508333333333335\n",
      "finished trials :31 with a current assist level of 0.04219166666666667\n",
      "finished trials :32 with a current assist level of 0.04191666666666667\n",
      "finished trials :33 with a current assist level of 0.04166666666666667\n",
      "finished trials :34 with a current assist level of 0.04144166666666667\n",
      "finished trials :35 with a current assist level of 0.041183333333333336\n",
      "finished trials :36 with a current assist level of 0.040900000000000006\n",
      "finished trials :37 with a current assist level of 0.04069166666666667\n",
      "finished trials :38 with a current assist level of 0.040483333333333336\n",
      "finished trials :39 with a current assist level of 0.040275000000000005\n",
      "finished trials :40 with a current assist level of 0.04006666666666667\n",
      "finished trials :41 with a current assist level of 0.039850000000000003\n",
      "finished trials :42 with a current assist level of 0.039650000000000005\n",
      "finished trials :43 with a current assist level of 0.03944166666666667\n",
      "finished trials :44 with a current assist level of 0.039231944444444444\n",
      "finished trials :45 with a current assist level of 0.03902361111111111\n",
      "finished trials :46 with a current assist level of 0.038808333333333334\n",
      "finished trials :47 with a current assist level of 0.03859166666666667\n",
      "finished trials :48 with a current assist level of 0.038372222222222224\n",
      "finished trials :49 with a current assist level of 0.038175\n",
      "finished trials :50 with a current assist level of 0.037975\n",
      "finished trials :51 with a current assist level of 0.03775833333333334\n",
      "finished trials :52 with a current assist level of 0.03755\n",
      "finished trials :53 with a current assist level of 0.03732361111111111\n",
      "finished trials :54 with a current assist level of 0.03710694444444445\n",
      "finished trials :55 with a current assist level of 0.03689166666666667\n",
      "finished trials :56 with a current assist level of 0.03669027777777778\n",
      "finished trials :57 with a current assist level of 0.03648194444444445\n",
      "finished trials :58 with a current assist level of 0.03627361111111112\n",
      "finished trials :59 with a current assist level of 0.03605833333333333\n",
      "finished trials :60 with a current assist level of 0.03584166666666667\n",
      "finished trials :61 with a current assist level of 0.03555833333333334\n",
      "finished trials :62 with a current assist level of 0.03514861111111112\n",
      "finished trials :63 with a current assist level of 0.03489166666666667\n",
      "finished trials :64 with a current assist level of 0.03448194444444445\n",
      "finished trials :65 with a current assist level of 0.03421666666666667\n",
      "finished trials :66 with a current assist level of 0.03395555555555556\n",
      "finished trials :67 with a current assist level of 0.033106944444444446\n",
      "finished trials :68 with a current assist level of 0.03284166666666667\n",
      "finished trials :69 with a current assist level of 0.03264027777777778\n",
      "finished trials :70 with a current assist level of 0.032413888888888895\n",
      "finished trials :71 with a current assist level of 0.03219861111111111\n",
      "finished trials :72 with a current assist level of 0.03197361111111111\n",
      "finished trials :73 with a current assist level of 0.03175833333333333\n"
     ]
    },
    {
     "name": "stdout",
     "output_type": "stream",
     "text": [
      "finished trials :74 with a current assist level of 0.031531944444444446\n",
      "finished trials :75 with a current assist level of 0.03132361111111111\n",
      "finished trials :76 with a current assist level of 0.031106944444444447\n",
      "finished trials :77 with a current assist level of 0.030906944444444445\n",
      "finished trials :78 with a current assist level of 0.03069861111111111\n",
      "finished trials :79 with a current assist level of 0.030481944444444447\n",
      "finished trials :80 with a current assist level of 0.03026527777777778\n",
      "finished trials :81 with a current assist level of 0.03005\n",
      "end of FSM.run, task state is None\n",
      "Finished running  enc. mean FR:100 Hz\n"
     ]
    }
   ],
   "source": [
    "for i,e in enumerate(exps):\n",
    "    run_exp_loop(e, **kwargs_exps[i])\n",
    "    print(f'Finished running  {exp_conds[i]}')"
   ]
  },
  {
   "cell_type": "markdown",
   "metadata": {
    "ExecuteTime": {
     "end_time": "2021-01-25T01:00:26.027506Z",
     "start_time": "2021-01-25T01:00:26.024320Z"
    }
   },
   "source": [
    "# Postprocessing the data for loading"
   ]
  },
  {
   "cell_type": "code",
   "execution_count": 14,
   "metadata": {
    "ExecuteTime": {
     "end_time": "2021-03-01T23:08:11.086382Z",
     "start_time": "2021-03-01T23:08:11.084048Z"
    }
   },
   "outputs": [
    {
     "name": "stdout",
     "output_type": "stream",
     "text": [
      "80\n",
      "80\n",
      "80\n"
     ]
    }
   ],
   "source": [
    "for e in  exps: print(e.calc_state_occurrences('reward'))"
   ]
  },
  {
   "cell_type": "markdown",
   "metadata": {},
   "source": [
    "## declare defs and conventions"
   ]
  },
  {
   "cell_type": "code",
   "execution_count": 15,
   "metadata": {
    "ExecuteTime": {
     "end_time": "2021-03-01T23:08:11.094493Z",
     "start_time": "2021-03-01T23:08:11.087162Z"
    }
   },
   "outputs": [],
   "source": [
    "FRAME_RATE = 60\n",
    "INT_WINDOW_TIME = 10 # s for looking at sample raw data\n",
    "\n",
    "# some conventions as we go down the loop\n",
    "X_VEL_STATE_IND = 3\n",
    "Y_VEL_STATE_IND = 5\n",
    "X_POS_STATE_IND = 0\n",
    "Y_POS_STATE_IND = 2\n",
    "\n",
    "state_indices = [X_POS_STATE_IND,\n",
    "                 Y_POS_STATE_IND,\n",
    "                 X_VEL_STATE_IND,\n",
    "                 Y_VEL_STATE_IND]\n",
    "state_names = ['x pos ', 'y pos', 'x vel', 'y vel']\n",
    "\n",
    "\n",
    "INT_WIN_SAMPLES = INT_WINDOW_TIME * FRAME_RATE\n",
    "\n"
   ]
  },
  {
   "cell_type": "markdown",
   "metadata": {},
   "source": [
    "## Refactor out the data"
   ]
  },
  {
   "cell_type": "code",
   "execution_count": 16,
   "metadata": {
    "ExecuteTime": {
     "end_time": "2021-03-01T23:08:11.204998Z",
     "start_time": "2021-03-01T23:08:11.095526Z"
    }
   },
   "outputs": [
    {
     "data": {
      "text/plain": [
       "dtype([('cursor', '<f8', (3,)), ('obs_t', '<f8', (20, 1)), ('K', '<f8', (7, 20)), ('KC', '<f8', (7, 7)), ('pred_state_mean', '<f8', (7, 1)), ('post_state_mean', '<f8', (7, 1)), ('pred_state_P', '<f8', (7, 7)), ('post_state_P', '<f8', (7, 7)), ('loop_time', '<f8', (1,)), ('decoder_state', '<f8', (7, 1)), ('internal_decoder_state', '<f8', (7, 1)), ('target_state', '<f8', (7, 1)), ('update_bmi', '<f8', (1,)), ('spike_counts', '<f8', (20, 1)), ('bin_edges', '<f8', (2,)), ('ctrl_input', '<f8', (7,)), ('assist_level', '<f8', (1,)), ('target', '<f8', (3,)), ('target_index', '<i4', (1,))])"
      ]
     },
     "execution_count": 16,
     "metadata": {},
     "output_type": "execute_result"
    }
   ],
   "source": [
    "task_data_hist_np_all = [np.array(e.task_data_hist) for e in exps]\n",
    "len(task_data_hist_np_all)\n",
    "task_data_hist_np_all[0].dtype"
   ]
  },
  {
   "cell_type": "markdown",
   "metadata": {},
   "source": [
    "## Finished time in seconds"
   ]
  },
  {
   "cell_type": "code",
   "execution_count": 17,
   "metadata": {
    "ExecuteTime": {
     "end_time": "2021-03-01T23:08:11.208492Z",
     "start_time": "2021-03-01T23:08:11.205924Z"
    }
   },
   "outputs": [
    {
     "data": {
      "text/plain": [
       "[811, 292, 239]"
      ]
     },
     "execution_count": 17,
     "metadata": {},
     "output_type": "execute_result"
    }
   ],
   "source": [
    "finished_times_in_seconds = [int(len(s)/FRAME_RATE) for s in task_data_hist_np_all]\n",
    "finished_times_in_seconds"
   ]
  },
  {
   "cell_type": "markdown",
   "metadata": {},
   "source": [
    "# Post data analysis"
   ]
  },
  {
   "cell_type": "markdown",
   "metadata": {},
   "source": [
    "## Overall  trial statistics succuss rate)"
   ]
  },
  {
   "cell_type": "code",
   "execution_count": 18,
   "metadata": {
    "ExecuteTime": {
     "end_time": "2021-03-01T23:08:11.215751Z",
     "start_time": "2021-03-01T23:08:11.209480Z"
    }
   },
   "outputs": [],
   "source": [
    "def filter_state(state_log:list, state_to_match:str)->list:\n",
    "    '''#set axis limits of plot (x=0 to 20, y=0 to 20)\n",
    "plt.axis([0, 20, 0, 20])\n",
    "plt.axis(\"equal\")\n",
    "\n",
    "    state_log: a list of tuples (state:string, start_time: float)\n",
    "    state_to_watch\n",
    "    \n",
    "    returns a list of element type\n",
    "    '''\n",
    "    \n",
    "    return list(filter(lambda k: k[0] == state_to_match, state_log) )\n",
    "\n",
    "def calc_inter_wait_times(wait_log: list)-> list:\n",
    "    \"\"\"\n",
    "    state_log: a list of tuples (\"wait\", start_time: float)\n",
    "    return a list of tuples: (\"wait\", start_time: float, diff_time)\n",
    "    \"\"\"\n",
    "    wait_log_with_diff = list()\n",
    "    for i, wait_state in enumerate(wait_log):\n",
    "        if i == len(wait_log)-1: #there is nothing to subtract, just put zero.\n",
    "            wait_log_with_diff.append((wait_state[1],  0))\n",
    "            \n",
    "        else:\n",
    "            finish_time = wait_log[i+1][1]\n",
    "            wait_log_with_diff.append((wait_state[1],  finish_time - wait_state[1]))\n",
    "    \n",
    "    return np.array(wait_log_with_diff[:-1])"
   ]
  },
  {
   "cell_type": "code",
   "execution_count": 19,
   "metadata": {
    "ExecuteTime": {
     "end_time": "2021-03-01T23:08:11.225930Z",
     "start_time": "2021-03-01T23:08:11.216650Z"
    }
   },
   "outputs": [],
   "source": [
    "state_logs = [e.state_log for e in exps]\n"
   ]
  },
  {
   "cell_type": "code",
   "execution_count": 20,
   "metadata": {
    "ExecuteTime": {
     "end_time": "2021-03-01T23:08:11.234082Z",
     "start_time": "2021-03-01T23:08:11.226859Z"
    }
   },
   "outputs": [],
   "source": [
    "STATE_CUT_NAME =  'wait'\n",
    "#get the state logs\n",
    "wait_logs = [filter_state(s, STATE_CUT_NAME) for s in state_logs]\n",
    "\n",
    "inter_wait_times = [calc_inter_wait_times(w) for w in wait_logs]\n",
    "#this has both start times "
   ]
  },
  {
   "cell_type": "code",
   "execution_count": 21,
   "metadata": {
    "ExecuteTime": {
     "end_time": "2021-03-01T23:08:11.359613Z",
     "start_time": "2021-03-01T23:08:11.235077Z"
    },
    "scrolled": true
   },
   "outputs": [
    {
     "data": {
      "text/plain": [
       "Text(0, 0.5, 'Trial time (s)')"
      ]
     },
     "execution_count": 21,
     "metadata": {},
     "output_type": "execute_result"
    },
    {
     "data": {
      "image/png": "[encoded data removed]",
      "text/plain": [
       "<Figure size 432x288 with 1 Axes>"
      ]
     },
     "metadata": {
      "needs_background": "light"
     },
     "output_type": "display_data"
    }
   ],
   "source": [
    "\n",
    "\n",
    "for i in inter_wait_times:\n",
    "    plt.scatter(i[:,0], i[:,1])\n",
    "\n",
    "plt.legend(exp_conds)\n",
    "plt.xlabel('Training progression(s)')\n",
    "plt.ylabel('Trial time (s)')"
   ]
  },
  {
   "cell_type": "code",
   "execution_count": 22,
   "metadata": {
    "ExecuteTime": {
     "end_time": "2021-03-01T23:08:11.363614Z",
     "start_time": "2021-03-01T23:08:11.361799Z"
    }
   },
   "outputs": [],
   "source": [
    "wait_time = inter_wait_times[0]\n",
    "task_data_hist_np = task_data_hist_np_all[0]\n",
    "\n"
   ]
  },
  {
   "cell_type": "code",
   "execution_count": 23,
   "metadata": {
    "ExecuteTime": {
     "end_time": "2021-03-01T23:08:11.371613Z",
     "start_time": "2021-03-01T23:08:11.364410Z"
    }
   },
   "outputs": [],
   "source": [
    "def sort_trials(wait_time:list, \n",
    "                target_seq:list,\n",
    "                task_data_hist_np:dict, \n",
    "                dict_keys, FRAME_RATE = 60):\n",
    "    trial_dict = list()\n",
    "    \n",
    "    for i,row in enumerate(wait_time):\n",
    "        start_time = row[0]\n",
    "        inter_wait_time = row[1]\n",
    "\n",
    "        start_sample = int(start_time * FRAME_RATE)\n",
    "        inter_wait_sample = int(inter_wait_time * FRAME_RATE)\n",
    "        stop_sample = start_sample + inter_wait_sample\n",
    "\n",
    "        single_trial_dict = dict()\n",
    "\n",
    "        for k in dict_keys:\n",
    "            \n",
    "            requested_type_data = np.squeeze(task_data_hist_np[k])\n",
    "            single_trial_dict[k] =  requested_type_data[start_sample:stop_sample,\n",
    "                                                       :]\n",
    "        #add more info\n",
    "        single_trial_dict['start_time'] = row[0]\n",
    "        single_trial_dict['inter_wait_time'] = row[1]\n",
    "        \n",
    "        #add target info\n",
    "        single_trial_dict['targets'] = target_seq[i]\n",
    "\n",
    "        #add the dictionary to the list\n",
    "        trial_dict.append(single_trial_dict)\n",
    "        \n",
    "    return trial_dict\n",
    "\n"
   ]
  },
  {
   "cell_type": "code",
   "execution_count": 24,
   "metadata": {
    "ExecuteTime": {
     "end_time": "2021-03-01T23:08:11.382155Z",
     "start_time": "2021-03-01T23:08:11.373916Z"
    }
   },
   "outputs": [
    {
     "data": {
      "text/plain": [
       "3"
      ]
     },
     "execution_count": 24,
     "metadata": {},
     "output_type": "execute_result"
    }
   ],
   "source": [
    "\n",
    "\n",
    "trial_dicts_all = []\n",
    "dict_keys = ['cursor', #behaviour\n",
    "             'ctrl_input', 'spike_counts', #encoder translates intended ctrl into spike counts\n",
    "             'decoder_state']\n",
    "\n",
    "for i in range(NUM_EXP):\n",
    "    wait_time = inter_wait_times[i]\n",
    "    task_data_hist_np = task_data_hist_np_all[i]\n",
    "    \n",
    "    trial_dict_0 = sort_trials(wait_time, \n",
    "                               target_seq,\n",
    "                               task_data_hist_np, dict_keys)\n",
    "    \n",
    "    trial_dicts_all.append(trial_dict_0)\n",
    "\n",
    "len(trial_dicts_all)"
   ]
  },
  {
   "cell_type": "markdown",
   "metadata": {},
   "source": [
    "## Trajectory analysis"
   ]
  },
  {
   "cell_type": "code",
   "execution_count": 25,
   "metadata": {
    "ExecuteTime": {
     "end_time": "2021-03-01T23:08:11.477759Z",
     "start_time": "2021-03-01T23:08:11.383215Z"
    }
   },
   "outputs": [
    {
     "data": {
      "image/png": "[encoded data removed]",
      "text/plain": [
       "<Figure size 432x288 with 1 Axes>"
      ]
     },
     "metadata": {
      "needs_background": "light"
     },
     "output_type": "display_data"
    }
   ],
   "source": [
    "n_roi_trials = N_TRIALS - 1\n",
    "unique_targets =  np.unique(target_seq, axis = 0)\n",
    "\n",
    "\n",
    "X_CURSOR = 0\n",
    "Z_CURSOR = 2\n",
    "CIRCL_ALPHA = 0.2\n",
    "\n",
    "\n",
    "\n",
    "RANGE_LIM =  15\n",
    "figure, axes = plt.subplots() \n",
    "\n",
    "axes.set_xlim(-RANGE_LIM, RANGE_LIM)\n",
    "axes.set_ylim(-RANGE_LIM, RANGE_LIM)\n",
    "\n",
    "CIRCLE_RADIUS = exps[0].target_radius\n",
    "\n",
    "#plot the targets\n",
    "\n",
    "#plot the origin\n",
    "\n",
    "cc = plt.Circle((0,0 ), \n",
    "            radius = CIRCLE_RADIUS,\n",
    "            alpha = CIRCL_ALPHA)\n",
    "\n",
    "axes.add_artist( cc ) \n",
    "\n",
    "for origin_t in unique_targets:\n",
    "    origin = origin_t[0]\n",
    "    t = origin_t[1]\n",
    "\n",
    "    cc = plt.Circle((t[X_CURSOR],t[Z_CURSOR] ), \n",
    "                    radius = CIRCLE_RADIUS,\n",
    "                    alpha = CIRCL_ALPHA)\n",
    "                     \n",
    "    axes.set_aspect( 1 ) \n",
    "    axes.add_artist( cc ) \n",
    "    \n",
    "    \n",
    "for trial_dict in trial_dicts_all:\n",
    "    \n",
    "    sample_trial = trial_dict[n_roi_trials]\n",
    "    trial_cursor_trajectory = sample_trial['cursor']\n",
    "    \n",
    "    \n",
    "    axes.plot(trial_cursor_trajectory[:, X_CURSOR], \n",
    "             trial_cursor_trajectory[:, Z_CURSOR])\n",
    "\n"
   ]
  },
  {
   "cell_type": "code",
   "execution_count": 26,
   "metadata": {
    "ExecuteTime": {
     "end_time": "2021-03-01T23:08:11.481130Z",
     "start_time": "2021-03-01T23:08:11.478723Z"
    },
    "scrolled": true
   },
   "outputs": [
    {
     "name": "stdout",
     "output_type": "stream",
     "text": [
      "finished trials:\n",
      "enc. mean FR:1 Hz: 80 out of 80\n",
      "enc. mean FR:10 Hz: 80 out of 80\n",
      "enc. mean FR:100 Hz: 80 out of 80\n"
     ]
    }
   ],
   "source": [
    "print('finished trials:')\n",
    "\n",
    "for i,e in  enumerate(exps): \n",
    "    reward_num = e.calc_state_occurrences('reward')\n",
    "    print(f'{exp_conds[i]}: {reward_num} out of {N_TRIALS}')"
   ]
  },
  {
   "cell_type": "markdown",
   "metadata": {},
   "source": [
    "## encoder\n",
    "\n",
    "the job of the encoder is to directly encode intention into firing rates\n",
    "the direct measure is just pearson correlation coefficients between \n",
    "the intentions and the firing rates"
   ]
  },
  {
   "cell_type": "code",
   "execution_count": 27,
   "metadata": {
    "ExecuteTime": {
     "end_time": "2021-03-01T23:08:11.489179Z",
     "start_time": "2021-03-01T23:08:11.481890Z"
    }
   },
   "outputs": [
    {
     "name": "stdout",
     "output_type": "stream",
     "text": [
      "the encoder observation Q matrix\n",
      "enc. mean FR:1 Hz\n",
      "7\n",
      "enc. mean FR:10 Hz\n",
      "7\n",
      "enc. mean FR:100 Hz\n",
      "7\n"
     ]
    }
   ],
   "source": [
    "print('the encoder observation Q matrix')\n",
    "for i,e in enumerate(exps):\n",
    "    print(exp_conds[i])\n",
    "    print(e.encoder.ssm.w)"
   ]
  },
  {
   "cell_type": "code",
   "execution_count": 28,
   "metadata": {
    "ExecuteTime": {
     "end_time": "2021-03-01T23:08:11.498238Z",
     "start_time": "2021-03-01T23:08:11.490068Z"
    }
   },
   "outputs": [],
   "source": [
    "n_exp = 0\n",
    "\n",
    "\n",
    "spike_count_sample = trial_dicts_all[n_exp][n_roi_trials]['spike_counts']"
   ]
  },
  {
   "cell_type": "markdown",
   "metadata": {},
   "source": [
    "## decoder"
   ]
  },
  {
   "cell_type": "code",
   "execution_count": 29,
   "metadata": {
    "ExecuteTime": {
     "end_time": "2021-03-01T23:08:12.047642Z",
     "start_time": "2021-03-01T23:08:11.499199Z"
    },
    "scrolled": false
   },
   "outputs": [
    {
     "name": "stdout",
     "output_type": "stream",
     "text": [
      "steady state tuning curves:\n"
     ]
    },
    {
     "data": {
      "text/plain": [
       "Text(0, -0.27999999999999997, 'CLDA rho 0.5')"
      ]
     },
     "execution_count": 29,
     "metadata": {},
     "output_type": "execute_result"
    },
    {
     "data": {
      "image/png": "[encoded data removed]",
      "text/plain": [
       "<Figure size 864x288 with 3 Axes>"
      ]
     },
     "metadata": {
      "needs_background": "light"
     },
     "output_type": "display_data"
    }
   ],
   "source": [
    "TEXT_OFFSET_VERTICAL = -0.2\n",
    "\n",
    "decoder_c_after,axs = plt.subplots(1, NUM_EXP,\n",
    "                                  figsize = (12,4))\n",
    "\n",
    "decoder_c_after.suptitle('C matrix after')\n",
    "\n",
    "print('steady state tuning curves:')\n",
    "for i,e in enumerate(exps):\n",
    "    e.decoder.plot_C(ax = axs[i])\n",
    "    axs[i].set_title(exp_conds[i])\n",
    "    \n",
    "    #get the lower left coordinate\n",
    "    y_lim_range  = axs[i].get_ylim()[1] - axs[i].get_ylim()[0]\n",
    "    \n",
    "    axs[i].text(0, TEXT_OFFSET_VERTICAL,\n",
    "                f'finished {N_TRIALS} trials in {finished_times_in_seconds[i]} s', \n",
    "               transform = axs[i].transAxes)\n",
    "\n",
    "decoder_c_after.text(0, 1.4 * TEXT_OFFSET_VERTICAL, \n",
    "                     f'CLDA rho {RHO}',\n",
    "                    transform = axs[0].transAxes)\n"
   ]
  },
  {
   "cell_type": "code",
   "execution_count": 30,
   "metadata": {
    "ExecuteTime": {
     "end_time": "2021-03-01T23:08:12.383328Z",
     "start_time": "2021-03-01T23:08:12.048491Z"
    }
   },
   "outputs": [
    {
     "data": {
      "image/png": "[encoded data removed]",
      "text/plain": [
       "<Figure size 864x288 with 3 Axes>"
      ]
     },
     "execution_count": 30,
     "metadata": {},
     "output_type": "execute_result"
    }
   ],
   "source": [
    "decoder_c_figure"
   ]
  },
  {
   "cell_type": "markdown",
   "metadata": {},
   "source": [
    "## compare before and after the training"
   ]
  },
  {
   "cell_type": "code",
   "execution_count": 31,
   "metadata": {
    "ExecuteTime": {
     "end_time": "2021-03-01T23:08:12.730510Z",
     "start_time": "2021-03-01T23:08:12.384322Z"
    }
   },
   "outputs": [
    {
     "data": {
      "image/png": "[encoded data removed]",
      "text/plain": [
       "<Figure size 864x288 with 6 Axes>"
      ]
     },
     "metadata": {
      "needs_background": "light"
     },
     "output_type": "display_data"
    }
   ],
   "source": [
    "\n",
    "\n",
    "N_ROWS = 2 #before and after \n",
    "FIGURE_SIZE_2_by_4 = (12,4)\n",
    "figure_compare_decoder_C_matrix,axs = plt.subplots(2,NUM_EXP, \n",
    "                                                   figsize = (12,4))\n",
    "\n",
    "for i in range(NUM_EXP):\n",
    "    axs[0, i] = decoder_c_figure.get_axes()[i]\n",
    "    axs[1, i] = decoder_c_after.get_axes()[i]\n",
    "    "
   ]
  },
  {
   "cell_type": "markdown",
   "metadata": {},
   "source": [
    "# CLDA updates"
   ]
  },
  {
   "cell_type": "markdown",
   "metadata": {},
   "source": [
    "## clda update frequencies"
   ]
  },
  {
   "cell_type": "code",
   "execution_count": 32,
   "metadata": {
    "ExecuteTime": {
     "end_time": "2021-03-01T23:08:12.733943Z",
     "start_time": "2021-03-01T23:08:12.731412Z"
    }
   },
   "outputs": [
    {
     "name": "stdout",
     "output_type": "stream",
     "text": [
      "did clda for 162 times\n",
      "did clda for 58 times\n",
      "did clda for 47 times\n"
     ]
    }
   ],
   "source": [
    "\n",
    "clda_params_all = [np.array(e.bmi_system.param_hist) for e in exps]\n",
    "\n",
    "for c in clda_params_all:\n",
    "    print(f'did clda for {len(c)} times')"
   ]
  },
  {
   "cell_type": "code",
   "execution_count": 33,
   "metadata": {
    "ExecuteTime": {
     "end_time": "2021-03-01T23:08:12.743846Z",
     "start_time": "2021-03-01T23:08:12.735027Z"
    }
   },
   "outputs": [],
   "source": [
    "update_bmi_all = np.squeeze(task_data_hist_np_all[0]['update_bmi'])"
   ]
  },
  {
   "cell_type": "code",
   "execution_count": 34,
   "metadata": {
    "ExecuteTime": {
     "end_time": "2021-03-01T23:08:12.837287Z",
     "start_time": "2021-03-01T23:08:12.744895Z"
    }
   },
   "outputs": [
    {
     "data": {
      "text/plain": [
       "Text(0.5, 0, 'frame count')"
      ]
     },
     "execution_count": 34,
     "metadata": {},
     "output_type": "execute_result"
    },
    {
     "data": {
      "image/png": "[encoded data removed]",
      "text/plain": [
       "<Figure size 432x288 with 1 Axes>"
      ]
     },
     "metadata": {
      "needs_background": "light"
     },
     "output_type": "display_data"
    }
   ],
   "source": [
    "plt.plot(update_bmi_all[:240])\n",
    "plt.xlabel('frame count')"
   ]
  },
  {
   "cell_type": "markdown",
   "metadata": {},
   "source": [
    "## reformat the matrix"
   ]
  },
  {
   "cell_type": "code",
   "execution_count": 35,
   "metadata": {
    "ExecuteTime": {
     "end_time": "2021-03-01T23:08:12.843877Z",
     "start_time": "2021-03-01T23:08:12.838161Z"
    }
   },
   "outputs": [
    {
     "data": {
      "text/plain": [
       "3"
      ]
     },
     "execution_count": 35,
     "metadata": {},
     "output_type": "execute_result"
    }
   ],
   "source": [
    "clda_params = clda_params_all[1]\n",
    "\n",
    "clda_params_dict_all = list()\n",
    "\n",
    "for p in clda_params_all:\n",
    "    clda_params_dict = dict()\n",
    "    for param_key in p[0].keys():\n",
    "        clda_params_dict[param_key] = np.array([ record_i[param_key] for record_i in p])\n",
    "    \n",
    "    clda_params_dict_all.append(clda_params_dict)\n",
    "\n",
    "\n",
    "len(clda_params_dict_all)"
   ]
  },
  {
   "cell_type": "markdown",
   "metadata": {},
   "source": [
    "## observation covariance matrix"
   ]
  },
  {
   "cell_type": "code",
   "execution_count": 36,
   "metadata": {
    "ExecuteTime": {
     "end_time": "2021-03-01T23:08:12.855823Z",
     "start_time": "2021-03-01T23:08:12.844661Z"
    }
   },
   "outputs": [
    {
     "name": "stdout",
     "output_type": "stream",
     "text": [
      "enc. mean FR:1 Hz\n",
      "[[2.87 0.   0.01 0.   0.   0.   0.   0.   0.   0.   0.   0.   0.   0.\n",
      "  0.   0.   0.   0.   0.   0.  ]\n",
      " [0.   2.5  0.   0.   0.   0.   0.   0.   0.   0.   0.   0.   0.   0.\n",
      "  0.   0.   0.   0.   0.   0.  ]\n",
      " [0.01 0.   2.54 0.   0.   0.   0.   0.   0.   0.   0.   0.   0.   0.\n",
      "  0.   0.   0.   0.   0.   0.  ]\n",
      " [0.   0.   0.   2.5  0.   0.   0.   0.   0.   0.   0.   0.   0.   0.\n",
      "  0.   0.   0.   0.   0.   0.  ]\n",
      " [0.   0.   0.   0.   2.5  0.   0.   0.   0.   0.   0.   0.   0.   0.\n",
      "  0.   0.   0.   0.   0.   0.  ]\n",
      " [0.   0.   0.   0.   0.   2.5  0.   0.   0.   0.   0.   0.   0.   0.\n",
      "  0.   0.   0.   0.   0.   0.  ]\n",
      " [0.   0.   0.   0.   0.   0.   2.5  0.   0.   0.   0.   0.   0.   0.\n",
      "  0.   0.   0.   0.   0.   0.  ]\n",
      " [0.   0.   0.   0.   0.   0.   0.   2.5  0.   0.   0.   0.   0.   0.\n",
      "  0.   0.   0.   0.   0.   0.  ]\n",
      " [0.   0.   0.   0.   0.   0.   0.   0.   2.5  0.   0.   0.   0.   0.\n",
      "  0.   0.   0.   0.   0.   0.  ]\n",
      " [0.   0.   0.   0.   0.   0.   0.   0.   0.   2.5  0.   0.   0.   0.\n",
      "  0.   0.   0.   0.   0.   0.  ]\n",
      " [0.   0.   0.   0.   0.   0.   0.   0.   0.   0.   2.5  0.   0.   0.\n",
      "  0.   0.   0.   0.   0.   0.  ]\n",
      " [0.   0.   0.   0.   0.   0.   0.   0.   0.   0.   0.   2.5  0.   0.\n",
      "  0.   0.   0.   0.   0.   0.  ]\n",
      " [0.   0.   0.   0.   0.   0.   0.   0.   0.   0.   0.   0.   2.5  0.\n",
      "  0.   0.   0.   0.   0.   0.  ]\n",
      " [0.   0.   0.   0.   0.   0.   0.   0.   0.   0.   0.   0.   0.   2.5\n",
      "  0.   0.   0.   0.   0.   0.  ]\n",
      " [0.   0.   0.   0.   0.   0.   0.   0.   0.   0.   0.   0.   0.   0.\n",
      "  2.5  0.   0.   0.   0.   0.  ]\n",
      " [0.   0.   0.   0.   0.   0.   0.   0.   0.   0.   0.   0.   0.   0.\n",
      "  0.   2.5  0.   0.   0.   0.  ]\n",
      " [0.   0.   0.   0.   0.   0.   0.   0.   0.   0.   0.   0.   0.   0.\n",
      "  0.   0.   2.5  0.   0.   0.  ]\n",
      " [0.   0.   0.   0.   0.   0.   0.   0.   0.   0.   0.   0.   0.   0.\n",
      "  0.   0.   0.   2.5  0.   0.  ]\n",
      " [0.   0.   0.   0.   0.   0.   0.   0.   0.   0.   0.   0.   0.   0.\n",
      "  0.   0.   0.   0.   2.5  0.  ]\n",
      " [0.   0.   0.   0.   0.   0.   0.   0.   0.   0.   0.   0.   0.   0.\n",
      "  0.   0.   0.   0.   0.   2.5 ]]\n",
      "\n",
      "enc. mean FR:10 Hz\n",
      "[[ 5.35  0.    0.03 -0.02  0.    0.    0.    0.    0.    0.    0.    0.\n",
      "   0.    0.    0.    0.    0.    0.    0.    0.  ]\n",
      " [ 0.    2.5   0.    0.    0.    0.    0.    0.    0.    0.    0.    0.\n",
      "   0.    0.    0.    0.    0.    0.    0.    0.  ]\n",
      " [ 0.03  0.    3.25  0.    0.    0.    0.    0.    0.    0.    0.    0.\n",
      "   0.    0.    0.    0.    0.    0.    0.    0.  ]\n",
      " [-0.02  0.    0.    2.51  0.    0.    0.    0.    0.    0.    0.    0.\n",
      "   0.    0.    0.    0.    0.    0.    0.    0.  ]\n",
      " [ 0.    0.    0.    0.    2.5   0.    0.    0.    0.    0.    0.    0.\n",
      "   0.    0.    0.    0.    0.    0.    0.    0.  ]\n",
      " [ 0.    0.    0.    0.    0.    2.5   0.    0.    0.    0.    0.    0.\n",
      "   0.    0.    0.    0.    0.    0.    0.    0.  ]\n",
      " [ 0.    0.    0.    0.    0.    0.    2.5   0.    0.    0.    0.    0.\n",
      "   0.    0.    0.    0.    0.    0.    0.    0.  ]\n",
      " [ 0.    0.    0.    0.    0.    0.    0.    2.5   0.    0.    0.    0.\n",
      "   0.    0.    0.    0.    0.    0.    0.    0.  ]\n",
      " [ 0.    0.    0.    0.    0.    0.    0.    0.    2.5   0.    0.    0.\n",
      "   0.    0.    0.    0.    0.    0.    0.    0.  ]\n",
      " [ 0.    0.    0.    0.    0.    0.    0.    0.    0.    2.5   0.    0.\n",
      "   0.    0.    0.    0.    0.    0.    0.    0.  ]\n",
      " [ 0.    0.    0.    0.    0.    0.    0.    0.    0.    0.    2.5   0.\n",
      "   0.    0.    0.    0.    0.    0.    0.    0.  ]\n",
      " [ 0.    0.    0.    0.    0.    0.    0.    0.    0.    0.    0.    2.5\n",
      "   0.    0.    0.    0.    0.    0.    0.    0.  ]\n",
      " [ 0.    0.    0.    0.    0.    0.    0.    0.    0.    0.    0.    0.\n",
      "   2.5   0.    0.    0.    0.    0.    0.    0.  ]\n",
      " [ 0.    0.    0.    0.    0.    0.    0.    0.    0.    0.    0.    0.\n",
      "   0.    2.5   0.    0.    0.    0.    0.    0.  ]\n",
      " [ 0.    0.    0.    0.    0.    0.    0.    0.    0.    0.    0.    0.\n",
      "   0.    0.    2.5   0.    0.    0.    0.    0.  ]\n",
      " [ 0.    0.    0.    0.    0.    0.    0.    0.    0.    0.    0.    0.\n",
      "   0.    0.    0.    2.5   0.    0.    0.    0.  ]\n",
      " [ 0.    0.    0.    0.    0.    0.    0.    0.    0.    0.    0.    0.\n",
      "   0.    0.    0.    0.    2.5   0.    0.    0.  ]\n",
      " [ 0.    0.    0.    0.    0.    0.    0.    0.    0.    0.    0.    0.\n",
      "   0.    0.    0.    0.    0.    2.5   0.    0.  ]\n",
      " [ 0.    0.    0.    0.    0.    0.    0.    0.    0.    0.    0.    0.\n",
      "   0.    0.    0.    0.    0.    0.    2.5   0.  ]\n",
      " [ 0.    0.    0.    0.    0.    0.    0.    0.    0.    0.    0.    0.\n",
      "   0.    0.    0.    0.    0.    0.    0.    2.5 ]]\n",
      "\n",
      "enc. mean FR:100 Hz\n",
      "[[32.7  -6.9  -5.87 -4.1   0.    0.    0.    0.    0.    0.    0.    0.\n",
      "   0.    0.    0.    0.    0.    0.    0.    0.  ]\n",
      " [-6.9  50.97  8.43  6.74  0.    0.    0.    0.    0.    0.    0.    0.\n",
      "   0.    0.    0.    0.    0.    0.    0.    0.  ]\n",
      " [-5.87  8.43 80.31 51.12  0.    0.    0.    0.    0.    0.    0.    0.\n",
      "   0.    0.    0.    0.    0.    0.    0.    0.  ]\n",
      " [-4.1   6.74 51.12 54.53  0.    0.    0.    0.    0.    0.    0.    0.\n",
      "   0.    0.    0.    0.    0.    0.    0.    0.  ]\n",
      " [ 0.    0.    0.    0.    2.5   0.    0.    0.    0.    0.    0.    0.\n",
      "   0.    0.    0.    0.    0.    0.    0.    0.  ]\n",
      " [ 0.    0.    0.    0.    0.    2.5   0.    0.    0.    0.    0.    0.\n",
      "   0.    0.    0.    0.    0.    0.    0.    0.  ]\n",
      " [ 0.    0.    0.    0.    0.    0.    2.5   0.    0.    0.    0.    0.\n",
      "   0.    0.    0.    0.    0.    0.    0.    0.  ]\n",
      " [ 0.    0.    0.    0.    0.    0.    0.    2.5   0.    0.    0.    0.\n",
      "   0.    0.    0.    0.    0.    0.    0.    0.  ]\n",
      " [ 0.    0.    0.    0.    0.    0.    0.    0.    2.5   0.    0.    0.\n",
      "   0.    0.    0.    0.    0.    0.    0.    0.  ]\n",
      " [ 0.    0.    0.    0.    0.    0.    0.    0.    0.    2.5   0.    0.\n",
      "   0.    0.    0.    0.    0.    0.    0.    0.  ]\n",
      " [ 0.    0.    0.    0.    0.    0.    0.    0.    0.    0.    2.5   0.\n",
      "   0.    0.    0.    0.    0.    0.    0.    0.  ]\n",
      " [ 0.    0.    0.    0.    0.    0.    0.    0.    0.    0.    0.    2.5\n",
      "   0.    0.    0.    0.    0.    0.    0.    0.  ]\n",
      " [ 0.    0.    0.    0.    0.    0.    0.    0.    0.    0.    0.    0.\n",
      "   2.5   0.    0.    0.    0.    0.    0.    0.  ]\n",
      " [ 0.    0.    0.    0.    0.    0.    0.    0.    0.    0.    0.    0.\n",
      "   0.    2.5   0.    0.    0.    0.    0.    0.  ]\n",
      " [ 0.    0.    0.    0.    0.    0.    0.    0.    0.    0.    0.    0.\n",
      "   0.    0.    2.5   0.    0.    0.    0.    0.  ]\n",
      " [ 0.    0.    0.    0.    0.    0.    0.    0.    0.    0.    0.    0.\n",
      "   0.    0.    0.    2.5   0.    0.    0.    0.  ]\n",
      " [ 0.    0.    0.    0.    0.    0.    0.    0.    0.    0.    0.    0.\n",
      "   0.    0.    0.    0.    2.5   0.    0.    0.  ]\n",
      " [ 0.    0.    0.    0.    0.    0.    0.    0.    0.    0.    0.    0.\n",
      "   0.    0.    0.    0.    0.    2.5   0.    0.  ]\n",
      " [ 0.    0.    0.    0.    0.    0.    0.    0.    0.    0.    0.    0.\n",
      "   0.    0.    0.    0.    0.    0.    2.5   0.  ]\n",
      " [ 0.    0.    0.    0.    0.    0.    0.    0.    0.    0.    0.    0.\n",
      "   0.    0.    0.    0.    0.    0.    0.    2.5 ]]\n",
      "\n"
     ]
    }
   ],
   "source": [
    "n_sample = 1\n",
    "\n",
    "for i,c in enumerate(clda_params_dict_all):\n",
    "    print(exp_conds[i])\n",
    "    print(c['kf.Q'][n_sample,:,:])\n",
    "    print()"
   ]
  },
  {
   "cell_type": "markdown",
   "metadata": {},
   "source": [
    "## clda K matrix"
   ]
  },
  {
   "cell_type": "code",
   "execution_count": 37,
   "metadata": {
    "ExecuteTime": {
     "end_time": "2021-03-01T23:08:12.864989Z",
     "start_time": "2021-03-01T23:08:12.856691Z"
    }
   },
   "outputs": [],
   "source": [
    "kf_C = clda_params_dict['kf.C']"
   ]
  },
  {
   "cell_type": "code",
   "execution_count": 38,
   "metadata": {
    "ExecuteTime": {
     "end_time": "2021-03-01T23:08:12.876618Z",
     "start_time": "2021-03-01T23:08:12.865828Z"
    }
   },
   "outputs": [
    {
     "name": "stdout",
     "output_type": "stream",
     "text": [
      "K matrix before:\n",
      "[[ 0.    0.    0.    5.71  0.   -0.41  0.19]\n",
      " [ 0.    0.    0.    0.05  0.    0.36  0.26]\n",
      " [ 0.    0.    0.    0.72  0.    4.3  -1.24]\n",
      " [ 0.    0.    0.    2.02  0.    0.03 -0.79]\n",
      " [ 0.    0.    0.    0.19  0.   -0.99 -0.17]\n",
      " [ 0.    0.    0.   -0.19  0.   -0.52 -0.71]\n",
      " [ 0.    0.    0.   -0.22  0.    0.39 -0.81]\n",
      " [ 0.    0.    0.   -0.26  0.   -0.01  0.21]\n",
      " [ 0.    0.    0.   -0.18  0.   -0.18 -0.41]\n",
      " [ 0.    0.    0.   -0.82  0.   -0.45  0.03]\n",
      " [ 0.    0.    0.   -0.62  0.   -0.34 -0.44]\n",
      " [ 0.    0.    0.   -0.58  0.    0.23 -0.77]\n",
      " [ 0.    0.    0.   -0.09  0.    0.53 -0.2 ]\n",
      " [ 0.    0.    0.    0.18  0.    0.01  0.89]\n",
      " [ 0.    0.    0.   -0.67  0.    0.48 -0.59]\n",
      " [ 0.    0.    0.    0.96  0.    0.93  0.45]\n",
      " [ 0.    0.    0.    0.4   0.   -0.08  0.31]\n",
      " [ 0.    0.    0.    0.15  0.   -0.35 -0.07]\n",
      " [ 0.    0.    0.    0.2   0.    0.27 -0.34]\n",
      " [ 0.    0.    0.    0.29  0.    0.2  -0.55]]\n",
      "K matrix after:\n",
      "[[ 0.    0.    0.    5.4   0.    0.84 19.8 ]\n",
      " [ 0.    0.    0.   -2.5   0.    2.21 20.47]\n",
      " [ 0.    0.    0.    1.25  0.    5.7  22.66]\n",
      " [ 0.    0.    0.    0.83  0.   -4.27 22.67]\n",
      " [ 0.    0.    0.    0.    0.   -0.   -0.  ]\n",
      " [ 0.    0.    0.   -0.    0.   -0.   -0.  ]\n",
      " [ 0.    0.    0.   -0.    0.    0.   -0.  ]\n",
      " [ 0.    0.    0.   -0.    0.   -0.    0.  ]\n",
      " [ 0.    0.    0.   -0.    0.   -0.   -0.  ]\n",
      " [ 0.    0.    0.   -0.    0.   -0.    0.  ]\n",
      " [ 0.    0.    0.   -0.    0.   -0.   -0.  ]\n",
      " [ 0.    0.    0.   -0.    0.    0.   -0.  ]\n",
      " [ 0.    0.    0.   -0.    0.    0.   -0.  ]\n",
      " [ 0.    0.    0.    0.    0.    0.    0.  ]\n",
      " [ 0.    0.    0.   -0.    0.    0.   -0.  ]\n",
      " [ 0.    0.    0.    0.    0.    0.    0.  ]\n",
      " [ 0.    0.    0.    0.    0.   -0.    0.  ]\n",
      " [ 0.    0.    0.    0.    0.   -0.   -0.  ]\n",
      " [ 0.    0.    0.    0.    0.    0.   -0.  ]\n",
      " [ 0.    0.    0.    0.    0.    0.   -0.  ]]\n"
     ]
    }
   ],
   "source": [
    "print('K matrix before:')\n",
    "print(kf_C[0,:,:])\n",
    "print('K matrix after:')\n",
    "print(kf_C[-1,:,:])"
   ]
  },
  {
   "cell_type": "code",
   "execution_count": 39,
   "metadata": {
    "ExecuteTime": {
     "end_time": "2021-03-01T23:08:14.473154Z",
     "start_time": "2021-03-01T23:08:12.877527Z"
    }
   },
   "outputs": [
    {
     "data": {
      "image/png": "[encoded data removed]",
      "text/plain": [
       "<Figure size 1152x288 with 20 Axes>"
      ]
     },
     "metadata": {
      "needs_background": "light"
     },
     "output_type": "display_data"
    }
   ],
   "source": [
    "N_CLDA_ROI_TIME = 800\n",
    "\n",
    "FIGURE_SIZE = (2,10)\n",
    "\n",
    "N_NEURONS\n",
    "\n",
    "f, axs = plt.subplots(1,N_NEURONS,figsize=(16,4))\n",
    "\n",
    "for i in range(N_NEURONS):\n",
    "    axs[i].plot(np.squeeze(kf_C[:N_CLDA_ROI_TIME,i, X_VEL_STATE_IND]))\n",
    "    axs[i].plot(np.squeeze(kf_C[:N_CLDA_ROI_TIME,i, Y_VEL_STATE_IND]))\n",
    "    axs[i].legend(['x vel', 'y_vel'])\n",
    "    axs[i].set_title(f'neuron {i} ')\n",
    "    axs[i].set_xlabel('clda update count ')\n",
    "    axs[i].set_ylabel('Decoder weight value')\n",
    "\n"
   ]
  },
  {
   "cell_type": "code",
   "execution_count": 40,
   "metadata": {
    "ExecuteTime": {
     "end_time": "2021-03-01T23:08:14.477506Z",
     "start_time": "2021-03-01T23:08:14.474274Z"
    }
   },
   "outputs": [
    {
     "data": {
      "text/plain": [
       "array([[ 0.,  0.,  0.,  1.,  0.,  0.,  0.],\n",
       "       [ 0.,  0.,  0., -1.,  0.,  0.,  0.],\n",
       "       [ 0.,  0.,  0.,  0.,  0.,  1.,  0.],\n",
       "       [ 0.,  0.,  0.,  0.,  0., -1.,  0.],\n",
       "       [ 0.,  0.,  0.,  0.,  0.,  0.,  0.],\n",
       "       [ 0.,  0.,  0.,  0.,  0.,  0.,  0.],\n",
       "       [ 0.,  0.,  0.,  0.,  0.,  0.,  0.],\n",
       "       [ 0.,  0.,  0.,  0.,  0.,  0.,  0.],\n",
       "       [ 0.,  0.,  0.,  0.,  0.,  0.,  0.],\n",
       "       [ 0.,  0.,  0.,  0.,  0.,  0.,  0.],\n",
       "       [ 0.,  0.,  0.,  0.,  0.,  0.,  0.],\n",
       "       [ 0.,  0.,  0.,  0.,  0.,  0.,  0.],\n",
       "       [ 0.,  0.,  0.,  0.,  0.,  0.,  0.],\n",
       "       [ 0.,  0.,  0.,  0.,  0.,  0.,  0.],\n",
       "       [ 0.,  0.,  0.,  0.,  0.,  0.,  0.],\n",
       "       [ 0.,  0.,  0.,  0.,  0.,  0.,  0.],\n",
       "       [ 0.,  0.,  0.,  0.,  0.,  0.,  0.],\n",
       "       [ 0.,  0.,  0.,  0.,  0.,  0.,  0.],\n",
       "       [ 0.,  0.,  0.,  0.,  0.,  0.,  0.],\n",
       "       [ 0.,  0.,  0.,  0.,  0.,  0.,  0.]])"
      ]
     },
     "execution_count": 40,
     "metadata": {},
     "output_type": "execute_result"
    }
   ],
   "source": [
    "exps[0].encoder.C"
   ]
  },
  {
   "cell_type": "markdown",
   "metadata": {},
   "source": [
    "## examine training batches"
   ]
  },
  {
   "cell_type": "code",
   "execution_count": 41,
   "metadata": {
    "ExecuteTime": {
     "end_time": "2021-03-01T23:08:14.485215Z",
     "start_time": "2021-03-01T23:08:14.478393Z"
    }
   },
   "outputs": [],
   "source": [
    "spike_counts_batch = clda_params_dict['spike_counts_batch'] \n",
    "intended_kin = clda_params_dict['intended_kin']"
   ]
  },
  {
   "cell_type": "code",
   "execution_count": 42,
   "metadata": {
    "ExecuteTime": {
     "end_time": "2021-03-01T23:08:14.500353Z",
     "start_time": "2021-03-01T23:08:14.486292Z"
    }
   },
   "outputs": [
    {
     "name": "stdout",
     "output_type": "stream",
     "text": [
      "intended kinematics:\n",
      "[[ 9.4   9.19  8.85  8.47  8.07  7.66  7.23  6.87  6.49  6.02  5.5   5.05\n",
      "   4.65  4.3   3.94  3.55  3.19  2.86  2.6   2.33  2.09  1.83  1.58  1.32\n",
      "   1.1   0.89  0.7   0.61  0.84  1.37  2.02  2.69  3.51  4.02  4.45  4.82\n",
      "   5.14  5.42  5.56  5.59  5.55  5.32  5.11  4.9   4.69  4.59  4.45  4.15\n",
      "   3.96  3.67]\n",
      " [ 0.    0.    0.    0.    0.    0.    0.    0.    0.    0.    0.    0.\n",
      "   0.    0.    0.    0.    0.    0.    0.    0.    0.    0.    0.    0.\n",
      "   0.    0.    0.    0.    0.    0.    0.    0.    0.    0.    0.    0.\n",
      "   0.    0.    0.    0.    0.    0.    0.    0.    0.    0.    0.    0.\n",
      "   0.    0.  ]\n",
      " [ 5.44  4.87  3.93  2.9   1.98  1.14  0.45 -0.12 -0.54 -0.76 -0.94 -1.01\n",
      "  -0.99 -0.85 -0.76 -0.65 -0.54 -0.45 -0.36 -0.31 -0.28 -0.25 -0.23 -0.2\n",
      "  -0.17 -0.18 -0.17 -0.09  0.57  1.36  2.16  3.14  4.16  5.01  5.67  6.01\n",
      "   6.16  6.23  6.22  6.17  6.08  5.61  4.78  3.8   2.79  1.8   1.23  0.85\n",
      "   0.46  0.18]\n",
      " [-6.14 -8.73 -9.39 -9.44 -9.22 -8.95 -8.68 -8.   -7.76 -7.79 -7.74 -6.99\n",
      "  -6.34 -5.7  -5.43 -5.29 -4.83 -4.36 -3.69 -3.54 -3.15 -3.01 -2.73 -2.57\n",
      "  -2.21 -1.95  3.13  3.67  5.24  6.58  6.82  6.5   6.61  4.63  3.61  2.92\n",
      "   2.34  1.89  1.   -4.56 -4.91 -5.72 -5.61 -5.37 -5.22 -4.51 -4.56 -5.13\n",
      "  -4.52 -4.73]\n",
      " [ 0.    0.    0.    0.    0.    0.    0.    0.    0.    0.    0.    0.\n",
      "   0.    0.    0.    0.    0.    0.    0.    0.    0.    0.    0.    0.\n",
      "   0.    0.    0.    0.    0.    0.    0.    0.    0.    0.    0.    0.\n",
      "   0.    0.    0.    0.    0.    0.    0.    0.    0.    0.    0.    0.\n",
      "   0.    0.  ]\n",
      " [-4.45 -7.3  -8.84 -8.7  -7.36 -6.13 -4.69 -3.44 -2.16 -0.85 -0.33  0.4\n",
      "   0.88  1.5   1.21  1.19  1.12  0.9   0.82  0.57  0.44  0.39  0.32  0.29\n",
      "   0.34  0.11  5.03  5.29  8.02  8.34  7.82  7.95  7.42  5.79  4.09  1.91\n",
      "   0.57  0.   -0.45 -5.53 -5.65 -7.44 -8.9  -9.04 -8.51 -7.52 -4.73 -3.1\n",
      "  -2.78 -1.89]\n",
      " [ 1.    1.    1.    1.    1.    1.    1.    1.    1.    1.    1.    1.\n",
      "   1.    1.    1.    1.    1.    1.    1.    1.    1.    1.    1.    1.\n",
      "   1.    1.    1.    1.    1.    1.    1.    1.    1.    1.    1.    1.\n",
      "   1.    1.    1.    1.    1.    1.    1.    1.    1.    1.    1.    1.\n",
      "   1.    1.  ]]\n",
      "spike counts:\n",
      "[[  0.   0.   0.   0.   0.   0.   0.   0.   0.   0.   0.   0.   0.   0.\n",
      "    0.   0.   0.   0.   0.   0.   0.   0.   0.   0.   0.   0.   0.  27.\n",
      "   56.  67.  71.  85.  56.  46.  39.  34.  31.  18.   7.   3.   0.   0.\n",
      "    0.   0.   0.   0.   0.   0.   0.   0.]\n",
      " [ 44.  85. 100.  99.  98.  95.  76.  74.  81.  92.  73.  61.  48.  51.\n",
      "   58.  52.  46.  30.  35.  28.  32.  29.  32.  26.  25.  24.  13.   0.\n",
      "    0.   0.   0.   0.   0.   0.   0.   0.   0.   0.   0.   0.  45.  60.\n",
      "   64.  67.  43.  34.  54.  36.  49.  46.]\n",
      " [  0.   0.   0.   0.   0.   0.   0.   0.   0.   0.   0.   4.  15.  11.\n",
      "   13.  13.  10.   9.   6.   4.   4.   3.   3.   4.   0.   1.   4.  58.\n",
      "   72.  74.  90.  95.  80.  62.  32.  14.   7.   0.   0.   0.   0.   0.\n",
      "    0.   0.   0.   0.   0.   0.   0.   0.]\n",
      " [ 51.  86.  96.  86.  78.  64.  53.  38.  19.  13.   3.   0.   0.   0.\n",
      "    0.   0.   0.   0.   0.   0.   0.   0.   0.   0.   0.   0.   0.   0.\n",
      "    0.   0.   0.   0.   0.   0.   0.   0.   0.   0.   4.   6.  41.  76.\n",
      "   91.  96.  95.  56.  34.  37.  25.   8.]\n",
      " [  0.   0.   0.   0.   0.   0.   0.   0.   0.   0.   0.   0.   0.   0.\n",
      "    0.   0.   0.   0.   0.   0.   0.   0.   0.   0.   0.   0.   0.   0.\n",
      "    0.   0.   0.   0.   0.   0.   0.   0.   0.   0.   0.   0.   0.   0.\n",
      "    0.   0.   0.   0.   0.   0.   0.   0.]\n",
      " [  0.   0.   0.   0.   0.   0.   0.   0.   0.   0.   0.   0.   0.   0.\n",
      "    0.   0.   0.   0.   0.   0.   0.   0.   0.   0.   0.   0.   0.   0.\n",
      "    0.   0.   0.   0.   0.   0.   0.   0.   0.   0.   0.   0.   0.   0.\n",
      "    0.   0.   0.   0.   0.   0.   0.   0.]\n",
      " [  0.   0.   0.   0.   0.   0.   0.   0.   0.   0.   0.   0.   0.   0.\n",
      "    0.   0.   0.   0.   0.   0.   0.   0.   0.   0.   0.   0.   0.   0.\n",
      "    0.   0.   0.   0.   0.   0.   0.   0.   0.   0.   0.   0.   0.   0.\n",
      "    0.   0.   0.   0.   0.   0.   0.   0.]\n",
      " [  0.   0.   0.   0.   0.   0.   0.   0.   0.   0.   0.   0.   0.   0.\n",
      "    0.   0.   0.   0.   0.   0.   0.   0.   0.   0.   0.   0.   0.   0.\n",
      "    0.   0.   0.   0.   0.   0.   0.   0.   0.   0.   0.   0.   0.   0.\n",
      "    0.   0.   0.   0.   0.   0.   0.   0.]\n",
      " [  0.   0.   0.   0.   0.   0.   0.   0.   0.   0.   0.   0.   0.   0.\n",
      "    0.   0.   0.   0.   0.   0.   0.   0.   0.   0.   0.   0.   0.   0.\n",
      "    0.   0.   0.   0.   0.   0.   0.   0.   0.   0.   0.   0.   0.   0.\n",
      "    0.   0.   0.   0.   0.   0.   0.   0.]\n",
      " [  0.   0.   0.   0.   0.   0.   0.   0.   0.   0.   0.   0.   0.   0.\n",
      "    0.   0.   0.   0.   0.   0.   0.   0.   0.   0.   0.   0.   0.   0.\n",
      "    0.   0.   0.   0.   0.   0.   0.   0.   0.   0.   0.   0.   0.   0.\n",
      "    0.   0.   0.   0.   0.   0.   0.   0.]\n",
      " [  0.   0.   0.   0.   0.   0.   0.   0.   0.   0.   0.   0.   0.   0.\n",
      "    0.   0.   0.   0.   0.   0.   0.   0.   0.   0.   0.   0.   0.   0.\n",
      "    0.   0.   0.   0.   0.   0.   0.   0.   0.   0.   0.   0.   0.   0.\n",
      "    0.   0.   0.   0.   0.   0.   0.   0.]\n",
      " [  0.   0.   0.   0.   0.   0.   0.   0.   0.   0.   0.   0.   0.   0.\n",
      "    0.   0.   0.   0.   0.   0.   0.   0.   0.   0.   0.   0.   0.   0.\n",
      "    0.   0.   0.   0.   0.   0.   0.   0.   0.   0.   0.   0.   0.   0.\n",
      "    0.   0.   0.   0.   0.   0.   0.   0.]\n",
      " [  0.   0.   0.   0.   0.   0.   0.   0.   0.   0.   0.   0.   0.   0.\n",
      "    0.   0.   0.   0.   0.   0.   0.   0.   0.   0.   0.   0.   0.   0.\n",
      "    0.   0.   0.   0.   0.   0.   0.   0.   0.   0.   0.   0.   0.   0.\n",
      "    0.   0.   0.   0.   0.   0.   0.   0.]\n",
      " [  0.   0.   0.   0.   0.   0.   0.   0.   0.   0.   0.   0.   0.   0.\n",
      "    0.   0.   0.   0.   0.   0.   0.   0.   0.   0.   0.   0.   0.   0.\n",
      "    0.   0.   0.   0.   0.   0.   0.   0.   0.   0.   0.   0.   0.   0.\n",
      "    0.   0.   0.   0.   0.   0.   0.   0.]\n",
      " [  0.   0.   0.   0.   0.   0.   0.   0.   0.   0.   0.   0.   0.   0.\n",
      "    0.   0.   0.   0.   0.   0.   0.   0.   0.   0.   0.   0.   0.   0.\n",
      "    0.   0.   0.   0.   0.   0.   0.   0.   0.   0.   0.   0.   0.   0.\n",
      "    0.   0.   0.   0.   0.   0.   0.   0.]\n",
      " [  0.   0.   0.   0.   0.   0.   0.   0.   0.   0.   0.   0.   0.   0.\n",
      "    0.   0.   0.   0.   0.   0.   0.   0.   0.   0.   0.   0.   0.   0.\n",
      "    0.   0.   0.   0.   0.   0.   0.   0.   0.   0.   0.   0.   0.   0.\n",
      "    0.   0.   0.   0.   0.   0.   0.   0.]\n",
      " [  0.   0.   0.   0.   0.   0.   0.   0.   0.   0.   0.   0.   0.   0.\n",
      "    0.   0.   0.   0.   0.   0.   0.   0.   0.   0.   0.   0.   0.   0.\n",
      "    0.   0.   0.   0.   0.   0.   0.   0.   0.   0.   0.   0.   0.   0.\n",
      "    0.   0.   0.   0.   0.   0.   0.   0.]\n",
      " [  0.   0.   0.   0.   0.   0.   0.   0.   0.   0.   0.   0.   0.   0.\n",
      "    0.   0.   0.   0.   0.   0.   0.   0.   0.   0.   0.   0.   0.   0.\n",
      "    0.   0.   0.   0.   0.   0.   0.   0.   0.   0.   0.   0.   0.   0.\n",
      "    0.   0.   0.   0.   0.   0.   0.   0.]\n",
      " [  0.   0.   0.   0.   0.   0.   0.   0.   0.   0.   0.   0.   0.   0.\n",
      "    0.   0.   0.   0.   0.   0.   0.   0.   0.   0.   0.   0.   0.   0.\n",
      "    0.   0.   0.   0.   0.   0.   0.   0.   0.   0.   0.   0.   0.   0.\n",
      "    0.   0.   0.   0.   0.   0.   0.   0.]\n",
      " [  0.   0.   0.   0.   0.   0.   0.   0.   0.   0.   0.   0.   0.   0.\n",
      "    0.   0.   0.   0.   0.   0.   0.   0.   0.   0.   0.   0.   0.   0.\n",
      "    0.   0.   0.   0.   0.   0.   0.   0.   0.   0.   0.   0.   0.   0.\n",
      "    0.   0.   0.   0.   0.   0.   0.   0.]]\n",
      "trained KF C matrix:\n",
      "[[ 0.    0.    0.    3.81  0.   -0.08 14.37]\n",
      " [ 0.    0.    0.   -4.76  0.    0.06 14.46]\n",
      " [ 0.    0.    0.    1.09  0.    4.38 13.29]\n",
      " [ 0.    0.    0.    1.24  0.   -3.96 13.07]\n",
      " [ 0.    0.    0.    0.05  0.   -0.25 -0.04]\n",
      " [ 0.    0.    0.   -0.05  0.   -0.13 -0.18]\n",
      " [ 0.    0.    0.   -0.05  0.    0.1  -0.2 ]\n",
      " [ 0.    0.    0.   -0.06  0.   -0.    0.05]\n",
      " [ 0.    0.    0.   -0.05  0.   -0.04 -0.1 ]\n",
      " [ 0.    0.    0.   -0.2   0.   -0.11  0.01]\n",
      " [ 0.    0.    0.   -0.15  0.   -0.09 -0.11]\n",
      " [ 0.    0.    0.   -0.15  0.    0.06 -0.19]\n",
      " [ 0.    0.    0.   -0.02  0.    0.13 -0.05]\n",
      " [ 0.    0.    0.    0.04  0.    0.    0.22]\n",
      " [ 0.    0.    0.   -0.17  0.    0.12 -0.15]\n",
      " [ 0.    0.    0.    0.24  0.    0.23  0.11]\n",
      " [ 0.    0.    0.    0.1   0.   -0.02  0.08]\n",
      " [ 0.    0.    0.    0.04  0.   -0.09 -0.02]\n",
      " [ 0.    0.    0.    0.05  0.    0.07 -0.08]\n",
      " [ 0.    0.    0.    0.07  0.    0.05 -0.14]]\n"
     ]
    }
   ],
   "source": [
    "training_sample_point = 2\n",
    "\n",
    "print('intended kinematics:')\n",
    "print(intended_kin[training_sample_point])\n",
    "\n",
    "print('spike counts:')\n",
    "print(spike_counts_batch[training_sample_point])\n",
    "\n",
    "print('trained KF C matrix:')\n",
    "print(kf_C[training_sample_point])"
   ]
  },
  {
   "cell_type": "markdown",
   "metadata": {},
   "source": [
    "# feature analyses"
   ]
  },
  {
   "cell_type": "code",
   "execution_count": 43,
   "metadata": {
    "ExecuteTime": {
     "end_time": "2021-03-01T23:08:14.505804Z",
     "start_time": "2021-03-01T23:08:14.501451Z"
    }
   },
   "outputs": [],
   "source": [
    "import statsmodels.api as sm\n"
   ]
  },
  {
   "cell_type": "markdown",
   "metadata": {},
   "source": [
    "## Examine relevance of one neuron from one batch "
   ]
  },
  {
   "cell_type": "markdown",
   "metadata": {},
   "source": [
    "### Select data"
   ]
  },
  {
   "cell_type": "code",
   "execution_count": 44,
   "metadata": {
    "ExecuteTime": {
     "end_time": "2021-03-01T23:08:14.518784Z",
     "start_time": "2021-03-01T23:08:14.506701Z"
    }
   },
   "outputs": [
    {
     "data": {
      "text/plain": [
       "dict_keys(['kf.C', 'kf.Q', 'kf.C_xpose_Q_inv_C', 'kf.C_xpose_Q_inv', 'mFR', 'sdFR', 'rho', 'intended_kin', 'spike_counts_batch'])"
      ]
     },
     "execution_count": 44,
     "metadata": {},
     "output_type": "execute_result"
    }
   ],
   "source": [
    "clda_params_dict.keys() # this is from one experiment"
   ]
  },
  {
   "cell_type": "code",
   "execution_count": 45,
   "metadata": {
    "ExecuteTime": {
     "end_time": "2021-03-01T23:08:14.528527Z",
     "start_time": "2021-03-01T23:08:14.519834Z"
    },
    "scrolled": true
   },
   "outputs": [
    {
     "name": "stdout",
     "output_type": "stream",
     "text": [
      "47\n",
      "47\n"
     ]
    }
   ],
   "source": [
    "spike_counts_batch = clda_params_dict['spike_counts_batch']\n",
    "intended_kin = clda_params_dict['intended_kin']\n",
    "print(f'{len(spike_counts_batch)}')\n",
    "print(f'{len(intended_kin)}')"
   ]
  },
  {
   "cell_type": "code",
   "execution_count": 46,
   "metadata": {
    "ExecuteTime": {
     "end_time": "2021-03-01T23:08:14.544171Z",
     "start_time": "2021-03-01T23:08:14.529428Z"
    }
   },
   "outputs": [
    {
     "name": "stdout",
     "output_type": "stream",
     "text": [
      "look at one batch: batch number 0\n",
      "spike count\n",
      "[[  0.   0.   0.  74. 101. 105. 120. 106.  75.  67.  53.  45.  22.  10.\n",
      "    3.   0.   0.   0.   0.   0.   0.   0.   2.   2.   2.   1.   1.   1.\n",
      "    4.   6.   7.   5.   5.   9.   9.   7.   6.   5.   6.   5.   9.   6.\n",
      "    6.   9.   9.   9.   5.   8.   7.   9.]\n",
      " [  0.   1.   0.   0.   0.   0.   0.   0.   0.   0.   0.   0.   0.   0.\n",
      "    0.   0.   2.   0.   1.   0.   0.   0.   0.   0.   0.   0.   0.   0.\n",
      "    0.   0.   0.   0.   0.   0.   0.   0.   0.   0.   0.   0.   0.   0.\n",
      "    0.   0.   0.   0.   0.   0.   0.   0.]\n",
      " [  0.   0.   0.   0.   0.   0.   0.   0.   0.   2.  11.   9.  30.  30.\n",
      "   37.  30.  38.  31.  43.  31.  56.  34.  56.  49.  37.  42.  36.  54.\n",
      "   48.  48.  50.  54.  49.  60.  67.  61.  58.  80.  59.  73.  86.  64.\n",
      "   64.  77.  59.  97.  66.  93.  86.  84.]\n",
      " [  0.   2.   0.   0.  24.  26.  29.  24.   7.   0.   0.   0.   0.   0.\n",
      "    0.   0.   0.   0.   0.   0.   0.   0.   0.   0.   0.   0.   0.   0.\n",
      "    0.   0.   0.   0.   0.   0.   0.   0.   0.   0.   0.   0.   0.   0.\n",
      "    0.   0.   0.   0.   0.   0.   0.   0.]\n",
      " [  0.   0.   0.   0.   0.   0.   0.   0.   0.   0.   0.   0.   0.   0.\n",
      "    0.   0.   0.   0.   0.   0.   0.   0.   0.   0.   0.   0.   0.   0.\n",
      "    0.   0.   0.   0.   0.   0.   0.   0.   0.   0.   0.   0.   0.   0.\n",
      "    0.   0.   0.   0.   0.   0.   0.   0.]\n",
      " [  0.   0.   0.   0.   0.   0.   0.   0.   0.   0.   0.   0.   0.   0.\n",
      "    0.   0.   0.   0.   0.   0.   0.   0.   0.   0.   0.   0.   0.   0.\n",
      "    0.   0.   0.   0.   0.   0.   0.   0.   0.   0.   0.   0.   0.   0.\n",
      "    0.   0.   0.   0.   0.   0.   0.   0.]\n",
      " [  0.   0.   0.   0.   0.   0.   0.   0.   0.   0.   0.   0.   0.   0.\n",
      "    0.   0.   0.   0.   0.   0.   0.   0.   0.   0.   0.   0.   0.   0.\n",
      "    0.   0.   0.   0.   0.   0.   0.   0.   0.   0.   0.   0.   0.   0.\n",
      "    0.   0.   0.   0.   0.   0.   0.   0.]\n",
      " [  0.   0.   0.   0.   0.   0.   0.   0.   0.   0.   0.   0.   0.   0.\n",
      "    0.   0.   0.   0.   0.   0.   0.   0.   0.   0.   0.   0.   0.   0.\n",
      "    0.   0.   0.   0.   0.   0.   0.   0.   0.   0.   0.   0.   0.   0.\n",
      "    0.   0.   0.   0.   0.   0.   0.   0.]\n",
      " [  0.   0.   0.   0.   0.   0.   0.   0.   0.   0.   0.   0.   0.   0.\n",
      "    0.   0.   0.   0.   0.   0.   0.   0.   0.   0.   0.   0.   0.   0.\n",
      "    0.   0.   0.   0.   0.   0.   0.   0.   0.   0.   0.   0.   0.   0.\n",
      "    0.   0.   0.   0.   0.   0.   0.   0.]\n",
      " [  0.   0.   0.   0.   0.   0.   0.   0.   0.   0.   0.   0.   0.   0.\n",
      "    0.   0.   0.   0.   0.   0.   0.   0.   0.   0.   0.   0.   0.   0.\n",
      "    0.   0.   0.   0.   0.   0.   0.   0.   0.   0.   0.   0.   0.   0.\n",
      "    0.   0.   0.   0.   0.   0.   0.   0.]\n",
      " [  0.   0.   0.   0.   0.   0.   0.   0.   0.   0.   0.   0.   0.   0.\n",
      "    0.   0.   0.   0.   0.   0.   0.   0.   0.   0.   0.   0.   0.   0.\n",
      "    0.   0.   0.   0.   0.   0.   0.   0.   0.   0.   0.   0.   0.   0.\n",
      "    0.   0.   0.   0.   0.   0.   0.   0.]\n",
      " [  0.   0.   0.   0.   0.   0.   0.   0.   0.   0.   0.   0.   0.   0.\n",
      "    0.   0.   0.   0.   0.   0.   0.   0.   0.   0.   0.   0.   0.   0.\n",
      "    0.   0.   0.   0.   0.   0.   0.   0.   0.   0.   0.   0.   0.   0.\n",
      "    0.   0.   0.   0.   0.   0.   0.   0.]\n",
      " [  0.   0.   0.   0.   0.   0.   0.   0.   0.   0.   0.   0.   0.   0.\n",
      "    0.   0.   0.   0.   0.   0.   0.   0.   0.   0.   0.   0.   0.   0.\n",
      "    0.   0.   0.   0.   0.   0.   0.   0.   0.   0.   0.   0.   0.   0.\n",
      "    0.   0.   0.   0.   0.   0.   0.   0.]\n",
      " [  0.   0.   0.   0.   0.   0.   0.   0.   0.   0.   0.   0.   0.   0.\n",
      "    0.   0.   0.   0.   0.   0.   0.   0.   0.   0.   0.   0.   0.   0.\n",
      "    0.   0.   0.   0.   0.   0.   0.   0.   0.   0.   0.   0.   0.   0.\n",
      "    0.   0.   0.   0.   0.   0.   0.   0.]\n",
      " [  0.   0.   0.   0.   0.   0.   0.   0.   0.   0.   0.   0.   0.   0.\n",
      "    0.   0.   0.   0.   0.   0.   0.   0.   0.   0.   0.   0.   0.   0.\n",
      "    0.   0.   0.   0.   0.   0.   0.   0.   0.   0.   0.   0.   0.   0.\n",
      "    0.   0.   0.   0.   0.   0.   0.   0.]\n",
      " [  0.   0.   0.   0.   0.   0.   0.   0.   0.   0.   0.   0.   0.   0.\n",
      "    0.   0.   0.   0.   0.   0.   0.   0.   0.   0.   0.   0.   0.   0.\n",
      "    0.   0.   0.   0.   0.   0.   0.   0.   0.   0.   0.   0.   0.   0.\n",
      "    0.   0.   0.   0.   0.   0.   0.   0.]\n",
      " [  0.   0.   0.   0.   0.   0.   0.   0.   0.   0.   0.   0.   0.   0.\n",
      "    0.   0.   0.   0.   0.   0.   0.   0.   0.   0.   0.   0.   0.   0.\n",
      "    0.   0.   0.   0.   0.   0.   0.   0.   0.   0.   0.   0.   0.   0.\n",
      "    0.   0.   0.   0.   0.   0.   0.   0.]\n",
      " [  0.   0.   0.   0.   0.   0.   0.   0.   0.   0.   0.   0.   0.   0.\n",
      "    0.   0.   0.   0.   0.   0.   0.   0.   0.   0.   0.   0.   0.   0.\n",
      "    0.   0.   0.   0.   0.   0.   0.   0.   0.   0.   0.   0.   0.   0.\n",
      "    0.   0.   0.   0.   0.   0.   0.   0.]\n",
      " [  0.   0.   0.   0.   0.   0.   0.   0.   0.   0.   0.   0.   0.   0.\n",
      "    0.   0.   0.   0.   0.   0.   0.   0.   0.   0.   0.   0.   0.   0.\n",
      "    0.   0.   0.   0.   0.   0.   0.   0.   0.   0.   0.   0.   0.   0.\n",
      "    0.   0.   0.   0.   0.   0.   0.   0.]\n",
      " [  0.   0.   0.   0.   0.   0.   0.   0.   0.   0.   0.   0.   0.   0.\n",
      "    0.   0.   0.   0.   0.   0.   0.   0.   0.   0.   0.   0.   0.   0.\n",
      "    0.   0.   0.   0.   0.   0.   0.   0.   0.   0.   0.   0.   0.   0.\n",
      "    0.   0.   0.   0.   0.   0.   0.   0.]]\n",
      "intended kin\n",
      "[[  0.    -0.04  -0.06  -0.04   0.66   1.82   3.     4.36   5.52   6.25\n",
      "    6.83   7.28   7.66   7.81   7.84   7.82   7.77   7.71   7.66   7.61\n",
      "    7.56   7.5    7.45   7.41   7.38   7.35   7.3    7.26   7.22   7.2\n",
      "    7.2    7.21   7.2    7.19   7.21   7.23   7.23   7.23   7.2    7.2\n",
      "    7.17   7.18   7.18   7.17   7.18   7.2    7.2    7.19   7.18   7.17]\n",
      " [  0.     0.     0.     0.     0.     0.     0.     0.     0.     0.\n",
      "    0.     0.     0.     0.     0.     0.     0.     0.     0.     0.\n",
      "    0.     0.     0.     0.     0.     0.     0.     0.     0.     0.\n",
      "    0.     0.     0.     0.     0.     0.     0.     0.     0.     0.\n",
      "    0.     0.     0.     0.     0.     0.     0.     0.     0.     0.  ]\n",
      " [  0.    -0.01  -0.01  -0.01  -0.51  -1.19  -1.88  -2.67  -3.35  -3.81\n",
      "   -4.21  -4.56  -4.85  -5.09  -5.25  -5.4   -5.5   -5.63  -5.73  -5.89\n",
      "   -6.    -6.22  -6.34  -6.58  -6.78  -6.92  -7.09  -7.22  -7.45  -7.66\n",
      "   -7.88  -8.12  -8.37  -8.59  -8.89  -9.23  -9.52  -9.79 -10.16 -10.43\n",
      "  -10.77 -11.2  -11.49 -11.79 -12.18 -12.47 -12.95 -13.25 -13.71 -14.12]\n",
      " [  0.    -0.19   6.81   6.84  10.16  12.01  11.42  11.23   9.26   6.06\n",
      "    4.62   3.4    2.6    1.16   0.42   0.02  -0.1   -0.08  -0.02  -0.01\n",
      "    0.07   0.05   0.16   0.24   0.29   0.35   0.32   0.37   0.36   0.56\n",
      "    0.67   0.71   0.61   0.62   0.79   0.76   0.67   0.62   0.53   0.64\n",
      "    0.57   0.73   0.65   0.65   0.76   0.8    0.69   0.58   0.66   0.64]\n",
      " [  0.     0.     0.     0.     0.     0.     0.     0.     0.     0.\n",
      "    0.     0.     0.     0.     0.     0.     0.     0.     0.     0.\n",
      "    0.     0.     0.     0.     0.     0.     0.     0.     0.     0.\n",
      "    0.     0.     0.     0.     0.     0.     0.     0.     0.     0.\n",
      "    0.     0.     0.     0.     0.     0.     0.     0.     0.     0.  ]\n",
      " [  0.    -0.03  -0.01  -0.02  -2.31  -2.98  -2.61  -2.49  -1.39   0.27\n",
      "    1.     1.61   2.23   2.74   3.34   3.57   3.96   3.92   4.14   3.98\n",
      "    4.36   3.89   4.55   4.11   4.44   4.9    4.96   5.23   4.94   5.15\n",
      "    5.27   5.38   5.55   5.88   5.7    5.77   6.24   6.61   6.37   7.11\n",
      "    7.08   6.93   7.86   8.16   8.03   8.75   8.15   9.34   8.94   9.47]\n",
      " [  1.     1.     1.     1.     1.     1.     1.     1.     1.     1.\n",
      "    1.     1.     1.     1.     1.     1.     1.     1.     1.     1.\n",
      "    1.     1.     1.     1.     1.     1.     1.     1.     1.     1.\n",
      "    1.     1.     1.     1.     1.     1.     1.     1.     1.     1.\n",
      "    1.     1.     1.     1.     1.     1.     1.     1.     1.     1.  ]]\n"
     ]
    }
   ],
   "source": [
    "# we just take one batch\n",
    "batch_of_interest = 0\n",
    "spike_count_one_batch = spike_counts_batch[batch_of_interest]\n",
    "intended_kin_one_batch = intended_kin[batch_of_interest]\n",
    "\n",
    "print(f'look at one batch: batch number {batch_of_interest}')\n",
    "print(f'spike count')\n",
    "print(spike_count_one_batch)\n",
    "\n",
    "print(f'intended kin')\n",
    "print(intended_kin_one_batch)"
   ]
  },
  {
   "cell_type": "code",
   "execution_count": 47,
   "metadata": {
    "ExecuteTime": {
     "end_time": "2021-03-01T23:08:14.555499Z",
     "start_time": "2021-03-01T23:08:14.545000Z"
    }
   },
   "outputs": [
    {
     "name": "stdout",
     "output_type": "stream",
     "text": [
      "we are dealing with a velocity decoder\n",
      "we only look at  x vel and y vel:\n",
      "We assume we are only interested how firing rates encode x, y vel\n",
      "after selecting the vels:\n",
      "[[ 0.   -0.19  6.81  6.84 10.16 12.01 11.42 11.23  9.26  6.06  4.62  3.4\n",
      "   2.6   1.16  0.42  0.02 -0.1  -0.08 -0.02 -0.01  0.07  0.05  0.16  0.24\n",
      "   0.29  0.35  0.32  0.37  0.36  0.56  0.67  0.71  0.61  0.62  0.79  0.76\n",
      "   0.67  0.62  0.53  0.64  0.57  0.73  0.65  0.65  0.76  0.8   0.69  0.58\n",
      "   0.66  0.64]\n",
      " [ 0.   -0.03 -0.01 -0.02 -2.31 -2.98 -2.61 -2.49 -1.39  0.27  1.    1.61\n",
      "   2.23  2.74  3.34  3.57  3.96  3.92  4.14  3.98  4.36  3.89  4.55  4.11\n",
      "   4.44  4.9   4.96  5.23  4.94  5.15  5.27  5.38  5.55  5.88  5.7   5.77\n",
      "   6.24  6.61  6.37  7.11  7.08  6.93  7.86  8.16  8.03  8.75  8.15  9.34\n",
      "   8.94  9.47]]\n"
     ]
    }
   ],
   "source": [
    "print('we are dealing with a velocity decoder')\n",
    "print('we only look at  x vel and y vel:')\n",
    "print('We assume we are only interested how firing rates encode x, y vel')\n",
    "\n",
    "intended_kin_one_batch_2D = intended_kin_one_batch[(X_VEL_STATE_IND, Y_VEL_STATE_IND),:]\n",
    "print('after selecting the vels:')\n",
    "print(intended_kin_one_batch_2D)"
   ]
  },
  {
   "cell_type": "code",
   "execution_count": 48,
   "metadata": {
    "ExecuteTime": {
     "end_time": "2021-03-01T23:08:14.564394Z",
     "start_time": "2021-03-01T23:08:14.556296Z"
    }
   },
   "outputs": [
    {
     "name": "stdout",
     "output_type": "stream",
     "text": [
      "we will do  one neuron at a time\n",
      "the neuron that we are interested is neuron 0\n",
      "and selected firing rates:\n",
      "[  0.   0.   0.  74. 101. 105. 120. 106.  75.  67.  53.  45.  22.  10.\n",
      "   3.   0.   0.   0.   0.   0.   0.   0.   2.   2.   2.   1.   1.   1.\n",
      "   4.   6.   7.   5.   5.   9.   9.   7.   6.   5.   6.   5.   9.   6.\n",
      "   6.   9.   9.   9.   5.   8.   7.   9.]\n"
     ]
    }
   ],
   "source": [
    "print('we will do  one neuron at a time')\n",
    "n_roi_neuron = 0\n",
    "print(f'the neuron that we are interested is neuron {n_roi_neuron}')\n",
    "print('and selected firing rates:')\n",
    "\n",
    "spike_count_one_batch_one_neuron = spike_count_one_batch[n_roi_neuron,:]\n",
    "\n",
    "print(spike_count_one_batch_one_neuron)"
   ]
  },
  {
   "cell_type": "markdown",
   "metadata": {},
   "source": [
    "### OLS model fitting"
   ]
  },
  {
   "cell_type": "code",
   "execution_count": 49,
   "metadata": {
    "ExecuteTime": {
     "end_time": "2021-03-01T23:08:14.574154Z",
     "start_time": "2021-03-01T23:08:14.565128Z"
    }
   },
   "outputs": [
    {
     "name": "stdout",
     "output_type": "stream",
     "text": [
      "we transpose the vector for fitting\n",
      "the independent variables are  the intended kin hence, X\n",
      "[[ 0.    0.  ]\n",
      " [-0.19 -0.03]\n",
      " [ 6.81 -0.01]\n",
      " [ 6.84 -0.02]\n",
      " [10.16 -2.31]\n",
      " [12.01 -2.98]\n",
      " [11.42 -2.61]\n",
      " [11.23 -2.49]\n",
      " [ 9.26 -1.39]\n",
      " [ 6.06  0.27]\n",
      " [ 4.62  1.  ]\n",
      " [ 3.4   1.61]\n",
      " [ 2.6   2.23]\n",
      " [ 1.16  2.74]\n",
      " [ 0.42  3.34]\n",
      " [ 0.02  3.57]\n",
      " [-0.1   3.96]\n",
      " [-0.08  3.92]\n",
      " [-0.02  4.14]\n",
      " [-0.01  3.98]\n",
      " [ 0.07  4.36]\n",
      " [ 0.05  3.89]\n",
      " [ 0.16  4.55]\n",
      " [ 0.24  4.11]\n",
      " [ 0.29  4.44]\n",
      " [ 0.35  4.9 ]\n",
      " [ 0.32  4.96]\n",
      " [ 0.37  5.23]\n",
      " [ 0.36  4.94]\n",
      " [ 0.56  5.15]\n",
      " [ 0.67  5.27]\n",
      " [ 0.71  5.38]\n",
      " [ 0.61  5.55]\n",
      " [ 0.62  5.88]\n",
      " [ 0.79  5.7 ]\n",
      " [ 0.76  5.77]\n",
      " [ 0.67  6.24]\n",
      " [ 0.62  6.61]\n",
      " [ 0.53  6.37]\n",
      " [ 0.64  7.11]\n",
      " [ 0.57  7.08]\n",
      " [ 0.73  6.93]\n",
      " [ 0.65  7.86]\n",
      " [ 0.65  8.16]\n",
      " [ 0.76  8.03]\n",
      " [ 0.8   8.75]\n",
      " [ 0.69  8.15]\n",
      " [ 0.58  9.34]\n",
      " [ 0.66  8.94]\n",
      " [ 0.64  9.47]]\n",
      "the dependent variable is the neuron spike connt, hence y\n",
      "[[  0.]\n",
      " [  0.]\n",
      " [  0.]\n",
      " [ 74.]\n",
      " [101.]\n",
      " [105.]\n",
      " [120.]\n",
      " [106.]\n",
      " [ 75.]\n",
      " [ 67.]\n",
      " [ 53.]\n",
      " [ 45.]\n",
      " [ 22.]\n",
      " [ 10.]\n",
      " [  3.]\n",
      " [  0.]\n",
      " [  0.]\n",
      " [  0.]\n",
      " [  0.]\n",
      " [  0.]\n",
      " [  0.]\n",
      " [  0.]\n",
      " [  2.]\n",
      " [  2.]\n",
      " [  2.]\n",
      " [  1.]\n",
      " [  1.]\n",
      " [  1.]\n",
      " [  4.]\n",
      " [  6.]\n",
      " [  7.]\n",
      " [  5.]\n",
      " [  5.]\n",
      " [  9.]\n",
      " [  9.]\n",
      " [  7.]\n",
      " [  6.]\n",
      " [  5.]\n",
      " [  6.]\n",
      " [  5.]\n",
      " [  9.]\n",
      " [  6.]\n",
      " [  6.]\n",
      " [  9.]\n",
      " [  9.]\n",
      " [  9.]\n",
      " [  5.]\n",
      " [  8.]\n",
      " [  7.]\n",
      " [  9.]]\n"
     ]
    }
   ],
   "source": [
    "print('we transpose the vector for fitting')\n",
    "X = intended_kin_one_batch_2D.T\n",
    "y = np.reshape(spike_count_one_batch_one_neuron, (-1,1))\n",
    "\n",
    "\n",
    "print('the independent variables are  the intended kin hence, X')\n",
    "print(X)\n",
    "\n",
    "\n",
    "print('the dependent variable is the neuron spike connt, hence y')\n",
    "print(y)\n"
   ]
  },
  {
   "cell_type": "code",
   "execution_count": 50,
   "metadata": {
    "ExecuteTime": {
     "end_time": "2021-03-01T23:08:14.583047Z",
     "start_time": "2021-03-01T23:08:14.574881Z"
    }
   },
   "outputs": [
    {
     "name": "stdout",
     "output_type": "stream",
     "text": [
      "we add the constant one to the states (X)\n",
      "the new X is\n",
      "[[ 1.    0.    0.  ]\n",
      " [ 1.   -0.19 -0.03]\n",
      " [ 1.    6.81 -0.01]\n",
      " [ 1.    6.84 -0.02]\n",
      " [ 1.   10.16 -2.31]\n",
      " [ 1.   12.01 -2.98]\n",
      " [ 1.   11.42 -2.61]\n",
      " [ 1.   11.23 -2.49]\n",
      " [ 1.    9.26 -1.39]\n",
      " [ 1.    6.06  0.27]\n",
      " [ 1.    4.62  1.  ]\n",
      " [ 1.    3.4   1.61]\n",
      " [ 1.    2.6   2.23]\n",
      " [ 1.    1.16  2.74]\n",
      " [ 1.    0.42  3.34]\n",
      " [ 1.    0.02  3.57]\n",
      " [ 1.   -0.1   3.96]\n",
      " [ 1.   -0.08  3.92]\n",
      " [ 1.   -0.02  4.14]\n",
      " [ 1.   -0.01  3.98]\n",
      " [ 1.    0.07  4.36]\n",
      " [ 1.    0.05  3.89]\n",
      " [ 1.    0.16  4.55]\n",
      " [ 1.    0.24  4.11]\n",
      " [ 1.    0.29  4.44]\n",
      " [ 1.    0.35  4.9 ]\n",
      " [ 1.    0.32  4.96]\n",
      " [ 1.    0.37  5.23]\n",
      " [ 1.    0.36  4.94]\n",
      " [ 1.    0.56  5.15]\n",
      " [ 1.    0.67  5.27]\n",
      " [ 1.    0.71  5.38]\n",
      " [ 1.    0.61  5.55]\n",
      " [ 1.    0.62  5.88]\n",
      " [ 1.    0.79  5.7 ]\n",
      " [ 1.    0.76  5.77]\n",
      " [ 1.    0.67  6.24]\n",
      " [ 1.    0.62  6.61]\n",
      " [ 1.    0.53  6.37]\n",
      " [ 1.    0.64  7.11]\n",
      " [ 1.    0.57  7.08]\n",
      " [ 1.    0.73  6.93]\n",
      " [ 1.    0.65  7.86]\n",
      " [ 1.    0.65  8.16]\n",
      " [ 1.    0.76  8.03]\n",
      " [ 1.    0.8   8.75]\n",
      " [ 1.    0.69  8.15]\n",
      " [ 1.    0.58  9.34]\n",
      " [ 1.    0.66  8.94]\n",
      " [ 1.    0.64  9.47]]\n"
     ]
    }
   ],
   "source": [
    "print('we add the constant one to the states (X)')\n",
    "X = sm.add_constant(X, has_constant= 'raise')\n",
    "print('the new X is')\n",
    "print(X)"
   ]
  },
  {
   "cell_type": "code",
   "execution_count": 51,
   "metadata": {
    "ExecuteTime": {
     "end_time": "2021-03-01T23:08:14.595865Z",
     "start_time": "2021-03-01T23:08:14.583862Z"
    }
   },
   "outputs": [
    {
     "name": "stdout",
     "output_type": "stream",
     "text": [
      "now we can fit using statsmodels.ols\n",
      "print results\n",
      "                            OLS Regression Results                            \n",
      "==============================================================================\n",
      "Dep. Variable:                      y   R-squared:                       0.903\n",
      "Model:                            OLS   Adj. R-squared:                  0.899\n",
      "Method:                 Least Squares   F-statistic:                     219.2\n",
      "Date:                Mon, 01 Mar 2021   Prob (F-statistic):           1.49e-24\n",
      "Time:                        15:08:14   Log-Likelihood:                -185.91\n",
      "No. Observations:                  50   AIC:                             377.8\n",
      "Df Residuals:                      47   BIC:                             383.6\n",
      "Df Model:                           2                                         \n",
      "Covariance Type:            nonrobust                                         \n",
      "==============================================================================\n",
      "                 coef    std err          t      P>|t|      [0.025      0.975]\n",
      "------------------------------------------------------------------------------\n",
      "const         -0.5606      4.291     -0.131      0.897      -9.193       8.071\n",
      "x1             9.1874      0.677     13.576      0.000       7.826      10.549\n",
      "x2             0.1644      0.692      0.237      0.813      -1.229       1.557\n",
      "==============================================================================\n",
      "Omnibus:                       85.836   Durbin-Watson:                   2.276\n",
      "Prob(Omnibus):                  0.000   Jarque-Bera (JB):             1719.990\n",
      "Skew:                          -4.579   Prob(JB):                         0.00\n",
      "Kurtosis:                      30.235   Cond. No.                         16.1\n",
      "==============================================================================\n",
      "\n",
      "Warnings:\n",
      "[1] Standard Errors assume that the covariance matrix of the errors is correctly specified.\n"
     ]
    }
   ],
   "source": [
    "print('now we can fit using statsmodels.ols')\n",
    "\n",
    "ols_spike_from_states = sm.OLS(y, X)\n",
    "\n",
    "results_ols_spike_from_states = ols_spike_from_states.fit()\n",
    "\n",
    "print('print results')\n",
    "print(results_ols_spike_from_states.summary())"
   ]
  },
  {
   "cell_type": "code",
   "execution_count": 52,
   "metadata": {
    "ExecuteTime": {
     "end_time": "2021-03-01T23:08:14.602643Z",
     "start_time": "2021-03-01T23:08:14.596642Z"
    }
   },
   "outputs": [
    {
     "name": "stdout",
     "output_type": "stream",
     "text": [
      "the p-values test against if the coefficients are zero\n",
      "the p values for this neuron of index 0\n",
      "[0.9  0.   0.81]\n",
      "the reg. coeff. are \n",
      "[-0.56  9.19  0.16]\n",
      "\n",
      "at a significance_level of 0.05:\n",
      "this array has the indix of the states that are significantly correlated with the firing rates  \n"
     ]
    },
    {
     "data": {
      "text/plain": [
       "(array([1]),)"
      ]
     },
     "execution_count": 52,
     "metadata": {},
     "output_type": "execute_result"
    }
   ],
   "source": [
    "print('the p-values test against if the coefficients are zero')\n",
    "neuron_batch_pvalue = results_ols_spike_from_states.pvalues\n",
    "\n",
    "print(f'the p values for this neuron of index {n_roi_neuron}')\n",
    "print(neuron_batch_pvalue)\n",
    "\n",
    "neuron_batch_coeff = results_ols_spike_from_states.params\n",
    "\n",
    "print('the reg. coeff. are ')\n",
    "print(neuron_batch_coeff)\n",
    "\n",
    "print()\n",
    "significance_level = 0.05\n",
    "print(f'at a significance_level of {significance_level}:')\n",
    "print('this array has the indix of the states that are significantly correlated with the firing rates  ')\n",
    "\n",
    "np.where(neuron_batch_pvalue < significance_level)"
   ]
  },
  {
   "cell_type": "markdown",
   "metadata": {},
   "source": [
    "## iterate up the model testing procedure"
   ]
  },
  {
   "cell_type": "code",
   "execution_count": 53,
   "metadata": {
    "ExecuteTime": {
     "end_time": "2021-03-01T23:08:14.610121Z",
     "start_time": "2021-03-01T23:08:14.603381Z"
    },
    "code_folding": []
   },
   "outputs": [
    {
     "name": "stdout",
     "output_type": "stream",
     "text": [
      "we write a function that actually  check if any given neuron has a sig state\n"
     ]
    }
   ],
   "source": [
    "print('we write a function that actually  check if any given neuron has a sig state')\n",
    "\n",
    "\n",
    "\n",
    "        \n",
    "\n",
    "\n",
    "\n",
    "\n"
   ]
  },
  {
   "cell_type": "code",
   "execution_count": 54,
   "metadata": {
    "ExecuteTime": {
     "end_time": "2021-03-01T23:08:14.616341Z",
     "start_time": "2021-03-01T23:08:14.610879Z"
    }
   },
   "outputs": [
    {
     "name": "stdout",
     "output_type": "stream",
     "text": [
      "with the functions, we can fit and test the one neuron and against the state\n"
     ]
    }
   ],
   "source": [
    "print('with the functions, we can fit and test the one neuron and against the state')"
   ]
  },
  {
   "cell_type": "code",
   "execution_count": 55,
   "metadata": {
    "ExecuteTime": {
     "end_time": "2021-03-01T23:08:14.622002Z",
     "start_time": "2021-03-01T23:08:14.617186Z"
    }
   },
   "outputs": [],
   "source": [
    "significance_level = 0.05\n",
    "\n",
    "\n",
    "    \n",
    "\n",
    "\n"
   ]
  },
  {
   "cell_type": "code",
   "execution_count": 56,
   "metadata": {
    "ExecuteTime": {
     "end_time": "2021-03-01T23:08:14.630841Z",
     "start_time": "2021-03-01T23:08:14.623012Z"
    },
    "scrolled": true
   },
   "outputs": [
    {
     "name": "stdout",
     "output_type": "stream",
     "text": [
      "we transpose the vector for fitting\n",
      "the independent variables are  the intended kin hence, X\n",
      "[[ 0.    0.  ]\n",
      " [-0.19 -0.03]\n",
      " [ 6.81 -0.01]\n",
      " [ 6.84 -0.02]\n",
      " [10.16 -2.31]\n",
      " [12.01 -2.98]\n",
      " [11.42 -2.61]\n",
      " [11.23 -2.49]\n",
      " [ 9.26 -1.39]\n",
      " [ 6.06  0.27]\n",
      " [ 4.62  1.  ]\n",
      " [ 3.4   1.61]\n",
      " [ 2.6   2.23]\n",
      " [ 1.16  2.74]\n",
      " [ 0.42  3.34]\n",
      " [ 0.02  3.57]\n",
      " [-0.1   3.96]\n",
      " [-0.08  3.92]\n",
      " [-0.02  4.14]\n",
      " [-0.01  3.98]\n",
      " [ 0.07  4.36]\n",
      " [ 0.05  3.89]\n",
      " [ 0.16  4.55]\n",
      " [ 0.24  4.11]\n",
      " [ 0.29  4.44]\n",
      " [ 0.35  4.9 ]\n",
      " [ 0.32  4.96]\n",
      " [ 0.37  5.23]\n",
      " [ 0.36  4.94]\n",
      " [ 0.56  5.15]\n",
      " [ 0.67  5.27]\n",
      " [ 0.71  5.38]\n",
      " [ 0.61  5.55]\n",
      " [ 0.62  5.88]\n",
      " [ 0.79  5.7 ]\n",
      " [ 0.76  5.77]\n",
      " [ 0.67  6.24]\n",
      " [ 0.62  6.61]\n",
      " [ 0.53  6.37]\n",
      " [ 0.64  7.11]\n",
      " [ 0.57  7.08]\n",
      " [ 0.73  6.93]\n",
      " [ 0.65  7.86]\n",
      " [ 0.65  8.16]\n",
      " [ 0.76  8.03]\n",
      " [ 0.8   8.75]\n",
      " [ 0.69  8.15]\n",
      " [ 0.58  9.34]\n",
      " [ 0.66  8.94]\n",
      " [ 0.64  9.47]]\n",
      "the dependent variable is the neuron spike connt, hence y\n",
      "[[  0.]\n",
      " [  0.]\n",
      " [  0.]\n",
      " [ 74.]\n",
      " [101.]\n",
      " [105.]\n",
      " [120.]\n",
      " [106.]\n",
      " [ 75.]\n",
      " [ 67.]\n",
      " [ 53.]\n",
      " [ 45.]\n",
      " [ 22.]\n",
      " [ 10.]\n",
      " [  3.]\n",
      " [  0.]\n",
      " [  0.]\n",
      " [  0.]\n",
      " [  0.]\n",
      " [  0.]\n",
      " [  0.]\n",
      " [  0.]\n",
      " [  2.]\n",
      " [  2.]\n",
      " [  2.]\n",
      " [  1.]\n",
      " [  1.]\n",
      " [  1.]\n",
      " [  4.]\n",
      " [  6.]\n",
      " [  7.]\n",
      " [  5.]\n",
      " [  5.]\n",
      " [  9.]\n",
      " [  9.]\n",
      " [  7.]\n",
      " [  6.]\n",
      " [  5.]\n",
      " [  6.]\n",
      " [  5.]\n",
      " [  9.]\n",
      " [  6.]\n",
      " [  6.]\n",
      " [  9.]\n",
      " [  9.]\n",
      " [  9.]\n",
      " [  5.]\n",
      " [  8.]\n",
      " [  7.]\n",
      " [  9.]]\n",
      "fitting_results:\n",
      "(array([-0.56,  9.19,  0.16]), array([0.9 , 0.  , 0.81]), True, array(1))\n"
     ]
    }
   ],
   "source": [
    "from weights import fit_ols\n",
    "\n",
    "print('we transpose the vector for fitting')\n",
    "X = intended_kin_one_batch_2D.T\n",
    "y = np.reshape(spike_count_one_batch_one_neuron, (-1,1))\n",
    "\n",
    "\n",
    "print('the independent variables are  the intended kin hence, X')\n",
    "print(X)\n",
    "\n",
    "\n",
    "print('the dependent variable is the neuron spike connt, hence y')\n",
    "print(y)\n",
    "\n",
    "results = fit_ols(y, X)\n",
    "\n",
    "print('fitting_results:')\n",
    "print(results)\n"
   ]
  },
  {
   "cell_type": "markdown",
   "metadata": {},
   "source": [
    "## test across the neurons in a batch"
   ]
  },
  {
   "cell_type": "code",
   "execution_count": 57,
   "metadata": {
    "ExecuteTime": {
     "end_time": "2021-03-01T23:08:14.637953Z",
     "start_time": "2021-03-01T23:08:14.631666Z"
    }
   },
   "outputs": [
    {
     "data": {
      "text/plain": [
       "(20, 50)"
      ]
     },
     "execution_count": 57,
     "metadata": {},
     "output_type": "execute_result"
    }
   ],
   "source": [
    "spike_count_one_batch.shape"
   ]
  },
  {
   "cell_type": "code",
   "execution_count": 58,
   "metadata": {
    "ExecuteTime": {
     "end_time": "2021-03-01T23:08:14.650679Z",
     "start_time": "2021-03-01T23:08:14.638813Z"
    }
   },
   "outputs": [
    {
     "name": "stdout",
     "output_type": "stream",
     "text": [
      "the pvalue matrix for a batch\n"
     ]
    },
    {
     "name": "stderr",
     "output_type": "stream",
     "text": [
      "/home/sijia-aw/BMi3D_my/lib/python3.8/site-packages/statsmodels/base/model.py:1294: RuntimeWarning: invalid value encountered in true_divide\n",
      "  return self.params / self.bse\n",
      "/home/sijia-aw/BMi3D_my/lib/python3.8/site-packages/scipy/stats/_distn_infrastructure.py:903: RuntimeWarning: invalid value encountered in greater\n",
      "  return (a < x) & (x < b)\n",
      "/home/sijia-aw/BMi3D_my/lib/python3.8/site-packages/scipy/stats/_distn_infrastructure.py:903: RuntimeWarning: invalid value encountered in less\n",
      "  return (a < x) & (x < b)\n",
      "/home/sijia-aw/BMi3D_my/lib/python3.8/site-packages/scipy/stats/_distn_infrastructure.py:1912: RuntimeWarning: invalid value encountered in less_equal\n",
      "  cond2 = cond0 & (x <= _a)\n",
      "/home/sijia-aw/BMi3D_my/operation_funny_chicken/adaptive_feature_selection/weights.py:217: RuntimeWarning: invalid value encountered in less_equal\n",
      "  sig_test_list = np.where(p_value_array <= significance_level)\n"
     ]
    },
    {
     "data": {
      "text/plain": [
       "array([[0.13, 0.13, 0.  , 0.24, 0.  ,  nan, 0.19, 0.2 ],\n",
       "       [0.35, 0.18, 0.  , 0.39, 0.66,  nan, 0.  , 0.36]])"
      ]
     },
     "execution_count": 58,
     "metadata": {},
     "output_type": "execute_result"
    }
   ],
   "source": [
    "\n",
    "\n",
    "n_roi_neuron = 0\n",
    "\n",
    "#assume spike_count_one_batch has the shape N_NEURONS by N_time points\n",
    "#assume that intended_kin_one_batch_2D has N_states by N_Time_points\n",
    "\n",
    "'''\n",
    "\n",
    "'''\n",
    "#get intended kinematics this is fixed for each neuron\n",
    "intended_kin_one_batch_2D = intended_kin_one_batch[(X_VEL_STATE_IND, Y_VEL_STATE_IND),:]\n",
    "#('we transpose the vector for fitting')\n",
    "intended_kin_one_batch_2D = intended_kin_one_batch_2D.T\n",
    "spike_count_one_batch = intended_kin_one_batch.T\n",
    "\n",
    "neuron_batch_pvalue_matrix = calc_single_batch_p_values_by_fitting_kinematics_to_spike_counts(spike_count_one_batch,\n",
    "                                                                       intended_kin_one_batch_2D)\n",
    "\n",
    "print(f'the pvalue matrix for a batch')\n",
    "neuron_batch_pvalue_matrix"
   ]
  },
  {
   "cell_type": "code",
   "execution_count": 59,
   "metadata": {
    "ExecuteTime": {
     "end_time": "2021-03-01T23:08:14.661460Z",
     "start_time": "2021-03-01T23:08:14.651535Z"
    },
    "scrolled": true
   },
   "outputs": [
    {
     "name": "stdout",
     "output_type": "stream",
     "text": [
      "test out the calculate_p_value_matrix\n",
      "[[0.   0.22 0.  ]\n",
      " [ nan  nan  nan]\n",
      " [0.87 0.   0.  ]\n",
      " [0.04 0.   0.61]\n",
      " [ nan  nan  nan]\n",
      " [0.42 0.   0.  ]\n",
      " [0.   0.81 0.01]]\n",
      "\n",
      "for comparision, this is what we just calculated\n"
     ]
    },
    {
     "data": {
      "text/plain": [
       "array([[0.13, 0.13, 0.  , 0.24, 0.  ,  nan, 0.19, 0.2 ],\n",
       "       [0.35, 0.18, 0.  , 0.39, 0.66,  nan, 0.  , 0.36]])"
      ]
     },
     "execution_count": 59,
     "metadata": {},
     "output_type": "execute_result"
    }
   ],
   "source": [
    "\n",
    "\n",
    "print('test out the calculate_p_value_matrix')\n",
    "\n",
    "calc_p_value_matrix_result = calc_single_batch_p_values_by_fitting_kinematics_to_spike_counts(\n",
    "                            intended_kin_one_batch_2D, \n",
    "                            spike_count_one_batch)\n",
    "print(calc_p_value_matrix_result)\n",
    "print()\n",
    "print('for comparision, this is what we just calculated')\n",
    "neuron_batch_pvalue_matrix"
   ]
  },
  {
   "cell_type": "markdown",
   "metadata": {},
   "source": [
    "## calculate p_values for a different batch"
   ]
  },
  {
   "cell_type": "code",
   "execution_count": 60,
   "metadata": {
    "ExecuteTime": {
     "end_time": "2021-03-01T23:08:14.668442Z",
     "start_time": "2021-03-01T23:08:14.662318Z"
    }
   },
   "outputs": [
    {
     "name": "stdout",
     "output_type": "stream",
     "text": [
      "(2, 50)\n"
     ]
    },
    {
     "data": {
      "text/plain": [
       "(20, 50)"
      ]
     },
     "execution_count": 60,
     "metadata": {},
     "output_type": "execute_result"
    }
   ],
   "source": [
    "# we just take one batch\n",
    "batch_of_interest = 1\n",
    "\n",
    "intended_kin_one_batch = intended_kin[batch_of_interest]\n",
    "intended_kin_one_batch_2D = intended_kin_one_batch[(X_VEL_STATE_IND, Y_VEL_STATE_IND),:]\n",
    "spike_count_one_batch = spike_counts_batch[batch_of_interest]\n",
    "\n",
    "print(intended_kin_one_batch_2D.shape)\n",
    "spike_count_one_batch.shape"
   ]
  },
  {
   "cell_type": "code",
   "execution_count": 61,
   "metadata": {
    "ExecuteTime": {
     "end_time": "2021-03-01T23:08:14.685907Z",
     "start_time": "2021-03-01T23:08:14.669442Z"
    },
    "scrolled": true
   },
   "outputs": [
    {
     "name": "stdout",
     "output_type": "stream",
     "text": [
      "[[0.   0.   0.  ]\n",
      " [0.   0.   0.01]\n",
      " [0.01 0.   0.  ]\n",
      " [0.   0.   0.01]\n",
      " [ nan  nan  nan]\n",
      " [ nan  nan  nan]\n",
      " [ nan  nan  nan]\n",
      " [ nan  nan  nan]\n",
      " [ nan  nan  nan]\n",
      " [ nan  nan  nan]\n",
      " [ nan  nan  nan]\n",
      " [ nan  nan  nan]\n",
      " [ nan  nan  nan]\n",
      " [ nan  nan  nan]\n",
      " [ nan  nan  nan]\n",
      " [ nan  nan  nan]\n",
      " [ nan  nan  nan]\n",
      " [ nan  nan  nan]\n",
      " [ nan  nan  nan]\n",
      " [ nan  nan  nan]]\n",
      "here, the issues are if any of the rows are linearly dependent\n",
      "the fit just does not work\n"
     ]
    }
   ],
   "source": [
    "# we just take one batch\n",
    "batch_of_interest = 1\n",
    "\n",
    "intended_kin_one_batch = intended_kin[batch_of_interest]\n",
    "intended_kin_one_batch_2D = intended_kin_one_batch[(X_VEL_STATE_IND, Y_VEL_STATE_IND),:].T\n",
    "spike_count_one_batch = spike_counts_batch[batch_of_interest].T\n",
    "\n",
    "\n",
    "\n",
    "\n",
    "calc_p_value_matrix_result = calc_single_batch_p_values_by_fitting_kinematics_to_spike_counts(\n",
    "                            intended_kin_one_batch_2D, \n",
    "                            spike_count_one_batch)\n",
    "\n",
    "print(calc_p_value_matrix_result)\n",
    "print('here, the issues are if any of the rows are linearly dependent')\n",
    "print('the fit just does not work')"
   ]
  },
  {
   "cell_type": "markdown",
   "metadata": {},
   "source": [
    "## calculate p_values across the batches"
   ]
  },
  {
   "cell_type": "code",
   "execution_count": 62,
   "metadata": {
    "ExecuteTime": {
     "end_time": "2021-03-01T23:08:14.688870Z",
     "start_time": "2021-03-01T23:08:14.686947Z"
    }
   },
   "outputs": [
    {
     "name": "stdout",
     "output_type": "stream",
     "text": [
      "(47, 20, 50)\n",
      "(47, 7, 50)\n"
     ]
    }
   ],
   "source": [
    "print(spike_counts_batch.shape)\n",
    "print(intended_kin.shape)"
   ]
  },
  {
   "cell_type": "code",
   "execution_count": 63,
   "metadata": {
    "ExecuteTime": {
     "end_time": "2021-03-01T23:08:14.998677Z",
     "start_time": "2021-03-01T23:08:14.689786Z"
    }
   },
   "outputs": [
    {
     "name": "stdout",
     "output_type": "stream",
     "text": [
      "regress on the states index : 3 and 5\n",
      "we can check the type of the design matrix\n"
     ]
    },
    {
     "data": {
      "text/plain": [
       "(47, 20, 3)"
      ]
     },
     "execution_count": 63,
     "metadata": {},
     "output_type": "execute_result"
    }
   ],
   "source": [
    "\n",
    "\n",
    "batch_pvalue_matrix = calc_p_values_for_spike_batches_use_intended_kin(spike_counts_batch, \n",
    "                                                                       intended_kin)\n",
    "    \n",
    "print('we can check the type of the design matrix')\n",
    "batch_pvalue_matrix.shape"
   ]
  },
  {
   "cell_type": "code",
   "execution_count": 64,
   "metadata": {
    "ExecuteTime": {
     "end_time": "2021-03-01T23:08:15.102809Z",
     "start_time": "2021-03-01T23:08:14.999500Z"
    }
   },
   "outputs": [
    {
     "name": "stdout",
     "output_type": "stream",
     "text": [
      "we look at the batched p_value 0\n"
     ]
    },
    {
     "data": {
      "text/plain": [
       "<matplotlib.legend.Legend at 0x7fcd48466160>"
      ]
     },
     "execution_count": 64,
     "metadata": {},
     "output_type": "execute_result"
    },
    {
     "data": {
      "image/png": "[encoded data removed]",
      "text/plain": [
       "<Figure size 432x288 with 1 Axes>"
      ]
     },
     "metadata": {
      "needs_background": "light"
     },
     "output_type": "display_data"
    }
   ],
   "source": [
    "n_roi_neuron = 0\n",
    "print(f'we look at the batched p_value {n_roi_neuron}')\n",
    "batch_pvalue_matrix_neuron = np.squeeze(batch_pvalue_matrix[:,n_roi_neuron,:])\n",
    "\n",
    "plt.plot(batch_pvalue_matrix_neuron)\n",
    "plt.xlabel('update count')\n",
    "plt.legend(['X vel', 'Y vel'])"
   ]
  },
  {
   "cell_type": "code",
   "execution_count": 65,
   "metadata": {
    "ExecuteTime": {
     "end_time": "2021-03-01T23:08:16.142939Z",
     "start_time": "2021-03-01T23:08:15.103798Z"
    },
    "scrolled": false
   },
   "outputs": [
    {
     "data": {
      "image/png": "[encoded data removed]",
      "text/plain": [
       "<Figure size 1152x288 with 20 Axes>"
      ]
     },
     "metadata": {
      "needs_background": "light"
     },
     "output_type": "display_data"
    }
   ],
   "source": [
    "\n",
    "\n",
    "\n",
    "fig, axs = plt.subplots(1,N_NEURONS, figsize = (16,4))\n",
    "\n",
    "for n in range(N_NEURONS):\n",
    "    \n",
    "    \n",
    "    \n",
    "    batch_pvalue_matrix_neuron = np.squeeze(batch_pvalue_matrix[:,n,:])\n",
    "    axs[n].plot(batch_pvalue_matrix_neuron[:,1:])\n",
    "    \n",
    "    \n",
    "    if n == 0: axs[n].legend(['X Vel', 'Y vel'])\n",
    "\n",
    "\n"
   ]
  },
  {
   "cell_type": "markdown",
   "metadata": {},
   "source": [
    "the batch time is small\n",
    "a batch should include at least 4 reaches.\n",
    "very linear. all of a sudden, it gets way.\n",
    "\n",
    "inside target, setting the int to zero. \n",
    "the hold vel is zero.  "
   ]
  },
  {
   "cell_type": "markdown",
   "metadata": {},
   "source": [
    "## compare across conditions"
   ]
  },
  {
   "cell_type": "code",
   "execution_count": 66,
   "metadata": {
    "ExecuteTime": {
     "end_time": "2021-03-01T23:08:16.170653Z",
     "start_time": "2021-03-01T23:08:16.143797Z"
    }
   },
   "outputs": [],
   "source": [
    "for n in range(N_NEURONS):\n",
    "    \n",
    "    \n",
    "    \n",
    "    batch_pvalue_matrix_neuron = np.squeeze(batch_pvalue_matrix[:,n,:])\n",
    "    axs[n].plot(batch_pvalue_matrix_neuron[:,1:])\n",
    "    \n",
    "    \n",
    "    if n == 0: axs[n].legend(['X Vel', 'Y vel'])\n"
   ]
  }
 ],
 "metadata": {
  "kernelspec": {
   "display_name": "Python 3",
   "language": "python",
   "name": "python3"
  },
  "language_info": {
   "codemirror_mode": {
    "name": "ipython",
    "version": 3
   },
   "file_extension": ".py",
   "mimetype": "text/x-python",
   "name": "python",
   "nbconvert_exporter": "python",
   "pygments_lexer": "ipython3",
   "version": "3.8.5"
  },
  "toc": {
   "base_numbering": 1,
   "nav_menu": {},
   "number_sections": true,
   "sideBar": true,
   "skip_h1_title": false,
   "title_cell": "Table of Contents",
   "title_sidebar": "Contents",
   "toc_cell": false,
   "toc_position": {
    "height": "600.8px",
    "left": "35px",
    "top": "353.8px",
    "width": "293.1px"
   },
   "toc_section_display": true,
   "toc_window_display": true
  },
  "varInspector": {
   "cols": {
    "lenName": 16,
    "lenType": 16,
    "lenVar": 40
   },
   "kernels_config": {
    "python": {
     "delete_cmd_postfix": "",
     "delete_cmd_prefix": "del ",
     "library": "var_list.py",
     "varRefreshCmd": "print(var_dic_list())"
    },
    "r": {
     "delete_cmd_postfix": ") ",
     "delete_cmd_prefix": "rm(",
     "library": "var_list.r",
     "varRefreshCmd": "cat(var_dic_list()) "
    }
   },
   "types_to_exclude": [
    "module",
    "function",
    "builtin_function_or_method",
    "instance",
    "_Feature"
   ],
   "window_display": false
  }
 },
 "nbformat": 4,
 "nbformat_minor": 4
}
