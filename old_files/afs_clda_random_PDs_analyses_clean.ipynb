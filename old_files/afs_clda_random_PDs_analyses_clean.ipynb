{
 "cells": [
  {
   "cell_type": "markdown",
   "metadata": {},
   "source": [
    "# Purpose of this simulation\n"
   ]
  },
  {
   "cell_type": "code",
   "execution_count": 1,
   "metadata": {
    "ExecuteTime": {
     "end_time": "2021-10-05T00:04:58.452501Z",
     "start_time": "2021-10-05T00:04:57.943329Z"
    }
   },
   "outputs": [],
   "source": [
    "import matplotlib.pyplot as plt\n",
    "import seaborn as sns\n",
    "import numpy as np\n",
    "import tables\n",
    "\n",
    "import numpy as np\n",
    "np.set_printoptions(precision=2, suppress=True)"
   ]
  },
  {
   "cell_type": "markdown",
   "metadata": {},
   "source": [
    "# ideas"
   ]
  },
  {
   "cell_type": "code",
   "execution_count": 2,
   "metadata": {
    "ExecuteTime": {
     "end_time": "2021-10-05T00:04:58.459469Z",
     "start_time": "2021-10-05T00:04:58.456507Z"
    }
   },
   "outputs": [],
   "source": [
    "\n",
    "#for comparision\n",
    "# exp_conds = ['wo_feature_selection', \n",
    "#              'w_iter_feature_selection',\n",
    "#             'start_with_high_SNR_neurons']\n",
    "\n",
    "# for e in exp_conds: print(e)\n"
   ]
  },
  {
   "cell_type": "code",
   "execution_count": 3,
   "metadata": {
    "ExecuteTime": {
     "end_time": "2021-10-05T00:04:58.479157Z",
     "start_time": "2021-10-05T00:04:58.460834Z"
    }
   },
   "outputs": [
    {
     "name": "stdout",
     "output_type": "stream",
     "text": [
      "wo_feature_selection_mfr_100\n",
      "w_iter_feature_selection_mfr_100\n"
     ]
    }
   ],
   "source": [
    "#for comparision\n",
    "\n",
    "exp_conds = ['wo_feature_selection', \n",
    "\n",
    "             'w_iter_feature_selection']\n",
    "\n",
    "\n",
    "\n",
    "exp_conds = [e + f'_mfr_100' for e in exp_conds]\n",
    "for e in exp_conds: print(e)"
   ]
  },
  {
   "cell_type": "markdown",
   "metadata": {},
   "source": [
    "# Preproc the feature files"
   ]
  },
  {
   "cell_type": "code",
   "execution_count": 4,
   "metadata": {
    "ExecuteTime": {
     "end_time": "2021-10-05T00:04:59.027471Z",
     "start_time": "2021-10-05T00:04:58.482272Z"
    }
   },
   "outputs": [],
   "source": [
    "import aopy\n",
    "import tables\n",
    "import os\n",
    "\n",
    "def load_feature_selection_files(data_dump_folder, exp_conds):\n",
    "    \"\"\"\n",
    "    load feature selection from data dump folder\n",
    "    \n",
    "    Args;\n",
    "    \n",
    "    Returns:\n",
    "        exp_data_all: a list of exp_data as parsed by bmi3d\n",
    "        exp_data_metadata_all: a list of exp_metadata as parsed by bmi3d\n",
    "    \"\"\"\n",
    "\n",
    "    exp_data_all = list()\n",
    "    exp_data_metadata_all = list()\n",
    "\n",
    "    for e in exp_conds:\n",
    "        files = {'hdf':e+'.h5'}\n",
    "        file_name = files['hdf']\n",
    "        d,m = aopy.preproc.parse_bmi3d(data_dump_folder, files)\n",
    "\n",
    "        #also load the clda and feature selection files\n",
    "\n",
    "        feature_selection_data = aopy.data.load_hdf_group(data_dump_folder, file_name,'feature_selection')\n",
    "        d['feature_selection'] =  feature_selection_data\n",
    "\n",
    "        exp_data_all.append(d)\n",
    "        exp_data_metadata_all.append(m)\n",
    "        \n",
    "    return (exp_data_all, exp_data_metadata_all)"
   ]
  },
  {
   "cell_type": "code",
   "execution_count": 5,
   "metadata": {
    "ExecuteTime": {
     "end_time": "2021-10-05T00:04:59.251968Z",
     "start_time": "2021-10-05T00:04:59.028633Z"
    }
   },
   "outputs": [
    {
     "data": {
      "text/plain": [
       "dict_keys(['bmi3d_clda', 'bmi3d_task', 'bmi3d_state', 'bmi3d_clock', 'bmi3d_events', 'bmi3d_trials', 'task', 'state', 'clock', 'events', 'trials', 'feature_selection'])"
      ]
     },
     "execution_count": 5,
     "metadata": {},
     "output_type": "execute_result"
    }
   ],
   "source": [
    "data_dump_folder = '/home/sijia-aw/BMi3D_my/operation_funny_chicken/sim_data/'\n",
    "\n",
    "(exp_data_all, exp_data_metadata_all) = load_feature_selection_files(data_dump_folder, exp_conds)\n",
    "\n",
    "exp_data_all[0].keys()"
   ]
  },
  {
   "cell_type": "code",
   "execution_count": 6,
   "metadata": {
    "ExecuteTime": {
     "end_time": "2021-10-05T00:04:59.255541Z",
     "start_time": "2021-10-05T00:04:59.252812Z"
    }
   },
   "outputs": [
    {
     "data": {
      "text/plain": [
       "dtype([('cursor', '<f8', (3,)), ('obs_t', '<f8', (32, 1)), ('KC', '<f8', (7, 7)), ('pred_state_mean', '<f8', (7, 1)), ('post_state_mean', '<f8', (7, 1)), ('pred_state_P', '<f8', (7, 7)), ('post_state_P', '<f8', (7, 7)), ('loop_time', '<f8', (1,)), ('decoder_state', '<f8', (7, 1)), ('internal_decoder_state', '<f8', (7, 1)), ('target_state', '<f8', (7, 1)), ('update_bmi', '<f8', (1,)), ('spike_counts', '<f8', (32, 1)), ('bin_edges', '<f8', (2,)), ('ctrl_input', '<f8', (7,)), ('assist_level', '<f8', (1,)), ('trial', '<u4', (1,)), ('plant_visible', '?', (1,)), ('target', '<f8', (3,)), ('target_index', '<i4', (1,))])"
      ]
     },
     "execution_count": 6,
     "metadata": {},
     "output_type": "execute_result"
    }
   ],
   "source": [
    "exp_data_all[0]['bmi3d_task'].dtype"
   ]
  },
  {
   "cell_type": "code",
   "execution_count": 7,
   "metadata": {
    "ExecuteTime": {
     "end_time": "2021-10-05T00:04:59.266677Z",
     "start_time": "2021-10-05T00:04:59.257718Z"
    }
   },
   "outputs": [
    {
     "data": {
      "text/plain": [
       "masked_array(data=[b'TIME_ZERO', b'TARGET_ON', b'CURSOR_ENTER_TARGET',\n",
       "                   b'HOLD_PENALTY', b'TARGET_ON', b'TIMEOUT_PENALTY',\n",
       "                   b'TARGET_ON', b'CURSOR_ENTER_TARGET', b'REWARD',\n",
       "                   b'TARGET_ON', b'CURSOR_ENTER_TARGET', b'HOLD_PENALTY',\n",
       "                   b'TARGET_ON', b'CURSOR_ENTER_TARGET', b'HOLD_PENALTY',\n",
       "                   b'TARGET_ON', b'CURSOR_ENTER_TARGET', b'REWARD',\n",
       "                   b'TARGET_ON', b'CURSOR_ENTER_TARGET', b'HOLD_PENALTY',\n",
       "                   b'TARGET_ON', b'CURSOR_ENTER_TARGET', b'HOLD_PENALTY',\n",
       "                   b'TARGET_ON', b'CURSOR_ENTER_TARGET', b'HOLD_PENALTY',\n",
       "                   b'TARGET_ON', b'CURSOR_ENTER_TARGET', b'HOLD_PENALTY',\n",
       "                   b'TARGET_ON', b'CURSOR_ENTER_TARGET', b'REWARD',\n",
       "                   b'TARGET_ON', b'CURSOR_ENTER_TARGET', b'REWARD',\n",
       "                   b'TARGET_ON', b'CURSOR_ENTER_TARGET', b'HOLD_PENALTY',\n",
       "                   b'TARGET_ON', b'CURSOR_ENTER_TARGET', b'REWARD',\n",
       "                   b'TARGET_ON', b'CURSOR_ENTER_TARGET', b'HOLD_PENALTY',\n",
       "                   b'TARGET_ON', b'CURSOR_ENTER_TARGET', b'REWARD',\n",
       "                   b'TARGET_ON', b'CURSOR_ENTER_TARGET', b'REWARD',\n",
       "                   b'TARGET_ON', b'CURSOR_ENTER_TARGET', b'REWARD',\n",
       "                   b'TARGET_ON', b'CURSOR_ENTER_TARGET', b'REWARD',\n",
       "                   b'TARGET_ON', b'CURSOR_ENTER_TARGET', b'HOLD_PENALTY',\n",
       "                   b'TARGET_ON', b'CURSOR_ENTER_TARGET', b'REWARD',\n",
       "                   b'TARGET_ON', b'CURSOR_ENTER_TARGET', b'REWARD',\n",
       "                   b'TARGET_ON', b'CURSOR_ENTER_TARGET', b'HOLD_PENALTY',\n",
       "                   b'TARGET_ON', b'CURSOR_ENTER_TARGET', b'HOLD_PENALTY',\n",
       "                   b'TARGET_ON', b'CURSOR_ENTER_TARGET', b'REWARD',\n",
       "                   b'TARGET_ON', b'CURSOR_ENTER_TARGET', b'REWARD',\n",
       "                   b'TARGET_ON', b'CURSOR_ENTER_TARGET', b'REWARD',\n",
       "                   b'TARGET_ON', b'CURSOR_ENTER_TARGET', b'REWARD',\n",
       "                   b'TARGET_ON', b'CURSOR_ENTER_TARGET', b'REWARD',\n",
       "                   b'TARGET_ON', b'CURSOR_ENTER_TARGET', b'HOLD_PENALTY',\n",
       "                   b'TARGET_ON', b'CURSOR_ENTER_TARGET', b'REWARD',\n",
       "                   b'TARGET_ON', b'CURSOR_ENTER_TARGET', b'REWARD',\n",
       "                   b'TARGET_ON', b'CURSOR_ENTER_TARGET', b'REWARD',\n",
       "                   b'TARGET_ON', b'CURSOR_ENTER_TARGET', b'REWARD',\n",
       "                   b'TARGET_ON', b'CURSOR_ENTER_TARGET', b'HOLD_PENALTY',\n",
       "                   b'TARGET_ON', b'CURSOR_ENTER_TARGET', b'REWARD',\n",
       "                   b'TARGET_ON', b'CURSOR_ENTER_TARGET', b'REWARD',\n",
       "                   b'TARGET_ON', b'CURSOR_ENTER_TARGET', b'REWARD',\n",
       "                   b'TARGET_ON', b'CURSOR_ENTER_TARGET', b'REWARD',\n",
       "                   b'TARGET_ON', b'CURSOR_ENTER_TARGET', b'REWARD',\n",
       "                   b'TARGET_ON', b'CURSOR_ENTER_TARGET', b'REWARD',\n",
       "                   b'TARGET_ON', b'CURSOR_ENTER_TARGET', b'REWARD',\n",
       "                   b'TARGET_ON', b'CURSOR_ENTER_TARGET', b'REWARD',\n",
       "                   b'TARGET_ON', b'CURSOR_ENTER_TARGET', b'REWARD',\n",
       "                   b'TARGET_ON', b'CURSOR_ENTER_TARGET', b'HOLD_PENALTY',\n",
       "                   b'TARGET_ON', b'CURSOR_ENTER_TARGET', b'REWARD',\n",
       "                   b'TARGET_ON', b'CURSOR_ENTER_TARGET', b'REWARD',\n",
       "                   b'TARGET_ON', b'CURSOR_ENTER_TARGET', b'HOLD_PENALTY',\n",
       "                   b'TARGET_ON', b'CURSOR_ENTER_TARGET', b'REWARD',\n",
       "                   b'TARGET_ON', b'CURSOR_ENTER_TARGET', b'REWARD',\n",
       "                   b'TARGET_ON', b'CURSOR_ENTER_TARGET', b'REWARD',\n",
       "                   b'TARGET_ON', b'CURSOR_ENTER_TARGET', b'HOLD_PENALTY',\n",
       "                   b'TARGET_ON', b'CURSOR_ENTER_TARGET', b'REWARD',\n",
       "                   b'TARGET_ON', b'CURSOR_ENTER_TARGET', b'REWARD',\n",
       "                   b'TARGET_ON', b'CURSOR_ENTER_TARGET', b'REWARD',\n",
       "                   b'TARGET_ON', b'CURSOR_ENTER_TARGET', b'REWARD',\n",
       "                   b'TARGET_ON', b'CURSOR_ENTER_TARGET', b'HOLD_PENALTY',\n",
       "                   b'TARGET_ON', b'CURSOR_ENTER_TARGET', b'REWARD',\n",
       "                   b'TARGET_ON', b'CURSOR_ENTER_TARGET', b'REWARD',\n",
       "                   b'TARGET_ON', b'CURSOR_ENTER_TARGET', b'HOLD_PENALTY',\n",
       "                   b'TARGET_ON', b'CURSOR_ENTER_TARGET', b'REWARD',\n",
       "                   b'TARGET_ON', b'CURSOR_ENTER_TARGET', b'REWARD',\n",
       "                   b'TARGET_ON', b'CURSOR_ENTER_TARGET', b'HOLD_PENALTY',\n",
       "                   b'TARGET_ON', b'CURSOR_ENTER_TARGET', b'REWARD',\n",
       "                   b'TARGET_ON', b'CURSOR_ENTER_TARGET', b'HOLD_PENALTY',\n",
       "                   b'TARGET_ON', b'CURSOR_ENTER_TARGET', b'REWARD',\n",
       "                   b'TARGET_ON', b'CURSOR_ENTER_TARGET', b'REWARD',\n",
       "                   b'TARGET_ON', b'CURSOR_ENTER_TARGET', b'HOLD_PENALTY',\n",
       "                   b'TARGET_ON', b'CURSOR_ENTER_TARGET', b'REWARD',\n",
       "                   b'TARGET_ON', b'CURSOR_ENTER_TARGET', b'REWARD',\n",
       "                   b'TARGET_ON', b'CURSOR_ENTER_TARGET', b'REWARD',\n",
       "                   b'TARGET_ON', b'CURSOR_ENTER_TARGET', b'HOLD_PENALTY',\n",
       "                   b'TARGET_ON', b'CURSOR_ENTER_TARGET', b'REWARD',\n",
       "                   b'TARGET_ON', b'CURSOR_ENTER_TARGET', b'REWARD',\n",
       "                   b'TARGET_ON', b'CURSOR_ENTER_TARGET', b'REWARD',\n",
       "                   b'TARGET_ON', b'CURSOR_ENTER_TARGET', b'REWARD',\n",
       "                   b'TARGET_ON', b'CURSOR_ENTER_TARGET', b'REWARD',\n",
       "                   b'TARGET_ON', b'CURSOR_ENTER_TARGET', b'REWARD',\n",
       "                   b'TARGET_ON', b'CURSOR_ENTER_TARGET', b'REWARD',\n",
       "                   b'TARGET_ON', b'CURSOR_ENTER_TARGET', b'REWARD',\n",
       "                   b'TARGET_ON', b'CURSOR_ENTER_TARGET', b'REWARD',\n",
       "                   b'TARGET_ON', b'CURSOR_ENTER_TARGET', b'REWARD',\n",
       "                   b'TARGET_ON', b'CURSOR_ENTER_TARGET', b'REWARD',\n",
       "                   b'TARGET_ON', b'CURSOR_ENTER_TARGET', b'REWARD',\n",
       "                   b'TARGET_ON', b'CURSOR_ENTER_TARGET', b'REWARD',\n",
       "                   b'TARGET_ON', b'CURSOR_ENTER_TARGET', b'REWARD',\n",
       "                   b'TARGET_ON', b'CURSOR_ENTER_TARGET', b'REWARD',\n",
       "                   b'TARGET_ON', b'CURSOR_ENTER_TARGET', b'REWARD',\n",
       "                   b'TARGET_ON', b'CURSOR_ENTER_TARGET', b'REWARD',\n",
       "                   b'TARGET_ON', b'CURSOR_ENTER_TARGET', b'REWARD',\n",
       "                   b'TARGET_ON', b'CURSOR_ENTER_TARGET', b'REWARD',\n",
       "                   b'TARGET_ON', b'CURSOR_ENTER_TARGET', b'REWARD',\n",
       "                   b'TARGET_ON', b'CURSOR_ENTER_TARGET', b'REWARD',\n",
       "                   b'TARGET_ON', b'CURSOR_ENTER_TARGET', b'REWARD',\n",
       "                   b'TARGET_ON', b'CURSOR_ENTER_TARGET', b'REWARD',\n",
       "                   b'TARGET_ON', b'CURSOR_ENTER_TARGET', b'REWARD',\n",
       "                   b'TARGET_ON', b'CURSOR_ENTER_TARGET', b'REWARD',\n",
       "                   b'TARGET_ON', b'CURSOR_ENTER_TARGET', b'HOLD_PENALTY',\n",
       "                   b'TARGET_ON', b'CURSOR_ENTER_TARGET', b'REWARD',\n",
       "                   b'TARGET_ON', b'CURSOR_ENTER_TARGET', b'REWARD',\n",
       "                   b'TARGET_ON', b'CURSOR_ENTER_TARGET', b'REWARD',\n",
       "                   b'TARGET_ON', b'CURSOR_ENTER_TARGET', b'REWARD',\n",
       "                   b'TARGET_ON', b'CURSOR_ENTER_TARGET', b'REWARD',\n",
       "                   b'TARGET_ON', b'CURSOR_ENTER_TARGET', b'REWARD',\n",
       "                   b'TARGET_ON', b'CURSOR_ENTER_TARGET', b'REWARD',\n",
       "                   b'TARGET_ON', b'CURSOR_ENTER_TARGET', b'HOLD_PENALTY',\n",
       "                   b'TARGET_ON', b'CURSOR_ENTER_TARGET', b'REWARD',\n",
       "                   b'TARGET_ON', b'CURSOR_ENTER_TARGET', b'HOLD_PENALTY',\n",
       "                   b'TARGET_ON', b'CURSOR_ENTER_TARGET', b'REWARD',\n",
       "                   b'TARGET_ON', b'CURSOR_ENTER_TARGET', b'REWARD',\n",
       "                   b'TARGET_ON', b'CURSOR_ENTER_TARGET', b'REWARD',\n",
       "                   b'TARGET_ON', b'CURSOR_ENTER_TARGET', b'REWARD',\n",
       "                   b'TARGET_ON', b'CURSOR_ENTER_TARGET', b'REWARD',\n",
       "                   b'TARGET_ON', b'CURSOR_ENTER_TARGET', b'HOLD_PENALTY',\n",
       "                   b'TARGET_ON', b'CURSOR_ENTER_TARGET', b'REWARD',\n",
       "                   b'TARGET_ON', b'CURSOR_ENTER_TARGET', b'REWARD',\n",
       "                   b'TARGET_ON', b'CURSOR_ENTER_TARGET', b'HOLD_PENALTY',\n",
       "                   b'TARGET_ON', b'CURSOR_ENTER_TARGET', b'REWARD',\n",
       "                   b'TARGET_ON', b'CURSOR_ENTER_TARGET', b'REWARD',\n",
       "                   b'TARGET_ON', b'CURSOR_ENTER_TARGET', b'REWARD',\n",
       "                   b'TARGET_ON', b'CURSOR_ENTER_TARGET', b'REWARD',\n",
       "                   b'TARGET_ON', b'CURSOR_ENTER_TARGET', b'REWARD',\n",
       "                   b'TARGET_ON', b'CURSOR_ENTER_TARGET', b'HOLD_PENALTY',\n",
       "                   b'TARGET_ON', b'CURSOR_ENTER_TARGET', b'REWARD',\n",
       "                   b'TARGET_ON', b'CURSOR_ENTER_TARGET', b'REWARD',\n",
       "                   b'TARGET_ON', b'CURSOR_ENTER_TARGET', b'HOLD_PENALTY',\n",
       "                   b'TARGET_ON', b'CURSOR_ENTER_TARGET', b'REWARD',\n",
       "                   b'TARGET_ON', b'CURSOR_ENTER_TARGET', b'REWARD',\n",
       "                   b'TARGET_ON', b'CURSOR_ENTER_TARGET', b'REWARD',\n",
       "                   b'TARGET_ON', b'CURSOR_ENTER_TARGET', b'EXP_END'],\n",
       "             mask=[False, False, False, False, False, False, False, False,\n",
       "                   False, False, False, False, False, False, False, False,\n",
       "                   False, False, False, False, False, False, False, False,\n",
       "                   False, False, False, False, False, False, False, False,\n",
       "                   False, False, False, False, False, False, False, False,\n",
       "                   False, False, False, False, False, False, False, False,\n",
       "                   False, False, False, False, False, False, False, False,\n",
       "                   False, False, False, False, False, False, False, False,\n",
       "                   False, False, False, False, False, False, False, False,\n",
       "                   False, False, False, False, False, False, False, False,\n",
       "                   False, False, False, False, False, False, False, False,\n",
       "                   False, False, False, False, False, False, False, False,\n",
       "                   False, False, False, False, False, False, False, False,\n",
       "                   False, False, False, False, False, False, False, False,\n",
       "                   False, False, False, False, False, False, False, False,\n",
       "                   False, False, False, False, False, False, False, False,\n",
       "                   False, False, False, False, False, False, False, False,\n",
       "                   False, False, False, False, False, False, False, False,\n",
       "                   False, False, False, False, False, False, False, False,\n",
       "                   False, False, False, False, False, False, False, False,\n",
       "                   False, False, False, False, False, False, False, False,\n",
       "                   False, False, False, False, False, False, False, False,\n",
       "                   False, False, False, False, False, False, False, False,\n",
       "                   False, False, False, False, False, False, False, False,\n",
       "                   False, False, False, False, False, False, False, False,\n",
       "                   False, False, False, False, False, False, False, False,\n",
       "                   False, False, False, False, False, False, False, False,\n",
       "                   False, False, False, False, False, False, False, False,\n",
       "                   False, False, False, False, False, False, False, False,\n",
       "                   False, False, False, False, False, False, False, False,\n",
       "                   False, False, False, False, False, False, False, False,\n",
       "                   False, False, False, False, False, False, False, False,\n",
       "                   False, False, False, False, False, False, False, False,\n",
       "                   False, False, False, False, False, False, False, False,\n",
       "                   False, False, False, False, False, False, False, False,\n",
       "                   False, False, False, False, False, False, False, False,\n",
       "                   False, False, False, False, False, False, False, False,\n",
       "                   False, False, False, False, False, False, False, False,\n",
       "                   False, False, False, False, False, False, False, False,\n",
       "                   False, False, False, False, False, False, False, False,\n",
       "                   False, False, False, False, False, False, False, False,\n",
       "                   False, False, False, False, False, False, False, False,\n",
       "                   False, False, False, False, False, False, False, False,\n",
       "                   False, False, False, False, False, False, False, False,\n",
       "                   False, False, False, False, False, False, False, False,\n",
       "                   False, False, False, False, False, False, False, False,\n",
       "                   False, False, False, False, False, False, False, False,\n",
       "                   False, False, False, False, False, False, False, False,\n",
       "                   False, False, False, False, False, False],\n",
       "       fill_value=b'N/A',\n",
       "            dtype='|S32')"
      ]
     },
     "execution_count": 7,
     "metadata": {},
     "output_type": "execute_result"
    }
   ],
   "source": [
    "exp_data_all[0]['events']['event']"
   ]
  },
  {
   "cell_type": "markdown",
   "metadata": {},
   "source": [
    "# Check feature selection strategies"
   ]
  },
  {
   "cell_type": "markdown",
   "metadata": {},
   "source": [
    "## display the strategies"
   ]
  },
  {
   "cell_type": "code",
   "execution_count": 8,
   "metadata": {
    "ExecuteTime": {
     "end_time": "2021-10-05T00:04:59.275861Z",
     "start_time": "2021-10-05T00:04:59.267759Z"
    }
   },
   "outputs": [],
   "source": [
    "def plot_feature_selection(active_feat_set_list, ax = None):\n",
    "    \"\"\"\n",
    "    plot the selection strategy map. \n",
    "    \"\"\"\n",
    "    from matplotlib import colors\n",
    "    \n",
    "    \n",
    "        \n",
    "    active_feat_heat_map = np.array(active_feat_set_list, dtype = np.int32)\n",
    "    active_feat_heat_map = np.ma.masked_where(active_feat_heat_map == False, active_feat_heat_map)\n",
    "    \n",
    "\n",
    "    \n",
    "    if ax is None: \n",
    "        fig, ax = plt.subplots()\n",
    "        print(type(ax))\n",
    "        \n",
    "        #color true to yellow\n",
    "    cmap = colors.ListedColormap(['yellow'])\n",
    "    ax.imshow(active_feat_heat_map, cmap = cmap)\n",
    "\n",
    "   \n",
    "    cmap.set_bad(color='blue')\n",
    "\n",
    "    ax.set_ylabel('Learner batch')\n",
    "    ax.set_xlabel('Feature index')\n",
    "\n",
    "\n",
    "\n"
   ]
  },
  {
   "cell_type": "code",
   "execution_count": 9,
   "metadata": {
    "ExecuteTime": {
     "end_time": "2021-10-05T00:04:59.485747Z",
     "start_time": "2021-10-05T00:04:59.276731Z"
    }
   },
   "outputs": [
    {
     "data": {
      "image/png": "[encoded data removed]",
      "text/plain": [
       "<Figure size 432x288 with 3 Axes>"
      ]
     },
     "metadata": {
      "needs_background": "light"
     },
     "output_type": "display_data"
    }
   ],
   "source": [
    "fig_feat_activity, ax_feat_activity = plt.subplots(1,3, sharey = True)\n",
    "\n",
    "for e, a in zip(exp_data_all,  ax_feat_activity):\n",
    "    plot_feature_selection(e['feature_selection']['feat_set'], ax = a)\n",
    "    \n",
    "fig_feat_activity.tight_layout()"
   ]
  },
  {
   "cell_type": "markdown",
   "metadata": {},
   "source": [
    "\n",
    "# Behaviour comparision"
   ]
  },
  {
   "cell_type": "markdown",
   "metadata": {},
   "source": [
    "## count how many rewards"
   ]
  },
  {
   "cell_type": "markdown",
   "metadata": {},
   "source": [
    "## Trial segments and trajectories"
   ]
  },
  {
   "cell_type": "code",
   "execution_count": 10,
   "metadata": {
    "ExecuteTime": {
     "end_time": "2021-10-05T00:04:59.489911Z",
     "start_time": "2021-10-05T00:04:59.486740Z"
    }
   },
   "outputs": [],
   "source": [
    "CENTER_TARGET_ON = 16\n",
    "CURSOR_ENTER_CENTER_TARGET = 80\n",
    "CENTER_TARGET_OFF = 32\n",
    "REWARD = 48\n",
    "DELAY_PENALTY = 66\n",
    "TIMEOUT_PENALTY = 65\n",
    "HOLD_PENALTY = 64\n",
    "TRIAL_END = 239\n",
    "\n",
    "def get_cursor_trajectories_from_parsed_data(exp_data, start_code = [20], end_codes = [REWARD, HOLD_PENALTY]):\n",
    "    \n",
    "    \n",
    "    events = exp_data['events']\n",
    "    cursor_kinematics = exp_data['task']['cursor'][:,[0,2]] # cursor (x, z, y) position on each bmi3d cycle\n",
    "\n",
    "    streamed_code = events['code']\n",
    "    event_cycles = events['time'] # confusingly, 'time' here refers to cycle count\n",
    "\n",
    "    trial_segments, trial_times = aopy.preproc.get_trial_segments(streamed_code, event_cycles, [20],  [REWARD, HOLD_PENALTY])\n",
    "    trial_segments = np.array(trial_segments)\n",
    "    trial_indices = [range(t[0], t[1]) for t in trial_times]\n",
    "    cursor_trajectories = [cursor_kinematics[t] for t in trial_indices]\n",
    "    \n",
    "    return (cursor_trajectories, trial_segments, trial_times)"
   ]
  },
  {
   "cell_type": "code",
   "execution_count": 11,
   "metadata": {
    "ExecuteTime": {
     "end_time": "2021-10-05T00:04:59.501895Z",
     "start_time": "2021-10-05T00:04:59.490787Z"
    }
   },
   "outputs": [
    {
     "data": {
      "text/plain": [
       "array([[20, 84, 64],\n",
       "       [20, 84, 48],\n",
       "       [20, 84, 48],\n",
       "       [20, 84, 48],\n",
       "       [20, 84, 48],\n",
       "       [20, 84, 48],\n",
       "       [20, 84, 48],\n",
       "       [20, 84, 48],\n",
       "       [20, 84, 48],\n",
       "       [20, 84, 48],\n",
       "       [20, 84, 48],\n",
       "       [20, 84, 48],\n",
       "       [20, 84, 48],\n",
       "       [20, 84, 64],\n",
       "       [20, 84, 48],\n",
       "       [20, 84, 48]], dtype=uint8)"
      ]
     },
     "execution_count": 11,
     "metadata": {},
     "output_type": "execute_result"
    }
   ],
   "source": [
    "(cursor_trajectories, trial_segments, trial_times) = get_cursor_trajectories_from_parsed_data(exp_data_all[0], )\n",
    "\n",
    "trial_segments"
   ]
  },
  {
   "cell_type": "code",
   "execution_count": 12,
   "metadata": {
    "ExecuteTime": {
     "end_time": "2021-10-05T00:04:59.510190Z",
     "start_time": "2021-10-05T00:04:59.502810Z"
    }
   },
   "outputs": [
    {
     "name": "stdout",
     "output_type": "stream",
     "text": [
      "[[ 1370  1560]\n",
      " [ 2575  2652]\n",
      " [ 4898  5017]\n",
      " [ 5203  5287]\n",
      " [ 6313  6402]\n",
      " [ 6926  7008]\n",
      " [ 8378  8497]\n",
      " [ 9074  9193]\n",
      " [ 9763  9847]\n",
      " [10615 10728]\n",
      " [12284 12390]\n",
      " [12871 12979]\n",
      " [13705 13800]\n",
      " [14558 14700]\n",
      " [16280 16416]\n",
      " [17161 17286]]\n"
     ]
    },
    {
     "data": {
      "text/plain": [
       "array([190,  77, 119,  84,  89,  82, 119, 119,  84, 113, 106, 108,  95,\n",
       "       142, 136, 125], dtype=uint64)"
      ]
     },
     "execution_count": 12,
     "metadata": {},
     "output_type": "execute_result"
    }
   ],
   "source": [
    "def calc_trial_times(trial_times):\n",
    "    \"\"\"\n",
    "    for each row, calculate the difference between the last and first elements\n",
    "    \"\"\"\n",
    "    row_index = 1 \n",
    "    \n",
    "    return np.apply_along_axis(lambda row: row[-1] - row[0], row_index, trial_times)\n",
    "\n",
    "print(trial_times)\n",
    "calc_trial_times(trial_times)"
   ]
  },
  {
   "cell_type": "code",
   "execution_count": 13,
   "metadata": {
    "ExecuteTime": {
     "end_time": "2021-10-05T00:04:59.521545Z",
     "start_time": "2021-10-05T00:04:59.510988Z"
    }
   },
   "outputs": [],
   "source": [
    "# get the unique target positions\n",
    "\n",
    "from typing import List, Dict\n",
    "import seaborn as sns\n",
    "\n",
    "\n",
    "def plot_cursor_trajectories(cursor_trajectories: List, exp_data:Dict, exp_metadata,ax = None):\n",
    "\n",
    "    fig, ax = plt.subplots(figsize=(10,10))\n",
    "\n",
    "    trials = exp_data['trials']\n",
    "    trial_targets = aopy.postproc.get_trial_targets(trials['trial'], trials['target'][:,[0,2]]) # (x, z, y) -> (x, y)\n",
    "    unique_targets = np.unique(np.concatenate(([t[1] for t in trial_targets], trial_targets[0])), axis=0)\n",
    "\n",
    "\n",
    "    target_radius =  exp_metadata['target_radius']\n",
    "    bounds = [-11, 11, -11, 11]\n",
    "    \n",
    "    sns.color_palette(\"dark:salmon_r\", as_cmap=True)\n",
    "\n",
    "    aopy.visualization.plot_trajectories(cursor_trajectories, bounds = bounds, ax = ax)\n",
    "    aopy.visualization.plot_targets(unique_targets, target_radius, ax = ax)"
   ]
  },
  {
   "cell_type": "code",
   "execution_count": 14,
   "metadata": {
    "ExecuteTime": {
     "end_time": "2021-10-05T00:04:59.689426Z",
     "start_time": "2021-10-05T00:04:59.522386Z"
    }
   },
   "outputs": [
    {
     "data": {
      "image/png": "[encoded data removed]",
      "text/plain": [
       "<Figure size 720x720 with 1 Axes>"
      ]
     },
     "metadata": {
      "needs_background": "light"
     },
     "output_type": "display_data"
    }
   ],
   "source": [
    "plot_cursor_trajectories(cursor_trajectories[:10], exp_data_all[0], exp_data_metadata_all[0])"
   ]
  },
  {
   "cell_type": "code",
   "execution_count": 15,
   "metadata": {
    "ExecuteTime": {
     "end_time": "2021-10-05T00:04:59.695239Z",
     "start_time": "2021-10-05T00:04:59.690344Z"
    }
   },
   "outputs": [
    {
     "data": {
      "text/plain": [
       "array([[  0.  ,   0.  ],\n",
       "       [  0.  ,   0.  ],\n",
       "       [  0.  ,   0.  ],\n",
       "       [ -0.11,   0.28],\n",
       "       [ -0.11,   0.28],\n",
       "       [ -0.11,   0.28],\n",
       "       [ -0.11,   0.28],\n",
       "       [ -0.11,   0.28],\n",
       "       [ -0.11,   0.28],\n",
       "       [ -0.67,  -0.44],\n",
       "       [ -0.67,  -0.44],\n",
       "       [ -0.67,  -0.44],\n",
       "       [ -0.67,  -0.44],\n",
       "       [ -0.67,  -0.44],\n",
       "       [ -0.67,  -0.44],\n",
       "       [ -1.69,  -1.28],\n",
       "       [ -1.69,  -1.28],\n",
       "       [ -1.69,  -1.28],\n",
       "       [ -1.69,  -1.28],\n",
       "       [ -1.69,  -1.28],\n",
       "       [ -1.69,  -1.28],\n",
       "       [ -2.38,  -2.22],\n",
       "       [ -2.38,  -2.22],\n",
       "       [ -2.38,  -2.22],\n",
       "       [ -2.38,  -2.22],\n",
       "       [ -2.38,  -2.22],\n",
       "       [ -2.38,  -2.22],\n",
       "       [ -3.24,  -3.12],\n",
       "       [ -3.24,  -3.12],\n",
       "       [ -3.24,  -3.12],\n",
       "       [ -3.24,  -3.12],\n",
       "       [ -3.24,  -3.12],\n",
       "       [ -3.24,  -3.12],\n",
       "       [ -4.28,  -2.9 ],\n",
       "       [ -4.28,  -2.9 ],\n",
       "       [ -4.28,  -2.9 ],\n",
       "       [ -4.28,  -2.9 ],\n",
       "       [ -4.28,  -2.9 ],\n",
       "       [ -4.28,  -2.9 ],\n",
       "       [ -5.34,  -2.61],\n",
       "       [ -5.34,  -2.61],\n",
       "       [ -5.34,  -2.61],\n",
       "       [ -5.34,  -2.61],\n",
       "       [ -5.34,  -2.61],\n",
       "       [ -5.34,  -2.61],\n",
       "       [ -6.41,  -2.48],\n",
       "       [ -6.41,  -2.48],\n",
       "       [ -6.41,  -2.48],\n",
       "       [ -6.41,  -2.48],\n",
       "       [ -6.41,  -2.48],\n",
       "       [ -6.41,  -2.48],\n",
       "       [ -7.04,  -2.8 ],\n",
       "       [ -7.04,  -2.8 ],\n",
       "       [ -7.04,  -2.8 ],\n",
       "       [ -7.04,  -2.8 ],\n",
       "       [ -7.04,  -2.8 ],\n",
       "       [ -7.04,  -2.8 ],\n",
       "       [ -7.59,  -3.13],\n",
       "       [ -7.59,  -3.13],\n",
       "       [ -7.59,  -3.13],\n",
       "       [ -7.59,  -3.13],\n",
       "       [ -7.59,  -3.13],\n",
       "       [ -7.59,  -3.13],\n",
       "       [ -8.52,  -4.5 ],\n",
       "       [ -8.52,  -4.5 ],\n",
       "       [ -8.52,  -4.5 ],\n",
       "       [ -8.52,  -4.5 ],\n",
       "       [ -8.52,  -4.5 ],\n",
       "       [ -8.52,  -4.5 ],\n",
       "       [ -9.35,  -6.7 ],\n",
       "       [ -9.35,  -6.7 ],\n",
       "       [ -9.35,  -6.7 ],\n",
       "       [ -9.35,  -6.7 ],\n",
       "       [ -9.35,  -6.7 ],\n",
       "       [ -9.35,  -6.7 ],\n",
       "       [-10.  ,  -8.5 ],\n",
       "       [-10.  ,  -8.5 ],\n",
       "       [-10.  ,  -8.5 ],\n",
       "       [-10.  ,  -8.5 ],\n",
       "       [-10.  ,  -8.5 ],\n",
       "       [-10.  ,  -8.5 ],\n",
       "       [-10.  , -10.  ],\n",
       "       [-10.  , -10.  ],\n",
       "       [-10.  , -10.  ],\n",
       "       [-10.  , -10.  ],\n",
       "       [-10.  , -10.  ],\n",
       "       [-10.  , -10.  ],\n",
       "       [ -9.73, -10.  ],\n",
       "       [ -9.73, -10.  ],\n",
       "       [ -9.73, -10.  ],\n",
       "       [ -9.73, -10.  ],\n",
       "       [ -9.73, -10.  ],\n",
       "       [ -9.73, -10.  ],\n",
       "       [ -9.83, -10.  ],\n",
       "       [ -9.83, -10.  ],\n",
       "       [ -9.83, -10.  ],\n",
       "       [ -9.83, -10.  ],\n",
       "       [ -9.83, -10.  ],\n",
       "       [ -9.83, -10.  ],\n",
       "       [-10.  , -10.  ],\n",
       "       [-10.  , -10.  ],\n",
       "       [-10.  , -10.  ],\n",
       "       [-10.  , -10.  ],\n",
       "       [-10.  , -10.  ],\n",
       "       [-10.  , -10.  ],\n",
       "       [ -9.83,  -9.87],\n",
       "       [ -9.83,  -9.87],\n",
       "       [ -9.83,  -9.87],\n",
       "       [ -9.83,  -9.87],\n",
       "       [ -9.83,  -9.87],\n",
       "       [ -9.83,  -9.87],\n",
       "       [-10.  ,  -9.71],\n",
       "       [-10.  ,  -9.71],\n",
       "       [-10.  ,  -9.71],\n",
       "       [-10.  ,  -9.71],\n",
       "       [-10.  ,  -9.71],\n",
       "       [-10.  ,  -9.71],\n",
       "       [ -9.78,  -9.2 ],\n",
       "       [ -9.78,  -9.2 ],\n",
       "       [ -9.78,  -9.2 ],\n",
       "       [ -9.78,  -9.2 ],\n",
       "       [ -9.78,  -9.2 ],\n",
       "       [ -9.78,  -9.2 ],\n",
       "       [ -9.81,  -7.71],\n",
       "       [ -9.81,  -7.71],\n",
       "       [ -9.81,  -7.71],\n",
       "       [ -9.81,  -7.71],\n",
       "       [ -9.81,  -7.71],\n",
       "       [ -9.81,  -7.71],\n",
       "       [-10.  ,  -5.59],\n",
       "       [-10.  ,  -5.59],\n",
       "       [-10.  ,  -5.59],\n",
       "       [-10.  ,  -5.59],\n",
       "       [-10.  ,  -5.59],\n",
       "       [-10.  ,  -5.59],\n",
       "       [-10.  ,  -3.32],\n",
       "       [-10.  ,  -3.32],\n",
       "       [-10.  ,  -3.32],\n",
       "       [-10.  ,  -3.32],\n",
       "       [-10.  ,  -3.32],\n",
       "       [-10.  ,  -3.32],\n",
       "       [ -9.77,  -2.22],\n",
       "       [ -9.77,  -2.22],\n",
       "       [ -9.77,  -2.22],\n",
       "       [ -9.77,  -2.22],\n",
       "       [ -9.77,  -2.22],\n",
       "       [ -9.77,  -2.22],\n",
       "       [ -8.94,  -1.24],\n",
       "       [ -8.94,  -1.24],\n",
       "       [ -8.94,  -1.24],\n",
       "       [ -8.94,  -1.24],\n",
       "       [ -8.94,  -1.24],\n",
       "       [ -8.94,  -1.24],\n",
       "       [ -7.73,  -1.24],\n",
       "       [ -7.73,  -1.24],\n",
       "       [ -7.73,  -1.24],\n",
       "       [ -7.73,  -1.24],\n",
       "       [ -7.73,  -1.24],\n",
       "       [ -7.73,  -1.24],\n",
       "       [ -7.05,  -1.15],\n",
       "       [ -7.05,  -1.15],\n",
       "       [ -7.05,  -1.15],\n",
       "       [ -7.05,  -1.15],\n",
       "       [ -7.05,  -1.15],\n",
       "       [ -7.05,  -1.15],\n",
       "       [ -7.24,  -1.09],\n",
       "       [ -7.24,  -1.09],\n",
       "       [ -7.24,  -1.09],\n",
       "       [ -7.24,  -1.09],\n",
       "       [ -7.24,  -1.09],\n",
       "       [ -7.24,  -1.09],\n",
       "       [ -8.3 ,  -1.92],\n",
       "       [ -8.3 ,  -1.92],\n",
       "       [ -8.3 ,  -1.92],\n",
       "       [ -8.3 ,  -1.92],\n",
       "       [ -8.3 ,  -1.92],\n",
       "       [ -8.3 ,  -1.92],\n",
       "       [ -9.33,  -2.13],\n",
       "       [ -9.33,  -2.13],\n",
       "       [ -9.33,  -2.13],\n",
       "       [ -9.33,  -2.13],\n",
       "       [ -9.33,  -2.13],\n",
       "       [ -9.33,  -2.13],\n",
       "       [-10.  ,  -1.32],\n",
       "       [-10.  ,  -1.32],\n",
       "       [-10.  ,  -1.32],\n",
       "       [-10.  ,  -1.32],\n",
       "       [-10.  ,  -1.32],\n",
       "       [-10.  ,  -1.32],\n",
       "       [-10.  ,  -1.85]])"
      ]
     },
     "execution_count": 15,
     "metadata": {},
     "output_type": "execute_result"
    }
   ],
   "source": [
    "cursor_trajectories[0]"
   ]
  },
  {
   "cell_type": "markdown",
   "metadata": {},
   "source": [
    "# Post data analysis"
   ]
  },
  {
   "cell_type": "markdown",
   "metadata": {},
   "source": [
    "# Behaviour  analyses"
   ]
  },
  {
   "cell_type": "markdown",
   "metadata": {},
   "source": [
    "## Trajectory analysis"
   ]
  },
  {
   "cell_type": "code",
   "execution_count": null,
   "metadata": {},
   "outputs": [],
   "source": []
  },
  {
   "cell_type": "code",
   "execution_count": 16,
   "metadata": {
    "ExecuteTime": {
     "end_time": "2021-10-05T00:04:59.704360Z",
     "start_time": "2021-10-05T00:04:59.696056Z"
    }
   },
   "outputs": [],
   "source": [
    "def calculate_traj_length(trajectories):\n",
    "    \"\"\"\n",
    "    given a list of trajectories, calculate each trajectory's length\n",
    "    \n",
    "    args:\n",
    "        trajectories[np.ndarray]: number of data points by number of dims\n",
    "    \"\"\"\n",
    "    traj_length = np.empty((len(trajectories)))\n",
    "    \n",
    "    for i,t in enumerate(trajectories):\n",
    "        delta = np.diff(t, axis = 0)\n",
    "        \n",
    "        \n",
    "        delta_length = delta**2\n",
    "        \n",
    "        \n",
    "        delta_sum = np.sum(delta_length, axis = 1) ** (1/2)\n",
    "        \n",
    "        delta_sum = np.sum(delta_sum)\n",
    "        \n",
    "        traj_length[i] = delta_sum\n",
    "        \n",
    "    return traj_length\n",
    "        \n",
    "        \n",
    "\n",
    "def test_calculate_traj_length():\n",
    "    \n",
    "    \n",
    "    #test a line segment length\n",
    "    cursor_trajectory = np.arange(0,1, 0.1).reshape(-1,1)\n",
    "    expected_trajectory_length = np.array([0.9])\n",
    "    calculated_trajectory_length = calculate_traj_length([cursor_trajectory])\n",
    "    \n",
    "    np.testing.assert_array_equal(expected_trajectory_length, calculated_trajectory_length)\n",
    "    \n",
    "    \n",
    "test_calculate_traj_length()    "
   ]
  },
  {
   "cell_type": "code",
   "execution_count": 17,
   "metadata": {
    "ExecuteTime": {
     "end_time": "2021-10-05T00:04:59.801233Z",
     "start_time": "2021-10-05T00:04:59.705180Z"
    }
   },
   "outputs": [
    {
     "data": {
      "text/plain": [
       "[<matplotlib.lines.Line2D at 0x7f5f4c326250>]"
      ]
     },
     "execution_count": 17,
     "metadata": {},
     "output_type": "execute_result"
    },
    {
     "data": {
      "image/png": "[encoded data removed]",
      "text/plain": [
       "<Figure size 432x288 with 1 Axes>"
      ]
     },
     "metadata": {
      "needs_background": "light"
     },
     "output_type": "display_data"
    }
   ],
   "source": [
    "cursor_length = calculate_traj_length(cursor_trajectories)\n",
    "\n",
    "plt.plot(cursor_length)"
   ]
  },
  {
   "cell_type": "markdown",
   "metadata": {},
   "source": [
    "## Variance analysis"
   ]
  },
  {
   "cell_type": "markdown",
   "metadata": {},
   "source": [
    "# Kalman filter"
   ]
  },
  {
   "cell_type": "markdown",
   "metadata": {},
   "source": [
    "## encoder\n",
    "\n",
    "the job of the encoder is to directly encode intention into firing rates\n",
    "the direct measure is just pearson correlation coefficients between \n",
    "the intentions and the firing rates"
   ]
  },
  {
   "cell_type": "code",
   "execution_count": 18,
   "metadata": {
    "ExecuteTime": {
     "end_time": "2021-10-05T00:04:59.803658Z",
     "start_time": "2021-10-05T00:04:59.802074Z"
    }
   },
   "outputs": [],
   "source": [
    "clda_log = exp_data_all[0]['bmi3d_clda']\n"
   ]
  },
  {
   "cell_type": "code",
   "execution_count": 19,
   "metadata": {
    "ExecuteTime": {
     "end_time": "2021-10-05T00:04:59.817813Z",
     "start_time": "2021-10-05T00:04:59.804328Z"
    }
   },
   "outputs": [
    {
     "data": {
      "text/plain": [
       "dict_keys(['bmi3d_clda', 'bmi3d_task', 'bmi3d_state', 'bmi3d_clock', 'bmi3d_events', 'bmi3d_trials', 'task', 'state', 'clock', 'events', 'trials', 'feature_selection'])"
      ]
     },
     "execution_count": 19,
     "metadata": {},
     "output_type": "execute_result"
    }
   ],
   "source": [
    "exp_data_all[0].keys()"
   ]
  },
  {
   "cell_type": "code",
   "execution_count": 20,
   "metadata": {
    "ExecuteTime": {
     "end_time": "2021-10-05T00:04:59.913498Z",
     "start_time": "2021-10-05T00:04:59.818471Z"
    }
   },
   "outputs": [
    {
     "name": "stdout",
     "output_type": "stream",
     "text": [
      "30.0\n"
     ]
    },
    {
     "data": {
      "image/png": "[encoded data removed]",
      "text/plain": [
       "<Figure size 432x288 with 1 Axes>"
      ]
     },
     "metadata": {
      "needs_background": "light"
     },
     "output_type": "display_data"
    }
   ],
   "source": [
    "plt.plot(exp_data_all[0]['task']['update_bmi'])\n",
    "print(np.sum(exp_data_all[0]['task']['update_bmi']))"
   ]
  },
  {
   "cell_type": "code",
   "execution_count": 21,
   "metadata": {
    "ExecuteTime": {
     "end_time": "2021-10-05T00:04:59.917250Z",
     "start_time": "2021-10-05T00:04:59.914365Z"
    }
   },
   "outputs": [
    {
     "name": "stdout",
     "output_type": "stream",
     "text": [
      "[[ 0.    0.    0.    3.16  0.    0.21 47.03]\n",
      " [ 0.    0.    0.   -0.21  0.    3.25 47.56]\n",
      " [ 0.    0.    0.   -2.73  0.   -0.07 46.33]\n",
      " [ 0.    0.    0.   -0.06  0.   -2.33 48.27]\n",
      " [ 0.    0.    0.    3.01  0.   -0.27 46.97]\n",
      " [ 0.    0.    0.   -0.1   0.    2.73 47.84]\n",
      " [ 0.    0.    0.   -2.1   0.   -0.43 44.83]\n",
      " [ 0.    0.    0.    0.04  0.   -2.2  48.41]\n",
      " [ 0.    0.    0.    2.62  0.    0.09 45.49]\n",
      " [ 0.    0.    0.   -0.68  0.    2.94 48.09]\n",
      " [ 0.    0.    0.   -2.8   0.    0.58 51.06]\n",
      " [ 0.    0.    0.   -0.15  0.   -2.56 47.41]\n",
      " [ 0.    0.    0.    2.32  0.    0.65 48.67]\n",
      " [ 0.    0.    0.    0.06  0.    3.75 48.18]\n",
      " [ 0.    0.    0.   -3.71  0.   -0.11 48.73]\n",
      " [ 0.    0.    0.    0.31  0.   -2.41 47.01]\n",
      " [ 0.    0.    0.    3.37  0.   -0.52 48.82]\n",
      " [ 0.    0.    0.   -0.06  0.    2.6  45.78]\n",
      " [ 0.    0.    0.   -2.99  0.    0.52 48.1 ]\n",
      " [ 0.    0.    0.    0.57  0.   -2.33 47.88]\n",
      " [ 0.    0.    0.    2.78  0.    0.19 49.43]\n",
      " [ 0.    0.    0.   -0.03  0.    3.25 46.41]\n",
      " [ 0.    0.    0.   -2.44  0.   -0.39 47.08]\n",
      " [ 0.    0.    0.   -0.4   0.   -2.05 49.66]\n",
      " [ 0.    0.    0.    3.06  0.    0.36 49.7 ]\n",
      " [ 0.    0.    0.   -0.32  0.    3.34 48.46]\n",
      " [ 0.    0.    0.   -3.29  0.    0.46 48.54]\n",
      " [ 0.    0.    0.    0.9   0.   -2.91 49.86]\n",
      " [ 0.    0.    0.    2.69  0.   -0.03 49.59]\n",
      " [ 0.    0.    0.   -0.24  0.    3.03 47.2 ]\n",
      " [ 0.    0.    0.   -2.85  0.   -0.04 47.72]\n",
      " [ 0.    0.    0.   -0.11  0.   -2.79 46.37]]\n"
     ]
    }
   ],
   "source": [
    "print(clda_log['kf_C'][-1])"
   ]
  },
  {
   "cell_type": "markdown",
   "metadata": {},
   "source": [
    "## decoder"
   ]
  },
  {
   "cell_type": "code",
   "execution_count": 22,
   "metadata": {
    "ExecuteTime": {
     "end_time": "2021-10-05T00:04:59.931749Z",
     "start_time": "2021-10-05T00:04:59.917934Z"
    }
   },
   "outputs": [
    {
     "data": {
      "text/plain": [
       "dict_keys(['C_mat', 'K_mat', 'Q_diag', 'assist_level', 'batch_size', 'batch_time', 'feat_set', 'fixed_noise_level', 'half_life', 'n_starting_feats', 'n_states', 'noise_mode', 'noise_neuron_list', 'percent_noise', 'sim_C', 'total_exp_time', 'transform_x_flag', 'transform_y_flag'])"
      ]
     },
     "execution_count": 22,
     "metadata": {},
     "output_type": "execute_result"
    }
   ],
   "source": [
    "exp_data_all[0]['feature_selection'].keys()"
   ]
  },
  {
   "cell_type": "code",
   "execution_count": 23,
   "metadata": {
    "ExecuteTime": {
     "end_time": "2021-10-05T00:05:00.152982Z",
     "start_time": "2021-10-05T00:04:59.932495Z"
    }
   },
   "outputs": [
    {
     "name": "stdout",
     "output_type": "stream",
     "text": [
      "(31, 32, 7)\n"
     ]
    },
    {
     "data": {
      "image/png": "[encoded data removed]",
      "text/plain": [
       "<Figure size 432x288 with 2 Axes>"
      ]
     },
     "metadata": {
      "needs_background": "light"
     },
     "output_type": "display_data"
    }
   ],
   "source": [
    "from afs_plotting import plot_prefered_directions\n",
    "\n",
    "C_mat = exp_data_all[0]['feature_selection']['C_mat']\n",
    "\n",
    "print(C_mat.shape)\n",
    "\n",
    "\n",
    "\n",
    "fig, ax = plt.subplots(1,2)\n",
    "\n",
    "plot_prefered_directions(C_mat[0], ax = ax[0])\n",
    "plot_prefered_directions(C_mat[-1], ax = ax[1])"
   ]
  },
  {
   "cell_type": "code",
   "execution_count": 34,
   "metadata": {
    "ExecuteTime": {
     "end_time": "2021-10-05T00:08:29.911140Z",
     "start_time": "2021-10-05T00:08:29.556054Z"
    }
   },
   "outputs": [
    {
     "data": {
      "image/png": "[encoded data removed]",
      "text/plain": [
       "<Figure size 432x288 with 4 Axes>"
      ]
     },
     "metadata": {
      "needs_background": "light"
     },
     "output_type": "display_data"
    }
   ],
   "source": [
    "from afs_plotting import plot_prefered_directions\n",
    "\n",
    "def plot_all_initial_C_mat(exp_data_all):\n",
    "    \n",
    "    \"\"\"\n",
    "    just compare initial C mat with the last C_mat\n",
    "    \"\"\"\n",
    "    \n",
    "    N_EXP = len(exp_data_all)\n",
    "    \n",
    "    fig, ax = plt.subplots(2, N_EXP)\n",
    "    \n",
    "    for i in range(N_EXP):\n",
    "        C_mat = exp_data_all[i]['feature_selection']['C_mat']\n",
    "        plot_prefered_directions(C_mat[0], ax = ax[0,i])\n",
    "        plot_prefered_directions(C_mat[-1], ax = ax[1,i])\n",
    "        \n",
    "\n",
    "plot_all_initial_C_mat(exp_data_all)"
   ]
  },
  {
   "cell_type": "markdown",
   "metadata": {},
   "source": [
    "## Decoder compared to the encoder\n",
    "\n"
   ]
  },
  {
   "cell_type": "code",
   "execution_count": 25,
   "metadata": {
    "ExecuteTime": {
     "end_time": "2021-10-05T00:05:00.415082Z",
     "start_time": "2021-10-05T00:05:00.411637Z"
    }
   },
   "outputs": [
    {
     "name": "stdout",
     "output_type": "stream",
     "text": [
      "We have two types of indices: \n",
      "noisy:[ 0  1  2  3  4  5  6  7  8  9 10 11 12 13 14 15 16 17 18 19 20 21 22 23]\n",
      "non_noisy:[24 25 26 27 28 29 30 31]\n"
     ]
    }
   ],
   "source": [
    "\n",
    "\n",
    "neuron_types = ['noisy', 'non_noisy']\n",
    "\n",
    "n_neurons = 32\n",
    "n_neurons_noisy_group = 24\n",
    "n_neurons_no_noise_group = 8\n",
    "\n",
    "\n",
    "noise_neuron_ind = np.arange(n_neurons_noisy_group)\n",
    "no_noise_neuron_ind = np.arange(n_neurons_noisy_group, n_neurons_noisy_group + n_neurons_no_noise_group)\n",
    "\n",
    "neuron_type_indices_in_a_list = [\n",
    "    noise_neuron_ind, \n",
    "    no_noise_neuron_ind\n",
    "]\n",
    "\n",
    "\n",
    "noise_neuron_list = np.full(n_neurons, False, dtype = bool)\n",
    "no_noise_neuron_list = np.full(n_neurons, False, dtype = bool)\n",
    "\n",
    "\n",
    "noise_neuron_list[noise_neuron_ind] = True\n",
    "no_noise_neuron_list[no_noise_neuron_ind] = True\n",
    "\n",
    "\n",
    "\n",
    "neuron_type_bool_list = [\n",
    "    noise_neuron_list,\n",
    "    no_noise_neuron_list,\n",
    "]\n",
    "\n",
    "N_TYPES_OF_NEURONS = 2\n",
    "\n",
    "print('We have two types of indices: ')\n",
    "for t,l in enumerate(neuron_type_indices_in_a_list): print(f'{neuron_types[t]}:{l}')"
   ]
  },
  {
   "cell_type": "code",
   "execution_count": 26,
   "metadata": {
    "ExecuteTime": {
     "end_time": "2021-10-05T00:05:00.433021Z",
     "start_time": "2021-10-05T00:05:00.415955Z"
    }
   },
   "outputs": [
    {
     "data": {
      "text/plain": [
       "dict_keys(['bmi3d_clda', 'bmi3d_task', 'bmi3d_state', 'bmi3d_clock', 'bmi3d_events', 'bmi3d_trials', 'task', 'state', 'clock', 'events', 'trials', 'feature_selection'])"
      ]
     },
     "execution_count": 26,
     "metadata": {},
     "output_type": "execute_result"
    }
   ],
   "source": [
    "exp_data_all[0].keys()"
   ]
  },
  {
   "cell_type": "code",
   "execution_count": 27,
   "metadata": {
    "ExecuteTime": {
     "end_time": "2021-10-05T00:05:00.584294Z",
     "start_time": "2021-10-05T00:05:00.436520Z"
    }
   },
   "outputs": [
    {
     "name": "stdout",
     "output_type": "stream",
     "text": [
      "(31, 32, 7)\n",
      "(31, 32, 7)\n"
     ]
    },
    {
     "data": {
      "image/png": "[encoded data removed]",
      "text/plain": [
       "<Figure size 432x288 with 1 Axes>"
      ]
     },
     "metadata": {
      "needs_background": "light"
     },
     "output_type": "display_data"
    }
   ],
   "source": [
    "import importlib\n",
    "import convergence_analysis\n",
    "importlib.reload(convergence_analysis)\n",
    "from convergence_analysis import calc_cosine_sim_bet_two_matrices, calc_cosine_to_target_matrix\n",
    "\n",
    "\n",
    "feature_selection_data = exp_data_all[0]['feature_selection']\n",
    "active_feat_set = feature_selection_data['feat_set']\n",
    "active_feat_set_last = active_feat_set[-1]\n",
    "\n",
    "\n",
    "for i,e in enumerate(exp_conds):\n",
    "    enc_directions = feature_selection_data['sim_C']\n",
    "    dec_directions = feature_selection_data['C_mat']\n",
    "    \n",
    "    print(dec_directions.shape)\n",
    "\n",
    "    angles_hist = calc_cosine_to_target_matrix(dec_directions,\n",
    "                                               enc_directions)\n",
    "    \n",
    "#     if i == 0:\n",
    "#         active_angles = np.mean(angles_hist[:,noise_neuron_list], axis = 1)\n",
    "#         plt.plot(active_angles)\n",
    "    \n",
    "    active_angles = np.mean(angles_hist[:,active_feat_set_last], axis = 1)\n",
    "    \n",
    "    plt.plot(active_angles)\n",
    "\n"
   ]
  },
  {
   "cell_type": "markdown",
   "metadata": {},
   "source": []
  },
  {
   "cell_type": "markdown",
   "metadata": {},
   "source": [
    "## looking at K matrix"
   ]
  },
  {
   "cell_type": "code",
   "execution_count": 28,
   "metadata": {
    "ExecuteTime": {
     "end_time": "2021-10-05T00:05:01.090010Z",
     "start_time": "2021-10-05T00:05:00.585162Z"
    }
   },
   "outputs": [
    {
     "data": {
      "image/png": "[encoded data removed]",
      "text/plain": [
       "<Figure size 864x576 with 6 Axes>"
      ]
     },
     "metadata": {
      "needs_background": "light"
     },
     "output_type": "display_data"
    }
   ],
   "source": [
    "NUM_EXP = 3\n",
    "GLOBAL_FIGURE_VERTICAL_SIZE  = 4\n",
    "\n",
    "figure_k_matrix, axes_k_matrix = plt.subplots(2,NUM_EXP,\n",
    "                                          figsize = (GLOBAL_FIGURE_VERTICAL_SIZE * NUM_EXP,\n",
    "                                                    GLOBAL_FIGURE_VERTICAL_SIZE * 2))\n",
    "\n",
    "\n",
    "\n",
    "#compare the K matrix before the exp\n",
    "for i,e in enumerate(exp_conds):\n",
    "    K_mat = exp_data_all[i]['feature_selection']['K_mat']\n",
    "    K = K_mat[0].T\n",
    "\n",
    "    plot_prefered_directions(K[no_noise_neuron_ind, :], ax  = axes_k_matrix[0, i])\n",
    "    axes_k_matrix[0, i].set_title(exp_conds[i])\n",
    "\n",
    "#compare to the matrix after the exp\n",
    "for i,e in enumerate(exp_conds):\n",
    "    K_mat = exp_data_all[i]['feature_selection']['K_mat']\n",
    "    \n",
    "    K = K_mat[-1].T\n",
    "    plot_prefered_directions(K[no_noise_neuron_ind,:], ax  = axes_k_matrix[1, i])\n",
    "    axes_k_matrix[1,i].set_title(exp_conds[i])\n",
    "    \n",
    "    \n",
    "figure_k_matrix.tight_layout()"
   ]
  },
  {
   "cell_type": "markdown",
   "metadata": {},
   "source": [
    "# Feature analysis"
   ]
  },
  {
   "cell_type": "markdown",
   "metadata": {},
   "source": [
    "## examine used C mat"
   ]
  },
  {
   "cell_type": "code",
   "execution_count": 29,
   "metadata": {
    "ExecuteTime": {
     "end_time": "2021-10-05T00:05:01.260519Z",
     "start_time": "2021-10-05T00:05:01.091091Z"
    }
   },
   "outputs": [
    {
     "data": {
      "text/latex": [
       "$\\displaystyle \\left[\\begin{matrix}0.0 & 0.0 & 0.0 & 2.25053014599775 & 0.0 & -0.937777345005372 & 7.84735081539942\\\\0.0 & 0.0 & 0.0 & 0.356072952358535 & 0.0 & 1.18506041497446 & 7.89869806636717\\\\0.0 & 0.0 & 0.0 & -0.714801225314675 & 0.0 & -0.786175151142753 & 3.83458493712159\\\\0.0 & 0.0 & 0.0 & 2.18972878821037 & 0.0 & -0.154246881674266 & 8.14305134212385\\\\0.0 & 0.0 & 0.0 & 0.553255688334004 & 0.0 & -1.82534609115077 & 4.58690272894732\\\\0.0 & 0.0 & 0.0 & -0.244531374891122 & 0.0 & -0.536413807763381 & 6.08488722927213\\\\0.0 & 0.0 & 0.0 & -0.709902844610349 & 0.0 & 0.544093891509145 & 5.77493833317743\\\\0.0 & 0.0 & 0.0 & -0.474721795034227 & 0.0 & -0.439960093990063 & 8.79145472706896\\\\0.0 & 0.0 & 0.0 & -0.0814505829036198 & 0.0 & -0.470268507059112 & 4.88982288149672\\\\0.0 & 0.0 & 0.0 & -1.38946456769314 & 0.0 & -0.376386159999902 & 6.88512987672257\\\\0.0 & 0.0 & 0.0 & -1.6094805927699 & 0.0 & -0.638913385461413 & 4.53701338502621\\\\0.0 & 0.0 & 0.0 & -1.13972745666634 & 0.0 & 0.177369754339815 & 5.39310097796397\\\\0.0 & 0.0 & 0.0 & 0.0115220064918045 & 0.0 & 0.942332781466365 & 6.63127910309276\\\\0.0 & 0.0 & 0.0 & 0.480974120397294 & 0.0 & 0.383790595610437 & 9.57979362991181\\\\0.0 & 0.0 & 0.0 & -1.77924416757993 & 0.0 & 0.8494324896741 & 4.15619824914321\\\\0.0 & 0.0 & 0.0 & 1.78605223644077 & 0.0 & 1.37983644814838 & 8.99490232394393\\\\0.0 & 0.0 & 0.0 & 1.02574457790047 & 0.0 & -0.158511745314234 & 6.87179886265139\\\\0.0 & 0.0 & 0.0 & 0.127215535595397 & 0.0 & -0.228446738058678 & 6.96765645798978\\\\0.0 & 0.0 & 0.0 & -0.371231183104169 & 0.0 & 0.441158738099189 & 5.26643830651001\\\\0.0 & 0.0 & 0.0 & 0.608994529223195 & 0.0 & 0.0662491295982108 & 6.06866555022119\\\\0.0 & 0.0 & 0.0 & 0.816098136930472 & 0.0 & 0.760525307969174 & 4.70822584881604\\\\0.0 & 0.0 & 0.0 & -0.00573787648164679 & 0.0 & -0.228201883845225 & 5.95927127197571\\\\0.0 & 0.0 & 0.0 & -1.53696455126905 & 0.0 & -0.421275378409689 & 5.14529641396122\\\\0.0 & 0.0 & 0.0 & -1.05525127134524 & 0.0 & -1.24283491787317 & 6.37748531599\\\\0.0 & 0.0 & 0.0 & 0.525288421618626 & 0.0 & -0.634214448897916 & 5.15112225222348\\\\0.0 & 0.0 & 0.0 & -0.373008112560839 & 0.0 & 0.0195526685515701 & 6.31125635981352\\\\0.0 & 0.0 & 0.0 & -1.90774080336602 & 0.0 & 0.100409152501714 & 5.80117131105374\\\\0.0 & 0.0 & 0.0 & 0.0773273460828451 & 0.0 & 0.118635310166271 & 7.72800308253136\\\\0.0 & 0.0 & 0.0 & 1.4353886663546 & 0.0 & -0.312597693510425 & 7.1753824338709\\\\0.0 & 0.0 & 0.0 & 0.0805150463747765 & 0.0 & 0.685277325266624 & 8.15877228977574\\\\0.0 & 0.0 & 0.0 & -0.893076589884723 & 0.0 & -0.344251185948756 & 5.14021932973054\\\\0.0 & 0.0 & 0.0 & -0.751126666929478 & 0.0 & -0.764004013029861 & 9.07280515223133\\end{matrix}\\right]$"
      ],
      "text/plain": [
       "Matrix([\n",
       "[0.0, 0.0, 0.0,     2.25053014599775, 0.0, -0.937777345005372, 7.84735081539942],\n",
       "[0.0, 0.0, 0.0,    0.356072952358535, 0.0,   1.18506041497446, 7.89869806636717],\n",
       "[0.0, 0.0, 0.0,   -0.714801225314675, 0.0, -0.786175151142753, 3.83458493712159],\n",
       "[0.0, 0.0, 0.0,     2.18972878821037, 0.0, -0.154246881674266, 8.14305134212385],\n",
       "[0.0, 0.0, 0.0,    0.553255688334004, 0.0,  -1.82534609115077, 4.58690272894732],\n",
       "[0.0, 0.0, 0.0,   -0.244531374891122, 0.0, -0.536413807763381, 6.08488722927213],\n",
       "[0.0, 0.0, 0.0,   -0.709902844610349, 0.0,  0.544093891509145, 5.77493833317743],\n",
       "[0.0, 0.0, 0.0,   -0.474721795034227, 0.0, -0.439960093990063, 8.79145472706896],\n",
       "[0.0, 0.0, 0.0,  -0.0814505829036198, 0.0, -0.470268507059112, 4.88982288149672],\n",
       "[0.0, 0.0, 0.0,    -1.38946456769314, 0.0, -0.376386159999902, 6.88512987672257],\n",
       "[0.0, 0.0, 0.0,     -1.6094805927699, 0.0, -0.638913385461413, 4.53701338502621],\n",
       "[0.0, 0.0, 0.0,    -1.13972745666634, 0.0,  0.177369754339815, 5.39310097796397],\n",
       "[0.0, 0.0, 0.0,   0.0115220064918045, 0.0,  0.942332781466365, 6.63127910309276],\n",
       "[0.0, 0.0, 0.0,    0.480974120397294, 0.0,  0.383790595610437, 9.57979362991181],\n",
       "[0.0, 0.0, 0.0,    -1.77924416757993, 0.0,    0.8494324896741, 4.15619824914321],\n",
       "[0.0, 0.0, 0.0,     1.78605223644077, 0.0,   1.37983644814838, 8.99490232394393],\n",
       "[0.0, 0.0, 0.0,     1.02574457790047, 0.0, -0.158511745314234, 6.87179886265139],\n",
       "[0.0, 0.0, 0.0,    0.127215535595397, 0.0, -0.228446738058678, 6.96765645798978],\n",
       "[0.0, 0.0, 0.0,   -0.371231183104169, 0.0,  0.441158738099189, 5.26643830651001],\n",
       "[0.0, 0.0, 0.0,    0.608994529223195, 0.0, 0.0662491295982108, 6.06866555022119],\n",
       "[0.0, 0.0, 0.0,    0.816098136930472, 0.0,  0.760525307969174, 4.70822584881604],\n",
       "[0.0, 0.0, 0.0, -0.00573787648164679, 0.0, -0.228201883845225, 5.95927127197571],\n",
       "[0.0, 0.0, 0.0,    -1.53696455126905, 0.0, -0.421275378409689, 5.14529641396122],\n",
       "[0.0, 0.0, 0.0,    -1.05525127134524, 0.0,  -1.24283491787317,    6.37748531599],\n",
       "[0.0, 0.0, 0.0,    0.525288421618626, 0.0, -0.634214448897916, 5.15112225222348],\n",
       "[0.0, 0.0, 0.0,   -0.373008112560839, 0.0, 0.0195526685515701, 6.31125635981352],\n",
       "[0.0, 0.0, 0.0,    -1.90774080336602, 0.0,  0.100409152501714, 5.80117131105374],\n",
       "[0.0, 0.0, 0.0,   0.0773273460828451, 0.0,  0.118635310166271, 7.72800308253136],\n",
       "[0.0, 0.0, 0.0,      1.4353886663546, 0.0, -0.312597693510425,  7.1753824338709],\n",
       "[0.0, 0.0, 0.0,   0.0805150463747765, 0.0,  0.685277325266624, 8.15877228977574],\n",
       "[0.0, 0.0, 0.0,   -0.893076589884723, 0.0, -0.344251185948756, 5.14021932973054],\n",
       "[0.0, 0.0, 0.0,   -0.751126666929478, 0.0, -0.764004013029861, 9.07280515223133]])"
      ]
     },
     "execution_count": 29,
     "metadata": {},
     "output_type": "execute_result"
    }
   ],
   "source": [
    "import sympy as sp\n",
    "sp.Matrix(exp_data_all[0]['feature_selection']['C_mat'][1])"
   ]
  },
  {
   "cell_type": "code",
   "execution_count": 30,
   "metadata": {
    "ExecuteTime": {
     "end_time": "2021-10-05T00:05:01.792746Z",
     "start_time": "2021-10-05T00:05:01.261325Z"
    }
   },
   "outputs": [
    {
     "name": "stdout",
     "output_type": "stream",
     "text": [
      "(32, 7)\n",
      "(32, 7)\n"
     ]
    },
    {
     "data": {
      "image/png": "[encoded data removed]",
      "text/plain": [
       "<Figure size 576x864 with 6 Axes>"
      ]
     },
     "metadata": {
      "needs_background": "light"
     },
     "output_type": "display_data"
    }
   ],
   "source": [
    "import weights_linear_regression\n",
    "importlib.reload(weights_linear_regression)\n",
    "from weights_linear_regression import calc_a_history_of_matrix_L2norms_along_first_axis\n",
    "\n",
    "\n",
    "figure_weights_norm, axes_weights_norm = plt.subplots( NUM_EXP, N_TYPES_OF_NEURONS,\n",
    "    figsize = (N_TYPES_OF_NEURONS * GLOBAL_FIGURE_VERTICAL_SIZE, NUM_EXP * GLOBAL_FIGURE_VERTICAL_SIZE))\n",
    "\n",
    "C_mat_all = list()\n",
    "\n",
    "for j,e in enumerate(exp_conds):\n",
    "    \n",
    "    C_mat_list = exp_data_all[j]['feature_selection']['C_mat']\n",
    "    \n",
    "    updated_C_mat = np.array(C_mat_list)\n",
    "    the_history_of_KF_weights_in_time_by_neurons = calc_a_history_of_matrix_L2norms_along_first_axis(updated_C_mat, debug = False)\n",
    "\n",
    "    C_mat_all.append(np.copy(updated_C_mat))\n",
    "    axe_exp = axes_weights_norm[j,:]\n",
    "\n",
    "        \n",
    "C_mat_all = np.array(C_mat_all)"
   ]
  },
  {
   "cell_type": "code",
   "execution_count": 31,
   "metadata": {
    "ExecuteTime": {
     "end_time": "2021-10-05T00:05:01.796991Z",
     "start_time": "2021-10-05T00:05:01.793692Z"
    },
    "scrolled": true
   },
   "outputs": [
    {
     "ename": "SyntaxError",
     "evalue": "invalid syntax (<ipython-input-31-7f984e87388b>, line 18)",
     "output_type": "error",
     "traceback": [
      "\u001b[0;36m  File \u001b[0;32m\"<ipython-input-31-7f984e87388b>\"\u001b[0;36m, line \u001b[0;32m18\u001b[0m\n\u001b[0;31m    target_C = ,\u001b[0m\n\u001b[0m               ^\u001b[0m\n\u001b[0;31mSyntaxError\u001b[0m\u001b[0;31m:\u001b[0m invalid syntax\n"
     ]
    }
   ],
   "source": [
    "fig_compr_means, axes_compr_means = plt.subplots(1, N_TYPES_OF_NEURONS,\n",
    "                                                figsize = (GLOBAL_FIGURE_VERTICAL_SIZE * N_TYPES_OF_NEURONS,\n",
    "                                                          GLOBAL_FIGURE_VERTICAL_SIZE),\n",
    "                                                sharey = True)\n",
    "selected_feature_set = no_noise_neuron_list\n",
    "encoder_C\n",
    "\n",
    "\n",
    "\n",
    "for i,a in enumerate(axes_compr_means):\n",
    "\n",
    "    type_neuron_list = neuron_type_bool_list[i]\n",
    "    \n",
    "    for C in C_mat_all:\n",
    "\n",
    "\n",
    "        the_history_of_KF_weights_in_time_by_neurons = calc_a_history_of_matrix_L2norms_along_first_axis(C, \n",
    "                                                                                                         target_C = ,\n",
    "                                                                indices_to_sum=(X_VEL_STATE_IND, Y_VEL_STATE_IND))\n",
    "\n",
    "\n",
    "        selected_neurons = np.logical_and(selected_feature_set, type_neuron_list)\n",
    "\n",
    "        selected_mean = np.mean(the_history_of_KF_weights_in_time_by_neurons[:,selected_neurons], axis = 1)\n",
    "        std = np.std(the_history_of_KF_weights_in_time_by_neurons[:,selected_neurons], axis = 1)\n",
    "        \n",
    "        line = a.plot(selected_mean)\n",
    "        \n",
    "        x_data = np.arange((selected_mean).shape[0])\n",
    "        \n",
    "        \n",
    "        a.fill_between(x_data ,selected_mean - std, selected_mean + std, alpha = 0.1 )\n",
    "        a.legend(exp_conds)\n",
    "        \n",
    "handles, labels = a.get_legend_handles_labels()\n",
    "fig_compr_means.legend(handles, labels, loc='lower center')\n",
    "plt.show()\n",
    "    \n",
    "#axes_compr_means.set_title('Means of the high SNR weight trajectory')"
   ]
  }
 ],
 "metadata": {
  "kernelspec": {
   "display_name": "Python 3",
   "language": "python",
   "name": "python3"
  },
  "language_info": {
   "codemirror_mode": {
    "name": "ipython",
    "version": 3
   },
   "file_extension": ".py",
   "mimetype": "text/x-python",
   "name": "python",
   "nbconvert_exporter": "python",
   "pygments_lexer": "ipython3",
   "version": "3.8.10"
  },
  "toc": {
   "base_numbering": 1,
   "nav_menu": {},
   "number_sections": true,
   "sideBar": true,
   "skip_h1_title": false,
   "title_cell": "Table of Contents",
   "title_sidebar": "Contents",
   "toc_cell": false,
   "toc_position": {
    "height": "600.8px",
    "left": "35px",
    "top": "353.8px",
    "width": "312.06px"
   },
   "toc_section_display": true,
   "toc_window_display": true
  },
  "varInspector": {
   "cols": {
    "lenName": 16,
    "lenType": 16,
    "lenVar": 40
   },
   "kernels_config": {
    "python": {
     "delete_cmd_postfix": "",
     "delete_cmd_prefix": "del ",
     "library": "var_list.py",
     "varRefreshCmd": "print(var_dic_list())"
    },
    "r": {
     "delete_cmd_postfix": ") ",
     "delete_cmd_prefix": "rm(",
     "library": "var_list.r",
     "varRefreshCmd": "cat(var_dic_list()) "
    }
   },
   "types_to_exclude": [
    "module",
    "function",
    "builtin_function_or_method",
    "instance",
    "_Feature"
   ],
   "window_display": false
  }
 },
 "nbformat": 4,
 "nbformat_minor": 4
}
