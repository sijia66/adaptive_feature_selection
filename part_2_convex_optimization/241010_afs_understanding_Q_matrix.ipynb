{
 "cells": [
  {
   "cell_type": "code",
   "execution_count": 1,
   "metadata": {},
   "outputs": [],
   "source": [
    "import numpy as  np\n",
    "import sys\n",
    "import pprint"
   ]
  },
  {
   "cell_type": "markdown",
   "metadata": {},
   "source": [
    "# Case for independent measurements"
   ]
  },
  {
   "cell_type": "code",
   "execution_count": 2,
   "metadata": {},
   "outputs": [
    {
     "name": "stdout",
     "output_type": "stream",
     "text": [
      "array([[ 1.76405235,  0.40015721,  0.97873798],\n",
      "       [ 2.2408932 ,  1.86755799, -0.97727788],\n",
      "       [ 0.95008842, -0.15135721, -0.10321885],\n",
      "       [ 0.4105985 ,  0.14404357,  1.45427351],\n",
      "       [ 0.76103773,  0.12167502,  0.44386323],\n",
      "       [ 0.33367433,  1.49407907, -0.20515826],\n",
      "       [ 0.3130677 , -0.85409574, -2.55298982],\n",
      "       [ 0.6536186 ,  0.8644362 , -0.74216502],\n",
      "       [ 2.26975462, -1.45436567,  0.04575852],\n",
      "       [-0.18718385,  1.53277921,  1.46935877]])\n"
     ]
    }
   ],
   "source": [
    "np.random.seed(0)    \n",
    "mean = [0, 0, 0]\n",
    "cov = [[1, 0, 0], \n",
    "       [0, 1, 0],\n",
    "       [0, 0, 1]\n",
    "       ]  # diagonal covariance\n",
    "num_samples = 10 \n",
    "# Generate 1000 samples\n",
    "samples = np.random.multivariate_normal(mean, \n",
    "                                        cov, \n",
    "                                        num_samples)\n",
    "\n",
    "mean_est = np.mean(samples, axis=0)\n",
    "cov_est = np.cov(samples, rowvar=False)\n",
    "\n",
    "pprint.pp(samples)"
   ]
  },
  {
   "cell_type": "code",
   "execution_count": 3,
   "metadata": {},
   "outputs": [
    {
     "name": "stdout",
     "output_type": "stream",
     "text": [
      "Mean estimate:  [ 0.95096016  0.39649097 -0.01888178]\n",
      "Covariance estimate:  [[ 0.72933993 -0.18482682 -0.10788968]\n",
      " [-0.18482682  1.14532262  0.25984144]\n",
      " [-0.10788968  0.25984144  1.50041999]]\n",
      "Covariance difference:  [[ 0.27066007  0.18482682  0.10788968]\n",
      " [ 0.18482682 -0.14532262 -0.25984144]\n",
      " [ 0.10788968 -0.25984144 -0.50041999]]\n"
     ]
    }
   ],
   "source": [
    "cov_diff = cov - cov_est\n",
    "print(\"Mean estimate: \", mean_est)\n",
    "print(\"Covariance estimate: \", cov_est)\n",
    "print(\"Covariance difference: \", cov_diff)\n"
   ]
  },
  {
   "cell_type": "code",
   "execution_count": 4,
   "metadata": {},
   "outputs": [
    {
     "name": "stdout",
     "output_type": "stream",
     "text": [
      "Mean estimate:  [0.95096016 0.39649097]\n",
      "Covariance estimate:  [[ 0.72933993 -0.18482682]\n",
      " [-0.18482682  1.14532262]]\n"
     ]
    }
   ],
   "source": [
    "# now we remove columns\n",
    "selected_samples = samples[:, :2]\n",
    "\n",
    "# re estimate the mean and covariance\n",
    "mean_est_selected = np.mean(selected_samples, axis=0)\n",
    "cov_est_selected = np.cov(selected_samples, rowvar=False)\n",
    "\n",
    "print(\"Mean estimate: \", mean_est_selected)\n",
    "print(\"Covariance estimate: \", cov_est_selected)"
   ]
  },
  {
   "cell_type": "markdown",
   "metadata": {},
   "source": [
    "## If the measurements are correlated"
   ]
  },
  {
   "cell_type": "code",
   "execution_count": 5,
   "metadata": {},
   "outputs": [],
   "source": [
    "np.random.seed(1)  \n",
    "mean = [0, 0, 0]\n",
    "cov = [[1, 0.1, 0.1], \n",
    "       [0.1, 1, 0.1],\n",
    "       [0.1, 0.1, 1]\n",
    "       ]  # diagonal covariance\n",
    "num_samples = 1000 \n",
    "# Generate 1000 samples\n",
    "samples = np.random.multivariate_normal(mean, \n",
    "                                        cov, \n",
    "                                        num_samples)\n",
    "\n",
    "mean_est = np.mean(samples, axis=0)\n",
    "cov_est = np.cov(samples, rowvar=False)\n",
    "\n"
   ]
  },
  {
   "cell_type": "code",
   "execution_count": 6,
   "metadata": {},
   "outputs": [
    {
     "name": "stdout",
     "output_type": "stream",
     "text": [
      "Mean estimate:  [-0.00201796 -0.02486287 -0.01088437]\n",
      "Covariance estimate:  [[0.95622445 0.09198735 0.11412299]\n",
      " [0.09198735 0.95401337 0.06350824]\n",
      " [0.11412299 0.06350824 1.0571634 ]]\n",
      "Covariance difference:  [[ 0.27066007  0.18482682  0.10788968]\n",
      " [ 0.18482682 -0.14532262 -0.25984144]\n",
      " [ 0.10788968 -0.25984144 -0.50041999]]\n"
     ]
    }
   ],
   "source": [
    "print(\"Mean estimate: \", mean_est)\n",
    "print(\"Covariance estimate: \", cov_est)\n",
    "print(\"Covariance difference: \", cov_diff)\n"
   ]
  },
  {
   "cell_type": "code",
   "execution_count": 7,
   "metadata": {},
   "outputs": [
    {
     "name": "stdout",
     "output_type": "stream",
     "text": [
      "Mean estimate:  [-0.00201796 -0.02486287]\n",
      "Covariance estimate:  [[0.95622445 0.09198735]\n",
      " [0.09198735 0.95401337]]\n"
     ]
    }
   ],
   "source": [
    "# now we remove columns\n",
    "selected_samples = samples[:, :2]\n",
    "\n",
    "# re estimate the mean and covariance\n",
    "mean_est_selected = np.mean(selected_samples, axis=0)\n",
    "cov_est_selected = np.cov(selected_samples, rowvar=False)\n",
    "\n",
    "print(\"Mean estimate: \", mean_est_selected)\n",
    "print(\"Covariance estimate: \", cov_est_selected)"
   ]
  },
  {
   "cell_type": "markdown",
   "metadata": {},
   "source": [
    "what did I do? \n",
    "I created a multivariate distributions; sample some data points and calculate their covariance matrices across the distributions. \n",
    "\n",
    "this suggests that with a subset of features, you can estimate the submatrix out of the full matrix. Is this what we are doing? \n",
    "\n",
    "but we actually want to observe is how to estimate the measurement matrices"
   ]
  },
  {
   "cell_type": "markdown",
   "metadata": {},
   "source": [
    "## set up the observation matrix"
   ]
  },
  {
   "cell_type": "code",
   "execution_count": 247,
   "metadata": {},
   "outputs": [
    {
     "name": "stdout",
     "output_type": "stream",
     "text": [
      "samples:  (1000, 3)\n",
      "y:  (3, 1000)\n",
      "C:  [[1 1 1]\n",
      " [2 2 2]\n",
      " [3 3 3]]\n",
      "C_est:  [[1.02763249 1.075206   1.08803623]\n",
      " [2.00548362 2.00305926 1.9404042 ]\n",
      " [3.01378881 2.94580197 2.95554609]]\n",
      "Q:  [[ 1.   0.1  0.5]\n",
      " [ 0.1  1.   0.5]\n",
      " [ 0.5  0.5 10. ]]\n",
      "Q_est:  [[1.03329984 0.12240095 0.45200257]\n",
      " [0.12240095 0.9792542  0.53357649]\n",
      " [0.45200257 0.53357649 9.32942494]]\n"
     ]
    }
   ],
   "source": [
    "C = np.array([[1, 1, 1], \n",
    "              [2, 2, 2],\n",
    "              [3, 3, 3]\n",
    "              ])\n",
    "\n",
    "Q = np.array([[1, 0.1, 0.5], \n",
    "              [0.1, 1, 0.5],\n",
    "              [0.5, 0.5, 10]\n",
    "            ])\n",
    "\n",
    "y = C @ samples.T + np.random.multivariate_normal([0, 0, 0], \n",
    "                                                  Q, \n",
    "                                                  num_samples).T\n",
    "print(\"samples: \", samples.shape, )\n",
    "print(\"y: \", y.shape)\n",
    "\n",
    "C_est = np.linalg.lstsq(samples, \n",
    "                        y.T, \n",
    "                        rcond=None)[0].T\n",
    "\n",
    "Q_est = (y - C_est @ samples.T) \\\n",
    "        @ (y - C_est @ samples.T).T / num_samples\n",
    "\n",
    "\n",
    "print(\"C: \", C)\n",
    "print(\"C_est: \", C_est)\n",
    "\n",
    "print(\"Q: \", Q)\n",
    "print(\"Q_est: \", Q_est)"
   ]
  },
  {
   "cell_type": "markdown",
   "metadata": {},
   "source": [
    "here, we show that we can estimate the ground truth C and Q"
   ]
  },
  {
   "cell_type": "code",
   "execution_count": 248,
   "metadata": {},
   "outputs": [
    {
     "name": "stdout",
     "output_type": "stream",
     "text": [
      "C_est_selected:  [[1.02763249 1.075206   1.08803623]\n",
      " [2.00548362 2.00305926 1.9404042 ]]\n",
      "C_est_selected:  [[1.02763249 1.075206   1.08803623]\n",
      " [2.00548362 2.00305926 1.9404042 ]]\n",
      "Q_est_selected:  [[1.03329984 0.12240095]\n",
      " [0.12240095 0.9792542 ]]\n",
      "Q_est - Q_est_selected:  8.056580148817178\n",
      "\n",
      "|Q_sub - Q_est|:  0.0\n"
     ]
    }
   ],
   "source": [
    "# how would it change if we remove the last column\n",
    "y_selected = y[:2, :]\n",
    "\n",
    "selected_samples = samples\n",
    "\n",
    "C_est_selected = np.linalg.lstsq(selected_samples,\n",
    "                                    y_selected.T, \n",
    "                                    rcond=None)[0].T\n",
    "print(\"C_est_selected: \", C_est_selected)\n",
    "\n",
    "Q_est_selected = (y_selected - C_est_selected @ selected_samples.T) \\\n",
    "                    @ (y_selected - C_est_selected @ selected_samples.T).T / num_samples\n",
    "\n",
    "print(\"C_est_selected: \", C_est_selected)\n",
    "print(\"Q_est_selected: \", Q_est_selected)\n",
    "print(\"Q_est - Q_est_selected: \", np.linalg.norm(Q_est) - np.linalg.norm(Q_est_selected))\n",
    "print()\n",
    "print(\"|Q_sub - Q_est|: \", np.linalg.norm(Q_est[:2, :][:,:2]) - np.linalg.norm(Q_est_selected))\n"
   ]
  },
  {
   "cell_type": "markdown",
   "metadata": {},
   "source": [
    "so deleting a feature does not change the estimation of the observation matrix  \n",
    "\n"
   ]
  }
 ],
 "metadata": {
  "kernelspec": {
   "display_name": "sijia-feature-analysis",
   "language": "python",
   "name": "python3"
  },
  "language_info": {
   "codemirror_mode": {
    "name": "ipython",
    "version": 3
   },
   "file_extension": ".py",
   "mimetype": "text/x-python",
   "name": "python",
   "nbconvert_exporter": "python",
   "pygments_lexer": "ipython3",
   "version": "3.8.16"
  }
 },
 "nbformat": 4,
 "nbformat_minor": 2
}
