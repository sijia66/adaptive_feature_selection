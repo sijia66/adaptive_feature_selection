{
 "cells": [
  {
   "cell_type": "markdown",
   "metadata": {},
   "source": [
    "# Purposes of this document\n",
    "\n",
    "set up tracking linear weights tools\n",
    "\n",
    "the observation fit a\n",
    "\n",
    "firing_rates = C x states +  Q\n",
    "\n",
    "we need to track the weights change in C\n",
    "as well as how the goodness of the fit using"
   ]
  },
  {
   "cell_type": "markdown",
   "metadata": {},
   "source": [
    "# ideas"
   ]
  },
  {
   "cell_type": "markdown",
   "metadata": {},
   "source": []
  },
  {
   "cell_type": "markdown",
   "metadata": {},
   "source": [
    "# Experimental setup related to the questions\n",
    "\n",
    "this part should be configured to directly test the hypothesis put forward in the previous section\n"
   ]
  },
  {
   "cell_type": "code",
   "execution_count": 1,
   "metadata": {
    "ExecuteTime": {
     "end_time": "2021-03-17T17:23:23.995677Z",
     "start_time": "2021-03-17T17:23:23.412012Z"
    }
   },
   "outputs": [
    {
     "name": "stdout",
     "output_type": "stream",
     "text": [
      "features.simulation_features: get_enc_setup has a tuning_level of 1 \n",
      "\n",
      "examine the encoder weights distribution\n",
      "We expect the only the first four neurons carry information:\n",
      "[[ 0.  0.  0.  1.  0.  0.  0.]\n",
      " [ 0.  0.  0. -1.  0.  0.  0.]\n",
      " [ 0.  0.  0.  0.  0.  1.  0.]\n",
      " [ 0.  0.  0.  0.  0. -1.  0.]\n",
      " [ 0.  0.  0.  0.  0.  0.  0.]\n",
      " [ 0.  0.  0.  0.  0.  0.  0.]\n",
      " [ 0.  0.  0.  0.  0.  0.  0.]\n",
      " [ 0.  0.  0.  0.  0.  0.  0.]\n",
      " [ 0.  0.  0.  0.  0.  0.  0.]\n",
      " [ 0.  0.  0.  0.  0.  0.  0.]\n",
      " [ 0.  0.  0.  0.  0.  0.  0.]\n",
      " [ 0.  0.  0.  0.  0.  0.  0.]\n",
      " [ 0.  0.  0.  0.  0.  0.  0.]\n",
      " [ 0.  0.  0.  0.  0.  0.  0.]\n",
      " [ 0.  0.  0.  0.  0.  0.  0.]\n",
      " [ 0.  0.  0.  0.  0.  0.  0.]\n",
      " [ 0.  0.  0.  0.  0.  0.  0.]\n",
      " [ 0.  0.  0.  0.  0.  0.  0.]\n",
      " [ 0.  0.  0.  0.  0.  0.  0.]\n",
      " [ 0.  0.  0.  0.  0.  0.  0.]\n",
      " [ 0.  0.  0.  0.  0.  0.  0.]\n",
      " [ 0.  0.  0.  0.  0.  0.  0.]\n",
      " [ 0.  0.  0.  0.  0.  0.  0.]\n",
      " [ 0.  0.  0.  0.  0.  0.  0.]\n",
      " [ 0.  0.  0.  0.  0.  0.  0.]]\n"
     ]
    },
    {
     "name": "stderr",
     "output_type": "stream",
     "text": [
      "/home/sijia-aw/BMi3D_my/lab_bmi3d/riglib/blackrock/cerelink.py:13: UserWarning: Unable to import cerebus library. Check if is installed if using the Blackrock NeuroPort system\n",
      "  warnings.warn(\"Unable to import cerebus library. Check if is installed if using the Blackrock NeuroPort system\")\n"
     ]
    }
   ],
   "source": [
    "from features.simulation_features import get_enc_setup\n",
    "\n",
    "#neuron set up : 'std (20 neurons)' or 'toy (4 neurons)' \n",
    "N_NEURONS, N_STATES, sim_C = get_enc_setup(sim_mode = 'std')\n",
    "\n",
    "print('examine the encoder weights distribution')\n",
    "print('We expect the only the first four neurons carry information:')\n",
    "print(sim_C)"
   ]
  },
  {
   "cell_type": "code",
   "execution_count": 2,
   "metadata": {
    "ExecuteTime": {
     "end_time": "2021-03-17T17:23:23.999234Z",
     "start_time": "2021-03-17T17:23:23.996820Z"
    }
   },
   "outputs": [],
   "source": [
    "import numpy as np\n",
    "\n",
    "#encoder mean firing rate\n",
    "neuron_firing_rates  = [100, 100]\n",
    "\n",
    "#for comparision\n",
    "exp_conds = [f'enc. mean FR:{b} Hz' for b in neuron_firing_rates]\n",
    "\n",
    "\n",
    "#setting clda parameters \n",
    "##learner: collects paird data at batch_sizes\n",
    "RHO = 0.5\n",
    "batch_size = 50\n",
    "\n",
    "\n",
    "#assistor set up assist level\n",
    "assist_level = (0.05, 0.0)\n",
    "\n",
    "#learner and updater: actualy set up rho\n",
    "UPDATER_BATCH_TIME = 1\n",
    "UPDATER_HALF_LIFE = np.log(RHO)  * UPDATER_BATCH_TIME / np.log(0.5)\n"
   ]
  },
  {
   "cell_type": "code",
   "execution_count": 3,
   "metadata": {
    "ExecuteTime": {
     "end_time": "2021-03-17T17:23:24.011778Z",
     "start_time": "2021-03-17T17:23:24.000077Z"
    }
   },
   "outputs": [],
   "source": [
    "# CHANGE: game mechanics: generate task params\n",
    "N_TARGETS = 8\n",
    "N_TRIALS = 80\n",
    "\n",
    "NUM_EXP = len(exp_conds) # how many experiments we are running. "
   ]
  },
  {
   "cell_type": "markdown",
   "metadata": {},
   "source": [
    "# Config the experiments\n",
    "\n",
    "this section largely copyied and pasted from   \n",
    "bmi3d-sijia(branch)-bulti_in_experiemnts\n",
    "https://github.com/sijia66/brain-python-interface/blob/master/built_in_tasks/sim_task_KF.py"
   ]
  },
  {
   "cell_type": "markdown",
   "metadata": {},
   "source": [
    "## load dependant libraries"
   ]
  },
  {
   "cell_type": "code",
   "execution_count": 4,
   "metadata": {
    "ExecuteTime": {
     "end_time": "2021-03-17T17:23:24.436074Z",
     "start_time": "2021-03-17T17:23:24.012616Z"
    }
   },
   "outputs": [],
   "source": [
    "# import libraries\n",
    "# make sure these directories are in the python path., \n",
    "from bmimultitasks import SimBMIControlMulti, SimBMICosEncKFDec, BMIControlMultiNoWindow\n",
    "from features import SaveHDF\n",
    "from features.simulation_features import get_enc_setup, SimKFDecoderRandom, SimCosineTunedEnc,SimIntentionLQRController, SimClockTick\n",
    "from features.simulation_features import SimHDF, SimTime\n",
    "\n",
    "from riglib import experiment\n",
    "\n",
    "from riglib.stereo_opengl.window import FakeWindow\n",
    "from riglib.bmi import train\n",
    "\n",
    "from weights import calc_p_values_for_spike_batches_use_intended_kin\n",
    "from weights import calc_single_batch_p_values_by_fitting_kinematics_to_spike_counts\n",
    "import weights\n",
    "\n",
    "import time\n",
    "import copy\n",
    "import numpy as np\n",
    "import matplotlib.pyplot as plt\n",
    "import sympy as sp\n",
    "import itertools #for identical sequences\n",
    "\n",
    "np.set_printoptions(precision=2, suppress=True)\n"
   ]
  },
  {
   "cell_type": "markdown",
   "metadata": {},
   "source": [
    "##  behaviour and task setup"
   ]
  },
  {
   "cell_type": "code",
   "execution_count": 5,
   "metadata": {
    "ExecuteTime": {
     "end_time": "2021-03-17T17:23:24.440877Z",
     "start_time": "2021-03-17T17:23:24.438430Z"
    }
   },
   "outputs": [],
   "source": [
    "seq = SimBMIControlMulti.sim_target_seq_generator_multi(\n",
    "N_TARGETS, N_TRIALS)\n",
    "\n",
    "#create a second version of the tasks\n",
    "seqs = itertools.tee(seq, NUM_EXP + 1)\n",
    "target_seq = list(seqs[NUM_EXP])\n",
    "\n",
    "seqs = seqs[:NUM_EXP]\n",
    "\n",
    "\n",
    "SAVE_HDF = False\n",
    "SAVE_SIM_HDF = True #this makes the task data available as exp.task_data_hist\n",
    "DEBUG_FEATURE = False\n",
    "\n",
    "\n",
    "#base_class = SimBMIControlMulti\n",
    "base_class = BMIControlMultiNoWindow\n",
    "\n",
    "#for adding experimental features such as encoder, decoder\n",
    "feats = []"
   ]
  },
  {
   "cell_type": "markdown",
   "metadata": {},
   "source": [
    "## encoder\n",
    "\n",
    "the cosine tuned encoder uses a poisson process, right\n",
    "https://en.wikipedia.org/wiki/Poisson_distribution\n",
    "so if the lambda is 1, then it's very likely "
   ]
  },
  {
   "cell_type": "code",
   "execution_count": 6,
   "metadata": {
    "ExecuteTime": {
     "end_time": "2021-03-17T17:23:24.451040Z",
     "start_time": "2021-03-17T17:23:24.441704Z"
    }
   },
   "outputs": [
    {
     "name": "stdout",
     "output_type": "stream",
     "text": [
      "__main__: selected SimCosineTunedEnc\n",
      "\n"
     ]
    }
   ],
   "source": [
    "ENCODER_TYPE = 'cosine_tuned_encoder'\n",
    "\n",
    "\n",
    "\n",
    "#actually multiply out the firing rates. \n",
    "sim_C_all = [sim_C * nfr for nfr in neuron_firing_rates]\n",
    "\n",
    "\n",
    "#set up intention feedbackcontroller\n",
    "#this ideally set before the encoder\n",
    "feats.append(SimIntentionLQRController)\n",
    "\n",
    "#set up the encoder\n",
    "if ENCODER_TYPE == 'cosine_tuned_encoder' :\n",
    "    feats.append(SimCosineTunedEnc)\n",
    "    print(f'{__name__}: selected SimCosineTunedEnc\\n')"
   ]
  },
  {
   "cell_type": "markdown",
   "metadata": {},
   "source": [
    "## decoder setup"
   ]
  },
  {
   "cell_type": "code",
   "execution_count": 7,
   "metadata": {
    "ExecuteTime": {
     "end_time": "2021-03-17T17:23:24.463628Z",
     "start_time": "2021-03-17T17:23:24.451813Z"
    }
   },
   "outputs": [
    {
     "name": "stdout",
     "output_type": "stream",
     "text": [
      "__main__: set base class \n",
      "__main__: selected SimKFDecoderRandom \n",
      "\n"
     ]
    }
   ],
   "source": [
    "#clda on random \n",
    "DECODER_MODE = 'random' # random \n",
    "\n",
    "   #take care the decoder setup\n",
    "if DECODER_MODE == 'random':\n",
    "    feats.append(SimKFDecoderRandom)\n",
    "    print(f'{__name__}: set base class ')\n",
    "    print(f'{__name__}: selected SimKFDecoderRandom \\n')\n",
    "else: #defaul to a cosEnc and a pre-traind KF DEC\n",
    "    from features.simulation_features import SimKFDecoderSup\n",
    "    feats.append(SimKFDecoderSup)\n",
    "    print(f'{__name__}: set decoder to SimKFDecoderSup\\n')"
   ]
  },
  {
   "cell_type": "markdown",
   "metadata": {},
   "source": [
    "##  clda: learner and updater"
   ]
  },
  {
   "cell_type": "code",
   "execution_count": 8,
   "metadata": {
    "ExecuteTime": {
     "end_time": "2021-03-17T17:23:24.473210Z",
     "start_time": "2021-03-17T17:23:24.464520Z"
    }
   },
   "outputs": [],
   "source": [
    "\n",
    "\n",
    "LEARNER_TYPE = 'feedback' # to dumb or not dumb it is a question 'feedback'\n",
    "UPDATER_TYPE = 'smooth_batch' #none or \"smooth_batch\"\n",
    "\n",
    "\n",
    "#you know what? \n",
    "#learner only collects firing rates labeled with estimated estimates\n",
    "#we would also need to use the labeled data\n",
    "#now, we can set up a dumb/or not-dumb learner\n",
    "if LEARNER_TYPE == 'feedback':\n",
    "    from features.simulation_features import SimFeedbackLearner\n",
    "    feats.append(SimFeedbackLearner)\n",
    "else:\n",
    "    from features.simulation_features import SimDumbLearner\n",
    "    feats.append(SimDumbLearner)\n",
    "\n",
    "#to update the decoder.\n",
    "if UPDATER_TYPE == 'smooth_batch':\n",
    "    from features.simulation_features import SimSmoothBatch\n",
    "    feats.append(SimSmoothBatch)\n",
    "else: #defaut to none \n",
    "    print(f'{__name__}: need to specify an updater')\n",
    "    \n",
    "\n"
   ]
  },
  {
   "cell_type": "markdown",
   "metadata": {},
   "source": [
    "## assistor setup"
   ]
  },
  {
   "cell_type": "markdown",
   "metadata": {},
   "source": [
    "## (Check) config the experiment"
   ]
  },
  {
   "cell_type": "code",
   "execution_count": 9,
   "metadata": {
    "ExecuteTime": {
     "end_time": "2021-03-17T17:23:24.486676Z",
     "start_time": "2021-03-17T17:23:24.474113Z"
    }
   },
   "outputs": [
    {
     "data": {
      "text/plain": [
       "[{'assist_level': (0.05, 0.0),\n",
       "  'sim_C': array([[   0.,    0.,    0.,  100.,    0.,    0.,    0.],\n",
       "         [   0.,    0.,    0., -100.,    0.,    0.,    0.],\n",
       "         [   0.,    0.,    0.,    0.,    0.,  100.,    0.],\n",
       "         [   0.,    0.,    0.,    0.,    0., -100.,    0.],\n",
       "         [   0.,    0.,    0.,    0.,    0.,    0.,    0.],\n",
       "         [   0.,    0.,    0.,    0.,    0.,    0.,    0.],\n",
       "         [   0.,    0.,    0.,    0.,    0.,    0.,    0.],\n",
       "         [   0.,    0.,    0.,    0.,    0.,    0.,    0.],\n",
       "         [   0.,    0.,    0.,    0.,    0.,    0.,    0.],\n",
       "         [   0.,    0.,    0.,    0.,    0.,    0.,    0.],\n",
       "         [   0.,    0.,    0.,    0.,    0.,    0.,    0.],\n",
       "         [   0.,    0.,    0.,    0.,    0.,    0.,    0.],\n",
       "         [   0.,    0.,    0.,    0.,    0.,    0.,    0.],\n",
       "         [   0.,    0.,    0.,    0.,    0.,    0.,    0.],\n",
       "         [   0.,    0.,    0.,    0.,    0.,    0.,    0.],\n",
       "         [   0.,    0.,    0.,    0.,    0.,    0.,    0.],\n",
       "         [   0.,    0.,    0.,    0.,    0.,    0.,    0.],\n",
       "         [   0.,    0.,    0.,    0.,    0.,    0.,    0.],\n",
       "         [   0.,    0.,    0.,    0.,    0.,    0.,    0.],\n",
       "         [   0.,    0.,    0.,    0.,    0.,    0.,    0.],\n",
       "         [   0.,    0.,    0.,    0.,    0.,    0.,    0.],\n",
       "         [   0.,    0.,    0.,    0.,    0.,    0.,    0.],\n",
       "         [   0.,    0.,    0.,    0.,    0.,    0.,    0.],\n",
       "         [   0.,    0.,    0.,    0.,    0.,    0.,    0.],\n",
       "         [   0.,    0.,    0.,    0.,    0.,    0.,    0.]]),\n",
       "  'batch_size': 50,\n",
       "  'batch_time': 1,\n",
       "  'half_life': 1.0},\n",
       " {'assist_level': (0.05, 0.0),\n",
       "  'sim_C': array([[   0.,    0.,    0.,  100.,    0.,    0.,    0.],\n",
       "         [   0.,    0.,    0., -100.,    0.,    0.,    0.],\n",
       "         [   0.,    0.,    0.,    0.,    0.,  100.,    0.],\n",
       "         [   0.,    0.,    0.,    0.,    0., -100.,    0.],\n",
       "         [   0.,    0.,    0.,    0.,    0.,    0.,    0.],\n",
       "         [   0.,    0.,    0.,    0.,    0.,    0.,    0.],\n",
       "         [   0.,    0.,    0.,    0.,    0.,    0.,    0.],\n",
       "         [   0.,    0.,    0.,    0.,    0.,    0.,    0.],\n",
       "         [   0.,    0.,    0.,    0.,    0.,    0.,    0.],\n",
       "         [   0.,    0.,    0.,    0.,    0.,    0.,    0.],\n",
       "         [   0.,    0.,    0.,    0.,    0.,    0.,    0.],\n",
       "         [   0.,    0.,    0.,    0.,    0.,    0.,    0.],\n",
       "         [   0.,    0.,    0.,    0.,    0.,    0.,    0.],\n",
       "         [   0.,    0.,    0.,    0.,    0.,    0.,    0.],\n",
       "         [   0.,    0.,    0.,    0.,    0.,    0.,    0.],\n",
       "         [   0.,    0.,    0.,    0.,    0.,    0.,    0.],\n",
       "         [   0.,    0.,    0.,    0.,    0.,    0.,    0.],\n",
       "         [   0.,    0.,    0.,    0.,    0.,    0.,    0.],\n",
       "         [   0.,    0.,    0.,    0.,    0.,    0.,    0.],\n",
       "         [   0.,    0.,    0.,    0.,    0.,    0.,    0.],\n",
       "         [   0.,    0.,    0.,    0.,    0.,    0.,    0.],\n",
       "         [   0.,    0.,    0.,    0.,    0.,    0.,    0.],\n",
       "         [   0.,    0.,    0.,    0.,    0.,    0.,    0.],\n",
       "         [   0.,    0.,    0.,    0.,    0.,    0.,    0.],\n",
       "         [   0.,    0.,    0.,    0.,    0.,    0.,    0.]]),\n",
       "  'batch_size': 50,\n",
       "  'batch_time': 1,\n",
       "  'half_life': 1.0}]"
      ]
     },
     "execution_count": 9,
     "metadata": {},
     "output_type": "execute_result"
    }
   ],
   "source": [
    "if DEBUG_FEATURE: \n",
    "    from features.simulation_features import DebugFeature\n",
    "    feats.append(DebugFeature)\n",
    "    \n",
    "if SAVE_HDF: feats.append(SaveHDF)\n",
    "if SAVE_SIM_HDF: feats.append(SimHDF)\n",
    "    \n",
    "    \n",
    "#pass the real time limit on clock\n",
    "feats.append(SimClockTick)\n",
    "feats.append(SimTime)\n",
    "\n",
    "\n",
    "kwargs_exps = list()\n",
    "\n",
    "for i in range(NUM_EXP):\n",
    "    d = dict()\n",
    "    \n",
    "    d['assist_level'] = assist_level\n",
    "    d['sim_C'] = sim_C_all[i]\n",
    "    d['batch_size'] = batch_size\n",
    "    \n",
    "    d['batch_time'] = UPDATER_BATCH_TIME\n",
    "    d['half_life'] = UPDATER_HALF_LIFE\n",
    "    \n",
    "    kwargs_exps.append(d)\n",
    "\n",
    "\n",
    "kwargs_exps"
   ]
  },
  {
   "cell_type": "markdown",
   "metadata": {},
   "source": [
    "## make and initalize experiment instances"
   ]
  },
  {
   "cell_type": "code",
   "execution_count": 10,
   "metadata": {
    "ExecuteTime": {
     "end_time": "2021-03-17T17:23:24.520489Z",
     "start_time": "2021-03-17T17:23:24.487613Z"
    }
   },
   "outputs": [
    {
     "name": "stdout",
     "output_type": "stream",
     "text": [
      "metaclass constructor\n",
      "(<class 'features.simulation_features.SimIntentionLQRController'>, <class 'features.simulation_features.SimCosineTunedEnc'>, <class 'features.simulation_features.SimKFDecoderRandom'>, <class 'features.simulation_features.SimFeedbackLearner'>, <class 'features.simulation_features.SimSmoothBatch'>, <class 'features.simulation_features.SimHDF'>, <class 'features.simulation_features.SimClockTick'>, <class 'features.simulation_features.SimTime'>, <class 'bmimultitasks.BMIControlMultiNoWindow'>)\n",
      "[<class 'features.simulation_features.SimIntentionLQRController'>, <class 'features.simulation_features.SimCosineTunedEnc'>, <class 'features.simulation_features.SimKFDecoderRandom'>, <class 'features.simulation_features.SimFeedbackLearner'>, <class 'features.simulation_features.SimSmoothBatch'>, <class 'features.simulation_features.SimHDF'>, <class 'features.simulation_features.SimClockTick'>, <class 'features.simulation_features.SimTime'>]\n",
      "\n",
      "features.simulation_features.SimIntentionLQRController: LQRController used \n",
      "\n",
      "\n",
      " features.simulation_features.SimFeedbackLearner: start to create a sim leaner with a batchsize of 50\n",
      "features.simulation_features.SimSmoothBatch: rho in this simulation is  0.5\n",
      "\n",
      "finished executing Experiment.__init__\n",
      "\n",
      "features.simulation_features.SimIntentionLQRController: LQRController used \n",
      "\n",
      "\n",
      " features.simulation_features.SimFeedbackLearner: start to create a sim leaner with a batchsize of 50\n",
      "features.simulation_features.SimSmoothBatch: rho in this simulation is  0.5\n",
      "\n",
      "finished executing Experiment.__init__\n",
      "\n",
      "SimCosineTunedEnc SSM: State space: ['hand_px', 'hand_py', 'hand_pz', 'hand_vx', 'hand_vy', 'hand_vz', 'offset'] \n",
      "\n",
      "neural encoder init function  <BMIControlMultiNoWindow(Thread-4, initial)>\n",
      "features.simulation_features: added tracking of K matrix\n",
      "<bmimultitasks.SimpleEndpointAssister object at 0x7f22cfb8a8b0>\n",
      "features.simulation_features: batch size is 50\n",
      "Reset states for learner: \n",
      "[]\n",
      "Done states for learner: \n",
      "[]\n",
      "\n",
      "features.simulation_features.SimFeedbackLearner: flip the self.learn_flag to true\n",
      "features.simulation_features.SimFeedbackLearner: succussfully created a feedback controller learner\n",
      "\n",
      "\n",
      "SimSmoothBatch: created an updater with a batch time of 1 and a half_life of 1.0 \n",
      "\n",
      "\n",
      "SimCosineTunedEnc SSM: State space: ['hand_px', 'hand_py', 'hand_pz', 'hand_vx', 'hand_vy', 'hand_vz', 'offset'] \n",
      "\n",
      "neural encoder init function  <BMIControlMultiNoWindow(Thread-5, initial)>\n",
      "features.simulation_features: added tracking of K matrix\n",
      "<bmimultitasks.SimpleEndpointAssister object at 0x7f22cfbacbe0>\n",
      "features.simulation_features: batch size is 50\n",
      "Reset states for learner: \n",
      "[]\n",
      "Done states for learner: \n",
      "[]\n",
      "\n",
      "features.simulation_features.SimFeedbackLearner: flip the self.learn_flag to true\n",
      "features.simulation_features.SimFeedbackLearner: succussfully created a feedback controller learner\n",
      "\n",
      "\n",
      "SimSmoothBatch: created an updater with a batch time of 1 and a half_life of 1.0 \n",
      "\n"
     ]
    }
   ],
   "source": [
    "#seed the experiment\n",
    "np.random.seed(0)\n",
    "\n",
    "#spawn the task\n",
    "Exp = experiment.make(base_class, feats=feats)\n",
    "\n",
    "exps = list()#create a list of experiment\n",
    "\n",
    "for i,s in enumerate(seqs):\n",
    "    e = Exp(s, **kwargs_exps[i])\n",
    "    exps.append(e)\n",
    "\n",
    "#run the ini\n",
    "for e in exps: e.init()"
   ]
  },
  {
   "cell_type": "markdown",
   "metadata": {},
   "source": [
    "# Pre-experiment check: check the Kalman filter before training"
   ]
  },
  {
   "cell_type": "code",
   "execution_count": 11,
   "metadata": {
    "ExecuteTime": {
     "end_time": "2021-03-17T17:23:24.961206Z",
     "start_time": "2021-03-17T17:23:24.521483Z"
    }
   },
   "outputs": [
    {
     "name": "stdout",
     "output_type": "stream",
     "text": [
      "we replace the encoder using the weights\n",
      "assume, they are all randomly initialized get the first decoder\n",
      "get a handle to the first decoder\n",
      "we check the new decoder C matrix:\n"
     ]
    },
    {
     "data": {
      "image/png": "[encoded data removed]",
      "text/plain": [
       "<Figure size 864x288 with 2 Axes>"
      ]
     },
     "metadata": {
      "needs_background": "light"
     },
     "output_type": "display_data"
    }
   ],
   "source": [
    "print('we replace the encoder using the weights')\n",
    "print('assume, they are all randomly initialized get the first decoder')\n",
    "print('get a handle to the first decoder')\n",
    "first_decoder = exps[0].decoder\n",
    "target_C = first_decoder.filt.C\n",
    "    \n",
    "#replace the decoder\n",
    "for i,e in enumerate(exps):\n",
    "    weights.change_target_kalman_filter_with_a_C_mat(e.decoder.filt, target_C, debug=False)\n",
    "    \n",
    "print('we check the new decoder C matrix:')\n",
    "\n",
    "decoder_c_figure, axs = plt.subplots(nrows=1, \n",
    "                               ncols=NUM_EXP, figsize = [12,4])\n",
    "decoder_c_figure.suptitle('Decoder C matrix ')\n",
    "\n",
    "for i,e in enumerate(exps):\n",
    "    e.decoder.plot_C(ax = axs[i])\n",
    "    axs[i].set_title(exp_conds[i])"
   ]
  },
  {
   "cell_type": "markdown",
   "metadata": {},
   "source": [
    "# Experiment run: assemble into a complete loop"
   ]
  },
  {
   "cell_type": "markdown",
   "metadata": {},
   "source": [
    "##  define the function"
   ]
  },
  {
   "cell_type": "code",
   "execution_count": 12,
   "metadata": {
    "ExecuteTime": {
     "end_time": "2021-03-17T17:23:24.972082Z",
     "start_time": "2021-03-17T17:23:24.962202Z"
    },
    "scrolled": true
   },
   "outputs": [],
   "source": [
    "#make this into a loop\n",
    "\n",
    "def run_exp_loop(exp,  **kwargs):\n",
    "        # riglib.experiment: line 597 - 601\n",
    "    #exp.next_trial = next(exp.gen)\n",
    "    # -+exp._parse_next_trial()np.arraynp.array\n",
    "\n",
    "\n",
    "    # we need to set the initial state\n",
    "    # per fsm.run:  line 138\n",
    "\n",
    "\n",
    "    # Initialize the FSM before the loop\n",
    "    exp.set_state(exp.state)\n",
    "    \n",
    "    finished_trials = exp.calc_state_occurrences('wait')\n",
    "    print(f'finished: {finished_trials}')\n",
    "\n",
    "\n",
    "    while exp.state is not None:\n",
    "\n",
    "        # exp.fsm_tick()\n",
    "\n",
    "        ### Execute commands#####\n",
    "        exp.exec_state_specific_actions(exp.state)\n",
    "\n",
    "        ###run the bmi loop #####\n",
    "        # _cycle\n",
    "\n",
    "        # bmi feature extraction, eh\n",
    "        #riglib.bmi: 1202\n",
    "        feature_data = exp.get_features()\n",
    "\n",
    "        # Determine the target_state and save to file\n",
    "        current_assist_level = exp.get_current_assist_level()\n",
    "        target_state = exp.get_target_BMI_state(exp.decoder.states)\n",
    "\n",
    "        # Determine the assistive control inputs to the Decoder\n",
    "        #update assistive control level\n",
    "        exp.update_level()\n",
    "        if np.any(current_assist_level) > 0:\n",
    "            current_state = exp.get_current_state()\n",
    "\n",
    "            if target_state.shape[1] > 1:\n",
    "                assist_kwargs = exp.assister(current_state, \n",
    "                                             target_state[:,0].reshape(-1,1), \n",
    "                                             current_assist_level, mode= exp.state)\n",
    "            else:\n",
    "                assist_kwargs = exp.assister(current_state, \n",
    "                                              target_state, \n",
    "                                              current_assist_level, \n",
    "                                              mode= exp.state)\n",
    "\n",
    "            kwargs.update(assist_kwargs)\n",
    "            \n",
    "        \n",
    "\n",
    "        # decode the new features\n",
    "        # riglib.bmi.bmiloop: line 1245\n",
    "        neural_features = feature_data[exp.extractor.feature_type]\n",
    "\n",
    "        # call decoder.\n",
    "        #tmp = exp.call_decoder(neural_features, target_state, **kwargs)\n",
    "        neural_obs = neural_features\n",
    "        learn_flag = exp.learn_flag\n",
    "        task_state = exp.state\n",
    "\n",
    "        n_units, n_obs = neural_obs.shape\n",
    "        # If the target is specified as a 1D position, tile to match\n",
    "        # the number of dimensions as the neural features\n",
    "        if np.ndim(target_state) == 1 or (target_state.shape[1] == 1 and n_obs > 1):\n",
    "            target_state = np.tile(target_state, [1, n_obs])\n",
    "\n",
    "        decoded_states = np.zeros([exp.bmi_system.decoder.n_states, n_obs])\n",
    "        update_flag = False\n",
    "\n",
    "        for k in range(n_obs):\n",
    "            neural_obs_k = neural_obs[:, k].reshape(-1, 1)\n",
    "            target_state_k = target_state[:, k]\n",
    "\n",
    "            # NOTE: the conditional below is *only* for compatibility with older Carmena\n",
    "            # lab data collected using a different MATLAB-based system. In all python cases,\n",
    "            # the task_state should never contain NaN values.\n",
    "            if np.any(np.isnan(target_state_k)):\n",
    "                task_state = 'no_target'\n",
    "\n",
    "            #################################\n",
    "            # Decode the current observation\n",
    "            #################################\n",
    "            decodable_obs, decode = exp.bmi_system.feature_accumulator(\n",
    "                neural_obs_k)\n",
    "            if decode:  # if a new decodable observation is available from the feature accumulator\n",
    "                prev_state = exp.bmi_system.decoder.get_state()\n",
    "\n",
    "                exp.bmi_system.decoder(decodable_obs, **kwargs)\n",
    "                # Determine whether the current state or previous state should be given to the learner\n",
    "                if exp.bmi_system.learner.input_state_index == 0:\n",
    "                    learner_state = exp.bmi_system.decoder.get_state()\n",
    "                elif exp.bmi_system.learner.input_state_index == -1:\n",
    "                    learner_state = prev_state\n",
    "                else:\n",
    "                    print((\"Not implemented yet: %d\" %\n",
    "                           exp.bmi_system.learner.input_state_index))\n",
    "                    learner_state = prev_state\n",
    "\n",
    "                if learn_flag:\n",
    "                    exp.bmi_system.learner(decodable_obs.copy(), learner_state, target_state_k, exp.bmi_system.decoder.get_state(\n",
    "                    ), task_state, state_order=exp.bmi_system.decoder.ssm.state_order)\n",
    "\n",
    "            decoded_states[:, k] = exp.bmi_system.decoder.get_state()\n",
    "\n",
    "            ############################\n",
    "            # Update decoder parameters\n",
    "            ############################\n",
    "            if exp.bmi_system.learner.is_ready():\n",
    "                batch_data = exp.bmi_system.learner.get_batch()\n",
    "                batch_data['decoder'] = exp.bmi_system.decoder\n",
    "                kwargs.update(batch_data)\n",
    "                exp.bmi_system.updater(**kwargs)\n",
    "                exp.bmi_system.learner.disable()\n",
    "\n",
    "            new_params = None  # by default, no new parameters are available\n",
    "            if exp.bmi_system.has_updater:\n",
    "                new_params = copy.deepcopy(exp.bmi_system.updater.get_result())\n",
    "\n",
    "            # Update the decoder if new parameters are available\n",
    "            if not (new_params is None):\n",
    "                exp.bmi_system.decoder.update_params(\n",
    "                    new_params, **exp.bmi_system.updater.update_kwargs)\n",
    "                new_params['intended_kin'] = batch_data['intended_kin']\n",
    "                new_params['spike_counts_batch'] = batch_data['spike_counts']\n",
    "\n",
    "                exp.bmi_system.learner.enable()\n",
    "                update_flag = True\n",
    "\n",
    "                # Save new parameters to parameter history\n",
    "                exp.bmi_system.param_hist.append(new_params)\n",
    "\n",
    "\n",
    "\n",
    "        # saved as task data\n",
    "        # return decoded_states, update_flag\n",
    "        tmp = decoded_states\n",
    "        exp.task_data['internal_decoder_state'] = tmp\n",
    "\n",
    "        # reset the plant position\n",
    "        # @riglib.bmi.BMILoop.move_plant  line:1254\n",
    "        exp.plant.drive(exp.decoder)\n",
    "\n",
    "        # check state transitions and run the FSM.\n",
    "        current_state = exp.state\n",
    "\n",
    "        # iterate over the possible events which could move the task out of the current state\n",
    "        for event in exp.status[current_state]:\n",
    "            # if the event has occurred\n",
    "            if exp.test_state_transition_event(event):\n",
    "                # execute commands to end the current state\n",
    "                exp.end_state(current_state)\n",
    "\n",
    "                # trigger the transition for the event\n",
    "                exp.trigger_event(event)\n",
    "\n",
    "                # stop searching for transition events (transition events must be\n",
    "                # mutually exclusive for this FSM to function properly)\n",
    "                break\n",
    "\n",
    "        # sort out the loop params.\n",
    "        # inc cycle count\n",
    "        exp.cycle_count += 1\n",
    "\n",
    "        # save target data as was done in manualControlTasks._cycle\n",
    "        exp.task_data['target'] = exp.target_location.copy()\n",
    "        exp.task_data['target_index'] = exp.target_index\n",
    "\n",
    "        #done in bmi:_cycle after move_plant\n",
    "        exp.task_data['loop_time'] = exp.iter_time()\n",
    "\n",
    "\n",
    "        #fb_controller data\n",
    "        exp.task_data['target_state'] = target_state\n",
    "\n",
    "        #encoder data\n",
    "        #input to this is actually extractor\n",
    "        exp.task_data['ctrl_input'] = np.reshape(exp.extractor.sim_ctrl, (1,-1))\n",
    "\n",
    "        #actually output\n",
    "        exp.task_data['spike_counts'] = feature_data['spike_counts']\n",
    "\n",
    "\n",
    "        #save the decoder_state\n",
    "        #from BMILoop.move_plant\n",
    "        exp.task_data['decoder_state'] = exp.decoder.get_state(shape=(-1,1))\n",
    "        \n",
    "        #save bmi_data\n",
    "        exp.task_data['update_bmi'] = update_flag\n",
    "\n",
    "\n",
    "        # as well as plant data.\n",
    "        plant_data = exp.plant.get_data_to_save()\n",
    "        for key in plant_data:\n",
    "            exp.task_data[key] = plant_data[key]\n",
    "\n",
    "        # clda data handled in the above call.\n",
    "\n",
    "        # save to the list hisory of data.\n",
    "        exp.task_data_hist.append(exp.task_data.copy())\n",
    "        \n",
    "        #print out the trial update whenever wait count changes, alright. \n",
    "        if finished_trials != exp.calc_state_occurrences('wait'):\n",
    "            finished_trials = exp.calc_state_occurrences('wait')\n",
    "            print(f'finished trials :{finished_trials} with a current assist level of {exp.get_current_assist_level()}')\n",
    "\n",
    "\n",
    "    if exp.verbose:\n",
    "        print(\"end of FSM.run, task state is\", exp.state)\n",
    "    \n",
    "    \n"
   ]
  },
  {
   "cell_type": "markdown",
   "metadata": {},
   "source": [
    "## actually running the experiments"
   ]
  },
  {
   "cell_type": "code",
   "execution_count": 13,
   "metadata": {
    "ExecuteTime": {
     "end_time": "2021-03-17T17:23:36.295946Z",
     "start_time": "2021-03-17T17:23:24.972859Z"
    },
    "scrolled": true
   },
   "outputs": [
    {
     "name": "stdout",
     "output_type": "stream",
     "text": [
      "runseq\n",
      "finished: 1\n",
      "assist_level:  0.05\n",
      "finished trials :2 with a current assist level of 0.049375\n"
     ]
    },
    {
     "name": "stderr",
     "output_type": "stream",
     "text": [
      "/home/sijia-aw/BMi3D_my/lab_bmi3d/riglib/bmi/kfdecoder.py:372: FutureWarning: `rcond` parameter will change to the default of machine precision times ``max(M, N)`` where M and N are the input matrix dimensions.\n",
      "To use the future default and silence this warning we advise to pass `rcond=None`, to keep using the old, explicitly pass `rcond=-1`.\n",
      "  C = np.mat(np.linalg.lstsq(X.T, Y.T)[0].T)\n"
     ]
    },
    {
     "name": "stdout",
     "output_type": "stream",
     "text": [
      "finished trials :3 with a current assist level of 0.048823611111111116\n",
      "finished trials :4 with a current assist level of 0.04855555555555556\n",
      "finished trials :5 with a current assist level of 0.048322222222222225\n",
      "finished trials :6 with a current assist level of 0.048106944444444445\n",
      "finished trials :7 with a current assist level of 0.047822222222222224\n",
      "finished trials :8 with a current assist level of 0.04761388888888889\n",
      "finished trials :9 with a current assist level of 0.04738194444444445\n",
      "finished trials :10 with a current assist level of 0.04715833333333334\n",
      "finished trials :11 with a current assist level of 0.046950000000000006\n",
      "finished trials :12 with a current assist level of 0.04672361111111111\n",
      "finished trials :13 with a current assist level of 0.046498611111111116\n",
      "finished trials :14 with a current assist level of 0.046283333333333336\n",
      "finished trials :15 with a current assist level of 0.046047222222222225\n",
      "finished trials :16 with a current assist level of 0.04581666666666667\n",
      "finished trials :17 with a current assist level of 0.045575000000000004\n",
      "finished trials :18 with a current assist level of 0.045338888888888894\n",
      "finished trials :19 with a current assist level of 0.04514027777777778\n",
      "assist_level:  0.045\n",
      "finished trials :20 with a current assist level of 0.044922222222222224\n",
      "finished trials :21 with a current assist level of 0.04468194444444445\n",
      "finished trials :22 with a current assist level of 0.04443333333333334\n",
      "finished trials :23 with a current assist level of 0.044225\n",
      "finished trials :24 with a current assist level of 0.04400833333333334\n",
      "finished trials :25 with a current assist level of 0.04379166666666667\n",
      "finished trials :26 with a current assist level of 0.04356666666666667\n",
      "finished trials :27 with a current assist level of 0.04336388888888889\n",
      "finished trials :28 with a current assist level of 0.04315\n",
      "finished trials :29 with a current assist level of 0.042925000000000005\n",
      "finished trials :30 with a current assist level of 0.04269166666666667\n",
      "finished trials :31 with a current assist level of 0.042447222222222226\n",
      "finished trials :32 with a current assist level of 0.04223333333333333\n",
      "finished trials :33 with a current assist level of 0.04201666666666667\n",
      "finished trials :34 with a current assist level of 0.041800000000000004\n",
      "finished trials :35 with a current assist level of 0.04158333333333333\n",
      "finished trials :36 with a current assist level of 0.041363888888888894\n",
      "finished trials :37 with a current assist level of 0.041155555555555556\n",
      "finished trials :38 with a current assist level of 0.040947222222222225\n",
      "finished trials :39 with a current assist level of 0.04071527777777778\n",
      "finished trials :40 with a current assist level of 0.040488888888888894\n",
      "finished trials :41 with a current assist level of 0.04025\n",
      "assist_level:  0.04\n",
      "finished trials :42 with a current assist level of 0.04\n",
      "finished trials :43 with a current assist level of 0.03976666666666667\n",
      "finished trials :44 with a current assist level of 0.03954166666666667\n",
      "finished trials :45 with a current assist level of 0.03933333333333333\n",
      "finished trials :46 with a current assist level of 0.03911527777777778\n",
      "finished trials :47 with a current assist level of 0.03888333333333333\n",
      "finished trials :48 with a current assist level of 0.03863333333333334\n",
      "finished trials :49 with a current assist level of 0.03841388888888889\n",
      "finished trials :50 with a current assist level of 0.03819027777777778\n",
      "finished trials :51 with a current assist level of 0.037975\n",
      "finished trials :52 with a current assist level of 0.03764861111111111\n",
      "finished trials :53 with a current assist level of 0.03741388888888889\n",
      "finished trials :54 with a current assist level of 0.03714166666666667\n",
      "finished trials :55 with a current assist level of 0.036925\n",
      "finished trials :56 with a current assist level of 0.03669027777777778\n",
      "finished trials :57 with a current assist level of 0.036475\n",
      "finished trials :58 with a current assist level of 0.03626666666666667\n",
      "finished trials :59 with a current assist level of 0.03605833333333333\n",
      "finished trials :60 with a current assist level of 0.03583055555555556\n",
      "finished trials :61 with a current assist level of 0.03560694444444445\n",
      "finished trials :62 with a current assist level of 0.03539166666666667\n",
      "finished trials :63 with a current assist level of 0.03516388888888889\n",
      "assist_level:  0.035\n",
      "finished trials :64 with a current assist level of 0.03482361111111111\n",
      "finished trials :65 with a current assist level of 0.034633333333333335\n",
      "finished trials :66 with a current assist level of 0.034425000000000004\n",
      "finished trials :67 with a current assist level of 0.03419861111111111\n",
      "finished trials :68 with a current assist level of 0.033975000000000005\n",
      "finished trials :69 with a current assist level of 0.03374722222222222\n",
      "finished trials :70 with a current assist level of 0.033538888888888896\n",
      "finished trials :71 with a current assist level of 0.03332361111111111\n",
      "finished trials :72 with a current assist level of 0.03311527777777778\n",
      "finished trials :73 with a current assist level of 0.03289027777777778\n",
      "finished trials :74 with a current assist level of 0.032681944444444444\n",
      "finished trials :75 with a current assist level of 0.032481944444444445\n",
      "finished trials :76 with a current assist level of 0.03225833333333333\n",
      "finished trials :77 with a current assist level of 0.032065277777777776\n",
      "finished trials :78 with a current assist level of 0.03184166666666667\n",
      "finished trials :79 with a current assist level of 0.031615277777777784\n",
      "finished trials :80 with a current assist level of 0.03139027777777778\n",
      "finished trials :81 with a current assist level of 0.03116388888888889\n",
      "end of FSM.run, task state is None\n",
      "Finished running  enc. mean FR:100 Hz\n",
      "runseq\n",
      "finished: 1\n",
      "assist_level:  0.05\n",
      "finished trials :2 with a current assist level of 0.049350000000000005\n",
      "finished trials :3 with a current assist level of 0.04884166666666667\n",
      "finished trials :4 with a current assist level of 0.04855555555555556\n",
      "finished trials :5 with a current assist level of 0.04833055555555556\n",
      "finished trials :6 with a current assist level of 0.048113888888888894\n",
      "finished trials :7 with a current assist level of 0.04783055555555556\n",
      "finished trials :8 with a current assist level of 0.047606944444444445\n",
      "finished trials :9 with a current assist level of 0.04738194444444445\n",
      "finished trials :10 with a current assist level of 0.04715833333333334\n",
      "finished trials :11 with a current assist level of 0.046941666666666666\n",
      "finished trials :12 with a current assist level of 0.04671388888888889\n",
      "finished trials :13 with a current assist level of 0.046498611111111116\n",
      "finished trials :14 with a current assist level of 0.04624166666666667\n",
      "finished trials :15 with a current assist level of 0.045983333333333334\n",
      "finished trials :16 with a current assist level of 0.045748611111111115\n",
      "finished trials :17 with a current assist level of 0.04548194444444445\n",
      "finished trials :18 with a current assist level of 0.045248611111111114\n",
      "finished trials :19 with a current assist level of 0.045040277777777776\n",
      "assist_level:  0.045\n",
      "finished trials :20 with a current assist level of 0.044831944444444445\n",
      "finished trials :21 with a current assist level of 0.04461388888888889\n",
      "finished trials :22 with a current assist level of 0.04441666666666667\n",
      "finished trials :23 with a current assist level of 0.04419166666666667\n",
      "finished trials :24 with a current assist level of 0.043975\n",
      "finished trials :25 with a current assist level of 0.04376666666666667\n",
      "finished trials :26 with a current assist level of 0.04355833333333334\n",
      "finished trials :27 with a current assist level of 0.04336388888888889\n",
      "finished trials :28 with a current assist level of 0.04315\n",
      "finished trials :29 with a current assist level of 0.04293333333333334\n",
      "finished trials :30 with a current assist level of 0.042708333333333334\n",
      "finished trials :31 with a current assist level of 0.04248333333333333\n",
      "finished trials :32 with a current assist level of 0.04228055555555556\n",
      "finished trials :33 with a current assist level of 0.04206666666666667\n",
      "finished trials :34 with a current assist level of 0.04185833333333334\n",
      "finished trials :35 with a current assist level of 0.041633333333333335\n",
      "finished trials :36 with a current assist level of 0.04142361111111111\n"
     ]
    },
    {
     "name": "stdout",
     "output_type": "stream",
     "text": [
      "finished trials :37 with a current assist level of 0.041183333333333336\n",
      "finished trials :38 with a current assist level of 0.040975000000000004\n",
      "finished trials :39 with a current assist level of 0.040775000000000006\n",
      "finished trials :40 with a current assist level of 0.04054861111111111\n",
      "finished trials :41 with a current assist level of 0.04034027777777778\n",
      "finished trials :42 with a current assist level of 0.040100000000000004\n",
      "assist_level:  0.04\n",
      "finished trials :43 with a current assist level of 0.039875\n",
      "finished trials :44 with a current assist level of 0.039655555555555555\n",
      "finished trials :45 with a current assist level of 0.03944166666666667\n",
      "finished trials :46 with a current assist level of 0.039231944444444444\n",
      "finished trials :47 with a current assist level of 0.03900833333333333\n",
      "finished trials :48 with a current assist level of 0.038788888888888894\n",
      "finished trials :49 with a current assist level of 0.038580555555555555\n",
      "finished trials :50 with a current assist level of 0.038372222222222224\n",
      "finished trials :51 with a current assist level of 0.03816388888888889\n",
      "finished trials :52 with a current assist level of 0.03795555555555556\n",
      "finished trials :53 with a current assist level of 0.03773194444444444\n",
      "finished trials :54 with a current assist level of 0.03753888888888889\n",
      "finished trials :55 with a current assist level of 0.03732361111111111\n",
      "finished trials :56 with a current assist level of 0.03711527777777778\n",
      "finished trials :57 with a current assist level of 0.03690694444444445\n",
      "finished trials :58 with a current assist level of 0.03669861111111111\n",
      "finished trials :59 with a current assist level of 0.03648194444444445\n",
      "finished trials :60 with a current assist level of 0.03626666666666667\n",
      "finished trials :61 with a current assist level of 0.03605\n",
      "finished trials :62 with a current assist level of 0.03583055555555556\n",
      "finished trials :63 with a current assist level of 0.035633333333333336\n",
      "finished trials :64 with a current assist level of 0.03508055555555556\n",
      "assist_level:  0.035\n",
      "finished trials :65 with a current assist level of 0.03458055555555556\n",
      "finished trials :66 with a current assist level of 0.03430833333333333\n",
      "finished trials :67 with a current assist level of 0.03403194444444445\n",
      "finished trials :68 with a current assist level of 0.03374027777777778\n",
      "finished trials :69 with a current assist level of 0.03344027777777778\n",
      "finished trials :70 with a current assist level of 0.03318333333333333\n",
      "finished trials :71 with a current assist level of 0.03293333333333333\n",
      "finished trials :72 with a current assist level of 0.03272361111111111\n",
      "finished trials :73 with a current assist level of 0.03249027777777778\n",
      "finished trials :74 with a current assist level of 0.032273611111111114\n",
      "finished trials :75 with a current assist level of 0.03205694444444444\n",
      "finished trials :76 with a current assist level of 0.03184861111111111\n",
      "finished trials :77 with a current assist level of 0.031648611111111113\n",
      "finished trials :78 with a current assist level of 0.031425\n",
      "finished trials :79 with a current assist level of 0.03119861111111111\n",
      "finished trials :80 with a current assist level of 0.030981944444444447\n",
      "finished trials :81 with a current assist level of 0.030758333333333332\n",
      "end of FSM.run, task state is None\n",
      "Finished running  enc. mean FR:100 Hz\n"
     ]
    }
   ],
   "source": [
    "for i,e in enumerate(exps):\n",
    "    run_exp_loop(e, **kwargs_exps[i])\n",
    "    print(f'Finished running  {exp_conds[i]}')"
   ]
  },
  {
   "cell_type": "markdown",
   "metadata": {
    "ExecuteTime": {
     "end_time": "2021-01-25T01:00:26.027506Z",
     "start_time": "2021-01-25T01:00:26.024320Z"
    }
   },
   "source": [
    "# Postprocessing the data for loading"
   ]
  },
  {
   "cell_type": "code",
   "execution_count": 14,
   "metadata": {
    "ExecuteTime": {
     "end_time": "2021-03-17T17:23:36.298982Z",
     "start_time": "2021-03-17T17:23:36.296841Z"
    }
   },
   "outputs": [
    {
     "name": "stdout",
     "output_type": "stream",
     "text": [
      "80\n",
      "80\n"
     ]
    }
   ],
   "source": [
    "for e in  exps: print(e.calc_state_occurrences('reward'))"
   ]
  },
  {
   "cell_type": "markdown",
   "metadata": {},
   "source": [
    "## declare defs and conventions"
   ]
  },
  {
   "cell_type": "code",
   "execution_count": 15,
   "metadata": {
    "ExecuteTime": {
     "end_time": "2021-03-17T17:23:36.310816Z",
     "start_time": "2021-03-17T17:23:36.300778Z"
    }
   },
   "outputs": [],
   "source": [
    "FRAME_RATE = 60\n",
    "INT_WINDOW_TIME = 10 # s for looking at sample raw data\n",
    "\n",
    "# some conventions as we go down the loop\n",
    "X_VEL_STATE_IND = 3\n",
    "Y_VEL_STATE_IND = 5\n",
    "X_POS_STATE_IND = 0\n",
    "Y_POS_STATE_IND = 2\n",
    "\n",
    "state_indices = [X_POS_STATE_IND,\n",
    "                 Y_POS_STATE_IND,\n",
    "                 X_VEL_STATE_IND,\n",
    "                 Y_VEL_STATE_IND]\n",
    "state_names = ['x pos ', 'y pos', 'x vel', 'y vel']\n",
    "\n",
    "\n",
    "INT_WIN_SAMPLES = INT_WINDOW_TIME * FRAME_RATE\n",
    "\n"
   ]
  },
  {
   "cell_type": "markdown",
   "metadata": {},
   "source": [
    "## Refactor out the data"
   ]
  },
  {
   "cell_type": "code",
   "execution_count": 16,
   "metadata": {
    "ExecuteTime": {
     "end_time": "2021-03-17T17:23:36.359760Z",
     "start_time": "2021-03-17T17:23:36.312312Z"
    }
   },
   "outputs": [
    {
     "data": {
      "text/plain": [
       "dtype([('cursor', '<f8', (3,)), ('obs_t', '<f8', (25, 1)), ('K', '<f8', (7, 25)), ('KC', '<f8', (7, 7)), ('pred_state_mean', '<f8', (7, 1)), ('post_state_mean', '<f8', (7, 1)), ('pred_state_P', '<f8', (7, 7)), ('post_state_P', '<f8', (7, 7)), ('loop_time', '<f8', (1,)), ('decoder_state', '<f8', (7, 1)), ('internal_decoder_state', '<f8', (7, 1)), ('target_state', '<f8', (7, 1)), ('update_bmi', '<f8', (1,)), ('spike_counts', '<f8', (25, 1)), ('bin_edges', '<f8', (2,)), ('ctrl_input', '<f8', (7,)), ('assist_level', '<f8', (1,)), ('target', '<f8', (3,)), ('target_index', '<i4', (1,))])"
      ]
     },
     "execution_count": 16,
     "metadata": {},
     "output_type": "execute_result"
    }
   ],
   "source": [
    "task_data_hist_np_all = [np.array(e.task_data_hist) for e in exps]\n",
    "len(task_data_hist_np_all)\n",
    "task_data_hist_np_all[0].dtype"
   ]
  },
  {
   "cell_type": "markdown",
   "metadata": {},
   "source": [
    "## Finished time in seconds"
   ]
  },
  {
   "cell_type": "code",
   "execution_count": 17,
   "metadata": {
    "ExecuteTime": {
     "end_time": "2021-03-17T17:23:36.362786Z",
     "start_time": "2021-03-17T17:23:36.360555Z"
    }
   },
   "outputs": [
    {
     "data": {
      "text/plain": [
       "[226, 230]"
      ]
     },
     "execution_count": 17,
     "metadata": {},
     "output_type": "execute_result"
    }
   ],
   "source": [
    "finished_times_in_seconds = [int(len(s)/FRAME_RATE) for s in task_data_hist_np_all]\n",
    "finished_times_in_seconds"
   ]
  },
  {
   "cell_type": "markdown",
   "metadata": {},
   "source": [
    "# Post data analysis"
   ]
  },
  {
   "cell_type": "markdown",
   "metadata": {},
   "source": [
    "## Overall  trial statistics succuss rate)"
   ]
  },
  {
   "cell_type": "code",
   "execution_count": 18,
   "metadata": {
    "ExecuteTime": {
     "end_time": "2021-03-17T17:23:36.372229Z",
     "start_time": "2021-03-17T17:23:36.363513Z"
    }
   },
   "outputs": [],
   "source": [
    "def filter_state(state_log:list, state_to_match:str)->list:\n",
    "    '''#set axis limits of plot (x=0 to 20, y=0 to 20)\n",
    "plt.axis([0, 20, 0, 20])\n",
    "plt.axis(\"equal\")\n",
    "\n",
    "    state_log: a list of tuples (state:string, start_time: float)\n",
    "    state_to_watch\n",
    "    \n",
    "    returns a list of element type\n",
    "    '''\n",
    "    \n",
    "    return list(filter(lambda k: k[0] == state_to_match, state_log) )\n",
    "\n",
    "def calc_inter_wait_times(wait_log: list)-> list:\n",
    "    \"\"\"\n",
    "    state_log: a list of tuples (\"wait\", start_time: float)\n",
    "    return a list of tuples: (\"wait\", start_time: float, diff_time)\n",
    "    \"\"\"\n",
    "    wait_log_with_diff = list()\n",
    "    for i, wait_state in enumerate(wait_log):\n",
    "        if i == len(wait_log)-1: #there is nothing to subtract, just put zero.\n",
    "            wait_log_with_diff.append((wait_state[1],  0))\n",
    "            \n",
    "        else:\n",
    "            finish_time = wait_log[i+1][1]\n",
    "            wait_log_with_diff.append((wait_state[1],  finish_time - wait_state[1]))\n",
    "    \n",
    "    return np.array(wait_log_with_diff[:-1])"
   ]
  },
  {
   "cell_type": "code",
   "execution_count": 19,
   "metadata": {
    "ExecuteTime": {
     "end_time": "2021-03-17T17:23:36.381992Z",
     "start_time": "2021-03-17T17:23:36.373119Z"
    }
   },
   "outputs": [],
   "source": [
    "state_logs = [e.state_log for e in exps]\n"
   ]
  },
  {
   "cell_type": "code",
   "execution_count": 20,
   "metadata": {
    "ExecuteTime": {
     "end_time": "2021-03-17T17:23:36.396472Z",
     "start_time": "2021-03-17T17:23:36.383013Z"
    }
   },
   "outputs": [],
   "source": [
    "STATE_CUT_NAME =  'wait'\n",
    "#get the state logs\n",
    "wait_logs = [filter_state(s, STATE_CUT_NAME) for s in state_logs]\n",
    "\n",
    "inter_wait_times = [calc_inter_wait_times(w) for w in wait_logs]\n",
    "#this has both start times "
   ]
  },
  {
   "cell_type": "code",
   "execution_count": 21,
   "metadata": {
    "ExecuteTime": {
     "end_time": "2021-03-17T17:23:36.511541Z",
     "start_time": "2021-03-17T17:23:36.397305Z"
    },
    "scrolled": true
   },
   "outputs": [
    {
     "data": {
      "text/plain": [
       "Text(0, 0.5, 'Trial time (s)')"
      ]
     },
     "execution_count": 21,
     "metadata": {},
     "output_type": "execute_result"
    },
    {
     "data": {
      "image/png": "[encoded data removed]",
      "text/plain": [
       "<Figure size 432x288 with 1 Axes>"
      ]
     },
     "metadata": {
      "needs_background": "light"
     },
     "output_type": "display_data"
    }
   ],
   "source": [
    "\n",
    "\n",
    "for i in inter_wait_times:\n",
    "    plt.scatter(i[:,0], i[:,1])\n",
    "\n",
    "plt.legend(exp_conds)\n",
    "plt.xlabel('Training progression(s)')\n",
    "plt.ylabel('Trial time (s)')"
   ]
  },
  {
   "cell_type": "code",
   "execution_count": 22,
   "metadata": {
    "ExecuteTime": {
     "end_time": "2021-03-17T17:23:36.514078Z",
     "start_time": "2021-03-17T17:23:36.512438Z"
    }
   },
   "outputs": [],
   "source": [
    "wait_time = inter_wait_times[0]\n",
    "task_data_hist_np = task_data_hist_np_all[0]\n",
    "\n"
   ]
  },
  {
   "cell_type": "code",
   "execution_count": 23,
   "metadata": {
    "ExecuteTime": {
     "end_time": "2021-03-17T17:23:36.523855Z",
     "start_time": "2021-03-17T17:23:36.514841Z"
    }
   },
   "outputs": [],
   "source": [
    "def sort_trials(wait_time:list, \n",
    "                target_seq:list,\n",
    "                task_data_hist_np:dict, \n",
    "                dict_keys, FRAME_RATE = 60):\n",
    "    trial_dict = list()\n",
    "    \n",
    "    for i,row in enumerate(wait_time):\n",
    "        start_time = row[0]\n",
    "        inter_wait_time = row[1]\n",
    "\n",
    "        start_sample = int(start_time * FRAME_RATE)\n",
    "        inter_wait_sample = int(inter_wait_time * FRAME_RATE)\n",
    "        stop_sample = start_sample + inter_wait_sample\n",
    "\n",
    "        single_trial_dict = dict()\n",
    "\n",
    "        for k in dict_keys:\n",
    "            \n",
    "            requested_type_data = np.squeeze(task_data_hist_np[k])\n",
    "            single_trial_dict[k] =  requested_type_data[start_sample:stop_sample,\n",
    "                                                       :]\n",
    "        #add more info\n",
    "        single_trial_dict['start_time'] = row[0]\n",
    "        single_trial_dict['inter_wait_time'] = row[1]\n",
    "        \n",
    "        #add target info\n",
    "        single_trial_dict['targets'] = target_seq[i]\n",
    "\n",
    "        #add the dictionary to the list\n",
    "        trial_dict.append(single_trial_dict)\n",
    "        \n",
    "    return trial_dict\n",
    "\n"
   ]
  },
  {
   "cell_type": "code",
   "execution_count": 24,
   "metadata": {
    "ExecuteTime": {
     "end_time": "2021-03-17T17:23:36.535434Z",
     "start_time": "2021-03-17T17:23:36.524759Z"
    }
   },
   "outputs": [
    {
     "data": {
      "text/plain": [
       "2"
      ]
     },
     "execution_count": 24,
     "metadata": {},
     "output_type": "execute_result"
    }
   ],
   "source": [
    "\n",
    "\n",
    "trial_dicts_all = []\n",
    "dict_keys = ['cursor', #behaviour\n",
    "             'ctrl_input', 'spike_counts', #encoder translates intended ctrl into spike counts\n",
    "             'decoder_state']\n",
    "\n",
    "for i in range(NUM_EXP):\n",
    "    wait_time = inter_wait_times[i]\n",
    "    task_data_hist_np = task_data_hist_np_all[i]\n",
    "    \n",
    "    trial_dict_0 = sort_trials(wait_time, \n",
    "                               target_seq,\n",
    "                               task_data_hist_np, dict_keys)\n",
    "    \n",
    "    trial_dicts_all.append(trial_dict_0)\n",
    "\n",
    "len(trial_dicts_all)"
   ]
  },
  {
   "cell_type": "markdown",
   "metadata": {},
   "source": [
    "## Trajectory analysis"
   ]
  },
  {
   "cell_type": "code",
   "execution_count": 25,
   "metadata": {
    "ExecuteTime": {
     "end_time": "2021-03-17T17:23:36.637630Z",
     "start_time": "2021-03-17T17:23:36.536275Z"
    }
   },
   "outputs": [
    {
     "data": {
      "image/png": "[encoded data removed]",
      "text/plain": [
       "<Figure size 432x288 with 1 Axes>"
      ]
     },
     "metadata": {
      "needs_background": "light"
     },
     "output_type": "display_data"
    }
   ],
   "source": [
    "n_roi_trials = N_TRIALS - 1\n",
    "unique_targets =  np.unique(target_seq, axis = 0)\n",
    "\n",
    "\n",
    "X_CURSOR = 0\n",
    "Z_CURSOR = 2\n",
    "CIRCL_ALPHA = 0.2\n",
    "\n",
    "\n",
    "\n",
    "RANGE_LIM =  15\n",
    "figure, axes = plt.subplots() \n",
    "\n",
    "axes.set_xlim(-RANGE_LIM, RANGE_LIM)\n",
    "axes.set_ylim(-RANGE_LIM, RANGE_LIM)\n",
    "\n",
    "CIRCLE_RADIUS = exps[0].target_radius\n",
    "\n",
    "#plot the targets\n",
    "\n",
    "#plot the origin\n",
    "\n",
    "cc = plt.Circle((0,0 ), \n",
    "            radius = CIRCLE_RADIUS,\n",
    "            alpha = CIRCL_ALPHA)\n",
    "\n",
    "axes.add_artist( cc ) \n",
    "\n",
    "for origin_t in unique_targets:\n",
    "    origin = origin_t[0]\n",
    "    t = origin_t[1]\n",
    "\n",
    "    cc = plt.Circle((t[X_CURSOR],t[Z_CURSOR] ), \n",
    "                    radius = CIRCLE_RADIUS,\n",
    "                    alpha = CIRCL_ALPHA)\n",
    "                     \n",
    "    axes.set_aspect( 1 ) \n",
    "    axes.add_artist( cc ) \n",
    "    \n",
    "    \n",
    "for trial_dict in trial_dicts_all:\n",
    "    \n",
    "    sample_trial = trial_dict[n_roi_trials]\n",
    "    trial_cursor_trajectory = sample_trial['cursor']\n",
    "    \n",
    "    \n",
    "    axes.plot(trial_cursor_trajectory[:, X_CURSOR], \n",
    "             trial_cursor_trajectory[:, Z_CURSOR])\n",
    "\n"
   ]
  },
  {
   "cell_type": "code",
   "execution_count": 26,
   "metadata": {
    "ExecuteTime": {
     "end_time": "2021-03-17T17:23:36.640724Z",
     "start_time": "2021-03-17T17:23:36.638533Z"
    },
    "scrolled": true
   },
   "outputs": [
    {
     "name": "stdout",
     "output_type": "stream",
     "text": [
      "finished trials:\n",
      "enc. mean FR:100 Hz: 80 out of 80\n",
      "enc. mean FR:100 Hz: 80 out of 80\n"
     ]
    }
   ],
   "source": [
    "print('finished trials:')\n",
    "\n",
    "for i,e in  enumerate(exps): \n",
    "    reward_num = e.calc_state_occurrences('reward')\n",
    "    print(f'{exp_conds[i]}: {reward_num} out of {N_TRIALS}')"
   ]
  },
  {
   "cell_type": "markdown",
   "metadata": {},
   "source": [
    "## encoder\n",
    "\n",
    "the job of the encoder is to directly encode intention into firing rates\n",
    "the direct measure is just pearson correlation coefficients between \n",
    "the intentions and the firing rates"
   ]
  },
  {
   "cell_type": "code",
   "execution_count": 27,
   "metadata": {
    "ExecuteTime": {
     "end_time": "2021-03-17T17:23:36.650750Z",
     "start_time": "2021-03-17T17:23:36.641570Z"
    }
   },
   "outputs": [
    {
     "name": "stdout",
     "output_type": "stream",
     "text": [
      "the encoder observation Q matrix\n",
      "enc. mean FR:100 Hz\n",
      "7\n",
      "enc. mean FR:100 Hz\n",
      "7\n"
     ]
    }
   ],
   "source": [
    "print('the encoder observation Q matrix')\n",
    "for i,e in enumerate(exps):\n",
    "    print(exp_conds[i])\n",
    "    print(e.encoder.ssm.w)"
   ]
  },
  {
   "cell_type": "code",
   "execution_count": 28,
   "metadata": {
    "ExecuteTime": {
     "end_time": "2021-03-17T17:23:36.659998Z",
     "start_time": "2021-03-17T17:23:36.651554Z"
    }
   },
   "outputs": [],
   "source": [
    "n_exp = 0\n",
    "\n",
    "\n",
    "spike_count_sample = trial_dicts_all[n_exp][n_roi_trials]['spike_counts']"
   ]
  },
  {
   "cell_type": "markdown",
   "metadata": {},
   "source": [
    "## decoder"
   ]
  },
  {
   "cell_type": "code",
   "execution_count": 29,
   "metadata": {
    "ExecuteTime": {
     "end_time": "2021-03-17T17:23:37.033325Z",
     "start_time": "2021-03-17T17:23:36.660850Z"
    },
    "scrolled": false
   },
   "outputs": [
    {
     "name": "stdout",
     "output_type": "stream",
     "text": [
      "steady state tuning curves:\n"
     ]
    },
    {
     "data": {
      "text/plain": [
       "Text(0, -0.27999999999999997, 'CLDA rho 0.5')"
      ]
     },
     "execution_count": 29,
     "metadata": {},
     "output_type": "execute_result"
    },
    {
     "data": {
      "image/png": "[encoded data removed]",
      "text/plain": [
       "<Figure size 864x288 with 2 Axes>"
      ]
     },
     "metadata": {
      "needs_background": "light"
     },
     "output_type": "display_data"
    }
   ],
   "source": [
    "TEXT_OFFSET_VERTICAL = -0.2\n",
    "\n",
    "decoder_c_after,axs = plt.subplots(1, NUM_EXP,\n",
    "                                  figsize = (12,4))\n",
    "\n",
    "decoder_c_after.suptitle('C matrix after')\n",
    "\n",
    "print('steady state tuning curves:')\n",
    "for i,e in enumerate(exps):\n",
    "    e.decoder.plot_C(ax = axs[i])\n",
    "    axs[i].set_title(exp_conds[i])\n",
    "    \n",
    "    #get the lower left coordinate\n",
    "    y_lim_range  = axs[i].get_ylim()[1] - axs[i].get_ylim()[0]\n",
    "    \n",
    "    axs[i].text(0, TEXT_OFFSET_VERTICAL,\n",
    "                f'finished {N_TRIALS} trials in {finished_times_in_seconds[i]} s', \n",
    "               transform = axs[i].transAxes)\n",
    "\n",
    "decoder_c_after.text(0, 1.4 * TEXT_OFFSET_VERTICAL, \n",
    "                     f'CLDA rho {RHO}',\n",
    "                    transform = axs[0].transAxes)\n"
   ]
  },
  {
   "cell_type": "code",
   "execution_count": 30,
   "metadata": {
    "ExecuteTime": {
     "end_time": "2021-03-17T17:23:37.322235Z",
     "start_time": "2021-03-17T17:23:37.034108Z"
    }
   },
   "outputs": [
    {
     "data": {
      "image/png": "[encoded data removed]",
      "text/plain": [
       "<Figure size 864x288 with 2 Axes>"
      ]
     },
     "execution_count": 30,
     "metadata": {},
     "output_type": "execute_result"
    }
   ],
   "source": [
    "decoder_c_figure"
   ]
  },
  {
   "cell_type": "markdown",
   "metadata": {},
   "source": [
    "## compare before and after the training"
   ]
  },
  {
   "cell_type": "code",
   "execution_count": 31,
   "metadata": {
    "ExecuteTime": {
     "end_time": "2021-03-17T17:23:37.576903Z",
     "start_time": "2021-03-17T17:23:37.323089Z"
    }
   },
   "outputs": [
    {
     "data": {
      "image/png": "[encoded data removed]",
      "text/plain": [
       "<Figure size 864x288 with 4 Axes>"
      ]
     },
     "metadata": {
      "needs_background": "light"
     },
     "output_type": "display_data"
    }
   ],
   "source": [
    "\n",
    "\n",
    "N_ROWS = 2 #before and after \n",
    "FIGURE_SIZE_2_by_4 = (12,4)\n",
    "figure_compare_decoder_C_matrix,axs = plt.subplots(2,NUM_EXP, \n",
    "                                                   figsize = (12,4))\n",
    "\n",
    "for i in range(NUM_EXP):\n",
    "    axs[0, i] = decoder_c_figure.get_axes()[i]\n",
    "    axs[1, i] = decoder_c_after.get_axes()[i]\n",
    "    "
   ]
  },
  {
   "cell_type": "markdown",
   "metadata": {},
   "source": [
    "# CLDA updates"
   ]
  },
  {
   "cell_type": "markdown",
   "metadata": {},
   "source": [
    "## clda update frequencies"
   ]
  },
  {
   "cell_type": "code",
   "execution_count": 32,
   "metadata": {
    "ExecuteTime": {
     "end_time": "2021-03-17T17:23:37.579949Z",
     "start_time": "2021-03-17T17:23:37.577690Z"
    }
   },
   "outputs": [
    {
     "name": "stdout",
     "output_type": "stream",
     "text": [
      "did clda for 45 times\n",
      "did clda for 46 times\n"
     ]
    }
   ],
   "source": [
    "\n",
    "clda_params_all = [np.array(e.bmi_system.param_hist) for e in exps]\n",
    "\n",
    "for c in clda_params_all:\n",
    "    print(f'did clda for {len(c)} times')"
   ]
  },
  {
   "cell_type": "code",
   "execution_count": 33,
   "metadata": {
    "ExecuteTime": {
     "end_time": "2021-03-17T17:23:37.589688Z",
     "start_time": "2021-03-17T17:23:37.580758Z"
    }
   },
   "outputs": [],
   "source": [
    "update_bmi_all = np.squeeze(task_data_hist_np_all[0]['update_bmi'])"
   ]
  },
  {
   "cell_type": "code",
   "execution_count": 34,
   "metadata": {
    "ExecuteTime": {
     "end_time": "2021-03-17T17:23:37.689374Z",
     "start_time": "2021-03-17T17:23:37.590600Z"
    }
   },
   "outputs": [
    {
     "data": {
      "text/plain": [
       "Text(0.5, 0, 'frame count')"
      ]
     },
     "execution_count": 34,
     "metadata": {},
     "output_type": "execute_result"
    },
    {
     "data": {
      "image/png": "[encoded data removed]",
      "text/plain": [
       "<Figure size 432x288 with 1 Axes>"
      ]
     },
     "metadata": {
      "needs_background": "light"
     },
     "output_type": "display_data"
    }
   ],
   "source": [
    "plt.plot(update_bmi_all[:240])\n",
    "plt.xlabel('frame count')"
   ]
  },
  {
   "cell_type": "markdown",
   "metadata": {},
   "source": [
    "## reformat the matrix"
   ]
  },
  {
   "cell_type": "code",
   "execution_count": 35,
   "metadata": {
    "ExecuteTime": {
     "end_time": "2021-03-17T17:23:37.694231Z",
     "start_time": "2021-03-17T17:23:37.690148Z"
    }
   },
   "outputs": [
    {
     "data": {
      "text/plain": [
       "2"
      ]
     },
     "execution_count": 35,
     "metadata": {},
     "output_type": "execute_result"
    }
   ],
   "source": [
    "clda_params = clda_params_all[1]\n",
    "\n",
    "clda_params_dict_all = list()\n",
    "\n",
    "for p in clda_params_all:\n",
    "    clda_params_dict = dict()\n",
    "    for param_key in p[0].keys():\n",
    "        clda_params_dict[param_key] = np.array([ record_i[param_key] for record_i in p])\n",
    "    \n",
    "    clda_params_dict_all.append(clda_params_dict)\n",
    "\n",
    "\n",
    "len(clda_params_dict_all)"
   ]
  },
  {
   "cell_type": "markdown",
   "metadata": {},
   "source": [
    "## observation covariance matrix"
   ]
  },
  {
   "cell_type": "code",
   "execution_count": 36,
   "metadata": {
    "ExecuteTime": {
     "end_time": "2021-03-17T17:23:37.707992Z",
     "start_time": "2021-03-17T17:23:37.694942Z"
    }
   },
   "outputs": [
    {
     "name": "stdout",
     "output_type": "stream",
     "text": [
      "enc. mean FR:100 Hz\n",
      "[[31.19 -3.63 -2.75 -2.54  0.    0.    0.    0.    0.    0.    0.    0.\n",
      "   0.    0.    0.    0.    0.    0.    0.    0.    0.    0.    0.    0.\n",
      "   0.  ]\n",
      " [-3.63 50.78  1.26  0.02  0.    0.    0.    0.    0.    0.    0.    0.\n",
      "   0.    0.    0.    0.    0.    0.    0.    0.    0.    0.    0.    0.\n",
      "   0.  ]\n",
      " [-2.75  1.26 58.6  35.18  0.    0.    0.    0.    0.    0.    0.    0.\n",
      "   0.    0.    0.    0.    0.    0.    0.    0.    0.    0.    0.    0.\n",
      "   0.  ]\n",
      " [-2.54  0.02 35.18 40.43  0.    0.    0.    0.    0.    0.    0.    0.\n",
      "   0.    0.    0.    0.    0.    0.    0.    0.    0.    0.    0.    0.\n",
      "   0.  ]\n",
      " [ 0.    0.    0.    0.    2.5   0.    0.    0.    0.    0.    0.    0.\n",
      "   0.    0.    0.    0.    0.    0.    0.    0.    0.    0.    0.    0.\n",
      "   0.  ]\n",
      " [ 0.    0.    0.    0.    0.    2.5   0.    0.    0.    0.    0.    0.\n",
      "   0.    0.    0.    0.    0.    0.    0.    0.    0.    0.    0.    0.\n",
      "   0.  ]\n",
      " [ 0.    0.    0.    0.    0.    0.    2.5   0.    0.    0.    0.    0.\n",
      "   0.    0.    0.    0.    0.    0.    0.    0.    0.    0.    0.    0.\n",
      "   0.  ]\n",
      " [ 0.    0.    0.    0.    0.    0.    0.    2.5   0.    0.    0.    0.\n",
      "   0.    0.    0.    0.    0.    0.    0.    0.    0.    0.    0.    0.\n",
      "   0.  ]\n",
      " [ 0.    0.    0.    0.    0.    0.    0.    0.    2.5   0.    0.    0.\n",
      "   0.    0.    0.    0.    0.    0.    0.    0.    0.    0.    0.    0.\n",
      "   0.  ]\n",
      " [ 0.    0.    0.    0.    0.    0.    0.    0.    0.    2.5   0.    0.\n",
      "   0.    0.    0.    0.    0.    0.    0.    0.    0.    0.    0.    0.\n",
      "   0.  ]\n",
      " [ 0.    0.    0.    0.    0.    0.    0.    0.    0.    0.    2.5   0.\n",
      "   0.    0.    0.    0.    0.    0.    0.    0.    0.    0.    0.    0.\n",
      "   0.  ]\n",
      " [ 0.    0.    0.    0.    0.    0.    0.    0.    0.    0.    0.    2.5\n",
      "   0.    0.    0.    0.    0.    0.    0.    0.    0.    0.    0.    0.\n",
      "   0.  ]\n",
      " [ 0.    0.    0.    0.    0.    0.    0.    0.    0.    0.    0.    0.\n",
      "   2.5   0.    0.    0.    0.    0.    0.    0.    0.    0.    0.    0.\n",
      "   0.  ]\n",
      " [ 0.    0.    0.    0.    0.    0.    0.    0.    0.    0.    0.    0.\n",
      "   0.    2.5   0.    0.    0.    0.    0.    0.    0.    0.    0.    0.\n",
      "   0.  ]\n",
      " [ 0.    0.    0.    0.    0.    0.    0.    0.    0.    0.    0.    0.\n",
      "   0.    0.    2.5   0.    0.    0.    0.    0.    0.    0.    0.    0.\n",
      "   0.  ]\n",
      " [ 0.    0.    0.    0.    0.    0.    0.    0.    0.    0.    0.    0.\n",
      "   0.    0.    0.    2.5   0.    0.    0.    0.    0.    0.    0.    0.\n",
      "   0.  ]\n",
      " [ 0.    0.    0.    0.    0.    0.    0.    0.    0.    0.    0.    0.\n",
      "   0.    0.    0.    0.    2.5   0.    0.    0.    0.    0.    0.    0.\n",
      "   0.  ]\n",
      " [ 0.    0.    0.    0.    0.    0.    0.    0.    0.    0.    0.    0.\n",
      "   0.    0.    0.    0.    0.    2.5   0.    0.    0.    0.    0.    0.\n",
      "   0.  ]\n",
      " [ 0.    0.    0.    0.    0.    0.    0.    0.    0.    0.    0.    0.\n",
      "   0.    0.    0.    0.    0.    0.    2.5   0.    0.    0.    0.    0.\n",
      "   0.  ]\n",
      " [ 0.    0.    0.    0.    0.    0.    0.    0.    0.    0.    0.    0.\n",
      "   0.    0.    0.    0.    0.    0.    0.    2.5   0.    0.    0.    0.\n",
      "   0.  ]\n",
      " [ 0.    0.    0.    0.    0.    0.    0.    0.    0.    0.    0.    0.\n",
      "   0.    0.    0.    0.    0.    0.    0.    0.    2.5   0.    0.    0.\n",
      "   0.  ]\n",
      " [ 0.    0.    0.    0.    0.    0.    0.    0.    0.    0.    0.    0.\n",
      "   0.    0.    0.    0.    0.    0.    0.    0.    0.    2.5   0.    0.\n",
      "   0.  ]\n",
      " [ 0.    0.    0.    0.    0.    0.    0.    0.    0.    0.    0.    0.\n",
      "   0.    0.    0.    0.    0.    0.    0.    0.    0.    0.    2.5   0.\n",
      "   0.  ]\n",
      " [ 0.    0.    0.    0.    0.    0.    0.    0.    0.    0.    0.    0.\n",
      "   0.    0.    0.    0.    0.    0.    0.    0.    0.    0.    0.    2.5\n",
      "   0.  ]\n",
      " [ 0.    0.    0.    0.    0.    0.    0.    0.    0.    0.    0.    0.\n",
      "   0.    0.    0.    0.    0.    0.    0.    0.    0.    0.    0.    0.\n",
      "   2.5 ]]\n",
      "\n",
      "enc. mean FR:100 Hz\n",
      "[[51.66  5.23 -4.38 -1.16  0.    0.    0.    0.    0.    0.    0.    0.\n",
      "   0.    0.    0.    0.    0.    0.    0.    0.    0.    0.    0.    0.\n",
      "   0.  ]\n",
      " [ 5.23 54.96  3.79  1.33  0.    0.    0.    0.    0.    0.    0.    0.\n",
      "   0.    0.    0.    0.    0.    0.    0.    0.    0.    0.    0.    0.\n",
      "   0.  ]\n",
      " [-4.38  3.79 45.07 26.28  0.    0.    0.    0.    0.    0.    0.    0.\n",
      "   0.    0.    0.    0.    0.    0.    0.    0.    0.    0.    0.    0.\n",
      "   0.  ]\n",
      " [-1.16  1.33 26.28 34.16  0.    0.    0.    0.    0.    0.    0.    0.\n",
      "   0.    0.    0.    0.    0.    0.    0.    0.    0.    0.    0.    0.\n",
      "   0.  ]\n",
      " [ 0.    0.    0.    0.    2.5   0.    0.    0.    0.    0.    0.    0.\n",
      "   0.    0.    0.    0.    0.    0.    0.    0.    0.    0.    0.    0.\n",
      "   0.  ]\n",
      " [ 0.    0.    0.    0.    0.    2.5   0.    0.    0.    0.    0.    0.\n",
      "   0.    0.    0.    0.    0.    0.    0.    0.    0.    0.    0.    0.\n",
      "   0.  ]\n",
      " [ 0.    0.    0.    0.    0.    0.    2.5   0.    0.    0.    0.    0.\n",
      "   0.    0.    0.    0.    0.    0.    0.    0.    0.    0.    0.    0.\n",
      "   0.  ]\n",
      " [ 0.    0.    0.    0.    0.    0.    0.    2.5   0.    0.    0.    0.\n",
      "   0.    0.    0.    0.    0.    0.    0.    0.    0.    0.    0.    0.\n",
      "   0.  ]\n",
      " [ 0.    0.    0.    0.    0.    0.    0.    0.    2.5   0.    0.    0.\n",
      "   0.    0.    0.    0.    0.    0.    0.    0.    0.    0.    0.    0.\n",
      "   0.  ]\n",
      " [ 0.    0.    0.    0.    0.    0.    0.    0.    0.    2.5   0.    0.\n",
      "   0.    0.    0.    0.    0.    0.    0.    0.    0.    0.    0.    0.\n",
      "   0.  ]\n",
      " [ 0.    0.    0.    0.    0.    0.    0.    0.    0.    0.    2.5   0.\n",
      "   0.    0.    0.    0.    0.    0.    0.    0.    0.    0.    0.    0.\n",
      "   0.  ]\n",
      " [ 0.    0.    0.    0.    0.    0.    0.    0.    0.    0.    0.    2.5\n",
      "   0.    0.    0.    0.    0.    0.    0.    0.    0.    0.    0.    0.\n",
      "   0.  ]\n",
      " [ 0.    0.    0.    0.    0.    0.    0.    0.    0.    0.    0.    0.\n",
      "   2.5   0.    0.    0.    0.    0.    0.    0.    0.    0.    0.    0.\n",
      "   0.  ]\n",
      " [ 0.    0.    0.    0.    0.    0.    0.    0.    0.    0.    0.    0.\n",
      "   0.    2.5   0.    0.    0.    0.    0.    0.    0.    0.    0.    0.\n",
      "   0.  ]\n",
      " [ 0.    0.    0.    0.    0.    0.    0.    0.    0.    0.    0.    0.\n",
      "   0.    0.    2.5   0.    0.    0.    0.    0.    0.    0.    0.    0.\n",
      "   0.  ]\n",
      " [ 0.    0.    0.    0.    0.    0.    0.    0.    0.    0.    0.    0.\n",
      "   0.    0.    0.    2.5   0.    0.    0.    0.    0.    0.    0.    0.\n",
      "   0.  ]\n",
      " [ 0.    0.    0.    0.    0.    0.    0.    0.    0.    0.    0.    0.\n",
      "   0.    0.    0.    0.    2.5   0.    0.    0.    0.    0.    0.    0.\n",
      "   0.  ]\n",
      " [ 0.    0.    0.    0.    0.    0.    0.    0.    0.    0.    0.    0.\n",
      "   0.    0.    0.    0.    0.    2.5   0.    0.    0.    0.    0.    0.\n",
      "   0.  ]\n",
      " [ 0.    0.    0.    0.    0.    0.    0.    0.    0.    0.    0.    0.\n",
      "   0.    0.    0.    0.    0.    0.    2.5   0.    0.    0.    0.    0.\n",
      "   0.  ]\n",
      " [ 0.    0.    0.    0.    0.    0.    0.    0.    0.    0.    0.    0.\n",
      "   0.    0.    0.    0.    0.    0.    0.    2.5   0.    0.    0.    0.\n",
      "   0.  ]\n",
      " [ 0.    0.    0.    0.    0.    0.    0.    0.    0.    0.    0.    0.\n",
      "   0.    0.    0.    0.    0.    0.    0.    0.    2.5   0.    0.    0.\n",
      "   0.  ]\n",
      " [ 0.    0.    0.    0.    0.    0.    0.    0.    0.    0.    0.    0.\n",
      "   0.    0.    0.    0.    0.    0.    0.    0.    0.    2.5   0.    0.\n",
      "   0.  ]\n",
      " [ 0.    0.    0.    0.    0.    0.    0.    0.    0.    0.    0.    0.\n",
      "   0.    0.    0.    0.    0.    0.    0.    0.    0.    0.    2.5   0.\n",
      "   0.  ]\n",
      " [ 0.    0.    0.    0.    0.    0.    0.    0.    0.    0.    0.    0.\n",
      "   0.    0.    0.    0.    0.    0.    0.    0.    0.    0.    0.    2.5\n",
      "   0.  ]\n",
      " [ 0.    0.    0.    0.    0.    0.    0.    0.    0.    0.    0.    0.\n",
      "   0.    0.    0.    0.    0.    0.    0.    0.    0.    0.    0.    0.\n",
      "   2.5 ]]\n",
      "\n"
     ]
    }
   ],
   "source": [
    "n_sample = 1\n",
    "\n",
    "for i,c in enumerate(clda_params_dict_all):\n",
    "    print(exp_conds[i])\n",
    "    print(c['kf.Q'][n_sample,:,:])\n",
    "    print()"
   ]
  },
  {
   "cell_type": "markdown",
   "metadata": {},
   "source": [
    "## clda K matrix"
   ]
  },
  {
   "cell_type": "code",
   "execution_count": 37,
   "metadata": {
    "ExecuteTime": {
     "end_time": "2021-03-17T17:23:37.717544Z",
     "start_time": "2021-03-17T17:23:37.708832Z"
    }
   },
   "outputs": [],
   "source": [
    "kf_C = clda_params_dict['kf.C']"
   ]
  },
  {
   "cell_type": "code",
   "execution_count": 38,
   "metadata": {
    "ExecuteTime": {
     "end_time": "2021-03-17T17:23:37.729080Z",
     "start_time": "2021-03-17T17:23:37.718457Z"
    }
   },
   "outputs": [
    {
     "name": "stdout",
     "output_type": "stream",
     "text": [
      "K matrix before:\n",
      "[[ 0.    0.    0.    5.96  0.   -0.27 -1.06]\n",
      " [ 0.    0.    0.    0.04  0.    0.35  0.28]\n",
      " [ 0.    0.    0.    0.45  0.    3.96  0.73]\n",
      " [ 0.    0.    0.    2.15  0.    0.09 -1.32]\n",
      " [ 0.    0.    0.    0.19  0.   -0.99 -0.17]\n",
      " [ 0.    0.    0.   -0.19  0.   -0.52 -0.71]\n",
      " [ 0.    0.    0.   -0.22  0.    0.39 -0.81]\n",
      " [ 0.    0.    0.   -0.26  0.   -0.01  0.21]\n",
      " [ 0.    0.    0.   -0.18  0.   -0.18 -0.41]\n",
      " [ 0.    0.    0.   -0.82  0.   -0.45  0.03]\n",
      " [ 0.    0.    0.   -0.62  0.   -0.34 -0.44]\n",
      " [ 0.    0.    0.   -0.58  0.    0.23 -0.77]\n",
      " [ 0.    0.    0.   -0.09  0.    0.53 -0.2 ]\n",
      " [ 0.    0.    0.    0.18  0.    0.01  0.89]\n",
      " [ 0.    0.    0.   -0.67  0.    0.48 -0.59]\n",
      " [ 0.    0.    0.    0.96  0.    0.93  0.45]\n",
      " [ 0.    0.    0.    0.4   0.   -0.08  0.31]\n",
      " [ 0.    0.    0.    0.15  0.   -0.35 -0.07]\n",
      " [ 0.    0.    0.    0.2   0.    0.27 -0.34]\n",
      " [ 0.    0.    0.    0.29  0.    0.2  -0.55]\n",
      " [ 0.    0.    0.    0.32  0.    0.47 -0.46]\n",
      " [ 0.    0.    0.   -0.03  0.   -0.37 -0.41]\n",
      " [ 0.    0.    0.   -0.54  0.   -0.22 -0.25]\n",
      " [ 0.    0.    0.   -0.61  0.   -0.5  -0.77]\n",
      " [ 0.    0.    0.    0.16  0.   -0.33 -0.52]]\n",
      "K matrix after:\n",
      "[[ 0.    0.    0.    4.41  0.   -0.22 16.89]\n",
      " [ 0.    0.    0.   -4.92  0.   -0.05 17.52]\n",
      " [ 0.    0.    0.    0.79  0.    4.16 18.15]\n",
      " [ 0.    0.    0.    0.7   0.   -5.43 16.72]\n",
      " [ 0.    0.    0.    0.    0.   -0.   -0.  ]\n",
      " [ 0.    0.    0.   -0.    0.   -0.   -0.  ]\n",
      " [ 0.    0.    0.   -0.    0.    0.   -0.  ]\n",
      " [ 0.    0.    0.   -0.    0.   -0.    0.  ]\n",
      " [ 0.    0.    0.   -0.    0.   -0.   -0.  ]\n",
      " [ 0.    0.    0.   -0.    0.   -0.    0.  ]\n",
      " [ 0.    0.    0.   -0.    0.   -0.   -0.  ]\n",
      " [ 0.    0.    0.   -0.    0.    0.   -0.  ]\n",
      " [ 0.    0.    0.   -0.    0.    0.   -0.  ]\n",
      " [ 0.    0.    0.    0.    0.    0.    0.  ]\n",
      " [ 0.    0.    0.   -0.    0.    0.   -0.  ]\n",
      " [ 0.    0.    0.    0.    0.    0.    0.  ]\n",
      " [ 0.    0.    0.    0.    0.   -0.    0.  ]\n",
      " [ 0.    0.    0.    0.    0.   -0.   -0.  ]\n",
      " [ 0.    0.    0.    0.    0.    0.   -0.  ]\n",
      " [ 0.    0.    0.    0.    0.    0.   -0.  ]\n",
      " [ 0.    0.    0.    0.    0.    0.   -0.  ]\n",
      " [ 0.    0.    0.   -0.    0.   -0.   -0.  ]\n",
      " [ 0.    0.    0.   -0.    0.   -0.   -0.  ]\n",
      " [ 0.    0.    0.   -0.    0.   -0.   -0.  ]\n",
      " [ 0.    0.    0.    0.    0.   -0.   -0.  ]]\n"
     ]
    }
   ],
   "source": [
    "print('K matrix before:')\n",
    "print(kf_C[0,:,:])\n",
    "print('K matrix after:')\n",
    "print(kf_C[-1,:,:])"
   ]
  },
  {
   "cell_type": "code",
   "execution_count": 39,
   "metadata": {
    "ExecuteTime": {
     "end_time": "2021-03-17T17:23:39.827644Z",
     "start_time": "2021-03-17T17:23:37.729858Z"
    }
   },
   "outputs": [
    {
     "data": {
      "image/png": "[encoded data removed]",
      "text/plain": [
       "<Figure size 1152x288 with 25 Axes>"
      ]
     },
     "metadata": {
      "needs_background": "light"
     },
     "output_type": "display_data"
    }
   ],
   "source": [
    "N_CLDA_ROI_TIME = 800\n",
    "\n",
    "FIGURE_SIZE = (2,10)\n",
    "\n",
    "N_NEURONS\n",
    "\n",
    "f, axs = plt.subplots(1,N_NEURONS,figsize=(16,4))\n",
    "\n",
    "for i in range(N_NEURONS):\n",
    "    axs[i].plot(np.squeeze(kf_C[:N_CLDA_ROI_TIME,i, X_VEL_STATE_IND]))\n",
    "    axs[i].plot(np.squeeze(kf_C[:N_CLDA_ROI_TIME,i, Y_VEL_STATE_IND]))\n",
    "    axs[i].legend(['x vel', 'y_vel'])\n",
    "    axs[i].set_title(f'neuron {i} ')\n",
    "    axs[i].set_xlabel('clda update count ')\n",
    "    axs[i].set_ylabel('Decoder weight value')\n",
    "\n"
   ]
  },
  {
   "cell_type": "code",
   "execution_count": 40,
   "metadata": {
    "ExecuteTime": {
     "end_time": "2021-03-17T17:23:39.831676Z",
     "start_time": "2021-03-17T17:23:39.828609Z"
    }
   },
   "outputs": [
    {
     "data": {
      "text/plain": [
       "array([[   0.,    0.,    0.,  100.,    0.,    0.,    0.],\n",
       "       [   0.,    0.,    0., -100.,    0.,    0.,    0.],\n",
       "       [   0.,    0.,    0.,    0.,    0.,  100.,    0.],\n",
       "       [   0.,    0.,    0.,    0.,    0., -100.,    0.],\n",
       "       [   0.,    0.,    0.,    0.,    0.,    0.,    0.],\n",
       "       [   0.,    0.,    0.,    0.,    0.,    0.,    0.],\n",
       "       [   0.,    0.,    0.,    0.,    0.,    0.,    0.],\n",
       "       [   0.,    0.,    0.,    0.,    0.,    0.,    0.],\n",
       "       [   0.,    0.,    0.,    0.,    0.,    0.,    0.],\n",
       "       [   0.,    0.,    0.,    0.,    0.,    0.,    0.],\n",
       "       [   0.,    0.,    0.,    0.,    0.,    0.,    0.],\n",
       "       [   0.,    0.,    0.,    0.,    0.,    0.,    0.],\n",
       "       [   0.,    0.,    0.,    0.,    0.,    0.,    0.],\n",
       "       [   0.,    0.,    0.,    0.,    0.,    0.,    0.],\n",
       "       [   0.,    0.,    0.,    0.,    0.,    0.,    0.],\n",
       "       [   0.,    0.,    0.,    0.,    0.,    0.,    0.],\n",
       "       [   0.,    0.,    0.,    0.,    0.,    0.,    0.],\n",
       "       [   0.,    0.,    0.,    0.,    0.,    0.,    0.],\n",
       "       [   0.,    0.,    0.,    0.,    0.,    0.,    0.],\n",
       "       [   0.,    0.,    0.,    0.,    0.,    0.,    0.],\n",
       "       [   0.,    0.,    0.,    0.,    0.,    0.,    0.],\n",
       "       [   0.,    0.,    0.,    0.,    0.,    0.,    0.],\n",
       "       [   0.,    0.,    0.,    0.,    0.,    0.,    0.],\n",
       "       [   0.,    0.,    0.,    0.,    0.,    0.,    0.],\n",
       "       [   0.,    0.,    0.,    0.,    0.,    0.,    0.]])"
      ]
     },
     "execution_count": 40,
     "metadata": {},
     "output_type": "execute_result"
    }
   ],
   "source": [
    "exps[0].encoder.C"
   ]
  },
  {
   "cell_type": "markdown",
   "metadata": {},
   "source": [
    "## examine training batches"
   ]
  },
  {
   "cell_type": "code",
   "execution_count": 41,
   "metadata": {
    "ExecuteTime": {
     "end_time": "2021-03-17T17:23:39.843078Z",
     "start_time": "2021-03-17T17:23:39.832671Z"
    }
   },
   "outputs": [],
   "source": [
    "spike_counts_batch = clda_params_dict['spike_counts_batch'] \n",
    "intended_kin = clda_params_dict['intended_kin']"
   ]
  },
  {
   "cell_type": "code",
   "execution_count": 42,
   "metadata": {
    "ExecuteTime": {
     "end_time": "2021-03-17T17:23:39.856302Z",
     "start_time": "2021-03-17T17:23:39.843970Z"
    }
   },
   "outputs": [
    {
     "name": "stdout",
     "output_type": "stream",
     "text": [
      "intended kinematics:\n",
      "[[ 7.46  7.14  6.73  6.35  5.94  5.6   5.24  4.94  4.56  4.24  3.93  3.55\n",
      "   3.19  2.86  2.48  2.16  1.89  1.64  1.36  1.11  0.92  0.75  0.63  0.8\n",
      "   1.07  1.43  1.72  1.96  2.31  2.65  2.98  3.29  3.61  3.89  4.22  4.48\n",
      "   4.63  4.72  4.8   4.89  4.92  4.77  4.73  4.7   4.59  4.49  4.31  4.09\n",
      "   3.84  3.63]\n",
      " [ 0.    0.    0.    0.    0.    0.    0.    0.    0.    0.    0.    0.\n",
      "   0.    0.    0.    0.    0.    0.    0.    0.    0.    0.    0.    0.\n",
      "   0.    0.    0.    0.    0.    0.    0.    0.    0.    0.    0.    0.\n",
      "   0.    0.    0.    0.    0.    0.    0.    0.    0.    0.    0.    0.\n",
      "   0.    0.  ]\n",
      " [ 3.45  3.1   2.58  1.93  1.45  0.88  0.44  0.02 -0.22 -0.35 -0.42 -0.46\n",
      "  -0.48 -0.49 -0.51 -0.47 -0.46 -0.41 -0.42 -0.44 -0.43 -0.39 -0.31  0.37\n",
      "   1.46  2.6   3.7   4.58  5.24  5.61  5.91  6.1   6.12  6.11  6.01  5.93\n",
      "   5.87  5.8   5.77  5.75  5.67  5.08  4.21  3.43  2.68  2.    1.46  0.99\n",
      "   0.59  0.22]\n",
      " [-5.76 -7.72 -8.06 -7.66 -7.46 -6.8  -6.56 -6.   -6.06 -5.5  -5.12 -5.16\n",
      "  -4.82 -4.34 -4.31 -3.68 -3.2  -2.8  -2.72 -2.38 -1.88  3.22  3.47  4.97\n",
      "   5.43  5.65  5.1   4.57  4.79  4.55  4.18  3.78  3.54  3.13  3.09  2.49\n",
      "   1.82  1.29  1.2  -3.73 -3.97 -4.78 -4.29 -4.18 -4.49 -4.37 -4.59 -4.71\n",
      "  -4.69 -4.28]\n",
      " [ 0.    0.    0.    0.    0.    0.    0.    0.    0.    0.    0.    0.\n",
      "   0.    0.    0.    0.    0.    0.    0.    0.    0.    0.    0.    0.\n",
      "   0.    0.    0.    0.    0.    0.    0.    0.    0.    0.    0.    0.\n",
      "   0.    0.    0.    0.    0.    0.    0.    0.    0.    0.    0.    0.\n",
      "   0.    0.  ]\n",
      " [-2.16 -4.5  -5.26 -5.53 -4.26 -4.15 -3.1  -2.6  -1.36 -0.6  -0.07  0.1\n",
      "   0.27  0.32  0.29  0.58  0.48  0.59  0.26  0.27  0.38  5.41  5.5   8.27\n",
      "  10.01  9.48  8.35  6.39  4.46  2.43  1.62  0.83 -0.14 -0.44 -0.8  -0.7\n",
      "  -0.55 -0.53 -0.3  -5.08 -5.21 -7.67 -8.65 -7.67 -6.85 -5.86 -4.6  -3.71\n",
      "  -2.97 -2.43]\n",
      " [ 1.    1.    1.    1.    1.    1.    1.    1.    1.    1.    1.    1.\n",
      "   1.    1.    1.    1.    1.    1.    1.    1.    1.    1.    1.    1.\n",
      "   1.    1.    1.    1.    1.    1.    1.    1.    1.    1.    1.    1.\n",
      "   1.    1.    1.    1.    1.    1.    1.    1.    1.    1.    1.    1.\n",
      "   1.    1.  ]]\n",
      "spike counts:\n",
      "[[ 0.  0.  0. ...  0.  0.  0.]\n",
      " [57. 84. 87. ... 50. 40. 41.]\n",
      " [ 0.  0.  0. ...  0.  0.  0.]\n",
      " ...\n",
      " [ 0.  0.  0. ...  0.  0.  0.]\n",
      " [ 0.  0.  0. ...  0.  0.  0.]\n",
      " [ 0.  0.  0. ...  0.  0.  0.]]\n",
      "trained KF C matrix:\n",
      "[[ 0.    0.    0.    4.12  0.   -0.09 13.97]\n",
      " [ 0.    0.    0.   -4.82  0.    0.53 13.99]\n",
      " [ 0.    0.    0.    0.14  0.    5.49  9.42]\n",
      " [ 0.    0.    0.    0.4   0.   -2.58  9.37]\n",
      " [ 0.    0.    0.    0.05  0.   -0.25 -0.04]\n",
      " [ 0.    0.    0.   -0.05  0.   -0.13 -0.18]\n",
      " [ 0.    0.    0.   -0.05  0.    0.1  -0.2 ]\n",
      " [ 0.    0.    0.   -0.06  0.   -0.    0.05]\n",
      " [ 0.    0.    0.   -0.05  0.   -0.04 -0.1 ]\n",
      " [ 0.    0.    0.   -0.2   0.   -0.11  0.01]\n",
      " [ 0.    0.    0.   -0.15  0.   -0.09 -0.11]\n",
      " [ 0.    0.    0.   -0.15  0.    0.06 -0.19]\n",
      " [ 0.    0.    0.   -0.02  0.    0.13 -0.05]\n",
      " [ 0.    0.    0.    0.04  0.    0.    0.22]\n",
      " [ 0.    0.    0.   -0.17  0.    0.12 -0.15]\n",
      " [ 0.    0.    0.    0.24  0.    0.23  0.11]\n",
      " [ 0.    0.    0.    0.1   0.   -0.02  0.08]\n",
      " [ 0.    0.    0.    0.04  0.   -0.09 -0.02]\n",
      " [ 0.    0.    0.    0.05  0.    0.07 -0.08]\n",
      " [ 0.    0.    0.    0.07  0.    0.05 -0.14]\n",
      " [ 0.    0.    0.    0.08  0.    0.12 -0.11]\n",
      " [ 0.    0.    0.   -0.01  0.   -0.09 -0.1 ]\n",
      " [ 0.    0.    0.   -0.13  0.   -0.05 -0.06]\n",
      " [ 0.    0.    0.   -0.15  0.   -0.13 -0.19]\n",
      " [ 0.    0.    0.    0.04  0.   -0.08 -0.13]]\n"
     ]
    }
   ],
   "source": [
    "training_sample_point = 2\n",
    "\n",
    "print('intended kinematics:')\n",
    "print(intended_kin[training_sample_point])\n",
    "\n",
    "print('spike counts:')\n",
    "print(spike_counts_batch[training_sample_point])\n",
    "\n",
    "print('trained KF C matrix:')\n",
    "print(kf_C[training_sample_point])"
   ]
  },
  {
   "cell_type": "markdown",
   "metadata": {},
   "source": [
    "# Measure weights change"
   ]
  },
  {
   "cell_type": "code",
   "execution_count": 43,
   "metadata": {
    "ExecuteTime": {
     "end_time": "2021-03-17T17:23:39.866143Z",
     "start_time": "2021-03-17T17:23:39.857499Z"
    }
   },
   "outputs": [],
   "source": [
    "from weights_linear_regression import *\n",
    "from afs_plotting import plot_prefered_directions"
   ]
  },
  {
   "cell_type": "code",
   "execution_count": 44,
   "metadata": {
    "ExecuteTime": {
     "end_time": "2021-03-17T17:23:39.875891Z",
     "start_time": "2021-03-17T17:23:39.866920Z"
    }
   },
   "outputs": [
    {
     "data": {
      "text/plain": [
       "(46, 25, 7)"
      ]
     },
     "execution_count": 44,
     "metadata": {},
     "output_type": "execute_result"
    }
   ],
   "source": [
    "kf_C = clda_params_dict['kf.C']\n",
    "kf_C.shape"
   ]
  },
  {
   "cell_type": "code",
   "execution_count": 45,
   "metadata": {
    "ExecuteTime": {
     "end_time": "2021-03-17T17:23:39.897605Z",
     "start_time": "2021-03-17T17:23:39.876764Z"
    }
   },
   "outputs": [
    {
     "data": {
      "text/plain": [
       "(46, 25)"
      ]
     },
     "execution_count": 45,
     "metadata": {},
     "output_type": "execute_result"
    }
   ],
   "source": [
    "history_of_L2_norms = calc_a_history_of_matrix_L2norms_along_first_axis(kf_C,\n",
    "                                                                       (X_VEL_STATE_IND, Y_VEL_STATE_IND))\n",
    "\n",
    "history_of_L2_norms.shape"
   ]
  },
  {
   "cell_type": "code",
   "execution_count": 46,
   "metadata": {
    "ExecuteTime": {
     "end_time": "2021-03-17T17:23:40.111648Z",
     "start_time": "2021-03-17T17:23:39.898408Z"
    }
   },
   "outputs": [
    {
     "data": {
      "image/png": "[encoded data removed]",
      "text/plain": [
       "<Figure size 864x288 with 3 Axes>"
      ]
     },
     "metadata": {
      "needs_background": "light"
     },
     "output_type": "display_data"
    }
   ],
   "source": [
    "figure_compare_kf, axes_compare_kf = plt.subplots(1,3, figsize = (12, 4))"
   ]
  },
  {
   "cell_type": "code",
   "execution_count": 47,
   "metadata": {
    "ExecuteTime": {
     "end_time": "2021-03-17T17:23:40.379136Z",
     "start_time": "2021-03-17T17:23:40.112486Z"
    },
    "scrolled": true
   },
   "outputs": [
    {
     "name": "stdout",
     "output_type": "stream",
     "text": [
      "kf_slice has kf_slice has shape (25, 7)\n"
     ]
    },
    {
     "data": {
      "image/png": "[encoded data removed]",
      "text/plain": [
       "<Figure size 864x288 with 3 Axes>"
      ]
     },
     "execution_count": 47,
     "metadata": {},
     "output_type": "execute_result"
    }
   ],
   "source": [
    "time_of_interest = 0\n",
    "kf_slice_start = np.squeeze(kf_C[time_of_interest, :,:])\n",
    "print(f'kf_slice has kf_slice has shape {kf_slice_start.shape}')\n",
    "\n",
    "kf_slice_end = np.squeeze(kf_C[-1, :,:])\n",
    "\n",
    "\n",
    "#plot the trajectjory\n",
    "axes_compare_kf[0].plot(history_of_L2_norms)\n",
    "\n",
    "#plot the begining \n",
    "plot_prefered_directions(kf_slice_start, \n",
    "                         ax = axes_compare_kf[1])\n",
    "axes_compare_kf[0].set_title('Prefered direction vector L2 norm')\n",
    "axes_compare_kf[0].set_xlabel('update batch number')\n",
    "\n",
    "\n",
    "\n",
    "#plot the end\n",
    "plot_prefered_directions(kf_slice_end, \n",
    "                         ax = axes_compare_kf[2])\n",
    "axes_compare_kf[2].set_title('Preffered directions at conclusion')\n",
    "\n",
    "\n",
    "figure_compare_kf"
   ]
  },
  {
   "cell_type": "markdown",
   "metadata": {},
   "source": [
    "# Measure ssms"
   ]
  },
  {
   "cell_type": "code",
   "execution_count": 48,
   "metadata": {
    "ExecuteTime": {
     "end_time": "2021-03-17T17:23:40.384519Z",
     "start_time": "2021-03-17T17:23:40.382285Z"
    }
   },
   "outputs": [
    {
     "name": "stdout",
     "output_type": "stream",
     "text": [
      "spike_counts_batch has the shape of (46, 25, 50)\n",
      "intended_kin has the shape of (46, 7, 50)\n",
      "kf_C has the shape of (46, 25, 7)\n"
     ]
    }
   ],
   "source": [
    "spike_counts_batch = clda_params_dict['spike_counts_batch'] \n",
    "intended_kin = clda_params_dict['intended_kin']\n",
    "\n",
    "print(f'spike_counts_batch has the shape of {spike_counts_batch.shape}')\n",
    "print(f'intended_kin has the shape of {intended_kin.shape}')\n",
    "\n",
    "print(f'kf_C has the shape of {kf_C.shape}')\n"
   ]
  },
  {
   "cell_type": "code",
   "execution_count": 49,
   "metadata": {
    "ExecuteTime": {
     "end_time": "2021-03-17T17:23:40.396987Z",
     "start_time": "2021-03-17T17:23:40.385940Z"
    }
   },
   "outputs": [
    {
     "name": "stdout",
     "output_type": "stream",
     "text": [
      "we will only be looking the indices of the x vel and y vel (3, 5)\n",
      "time slice of interest 0\n",
      "spike_count_slice has the shape of (50, 25)\n",
      "intended_kin_slice has the shape of (50, 2)\n",
      "kf_C_slice has the shape of (25, 2)\n"
     ]
    }
   ],
   "source": [
    "VEL_DECODING_STATES = (X_VEL_STATE_IND, Y_VEL_STATE_IND,)\n",
    "print(f'we will only be looking the indices of the x vel and y vel {VEL_DECODING_STATES}')\n",
    "\n",
    "time_slice_of_interest = 0\n",
    "print(f'time slice of interest {time_slice_of_interest}')\n",
    "\n",
    "spike_count_slice = np.squeeze(spike_counts_batch[time_slice_of_interest, :, :])\n",
    "intended_kin_slice = np.squeeze(intended_kin[time_slice_of_interest, VEL_DECODING_STATES, :])\n",
    "kf_C_slice = np.squeeze(kf_C[time_slice_of_interest, :,VEL_DECODING_STATES])\n",
    "\n",
    "#rotate the dimensions=\n",
    "spike_count_slice = spike_count_slice.T\n",
    "intended_kin_slice = intended_kin_slice.T\n",
    "kf_C_slice = kf_C_slice.T\n",
    "\n",
    "\n",
    "print(f'spike_count_slice has the shape of {spike_count_slice.shape}')\n",
    "print(f'intended_kin_slice has the shape of {intended_kin_slice.shape}')\n",
    "\n",
    "print(f'kf_C_slice has the shape of {kf_C_slice.shape}')"
   ]
  },
  {
   "cell_type": "code",
   "execution_count": 50,
   "metadata": {
    "ExecuteTime": {
     "end_time": "2021-03-17T17:23:40.406770Z",
     "start_time": "2021-03-17T17:23:40.397750Z"
    }
   },
   "outputs": [
    {
     "data": {
      "text/plain": [
       "(25,)"
      ]
     },
     "execution_count": 50,
     "metadata": {},
     "output_type": "execute_result"
    }
   ],
   "source": [
    "from weights_linear_regression import calc_average_ssm_for_each_X_column\n",
    "\n",
    "ssm_slice = calc_average_ssm_for_each_X_column(intended_kin_slice, spike_count_slice, kf_C_slice)\n",
    "\n",
    "ssm_slice.shape"
   ]
  },
  {
   "cell_type": "markdown",
   "metadata": {},
   "source": [
    "## encapsulate into the batch"
   ]
  },
  {
   "cell_type": "code",
   "execution_count": 51,
   "metadata": {
    "ExecuteTime": {
     "end_time": "2021-03-17T17:23:40.434907Z",
     "start_time": "2021-03-17T17:23:40.407542Z"
    }
   },
   "outputs": [],
   "source": [
    "(N_BATCHES, N_NEURONS, N_POINTS_IN_A_BATCH)  =  spike_counts_batch.shape\n",
    "\n",
    "#initialize an nan array\n",
    "ssm_all_batches = np.empty((N_BATCHES, N_NEURONS))\n",
    "ssm_all_batches[:] = np.nan\n",
    "\n",
    "for n_batch in range(N_BATCHES):\n",
    "    spike_count_slice = np.squeeze(spike_counts_batch[n_batch, :, :])\n",
    "    intended_kin_slice = np.squeeze(intended_kin[n_batch, VEL_DECODING_STATES, :])\n",
    "    kf_C_slice = np.squeeze(kf_C[n_batch,:,VEL_DECODING_STATES])\n",
    "    \n",
    "    #rotate the dimensions=\n",
    "    spike_count_slice = spike_count_slice.T\n",
    "    intended_kin_slice = intended_kin_slice.T\n",
    "    kf_C_slice = kf_C_slice.T\n",
    "\n",
    "    \n",
    "    ssm_slice = calc_average_ssm_for_each_X_column(intended_kin_slice, \n",
    "                                                   spike_count_slice, \n",
    "                                                   kf_C_slice)\n",
    "    ssm_all_batches[n_batch, :] = ssm_slice\n",
    "    \n",
    "    \n"
   ]
  },
  {
   "cell_type": "code",
   "execution_count": 52,
   "metadata": {
    "ExecuteTime": {
     "end_time": "2021-03-17T17:23:40.541961Z",
     "start_time": "2021-03-17T17:23:40.435911Z"
    }
   },
   "outputs": [
    {
     "name": "stdout",
     "output_type": "stream",
     "text": [
      "look at these two neurons range(0, 8)\n"
     ]
    },
    {
     "data": {
      "text/plain": [
       "[<matplotlib.lines.Line2D at 0x7f22cc3d32b0>,\n",
       " <matplotlib.lines.Line2D at 0x7f22cc3d30d0>,\n",
       " <matplotlib.lines.Line2D at 0x7f22cc3d3760>,\n",
       " <matplotlib.lines.Line2D at 0x7f22cc3d3a90>,\n",
       " <matplotlib.lines.Line2D at 0x7f22cc3d37f0>,\n",
       " <matplotlib.lines.Line2D at 0x7f22cc3d3a30>,\n",
       " <matplotlib.lines.Line2D at 0x7f22cc3d3d90>,\n",
       " <matplotlib.lines.Line2D at 0x7f22cc3d3be0>]"
      ]
     },
     "execution_count": 52,
     "metadata": {},
     "output_type": "execute_result"
    },
    {
     "data": {
      "image/png": "[encoded data removed]",
      "text/plain": [
       "<Figure size 432x288 with 1 Axes>"
      ]
     },
     "metadata": {
      "needs_background": "light"
     },
     "output_type": "display_data"
    }
   ],
   "source": [
    "neurons_of_interest = range(8)\n",
    "\n",
    "print(f'look at these two neurons {neurons_of_interest}')\n",
    "\n",
    "plt.plot(ssm_all_batches[:, neurons_of_interest])"
   ]
  },
  {
   "cell_type": "markdown",
   "metadata": {},
   "source": [
    "## over all ssm"
   ]
  },
  {
   "cell_type": "code",
   "execution_count": 53,
   "metadata": {
    "ExecuteTime": {
     "end_time": "2021-03-17T17:23:40.547111Z",
     "start_time": "2021-03-17T17:23:40.542870Z"
    }
   },
   "outputs": [],
   "source": [
    "(N_BATCHES, N_NEURONS, N_POINTS_IN_A_BATCH)  =  spike_counts_batch.shape\n",
    "\n",
    "#initialize an nan array\n",
    "ssm_all_batches = np.empty((N_BATCHES,))\n",
    "\n",
    "\n",
    "for n_batch in range(N_BATCHES):\n",
    "    spike_count_slice = np.squeeze(spike_counts_batch[n_batch, :, :])\n",
    "    intended_kin_slice = np.squeeze(intended_kin[n_batch, VEL_DECODING_STATES, :])\n",
    "    kf_C_slice = np.squeeze(kf_C[n_batch, :,VEL_DECODING_STATES])\n",
    "    \n",
    "    #rotate the dimensions=\n",
    "    spike_count_slice = spike_count_slice.T\n",
    "    intended_kin_slice = intended_kin_slice.T\n",
    "    kf_C_slice = kf_C_slice.T\n",
    "    \n",
    "    ssm_slice = calc_ssm_y_minus_x_beta(intended_kin_slice, \n",
    "                                                   spike_count_slice, \n",
    "                                                   kf_C_slice)\n",
    "    ssm_all_batches[n_batch] = ssm_slice\n",
    "    \n",
    "ssm_all_batches = ssm_all_batches / N_POINTS_IN_A_BATCH\n",
    "    "
   ]
  },
  {
   "cell_type": "code",
   "execution_count": 54,
   "metadata": {
    "ExecuteTime": {
     "end_time": "2021-03-17T17:23:40.644168Z",
     "start_time": "2021-03-17T17:23:40.547983Z"
    }
   },
   "outputs": [
    {
     "data": {
      "text/plain": [
       "[<matplotlib.lines.Line2D at 0x7f22cc35a130>]"
      ]
     },
     "execution_count": 54,
     "metadata": {},
     "output_type": "execute_result"
    },
    {
     "data": {
      "image/png": "[encoded data removed]",
      "text/plain": [
       "<Figure size 432x288 with 1 Axes>"
      ]
     },
     "metadata": {
      "needs_background": "light"
     },
     "output_type": "display_data"
    }
   ],
   "source": [
    "plt.plot(ssm_all_batches)\n"
   ]
  },
  {
   "cell_type": "markdown",
   "metadata": {},
   "source": [
    "# feature analyses hypothesis testing"
   ]
  },
  {
   "cell_type": "code",
   "execution_count": 55,
   "metadata": {
    "ExecuteTime": {
     "end_time": "2021-03-17T17:23:40.646679Z",
     "start_time": "2021-03-17T17:23:40.645066Z"
    }
   },
   "outputs": [],
   "source": [
    "import statsmodels.api as sm\n"
   ]
  },
  {
   "cell_type": "markdown",
   "metadata": {},
   "source": [
    "## Examine relevance of one neuron from one batch "
   ]
  },
  {
   "cell_type": "markdown",
   "metadata": {},
   "source": [
    "### Select data"
   ]
  },
  {
   "cell_type": "code",
   "execution_count": 56,
   "metadata": {
    "ExecuteTime": {
     "end_time": "2021-03-17T17:23:40.657021Z",
     "start_time": "2021-03-17T17:23:40.647506Z"
    }
   },
   "outputs": [
    {
     "data": {
      "text/plain": [
       "dict_keys(['kf.C', 'kf.Q', 'kf.C_xpose_Q_inv_C', 'kf.C_xpose_Q_inv', 'mFR', 'sdFR', 'rho', 'intended_kin', 'spike_counts_batch'])"
      ]
     },
     "execution_count": 56,
     "metadata": {},
     "output_type": "execute_result"
    }
   ],
   "source": [
    "clda_params_dict.keys() # this is from one experiment"
   ]
  },
  {
   "cell_type": "code",
   "execution_count": 57,
   "metadata": {
    "ExecuteTime": {
     "end_time": "2021-03-17T17:23:40.666893Z",
     "start_time": "2021-03-17T17:23:40.657905Z"
    },
    "scrolled": true
   },
   "outputs": [
    {
     "name": "stdout",
     "output_type": "stream",
     "text": [
      "46\n",
      "46\n"
     ]
    }
   ],
   "source": [
    "spike_counts_batch = clda_params_dict['spike_counts_batch']\n",
    "intended_kin = clda_params_dict['intended_kin']\n",
    "print(f'{len(spike_counts_batch)}')\n",
    "print(f'{len(intended_kin)}')"
   ]
  },
  {
   "cell_type": "code",
   "execution_count": 58,
   "metadata": {
    "ExecuteTime": {
     "end_time": "2021-03-17T17:23:40.681583Z",
     "start_time": "2021-03-17T17:23:40.667714Z"
    }
   },
   "outputs": [
    {
     "name": "stdout",
     "output_type": "stream",
     "text": [
      "look at one batch: batch number 0\n",
      "spike count\n",
      "[[ 0.  0.  0. ...  5.  4.  7.]\n",
      " [ 0.  2.  0. ...  0.  0.  0.]\n",
      " [ 0.  0.  0. ... 66. 83. 76.]\n",
      " ...\n",
      " [ 0.  0.  0. ...  0.  0.  0.]\n",
      " [ 0.  0.  0. ...  0.  0.  0.]\n",
      " [ 0.  0.  0. ...  0.  0.  0.]]\n",
      "intended kin\n",
      "[[  0.    -0.04  -0.07  -0.05   0.44   1.3    2.51   3.82   5.01   5.87\n",
      "    6.46   6.94   7.2    7.35   7.41   7.5    7.51   7.5    7.5    7.48\n",
      "    7.45   7.42   7.4    7.36   7.33   7.31   7.28   7.27   7.29   7.29\n",
      "    7.29   7.3    7.33   7.3    7.28   7.31   7.32   7.32   7.32   7.36\n",
      "    7.39   7.39   7.43   7.44   7.46   7.45   7.45   7.49   7.49   7.48]\n",
      " [  0.     0.     0.     0.     0.     0.     0.     0.     0.     0.\n",
      "    0.     0.     0.     0.     0.     0.     0.     0.     0.     0.\n",
      "    0.     0.     0.     0.     0.     0.     0.     0.     0.     0.\n",
      "    0.     0.     0.     0.     0.     0.     0.     0.     0.     0.\n",
      "    0.     0.     0.     0.     0.     0.     0.     0.     0.     0.  ]\n",
      " [  0.    -0.01  -0.02  -0.03  -0.4   -0.98  -1.76  -2.58  -3.33  -3.87\n",
      "   -4.28  -4.64  -4.9   -5.1   -5.28  -5.46  -5.57  -5.73  -5.84  -5.98\n",
      "   -6.15  -6.32  -6.49  -6.71  -6.83  -6.98  -7.12  -7.32  -7.54  -7.71\n",
      "   -7.88  -8.11  -8.31  -8.52  -8.74  -8.99  -9.22  -9.49  -9.73 -10.06\n",
      "  -10.34 -10.6  -10.92 -11.19 -11.46 -11.73 -12.04 -12.4  -12.66 -12.98]\n",
      " [  0.    -0.19   6.76   6.85   9.16  10.69  11.83  11.47   9.79   7.16\n",
      "    5.01   3.85   2.37   1.47   0.92   0.97   0.47   0.39   0.4    0.31\n",
      "    0.27   0.3    0.37   0.34   0.34   0.45   0.43   0.57   0.66   0.62\n",
      "    0.57   0.65   0.74   0.41   0.51   0.73   0.64   0.58   0.58   0.73\n",
      "    0.72   0.52   0.72   0.53   0.56   0.41   0.49   0.66   0.44   0.37]\n",
      " [  0.     0.     0.     0.     0.     0.     0.     0.     0.     0.\n",
      "    0.     0.     0.     0.     0.     0.     0.     0.     0.     0.\n",
      "    0.     0.     0.     0.     0.     0.     0.     0.     0.     0.\n",
      "    0.     0.     0.     0.     0.     0.     0.     0.     0.     0.\n",
      "    0.     0.     0.     0.     0.     0.     0.     0.     0.     0.  ]\n",
      " [  0.    -0.06  -0.02  -0.04  -1.71  -2.58  -3.11  -2.8   -1.8   -0.17\n",
      "    0.94   1.66   2.39   2.99   3.27   3.46   3.92   3.84   4.14   4.17\n",
      "    4.14   4.23   4.39   4.33   4.95   4.92   5.13   4.95   5.     5.43\n",
      "    5.6    5.43   5.79   5.9    6.02   6.07   6.36   6.42   6.75   6.49\n",
      "    7.02   7.36   7.34   7.82   8.05   8.29   8.33   8.32   9.12   9.07]\n",
      " [  1.     1.     1.     1.     1.     1.     1.     1.     1.     1.\n",
      "    1.     1.     1.     1.     1.     1.     1.     1.     1.     1.\n",
      "    1.     1.     1.     1.     1.     1.     1.     1.     1.     1.\n",
      "    1.     1.     1.     1.     1.     1.     1.     1.     1.     1.\n",
      "    1.     1.     1.     1.     1.     1.     1.     1.     1.     1.  ]]\n"
     ]
    }
   ],
   "source": [
    "# we just take one batch\n",
    "batch_of_interest = 0\n",
    "spike_count_one_batch = spike_counts_batch[batch_of_interest]\n",
    "intended_kin_one_batch = intended_kin[batch_of_interest]\n",
    "\n",
    "print(f'look at one batch: batch number {batch_of_interest}')\n",
    "print(f'spike count')\n",
    "print(spike_count_one_batch)\n",
    "\n",
    "print(f'intended kin')\n",
    "print(intended_kin_one_batch)"
   ]
  },
  {
   "cell_type": "code",
   "execution_count": 59,
   "metadata": {
    "ExecuteTime": {
     "end_time": "2021-03-17T17:23:40.690155Z",
     "start_time": "2021-03-17T17:23:40.682554Z"
    }
   },
   "outputs": [
    {
     "name": "stdout",
     "output_type": "stream",
     "text": [
      "we are dealing with a velocity decoder\n",
      "we only look at  x vel and y vel:\n",
      "We assume we are only interested how firing rates encode x, y vel\n",
      "after selecting the vels:\n",
      "[[ 0.   -0.19  6.76  6.85  9.16 10.69 11.83 11.47  9.79  7.16  5.01  3.85\n",
      "   2.37  1.47  0.92  0.97  0.47  0.39  0.4   0.31  0.27  0.3   0.37  0.34\n",
      "   0.34  0.45  0.43  0.57  0.66  0.62  0.57  0.65  0.74  0.41  0.51  0.73\n",
      "   0.64  0.58  0.58  0.73  0.72  0.52  0.72  0.53  0.56  0.41  0.49  0.66\n",
      "   0.44  0.37]\n",
      " [ 0.   -0.06 -0.02 -0.04 -1.71 -2.58 -3.11 -2.8  -1.8  -0.17  0.94  1.66\n",
      "   2.39  2.99  3.27  3.46  3.92  3.84  4.14  4.17  4.14  4.23  4.39  4.33\n",
      "   4.95  4.92  5.13  4.95  5.    5.43  5.6   5.43  5.79  5.9   6.02  6.07\n",
      "   6.36  6.42  6.75  6.49  7.02  7.36  7.34  7.82  8.05  8.29  8.33  8.32\n",
      "   9.12  9.07]]\n"
     ]
    }
   ],
   "source": [
    "print('we are dealing with a velocity decoder')\n",
    "print('we only look at  x vel and y vel:')\n",
    "print('We assume we are only interested how firing rates encode x, y vel')\n",
    "\n",
    "intended_kin_one_batch_2D = intended_kin_one_batch[(X_VEL_STATE_IND, Y_VEL_STATE_IND),:]\n",
    "print('after selecting the vels:')\n",
    "print(intended_kin_one_batch_2D)"
   ]
  },
  {
   "cell_type": "code",
   "execution_count": 60,
   "metadata": {
    "ExecuteTime": {
     "end_time": "2021-03-17T17:23:40.702804Z",
     "start_time": "2021-03-17T17:23:40.690954Z"
    }
   },
   "outputs": [
    {
     "name": "stdout",
     "output_type": "stream",
     "text": [
      "we will do  one neuron at a time\n",
      "the neuron that we are interested is neuron 0\n",
      "and selected firing rates:\n",
      "[  0.   0.   0.  55.  87. 115. 123. 114.  85.  71.  59.  35.  21.  12.\n",
      "  15.   5.   4.   4.   2.   1.   1.   2.   1.   0.   2.   1.   4.   6.\n",
      "   5.   4.   6.   8.   1.   3.   8.   6.   5.   5.   9.   9.   5.  10.\n",
      "   6.   7.   4.   6.  10.   5.   4.   7.]\n"
     ]
    }
   ],
   "source": [
    "print('we will do  one neuron at a time')\n",
    "n_roi_neuron = 0\n",
    "print(f'the neuron that we are interested is neuron {n_roi_neuron}')\n",
    "print('and selected firing rates:')\n",
    "\n",
    "spike_count_one_batch_one_neuron = spike_count_one_batch[n_roi_neuron,:]\n",
    "\n",
    "print(spike_count_one_batch_one_neuron)"
   ]
  },
  {
   "cell_type": "markdown",
   "metadata": {},
   "source": [
    "### OLS model fitting"
   ]
  },
  {
   "cell_type": "code",
   "execution_count": 61,
   "metadata": {
    "ExecuteTime": {
     "end_time": "2021-03-17T17:23:40.714104Z",
     "start_time": "2021-03-17T17:23:40.703662Z"
    }
   },
   "outputs": [
    {
     "name": "stdout",
     "output_type": "stream",
     "text": [
      "we transpose the vector for fitting\n",
      "the independent variables are  the intended kin hence, X\n",
      "[[ 0.    0.  ]\n",
      " [-0.19 -0.06]\n",
      " [ 6.76 -0.02]\n",
      " [ 6.85 -0.04]\n",
      " [ 9.16 -1.71]\n",
      " [10.69 -2.58]\n",
      " [11.83 -3.11]\n",
      " [11.47 -2.8 ]\n",
      " [ 9.79 -1.8 ]\n",
      " [ 7.16 -0.17]\n",
      " [ 5.01  0.94]\n",
      " [ 3.85  1.66]\n",
      " [ 2.37  2.39]\n",
      " [ 1.47  2.99]\n",
      " [ 0.92  3.27]\n",
      " [ 0.97  3.46]\n",
      " [ 0.47  3.92]\n",
      " [ 0.39  3.84]\n",
      " [ 0.4   4.14]\n",
      " [ 0.31  4.17]\n",
      " [ 0.27  4.14]\n",
      " [ 0.3   4.23]\n",
      " [ 0.37  4.39]\n",
      " [ 0.34  4.33]\n",
      " [ 0.34  4.95]\n",
      " [ 0.45  4.92]\n",
      " [ 0.43  5.13]\n",
      " [ 0.57  4.95]\n",
      " [ 0.66  5.  ]\n",
      " [ 0.62  5.43]\n",
      " [ 0.57  5.6 ]\n",
      " [ 0.65  5.43]\n",
      " [ 0.74  5.79]\n",
      " [ 0.41  5.9 ]\n",
      " [ 0.51  6.02]\n",
      " [ 0.73  6.07]\n",
      " [ 0.64  6.36]\n",
      " [ 0.58  6.42]\n",
      " [ 0.58  6.75]\n",
      " [ 0.73  6.49]\n",
      " [ 0.72  7.02]\n",
      " [ 0.52  7.36]\n",
      " [ 0.72  7.34]\n",
      " [ 0.53  7.82]\n",
      " [ 0.56  8.05]\n",
      " [ 0.41  8.29]\n",
      " [ 0.49  8.33]\n",
      " [ 0.66  8.32]\n",
      " [ 0.44  9.12]\n",
      " [ 0.37  9.07]]\n",
      "the dependent variable is the neuron spike connt, hence y\n",
      "[[  0.]\n",
      " [  0.]\n",
      " [  0.]\n",
      " [ 55.]\n",
      " [ 87.]\n",
      " [115.]\n",
      " [123.]\n",
      " [114.]\n",
      " [ 85.]\n",
      " [ 71.]\n",
      " [ 59.]\n",
      " [ 35.]\n",
      " [ 21.]\n",
      " [ 12.]\n",
      " [ 15.]\n",
      " [  5.]\n",
      " [  4.]\n",
      " [  4.]\n",
      " [  2.]\n",
      " [  1.]\n",
      " [  1.]\n",
      " [  2.]\n",
      " [  1.]\n",
      " [  0.]\n",
      " [  2.]\n",
      " [  1.]\n",
      " [  4.]\n",
      " [  6.]\n",
      " [  5.]\n",
      " [  4.]\n",
      " [  6.]\n",
      " [  8.]\n",
      " [  1.]\n",
      " [  3.]\n",
      " [  8.]\n",
      " [  6.]\n",
      " [  5.]\n",
      " [  5.]\n",
      " [  9.]\n",
      " [  9.]\n",
      " [  5.]\n",
      " [ 10.]\n",
      " [  6.]\n",
      " [  7.]\n",
      " [  4.]\n",
      " [  6.]\n",
      " [ 10.]\n",
      " [  5.]\n",
      " [  4.]\n",
      " [  7.]]\n"
     ]
    }
   ],
   "source": [
    "print('we transpose the vector for fitting')\n",
    "X = intended_kin_one_batch_2D.T\n",
    "y = np.reshape(spike_count_one_batch_one_neuron, (-1,1))\n",
    "\n",
    "\n",
    "print('the independent variables are  the intended kin hence, X')\n",
    "print(X)\n",
    "\n",
    "\n",
    "print('the dependent variable is the neuron spike connt, hence y')\n",
    "print(y)\n"
   ]
  },
  {
   "cell_type": "code",
   "execution_count": 62,
   "metadata": {
    "ExecuteTime": {
     "end_time": "2021-03-17T17:23:40.725294Z",
     "start_time": "2021-03-17T17:23:40.714859Z"
    }
   },
   "outputs": [
    {
     "name": "stdout",
     "output_type": "stream",
     "text": [
      "we add the constant one to the states (X)\n",
      "the new X is\n",
      "[[ 1.    0.    0.  ]\n",
      " [ 1.   -0.19 -0.06]\n",
      " [ 1.    6.76 -0.02]\n",
      " [ 1.    6.85 -0.04]\n",
      " [ 1.    9.16 -1.71]\n",
      " [ 1.   10.69 -2.58]\n",
      " [ 1.   11.83 -3.11]\n",
      " [ 1.   11.47 -2.8 ]\n",
      " [ 1.    9.79 -1.8 ]\n",
      " [ 1.    7.16 -0.17]\n",
      " [ 1.    5.01  0.94]\n",
      " [ 1.    3.85  1.66]\n",
      " [ 1.    2.37  2.39]\n",
      " [ 1.    1.47  2.99]\n",
      " [ 1.    0.92  3.27]\n",
      " [ 1.    0.97  3.46]\n",
      " [ 1.    0.47  3.92]\n",
      " [ 1.    0.39  3.84]\n",
      " [ 1.    0.4   4.14]\n",
      " [ 1.    0.31  4.17]\n",
      " [ 1.    0.27  4.14]\n",
      " [ 1.    0.3   4.23]\n",
      " [ 1.    0.37  4.39]\n",
      " [ 1.    0.34  4.33]\n",
      " [ 1.    0.34  4.95]\n",
      " [ 1.    0.45  4.92]\n",
      " [ 1.    0.43  5.13]\n",
      " [ 1.    0.57  4.95]\n",
      " [ 1.    0.66  5.  ]\n",
      " [ 1.    0.62  5.43]\n",
      " [ 1.    0.57  5.6 ]\n",
      " [ 1.    0.65  5.43]\n",
      " [ 1.    0.74  5.79]\n",
      " [ 1.    0.41  5.9 ]\n",
      " [ 1.    0.51  6.02]\n",
      " [ 1.    0.73  6.07]\n",
      " [ 1.    0.64  6.36]\n",
      " [ 1.    0.58  6.42]\n",
      " [ 1.    0.58  6.75]\n",
      " [ 1.    0.73  6.49]\n",
      " [ 1.    0.72  7.02]\n",
      " [ 1.    0.52  7.36]\n",
      " [ 1.    0.72  7.34]\n",
      " [ 1.    0.53  7.82]\n",
      " [ 1.    0.56  8.05]\n",
      " [ 1.    0.41  8.29]\n",
      " [ 1.    0.49  8.33]\n",
      " [ 1.    0.66  8.32]\n",
      " [ 1.    0.44  9.12]\n",
      " [ 1.    0.37  9.07]]\n"
     ]
    }
   ],
   "source": [
    "print('we add the constant one to the states (X)')\n",
    "X = sm.add_constant(X, has_constant= 'raise')\n",
    "print('the new X is')\n",
    "print(X)"
   ]
  },
  {
   "cell_type": "code",
   "execution_count": 63,
   "metadata": {
    "ExecuteTime": {
     "end_time": "2021-03-17T17:23:40.739905Z",
     "start_time": "2021-03-17T17:23:40.726186Z"
    }
   },
   "outputs": [
    {
     "name": "stdout",
     "output_type": "stream",
     "text": [
      "now we can fit using statsmodels.ols\n",
      "print results\n",
      "                            OLS Regression Results                            \n",
      "==============================================================================\n",
      "Dep. Variable:                      y   R-squared:                       0.906\n",
      "Model:                            OLS   Adj. R-squared:                  0.902\n",
      "Method:                 Least Squares   F-statistic:                     226.9\n",
      "Date:                Wed, 17 Mar 2021   Prob (F-statistic):           7.12e-25\n",
      "Time:                        10:23:40   Log-Likelihood:                -185.67\n",
      "No. Observations:                  50   AIC:                             377.3\n",
      "Df Residuals:                      47   BIC:                             383.1\n",
      "Df Model:                           2                                         \n",
      "Covariance Type:            nonrobust                                         \n",
      "==============================================================================\n",
      "                 coef    std err          t      P>|t|      [0.025      0.975]\n",
      "------------------------------------------------------------------------------\n",
      "const         -3.0642      4.721     -0.649      0.519     -12.562       6.434\n",
      "x1             9.6716      0.743     13.014      0.000       8.177      11.167\n",
      "x2             0.4352      0.754      0.577      0.567      -1.082       1.953\n",
      "==============================================================================\n",
      "Omnibus:                       88.238   Durbin-Watson:                   1.805\n",
      "Prob(Omnibus):                  0.000   Jarque-Bera (JB):             1868.559\n",
      "Skew:                          -4.770   Prob(JB):                         0.00\n",
      "Kurtosis:                      31.388   Cond. No.                         17.8\n",
      "==============================================================================\n",
      "\n",
      "Warnings:\n",
      "[1] Standard Errors assume that the covariance matrix of the errors is correctly specified.\n"
     ]
    }
   ],
   "source": [
    "print('now we can fit using statsmodels.ols')\n",
    "\n",
    "ols_spike_from_states = sm.OLS(y, X)\n",
    "\n",
    "results_ols_spike_from_states = ols_spike_from_states.fit()\n",
    "\n",
    "print('print results')\n",
    "print(results_ols_spike_from_states.summary())"
   ]
  },
  {
   "cell_type": "code",
   "execution_count": 64,
   "metadata": {
    "ExecuteTime": {
     "end_time": "2021-03-17T17:23:40.749013Z",
     "start_time": "2021-03-17T17:23:40.740661Z"
    }
   },
   "outputs": [
    {
     "name": "stdout",
     "output_type": "stream",
     "text": [
      "the p-values test against if the coefficients are zero\n",
      "the p values for this neuron of index 0\n",
      "[0.52 0.   0.57]\n",
      "the reg. coeff. are \n",
      "[-3.06  9.67  0.44]\n",
      "\n",
      "at a significance_level of 0.05:\n",
      "this array has the indix of the states that are significantly correlated with the firing rates  \n"
     ]
    },
    {
     "data": {
      "text/plain": [
       "(array([1]),)"
      ]
     },
     "execution_count": 64,
     "metadata": {},
     "output_type": "execute_result"
    }
   ],
   "source": [
    "print('the p-values test against if the coefficients are zero')\n",
    "neuron_batch_pvalue = results_ols_spike_from_states.pvalues\n",
    "\n",
    "print(f'the p values for this neuron of index {n_roi_neuron}')\n",
    "print(neuron_batch_pvalue)\n",
    "\n",
    "neuron_batch_coeff = results_ols_spike_from_states.params\n",
    "\n",
    "print('the reg. coeff. are ')\n",
    "print(neuron_batch_coeff)\n",
    "\n",
    "print()\n",
    "significance_level = 0.05\n",
    "print(f'at a significance_level of {significance_level}:')\n",
    "print('this array has the indix of the states that are significantly correlated with the firing rates  ')\n",
    "\n",
    "np.where(neuron_batch_pvalue < significance_level)"
   ]
  },
  {
   "cell_type": "markdown",
   "metadata": {},
   "source": [
    "## iterate up the model testing procedure"
   ]
  },
  {
   "cell_type": "code",
   "execution_count": 65,
   "metadata": {
    "ExecuteTime": {
     "end_time": "2021-03-17T17:23:40.760395Z",
     "start_time": "2021-03-17T17:23:40.749764Z"
    },
    "code_folding": []
   },
   "outputs": [
    {
     "name": "stdout",
     "output_type": "stream",
     "text": [
      "we write a function that actually  check if any given neuron has a sig state\n"
     ]
    }
   ],
   "source": [
    "print('we write a function that actually  check if any given neuron has a sig state')\n",
    "\n",
    "\n",
    "\n",
    "        \n",
    "\n",
    "\n",
    "\n",
    "\n"
   ]
  },
  {
   "cell_type": "code",
   "execution_count": 66,
   "metadata": {
    "ExecuteTime": {
     "end_time": "2021-03-17T17:23:40.770387Z",
     "start_time": "2021-03-17T17:23:40.761189Z"
    }
   },
   "outputs": [
    {
     "name": "stdout",
     "output_type": "stream",
     "text": [
      "with the functions, we can fit and test the one neuron and against the state\n"
     ]
    }
   ],
   "source": [
    "print('with the functions, we can fit and test the one neuron and against the state')"
   ]
  },
  {
   "cell_type": "code",
   "execution_count": 67,
   "metadata": {
    "ExecuteTime": {
     "end_time": "2021-03-17T17:23:40.780222Z",
     "start_time": "2021-03-17T17:23:40.771286Z"
    }
   },
   "outputs": [],
   "source": [
    "significance_level = 0.05\n",
    "\n",
    "\n",
    "    \n",
    "\n",
    "\n"
   ]
  },
  {
   "cell_type": "code",
   "execution_count": 68,
   "metadata": {
    "ExecuteTime": {
     "end_time": "2021-03-17T17:23:40.792735Z",
     "start_time": "2021-03-17T17:23:40.781184Z"
    },
    "scrolled": true
   },
   "outputs": [
    {
     "name": "stdout",
     "output_type": "stream",
     "text": [
      "we transpose the vector for fitting\n",
      "the independent variables are  the intended kin hence, X\n",
      "[[ 0.    0.  ]\n",
      " [-0.19 -0.06]\n",
      " [ 6.76 -0.02]\n",
      " [ 6.85 -0.04]\n",
      " [ 9.16 -1.71]\n",
      " [10.69 -2.58]\n",
      " [11.83 -3.11]\n",
      " [11.47 -2.8 ]\n",
      " [ 9.79 -1.8 ]\n",
      " [ 7.16 -0.17]\n",
      " [ 5.01  0.94]\n",
      " [ 3.85  1.66]\n",
      " [ 2.37  2.39]\n",
      " [ 1.47  2.99]\n",
      " [ 0.92  3.27]\n",
      " [ 0.97  3.46]\n",
      " [ 0.47  3.92]\n",
      " [ 0.39  3.84]\n",
      " [ 0.4   4.14]\n",
      " [ 0.31  4.17]\n",
      " [ 0.27  4.14]\n",
      " [ 0.3   4.23]\n",
      " [ 0.37  4.39]\n",
      " [ 0.34  4.33]\n",
      " [ 0.34  4.95]\n",
      " [ 0.45  4.92]\n",
      " [ 0.43  5.13]\n",
      " [ 0.57  4.95]\n",
      " [ 0.66  5.  ]\n",
      " [ 0.62  5.43]\n",
      " [ 0.57  5.6 ]\n",
      " [ 0.65  5.43]\n",
      " [ 0.74  5.79]\n",
      " [ 0.41  5.9 ]\n",
      " [ 0.51  6.02]\n",
      " [ 0.73  6.07]\n",
      " [ 0.64  6.36]\n",
      " [ 0.58  6.42]\n",
      " [ 0.58  6.75]\n",
      " [ 0.73  6.49]\n",
      " [ 0.72  7.02]\n",
      " [ 0.52  7.36]\n",
      " [ 0.72  7.34]\n",
      " [ 0.53  7.82]\n",
      " [ 0.56  8.05]\n",
      " [ 0.41  8.29]\n",
      " [ 0.49  8.33]\n",
      " [ 0.66  8.32]\n",
      " [ 0.44  9.12]\n",
      " [ 0.37  9.07]]\n",
      "the dependent variable is the neuron spike connt, hence y\n",
      "[[  0.]\n",
      " [  0.]\n",
      " [  0.]\n",
      " [ 55.]\n",
      " [ 87.]\n",
      " [115.]\n",
      " [123.]\n",
      " [114.]\n",
      " [ 85.]\n",
      " [ 71.]\n",
      " [ 59.]\n",
      " [ 35.]\n",
      " [ 21.]\n",
      " [ 12.]\n",
      " [ 15.]\n",
      " [  5.]\n",
      " [  4.]\n",
      " [  4.]\n",
      " [  2.]\n",
      " [  1.]\n",
      " [  1.]\n",
      " [  2.]\n",
      " [  1.]\n",
      " [  0.]\n",
      " [  2.]\n",
      " [  1.]\n",
      " [  4.]\n",
      " [  6.]\n",
      " [  5.]\n",
      " [  4.]\n",
      " [  6.]\n",
      " [  8.]\n",
      " [  1.]\n",
      " [  3.]\n",
      " [  8.]\n",
      " [  6.]\n",
      " [  5.]\n",
      " [  5.]\n",
      " [  9.]\n",
      " [  9.]\n",
      " [  5.]\n",
      " [ 10.]\n",
      " [  6.]\n",
      " [  7.]\n",
      " [  4.]\n",
      " [  6.]\n",
      " [ 10.]\n",
      " [  5.]\n",
      " [  4.]\n",
      " [  7.]]\n",
      "fitting_results:\n",
      "(array([-3.06,  9.67,  0.44]), array([0.52, 0.  , 0.57]), True, array(1))\n"
     ]
    }
   ],
   "source": [
    "from weights import fit_ols\n",
    "\n",
    "print('we transpose the vector for fitting')\n",
    "X = intended_kin_one_batch_2D.T\n",
    "y = np.reshape(spike_count_one_batch_one_neuron, (-1,1))\n",
    "\n",
    "\n",
    "print('the independent variables are  the intended kin hence, X')\n",
    "print(X)\n",
    "\n",
    "\n",
    "print('the dependent variable is the neuron spike connt, hence y')\n",
    "print(y)\n",
    "\n",
    "results = fit_ols(y, X)\n",
    "\n",
    "print('fitting_results:')\n",
    "print(results)\n"
   ]
  },
  {
   "cell_type": "markdown",
   "metadata": {},
   "source": [
    "## test across the neurons in a batch"
   ]
  },
  {
   "cell_type": "code",
   "execution_count": 69,
   "metadata": {
    "ExecuteTime": {
     "end_time": "2021-03-17T17:23:40.802670Z",
     "start_time": "2021-03-17T17:23:40.793566Z"
    }
   },
   "outputs": [
    {
     "data": {
      "text/plain": [
       "(25, 50)"
      ]
     },
     "execution_count": 69,
     "metadata": {},
     "output_type": "execute_result"
    }
   ],
   "source": [
    "spike_count_one_batch.shape"
   ]
  },
  {
   "cell_type": "code",
   "execution_count": 70,
   "metadata": {
    "ExecuteTime": {
     "end_time": "2021-03-17T17:23:40.815516Z",
     "start_time": "2021-03-17T17:23:40.803516Z"
    }
   },
   "outputs": [
    {
     "name": "stdout",
     "output_type": "stream",
     "text": [
      "the pvalue matrix for a batch\n"
     ]
    },
    {
     "name": "stderr",
     "output_type": "stream",
     "text": [
      "/home/sijia-aw/BMi3D_my/lib/python3.8/site-packages/statsmodels/base/model.py:1294: RuntimeWarning: invalid value encountered in true_divide\n",
      "  return self.params / self.bse\n",
      "/home/sijia-aw/BMi3D_my/lib/python3.8/site-packages/scipy/stats/_distn_infrastructure.py:903: RuntimeWarning: invalid value encountered in greater\n",
      "  return (a < x) & (x < b)\n",
      "/home/sijia-aw/BMi3D_my/lib/python3.8/site-packages/scipy/stats/_distn_infrastructure.py:903: RuntimeWarning: invalid value encountered in less\n",
      "  return (a < x) & (x < b)\n",
      "/home/sijia-aw/BMi3D_my/lib/python3.8/site-packages/scipy/stats/_distn_infrastructure.py:1912: RuntimeWarning: invalid value encountered in less_equal\n",
      "  cond2 = cond0 & (x <= _a)\n",
      "/home/sijia-aw/BMi3D_my/operation_funny_chicken/adaptive_feature_selection/weights.py:218: RuntimeWarning: invalid value encountered in less_equal\n",
      "  sig_test_list = np.where(p_value_array <= significance_level)\n"
     ]
    },
    {
     "data": {
      "text/plain": [
       "array([[0.01, 0.27, 0.  , 0.61, 0.  ,  nan, 0.94, 0.01],\n",
       "       [0.19, 0.66, 0.  , 0.03, 0.03,  nan, 0.  , 0.36]])"
      ]
     },
     "execution_count": 70,
     "metadata": {},
     "output_type": "execute_result"
    }
   ],
   "source": [
    "\n",
    "\n",
    "n_roi_neuron = 0\n",
    "\n",
    "#assume spike_count_one_batch has the shape N_NEURONS by N_time points\n",
    "#assume that intended_kin_one_batch_2D has N_states by N_Time_points\n",
    "\n",
    "'''\n",
    "\n",
    "'''\n",
    "#get intended kinematics this is fixed for each neuron\n",
    "intended_kin_one_batch_2D = intended_kin_one_batch[(X_VEL_STATE_IND, Y_VEL_STATE_IND),:]\n",
    "#('we transpose the vector for fitting')\n",
    "intended_kin_one_batch_2D = intended_kin_one_batch_2D.T\n",
    "spike_count_one_batch = intended_kin_one_batch.T\n",
    "\n",
    "neuron_batch_pvalue_matrix = calc_single_batch_p_values_by_fitting_kinematics_to_spike_counts(spike_count_one_batch,\n",
    "                                                                       intended_kin_one_batch_2D)\n",
    "\n",
    "print(f'the pvalue matrix for a batch')\n",
    "neuron_batch_pvalue_matrix"
   ]
  },
  {
   "cell_type": "code",
   "execution_count": 71,
   "metadata": {
    "ExecuteTime": {
     "end_time": "2021-03-17T17:23:40.826647Z",
     "start_time": "2021-03-17T17:23:40.816291Z"
    },
    "scrolled": true
   },
   "outputs": [
    {
     "name": "stdout",
     "output_type": "stream",
     "text": [
      "test out the calculate_p_value_matrix\n",
      "[[0.   0.68 0.  ]\n",
      " [ nan  nan  nan]\n",
      " [0.96 0.   0.  ]\n",
      " [0.01 0.   0.04]\n",
      " [ nan  nan  nan]\n",
      " [0.09 0.83 0.  ]\n",
      " [0.   0.   0.08]]\n",
      "\n",
      "for comparision, this is what we just calculated\n"
     ]
    },
    {
     "data": {
      "text/plain": [
       "array([[0.01, 0.27, 0.  , 0.61, 0.  ,  nan, 0.94, 0.01],\n",
       "       [0.19, 0.66, 0.  , 0.03, 0.03,  nan, 0.  , 0.36]])"
      ]
     },
     "execution_count": 71,
     "metadata": {},
     "output_type": "execute_result"
    }
   ],
   "source": [
    "\n",
    "\n",
    "print('test out the calculate_p_value_matrix')\n",
    "\n",
    "calc_p_value_matrix_result = calc_single_batch_p_values_by_fitting_kinematics_to_spike_counts(\n",
    "                            intended_kin_one_batch_2D, \n",
    "                            spike_count_one_batch)\n",
    "print(calc_p_value_matrix_result)\n",
    "print()\n",
    "print('for comparision, this is what we just calculated')\n",
    "neuron_batch_pvalue_matrix"
   ]
  },
  {
   "cell_type": "markdown",
   "metadata": {},
   "source": [
    "## calculate p_values for a different batch"
   ]
  },
  {
   "cell_type": "code",
   "execution_count": 72,
   "metadata": {
    "ExecuteTime": {
     "end_time": "2021-03-17T17:23:40.835443Z",
     "start_time": "2021-03-17T17:23:40.827631Z"
    }
   },
   "outputs": [
    {
     "name": "stdout",
     "output_type": "stream",
     "text": [
      "(2, 50)\n"
     ]
    },
    {
     "data": {
      "text/plain": [
       "(25, 50)"
      ]
     },
     "execution_count": 72,
     "metadata": {},
     "output_type": "execute_result"
    }
   ],
   "source": [
    "# we just take one batch\n",
    "batch_of_interest = 1\n",
    "\n",
    "intended_kin_one_batch = intended_kin[batch_of_interest]\n",
    "intended_kin_one_batch_2D = intended_kin_one_batch[(X_VEL_STATE_IND, Y_VEL_STATE_IND),:]\n",
    "spike_count_one_batch = spike_counts_batch[batch_of_interest]\n",
    "\n",
    "print(intended_kin_one_batch_2D.shape)\n",
    "spike_count_one_batch.shape"
   ]
  },
  {
   "cell_type": "code",
   "execution_count": 73,
   "metadata": {
    "ExecuteTime": {
     "end_time": "2021-03-17T17:23:40.854379Z",
     "start_time": "2021-03-17T17:23:40.836251Z"
    },
    "scrolled": true
   },
   "outputs": [
    {
     "name": "stdout",
     "output_type": "stream",
     "text": [
      "[[ 0.  0.  0.]\n",
      " [ 0.  0.  0.]\n",
      " [ 0.  0.  0.]\n",
      " [ 0.  0.  0.]\n",
      " [nan nan nan]\n",
      " [nan nan nan]\n",
      " [nan nan nan]\n",
      " [nan nan nan]\n",
      " [nan nan nan]\n",
      " [nan nan nan]\n",
      " [nan nan nan]\n",
      " [nan nan nan]\n",
      " [nan nan nan]\n",
      " [nan nan nan]\n",
      " [nan nan nan]\n",
      " [nan nan nan]\n",
      " [nan nan nan]\n",
      " [nan nan nan]\n",
      " [nan nan nan]\n",
      " [nan nan nan]\n",
      " [nan nan nan]\n",
      " [nan nan nan]\n",
      " [nan nan nan]\n",
      " [nan nan nan]\n",
      " [nan nan nan]]\n",
      "here, the issues are if any of the rows are linearly dependent\n",
      "the fit just does not work\n"
     ]
    }
   ],
   "source": [
    "# we just take one batch\n",
    "batch_of_interest = 1\n",
    "\n",
    "intended_kin_one_batch = intended_kin[batch_of_interest]\n",
    "intended_kin_one_batch_2D = intended_kin_one_batch[(X_VEL_STATE_IND, Y_VEL_STATE_IND),:].T\n",
    "spike_count_one_batch = spike_counts_batch[batch_of_interest].T\n",
    "\n",
    "\n",
    "\n",
    "\n",
    "calc_p_value_matrix_result = calc_single_batch_p_values_by_fitting_kinematics_to_spike_counts(\n",
    "                            intended_kin_one_batch_2D, \n",
    "                            spike_count_one_batch)\n",
    "\n",
    "print(calc_p_value_matrix_result)\n",
    "print('here, the issues are if any of the rows are linearly dependent')\n",
    "print('the fit just does not work')"
   ]
  },
  {
   "cell_type": "markdown",
   "metadata": {},
   "source": [
    "## calculate p_values across the batches"
   ]
  },
  {
   "cell_type": "code",
   "execution_count": 74,
   "metadata": {
    "ExecuteTime": {
     "end_time": "2021-03-17T17:23:40.856885Z",
     "start_time": "2021-03-17T17:23:40.855153Z"
    }
   },
   "outputs": [
    {
     "name": "stdout",
     "output_type": "stream",
     "text": [
      "(46, 25, 50)\n",
      "(46, 7, 50)\n"
     ]
    }
   ],
   "source": [
    "print(spike_counts_batch.shape)\n",
    "print(intended_kin.shape)"
   ]
  },
  {
   "cell_type": "code",
   "execution_count": 75,
   "metadata": {
    "ExecuteTime": {
     "end_time": "2021-03-17T17:23:41.229877Z",
     "start_time": "2021-03-17T17:23:40.857738Z"
    }
   },
   "outputs": [
    {
     "name": "stdout",
     "output_type": "stream",
     "text": [
      "regress on the states index : 3 and 5\n",
      "we can check the type of the design matrix\n"
     ]
    },
    {
     "data": {
      "text/plain": [
       "(46, 25, 3)"
      ]
     },
     "execution_count": 75,
     "metadata": {},
     "output_type": "execute_result"
    }
   ],
   "source": [
    "\n",
    "\n",
    "batch_pvalue_matrix = calc_p_values_for_spike_batches_use_intended_kin(spike_counts_batch, \n",
    "                                                                       intended_kin)\n",
    "    \n",
    "print('we can check the type of the design matrix')\n",
    "batch_pvalue_matrix.shape"
   ]
  },
  {
   "cell_type": "code",
   "execution_count": 76,
   "metadata": {
    "ExecuteTime": {
     "end_time": "2021-03-17T17:23:41.336982Z",
     "start_time": "2021-03-17T17:23:41.230829Z"
    }
   },
   "outputs": [
    {
     "name": "stdout",
     "output_type": "stream",
     "text": [
      "we look at the batched p_value 0\n"
     ]
    },
    {
     "data": {
      "text/plain": [
       "<matplotlib.legend.Legend at 0x7f22cc24c550>"
      ]
     },
     "execution_count": 76,
     "metadata": {},
     "output_type": "execute_result"
    },
    {
     "data": {
      "image/png": "[encoded data removed]",
      "text/plain": [
       "<Figure size 432x288 with 1 Axes>"
      ]
     },
     "metadata": {
      "needs_background": "light"
     },
     "output_type": "display_data"
    }
   ],
   "source": [
    "n_roi_neuron = 0\n",
    "print(f'we look at the batched p_value {n_roi_neuron}')\n",
    "batch_pvalue_matrix_neuron = np.squeeze(batch_pvalue_matrix[:,n_roi_neuron,:])\n",
    "\n",
    "plt.plot(batch_pvalue_matrix_neuron)\n",
    "plt.xlabel('update count')\n",
    "plt.legend(['X vel', 'Y vel'])"
   ]
  },
  {
   "cell_type": "code",
   "execution_count": 77,
   "metadata": {
    "ExecuteTime": {
     "end_time": "2021-03-17T17:23:42.783922Z",
     "start_time": "2021-03-17T17:23:41.337928Z"
    },
    "scrolled": false
   },
   "outputs": [
    {
     "data": {
      "image/png": "[encoded data removed]",
      "text/plain": [
       "<Figure size 1152x288 with 25 Axes>"
      ]
     },
     "metadata": {
      "needs_background": "light"
     },
     "output_type": "display_data"
    }
   ],
   "source": [
    "\n",
    "\n",
    "\n",
    "fig, axs = plt.subplots(1,N_NEURONS, figsize = (16,4))\n",
    "\n",
    "for n in range(N_NEURONS):\n",
    "    \n",
    "    \n",
    "    \n",
    "    batch_pvalue_matrix_neuron = np.squeeze(batch_pvalue_matrix[:,n,:])\n",
    "    axs[n].plot(batch_pvalue_matrix_neuron[:,1:])\n",
    "    \n",
    "    \n",
    "    if n == 0: axs[n].legend(['X Vel', 'Y vel'])\n",
    "\n",
    "\n"
   ]
  },
  {
   "cell_type": "markdown",
   "metadata": {},
   "source": [
    "the batch time is small\n",
    "a batch should include at least 4 reaches.\n",
    "very linear. all of a sudden, it gets way.\n",
    "\n",
    "inside target, setting the int to zero. \n",
    "the hold vel is zero.  "
   ]
  },
  {
   "cell_type": "markdown",
   "metadata": {},
   "source": [
    "## compare across conditions"
   ]
  },
  {
   "cell_type": "code",
   "execution_count": 78,
   "metadata": {
    "ExecuteTime": {
     "end_time": "2021-03-17T17:23:42.815497Z",
     "start_time": "2021-03-17T17:23:42.784911Z"
    }
   },
   "outputs": [],
   "source": [
    "for n in range(N_NEURONS):\n",
    "    \n",
    "    \n",
    "    \n",
    "    batch_pvalue_matrix_neuron = np.squeeze(batch_pvalue_matrix[:,n,:])\n",
    "    axs[n].plot(batch_pvalue_matrix_neuron[:,1:])\n",
    "    \n",
    "    \n",
    "    if n == 0: axs[n].legend(['X Vel', 'Y vel'])\n"
   ]
  },
  {
   "cell_type": "markdown",
   "metadata": {},
   "source": [
    "# Assess lasso fit"
   ]
  },
  {
   "cell_type": "code",
   "execution_count": 79,
   "metadata": {
    "ExecuteTime": {
     "end_time": "2021-03-17T17:23:42.818677Z",
     "start_time": "2021-03-17T17:23:42.816434Z"
    }
   },
   "outputs": [
    {
     "name": "stdout",
     "output_type": "stream",
     "text": [
      "spike_counts_batch has the shape of (46, 25, 50)\n",
      "intended_kin has the shape of (46, 7, 50)\n",
      "kf_C has the shape of (46, 25, 7)\n"
     ]
    }
   ],
   "source": [
    "spike_counts_batch = clda_params_dict['spike_counts_batch'] \n",
    "intended_kin = clda_params_dict['intended_kin']\n",
    "\n",
    "print(f'spike_counts_batch has the shape of {spike_counts_batch.shape}')\n",
    "print(f'intended_kin has the shape of {intended_kin.shape}')\n",
    "\n",
    "print(f'kf_C has the shape of {kf_C.shape}')"
   ]
  },
  {
   "cell_type": "code",
   "execution_count": 80,
   "metadata": {
    "ExecuteTime": {
     "end_time": "2021-03-17T17:23:42.828966Z",
     "start_time": "2021-03-17T17:23:42.819625Z"
    }
   },
   "outputs": [
    {
     "name": "stdout",
     "output_type": "stream",
     "text": [
      "we will only be looking the indices of the x vel and y vel (3, 5)\n",
      "time slice of interest 0\n",
      "spike_count_slice has the shape of (50, 25)\n",
      "intended_kin_slice has the shape of (50, 2)\n",
      "kf_C_slice has the shape of (25, 2)\n"
     ]
    }
   ],
   "source": [
    "VEL_DECODING_STATES = (X_VEL_STATE_IND, Y_VEL_STATE_IND,)\n",
    "print(f'we will only be looking the indices of the x vel and y vel {VEL_DECODING_STATES}')\n",
    "\n",
    "time_slice_of_interest = 0\n",
    "print(f'time slice of interest {time_slice_of_interest}')\n",
    "\n",
    "spike_count_slice = np.squeeze(spike_counts_batch[time_slice_of_interest, :, :])\n",
    "intended_kin_slice = np.squeeze(intended_kin[time_slice_of_interest, VEL_DECODING_STATES, :])\n",
    "kf_C_slice = np.squeeze(kf_C[time_slice_of_interest, :,VEL_DECODING_STATES])\n",
    "\n",
    "#rotate the dimensions=\n",
    "spike_count_slice = spike_count_slice.T\n",
    "intended_kin_slice = intended_kin_slice.T\n",
    "kf_C_slice = kf_C_slice.T\n",
    "\n",
    "\n",
    "print(f'spike_count_slice has the shape of {spike_count_slice.shape}')\n",
    "print(f'intended_kin_slice has the shape of {intended_kin_slice.shape}')\n",
    "\n",
    "print(f'kf_C_slice has the shape of {kf_C_slice.shape}')"
   ]
  },
  {
   "cell_type": "code",
   "execution_count": 81,
   "metadata": {
    "ExecuteTime": {
     "end_time": "2021-03-17T17:23:42.844331Z",
     "start_time": "2021-03-17T17:23:42.829660Z"
    },
    "scrolled": true
   },
   "outputs": [
    {
     "data": {
      "text/plain": [
       "array([[ 5.96, -0.27],\n",
       "       [ 0.04,  0.35],\n",
       "       [ 0.45,  3.96],\n",
       "       [ 2.15,  0.09],\n",
       "       [ 0.19, -0.99],\n",
       "       [-0.19, -0.52],\n",
       "       [-0.22,  0.39],\n",
       "       [-0.26, -0.01],\n",
       "       [-0.18, -0.18],\n",
       "       [-0.82, -0.45],\n",
       "       [-0.62, -0.34],\n",
       "       [-0.58,  0.23],\n",
       "       [-0.09,  0.53],\n",
       "       [ 0.18,  0.01],\n",
       "       [-0.67,  0.48],\n",
       "       [ 0.96,  0.93],\n",
       "       [ 0.4 , -0.08],\n",
       "       [ 0.15, -0.35],\n",
       "       [ 0.2 ,  0.27],\n",
       "       [ 0.29,  0.2 ],\n",
       "       [ 0.32,  0.47],\n",
       "       [-0.03, -0.37],\n",
       "       [-0.54, -0.22],\n",
       "       [-0.61, -0.5 ],\n",
       "       [ 0.16, -0.33]])"
      ]
     },
     "execution_count": 81,
     "metadata": {},
     "output_type": "execute_result"
    }
   ],
   "source": [
    "kf_C_slice"
   ]
  },
  {
   "cell_type": "markdown",
   "metadata": {},
   "source": [
    "this matrix differs from below\n",
    "because this is mixed from the intial model"
   ]
  },
  {
   "cell_type": "code",
   "execution_count": 82,
   "metadata": {
    "ExecuteTime": {
     "end_time": "2021-03-17T17:23:42.881506Z",
     "start_time": "2021-03-17T17:23:42.845248Z"
    }
   },
   "outputs": [
    {
     "data": {
      "text/plain": [
       "array([[ 9.67,  0.44],\n",
       "       [-0.06, -0.07],\n",
       "       [ 1.11,  8.77],\n",
       "       [ 2.03,  0.14],\n",
       "       [ 0.  ,  0.  ],\n",
       "       [ 0.  ,  0.  ],\n",
       "       [ 0.  ,  0.  ],\n",
       "       [ 0.  ,  0.  ],\n",
       "       [ 0.  ,  0.  ],\n",
       "       [ 0.  ,  0.  ],\n",
       "       [ 0.  ,  0.  ],\n",
       "       [ 0.  ,  0.  ],\n",
       "       [ 0.  ,  0.  ],\n",
       "       [ 0.  ,  0.  ],\n",
       "       [ 0.  ,  0.  ],\n",
       "       [ 0.  ,  0.  ],\n",
       "       [ 0.  ,  0.  ],\n",
       "       [ 0.  ,  0.  ],\n",
       "       [ 0.  ,  0.  ],\n",
       "       [ 0.  ,  0.  ],\n",
       "       [ 0.  ,  0.  ],\n",
       "       [ 0.  ,  0.  ],\n",
       "       [ 0.  ,  0.  ],\n",
       "       [ 0.  ,  0.  ],\n",
       "       [ 0.  ,  0.  ]])"
      ]
     },
     "execution_count": 82,
     "metadata": {},
     "output_type": "execute_result"
    }
   ],
   "source": [
    "from sklearn import linear_model\n",
    "\n",
    "\n",
    "linear_reg_model = linear_model.LinearRegression()\n",
    "linear_reg_model.fit(intended_kin_slice, \n",
    "        spike_count_slice)\n",
    "\n",
    "linear_reg_model.coef_"
   ]
  },
  {
   "cell_type": "markdown",
   "metadata": {},
   "source": [
    "## Fit to Lasso path"
   ]
  },
  {
   "cell_type": "code",
   "execution_count": 83,
   "metadata": {
    "ExecuteTime": {
     "end_time": "2021-03-17T17:23:42.885515Z",
     "start_time": "2021-03-17T17:23:42.882340Z"
    }
   },
   "outputs": [
    {
     "name": "stdout",
     "output_type": "stream",
     "text": [
      "[[ 0.08 -0.   -0.02  0.    0.    0.    0.    0.    0.    0.    0.    0.\n",
      "   0.    0.    0.    0.    0.    0.    0.    0.    0.    0.    0.    0.\n",
      "   0.  ]\n",
      " [-0.01 -0.    0.1  -0.03  0.    0.    0.    0.    0.    0.    0.    0.\n",
      "   0.    0.    0.    0.    0.    0.    0.    0.    0.    0.    0.    0.\n",
      "   0.  ]]\n"
     ]
    }
   ],
   "source": [
    "\n",
    "\n",
    "clf = linear_model.Lasso(alpha = 1,\n",
    "    max_iter = 100000)\n",
    "clf.fit(spike_count_slice, intended_kin_slice)\n",
    "\n",
    "print(clf.coef_)"
   ]
  },
  {
   "cell_type": "markdown",
   "metadata": {},
   "source": [
    "apparently, we have this"
   ]
  },
  {
   "cell_type": "code",
   "execution_count": 84,
   "metadata": {
    "ExecuteTime": {
     "end_time": "2021-03-17T17:23:42.912662Z",
     "start_time": "2021-03-17T17:23:42.886305Z"
    }
   },
   "outputs": [],
   "source": [
    "(N_BATCHES, N_NEURONS, N_POINTS_IN_A_BATCH)  =  spike_counts_batch.shape\n",
    "lasso_alpha = 1\n",
    "\n",
    "#initialize an nan array\n",
    "lasso_coefs = np.empty((N_BATCHES, len(VEL_DECODING_STATES), N_NEURONS))\n",
    "lasso_coefs[:] = np.nan\n",
    "\n",
    "for n_slice in range(N_BATCHES):\n",
    "    #get the exact dimensions\n",
    "    spike_count_slice = np.squeeze(spike_counts_batch[n_slice, :, :])\n",
    "    intended_kin_slice = np.squeeze(intended_kin[n_slice, VEL_DECODING_STATES, :])\n",
    "    \n",
    "    #rotate the dimensions=\n",
    "    spike_count_slice = spike_count_slice.T\n",
    "    intended_kin_slice = intended_kin_slice.T\n",
    "\n",
    "    \n",
    "    clf = linear_model.Lasso(alpha = lasso_alpha,\n",
    "        max_iter = 100000)\n",
    "    clf.fit(spike_count_slice, intended_kin_slice)\n",
    "\n",
    "\n",
    "    lasso_coefs[n_slice,:,:] = clf.coef_\n",
    "    "
   ]
  },
  {
   "cell_type": "code",
   "execution_count": 85,
   "metadata": {
    "ExecuteTime": {
     "end_time": "2021-03-17T17:23:42.927080Z",
     "start_time": "2021-03-17T17:23:42.913519Z"
    }
   },
   "outputs": [
    {
     "name": "stdout",
     "output_type": "stream",
     "text": [
      "to use the weight function, we need to swap axis\n",
      "the new lasso coef has axis of (46, 25, 2)\n"
     ]
    },
    {
     "data": {
      "text/plain": [
       "(46, 25)"
      ]
     },
     "execution_count": 85,
     "metadata": {},
     "output_type": "execute_result"
    }
   ],
   "source": [
    "print('to use the weight function, we need to swap axis')\n",
    "OLD_NEURON_AXIS = 2\n",
    "OLD_STATE_AXIS = 1\n",
    "\n",
    "lasso_coefs = np.swapaxes(lasso_coefs, OLD_NEURON_AXIS, OLD_STATE_AXIS)\n",
    "print(f'the new lasso coef has axis of {lasso_coefs.shape}')\n",
    "\n",
    "lasso_coefs_over_batches = calc_a_history_of_matrix_L2norms_along_first_axis(lasso_coefs,\n",
    "                                                                       (0,1))\n",
    "\n",
    "\n",
    "lasso_coefs_over_batches.shape"
   ]
  },
  {
   "cell_type": "code",
   "execution_count": 86,
   "metadata": {
    "ExecuteTime": {
     "end_time": "2021-03-17T17:23:43.100277Z",
     "start_time": "2021-03-17T17:23:42.927823Z"
    },
    "scrolled": true
   },
   "outputs": [
    {
     "data": {
      "text/plain": [
       "[<matplotlib.lines.Line2D at 0x7f22bfa09370>,\n",
       " <matplotlib.lines.Line2D at 0x7f22bf2a15e0>,\n",
       " <matplotlib.lines.Line2D at 0x7f22bf2a16a0>,\n",
       " <matplotlib.lines.Line2D at 0x7f22bf2a1760>,\n",
       " <matplotlib.lines.Line2D at 0x7f22bf2a1820>,\n",
       " <matplotlib.lines.Line2D at 0x7f22bf2a18e0>,\n",
       " <matplotlib.lines.Line2D at 0x7f22bf2a19a0>,\n",
       " <matplotlib.lines.Line2D at 0x7f22bf2a1a60>,\n",
       " <matplotlib.lines.Line2D at 0x7f22bf2a1b20>,\n",
       " <matplotlib.lines.Line2D at 0x7f22bf2a1be0>,\n",
       " <matplotlib.lines.Line2D at 0x7f22bf2ecbe0>,\n",
       " <matplotlib.lines.Line2D at 0x7f22bf2a1d00>,\n",
       " <matplotlib.lines.Line2D at 0x7f22bf2a1df0>,\n",
       " <matplotlib.lines.Line2D at 0x7f22bf2a1eb0>,\n",
       " <matplotlib.lines.Line2D at 0x7f22bf2a1f70>,\n",
       " <matplotlib.lines.Line2D at 0x7f22bf2ac070>]"
      ]
     },
     "execution_count": 86,
     "metadata": {},
     "output_type": "execute_result"
    },
    {
     "data": {
      "image/png": "[encoded data removed]",
      "text/plain": [
       "<Figure size 432x288 with 2 Axes>"
      ]
     },
     "metadata": {
      "needs_background": "light"
     },
     "output_type": "display_data"
    }
   ],
   "source": [
    "figure_lasso, lasso_axes = plt.subplots(1,2)\n",
    "\n",
    "encoding_neurons_of_interest = range(4)\n",
    "nonencoding_neurons_of_interest = range(4, 20)\n",
    "\n",
    "lasso_axes[0].plot(lasso_coefs_over_batches[:, encoding_neurons_of_interest])\n",
    "\n",
    "lasso_axes[1].plot(lasso_coefs_over_batches[:,nonencoding_neurons_of_interest])\n"
   ]
  },
  {
   "cell_type": "code",
   "execution_count": 87,
   "metadata": {
    "ExecuteTime": {
     "end_time": "2021-03-17T17:23:43.329288Z",
     "start_time": "2021-03-17T17:23:43.101172Z"
    },
    "scrolled": true
   },
   "outputs": [
    {
     "name": "stdout",
     "output_type": "stream",
     "text": [
      "kf_slice has kf_slice has shape (25, 2)\n"
     ]
    },
    {
     "data": {
      "text/plain": [
       "Text(0.5, 0, 'update batch number')"
      ]
     },
     "execution_count": 87,
     "metadata": {},
     "output_type": "execute_result"
    },
    {
     "data": {
      "image/png": "[encoded data removed]",
      "text/plain": [
       "<Figure size 432x288 with 2 Axes>"
      ]
     },
     "metadata": {
      "needs_background": "light"
     },
     "output_type": "display_data"
    }
   ],
   "source": [
    "figure_lasso_directions, lasso_pds_axes = plt.subplots(1,2)\n",
    "\n",
    "\n",
    "time_of_interest = 0\n",
    "lasso_slice_start = np.squeeze(lasso_coefs[time_of_interest, :,:])\n",
    "print(f'kf_slice has kf_slice has shape {lasso_slice_start.shape}')\n",
    "\n",
    "lasso_slice_end = np.squeeze(lasso_coefs[-1, :,:])\n",
    "\n",
    "\n",
    "#plot the begining \n",
    "plot_prefered_directions(lasso_slice_start, \n",
    "                         ax = lasso_pds_axes[0])\n",
    "lasso_pds_axes[0].set_title('Prefered direction vector L2 norm at the begining')\n",
    "lasso_pds_axes[0].set_xlabel('update batch number')\n",
    "\n",
    "\n",
    "\n",
    "#plot the end\n",
    "#plot the begining \n",
    "plot_prefered_directions(lasso_slice_end, \n",
    "                         ax = lasso_pds_axes[1])\n",
    "lasso_pds_axes[1].set_title('Prefered direction vector L2 norm at the last update')\n",
    "lasso_pds_axes[1].set_xlabel('update batch number')\n",
    "\n",
    "\n",
    "\n"
   ]
  },
  {
   "cell_type": "markdown",
   "metadata": {},
   "source": [
    "## Cross-validate the fit"
   ]
  },
  {
   "cell_type": "code",
   "execution_count": 88,
   "metadata": {
    "ExecuteTime": {
     "end_time": "2021-03-17T17:23:43.332754Z",
     "start_time": "2021-03-17T17:23:43.330126Z"
    }
   },
   "outputs": [
    {
     "name": "stdout",
     "output_type": "stream",
     "text": [
      "get a slice of data\n",
      "just to double check the shapes       spike_count_slice has a shape of (50, 25)      and intended_kin_slice has the shape of (50, 2)\n"
     ]
    }
   ],
   "source": [
    "print('get a slice of data')\n",
    "n_slice = 0\n",
    "\n",
    "#get the exact dimensions\n",
    "spike_count_slice = np.squeeze(spike_counts_batch[n_slice, :, :])\n",
    "intended_kin_slice = np.squeeze(intended_kin[n_slice, VEL_DECODING_STATES, :])\n",
    "\n",
    "#rotate the dimensions=\n",
    "spike_count_slice = spike_count_slice.T\n",
    "intended_kin_slice = intended_kin_slice.T\n",
    "\n",
    "print(f'just to double check the shapes \\\n",
    "      spike_count_slice has a shape of {spike_count_slice.shape}\\\n",
    "      and intended_kin_slice has the shape of {intended_kin_slice.shape}')"
   ]
  },
  {
   "cell_type": "code",
   "execution_count": 89,
   "metadata": {
    "ExecuteTime": {
     "end_time": "2021-03-17T17:23:43.363275Z",
     "start_time": "2021-03-17T17:23:43.333530Z"
    }
   },
   "outputs": [
    {
     "name": "stdout",
     "output_type": "stream",
     "text": [
      "to work with lasso regression, we are using an alpha range of 0.0001 as defined by alpha_min / alpha_max\n",
      "and we are doing 5 fold validation\n",
      "and by default, we are using 100 alphas \n",
      "lassoCV_result returns the best alpha of 0.09995493387489432\n",
      "and the alphas we used are None\n"
     ]
    }
   ],
   "source": [
    "eps = 1e-4 # this is the alpha range that we are interested in, right. \n",
    "CV = 5 \n",
    "n_alphas = 100\n",
    "print(f'to work with lasso regression, we are using an alpha range of {eps} as defined by alpha_min / alpha_max')\n",
    "print(f'and we are doing {CV} fold validation')\n",
    "print(f'and by default, we are using {n_alphas} alphas ')\n",
    "\n",
    "lassoCV_result = linear_model.MultiTaskLassoCV(eps = eps,\n",
    "                                     cv = CV).fit(spike_count_slice, intended_kin_slice)\n",
    "\n",
    "print(f'lassoCV_result returns the best alpha of {lassoCV_result.alpha_}')\n",
    "print(f'and the alphas we used are {lassoCV_result.alphas}')"
   ]
  },
  {
   "cell_type": "markdown",
   "metadata": {},
   "source": [
    "## Visualize the lasso path"
   ]
  },
  {
   "cell_type": "code",
   "execution_count": 90,
   "metadata": {
    "ExecuteTime": {
     "end_time": "2021-03-17T17:23:43.370679Z",
     "start_time": "2021-03-17T17:23:43.364089Z"
    }
   },
   "outputs": [
    {
     "name": "stdout",
     "output_type": "stream",
     "text": [
      "alphas have the shape of (100,)\n",
      "coefs have the shape of (25, 2, 100)\n",
      "transpose for plotting\n",
      "reshaped coefs array has dimension of (100, 50)\n"
     ]
    }
   ],
   "source": [
    "from sklearn.linear_model import lasso_path\n",
    "\n",
    "#determine the error tolerance\n",
    "eps = 3e-5\n",
    "\n",
    "alpha_lasso, coefs_lasso,_  = lasso_path(intended_kin_slice,\n",
    "                                     spike_count_slice)\n",
    "\n",
    "\n",
    "print(f'alphas have the shape of {alpha_lasso.shape}')\n",
    "print(f'coefs have the shape of {coefs_lasso.shape}')\n",
    "\n",
    "coef_dim_1, coef_2, coef_3 = coefs_lasso.shape\n",
    "\n",
    "\n",
    "reshaped_coefs_lasso = np.reshape(\n",
    "    coefs_lasso, (coef_dim_1 * coef_2, coef_3), order = 'F' #Fortan like column first like reshaping\n",
    ")\n",
    "print('transpose for plotting')\n",
    "reshaped_coefs_lasso = reshaped_coefs_lasso.T\n",
    "print(f'reshaped coefs array has dimension of {reshaped_coefs_lasso.shape}')"
   ]
  },
  {
   "cell_type": "code",
   "execution_count": 91,
   "metadata": {
    "ExecuteTime": {
     "end_time": "2021-03-17T17:23:43.500531Z",
     "start_time": "2021-03-17T17:23:43.371557Z"
    }
   },
   "outputs": [
    {
     "name": "stdout",
     "output_type": "stream",
     "text": [
      "let plot the coefficient trajectory\n"
     ]
    },
    {
     "data": {
      "text/plain": [
       "Text(0, 0.5, 'Coefficients')"
      ]
     },
     "execution_count": 91,
     "metadata": {},
     "output_type": "execute_result"
    },
    {
     "data": {
      "image/png": "[encoded data removed]",
      "text/plain": [
       "<Figure size 432x288 with 1 Axes>"
      ]
     },
     "metadata": {
      "needs_background": "light"
     },
     "output_type": "display_data"
    }
   ],
   "source": [
    "print('let plot the coefficient trajectory')\n",
    "\n",
    "neg_log_alpha_lasso = - np.log(alpha_lasso)\n",
    "\n",
    "plt.plot(neg_log_alpha_lasso, reshaped_coefs_lasso)\n",
    "plt.xlabel('-log(alpha)')\n",
    "plt.ylabel('Coefficients')"
   ]
  },
  {
   "cell_type": "code",
   "execution_count": 92,
   "metadata": {
    "ExecuteTime": {
     "end_time": "2021-03-17T17:23:43.503133Z",
     "start_time": "2021-03-17T17:23:43.501355Z"
    }
   },
   "outputs": [
    {
     "name": "stdout",
     "output_type": "stream",
     "text": [
      "reorient the array\n"
     ]
    }
   ],
   "source": [
    "print('reorient the array')"
   ]
  },
  {
   "cell_type": "code",
   "execution_count": 93,
   "metadata": {
    "ExecuteTime": {
     "end_time": "2021-03-17T17:23:43.513776Z",
     "start_time": "2021-03-17T17:23:43.503813Z"
    }
   },
   "outputs": [
    {
     "name": "stdout",
     "output_type": "stream",
     "text": [
      "(3, 2, 2)\n",
      "[[[1 2]\n",
      "  [0 1]]\n",
      "\n",
      " [[1 2]\n",
      "  [1 2]]\n",
      "\n",
      " [[3 4]\n",
      "  [5 6]]]\n"
     ]
    }
   ],
   "source": [
    "a = np.array([\n",
    "    [[1,2],[0,1]],\n",
    "    [[1,2],[1,2]],\n",
    "    [[3,4],[5,6]]\n",
    "])\n",
    "print(a.shape)\n",
    "print(a)"
   ]
  },
  {
   "cell_type": "code",
   "execution_count": 94,
   "metadata": {
    "ExecuteTime": {
     "end_time": "2021-03-17T17:23:43.524457Z",
     "start_time": "2021-03-17T17:23:43.514606Z"
    },
    "scrolled": true
   },
   "outputs": [
    {
     "data": {
      "text/plain": [
       "array([1, 2, 0, 1, 1, 2, 1, 2, 3, 4, 5, 6])"
      ]
     },
     "execution_count": 94,
     "metadata": {},
     "output_type": "execute_result"
    }
   ],
   "source": [
    "np.ravel(a)\n",
    "        "
   ]
  },
  {
   "cell_type": "code",
   "execution_count": 95,
   "metadata": {
    "ExecuteTime": {
     "end_time": "2021-03-17T17:23:43.534674Z",
     "start_time": "2021-03-17T17:23:43.525179Z"
    }
   },
   "outputs": [
    {
     "data": {
      "text/plain": [
       "array([[1, 2],\n",
       "       [1, 2],\n",
       "       [3, 4],\n",
       "       [0, 1],\n",
       "       [1, 2],\n",
       "       [5, 6]])"
      ]
     },
     "execution_count": 95,
     "metadata": {},
     "output_type": "execute_result"
    }
   ],
   "source": [
    "np.reshape(a, (6,2), order = 'F')"
   ]
  },
  {
   "cell_type": "markdown",
   "metadata": {},
   "source": [
    "## Fit lasso to accumulating data"
   ]
  },
  {
   "cell_type": "code",
   "execution_count": 96,
   "metadata": {
    "ExecuteTime": {
     "end_time": "2021-03-17T17:23:43.544533Z",
     "start_time": "2021-03-17T17:23:43.535696Z"
    }
   },
   "outputs": [
    {
     "name": "stdout",
     "output_type": "stream",
     "text": [
      "(46, 7, 50)\n"
     ]
    }
   ],
   "source": [
    "(N_BATCHES, N_NEURONS, N_POINTS_IN_A_BATCH)  =  spike_counts_batch.shape\n",
    "(N_BATCHES, N_STATES, N_POINTS_IN_A_BATCH) = intended_kin.shape\n",
    "\n",
    "print(f'{intended_kin.shape}')"
   ]
  },
  {
   "cell_type": "code",
   "execution_count": 97,
   "metadata": {
    "ExecuteTime": {
     "end_time": "2021-03-17T17:23:43.554912Z",
     "start_time": "2021-03-17T17:23:43.545542Z"
    }
   },
   "outputs": [
    {
     "name": "stdout",
     "output_type": "stream",
     "text": [
      "we are gonna swap axes for the state as well as \n",
      "(46, 50, 25)\n",
      "the new intended kin has batch time axis as (46, 50, 7)\n"
     ]
    }
   ],
   "source": [
    "print('we are gonna swap axes for the state as well as ')\n",
    "OLD_NEURON_AXIS = OLD_STATE_AXIS = 1\n",
    "OLD_BATCH_TIME_AXIS =  2\n",
    "\n",
    "spike_counts_batch_reshape = np.swapaxes(spike_counts_batch, OLD_BATCH_TIME_AXIS,OLD_NEURON_AXIS)\n",
    "intended_kin_reshape = np.swapaxes(intended_kin, OLD_BATCH_TIME_AXIS,OLD_STATE_AXIS)\n",
    "\n",
    "\n",
    "print(spike_counts_batch_reshape.shape)\n",
    "print(f'the new intended kin has batch time axis as {intended_kin_reshape.shape}')"
   ]
  },
  {
   "cell_type": "code",
   "execution_count": 98,
   "metadata": {
    "ExecuteTime": {
     "end_time": "2021-03-17T17:23:43.796158Z",
     "start_time": "2021-03-17T17:23:43.555846Z"
    }
   },
   "outputs": [
    {
     "name": "stdout",
     "output_type": "stream",
     "text": [
      "(50, 25)\n",
      "(50, 2)\n",
      "(100, 25)\n",
      "(100, 2)\n",
      "(150, 25)\n",
      "(150, 2)\n",
      "(200, 25)\n",
      "(200, 2)\n",
      "(250, 25)\n",
      "(250, 2)\n",
      "(300, 25)\n",
      "(300, 2)\n",
      "(350, 25)\n",
      "(350, 2)\n",
      "(400, 25)\n",
      "(400, 2)\n",
      "(450, 25)\n",
      "(450, 2)\n",
      "(500, 25)\n",
      "(500, 2)\n",
      "(550, 25)\n",
      "(550, 2)\n",
      "(600, 25)\n",
      "(600, 2)\n",
      "(650, 25)\n",
      "(650, 2)\n",
      "(700, 25)\n",
      "(700, 2)\n",
      "(750, 25)\n",
      "(750, 2)\n",
      "(800, 25)\n",
      "(800, 2)\n",
      "(850, 25)\n",
      "(850, 2)\n",
      "(900, 25)\n",
      "(900, 2)\n",
      "(950, 25)\n",
      "(950, 2)\n",
      "(1000, 25)\n",
      "(1000, 2)\n",
      "(1050, 25)\n",
      "(1050, 2)\n",
      "(1100, 25)\n",
      "(1100, 2)\n",
      "(1150, 25)\n",
      "(1150, 2)\n",
      "(1200, 25)\n",
      "(1200, 2)\n",
      "(1250, 25)\n",
      "(1250, 2)\n",
      "(1300, 25)\n",
      "(1300, 2)\n",
      "(1350, 25)\n",
      "(1350, 2)\n",
      "(1400, 25)\n",
      "(1400, 2)\n",
      "(1450, 25)\n",
      "(1450, 2)\n",
      "(1500, 25)\n",
      "(1500, 2)\n",
      "(1550, 25)\n",
      "(1550, 2)\n",
      "(1600, 25)\n",
      "(1600, 2)\n",
      "(1650, 25)\n",
      "(1650, 2)\n",
      "(1700, 25)\n",
      "(1700, 2)\n",
      "(1750, 25)\n",
      "(1750, 2)\n",
      "(1800, 25)\n",
      "(1800, 2)\n",
      "(1850, 25)\n",
      "(1850, 2)\n",
      "(1900, 25)\n",
      "(1900, 2)\n",
      "(1950, 25)\n",
      "(1950, 2)\n",
      "(2000, 25)\n",
      "(2000, 2)\n",
      "(2050, 25)\n",
      "(2050, 2)\n",
      "(2100, 25)\n",
      "(2100, 2)\n",
      "(2150, 25)\n",
      "(2150, 2)\n",
      "(2200, 25)\n",
      "(2200, 2)\n",
      "(2250, 25)\n",
      "(2250, 2)\n",
      "(50, 25)\n",
      "(50, 2)\n",
      "(100, 25)\n",
      "(100, 2)\n",
      "(150, 25)\n",
      "(150, 2)\n",
      "(200, 25)\n",
      "(200, 2)\n",
      "(250, 25)\n",
      "(250, 2)\n",
      "(300, 25)\n",
      "(300, 2)\n",
      "(350, 25)\n",
      "(350, 2)\n",
      "(400, 25)\n",
      "(400, 2)\n",
      "(450, 25)\n",
      "(450, 2)\n",
      "(500, 25)\n",
      "(500, 2)\n",
      "(550, 25)\n",
      "(550, 2)\n",
      "(600, 25)\n",
      "(600, 2)\n",
      "(650, 25)\n",
      "(650, 2)\n",
      "(700, 25)\n",
      "(700, 2)\n",
      "(750, 25)\n",
      "(750, 2)\n",
      "(800, 25)\n",
      "(800, 2)\n",
      "(850, 25)\n",
      "(850, 2)\n",
      "(900, 25)\n",
      "(900, 2)\n",
      "(950, 25)\n",
      "(950, 2)\n",
      "(1000, 25)\n",
      "(1000, 2)\n",
      "(1050, 25)\n",
      "(1050, 2)\n",
      "(1100, 25)\n",
      "(1100, 2)\n",
      "(1150, 25)\n",
      "(1150, 2)\n",
      "(1200, 25)\n",
      "(1200, 2)\n",
      "(1250, 25)\n",
      "(1250, 2)\n",
      "(1300, 25)\n",
      "(1300, 2)\n",
      "(1350, 25)\n",
      "(1350, 2)\n",
      "(1400, 25)\n",
      "(1400, 2)\n",
      "(1450, 25)\n",
      "(1450, 2)\n",
      "(1500, 25)\n",
      "(1500, 2)\n",
      "(1550, 25)\n",
      "(1550, 2)\n",
      "(1600, 25)\n",
      "(1600, 2)\n",
      "(1650, 25)\n",
      "(1650, 2)\n",
      "(1700, 25)\n",
      "(1700, 2)\n",
      "(1750, 25)\n",
      "(1750, 2)\n",
      "(1800, 25)\n",
      "(1800, 2)\n",
      "(1850, 25)\n",
      "(1850, 2)\n",
      "(1900, 25)\n",
      "(1900, 2)\n",
      "(1950, 25)\n",
      "(1950, 2)\n",
      "(2000, 25)\n",
      "(2000, 2)\n",
      "(2050, 25)\n",
      "(2050, 2)\n",
      "(2100, 25)\n",
      "(2100, 2)\n",
      "(2150, 25)\n",
      "(2150, 2)\n",
      "(2200, 25)\n",
      "(2200, 2)\n",
      "(2250, 25)\n",
      "(2250, 2)\n",
      "(50, 25)\n",
      "(50, 2)\n",
      "(100, 25)\n",
      "(100, 2)\n",
      "(150, 25)\n",
      "(150, 2)\n",
      "(200, 25)\n",
      "(200, 2)\n",
      "(250, 25)\n",
      "(250, 2)\n",
      "(300, 25)\n",
      "(300, 2)\n",
      "(350, 25)\n",
      "(350, 2)\n",
      "(400, 25)\n",
      "(400, 2)\n",
      "(450, 25)\n",
      "(450, 2)\n",
      "(500, 25)\n",
      "(500, 2)\n",
      "(550, 25)\n",
      "(550, 2)\n",
      "(600, 25)\n",
      "(600, 2)\n",
      "(650, 25)\n",
      "(650, 2)\n",
      "(700, 25)\n",
      "(700, 2)\n",
      "(750, 25)\n",
      "(750, 2)\n",
      "(800, 25)\n",
      "(800, 2)\n",
      "(850, 25)\n",
      "(850, 2)\n",
      "(900, 25)\n",
      "(900, 2)\n",
      "(950, 25)\n",
      "(950, 2)\n",
      "(1000, 25)\n",
      "(1000, 2)\n",
      "(1050, 25)\n",
      "(1050, 2)\n",
      "(1100, 25)\n",
      "(1100, 2)\n",
      "(1150, 25)\n",
      "(1150, 2)\n",
      "(1200, 25)\n",
      "(1200, 2)\n",
      "(1250, 25)\n",
      "(1250, 2)\n",
      "(1300, 25)\n",
      "(1300, 2)\n",
      "(1350, 25)\n",
      "(1350, 2)\n",
      "(1400, 25)\n",
      "(1400, 2)\n",
      "(1450, 25)\n",
      "(1450, 2)\n",
      "(1500, 25)\n",
      "(1500, 2)\n",
      "(1550, 25)\n",
      "(1550, 2)\n",
      "(1600, 25)\n",
      "(1600, 2)\n",
      "(1650, 25)\n",
      "(1650, 2)\n",
      "(1700, 25)\n",
      "(1700, 2)\n",
      "(1750, 25)\n",
      "(1750, 2)\n",
      "(1800, 25)\n",
      "(1800, 2)\n",
      "(1850, 25)\n",
      "(1850, 2)\n",
      "(1900, 25)\n",
      "(1900, 2)\n",
      "(1950, 25)\n",
      "(1950, 2)\n",
      "(2000, 25)\n",
      "(2000, 2)\n",
      "(2050, 25)\n",
      "(2050, 2)\n",
      "(2100, 25)\n",
      "(2100, 2)\n",
      "(2150, 25)\n",
      "(2150, 2)\n",
      "(2200, 25)\n",
      "(2200, 2)\n",
      "(2250, 25)\n",
      "(2250, 2)\n"
     ]
    }
   ],
   "source": [
    "N_DECODING_STATES = len(VEL_DECODING_STATES)\n",
    "\n",
    "\n",
    "lasso_alpha_all = [1, 10, 100]\n",
    "\n",
    "\n",
    "lasso_coefs_all = list()\n",
    "ols_coefs_all = list()\n",
    "\n",
    "for lasso_alpha in lasso_alpha_all:\n",
    "    #initialize an nan array\n",
    "    lasso_coefs_accumulate = np.empty((N_BATCHES,N_DECODING_STATES, N_NEURONS))\n",
    "    lasso_coefs_accumulate[:] = np.nan\n",
    "\n",
    "    #initialize \n",
    "    ols_coefs_accumulate = np.empty((N_BATCHES,N_DECODING_STATES, N_NEURONS))\n",
    "    ols_coefs_accumulate[:] = np.nan\n",
    "    \n",
    "\n",
    "    for n_batch in range(1,N_BATCHES):\n",
    "\n",
    "\n",
    "        spike_count_reshape_slice = np.reshape(spike_counts_batch_reshape[:n_batch, :, :], \n",
    "                                               (-1, N_NEURONS)) #keep the neurons and layout the batches\n",
    "\n",
    "        intended_kin_reshape_slice = np.reshape(intended_kin_reshape[:n_batch, :, VEL_DECODING_STATES],\n",
    "                                               (-1, N_DECODING_STATES))\n",
    "\n",
    "        print(spike_count_reshape_slice.shape)\n",
    "        print(intended_kin_reshape_slice.shape)\n",
    "\n",
    "\n",
    "        clf = linear_model.Lasso(alpha = lasso_alpha, max_iter = 100000)\n",
    "        clf.fit(spike_count_reshape_slice, intended_kin_reshape_slice)\n",
    "\n",
    "        ols = linear_model.LinearRegression()\n",
    "        ols.fit(spike_count_reshape_slice, intended_kin_reshape_slice)\n",
    "\n",
    "        lasso_coefs_accumulate[n_batch,:,:] = clf.coef_\n",
    "\n",
    "        ols_coefs_accumulate[n_batch,:,:] = ols.coef_\n",
    "    \n",
    "    lasso_coefs_all.append(lasso_coefs_accumulate)\n",
    "    ols_coefs_all.append(ols_coefs_accumulate)\n",
    "    "
   ]
  },
  {
   "cell_type": "code",
   "execution_count": 99,
   "metadata": {
    "ExecuteTime": {
     "end_time": "2021-03-17T17:23:43.799488Z",
     "start_time": "2021-03-17T17:23:43.797098Z"
    },
    "scrolled": true
   },
   "outputs": [
    {
     "name": "stdout",
     "output_type": "stream",
     "text": [
      "the alpha scanning has a shape of (3, 46, 2, 25)\n",
      "the alphas has a shape of (3, 46, 2, 25)\n"
     ]
    }
   ],
   "source": [
    "lasso_coefs_all =  np.array(lasso_coefs_all)\n",
    "ols_coefs_all = np.array(ols_coefs_all)\n",
    "print(f'the alpha scanning has a shape of {lasso_coefs_all.shape}')\n",
    "print(f'the alphas has a shape of {ols_coefs_all.shape}')"
   ]
  },
  {
   "cell_type": "code",
   "execution_count": 100,
   "metadata": {
    "ExecuteTime": {
     "end_time": "2021-03-17T17:23:44.327785Z",
     "start_time": "2021-03-17T17:23:43.800415Z"
    }
   },
   "outputs": [
    {
     "name": "stdout",
     "output_type": "stream",
     "text": [
      "(46, 2, 25)\n",
      "let look at the coefficients\n",
      "\n"
     ]
    },
    {
     "data": {
      "image/png": "[encoded data removed]",
      "text/plain": [
       "<Figure size 864x288 with 3 Axes>"
      ]
     },
     "metadata": {
      "needs_background": "light"
     },
     "output_type": "display_data"
    }
   ],
   "source": [
    "print(lasso_coefs_accumulate.shape)\n",
    "print('lets look at the coefficients')\n",
    "\n",
    "figure, axes = plt.subplots(1, len(lasso_alpha_all), figsize = (12, 4))\n",
    "\n",
    "for i,a in enumerate(lasso_alpha_all):\n",
    "    \n",
    "    lasso_coefs_accumulate = np.squeeze(lasso_coefs_all[i, :,:,:])\n",
    "    ols_coefs_accumulate = np.squeeze(ols_coefs_all[i, :,:,:])\n",
    "\n",
    "    axes[i].plot(np.reshape(lasso_coefs_accumulate, (N_BATCHES, -1)))\n",
    "\n",
    "    #plot the ols\n",
    "    axes[i].plot(np.reshape(ols_coefs_accumulate, (N_BATCHES, -1)),\n",
    "            linestyle = 'dotted')\n",
    "    \n",
    "    axes[i].set_title(f'lasso an alpha {lasso_alpha_all[i]} vs. ols ')\n",
    "\n",
    "    axes[i].set_xlabel('Cumulative number batches')\n",
    "    axes[i].set_ylabel('Coefficients')\n",
    "\n",
    "\n",
    "print()"
   ]
  },
  {
   "cell_type": "markdown",
   "metadata": {},
   "source": []
  }
 ],
 "metadata": {
  "kernelspec": {
   "display_name": "Python 3",
   "language": "python",
   "name": "python3"
  },
  "language_info": {
   "codemirror_mode": {
    "name": "ipython",
    "version": 3
   },
   "file_extension": ".py",
   "mimetype": "text/x-python",
   "name": "python",
   "nbconvert_exporter": "python",
   "pygments_lexer": "ipython3",
   "version": "3.8.5"
  },
  "toc": {
   "base_numbering": 1,
   "nav_menu": {},
   "number_sections": true,
   "sideBar": true,
   "skip_h1_title": false,
   "title_cell": "Table of Contents",
   "title_sidebar": "Contents",
   "toc_cell": false,
   "toc_position": {
    "height": "600.8px",
    "left": "35px",
    "top": "353.8px",
    "width": "293.1px"
   },
   "toc_section_display": true,
   "toc_window_display": true
  },
  "varInspector": {
   "cols": {
    "lenName": 16,
    "lenType": 16,
    "lenVar": 40
   },
   "kernels_config": {
    "python": {
     "delete_cmd_postfix": "",
     "delete_cmd_prefix": "del ",
     "library": "var_list.py",
     "varRefreshCmd": "print(var_dic_list())"
    },
    "r": {
     "delete_cmd_postfix": ") ",
     "delete_cmd_prefix": "rm(",
     "library": "var_list.r",
     "varRefreshCmd": "cat(var_dic_list()) "
    }
   },
   "types_to_exclude": [
    "module",
    "function",
    "builtin_function_or_method",
    "instance",
    "_Feature"
   ],
   "window_display": false
  }
 },
 "nbformat": 4,
 "nbformat_minor": 4
}
