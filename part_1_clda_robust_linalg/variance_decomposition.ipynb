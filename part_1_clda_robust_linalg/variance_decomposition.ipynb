{
 "cells": [
  {
   "cell_type": "markdown",
   "metadata": {},
   "source": [
    "the reason for this that we wanna understand   \n",
    "how variance decomp work  \n",
    "and validate our functions"
   ]
  },
  {
   "cell_type": "markdown",
   "metadata": {},
   "source": [
    "# import necessary libraries"
   ]
  },
  {
   "cell_type": "code",
   "execution_count": 62,
   "metadata": {
    "ExecuteTime": {
     "end_time": "2021-03-08T20:30:45.508532Z",
     "start_time": "2021-03-08T20:30:45.451226Z"
    }
   },
   "outputs": [],
   "source": [
    "from weights_linear_regression import *\n",
    "from weights import *\n",
    "import numpy as np\n",
    "import statsmodels.api as sm\n",
    "import matplotlib.pyplot as plt"
   ]
  },
  {
   "cell_type": "code",
   "execution_count": 2,
   "metadata": {
    "ExecuteTime": {
     "end_time": "2021-03-08T20:13:15.252802Z",
     "start_time": "2021-03-08T20:13:15.248673Z"
    }
   },
   "outputs": [
    {
     "name": "stdout",
     "output_type": "stream",
     "text": [
      "set up a model with 3 inputs and 2 outputs\n",
      "[Y1 Y2] = [X1 X2 X3][B1 B2] + noise\n",
      "\n",
      "the true beta is\n",
      "[[5.]\n",
      " [3.]\n",
      " [2.]]\n",
      "each row is the weights that correlate a feature to the outputs\n"
     ]
    }
   ],
   "source": [
    "print('set up a model with 3 inputs and 2 outputs')\n",
    "print('[Y1 Y2] = [X1 X2 X3][B1 B2] + noise')\n",
    "\n",
    "feature_weights = [[5,3,2]]\n",
    "#this is number of ys\n",
    "N_RESPONSES = 1\n",
    "#use for later, but the number of samples N\n",
    "N_SAMPLES = 100\n",
    "\n",
    "feature_weights = np.array(feature_weights * N_RESPONSES).T\n",
    "print()\n",
    "\n",
    "\n",
    "N_FEATURES = len(feature_weights)\n",
    "true_beta =  np.ones((N_FEATURES, N_RESPONSES))\n",
    "\n",
    "#assign weights\n",
    "true_beta = true_beta * feature_weights\n",
    "\n",
    "print(f'the true beta is')\n",
    "print(true_beta)\n",
    "print('each row is the weights that correlate a feature to the outputs')\n"
   ]
  },
  {
   "cell_type": "code",
   "execution_count": 3,
   "metadata": {
    "ExecuteTime": {
     "end_time": "2021-03-08T20:13:15.268311Z",
     "start_time": "2021-03-08T20:13:15.253547Z"
    }
   },
   "outputs": [
    {
     "name": "stdout",
     "output_type": "stream",
     "text": [
      "come up with the matrix X\n",
      "and the design matrix has the shape (100, 3)\n"
     ]
    }
   ],
   "source": [
    "print('come up with the matrix X')\n",
    "X = np.random.random_sample((N_SAMPLES, N_FEATURES))\n",
    "print(f'and the design matrix has the shape {X.shape}')\n"
   ]
  },
  {
   "cell_type": "code",
   "execution_count": 4,
   "metadata": {
    "ExecuteTime": {
     "end_time": "2021-03-08T20:13:15.279184Z",
     "start_time": "2021-03-08T20:13:15.269108Z"
    }
   },
   "outputs": [
    {
     "name": "stdout",
     "output_type": "stream",
     "text": [
      "compile the problem\n",
      "the noise vector has the shape of (100, 1)\n",
      "\n",
      "we can take the weight vector, and give a rought measure of SNR for the 3 features\n",
      "feature_weights / noise_std = \n",
      "[[5.]\n",
      " [3.]\n",
      " [2.]]\n"
     ]
    }
   ],
   "source": [
    "print(f'compile the problem')\n",
    "noise_mean = 0\n",
    "noise_std = 1\n",
    "noise_vector = np.random.normal(noise_mean,noise_std,\n",
    "                                (N_SAMPLES, N_RESPONSES))\n",
    "print(f'the noise vector has the shape of {noise_vector.shape}')\n",
    "print()\n",
    "print(f'we can take the weight vector, and give a rought measure of SNR for the {N_FEATURES} features')\n",
    "print('feature_weights / noise_std = ')\n",
    "print(feature_weights/noise_std)"
   ]
  },
  {
   "cell_type": "code",
   "execution_count": null,
   "metadata": {},
   "outputs": [],
   "source": []
  },
  {
   "cell_type": "code",
   "execution_count": 5,
   "metadata": {
    "ExecuteTime": {
     "end_time": "2021-03-08T20:13:15.289268Z",
     "start_time": "2021-03-08T20:13:15.280046Z"
    }
   },
   "outputs": [
    {
     "name": "stdout",
     "output_type": "stream",
     "text": [
      "generate response vector\n",
      "the Y has the shape of (100, 1)\n"
     ]
    }
   ],
   "source": [
    "print('generate response vector')\n",
    "Y = np.matmul(X, true_beta) + noise_vector\n",
    "print(f'the Y has the shape of {Y.shape}')"
   ]
  },
  {
   "cell_type": "markdown",
   "metadata": {},
   "source": [
    "# fit ols"
   ]
  },
  {
   "cell_type": "code",
   "execution_count": 6,
   "metadata": {
    "ExecuteTime": {
     "end_time": "2021-03-08T20:13:15.304044Z",
     "start_time": "2021-03-08T20:13:15.290061Z"
    }
   },
   "outputs": [
    {
     "name": "stdout",
     "output_type": "stream",
     "text": [
      "                                 OLS Regression Results                                \n",
      "=======================================================================================\n",
      "Dep. Variable:                      y   R-squared (uncentered):                   0.960\n",
      "Model:                            OLS   Adj. R-squared (uncentered):              0.958\n",
      "Method:                 Least Squares   F-statistic:                              766.8\n",
      "Date:                Mon, 08 Mar 2021   Prob (F-statistic):                    2.14e-67\n",
      "Time:                        12:13:15   Log-Likelihood:                         -150.44\n",
      "No. Observations:                 100   AIC:                                      306.9\n",
      "Df Residuals:                      97   BIC:                                      314.7\n",
      "Df Model:                           3                                                  \n",
      "Covariance Type:            nonrobust                                                  \n",
      "==============================================================================\n",
      "                 coef    std err          t      P>|t|      [0.025      0.975]\n",
      "------------------------------------------------------------------------------\n",
      "x1             4.8177      0.329     14.624      0.000       4.164       5.471\n",
      "x2             2.7863      0.323      8.632      0.000       2.146       3.427\n",
      "x3             2.2929      0.329      6.962      0.000       1.639       2.946\n",
      "==============================================================================\n",
      "Omnibus:                        3.178   Durbin-Watson:                   1.810\n",
      "Prob(Omnibus):                  0.204   Jarque-Bera (JB):                1.887\n",
      "Skew:                          -0.004   Prob(JB):                        0.389\n",
      "Kurtosis:                       2.327   Cond. No.                         3.43\n",
      "==============================================================================\n",
      "\n",
      "Warnings:\n",
      "[1] Standard Errors assume that the covariance matrix of the errors is correctly specified.\n"
     ]
    }
   ],
   "source": [
    "lin_model = sm.OLS(Y, X)\n",
    "\n",
    "lin_model_result = lin_model.fit()\n",
    "print(lin_model_result.summary())"
   ]
  },
  {
   "cell_type": "code",
   "execution_count": 7,
   "metadata": {
    "ExecuteTime": {
     "end_time": "2021-03-08T20:13:15.317476Z",
     "start_time": "2021-03-08T20:13:15.305236Z"
    }
   },
   "outputs": [
    {
     "data": {
      "text/plain": [
       "(100, 3)"
      ]
     },
     "execution_count": 7,
     "metadata": {},
     "output_type": "execute_result"
    }
   ],
   "source": [
    "X.shape"
   ]
  },
  {
   "cell_type": "code",
   "execution_count": 8,
   "metadata": {
    "ExecuteTime": {
     "end_time": "2021-03-08T20:13:15.327622Z",
     "start_time": "2021-03-08T20:13:15.318461Z"
    }
   },
   "outputs": [],
   "source": [
    "(neuron_batch_coeff, neuron_batch_pvalue, \n",
    "                                sig_flag, sig_p_value_indices) = fit_ols(Y, X)"
   ]
  },
  {
   "cell_type": "markdown",
   "metadata": {},
   "source": [
    "# let's look at variance decomposition"
   ]
  },
  {
   "cell_type": "code",
   "execution_count": 97,
   "metadata": {
    "ExecuteTime": {
     "end_time": "2021-03-08T20:44:46.655955Z",
     "start_time": "2021-03-08T20:44:46.653479Z"
    }
   },
   "outputs": [
    {
     "data": {
      "text/plain": [
       "118.63108110493327"
      ]
     },
     "execution_count": 97,
     "metadata": {},
     "output_type": "execute_result"
    }
   ],
   "source": [
    "lin_model_result.ssr"
   ]
  },
  {
   "cell_type": "code",
   "execution_count": 98,
   "metadata": {
    "ExecuteTime": {
     "end_time": "2021-03-08T20:45:59.055430Z",
     "start_time": "2021-03-08T20:45:59.052324Z"
    }
   },
   "outputs": [
    {
     "data": {
      "text/plain": [
       "array([ 0.45718469,  2.10260563,  0.59615625, -0.56033211,  0.96941797,\n",
       "        0.25701202, -2.10267588,  0.37974864,  0.22558972, -0.46461943,\n",
       "        0.99877241, -0.82852463, -0.14684915,  0.07309764, -0.93752549,\n",
       "        0.96432476, -0.79064338, -1.61613852,  0.96907558, -1.28072688,\n",
       "        1.24518249,  1.59064121, -0.61971329, -2.33062978, -1.22004098,\n",
       "       -0.24310226, -0.22931244, -0.55373543, -1.52469686,  1.30936121,\n",
       "       -0.80013592,  0.06896558, -0.18741558, -1.58219554,  0.37423894,\n",
       "       -0.41209869,  2.6312449 , -0.37871797, -0.03697925, -1.48304094,\n",
       "       -1.36939563, -1.51688741,  1.38465685, -1.36987934,  1.68278144,\n",
       "        0.60762246,  0.39973971,  0.27767491,  0.92850344, -0.78520143,\n",
       "       -1.15927099, -1.34378216,  0.16043542, -0.83804514, -0.74327742,\n",
       "       -1.29059414,  0.02997105,  0.59014434,  1.70087077,  0.30687245,\n",
       "        1.47153124,  1.22918389,  1.23042456, -0.20716848, -0.74372508,\n",
       "        1.99724547, -0.37116172, -0.13879089, -1.16912838,  0.69067138,\n",
       "       -1.8634262 ,  0.57416249,  1.17127133, -0.29843943, -1.13479767,\n",
       "        0.70166615,  0.63971742,  1.04966381,  1.30617444,  2.19593864,\n",
       "        0.88811456,  0.99871987, -0.43929624,  0.45149417,  1.07214785,\n",
       "       -0.05171767,  0.71435133, -0.7039045 , -0.52956225, -2.30720196,\n",
       "       -0.08866914,  1.47460301,  1.5151928 , -0.86751553,  0.08394738,\n",
       "       -0.60795123, -0.91200777,  0.2961676 ,  1.23559616,  1.54233799])"
      ]
     },
     "execution_count": 98,
     "metadata": {},
     "output_type": "execute_result"
    }
   ],
   "source": [
    "lin_model_result.resid"
   ]
  },
  {
   "cell_type": "code",
   "execution_count": 103,
   "metadata": {
    "ExecuteTime": {
     "end_time": "2021-03-08T20:47:30.356234Z",
     "start_time": "2021-03-08T20:47:30.353641Z"
    }
   },
   "outputs": [
    {
     "data": {
      "text/plain": [
       "477.16173910675553"
      ]
     },
     "execution_count": 103,
     "metadata": {},
     "output_type": "execute_result"
    }
   ],
   "source": [
    "lin_model_result.centered_tss"
   ]
  },
  {
   "cell_type": "code",
   "execution_count": 59,
   "metadata": {
    "ExecuteTime": {
     "end_time": "2021-03-08T20:29:59.069160Z",
     "start_time": "2021-03-08T20:29:59.060555Z"
    }
   },
   "outputs": [
    {
     "data": {
      "text/plain": [
       "array([4.81765446, 2.78625585, 2.29285972])"
      ]
     },
     "execution_count": 59,
     "metadata": {},
     "output_type": "execute_result"
    }
   ],
   "source": [
    "beta = lin_model_result.params\n",
    "beta"
   ]
  },
  {
   "cell_type": "code",
   "execution_count": null,
   "metadata": {},
   "outputs": [],
   "source": []
  },
  {
   "cell_type": "code",
   "execution_count": 63,
   "metadata": {
    "ExecuteTime": {
     "end_time": "2021-03-08T20:30:57.301388Z",
     "start_time": "2021-03-08T20:30:57.212514Z"
    },
    "scrolled": false
   },
   "outputs": [
    {
     "data": {
      "text/plain": [
       "[<matplotlib.lines.Line2D at 0x7f886fc49550>]"
      ]
     },
     "execution_count": 63,
     "metadata": {},
     "output_type": "execute_result"
    },
    {
     "data": {
      "image/png": "[encoded data removed]",
      "text/plain": [
       "<Figure size 432x288 with 1 Axes>"
      ]
     },
     "metadata": {
      "needs_background": "light"
     },
     "output_type": "display_data"
    }
   ],
   "source": [
    "Y_e = X@beta.T\n",
    "plt.plot(Y_e)"
   ]
  },
  {
   "cell_type": "code",
   "execution_count": 64,
   "metadata": {
    "ExecuteTime": {
     "end_time": "2021-03-08T20:31:04.696783Z",
     "start_time": "2021-03-08T20:31:04.694274Z"
    }
   },
   "outputs": [
    {
     "data": {
      "text/plain": [
       "(100,)"
      ]
     },
     "execution_count": 64,
     "metadata": {},
     "output_type": "execute_result"
    }
   ],
   "source": [
    "np.squeeze(Y_e).shape"
   ]
  },
  {
   "cell_type": "code",
   "execution_count": 79,
   "metadata": {
    "ExecuteTime": {
     "end_time": "2021-03-08T20:34:35.002567Z",
     "start_time": "2021-03-08T20:34:34.999789Z"
    }
   },
   "outputs": [
    {
     "data": {
      "text/plain": [
       "(100,)"
      ]
     },
     "execution_count": 79,
     "metadata": {},
     "output_type": "execute_result"
    }
   ],
   "source": [
    "Y_sq = np.squeeze(Y)\n",
    "\n",
    "Y_sq.shape"
   ]
  },
  {
   "cell_type": "code",
   "execution_count": 105,
   "metadata": {
    "ExecuteTime": {
     "end_time": "2021-03-08T20:48:10.811075Z",
     "start_time": "2021-03-08T20:48:10.808548Z"
    }
   },
   "outputs": [
    {
     "data": {
      "text/plain": [
       "118.63108110493327"
      ]
     },
     "execution_count": 105,
     "metadata": {},
     "output_type": "execute_result"
    }
   ],
   "source": [
    "resid  =  np.sum((Y_sq - Y_e)**2)\n",
    "resid"
   ]
  },
  {
   "cell_type": "code",
   "execution_count": 94,
   "metadata": {
    "ExecuteTime": {
     "end_time": "2021-03-08T20:39:41.828206Z",
     "start_time": "2021-03-08T20:39:41.819924Z"
    }
   },
   "outputs": [
    {
     "name": "stdout",
     "output_type": "stream",
     "text": [
      "(1, 100)\n"
     ]
    }
   ],
   "source": [
    "Y_centered = Y_sq\n",
    "Y_centered = np.reshape(Y_centered, (-1,1))\n",
    "Y_T = Y_centered.T\n",
    "print(Y_T.shape)"
   ]
  },
  {
   "cell_type": "code",
   "execution_count": 107,
   "metadata": {
    "ExecuteTime": {
     "end_time": "2021-03-08T22:21:36.494171Z",
     "start_time": "2021-03-08T22:21:36.491222Z"
    },
    "scrolled": true
   },
   "outputs": [
    {
     "name": "stdout",
     "output_type": "stream",
     "text": [
      "2932.123756139663\n",
      "118.63108110493327\n"
     ]
    },
    {
     "data": {
      "text/plain": [
       "0.9595409024409259"
      ]
     },
     "execution_count": 107,
     "metadata": {},
     "output_type": "execute_result"
    }
   ],
   "source": [
    "\n",
    "\n",
    "\n",
    "SS_tot = Y_sq.T @  Y_sq\n",
    "print(SS_tot)\n",
    "\n",
    "SS_e =  resid \n",
    "print(resid)\n",
    "\n",
    "R_2 = 1 - SS_e / SS_tot\n",
    "R_2"
   ]
  },
  {
   "cell_type": "code",
   "execution_count": 126,
   "metadata": {
    "ExecuteTime": {
     "end_time": "2021-03-08T22:51:08.205206Z",
     "start_time": "2021-03-08T22:51:08.200733Z"
    }
   },
   "outputs": [
    {
     "name": "stdout",
     "output_type": "stream",
     "text": [
      "[1. 1. 1. 1. 1. 1. 1. 1. 1. 1.]\n",
      "[[0.9 0.9]\n",
      " [0.9 0.9]\n",
      " [0.9 0.9]\n",
      " [0.9 0.9]\n",
      " [0.9 0.9]\n",
      " [0.9 0.9]\n",
      " [0.9 0.9]\n",
      " [0.9 0.9]\n",
      " [0.9 0.9]\n",
      " [0.9 0.9]]\n"
     ]
    },
    {
     "data": {
      "text/plain": [
       "array([0.9, 0.9, 0.9, 0.9, 0.9, 0.9, 0.9, 0.9, 0.9, 0.9])"
      ]
     },
     "execution_count": 126,
     "metadata": {},
     "output_type": "execute_result"
    }
   ],
   "source": [
    "N_ONES  = 10\n",
    "y = np.ones(N_ONES, order = 'F' )\n",
    "print(y)\n",
    "\n",
    "X = np.ones(N_ONES ) * 0.9\n",
    "\n",
    "X = np.tile(X, (2,1)).T\n",
    "print(X)\n",
    "\n",
    "beta = np.array([0.5,0.5])\n",
    "\n",
    "X@beta"
   ]
  },
  {
   "cell_type": "code",
   "execution_count": 127,
   "metadata": {
    "ExecuteTime": {
     "end_time": "2021-03-08T22:51:11.021966Z",
     "start_time": "2021-03-08T22:51:11.019488Z"
    }
   },
   "outputs": [
    {
     "data": {
      "text/plain": [
       "array([0.1, 0.1, 0.1, 0.1, 0.1, 0.1, 0.1, 0.1, 0.1, 0.1])"
      ]
     },
     "execution_count": 127,
     "metadata": {},
     "output_type": "execute_result"
    }
   ],
   "source": [
    "y - X@beta"
   ]
  },
  {
   "cell_type": "code",
   "execution_count": 128,
   "metadata": {
    "ExecuteTime": {
     "end_time": "2021-03-08T22:51:13.172776Z",
     "start_time": "2021-03-08T22:51:13.169680Z"
    }
   },
   "outputs": [
    {
     "data": {
      "text/plain": [
       "array([0.01, 0.01, 0.01, 0.01, 0.01, 0.01, 0.01, 0.01, 0.01, 0.01])"
      ]
     },
     "execution_count": 128,
     "metadata": {},
     "output_type": "execute_result"
    }
   ],
   "source": [
    "(y - X @ beta)**2"
   ]
  },
  {
   "cell_type": "code",
   "execution_count": 129,
   "metadata": {
    "ExecuteTime": {
     "end_time": "2021-03-08T22:51:15.035281Z",
     "start_time": "2021-03-08T22:51:15.032337Z"
    },
    "scrolled": true
   },
   "outputs": [
    {
     "data": {
      "text/plain": [
       "0.09999999999999995"
      ]
     },
     "execution_count": 129,
     "metadata": {},
     "output_type": "execute_result"
    }
   ],
   "source": [
    "np.sum((y - X @ beta)**2)"
   ]
  },
  {
   "cell_type": "code",
   "execution_count": 140,
   "metadata": {
    "ExecuteTime": {
     "end_time": "2021-03-08T23:08:38.325398Z",
     "start_time": "2021-03-08T23:08:38.322222Z"
    }
   },
   "outputs": [
    {
     "data": {
      "text/plain": [
       "array([[6],\n",
       "       [6]])"
      ]
     },
     "execution_count": 140,
     "metadata": {},
     "output_type": "execute_result"
    }
   ],
   "source": [
    "X = np.array([[1, 2,3],\n",
    "             [1,2,3]])\n",
    "\n",
    "beta = np.array([1, 1,1]).reshape(-1,1)\n",
    "X @ beta"
   ]
  },
  {
   "cell_type": "code",
   "execution_count": 148,
   "metadata": {
    "ExecuteTime": {
     "end_time": "2021-03-08T23:14:46.547614Z",
     "start_time": "2021-03-08T23:14:46.543907Z"
    }
   },
   "outputs": [
    {
     "data": {
      "text/plain": [
       "array([[1, 2, 3],\n",
       "       [1, 2, 3]])"
      ]
     },
     "execution_count": 148,
     "metadata": {},
     "output_type": "execute_result"
    }
   ],
   "source": [
    "X"
   ]
  },
  {
   "cell_type": "code",
   "execution_count": 167,
   "metadata": {
    "ExecuteTime": {
     "end_time": "2021-03-08T23:36:11.882160Z",
     "start_time": "2021-03-08T23:36:11.879764Z"
    }
   },
   "outputs": [
    {
     "data": {
      "text/plain": [
       "array([[8],\n",
       "       [7]])"
      ]
     },
     "execution_count": 167,
     "metadata": {},
     "output_type": "execute_result"
    }
   ],
   "source": [
    "y"
   ]
  },
  {
   "cell_type": "code",
   "execution_count": 188,
   "metadata": {
    "ExecuteTime": {
     "end_time": "2021-03-09T01:16:16.263264Z",
     "start_time": "2021-03-09T01:16:16.257908Z"
    }
   },
   "outputs": [
    {
     "name": "stdout",
     "output_type": "stream",
     "text": [
      "(2, 1)\n",
      "(1, 1)\n",
      "(2, 1)\n",
      "(2, 1)\n",
      "(1, 1)\n",
      "(2, 1)\n",
      "(2, 1)\n",
      "(1, 1)\n",
      "(2, 1)\n"
     ]
    },
    {
     "data": {
      "text/plain": [
       "array([42.5, 30.5, 20.5])"
      ]
     },
     "execution_count": 188,
     "metadata": {},
     "output_type": "execute_result"
    }
   ],
   "source": [
    "y = np.array([8,7]).reshape(-1,1)\n",
    "\n",
    "\n",
    "return_normalized = False\n",
    "\n",
    "(X_NUM_ROWS, X_NUM_COLS) = X.shape\n",
    "\n",
    "result = list()\n",
    "\n",
    "for i in range(X_NUM_COLS):\n",
    "    X_col = X[:, (i,)]\n",
    "    print(X_col.shape)\n",
    "    \n",
    "    beta_row = beta[(i,), :]\n",
    "    print(beta_row.shape)\n",
    "    \n",
    "    print((np.matmul(X_col,  beta_row)).shape)\n",
    "    temp  = (y - np.matmul(X_col,  beta_row))**2\n",
    "    temp = np.sum(temp)\n",
    "    \n",
    "    result.append(temp)\n",
    "\n",
    "result = np.array(result)\n",
    "result = result / X_NUM_ROWS\n",
    "\n",
    "if return_normalized:  \n",
    "    result = result / np.var(y)\n",
    "    \n",
    "(result)"
   ]
  }
 ],
 "metadata": {
  "kernelspec": {
   "display_name": "Python 3.8.5 64-bit",
   "language": "python",
   "name": "python38564bit9a5245e0d82745b4b2cc081b2643eb8e"
  },
  "language_info": {
   "codemirror_mode": {
    "name": "ipython",
    "version": 3
   },
   "file_extension": ".py",
   "mimetype": "text/x-python",
   "name": "python",
   "nbconvert_exporter": "python",
   "pygments_lexer": "ipython3",
   "version": "3.8.5"
  },
  "toc": {
   "base_numbering": 1,
   "nav_menu": {},
   "number_sections": true,
   "sideBar": true,
   "skip_h1_title": false,
   "title_cell": "Table of Contents",
   "title_sidebar": "Contents",
   "toc_cell": false,
   "toc_position": {},
   "toc_section_display": true,
   "toc_window_display": true
  }
 },
 "nbformat": 4,
 "nbformat_minor": 4
}
