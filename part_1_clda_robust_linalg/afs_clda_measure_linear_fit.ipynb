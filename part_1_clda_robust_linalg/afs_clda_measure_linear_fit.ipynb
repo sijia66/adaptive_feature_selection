{
 "cells": [
  {
   "cell_type": "markdown",
   "metadata": {},
   "source": [
    "# Purposes of this document\n",
    "\n",
    "set up tracking linear weights tools\n",
    "\n",
    "the observation fit a\n",
    "\n",
    "firing_rates = C x states +  Q\n",
    "\n",
    "we need to track the weights change in C\n",
    "as well as how the goodness of the fit using"
   ]
  },
  {
   "cell_type": "markdown",
   "metadata": {},
   "source": [
    "# ideas"
   ]
  },
  {
   "cell_type": "markdown",
   "metadata": {},
   "source": []
  },
  {
   "cell_type": "markdown",
   "metadata": {},
   "source": [
    "# Experimental setup related to the questions\n",
    "\n",
    "this part should be configured to directly test the hypothesis put forward in the previous section\n"
   ]
  },
  {
   "cell_type": "code",
   "execution_count": 1,
   "metadata": {
    "ExecuteTime": {
     "end_time": "2021-03-09T01:33:42.688416Z",
     "start_time": "2021-03-09T01:33:42.135429Z"
    }
   },
   "outputs": [
    {
     "name": "stdout",
     "output_type": "stream",
     "text": [
      "features.simulation_features: get_enc_setup has a tuning_level of 1 \n",
      "\n",
      "examine the encoder weights distribution\n",
      "We expect the only the first four neurons carry information:\n",
      "[[ 0.  0.  0.  1.  0.  0.  0.]\n",
      " [ 0.  0.  0. -1.  0.  0.  0.]\n",
      " [ 0.  0.  0.  0.  0.  1.  0.]\n",
      " [ 0.  0.  0.  0.  0. -1.  0.]\n",
      " [ 0.  0.  0.  0.  0.  0.  0.]\n",
      " [ 0.  0.  0.  0.  0.  0.  0.]\n",
      " [ 0.  0.  0.  0.  0.  0.  0.]\n",
      " [ 0.  0.  0.  0.  0.  0.  0.]\n",
      " [ 0.  0.  0.  0.  0.  0.  0.]\n",
      " [ 0.  0.  0.  0.  0.  0.  0.]\n",
      " [ 0.  0.  0.  0.  0.  0.  0.]\n",
      " [ 0.  0.  0.  0.  0.  0.  0.]\n",
      " [ 0.  0.  0.  0.  0.  0.  0.]\n",
      " [ 0.  0.  0.  0.  0.  0.  0.]\n",
      " [ 0.  0.  0.  0.  0.  0.  0.]\n",
      " [ 0.  0.  0.  0.  0.  0.  0.]\n",
      " [ 0.  0.  0.  0.  0.  0.  0.]\n",
      " [ 0.  0.  0.  0.  0.  0.  0.]\n",
      " [ 0.  0.  0.  0.  0.  0.  0.]\n",
      " [ 0.  0.  0.  0.  0.  0.  0.]]\n"
     ]
    },
    {
     "name": "stderr",
     "output_type": "stream",
     "text": [
      "/home/sijia-aw/BMi3D_my/lab_bmi3d/riglib/blackrock/cerelink.py:13: UserWarning: Unable to import cerebus library. Check if is installed if using the Blackrock NeuroPort system\n",
      "  warnings.warn(\"Unable to import cerebus library. Check if is installed if using the Blackrock NeuroPort system\")\n"
     ]
    }
   ],
   "source": [
    "from features.simulation_features import get_enc_setup\n",
    "\n",
    "#neuron set up : 'std (20 neurons)' or 'toy (4 neurons)' \n",
    "N_NEURONS, N_STATES, sim_C = get_enc_setup(sim_mode = 'std')\n",
    "\n",
    "print('examine the encoder weights distribution')\n",
    "print('We expect the only the first four neurons carry information:')\n",
    "print(sim_C)"
   ]
  },
  {
   "cell_type": "code",
   "execution_count": 2,
   "metadata": {
    "ExecuteTime": {
     "end_time": "2021-03-09T01:33:42.691726Z",
     "start_time": "2021-03-09T01:33:42.689279Z"
    }
   },
   "outputs": [],
   "source": [
    "import numpy as np\n",
    "\n",
    "#encoder mean firing rate\n",
    "neuron_firing_rates  = [1,10]\n",
    "\n",
    "#for comparision\n",
    "exp_conds = [f'enc. mean FR:{b} Hz' for b in neuron_firing_rates]\n",
    "\n",
    "\n",
    "#setting clda parameters \n",
    "##learner: collects paird data at batch_sizes\n",
    "RHO = 0.5\n",
    "batch_size = 50\n",
    "\n",
    "\n",
    "#assistor set up assist level\n",
    "assist_level = (0.05, 0.0)\n",
    "\n",
    "#learner and updater: actualy set up rho\n",
    "UPDATER_BATCH_TIME = 1\n",
    "UPDATER_HALF_LIFE = np.log(RHO)  * UPDATER_BATCH_TIME / np.log(0.5)\n"
   ]
  },
  {
   "cell_type": "code",
   "execution_count": 3,
   "metadata": {
    "ExecuteTime": {
     "end_time": "2021-03-09T01:33:42.698146Z",
     "start_time": "2021-03-09T01:33:42.692707Z"
    }
   },
   "outputs": [],
   "source": [
    "# CHANGE: game mechanics: generate task params\n",
    "N_TARGETS = 8\n",
    "N_TRIALS = 80\n",
    "\n",
    "NUM_EXP = len(exp_conds) # how many experiments we are running. "
   ]
  },
  {
   "cell_type": "markdown",
   "metadata": {},
   "source": [
    "# Config the experiments\n",
    "\n",
    "this section largely copyied and pasted from   \n",
    "bmi3d-sijia(branch)-bulti_in_experiemnts\n",
    "https://github.com/sijia66/brain-python-interface/blob/master/built_in_tasks/sim_task_KF.py"
   ]
  },
  {
   "cell_type": "markdown",
   "metadata": {},
   "source": [
    "## load dependant libraries"
   ]
  },
  {
   "cell_type": "code",
   "execution_count": 4,
   "metadata": {
    "ExecuteTime": {
     "end_time": "2021-03-09T01:33:43.128615Z",
     "start_time": "2021-03-09T01:33:42.699214Z"
    }
   },
   "outputs": [],
   "source": [
    "# import libraries\n",
    "# make sure these directories are in the python path., \n",
    "from bmimultitasks import SimBMIControlMulti, SimBMICosEncKFDec, BMIControlMultiNoWindow\n",
    "from features import SaveHDF\n",
    "from features.simulation_features import get_enc_setup, SimKFDecoderRandom, SimCosineTunedEnc,SimIntentionLQRController, SimClockTick\n",
    "from features.simulation_features import SimHDF, SimTime\n",
    "\n",
    "from riglib import experiment\n",
    "\n",
    "from riglib.stereo_opengl.window import FakeWindow\n",
    "from riglib.bmi import train\n",
    "\n",
    "from weights import calc_p_values_for_spike_batches_use_intended_kin\n",
    "from weights import calc_single_batch_p_values_by_fitting_kinematics_to_spike_counts\n",
    "import weights\n",
    "\n",
    "import time\n",
    "import copy\n",
    "import numpy as np\n",
    "import matplotlib.pyplot as plt\n",
    "import sympy as sp\n",
    "import itertools #for identical sequences\n",
    "\n",
    "np.set_printoptions(precision=2, suppress=True)\n"
   ]
  },
  {
   "cell_type": "markdown",
   "metadata": {},
   "source": [
    "##  behaviour and task setup"
   ]
  },
  {
   "cell_type": "code",
   "execution_count": 5,
   "metadata": {
    "ExecuteTime": {
     "end_time": "2021-03-09T01:33:43.132611Z",
     "start_time": "2021-03-09T01:33:43.129911Z"
    }
   },
   "outputs": [],
   "source": [
    "seq = SimBMIControlMulti.sim_target_seq_generator_multi(\n",
    "N_TARGETS, N_TRIALS)\n",
    "\n",
    "#create a second version of the tasks\n",
    "seqs = itertools.tee(seq, NUM_EXP + 1)\n",
    "target_seq = list(seqs[NUM_EXP])\n",
    "\n",
    "seqs = seqs[:NUM_EXP]\n",
    "\n",
    "\n",
    "SAVE_HDF = False\n",
    "SAVE_SIM_HDF = True #this makes the task data available as exp.task_data_hist\n",
    "DEBUG_FEATURE = False\n",
    "\n",
    "\n",
    "#base_class = SimBMIControlMulti\n",
    "base_class = BMIControlMultiNoWindow\n",
    "\n",
    "#for adding experimental features such as encoder, decoder\n",
    "feats = []"
   ]
  },
  {
   "cell_type": "markdown",
   "metadata": {},
   "source": [
    "## encoder\n",
    "\n",
    "the cosine tuned encoder uses a poisson process, right\n",
    "https://en.wikipedia.org/wiki/Poisson_distribution\n",
    "so if the lambda is 1, then it's very likely "
   ]
  },
  {
   "cell_type": "code",
   "execution_count": 6,
   "metadata": {
    "ExecuteTime": {
     "end_time": "2021-03-09T01:33:43.145551Z",
     "start_time": "2021-03-09T01:33:43.133773Z"
    }
   },
   "outputs": [
    {
     "name": "stdout",
     "output_type": "stream",
     "text": [
      "__main__: selected SimCosineTunedEnc\n",
      "\n"
     ]
    }
   ],
   "source": [
    "ENCODER_TYPE = 'cosine_tuned_encoder'\n",
    "\n",
    "\n",
    "\n",
    "#actually multiply out the firing rates. \n",
    "sim_C_all = [sim_C * nfr for nfr in neuron_firing_rates]\n",
    "\n",
    "\n",
    "#set up intention feedbackcontroller\n",
    "#this ideally set before the encoder\n",
    "feats.append(SimIntentionLQRController)\n",
    "\n",
    "#set up the encoder\n",
    "if ENCODER_TYPE == 'cosine_tuned_encoder' :\n",
    "    feats.append(SimCosineTunedEnc)\n",
    "    print(f'{__name__}: selected SimCosineTunedEnc\\n')"
   ]
  },
  {
   "cell_type": "markdown",
   "metadata": {},
   "source": [
    "## decoder setup"
   ]
  },
  {
   "cell_type": "code",
   "execution_count": 7,
   "metadata": {
    "ExecuteTime": {
     "end_time": "2021-03-09T01:33:43.152145Z",
     "start_time": "2021-03-09T01:33:43.146546Z"
    }
   },
   "outputs": [
    {
     "name": "stdout",
     "output_type": "stream",
     "text": [
      "__main__: set base class \n",
      "__main__: selected SimKFDecoderRandom \n",
      "\n"
     ]
    }
   ],
   "source": [
    "#clda on random \n",
    "DECODER_MODE = 'random' # random \n",
    "\n",
    "   #take care the decoder setup\n",
    "if DECODER_MODE == 'random':\n",
    "    feats.append(SimKFDecoderRandom)\n",
    "    print(f'{__name__}: set base class ')\n",
    "    print(f'{__name__}: selected SimKFDecoderRandom \\n')\n",
    "else: #defaul to a cosEnc and a pre-traind KF DEC\n",
    "    from features.simulation_features import SimKFDecoderSup\n",
    "    feats.append(SimKFDecoderSup)\n",
    "    print(f'{__name__}: set decoder to SimKFDecoderSup\\n')"
   ]
  },
  {
   "cell_type": "markdown",
   "metadata": {},
   "source": [
    "##  clda: learner and updater"
   ]
  },
  {
   "cell_type": "code",
   "execution_count": 8,
   "metadata": {
    "ExecuteTime": {
     "end_time": "2021-03-09T01:33:43.160682Z",
     "start_time": "2021-03-09T01:33:43.153033Z"
    }
   },
   "outputs": [],
   "source": [
    "\n",
    "\n",
    "LEARNER_TYPE = 'feedback' # to dumb or not dumb it is a question 'feedback'\n",
    "UPDATER_TYPE = 'smooth_batch' #none or \"smooth_batch\"\n",
    "\n",
    "\n",
    "#you know what? \n",
    "#learner only collects firing rates labeled with estimated estimates\n",
    "#we would also need to use the labeled data\n",
    "#now, we can set up a dumb/or not-dumb learner\n",
    "if LEARNER_TYPE == 'feedback':\n",
    "    from features.simulation_features import SimFeedbackLearner\n",
    "    feats.append(SimFeedbackLearner)\n",
    "else:\n",
    "    from features.simulation_features import SimDumbLearner\n",
    "    feats.append(SimDumbLearner)\n",
    "\n",
    "#to update the decoder.\n",
    "if UPDATER_TYPE == 'smooth_batch':\n",
    "    from features.simulation_features import SimSmoothBatch\n",
    "    feats.append(SimSmoothBatch)\n",
    "else: #defaut to none \n",
    "    print(f'{__name__}: need to specify an updater')\n",
    "    \n",
    "\n"
   ]
  },
  {
   "cell_type": "markdown",
   "metadata": {},
   "source": [
    "## assistor setup"
   ]
  },
  {
   "cell_type": "markdown",
   "metadata": {},
   "source": [
    "## (Check) config the experiment"
   ]
  },
  {
   "cell_type": "code",
   "execution_count": 9,
   "metadata": {
    "ExecuteTime": {
     "end_time": "2021-03-09T01:33:43.172860Z",
     "start_time": "2021-03-09T01:33:43.161822Z"
    }
   },
   "outputs": [
    {
     "data": {
      "text/plain": [
       "[{'assist_level': (0.05, 0.0),\n",
       "  'sim_C': array([[ 0.,  0.,  0.,  1.,  0.,  0.,  0.],\n",
       "         [ 0.,  0.,  0., -1.,  0.,  0.,  0.],\n",
       "         [ 0.,  0.,  0.,  0.,  0.,  1.,  0.],\n",
       "         [ 0.,  0.,  0.,  0.,  0., -1.,  0.],\n",
       "         [ 0.,  0.,  0.,  0.,  0.,  0.,  0.],\n",
       "         [ 0.,  0.,  0.,  0.,  0.,  0.,  0.],\n",
       "         [ 0.,  0.,  0.,  0.,  0.,  0.,  0.],\n",
       "         [ 0.,  0.,  0.,  0.,  0.,  0.,  0.],\n",
       "         [ 0.,  0.,  0.,  0.,  0.,  0.,  0.],\n",
       "         [ 0.,  0.,  0.,  0.,  0.,  0.,  0.],\n",
       "         [ 0.,  0.,  0.,  0.,  0.,  0.,  0.],\n",
       "         [ 0.,  0.,  0.,  0.,  0.,  0.,  0.],\n",
       "         [ 0.,  0.,  0.,  0.,  0.,  0.,  0.],\n",
       "         [ 0.,  0.,  0.,  0.,  0.,  0.,  0.],\n",
       "         [ 0.,  0.,  0.,  0.,  0.,  0.,  0.],\n",
       "         [ 0.,  0.,  0.,  0.,  0.,  0.,  0.],\n",
       "         [ 0.,  0.,  0.,  0.,  0.,  0.,  0.],\n",
       "         [ 0.,  0.,  0.,  0.,  0.,  0.,  0.],\n",
       "         [ 0.,  0.,  0.,  0.,  0.,  0.,  0.],\n",
       "         [ 0.,  0.,  0.,  0.,  0.,  0.,  0.]]),\n",
       "  'batch_size': 50,\n",
       "  'batch_time': 1,\n",
       "  'half_life': 1.0},\n",
       " {'assist_level': (0.05, 0.0),\n",
       "  'sim_C': array([[  0.,   0.,   0.,  10.,   0.,   0.,   0.],\n",
       "         [  0.,   0.,   0., -10.,   0.,   0.,   0.],\n",
       "         [  0.,   0.,   0.,   0.,   0.,  10.,   0.],\n",
       "         [  0.,   0.,   0.,   0.,   0., -10.,   0.],\n",
       "         [  0.,   0.,   0.,   0.,   0.,   0.,   0.],\n",
       "         [  0.,   0.,   0.,   0.,   0.,   0.,   0.],\n",
       "         [  0.,   0.,   0.,   0.,   0.,   0.,   0.],\n",
       "         [  0.,   0.,   0.,   0.,   0.,   0.,   0.],\n",
       "         [  0.,   0.,   0.,   0.,   0.,   0.,   0.],\n",
       "         [  0.,   0.,   0.,   0.,   0.,   0.,   0.],\n",
       "         [  0.,   0.,   0.,   0.,   0.,   0.,   0.],\n",
       "         [  0.,   0.,   0.,   0.,   0.,   0.,   0.],\n",
       "         [  0.,   0.,   0.,   0.,   0.,   0.,   0.],\n",
       "         [  0.,   0.,   0.,   0.,   0.,   0.,   0.],\n",
       "         [  0.,   0.,   0.,   0.,   0.,   0.,   0.],\n",
       "         [  0.,   0.,   0.,   0.,   0.,   0.,   0.],\n",
       "         [  0.,   0.,   0.,   0.,   0.,   0.,   0.],\n",
       "         [  0.,   0.,   0.,   0.,   0.,   0.,   0.],\n",
       "         [  0.,   0.,   0.,   0.,   0.,   0.,   0.],\n",
       "         [  0.,   0.,   0.,   0.,   0.,   0.,   0.]]),\n",
       "  'batch_size': 50,\n",
       "  'batch_time': 1,\n",
       "  'half_life': 1.0}]"
      ]
     },
     "execution_count": 9,
     "metadata": {},
     "output_type": "execute_result"
    }
   ],
   "source": [
    "if DEBUG_FEATURE: \n",
    "    from features.simulation_features import DebugFeature\n",
    "    feats.append(DebugFeature)\n",
    "    \n",
    "if SAVE_HDF: feats.append(SaveHDF)\n",
    "if SAVE_SIM_HDF: feats.append(SimHDF)\n",
    "    \n",
    "    \n",
    "#pass the real time limit on clock\n",
    "feats.append(SimClockTick)\n",
    "feats.append(SimTime)\n",
    "\n",
    "\n",
    "kwargs_exps = list()\n",
    "\n",
    "for i in range(NUM_EXP):\n",
    "    d = dict()\n",
    "    \n",
    "    d['assist_level'] = assist_level\n",
    "    d['sim_C'] = sim_C_all[i]\n",
    "    d['batch_size'] = batch_size\n",
    "    \n",
    "    d['batch_time'] = UPDATER_BATCH_TIME\n",
    "    d['half_life'] = UPDATER_HALF_LIFE\n",
    "    \n",
    "    kwargs_exps.append(d)\n",
    "\n",
    "\n",
    "kwargs_exps"
   ]
  },
  {
   "cell_type": "markdown",
   "metadata": {},
   "source": [
    "## make and initalize experiment instances"
   ]
  },
  {
   "cell_type": "code",
   "execution_count": 10,
   "metadata": {
    "ExecuteTime": {
     "end_time": "2021-03-09T01:33:43.202205Z",
     "start_time": "2021-03-09T01:33:43.173684Z"
    }
   },
   "outputs": [
    {
     "name": "stdout",
     "output_type": "stream",
     "text": [
      "metaclass constructor\n",
      "(<class 'features.simulation_features.SimIntentionLQRController'>, <class 'features.simulation_features.SimCosineTunedEnc'>, <class 'features.simulation_features.SimKFDecoderRandom'>, <class 'features.simulation_features.SimFeedbackLearner'>, <class 'features.simulation_features.SimSmoothBatch'>, <class 'features.simulation_features.SimHDF'>, <class 'features.simulation_features.SimClockTick'>, <class 'features.simulation_features.SimTime'>, <class 'bmimultitasks.BMIControlMultiNoWindow'>)\n",
      "[<class 'features.simulation_features.SimIntentionLQRController'>, <class 'features.simulation_features.SimCosineTunedEnc'>, <class 'features.simulation_features.SimKFDecoderRandom'>, <class 'features.simulation_features.SimFeedbackLearner'>, <class 'features.simulation_features.SimSmoothBatch'>, <class 'features.simulation_features.SimHDF'>, <class 'features.simulation_features.SimClockTick'>, <class 'features.simulation_features.SimTime'>]\n",
      "\n",
      "features.simulation_features.SimIntentionLQRController: LQRController used \n",
      "\n",
      "\n",
      " features.simulation_features.SimFeedbackLearner: start to create a sim leaner with a batchsize of 50\n",
      "features.simulation_features.SimSmoothBatch: rho in this simulation is  0.5\n",
      "\n",
      "finished executing Experiment.__init__\n",
      "\n",
      "features.simulation_features.SimIntentionLQRController: LQRController used \n",
      "\n",
      "\n",
      " features.simulation_features.SimFeedbackLearner: start to create a sim leaner with a batchsize of 50\n",
      "features.simulation_features.SimSmoothBatch: rho in this simulation is  0.5\n",
      "\n",
      "finished executing Experiment.__init__\n",
      "\n",
      "SimCosineTunedEnc SSM: State space: ['hand_px', 'hand_py', 'hand_pz', 'hand_vx', 'hand_vy', 'hand_vz', 'offset'] \n",
      "\n",
      "neural encoder init function  <BMIControlMultiNoWindow(Thread-4, initial)>\n",
      "features.simulation_features: added tracking of K matrix\n",
      "<bmimultitasks.SimpleEndpointAssister object at 0x7f74b39fc1c0>\n",
      "features.simulation_features: batch size is 50\n",
      "Reset states for learner: \n",
      "[]\n",
      "Done states for learner: \n",
      "[]\n",
      "\n",
      "features.simulation_features.SimFeedbackLearner: flip the self.learn_flag to true\n",
      "features.simulation_features.SimFeedbackLearner: succussfully created a feedback controller learner\n",
      "\n",
      "\n",
      "SimSmoothBatch: created an updater with a batch time of 1 and a half_life of 1.0 \n",
      "\n",
      "\n",
      "SimCosineTunedEnc SSM: State space: ['hand_px', 'hand_py', 'hand_pz', 'hand_vx', 'hand_vy', 'hand_vz', 'offset'] \n",
      "\n",
      "neural encoder init function  <BMIControlMultiNoWindow(Thread-5, initial)>\n",
      "features.simulation_features: added tracking of K matrix\n",
      "<bmimultitasks.SimpleEndpointAssister object at 0x7f74b3a04d90>\n",
      "features.simulation_features: batch size is 50\n",
      "Reset states for learner: \n",
      "[]\n",
      "Done states for learner: \n",
      "[]\n",
      "\n",
      "features.simulation_features.SimFeedbackLearner: flip the self.learn_flag to true\n",
      "features.simulation_features.SimFeedbackLearner: succussfully created a feedback controller learner\n",
      "\n",
      "\n",
      "SimSmoothBatch: created an updater with a batch time of 1 and a half_life of 1.0 \n",
      "\n"
     ]
    }
   ],
   "source": [
    "#seed the experiment\n",
    "np.random.seed(0)\n",
    "\n",
    "#spawn the task\n",
    "Exp = experiment.make(base_class, feats=feats)\n",
    "\n",
    "exps = list()#create a list of experiment\n",
    "\n",
    "for i,s in enumerate(seqs):\n",
    "    e = Exp(s, **kwargs_exps[i])\n",
    "    exps.append(e)\n",
    "\n",
    "#run the ini\n",
    "for e in exps: e.init()"
   ]
  },
  {
   "cell_type": "markdown",
   "metadata": {},
   "source": [
    "# Pre-experiment check: check the Kalman filter before training"
   ]
  },
  {
   "cell_type": "code",
   "execution_count": 11,
   "metadata": {
    "ExecuteTime": {
     "end_time": "2021-03-09T01:33:43.601214Z",
     "start_time": "2021-03-09T01:33:43.203113Z"
    }
   },
   "outputs": [
    {
     "name": "stdout",
     "output_type": "stream",
     "text": [
      "we replace the encoder using the weights\n",
      "assume, they are all randomly initialized get the first decoder\n",
      "get a handle to the first decoder\n",
      "we check the new decoder C matrix:\n"
     ]
    },
    {
     "data": {
      "image/png": "[encoded data removed]",
      "text/plain": [
       "<Figure size 864x288 with 2 Axes>"
      ]
     },
     "metadata": {
      "needs_background": "light"
     },
     "output_type": "display_data"
    }
   ],
   "source": [
    "print('we replace the encoder using the weights')\n",
    "print('assume, they are all randomly initialized get the first decoder')\n",
    "print('get a handle to the first decoder')\n",
    "first_decoder = exps[0].decoder\n",
    "target_C = first_decoder.filt.C\n",
    "    \n",
    "#replace the decoder\n",
    "for i,e in enumerate(exps):\n",
    "    weights.change_target_kalman_filter_with_a_C_mat(e.decoder.filt, target_C, debug=False)\n",
    "    \n",
    "print('we check the new decoder C matrix:')\n",
    "\n",
    "decoder_c_figure, axs = plt.subplots(nrows=1, \n",
    "                               ncols=NUM_EXP, figsize = [12,4])\n",
    "decoder_c_figure.suptitle('Decoder C matrix ')\n",
    "\n",
    "for i,e in enumerate(exps):\n",
    "    e.decoder.plot_C(ax = axs[i])\n",
    "    axs[i].set_title(exp_conds[i])"
   ]
  },
  {
   "cell_type": "markdown",
   "metadata": {},
   "source": [
    "# Experiment run: assemble into a complete loop"
   ]
  },
  {
   "cell_type": "markdown",
   "metadata": {},
   "source": [
    "##  define the function"
   ]
  },
  {
   "cell_type": "code",
   "execution_count": 12,
   "metadata": {
    "ExecuteTime": {
     "end_time": "2021-03-09T01:33:43.612104Z",
     "start_time": "2021-03-09T01:33:43.602091Z"
    },
    "scrolled": true
   },
   "outputs": [],
   "source": [
    "#make this into a loop\n",
    "\n",
    "def run_exp_loop(exp,  **kwargs):\n",
    "        # riglib.experiment: line 597 - 601\n",
    "    #exp.next_trial = next(exp.gen)\n",
    "    # -+exp._parse_next_trial()np.arraynp.array\n",
    "\n",
    "\n",
    "    # we need to set the initial state\n",
    "    # per fsm.run:  line 138\n",
    "\n",
    "\n",
    "    # Initialize the FSM before the loop\n",
    "    exp.set_state(exp.state)\n",
    "    \n",
    "    finished_trials = exp.calc_state_occurrences('wait')\n",
    "    print(f'finished: {finished_trials}')\n",
    "\n",
    "\n",
    "    while exp.state is not None:\n",
    "\n",
    "        # exp.fsm_tick()\n",
    "\n",
    "        ### Execute commands#####\n",
    "        exp.exec_state_specific_actions(exp.state)\n",
    "\n",
    "        ###run the bmi loop #####\n",
    "        # _cycle\n",
    "\n",
    "        # bmi feature extraction, eh\n",
    "        #riglib.bmi: 1202\n",
    "        feature_data = exp.get_features()\n",
    "\n",
    "        # Determine the target_state and save to file\n",
    "        current_assist_level = exp.get_current_assist_level()\n",
    "        target_state = exp.get_target_BMI_state(exp.decoder.states)\n",
    "\n",
    "        # Determine the assistive control inputs to the Decoder\n",
    "        #update assistive control level\n",
    "        exp.update_level()\n",
    "        if np.any(current_assist_level) > 0:\n",
    "            current_state = exp.get_current_state()\n",
    "\n",
    "            if target_state.shape[1] > 1:\n",
    "                assist_kwargs = exp.assister(current_state, \n",
    "                                             target_state[:,0].reshape(-1,1), \n",
    "                                             current_assist_level, mode= exp.state)\n",
    "            else:\n",
    "                assist_kwargs = exp.assister(current_state, \n",
    "                                              target_state, \n",
    "                                              current_assist_level, \n",
    "                                              mode= exp.state)\n",
    "\n",
    "            kwargs.update(assist_kwargs)\n",
    "            \n",
    "        \n",
    "\n",
    "        # decode the new features\n",
    "        # riglib.bmi.bmiloop: line 1245\n",
    "        neural_features = feature_data[exp.extractor.feature_type]\n",
    "\n",
    "        # call decoder.\n",
    "        #tmp = exp.call_decoder(neural_features, target_state, **kwargs)\n",
    "        neural_obs = neural_features\n",
    "        learn_flag = exp.learn_flag\n",
    "        task_state = exp.state\n",
    "\n",
    "        n_units, n_obs = neural_obs.shape\n",
    "        # If the target is specified as a 1D position, tile to match\n",
    "        # the number of dimensions as the neural features\n",
    "        if np.ndim(target_state) == 1 or (target_state.shape[1] == 1 and n_obs > 1):\n",
    "            target_state = np.tile(target_state, [1, n_obs])\n",
    "\n",
    "        decoded_states = np.zeros([exp.bmi_system.decoder.n_states, n_obs])\n",
    "        update_flag = False\n",
    "\n",
    "        for k in range(n_obs):\n",
    "            neural_obs_k = neural_obs[:, k].reshape(-1, 1)\n",
    "            target_state_k = target_state[:, k]\n",
    "\n",
    "            # NOTE: the conditional below is *only* for compatibility with older Carmena\n",
    "            # lab data collected using a different MATLAB-based system. In all python cases,\n",
    "            # the task_state should never contain NaN values.\n",
    "            if np.any(np.isnan(target_state_k)):\n",
    "                task_state = 'no_target'\n",
    "\n",
    "            #################################\n",
    "            # Decode the current observation\n",
    "            #################################\n",
    "            decodable_obs, decode = exp.bmi_system.feature_accumulator(\n",
    "                neural_obs_k)\n",
    "            if decode:  # if a new decodable observation is available from the feature accumulator\n",
    "                prev_state = exp.bmi_system.decoder.get_state()\n",
    "\n",
    "                exp.bmi_system.decoder(decodable_obs, **kwargs)\n",
    "                # Determine whether the current state or previous state should be given to the learner\n",
    "                if exp.bmi_system.learner.input_state_index == 0:\n",
    "                    learner_state = exp.bmi_system.decoder.get_state()\n",
    "                elif exp.bmi_system.learner.input_state_index == -1:\n",
    "                    learner_state = prev_state\n",
    "                else:\n",
    "                    print((\"Not implemented yet: %d\" %\n",
    "                           exp.bmi_system.learner.input_state_index))\n",
    "                    learner_state = prev_state\n",
    "\n",
    "                if learn_flag:\n",
    "                    exp.bmi_system.learner(decodable_obs.copy(), learner_state, target_state_k, exp.bmi_system.decoder.get_state(\n",
    "                    ), task_state, state_order=exp.bmi_system.decoder.ssm.state_order)\n",
    "\n",
    "            decoded_states[:, k] = exp.bmi_system.decoder.get_state()\n",
    "\n",
    "            ############################\n",
    "            # Update decoder parameters\n",
    "            ############################\n",
    "            if exp.bmi_system.learner.is_ready():\n",
    "                batch_data = exp.bmi_system.learner.get_batch()\n",
    "                batch_data['decoder'] = exp.bmi_system.decoder\n",
    "                kwargs.update(batch_data)\n",
    "                exp.bmi_system.updater(**kwargs)\n",
    "                exp.bmi_system.learner.disable()\n",
    "\n",
    "            new_params = None  # by default, no new parameters are available\n",
    "            if exp.bmi_system.has_updater:\n",
    "                new_params = copy.deepcopy(exp.bmi_system.updater.get_result())\n",
    "\n",
    "            # Update the decoder if new parameters are available\n",
    "            if not (new_params is None):\n",
    "                exp.bmi_system.decoder.update_params(\n",
    "                    new_params, **exp.bmi_system.updater.update_kwargs)\n",
    "                new_params['intended_kin'] = batch_data['intended_kin']\n",
    "                new_params['spike_counts_batch'] = batch_data['spike_counts']\n",
    "\n",
    "                exp.bmi_system.learner.enable()\n",
    "                update_flag = True\n",
    "\n",
    "                # Save new parameters to parameter history\n",
    "                exp.bmi_system.param_hist.append(new_params)\n",
    "\n",
    "\n",
    "\n",
    "        # saved as task data\n",
    "        # return decoded_states, update_flag\n",
    "        tmp = decoded_states\n",
    "        exp.task_data['internal_decoder_state'] = tmp\n",
    "\n",
    "        # reset the plant position\n",
    "        # @riglib.bmi.BMILoop.move_plant  line:1254\n",
    "        exp.plant.drive(exp.decoder)\n",
    "\n",
    "        # check state transitions and run the FSM.\n",
    "        current_state = exp.state\n",
    "\n",
    "        # iterate over the possible events which could move the task out of the current state\n",
    "        for event in exp.status[current_state]:\n",
    "            # if the event has occurred\n",
    "            if exp.test_state_transition_event(event):\n",
    "                # execute commands to end the current state\n",
    "                exp.end_state(current_state)\n",
    "\n",
    "                # trigger the transition for the event\n",
    "                exp.trigger_event(event)\n",
    "\n",
    "                # stop searching for transition events (transition events must be\n",
    "                # mutually exclusive for this FSM to function properly)\n",
    "                break\n",
    "\n",
    "        # sort out the loop params.\n",
    "        # inc cycle count\n",
    "        exp.cycle_count += 1\n",
    "\n",
    "        # save target data as was done in manualControlTasks._cycle\n",
    "        exp.task_data['target'] = exp.target_location.copy()\n",
    "        exp.task_data['target_index'] = exp.target_index\n",
    "\n",
    "        #done in bmi:_cycle after move_plant\n",
    "        exp.task_data['loop_time'] = exp.iter_time()\n",
    "\n",
    "\n",
    "        #fb_controller data\n",
    "        exp.task_data['target_state'] = target_state\n",
    "\n",
    "        #encoder data\n",
    "        #input to this is actually extractor\n",
    "        exp.task_data['ctrl_input'] = np.reshape(exp.extractor.sim_ctrl, (1,-1))\n",
    "\n",
    "        #actually output\n",
    "        exp.task_data['spike_counts'] = feature_data['spike_counts']\n",
    "\n",
    "\n",
    "        #save the decoder_state\n",
    "        #from BMILoop.move_plant\n",
    "        exp.task_data['decoder_state'] = exp.decoder.get_state(shape=(-1,1))\n",
    "        \n",
    "        #save bmi_data\n",
    "        exp.task_data['update_bmi'] = update_flag\n",
    "\n",
    "\n",
    "        # as well as plant data.\n",
    "        plant_data = exp.plant.get_data_to_save()\n",
    "        for key in plant_data:\n",
    "            exp.task_data[key] = plant_data[key]\n",
    "\n",
    "        # clda data handled in the above call.\n",
    "\n",
    "        # save to the list hisory of data.\n",
    "        exp.task_data_hist.append(exp.task_data.copy())\n",
    "        \n",
    "        #print out the trial update whenever wait count changes, alright. \n",
    "        if finished_trials != exp.calc_state_occurrences('wait'):\n",
    "            finished_trials = exp.calc_state_occurrences('wait')\n",
    "            print(f'finished trials :{finished_trials} with a current assist level of {exp.get_current_assist_level()}')\n",
    "\n",
    "\n",
    "    if exp.verbose:\n",
    "        print(\"end of FSM.run, task state is\", exp.state)\n",
    "    \n",
    "    \n"
   ]
  },
  {
   "cell_type": "markdown",
   "metadata": {},
   "source": [
    "## actually running the experiments"
   ]
  },
  {
   "cell_type": "code",
   "execution_count": 13,
   "metadata": {
    "ExecuteTime": {
     "end_time": "2021-03-09T01:34:15.295138Z",
     "start_time": "2021-03-09T01:33:43.612960Z"
    },
    "scrolled": true
   },
   "outputs": [
    {
     "name": "stdout",
     "output_type": "stream",
     "text": [
      "runseq\n",
      "finished: 1\n",
      "assist_level:  0.05\n"
     ]
    },
    {
     "name": "stderr",
     "output_type": "stream",
     "text": [
      "/home/sijia-aw/BMi3D_my/lab_bmi3d/riglib/bmi/kfdecoder.py:372: FutureWarning: `rcond` parameter will change to the default of machine precision times ``max(M, N)`` where M and N are the input matrix dimensions.\n",
      "To use the future default and silence this warning we advise to pass `rcond=None`, to keep using the old, explicitly pass `rcond=-1`.\n",
      "  C = np.mat(np.linalg.lstsq(X.T, Y.T)[0].T)\n"
     ]
    },
    {
     "name": "stdout",
     "output_type": "stream",
     "text": [
      "assist_level:  0.045\n",
      "finished trials :2 with a current assist level of 0.04423333333333333\n",
      "finished trials :3 with a current assist level of 0.04369166666666667\n",
      "finished trials :4 with a current assist level of 0.04235833333333333\n",
      "finished trials :5 with a current assist level of 0.041925000000000004\n",
      "finished trials :6 with a current assist level of 0.04166666666666667\n",
      "finished trials :7 with a current assist level of 0.04058333333333333\n",
      "finished trials :8 with a current assist level of 0.04000694444444444\n",
      "assist_level:  0.04\n",
      "finished trials :9 with a current assist level of 0.0395\n",
      "finished trials :10 with a current assist level of 0.038997222222222225\n",
      "finished trials :11 with a current assist level of 0.03734166666666667\n",
      "finished trials :12 with a current assist level of 0.03680833333333333\n",
      "finished trials :13 with a current assist level of 0.03621666666666667\n",
      "finished trials :14 with a current assist level of 0.03536527777777778\n",
      "assist_level:  0.035\n",
      "finished trials :15 with a current assist level of 0.03485694444444445\n",
      "finished trials :16 with a current assist level of 0.03436527777777778\n",
      "finished trials :17 with a current assist level of 0.034100000000000005\n",
      "finished trials :18 with a current assist level of 0.03376666666666667\n",
      "finished trials :19 with a current assist level of 0.032306944444444444\n",
      "finished trials :20 with a current assist level of 0.03193194444444444\n",
      "finished trials :21 with a current assist level of 0.03109861111111111\n",
      "finished trials :22 with a current assist level of 0.030440277777777778\n",
      "assist_level:  0.03\n",
      "finished trials :23 with a current assist level of 0.02971666666666667\n",
      "finished trials :24 with a current assist level of 0.028800000000000003\n",
      "finished trials :25 with a current assist level of 0.027856944444444448\n",
      "finished trials :26 with a current assist level of 0.02669027777777778\n",
      "finished trials :27 with a current assist level of 0.026138888888888892\n",
      "finished trials :28 with a current assist level of 0.025606944444444446\n",
      "finished trials :29 with a current assist level of 0.02536388888888889\n",
      "finished trials :30 with a current assist level of 0.025122222222222226\n",
      "assist_level:  0.025\n",
      "finished trials :31 with a current assist level of 0.02459722222222223\n",
      "finished trials :32 with a current assist level of 0.023756944444444445\n",
      "finished trials :33 with a current assist level of 0.02338194444444444\n",
      "finished trials :34 with a current assist level of 0.023038888888888893\n",
      "finished trials :35 with a current assist level of 0.021972222222222226\n",
      "finished trials :36 with a current assist level of 0.021555555555555557\n",
      "finished trials :37 with a current assist level of 0.020263888888888894\n",
      "assist_level:  0.020000000000000004\n",
      "finished trials :38 with a current assist level of 0.019622222222222225\n",
      "finished trials :39 with a current assist level of 0.019340277777777776\n",
      "finished trials :40 with a current assist level of 0.018356944444444447\n",
      "finished trials :41 with a current assist level of 0.017497222222222227\n",
      "finished trials :42 with a current assist level of 0.016606944444444452\n",
      "finished trials :43 with a current assist level of 0.015280555555555561\n",
      "assist_level:  0.015000000000000006\n",
      "finished trials :44 with a current assist level of 0.014815277777777781\n",
      "finished trials :45 with a current assist level of 0.014430555555555558\n",
      "finished trials :46 with a current assist level of 0.013847222222222226\n",
      "finished trials :47 with a current assist level of 0.01273888888888889\n",
      "finished trials :48 with a current assist level of 0.01214861111111111\n",
      "finished trials :49 with a current assist level of 0.011673611111111107\n",
      "finished trials :50 with a current assist level of 0.011330555555555559\n",
      "finished trials :51 with a current assist level of 0.010572222222222219\n",
      "finished trials :52 with a current assist level of 0.010072222222222219\n",
      "assist_level:  0.009999999999999995\n",
      "finished trials :53 with a current assist level of 0.009506944444444443\n",
      "finished trials :54 with a current assist level of 0.008631944444444442\n",
      "finished trials :55 with a current assist level of 0.0070472222222222256\n",
      "finished trials :56 with a current assist level of 0.006547222222222225\n",
      "finished trials :57 with a current assist level of 0.0061652777777777765\n",
      "finished trials :58 with a current assist level of 0.0057972222222222244\n",
      "assist_level:  0.0049999999999999975\n",
      "finished trials :59 with a current assist level of 0.004463888888888892\n",
      "finished trials :60 with a current assist level of 0.0034916666666666638\n",
      "finished trials :61 with a current assist level of 0.00286666666666667\n",
      "finished trials :62 with a current assist level of 0.0019319444444444514\n",
      "finished trials :63 with a current assist level of 0.0010888888888888962\n",
      "finished trials :64 with a current assist level of 0.0005055555555555577\n",
      "assist_level at final value after 63 successful trials\n",
      "finished trials :65 with a current assist level of 0.0\n",
      "finished trials :66 with a current assist level of 0.0\n",
      "finished trials :67 with a current assist level of 0.0\n",
      "finished trials :68 with a current assist level of 0.0\n",
      "finished trials :69 with a current assist level of 0.0\n",
      "finished trials :70 with a current assist level of 0.0\n",
      "finished trials :71 with a current assist level of 0.0\n",
      "finished trials :72 with a current assist level of 0.0\n",
      "finished trials :73 with a current assist level of 0.0\n",
      "finished trials :74 with a current assist level of 0.0\n",
      "finished trials :75 with a current assist level of 0.0\n",
      "finished trials :76 with a current assist level of 0.0\n",
      "finished trials :77 with a current assist level of 0.0\n",
      "finished trials :78 with a current assist level of 0.0\n",
      "finished trials :79 with a current assist level of 0.0\n",
      "finished trials :80 with a current assist level of 0.0\n",
      "finished trials :81 with a current assist level of 0.0\n",
      "end of FSM.run, task state is None\n",
      "Finished running  enc. mean FR:1 Hz\n",
      "runseq\n",
      "finished: 1\n",
      "finished trials :2 with a current assist level of 0.047655555555555555\n",
      "finished trials :3 with a current assist level of 0.047372222222222225\n",
      "finished trials :4 with a current assist level of 0.047075000000000006\n",
      "finished trials :5 with a current assist level of 0.04672361111111111\n",
      "finished trials :6 with a current assist level of 0.046408333333333336\n",
      "finished trials :7 with a current assist level of 0.046158333333333336\n",
      "finished trials :8 with a current assist level of 0.04589027777777778\n",
      "finished trials :9 with a current assist level of 0.045658333333333335\n",
      "finished trials :10 with a current assist level of 0.045422222222222225\n",
      "finished trials :11 with a current assist level of 0.045206944444444445\n",
      "finished trials :12 with a current assist level of 0.044922222222222224\n",
      "finished trials :13 with a current assist level of 0.04465\n",
      "finished trials :14 with a current assist level of 0.04438333333333334\n",
      "finished trials :15 with a current assist level of 0.0441\n",
      "finished trials :16 with a current assist level of 0.043875000000000004\n",
      "finished trials :17 with a current assist level of 0.04360833333333333\n",
      "finished trials :18 with a current assist level of 0.043375000000000004\n",
      "finished trials :19 with a current assist level of 0.04281666666666667\n",
      "finished trials :20 with a current assist level of 0.04260833333333333\n",
      "finished trials :21 with a current assist level of 0.042333333333333334\n",
      "finished trials :22 with a current assist level of 0.04198333333333334\n",
      "finished trials :23 with a current assist level of 0.041716666666666666\n",
      "finished trials :24 with a current assist level of 0.041433333333333336\n",
      "finished trials :25 with a current assist level of 0.04121527777777778\n",
      "finished trials :26 with a current assist level of 0.04092361111111111\n",
      "finished trials :27 with a current assist level of 0.040650000000000006\n",
      "finished trials :28 with a current assist level of 0.04034027777777778\n",
      "finished trials :29 with a current assist level of 0.04006666666666667\n",
      "finished trials :30 with a current assist level of 0.039780555555555555\n",
      "finished trials :31 with a current assist level of 0.03954861111111111\n",
      "finished trials :32 with a current assist level of 0.039281944444444446\n",
      "finished trials :33 with a current assist level of 0.039080555555555556\n",
      "finished trials :34 with a current assist level of 0.03885\n",
      "finished trials :35 with a current assist level of 0.03864861111111111\n"
     ]
    },
    {
     "name": "stdout",
     "output_type": "stream",
     "text": [
      "finished trials :36 with a current assist level of 0.03838333333333334\n",
      "finished trials :37 with a current assist level of 0.03814166666666667\n",
      "finished trials :38 with a current assist level of 0.03782361111111111\n",
      "finished trials :39 with a current assist level of 0.03759166666666667\n",
      "finished trials :40 with a current assist level of 0.03736527777777778\n",
      "finished trials :41 with a current assist level of 0.03714861111111111\n",
      "finished trials :42 with a current assist level of 0.03691388888888889\n",
      "finished trials :43 with a current assist level of 0.03670555555555556\n",
      "finished trials :44 with a current assist level of 0.03648194444444445\n",
      "finished trials :45 with a current assist level of 0.03621666666666667\n",
      "finished trials :46 with a current assist level of 0.03595555555555556\n",
      "finished trials :47 with a current assist level of 0.03565694444444445\n",
      "finished trials :48 with a current assist level of 0.035023611111111116\n",
      "finished trials :49 with a current assist level of 0.034758333333333336\n",
      "finished trials :50 with a current assist level of 0.034475000000000006\n",
      "finished trials :51 with a current assist level of 0.03424027777777778\n",
      "finished trials :52 with a current assist level of 0.03381527777777778\n",
      "finished trials :53 with a current assist level of 0.033231944444444446\n",
      "finished trials :54 with a current assist level of 0.033023611111111115\n",
      "finished trials :55 with a current assist level of 0.03274722222222222\n",
      "finished trials :56 with a current assist level of 0.032481944444444445\n",
      "finished trials :57 with a current assist level of 0.03222361111111111\n",
      "finished trials :58 with a current assist level of 0.03197361111111111\n",
      "finished trials :59 with a current assist level of 0.031773611111111114\n",
      "finished trials :60 with a current assist level of 0.031565277777777775\n",
      "finished trials :61 with a current assist level of 0.03134861111111111\n",
      "finished trials :62 with a current assist level of 0.03109166666666667\n",
      "finished trials :63 with a current assist level of 0.03084166666666667\n",
      "finished trials :64 with a current assist level of 0.03061527777777778\n",
      "finished trials :65 with a current assist level of 0.030348611111111114\n",
      "finished trials :66 with a current assist level of 0.030098611111111114\n",
      "finished trials :67 with a current assist level of 0.029823611111111113\n",
      "finished trials :68 with a current assist level of 0.02959166666666667\n",
      "finished trials :69 with a current assist level of 0.029356944444444446\n",
      "finished trials :70 with a current assist level of 0.029080555555555557\n",
      "finished trials :71 with a current assist level of 0.028565277777777783\n",
      "finished trials :72 with a current assist level of 0.028006944444444445\n",
      "finished trials :73 with a current assist level of 0.027697222222222224\n",
      "finished trials :74 with a current assist level of 0.027388888888888893\n",
      "finished trials :75 with a current assist level of 0.027148611111111113\n",
      "finished trials :76 with a current assist level of 0.02692361111111111\n",
      "finished trials :77 with a current assist level of 0.026697222222222223\n",
      "finished trials :78 with a current assist level of 0.02646527777777778\n",
      "finished trials :79 with a current assist level of 0.026231944444444447\n",
      "finished trials :80 with a current assist level of 0.026013888888888892\n",
      "finished trials :81 with a current assist level of 0.025773611111111115\n",
      "end of FSM.run, task state is None\n",
      "Finished running  enc. mean FR:10 Hz\n"
     ]
    }
   ],
   "source": [
    "for i,e in enumerate(exps):\n",
    "    run_exp_loop(e, **kwargs_exps[i])\n",
    "    print(f'Finished running  {exp_conds[i]}')"
   ]
  },
  {
   "cell_type": "markdown",
   "metadata": {
    "ExecuteTime": {
     "end_time": "2021-01-25T01:00:26.027506Z",
     "start_time": "2021-01-25T01:00:26.024320Z"
    }
   },
   "source": [
    "# Postprocessing the data for loading"
   ]
  },
  {
   "cell_type": "code",
   "execution_count": 14,
   "metadata": {
    "ExecuteTime": {
     "end_time": "2021-03-09T01:34:15.298667Z",
     "start_time": "2021-03-09T01:34:15.296105Z"
    }
   },
   "outputs": [
    {
     "name": "stdout",
     "output_type": "stream",
     "text": [
      "80\n",
      "80\n"
     ]
    }
   ],
   "source": [
    "for e in  exps: print(e.calc_state_occurrences('reward'))"
   ]
  },
  {
   "cell_type": "markdown",
   "metadata": {},
   "source": [
    "## declare defs and conventions"
   ]
  },
  {
   "cell_type": "code",
   "execution_count": 15,
   "metadata": {
    "ExecuteTime": {
     "end_time": "2021-03-09T01:34:15.309803Z",
     "start_time": "2021-03-09T01:34:15.299670Z"
    }
   },
   "outputs": [],
   "source": [
    "FRAME_RATE = 60\n",
    "INT_WINDOW_TIME = 10 # s for looking at sample raw data\n",
    "\n",
    "# some conventions as we go down the loop\n",
    "X_VEL_STATE_IND = 3\n",
    "Y_VEL_STATE_IND = 5\n",
    "X_POS_STATE_IND = 0\n",
    "Y_POS_STATE_IND = 2\n",
    "\n",
    "state_indices = [X_POS_STATE_IND,\n",
    "                 Y_POS_STATE_IND,\n",
    "                 X_VEL_STATE_IND,\n",
    "                 Y_VEL_STATE_IND]\n",
    "state_names = ['x pos ', 'y pos', 'x vel', 'y vel']\n",
    "\n",
    "\n",
    "INT_WIN_SAMPLES = INT_WINDOW_TIME * FRAME_RATE\n",
    "\n"
   ]
  },
  {
   "cell_type": "markdown",
   "metadata": {},
   "source": [
    "## Refactor out the data"
   ]
  },
  {
   "cell_type": "code",
   "execution_count": 16,
   "metadata": {
    "ExecuteTime": {
     "end_time": "2021-03-09T01:34:15.408857Z",
     "start_time": "2021-03-09T01:34:15.310973Z"
    }
   },
   "outputs": [
    {
     "data": {
      "text/plain": [
       "dtype([('cursor', '<f8', (3,)), ('obs_t', '<f8', (20, 1)), ('K', '<f8', (7, 20)), ('KC', '<f8', (7, 7)), ('pred_state_mean', '<f8', (7, 1)), ('post_state_mean', '<f8', (7, 1)), ('pred_state_P', '<f8', (7, 7)), ('post_state_P', '<f8', (7, 7)), ('loop_time', '<f8', (1,)), ('decoder_state', '<f8', (7, 1)), ('internal_decoder_state', '<f8', (7, 1)), ('target_state', '<f8', (7, 1)), ('update_bmi', '<f8', (1,)), ('spike_counts', '<f8', (20, 1)), ('bin_edges', '<f8', (2,)), ('ctrl_input', '<f8', (7,)), ('assist_level', '<f8', (1,)), ('target', '<f8', (3,)), ('target_index', '<i4', (1,))])"
      ]
     },
     "execution_count": 16,
     "metadata": {},
     "output_type": "execute_result"
    }
   ],
   "source": [
    "task_data_hist_np_all = [np.array(e.task_data_hist) for e in exps]\n",
    "len(task_data_hist_np_all)\n",
    "task_data_hist_np_all[0].dtype"
   ]
  },
  {
   "cell_type": "markdown",
   "metadata": {},
   "source": [
    "## Finished time in seconds"
   ]
  },
  {
   "cell_type": "code",
   "execution_count": 17,
   "metadata": {
    "ExecuteTime": {
     "end_time": "2021-03-09T01:34:15.412345Z",
     "start_time": "2021-03-09T01:34:15.409876Z"
    }
   },
   "outputs": [
    {
     "data": {
      "text/plain": [
       "[788, 290]"
      ]
     },
     "execution_count": 17,
     "metadata": {},
     "output_type": "execute_result"
    }
   ],
   "source": [
    "finished_times_in_seconds = [int(len(s)/FRAME_RATE) for s in task_data_hist_np_all]\n",
    "finished_times_in_seconds"
   ]
  },
  {
   "cell_type": "markdown",
   "metadata": {},
   "source": [
    "# Post data analysis"
   ]
  },
  {
   "cell_type": "markdown",
   "metadata": {},
   "source": [
    "## Overall  trial statistics succuss rate)"
   ]
  },
  {
   "cell_type": "code",
   "execution_count": 18,
   "metadata": {
    "ExecuteTime": {
     "end_time": "2021-03-09T01:34:15.425292Z",
     "start_time": "2021-03-09T01:34:15.414813Z"
    }
   },
   "outputs": [],
   "source": [
    "def filter_state(state_log:list, state_to_match:str)->list:\n",
    "    '''#set axis limits of plot (x=0 to 20, y=0 to 20)\n",
    "plt.axis([0, 20, 0, 20])\n",
    "plt.axis(\"equal\")\n",
    "\n",
    "    state_log: a list of tuples (state:string, start_time: float)\n",
    "    state_to_watch\n",
    "    \n",
    "    returns a list of element type\n",
    "    '''\n",
    "    \n",
    "    return list(filter(lambda k: k[0] == state_to_match, state_log) )\n",
    "\n",
    "def calc_inter_wait_times(wait_log: list)-> list:\n",
    "    \"\"\"\n",
    "    state_log: a list of tuples (\"wait\", start_time: float)\n",
    "    return a list of tuples: (\"wait\", start_time: float, diff_time)\n",
    "    \"\"\"\n",
    "    wait_log_with_diff = list()\n",
    "    for i, wait_state in enumerate(wait_log):\n",
    "        if i == len(wait_log)-1: #there is nothing to subtract, just put zero.\n",
    "            wait_log_with_diff.append((wait_state[1],  0))\n",
    "            \n",
    "        else:\n",
    "            finish_time = wait_log[i+1][1]\n",
    "            wait_log_with_diff.append((wait_state[1],  finish_time - wait_state[1]))\n",
    "    \n",
    "    return np.array(wait_log_with_diff[:-1])"
   ]
  },
  {
   "cell_type": "code",
   "execution_count": 19,
   "metadata": {
    "ExecuteTime": {
     "end_time": "2021-03-09T01:34:15.431342Z",
     "start_time": "2021-03-09T01:34:15.427171Z"
    }
   },
   "outputs": [],
   "source": [
    "state_logs = [e.state_log for e in exps]\n"
   ]
  },
  {
   "cell_type": "code",
   "execution_count": 20,
   "metadata": {
    "ExecuteTime": {
     "end_time": "2021-03-09T01:34:15.439795Z",
     "start_time": "2021-03-09T01:34:15.432171Z"
    }
   },
   "outputs": [],
   "source": [
    "STATE_CUT_NAME =  'wait'\n",
    "#get the state logs\n",
    "wait_logs = [filter_state(s, STATE_CUT_NAME) for s in state_logs]\n",
    "\n",
    "inter_wait_times = [calc_inter_wait_times(w) for w in wait_logs]\n",
    "#this has both start times "
   ]
  },
  {
   "cell_type": "code",
   "execution_count": 21,
   "metadata": {
    "ExecuteTime": {
     "end_time": "2021-03-09T01:34:15.572822Z",
     "start_time": "2021-03-09T01:34:15.440615Z"
    },
    "scrolled": true
   },
   "outputs": [
    {
     "data": {
      "text/plain": [
       "Text(0, 0.5, 'Trial time (s)')"
      ]
     },
     "execution_count": 21,
     "metadata": {},
     "output_type": "execute_result"
    },
    {
     "data": {
      "image/png": "[encoded data removed]",
      "text/plain": [
       "<Figure size 432x288 with 1 Axes>"
      ]
     },
     "metadata": {
      "needs_background": "light"
     },
     "output_type": "display_data"
    }
   ],
   "source": [
    "\n",
    "\n",
    "for i in inter_wait_times:\n",
    "    plt.scatter(i[:,0], i[:,1])\n",
    "\n",
    "plt.legend(exp_conds)\n",
    "plt.xlabel('Training progression(s)')\n",
    "plt.ylabel('Trial time (s)')"
   ]
  },
  {
   "cell_type": "code",
   "execution_count": 22,
   "metadata": {
    "ExecuteTime": {
     "end_time": "2021-03-09T01:34:15.575351Z",
     "start_time": "2021-03-09T01:34:15.573757Z"
    }
   },
   "outputs": [],
   "source": [
    "wait_time = inter_wait_times[0]\n",
    "task_data_hist_np = task_data_hist_np_all[0]\n",
    "\n"
   ]
  },
  {
   "cell_type": "code",
   "execution_count": 23,
   "metadata": {
    "ExecuteTime": {
     "end_time": "2021-03-09T01:34:15.585370Z",
     "start_time": "2021-03-09T01:34:15.576135Z"
    }
   },
   "outputs": [],
   "source": [
    "def sort_trials(wait_time:list, \n",
    "                target_seq:list,\n",
    "                task_data_hist_np:dict, \n",
    "                dict_keys, FRAME_RATE = 60):\n",
    "    trial_dict = list()\n",
    "    \n",
    "    for i,row in enumerate(wait_time):\n",
    "        start_time = row[0]\n",
    "        inter_wait_time = row[1]\n",
    "\n",
    "        start_sample = int(start_time * FRAME_RATE)\n",
    "        inter_wait_sample = int(inter_wait_time * FRAME_RATE)\n",
    "        stop_sample = start_sample + inter_wait_sample\n",
    "\n",
    "        single_trial_dict = dict()\n",
    "\n",
    "        for k in dict_keys:\n",
    "            \n",
    "            requested_type_data = np.squeeze(task_data_hist_np[k])\n",
    "            single_trial_dict[k] =  requested_type_data[start_sample:stop_sample,\n",
    "                                                       :]\n",
    "        #add more info\n",
    "        single_trial_dict['start_time'] = row[0]\n",
    "        single_trial_dict['inter_wait_time'] = row[1]\n",
    "        \n",
    "        #add target info\n",
    "        single_trial_dict['targets'] = target_seq[i]\n",
    "\n",
    "        #add the dictionary to the list\n",
    "        trial_dict.append(single_trial_dict)\n",
    "        \n",
    "    return trial_dict\n",
    "\n"
   ]
  },
  {
   "cell_type": "code",
   "execution_count": 24,
   "metadata": {
    "ExecuteTime": {
     "end_time": "2021-03-09T01:34:15.595916Z",
     "start_time": "2021-03-09T01:34:15.586218Z"
    }
   },
   "outputs": [
    {
     "data": {
      "text/plain": [
       "2"
      ]
     },
     "execution_count": 24,
     "metadata": {},
     "output_type": "execute_result"
    }
   ],
   "source": [
    "\n",
    "\n",
    "trial_dicts_all = []\n",
    "dict_keys = ['cursor', #behaviour\n",
    "             'ctrl_input', 'spike_counts', #encoder translates intended ctrl into spike counts\n",
    "             'decoder_state']\n",
    "\n",
    "for i in range(NUM_EXP):\n",
    "    wait_time = inter_wait_times[i]\n",
    "    task_data_hist_np = task_data_hist_np_all[i]\n",
    "    \n",
    "    trial_dict_0 = sort_trials(wait_time, \n",
    "                               target_seq,\n",
    "                               task_data_hist_np, dict_keys)\n",
    "    \n",
    "    trial_dicts_all.append(trial_dict_0)\n",
    "\n",
    "len(trial_dicts_all)"
   ]
  },
  {
   "cell_type": "markdown",
   "metadata": {},
   "source": [
    "## Trajectory analysis"
   ]
  },
  {
   "cell_type": "code",
   "execution_count": 25,
   "metadata": {
    "ExecuteTime": {
     "end_time": "2021-03-09T01:34:15.694239Z",
     "start_time": "2021-03-09T01:34:15.596753Z"
    }
   },
   "outputs": [
    {
     "data": {
      "image/png": "[encoded data removed]",
      "text/plain": [
       "<Figure size 432x288 with 1 Axes>"
      ]
     },
     "metadata": {
      "needs_background": "light"
     },
     "output_type": "display_data"
    }
   ],
   "source": [
    "n_roi_trials = N_TRIALS - 1\n",
    "unique_targets =  np.unique(target_seq, axis = 0)\n",
    "\n",
    "\n",
    "X_CURSOR = 0\n",
    "Z_CURSOR = 2\n",
    "CIRCL_ALPHA = 0.2\n",
    "\n",
    "\n",
    "\n",
    "RANGE_LIM =  15\n",
    "figure, axes = plt.subplots() \n",
    "\n",
    "axes.set_xlim(-RANGE_LIM, RANGE_LIM)\n",
    "axes.set_ylim(-RANGE_LIM, RANGE_LIM)\n",
    "\n",
    "CIRCLE_RADIUS = exps[0].target_radius\n",
    "\n",
    "#plot the targets\n",
    "\n",
    "#plot the origin\n",
    "\n",
    "cc = plt.Circle((0,0 ), \n",
    "            radius = CIRCLE_RADIUS,\n",
    "            alpha = CIRCL_ALPHA)\n",
    "\n",
    "axes.add_artist( cc ) \n",
    "\n",
    "for origin_t in unique_targets:\n",
    "    origin = origin_t[0]\n",
    "    t = origin_t[1]\n",
    "\n",
    "    cc = plt.Circle((t[X_CURSOR],t[Z_CURSOR] ), \n",
    "                    radius = CIRCLE_RADIUS,\n",
    "                    alpha = CIRCL_ALPHA)\n",
    "                     \n",
    "    axes.set_aspect( 1 ) \n",
    "    axes.add_artist( cc ) \n",
    "    \n",
    "    \n",
    "for trial_dict in trial_dicts_all:\n",
    "    \n",
    "    sample_trial = trial_dict[n_roi_trials]\n",
    "    trial_cursor_trajectory = sample_trial['cursor']\n",
    "    \n",
    "    \n",
    "    axes.plot(trial_cursor_trajectory[:, X_CURSOR], \n",
    "             trial_cursor_trajectory[:, Z_CURSOR])\n",
    "\n"
   ]
  },
  {
   "cell_type": "code",
   "execution_count": 26,
   "metadata": {
    "ExecuteTime": {
     "end_time": "2021-03-09T01:34:15.697414Z",
     "start_time": "2021-03-09T01:34:15.695156Z"
    },
    "scrolled": true
   },
   "outputs": [
    {
     "name": "stdout",
     "output_type": "stream",
     "text": [
      "finished trials:\n",
      "enc. mean FR:1 Hz: 80 out of 80\n",
      "enc. mean FR:10 Hz: 80 out of 80\n"
     ]
    }
   ],
   "source": [
    "print('finished trials:')\n",
    "\n",
    "for i,e in  enumerate(exps): \n",
    "    reward_num = e.calc_state_occurrences('reward')\n",
    "    print(f'{exp_conds[i]}: {reward_num} out of {N_TRIALS}')"
   ]
  },
  {
   "cell_type": "markdown",
   "metadata": {},
   "source": [
    "## encoder\n",
    "\n",
    "the job of the encoder is to directly encode intention into firing rates\n",
    "the direct measure is just pearson correlation coefficients between \n",
    "the intentions and the firing rates"
   ]
  },
  {
   "cell_type": "code",
   "execution_count": 27,
   "metadata": {
    "ExecuteTime": {
     "end_time": "2021-03-09T01:34:15.707337Z",
     "start_time": "2021-03-09T01:34:15.698313Z"
    }
   },
   "outputs": [
    {
     "name": "stdout",
     "output_type": "stream",
     "text": [
      "the encoder observation Q matrix\n",
      "enc. mean FR:1 Hz\n",
      "7\n",
      "enc. mean FR:10 Hz\n",
      "7\n"
     ]
    }
   ],
   "source": [
    "print('the encoder observation Q matrix')\n",
    "for i,e in enumerate(exps):\n",
    "    print(exp_conds[i])\n",
    "    print(e.encoder.ssm.w)"
   ]
  },
  {
   "cell_type": "code",
   "execution_count": 28,
   "metadata": {
    "ExecuteTime": {
     "end_time": "2021-03-09T01:34:15.715227Z",
     "start_time": "2021-03-09T01:34:15.708253Z"
    }
   },
   "outputs": [],
   "source": [
    "n_exp = 0\n",
    "\n",
    "\n",
    "spike_count_sample = trial_dicts_all[n_exp][n_roi_trials]['spike_counts']"
   ]
  },
  {
   "cell_type": "markdown",
   "metadata": {},
   "source": [
    "## decoder"
   ]
  },
  {
   "cell_type": "code",
   "execution_count": 29,
   "metadata": {
    "ExecuteTime": {
     "end_time": "2021-03-09T01:34:16.044908Z",
     "start_time": "2021-03-09T01:34:15.716092Z"
    },
    "scrolled": false
   },
   "outputs": [
    {
     "name": "stdout",
     "output_type": "stream",
     "text": [
      "steady state tuning curves:\n"
     ]
    },
    {
     "data": {
      "text/plain": [
       "Text(0, -0.27999999999999997, 'CLDA rho 0.5')"
      ]
     },
     "execution_count": 29,
     "metadata": {},
     "output_type": "execute_result"
    },
    {
     "data": {
      "image/png": "[encoded data removed]",
      "text/plain": [
       "<Figure size 864x288 with 2 Axes>"
      ]
     },
     "metadata": {
      "needs_background": "light"
     },
     "output_type": "display_data"
    }
   ],
   "source": [
    "TEXT_OFFSET_VERTICAL = -0.2\n",
    "\n",
    "decoder_c_after,axs = plt.subplots(1, NUM_EXP,\n",
    "                                  figsize = (12,4))\n",
    "\n",
    "decoder_c_after.suptitle('C matrix after')\n",
    "\n",
    "print('steady state tuning curves:')\n",
    "for i,e in enumerate(exps):\n",
    "    e.decoder.plot_C(ax = axs[i])\n",
    "    axs[i].set_title(exp_conds[i])\n",
    "    \n",
    "    #get the lower left coordinate\n",
    "    y_lim_range  = axs[i].get_ylim()[1] - axs[i].get_ylim()[0]\n",
    "    \n",
    "    axs[i].text(0, TEXT_OFFSET_VERTICAL,\n",
    "                f'finished {N_TRIALS} trials in {finished_times_in_seconds[i]} s', \n",
    "               transform = axs[i].transAxes)\n",
    "\n",
    "decoder_c_after.text(0, 1.4 * TEXT_OFFSET_VERTICAL, \n",
    "                     f'CLDA rho {RHO}',\n",
    "                    transform = axs[0].transAxes)\n"
   ]
  },
  {
   "cell_type": "code",
   "execution_count": 30,
   "metadata": {
    "ExecuteTime": {
     "end_time": "2021-03-09T01:34:16.302892Z",
     "start_time": "2021-03-09T01:34:16.045793Z"
    }
   },
   "outputs": [
    {
     "data": {
      "image/png": "[encoded data removed]",
      "text/plain": [
       "<Figure size 864x288 with 2 Axes>"
      ]
     },
     "execution_count": 30,
     "metadata": {},
     "output_type": "execute_result"
    }
   ],
   "source": [
    "decoder_c_figure"
   ]
  },
  {
   "cell_type": "markdown",
   "metadata": {},
   "source": [
    "## compare before and after the training"
   ]
  },
  {
   "cell_type": "code",
   "execution_count": 31,
   "metadata": {
    "ExecuteTime": {
     "end_time": "2021-03-09T01:34:16.553731Z",
     "start_time": "2021-03-09T01:34:16.304005Z"
    }
   },
   "outputs": [
    {
     "data": {
      "image/png": "[encoded data removed]",
      "text/plain": [
       "<Figure size 864x288 with 4 Axes>"
      ]
     },
     "metadata": {
      "needs_background": "light"
     },
     "output_type": "display_data"
    }
   ],
   "source": [
    "\n",
    "\n",
    "N_ROWS = 2 #before and after \n",
    "FIGURE_SIZE_2_by_4 = (12,4)\n",
    "figure_compare_decoder_C_matrix,axs = plt.subplots(2,NUM_EXP, \n",
    "                                                   figsize = (12,4))\n",
    "\n",
    "for i in range(NUM_EXP):\n",
    "    axs[0, i] = decoder_c_figure.get_axes()[i]\n",
    "    axs[1, i] = decoder_c_after.get_axes()[i]\n",
    "    "
   ]
  },
  {
   "cell_type": "markdown",
   "metadata": {},
   "source": [
    "# CLDA updates"
   ]
  },
  {
   "cell_type": "markdown",
   "metadata": {},
   "source": [
    "## clda update frequencies"
   ]
  },
  {
   "cell_type": "code",
   "execution_count": 32,
   "metadata": {
    "ExecuteTime": {
     "end_time": "2021-03-09T01:34:16.556835Z",
     "start_time": "2021-03-09T01:34:16.554578Z"
    }
   },
   "outputs": [
    {
     "name": "stdout",
     "output_type": "stream",
     "text": [
      "did clda for 157 times\n",
      "did clda for 58 times\n"
     ]
    }
   ],
   "source": [
    "\n",
    "clda_params_all = [np.array(e.bmi_system.param_hist) for e in exps]\n",
    "\n",
    "for c in clda_params_all:\n",
    "    print(f'did clda for {len(c)} times')"
   ]
  },
  {
   "cell_type": "code",
   "execution_count": 33,
   "metadata": {
    "ExecuteTime": {
     "end_time": "2021-03-09T01:34:16.566775Z",
     "start_time": "2021-03-09T01:34:16.557607Z"
    }
   },
   "outputs": [],
   "source": [
    "update_bmi_all = np.squeeze(task_data_hist_np_all[0]['update_bmi'])"
   ]
  },
  {
   "cell_type": "code",
   "execution_count": 34,
   "metadata": {
    "ExecuteTime": {
     "end_time": "2021-03-09T01:34:16.659485Z",
     "start_time": "2021-03-09T01:34:16.567674Z"
    }
   },
   "outputs": [
    {
     "data": {
      "text/plain": [
       "Text(0.5, 0, 'frame count')"
      ]
     },
     "execution_count": 34,
     "metadata": {},
     "output_type": "execute_result"
    },
    {
     "data": {
      "image/png": "[encoded data removed]",
      "text/plain": [
       "<Figure size 432x288 with 1 Axes>"
      ]
     },
     "metadata": {
      "needs_background": "light"
     },
     "output_type": "display_data"
    }
   ],
   "source": [
    "plt.plot(update_bmi_all[:240])\n",
    "plt.xlabel('frame count')"
   ]
  },
  {
   "cell_type": "markdown",
   "metadata": {},
   "source": [
    "## reformat the matrix"
   ]
  },
  {
   "cell_type": "code",
   "execution_count": 35,
   "metadata": {
    "ExecuteTime": {
     "end_time": "2021-03-09T01:34:16.665657Z",
     "start_time": "2021-03-09T01:34:16.660352Z"
    }
   },
   "outputs": [
    {
     "data": {
      "text/plain": [
       "2"
      ]
     },
     "execution_count": 35,
     "metadata": {},
     "output_type": "execute_result"
    }
   ],
   "source": [
    "clda_params = clda_params_all[1]\n",
    "\n",
    "clda_params_dict_all = list()\n",
    "\n",
    "for p in clda_params_all:\n",
    "    clda_params_dict = dict()\n",
    "    for param_key in p[0].keys():\n",
    "        clda_params_dict[param_key] = np.array([ record_i[param_key] for record_i in p])\n",
    "    \n",
    "    clda_params_dict_all.append(clda_params_dict)\n",
    "\n",
    "\n",
    "len(clda_params_dict_all)"
   ]
  },
  {
   "cell_type": "markdown",
   "metadata": {},
   "source": [
    "## observation covariance matrix"
   ]
  },
  {
   "cell_type": "code",
   "execution_count": 36,
   "metadata": {
    "ExecuteTime": {
     "end_time": "2021-03-09T01:34:16.735293Z",
     "start_time": "2021-03-09T01:34:16.666590Z"
    }
   },
   "outputs": [
    {
     "name": "stdout",
     "output_type": "stream",
     "text": [
      "enc. mean FR:1 Hz\n",
      "[[2.95 0.   0.   0.   0.   0.   0.   0.   0.   0.   0.   0.   0.   0.\n",
      "  0.   0.   0.   0.   0.   0.  ]\n",
      " [0.   2.5  0.   0.   0.   0.   0.   0.   0.   0.   0.   0.   0.   0.\n",
      "  0.   0.   0.   0.   0.   0.  ]\n",
      " [0.   0.   2.53 0.   0.   0.   0.   0.   0.   0.   0.   0.   0.   0.\n",
      "  0.   0.   0.   0.   0.   0.  ]\n",
      " [0.   0.   0.   2.5  0.   0.   0.   0.   0.   0.   0.   0.   0.   0.\n",
      "  0.   0.   0.   0.   0.   0.  ]\n",
      " [0.   0.   0.   0.   2.5  0.   0.   0.   0.   0.   0.   0.   0.   0.\n",
      "  0.   0.   0.   0.   0.   0.  ]\n",
      " [0.   0.   0.   0.   0.   2.5  0.   0.   0.   0.   0.   0.   0.   0.\n",
      "  0.   0.   0.   0.   0.   0.  ]\n",
      " [0.   0.   0.   0.   0.   0.   2.5  0.   0.   0.   0.   0.   0.   0.\n",
      "  0.   0.   0.   0.   0.   0.  ]\n",
      " [0.   0.   0.   0.   0.   0.   0.   2.5  0.   0.   0.   0.   0.   0.\n",
      "  0.   0.   0.   0.   0.   0.  ]\n",
      " [0.   0.   0.   0.   0.   0.   0.   0.   2.5  0.   0.   0.   0.   0.\n",
      "  0.   0.   0.   0.   0.   0.  ]\n",
      " [0.   0.   0.   0.   0.   0.   0.   0.   0.   2.5  0.   0.   0.   0.\n",
      "  0.   0.   0.   0.   0.   0.  ]\n",
      " [0.   0.   0.   0.   0.   0.   0.   0.   0.   0.   2.5  0.   0.   0.\n",
      "  0.   0.   0.   0.   0.   0.  ]\n",
      " [0.   0.   0.   0.   0.   0.   0.   0.   0.   0.   0.   2.5  0.   0.\n",
      "  0.   0.   0.   0.   0.   0.  ]\n",
      " [0.   0.   0.   0.   0.   0.   0.   0.   0.   0.   0.   0.   2.5  0.\n",
      "  0.   0.   0.   0.   0.   0.  ]\n",
      " [0.   0.   0.   0.   0.   0.   0.   0.   0.   0.   0.   0.   0.   2.5\n",
      "  0.   0.   0.   0.   0.   0.  ]\n",
      " [0.   0.   0.   0.   0.   0.   0.   0.   0.   0.   0.   0.   0.   0.\n",
      "  2.5  0.   0.   0.   0.   0.  ]\n",
      " [0.   0.   0.   0.   0.   0.   0.   0.   0.   0.   0.   0.   0.   0.\n",
      "  0.   2.5  0.   0.   0.   0.  ]\n",
      " [0.   0.   0.   0.   0.   0.   0.   0.   0.   0.   0.   0.   0.   0.\n",
      "  0.   0.   2.5  0.   0.   0.  ]\n",
      " [0.   0.   0.   0.   0.   0.   0.   0.   0.   0.   0.   0.   0.   0.\n",
      "  0.   0.   0.   2.5  0.   0.  ]\n",
      " [0.   0.   0.   0.   0.   0.   0.   0.   0.   0.   0.   0.   0.   0.\n",
      "  0.   0.   0.   0.   2.5  0.  ]\n",
      " [0.   0.   0.   0.   0.   0.   0.   0.   0.   0.   0.   0.   0.   0.\n",
      "  0.   0.   0.   0.   0.   2.5 ]]\n",
      "\n",
      "enc. mean FR:10 Hz\n",
      "[[ 5.78  0.    0.    0.02  0.    0.    0.    0.    0.    0.    0.    0.\n",
      "   0.    0.    0.    0.    0.    0.    0.    0.  ]\n",
      " [ 0.    2.5   0.    0.    0.    0.    0.    0.    0.    0.    0.    0.\n",
      "   0.    0.    0.    0.    0.    0.    0.    0.  ]\n",
      " [ 0.    0.    3.25 -0.    0.    0.    0.    0.    0.    0.    0.    0.\n",
      "   0.    0.    0.    0.    0.    0.    0.    0.  ]\n",
      " [ 0.02  0.   -0.    2.51  0.    0.    0.    0.    0.    0.    0.    0.\n",
      "   0.    0.    0.    0.    0.    0.    0.    0.  ]\n",
      " [ 0.    0.    0.    0.    2.5   0.    0.    0.    0.    0.    0.    0.\n",
      "   0.    0.    0.    0.    0.    0.    0.    0.  ]\n",
      " [ 0.    0.    0.    0.    0.    2.5   0.    0.    0.    0.    0.    0.\n",
      "   0.    0.    0.    0.    0.    0.    0.    0.  ]\n",
      " [ 0.    0.    0.    0.    0.    0.    2.5   0.    0.    0.    0.    0.\n",
      "   0.    0.    0.    0.    0.    0.    0.    0.  ]\n",
      " [ 0.    0.    0.    0.    0.    0.    0.    2.5   0.    0.    0.    0.\n",
      "   0.    0.    0.    0.    0.    0.    0.    0.  ]\n",
      " [ 0.    0.    0.    0.    0.    0.    0.    0.    2.5   0.    0.    0.\n",
      "   0.    0.    0.    0.    0.    0.    0.    0.  ]\n",
      " [ 0.    0.    0.    0.    0.    0.    0.    0.    0.    2.5   0.    0.\n",
      "   0.    0.    0.    0.    0.    0.    0.    0.  ]\n",
      " [ 0.    0.    0.    0.    0.    0.    0.    0.    0.    0.    2.5   0.\n",
      "   0.    0.    0.    0.    0.    0.    0.    0.  ]\n",
      " [ 0.    0.    0.    0.    0.    0.    0.    0.    0.    0.    0.    2.5\n",
      "   0.    0.    0.    0.    0.    0.    0.    0.  ]\n",
      " [ 0.    0.    0.    0.    0.    0.    0.    0.    0.    0.    0.    0.\n",
      "   2.5   0.    0.    0.    0.    0.    0.    0.  ]\n",
      " [ 0.    0.    0.    0.    0.    0.    0.    0.    0.    0.    0.    0.\n",
      "   0.    2.5   0.    0.    0.    0.    0.    0.  ]\n",
      " [ 0.    0.    0.    0.    0.    0.    0.    0.    0.    0.    0.    0.\n",
      "   0.    0.    2.5   0.    0.    0.    0.    0.  ]\n",
      " [ 0.    0.    0.    0.    0.    0.    0.    0.    0.    0.    0.    0.\n",
      "   0.    0.    0.    2.5   0.    0.    0.    0.  ]\n",
      " [ 0.    0.    0.    0.    0.    0.    0.    0.    0.    0.    0.    0.\n",
      "   0.    0.    0.    0.    2.5   0.    0.    0.  ]\n",
      " [ 0.    0.    0.    0.    0.    0.    0.    0.    0.    0.    0.    0.\n",
      "   0.    0.    0.    0.    0.    2.5   0.    0.  ]\n",
      " [ 0.    0.    0.    0.    0.    0.    0.    0.    0.    0.    0.    0.\n",
      "   0.    0.    0.    0.    0.    0.    2.5   0.  ]\n",
      " [ 0.    0.    0.    0.    0.    0.    0.    0.    0.    0.    0.    0.\n",
      "   0.    0.    0.    0.    0.    0.    0.    2.5 ]]\n",
      "\n"
     ]
    }
   ],
   "source": [
    "n_sample = 1\n",
    "\n",
    "for i,c in enumerate(clda_params_dict_all):\n",
    "    print(exp_conds[i])\n",
    "    print(c['kf.Q'][n_sample,:,:])\n",
    "    print()"
   ]
  },
  {
   "cell_type": "markdown",
   "metadata": {},
   "source": [
    "## clda K matrix"
   ]
  },
  {
   "cell_type": "code",
   "execution_count": 37,
   "metadata": {
    "ExecuteTime": {
     "end_time": "2021-03-09T01:34:16.742485Z",
     "start_time": "2021-03-09T01:34:16.736263Z"
    }
   },
   "outputs": [],
   "source": [
    "kf_C = clda_params_dict['kf.C']"
   ]
  },
  {
   "cell_type": "code",
   "execution_count": 38,
   "metadata": {
    "ExecuteTime": {
     "end_time": "2021-03-09T01:34:16.751957Z",
     "start_time": "2021-03-09T01:34:16.743357Z"
    }
   },
   "outputs": [
    {
     "name": "stdout",
     "output_type": "stream",
     "text": [
      "K matrix before:\n",
      "[[ 0.    0.    0.    1.68  0.   -0.59  0.49]\n",
      " [ 0.    0.    0.    0.07  0.    0.38  0.06]\n",
      " [ 0.    0.    0.   -0.09  0.    0.06 -1.26]\n",
      " [ 0.    0.    0.    1.15  0.   -0.04 -0.09]\n",
      " [ 0.    0.    0.    0.19  0.   -0.99 -0.17]\n",
      " [ 0.    0.    0.   -0.19  0.   -0.52 -0.71]\n",
      " [ 0.    0.    0.   -0.22  0.    0.39 -0.81]\n",
      " [ 0.    0.    0.   -0.26  0.   -0.01  0.21]\n",
      " [ 0.    0.    0.   -0.18  0.   -0.18 -0.41]\n",
      " [ 0.    0.    0.   -0.82  0.   -0.45  0.03]\n",
      " [ 0.    0.    0.   -0.62  0.   -0.34 -0.44]\n",
      " [ 0.    0.    0.   -0.58  0.    0.23 -0.77]\n",
      " [ 0.    0.    0.   -0.09  0.    0.53 -0.2 ]\n",
      " [ 0.    0.    0.    0.18  0.    0.01  0.89]\n",
      " [ 0.    0.    0.   -0.67  0.    0.48 -0.59]\n",
      " [ 0.    0.    0.    0.96  0.    0.93  0.45]\n",
      " [ 0.    0.    0.    0.4   0.   -0.08  0.31]\n",
      " [ 0.    0.    0.    0.15  0.   -0.35 -0.07]\n",
      " [ 0.    0.    0.    0.2   0.    0.27 -0.34]\n",
      " [ 0.    0.    0.    0.29  0.    0.2  -0.55]]\n",
      "K matrix after:\n",
      "[[ 0.    0.    0.    0.58  0.   -0.12  2.04]\n",
      " [ 0.    0.    0.   -0.33  0.   -0.12  1.97]\n",
      " [ 0.    0.    0.    0.15  0.    0.35  2.17]\n",
      " [ 0.    0.    0.    0.09  0.   -0.55  2.02]\n",
      " [ 0.    0.    0.    0.    0.   -0.   -0.  ]\n",
      " [ 0.    0.    0.   -0.    0.   -0.   -0.  ]\n",
      " [ 0.    0.    0.   -0.    0.    0.   -0.  ]\n",
      " [ 0.    0.    0.   -0.    0.   -0.    0.  ]\n",
      " [ 0.    0.    0.   -0.    0.   -0.   -0.  ]\n",
      " [ 0.    0.    0.   -0.    0.   -0.    0.  ]\n",
      " [ 0.    0.    0.   -0.    0.   -0.   -0.  ]\n",
      " [ 0.    0.    0.   -0.    0.    0.   -0.  ]\n",
      " [ 0.    0.    0.   -0.    0.    0.   -0.  ]\n",
      " [ 0.    0.    0.    0.    0.    0.    0.  ]\n",
      " [ 0.    0.    0.   -0.    0.    0.   -0.  ]\n",
      " [ 0.    0.    0.    0.    0.    0.    0.  ]\n",
      " [ 0.    0.    0.    0.    0.   -0.    0.  ]\n",
      " [ 0.    0.    0.    0.    0.   -0.   -0.  ]\n",
      " [ 0.    0.    0.    0.    0.    0.   -0.  ]\n",
      " [ 0.    0.    0.    0.    0.    0.   -0.  ]]\n"
     ]
    }
   ],
   "source": [
    "print('K matrix before:')\n",
    "print(kf_C[0,:,:])\n",
    "print('K matrix after:')\n",
    "print(kf_C[-1,:,:])"
   ]
  },
  {
   "cell_type": "code",
   "execution_count": 39,
   "metadata": {
    "ExecuteTime": {
     "end_time": "2021-03-09T01:34:18.220079Z",
     "start_time": "2021-03-09T01:34:16.752857Z"
    }
   },
   "outputs": [
    {
     "data": {
      "image/png": "[encoded data removed]",
      "text/plain": [
       "<Figure size 1152x288 with 20 Axes>"
      ]
     },
     "metadata": {
      "needs_background": "light"
     },
     "output_type": "display_data"
    }
   ],
   "source": [
    "N_CLDA_ROI_TIME = 800\n",
    "\n",
    "FIGURE_SIZE = (2,10)\n",
    "\n",
    "N_NEURONS\n",
    "\n",
    "f, axs = plt.subplots(1,N_NEURONS,figsize=(16,4))\n",
    "\n",
    "for i in range(N_NEURONS):\n",
    "    axs[i].plot(np.squeeze(kf_C[:N_CLDA_ROI_TIME,i, X_VEL_STATE_IND]))\n",
    "    axs[i].plot(np.squeeze(kf_C[:N_CLDA_ROI_TIME,i, Y_VEL_STATE_IND]))\n",
    "    axs[i].legend(['x vel', 'y_vel'])\n",
    "    axs[i].set_title(f'neuron {i} ')\n",
    "    axs[i].set_xlabel('clda update count ')\n",
    "    axs[i].set_ylabel('Decoder weight value')\n",
    "\n"
   ]
  },
  {
   "cell_type": "code",
   "execution_count": 40,
   "metadata": {
    "ExecuteTime": {
     "end_time": "2021-03-09T01:34:18.223881Z",
     "start_time": "2021-03-09T01:34:18.220961Z"
    }
   },
   "outputs": [
    {
     "data": {
      "text/plain": [
       "array([[ 0.,  0.,  0.,  1.,  0.,  0.,  0.],\n",
       "       [ 0.,  0.,  0., -1.,  0.,  0.,  0.],\n",
       "       [ 0.,  0.,  0.,  0.,  0.,  1.,  0.],\n",
       "       [ 0.,  0.,  0.,  0.,  0., -1.,  0.],\n",
       "       [ 0.,  0.,  0.,  0.,  0.,  0.,  0.],\n",
       "       [ 0.,  0.,  0.,  0.,  0.,  0.,  0.],\n",
       "       [ 0.,  0.,  0.,  0.,  0.,  0.,  0.],\n",
       "       [ 0.,  0.,  0.,  0.,  0.,  0.,  0.],\n",
       "       [ 0.,  0.,  0.,  0.,  0.,  0.,  0.],\n",
       "       [ 0.,  0.,  0.,  0.,  0.,  0.,  0.],\n",
       "       [ 0.,  0.,  0.,  0.,  0.,  0.,  0.],\n",
       "       [ 0.,  0.,  0.,  0.,  0.,  0.,  0.],\n",
       "       [ 0.,  0.,  0.,  0.,  0.,  0.,  0.],\n",
       "       [ 0.,  0.,  0.,  0.,  0.,  0.,  0.],\n",
       "       [ 0.,  0.,  0.,  0.,  0.,  0.,  0.],\n",
       "       [ 0.,  0.,  0.,  0.,  0.,  0.,  0.],\n",
       "       [ 0.,  0.,  0.,  0.,  0.,  0.,  0.],\n",
       "       [ 0.,  0.,  0.,  0.,  0.,  0.,  0.],\n",
       "       [ 0.,  0.,  0.,  0.,  0.,  0.,  0.],\n",
       "       [ 0.,  0.,  0.,  0.,  0.,  0.,  0.]])"
      ]
     },
     "execution_count": 40,
     "metadata": {},
     "output_type": "execute_result"
    }
   ],
   "source": [
    "exps[0].encoder.C"
   ]
  },
  {
   "cell_type": "markdown",
   "metadata": {},
   "source": [
    "## examine training batches"
   ]
  },
  {
   "cell_type": "code",
   "execution_count": 41,
   "metadata": {
    "ExecuteTime": {
     "end_time": "2021-03-09T01:34:18.237607Z",
     "start_time": "2021-03-09T01:34:18.224905Z"
    }
   },
   "outputs": [],
   "source": [
    "spike_counts_batch = clda_params_dict['spike_counts_batch'] \n",
    "intended_kin = clda_params_dict['intended_kin']"
   ]
  },
  {
   "cell_type": "code",
   "execution_count": 42,
   "metadata": {
    "ExecuteTime": {
     "end_time": "2021-03-09T01:34:18.253504Z",
     "start_time": "2021-03-09T01:34:18.238460Z"
    }
   },
   "outputs": [
    {
     "name": "stdout",
     "output_type": "stream",
     "text": [
      "intended kinematics:\n",
      "[[ 5.55  5.57  5.68  5.75  5.81  5.88  5.97  6.05  6.17  6.2   6.27  6.32\n",
      "   6.37  6.49  6.48  6.42  6.37  6.31  6.27  6.24  6.21  6.16  6.1   6.13\n",
      "   6.1   6.07  6.05  6.02  6.05  6.    6.    6.    6.    5.98  5.98  6.01\n",
      "   6.01  6.06  6.04  6.04  6.07  6.1   6.13  6.18  6.21  6.27  6.29  6.32\n",
      "   6.33  6.36]\n",
      " [ 0.    0.    0.    0.    0.    0.    0.    0.    0.    0.    0.    0.\n",
      "   0.    0.    0.    0.    0.    0.    0.    0.    0.    0.    0.    0.\n",
      "   0.    0.    0.    0.    0.    0.    0.    0.    0.    0.    0.    0.\n",
      "   0.    0.    0.    0.    0.    0.    0.    0.    0.    0.    0.    0.\n",
      "   0.    0.  ]\n",
      " [-1.76 -1.47 -1.22 -0.94 -0.63 -0.43 -0.3  -0.15 -0.02  0.2   0.38  0.52\n",
      "   0.62  0.73  0.84  0.96  1.08  1.2   1.34  1.46  1.57  1.68  1.78  1.9\n",
      "   2.    2.11  2.24  2.35  2.45  2.57  2.68  2.78  2.88  2.99  3.09  3.19\n",
      "   3.28  3.38  3.47  3.56  3.67  3.76  3.86  3.95  4.03  4.12  4.21  4.31\n",
      "   4.41  4.5 ]\n",
      " [ 2.12  2.1   2.48  2.28  2.16  2.11  2.15  2.05  2.14  1.69  1.77  1.64\n",
      "   1.63 -5.05 -5.43 -5.69 -5.67 -5.62 -5.56 -5.42 -5.38 -5.47 -5.45 -5.04\n",
      "  -5.27 -5.26 -5.21 -5.2  -4.97 -5.28 -5.06 -5.04 -5.04 -5.15 -5.03 -4.9\n",
      "  -5.04 -4.81 -5.18 -5.09 -4.94 -4.96 -4.98 -4.89 -5.05 -4.96 -5.11 -5.15\n",
      "  -5.28 -5.19]\n",
      " [ 0.    0.    0.    0.    0.    0.    0.    0.    0.    0.    0.    0.\n",
      "   0.    0.    0.    0.    0.    0.    0.    0.    0.    0.    0.    0.\n",
      "   0.    0.    0.    0.    0.    0.    0.    0.    0.    0.    0.    0.\n",
      "   0.    0.    0.    0.    0.    0.    0.    0.    0.    0.    0.    0.\n",
      "   0.    0.  ]\n",
      " [ 1.57  2.79  2.51  2.43  2.36  1.59  1.04  1.06  0.77  1.12  0.8   0.45\n",
      "   0.14  0.06 -0.03 -0.08 -0.18 -0.26 -0.29 -0.5  -0.63 -0.72 -0.87 -0.88\n",
      "  -1.08 -1.11 -1.1  -1.27 -1.45 -1.41 -1.57 -1.71 -1.8  -1.84 -1.98 -2.05\n",
      "  -2.2  -2.25 -2.36 -2.45 -2.44 -2.59 -2.63 -2.75 -2.9  -2.92 -2.99 -3.07\n",
      "  -3.1  -3.21]\n",
      " [ 1.    1.    1.    1.    1.    1.    1.    1.    1.    1.    1.    1.\n",
      "   1.    1.    1.    1.    1.    1.    1.    1.    1.    1.    1.    1.\n",
      "   1.    1.    1.    1.    1.    1.    1.    1.    1.    1.    1.    1.\n",
      "   1.    1.    1.    1.    1.    1.    1.    1.    1.    1.    1.    1.\n",
      "   1.    1.  ]]\n",
      "spike counts:\n",
      "[[1. 4. 3. 3. 2. 2. 2. 3. 1. 2. 1. 1. 3. 2. 0. 0. 0. 0. 0. 0. 0. 0. 0. 0.\n",
      "  0. 0. 0. 0. 0. 0. 0. 0. 0. 0. 0. 0. 0. 0. 0. 0. 0. 0. 0. 0. 0. 0. 0. 0.\n",
      "  0. 0.]\n",
      " [0. 0. 0. 0. 0. 0. 0. 0. 0. 0. 0. 0. 0. 0. 4. 4. 5. 9. 5. 4. 4. 1. 7. 1.\n",
      "  4. 9. 6. 3. 8. 6. 4. 4. 6. 4. 6. 2. 5. 2. 2. 7. 4. 6. 5. 1. 4. 4. 4. 6.\n",
      "  5. 5.]\n",
      " [4. 3. 4. 5. 2. 0. 1. 0. 3. 2. 1. 0. 0. 0. 0. 0. 0. 0. 0. 0. 0. 0. 0. 0.\n",
      "  0. 0. 0. 0. 0. 0. 0. 0. 0. 0. 0. 0. 0. 0. 0. 0. 0. 0. 0. 0. 0. 0. 0. 0.\n",
      "  0. 0.]\n",
      " [0. 0. 0. 0. 0. 0. 0. 0. 0. 0. 0. 0. 0. 0. 0. 0. 0. 0. 1. 1. 0. 0. 3. 1.\n",
      "  1. 1. 1. 3. 0. 2. 2. 2. 1. 2. 3. 2. 4. 1. 2. 3. 3. 3. 4. 3. 4. 3. 3. 2.\n",
      "  3. 6.]\n",
      " [0. 0. 0. 0. 0. 0. 0. 0. 0. 0. 0. 0. 0. 0. 0. 0. 0. 0. 0. 0. 0. 0. 0. 0.\n",
      "  0. 0. 0. 0. 0. 0. 0. 0. 0. 0. 0. 0. 0. 0. 0. 0. 0. 0. 0. 0. 0. 0. 0. 0.\n",
      "  0. 0.]\n",
      " [0. 0. 0. 0. 0. 0. 0. 0. 0. 0. 0. 0. 0. 0. 0. 0. 0. 0. 0. 0. 0. 0. 0. 0.\n",
      "  0. 0. 0. 0. 0. 0. 0. 0. 0. 0. 0. 0. 0. 0. 0. 0. 0. 0. 0. 0. 0. 0. 0. 0.\n",
      "  0. 0.]\n",
      " [0. 0. 0. 0. 0. 0. 0. 0. 0. 0. 0. 0. 0. 0. 0. 0. 0. 0. 0. 0. 0. 0. 0. 0.\n",
      "  0. 0. 0. 0. 0. 0. 0. 0. 0. 0. 0. 0. 0. 0. 0. 0. 0. 0. 0. 0. 0. 0. 0. 0.\n",
      "  0. 0.]\n",
      " [0. 0. 0. 0. 0. 0. 0. 0. 0. 0. 0. 0. 0. 0. 0. 0. 0. 0. 0. 0. 0. 0. 0. 0.\n",
      "  0. 0. 0. 0. 0. 0. 0. 0. 0. 0. 0. 0. 0. 0. 0. 0. 0. 0. 0. 0. 0. 0. 0. 0.\n",
      "  0. 0.]\n",
      " [0. 0. 0. 0. 0. 0. 0. 0. 0. 0. 0. 0. 0. 0. 0. 0. 0. 0. 0. 0. 0. 0. 0. 0.\n",
      "  0. 0. 0. 0. 0. 0. 0. 0. 0. 0. 0. 0. 0. 0. 0. 0. 0. 0. 0. 0. 0. 0. 0. 0.\n",
      "  0. 0.]\n",
      " [0. 0. 0. 0. 0. 0. 0. 0. 0. 0. 0. 0. 0. 0. 0. 0. 0. 0. 0. 0. 0. 0. 0. 0.\n",
      "  0. 0. 0. 0. 0. 0. 0. 0. 0. 0. 0. 0. 0. 0. 0. 0. 0. 0. 0. 0. 0. 0. 0. 0.\n",
      "  0. 0.]\n",
      " [0. 0. 0. 0. 0. 0. 0. 0. 0. 0. 0. 0. 0. 0. 0. 0. 0. 0. 0. 0. 0. 0. 0. 0.\n",
      "  0. 0. 0. 0. 0. 0. 0. 0. 0. 0. 0. 0. 0. 0. 0. 0. 0. 0. 0. 0. 0. 0. 0. 0.\n",
      "  0. 0.]\n",
      " [0. 0. 0. 0. 0. 0. 0. 0. 0. 0. 0. 0. 0. 0. 0. 0. 0. 0. 0. 0. 0. 0. 0. 0.\n",
      "  0. 0. 0. 0. 0. 0. 0. 0. 0. 0. 0. 0. 0. 0. 0. 0. 0. 0. 0. 0. 0. 0. 0. 0.\n",
      "  0. 0.]\n",
      " [0. 0. 0. 0. 0. 0. 0. 0. 0. 0. 0. 0. 0. 0. 0. 0. 0. 0. 0. 0. 0. 0. 0. 0.\n",
      "  0. 0. 0. 0. 0. 0. 0. 0. 0. 0. 0. 0. 0. 0. 0. 0. 0. 0. 0. 0. 0. 0. 0. 0.\n",
      "  0. 0.]\n",
      " [0. 0. 0. 0. 0. 0. 0. 0. 0. 0. 0. 0. 0. 0. 0. 0. 0. 0. 0. 0. 0. 0. 0. 0.\n",
      "  0. 0. 0. 0. 0. 0. 0. 0. 0. 0. 0. 0. 0. 0. 0. 0. 0. 0. 0. 0. 0. 0. 0. 0.\n",
      "  0. 0.]\n",
      " [0. 0. 0. 0. 0. 0. 0. 0. 0. 0. 0. 0. 0. 0. 0. 0. 0. 0. 0. 0. 0. 0. 0. 0.\n",
      "  0. 0. 0. 0. 0. 0. 0. 0. 0. 0. 0. 0. 0. 0. 0. 0. 0. 0. 0. 0. 0. 0. 0. 0.\n",
      "  0. 0.]\n",
      " [0. 0. 0. 0. 0. 0. 0. 0. 0. 0. 0. 0. 0. 0. 0. 0. 0. 0. 0. 0. 0. 0. 0. 0.\n",
      "  0. 0. 0. 0. 0. 0. 0. 0. 0. 0. 0. 0. 0. 0. 0. 0. 0. 0. 0. 0. 0. 0. 0. 0.\n",
      "  0. 0.]\n",
      " [0. 0. 0. 0. 0. 0. 0. 0. 0. 0. 0. 0. 0. 0. 0. 0. 0. 0. 0. 0. 0. 0. 0. 0.\n",
      "  0. 0. 0. 0. 0. 0. 0. 0. 0. 0. 0. 0. 0. 0. 0. 0. 0. 0. 0. 0. 0. 0. 0. 0.\n",
      "  0. 0.]\n",
      " [0. 0. 0. 0. 0. 0. 0. 0. 0. 0. 0. 0. 0. 0. 0. 0. 0. 0. 0. 0. 0. 0. 0. 0.\n",
      "  0. 0. 0. 0. 0. 0. 0. 0. 0. 0. 0. 0. 0. 0. 0. 0. 0. 0. 0. 0. 0. 0. 0. 0.\n",
      "  0. 0.]\n",
      " [0. 0. 0. 0. 0. 0. 0. 0. 0. 0. 0. 0. 0. 0. 0. 0. 0. 0. 0. 0. 0. 0. 0. 0.\n",
      "  0. 0. 0. 0. 0. 0. 0. 0. 0. 0. 0. 0. 0. 0. 0. 0. 0. 0. 0. 0. 0. 0. 0. 0.\n",
      "  0. 0.]\n",
      " [0. 0. 0. 0. 0. 0. 0. 0. 0. 0. 0. 0. 0. 0. 0. 0. 0. 0. 0. 0. 0. 0. 0. 0.\n",
      "  0. 0. 0. 0. 0. 0. 0. 0. 0. 0. 0. 0. 0. 0. 0. 0. 0. 0. 0. 0. 0. 0. 0. 0.\n",
      "  0. 0.]]\n",
      "trained KF C matrix:\n",
      "[[ 0.    0.    0.    0.82  0.    0.37 -0.03]\n",
      " [ 0.    0.    0.   -0.29  0.    0.07  0.65]\n",
      " [ 0.    0.    0.    0.03  0.    1.16 -0.9 ]\n",
      " [ 0.    0.    0.    0.36  0.   -0.48  0.52]\n",
      " [ 0.    0.    0.    0.05  0.   -0.25 -0.04]\n",
      " [ 0.    0.    0.   -0.05  0.   -0.13 -0.18]\n",
      " [ 0.    0.    0.   -0.05  0.    0.1  -0.2 ]\n",
      " [ 0.    0.    0.   -0.06  0.   -0.    0.05]\n",
      " [ 0.    0.    0.   -0.05  0.   -0.04 -0.1 ]\n",
      " [ 0.    0.    0.   -0.2   0.   -0.11  0.01]\n",
      " [ 0.    0.    0.   -0.15  0.   -0.09 -0.11]\n",
      " [ 0.    0.    0.   -0.15  0.    0.06 -0.19]\n",
      " [ 0.    0.    0.   -0.02  0.    0.13 -0.05]\n",
      " [ 0.    0.    0.    0.04  0.    0.    0.22]\n",
      " [ 0.    0.    0.   -0.17  0.    0.12 -0.15]\n",
      " [ 0.    0.    0.    0.24  0.    0.23  0.11]\n",
      " [ 0.    0.    0.    0.1   0.   -0.02  0.08]\n",
      " [ 0.    0.    0.    0.04  0.   -0.09 -0.02]\n",
      " [ 0.    0.    0.    0.05  0.    0.07 -0.08]\n",
      " [ 0.    0.    0.    0.07  0.    0.05 -0.14]]\n"
     ]
    }
   ],
   "source": [
    "training_sample_point = 2\n",
    "\n",
    "print('intended kinematics:')\n",
    "print(intended_kin[training_sample_point])\n",
    "\n",
    "print('spike counts:')\n",
    "print(spike_counts_batch[training_sample_point])\n",
    "\n",
    "print('trained KF C matrix:')\n",
    "print(kf_C[training_sample_point])"
   ]
  },
  {
   "cell_type": "markdown",
   "metadata": {},
   "source": [
    "# Measure weights change"
   ]
  },
  {
   "cell_type": "code",
   "execution_count": 43,
   "metadata": {
    "ExecuteTime": {
     "end_time": "2021-03-09T01:34:18.257931Z",
     "start_time": "2021-03-09T01:34:18.254465Z"
    }
   },
   "outputs": [],
   "source": [
    "from weights_linear_regression import *\n",
    "from afs_plotting import plot_prefered_directions"
   ]
  },
  {
   "cell_type": "code",
   "execution_count": 44,
   "metadata": {
    "ExecuteTime": {
     "end_time": "2021-03-09T01:34:18.268055Z",
     "start_time": "2021-03-09T01:34:18.258745Z"
    }
   },
   "outputs": [
    {
     "data": {
      "text/plain": [
       "(58, 20, 7)"
      ]
     },
     "execution_count": 44,
     "metadata": {},
     "output_type": "execute_result"
    }
   ],
   "source": [
    "kf_C = clda_params_dict['kf.C']\n",
    "kf_C.shape"
   ]
  },
  {
   "cell_type": "code",
   "execution_count": 45,
   "metadata": {
    "ExecuteTime": {
     "end_time": "2021-03-09T01:34:18.286471Z",
     "start_time": "2021-03-09T01:34:18.268826Z"
    }
   },
   "outputs": [
    {
     "data": {
      "text/plain": [
       "(58, 20)"
      ]
     },
     "execution_count": 45,
     "metadata": {},
     "output_type": "execute_result"
    }
   ],
   "source": [
    "history_of_L2_norms = calc_a_history_of_matrix_L2norms_along_first_axis(kf_C,\n",
    "                                                                       (X_VEL_STATE_IND, Y_VEL_STATE_IND))\n",
    "\n",
    "history_of_L2_norms.shape"
   ]
  },
  {
   "cell_type": "code",
   "execution_count": 46,
   "metadata": {
    "ExecuteTime": {
     "end_time": "2021-03-09T01:34:18.499467Z",
     "start_time": "2021-03-09T01:34:18.287308Z"
    }
   },
   "outputs": [
    {
     "data": {
      "image/png": "[encoded data removed]",
      "text/plain": [
       "<Figure size 864x288 with 3 Axes>"
      ]
     },
     "metadata": {
      "needs_background": "light"
     },
     "output_type": "display_data"
    }
   ],
   "source": [
    "figure_compare_kf, axes_compare_kf = plt.subplots(1,3, figsize = (12, 4))"
   ]
  },
  {
   "cell_type": "code",
   "execution_count": 49,
   "metadata": {
    "ExecuteTime": {
     "end_time": "2021-03-09T01:35:04.265633Z",
     "start_time": "2021-03-09T01:35:04.011190Z"
    },
    "scrolled": true
   },
   "outputs": [
    {
     "name": "stdout",
     "output_type": "stream",
     "text": [
      "kf_slice has kf_slice has shape (20, 7)\n"
     ]
    },
    {
     "data": {
      "image/png": "[encoded data removed]",
      "text/plain": [
       "<Figure size 864x288 with 3 Axes>"
      ]
     },
     "execution_count": 49,
     "metadata": {},
     "output_type": "execute_result"
    }
   ],
   "source": [
    "time_of_interest = 0\n",
    "kf_slice_start = np.squeeze(kf_C[time_of_interest, :,:])\n",
    "print(f'kf_slice has kf_slice has shape {kf_slice_start.shape}')\n",
    "\n",
    "kf_slice_end = np.squeeze(kf_C[-1, :,:])\n",
    "\n",
    "\n",
    "#plot the trajectjory\n",
    "axes_compare_kf[0].plot(history_of_L2_norms)\n",
    "\n",
    "#plot the begining \n",
    "plot_prefered_directions(kf_slice_start, \n",
    "                         ax = axes_compare_kf[1])\n",
    "axes_compare_kf[0].set_title('Prefered direction vector L2 norm')\n",
    "axes_compare_kf[0].set_xlabel('update batch number')\n",
    "\n",
    "\n",
    "\n",
    "#plot the end\n",
    "plot_prefered_directions(kf_slice_end, \n",
    "                         ax = axes_compare_kf[2])\n",
    "axes_compare_kf[2].set_title('Preffered directions at conclusion')\n",
    "\n",
    "\n",
    "figure_compare_kf"
   ]
  },
  {
   "cell_type": "markdown",
   "metadata": {},
   "source": [
    "# Measure ssms"
   ]
  },
  {
   "cell_type": "code",
   "execution_count": 50,
   "metadata": {
    "ExecuteTime": {
     "end_time": "2021-03-09T01:35:08.350026Z",
     "start_time": "2021-03-09T01:35:08.346922Z"
    }
   },
   "outputs": [
    {
     "name": "stdout",
     "output_type": "stream",
     "text": [
      "spike_counts_batch has the shape of (58, 20, 50)\n",
      "intended_kin has the shape of (58, 7, 50)\n",
      "kf_C has the shape of (58, 20, 7)\n"
     ]
    }
   ],
   "source": [
    "spike_counts_batch = clda_params_dict['spike_counts_batch'] \n",
    "intended_kin = clda_params_dict['intended_kin']\n",
    "\n",
    "print(f'spike_counts_batch has the shape of {spike_counts_batch.shape}')\n",
    "print(f'intended_kin has the shape of {intended_kin.shape}')\n",
    "\n",
    "print(f'kf_C has the shape of {kf_C.shape}')\n"
   ]
  },
  {
   "cell_type": "code",
   "execution_count": 88,
   "metadata": {
    "ExecuteTime": {
     "end_time": "2021-03-09T02:00:59.642735Z",
     "start_time": "2021-03-09T02:00:59.639522Z"
    }
   },
   "outputs": [
    {
     "name": "stdout",
     "output_type": "stream",
     "text": [
      "we will only be looking the indices of the x vel and y vel (3, 5)\n",
      "time slice of interest 0\n",
      "spike_count_slice has the shape of (50, 20)\n",
      "intended_kin_slice has the shape of (50, 2)\n",
      "kf_C_slice has the shape of (20, 2)\n"
     ]
    }
   ],
   "source": [
    "VEL_DECODING_STATES = (X_VEL_STATE_IND, Y_VEL_STATE_IND,)\n",
    "print(f'we will only be looking the indices of the x vel and y vel {VEL_DECODING_STATES}')\n",
    "\n",
    "time_slice_of_interest = 0\n",
    "print(f'time slice of interest {time_slice_of_interest}')\n",
    "\n",
    "spike_count_slice = np.squeeze(spike_counts_batch[time_slice_of_interest, :, :])\n",
    "intended_kin_slice = np.squeeze(intended_kin[time_slice_of_interest, VEL_DECODING_STATES, :])\n",
    "kf_C_slice = np.squeeze(kf_C[time_slice_of_interest, :,VEL_DECODING_STATES])\n",
    "\n",
    "#rotate the dimensions=\n",
    "spike_count_slice = spike_count_slice.T\n",
    "intended_kin_slice = intended_kin_slice.T\n",
    "kf_C_slice = kf_C_slice.T\n",
    "\n",
    "\n",
    "print(f'spike_count_slice has the shape of {spike_count_slice.shape}')\n",
    "print(f'intended_kin_slice has the shape of {intended_kin_slice.shape}')\n",
    "\n",
    "print(f'kf_C_slice has the shape of {kf_C_slice.shape}')"
   ]
  },
  {
   "cell_type": "code",
   "execution_count": 89,
   "metadata": {
    "ExecuteTime": {
     "end_time": "2021-03-09T02:01:03.731433Z",
     "start_time": "2021-03-09T02:01:03.728435Z"
    }
   },
   "outputs": [
    {
     "data": {
      "text/plain": [
       "(20,)"
      ]
     },
     "execution_count": 89,
     "metadata": {},
     "output_type": "execute_result"
    }
   ],
   "source": [
    "from weights_linear_regression import calc_average_ssm_for_each_X_column\n",
    "\n",
    "ssm_slice = calc_average_ssm_for_each_X_column(intended_kin_slice, spike_count_slice, kf_C_slice)\n",
    "\n",
    "ssm_slice.shape"
   ]
  },
  {
   "cell_type": "markdown",
   "metadata": {},
   "source": [
    "## encapsulate into the batch"
   ]
  },
  {
   "cell_type": "code",
   "execution_count": 91,
   "metadata": {
    "ExecuteTime": {
     "end_time": "2021-03-09T02:01:45.399101Z",
     "start_time": "2021-03-09T02:01:45.374351Z"
    }
   },
   "outputs": [],
   "source": [
    "(N_BATCHES, N_NEURONS, N_POINTS_IN_A_BATCH)  =  spike_counts_batch.shape\n",
    "\n",
    "#initialize an nan array\n",
    "ssm_all_batches = np.empty((N_BATCHES, N_NEURONS))\n",
    "ssm_all_batches[:] = np.nan\n",
    "\n",
    "for n_batch in range(N_BATCHES):\n",
    "    spike_count_slice = np.squeeze(spike_counts_batch[n_batch, :, :])\n",
    "    intended_kin_slice = np.squeeze(intended_kin[n_batch, VEL_DECODING_STATES, :])\n",
    "    kf_C_slice = np.squeeze(kf_C[n_batch,:,VEL_DECODING_STATES])\n",
    "    \n",
    "    #rotate the dimensions=\n",
    "    spike_count_slice = spike_count_slice.T\n",
    "    intended_kin_slice = intended_kin_slice.T\n",
    "    kf_C_slice = kf_C_slice.T\n",
    "\n",
    "    \n",
    "    ssm_slice = calc_average_ssm_for_each_X_column(intended_kin_slice, \n",
    "                                                   spike_count_slice, \n",
    "                                                   kf_C_slice)\n",
    "    ssm_all_batches[n_batch, :] = ssm_slice\n",
    "    \n",
    "    \n"
   ]
  },
  {
   "cell_type": "code",
   "execution_count": 92,
   "metadata": {
    "ExecuteTime": {
     "end_time": "2021-03-09T02:01:48.403284Z",
     "start_time": "2021-03-09T02:01:48.298569Z"
    }
   },
   "outputs": [
    {
     "name": "stdout",
     "output_type": "stream",
     "text": [
      "look at these two neurons range(0, 8)\n"
     ]
    },
    {
     "data": {
      "text/plain": [
       "[<matplotlib.lines.Line2D at 0x7f749e969910>,\n",
       " <matplotlib.lines.Line2D at 0x7f749e96a3a0>,\n",
       " <matplotlib.lines.Line2D at 0x7f749e96a880>,\n",
       " <matplotlib.lines.Line2D at 0x7f749e96abe0>,\n",
       " <matplotlib.lines.Line2D at 0x7f749e96ad90>,\n",
       " <matplotlib.lines.Line2D at 0x7f749e96aeb0>,\n",
       " <matplotlib.lines.Line2D at 0x7f749e96a550>,\n",
       " <matplotlib.lines.Line2D at 0x7f749e96afd0>]"
      ]
     },
     "execution_count": 92,
     "metadata": {},
     "output_type": "execute_result"
    },
    {
     "data": {
      "image/png": "[encoded data removed]",
      "text/plain": [
       "<Figure size 432x288 with 1 Axes>"
      ]
     },
     "metadata": {
      "needs_background": "light"
     },
     "output_type": "display_data"
    }
   ],
   "source": [
    "neurons_of_interest = range(8)\n",
    "\n",
    "print(f'look at these two neurons {neurons_of_interest}')\n",
    "\n",
    "plt.plot(ssm_all_batches[:, neurons_of_interest])"
   ]
  },
  {
   "cell_type": "markdown",
   "metadata": {},
   "source": [
    "## over all ssm"
   ]
  },
  {
   "cell_type": "code",
   "execution_count": 94,
   "metadata": {
    "ExecuteTime": {
     "end_time": "2021-03-09T02:02:43.191430Z",
     "start_time": "2021-03-09T02:02:43.187156Z"
    }
   },
   "outputs": [],
   "source": [
    "(N_BATCHES, N_NEURONS, N_POINTS_IN_A_BATCH)  =  spike_counts_batch.shape\n",
    "\n",
    "#initialize an nan array\n",
    "ssm_all_batches = np.empty((N_BATCHES,))\n",
    "\n",
    "\n",
    "for n_batch in range(N_BATCHES):\n",
    "    spike_count_slice = np.squeeze(spike_counts_batch[n_batch, :, :])\n",
    "    intended_kin_slice = np.squeeze(intended_kin[n_batch, VEL_DECODING_STATES, :])\n",
    "    kf_C_slice = np.squeeze(kf_C[n_batch, :,VEL_DECODING_STATES])\n",
    "    \n",
    "    #rotate the dimensions=\n",
    "    spike_count_slice = spike_count_slice.T\n",
    "    intended_kin_slice = intended_kin_slice.T\n",
    "    kf_C_slice = kf_C_slice.T\n",
    "    \n",
    "    ssm_slice = calc_ssm_y_minus_x_beta(intended_kin_slice, \n",
    "                                                   spike_count_slice, \n",
    "                                                   kf_C_slice)\n",
    "    ssm_all_batches[n_batch] = ssm_slice\n",
    "    \n",
    "ssm_all_batches = ssm_all_batches / N_POINTS_IN_A_BATCH\n",
    "    "
   ]
  },
  {
   "cell_type": "code",
   "execution_count": 95,
   "metadata": {
    "ExecuteTime": {
     "end_time": "2021-03-09T02:02:49.990965Z",
     "start_time": "2021-03-09T02:02:49.900406Z"
    }
   },
   "outputs": [
    {
     "data": {
      "text/plain": [
       "[<matplotlib.lines.Line2D at 0x7f749e90a040>]"
      ]
     },
     "execution_count": 95,
     "metadata": {},
     "output_type": "execute_result"
    },
    {
     "data": {
      "image/png": "[encoded data removed]",
      "text/plain": [
       "<Figure size 432x288 with 1 Axes>"
      ]
     },
     "metadata": {
      "needs_background": "light"
     },
     "output_type": "display_data"
    }
   ],
   "source": [
    "plt.plot(ssm_all_batches)\n",
    "plt.set_xlabel()"
   ]
  },
  {
   "cell_type": "markdown",
   "metadata": {},
   "source": [
    "# feature analyses hypothesis testing"
   ]
  },
  {
   "cell_type": "code",
   "execution_count": null,
   "metadata": {
    "ExecuteTime": {
     "end_time": "2021-03-09T01:34:18.593026Z",
     "start_time": "2021-03-09T01:33:42.254Z"
    }
   },
   "outputs": [],
   "source": [
    "import statsmodels.api as sm\n"
   ]
  },
  {
   "cell_type": "markdown",
   "metadata": {},
   "source": [
    "## Examine relevance of one neuron from one batch "
   ]
  },
  {
   "cell_type": "markdown",
   "metadata": {},
   "source": [
    "### Select data"
   ]
  },
  {
   "cell_type": "code",
   "execution_count": null,
   "metadata": {
    "ExecuteTime": {
     "end_time": "2021-03-09T01:34:18.593499Z",
     "start_time": "2021-03-09T01:33:42.257Z"
    }
   },
   "outputs": [],
   "source": [
    "clda_params_dict.keys() # this is from one experiment"
   ]
  },
  {
   "cell_type": "code",
   "execution_count": null,
   "metadata": {
    "ExecuteTime": {
     "end_time": "2021-03-09T01:34:18.593960Z",
     "start_time": "2021-03-09T01:33:42.259Z"
    },
    "scrolled": true
   },
   "outputs": [],
   "source": [
    "spike_counts_batch = clda_params_dict['spike_counts_batch']\n",
    "intended_kin = clda_params_dict['intended_kin']\n",
    "print(f'{len(spike_counts_batch)}')\n",
    "print(f'{len(intended_kin)}')"
   ]
  },
  {
   "cell_type": "code",
   "execution_count": null,
   "metadata": {
    "ExecuteTime": {
     "end_time": "2021-03-09T01:34:18.594350Z",
     "start_time": "2021-03-09T01:33:42.262Z"
    }
   },
   "outputs": [],
   "source": [
    "# we just take one batch\n",
    "batch_of_interest = 0\n",
    "spike_count_one_batch = spike_counts_batch[batch_of_interest]\n",
    "intended_kin_one_batch = intended_kin[batch_of_interest]\n",
    "\n",
    "print(f'look at one batch: batch number {batch_of_interest}')\n",
    "print(f'spike count')\n",
    "print(spike_count_one_batch)\n",
    "\n",
    "print(f'intended kin')\n",
    "print(intended_kin_one_batch)"
   ]
  },
  {
   "cell_type": "code",
   "execution_count": null,
   "metadata": {
    "ExecuteTime": {
     "end_time": "2021-03-09T01:34:18.595003Z",
     "start_time": "2021-03-09T01:33:42.264Z"
    }
   },
   "outputs": [],
   "source": [
    "print('we are dealing with a velocity decoder')\n",
    "print('we only look at  x vel and y vel:')\n",
    "print('We assume we are only interested how firing rates encode x, y vel')\n",
    "\n",
    "intended_kin_one_batch_2D = intended_kin_one_batch[(X_VEL_STATE_IND, Y_VEL_STATE_IND),:]\n",
    "print('after selecting the vels:')\n",
    "print(intended_kin_one_batch_2D)"
   ]
  },
  {
   "cell_type": "code",
   "execution_count": null,
   "metadata": {
    "ExecuteTime": {
     "end_time": "2021-03-09T01:34:18.595395Z",
     "start_time": "2021-03-09T01:33:42.266Z"
    }
   },
   "outputs": [],
   "source": [
    "print('we will do  one neuron at a time')\n",
    "n_roi_neuron = 0\n",
    "print(f'the neuron that we are interested is neuron {n_roi_neuron}')\n",
    "print('and selected firing rates:')\n",
    "\n",
    "spike_count_one_batch_one_neuron = spike_count_one_batch[n_roi_neuron,:]\n",
    "\n",
    "print(spike_count_one_batch_one_neuron)"
   ]
  },
  {
   "cell_type": "markdown",
   "metadata": {},
   "source": [
    "### OLS model fitting"
   ]
  },
  {
   "cell_type": "code",
   "execution_count": null,
   "metadata": {
    "ExecuteTime": {
     "end_time": "2021-03-09T01:34:18.595770Z",
     "start_time": "2021-03-09T01:33:42.268Z"
    }
   },
   "outputs": [],
   "source": [
    "print('we transpose the vector for fitting')\n",
    "X = intended_kin_one_batch_2D.T\n",
    "y = np.reshape(spike_count_one_batch_one_neuron, (-1,1))\n",
    "\n",
    "\n",
    "print('the independent variables are  the intended kin hence, X')\n",
    "print(X)\n",
    "\n",
    "\n",
    "print('the dependent variable is the neuron spike connt, hence y')\n",
    "print(y)\n"
   ]
  },
  {
   "cell_type": "code",
   "execution_count": null,
   "metadata": {
    "ExecuteTime": {
     "end_time": "2021-03-09T01:34:18.596340Z",
     "start_time": "2021-03-09T01:33:42.270Z"
    }
   },
   "outputs": [],
   "source": [
    "print('we add the constant one to the states (X)')\n",
    "X = sm.add_constant(X, has_constant= 'raise')\n",
    "print('the new X is')\n",
    "print(X)"
   ]
  },
  {
   "cell_type": "code",
   "execution_count": null,
   "metadata": {
    "ExecuteTime": {
     "end_time": "2021-03-09T01:34:18.597063Z",
     "start_time": "2021-03-09T01:33:42.272Z"
    }
   },
   "outputs": [],
   "source": [
    "print('now we can fit using statsmodels.ols')\n",
    "\n",
    "ols_spike_from_states = sm.OLS(y, X)\n",
    "\n",
    "results_ols_spike_from_states = ols_spike_from_states.fit()\n",
    "\n",
    "print('print results')\n",
    "print(results_ols_spike_from_states.summary())"
   ]
  },
  {
   "cell_type": "code",
   "execution_count": null,
   "metadata": {
    "ExecuteTime": {
     "end_time": "2021-03-09T01:34:18.597530Z",
     "start_time": "2021-03-09T01:33:42.274Z"
    }
   },
   "outputs": [],
   "source": [
    "print('the p-values test against if the coefficients are zero')\n",
    "neuron_batch_pvalue = results_ols_spike_from_states.pvalues\n",
    "\n",
    "print(f'the p values for this neuron of index {n_roi_neuron}')\n",
    "print(neuron_batch_pvalue)\n",
    "\n",
    "neuron_batch_coeff = results_ols_spike_from_states.params\n",
    "\n",
    "print('the reg. coeff. are ')\n",
    "print(neuron_batch_coeff)\n",
    "\n",
    "print()\n",
    "significance_level = 0.05\n",
    "print(f'at a significance_level of {significance_level}:')\n",
    "print('this array has the indix of the states that are significantly correlated with the firing rates  ')\n",
    "\n",
    "np.where(neuron_batch_pvalue < significance_level)"
   ]
  },
  {
   "cell_type": "markdown",
   "metadata": {},
   "source": [
    "## iterate up the model testing procedure"
   ]
  },
  {
   "cell_type": "code",
   "execution_count": null,
   "metadata": {
    "ExecuteTime": {
     "end_time": "2021-03-09T01:34:18.598048Z",
     "start_time": "2021-03-09T01:33:42.277Z"
    },
    "code_folding": []
   },
   "outputs": [],
   "source": [
    "print('we write a function that actually  check if any given neuron has a sig state')\n",
    "\n",
    "\n",
    "\n",
    "        \n",
    "\n",
    "\n",
    "\n",
    "\n"
   ]
  },
  {
   "cell_type": "code",
   "execution_count": null,
   "metadata": {
    "ExecuteTime": {
     "end_time": "2021-03-09T01:34:18.598426Z",
     "start_time": "2021-03-09T01:33:42.279Z"
    }
   },
   "outputs": [],
   "source": [
    "print('with the functions, we can fit and test the one neuron and against the state')"
   ]
  },
  {
   "cell_type": "code",
   "execution_count": null,
   "metadata": {
    "ExecuteTime": {
     "end_time": "2021-03-09T01:34:18.598918Z",
     "start_time": "2021-03-09T01:33:42.281Z"
    }
   },
   "outputs": [],
   "source": [
    "significance_level = 0.05\n",
    "\n",
    "\n",
    "    \n",
    "\n",
    "\n"
   ]
  },
  {
   "cell_type": "code",
   "execution_count": null,
   "metadata": {
    "ExecuteTime": {
     "end_time": "2021-03-09T01:34:18.599363Z",
     "start_time": "2021-03-09T01:33:42.282Z"
    },
    "scrolled": true
   },
   "outputs": [],
   "source": [
    "from weights import fit_ols\n",
    "\n",
    "print('we transpose the vector for fitting')\n",
    "X = intended_kin_one_batch_2D.T\n",
    "y = np.reshape(spike_count_one_batch_one_neuron, (-1,1))\n",
    "\n",
    "\n",
    "print('the independent variables are  the intended kin hence, X')\n",
    "print(X)\n",
    "\n",
    "\n",
    "print('the dependent variable is the neuron spike connt, hence y')\n",
    "print(y)\n",
    "\n",
    "results = fit_ols(y, X)\n",
    "\n",
    "print('fitting_results:')\n",
    "print(results)\n"
   ]
  },
  {
   "cell_type": "markdown",
   "metadata": {},
   "source": [
    "## test across the neurons in a batch"
   ]
  },
  {
   "cell_type": "code",
   "execution_count": null,
   "metadata": {
    "ExecuteTime": {
     "end_time": "2021-03-09T01:34:18.599932Z",
     "start_time": "2021-03-09T01:33:42.285Z"
    }
   },
   "outputs": [],
   "source": [
    "spike_count_one_batch.shape"
   ]
  },
  {
   "cell_type": "code",
   "execution_count": null,
   "metadata": {
    "ExecuteTime": {
     "end_time": "2021-03-09T01:34:18.600475Z",
     "start_time": "2021-03-09T01:33:42.286Z"
    }
   },
   "outputs": [],
   "source": [
    "\n",
    "\n",
    "n_roi_neuron = 0\n",
    "\n",
    "#assume spike_count_one_batch has the shape N_NEURONS by N_time points\n",
    "#assume that intended_kin_one_batch_2D has N_states by N_Time_points\n",
    "\n",
    "'''\n",
    "\n",
    "'''\n",
    "#get intended kinematics this is fixed for each neuron\n",
    "intended_kin_one_batch_2D = intended_kin_one_batch[(X_VEL_STATE_IND, Y_VEL_STATE_IND),:]\n",
    "#('we transpose the vector for fitting')\n",
    "intended_kin_one_batch_2D = intended_kin_one_batch_2D.T\n",
    "spike_count_one_batch = intended_kin_one_batch.T\n",
    "\n",
    "neuron_batch_pvalue_matrix = calc_single_batch_p_values_by_fitting_kinematics_to_spike_counts(spike_count_one_batch,\n",
    "                                                                       intended_kin_one_batch_2D)\n",
    "\n",
    "print(f'the pvalue matrix for a batch')\n",
    "neuron_batch_pvalue_matrix"
   ]
  },
  {
   "cell_type": "code",
   "execution_count": null,
   "metadata": {
    "ExecuteTime": {
     "end_time": "2021-03-09T01:34:18.600927Z",
     "start_time": "2021-03-09T01:33:42.289Z"
    },
    "scrolled": true
   },
   "outputs": [],
   "source": [
    "\n",
    "\n",
    "print('test out the calculate_p_value_matrix')\n",
    "\n",
    "calc_p_value_matrix_result = calc_single_batch_p_values_by_fitting_kinematics_to_spike_counts(\n",
    "                            intended_kin_one_batch_2D, \n",
    "                            spike_count_one_batch)\n",
    "print(calc_p_value_matrix_result)\n",
    "print()\n",
    "print('for comparision, this is what we just calculated')\n",
    "neuron_batch_pvalue_matrix"
   ]
  },
  {
   "cell_type": "markdown",
   "metadata": {},
   "source": [
    "## calculate p_values for a different batch"
   ]
  },
  {
   "cell_type": "code",
   "execution_count": null,
   "metadata": {
    "ExecuteTime": {
     "end_time": "2021-03-09T01:34:18.601455Z",
     "start_time": "2021-03-09T01:33:42.291Z"
    }
   },
   "outputs": [],
   "source": [
    "# we just take one batch\n",
    "batch_of_interest = 1\n",
    "\n",
    "intended_kin_one_batch = intended_kin[batch_of_interest]\n",
    "intended_kin_one_batch_2D = intended_kin_one_batch[(X_VEL_STATE_IND, Y_VEL_STATE_IND),:]\n",
    "spike_count_one_batch = spike_counts_batch[batch_of_interest]\n",
    "\n",
    "print(intended_kin_one_batch_2D.shape)\n",
    "spike_count_one_batch.shape"
   ]
  },
  {
   "cell_type": "code",
   "execution_count": null,
   "metadata": {
    "ExecuteTime": {
     "end_time": "2021-03-09T01:34:18.601884Z",
     "start_time": "2021-03-09T01:33:42.293Z"
    },
    "scrolled": true
   },
   "outputs": [],
   "source": [
    "# we just take one batch\n",
    "batch_of_interest = 1\n",
    "\n",
    "intended_kin_one_batch = intended_kin[batch_of_interest]\n",
    "intended_kin_one_batch_2D = intended_kin_one_batch[(X_VEL_STATE_IND, Y_VEL_STATE_IND),:].T\n",
    "spike_count_one_batch = spike_counts_batch[batch_of_interest].T\n",
    "\n",
    "\n",
    "\n",
    "\n",
    "calc_p_value_matrix_result = calc_single_batch_p_values_by_fitting_kinematics_to_spike_counts(\n",
    "                            intended_kin_one_batch_2D, \n",
    "                            spike_count_one_batch)\n",
    "\n",
    "print(calc_p_value_matrix_result)\n",
    "print('here, the issues are if any of the rows are linearly dependent')\n",
    "print('the fit just does not work')"
   ]
  },
  {
   "cell_type": "markdown",
   "metadata": {},
   "source": [
    "## calculate p_values across the batches"
   ]
  },
  {
   "cell_type": "code",
   "execution_count": null,
   "metadata": {
    "ExecuteTime": {
     "end_time": "2021-03-09T01:34:18.602676Z",
     "start_time": "2021-03-09T01:33:42.295Z"
    }
   },
   "outputs": [],
   "source": [
    "print(spike_counts_batch.shape)\n",
    "print(intended_kin.shape)"
   ]
  },
  {
   "cell_type": "code",
   "execution_count": null,
   "metadata": {
    "ExecuteTime": {
     "end_time": "2021-03-09T01:34:18.603170Z",
     "start_time": "2021-03-09T01:33:42.297Z"
    }
   },
   "outputs": [],
   "source": [
    "\n",
    "\n",
    "batch_pvalue_matrix = calc_p_values_for_spike_batches_use_intended_kin(spike_counts_batch, \n",
    "                                                                       intended_kin)\n",
    "    \n",
    "print('we can check the type of the design matrix')\n",
    "batch_pvalue_matrix.shape"
   ]
  },
  {
   "cell_type": "code",
   "execution_count": null,
   "metadata": {
    "ExecuteTime": {
     "end_time": "2021-03-09T01:34:18.603595Z",
     "start_time": "2021-03-09T01:33:42.299Z"
    }
   },
   "outputs": [],
   "source": [
    "n_roi_neuron = 0\n",
    "print(f'we look at the batched p_value {n_roi_neuron}')\n",
    "batch_pvalue_matrix_neuron = np.squeeze(batch_pvalue_matrix[:,n_roi_neuron,:])\n",
    "\n",
    "plt.plot(batch_pvalue_matrix_neuron)\n",
    "plt.xlabel('update count')\n",
    "plt.legend(['X vel', 'Y vel'])"
   ]
  },
  {
   "cell_type": "code",
   "execution_count": null,
   "metadata": {
    "ExecuteTime": {
     "end_time": "2021-03-09T01:34:18.604065Z",
     "start_time": "2021-03-09T01:33:42.301Z"
    },
    "scrolled": false
   },
   "outputs": [],
   "source": [
    "\n",
    "\n",
    "\n",
    "fig, axs = plt.subplots(1,N_NEURONS, figsize = (16,4))\n",
    "\n",
    "for n in range(N_NEURONS):\n",
    "    \n",
    "    \n",
    "    \n",
    "    batch_pvalue_matrix_neuron = np.squeeze(batch_pvalue_matrix[:,n,:])\n",
    "    axs[n].plot(batch_pvalue_matrix_neuron[:,1:])\n",
    "    \n",
    "    \n",
    "    if n == 0: axs[n].legend(['X Vel', 'Y vel'])\n",
    "\n",
    "\n"
   ]
  },
  {
   "cell_type": "markdown",
   "metadata": {},
   "source": [
    "the batch time is small\n",
    "a batch should include at least 4 reaches.\n",
    "very linear. all of a sudden, it gets way.\n",
    "\n",
    "inside target, setting the int to zero. \n",
    "the hold vel is zero.  "
   ]
  },
  {
   "cell_type": "markdown",
   "metadata": {},
   "source": [
    "## compare across conditions"
   ]
  },
  {
   "cell_type": "code",
   "execution_count": null,
   "metadata": {
    "ExecuteTime": {
     "end_time": "2021-03-09T01:34:18.604627Z",
     "start_time": "2021-03-09T01:33:42.304Z"
    }
   },
   "outputs": [],
   "source": [
    "for n in range(N_NEURONS):\n",
    "    \n",
    "    \n",
    "    \n",
    "    batch_pvalue_matrix_neuron = np.squeeze(batch_pvalue_matrix[:,n,:])\n",
    "    axs[n].plot(batch_pvalue_matrix_neuron[:,1:])\n",
    "    \n",
    "    \n",
    "    if n == 0: axs[n].legend(['X Vel', 'Y vel'])\n"
   ]
  }
 ],
 "metadata": {
  "kernelspec": {
   "display_name": "Python 3",
   "language": "python",
   "name": "python3"
  },
  "language_info": {
   "codemirror_mode": {
    "name": "ipython",
    "version": 3
   },
   "file_extension": ".py",
   "mimetype": "text/x-python",
   "name": "python",
   "nbconvert_exporter": "python",
   "pygments_lexer": "ipython3",
   "version": "3.8.5"
  },
  "toc": {
   "base_numbering": 1,
   "nav_menu": {},
   "number_sections": true,
   "sideBar": true,
   "skip_h1_title": false,
   "title_cell": "Table of Contents",
   "title_sidebar": "Contents",
   "toc_cell": false,
   "toc_position": {
    "height": "600.8px",
    "left": "35px",
    "top": "353.8px",
    "width": "293.1px"
   },
   "toc_section_display": true,
   "toc_window_display": true
  },
  "varInspector": {
   "cols": {
    "lenName": 16,
    "lenType": 16,
    "lenVar": 40
   },
   "kernels_config": {
    "python": {
     "delete_cmd_postfix": "",
     "delete_cmd_prefix": "del ",
     "library": "var_list.py",
     "varRefreshCmd": "print(var_dic_list())"
    },
    "r": {
     "delete_cmd_postfix": ") ",
     "delete_cmd_prefix": "rm(",
     "library": "var_list.r",
     "varRefreshCmd": "cat(var_dic_list()) "
    }
   },
   "types_to_exclude": [
    "module",
    "function",
    "builtin_function_or_method",
    "instance",
    "_Feature"
   ],
   "window_display": false
  }
 },
 "nbformat": 4,
 "nbformat_minor": 4
}
