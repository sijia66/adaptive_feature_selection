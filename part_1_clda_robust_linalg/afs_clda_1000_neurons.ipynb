{
 "cells": [
  {
   "cell_type": "markdown",
   "metadata": {},
   "source": [
    "# Purpose of this simulation\n"
   ]
  },
  {
   "cell_type": "markdown",
   "metadata": {},
   "source": [
    "# ideas"
   ]
  },
  {
   "cell_type": "code",
   "execution_count": 1,
   "metadata": {
    "ExecuteTime": {
     "end_time": "2021-10-08T22:59:59.590073Z",
     "start_time": "2021-10-08T22:59:59.586943Z"
    }
   },
   "outputs": [],
   "source": [
    "data_dump_folder = '/home/sijia-aw/BMi3D_my/operation_funny_chicken/sim_data/neurons_128/'"
   ]
  },
  {
   "cell_type": "code",
   "execution_count": 2,
   "metadata": {
    "ExecuteTime": {
     "end_time": "2021-10-08T22:59:59.651126Z",
     "start_time": "2021-10-08T22:59:59.591929Z"
    }
   },
   "outputs": [
    {
     "name": "stdout",
     "output_type": "stream",
     "text": [
      "['0.70']\n",
      "1\n"
     ]
    }
   ],
   "source": [
    "import numpy as np\n",
    "\n",
    "percent_high_SNR_noises = np.arange(0.7, 0.6, -0.2)\n",
    "#percent_high_SNR_noises[-1] = 0\n",
    "num_noises = len(percent_high_SNR_noises)\n",
    "\n",
    "\n",
    "percent_high_SNR_noises_labels = [f'{s:.2f}' for s in percent_high_SNR_noises]\n",
    "\n",
    "print(percent_high_SNR_noises_labels)\n",
    "print(num_noises)"
   ]
  },
  {
   "cell_type": "markdown",
   "metadata": {},
   "source": [
    "# Experimental setup related to the questions\n",
    "\n",
    "this part should be configured to directly test the hypothesis put forward in the previous section\n"
   ]
  },
  {
   "cell_type": "code",
   "execution_count": 3,
   "metadata": {
    "ExecuteTime": {
     "end_time": "2021-10-08T22:59:59.654341Z",
     "start_time": "2021-10-08T22:59:59.652025Z"
    }
   },
   "outputs": [],
   "source": [
    "import numpy as np\n",
    "np.set_printoptions(precision=2, suppress=True)\n",
    "\n",
    "mean_firing_rate_low = 50\n",
    "mean_firing_rate_high = 100\n",
    "noise_mode = 'fixed_gaussian'\n",
    "fixed_noise_level = 5 #Hz\n"
   ]
  },
  {
   "cell_type": "code",
   "execution_count": 4,
   "metadata": {
    "ExecuteTime": {
     "end_time": "2021-10-08T22:59:59.670133Z",
     "start_time": "2021-10-08T22:59:59.655380Z"
    }
   },
   "outputs": [
    {
     "name": "stdout",
     "output_type": "stream",
     "text": [
      "We have two types of indices: \n",
      "noisy:[ 96  97  98  99 100 101 102 103 104 105 106 107 108 109 110 111 112 113\n",
      " 114 115 116 117 118 119 120 121 122 123 124 125 126 127]\n",
      "non_noisy:[ 0  1  2  3  4  5  6  7  8  9 10 11 12 13 14 15 16 17 18 19 20 21 22 23\n",
      " 24 25 26 27 28 29 30 31 32 33 34 35 36 37 38 39 40 41 42 43 44 45 46 47\n",
      " 48 49 50 51 52 53 54 55 56 57 58 59 60 61 62 63 64 65 66 67 68 69 70 71\n",
      " 72 73 74 75 76 77 78 79 80 81 82 83 84 85 86 87 88 89 90 91 92 93 94 95]\n"
     ]
    }
   ],
   "source": [
    "\n",
    "\n",
    "neuron_types = ['noisy', 'non_noisy']\n",
    "\n",
    "n_neurons = 128\n",
    "n_neurons_noisy_group = 32\n",
    "n_neurons_no_noise_group = 96\n",
    "\n",
    "\n",
    "no_noise_neuron_ind = np.arange(n_neurons_no_noise_group)\n",
    "noise_neuron_ind = np.arange(n_neurons_no_noise_group, n_neurons_noisy_group + n_neurons_no_noise_group)\n",
    "\n",
    "neuron_type_indices_in_a_list = [\n",
    "    noise_neuron_ind, \n",
    "    no_noise_neuron_ind\n",
    "]\n",
    "\n",
    "\n",
    "noise_neuron_list = np.full(n_neurons, False, dtype = bool)\n",
    "no_noise_neuron_list = np.full(n_neurons, False, dtype = bool)\n",
    "\n",
    "\n",
    "noise_neuron_list[noise_neuron_ind] = True\n",
    "no_noise_neuron_list[no_noise_neuron_ind] = True\n",
    "\n",
    "\n",
    "\n",
    "neuron_type_bool_list = [\n",
    "    noise_neuron_list,\n",
    "    no_noise_neuron_list,\n",
    "]\n",
    "\n",
    "N_TYPES_OF_NEURONS = 2\n",
    "\n",
    "print('We have two types of indices: ')\n",
    "for t,l in enumerate(neuron_type_indices_in_a_list): print(f'{neuron_types[t]}:{l}')\n"
   ]
  },
  {
   "cell_type": "code",
   "execution_count": 5,
   "metadata": {
    "ExecuteTime": {
     "end_time": "2021-10-08T22:59:59.686620Z",
     "start_time": "2021-10-08T22:59:59.671618Z"
    }
   },
   "outputs": [
    {
     "data": {
      "text/plain": [
       "[array([[0.7],\n",
       "        [0.7],\n",
       "        [0.7],\n",
       "        [0.7],\n",
       "        [0.7],\n",
       "        [0.7],\n",
       "        [0.7],\n",
       "        [0.7],\n",
       "        [0.7],\n",
       "        [0.7],\n",
       "        [0.7],\n",
       "        [0.7],\n",
       "        [0.7],\n",
       "        [0.7],\n",
       "        [0.7],\n",
       "        [0.7],\n",
       "        [0.7],\n",
       "        [0.7],\n",
       "        [0.7],\n",
       "        [0.7],\n",
       "        [0.7],\n",
       "        [0.7],\n",
       "        [0.7],\n",
       "        [0.7],\n",
       "        [0.7],\n",
       "        [0.7],\n",
       "        [0.7],\n",
       "        [0.7],\n",
       "        [0.7],\n",
       "        [0.7],\n",
       "        [0.7],\n",
       "        [0.7],\n",
       "        [0.7],\n",
       "        [0.7],\n",
       "        [0.7],\n",
       "        [0.7],\n",
       "        [0.7],\n",
       "        [0.7],\n",
       "        [0.7],\n",
       "        [0.7],\n",
       "        [0.7],\n",
       "        [0.7],\n",
       "        [0.7],\n",
       "        [0.7],\n",
       "        [0.7],\n",
       "        [0.7],\n",
       "        [0.7],\n",
       "        [0.7],\n",
       "        [0.7],\n",
       "        [0.7],\n",
       "        [0.7],\n",
       "        [0.7],\n",
       "        [0.7],\n",
       "        [0.7],\n",
       "        [0.7],\n",
       "        [0.7],\n",
       "        [0.7],\n",
       "        [0.7],\n",
       "        [0.7],\n",
       "        [0.7],\n",
       "        [0.7],\n",
       "        [0.7],\n",
       "        [0.7],\n",
       "        [0.7],\n",
       "        [0.7],\n",
       "        [0.7],\n",
       "        [0.7],\n",
       "        [0.7],\n",
       "        [0.7],\n",
       "        [0.7],\n",
       "        [0.7],\n",
       "        [0.7],\n",
       "        [0.7],\n",
       "        [0.7],\n",
       "        [0.7],\n",
       "        [0.7],\n",
       "        [0.7],\n",
       "        [0.7],\n",
       "        [0.7],\n",
       "        [0.7],\n",
       "        [0.7],\n",
       "        [0.7],\n",
       "        [0.7],\n",
       "        [0.7],\n",
       "        [0.7],\n",
       "        [0.7],\n",
       "        [0.7],\n",
       "        [0.7],\n",
       "        [0.7],\n",
       "        [0.7],\n",
       "        [0.7],\n",
       "        [0.7],\n",
       "        [0.7],\n",
       "        [0.7],\n",
       "        [0.7],\n",
       "        [0.7],\n",
       "        [1. ],\n",
       "        [1. ],\n",
       "        [1. ],\n",
       "        [1. ],\n",
       "        [1. ],\n",
       "        [1. ],\n",
       "        [1. ],\n",
       "        [1. ],\n",
       "        [1. ],\n",
       "        [1. ],\n",
       "        [1. ],\n",
       "        [1. ],\n",
       "        [1. ],\n",
       "        [1. ],\n",
       "        [1. ],\n",
       "        [1. ],\n",
       "        [1. ],\n",
       "        [1. ],\n",
       "        [1. ],\n",
       "        [1. ],\n",
       "        [1. ],\n",
       "        [1. ],\n",
       "        [1. ],\n",
       "        [1. ],\n",
       "        [1. ],\n",
       "        [1. ],\n",
       "        [1. ],\n",
       "        [1. ],\n",
       "        [1. ],\n",
       "        [1. ],\n",
       "        [1. ],\n",
       "        [1. ]])]"
      ]
     },
     "execution_count": 5,
     "metadata": {},
     "output_type": "execute_result"
    }
   ],
   "source": [
    "# make percent of count into a list \n",
    "percent_of_count_in_a_list = list()\n",
    "\n",
    "for i in range(num_noises):\n",
    "    percent_of_count = np.ones(n_neurons)[:, np.newaxis]\n",
    "\n",
    "    percent_of_count[noise_neuron_ind] = 1\n",
    "    percent_of_count[no_noise_neuron_ind] = percent_high_SNR_noises[i]\n",
    "    \n",
    "    percent_of_count_in_a_list.append(percent_of_count)\n",
    "\n",
    "percent_of_count_in_a_list"
   ]
  },
  {
   "cell_type": "code",
   "execution_count": 6,
   "metadata": {
    "ExecuteTime": {
     "end_time": "2021-10-08T22:59:59.695881Z",
     "start_time": "2021-10-08T22:59:59.690145Z"
    }
   },
   "outputs": [
    {
     "name": "stdout",
     "output_type": "stream",
     "text": [
      "we have experimental conditions ['wo_FS_0.7', 'iter_0.7', 'same_0.7']\n"
     ]
    }
   ],
   "source": [
    "np.set_printoptions(precision = 2)\n",
    "#for comparision\n",
    "#for comparision\n",
    "exp_conds_add = [f'iter_{s}' for s in percent_high_SNR_noises]\n",
    "exp_conds_keep = [f'same_{s}' for s in percent_high_SNR_noises]\n",
    "exp_conds = [f'wo_FS_{s}' for s in percent_high_SNR_noises]\n",
    "\n",
    "exp_conds.extend(exp_conds_add)\n",
    "exp_conds.extend(exp_conds_keep)\n",
    "print(f'we have experimental conditions {exp_conds}')"
   ]
  },
  {
   "cell_type": "code",
   "execution_count": 7,
   "metadata": {
    "ExecuteTime": {
     "end_time": "2021-10-08T22:59:59.703686Z",
     "start_time": "2021-10-08T22:59:59.699279Z"
    }
   },
   "outputs": [],
   "source": [
    "# CHANGE: game mechanics: generate task params\n",
    "N_TARGETS = 8\n",
    "N_TRIALS = 200\n",
    "\n",
    "NUM_EXP = len(exp_conds) # how many experiments we are running. "
   ]
  },
  {
   "cell_type": "markdown",
   "metadata": {},
   "source": [
    "# Config the experiments\n",
    "\n",
    "this section largely copyied and pasted from   \n",
    "bmi3d-sijia(branch)-bulti_in_experiemnts\n",
    "https://github.com/sijia66/brain-python-interface/blob/master/built_in_tasks/sim_task_KF.py"
   ]
  },
  {
   "cell_type": "markdown",
   "metadata": {},
   "source": [
    "## load dependant libraries"
   ]
  },
  {
   "cell_type": "code",
   "execution_count": 8,
   "metadata": {
    "ExecuteTime": {
     "end_time": "2021-10-08T22:59:59.713335Z",
     "start_time": "2021-10-08T22:59:59.704474Z"
    }
   },
   "outputs": [],
   "source": [
    "GLOBAL_FIGURE_VERTICAL_SIZE = 4"
   ]
  },
  {
   "cell_type": "code",
   "execution_count": 9,
   "metadata": {
    "ExecuteTime": {
     "end_time": "2021-10-08T23:00:00.651614Z",
     "start_time": "2021-10-08T22:59:59.714147Z"
    },
    "scrolled": true
   },
   "outputs": [],
   "source": [
    "# import libraries\n",
    "# make sure these directories are in the python path., \n",
    "from bmimultitasks import SimBMIControlMulti, SimBMICosEncKFDec, BMIControlMultiNoWindow, SimpleTargetCapture, SimpleTargetCaptureWithHold\n",
    "from features import SaveHDF\n",
    "from features.simulation_features import get_enc_setup, SimKFDecoderRandom,SimIntentionLQRController, SimClockTick\n",
    "from features.simulation_features import SimHDF, SimTime\n",
    "\n",
    "from riglib import experiment\n",
    "\n",
    "from riglib.stereo_opengl.window import FakeWindow\n",
    "from riglib.bmi import train\n",
    "\n",
    "\n",
    "from behaviour_metrics import  filter_state, sort_trials\n",
    "\n",
    "from weights import calc_p_values_for_spike_batches_use_intended_kin\n",
    "from weights import calc_single_batch_p_values_by_fitting_kinematics_to_spike_counts\n",
    "import weights\n",
    "\n",
    "import time\n",
    "import copy\n",
    "import numpy as np\n",
    "import matplotlib.pyplot as plt\n",
    "import sympy as sp\n",
    "import itertools #for identical sequences\n",
    "\n",
    "np.set_printoptions(precision=2, suppress=True)\n"
   ]
  },
  {
   "cell_type": "markdown",
   "metadata": {},
   "source": [
    "##  behaviour and task setup"
   ]
  },
  {
   "cell_type": "code",
   "execution_count": 10,
   "metadata": {
    "ExecuteTime": {
     "end_time": "2021-10-08T23:00:00.663403Z",
     "start_time": "2021-10-08T23:00:00.652473Z"
    }
   },
   "outputs": [],
   "source": [
    "#seq = SimBMIControlMulti.sim_target_seq_generator_multi(\n",
    "#N_TARGETS, N_TRIALS)\n",
    "\n",
    "from target_capture_task import ConcreteTargetCapture\n",
    "seq = ConcreteTargetCapture.out_2D()\n",
    "\n",
    "#create a second version of the tasks\n",
    "seqs = itertools.tee(seq, NUM_EXP + 1)\n",
    "target_seq = list(seqs[NUM_EXP])\n",
    "\n",
    "seqs = seqs[:NUM_EXP]\n",
    "\n",
    "\n",
    "SAVE_HDF = True\n",
    "SAVE_SIM_HDF = True #this makes the task data available as exp.task_data_hist\n",
    "DEBUG_FEATURE = False\n",
    "\n",
    "\n",
    "#base_class = SimBMIControlMulti\n",
    "base_class = SimpleTargetCaptureWithHold\n",
    "\n",
    "#for adding experimental features such as encoder, decoder\n",
    "feats = []\n",
    "feats_2 = []\n",
    "feats_set = [] # this is a going to be a list of lists "
   ]
  },
  {
   "cell_type": "markdown",
   "metadata": {},
   "source": [
    "## Additional task setup"
   ]
  },
  {
   "cell_type": "code",
   "execution_count": 11,
   "metadata": {
    "ExecuteTime": {
     "end_time": "2021-10-08T23:00:00.675465Z",
     "start_time": "2021-10-08T23:00:00.664112Z"
    }
   },
   "outputs": [],
   "source": [
    "from simulation_features import TimeCountDown\n",
    "from features.sync_features import HDFSync\n",
    "\n",
    "\n",
    "feats.append(HDFSync)\n",
    "feats_2.append(HDFSync)\n",
    "\n",
    "feats.append(TimeCountDown)\n",
    "feats_2.append(TimeCountDown)\n",
    "\n",
    "total_exp_time = 1200# in seconds"
   ]
  },
  {
   "cell_type": "markdown",
   "metadata": {},
   "source": [
    "## encoder\n",
    "\n",
    "the cosine tuned encoder uses a poisson process, right\n",
    "https://en.wikipedia.org/wiki/Poisson_distribution\n",
    "so if the lambda is 1, then it's very likely "
   ]
  },
  {
   "cell_type": "code",
   "execution_count": 12,
   "metadata": {
    "ExecuteTime": {
     "end_time": "2021-10-08T23:00:00.694482Z",
     "start_time": "2021-10-08T23:00:00.676284Z"
    }
   },
   "outputs": [
    {
     "name": "stdout",
     "output_type": "stream",
     "text": [
      "features.simulation_features: get_enc_setup has a tuning_level of 1 \n",
      "\n"
     ]
    }
   ],
   "source": [
    "from features.simulation_features import get_enc_setup\n",
    "\n",
    "ENCODER_TYPE = 'cosine_tuned_encoder_with_poisson_noise'\n",
    "\n",
    "#neuron set up : 'std (20 neurons)' or 'toy (4 neurons)' \n",
    "N_NEURONS, N_STATES, sim_C = get_enc_setup(sim_mode = 'rot_90', n_neurons= n_neurons)\n",
    "\n",
    "#multiply our the neurons\n",
    "sim_C[noise_neuron_list] =  sim_C[noise_neuron_list]  * mean_firing_rate_low\n",
    "sim_C[no_noise_neuron_list]  = sim_C[no_noise_neuron_list] * mean_firing_rate_high\n",
    "\n",
    "#set up the encoder\n",
    "from features.simulation_features import SimCosineTunedEncWithNoise\n",
    "#set up intention feedbackcontroller\n",
    "#this ideally set before the encoder\n",
    "feats.append(SimIntentionLQRController)\n",
    "feats.append(SimCosineTunedEncWithNoise)\n",
    "\n",
    "\n",
    "feats_2.append(SimIntentionLQRController)\n",
    "feats_2.append(SimCosineTunedEncWithNoise)"
   ]
  },
  {
   "cell_type": "markdown",
   "metadata": {},
   "source": [
    "## decoder setup"
   ]
  },
  {
   "cell_type": "code",
   "execution_count": 13,
   "metadata": {
    "ExecuteTime": {
     "end_time": "2021-10-08T23:00:00.707318Z",
     "start_time": "2021-10-08T23:00:00.698271Z"
    }
   },
   "outputs": [
    {
     "name": "stdout",
     "output_type": "stream",
     "text": [
      "__main__: set base class \n",
      "__main__: selected SimKFDecoderRandom \n",
      "\n"
     ]
    }
   ],
   "source": [
    "#clda on random \n",
    "DECODER_MODE = 'random' # random \n",
    "\n",
    "   #take care the decoder setup\n",
    "if DECODER_MODE == 'random':\n",
    "    feats.append(SimKFDecoderRandom)\n",
    "    feats_2.append(SimKFDecoderRandom)\n",
    "    print(f'{__name__}: set base class ')\n",
    "    print(f'{__name__}: selected SimKFDecoderRandom \\n')\n",
    "else: #defaul to a cosEnc and a pre-traind KF DEC\n",
    "    from features.simulation_features import SimKFDecoderSup\n",
    "    feats.append(SimKFDecoderSup)\n",
    "    feats_2.append(SimKFDecoderSup)\n",
    "    print(f'{__name__}: set decoder to SimKFDecoderSup\\n')"
   ]
  },
  {
   "cell_type": "markdown",
   "metadata": {},
   "source": [
    "##  clda: learner and updater"
   ]
  },
  {
   "cell_type": "code",
   "execution_count": 14,
   "metadata": {
    "ExecuteTime": {
     "end_time": "2021-10-08T23:00:00.720225Z",
     "start_time": "2021-10-08T23:00:00.708048Z"
    }
   },
   "outputs": [],
   "source": [
    "\n",
    "#setting clda parameters \n",
    "##learner: collects paired data at batch_sizes\n",
    "RHO = 0.5\n",
    "batch_size = 100\n",
    "\n",
    "#learner and updater: actualy set up rho\n",
    "UPDATER_BATCH_TIME = 1\n",
    "UPDATER_HALF_LIFE = np.log(RHO)  * UPDATER_BATCH_TIME / np.log(0.5)\n",
    "\n",
    "\n",
    "\n",
    "LEARNER_TYPE = 'feedback' # to dumb or not dumb it is a question 'feedback'\n",
    "UPDATER_TYPE = 'smooth_batch' #none or \"smooth_batch\"\n",
    "\n",
    "\n",
    "#you know what? \n",
    "#learner only collects firing rates labeled with estimated estimates\n",
    "#we would also need to use the labeled data\n",
    "#now, we can set up a dumb/or not-dumb learner\n",
    "if LEARNER_TYPE == 'feedback':\n",
    "    from features.simulation_features import SimFeedbackLearner\n",
    "    feats.append(SimFeedbackLearner)\n",
    "    feats_2.append(SimFeedbackLearner)\n",
    "else:\n",
    "    from features.simulation_features import SimDumbLearner\n",
    "    feats.append(SimDumbLearner)\n",
    "    feats_2.append(SimDumbLearner)\n",
    "\n",
    "#to update the decoder.\n",
    "if UPDATER_TYPE == 'smooth_batch':\n",
    "    from features.simulation_features import SimSmoothBatch\n",
    "    feats.append(SimSmoothBatch)\n",
    "    feats_2.append(SimSmoothBatch)\n",
    "else: #defaut to none \n",
    "    print(f'{__name__}: need to specify an updater')"
   ]
  },
  {
   "cell_type": "markdown",
   "metadata": {},
   "source": [
    "## feature selector setup"
   ]
  },
  {
   "cell_type": "code",
   "execution_count": 15,
   "metadata": {
    "ExecuteTime": {
     "end_time": "2021-10-08T23:00:00.832941Z",
     "start_time": "2021-10-08T23:00:00.728160Z"
    }
   },
   "outputs": [
    {
     "name": "stdout",
     "output_type": "stream",
     "text": [
      "kwargs will be updated in a later time\n",
      "the feature adaptation project is tracking dict_keys(['transform_x_flag', 'transform_y_flag', 'n_starting_feats', 'n_states']) \n"
     ]
    }
   ],
   "source": [
    "from feature_selection_feature import FeatureTransformer, TransformerBatchToFit\n",
    "from feature_selection_feature import FeatureSelector, LassoFeatureSelector, SNRFeatureSelector, IterativeFeatureSelector\n",
    "from feature_selection_feature import ReliabilityFeatureSelector\n",
    "\n",
    "\n",
    "#pass the real time limit on clock\n",
    "feats.append(FeatureSelector)\n",
    "feats_2.append(IterativeFeatureSelector)\n",
    "\n",
    "\n",
    "feature_x_meth_arg = [\n",
    "    ('transpose', None ),\n",
    "]\n",
    "\n",
    "kwargs_feature = dict()\n",
    "kwargs_feature = {\n",
    "    'transform_x_flag':False,\n",
    "    'transform_y_flag':False,\n",
    "    'n_starting_feats': n_neurons,\n",
    "    'n_states':  7\n",
    "}\n",
    "\n",
    "print('kwargs will be updated in a later time')\n",
    "print(f'the feature adaptation project is tracking {kwargs_feature.keys()} ')"
   ]
  },
  {
   "cell_type": "markdown",
   "metadata": {},
   "source": [
    "## assistor setup"
   ]
  },
  {
   "cell_type": "code",
   "execution_count": 16,
   "metadata": {
    "ExecuteTime": {
     "end_time": "2021-10-08T23:00:00.835666Z",
     "start_time": "2021-10-08T23:00:00.834160Z"
    }
   },
   "outputs": [],
   "source": [
    "#assistor set up assist level\n",
    "assist_level = (0.0, 0.0)"
   ]
  },
  {
   "cell_type": "markdown",
   "metadata": {},
   "source": [
    "## (Check) config the experiment"
   ]
  },
  {
   "cell_type": "code",
   "execution_count": 17,
   "metadata": {
    "ExecuteTime": {
     "end_time": "2021-10-08T23:00:00.852473Z",
     "start_time": "2021-10-08T23:00:00.836386Z"
    }
   },
   "outputs": [],
   "source": [
    "\n",
    "exp_feats = [feats] * num_noises\n",
    "\n",
    "e_f_2 = [feats_2] * num_noises\n",
    "\n",
    "e_f_3 = [feats] * num_noises\n",
    "\n",
    "\n",
    "\n",
    "exp_feats.extend(e_f_2)\n",
    "\n",
    "exp_feats.extend(e_f_3)"
   ]
  },
  {
   "cell_type": "code",
   "execution_count": 18,
   "metadata": {
    "ExecuteTime": {
     "end_time": "2021-10-08T23:00:00.867243Z",
     "start_time": "2021-10-08T23:00:00.855684Z"
    }
   },
   "outputs": [],
   "source": [
    "if DEBUG_FEATURE: \n",
    "    from features.simulation_features import DebugFeature\n",
    "    feats.append(DebugFeature)\n",
    "    \n",
    "if SAVE_HDF: \n",
    "    feats.append(SaveHDF)\n",
    "    feats_2.append(SaveHDF)\n",
    "if SAVE_SIM_HDF: \n",
    "    feats.append(SimHDF)\n",
    "    feats_2.append(SimHDF)\n",
    "    \n",
    "    \n",
    "#pass the real time limit on clock\n",
    "feats.append(SimClockTick)\n",
    "feats.append(SimTime)\n",
    "\n",
    "feats_2.append(SimClockTick)\n",
    "feats_2.append(SimTime)\n"
   ]
  },
  {
   "cell_type": "code",
   "execution_count": 19,
   "metadata": {
    "ExecuteTime": {
     "end_time": "2021-10-08T23:00:00.885636Z",
     "start_time": "2021-10-08T23:00:00.870553Z"
    }
   },
   "outputs": [
    {
     "name": "stdout",
     "output_type": "stream",
     "text": [
      "we have got 3 exps\n"
     ]
    },
    {
     "data": {
      "text/plain": [
       "array([ True,  True,  True,  True,  True,  True,  True,  True,  True,\n",
       "        True,  True,  True,  True,  True,  True,  True,  True,  True,\n",
       "        True,  True,  True,  True,  True,  True,  True,  True,  True,\n",
       "        True,  True,  True,  True,  True,  True,  True,  True,  True,\n",
       "        True,  True,  True,  True,  True,  True,  True,  True,  True,\n",
       "        True,  True,  True,  True,  True,  True,  True,  True,  True,\n",
       "        True,  True,  True,  True,  True,  True,  True,  True,  True,\n",
       "        True,  True,  True,  True,  True,  True,  True,  True,  True,\n",
       "        True,  True,  True,  True,  True,  True,  True,  True,  True,\n",
       "        True,  True,  True,  True,  True,  True,  True,  True,  True,\n",
       "        True,  True,  True,  True,  True,  True, False, False, False,\n",
       "       False, False, False, False, False, False, False, False, False,\n",
       "       False, False, False, False, False, False, False, False, False,\n",
       "       False, False, False, False, False, False, False, False, False,\n",
       "       False, False])"
      ]
     },
     "execution_count": 19,
     "metadata": {},
     "output_type": "execute_result"
    }
   ],
   "source": [
    "\n",
    "kwargs_exps = list()\n",
    "\n",
    "for i in range(num_noises):\n",
    "    d = dict()\n",
    "    \n",
    "    d['total_exp_time'] = total_exp_time\n",
    "    \n",
    "    d['assist_level'] = assist_level\n",
    "    d['sim_C'] = sim_C\n",
    "    \n",
    "    d['noise_mode'] = noise_mode\n",
    "    d['percent_noise'] = percent_of_count_in_a_list[i]\n",
    "    d['fixed_noise_level'] = fixed_noise_level\n",
    "    \n",
    "    d['batch_size'] = batch_size\n",
    "    \n",
    "    d['batch_time'] = UPDATER_BATCH_TIME\n",
    "    d['half_life'] = UPDATER_HALF_LIFE\n",
    "    d['no_noise_neuron_ind'] = no_noise_neuron_ind\n",
    "    d['noise_neuron_ind'] = noise_neuron_ind\n",
    "    \n",
    "    d.update(kwargs_feature)\n",
    "    \n",
    "    kwargs_exps.append(d)\n",
    "\n",
    "kwargs_exps_add = copy.deepcopy(kwargs_exps)\n",
    "kwargs_exps_start = copy.deepcopy(kwargs_exps)\n",
    "\n",
    "for k in kwargs_exps_add:\n",
    "    \n",
    "    k['init_feat_set'] = np.full(N_NEURONS, False, dtype = bool)\n",
    "    k['init_feat_set'][no_noise_neuron_list] = True\n",
    "\n",
    "for k in kwargs_exps_start:\n",
    "    \n",
    "    k['init_feat_set'] = np.full(N_NEURONS, False, dtype = bool)\n",
    "    k['init_feat_set'][no_noise_neuron_list] = True\n",
    "\n",
    "\n",
    "kwargs_exps.extend(kwargs_exps_add)\n",
    "kwargs_exps.extend(kwargs_exps_start)\n",
    "\n",
    "print(f'we have got {len(kwargs_exps)} exps')\n",
    "kwargs_exps[1]['init_feat_set']"
   ]
  },
  {
   "cell_type": "markdown",
   "metadata": {},
   "source": [
    "## make and initalize experiment instances"
   ]
  },
  {
   "cell_type": "code",
   "execution_count": 20,
   "metadata": {
    "ExecuteTime": {
     "end_time": "2021-10-08T23:00:00.938734Z",
     "start_time": "2021-10-08T23:00:00.887257Z"
    }
   },
   "outputs": [
    {
     "name": "stdout",
     "output_type": "stream",
     "text": [
      "\n",
      "features.simulation_features.SimIntentionLQRController: LQRController used \n",
      "\n",
      "\n",
      " features.simulation_features.SimFeedbackLearner: start to create a sim leaner with a batchsize of 100\n",
      "features.simulation_features.SimSmoothBatch: rho in this simulation is  0.5\n",
      "\n",
      "finished executing Experiment.__init__\n",
      "in feature selector mod\n",
      "feature init: [array([ True,  True,  True,  True,  True,  True,  True,  True,  True,\n",
      "        True,  True,  True,  True,  True,  True,  True,  True,  True,\n",
      "        True,  True,  True,  True,  True,  True,  True,  True,  True,\n",
      "        True,  True,  True,  True,  True,  True,  True,  True,  True,\n",
      "        True,  True,  True,  True,  True,  True,  True,  True,  True,\n",
      "        True,  True,  True,  True,  True,  True,  True,  True,  True,\n",
      "        True,  True,  True,  True,  True,  True,  True,  True,  True,\n",
      "        True,  True,  True,  True,  True,  True,  True,  True,  True,\n",
      "        True,  True,  True,  True,  True,  True,  True,  True,  True,\n",
      "        True,  True,  True,  True,  True,  True,  True,  True,  True,\n",
      "        True,  True,  True,  True,  True,  True,  True,  True,  True,\n",
      "        True,  True,  True,  True,  True,  True,  True,  True,  True,\n",
      "        True,  True,  True,  True,  True,  True,  True,  True,  True,\n",
      "        True,  True,  True,  True,  True,  True,  True,  True,  True,\n",
      "        True,  True])]\n",
      "feature selector: add initial decoder weights\n",
      "<class 'features.simulation_features.SimCosineTunedEncWithNoise'>: added CosineTunedEncWithNoise \n",
      "TimeCountDown: assume  fps to be 60\n",
      "\n",
      "features.simulation_features.SimIntentionLQRController: LQRController used \n",
      "\n",
      "\n",
      " features.simulation_features.SimFeedbackLearner: start to create a sim leaner with a batchsize of 100\n",
      "features.simulation_features.SimSmoothBatch: rho in this simulation is  0.5\n",
      "\n",
      "finished executing Experiment.__init__\n",
      "in feature selector mod\n",
      "use user supplied features\n",
      "feature init: [array([ True,  True,  True,  True,  True,  True,  True,  True,  True,\n",
      "        True,  True,  True,  True,  True,  True,  True,  True,  True,\n",
      "        True,  True,  True,  True,  True,  True,  True,  True,  True,\n",
      "        True,  True,  True,  True,  True,  True,  True,  True,  True,\n",
      "        True,  True,  True,  True,  True,  True,  True,  True,  True,\n",
      "        True,  True,  True,  True,  True,  True,  True,  True,  True,\n",
      "        True,  True,  True,  True,  True,  True,  True,  True,  True,\n",
      "        True,  True,  True,  True,  True,  True,  True,  True,  True,\n",
      "        True,  True,  True,  True,  True,  True,  True,  True,  True,\n",
      "        True,  True,  True,  True,  True,  True,  True,  True,  True,\n",
      "        True,  True,  True,  True,  True,  True, False, False, False,\n",
      "       False, False, False, False, False, False, False, False, False,\n",
      "       False, False, False, False, False, False, False, False, False,\n",
      "       False, False, False, False, False, False, False, False, False,\n",
      "       False, False])]\n",
      "feature selector: add initial decoder weights\n",
      "<class 'features.simulation_features.SimCosineTunedEncWithNoise'>: added CosineTunedEncWithNoise \n",
      "TimeCountDown: assume  fps to be 60\n",
      "\n",
      "features.simulation_features.SimIntentionLQRController: LQRController used \n",
      "\n",
      "\n",
      " features.simulation_features.SimFeedbackLearner: start to create a sim leaner with a batchsize of 100\n",
      "features.simulation_features.SimSmoothBatch: rho in this simulation is  0.5\n",
      "\n",
      "finished executing Experiment.__init__\n",
      "in feature selector mod\n",
      "use user supplied features\n",
      "feature init: [array([ True,  True,  True,  True,  True,  True,  True,  True,  True,\n",
      "        True,  True,  True,  True,  True,  True,  True,  True,  True,\n",
      "        True,  True,  True,  True,  True,  True,  True,  True,  True,\n",
      "        True,  True,  True,  True,  True,  True,  True,  True,  True,\n",
      "        True,  True,  True,  True,  True,  True,  True,  True,  True,\n",
      "        True,  True,  True,  True,  True,  True,  True,  True,  True,\n",
      "        True,  True,  True,  True,  True,  True,  True,  True,  True,\n",
      "        True,  True,  True,  True,  True,  True,  True,  True,  True,\n",
      "        True,  True,  True,  True,  True,  True,  True,  True,  True,\n",
      "        True,  True,  True,  True,  True,  True,  True,  True,  True,\n",
      "        True,  True,  True,  True,  True,  True, False, False, False,\n",
      "       False, False, False, False, False, False, False, False, False,\n",
      "       False, False, False, False, False, False, False, False, False,\n",
      "       False, False, False, False, False, False, False, False, False,\n",
      "       False, False])]\n",
      "feature selector: add initial decoder weights\n",
      "<class 'features.simulation_features.SimCosineTunedEncWithNoise'>: added CosineTunedEncWithNoise \n",
      "TimeCountDown: assume  fps to be 60\n"
     ]
    }
   ],
   "source": [
    "#seed the experiment\n",
    "np.random.seed(0)\n",
    "\n",
    "\n",
    "exps = list()#create a list of experiment\n",
    "\n",
    "for i,s in enumerate(seqs):\n",
    "    #spawn the task\n",
    "    f = exp_feats[i]\n",
    "    Exp = experiment.make(base_class, feats=f)\n",
    "    \n",
    "    e = Exp(s, **kwargs_exps[i])\n",
    "    exps.append(e)\n",
    "\n",
    "\n",
    "exps_np  = np.array(exps, dtype = 'object')\n"
   ]
  },
  {
   "cell_type": "markdown",
   "metadata": {},
   "source": [
    "# Pre-experiment check: check the Kalman filter before training"
   ]
  },
  {
   "cell_type": "markdown",
   "metadata": {},
   "source": [
    "# Experiment run: assemble into a complete loop"
   ]
  },
  {
   "cell_type": "markdown",
   "metadata": {},
   "source": [
    "## actually running the experiments"
   ]
  },
  {
   "cell_type": "code",
   "execution_count": 21,
   "metadata": {
    "ExecuteTime": {
     "end_time": "2021-10-08T23:00:00.941492Z",
     "start_time": "2021-10-08T23:00:00.939490Z"
    }
   },
   "outputs": [],
   "source": [
    "def get_KF_C_Q_from_decoder(first_decoder):\n",
    "    \"\"\"\n",
    "    get the decoder matrices C, Q from the decoder instance\n",
    "    \n",
    "    Args:\n",
    "        first_decoder: riglib.bmi.decoder.\n",
    "    Returns:\n",
    "        target_C, target_Q: np.ndarray instances\n",
    "    \"\"\"\n",
    "    target_C = first_decoder.filt.C\n",
    "    target_Q = np.copy(first_decoder.filt.Q)\n",
    "    diag_val = 10000\n",
    "    np.fill_diagonal(target_Q, diag_val)\n",
    "    \n",
    "    return (target_C, target_Q)\n",
    "    \n",
    "    "
   ]
  },
  {
   "cell_type": "code",
   "execution_count": 22,
   "metadata": {
    "ExecuteTime": {
     "end_time": "2021-10-08T23:03:50.617169Z",
     "start_time": "2021-10-08T23:00:00.942174Z"
    },
    "scrolled": true
   },
   "outputs": [
    {
     "name": "stdout",
     "output_type": "stream",
     "text": [
      "\n",
      " using encoder with additional noises  State space: ['hand_px', 'hand_py', 'hand_pz', 'hand_vx', 'hand_vy', 'hand_vz', 'offset'] \n",
      "\n",
      "<bound method GenericCosEncWithNoise._gen_fixed_gaussian_noise of <riglib.bmi.sim_neurons.GenericCosEncWithNoise object at 0x7ff0e7209a00>>\n",
      "neural encoder init function  <SimpleTargetCaptureWithHold(Thread-4, initial)>\n",
      "features.simulation_features: added tracking of K matrix\n",
      "sinkmanager start <class 'hdfwriter.hdfwriter.HDFWriter'>\n",
      "HDFWriter: Saving datafile to /tmp/tmp3s32ww8z.h5\n",
      "HDFWriter: opening file\n",
      "HDFWriter registered 'sync_events'\n",
      "HDFWriter registered 'sync_clock'\n",
      "HDFWriter registered 'trials'\n",
      "HDFWriter registered 'task'\n",
      "<bmimultitasks.SimpleEndpointAssister object at 0x7ff0e7229970>\n",
      "features.simulation_features: batch size is 100\n",
      "Reset states for learner: \n",
      "[]\n",
      "Done states for learner: \n",
      "[]\n",
      "\n",
      "features.simulation_features.SimFeedbackLearner: flip the self.learn_flag to true\n",
      "features.simulation_features.SimFeedbackLearner: succussfully created a feedback controller learner\n",
      "\n",
      "\n",
      "SimSmoothBatch: created an updater with a batch time of 1 and a half_life of 1.0 \n",
      "\n",
      "..........................finished: 1\n",
      "assist_level at final value after 0 successful trials\n",
      "Warning: Cannot sync more than 1 event per cycle\n",
      "Overwriting [b'EXP_START'] with TARGET_ON event\n"
     ]
    },
    {
     "name": "stderr",
     "output_type": "stream",
     "text": [
      "/home/sijia-aw/BMi3D_my/lab_bmi3d/riglib/bmi/kfdecoder.py:372: FutureWarning: `rcond` parameter will change to the default of machine precision times ``max(M, N)`` where M and N are the input matrix dimensions.\n",
      "To use the future default and silence this warning we advise to pass `rcond=None`, to keep using the old, explicitly pass `rcond=-1`.\n",
      "  C = np.mat(np.linalg.lstsq(X.T, Y.T)[0].T)\n"
     ]
    },
    {
     "name": "stdout",
     "output_type": "stream",
     "text": [
      "finish  at cycle_count: 72000\n",
      "..........................Closed hdf\n",
      "ended datasink\n",
      "0\n",
      "exit\n",
      "end of FSM.run, task state is None\n",
      "wait for 10s for hdf file to save\n",
      "saving file name to /tmp/tmp3s32ww8z.h5\n",
      "riglib.bmi.bmi: clda table names\n",
      "['kf.C', 'kf.Q', 'kf.C_xpose_Q_inv_C', 'kf.C_xpose_Q_inv', 'mFR', 'sdFR', 'rho', 'intended_kin', 'spike_counts_batch']\n",
      "Finished running  wo_FS_0.7\n",
      "\n",
      "\n",
      " using encoder with additional noises  State space: ['hand_px', 'hand_py', 'hand_pz', 'hand_vx', 'hand_vy', 'hand_vz', 'offset'] \n",
      "\n",
      "<bound method GenericCosEncWithNoise._gen_fixed_gaussian_noise of <riglib.bmi.sim_neurons.GenericCosEncWithNoise object at 0x7ff0dcf85100>>\n",
      "neural encoder init function  <SimpleTargetCaptureWithHold(Thread-5, initial)>\n",
      "features.simulation_features: added tracking of K matrix\n",
      "sinkmanager start <class 'hdfwriter.hdfwriter.HDFWriter'>\n",
      "HDFWriter: Saving datafile to /tmp/tmp4g0b39cq.h5\n",
      "HDFWriter: opening file\n",
      "HDFWriter registered 'sync_events'\n",
      "HDFWriter registered 'sync_clock'\n",
      "HDFWriter registered 'trials'\n",
      "<bmimultitasks.SimpleEndpointAssister object at 0x7ff0dcfdadc0>\n",
      "features.simulation_features: batch size is 100\n",
      "Reset states for learner: \n",
      "[]\n",
      "Done states for learner: \n",
      "[]\n",
      "\n",
      "features.simulation_features.SimFeedbackLearner: flip the self.learn_flag to true\n",
      "features.simulation_features.SimFeedbackLearner: succussfully created a feedback controller learner\n",
      "\n",
      "\n",
      "SimSmoothBatch: created an updater with a batch time of 1 and a half_life of 1.0 \n",
      "\n",
      "HDFWriter registered 'task'\n",
      "..........................finished: 1\n",
      "assist_level at final value after 0 successful trials\n",
      "Warning: Cannot sync more than 1 event per cycle\n",
      "Overwriting [b'EXP_START'] with TARGET_ON event\n"
     ]
    },
    {
     "name": "stderr",
     "output_type": "stream",
     "text": [
      "/home/sijia-aw/BMi3D_my/lab_bmi3d/riglib/bmi/kfdecoder.py:372: FutureWarning: `rcond` parameter will change to the default of machine precision times ``max(M, N)`` where M and N are the input matrix dimensions.\n",
      "To use the future default and silence this warning we advise to pass `rcond=None`, to keep using the old, explicitly pass `rcond=-1`.\n",
      "  C = np.mat(np.linalg.lstsq(X.T, Y.T)[0].T)\n"
     ]
    },
    {
     "name": "stdout",
     "output_type": "stream",
     "text": [
      "decoder changes here at 36600\n",
      "(96, 7)\n",
      "(96, 7)\n",
      "active feature set is [ True  True  True  True  True  True  True  True  True  True  True  True\n",
      "  True  True  True  True  True  True  True  True  True  True  True  True\n",
      "  True  True  True  True  True  True  True  True  True  True  True  True\n",
      "  True  True  True  True  True  True  True  True  True  True  True  True\n",
      "  True  True  True  True  True  True  True  True  True  True  True  True\n",
      "  True  True  True  True  True  True  True  True  True  True  True  True\n",
      "  True  True  True  True  True  True  True  True  True  True  True  True\n",
      "  True  True  True  True  True  True  True  True  True  True  True  True\n",
      " False False False False False False False False False False False False\n",
      " False False False False False False False False False False False  True\n",
      "  True  True  True  True  True  True  True  True]\n",
      "after trans: (105, 7)\n",
      "after trans: (105, 105)\n",
      "decoder change flag to false\n",
      "decoder changes here at 37200\n",
      "(105, 7)\n",
      "(105, 7)\n",
      "active feature set is [ True  True  True  True  True  True  True  True  True  True  True  True\n",
      "  True  True  True  True  True  True  True  True  True  True  True  True\n",
      "  True  True  True  True  True  True  True  True  True  True  True  True\n",
      "  True  True  True  True  True  True  True  True  True  True  True  True\n",
      "  True  True  True  True  True  True  True  True  True  True  True  True\n",
      "  True  True  True  True  True  True  True  True  True  True  True  True\n",
      "  True  True  True  True  True  True  True  True  True  True  True  True\n",
      "  True  True  True  True  True  True  True  True  True  True  True  True\n",
      " False False False False False False False False False False False False\n",
      " False False False False False False False False False False  True  True\n",
      "  True  True  True  True  True  True  True  True]\n",
      "after trans: (106, 7)\n",
      "after trans: (106, 106)\n",
      "decoder change flag to false\n",
      "decoder changes here at 37800\n",
      "(106, 7)\n",
      "(106, 7)\n",
      "active feature set is [ True  True  True  True  True  True  True  True  True  True  True  True\n",
      "  True  True  True  True  True  True  True  True  True  True  True  True\n",
      "  True  True  True  True  True  True  True  True  True  True  True  True\n",
      "  True  True  True  True  True  True  True  True  True  True  True  True\n",
      "  True  True  True  True  True  True  True  True  True  True  True  True\n",
      "  True  True  True  True  True  True  True  True  True  True  True  True\n",
      "  True  True  True  True  True  True  True  True  True  True  True  True\n",
      "  True  True  True  True  True  True  True  True  True  True  True  True\n",
      " False False False False False False False False False False False False\n",
      " False False False False False False False False False  True  True  True\n",
      "  True  True  True  True  True  True  True  True]\n",
      "after trans: (107, 7)\n",
      "after trans: (107, 107)\n",
      "decoder change flag to false\n",
      "decoder changes here at 38400\n",
      "(107, 7)\n",
      "(107, 7)\n",
      "active feature set is [ True  True  True  True  True  True  True  True  True  True  True  True\n",
      "  True  True  True  True  True  True  True  True  True  True  True  True\n",
      "  True  True  True  True  True  True  True  True  True  True  True  True\n",
      "  True  True  True  True  True  True  True  True  True  True  True  True\n",
      "  True  True  True  True  True  True  True  True  True  True  True  True\n",
      "  True  True  True  True  True  True  True  True  True  True  True  True\n",
      "  True  True  True  True  True  True  True  True  True  True  True  True\n",
      "  True  True  True  True  True  True  True  True  True  True  True  True\n",
      " False False False False False False False False False False False False\n",
      " False False False False False False False False  True  True  True  True\n",
      "  True  True  True  True  True  True  True  True]\n",
      "after trans: (108, 7)\n",
      "after trans: (108, 108)\n",
      "decoder change flag to false\n",
      "decoder changes here at 39000\n",
      "(108, 7)\n",
      "(108, 7)\n",
      "active feature set is [ True  True  True  True  True  True  True  True  True  True  True  True\n",
      "  True  True  True  True  True  True  True  True  True  True  True  True\n",
      "  True  True  True  True  True  True  True  True  True  True  True  True\n",
      "  True  True  True  True  True  True  True  True  True  True  True  True\n",
      "  True  True  True  True  True  True  True  True  True  True  True  True\n",
      "  True  True  True  True  True  True  True  True  True  True  True  True\n",
      "  True  True  True  True  True  True  True  True  True  True  True  True\n",
      "  True  True  True  True  True  True  True  True  True  True  True  True\n",
      " False False False False False False False False False False False False\n",
      " False False False False False False False  True  True  True  True  True\n",
      "  True  True  True  True  True  True  True  True]\n",
      "after trans: (109, 7)\n",
      "after trans: (109, 109)\n",
      "decoder change flag to false\n",
      "decoder changes here at 39600\n",
      "(109, 7)\n",
      "(109, 7)\n",
      "active feature set is [ True  True  True  True  True  True  True  True  True  True  True  True\n",
      "  True  True  True  True  True  True  True  True  True  True  True  True\n",
      "  True  True  True  True  True  True  True  True  True  True  True  True\n",
      "  True  True  True  True  True  True  True  True  True  True  True  True\n",
      "  True  True  True  True  True  True  True  True  True  True  True  True\n",
      "  True  True  True  True  True  True  True  True  True  True  True  True\n",
      "  True  True  True  True  True  True  True  True  True  True  True  True\n",
      "  True  True  True  True  True  True  True  True  True  True  True  True\n",
      " False False False False False False False False False False False False\n",
      " False False False False False False  True  True  True  True  True  True\n",
      "  True  True  True  True  True  True  True  True]\n",
      "after trans: (110, 7)\n",
      "after trans: (110, 110)\n",
      "decoder change flag to false\n",
      "decoder changes here at 40200\n",
      "(110, 7)\n",
      "(110, 7)\n",
      "active feature set is [ True  True  True  True  True  True  True  True  True  True  True  True\n",
      "  True  True  True  True  True  True  True  True  True  True  True  True\n",
      "  True  True  True  True  True  True  True  True  True  True  True  True\n",
      "  True  True  True  True  True  True  True  True  True  True  True  True\n",
      "  True  True  True  True  True  True  True  True  True  True  True  True\n",
      "  True  True  True  True  True  True  True  True  True  True  True  True\n",
      "  True  True  True  True  True  True  True  True  True  True  True  True\n",
      "  True  True  True  True  True  True  True  True  True  True  True  True\n",
      " False False False False False False False False False False False False\n",
      " False False False False False  True  True  True  True  True  True  True\n",
      "  True  True  True  True  True  True  True  True]\n",
      "after trans: (111, 7)\n",
      "after trans: (111, 111)\n",
      "decoder change flag to false\n",
      "decoder changes here at 40800\n",
      "(111, 7)\n",
      "(111, 7)\n",
      "active feature set is [ True  True  True  True  True  True  True  True  True  True  True  True\n",
      "  True  True  True  True  True  True  True  True  True  True  True  True\n",
      "  True  True  True  True  True  True  True  True  True  True  True  True\n",
      "  True  True  True  True  True  True  True  True  True  True  True  True\n",
      "  True  True  True  True  True  True  True  True  True  True  True  True\n",
      "  True  True  True  True  True  True  True  True  True  True  True  True\n",
      "  True  True  True  True  True  True  True  True  True  True  True  True\n",
      "  True  True  True  True  True  True  True  True  True  True  True  True\n",
      " False False False False False False False False False False False False\n",
      " False False False False  True  True  True  True  True  True  True  True\n",
      "  True  True  True  True  True  True  True  True]\n",
      "after trans: (112, 7)\n",
      "after trans: (112, 112)\n",
      "decoder change flag to false\n",
      "decoder changes here at 41400\n",
      "(112, 7)\n",
      "(112, 7)\n",
      "active feature set is [ True  True  True  True  True  True  True  True  True  True  True  True\n",
      "  True  True  True  True  True  True  True  True  True  True  True  True\n",
      "  True  True  True  True  True  True  True  True  True  True  True  True\n",
      "  True  True  True  True  True  True  True  True  True  True  True  True\n",
      "  True  True  True  True  True  True  True  True  True  True  True  True\n",
      "  True  True  True  True  True  True  True  True  True  True  True  True\n",
      "  True  True  True  True  True  True  True  True  True  True  True  True\n",
      "  True  True  True  True  True  True  True  True  True  True  True  True\n",
      " False False False False False False False False False False False False\n",
      " False False False  True  True  True  True  True  True  True  True  True\n",
      "  True  True  True  True  True  True  True  True]\n",
      "after trans: (113, 7)\n",
      "after trans: (113, 113)\n",
      "decoder change flag to false\n"
     ]
    },
    {
     "name": "stdout",
     "output_type": "stream",
     "text": [
      "decoder changes here at 42000\n",
      "(113, 7)\n",
      "(113, 7)\n",
      "active feature set is [ True  True  True  True  True  True  True  True  True  True  True  True\n",
      "  True  True  True  True  True  True  True  True  True  True  True  True\n",
      "  True  True  True  True  True  True  True  True  True  True  True  True\n",
      "  True  True  True  True  True  True  True  True  True  True  True  True\n",
      "  True  True  True  True  True  True  True  True  True  True  True  True\n",
      "  True  True  True  True  True  True  True  True  True  True  True  True\n",
      "  True  True  True  True  True  True  True  True  True  True  True  True\n",
      "  True  True  True  True  True  True  True  True  True  True  True  True\n",
      " False False False False False False False False False False False False\n",
      " False False  True  True  True  True  True  True  True  True  True  True\n",
      "  True  True  True  True  True  True  True  True]\n",
      "after trans: (114, 7)\n",
      "after trans: (114, 114)\n",
      "decoder change flag to false\n",
      "decoder changes here at 42600\n",
      "(114, 7)\n",
      "(114, 7)\n",
      "active feature set is [ True  True  True  True  True  True  True  True  True  True  True  True\n",
      "  True  True  True  True  True  True  True  True  True  True  True  True\n",
      "  True  True  True  True  True  True  True  True  True  True  True  True\n",
      "  True  True  True  True  True  True  True  True  True  True  True  True\n",
      "  True  True  True  True  True  True  True  True  True  True  True  True\n",
      "  True  True  True  True  True  True  True  True  True  True  True  True\n",
      "  True  True  True  True  True  True  True  True  True  True  True  True\n",
      "  True  True  True  True  True  True  True  True  True  True  True  True\n",
      " False False False False False False False False False False False False\n",
      " False  True  True  True  True  True  True  True  True  True  True  True\n",
      "  True  True  True  True  True  True  True  True]\n",
      "after trans: (115, 7)\n",
      "after trans: (115, 115)\n",
      "decoder change flag to false\n",
      "decoder changes here at 43200\n",
      "(115, 7)\n",
      "(115, 7)\n",
      "active feature set is [ True  True  True  True  True  True  True  True  True  True  True  True\n",
      "  True  True  True  True  True  True  True  True  True  True  True  True\n",
      "  True  True  True  True  True  True  True  True  True  True  True  True\n",
      "  True  True  True  True  True  True  True  True  True  True  True  True\n",
      "  True  True  True  True  True  True  True  True  True  True  True  True\n",
      "  True  True  True  True  True  True  True  True  True  True  True  True\n",
      "  True  True  True  True  True  True  True  True  True  True  True  True\n",
      "  True  True  True  True  True  True  True  True  True  True  True  True\n",
      " False False False False False False False False False False False False\n",
      "  True  True  True  True  True  True  True  True  True  True  True  True\n",
      "  True  True  True  True  True  True  True  True]\n",
      "after trans: (116, 7)\n",
      "after trans: (116, 116)\n",
      "decoder change flag to false\n",
      "decoder changes here at 43800\n",
      "(116, 7)\n",
      "(116, 7)\n",
      "active feature set is [ True  True  True  True  True  True  True  True  True  True  True  True\n",
      "  True  True  True  True  True  True  True  True  True  True  True  True\n",
      "  True  True  True  True  True  True  True  True  True  True  True  True\n",
      "  True  True  True  True  True  True  True  True  True  True  True  True\n",
      "  True  True  True  True  True  True  True  True  True  True  True  True\n",
      "  True  True  True  True  True  True  True  True  True  True  True  True\n",
      "  True  True  True  True  True  True  True  True  True  True  True  True\n",
      "  True  True  True  True  True  True  True  True  True  True  True  True\n",
      " False False False False False False False False False False False  True\n",
      "  True  True  True  True  True  True  True  True  True  True  True  True\n",
      "  True  True  True  True  True  True  True  True]\n",
      "after trans: (117, 7)\n",
      "after trans: (117, 117)\n",
      "decoder change flag to false\n",
      "decoder changes here at 44400\n",
      "(117, 7)\n",
      "(117, 7)\n",
      "active feature set is [ True  True  True  True  True  True  True  True  True  True  True  True\n",
      "  True  True  True  True  True  True  True  True  True  True  True  True\n",
      "  True  True  True  True  True  True  True  True  True  True  True  True\n",
      "  True  True  True  True  True  True  True  True  True  True  True  True\n",
      "  True  True  True  True  True  True  True  True  True  True  True  True\n",
      "  True  True  True  True  True  True  True  True  True  True  True  True\n",
      "  True  True  True  True  True  True  True  True  True  True  True  True\n",
      "  True  True  True  True  True  True  True  True  True  True  True  True\n",
      " False False False False False False False False False False  True  True\n",
      "  True  True  True  True  True  True  True  True  True  True  True  True\n",
      "  True  True  True  True  True  True  True  True]\n",
      "after trans: (118, 7)\n",
      "after trans: (118, 118)\n",
      "decoder change flag to false\n",
      "decoder changes here at 45000\n",
      "(118, 7)\n",
      "(118, 7)\n",
      "active feature set is [ True  True  True  True  True  True  True  True  True  True  True  True\n",
      "  True  True  True  True  True  True  True  True  True  True  True  True\n",
      "  True  True  True  True  True  True  True  True  True  True  True  True\n",
      "  True  True  True  True  True  True  True  True  True  True  True  True\n",
      "  True  True  True  True  True  True  True  True  True  True  True  True\n",
      "  True  True  True  True  True  True  True  True  True  True  True  True\n",
      "  True  True  True  True  True  True  True  True  True  True  True  True\n",
      "  True  True  True  True  True  True  True  True  True  True  True  True\n",
      " False False False False False False False False False  True  True  True\n",
      "  True  True  True  True  True  True  True  True  True  True  True  True\n",
      "  True  True  True  True  True  True  True  True]\n",
      "after trans: (119, 7)\n",
      "after trans: (119, 119)\n",
      "decoder change flag to false\n",
      "decoder changes here at 45600\n",
      "(119, 7)\n",
      "(119, 7)\n",
      "active feature set is [ True  True  True  True  True  True  True  True  True  True  True  True\n",
      "  True  True  True  True  True  True  True  True  True  True  True  True\n",
      "  True  True  True  True  True  True  True  True  True  True  True  True\n",
      "  True  True  True  True  True  True  True  True  True  True  True  True\n",
      "  True  True  True  True  True  True  True  True  True  True  True  True\n",
      "  True  True  True  True  True  True  True  True  True  True  True  True\n",
      "  True  True  True  True  True  True  True  True  True  True  True  True\n",
      "  True  True  True  True  True  True  True  True  True  True  True  True\n",
      " False False False False False False False False  True  True  True  True\n",
      "  True  True  True  True  True  True  True  True  True  True  True  True\n",
      "  True  True  True  True  True  True  True  True]\n",
      "after trans: (120, 7)\n",
      "after trans: (120, 120)\n",
      "decoder change flag to false\n",
      "decoder changes here at 46200\n",
      "(120, 7)\n",
      "(120, 7)\n",
      "active feature set is [ True  True  True  True  True  True  True  True  True  True  True  True\n",
      "  True  True  True  True  True  True  True  True  True  True  True  True\n",
      "  True  True  True  True  True  True  True  True  True  True  True  True\n",
      "  True  True  True  True  True  True  True  True  True  True  True  True\n",
      "  True  True  True  True  True  True  True  True  True  True  True  True\n",
      "  True  True  True  True  True  True  True  True  True  True  True  True\n",
      "  True  True  True  True  True  True  True  True  True  True  True  True\n",
      "  True  True  True  True  True  True  True  True  True  True  True  True\n",
      " False False False False False False False  True  True  True  True  True\n",
      "  True  True  True  True  True  True  True  True  True  True  True  True\n",
      "  True  True  True  True  True  True  True  True]\n",
      "after trans: (121, 7)\n",
      "after trans: (121, 121)\n",
      "decoder change flag to false\n",
      "decoder changes here at 46800\n",
      "(121, 7)\n",
      "(121, 7)\n",
      "active feature set is [ True  True  True  True  True  True  True  True  True  True  True  True\n",
      "  True  True  True  True  True  True  True  True  True  True  True  True\n",
      "  True  True  True  True  True  True  True  True  True  True  True  True\n",
      "  True  True  True  True  True  True  True  True  True  True  True  True\n",
      "  True  True  True  True  True  True  True  True  True  True  True  True\n",
      "  True  True  True  True  True  True  True  True  True  True  True  True\n",
      "  True  True  True  True  True  True  True  True  True  True  True  True\n",
      "  True  True  True  True  True  True  True  True  True  True  True  True\n",
      " False False False False False False  True  True  True  True  True  True\n",
      "  True  True  True  True  True  True  True  True  True  True  True  True\n",
      "  True  True  True  True  True  True  True  True]\n",
      "after trans: (122, 7)\n",
      "after trans: (122, 122)\n",
      "decoder change flag to false\n"
     ]
    },
    {
     "name": "stdout",
     "output_type": "stream",
     "text": [
      "decoder changes here at 47400\n",
      "(122, 7)\n",
      "(122, 7)\n",
      "active feature set is [ True  True  True  True  True  True  True  True  True  True  True  True\n",
      "  True  True  True  True  True  True  True  True  True  True  True  True\n",
      "  True  True  True  True  True  True  True  True  True  True  True  True\n",
      "  True  True  True  True  True  True  True  True  True  True  True  True\n",
      "  True  True  True  True  True  True  True  True  True  True  True  True\n",
      "  True  True  True  True  True  True  True  True  True  True  True  True\n",
      "  True  True  True  True  True  True  True  True  True  True  True  True\n",
      "  True  True  True  True  True  True  True  True  True  True  True  True\n",
      " False False False False False  True  True  True  True  True  True  True\n",
      "  True  True  True  True  True  True  True  True  True  True  True  True\n",
      "  True  True  True  True  True  True  True  True]\n",
      "after trans: (123, 7)\n",
      "after trans: (123, 123)\n",
      "decoder change flag to false\n",
      "decoder changes here at 48000\n",
      "(123, 7)\n",
      "(123, 7)\n",
      "active feature set is [ True  True  True  True  True  True  True  True  True  True  True  True\n",
      "  True  True  True  True  True  True  True  True  True  True  True  True\n",
      "  True  True  True  True  True  True  True  True  True  True  True  True\n",
      "  True  True  True  True  True  True  True  True  True  True  True  True\n",
      "  True  True  True  True  True  True  True  True  True  True  True  True\n",
      "  True  True  True  True  True  True  True  True  True  True  True  True\n",
      "  True  True  True  True  True  True  True  True  True  True  True  True\n",
      "  True  True  True  True  True  True  True  True  True  True  True  True\n",
      " False False False False  True  True  True  True  True  True  True  True\n",
      "  True  True  True  True  True  True  True  True  True  True  True  True\n",
      "  True  True  True  True  True  True  True  True]\n",
      "after trans: (124, 7)\n",
      "after trans: (124, 124)\n",
      "decoder change flag to false\n",
      "decoder changes here at 48600\n",
      "(124, 7)\n",
      "(124, 7)\n",
      "active feature set is [ True  True  True  True  True  True  True  True  True  True  True  True\n",
      "  True  True  True  True  True  True  True  True  True  True  True  True\n",
      "  True  True  True  True  True  True  True  True  True  True  True  True\n",
      "  True  True  True  True  True  True  True  True  True  True  True  True\n",
      "  True  True  True  True  True  True  True  True  True  True  True  True\n",
      "  True  True  True  True  True  True  True  True  True  True  True  True\n",
      "  True  True  True  True  True  True  True  True  True  True  True  True\n",
      "  True  True  True  True  True  True  True  True  True  True  True  True\n",
      " False False False  True  True  True  True  True  True  True  True  True\n",
      "  True  True  True  True  True  True  True  True  True  True  True  True\n",
      "  True  True  True  True  True  True  True  True]\n",
      "after trans: (125, 7)\n",
      "after trans: (125, 125)\n",
      "decoder change flag to false\n",
      "decoder changes here at 49200\n",
      "(125, 7)\n",
      "(125, 7)\n",
      "active feature set is [ True  True  True  True  True  True  True  True  True  True  True  True\n",
      "  True  True  True  True  True  True  True  True  True  True  True  True\n",
      "  True  True  True  True  True  True  True  True  True  True  True  True\n",
      "  True  True  True  True  True  True  True  True  True  True  True  True\n",
      "  True  True  True  True  True  True  True  True  True  True  True  True\n",
      "  True  True  True  True  True  True  True  True  True  True  True  True\n",
      "  True  True  True  True  True  True  True  True  True  True  True  True\n",
      "  True  True  True  True  True  True  True  True  True  True  True  True\n",
      " False False  True  True  True  True  True  True  True  True  True  True\n",
      "  True  True  True  True  True  True  True  True  True  True  True  True\n",
      "  True  True  True  True  True  True  True  True]\n",
      "after trans: (126, 7)\n",
      "after trans: (126, 126)\n",
      "decoder change flag to false\n",
      "decoder changes here at 49800\n",
      "(126, 7)\n",
      "(126, 7)\n",
      "active feature set is [ True  True  True  True  True  True  True  True  True  True  True  True\n",
      "  True  True  True  True  True  True  True  True  True  True  True  True\n",
      "  True  True  True  True  True  True  True  True  True  True  True  True\n",
      "  True  True  True  True  True  True  True  True  True  True  True  True\n",
      "  True  True  True  True  True  True  True  True  True  True  True  True\n",
      "  True  True  True  True  True  True  True  True  True  True  True  True\n",
      "  True  True  True  True  True  True  True  True  True  True  True  True\n",
      "  True  True  True  True  True  True  True  True  True  True  True  True\n",
      " False  True  True  True  True  True  True  True  True  True  True  True\n",
      "  True  True  True  True  True  True  True  True  True  True  True  True\n",
      "  True  True  True  True  True  True  True  True]\n",
      "after trans: (127, 7)\n",
      "after trans: (127, 127)\n",
      "decoder change flag to false\n",
      "decoder changes here at 50400\n",
      "(127, 7)\n",
      "(127, 7)\n",
      "active feature set is [ True  True  True  True  True  True  True  True  True  True  True  True\n",
      "  True  True  True  True  True  True  True  True  True  True  True  True\n",
      "  True  True  True  True  True  True  True  True  True  True  True  True\n",
      "  True  True  True  True  True  True  True  True  True  True  True  True\n",
      "  True  True  True  True  True  True  True  True  True  True  True  True\n",
      "  True  True  True  True  True  True  True  True  True  True  True  True\n",
      "  True  True  True  True  True  True  True  True  True  True  True  True\n",
      "  True  True  True  True  True  True  True  True  True  True  True  True\n",
      "  True  True  True  True  True  True  True  True  True  True  True  True\n",
      "  True  True  True  True  True  True  True  True  True  True  True  True\n",
      "  True  True  True  True  True  True  True  True]\n",
      "after trans: (128, 7)\n",
      "after trans: (128, 128)\n",
      "decoder change flag to false\n",
      "decoder changes here at 51000\n",
      "(128, 7)\n",
      "(128, 7)\n",
      "active feature set is [ True  True  True  True  True  True  True  True  True  True  True  True\n",
      "  True  True  True  True  True  True  True  True  True  True  True  True\n",
      "  True  True  True  True  True  True  True  True  True  True  True  True\n",
      "  True  True  True  True  True  True  True  True  True  True  True  True\n",
      "  True  True  True  True  True  True  True  True  True  True  True  True\n",
      "  True  True  True  True  True  True  True  True  True  True  True  True\n",
      "  True  True  True  True  True  True  True  True  True  True  True  True\n",
      "  True  True  True  True  True  True  True  True  True  True  True  True\n",
      "  True  True  True  True  True  True  True  True  True  True  True  True\n",
      "  True  True  True  True  True  True  True  True  True  True  True  True\n",
      "  True  True  True  True  True  True  True  True]\n",
      "after trans: (128, 7)\n",
      "after trans: (128, 128)\n",
      "decoder change flag to false\n",
      "decoder changes here at 51600\n",
      "(128, 7)\n",
      "(128, 7)\n",
      "active feature set is [ True  True  True  True  True  True  True  True  True  True  True  True\n",
      "  True  True  True  True  True  True  True  True  True  True  True  True\n",
      "  True  True  True  True  True  True  True  True  True  True  True  True\n",
      "  True  True  True  True  True  True  True  True  True  True  True  True\n",
      "  True  True  True  True  True  True  True  True  True  True  True  True\n",
      "  True  True  True  True  True  True  True  True  True  True  True  True\n",
      "  True  True  True  True  True  True  True  True  True  True  True  True\n",
      "  True  True  True  True  True  True  True  True  True  True  True  True\n",
      "  True  True  True  True  True  True  True  True  True  True  True  True\n",
      "  True  True  True  True  True  True  True  True  True  True  True  True\n",
      "  True  True  True  True  True  True  True  True]\n",
      "after trans: (128, 7)\n",
      "after trans: (128, 128)\n",
      "decoder change flag to false\n",
      "decoder changes here at 52200\n",
      "(128, 7)\n",
      "(128, 7)\n",
      "active feature set is [ True  True  True  True  True  True  True  True  True  True  True  True\n",
      "  True  True  True  True  True  True  True  True  True  True  True  True\n",
      "  True  True  True  True  True  True  True  True  True  True  True  True\n",
      "  True  True  True  True  True  True  True  True  True  True  True  True\n",
      "  True  True  True  True  True  True  True  True  True  True  True  True\n",
      "  True  True  True  True  True  True  True  True  True  True  True  True\n",
      "  True  True  True  True  True  True  True  True  True  True  True  True\n",
      "  True  True  True  True  True  True  True  True  True  True  True  True\n",
      "  True  True  True  True  True  True  True  True  True  True  True  True\n",
      "  True  True  True  True  True  True  True  True  True  True  True  True\n",
      "  True  True  True  True  True  True  True  True]\n",
      "after trans: (128, 7)\n",
      "after trans: (128, 128)\n",
      "decoder change flag to false\n"
     ]
    },
    {
     "name": "stdout",
     "output_type": "stream",
     "text": [
      "decoder changes here at 52800\n",
      "(128, 7)\n",
      "(128, 7)\n",
      "active feature set is [ True  True  True  True  True  True  True  True  True  True  True  True\n",
      "  True  True  True  True  True  True  True  True  True  True  True  True\n",
      "  True  True  True  True  True  True  True  True  True  True  True  True\n",
      "  True  True  True  True  True  True  True  True  True  True  True  True\n",
      "  True  True  True  True  True  True  True  True  True  True  True  True\n",
      "  True  True  True  True  True  True  True  True  True  True  True  True\n",
      "  True  True  True  True  True  True  True  True  True  True  True  True\n",
      "  True  True  True  True  True  True  True  True  True  True  True  True\n",
      "  True  True  True  True  True  True  True  True  True  True  True  True\n",
      "  True  True  True  True  True  True  True  True  True  True  True  True\n",
      "  True  True  True  True  True  True  True  True]\n",
      "after trans: (128, 7)\n",
      "after trans: (128, 128)\n",
      "decoder change flag to false\n",
      "decoder changes here at 53400\n",
      "(128, 7)\n",
      "(128, 7)\n",
      "active feature set is [ True  True  True  True  True  True  True  True  True  True  True  True\n",
      "  True  True  True  True  True  True  True  True  True  True  True  True\n",
      "  True  True  True  True  True  True  True  True  True  True  True  True\n",
      "  True  True  True  True  True  True  True  True  True  True  True  True\n",
      "  True  True  True  True  True  True  True  True  True  True  True  True\n",
      "  True  True  True  True  True  True  True  True  True  True  True  True\n",
      "  True  True  True  True  True  True  True  True  True  True  True  True\n",
      "  True  True  True  True  True  True  True  True  True  True  True  True\n",
      "  True  True  True  True  True  True  True  True  True  True  True  True\n",
      "  True  True  True  True  True  True  True  True  True  True  True  True\n",
      "  True  True  True  True  True  True  True  True]\n",
      "after trans: (128, 7)\n",
      "after trans: (128, 128)\n",
      "decoder change flag to false\n",
      "decoder changes here at 54000\n",
      "(128, 7)\n",
      "(128, 7)\n",
      "active feature set is [ True  True  True  True  True  True  True  True  True  True  True  True\n",
      "  True  True  True  True  True  True  True  True  True  True  True  True\n",
      "  True  True  True  True  True  True  True  True  True  True  True  True\n",
      "  True  True  True  True  True  True  True  True  True  True  True  True\n",
      "  True  True  True  True  True  True  True  True  True  True  True  True\n",
      "  True  True  True  True  True  True  True  True  True  True  True  True\n",
      "  True  True  True  True  True  True  True  True  True  True  True  True\n",
      "  True  True  True  True  True  True  True  True  True  True  True  True\n",
      "  True  True  True  True  True  True  True  True  True  True  True  True\n",
      "  True  True  True  True  True  True  True  True  True  True  True  True\n",
      "  True  True  True  True  True  True  True  True]\n",
      "after trans: (128, 7)\n",
      "after trans: (128, 128)\n",
      "decoder change flag to false\n",
      "decoder changes here at 54600\n",
      "(128, 7)\n",
      "(128, 7)\n",
      "active feature set is [ True  True  True  True  True  True  True  True  True  True  True  True\n",
      "  True  True  True  True  True  True  True  True  True  True  True  True\n",
      "  True  True  True  True  True  True  True  True  True  True  True  True\n",
      "  True  True  True  True  True  True  True  True  True  True  True  True\n",
      "  True  True  True  True  True  True  True  True  True  True  True  True\n",
      "  True  True  True  True  True  True  True  True  True  True  True  True\n",
      "  True  True  True  True  True  True  True  True  True  True  True  True\n",
      "  True  True  True  True  True  True  True  True  True  True  True  True\n",
      "  True  True  True  True  True  True  True  True  True  True  True  True\n",
      "  True  True  True  True  True  True  True  True  True  True  True  True\n",
      "  True  True  True  True  True  True  True  True]\n",
      "after trans: (128, 7)\n",
      "after trans: (128, 128)\n",
      "decoder change flag to false\n",
      "decoder changes here at 55200\n",
      "(128, 7)\n",
      "(128, 7)\n",
      "active feature set is [ True  True  True  True  True  True  True  True  True  True  True  True\n",
      "  True  True  True  True  True  True  True  True  True  True  True  True\n",
      "  True  True  True  True  True  True  True  True  True  True  True  True\n",
      "  True  True  True  True  True  True  True  True  True  True  True  True\n",
      "  True  True  True  True  True  True  True  True  True  True  True  True\n",
      "  True  True  True  True  True  True  True  True  True  True  True  True\n",
      "  True  True  True  True  True  True  True  True  True  True  True  True\n",
      "  True  True  True  True  True  True  True  True  True  True  True  True\n",
      "  True  True  True  True  True  True  True  True  True  True  True  True\n",
      "  True  True  True  True  True  True  True  True  True  True  True  True\n",
      "  True  True  True  True  True  True  True  True]\n",
      "after trans: (128, 7)\n",
      "after trans: (128, 128)\n",
      "decoder change flag to false\n",
      "decoder changes here at 55800\n",
      "(128, 7)\n",
      "(128, 7)\n",
      "active feature set is [ True  True  True  True  True  True  True  True  True  True  True  True\n",
      "  True  True  True  True  True  True  True  True  True  True  True  True\n",
      "  True  True  True  True  True  True  True  True  True  True  True  True\n",
      "  True  True  True  True  True  True  True  True  True  True  True  True\n",
      "  True  True  True  True  True  True  True  True  True  True  True  True\n",
      "  True  True  True  True  True  True  True  True  True  True  True  True\n",
      "  True  True  True  True  True  True  True  True  True  True  True  True\n",
      "  True  True  True  True  True  True  True  True  True  True  True  True\n",
      "  True  True  True  True  True  True  True  True  True  True  True  True\n",
      "  True  True  True  True  True  True  True  True  True  True  True  True\n",
      "  True  True  True  True  True  True  True  True]\n",
      "after trans: (128, 7)\n",
      "after trans: (128, 128)\n",
      "decoder change flag to false\n",
      "decoder changes here at 56400\n",
      "(128, 7)\n",
      "(128, 7)\n",
      "active feature set is [ True  True  True  True  True  True  True  True  True  True  True  True\n",
      "  True  True  True  True  True  True  True  True  True  True  True  True\n",
      "  True  True  True  True  True  True  True  True  True  True  True  True\n",
      "  True  True  True  True  True  True  True  True  True  True  True  True\n",
      "  True  True  True  True  True  True  True  True  True  True  True  True\n",
      "  True  True  True  True  True  True  True  True  True  True  True  True\n",
      "  True  True  True  True  True  True  True  True  True  True  True  True\n",
      "  True  True  True  True  True  True  True  True  True  True  True  True\n",
      "  True  True  True  True  True  True  True  True  True  True  True  True\n",
      "  True  True  True  True  True  True  True  True  True  True  True  True\n",
      "  True  True  True  True  True  True  True  True]\n",
      "after trans: (128, 7)\n",
      "after trans: (128, 128)\n",
      "decoder change flag to false\n",
      "decoder changes here at 57000\n",
      "(128, 7)\n",
      "(128, 7)\n",
      "active feature set is [ True  True  True  True  True  True  True  True  True  True  True  True\n",
      "  True  True  True  True  True  True  True  True  True  True  True  True\n",
      "  True  True  True  True  True  True  True  True  True  True  True  True\n",
      "  True  True  True  True  True  True  True  True  True  True  True  True\n",
      "  True  True  True  True  True  True  True  True  True  True  True  True\n",
      "  True  True  True  True  True  True  True  True  True  True  True  True\n",
      "  True  True  True  True  True  True  True  True  True  True  True  True\n",
      "  True  True  True  True  True  True  True  True  True  True  True  True\n",
      "  True  True  True  True  True  True  True  True  True  True  True  True\n",
      "  True  True  True  True  True  True  True  True  True  True  True  True\n",
      "  True  True  True  True  True  True  True  True]\n",
      "after trans: (128, 7)\n",
      "after trans: (128, 128)\n",
      "decoder change flag to false\n",
      "decoder changes here at 57600\n",
      "(128, 7)\n",
      "(128, 7)\n",
      "active feature set is [ True  True  True  True  True  True  True  True  True  True  True  True\n",
      "  True  True  True  True  True  True  True  True  True  True  True  True\n",
      "  True  True  True  True  True  True  True  True  True  True  True  True\n",
      "  True  True  True  True  True  True  True  True  True  True  True  True\n",
      "  True  True  True  True  True  True  True  True  True  True  True  True\n",
      "  True  True  True  True  True  True  True  True  True  True  True  True\n",
      "  True  True  True  True  True  True  True  True  True  True  True  True\n",
      "  True  True  True  True  True  True  True  True  True  True  True  True\n",
      "  True  True  True  True  True  True  True  True  True  True  True  True\n",
      "  True  True  True  True  True  True  True  True  True  True  True  True\n",
      "  True  True  True  True  True  True  True  True]\n",
      "after trans: (128, 7)\n",
      "after trans: (128, 128)\n",
      "decoder change flag to false\n"
     ]
    },
    {
     "name": "stdout",
     "output_type": "stream",
     "text": [
      "decoder changes here at 58200\n",
      "(128, 7)\n",
      "(128, 7)\n",
      "active feature set is [ True  True  True  True  True  True  True  True  True  True  True  True\n",
      "  True  True  True  True  True  True  True  True  True  True  True  True\n",
      "  True  True  True  True  True  True  True  True  True  True  True  True\n",
      "  True  True  True  True  True  True  True  True  True  True  True  True\n",
      "  True  True  True  True  True  True  True  True  True  True  True  True\n",
      "  True  True  True  True  True  True  True  True  True  True  True  True\n",
      "  True  True  True  True  True  True  True  True  True  True  True  True\n",
      "  True  True  True  True  True  True  True  True  True  True  True  True\n",
      "  True  True  True  True  True  True  True  True  True  True  True  True\n",
      "  True  True  True  True  True  True  True  True  True  True  True  True\n",
      "  True  True  True  True  True  True  True  True]\n",
      "after trans: (128, 7)\n",
      "after trans: (128, 128)\n",
      "decoder change flag to false\n",
      "decoder changes here at 58800\n",
      "(128, 7)\n",
      "(128, 7)\n",
      "active feature set is [ True  True  True  True  True  True  True  True  True  True  True  True\n",
      "  True  True  True  True  True  True  True  True  True  True  True  True\n",
      "  True  True  True  True  True  True  True  True  True  True  True  True\n",
      "  True  True  True  True  True  True  True  True  True  True  True  True\n",
      "  True  True  True  True  True  True  True  True  True  True  True  True\n",
      "  True  True  True  True  True  True  True  True  True  True  True  True\n",
      "  True  True  True  True  True  True  True  True  True  True  True  True\n",
      "  True  True  True  True  True  True  True  True  True  True  True  True\n",
      "  True  True  True  True  True  True  True  True  True  True  True  True\n",
      "  True  True  True  True  True  True  True  True  True  True  True  True\n",
      "  True  True  True  True  True  True  True  True]\n",
      "after trans: (128, 7)\n",
      "after trans: (128, 128)\n",
      "decoder change flag to false\n",
      "decoder changes here at 59400\n",
      "(128, 7)\n",
      "(128, 7)\n",
      "active feature set is [ True  True  True  True  True  True  True  True  True  True  True  True\n",
      "  True  True  True  True  True  True  True  True  True  True  True  True\n",
      "  True  True  True  True  True  True  True  True  True  True  True  True\n",
      "  True  True  True  True  True  True  True  True  True  True  True  True\n",
      "  True  True  True  True  True  True  True  True  True  True  True  True\n",
      "  True  True  True  True  True  True  True  True  True  True  True  True\n",
      "  True  True  True  True  True  True  True  True  True  True  True  True\n",
      "  True  True  True  True  True  True  True  True  True  True  True  True\n",
      "  True  True  True  True  True  True  True  True  True  True  True  True\n",
      "  True  True  True  True  True  True  True  True  True  True  True  True\n",
      "  True  True  True  True  True  True  True  True]\n",
      "after trans: (128, 7)\n",
      "after trans: (128, 128)\n",
      "decoder change flag to false\n",
      "decoder changes here at 60000\n",
      "(128, 7)\n",
      "(128, 7)\n",
      "active feature set is [ True  True  True  True  True  True  True  True  True  True  True  True\n",
      "  True  True  True  True  True  True  True  True  True  True  True  True\n",
      "  True  True  True  True  True  True  True  True  True  True  True  True\n",
      "  True  True  True  True  True  True  True  True  True  True  True  True\n",
      "  True  True  True  True  True  True  True  True  True  True  True  True\n",
      "  True  True  True  True  True  True  True  True  True  True  True  True\n",
      "  True  True  True  True  True  True  True  True  True  True  True  True\n",
      "  True  True  True  True  True  True  True  True  True  True  True  True\n",
      "  True  True  True  True  True  True  True  True  True  True  True  True\n",
      "  True  True  True  True  True  True  True  True  True  True  True  True\n",
      "  True  True  True  True  True  True  True  True]\n",
      "after trans: (128, 7)\n",
      "after trans: (128, 128)\n",
      "decoder change flag to false\n",
      "decoder changes here at 60600\n",
      "(128, 7)\n",
      "(128, 7)\n",
      "active feature set is [ True  True  True  True  True  True  True  True  True  True  True  True\n",
      "  True  True  True  True  True  True  True  True  True  True  True  True\n",
      "  True  True  True  True  True  True  True  True  True  True  True  True\n",
      "  True  True  True  True  True  True  True  True  True  True  True  True\n",
      "  True  True  True  True  True  True  True  True  True  True  True  True\n",
      "  True  True  True  True  True  True  True  True  True  True  True  True\n",
      "  True  True  True  True  True  True  True  True  True  True  True  True\n",
      "  True  True  True  True  True  True  True  True  True  True  True  True\n",
      "  True  True  True  True  True  True  True  True  True  True  True  True\n",
      "  True  True  True  True  True  True  True  True  True  True  True  True\n",
      "  True  True  True  True  True  True  True  True]\n",
      "after trans: (128, 7)\n",
      "after trans: (128, 128)\n",
      "decoder change flag to false\n",
      "decoder changes here at 61200\n",
      "(128, 7)\n",
      "(128, 7)\n",
      "active feature set is [ True  True  True  True  True  True  True  True  True  True  True  True\n",
      "  True  True  True  True  True  True  True  True  True  True  True  True\n",
      "  True  True  True  True  True  True  True  True  True  True  True  True\n",
      "  True  True  True  True  True  True  True  True  True  True  True  True\n",
      "  True  True  True  True  True  True  True  True  True  True  True  True\n",
      "  True  True  True  True  True  True  True  True  True  True  True  True\n",
      "  True  True  True  True  True  True  True  True  True  True  True  True\n",
      "  True  True  True  True  True  True  True  True  True  True  True  True\n",
      "  True  True  True  True  True  True  True  True  True  True  True  True\n",
      "  True  True  True  True  True  True  True  True  True  True  True  True\n",
      "  True  True  True  True  True  True  True  True]\n",
      "after trans: (128, 7)\n",
      "after trans: (128, 128)\n",
      "decoder change flag to false\n",
      "decoder changes here at 61800\n",
      "(128, 7)\n",
      "(128, 7)\n",
      "active feature set is [ True  True  True  True  True  True  True  True  True  True  True  True\n",
      "  True  True  True  True  True  True  True  True  True  True  True  True\n",
      "  True  True  True  True  True  True  True  True  True  True  True  True\n",
      "  True  True  True  True  True  True  True  True  True  True  True  True\n",
      "  True  True  True  True  True  True  True  True  True  True  True  True\n",
      "  True  True  True  True  True  True  True  True  True  True  True  True\n",
      "  True  True  True  True  True  True  True  True  True  True  True  True\n",
      "  True  True  True  True  True  True  True  True  True  True  True  True\n",
      "  True  True  True  True  True  True  True  True  True  True  True  True\n",
      "  True  True  True  True  True  True  True  True  True  True  True  True\n",
      "  True  True  True  True  True  True  True  True]\n",
      "after trans: (128, 7)\n",
      "after trans: (128, 128)\n",
      "decoder change flag to false\n",
      "decoder changes here at 62400\n",
      "(128, 7)\n",
      "(128, 7)\n",
      "active feature set is [ True  True  True  True  True  True  True  True  True  True  True  True\n",
      "  True  True  True  True  True  True  True  True  True  True  True  True\n",
      "  True  True  True  True  True  True  True  True  True  True  True  True\n",
      "  True  True  True  True  True  True  True  True  True  True  True  True\n",
      "  True  True  True  True  True  True  True  True  True  True  True  True\n",
      "  True  True  True  True  True  True  True  True  True  True  True  True\n",
      "  True  True  True  True  True  True  True  True  True  True  True  True\n",
      "  True  True  True  True  True  True  True  True  True  True  True  True\n",
      "  True  True  True  True  True  True  True  True  True  True  True  True\n",
      "  True  True  True  True  True  True  True  True  True  True  True  True\n",
      "  True  True  True  True  True  True  True  True]\n",
      "after trans: (128, 7)\n",
      "after trans: (128, 128)\n",
      "decoder change flag to false\n",
      "decoder changes here at 63000\n",
      "(128, 7)\n",
      "(128, 7)\n",
      "active feature set is [ True  True  True  True  True  True  True  True  True  True  True  True\n",
      "  True  True  True  True  True  True  True  True  True  True  True  True\n",
      "  True  True  True  True  True  True  True  True  True  True  True  True\n",
      "  True  True  True  True  True  True  True  True  True  True  True  True\n",
      "  True  True  True  True  True  True  True  True  True  True  True  True\n",
      "  True  True  True  True  True  True  True  True  True  True  True  True\n",
      "  True  True  True  True  True  True  True  True  True  True  True  True\n",
      "  True  True  True  True  True  True  True  True  True  True  True  True\n",
      "  True  True  True  True  True  True  True  True  True  True  True  True\n",
      "  True  True  True  True  True  True  True  True  True  True  True  True\n",
      "  True  True  True  True  True  True  True  True]\n",
      "after trans: (128, 7)\n",
      "after trans: (128, 128)\n",
      "decoder change flag to false\n"
     ]
    },
    {
     "name": "stdout",
     "output_type": "stream",
     "text": [
      "decoder changes here at 63600\n",
      "(128, 7)\n",
      "(128, 7)\n",
      "active feature set is [ True  True  True  True  True  True  True  True  True  True  True  True\n",
      "  True  True  True  True  True  True  True  True  True  True  True  True\n",
      "  True  True  True  True  True  True  True  True  True  True  True  True\n",
      "  True  True  True  True  True  True  True  True  True  True  True  True\n",
      "  True  True  True  True  True  True  True  True  True  True  True  True\n",
      "  True  True  True  True  True  True  True  True  True  True  True  True\n",
      "  True  True  True  True  True  True  True  True  True  True  True  True\n",
      "  True  True  True  True  True  True  True  True  True  True  True  True\n",
      "  True  True  True  True  True  True  True  True  True  True  True  True\n",
      "  True  True  True  True  True  True  True  True  True  True  True  True\n",
      "  True  True  True  True  True  True  True  True]\n",
      "after trans: (128, 7)\n",
      "after trans: (128, 128)\n",
      "decoder change flag to false\n",
      "decoder changes here at 64200\n",
      "(128, 7)\n",
      "(128, 7)\n",
      "active feature set is [ True  True  True  True  True  True  True  True  True  True  True  True\n",
      "  True  True  True  True  True  True  True  True  True  True  True  True\n",
      "  True  True  True  True  True  True  True  True  True  True  True  True\n",
      "  True  True  True  True  True  True  True  True  True  True  True  True\n",
      "  True  True  True  True  True  True  True  True  True  True  True  True\n",
      "  True  True  True  True  True  True  True  True  True  True  True  True\n",
      "  True  True  True  True  True  True  True  True  True  True  True  True\n",
      "  True  True  True  True  True  True  True  True  True  True  True  True\n",
      "  True  True  True  True  True  True  True  True  True  True  True  True\n",
      "  True  True  True  True  True  True  True  True  True  True  True  True\n",
      "  True  True  True  True  True  True  True  True]\n",
      "after trans: (128, 7)\n",
      "after trans: (128, 128)\n",
      "decoder change flag to false\n",
      "decoder changes here at 64800\n",
      "(128, 7)\n",
      "(128, 7)\n",
      "active feature set is [ True  True  True  True  True  True  True  True  True  True  True  True\n",
      "  True  True  True  True  True  True  True  True  True  True  True  True\n",
      "  True  True  True  True  True  True  True  True  True  True  True  True\n",
      "  True  True  True  True  True  True  True  True  True  True  True  True\n",
      "  True  True  True  True  True  True  True  True  True  True  True  True\n",
      "  True  True  True  True  True  True  True  True  True  True  True  True\n",
      "  True  True  True  True  True  True  True  True  True  True  True  True\n",
      "  True  True  True  True  True  True  True  True  True  True  True  True\n",
      "  True  True  True  True  True  True  True  True  True  True  True  True\n",
      "  True  True  True  True  True  True  True  True  True  True  True  True\n",
      "  True  True  True  True  True  True  True  True]\n",
      "after trans: (128, 7)\n",
      "after trans: (128, 128)\n",
      "decoder change flag to false\n",
      "decoder changes here at 65400\n",
      "(128, 7)\n",
      "(128, 7)\n",
      "active feature set is [ True  True  True  True  True  True  True  True  True  True  True  True\n",
      "  True  True  True  True  True  True  True  True  True  True  True  True\n",
      "  True  True  True  True  True  True  True  True  True  True  True  True\n",
      "  True  True  True  True  True  True  True  True  True  True  True  True\n",
      "  True  True  True  True  True  True  True  True  True  True  True  True\n",
      "  True  True  True  True  True  True  True  True  True  True  True  True\n",
      "  True  True  True  True  True  True  True  True  True  True  True  True\n",
      "  True  True  True  True  True  True  True  True  True  True  True  True\n",
      "  True  True  True  True  True  True  True  True  True  True  True  True\n",
      "  True  True  True  True  True  True  True  True  True  True  True  True\n",
      "  True  True  True  True  True  True  True  True]\n",
      "after trans: (128, 7)\n",
      "after trans: (128, 128)\n",
      "decoder change flag to false\n",
      "decoder changes here at 66000\n",
      "(128, 7)\n",
      "(128, 7)\n",
      "active feature set is [ True  True  True  True  True  True  True  True  True  True  True  True\n",
      "  True  True  True  True  True  True  True  True  True  True  True  True\n",
      "  True  True  True  True  True  True  True  True  True  True  True  True\n",
      "  True  True  True  True  True  True  True  True  True  True  True  True\n",
      "  True  True  True  True  True  True  True  True  True  True  True  True\n",
      "  True  True  True  True  True  True  True  True  True  True  True  True\n",
      "  True  True  True  True  True  True  True  True  True  True  True  True\n",
      "  True  True  True  True  True  True  True  True  True  True  True  True\n",
      "  True  True  True  True  True  True  True  True  True  True  True  True\n",
      "  True  True  True  True  True  True  True  True  True  True  True  True\n",
      "  True  True  True  True  True  True  True  True]\n",
      "after trans: (128, 7)\n",
      "after trans: (128, 128)\n",
      "decoder change flag to false\n",
      "decoder changes here at 66600\n",
      "(128, 7)\n",
      "(128, 7)\n",
      "active feature set is [ True  True  True  True  True  True  True  True  True  True  True  True\n",
      "  True  True  True  True  True  True  True  True  True  True  True  True\n",
      "  True  True  True  True  True  True  True  True  True  True  True  True\n",
      "  True  True  True  True  True  True  True  True  True  True  True  True\n",
      "  True  True  True  True  True  True  True  True  True  True  True  True\n",
      "  True  True  True  True  True  True  True  True  True  True  True  True\n",
      "  True  True  True  True  True  True  True  True  True  True  True  True\n",
      "  True  True  True  True  True  True  True  True  True  True  True  True\n",
      "  True  True  True  True  True  True  True  True  True  True  True  True\n",
      "  True  True  True  True  True  True  True  True  True  True  True  True\n",
      "  True  True  True  True  True  True  True  True]\n",
      "after trans: (128, 7)\n",
      "after trans: (128, 128)\n",
      "decoder change flag to false\n",
      "decoder changes here at 67200\n",
      "(128, 7)\n",
      "(128, 7)\n",
      "active feature set is [ True  True  True  True  True  True  True  True  True  True  True  True\n",
      "  True  True  True  True  True  True  True  True  True  True  True  True\n",
      "  True  True  True  True  True  True  True  True  True  True  True  True\n",
      "  True  True  True  True  True  True  True  True  True  True  True  True\n",
      "  True  True  True  True  True  True  True  True  True  True  True  True\n",
      "  True  True  True  True  True  True  True  True  True  True  True  True\n",
      "  True  True  True  True  True  True  True  True  True  True  True  True\n",
      "  True  True  True  True  True  True  True  True  True  True  True  True\n",
      "  True  True  True  True  True  True  True  True  True  True  True  True\n",
      "  True  True  True  True  True  True  True  True  True  True  True  True\n",
      "  True  True  True  True  True  True  True  True]\n",
      "after trans: (128, 7)\n",
      "after trans: (128, 128)\n",
      "decoder change flag to false\n",
      "decoder changes here at 67800\n",
      "(128, 7)\n",
      "(128, 7)\n",
      "active feature set is [ True  True  True  True  True  True  True  True  True  True  True  True\n",
      "  True  True  True  True  True  True  True  True  True  True  True  True\n",
      "  True  True  True  True  True  True  True  True  True  True  True  True\n",
      "  True  True  True  True  True  True  True  True  True  True  True  True\n",
      "  True  True  True  True  True  True  True  True  True  True  True  True\n",
      "  True  True  True  True  True  True  True  True  True  True  True  True\n",
      "  True  True  True  True  True  True  True  True  True  True  True  True\n",
      "  True  True  True  True  True  True  True  True  True  True  True  True\n",
      "  True  True  True  True  True  True  True  True  True  True  True  True\n",
      "  True  True  True  True  True  True  True  True  True  True  True  True\n",
      "  True  True  True  True  True  True  True  True]\n",
      "after trans: (128, 7)\n",
      "after trans: (128, 128)\n",
      "decoder change flag to false\n",
      "decoder changes here at 68400\n",
      "(128, 7)\n",
      "(128, 7)\n",
      "active feature set is [ True  True  True  True  True  True  True  True  True  True  True  True\n",
      "  True  True  True  True  True  True  True  True  True  True  True  True\n",
      "  True  True  True  True  True  True  True  True  True  True  True  True\n",
      "  True  True  True  True  True  True  True  True  True  True  True  True\n",
      "  True  True  True  True  True  True  True  True  True  True  True  True\n",
      "  True  True  True  True  True  True  True  True  True  True  True  True\n",
      "  True  True  True  True  True  True  True  True  True  True  True  True\n",
      "  True  True  True  True  True  True  True  True  True  True  True  True\n",
      "  True  True  True  True  True  True  True  True  True  True  True  True\n",
      "  True  True  True  True  True  True  True  True  True  True  True  True\n",
      "  True  True  True  True  True  True  True  True]\n",
      "after trans: (128, 7)\n",
      "after trans: (128, 128)\n",
      "decoder change flag to false\n"
     ]
    },
    {
     "name": "stdout",
     "output_type": "stream",
     "text": [
      "decoder changes here at 69000\n",
      "(128, 7)\n",
      "(128, 7)\n",
      "active feature set is [ True  True  True  True  True  True  True  True  True  True  True  True\n",
      "  True  True  True  True  True  True  True  True  True  True  True  True\n",
      "  True  True  True  True  True  True  True  True  True  True  True  True\n",
      "  True  True  True  True  True  True  True  True  True  True  True  True\n",
      "  True  True  True  True  True  True  True  True  True  True  True  True\n",
      "  True  True  True  True  True  True  True  True  True  True  True  True\n",
      "  True  True  True  True  True  True  True  True  True  True  True  True\n",
      "  True  True  True  True  True  True  True  True  True  True  True  True\n",
      "  True  True  True  True  True  True  True  True  True  True  True  True\n",
      "  True  True  True  True  True  True  True  True  True  True  True  True\n",
      "  True  True  True  True  True  True  True  True]\n",
      "after trans: (128, 7)\n",
      "after trans: (128, 128)\n",
      "decoder change flag to false\n",
      "decoder changes here at 69600\n",
      "(128, 7)\n",
      "(128, 7)\n",
      "active feature set is [ True  True  True  True  True  True  True  True  True  True  True  True\n",
      "  True  True  True  True  True  True  True  True  True  True  True  True\n",
      "  True  True  True  True  True  True  True  True  True  True  True  True\n",
      "  True  True  True  True  True  True  True  True  True  True  True  True\n",
      "  True  True  True  True  True  True  True  True  True  True  True  True\n",
      "  True  True  True  True  True  True  True  True  True  True  True  True\n",
      "  True  True  True  True  True  True  True  True  True  True  True  True\n",
      "  True  True  True  True  True  True  True  True  True  True  True  True\n",
      "  True  True  True  True  True  True  True  True  True  True  True  True\n",
      "  True  True  True  True  True  True  True  True  True  True  True  True\n",
      "  True  True  True  True  True  True  True  True]\n",
      "after trans: (128, 7)\n",
      "after trans: (128, 128)\n",
      "decoder change flag to false\n",
      "decoder changes here at 70200\n",
      "(128, 7)\n",
      "(128, 7)\n",
      "active feature set is [ True  True  True  True  True  True  True  True  True  True  True  True\n",
      "  True  True  True  True  True  True  True  True  True  True  True  True\n",
      "  True  True  True  True  True  True  True  True  True  True  True  True\n",
      "  True  True  True  True  True  True  True  True  True  True  True  True\n",
      "  True  True  True  True  True  True  True  True  True  True  True  True\n",
      "  True  True  True  True  True  True  True  True  True  True  True  True\n",
      "  True  True  True  True  True  True  True  True  True  True  True  True\n",
      "  True  True  True  True  True  True  True  True  True  True  True  True\n",
      "  True  True  True  True  True  True  True  True  True  True  True  True\n",
      "  True  True  True  True  True  True  True  True  True  True  True  True\n",
      "  True  True  True  True  True  True  True  True]\n",
      "after trans: (128, 7)\n",
      "after trans: (128, 128)\n",
      "decoder change flag to false\n",
      "decoder changes here at 70800\n",
      "(128, 7)\n",
      "(128, 7)\n",
      "active feature set is [ True  True  True  True  True  True  True  True  True  True  True  True\n",
      "  True  True  True  True  True  True  True  True  True  True  True  True\n",
      "  True  True  True  True  True  True  True  True  True  True  True  True\n",
      "  True  True  True  True  True  True  True  True  True  True  True  True\n",
      "  True  True  True  True  True  True  True  True  True  True  True  True\n",
      "  True  True  True  True  True  True  True  True  True  True  True  True\n",
      "  True  True  True  True  True  True  True  True  True  True  True  True\n",
      "  True  True  True  True  True  True  True  True  True  True  True  True\n",
      "  True  True  True  True  True  True  True  True  True  True  True  True\n",
      "  True  True  True  True  True  True  True  True  True  True  True  True\n",
      "  True  True  True  True  True  True  True  True]\n",
      "after trans: (128, 7)\n",
      "after trans: (128, 128)\n",
      "decoder change flag to false\n",
      "decoder changes here at 71400\n",
      "(128, 7)\n",
      "(128, 7)\n",
      "active feature set is [ True  True  True  True  True  True  True  True  True  True  True  True\n",
      "  True  True  True  True  True  True  True  True  True  True  True  True\n",
      "  True  True  True  True  True  True  True  True  True  True  True  True\n",
      "  True  True  True  True  True  True  True  True  True  True  True  True\n",
      "  True  True  True  True  True  True  True  True  True  True  True  True\n",
      "  True  True  True  True  True  True  True  True  True  True  True  True\n",
      "  True  True  True  True  True  True  True  True  True  True  True  True\n",
      "  True  True  True  True  True  True  True  True  True  True  True  True\n",
      "  True  True  True  True  True  True  True  True  True  True  True  True\n",
      "  True  True  True  True  True  True  True  True  True  True  True  True\n",
      "  True  True  True  True  True  True  True  True]\n",
      "after trans: (128, 7)\n",
      "after trans: (128, 128)\n",
      "decoder change flag to false\n",
      "decoder changes here at 72000\n",
      "(128, 7)\n",
      "(128, 7)\n",
      "active feature set is [ True  True  True  True  True  True  True  True  True  True  True  True\n",
      "  True  True  True  True  True  True  True  True  True  True  True  True\n",
      "  True  True  True  True  True  True  True  True  True  True  True  True\n",
      "  True  True  True  True  True  True  True  True  True  True  True  True\n",
      "  True  True  True  True  True  True  True  True  True  True  True  True\n",
      "  True  True  True  True  True  True  True  True  True  True  True  True\n",
      "  True  True  True  True  True  True  True  True  True  True  True  True\n",
      "  True  True  True  True  True  True  True  True  True  True  True  True\n",
      "  True  True  True  True  True  True  True  True  True  True  True  True\n",
      "  True  True  True  True  True  True  True  True  True  True  True  True\n",
      "  True  True  True  True  True  True  True  True]\n",
      "after trans: (128, 7)\n",
      "after trans: (128, 128)\n",
      "decoder change flag to false\n",
      "finish  at cycle_count: 72000\n",
      "..........................Closed hdf\n",
      "ended datasink\n",
      "0\n",
      "exit\n",
      "end of FSM.run, task state is None\n",
      "wait for 10s for hdf file to save\n",
      "saving file name to /tmp/tmp4g0b39cq.h5\n",
      "riglib.bmi.bmi: clda table names\n",
      "['kf.C', 'kf.Q', 'kf.C_xpose_Q_inv_C', 'kf.C_xpose_Q_inv', 'mFR', 'sdFR', 'rho', 'intended_kin', 'spike_counts_batch']\n",
      "Finished running  iter_0.7\n",
      "\n",
      "\n",
      " using encoder with additional noises  State space: ['hand_px', 'hand_py', 'hand_pz', 'hand_vx', 'hand_vy', 'hand_vz', 'offset'] \n",
      "\n",
      "<bound method GenericCosEncWithNoise._gen_fixed_gaussian_noise of <riglib.bmi.sim_neurons.GenericCosEncWithNoise object at 0x7ff0daaf44c0>>\n",
      "neural encoder init function  <SimpleTargetCaptureWithHold(Thread-6, initial)>\n",
      "features.simulation_features: added tracking of K matrix\n",
      "sinkmanager start <class 'hdfwriter.hdfwriter.HDFWriter'>\n",
      "HDFWriter: Saving datafile to /tmp/tmphx__ks7y.h5\n",
      "HDFWriter: opening file\n",
      "HDFWriter registered 'sync_events'\n",
      "HDFWriter registered 'sync_clock'\n",
      "HDFWriter registered 'trials'\n",
      "HDFWriter registered 'task'\n",
      "<bmimultitasks.SimpleEndpointAssister object at 0x7ff0dcf1f3d0>\n",
      "features.simulation_features: batch size is 100\n",
      "Reset states for learner: \n",
      "[]\n",
      "Done states for learner: \n",
      "[]\n",
      "\n",
      "features.simulation_features.SimFeedbackLearner: flip the self.learn_flag to true\n",
      "features.simulation_features.SimFeedbackLearner: succussfully created a feedback controller learner\n",
      "\n",
      "\n",
      "SimSmoothBatch: created an updater with a batch time of 1 and a half_life of 1.0 \n",
      "\n",
      "..........................finished: 1\n",
      "assist_level at final value after 0 successful trials\n",
      "Warning: Cannot sync more than 1 event per cycle\n",
      "Overwriting [b'EXP_START'] with TARGET_ON event\n",
      "finish  at cycle_count: 72000\n",
      "..........................Closed hdf\n",
      "ended datasink\n",
      "0\n",
      "exit\n",
      "end of FSM.run, task state is None\n",
      "wait for 10s for hdf file to save\n",
      "saving file name to /tmp/tmphx__ks7y.h5\n",
      "riglib.bmi.bmi: clda table names\n",
      "['kf.C', 'kf.Q', 'kf.C_xpose_Q_inv_C', 'kf.C_xpose_Q_inv', 'mFR', 'sdFR', 'rho', 'intended_kin', 'spike_counts_batch']\n",
      "Finished running  same_0.7\n",
      "\n"
     ]
    }
   ],
   "source": [
    "from feature_selection_feature import run_exp_loop\n",
    "\n",
    "WAIT_FOR_HDF_FILE_TO_STOP = 10\n",
    "\n",
    "for i,e in enumerate(exps):\n",
    "    np.random.seed(10)\n",
    "    \n",
    "    e.init()\n",
    "    \n",
    "    \n",
    "\n",
    "    # save the decoder if it is the first one. \n",
    "    if i == 0:\n",
    "        (target_C, target_Q) = get_KF_C_Q_from_decoder(e.decoder)\n",
    "        \n",
    "        weights.change_target_kalman_filter_with_a_C_mat(e.decoder.filt, target_C, \n",
    "                                                 Q= target_Q, debug=False)\n",
    "    \n",
    "    else:  # otherwise, just replace it.  \n",
    "            weights.change_target_kalman_filter_with_a_C_mat(e.decoder.filt, target_C, \n",
    "                                                     Q= target_Q, debug=False)\n",
    "            \n",
    "    e.select_decoder_features(e.decoder)\n",
    "    e.record_feature_active_set(e.decoder)\n",
    "    \n",
    "    #################################################################\n",
    "    # actual experiment begins\n",
    "    run_exp_loop(e, **kwargs_exps[i])\n",
    "    \n",
    "    e.hdf.stop()\n",
    "    print(f'wait for {WAIT_FOR_HDF_FILE_TO_STOP}s for hdf file to save')\n",
    "    time.sleep(WAIT_FOR_HDF_FILE_TO_STOP)\n",
    "    \n",
    "    \n",
    "    e.save_feature_params()\n",
    "    \n",
    "    time.sleep(WAIT_FOR_HDF_FILE_TO_STOP)\n",
    "    \n",
    "    e.cleanup_hdf()\n",
    "   \n",
    "\n",
    "    e.sinks.reset()\n",
    "    \n",
    "    print(f'Finished running  {exp_conds[i]}')\n",
    "    \n",
    "    print()\n",
    "    \n",
    "\n"
   ]
  },
  {
   "cell_type": "code",
   "execution_count": 23,
   "metadata": {
    "ExecuteTime": {
     "end_time": "2021-10-08T23:03:50.796589Z",
     "start_time": "2021-10-08T23:03:50.618161Z"
    }
   },
   "outputs": [
    {
     "name": "stdout",
     "output_type": "stream",
     "text": [
      "cp /tmp/tmp3s32ww8z.h5 /home/sijia-aw/BMi3D_my/operation_funny_chicken/sim_data/neurons_128/wo_FS_0.7.h5\n",
      "cp /tmp/tmp4g0b39cq.h5 /home/sijia-aw/BMi3D_my/operation_funny_chicken/sim_data/neurons_128/iter_0.7.h5\n",
      "cp /tmp/tmphx__ks7y.h5 /home/sijia-aw/BMi3D_my/operation_funny_chicken/sim_data/neurons_128/same_0.7.h5\n"
     ]
    }
   ],
   "source": [
    "import shutil\n",
    "\n",
    "import os\n",
    "import subprocess\n",
    "\n",
    "for i,e in enumerate(exps): \n",
    "\n",
    "\n",
    "    import subprocess\n",
    "    old = e.h5file.name\n",
    "    new = data_dump_folder + exp_conds[i] +'.h5'\n",
    "    process = \"cp {} {}\".format(old,new)\n",
    "    \n",
    "    print(process)\n",
    "    subprocess.run(process, shell=True) # do not remember, assign shell value to True.\n",
    "\n"
   ]
  },
  {
   "cell_type": "markdown",
   "metadata": {
    "ExecuteTime": {
     "end_time": "2021-01-25T01:00:26.027506Z",
     "start_time": "2021-01-25T01:00:26.024320Z"
    }
   },
   "source": [
    "# Postprocessing the data for loading"
   ]
  },
  {
   "cell_type": "code",
   "execution_count": 24,
   "metadata": {
    "ExecuteTime": {
     "end_time": "2021-10-08T23:03:50.799751Z",
     "start_time": "2021-10-08T23:03:50.797517Z"
    }
   },
   "outputs": [
    {
     "name": "stdout",
     "output_type": "stream",
     "text": [
      "/tmp/tmp3s32ww8z.h5\n",
      "/tmp/tmp4g0b39cq.h5\n",
      "/tmp/tmphx__ks7y.h5\n"
     ]
    }
   ],
   "source": [
    "for e in exps: print(f'{e.h5file.name}')\n"
   ]
  },
  {
   "cell_type": "code",
   "execution_count": 25,
   "metadata": {
    "ExecuteTime": {
     "end_time": "2021-10-08T23:03:52.937163Z",
     "start_time": "2021-10-08T23:03:50.800530Z"
    }
   },
   "outputs": [
    {
     "name": "stdout",
     "output_type": "stream",
     "text": [
      "/home/sijia-aw/BMi3D_my/operation_funny_chicken/sim_data/neurons_128/wo_FS_0.7.h5 (File) ''\n",
      "Last modif.: 'Fri Oct  8 16:03:50 2021'\n",
      "Object Tree: \n",
      "/ (RootGroup) ''\n",
      "/clda (Table(120,), shuffle, zlib(5)) ''\n",
      "/sync_clock (Table(72000,), shuffle, zlib(5)) ''\n",
      "/sync_events (Table(1736,), shuffle, zlib(5)) ''\n",
      "/task (Table(72000,), shuffle, zlib(5)) ''\n",
      "/task_msgs (Table(1735,), shuffle, zlib(5)) ''\n",
      "/trials (Table(584,), shuffle, zlib(5)) ''\n",
      "/feature_selection (Group) ''\n",
      "/feature_selection/C_mat (Array(121, 128, 7)) ''\n",
      "/feature_selection/K_mat (Array(121, 7, 128)) ''\n",
      "/feature_selection/Q_diag (Array(121, 128)) ''\n",
      "/feature_selection/assist_level (Array(2,)) ''\n",
      "/feature_selection/batch_size (Array()) ''\n",
      "/feature_selection/batch_time (Array()) ''\n",
      "/feature_selection/feat_set (Array(122, 128)) ''\n",
      "/feature_selection/fixed_noise_level (Array()) ''\n",
      "/feature_selection/half_life (Array()) ''\n",
      "/feature_selection/n_starting_feats (Array()) ''\n",
      "/feature_selection/n_states (Array()) ''\n",
      "/feature_selection/no_noise_neuron_ind (Array(96,)) ''\n",
      "/feature_selection/noise_mode (UnImplemented()) ''\n",
      "/feature_selection/noise_neuron_ind (Array(32,)) ''\n",
      "/feature_selection/percent_noise (Array(128, 1)) ''\n",
      "/feature_selection/sim_C (Array(128, 7)) ''\n",
      "/feature_selection/total_exp_time (Array()) ''\n",
      "/feature_selection/transform_x_flag (Array()) ''\n",
      "/feature_selection/transform_y_flag (Array()) ''\n",
      "\n"
     ]
    },
    {
     "name": "stderr",
     "output_type": "stream",
     "text": [
      "/home/sijia-aw/BMi3D_my/lib/python3.8/site-packages/tables/group.py:1201: UserWarning: problems loading leaf ``/feature_selection/noise_mode``::\n",
      "\n",
      "  variable length strings are not supported yet\n",
      "\n",
      "The leaf will become an ``UnImplemented`` node.\n",
      "  warnings.warn(\n"
     ]
    },
    {
     "name": "stdout",
     "output_type": "stream",
     "text": [
      "/home/sijia-aw/BMi3D_my/operation_funny_chicken/sim_data/neurons_128/iter_0.7.h5 (File) ''\n",
      "Last modif.: 'Fri Oct  8 16:03:51 2021'\n",
      "Object Tree: \n",
      "/ (RootGroup) ''\n",
      "/clda (Table(61,), shuffle, zlib(5)) ''\n",
      "/sync_clock (Table(72000,), shuffle, zlib(5)) ''\n",
      "/sync_events (Table(2091,), shuffle, zlib(5)) ''\n",
      "/task (Table(72000,), shuffle, zlib(5)) ''\n",
      "/task_msgs (Table(2090,), shuffle, zlib(5)) ''\n",
      "/trials (Table(699,), shuffle, zlib(5)) ''\n",
      "/feature_selection (Group) ''\n",
      "/feature_selection/C_mat (Array(121, 128, 7)) ''\n",
      "/feature_selection/K_mat (Array(121, 7, 128)) ''\n",
      "/feature_selection/Q_diag (Array(121, 128)) ''\n",
      "/feature_selection/assist_level (Array(2,)) ''\n",
      "/feature_selection/batch_size (Array()) ''\n",
      "/feature_selection/batch_time (Array()) ''\n",
      "/feature_selection/feat_set (Array(122, 128)) ''\n",
      "/feature_selection/fixed_noise_level (Array()) ''\n",
      "/feature_selection/half_life (Array()) ''\n",
      "/feature_selection/init_feat_set (Array(128,)) ''\n",
      "/feature_selection/n_starting_feats (Array()) ''\n",
      "/feature_selection/n_states (Array()) ''\n",
      "/feature_selection/no_noise_neuron_ind (Array(96,)) ''\n",
      "/feature_selection/noise_mode (UnImplemented()) ''\n",
      "/feature_selection/noise_neuron_ind (Array(32,)) ''\n",
      "/feature_selection/percent_noise (Array(128, 1)) ''\n",
      "/feature_selection/sim_C (Array(128, 7)) ''\n",
      "/feature_selection/total_exp_time (Array()) ''\n",
      "/feature_selection/transform_x_flag (Array()) ''\n",
      "/feature_selection/transform_y_flag (Array()) ''\n",
      "\n",
      "/home/sijia-aw/BMi3D_my/operation_funny_chicken/sim_data/neurons_128/same_0.7.h5 (File) ''\n",
      "Last modif.: 'Fri Oct  8 16:03:52 2021'\n",
      "Object Tree: \n",
      "/ (RootGroup) ''\n",
      "/clda (Table(120,), shuffle, zlib(5)) ''\n",
      "/sync_clock (Table(72000,), shuffle, zlib(5)) ''\n",
      "/sync_events (Table(2066,), shuffle, zlib(5)) ''\n",
      "/task (Table(72000,), shuffle, zlib(5)) ''\n",
      "/task_msgs (Table(2065,), shuffle, zlib(5)) ''\n",
      "/trials (Table(690,), shuffle, zlib(5)) ''\n",
      "/feature_selection (Group) ''\n",
      "/feature_selection/C_mat (Array(121, 128, 7)) ''\n",
      "/feature_selection/K_mat (Array(121, 7, 128)) ''\n",
      "/feature_selection/Q_diag (Array(121, 128)) ''\n",
      "/feature_selection/assist_level (Array(2,)) ''\n",
      "/feature_selection/batch_size (Array()) ''\n",
      "/feature_selection/batch_time (Array()) ''\n",
      "/feature_selection/feat_set (Array(122, 128)) ''\n",
      "/feature_selection/fixed_noise_level (Array()) ''\n",
      "/feature_selection/half_life (Array()) ''\n",
      "/feature_selection/init_feat_set (Array(128,)) ''\n",
      "/feature_selection/n_starting_feats (Array()) ''\n",
      "/feature_selection/n_states (Array()) ''\n",
      "/feature_selection/no_noise_neuron_ind (Array(96,)) ''\n",
      "/feature_selection/noise_mode (UnImplemented()) ''\n",
      "/feature_selection/noise_neuron_ind (Array(32,)) ''\n",
      "/feature_selection/percent_noise (Array(128, 1)) ''\n",
      "/feature_selection/sim_C (Array(128, 7)) ''\n",
      "/feature_selection/total_exp_time (Array()) ''\n",
      "/feature_selection/transform_x_flag (Array()) ''\n",
      "/feature_selection/transform_y_flag (Array()) ''\n",
      "\n"
     ]
    }
   ],
   "source": [
    "import os\n",
    "import aopy\n",
    "import tables\n",
    "\n",
    "exp_data_all = list()\n",
    "exp_data_metadata_all = list()\n",
    "\n",
    "for i,e in enumerate(exp_conds):\n",
    "    files = {\n",
    "\n",
    "    'hdf':e+'.h5'\n",
    "\n",
    "    }\n",
    "    \n",
    "    file_name = os.path.join(data_dump_folder, files['hdf'])\n",
    "\n",
    "        \n",
    "    # write in the exp processing files\n",
    "    \n",
    "    aopy.data.save_hdf(data_dump_folder, file_name, kwargs_exps[i], data_group=\"/feature_selection\", append = True)\n",
    "    \n",
    "    with tables.open_file(file_name, mode = 'r') as f: print(f)\n",
    "    \n",
    "    try:\n",
    "        d,m = aopy.preproc.parse_bmi3d(data_dump_folder, files)\n",
    "    except:\n",
    "        print(f'cannot parse {e}')\n",
    "    "
   ]
  },
  {
   "cell_type": "markdown",
   "metadata": {},
   "source": [
    "## declare defs and conventions"
   ]
  },
  {
   "cell_type": "code",
   "execution_count": 26,
   "metadata": {
    "ExecuteTime": {
     "end_time": "2021-10-08T23:03:52.939812Z",
     "start_time": "2021-10-08T23:03:52.938027Z"
    }
   },
   "outputs": [],
   "source": [
    "CENTER_TARGET_ON = 16\n",
    "CURSOR_ENTER_CENTER_TARGET = 80\n",
    "CENTER_TARGET_OFF = 32\n",
    "REWARD = 48\n",
    "DELAY_PENALTY = 66\n",
    "TIMEOUT_PENALTY = 65\n",
    "HOLD_PENALTY = 64\n",
    "TRIAL_END = 239"
   ]
  },
  {
   "cell_type": "code",
   "execution_count": 27,
   "metadata": {
    "ExecuteTime": {
     "end_time": "2021-10-08T23:03:52.950457Z",
     "start_time": "2021-10-08T23:03:52.940550Z"
    }
   },
   "outputs": [],
   "source": [
    "from feature_selection_feature import *\n"
   ]
  },
  {
   "cell_type": "markdown",
   "metadata": {},
   "source": [
    "## looking at one example data"
   ]
  },
  {
   "cell_type": "code",
   "execution_count": 28,
   "metadata": {
    "ExecuteTime": {
     "end_time": "2021-10-08T23:03:53.631656Z",
     "start_time": "2021-10-08T23:03:52.951235Z"
    }
   },
   "outputs": [
    {
     "name": "stdout",
     "output_type": "stream",
     "text": [
      "{'names':['prev_tick','timestamp_bmi3d'], 'formats':['<f8','<f8'], 'offsets':[16,24], 'itemsize':32}\n",
      "[('time', '<u8'), ('event', 'S32'), ('data', '<u4'), ('code', 'u1'), ('timestamp_bmi3d', '<f8'), ('timestamp', '<f8')]\n"
     ]
    }
   ],
   "source": [
    "exp_data, exp_metadata = aopy.preproc.parse_bmi3d(data_dump_folder, files)\n",
    "\n",
    "\n",
    "clock = exp_data['clock']\n",
    "print(clock.dtype)\n",
    "events = exp_data['events']\n",
    "print(events.dtype)"
   ]
  },
  {
   "cell_type": "code",
   "execution_count": 29,
   "metadata": {
    "ExecuteTime": {
     "end_time": "2021-10-08T23:03:53.634565Z",
     "start_time": "2021-10-08T23:03:53.632488Z"
    }
   },
   "outputs": [
    {
     "data": {
      "text/plain": [
       "80"
      ]
     },
     "execution_count": 29,
     "metadata": {},
     "output_type": "execute_result"
    }
   ],
   "source": [
    "CURSOR_ENTER_CENTER_TARGET"
   ]
  },
  {
   "cell_type": "code",
   "execution_count": 30,
   "metadata": {
    "ExecuteTime": {
     "end_time": "2021-10-08T23:03:53.716888Z",
     "start_time": "2021-10-08T23:03:53.635303Z"
    }
   },
   "outputs": [
    {
     "name": "stdout",
     "output_type": "stream",
     "text": [
      "[238 22 65 ... 48 23 255]\n",
      "[[20 84 48]\n",
      " [19 83 48]\n",
      " [21 85 48]\n",
      " [17 81 48]\n",
      " [21 85 48]\n",
      " [22 86 48]\n",
      " [19 83 48]\n",
      " [20 84 48]\n",
      " [17 81 48]\n",
      " [18 82 48]]\n",
      "[[1807 1891]\n",
      " [1892 2005]\n",
      " [2608 3109]\n",
      " [3110 3246]\n",
      " [3247 3343]\n",
      " [3344 3463]\n",
      " [3464 3630]\n",
      " [3631 3709]\n",
      " [3710 3834]\n",
      " [3835 3960]]\n"
     ]
    }
   ],
   "source": [
    "event_names = events['event']\n",
    "event_cycles = events['time'] # confusingly, 'time' here refers to cycle count\n",
    "\n",
    "print(events['code'])\n",
    "\n",
    "target_codes = range(17, 25)\n",
    "\n",
    "\n",
    "\n",
    "trial_segments, trial_times = aopy.preproc.get_trial_segments(events['code'], event_cycles, target_codes, [REWARD, HOLD_PENALTY, DELAY_PENALTY])\n",
    "trial_segments = np.array(trial_segments)\n",
    "print(trial_segments[:10])\n",
    "print(trial_times[:10])"
   ]
  },
  {
   "cell_type": "code",
   "execution_count": 31,
   "metadata": {
    "ExecuteTime": {
     "end_time": "2021-10-08T23:03:53.720474Z",
     "start_time": "2021-10-08T23:03:53.717640Z"
    }
   },
   "outputs": [],
   "source": [
    "cursor_kinematics = exp_data['task']['cursor'][:,[0,2]] # cursor (x, z, y) position on each bmi3d cycle\n",
    "time = exp_data['bmi3d_clock']['timestamp']"
   ]
  },
  {
   "cell_type": "code",
   "execution_count": 32,
   "metadata": {
    "ExecuteTime": {
     "end_time": "2021-10-08T23:03:53.741904Z",
     "start_time": "2021-10-08T23:03:53.721263Z"
    }
   },
   "outputs": [],
   "source": [
    "trial_indices = [range(t[0], t[1]) for t in trial_times]\n",
    "cursor_trajectories = [cursor_kinematics[t] for t in trial_indices]\n"
   ]
  },
  {
   "cell_type": "code",
   "execution_count": 33,
   "metadata": {
    "ExecuteTime": {
     "end_time": "2021-10-08T23:03:53.757841Z",
     "start_time": "2021-10-08T23:03:53.742819Z"
    }
   },
   "outputs": [
    {
     "name": "stdout",
     "output_type": "stream",
     "text": [
      "[(0, 6, [ -0.  ,   0.  , -10.  ]) (0, 8, [ 10.  ,   0.  ,  -0.  ])\n",
      " (0, 2, [  0.  ,   0.  ,  10.  ]) (0, 4, [-10.  ,   0.  ,   0.  ])\n",
      " (0, 3, [ -7.07,   0.  ,   7.07]) (0, 7, [  7.07,   0.  ,  -7.07])\n",
      " (0, 5, [ -7.07,   0.  ,  -7.07]) (0, 1, [  7.07,   0.  ,   7.07])\n",
      " (0, 5, [ -7.07,   0.  ,  -7.07]) (0, 6, [ -0.  ,   0.  , -10.  ])\n",
      " (0, 3, [ -7.07,   0.  ,   7.07]) (0, 4, [-10.  ,   0.  ,   0.  ])\n",
      " (0, 1, [  7.07,   0.  ,   7.07]) (0, 2, [  0.  ,   0.  ,  10.  ])\n",
      " (0, 7, [  7.07,   0.  ,  -7.07]) (0, 8, [ 10.  ,   0.  ,  -0.  ])\n",
      " (0, 1, [  7.07,   0.  ,   7.07]) (0, 3, [ -7.07,   0.  ,   7.07])\n",
      " (0, 4, [-10.  ,   0.  ,   0.  ]) (0, 5, [ -7.07,   0.  ,  -7.07])\n",
      " (0, 2, [  0.  ,   0.  ,  10.  ]) (0, 7, [  7.07,   0.  ,  -7.07])\n",
      " (0, 8, [ 10.  ,   0.  ,  -0.  ]) (0, 6, [ -0.  ,   0.  , -10.  ])\n",
      " (0, 3, [ -7.07,   0.  ,   7.07]) (0, 6, [ -0.  ,   0.  , -10.  ])\n",
      " (0, 5, [ -7.07,   0.  ,  -7.07]) (0, 2, [  0.  ,   0.  ,  10.  ])\n",
      " (0, 1, [  7.07,   0.  ,   7.07]) (0, 8, [ 10.  ,   0.  ,  -0.  ])\n",
      " (0, 4, [-10.  ,   0.  ,   0.  ]) (0, 7, [  7.07,   0.  ,  -7.07])\n",
      " (0, 3, [ -7.07,   0.  ,   7.07]) (0, 5, [ -7.07,   0.  ,  -7.07])\n",
      " (0, 6, [ -0.  ,   0.  , -10.  ]) (0, 4, [-10.  ,   0.  ,   0.  ])\n",
      " (0, 8, [ 10.  ,   0.  ,  -0.  ]) (0, 2, [  0.  ,   0.  ,  10.  ])\n",
      " (0, 1, [  7.07,   0.  ,   7.07]) (0, 7, [  7.07,   0.  ,  -7.07])\n",
      " (0, 1, [  7.07,   0.  ,   7.07]) (0, 5, [ -7.07,   0.  ,  -7.07])\n",
      " (0, 3, [ -7.07,   0.  ,   7.07]) (0, 8, [ 10.  ,   0.  ,  -0.  ])\n",
      " (0, 2, [  0.  ,   0.  ,  10.  ]) (0, 6, [ -0.  ,   0.  , -10.  ])\n",
      " (0, 4, [-10.  ,   0.  ,   0.  ]) (0, 7, [  7.07,   0.  ,  -7.07])\n",
      " (0, 6, [ -0.  ,   0.  , -10.  ]) (0, 3, [ -7.07,   0.  ,   7.07])\n",
      " (0, 4, [-10.  ,   0.  ,   0.  ]) (0, 1, [  7.07,   0.  ,   7.07])\n",
      " (0, 2, [  0.  ,   0.  ,  10.  ]) (0, 5, [ -7.07,   0.  ,  -7.07])\n",
      " (0, 8, [ 10.  ,   0.  ,  -0.  ]) (0, 7, [  7.07,   0.  ,  -7.07])\n",
      " (0, 8, [ 10.  ,   0.  ,  -0.  ]) (0, 3, [ -7.07,   0.  ,   7.07])\n",
      " (0, 4, [-10.  ,   0.  ,   0.  ]) (0, 2, [  0.  ,   0.  ,  10.  ])\n",
      " (0, 7, [  7.07,   0.  ,  -7.07]) (0, 5, [ -7.07,   0.  ,  -7.07])\n",
      " (0, 1, [  7.07,   0.  ,   7.07]) (0, 6, [ -0.  ,   0.  , -10.  ])\n",
      " (0, 1, [  7.07,   0.  ,   7.07]) (0, 3, [ -7.07,   0.  ,   7.07])\n",
      " (0, 7, [  7.07,   0.  ,  -7.07]) (0, 8, [ 10.  ,   0.  ,  -0.  ])\n",
      " (0, 2, [  0.  ,   0.  ,  10.  ]) (0, 5, [ -7.07,   0.  ,  -7.07])\n",
      " (0, 6, [ -0.  ,   0.  , -10.  ]) (0, 4, [-10.  ,   0.  ,   0.  ])\n",
      " (0, 1, [  7.07,   0.  ,   7.07]) (0, 3, [ -7.07,   0.  ,   7.07])\n",
      " (0, 4, [-10.  ,   0.  ,   0.  ]) (0, 8, [ 10.  ,   0.  ,  -0.  ])\n",
      " (0, 5, [ -7.07,   0.  ,  -7.07]) (0, 6, [ -0.  ,   0.  , -10.  ])\n",
      " (0, 2, [  0.  ,   0.  ,  10.  ]) (0, 7, [  7.07,   0.  ,  -7.07])\n",
      " (0, 4, [-10.  ,   0.  ,   0.  ]) (0, 8, [ 10.  ,   0.  ,  -0.  ])\n",
      " (0, 6, [ -0.  ,   0.  , -10.  ]) (0, 7, [  7.07,   0.  ,  -7.07])\n",
      " (0, 2, [  0.  ,   0.  ,  10.  ]) (0, 5, [ -7.07,   0.  ,  -7.07])\n",
      " (0, 1, [  7.07,   0.  ,   7.07]) (0, 3, [ -7.07,   0.  ,   7.07])\n",
      " (0, 6, [ -0.  ,   0.  , -10.  ]) (0, 7, [  7.07,   0.  ,  -7.07])\n",
      " (0, 2, [  0.  ,   0.  ,  10.  ]) (0, 1, [  7.07,   0.  ,   7.07])\n",
      " (0, 5, [ -7.07,   0.  ,  -7.07]) (0, 8, [ 10.  ,   0.  ,  -0.  ])\n",
      " (0, 4, [-10.  ,   0.  ,   0.  ]) (0, 3, [ -7.07,   0.  ,   7.07])\n",
      " (0, 4, [-10.  ,   0.  ,   0.  ]) (0, 2, [  0.  ,   0.  ,  10.  ])\n",
      " (0, 8, [ 10.  ,   0.  ,  -0.  ]) (0, 3, [ -7.07,   0.  ,   7.07])\n",
      " (0, 7, [  7.07,   0.  ,  -7.07]) (0, 1, [  7.07,   0.  ,   7.07])\n",
      " (0, 5, [ -7.07,   0.  ,  -7.07]) (0, 6, [ -0.  ,   0.  , -10.  ])\n",
      " (0, 7, [  7.07,   0.  ,  -7.07]) (0, 4, [-10.  ,   0.  ,   0.  ])\n",
      " (0, 1, [  7.07,   0.  ,   7.07]) (0, 6, [ -0.  ,   0.  , -10.  ])\n",
      " (0, 5, [ -7.07,   0.  ,  -7.07]) (0, 3, [ -7.07,   0.  ,   7.07])\n",
      " (0, 2, [  0.  ,   0.  ,  10.  ]) (0, 8, [ 10.  ,   0.  ,  -0.  ])\n",
      " (0, 8, [ 10.  ,   0.  ,  -0.  ]) (0, 3, [ -7.07,   0.  ,   7.07])\n",
      " (0, 1, [  7.07,   0.  ,   7.07]) (0, 2, [  0.  ,   0.  ,  10.  ])\n",
      " (0, 6, [ -0.  ,   0.  , -10.  ]) (0, 4, [-10.  ,   0.  ,   0.  ])\n",
      " (0, 7, [  7.07,   0.  ,  -7.07]) (0, 5, [ -7.07,   0.  ,  -7.07])\n",
      " (0, 6, [ -0.  ,   0.  , -10.  ]) (0, 1, [  7.07,   0.  ,   7.07])\n",
      " (0, 7, [  7.07,   0.  ,  -7.07]) (0, 2, [  0.  ,   0.  ,  10.  ])\n",
      " (0, 3, [ -7.07,   0.  ,   7.07]) (0, 5, [ -7.07,   0.  ,  -7.07])\n",
      " (0, 8, [ 10.  ,   0.  ,  -0.  ]) (0, 4, [-10.  ,   0.  ,   0.  ])\n",
      " (0, 8, [ 10.  ,   0.  ,  -0.  ]) (0, 3, [ -7.07,   0.  ,   7.07])\n",
      " (0, 2, [  0.  ,   0.  ,  10.  ]) (0, 5, [ -7.07,   0.  ,  -7.07])\n",
      " (0, 6, [ -0.  ,   0.  , -10.  ]) (0, 1, [  7.07,   0.  ,   7.07])\n",
      " (0, 4, [-10.  ,   0.  ,   0.  ]) (0, 7, [  7.07,   0.  ,  -7.07])\n",
      " (0, 2, [  0.  ,   0.  ,  10.  ]) (0, 8, [ 10.  ,   0.  ,  -0.  ])\n",
      " (0, 7, [  7.07,   0.  ,  -7.07]) (0, 1, [  7.07,   0.  ,   7.07])\n",
      " (0, 5, [ -7.07,   0.  ,  -7.07]) (0, 4, [-10.  ,   0.  ,   0.  ])\n",
      " (0, 6, [ -0.  ,   0.  , -10.  ]) (0, 3, [ -7.07,   0.  ,   7.07])\n",
      " (0, 3, [ -7.07,   0.  ,   7.07]) (0, 2, [  0.  ,   0.  ,  10.  ])\n",
      " (0, 1, [  7.07,   0.  ,   7.07]) (0, 6, [ -0.  ,   0.  , -10.  ])\n",
      " (0, 5, [ -7.07,   0.  ,  -7.07]) (0, 4, [-10.  ,   0.  ,   0.  ])\n",
      " (0, 7, [  7.07,   0.  ,  -7.07]) (0, 8, [ 10.  ,   0.  ,  -0.  ])\n",
      " (0, 8, [ 10.  ,   0.  ,  -0.  ]) (0, 5, [ -7.07,   0.  ,  -7.07])\n",
      " (0, 6, [ -0.  ,   0.  , -10.  ]) (0, 2, [  0.  ,   0.  ,  10.  ])\n",
      " (0, 1, [  7.07,   0.  ,   7.07]) (0, 3, [ -7.07,   0.  ,   7.07])\n",
      " (0, 4, [-10.  ,   0.  ,   0.  ]) (0, 7, [  7.07,   0.  ,  -7.07])\n",
      " (0, 7, [  7.07,   0.  ,  -7.07]) (0, 4, [-10.  ,   0.  ,   0.  ])\n",
      " (0, 1, [  7.07,   0.  ,   7.07]) (0, 3, [ -7.07,   0.  ,   7.07])\n",
      " (0, 8, [ 10.  ,   0.  ,  -0.  ]) (0, 2, [  0.  ,   0.  ,  10.  ])\n",
      " (0, 6, [ -0.  ,   0.  , -10.  ]) (0, 5, [ -7.07,   0.  ,  -7.07])\n",
      " (0, 7, [  7.07,   0.  ,  -7.07]) (0, 1, [  7.07,   0.  ,   7.07])\n",
      " (0, 4, [-10.  ,   0.  ,   0.  ]) (0, 2, [  0.  ,   0.  ,  10.  ])\n",
      " (0, 3, [ -7.07,   0.  ,   7.07]) (0, 8, [ 10.  ,   0.  ,  -0.  ])\n",
      " (0, 5, [ -7.07,   0.  ,  -7.07]) (0, 6, [ -0.  ,   0.  , -10.  ])\n",
      " (0, 3, [ -7.07,   0.  ,   7.07]) (0, 8, [ 10.  ,   0.  ,  -0.  ])\n",
      " (0, 5, [ -7.07,   0.  ,  -7.07]) (0, 4, [-10.  ,   0.  ,   0.  ])\n",
      " (0, 7, [  7.07,   0.  ,  -7.07]) (0, 1, [  7.07,   0.  ,   7.07])\n",
      " (0, 2, [  0.  ,   0.  ,  10.  ]) (0, 6, [ -0.  ,   0.  , -10.  ])\n",
      " (0, 3, [ -7.07,   0.  ,   7.07]) (0, 5, [ -7.07,   0.  ,  -7.07])\n",
      " (0, 2, [  0.  ,   0.  ,  10.  ]) (0, 7, [  7.07,   0.  ,  -7.07])\n",
      " (0, 8, [ 10.  ,   0.  ,  -0.  ]) (0, 6, [ -0.  ,   0.  , -10.  ])\n",
      " (0, 4, [-10.  ,   0.  ,   0.  ]) (0, 1, [  7.07,   0.  ,   7.07])\n",
      " (0, 7, [  7.07,   0.  ,  -7.07]) (0, 2, [  0.  ,   0.  ,  10.  ])\n",
      " (0, 3, [ -7.07,   0.  ,   7.07]) (0, 8, [ 10.  ,   0.  ,  -0.  ])\n",
      " (0, 4, [-10.  ,   0.  ,   0.  ]) (0, 6, [ -0.  ,   0.  , -10.  ])\n",
      " (0, 5, [ -7.07,   0.  ,  -7.07]) (0, 1, [  7.07,   0.  ,   7.07])\n",
      " (0, 4, [-10.  ,   0.  ,   0.  ]) (0, 3, [ -7.07,   0.  ,   7.07])\n",
      " (0, 8, [ 10.  ,   0.  ,  -0.  ]) (0, 2, [  0.  ,   0.  ,  10.  ])\n",
      " (0, 5, [ -7.07,   0.  ,  -7.07]) (0, 1, [  7.07,   0.  ,   7.07])\n",
      " (0, 7, [  7.07,   0.  ,  -7.07]) (0, 6, [ -0.  ,   0.  , -10.  ])\n",
      " (0, 5, [ -7.07,   0.  ,  -7.07]) (0, 2, [  0.  ,   0.  ,  10.  ])\n",
      " (0, 6, [ -0.  ,   0.  , -10.  ]) (0, 3, [ -7.07,   0.  ,   7.07])\n",
      " (0, 4, [-10.  ,   0.  ,   0.  ]) (0, 1, [  7.07,   0.  ,   7.07])\n",
      " (0, 8, [ 10.  ,   0.  ,  -0.  ]) (0, 7, [  7.07,   0.  ,  -7.07])\n",
      " (0, 1, [  7.07,   0.  ,   7.07]) (0, 7, [  7.07,   0.  ,  -7.07])\n",
      " (0, 5, [ -7.07,   0.  ,  -7.07]) (0, 6, [ -0.  ,   0.  , -10.  ])\n",
      " (0, 8, [ 10.  ,   0.  ,  -0.  ]) (0, 4, [-10.  ,   0.  ,   0.  ])\n",
      " (0, 2, [  0.  ,   0.  ,  10.  ]) (0, 3, [ -7.07,   0.  ,   7.07])\n",
      " (0, 3, [ -7.07,   0.  ,   7.07]) (0, 6, [ -0.  ,   0.  , -10.  ])\n",
      " (0, 5, [ -7.07,   0.  ,  -7.07]) (0, 8, [ 10.  ,   0.  ,  -0.  ])\n",
      " (0, 7, [  7.07,   0.  ,  -7.07]) (0, 1, [  7.07,   0.  ,   7.07])\n",
      " (0, 2, [  0.  ,   0.  ,  10.  ]) (0, 4, [-10.  ,   0.  ,   0.  ])\n",
      " (0, 5, [ -7.07,   0.  ,  -7.07]) (0, 1, [  7.07,   0.  ,   7.07])\n",
      " (0, 7, [  7.07,   0.  ,  -7.07]) (0, 3, [ -7.07,   0.  ,   7.07])\n",
      " (0, 4, [-10.  ,   0.  ,   0.  ]) (0, 2, [  0.  ,   0.  ,  10.  ])\n",
      " (0, 8, [ 10.  ,   0.  ,  -0.  ]) (0, 6, [ -0.  ,   0.  , -10.  ])\n",
      " (0, 5, [ -7.07,   0.  ,  -7.07]) (0, 1, [  7.07,   0.  ,   7.07])\n",
      " (0, 3, [ -7.07,   0.  ,   7.07]) (0, 6, [ -0.  ,   0.  , -10.  ])\n",
      " (0, 2, [  0.  ,   0.  ,  10.  ]) (0, 4, [-10.  ,   0.  ,   0.  ])\n",
      " (0, 8, [ 10.  ,   0.  ,  -0.  ]) (0, 7, [  7.07,   0.  ,  -7.07])\n",
      " (0, 7, [  7.07,   0.  ,  -7.07]) (0, 5, [ -7.07,   0.  ,  -7.07])\n",
      " (0, 2, [  0.  ,   0.  ,  10.  ]) (0, 8, [ 10.  ,   0.  ,  -0.  ])\n",
      " (0, 4, [-10.  ,   0.  ,   0.  ]) (0, 3, [ -7.07,   0.  ,   7.07])\n",
      " (0, 6, [ -0.  ,   0.  , -10.  ]) (0, 1, [  7.07,   0.  ,   7.07])\n",
      " (0, 1, [  7.07,   0.  ,   7.07]) (0, 5, [ -7.07,   0.  ,  -7.07])\n",
      " (0, 8, [ 10.  ,   0.  ,  -0.  ]) (0, 7, [  7.07,   0.  ,  -7.07])\n",
      " (0, 2, [  0.  ,   0.  ,  10.  ]) (0, 3, [ -7.07,   0.  ,   7.07])\n",
      " (0, 4, [-10.  ,   0.  ,   0.  ]) (0, 6, [ -0.  ,   0.  , -10.  ])\n",
      " (0, 7, [  7.07,   0.  ,  -7.07]) (0, 6, [ -0.  ,   0.  , -10.  ])\n",
      " (0, 3, [ -7.07,   0.  ,   7.07]) (0, 1, [  7.07,   0.  ,   7.07])\n",
      " (0, 5, [ -7.07,   0.  ,  -7.07]) (0, 8, [ 10.  ,   0.  ,  -0.  ])\n",
      " (0, 2, [  0.  ,   0.  ,  10.  ]) (0, 4, [-10.  ,   0.  ,   0.  ])\n",
      " (0, 6, [ -0.  ,   0.  , -10.  ]) (0, 7, [  7.07,   0.  ,  -7.07])\n",
      " (0, 1, [  7.07,   0.  ,   7.07]) (0, 5, [ -7.07,   0.  ,  -7.07])\n",
      " (0, 3, [ -7.07,   0.  ,   7.07]) (0, 4, [-10.  ,   0.  ,   0.  ])\n",
      " (0, 2, [  0.  ,   0.  ,  10.  ]) (0, 8, [ 10.  ,   0.  ,  -0.  ])\n",
      " (0, 5, [ -7.07,   0.  ,  -7.07]) (0, 7, [  7.07,   0.  ,  -7.07])\n",
      " (0, 3, [ -7.07,   0.  ,   7.07]) (0, 1, [  7.07,   0.  ,   7.07])\n",
      " (0, 2, [  0.  ,   0.  ,  10.  ]) (0, 4, [-10.  ,   0.  ,   0.  ])\n",
      " (0, 6, [ -0.  ,   0.  , -10.  ]) (0, 8, [ 10.  ,   0.  ,  -0.  ])\n",
      " (0, 2, [  0.  ,   0.  ,  10.  ]) (0, 8, [ 10.  ,   0.  ,  -0.  ])\n",
      " (0, 3, [ -7.07,   0.  ,   7.07]) (0, 4, [-10.  ,   0.  ,   0.  ])\n",
      " (0, 1, [  7.07,   0.  ,   7.07]) (0, 7, [  7.07,   0.  ,  -7.07])\n",
      " (0, 6, [ -0.  ,   0.  , -10.  ]) (0, 5, [ -7.07,   0.  ,  -7.07])\n",
      " (0, 1, [  7.07,   0.  ,   7.07]) (0, 6, [ -0.  ,   0.  , -10.  ])\n",
      " (0, 4, [-10.  ,   0.  ,   0.  ]) (0, 8, [ 10.  ,   0.  ,  -0.  ])\n",
      " (0, 3, [ -7.07,   0.  ,   7.07]) (0, 5, [ -7.07,   0.  ,  -7.07])\n",
      " (0, 7, [  7.07,   0.  ,  -7.07]) (0, 2, [  0.  ,   0.  ,  10.  ])\n",
      " (0, 8, [ 10.  ,   0.  ,  -0.  ]) (0, 5, [ -7.07,   0.  ,  -7.07])\n",
      " (0, 4, [-10.  ,   0.  ,   0.  ]) (0, 6, [ -0.  ,   0.  , -10.  ])\n",
      " (0, 3, [ -7.07,   0.  ,   7.07]) (0, 1, [  7.07,   0.  ,   7.07])\n",
      " (0, 7, [  7.07,   0.  ,  -7.07]) (0, 2, [  0.  ,   0.  ,  10.  ])\n",
      " (0, 5, [ -7.07,   0.  ,  -7.07]) (0, 4, [-10.  ,   0.  ,   0.  ])\n",
      " (0, 2, [  0.  ,   0.  ,  10.  ]) (0, 6, [ -0.  ,   0.  , -10.  ])\n",
      " (0, 7, [  7.07,   0.  ,  -7.07]) (0, 1, [  7.07,   0.  ,   7.07])\n",
      " (0, 8, [ 10.  ,   0.  ,  -0.  ]) (0, 3, [ -7.07,   0.  ,   7.07])\n",
      " (0, 2, [  0.  ,   0.  ,  10.  ]) (0, 3, [ -7.07,   0.  ,   7.07])\n",
      " (0, 5, [ -7.07,   0.  ,  -7.07]) (0, 4, [-10.  ,   0.  ,   0.  ])\n",
      " (0, 1, [  7.07,   0.  ,   7.07]) (0, 8, [ 10.  ,   0.  ,  -0.  ])\n",
      " (0, 6, [ -0.  ,   0.  , -10.  ]) (0, 7, [  7.07,   0.  ,  -7.07])\n",
      " (0, 4, [-10.  ,   0.  ,   0.  ]) (0, 6, [ -0.  ,   0.  , -10.  ])\n",
      " (0, 5, [ -7.07,   0.  ,  -7.07]) (0, 7, [  7.07,   0.  ,  -7.07])\n",
      " (0, 2, [  0.  ,   0.  ,  10.  ]) (0, 3, [ -7.07,   0.  ,   7.07])\n",
      " (0, 8, [ 10.  ,   0.  ,  -0.  ]) (0, 1, [  7.07,   0.  ,   7.07])\n",
      " (0, 5, [ -7.07,   0.  ,  -7.07]) (0, 2, [  0.  ,   0.  ,  10.  ])\n",
      " (0, 3, [ -7.07,   0.  ,   7.07]) (0, 4, [-10.  ,   0.  ,   0.  ])\n",
      " (0, 8, [ 10.  ,   0.  ,  -0.  ]) (0, 7, [  7.07,   0.  ,  -7.07])\n",
      " (0, 1, [  7.07,   0.  ,   7.07]) (0, 6, [ -0.  ,   0.  , -10.  ])\n",
      " (0, 5, [ -7.07,   0.  ,  -7.07]) (0, 3, [ -7.07,   0.  ,   7.07])\n",
      " (0, 1, [  7.07,   0.  ,   7.07]) (0, 2, [  0.  ,   0.  ,  10.  ])\n",
      " (0, 4, [-10.  ,   0.  ,   0.  ]) (0, 7, [  7.07,   0.  ,  -7.07])\n",
      " (0, 8, [ 10.  ,   0.  ,  -0.  ]) (0, 6, [ -0.  ,   0.  , -10.  ])\n",
      " (0, 5, [ -7.07,   0.  ,  -7.07]) (0, 8, [ 10.  ,   0.  ,  -0.  ])\n",
      " (0, 6, [ -0.  ,   0.  , -10.  ]) (0, 7, [  7.07,   0.  ,  -7.07])\n",
      " (0, 1, [  7.07,   0.  ,   7.07]) (0, 2, [  0.  ,   0.  ,  10.  ])\n",
      " (0, 4, [-10.  ,   0.  ,   0.  ]) (0, 3, [ -7.07,   0.  ,   7.07])\n",
      " (0, 3, [ -7.07,   0.  ,   7.07]) (0, 1, [  7.07,   0.  ,   7.07])\n",
      " (0, 5, [ -7.07,   0.  ,  -7.07]) (0, 2, [  0.  ,   0.  ,  10.  ])\n",
      " (0, 7, [  7.07,   0.  ,  -7.07]) (0, 8, [ 10.  ,   0.  ,  -0.  ])\n",
      " (0, 4, [-10.  ,   0.  ,   0.  ]) (0, 6, [ -0.  ,   0.  , -10.  ])\n",
      " (0, 5, [ -7.07,   0.  ,  -7.07]) (0, 2, [  0.  ,   0.  ,  10.  ])\n",
      " (0, 8, [ 10.  ,   0.  ,  -0.  ]) (0, 1, [  7.07,   0.  ,   7.07])\n",
      " (0, 7, [  7.07,   0.  ,  -7.07]) (0, 6, [ -0.  ,   0.  , -10.  ])\n",
      " (0, 4, [-10.  ,   0.  ,   0.  ]) (0, 3, [ -7.07,   0.  ,   7.07])\n",
      " (0, 2, [  0.  ,   0.  ,  10.  ]) (0, 8, [ 10.  ,   0.  ,  -0.  ])\n",
      " (0, 7, [  7.07,   0.  ,  -7.07]) (0, 6, [ -0.  ,   0.  , -10.  ])\n",
      " (0, 3, [ -7.07,   0.  ,   7.07]) (0, 4, [-10.  ,   0.  ,   0.  ])\n",
      " (0, 5, [ -7.07,   0.  ,  -7.07]) (0, 1, [  7.07,   0.  ,   7.07])\n",
      " (0, 1, [  7.07,   0.  ,   7.07]) (0, 3, [ -7.07,   0.  ,   7.07])\n",
      " (0, 5, [ -7.07,   0.  ,  -7.07]) (0, 6, [ -0.  ,   0.  , -10.  ])\n",
      " (0, 8, [ 10.  ,   0.  ,  -0.  ]) (0, 2, [  0.  ,   0.  ,  10.  ])\n",
      " (0, 4, [-10.  ,   0.  ,   0.  ]) (0, 7, [  7.07,   0.  ,  -7.07])\n",
      " (0, 8, [ 10.  ,   0.  ,  -0.  ]) (0, 3, [ -7.07,   0.  ,   7.07])\n",
      " (0, 4, [-10.  ,   0.  ,   0.  ]) (0, 1, [  7.07,   0.  ,   7.07])\n",
      " (0, 2, [  0.  ,   0.  ,  10.  ]) (0, 7, [  7.07,   0.  ,  -7.07])\n",
      " (0, 6, [ -0.  ,   0.  , -10.  ]) (0, 5, [ -7.07,   0.  ,  -7.07])\n",
      " (0, 4, [-10.  ,   0.  ,   0.  ]) (0, 6, [ -0.  ,   0.  , -10.  ])\n",
      " (0, 8, [ 10.  ,   0.  ,  -0.  ]) (0, 7, [  7.07,   0.  ,  -7.07])\n",
      " (0, 1, [  7.07,   0.  ,   7.07]) (0, 2, [  0.  ,   0.  ,  10.  ])\n",
      " (0, 3, [ -7.07,   0.  ,   7.07]) (0, 5, [ -7.07,   0.  ,  -7.07])\n",
      " (0, 2, [  0.  ,   0.  ,  10.  ]) (0, 8, [ 10.  ,   0.  ,  -0.  ])\n",
      " (0, 3, [ -7.07,   0.  ,   7.07]) (0, 6, [ -0.  ,   0.  , -10.  ])\n",
      " (0, 4, [-10.  ,   0.  ,   0.  ]) (0, 5, [ -7.07,   0.  ,  -7.07])\n",
      " (0, 1, [  7.07,   0.  ,   7.07]) (0, 7, [  7.07,   0.  ,  -7.07])\n",
      " (0, 7, [  7.07,   0.  ,  -7.07]) (0, 4, [-10.  ,   0.  ,   0.  ])\n",
      " (0, 8, [ 10.  ,   0.  ,  -0.  ]) (0, 3, [ -7.07,   0.  ,   7.07])\n",
      " (0, 1, [  7.07,   0.  ,   7.07]) (0, 5, [ -7.07,   0.  ,  -7.07])\n",
      " (0, 2, [  0.  ,   0.  ,  10.  ]) (0, 6, [ -0.  ,   0.  , -10.  ])\n",
      " (0, 2, [  0.  ,   0.  ,  10.  ]) (0, 1, [  7.07,   0.  ,   7.07])\n",
      " (0, 4, [-10.  ,   0.  ,   0.  ]) (0, 6, [ -0.  ,   0.  , -10.  ])\n",
      " (0, 7, [  7.07,   0.  ,  -7.07]) (0, 8, [ 10.  ,   0.  ,  -0.  ])\n",
      " (0, 3, [ -7.07,   0.  ,   7.07]) (0, 5, [ -7.07,   0.  ,  -7.07])\n",
      " (0, 6, [ -0.  ,   0.  , -10.  ]) (0, 1, [  7.07,   0.  ,   7.07])\n",
      " (0, 3, [ -7.07,   0.  ,   7.07]) (0, 5, [ -7.07,   0.  ,  -7.07])\n",
      " (0, 8, [ 10.  ,   0.  ,  -0.  ]) (0, 7, [  7.07,   0.  ,  -7.07])\n",
      " (0, 4, [-10.  ,   0.  ,   0.  ]) (0, 2, [  0.  ,   0.  ,  10.  ])\n",
      " (0, 1, [  7.07,   0.  ,   7.07]) (0, 5, [ -7.07,   0.  ,  -7.07])\n",
      " (0, 7, [  7.07,   0.  ,  -7.07]) (0, 4, [-10.  ,   0.  ,   0.  ])\n",
      " (0, 2, [  0.  ,   0.  ,  10.  ]) (0, 6, [ -0.  ,   0.  , -10.  ])\n",
      " (0, 8, [ 10.  ,   0.  ,  -0.  ]) (0, 3, [ -7.07,   0.  ,   7.07])\n",
      " (0, 5, [ -7.07,   0.  ,  -7.07]) (0, 8, [ 10.  ,   0.  ,  -0.  ])\n",
      " (0, 6, [ -0.  ,   0.  , -10.  ]) (0, 7, [  7.07,   0.  ,  -7.07])\n",
      " (0, 4, [-10.  ,   0.  ,   0.  ]) (0, 3, [ -7.07,   0.  ,   7.07])\n",
      " (0, 2, [  0.  ,   0.  ,  10.  ]) (0, 1, [  7.07,   0.  ,   7.07])\n",
      " (0, 8, [ 10.  ,   0.  ,  -0.  ]) (0, 5, [ -7.07,   0.  ,  -7.07])\n",
      " (0, 3, [ -7.07,   0.  ,   7.07]) (0, 7, [  7.07,   0.  ,  -7.07])\n",
      " (0, 2, [  0.  ,   0.  ,  10.  ]) (0, 1, [  7.07,   0.  ,   7.07])\n",
      " (0, 6, [ -0.  ,   0.  , -10.  ]) (0, 4, [-10.  ,   0.  ,   0.  ])\n",
      " (0, 1, [  7.07,   0.  ,   7.07]) (0, 8, [ 10.  ,   0.  ,  -0.  ])\n",
      " (0, 5, [ -7.07,   0.  ,  -7.07]) (0, 4, [-10.  ,   0.  ,   0.  ])\n",
      " (0, 7, [  7.07,   0.  ,  -7.07]) (0, 6, [ -0.  ,   0.  , -10.  ])\n",
      " (0, 3, [ -7.07,   0.  ,   7.07]) (0, 2, [  0.  ,   0.  ,  10.  ])\n",
      " (0, 7, [  7.07,   0.  ,  -7.07]) (0, 1, [  7.07,   0.  ,   7.07])\n",
      " (0, 6, [ -0.  ,   0.  , -10.  ]) (0, 3, [ -7.07,   0.  ,   7.07])\n",
      " (0, 4, [-10.  ,   0.  ,   0.  ]) (0, 2, [  0.  ,   0.  ,  10.  ])\n",
      " (0, 8, [ 10.  ,   0.  ,  -0.  ]) (0, 5, [ -7.07,   0.  ,  -7.07])\n",
      " (0, 7, [  7.07,   0.  ,  -7.07]) (0, 1, [  7.07,   0.  ,   7.07])\n",
      " (0, 5, [ -7.07,   0.  ,  -7.07]) (0, 6, [ -0.  ,   0.  , -10.  ])\n",
      " (0, 4, [-10.  ,   0.  ,   0.  ]) (0, 2, [  0.  ,   0.  ,  10.  ])\n",
      " (0, 3, [ -7.07,   0.  ,   7.07]) (0, 8, [ 10.  ,   0.  ,  -0.  ])\n",
      " (0, 7, [  7.07,   0.  ,  -7.07]) (0, 6, [ -0.  ,   0.  , -10.  ])\n",
      " (0, 5, [ -7.07,   0.  ,  -7.07]) (0, 3, [ -7.07,   0.  ,   7.07])\n",
      " (0, 4, [-10.  ,   0.  ,   0.  ]) (0, 8, [ 10.  ,   0.  ,  -0.  ])\n",
      " (0, 1, [  7.07,   0.  ,   7.07]) (0, 2, [  0.  ,   0.  ,  10.  ])\n",
      " (0, 8, [ 10.  ,   0.  ,  -0.  ]) (0, 3, [ -7.07,   0.  ,   7.07])\n",
      " (0, 5, [ -7.07,   0.  ,  -7.07]) (0, 6, [ -0.  ,   0.  , -10.  ])\n",
      " (0, 2, [  0.  ,   0.  ,  10.  ]) (0, 4, [-10.  ,   0.  ,   0.  ])\n",
      " (0, 1, [  7.07,   0.  ,   7.07]) (0, 7, [  7.07,   0.  ,  -7.07])\n",
      " (0, 3, [ -7.07,   0.  ,   7.07]) (0, 4, [-10.  ,   0.  ,   0.  ])\n",
      " (0, 2, [  0.  ,   0.  ,  10.  ]) (0, 8, [ 10.  ,   0.  ,  -0.  ])\n",
      " (0, 7, [  7.07,   0.  ,  -7.07]) (0, 5, [ -7.07,   0.  ,  -7.07])\n",
      " (0, 6, [ -0.  ,   0.  , -10.  ]) (0, 1, [  7.07,   0.  ,   7.07])\n",
      " (0, 2, [  0.  ,   0.  ,  10.  ]) (0, 6, [ -0.  ,   0.  , -10.  ])\n",
      " (0, 5, [ -7.07,   0.  ,  -7.07]) (0, 8, [ 10.  ,   0.  ,  -0.  ])\n",
      " (0, 3, [ -7.07,   0.  ,   7.07]) (0, 1, [  7.07,   0.  ,   7.07])\n",
      " (0, 4, [-10.  ,   0.  ,   0.  ]) (0, 7, [  7.07,   0.  ,  -7.07])\n",
      " (0, 8, [ 10.  ,   0.  ,  -0.  ]) (0, 2, [  0.  ,   0.  ,  10.  ])\n",
      " (0, 5, [ -7.07,   0.  ,  -7.07]) (0, 3, [ -7.07,   0.  ,   7.07])\n",
      " (0, 1, [  7.07,   0.  ,   7.07]) (0, 6, [ -0.  ,   0.  , -10.  ])\n",
      " (0, 4, [-10.  ,   0.  ,   0.  ]) (0, 7, [  7.07,   0.  ,  -7.07])\n",
      " (0, 2, [  0.  ,   0.  ,  10.  ]) (0, 1, [  7.07,   0.  ,   7.07])\n",
      " (0, 8, [ 10.  ,   0.  ,  -0.  ]) (0, 3, [ -7.07,   0.  ,   7.07])\n",
      " (0, 4, [-10.  ,   0.  ,   0.  ]) (0, 7, [  7.07,   0.  ,  -7.07])\n",
      " (0, 6, [ -0.  ,   0.  , -10.  ]) (0, 5, [ -7.07,   0.  ,  -7.07])\n",
      " (0, 3, [ -7.07,   0.  ,   7.07]) (0, 2, [  0.  ,   0.  ,  10.  ])\n",
      " (0, 7, [  7.07,   0.  ,  -7.07]) (0, 6, [ -0.  ,   0.  , -10.  ])\n",
      " (0, 8, [ 10.  ,   0.  ,  -0.  ]) (0, 5, [ -7.07,   0.  ,  -7.07])\n",
      " (0, 4, [-10.  ,   0.  ,   0.  ]) (0, 1, [  7.07,   0.  ,   7.07])\n",
      " (0, 5, [ -7.07,   0.  ,  -7.07]) (0, 6, [ -0.  ,   0.  , -10.  ])\n",
      " (0, 4, [-10.  ,   0.  ,   0.  ]) (0, 3, [ -7.07,   0.  ,   7.07])\n",
      " (0, 1, [  7.07,   0.  ,   7.07]) (0, 2, [  0.  ,   0.  ,  10.  ])\n",
      " (0, 8, [ 10.  ,   0.  ,  -0.  ]) (0, 7, [  7.07,   0.  ,  -7.07])\n",
      " (0, 2, [  0.  ,   0.  ,  10.  ]) (0, 3, [ -7.07,   0.  ,   7.07])\n",
      " (0, 6, [ -0.  ,   0.  , -10.  ]) (0, 1, [  7.07,   0.  ,   7.07])\n",
      " (0, 7, [  7.07,   0.  ,  -7.07]) (0, 4, [-10.  ,   0.  ,   0.  ])\n",
      " (0, 5, [ -7.07,   0.  ,  -7.07]) (0, 8, [ 10.  ,   0.  ,  -0.  ])\n",
      " (0, 7, [  7.07,   0.  ,  -7.07]) (0, 4, [-10.  ,   0.  ,   0.  ])\n",
      " (0, 1, [  7.07,   0.  ,   7.07]) (0, 3, [ -7.07,   0.  ,   7.07])\n",
      " (0, 5, [ -7.07,   0.  ,  -7.07]) (0, 6, [ -0.  ,   0.  , -10.  ])\n",
      " (0, 2, [  0.  ,   0.  ,  10.  ]) (0, 8, [ 10.  ,   0.  ,  -0.  ])\n",
      " (0, 3, [ -7.07,   0.  ,   7.07]) (0, 6, [ -0.  ,   0.  , -10.  ])\n",
      " (0, 7, [  7.07,   0.  ,  -7.07]) (0, 1, [  7.07,   0.  ,   7.07])\n",
      " (0, 8, [ 10.  ,   0.  ,  -0.  ]) (0, 5, [ -7.07,   0.  ,  -7.07])\n",
      " (0, 2, [  0.  ,   0.  ,  10.  ]) (0, 4, [-10.  ,   0.  ,   0.  ])\n",
      " (0, 4, [-10.  ,   0.  ,   0.  ]) (0, 3, [ -7.07,   0.  ,   7.07])\n",
      " (0, 7, [  7.07,   0.  ,  -7.07]) (0, 6, [ -0.  ,   0.  , -10.  ])\n",
      " (0, 1, [  7.07,   0.  ,   7.07]) (0, 8, [ 10.  ,   0.  ,  -0.  ])\n",
      " (0, 2, [  0.  ,   0.  ,  10.  ]) (0, 5, [ -7.07,   0.  ,  -7.07])\n",
      " (0, 2, [  0.  ,   0.  ,  10.  ]) (0, 8, [ 10.  ,   0.  ,  -0.  ])\n",
      " (0, 6, [ -0.  ,   0.  , -10.  ]) (0, 5, [ -7.07,   0.  ,  -7.07])\n",
      " (0, 3, [ -7.07,   0.  ,   7.07]) (0, 7, [  7.07,   0.  ,  -7.07])\n",
      " (0, 1, [  7.07,   0.  ,   7.07]) (0, 4, [-10.  ,   0.  ,   0.  ])\n",
      " (0, 5, [ -7.07,   0.  ,  -7.07]) (0, 8, [ 10.  ,   0.  ,  -0.  ])\n",
      " (0, 6, [ -0.  ,   0.  , -10.  ]) (0, 4, [-10.  ,   0.  ,   0.  ])\n",
      " (0, 1, [  7.07,   0.  ,   7.07]) (0, 7, [  7.07,   0.  ,  -7.07])\n",
      " (0, 3, [ -7.07,   0.  ,   7.07]) (0, 2, [  0.  ,   0.  ,  10.  ])\n",
      " (0, 8, [ 10.  ,   0.  ,  -0.  ]) (0, 3, [ -7.07,   0.  ,   7.07])\n",
      " (0, 6, [ -0.  ,   0.  , -10.  ]) (0, 2, [  0.  ,   0.  ,  10.  ])\n",
      " (0, 4, [-10.  ,   0.  ,   0.  ]) (0, 7, [  7.07,   0.  ,  -7.07])\n",
      " (0, 5, [ -7.07,   0.  ,  -7.07]) (0, 1, [  7.07,   0.  ,   7.07])\n",
      " (0, 5, [ -7.07,   0.  ,  -7.07]) (0, 3, [ -7.07,   0.  ,   7.07])\n",
      " (0, 1, [  7.07,   0.  ,   7.07]) (0, 4, [-10.  ,   0.  ,   0.  ])\n",
      " (0, 7, [  7.07,   0.  ,  -7.07]) (0, 6, [ -0.  ,   0.  , -10.  ])\n",
      " (0, 2, [  0.  ,   0.  ,  10.  ]) (0, 8, [ 10.  ,   0.  ,  -0.  ])\n",
      " (0, 2, [  0.  ,   0.  ,  10.  ]) (0, 7, [  7.07,   0.  ,  -7.07])\n",
      " (0, 1, [  7.07,   0.  ,   7.07]) (0, 6, [ -0.  ,   0.  , -10.  ])\n",
      " (0, 3, [ -7.07,   0.  ,   7.07]) (0, 8, [ 10.  ,   0.  ,  -0.  ])\n",
      " (0, 4, [-10.  ,   0.  ,   0.  ]) (0, 5, [ -7.07,   0.  ,  -7.07])\n",
      " (0, 2, [  0.  ,   0.  ,  10.  ]) (0, 4, [-10.  ,   0.  ,   0.  ])\n",
      " (0, 3, [ -7.07,   0.  ,   7.07]) (0, 1, [  7.07,   0.  ,   7.07])\n",
      " (0, 5, [ -7.07,   0.  ,  -7.07]) (0, 6, [ -0.  ,   0.  , -10.  ])\n",
      " (0, 8, [ 10.  ,   0.  ,  -0.  ]) (0, 7, [  7.07,   0.  ,  -7.07])\n",
      " (0, 7, [  7.07,   0.  ,  -7.07]) (0, 4, [-10.  ,   0.  ,   0.  ])\n",
      " (0, 6, [ -0.  ,   0.  , -10.  ]) (0, 1, [  7.07,   0.  ,   7.07])\n",
      " (0, 2, [  0.  ,   0.  ,  10.  ]) (0, 3, [ -7.07,   0.  ,   7.07])\n",
      " (0, 8, [ 10.  ,   0.  ,  -0.  ]) (0, 5, [ -7.07,   0.  ,  -7.07])\n",
      " (0, 4, [-10.  ,   0.  ,   0.  ]) (0, 5, [ -7.07,   0.  ,  -7.07])\n",
      " (0, 8, [ 10.  ,   0.  ,  -0.  ]) (0, 2, [  0.  ,   0.  ,  10.  ])\n",
      " (0, 6, [ -0.  ,   0.  , -10.  ]) (0, 7, [  7.07,   0.  ,  -7.07])\n",
      " (0, 1, [  7.07,   0.  ,   7.07]) (0, 3, [ -7.07,   0.  ,   7.07])\n",
      " (0, 3, [ -7.07,   0.  ,   7.07]) (0, 6, [ -0.  ,   0.  , -10.  ])\n",
      " (0, 8, [ 10.  ,   0.  ,  -0.  ]) (0, 4, [-10.  ,   0.  ,   0.  ])\n",
      " (0, 1, [  7.07,   0.  ,   7.07]) (0, 7, [  7.07,   0.  ,  -7.07])\n",
      " (0, 5, [ -7.07,   0.  ,  -7.07]) (0, 2, [  0.  ,   0.  ,  10.  ])\n",
      " (0, 3, [ -7.07,   0.  ,   7.07]) (0, 6, [ -0.  ,   0.  , -10.  ])\n",
      " (0, 2, [  0.  ,   0.  ,  10.  ]) (0, 5, [ -7.07,   0.  ,  -7.07])\n",
      " (0, 1, [  7.07,   0.  ,   7.07]) (0, 8, [ 10.  ,   0.  ,  -0.  ])\n",
      " (0, 4, [-10.  ,   0.  ,   0.  ]) (0, 7, [  7.07,   0.  ,  -7.07])\n",
      " (0, 1, [  7.07,   0.  ,   7.07]) (0, 6, [ -0.  ,   0.  , -10.  ])\n",
      " (0, 3, [ -7.07,   0.  ,   7.07]) (0, 4, [-10.  ,   0.  ,   0.  ])\n",
      " (0, 5, [ -7.07,   0.  ,  -7.07]) (0, 7, [  7.07,   0.  ,  -7.07])\n",
      " (0, 8, [ 10.  ,   0.  ,  -0.  ]) (0, 2, [  0.  ,   0.  ,  10.  ])\n",
      " (0, 8, [ 10.  ,   0.  ,  -0.  ]) (0, 2, [  0.  ,   0.  ,  10.  ])\n",
      " (0, 3, [ -7.07,   0.  ,   7.07]) (0, 7, [  7.07,   0.  ,  -7.07])\n",
      " (0, 4, [-10.  ,   0.  ,   0.  ]) (0, 1, [  7.07,   0.  ,   7.07])\n",
      " (0, 5, [ -7.07,   0.  ,  -7.07]) (0, 6, [ -0.  ,   0.  , -10.  ])\n",
      " (0, 8, [ 10.  ,   0.  ,  -0.  ]) (0, 4, [-10.  ,   0.  ,   0.  ])\n",
      " (0, 3, [ -7.07,   0.  ,   7.07]) (0, 7, [  7.07,   0.  ,  -7.07])\n",
      " (0, 2, [  0.  ,   0.  ,  10.  ]) (0, 1, [  7.07,   0.  ,   7.07])\n",
      " (0, 6, [ -0.  ,   0.  , -10.  ]) (0, 5, [ -7.07,   0.  ,  -7.07])\n",
      " (0, 2, [  0.  ,   0.  ,  10.  ]) (0, 7, [  7.07,   0.  ,  -7.07])]\n"
     ]
    }
   ],
   "source": [
    "# get the unique target positions\n",
    "\n",
    "trials = exp_data['trials']\n",
    "\n",
    "print(trials)\n",
    "\n",
    "n_trials = len(trials)\n",
    "\n",
    "trial_targets = aopy.postproc.get_trial_targets(trials['trial'], trials['target'][:,[0,2]]) # (x, z, y) -> (x, y)\n",
    "\n",
    "unique_targets = np.unique(np.concatenate(([t[1] for t in trial_targets], trial_targets[0])), axis=0)"
   ]
  },
  {
   "cell_type": "code",
   "execution_count": 34,
   "metadata": {
    "ExecuteTime": {
     "end_time": "2021-10-08T23:03:53.769705Z",
     "start_time": "2021-10-08T23:03:53.758599Z"
    }
   },
   "outputs": [
    {
     "data": {
      "text/plain": [
       "(-10.0, 10.0, 0.0, 0.0, -10.0, 10.0)"
      ]
     },
     "execution_count": 34,
     "metadata": {},
     "output_type": "execute_result"
    }
   ],
   "source": [
    "\n",
    "\n",
    "exp_metadata['cursor_bounds']"
   ]
  },
  {
   "cell_type": "code",
   "execution_count": 35,
   "metadata": {
    "ExecuteTime": {
     "end_time": "2021-10-08T23:03:53.925799Z",
     "start_time": "2021-10-08T23:03:53.770413Z"
    }
   },
   "outputs": [
    {
     "data": {
      "image/png": "[encoded data removed]",
      "text/plain": [
       "<Figure size 576x576 with 1 Axes>"
      ]
     },
     "metadata": {
      "needs_background": "light"
     },
     "output_type": "display_data"
    }
   ],
   "source": [
    "fig, ax = plt.subplots(figsize=(8,8))\n",
    "bounds = np.array([-10, 10, -10, 10])\n",
    "aopy.visualization.plot_trajectories(cursor_trajectories[:10], bounds=bounds)\n",
    "aopy.visualization.plot_targets(unique_targets, exp_metadata['target_radius'])"
   ]
  },
  {
   "cell_type": "markdown",
   "metadata": {},
   "source": [
    "## Refactor out the data"
   ]
  },
  {
   "cell_type": "markdown",
   "metadata": {},
   "source": [
    "## Finished time in seconds"
   ]
  },
  {
   "cell_type": "markdown",
   "metadata": {},
   "source": [
    "# Post data analysis"
   ]
  },
  {
   "cell_type": "code",
   "execution_count": 36,
   "metadata": {
    "ExecuteTime": {
     "end_time": "2021-10-08T23:03:53.928227Z",
     "start_time": "2021-10-08T23:03:53.926592Z"
    }
   },
   "outputs": [],
   "source": [
    "import seaborn as sns\n"
   ]
  },
  {
   "cell_type": "markdown",
   "metadata": {},
   "source": [
    "## Total finished trials"
   ]
  },
  {
   "cell_type": "code",
   "execution_count": 37,
   "metadata": {
    "ExecuteTime": {
     "end_time": "2021-10-08T23:03:53.941649Z",
     "start_time": "2021-10-08T23:03:53.929064Z"
    },
    "scrolled": true
   },
   "outputs": [
    {
     "name": "stdout",
     "output_type": "stream",
     "text": [
      "0\n",
      "0\n",
      "0\n",
      "\n",
      "0\n",
      "0\n",
      "0\n"
     ]
    }
   ],
   "source": [
    "#calculate how many trials\n",
    "for e in  exps: print(e.calc_state_occurrences('reward'))\n",
    "print()\n",
    "\n",
    "for e in  exps: print(e.calc_trial_num())"
   ]
  },
  {
   "cell_type": "markdown",
   "metadata": {},
   "source": [
    "## Overall  trial statistics succuss rate)"
   ]
  },
  {
   "cell_type": "code",
   "execution_count": 38,
   "metadata": {
    "ExecuteTime": {
     "end_time": "2021-10-08T23:03:54.060233Z",
     "start_time": "2021-10-08T23:03:53.942376Z"
    }
   },
   "outputs": [
    {
     "ename": "TypeError",
     "evalue": "'float' object cannot be interpreted as an integer",
     "output_type": "error",
     "traceback": [
      "\u001b[0;31m---------------------------------------------------------------------------\u001b[0m",
      "\u001b[0;31mTypeError\u001b[0m                                 Traceback (most recent call last)",
      "\u001b[0;32m<ipython-input-38-d38ad73d60fa>\u001b[0m in \u001b[0;36m<module>\u001b[0;34m\u001b[0m\n\u001b[1;32m      5\u001b[0m \u001b[0mimportlib\u001b[0m\u001b[0;34m.\u001b[0m\u001b[0mreload\u001b[0m\u001b[0;34m(\u001b[0m\u001b[0mbehaviour_metrics\u001b[0m\u001b[0;34m)\u001b[0m\u001b[0;34m\u001b[0m\u001b[0;34m\u001b[0m\u001b[0m\n\u001b[1;32m      6\u001b[0m \u001b[0;34m\u001b[0m\u001b[0m\n\u001b[0;32m----> 7\u001b[0;31m \u001b[0mreward_events_per_minute\u001b[0m \u001b[0;34m=\u001b[0m \u001b[0;34m[\u001b[0m\u001b[0mbehaviour_metrics\u001b[0m\u001b[0;34m.\u001b[0m\u001b[0mcalc_event_rate_from_state_log\u001b[0m\u001b[0;34m(\u001b[0m\u001b[0me\u001b[0m\u001b[0;34m.\u001b[0m\u001b[0mstate_log\u001b[0m\u001b[0;34m,\u001b[0m\u001b[0;34m'reward'\u001b[0m\u001b[0;34m,\u001b[0m\u001b[0mwindow_length\u001b[0m\u001b[0;34m=\u001b[0m\u001b[0;36m30\u001b[0m\u001b[0;34m)\u001b[0m \u001b[0;32mfor\u001b[0m \u001b[0me\u001b[0m \u001b[0;32min\u001b[0m \u001b[0mexps\u001b[0m\u001b[0;34m]\u001b[0m\u001b[0;34m\u001b[0m\u001b[0;34m\u001b[0m\u001b[0m\n\u001b[0m\u001b[1;32m      8\u001b[0m \u001b[0mreward_events_per_minute\u001b[0m \u001b[0;34m=\u001b[0m \u001b[0mnp\u001b[0m\u001b[0;34m.\u001b[0m\u001b[0marray\u001b[0m\u001b[0;34m(\u001b[0m\u001b[0mreward_events_per_minute\u001b[0m\u001b[0;34m)\u001b[0m\u001b[0;34m\u001b[0m\u001b[0;34m\u001b[0m\u001b[0m\n\u001b[1;32m      9\u001b[0m \u001b[0;34m\u001b[0m\u001b[0m\n",
      "\u001b[0;32m<ipython-input-38-d38ad73d60fa>\u001b[0m in \u001b[0;36m<listcomp>\u001b[0;34m(.0)\u001b[0m\n\u001b[1;32m      5\u001b[0m \u001b[0mimportlib\u001b[0m\u001b[0;34m.\u001b[0m\u001b[0mreload\u001b[0m\u001b[0;34m(\u001b[0m\u001b[0mbehaviour_metrics\u001b[0m\u001b[0;34m)\u001b[0m\u001b[0;34m\u001b[0m\u001b[0;34m\u001b[0m\u001b[0m\n\u001b[1;32m      6\u001b[0m \u001b[0;34m\u001b[0m\u001b[0m\n\u001b[0;32m----> 7\u001b[0;31m \u001b[0mreward_events_per_minute\u001b[0m \u001b[0;34m=\u001b[0m \u001b[0;34m[\u001b[0m\u001b[0mbehaviour_metrics\u001b[0m\u001b[0;34m.\u001b[0m\u001b[0mcalc_event_rate_from_state_log\u001b[0m\u001b[0;34m(\u001b[0m\u001b[0me\u001b[0m\u001b[0;34m.\u001b[0m\u001b[0mstate_log\u001b[0m\u001b[0;34m,\u001b[0m\u001b[0;34m'reward'\u001b[0m\u001b[0;34m,\u001b[0m\u001b[0mwindow_length\u001b[0m\u001b[0;34m=\u001b[0m\u001b[0;36m30\u001b[0m\u001b[0;34m)\u001b[0m \u001b[0;32mfor\u001b[0m \u001b[0me\u001b[0m \u001b[0;32min\u001b[0m \u001b[0mexps\u001b[0m\u001b[0;34m]\u001b[0m\u001b[0;34m\u001b[0m\u001b[0;34m\u001b[0m\u001b[0m\n\u001b[0m\u001b[1;32m      8\u001b[0m \u001b[0mreward_events_per_minute\u001b[0m \u001b[0;34m=\u001b[0m \u001b[0mnp\u001b[0m\u001b[0;34m.\u001b[0m\u001b[0marray\u001b[0m\u001b[0;34m(\u001b[0m\u001b[0mreward_events_per_minute\u001b[0m\u001b[0;34m)\u001b[0m\u001b[0;34m\u001b[0m\u001b[0;34m\u001b[0m\u001b[0m\n\u001b[1;32m      9\u001b[0m \u001b[0;34m\u001b[0m\u001b[0m\n",
      "\u001b[0;32m~/BMi3D_my/operation_funny_chicken/adaptive_feature_selection/behaviour_metrics.py\u001b[0m in \u001b[0;36mcalc_event_rate_from_state_log\u001b[0;34m(state_log, event_name, window_length_in_frames, FRAME_RATE, **kwargs)\u001b[0m\n\u001b[1;32m    170\u001b[0m     \u001b[0mwindow_length\u001b[0m \u001b[0;34m=\u001b[0m \u001b[0mwindow_length_in_frames\u001b[0m \u001b[0;34m/\u001b[0m \u001b[0mFRAME_RATE\u001b[0m\u001b[0;34m\u001b[0m\u001b[0;34m\u001b[0m\u001b[0m\n\u001b[1;32m    171\u001b[0m \u001b[0;34m\u001b[0m\u001b[0m\n\u001b[0;32m--> 172\u001b[0;31m     \u001b[0mevent_record\u001b[0m \u001b[0;34m=\u001b[0m \u001b[0mgenerate_event_array\u001b[0m\u001b[0;34m(\u001b[0m\u001b[0mstate_log\u001b[0m\u001b[0;34m,\u001b[0m \u001b[0mevent_name\u001b[0m\u001b[0;34m,\u001b[0m \u001b[0mFRAME_RATE\u001b[0m \u001b[0;34m=\u001b[0m \u001b[0mFRAME_RATE\u001b[0m\u001b[0;34m,\u001b[0m \u001b[0;34m**\u001b[0m\u001b[0mkwargs\u001b[0m\u001b[0;34m)\u001b[0m\u001b[0;34m\u001b[0m\u001b[0;34m\u001b[0m\u001b[0m\n\u001b[0m\u001b[1;32m    173\u001b[0m \u001b[0;34m\u001b[0m\u001b[0m\n\u001b[1;32m    174\u001b[0m     \u001b[0;32mreturn\u001b[0m \u001b[0mcalc_event_rate\u001b[0m\u001b[0;34m(\u001b[0m\u001b[0mevent_record\u001b[0m\u001b[0;34m,\u001b[0m \u001b[0mwindow_length\u001b[0m \u001b[0;34m=\u001b[0m \u001b[0mwindow_length\u001b[0m\u001b[0;34m,\u001b[0m \u001b[0mFS\u001b[0m \u001b[0;34m=\u001b[0m \u001b[0mFRAME_RATE\u001b[0m\u001b[0;34m)\u001b[0m\u001b[0;34m\u001b[0m\u001b[0;34m\u001b[0m\u001b[0m\n",
      "\u001b[0;32m~/BMi3D_my/operation_funny_chicken/adaptive_feature_selection/behaviour_metrics.py\u001b[0m in \u001b[0;36mgenerate_event_array\u001b[0;34m(state_log, event_name, total_time, FRAME_RATE, **kwargs)\u001b[0m\n\u001b[1;32m    197\u001b[0m \u001b[0;34m\u001b[0m\u001b[0m\n\u001b[1;32m    198\u001b[0m \u001b[0;34m\u001b[0m\u001b[0m\n\u001b[0;32m--> 199\u001b[0;31m     \u001b[0mevent_record\u001b[0m \u001b[0;34m=\u001b[0m \u001b[0mnp\u001b[0m\u001b[0;34m.\u001b[0m\u001b[0mzeros\u001b[0m\u001b[0;34m(\u001b[0m\u001b[0mtotal_num_frames\u001b[0m\u001b[0;34m)\u001b[0m\u001b[0;34m\u001b[0m\u001b[0;34m\u001b[0m\u001b[0m\n\u001b[0m\u001b[1;32m    200\u001b[0m     \u001b[0;31m#proc state log\u001b[0m\u001b[0;34m\u001b[0m\u001b[0;34m\u001b[0m\u001b[0;34m\u001b[0m\u001b[0m\n\u001b[1;32m    201\u001b[0m     \u001b[0;31m#each state has a ('state', time in float)\u001b[0m\u001b[0;34m\u001b[0m\u001b[0;34m\u001b[0m\u001b[0;34m\u001b[0m\u001b[0m\n",
      "\u001b[0;31mTypeError\u001b[0m: 'float' object cannot be interpreted as an integer"
     ]
    }
   ],
   "source": [
    "import behaviour_metrics\n",
    "import importlib\n",
    "\n",
    "sns.set_context(context = 'talk')\n",
    "importlib.reload(behaviour_metrics)\n",
    "\n",
    "reward_events_per_minute = [behaviour_metrics.calc_event_rate_from_state_log(e.state_log,'reward',window_length=30) for e in exps]\n",
    "reward_events_per_minute = np.array(reward_events_per_minute)\n",
    "\n",
    "print(reward_events_per_minute)\n",
    "plt.plot(reward_events_per_minute.T)\n",
    "plt.legend(exp_conds, bbox_to_anchor=(1, -0.1))\n",
    "plt.xlabel('Time (min)')\n",
    "plt.ylabel('Rewards (#)')"
   ]
  },
  {
   "cell_type": "markdown",
   "metadata": {},
   "source": [
    "## Sort into trials"
   ]
  },
  {
   "cell_type": "code",
   "execution_count": null,
   "metadata": {
    "ExecuteTime": {
     "end_time": "2021-10-08T23:03:54.061262Z",
     "start_time": "2021-10-08T22:59:59.612Z"
    }
   },
   "outputs": [],
   "source": [
    "state_log = e.state_log\n",
    "segmented_trials = behaviour_metrics.segment_trials_in_state_log(state_log)"
   ]
  },
  {
   "cell_type": "code",
   "execution_count": null,
   "metadata": {
    "ExecuteTime": {
     "end_time": "2021-10-08T23:03:54.061685Z",
     "start_time": "2021-10-08T22:59:59.615Z"
    }
   },
   "outputs": [],
   "source": [
    "trial_dicts_all = []\n",
    "dict_keys = ['cursor', #behaviour\n",
    "             'ctrl_input', 'spike_counts', #encoder translates intended ctrl into spike counts\n",
    "             'decoder_state']\n",
    "\n",
    "\n",
    "for i in range(NUM_EXP):\n",
    "    \n",
    "    segmented_trials = behaviour_metrics.segment_trials_in_state_log(exps[i].state_log)\n",
    "\n",
    "    task_data_hist_np = task_data_hist_np_all[i]\n",
    "    trial_dict_0 = behaviour_metrics.sort_trials_use_segmented_log(segmented_trials, \n",
    "                               target_seq,\n",
    "                               task_data_hist_np, dict_keys)\n",
    "    \n",
    "    trial_dicts_all.append(trial_dict_0)\n",
    "\n",
    "for t in trial_dicts_all: print(len(t))"
   ]
  },
  {
   "cell_type": "markdown",
   "metadata": {},
   "source": [
    "# Behaviour  analyses"
   ]
  },
  {
   "cell_type": "markdown",
   "metadata": {},
   "source": [
    "## Trajectory analysis"
   ]
  },
  {
   "cell_type": "code",
   "execution_count": null,
   "metadata": {
    "ExecuteTime": {
     "end_time": "2021-10-08T23:03:54.062067Z",
     "start_time": "2021-10-08T22:59:59.618Z"
    }
   },
   "outputs": [],
   "source": [
    "import afs_plotting\n",
    "importlib.reload(afs_plotting)"
   ]
  },
  {
   "cell_type": "code",
   "execution_count": null,
   "metadata": {
    "ExecuteTime": {
     "end_time": "2021-10-08T23:03:54.062442Z",
     "start_time": "2021-10-08T22:59:59.620Z"
    }
   },
   "outputs": [],
   "source": [
    "figure_trajectory, axes_trajectory = plt.subplots(1, NUM_EXP, figsize = (NUM_EXP * GLOBAL_FIGURE_VERTICAL_SIZE, \n",
    "                                                  GLOBAL_FIGURE_VERTICAL_SIZE)) \n",
    "\n",
    "\n",
    "n_roi_trials = 0\n",
    "\n",
    "CIRCLE_RADIUS = exps[0].target_radius\n",
    "\n",
    "print(CIRCLE_RADIUS)\n",
    "\n",
    "for i,axes in enumerate(axes_trajectory): \n",
    "\n",
    "    afs_plotting.add_center_out_grid(axes, target_seq, CIRCLE_RADIUS)\n",
    "    \n",
    "    \n",
    "    sample_trial = trial_dicts_all[i][n_roi_trials]\n",
    "    trial_cursor_trajectory = sample_trial['cursor']\n",
    "    \n",
    "    afs_plotting.plot_trial_trajectory(axes, trial_cursor_trajectory)\n",
    "\n",
    "    axes.set_title(f'Trial {N_TRIALS} of {exp_conds[i]} ')\n",
    "\n"
   ]
  },
  {
   "cell_type": "markdown",
   "metadata": {},
   "source": [
    "## Variance analysis"
   ]
  },
  {
   "cell_type": "code",
   "execution_count": null,
   "metadata": {
    "ExecuteTime": {
     "end_time": "2021-10-08T23:03:54.062812Z",
     "start_time": "2021-10-08T22:59:59.622Z"
    }
   },
   "outputs": [],
   "source": [
    "importlib.reload(behaviour_metrics)"
   ]
  },
  {
   "cell_type": "code",
   "execution_count": null,
   "metadata": {
    "ExecuteTime": {
     "end_time": "2021-10-08T23:03:54.063198Z",
     "start_time": "2021-10-08T22:59:59.626Z"
    },
    "scrolled": true
   },
   "outputs": [],
   "source": [
    "arc_length = [behaviour_metrics.calc_arc_length_from_trial_dict(trial_dict) for trial_dict in trial_dicts_all]\n",
    "for al in arc_length: plt.plot(al)\n",
    "plt.legend(exp_conds)"
   ]
  },
  {
   "cell_type": "markdown",
   "metadata": {},
   "source": [
    "# Kalman filter"
   ]
  },
  {
   "cell_type": "markdown",
   "metadata": {},
   "source": [
    "## encoder\n",
    "\n",
    "the job of the encoder is to directly encode intention into firing rates\n",
    "the direct measure is just pearson correlation coefficients between \n",
    "the intentions and the firing rates"
   ]
  },
  {
   "cell_type": "markdown",
   "metadata": {},
   "source": [
    "## decoder"
   ]
  },
  {
   "cell_type": "code",
   "execution_count": null,
   "metadata": {
    "ExecuteTime": {
     "end_time": "2021-10-08T23:03:54.063658Z",
     "start_time": "2021-10-08T22:59:59.629Z"
    },
    "scrolled": false
   },
   "outputs": [],
   "source": [
    "from afs_plotting import plot_prefered_directions\n",
    "\n",
    "TEXT_OFFSET_VERTICAL = -0.2\n",
    "\n",
    "\n",
    "figure_decoder_C.suptitle('KF C matrix before and after CLDA')\n",
    "\n",
    "print('steady state tuning curves:')\n",
    "\n",
    "for  i,e in enumerate(exps): \n",
    "\n",
    "    e = exps[i]\n",
    "    C = e.decoder.filt.C\n",
    "\n",
    "    plot_prefered_directions(C, ax = axs_decoder_C[1,i])\n",
    "    axs_decoder_C[1,i].set_title(f'{exp_conds[i]}')\n",
    "\n",
    "figure_decoder_C"
   ]
  },
  {
   "cell_type": "markdown",
   "metadata": {},
   "source": [
    "## Decoder compared to the encoder\n",
    "\n"
   ]
  },
  {
   "cell_type": "code",
   "execution_count": null,
   "metadata": {
    "ExecuteTime": {
     "end_time": "2021-10-08T23:03:54.064056Z",
     "start_time": "2021-10-08T22:59:59.632Z"
    }
   },
   "outputs": [],
   "source": [
    "len(exps)"
   ]
  },
  {
   "cell_type": "code",
   "execution_count": null,
   "metadata": {
    "ExecuteTime": {
     "end_time": "2021-10-08T23:03:54.064492Z",
     "start_time": "2021-10-08T22:59:59.635Z"
    }
   },
   "outputs": [],
   "source": [
    "import convergence_analysis\n",
    "importlib.reload(convergence_analysis)\n",
    "from convergence_analysis import calc_cosine_sim_bet_two_matrices, calc_cosine_to_target_matrix\n",
    "\n",
    "active_feat_set = exps[2]._active_feat_set\n",
    "\n",
    "\n",
    "for i,e in enumerate(exps):\n",
    "    enc_directions = e.encoder.C\n",
    "    dec_directions = np.array(e._used_C_mat_list)\n",
    "    \n",
    "\n",
    "    angles_hist = calc_cosine_to_target_matrix( dec_directions,enc_directions)\n",
    "    \n",
    "    if i == 0:\n",
    "        active_angles = np.mean(angles_hist[:,noise_neuron_list], axis = 1)\n",
    "        plt.plot(active_angles)\n",
    "    \n",
    "    active_angles = np.mean(angles_hist[:,active_feat_set], axis = 1)\n",
    "    \n",
    "    plt.plot(active_angles)\n",
    "\n"
   ]
  },
  {
   "cell_type": "markdown",
   "metadata": {},
   "source": []
  },
  {
   "cell_type": "markdown",
   "metadata": {},
   "source": [
    "## looking at K matrix"
   ]
  },
  {
   "cell_type": "code",
   "execution_count": null,
   "metadata": {
    "ExecuteTime": {
     "end_time": "2021-10-08T23:03:54.064888Z",
     "start_time": "2021-10-08T22:59:59.639Z"
    }
   },
   "outputs": [],
   "source": [
    "figure_k_matrix, axes_k_matrix = plt.subplots(2,NUM_EXP,\n",
    "                                          figsize = (GLOBAL_FIGURE_VERTICAL_SIZE * NUM_EXP,\n",
    "                                                    GLOBAL_FIGURE_VERTICAL_SIZE * 2))\n",
    "\n",
    "for i,e in enumerate(exps):\n",
    "    K = (e._used_K_mat_list[1]).T\n",
    "\n",
    "    plot_prefered_directions(K, ax  = axes_k_matrix[0, i])\n",
    "    axes_k_matrix[0, i].set_title(exp_conds[i])\n",
    "\n",
    "for i,e in enumerate(exps):\n",
    "    K = (e._used_K_mat_list[-1]).T\n",
    "    plot_prefered_directions(K, ax  = axes_k_matrix[1, i])\n",
    "    axes_k_matrix[1,i].set_title(exp_conds[i])\n",
    "    \n",
    "    \n",
    "figure_k_matrix.tight_layout()"
   ]
  },
  {
   "cell_type": "markdown",
   "metadata": {},
   "source": [
    "# Feature analysis"
   ]
  },
  {
   "cell_type": "code",
   "execution_count": null,
   "metadata": {
    "ExecuteTime": {
     "end_time": "2021-10-08T23:03:54.065300Z",
     "start_time": "2021-10-08T22:59:59.642Z"
    },
    "scrolled": true
   },
   "outputs": [],
   "source": [
    "from matplotlib import colors\n",
    "\n",
    "\n",
    "\n",
    "fig_feature_active_map, axes_feat_active_map = plt.subplots(1, NUM_EXP,\n",
    "                                                            figsize = ( NUM_EXP * GLOBAL_FIGURE_VERTICAL_SIZE,\n",
    "                                                                      GLOBAL_FIGURE_VERTICAL_SIZE),\n",
    "                                                           sharey = True)\n",
    "axes_feat_active_map[0].set_ylabel('Learner Batch number')\n",
    "\n",
    "#color true to yellow\n",
    "cmap = colors.ListedColormap(['yellow'])\n",
    "\n",
    "for i, exp in enumerate(exps):\n",
    "\n",
    "    active_feat_heat_map = np.array(exp._active_feat_set_list, dtype = np.int32)\n",
    "    active_feat_heat_map = np.ma.masked_where(active_feat_heat_map == False, active_feat_heat_map)\n",
    "    a = axes_feat_active_map[i].imshow(active_feat_heat_map, cmap = cmap)\n",
    "\n",
    "    #color false to blue\n",
    "    cmap.set_bad(color='blue')\n",
    "    \n",
    "    axes_feat_active_map[i].set_xlabel('All features')\n",
    "    axes_feat_active_map[i].set_title(exp_conds[i])\n",
    "\n",
    "\n",
    "#fig_feature_active_map.colorbar(a, ax=axes_feat_active_map.ravel().tolist())"
   ]
  },
  {
   "cell_type": "markdown",
   "metadata": {},
   "source": [
    "## Examine used K mat"
   ]
  },
  {
   "cell_type": "markdown",
   "metadata": {},
   "source": [
    "## examine used C mat"
   ]
  },
  {
   "cell_type": "code",
   "execution_count": null,
   "metadata": {
    "ExecuteTime": {
     "end_time": "2021-10-08T23:03:54.065780Z",
     "start_time": "2021-10-08T22:59:59.645Z"
    }
   },
   "outputs": [],
   "source": [
    "import weights_linear_regression\n",
    "importlib.reload(weights_linear_regression)\n",
    "from weights_linear_regression import calc_a_history_of_matrix_L2norms_along_first_axis\n",
    "\n",
    "\n",
    "figure_weights_norm, axes_weights_norm = plt.subplots( NUM_EXP, N_TYPES_OF_NEURONS,\n",
    "    figsize = (N_TYPES_OF_NEURONS * GLOBAL_FIGURE_VERTICAL_SIZE, NUM_EXP * GLOBAL_FIGURE_VERTICAL_SIZE))\n",
    "\n",
    "C_mat_all = list()\n",
    "\n",
    "for j,exp in enumerate(exps):\n",
    "    \n",
    "    updated_C_mat = np.array(exp._used_C_mat_list)\n",
    "    the_history_of_KF_weights_in_time_by_neurons = calc_a_history_of_matrix_L2norms_along_first_axis(updated_C_mat, debug = False)\n",
    "\n",
    "    C_mat_all.append(np.copy(updated_C_mat))\n",
    "    axe_exp = axes_weights_norm[j,:]\n",
    "    for i,a in enumerate(axe_exp):\n",
    "        a.plot(the_history_of_KF_weights_in_time_by_neurons[:, neuron_type_indices_in_a_list[i]])\n",
    "        a.set_xlabel('Batch number')\n",
    "        a.set_ylabel('Weight')\n",
    "        \n",
    "C_mat_all = np.array(C_mat_all)"
   ]
  },
  {
   "cell_type": "code",
   "execution_count": null,
   "metadata": {
    "ExecuteTime": {
     "end_time": "2021-10-08T23:03:54.066213Z",
     "start_time": "2021-10-08T22:59:59.649Z"
    },
    "scrolled": true
   },
   "outputs": [],
   "source": [
    "fig_compr_means, axes_compr_means = plt.subplots(1, N_TYPES_OF_NEURONS,\n",
    "                                                figsize = (GLOBAL_FIGURE_VERTICAL_SIZE * N_TYPES_OF_NEURONS,\n",
    "                                                          GLOBAL_FIGURE_VERTICAL_SIZE),\n",
    "                                                sharey = True)\n",
    "selected_feature_set = no_noise_neuron_list\n",
    "for i,a in enumerate(axes_compr_means):\n",
    "\n",
    "    type_neuron_list = neuron_type_bool_list[i]\n",
    "    \n",
    "    for C in C_mat_all:\n",
    "\n",
    "\n",
    "        the_history_of_KF_weights_in_time_by_neurons = calc_a_history_of_matrix_L2norms_along_first_axis(C, \n",
    "                                                                                                         target_C=e.encoder.C,\n",
    "                                                                indices_to_sum=(X_VEL_STATE_IND, Y_VEL_STATE_IND))\n",
    "\n",
    "\n",
    "        selected_neurons = np.logical_and(selected_feature_set, type_neuron_list)\n",
    "\n",
    "        selected_mean = np.mean(the_history_of_KF_weights_in_time_by_neurons[:,selected_neurons], axis = 1)\n",
    "        std = np.std(the_history_of_KF_weights_in_time_by_neurons[:,selected_neurons], axis = 1)\n",
    "        \n",
    "        line = a.plot(selected_mean)\n",
    "        \n",
    "        x_data = np.arange((selected_mean).shape[0])\n",
    "        \n",
    "        \n",
    "        a.fill_between(x_data ,selected_mean - std, selected_mean + std, alpha = 0.1 )\n",
    "        a.legend(exp_conds)\n",
    "        \n",
    "handles, labels = a.get_legend_handles_labels()\n",
    "fig_compr_means.legend(handles, labels, loc='lower center')\n",
    "plt.show()\n",
    "    \n",
    "#axes_compr_means.set_title('Means of the high SNR weight trajectory')"
   ]
  }
 ],
 "metadata": {
  "kernelspec": {
   "display_name": "Python 3",
   "language": "python",
   "name": "python3"
  },
  "language_info": {
   "codemirror_mode": {
    "name": "ipython",
    "version": 3
   },
   "file_extension": ".py",
   "mimetype": "text/x-python",
   "name": "python",
   "nbconvert_exporter": "python",
   "pygments_lexer": "ipython3",
   "version": "3.8.10"
  },
  "toc": {
   "base_numbering": 1,
   "nav_menu": {},
   "number_sections": true,
   "sideBar": true,
   "skip_h1_title": false,
   "title_cell": "Table of Contents",
   "title_sidebar": "Contents",
   "toc_cell": false,
   "toc_position": {
    "height": "600.8px",
    "left": "35px",
    "top": "353.8px",
    "width": "312.06px"
   },
   "toc_section_display": true,
   "toc_window_display": true
  },
  "varInspector": {
   "cols": {
    "lenName": 16,
    "lenType": 16,
    "lenVar": 40
   },
   "kernels_config": {
    "python": {
     "delete_cmd_postfix": "",
     "delete_cmd_prefix": "del ",
     "library": "var_list.py",
     "varRefreshCmd": "print(var_dic_list())"
    },
    "r": {
     "delete_cmd_postfix": ") ",
     "delete_cmd_prefix": "rm(",
     "library": "var_list.r",
     "varRefreshCmd": "cat(var_dic_list()) "
    }
   },
   "types_to_exclude": [
    "module",
    "function",
    "builtin_function_or_method",
    "instance",
    "_Feature"
   ],
   "window_display": false
  }
 },
 "nbformat": 4,
 "nbformat_minor": 4
}
