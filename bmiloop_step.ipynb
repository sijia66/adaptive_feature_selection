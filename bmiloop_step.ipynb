{
 "cells": [
  {
   "cell_type": "markdown",
   "metadata": {},
   "source": [
    "# Purposes of this document\n",
    "\n",
    "the goal of this jupyter is to run the BMIloop in steps  \n",
    "we can  \n",
    "1. understand what is happening. \n",
    "2. develop new components  \n",
    "\n",
    "along these reasons,  \n",
    "we will clearly point out where the components are  \n",
    "we focus on how information is transmitted between components  \n",
    "\n",
    "note all of this is in the branch sijia as of 2021 Jan\n"
   ]
  },
  {
   "cell_type": "markdown",
   "metadata": {},
   "source": [
    "# setting up the simulation components\n",
    "\n",
    "this section largely copyied and pasted from   \n",
    "bmi3d-sijia(branch)-bulti_in_experiemnts\n",
    "https://github.com/sijia66/brain-python-interface/blob/master/built_in_tasks/sim_task_KF.py"
   ]
  },
  {
   "cell_type": "code",
   "execution_count": 1,
   "metadata": {
    "ExecuteTime": {
     "end_time": "2021-01-19T18:17:40.789947Z",
     "start_time": "2021-01-19T18:17:40.228110Z"
    }
   },
   "outputs": [
    {
     "name": "stderr",
     "output_type": "stream",
     "text": [
      "/home/sijia-aw/BMi3D_my/lab_bmi3d/riglib/blackrock/cerelink.py:13: UserWarning: Unable to import cerebus library. Check if is installed if using the Blackrock NeuroPort system\n",
      "  warnings.warn(\"Unable to import cerebus library. Check if is installed if using the Blackrock NeuroPort system\")\n"
     ]
    }
   ],
   "source": [
    "# import libraries\n",
    "# make sure these directories are in the python path., \n",
    "from bmimultitasks import SimBMIControlMulti, SimBMICosEncKFDec, BMIControlMultiNoWindow\n",
    "from features import SaveHDF\n",
    "from features.simulation_features import get_enc_setup, SimKFDecoderRandom, SimCosineTunedEnc,SimIntentionLQRController, SimClockTick\n",
    "from features.simulation_features import SimHDF, SimTime\n",
    "\n",
    "from riglib import experiment\n",
    "\n",
    "from riglib.stereo_opengl.window import FakeWindow\n",
    "\n",
    "import time\n",
    "import numpy as np"
   ]
  },
  {
   "cell_type": "markdown",
   "metadata": {},
   "source": [
    "##  set up trial information"
   ]
  },
  {
   "cell_type": "code",
   "execution_count": 2,
   "metadata": {
    "ExecuteTime": {
     "end_time": "2021-01-19T18:17:40.792838Z",
     "start_time": "2021-01-19T18:17:40.791073Z"
    }
   },
   "outputs": [],
   "source": [
    "#generate task params\n",
    "N_TARGETS = 8\n",
    "N_TRIALS = 1\n",
    "seq = SimBMIControlMulti.sim_target_seq_generator_multi(\n",
    "N_TARGETS, N_TRIALS)"
   ]
  },
  {
   "cell_type": "markdown",
   "metadata": {},
   "source": [
    "##  simulation encoder decoder setup"
   ]
  },
  {
   "cell_type": "code",
   "execution_count": 3,
   "metadata": {
    "ExecuteTime": {
     "end_time": "2021-01-19T18:17:40.796322Z",
     "start_time": "2021-01-19T18:17:40.793733Z"
    }
   },
   "outputs": [
    {
     "name": "stdout",
     "output_type": "stream",
     "text": [
      "features.simulation_features: get_enc_setup has a tuning_level of 1 \n",
      "\n"
     ]
    }
   ],
   "source": [
    "#clda on random \n",
    "DECODER_MODE = 'trainedKF' # in this case we load simulation_features.SimKFDecoderRandom\n",
    "ENCODER_TYPE = 'cosine_tuned_encoder'\n",
    "LEARNER_TYPE = 'dumb' # to dumb or not dumb it is a question 'feedback'\n",
    "UPDATER_TYPE = 'none' #none or \"smooth_batch\"\n",
    "\n",
    "\n",
    "SAVE_HDF = False\n",
    "\n",
    "SAVE_SIM_HDF = True #this makes the task data available as exp.task_data_hist\n",
    "\n",
    "DEBUG_FEATURE = False\n",
    "\n",
    "#neuron set up : 'std (20 neurons)' or 'toy (4 neurons)' \n",
    "N_NEURONS, N_STATES, sim_C = get_enc_setup(sim_mode = 'toy')"
   ]
  },
  {
   "cell_type": "markdown",
   "metadata": {},
   "source": [
    "## from the setup options, set up experiment"
   ]
  },
  {
   "cell_type": "code",
   "execution_count": 4,
   "metadata": {
    "ExecuteTime": {
     "end_time": "2021-01-19T18:17:40.801452Z",
     "start_time": "2021-01-19T18:17:40.797182Z"
    }
   },
   "outputs": [
    {
     "name": "stdout",
     "output_type": "stream",
     "text": [
      "__main__: selected SimCosineTunedEnc\n",
      "\n",
      "__main__: set decoder to SimKFDecoderSup\n",
      "\n",
      "__main__: need to specify an updater\n"
     ]
    }
   ],
   "source": [
    "# set up assist level\n",
    "assist_level = (0, 0)\n",
    "\n",
    "#base_class = SimBMIControlMulti\n",
    "base_class = BMIControlMultiNoWindow\n",
    "feats = []\n",
    "\n",
    "#set up intention feedbackcontroller\n",
    "#this ideally set before the encoder\n",
    "feats.append(SimIntentionLQRController)\n",
    "\n",
    "#set up the encoder\n",
    "if ENCODER_TYPE == 'cosine_tuned_encoder' :\n",
    "    feats.append(SimCosineTunedEnc)\n",
    "    print(f'{__name__}: selected SimCosineTunedEnc\\n')\n",
    "    \n",
    "    \n",
    "   #take care the decoder setup\n",
    "if DECODER_MODE == 'random':\n",
    "    feats.append(SimKFDecoderRandom)\n",
    "    print(f'{__name__}: set base class ')\n",
    "    print(f'{__name__}: selected SimKFDecoderRandom \\n')\n",
    "else: #defaul to a cosEnc and a pre-traind KF DEC\n",
    "    from features.simulation_features import SimKFDecoderSup\n",
    "    feats.append(SimKFDecoderSup)\n",
    "    print(f'{__name__}: set decoder to SimKFDecoderSup\\n')\n",
    "    \n",
    "    \n",
    "#you know what? \n",
    "#learner only collects firing rates labeled with estimated estimates\n",
    "#we would also need to use the labeled data\n",
    "#to update the decoder.\n",
    "if UPDATER_TYPE == 'smooth_batch':\n",
    "    from features.simulation_features import SimSmoothBatch\n",
    "    feats.append(SimSmoothBatch)\n",
    "else: #defaut to none \n",
    "    print(f'{__name__}: need to specify an updater')\n",
    "    \n",
    "if DEBUG_FEATURE: \n",
    "    from features.simulation_features import DebugFeature\n",
    "    feats.append(DebugFeature)\n",
    "    \n",
    "if SAVE_HDF: feats.append(SaveHDF)\n",
    "if SAVE_SIM_HDF: feats.append(SimHDF)\n",
    "    \n",
    "    \n",
    "#pass the real time limit on clock\n",
    "feats.append(SimClockTick)\n",
    "feats.append(SimTime)\n",
    "\n",
    "\n",
    "#save everthing in a kw\n",
    "kwargs = dict()\n",
    "kwargs['sim_C'] = sim_C"
   ]
  },
  {
   "cell_type": "markdown",
   "metadata": {},
   "source": [
    "## make our experiment class"
   ]
  },
  {
   "cell_type": "code",
   "execution_count": 5,
   "metadata": {
    "ExecuteTime": {
     "end_time": "2021-01-19T18:17:40.863272Z",
     "start_time": "2021-01-19T18:17:40.802563Z"
    },
    "scrolled": true
   },
   "outputs": [
    {
     "name": "stdout",
     "output_type": "stream",
     "text": [
      "metaclass constructor\n",
      "(<class 'features.simulation_features.SimIntentionLQRController'>, <class 'features.simulation_features.SimCosineTunedEnc'>, <class 'features.simulation_features.SimKFDecoderSup'>, <class 'features.simulation_features.SimHDF'>, <class 'features.simulation_features.SimClockTick'>, <class 'features.simulation_features.SimTime'>, <class 'bmimultitasks.BMIControlMultiNoWindow'>)\n",
      "[<class 'features.simulation_features.SimIntentionLQRController'>, <class 'features.simulation_features.SimCosineTunedEnc'>, <class 'features.simulation_features.SimKFDecoderSup'>, <class 'features.simulation_features.SimHDF'>, <class 'features.simulation_features.SimClockTick'>, <class 'features.simulation_features.SimTime'>]\n",
      "\n",
      "features.simulation_features.SimIntentionLQRController: LQRController used \n",
      "\n",
      "0.0\n",
      "0.0\n",
      "finished executing Experiment.__init__\n",
      "\n",
      "SimCosineTunedEnc SSM: State space: ['hand_px', 'hand_py', 'hand_pz', 'hand_vx', 'hand_vy', 'hand_vz', 'offset'] \n",
      "\n",
      "neural encoder init function  <BMIControlMultiNoWindow(Thread-4, initial)>\n",
      "Creating simulation decoder..\n",
      "SimKFDecoderSup:loaded self.encoder\n",
      "<riglib.bmi.sim_neurons.GenericCosEnc object at 0x7f828df31850> <class 'riglib.bmi.sim_neurons.GenericCosEnc'>\n",
      "SimKFDecoderSup:loaded self.ssm\n",
      "<riglib.bmi.sim_neurons.GenericCosEnc object at 0x7f828df31850> <class 'riglib.bmi.sim_neurons.GenericCosEnc'>\n",
      "SimKFDecoderSup: units:  4\n",
      " SimKFDecoderSup: zscore decoder ? :  False\n",
      "{}\n",
      "end of kwargs\n",
      "('zscore value: ', False, <class 'bool'>)\n",
      "no init_zscore\n",
      "<bmimultitasks.SimpleEndpointAssister object at 0x7f828df31be0>\n",
      "0.0\n"
     ]
    }
   ],
   "source": [
    "#spawn the task\n",
    "Exp = experiment.make(base_class, feats=feats)\n",
    "#print(Exp)\n",
    "exp = Exp(seq, **kwargs)\n",
    "exp.init()"
   ]
  },
  {
   "cell_type": "markdown",
   "metadata": {},
   "source": [
    "## test run a bit"
   ]
  },
  {
   "cell_type": "markdown",
   "metadata": {
    "ExecuteTime": {
     "end_time": "2021-01-19T18:01:17.366393Z",
     "start_time": "2021-01-19T18:01:13.019114Z"
    }
   },
   "source": [
    "print(exp.state)\n",
    "exp.run() "
   ]
  },
  {
   "cell_type": "markdown",
   "metadata": {},
   "source": [
    "# now comes to the step through BMIloop\n"
   ]
  },
  {
   "cell_type": "markdown",
   "metadata": {},
   "source": [
    "## decode neural features to move cursor\n",
    "this section basically steps through the move_plant stuff\n",
    "\n",
    "@riglib.bmi.BMILoop.move_plant"
   ]
  },
  {
   "cell_type": "markdown",
   "metadata": {
    "ExecuteTime": {
     "end_time": "2021-01-19T18:01:17.436707Z",
     "start_time": "2021-01-19T18:01:12.349Z"
    }
   },
   "source": [
    "\n",
    "### bmi feature extraction, eh\n",
    "#riglib.bmi: 1202\n",
    "feature_data = exp.get_features()\n",
    "feature_data\n",
    "\n",
    "###  Determine the target_state and save to file\n",
    "current_assist_level = exp.get_current_assist_level()\n",
    "if np.any(current_assist_level > 0) or exp.learn_flag:\n",
    "    target_state = exp.get_target_BMI_state(self.decoder.states)\n",
    "else:\n",
    "    target_state = np.ones([exp.decoder.n_states, exp.decoder.n_subbins]) * np.nan\n",
    "\n",
    "\n",
    "#decode the new features\n",
    "#riglib.bmi.bmiloop: line 1245\n",
    "neural_features = feature_data[exp.extractor.feature_type]\n",
    "tmp = exp.call_decoder(neural_features, target_state, **kwargs)\n",
    "\n",
    "#saved as task data\n",
    "exp.task_data['internal_decoder_state'] = tmp\n",
    "tmp\n",
    "\n",
    "#### reset the plant position\n",
    "####  @riglib.bmi.BMILoop.move_plant  line:1254\n",
    "exp.plant.drive(exp.decoder)\n",
    "exp.plant.position"
   ]
  },
  {
   "cell_type": "markdown",
   "metadata": {},
   "source": [
    "# assemble into a complete loop"
   ]
  },
  {
   "cell_type": "code",
   "execution_count": 6,
   "metadata": {
    "ExecuteTime": {
     "end_time": "2021-01-19T18:17:40.899460Z",
     "start_time": "2021-01-19T18:17:40.864209Z"
    },
    "scrolled": true
   },
   "outputs": [
    {
     "name": "stdout",
     "output_type": "stream",
     "text": [
      "0.0\n",
      "runseq\n",
      "0.0\n",
      "0.0\n",
      "assist_level at final value after 0 successful trials\n",
      "end of FSM.run, task state is None\n"
     ]
    }
   ],
   "source": [
    "#riglib.experiment: line 597 - 601\n",
    "#exp.next_trial = next(exp.gen)\n",
    "#-+exp._parse_next_trial()\n",
    "\n",
    "\n",
    "# we need to set the initial state\n",
    "# per fsm.run:  line 138\n",
    "\n",
    "\n",
    "## Initialize the FSM before the loop\n",
    "exp.set_state(exp.state)\n",
    "\n",
    "while exp.state is not None:\n",
    "    if exp.debug: \n",
    "        # allow ungraceful termination if in debugging mode so that pdb \n",
    "        # can catch the exception in the appropriate place\n",
    "        exp.fsm_tick()\n",
    "    else:\n",
    "        # in \"production\" mode (not debugging), try to capture & log errors gracefully\n",
    "        try:\n",
    "            exp.fsm_tick()\n",
    "        except:\n",
    "            print('failed')\n",
    "            exp.print_to_terminal(\"Error in FSM tick\")\n",
    "            exp.state = None\n",
    "            exp.terminated_in_error = True\n",
    "\n",
    "            exp.termination_err = io.StringIO()\n",
    "            traceback.print_exc(None, exp.termination_err)\n",
    "            exp.termination_err.seek(0)\n",
    "\n",
    "            exp.print_to_terminal(exp.termination_err.read())\n",
    "            exp.termination_err.seek(0)\n",
    "            \n",
    "if exp.verbose: print(\"end of FSM.run, task state is\", exp.state)\n"
   ]
  },
  {
   "cell_type": "code",
   "execution_count": 7,
   "metadata": {
    "ExecuteTime": {
     "end_time": "2021-01-19T18:17:40.906946Z",
     "start_time": "2021-01-19T18:17:40.902050Z"
    }
   },
   "outputs": [
    {
     "data": {
      "text/plain": [
       "2"
      ]
     },
     "execution_count": 7,
     "metadata": {},
     "output_type": "execute_result"
    }
   ],
   "source": [
    "exp.chain_length"
   ]
  },
  {
   "cell_type": "markdown",
   "metadata": {},
   "source": [
    "# Analyze HDF file"
   ]
  },
  {
   "cell_type": "code",
   "execution_count": 8,
   "metadata": {
    "ExecuteTime": {
     "end_time": "2021-01-19T18:17:40.910002Z",
     "start_time": "2021-01-19T18:17:40.907789Z"
    }
   },
   "outputs": [
    {
     "data": {
      "text/plain": [
       "101"
      ]
     },
     "execution_count": 8,
     "metadata": {},
     "output_type": "execute_result"
    }
   ],
   "source": [
    "len(exp.task_data_hist)"
   ]
  },
  {
   "cell_type": "code",
   "execution_count": 9,
   "metadata": {
    "ExecuteTime": {
     "end_time": "2021-01-19T18:17:40.913737Z",
     "start_time": "2021-01-19T18:17:40.910818Z"
    }
   },
   "outputs": [
    {
     "data": {
      "text/plain": [
       "[('wait', 0.0),\n",
       " ('target', 0.016666666666666666),\n",
       " ('hold', 0.03333333333333333),\n",
       " ('targ_transition', 0.23333333333333334),\n",
       " ('target', 0.25),\n",
       " ('hold', 1.2),\n",
       " ('targ_transition', 1.4166666666666667),\n",
       " ('reward', 1.4333333333333333),\n",
       " ('wait', 1.65),\n",
       " ('target', 1.6666666666666667),\n",
       " (None, 1.6833333333333333)]"
      ]
     },
     "execution_count": 9,
     "metadata": {},
     "output_type": "execute_result"
    }
   ],
   "source": [
    "exp.state_log"
   ]
  }
 ],
 "metadata": {
  "kernelspec": {
   "display_name": "Python 3",
   "language": "python",
   "name": "python3"
  },
  "language_info": {
   "codemirror_mode": {
    "name": "ipython",
    "version": 3
   },
   "file_extension": ".py",
   "mimetype": "text/x-python",
   "name": "python",
   "nbconvert_exporter": "python",
   "pygments_lexer": "ipython3",
   "version": "3.8.5"
  },
  "toc": {
   "base_numbering": 1,
   "nav_menu": {},
   "number_sections": true,
   "sideBar": true,
   "skip_h1_title": false,
   "title_cell": "Table of Contents",
   "title_sidebar": "Contents",
   "toc_cell": false,
   "toc_position": {
    "height": "calc(100% - 180px)",
    "left": "10px",
    "top": "150px",
    "width": "293.119px"
   },
   "toc_section_display": true,
   "toc_window_display": true
  },
  "varInspector": {
   "cols": {
    "lenName": 16,
    "lenType": 16,
    "lenVar": 40
   },
   "kernels_config": {
    "python": {
     "delete_cmd_postfix": "",
     "delete_cmd_prefix": "del ",
     "library": "var_list.py",
     "varRefreshCmd": "print(var_dic_list())"
    },
    "r": {
     "delete_cmd_postfix": ") ",
     "delete_cmd_prefix": "rm(",
     "library": "var_list.r",
     "varRefreshCmd": "cat(var_dic_list()) "
    }
   },
   "types_to_exclude": [
    "module",
    "function",
    "builtin_function_or_method",
    "instance",
    "_Feature"
   ],
   "window_display": false
  }
 },
 "nbformat": 4,
 "nbformat_minor": 4
}
