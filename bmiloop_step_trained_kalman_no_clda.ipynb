{
 "cells": [
  {
   "cell_type": "markdown",
   "metadata": {},
   "source": [
    "# Purposes of this document\n",
    "\n",
    "the goal of this jupyter is to a trained Kalman filter\n",
    "and look at the behaviour results\n",
    "\n",
    "note all of this is in the branch sijia as of 2021 Jan\n"
   ]
  },
  {
   "cell_type": "markdown",
   "metadata": {},
   "source": [
    "# setting up the simulation components\n",
    "\n",
    "this section largely copyied and pasted from   \n",
    "bmi3d-sijia(branch)-bulti_in_experiemnts\n",
    "https://github.com/sijia66/brain-python-interface/blob/master/built_in_tasks/sim_task_KF.py"
   ]
  },
  {
   "cell_type": "code",
   "execution_count": 1,
   "metadata": {
    "ExecuteTime": {
     "end_time": "2021-02-01T18:33:39.647468Z",
     "start_time": "2021-02-01T18:33:39.084387Z"
    }
   },
   "outputs": [
    {
     "name": "stderr",
     "output_type": "stream",
     "text": [
      "/home/sijia-aw/BMi3D_my/lab_bmi3d/riglib/blackrock/cerelink.py:13: UserWarning: Unable to import cerebus library. Check if is installed if using the Blackrock NeuroPort system\n",
      "  warnings.warn(\"Unable to import cerebus library. Check if is installed if using the Blackrock NeuroPort system\")\n"
     ]
    }
   ],
   "source": [
    "# import libraries\n",
    "# make sure these directories are in the python path., \n",
    "from bmimultitasks import SimBMIControlMulti, SimBMICosEncKFDec, BMIControlMultiNoWindow\n",
    "from features import SaveHDF\n",
    "from features.simulation_features import get_enc_setup, SimKFDecoderRandom, SimCosineTunedEnc,SimIntentionLQRController, SimClockTick\n",
    "from features.simulation_features import SimHDF, SimTime\n",
    "\n",
    "from riglib import experiment\n",
    "\n",
    "from riglib.stereo_opengl.window import FakeWindow\n",
    "\n",
    "import time\n",
    "import copy\n",
    "import numpy as np"
   ]
  },
  {
   "cell_type": "markdown",
   "metadata": {},
   "source": [
    "##  set up trial information"
   ]
  },
  {
   "cell_type": "code",
   "execution_count": 2,
   "metadata": {
    "ExecuteTime": {
     "end_time": "2021-02-01T18:33:39.650462Z",
     "start_time": "2021-02-01T18:33:39.648613Z"
    }
   },
   "outputs": [],
   "source": [
    "#generate task params\n",
    "N_TARGETS = 8\n",
    "N_TRIALS = 8\n",
    "seq = SimBMIControlMulti.sim_target_seq_generator_multi(\n",
    "N_TARGETS, N_TRIALS)"
   ]
  },
  {
   "cell_type": "markdown",
   "metadata": {},
   "source": [
    "##  simulation encoder decoder setup"
   ]
  },
  {
   "cell_type": "code",
   "execution_count": 3,
   "metadata": {
    "ExecuteTime": {
     "end_time": "2021-02-01T18:33:39.660948Z",
     "start_time": "2021-02-01T18:33:39.651265Z"
    }
   },
   "outputs": [
    {
     "name": "stdout",
     "output_type": "stream",
     "text": [
      "features.simulation_features: get_enc_setup has a tuning_level of 1 \n",
      "\n"
     ]
    }
   ],
   "source": [
    "#clda on random \n",
    "DECODER_MODE = 'trainedKF' # in this case we load simulation_features.SimKFDecoderRandom\n",
    "ENCODER_TYPE = 'cosine_tuned_encoder'\n",
    "LEARNER_TYPE = 'dumb' # to dumb or not dumb it is a question 'feedback'\n",
    "UPDATER_TYPE = 'none' #none or \"smooth_batch\"\n",
    "\n",
    "\n",
    "SAVE_HDF = False\n",
    "\n",
    "SAVE_SIM_HDF = True #this makes the task data available as exp.task_data_hist\n",
    "\n",
    "DEBUG_FEATURE = False\n",
    "\n",
    "#neuron set up : 'std (20 neurons)' or 'toy (4 neurons)' \n",
    "N_NEURONS, N_STATES, sim_C = get_enc_setup(sim_mode = 'toy')"
   ]
  },
  {
   "cell_type": "markdown",
   "metadata": {},
   "source": [
    "## from the setup options, set up experiment"
   ]
  },
  {
   "cell_type": "code",
   "execution_count": 4,
   "metadata": {
    "ExecuteTime": {
     "end_time": "2021-02-01T18:33:39.669785Z",
     "start_time": "2021-02-01T18:33:39.661827Z"
    }
   },
   "outputs": [
    {
     "name": "stdout",
     "output_type": "stream",
     "text": [
      "__main__: selected SimCosineTunedEnc\n",
      "\n",
      "__main__: set decoder to SimKFDecoderSup\n",
      "\n",
      "__main__: need to specify an updater\n"
     ]
    }
   ],
   "source": [
    "# set up assist level\n",
    "assist_level = (0, 0)\n",
    "\n",
    "#base_class = SimBMIControlMulti\n",
    "base_class = BMIControlMultiNoWindow\n",
    "feats = []\n",
    "\n",
    "#set up intention feedbackcontroller\n",
    "#this ideally set before the encoder\n",
    "feats.append(SimIntentionLQRController)\n",
    "\n",
    "#set up the encoder\n",
    "if ENCODER_TYPE == 'cosine_tuned_encoder' :\n",
    "    feats.append(SimCosineTunedEnc)\n",
    "    print(f'{__name__}: selected SimCosineTunedEnc\\n')\n",
    "    \n",
    "    \n",
    "   #take care the decoder setup\n",
    "if DECODER_MODE == 'random':\n",
    "    feats.append(SimKFDecoderRandom)\n",
    "    print(f'{__name__}: set base class ')\n",
    "    print(f'{__name__}: selected SimKFDecoderRandom \\n')\n",
    "else: #defaul to a cosEnc and a pre-traind KF DEC\n",
    "    from features.simulation_features import SimKFDecoderSup\n",
    "    feats.append(SimKFDecoderSup)\n",
    "    print(f'{__name__}: set decoder to SimKFDecoderSup\\n')\n",
    "    \n",
    "    \n",
    "#you know what? \n",
    "#learner only collects firing rates labeled with estimated estimates\n",
    "#we would also need to use the labeled data\n",
    "#now, we can set up a dumb/or not-dumb learner\n",
    "if LEARNER_TYPE == 'feedback':\n",
    "    from features.simulation_features import SimFeedbackLearner\n",
    "    feats.append(SimFeedbackLearner)\n",
    "else:\n",
    "    from features.simulation_features import SimDumbLearner\n",
    "    feats.append(SimDumbLearner)\n",
    "\n",
    "\n",
    "\n",
    "\n",
    "#to update the decoder.\n",
    "if UPDATER_TYPE == 'smooth_batch':\n",
    "    from features.simulation_features import SimSmoothBatch\n",
    "    feats.append(SimSmoothBatch)\n",
    "else: #defaut to none \n",
    "    print(f'{__name__}: need to specify an updater')\n",
    "    \n",
    "if DEBUG_FEATURE: \n",
    "    from features.simulation_features import DebugFeature\n",
    "    feats.append(DebugFeature)\n",
    "    \n",
    "if SAVE_HDF: feats.append(SaveHDF)\n",
    "if SAVE_SIM_HDF: feats.append(SimHDF)\n",
    "    \n",
    "    \n",
    "#pass the real time limit on clock\n",
    "feats.append(SimClockTick)\n",
    "feats.append(SimTime)\n",
    "\n",
    "\n",
    "#save everthing in a kw\n",
    "kwargs = dict()\n",
    "kwargs['sim_C'] = sim_C"
   ]
  },
  {
   "cell_type": "markdown",
   "metadata": {},
   "source": [
    "## seed the exp"
   ]
  },
  {
   "cell_type": "code",
   "execution_count": 5,
   "metadata": {
    "ExecuteTime": {
     "end_time": "2021-02-01T18:33:39.679848Z",
     "start_time": "2021-02-01T18:33:39.670651Z"
    }
   },
   "outputs": [],
   "source": [
    "np.random.seed(0)"
   ]
  },
  {
   "cell_type": "markdown",
   "metadata": {},
   "source": [
    "## make our experiment class"
   ]
  },
  {
   "cell_type": "code",
   "execution_count": 6,
   "metadata": {
    "ExecuteTime": {
     "end_time": "2021-02-01T18:33:39.750766Z",
     "start_time": "2021-02-01T18:33:39.681134Z"
    },
    "scrolled": true
   },
   "outputs": [
    {
     "name": "stdout",
     "output_type": "stream",
     "text": [
      "metaclass constructor\n",
      "(<class 'features.simulation_features.SimIntentionLQRController'>, <class 'features.simulation_features.SimCosineTunedEnc'>, <class 'features.simulation_features.SimKFDecoderSup'>, <class 'features.simulation_features.SimDumbLearner'>, <class 'features.simulation_features.SimHDF'>, <class 'features.simulation_features.SimClockTick'>, <class 'features.simulation_features.SimTime'>, <class 'bmimultitasks.BMIControlMultiNoWindow'>)\n",
      "[<class 'features.simulation_features.SimIntentionLQRController'>, <class 'features.simulation_features.SimCosineTunedEnc'>, <class 'features.simulation_features.SimKFDecoderSup'>, <class 'features.simulation_features.SimDumbLearner'>, <class 'features.simulation_features.SimHDF'>, <class 'features.simulation_features.SimClockTick'>, <class 'features.simulation_features.SimTime'>]\n",
      "\n",
      "features.simulation_features.SimIntentionLQRController: LQRController used \n",
      "\n",
      "0.0\n",
      "0.0\n",
      "finished executing Experiment.__init__\n",
      "\n",
      "SimCosineTunedEnc SSM: State space: ['hand_px', 'hand_py', 'hand_pz', 'hand_vx', 'hand_vy', 'hand_vz', 'offset'] \n",
      "\n",
      "neural encoder init function  <BMIControlMultiNoWindow(Thread-4, initial)>\n",
      "Creating simulation decoder..\n",
      "SimKFDecoderSup:loaded self.encoder\n",
      "<riglib.bmi.sim_neurons.GenericCosEnc object at 0x7f4f3f391400> <class 'riglib.bmi.sim_neurons.GenericCosEnc'>\n",
      "SimKFDecoderSup:loaded self.ssm\n",
      "<riglib.bmi.sim_neurons.GenericCosEnc object at 0x7f4f3f391400> <class 'riglib.bmi.sim_neurons.GenericCosEnc'>\n",
      "SimKFDecoderSup: units:  4\n",
      " SimKFDecoderSup: zscore decoder ? :  False\n",
      "{}\n",
      "end of kwargs\n",
      "('zscore value: ', False, <class 'bool'>)\n",
      "no init_zscore\n",
      "<bmimultitasks.SimpleEndpointAssister object at 0x7f4f3f391c40>\n",
      "0.0\n"
     ]
    }
   ],
   "source": [
    "#spawn the task\n",
    "Exp = experiment.make(base_class, feats=feats)\n",
    "#print(Exp)\n",
    "exp = Exp(seq, **kwargs)\n",
    "exp.init()"
   ]
  },
  {
   "cell_type": "markdown",
   "metadata": {},
   "source": [
    "## test run a bit"
   ]
  },
  {
   "cell_type": "markdown",
   "metadata": {
    "ExecuteTime": {
     "end_time": "2021-01-19T18:01:17.366393Z",
     "start_time": "2021-01-19T18:01:13.019114Z"
    }
   },
   "source": [
    "print(exp.state)\n",
    "exp.run() "
   ]
  },
  {
   "cell_type": "markdown",
   "metadata": {},
   "source": [
    "# now comes to the step through BMIloop\n"
   ]
  },
  {
   "cell_type": "markdown",
   "metadata": {},
   "source": [
    "## decode neural features to move cursor\n",
    "this section basically steps through the move_plant stuff\n",
    "\n",
    "@riglib.bmi.BMILoop.move_plant"
   ]
  },
  {
   "cell_type": "markdown",
   "metadata": {},
   "source": [
    "# assemble into a complete loop"
   ]
  },
  {
   "cell_type": "code",
   "execution_count": 7,
   "metadata": {
    "ExecuteTime": {
     "end_time": "2021-02-01T18:33:40.444838Z",
     "start_time": "2021-02-01T18:33:39.752317Z"
    },
    "scrolled": false
   },
   "outputs": [
    {
     "name": "stdout",
     "output_type": "stream",
     "text": [
      "0.0\n",
      "runseq\n",
      "0.0\n",
      "0.0\n",
      "0.0\n",
      "1.0\n",
      "1.0\n",
      "1.0\n",
      "1.0\n",
      "1.0\n",
      "2.0\n",
      "2.0\n",
      "2.0\n",
      "2.0\n",
      "2.0\n",
      "3.0\n",
      "3.0\n",
      "3.0\n",
      "3.0\n",
      "3.0\n",
      "4.0\n",
      "4.0\n",
      "4.0\n",
      "4.0\n",
      "4.0\n",
      "end of FSM.run, task state is None\n"
     ]
    }
   ],
   "source": [
    "# riglib.experiment: line 597 - 601\n",
    "#exp.next_trial = next(exp.gen)\n",
    "# -+exp._parse_next_trial()\n",
    "\n",
    "\n",
    "# we need to set the initial state\n",
    "# per fsm.run:  line 138\n",
    "\n",
    "\n",
    "# Initialize the FSM before the loop\n",
    "exp.set_state(exp.state)\n",
    "\n",
    "\n",
    "while exp.state is not None:\n",
    "\n",
    "    # exp.fsm_tick()\n",
    "\n",
    "    ### Execute commands#####\n",
    "    exp.exec_state_specific_actions(exp.state)\n",
    "\n",
    "    ###run the bmi loop #####\n",
    "    # _cycle\n",
    "\n",
    "    # bmi feature extraction, eh\n",
    "    #riglib.bmi: 1202\n",
    "    feature_data = exp.get_features()\n",
    "\n",
    "    # Determine the target_state and save to file\n",
    "    current_assist_level = exp.get_current_assist_level()\n",
    "    '''\n",
    "        if np.any(current_assist_level > 0) or exp.learn_flag:\n",
    "        target_state = exp.get_target_BMI_state(exp.decoder.states)\n",
    "    else:\n",
    "        target_state = np.ones(\n",
    "            [exp.decoder.n_states, exp.decoder.n_subbins]) * np.nan\n",
    "    \n",
    "    '''\n",
    "    target_state = exp.get_target_BMI_state(exp.decoder.states)\n",
    "\n",
    "\n",
    "    # decode the new features\n",
    "    # riglib.bmi.bmiloop: line 1245\n",
    "    neural_features = feature_data[exp.extractor.feature_type]\n",
    "\n",
    "    # call decoder.\n",
    "    #tmp = exp.call_decoder(neural_features, target_state, **kwargs)\n",
    "    neural_obs = neural_features\n",
    "    learn_flag = exp.learn_flag\n",
    "    task_state = exp.state\n",
    "\n",
    "    n_units, n_obs = neural_obs.shape\n",
    "    # If the target is specified as a 1D position, tile to match\n",
    "    # the number of dimensions as the neural features\n",
    "    if np.ndim(target_state) == 1 or (target_state.shape[1] == 1 and n_obs > 1):\n",
    "        target_state = np.tile(target_state, [1, n_obs])\n",
    "\n",
    "    decoded_states = np.zeros([exp.bmi_system.decoder.n_states, n_obs])\n",
    "    update_flag = False\n",
    "\n",
    "    for k in range(n_obs):\n",
    "        neural_obs_k = neural_obs[:, k].reshape(-1, 1)\n",
    "        target_state_k = target_state[:, k]\n",
    "\n",
    "        # NOTE: the conditional below is *only* for compatibility with older Carmena\n",
    "        # lab data collected using a different MATLAB-based system. In all python cases,\n",
    "        # the task_state should never contain NaN values.\n",
    "        if np.any(np.isnan(target_state_k)):\n",
    "            task_state = 'no_target'\n",
    "\n",
    "        #################################\n",
    "        # Decode the current observation\n",
    "        #################################\n",
    "        decodable_obs, decode = exp.bmi_system.feature_accumulator(\n",
    "            neural_obs_k)\n",
    "        if decode:  # if a new decodable observation is available from the feature accumulator\n",
    "            prev_state = exp.bmi_system.decoder.get_state()\n",
    "\n",
    "            exp.bmi_system.decoder(decodable_obs, **kwargs)\n",
    "            # Determine whether the current state or previous state should be given to the learner\n",
    "            if exp.bmi_system.learner.input_state_index == 0:\n",
    "                learner_state = exp.bmi_system.decoder.get_state()\n",
    "            elif exp.bmi_system.learner.input_state_index == -1:\n",
    "                learner_state = prev_state\n",
    "            else:\n",
    "                print((\"Not implemented yet: %d\" %\n",
    "                       exp.bmi_system.learner.input_state_index))\n",
    "                learner_state = prev_state\n",
    "\n",
    "            if learn_flag:\n",
    "                exp.bmi_system.learner(decodable_obs.copy(), learner_state, target_state_k, exp.bmi_system.decoder.get_state(\n",
    "                ), task_state, state_order=exp.bmi_system.decoder.ssm.state_order)\n",
    "\n",
    "        decoded_states[:, k] = exp.bmi_system.decoder.get_state()\n",
    "\n",
    "        ############################\n",
    "        # Update decoder parameters\n",
    "        ############################\n",
    "        if exp.bmi_system.learner.is_ready():\n",
    "            batch_data = exp.bmi_system.learner.get_batch()\n",
    "            batch_data['decoder'] = exp.bmi_system.decoder\n",
    "            kwargs.update(batch_data)\n",
    "            exp.bmi_system.updater(**kwargs)\n",
    "            exp.bmi_system.learner.disable()\n",
    "\n",
    "        new_params = None  # by default, no new parameters are available\n",
    "        if exp.bmi_system.has_updater:\n",
    "            new_params = copy.deepcopy(exp.bmi_system.updater.get_result())\n",
    "\n",
    "        # Update the decoder if new parameters are available\n",
    "        if not (new_params is None):\n",
    "            exp.bmi_system.decoder.update_params(\n",
    "                new_params, **exp.bmi_system.updater.update_kwargs)\n",
    "            new_params['intended_kin'] = batch_data['intended_kin']\n",
    "            new_params['spike_counts_batch'] = batch_data['spike_counts']\n",
    "\n",
    "            exp.bmi_system.learner.enable()\n",
    "            update_flag = True\n",
    "\n",
    "            # Save new parameters to parameter history\n",
    "            exp.bmi_system.param_hist.append(new_params)\n",
    "            \n",
    "    \n",
    "\n",
    "    # saved as task data\n",
    "    # return decoded_states, update_flag\n",
    "    tmp = decoded_states\n",
    "    exp.task_data['internal_decoder_state'] = tmp\n",
    "\n",
    "    # reset the plant position\n",
    "    # @riglib.bmi.BMILoop.move_plant  line:1254\n",
    "    exp.plant.drive(exp.decoder)\n",
    "\n",
    "    # check state transitions and run the FSM.\n",
    "    current_state = exp.state\n",
    "\n",
    "    # iterate over the possible events which could move the task out of the current state\n",
    "    for event in exp.status[current_state]:\n",
    "        # if the event has occurred\n",
    "        if exp.test_state_transition_event(event):\n",
    "            # execute commands to end the current state\n",
    "            exp.end_state(current_state)\n",
    "\n",
    "            # trigger the transition for the event\n",
    "            exp.trigger_event(event)\n",
    "\n",
    "            # stop searching for transition events (transition events must be\n",
    "            # mutually exclusive for this FSM to function properly)\n",
    "            break\n",
    "\n",
    "    # sort out the loop params.\n",
    "    # inc cycle count\n",
    "    exp.cycle_count += 1\n",
    "\n",
    "    # save target data as was done in manualControlTasks._cycle\n",
    "    exp.task_data['target'] = exp.target_location.copy()\n",
    "    exp.task_data['target_index'] = exp.target_index\n",
    "    \n",
    "    #done in bmi:_cycle after move_plant\n",
    "    exp.task_data['loop_time'] = exp.iter_time()\n",
    "    \n",
    "    \n",
    "    #fb_controller data\n",
    "    exp.task_data['target_state'] = target_state\n",
    "    \n",
    "    #encoder data\n",
    "    #input to this is actually extractor\n",
    "    exp.task_data['ctrl_input'] = np.reshape(exp.extractor.sim_ctrl, (1,-1))\n",
    "    \n",
    "    #actually output\n",
    "    exp.task_data['spike_counts'] = feature_data['spike_counts']\n",
    "    \n",
    "    \n",
    "    #save the decoder_state\n",
    "    #from BMILoop.move_plant\n",
    "    exp.task_data['decoder_state'] = exp.decoder.get_state(shape=(-1,1))\n",
    "    \n",
    "    \n",
    "    # as well as plant data.\n",
    "    plant_data = exp.plant.get_data_to_save()\n",
    "    for key in plant_data:\n",
    "        exp.task_data[key] = plant_data[key]\n",
    "\n",
    "    # clda data handled in the above call.\n",
    "\n",
    "    # save to the list hisory of data.\n",
    "    exp.task_data_hist.append(exp.task_data.copy())\n",
    "\n",
    "\n",
    "if exp.verbose:\n",
    "    print(\"end of FSM.run, task state is\", exp.state)"
   ]
  },
  {
   "cell_type": "markdown",
   "metadata": {
    "ExecuteTime": {
     "end_time": "2021-01-25T01:00:26.027506Z",
     "start_time": "2021-01-25T01:00:26.024320Z"
    }
   },
   "source": [
    "# Preprocess the data for loading"
   ]
  },
  {
   "cell_type": "code",
   "execution_count": 8,
   "metadata": {
    "ExecuteTime": {
     "end_time": "2021-02-01T18:33:40.447503Z",
     "start_time": "2021-02-01T18:33:40.445923Z"
    }
   },
   "outputs": [],
   "source": [
    "import  matplotlib.pyplot as plt"
   ]
  },
  {
   "cell_type": "code",
   "execution_count": 9,
   "metadata": {
    "ExecuteTime": {
     "end_time": "2021-02-01T18:33:40.456693Z",
     "start_time": "2021-02-01T18:33:40.448306Z"
    }
   },
   "outputs": [],
   "source": [
    "task_data_hist_np = np.array(exp.task_data_hist)\n"
   ]
  },
  {
   "cell_type": "code",
   "execution_count": 10,
   "metadata": {
    "ExecuteTime": {
     "end_time": "2021-02-01T18:33:40.466055Z",
     "start_time": "2021-02-01T18:33:40.457574Z"
    }
   },
   "outputs": [
    {
     "data": {
      "text/plain": [
       "dtype([('cursor', '<f8', (3,)), ('loop_time', '<f8', (1,)), ('decoder_state', '<f8', (7, 1)), ('internal_decoder_state', '<f8', (7, 1)), ('target_state', '<f8', (7, 1)), ('update_bmi', '<f8', (1,)), ('spike_counts', '<f8', (4, 1)), ('bin_edges', '<f8', (2,)), ('ctrl_input', '<f8', (7,)), ('assist_level', '<f8', (1,)), ('target', '<f8', (3,)), ('target_index', '<i4', (1,))])"
      ]
     },
     "execution_count": 10,
     "metadata": {},
     "output_type": "execute_result"
    }
   ],
   "source": [
    "task_data_hist_np.dtype"
   ]
  },
  {
   "cell_type": "code",
   "execution_count": 11,
   "metadata": {
    "ExecuteTime": {
     "end_time": "2021-02-01T18:33:40.473520Z",
     "start_time": "2021-02-01T18:33:40.466905Z"
    }
   },
   "outputs": [],
   "source": [
    "cursor_trajectory = np.squeeze(task_data_hist_np['cursor'])"
   ]
  },
  {
   "cell_type": "code",
   "execution_count": 12,
   "metadata": {
    "ExecuteTime": {
     "end_time": "2021-02-01T18:33:40.482858Z",
     "start_time": "2021-02-01T18:33:40.474386Z"
    }
   },
   "outputs": [
    {
     "data": {
      "text/plain": [
       "(2422, 3)"
      ]
     },
     "execution_count": 12,
     "metadata": {},
     "output_type": "execute_result"
    }
   ],
   "source": [
    "cursor_trajectory.shape"
   ]
  },
  {
   "cell_type": "code",
   "execution_count": 13,
   "metadata": {
    "ExecuteTime": {
     "end_time": "2021-02-01T18:33:40.591183Z",
     "start_time": "2021-02-01T18:33:40.483765Z"
    },
    "scrolled": true
   },
   "outputs": [
    {
     "data": {
      "text/plain": [
       "[<matplotlib.lines.Line2D at 0x7f4f3eae38b0>]"
      ]
     },
     "execution_count": 13,
     "metadata": {},
     "output_type": "execute_result"
    },
    {
     "data": {
      "image/png": "[encoded data removed]",
      "text/plain": [
       "<Figure size 432x288 with 1 Axes>"
      ]
     },
     "metadata": {
      "needs_background": "light"
     },
     "output_type": "display_data"
    }
   ],
   "source": [
    "plt.plot(cursor_trajectory[:,0], cursor_trajectory[:,2])"
   ]
  },
  {
   "cell_type": "code",
   "execution_count": 14,
   "metadata": {
    "ExecuteTime": {
     "end_time": "2021-02-01T18:33:40.594335Z",
     "start_time": "2021-02-01T18:33:40.592132Z"
    }
   },
   "outputs": [
    {
     "data": {
      "text/plain": [
       "8"
      ]
     },
     "execution_count": 14,
     "metadata": {},
     "output_type": "execute_result"
    }
   ],
   "source": [
    "exp.calc_state_occurrences('reward')"
   ]
  },
  {
   "cell_type": "markdown",
   "metadata": {},
   "source": [
    "# Walk through loop"
   ]
  },
  {
   "cell_type": "markdown",
   "metadata": {},
   "source": [
    "## this system starts from feedback_controller"
   ]
  },
  {
   "cell_type": "markdown",
   "metadata": {},
   "source": [
    "feedback controller generates ctrl input matrix   \n",
    "from the difference between the target state and the and current state"
   ]
  },
  {
   "cell_type": "code",
   "execution_count": 15,
   "metadata": {
    "ExecuteTime": {
     "end_time": "2021-02-01T18:33:40.600753Z",
     "start_time": "2021-02-01T18:33:40.595044Z"
    }
   },
   "outputs": [
    {
     "data": {
      "text/plain": [
       "matrix([[1. , 0. , 0. , 0.1, 0. , 0. , 0. ],\n",
       "        [0. , 1. , 0. , 0. , 0.1, 0. , 0. ],\n",
       "        [0. , 0. , 1. , 0. , 0. , 0.1, 0. ],\n",
       "        [0. , 0. , 0. , 0.8, 0. , 0. , 0. ],\n",
       "        [0. , 0. , 0. , 0. , 0.8, 0. , 0. ],\n",
       "        [0. , 0. , 0. , 0. , 0. , 0.8, 0. ],\n",
       "        [0. , 0. , 0. , 0. , 0. , 0. , 1. ]])"
      ]
     },
     "execution_count": 15,
     "metadata": {},
     "output_type": "execute_result"
    }
   ],
   "source": [
    "exp.fb_ctrl.A"
   ]
  },
  {
   "cell_type": "code",
   "execution_count": 16,
   "metadata": {
    "ExecuteTime": {
     "end_time": "2021-02-01T18:33:40.608826Z",
     "start_time": "2021-02-01T18:33:40.602024Z"
    }
   },
   "outputs": [
    {
     "data": {
      "text/plain": [
       "matrix([[  0.,   0.,   0.],\n",
       "        [  0.,   0.,   0.],\n",
       "        [  0.,   0.,   0.],\n",
       "        [100.,   0.,   0.],\n",
       "        [  0., 100.,   0.],\n",
       "        [  0.,   0., 100.],\n",
       "        [  0.,   0.,   0.]])"
      ]
     },
     "execution_count": 16,
     "metadata": {},
     "output_type": "execute_result"
    }
   ],
   "source": [
    "exp.fb_ctrl.B"
   ]
  },
  {
   "cell_type": "code",
   "execution_count": 17,
   "metadata": {
    "ExecuteTime": {
     "end_time": "2021-02-01T18:33:40.618214Z",
     "start_time": "2021-02-01T18:33:40.609555Z"
    }
   },
   "outputs": [
    {
     "data": {
      "text/plain": [
       "matrix([[0.00860175, 0.        , 0.        , 0.00294097, 0.        ,\n",
       "         0.        , 0.        ],\n",
       "        [0.        , 0.00860175, 0.        , 0.        , 0.00294097,\n",
       "         0.        , 0.        ],\n",
       "        [0.        , 0.        , 0.00860175, 0.        , 0.        ,\n",
       "         0.00294097, 0.        ]])"
      ]
     },
     "execution_count": 17,
     "metadata": {},
     "output_type": "execute_result"
    }
   ],
   "source": [
    "exp.fb_ctrl.F"
   ]
  },
  {
   "cell_type": "code",
   "execution_count": 44,
   "metadata": {
    "ExecuteTime": {
     "end_time": "2021-02-01T18:42:57.225931Z",
     "start_time": "2021-02-01T18:42:57.113179Z"
    }
   },
   "outputs": [
    {
     "data": {
      "text/plain": [
       "<matplotlib.legend.Legend at 0x7f4f3c7677c0>"
      ]
     },
     "execution_count": 44,
     "metadata": {},
     "output_type": "execute_result"
    },
    {
     "data": {
      "image/png": "[encoded data removed]",
      "text/plain": [
       "<Figure size 432x288 with 1 Axes>"
      ]
     },
     "metadata": {
      "needs_background": "light"
     },
     "output_type": "display_data"
    }
   ],
   "source": [
    "target_state = np.squeeze(task_data_hist_np['target_state'])\n",
    "time_vec = np.arange(target_state.shape[0])/60 # 60 Hz\n",
    "plt.plot(time_vec,target_state[:,(0,2)])\n",
    "plt.legend(('x pos', 'y pos'))\n"
   ]
  },
  {
   "cell_type": "markdown",
   "metadata": {},
   "source": [
    "## and encoder"
   ]
  },
  {
   "cell_type": "code",
   "execution_count": null,
   "metadata": {
    "ExecuteTime": {
     "end_time": "2021-02-01T18:33:40.632803Z",
     "start_time": "2021-02-01T18:33:39.097Z"
    }
   },
   "outputs": [],
   "source": [
    "# encoder matrix.\n",
    "exp.encoder.C"
   ]
  },
  {
   "cell_type": "code",
   "execution_count": null,
   "metadata": {
    "ExecuteTime": {
     "end_time": "2021-02-01T18:33:40.633354Z",
     "start_time": "2021-02-01T18:33:39.098Z"
    }
   },
   "outputs": [],
   "source": [
    "exp.encoder.call_count"
   ]
  },
  {
   "cell_type": "code",
   "execution_count": null,
   "metadata": {
    "ExecuteTime": {
     "end_time": "2021-02-01T18:33:40.633757Z",
     "start_time": "2021-02-01T18:33:39.100Z"
    }
   },
   "outputs": [],
   "source": [
    "spike_counts = np.squeeze(task_data_hist_np['spike_counts'])\n",
    "plt.plot(spike_counts)"
   ]
  },
  {
   "cell_type": "markdown",
   "metadata": {},
   "source": [
    "## decoder stuff"
   ]
  },
  {
   "cell_type": "code",
   "execution_count": null,
   "metadata": {
    "ExecuteTime": {
     "end_time": "2021-02-01T18:33:40.634136Z",
     "start_time": "2021-02-01T18:33:39.101Z"
    }
   },
   "outputs": [],
   "source": [
    "exp.decoder.call_rate"
   ]
  },
  {
   "cell_type": "code",
   "execution_count": null,
   "metadata": {
    "ExecuteTime": {
     "end_time": "2021-02-01T18:33:40.634603Z",
     "start_time": "2021-02-01T18:33:39.102Z"
    }
   },
   "outputs": [],
   "source": [
    "exp.decoder.filt"
   ]
  },
  {
   "cell_type": "code",
   "execution_count": null,
   "metadata": {
    "ExecuteTime": {
     "end_time": "2021-02-01T18:33:40.635051Z",
     "start_time": "2021-02-01T18:33:39.103Z"
    }
   },
   "outputs": [],
   "source": [
    "target_state = np.squeeze(task_data_hist_np['decoder_state'])\n",
    "plt.plot(target_state[:,5])"
   ]
  },
  {
   "cell_type": "code",
   "execution_count": null,
   "metadata": {
    "ExecuteTime": {
     "end_time": "2021-02-01T18:33:40.635459Z",
     "start_time": "2021-02-01T18:33:39.104Z"
    }
   },
   "outputs": [],
   "source": [
    "task_data_hist_np.dtype"
   ]
  },
  {
   "cell_type": "markdown",
   "metadata": {},
   "source": [
    "# summarize the behaviour"
   ]
  },
  {
   "cell_type": "code",
   "execution_count": null,
   "metadata": {
    "ExecuteTime": {
     "end_time": "2021-02-01T18:33:40.636212Z",
     "start_time": "2021-02-01T18:33:39.106Z"
    }
   },
   "outputs": [],
   "source": [
    "state_log = exp.state_log"
   ]
  },
  {
   "cell_type": "code",
   "execution_count": null,
   "metadata": {
    "ExecuteTime": {
     "end_time": "2021-02-01T18:33:40.636717Z",
     "start_time": "2021-02-01T18:33:39.107Z"
    }
   },
   "outputs": [],
   "source": [
    "def filter_state(state_log:list, state_to_match:str)->list:\n",
    "    '''\n",
    "    state_log: a list of tuples (state:string, start_time: float)\n",
    "    state_to_watch\n",
    "    \n",
    "    returns a list of element type\n",
    "    '''\n",
    "    \n",
    "    \n",
    "    return list(filter(lambda k: k[0] == state_to_match, state_log) )\n",
    "\n",
    "def calc_inter_wait_times(wait_log: list)-> list:\n",
    "    \"\"\"\n",
    "    state_log: a list of tuples (\"wait\", start_time: float)\n",
    "    return a list of tuples: (\"wait\", start_time: float, diff_time)\n",
    "    \"\"\"\n",
    "    wait_log_with_diff = list()\n",
    "    for i, wait_state in enumerate(wait_log):\n",
    "        if i == 0: #there is nothing to subtract, just put zero.\n",
    "            wait_log_with_diff.append((wait_state[0], wait_state[1], 0))\n",
    "        else:\n",
    "            previous_time = wait_log[i-1][1]\n",
    "            wait_log_with_diff.append((wait_state[0], wait_state[1],  wait_state[1]- previous_time))\n",
    "    \n",
    "    return wait_log_with_diff\n",
    "    \n",
    "    \n",
    "    \n",
    "\n",
    "wait_seq = filter_state(state_log, 'wait')\n",
    "wait_seq_diff = np.array(calc_inter_wait_times(wait_seq))\n",
    "plt.scatter(wait_seq_diff[:,1], \n",
    "           wait_seq_diff[:,2])"
   ]
  },
  {
   "cell_type": "markdown",
   "metadata": {},
   "source": [
    "this is just wrong\n"
   ]
  },
  {
   "cell_type": "markdown",
   "metadata": {},
   "source": [
    "# the KF tracks the state as steered by control input"
   ]
  },
  {
   "cell_type": "code",
   "execution_count": null,
   "metadata": {
    "ExecuteTime": {
     "end_time": "2021-02-01T18:33:40.637142Z",
     "start_time": "2021-02-01T18:33:39.109Z"
    }
   },
   "outputs": [],
   "source": [
    "# inputs to the encoder\n",
    "encoder_ctrl_input = np.squeeze(task_data_hist_np['ctrl_input'])\n",
    "#plt.plot(encoder_ctrl_input)\n",
    "encoder_ctrl_input.shape"
   ]
  },
  {
   "cell_type": "code",
   "execution_count": null,
   "metadata": {
    "ExecuteTime": {
     "end_time": "2021-02-01T18:33:40.637562Z",
     "start_time": "2021-02-01T18:33:39.110Z"
    }
   },
   "outputs": [],
   "source": [
    "target_state = np.squeeze(task_data_hist_np['decoder_state'])\n",
    "target_state.shape"
   ]
  },
  {
   "cell_type": "code",
   "execution_count": null,
   "metadata": {
    "ExecuteTime": {
     "end_time": "2021-02-01T18:33:40.638034Z",
     "start_time": "2021-02-01T18:33:39.111Z"
    }
   },
   "outputs": [],
   "source": [
    "# we compare the x_vel \n",
    "X_VEL_STATE_IND = 3\n",
    "\n",
    "enc_ctrl_dec_state =  np.vstack((encoder_ctrl_input[:, X_VEL_STATE_IND], \n",
    "                                      target_state[:, X_VEL_STATE_IND]))\n",
    "\n",
    "enc_ctrl_dec_state = enc_ctrl_dec_state.T #want a vertifcal vec with col as var\n",
    "enc_ctrl_dec_state.shape"
   ]
  },
  {
   "cell_type": "code",
   "execution_count": null,
   "metadata": {
    "ExecuteTime": {
     "end_time": "2021-02-01T18:33:40.638410Z",
     "start_time": "2021-02-01T18:33:39.113Z"
    },
    "scrolled": false
   },
   "outputs": [],
   "source": [
    "FRAME_RATE = 60\n",
    "time_axis = np.arange(encoder_ctrl_input.shape[0] ) / FRAME_RATE\n",
    "plt.plot(time_axis, encoder_ctrl_input[:, X_VEL_STATE_IND] ,label = 'ctrl_input x vel')\n",
    "plt.plot(time_axis, target_state[:, X_VEL_STATE_IND],label = 'KF decoder tracked x vel')\n",
    "plt.legend()\n",
    "\n",
    "plt.xlabel('time (s)')\n",
    "plt.ylabel('X vel')\n",
    "plt.title('Tracking X ctrl input with KF decoder')\n",
    "plt.show()\n",
    "\n"
   ]
  },
  {
   "cell_type": "markdown",
   "metadata": {},
   "source": [
    "tracked well \n",
    "suspect towards end of the plot\n",
    "the short smooth batch size worsens the tracking"
   ]
  },
  {
   "cell_type": "code",
   "execution_count": null,
   "metadata": {
    "ExecuteTime": {
     "end_time": "2021-02-01T18:33:40.638950Z",
     "start_time": "2021-02-01T18:33:39.114Z"
    }
   },
   "outputs": [],
   "source": [
    "state_indices = [0,2,3,5]\n",
    "state_names = ['x pos ', 'z pos', 'x vel', 'z vel']\n",
    "\n",
    "time_axis = np.arange(encoder_ctrl_input.shape[0] ) / FRAME_RATE\n",
    "\n",
    "## now we can plot\n",
    "#enc_state_axes = plt.subplots(2,2)\n",
    "\n",
    "time_axis = np.arange(encoder_ctrl_input.shape[0] ) / FRAME_RATE\n",
    "\n",
    "for i, state_ind in enumerate(state_indices):\n",
    "    plt.subplot(2,2,i+1)\n",
    "    plt.title(f'Compare{state_names[i]}')\n",
    "    plt.plot(time_axis, encoder_ctrl_input[:, state_ind] ,label = 'ctrl_input')\n",
    "    plt.plot(time_axis, target_state[:, state_ind],label = 'KF decoder tracked')  \n",
    "    \n",
    "\n",
    "    plt.xlabel('time (s)')\n",
    "    plt.ylabel(f'{state_names[i]}')\n",
    "\n",
    "    \n",
    "plt.legend()\n"
   ]
  },
  {
   "cell_type": "code",
   "execution_count": null,
   "metadata": {
    "ExecuteTime": {
     "end_time": "2021-02-01T18:33:40.639429Z",
     "start_time": "2021-02-01T18:33:39.115Z"
    }
   },
   "outputs": [],
   "source": [
    "#quantify the corr\n",
    "\n",
    "\n",
    "state_indices = [0,2,3,5]\n",
    "enc_dec_corr =list()\n",
    "\n",
    "for i, state_ind in enumerate(state_indices):\n",
    "    enc_dec_corr.append(np.corrcoef(encoder_ctrl_input[:, state_ind], \n",
    "                              target_state[:, state_ind],\n",
    "                              rowvar=False)[0,1])\n",
    "enc_dec_corr"
   ]
  },
  {
   "cell_type": "markdown",
   "metadata": {},
   "source": [
    "the tracking of the 2D velocities measured by corr_coeff is not perfect:\n",
    "\n",
    "these are time shifts introduced by state_space model\n",
    "the almost perfect position tracking might be an illusion  \n",
    "1. because the control inputs do not change positions \n",
    "2. as we are dealing with a velocity kalman filter."
   ]
  }
 ],
 "metadata": {
  "kernelspec": {
   "display_name": "Python 3",
   "language": "python",
   "name": "python3"
  },
  "language_info": {
   "codemirror_mode": {
    "name": "ipython",
    "version": 3
   },
   "file_extension": ".py",
   "mimetype": "text/x-python",
   "name": "python",
   "nbconvert_exporter": "python",
   "pygments_lexer": "ipython3",
   "version": "3.8.5"
  },
  "toc": {
   "base_numbering": 1,
   "nav_menu": {},
   "number_sections": true,
   "sideBar": true,
   "skip_h1_title": false,
   "title_cell": "Table of Contents",
   "title_sidebar": "Contents",
   "toc_cell": false,
   "toc_position": {
    "height": "calc(100% - 180px)",
    "left": "10px",
    "top": "150px",
    "width": "293.119px"
   },
   "toc_section_display": true,
   "toc_window_display": true
  },
  "varInspector": {
   "cols": {
    "lenName": 16,
    "lenType": 16,
    "lenVar": 40
   },
   "kernels_config": {
    "python": {
     "delete_cmd_postfix": "",
     "delete_cmd_prefix": "del ",
     "library": "var_list.py",
     "varRefreshCmd": "print(var_dic_list())"
    },
    "r": {
     "delete_cmd_postfix": ") ",
     "delete_cmd_prefix": "rm(",
     "library": "var_list.r",
     "varRefreshCmd": "cat(var_dic_list()) "
    }
   },
   "types_to_exclude": [
    "module",
    "function",
    "builtin_function_or_method",
    "instance",
    "_Feature"
   ],
   "window_display": false
  }
 },
 "nbformat": 4,
 "nbformat_minor": 4
}
