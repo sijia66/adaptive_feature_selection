{
 "cells": [
  {
   "cell_type": "code",
   "execution_count": 1,
   "metadata": {
    "ExecuteTime": {
     "end_time": "2020-12-21T23:47:41.276588Z",
     "start_time": "2020-12-21T23:47:41.165780Z"
    }
   },
   "outputs": [],
   "source": [
    "#this is the encoder sim_c\n",
    "#set up a state space model sort of thing\n",
    "from riglib.bmi.state_space_models import StateSpaceEndptVel2D\n",
    "ssm = StateSpaceEndptVel2D()\n",
    "\n",
    "# specify a control matrix\n",
    "N_NEURONS = 20\n",
    "N_STATES = 7  # 3 positions and 3 velocities and an offset\n",
    "\n",
    "\n",
    "# build the observation matrix\n",
    "sim_C = np.zeros((N_NEURONS, N_STATES))\n",
    "# control x positive directions\n",
    "sim_C[2, :] = np.array([0, 0, 0, 1, 0, 0, 0])\n",
    "sim_C[3, :] = np.array([0, 0, 0, -1, 0, 0, 0])\n",
    "# control z positive directions\n",
    "sim_C[5, :] = np.array([0, 0, 0, 0, 0, 1, 0])\n",
    "sim_C[6, :] = np.array([0, 0, 0, 0, 0, -1, 0])"
   ]
  },
  {
   "cell_type": "code",
   "execution_count": 2,
   "metadata": {
    "ExecuteTime": {
     "end_time": "2020-12-21T23:48:53.444294Z",
     "start_time": "2020-12-21T23:48:52.910081Z"
    }
   },
   "outputs": [
    {
     "name": "stderr",
     "output_type": "stream",
     "text": [
      "/home/sijia-aw/BMi3D_my/lab_bmi3d/riglib/blackrock/cerelink.py:13: UserWarning: Unable to import cerebus library. Check if is installed if using the Blackrock NeuroPort system\n",
      "  warnings.warn(\"Unable to import cerebus library. Check if is installed if using the Blackrock NeuroPort system\")\n"
     ]
    },
    {
     "name": "stdout",
     "output_type": "stream",
     "text": [
      "Creating simulation decoder..\n",
      "SimKFDecoderSup:loaded suppled_encoder from function input\n",
      "<riglib.bmi.sim_neurons.GenericCosEnc object at 0x7f48d81cb040> <class 'riglib.bmi.sim_neurons.GenericCosEnc'>\n",
      "SimKFDecoderSup:loaded suppled_ssm from function input\n",
      "<riglib.bmi.sim_neurons.GenericCosEnc object at 0x7f48d81cb040> <class 'riglib.bmi.sim_neurons.GenericCosEnc'>\n",
      "SimKFDecoderSup: units:  20\n",
      " SimKFDecoderSup: zscore decoder ? :  False\n",
      "{}\n",
      "end of kwargs\n",
      "('zscore value: ', False, <class 'bool'>)\n",
      "no init_zscore\n",
      "decoder decoded state\n",
      "[[0.        ]\n",
      " [0.        ]\n",
      " [0.        ]\n",
      " [2.62700103]\n",
      " [0.        ]\n",
      " [2.77488901]\n",
      " [1.        ]]\n"
     ]
    }
   ],
   "source": [
    "#  for initialization, we just train the decoder, right.\n",
    "#initialize the goal estimator\n",
    "#fb_ctrl = LQRController(A, B, Q, R)\n",
    "\n",
    "#initialize the encoder\n",
    "import riglib.bmi.sim_neurons as sim_neurons\n",
    "np.random.seed(seed= 6)\n",
    "encoder = sim_neurons.GenericCosEnc(sim_C, ssm,\n",
    "                                           call_ds_rate=1) #for sim, we want this to return us every call, \n",
    "\n",
    "intended_state = np.asarray([0, 0, 0, 10, 0, 10, 1]).T #transpose into a col vector\n",
    "neural_obs = encoder(intended_state)\n",
    "\n",
    "#initialize the decoder\n",
    "from features import simulation_features\n",
    "decoder =  simulation_features.SimKFDecoderSup()\n",
    "decoder.load_decoder(supplied_encoder=encoder, \n",
    "                    supplied_SSM=ssm)\n",
    "\n",
    "print('decoder decoded state')\n",
    "print(decoder.decoder(neural_obs))"
   ]
  },
  {
   "cell_type": "code",
   "execution_count": 3,
   "metadata": {
    "ExecuteTime": {
     "end_time": "2020-12-21T23:48:59.555507Z",
     "start_time": "2020-12-21T23:48:59.548003Z"
    }
   },
   "outputs": [
    {
     "name": "stdout",
     "output_type": "stream",
     "text": [
      "current_state\n",
      "[0.         0.         0.         2.62700103 0.         2.77488901\n",
      " 1.        ]\n",
      "intended state:\n",
      "[ 0  0  0 10  0 10  1]\n",
      "control input into the state\n",
      "[[0.2627001 ]\n",
      " [0.        ]\n",
      " [0.2774889 ]\n",
      " [4.26997836]\n",
      " [0.        ]\n",
      " [4.34479532]\n",
      " [1.        ]]\n",
      "encoder generate control\n",
      "[0. 0. 0. 0. 0. 0. 0. 0. 0. 0. 0. 0. 0. 0. 0. 0. 0. 0. 0. 0.]\n"
     ]
    }
   ],
   "source": [
    "from riglib.bmi.feedback_controllers import LQRController\n",
    "Q = np.mat(np.diag([1., 1, 1, 0, 0, 0, 0]))\n",
    "R = 10000*np.mat(np.diag([1., 1., 1.]))\n",
    "\n",
    "current_state = decoder.decoder.get_state()\n",
    "print('current_state')\n",
    "print(current_state)\n",
    "\n",
    "\n",
    "print('intended state:')\n",
    "print(intended_state)\n",
    "\n",
    "A,B,W = ssm.get_ssm_matrices()\n",
    "fb_ctrl = LQRController(A, B, Q, R)\n",
    "ctrl = fb_ctrl.calc_next_state(current_state, intended_state)\n",
    "print('control input into the state')\n",
    "print(ctrl)\n",
    "\n",
    "print('encoder generate control')\n",
    "print(encoder(ctrl))"
   ]
  },
  {
   "cell_type": "code",
   "execution_count": null,
   "metadata": {},
   "outputs": [],
   "source": [
    "from riglib.bmi.clda import KFSmoothbatch\n",
    "\n",
    "sb_updater = KFSmoothbatch(batch_time = 20,\n",
    "                          half_life = 10)"
   ]
  }
 ],
 "metadata": {
  "kernelspec": {
   "display_name": "Python 3",
   "language": "python",
   "name": "python3"
  },
  "language_info": {
   "codemirror_mode": {
    "name": "ipython",
    "version": 3
   },
   "file_extension": ".py",
   "mimetype": "text/x-python",
   "name": "python",
   "nbconvert_exporter": "python",
   "pygments_lexer": "ipython3",
   "version": "3.8.5"
  },
  "toc": {
   "base_numbering": 1,
   "nav_menu": {},
   "number_sections": true,
   "sideBar": true,
   "skip_h1_title": false,
   "title_cell": "Table of Contents",
   "title_sidebar": "Contents",
   "toc_cell": false,
   "toc_position": {},
   "toc_section_display": true,
   "toc_window_display": false
  },
  "varInspector": {
   "cols": {
    "lenName": 16,
    "lenType": 16,
    "lenVar": 40
   },
   "kernels_config": {
    "python": {
     "delete_cmd_postfix": "",
     "delete_cmd_prefix": "del ",
     "library": "var_list.py",
     "varRefreshCmd": "print(var_dic_list())"
    },
    "r": {
     "delete_cmd_postfix": ") ",
     "delete_cmd_prefix": "rm(",
     "library": "var_list.r",
     "varRefreshCmd": "cat(var_dic_list()) "
    }
   },
   "types_to_exclude": [
    "module",
    "function",
    "builtin_function_or_method",
    "instance",
    "_Feature"
   ],
   "window_display": false
  }
 },
 "nbformat": 4,
 "nbformat_minor": 4
}
