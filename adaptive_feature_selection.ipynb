{
 "cells": [
  {
   "cell_type": "markdown",
   "metadata": {},
   "source": [
    "# To DO\n",
    "\n",
    "figure out how to add features to decoder"
   ]
  },
  {
   "cell_type": "code",
   "execution_count": 1,
   "metadata": {
    "ExecuteTime": {
     "end_time": "2021-04-16T21:36:03.717517Z",
     "start_time": "2021-04-16T21:36:03.677464Z"
    }
   },
   "outputs": [],
   "source": [
    "import numpy as np"
   ]
  },
  {
   "cell_type": "code",
   "execution_count": 2,
   "metadata": {
    "ExecuteTime": {
     "end_time": "2021-04-16T21:36:03.828270Z",
     "start_time": "2021-04-16T21:36:03.718436Z"
    }
   },
   "outputs": [],
   "source": [
    "#this is the encoder sim_c\n",
    "#set up a state space model sort of thing\n",
    "from riglib.bmi.state_space_models import StateSpaceEndptVel2D\n",
    "ssm = StateSpaceEndptVel2D()\n",
    "\n",
    "# specify a control matrix\n",
    "N_NEURONS = 20\n",
    "N_STATES = 7  # 3 positions and 3 velocities and an offset\n",
    "\n",
    "\n",
    "# build the observation matrix\n",
    "sim_C = np.zeros((N_NEURONS, N_STATES))\n",
    "# control x positive directions\n",
    "sim_C[0, :] = np.array([0, 0, 0, 10, 0, 0, 0])\n",
    "sim_C[1, :] = np.array([0, 0, 0, -10, 0, 0, 0])\n",
    "# control z positive directions\n",
    "sim_C[2, :] = np.array([0, 0, 0, 0, 0, 10, 0])\n",
    "sim_C[3, :] = np.array([0, 0, 0, 0, 0, -10, 0])"
   ]
  },
  {
   "cell_type": "markdown",
   "metadata": {},
   "source": [
    "# Select features"
   ]
  },
  {
   "cell_type": "markdown",
   "metadata": {},
   "source": [
    "## check that decoder works with the same number of encoder features"
   ]
  },
  {
   "cell_type": "code",
   "execution_count": 3,
   "metadata": {
    "ExecuteTime": {
     "end_time": "2021-04-16T21:36:04.281930Z",
     "start_time": "2021-04-16T21:36:03.829099Z"
    }
   },
   "outputs": [
    {
     "name": "stdout",
     "output_type": "stream",
     "text": [
      "neural obs\n",
      "[15  0 13  0  0  0  0  0  0  0  0  0  0  0  0  0  0  0  0  0]\n",
      "\n"
     ]
    },
    {
     "name": "stderr",
     "output_type": "stream",
     "text": [
      "/home/sijia-aw/BMi3D_my/lab_bmi3d/riglib/blackrock/cerelink.py:13: UserWarning: Unable to import cerebus library. Check if is installed if using the Blackrock NeuroPort system\n",
      "  warnings.warn(\"Unable to import cerebus library. Check if is installed if using the Blackrock NeuroPort system\")\n"
     ]
    },
    {
     "name": "stdout",
     "output_type": "stream",
     "text": [
      "Creating simulation decoder..\n",
      "SimKFDecoderSup:loaded suppled_encoder from function input\n",
      "<riglib.bmi.sim_neurons.GenericCosEnc object at 0x7f8fdc92f790> <class 'riglib.bmi.sim_neurons.GenericCosEnc'>\n",
      "SimKFDecoderSup:loaded suppled_ssm from function input\n",
      "<riglib.bmi.sim_neurons.GenericCosEnc object at 0x7f8fdc92f790> <class 'riglib.bmi.sim_neurons.GenericCosEnc'>\n",
      "SimKFDecoderSup: units:  20\n",
      " SimKFDecoderSup: zscore decoder ? :  False\n",
      "{}\n",
      "end of kwargs\n",
      "('zscore value: ', False, <class 'bool'>)\n",
      "no init_zscore\n",
      "decoder decoded state\n",
      "[[ 0.        ]\n",
      " [ 0.        ]\n",
      " [ 0.        ]\n",
      " [11.21199619]\n",
      " [ 0.        ]\n",
      " [10.10656804]\n",
      " [ 1.        ]]\n"
     ]
    }
   ],
   "source": [
    "#  for initialization, we just train the decoder, right.\n",
    "#initialize the goal estimator\n",
    "#fb_ctrl = LQRController(A, B, Q, R)\n",
    "\n",
    "#initialize the encoder\n",
    "import riglib.bmi.sim_neurons as sim_neurons\n",
    "np.random.seed(seed= 6)\n",
    "encoder = sim_neurons.GenericCosEnc(sim_C, ssm,\n",
    "                                           call_ds_rate=1) #for sim, we want this to return us every call, \n",
    "\n",
    "intended_state = np.asarray([0, 0, 0, 10, 0, 10, 1]).T #transpose into a col vector\n",
    "neural_obs = encoder(intended_state)\n",
    "\n",
    "print('neural obs')\n",
    "print(neural_obs)\n",
    "print()\n",
    "\n",
    "#initialize the decoder\n",
    "from features import simulation_features\n",
    "decoder =  simulation_features.SimKFDecoderSup()\n",
    "decoder.load_decoder(supplied_encoder=encoder, \n",
    "                    supplied_SSM=ssm)\n",
    "\n",
    "print('decoder decoded state')\n",
    "print(decoder.decoder(neural_obs))"
   ]
  },
  {
   "cell_type": "code",
   "execution_count": 4,
   "metadata": {
    "ExecuteTime": {
     "end_time": "2021-04-16T21:36:04.292900Z",
     "start_time": "2021-04-16T21:36:04.283038Z"
    }
   },
   "outputs": [
    {
     "data": {
      "text/plain": [
       "20"
      ]
     },
     "execution_count": 4,
     "metadata": {},
     "output_type": "execute_result"
    }
   ],
   "source": [
    "decoder.decoder.n_features"
   ]
  },
  {
   "cell_type": "code",
   "execution_count": 5,
   "metadata": {
    "ExecuteTime": {
     "end_time": "2021-04-16T21:36:04.297966Z",
     "start_time": "2021-04-16T21:36:04.293740Z"
    }
   },
   "outputs": [
    {
     "data": {
      "text/plain": [
       "20"
      ]
     },
     "execution_count": 5,
     "metadata": {},
     "output_type": "execute_result"
    }
   ],
   "source": [
    "decoder.decoder.n_units"
   ]
  },
  {
   "cell_type": "code",
   "execution_count": 6,
   "metadata": {
    "ExecuteTime": {
     "end_time": "2021-04-16T21:36:04.308348Z",
     "start_time": "2021-04-16T21:36:04.298859Z"
    }
   },
   "outputs": [
    {
     "data": {
      "text/plain": [
       "matrix([[1. , 0. , 0. , 0.1, 0. , 0. , 0. ],\n",
       "        [0. , 1. , 0. , 0. , 0.1, 0. , 0. ],\n",
       "        [0. , 0. , 1. , 0. , 0. , 0.1, 0. ],\n",
       "        [0. , 0. , 0. , 0.8, 0. , 0. , 0. ],\n",
       "        [0. , 0. , 0. , 0. , 0.8, 0. , 0. ],\n",
       "        [0. , 0. , 0. , 0. , 0. , 0.8, 0. ],\n",
       "        [0. , 0. , 0. , 0. , 0. , 0. , 1. ]])"
      ]
     },
     "execution_count": 6,
     "metadata": {},
     "output_type": "execute_result"
    }
   ],
   "source": [
    "decoder.decoder.filt.A"
   ]
  },
  {
   "cell_type": "markdown",
   "metadata": {},
   "source": [
    "## here we implement the change"
   ]
  },
  {
   "cell_type": "code",
   "execution_count": 7,
   "metadata": {
    "ExecuteTime": {
     "end_time": "2021-04-16T21:36:04.316555Z",
     "start_time": "2021-04-16T21:36:04.309913Z"
    }
   },
   "outputs": [],
   "source": [
    "# here we implement the change "
   ]
  },
  {
   "cell_type": "markdown",
   "metadata": {},
   "source": [
    "# select features"
   ]
  },
  {
   "cell_type": "code",
   "execution_count": 8,
   "metadata": {
    "ExecuteTime": {
     "end_time": "2021-04-16T21:36:04.328814Z",
     "start_time": "2021-04-16T21:36:04.321201Z"
    }
   },
   "outputs": [
    {
     "name": "stdout",
     "output_type": "stream",
     "text": [
      "[15  0 13  0]\n"
     ]
    }
   ],
   "source": [
    "selected_indices = [0,1,2,3]\n",
    "\n",
    "trans_neural_obs =  neural_obs[selected_indices]\n",
    "\n",
    "print(trans_neural_obs)"
   ]
  },
  {
   "cell_type": "code",
   "execution_count": 9,
   "metadata": {
    "ExecuteTime": {
     "end_time": "2021-04-16T21:36:04.339483Z",
     "start_time": "2021-04-16T21:36:04.329578Z"
    }
   },
   "outputs": [
    {
     "name": "stdout",
     "output_type": "stream",
     "text": [
      "[[ 1.1905265 ]\n",
      " [ 0.        ]\n",
      " [ 1.07370199]\n",
      " [13.36238072]\n",
      " [ 0.        ]\n",
      " [12.05816031]\n",
      " [ 1.        ]]\n"
     ]
    }
   ],
   "source": [
    "print(decoder.decoder(neural_obs))"
   ]
  },
  {
   "cell_type": "code",
   "execution_count": 10,
   "metadata": {
    "ExecuteTime": {
     "end_time": "2021-04-16T21:36:04.349630Z",
     "start_time": "2021-04-16T21:36:04.340150Z"
    }
   },
   "outputs": [
    {
     "name": "stdout",
     "output_type": "stream",
     "text": [
      "this did not work, as expected \n"
     ]
    }
   ],
   "source": [
    "try:\n",
    "    print(decoder.decoder(trans_neural_obs))\n",
    "except:\n",
    "    print('this did not work, as expected ')"
   ]
  },
  {
   "cell_type": "code",
   "execution_count": 11,
   "metadata": {
    "ExecuteTime": {
     "end_time": "2021-04-16T21:36:04.570471Z",
     "start_time": "2021-04-16T21:36:04.350314Z"
    }
   },
   "outputs": [
    {
     "name": "stdout",
     "output_type": "stream",
     "text": [
      "[[ 2.58343409]\n",
      " [ 0.        ]\n",
      " [ 2.33106053]\n",
      " [13.71397982]\n",
      " [ 0.        ]\n",
      " [12.37914781]\n",
      " [ 1.        ]]\n"
     ]
    }
   ],
   "source": [
    "from weights import change_target_kalman_filter_with_a_C_mat\n",
    "\n",
    "def select_decoder_features(target_decoder, selected_indices, debug = True):\n",
    "    '''\n",
    "    \n",
    "    '''\n",
    "    #update the C, Q matrix\n",
    "    prev_C = target_decoder.filt.C\n",
    "    transformed_C = prev_C[selected_indices,:]\n",
    "    \n",
    "    prev_Q = target_decoder.filt.Q\n",
    "    transformed_Q = prev_Q[selected_indices, :][:,selected_indices]\n",
    "    \n",
    "    #use the updated C,Q matrices to update the decoder\n",
    "    change_target_kalman_filter_with_a_C_mat(target_decoder.filt, transformed_C, \n",
    "                                     Q = transformed_Q, \n",
    "                                     debug = False\n",
    "                                    )\n",
    "    \n",
    "    #update the feature count\n",
    "    target_decoder.n_features = target_decoder.filt.C.shape[0]\n",
    "    #To-DO: also need to change how many feats we need\n",
    "    \n",
    "\n",
    "    \n",
    "\n",
    "\n",
    "select_decoder_features(decoder.decoder, selected_indices)\n",
    "print(decoder.decoder(trans_neural_obs))"
   ]
  },
  {
   "cell_type": "code",
   "execution_count": 12,
   "metadata": {
    "ExecuteTime": {
     "end_time": "2021-04-16T21:36:04.573871Z",
     "start_time": "2021-04-16T21:36:04.571417Z"
    }
   },
   "outputs": [
    {
     "data": {
      "text/plain": [
       "(4, 4)"
      ]
     },
     "execution_count": 12,
     "metadata": {},
     "output_type": "execute_result"
    }
   ],
   "source": [
    "decoder.decoder.filt.Q.shape"
   ]
  },
  {
   "cell_type": "markdown",
   "metadata": {},
   "source": [
    "## add features"
   ]
  },
  {
   "cell_type": "code",
   "execution_count": 13,
   "metadata": {
    "ExecuteTime": {
     "end_time": "2021-04-16T21:36:04.586463Z",
     "start_time": "2021-04-16T21:36:04.574607Z"
    }
   },
   "outputs": [
    {
     "name": "stdout",
     "output_type": "stream",
     "text": [
      "C matrix before\n",
      "[[ 0.00000000e+00  0.00000000e+00  0.00000000e+00  4.96162714e-01\n",
      "   0.00000000e+00  4.83642725e-04  1.04880308e+00]\n",
      " [ 0.00000000e+00  0.00000000e+00  0.00000000e+00 -4.94739263e-01\n",
      "   0.00000000e+00 -3.62002311e-03  1.05552288e+00]\n",
      " [ 0.00000000e+00  0.00000000e+00  0.00000000e+00 -1.57372307e-02\n",
      "   0.00000000e+00  5.05239899e-01  1.04127074e+00]\n",
      " [ 0.00000000e+00  0.00000000e+00  0.00000000e+00 -2.47342267e-02\n",
      "   0.00000000e+00 -5.01282137e-01  1.03067398e+00]]\n",
      "C matrix after\n",
      "[[ 0.00000000e+00  0.00000000e+00  0.00000000e+00  4.96162714e-01\n",
      "   0.00000000e+00  4.83642725e-04  1.04880308e+00]\n",
      " [ 0.00000000e+00  0.00000000e+00  0.00000000e+00 -4.94739263e-01\n",
      "   0.00000000e+00 -3.62002311e-03  1.05552288e+00]\n",
      " [ 0.00000000e+00  0.00000000e+00  0.00000000e+00 -1.57372307e-02\n",
      "   0.00000000e+00  5.05239899e-01  1.04127074e+00]\n",
      " [ 0.00000000e+00  0.00000000e+00  0.00000000e+00 -2.47342267e-02\n",
      "   0.00000000e+00 -5.01282137e-01  1.03067398e+00]\n",
      " [ 0.00000000e+00  0.00000000e+00  0.00000000e+00  0.00000000e+00\n",
      "   0.00000000e+00  0.00000000e+00  0.00000000e+00]\n",
      " [ 0.00000000e+00  0.00000000e+00  0.00000000e+00  0.00000000e+00\n",
      "   0.00000000e+00  0.00000000e+00  0.00000000e+00]]\n",
      "C_xpose_Q_inv before:\n",
      "[[ 0.          0.          0.          0.        ]\n",
      " [ 0.          0.          0.          0.        ]\n",
      " [ 0.          0.          0.          0.        ]\n",
      " [ 0.48017917 -0.5086209  -0.01251196 -0.00759772]\n",
      " [ 0.          0.          0.          0.        ]\n",
      " [ 0.00163331  0.01081983  0.48929843 -0.47720607]\n",
      " [ 0.44502592  0.52066195  0.46527664  0.40421326]]\n",
      "C_xpose_Q_inv_C after:\n",
      "[[ 0.          0.          0.          0.          0.          0.        ]\n",
      " [ 0.          0.          0.          0.          0.          0.        ]\n",
      " [ 0.          0.          0.          0.          0.          0.        ]\n",
      " [ 0.48017917 -0.5086209  -0.01251196 -0.00759772  0.          0.        ]\n",
      " [ 0.          0.          0.          0.          0.          0.        ]\n",
      " [ 0.00163331  0.01081983  0.48929843 -0.47720607  0.          0.        ]\n",
      " [ 0.44502592  0.52066195  0.46527664  0.40421326  0.          0.        ]]\n",
      "C_xpose_Q_inv_C_before:\n",
      "[[ 0.00000000e+00  0.00000000e+00  0.00000000e+00  0.00000000e+00\n",
      "   0.00000000e+00  0.00000000e+00  0.00000000e+00]\n",
      " [ 0.00000000e+00  0.00000000e+00  0.00000000e+00  0.00000000e+00\n",
      "   0.00000000e+00  0.00000000e+00  0.00000000e+00]\n",
      " [ 0.00000000e+00  0.00000000e+00  0.00000000e+00  0.00000000e+00\n",
      "   0.00000000e+00  0.00000000e+00  0.00000000e+00]\n",
      " [ 0.00000000e+00  0.00000000e+00  0.00000000e+00  4.90266560e-01\n",
      "   0.00000000e+00 -4.39486593e-04 -5.41067108e-02]\n",
      " [ 0.00000000e+00  0.00000000e+00  0.00000000e+00  0.00000000e+00\n",
      "   0.00000000e+00  0.00000000e+00  0.00000000e+00]\n",
      " [ 0.00000000e+00  0.00000000e+00  0.00000000e+00 -4.39486593e-04\n",
      "   0.00000000e+00  4.86389587e-01  3.07818599e-02]\n",
      " [ 0.00000000e+00  0.00000000e+00  0.00000000e+00 -5.41067108e-02\n",
      "   0.00000000e+00  3.07818599e-02  1.91740620e+00]]\n",
      "C_xpose_Q_inv_C after:\n",
      "[[ 0.00000000e+00  0.00000000e+00  0.00000000e+00  0.00000000e+00\n",
      "   0.00000000e+00  0.00000000e+00  0.00000000e+00]\n",
      " [ 0.00000000e+00  0.00000000e+00  0.00000000e+00  0.00000000e+00\n",
      "   0.00000000e+00  0.00000000e+00  0.00000000e+00]\n",
      " [ 0.00000000e+00  0.00000000e+00  0.00000000e+00  0.00000000e+00\n",
      "   0.00000000e+00  0.00000000e+00  0.00000000e+00]\n",
      " [ 0.00000000e+00  0.00000000e+00  0.00000000e+00  4.90266560e-01\n",
      "   0.00000000e+00 -4.39486593e-04 -5.41067108e-02]\n",
      " [ 0.00000000e+00  0.00000000e+00  0.00000000e+00  0.00000000e+00\n",
      "   0.00000000e+00  0.00000000e+00  0.00000000e+00]\n",
      " [ 0.00000000e+00  0.00000000e+00  0.00000000e+00 -4.39486593e-04\n",
      "   0.00000000e+00  4.86389587e-01  3.07818599e-02]\n",
      " [ 0.00000000e+00  0.00000000e+00  0.00000000e+00 -5.41067108e-02\n",
      "   0.00000000e+00  3.07818599e-02  1.91740620e+00]]\n"
     ]
    }
   ],
   "source": [
    "def add_new_features(target_decoder, num_add_feat):\n",
    "    '''\n",
    "    \n",
    "    '''\n",
    "\n",
    "    (num_old_feats,num_states) = target_decoder.filt.C.shape\n",
    "    num_new_feats = num_add_feat + num_old_feats\n",
    "\n",
    "    #add zero rows to the observation matrix\n",
    "    prev_C = target_decoder.filt.C\n",
    "    new_rows = np.zeros((num_add_feat, num_states))\n",
    "    new_C =  np.vstack((prev_C, new_rows))\n",
    "\n",
    "    new_C.shape\n",
    "\n",
    "    #add rows and columns to the observation matrix\n",
    "    prev_Q = target_decoder.filt.Q\n",
    "    new_rows = np.zeros((num_add_feat, num_old_feats))\n",
    "    new_Q = np.vstack((prev_Q, new_rows))\n",
    "\n",
    "    new_cols = np.zeros((num_new_feats, num_add_feat))\n",
    "    new_Q = np.hstack((new_Q, new_cols))\n",
    "\n",
    "    # assign back to the decoder\n",
    "    change_target_kalman_filter_with_a_C_mat(target_decoder.filt, new_C, Q = new_Q,\n",
    "                                            debug = False)\n",
    "\n",
    "    \n",
    "add_new_features(decoder.decoder,  2)"
   ]
  },
  {
   "cell_type": "markdown",
   "metadata": {},
   "source": [
    "### save the C matrix"
   ]
  },
  {
   "cell_type": "code",
   "execution_count": 14,
   "metadata": {
    "ExecuteTime": {
     "end_time": "2021-04-16T21:36:04.594821Z",
     "start_time": "2021-04-16T21:36:04.587392Z"
    }
   },
   "outputs": [
    {
     "name": "stdout",
     "output_type": "stream",
     "text": [
      "(6, 7)\n"
     ]
    }
   ],
   "source": [
    "print(decoder.decoder.filt.C.shape)"
   ]
  },
  {
   "cell_type": "code",
   "execution_count": 15,
   "metadata": {
    "ExecuteTime": {
     "end_time": "2021-04-16T21:36:04.604876Z",
     "start_time": "2021-04-16T21:36:04.595683Z"
    }
   },
   "outputs": [],
   "source": [
    "debug = True\n",
    "prev_C = decoder.decoder.filt.C\n",
    "transformed_C = prev_C[selected_indices,:]\n",
    "\n",
    "prev_Q = decoder.decoder.filt.Q\n",
    "\n",
    "transformed_Q = prev_Q[selected_indices, :][:,selected_indices]\n",
    "\n"
   ]
  },
  {
   "cell_type": "markdown",
   "metadata": {},
   "source": [
    "To-DO: sort out decoder.decoder.n_units = decoder.decoder.filt.C.shape[0]\n",
    "why cannot we sort out the decoder units"
   ]
  },
  {
   "cell_type": "code",
   "execution_count": 16,
   "metadata": {
    "ExecuteTime": {
     "end_time": "2021-04-16T21:36:04.619787Z",
     "start_time": "2021-04-16T21:36:04.608923Z"
    }
   },
   "outputs": [
    {
     "name": "stdout",
     "output_type": "stream",
     "text": [
      "20\n",
      "4\n"
     ]
    }
   ],
   "source": [
    "from weights import change_target_kalman_filter_with_a_C_mat\n",
    "\n",
    "change_target_kalman_filter_with_a_C_mat(decoder.decoder.filt, transformed_C, \n",
    "                                         Q = transformed_Q, \n",
    "                                         debug = False\n",
    "                                        )\n",
    "\n",
    "print(decoder.decoder.n_units)\n",
    "decoder.decoder.n_features = decoder.decoder.filt.C.shape[0]\n",
    "\n",
    "print(decoder.decoder.n_features)"
   ]
  },
  {
   "cell_type": "code",
   "execution_count": 17,
   "metadata": {
    "ExecuteTime": {
     "end_time": "2021-04-16T21:36:04.636895Z",
     "start_time": "2021-04-16T21:36:04.623689Z"
    }
   },
   "outputs": [
    {
     "name": "stdout",
     "output_type": "stream",
     "text": [
      "[[ 4.00867411]\n",
      " [ 0.        ]\n",
      " [ 3.6179261 ]\n",
      " [13.77098461]\n",
      " [ 0.        ]\n",
      " [12.43149166]\n",
      " [ 1.        ]]\n"
     ]
    }
   ],
   "source": [
    "print(decoder.decoder(trans_neural_obs))"
   ]
  },
  {
   "cell_type": "markdown",
   "metadata": {},
   "source": [
    "## added the features"
   ]
  },
  {
   "cell_type": "code",
   "execution_count": 18,
   "metadata": {
    "ExecuteTime": {
     "end_time": "2021-04-16T21:36:04.658036Z",
     "start_time": "2021-04-16T21:36:04.640940Z"
    }
   },
   "outputs": [
    {
     "name": "stdout",
     "output_type": "stream",
     "text": [
      "(4, 4)\n",
      "C matrix before\n",
      "[[ 0.00000000e+00  0.00000000e+00  0.00000000e+00  4.96162714e-01\n",
      "   0.00000000e+00  4.83642725e-04  1.04880308e+00]\n",
      " [ 0.00000000e+00  0.00000000e+00  0.00000000e+00 -4.94739263e-01\n",
      "   0.00000000e+00 -3.62002311e-03  1.05552288e+00]\n",
      " [ 0.00000000e+00  0.00000000e+00  0.00000000e+00 -1.57372307e-02\n",
      "   0.00000000e+00  5.05239899e-01  1.04127074e+00]\n",
      " [ 0.00000000e+00  0.00000000e+00  0.00000000e+00 -2.47342267e-02\n",
      "   0.00000000e+00 -5.01282137e-01  1.03067398e+00]]\n",
      "C matrix after\n",
      "[[ 0.00000000e+00  0.00000000e+00  0.00000000e+00  4.96162714e-01\n",
      "   0.00000000e+00  4.83642725e-04  1.04880308e+00]\n",
      " [ 0.00000000e+00  0.00000000e+00  0.00000000e+00 -4.94739263e-01\n",
      "   0.00000000e+00 -3.62002311e-03  1.05552288e+00]\n",
      " [ 0.00000000e+00  0.00000000e+00  0.00000000e+00 -1.57372307e-02\n",
      "   0.00000000e+00  5.05239899e-01  1.04127074e+00]\n",
      " [ 0.00000000e+00  0.00000000e+00  0.00000000e+00 -2.47342267e-02\n",
      "   0.00000000e+00 -5.01282137e-01  1.03067398e+00]\n",
      " [ 0.00000000e+00  0.00000000e+00  0.00000000e+00  0.00000000e+00\n",
      "   0.00000000e+00  0.00000000e+00  0.00000000e+00]\n",
      " [ 0.00000000e+00  0.00000000e+00  0.00000000e+00  0.00000000e+00\n",
      "   0.00000000e+00  0.00000000e+00  0.00000000e+00]]\n",
      "C_xpose_Q_inv before:\n",
      "[[ 0.          0.          0.          0.        ]\n",
      " [ 0.          0.          0.          0.        ]\n",
      " [ 0.          0.          0.          0.        ]\n",
      " [ 0.48017917 -0.5086209  -0.01251196 -0.00759772]\n",
      " [ 0.          0.          0.          0.        ]\n",
      " [ 0.00163331  0.01081983  0.48929843 -0.47720607]\n",
      " [ 0.44502592  0.52066195  0.46527664  0.40421326]]\n",
      "C_xpose_Q_inv_C after:\n",
      "[[ 0.          0.          0.          0.          0.          0.        ]\n",
      " [ 0.          0.          0.          0.          0.          0.        ]\n",
      " [ 0.          0.          0.          0.          0.          0.        ]\n",
      " [ 0.48017917 -0.5086209  -0.01251196 -0.00759772  0.          0.        ]\n",
      " [ 0.          0.          0.          0.          0.          0.        ]\n",
      " [ 0.00163331  0.01081983  0.48929843 -0.47720607  0.          0.        ]\n",
      " [ 0.44502592  0.52066195  0.46527664  0.40421326  0.          0.        ]]\n",
      "C_xpose_Q_inv_C_before:\n",
      "[[ 0.00000000e+00  0.00000000e+00  0.00000000e+00  0.00000000e+00\n",
      "   0.00000000e+00  0.00000000e+00  0.00000000e+00]\n",
      " [ 0.00000000e+00  0.00000000e+00  0.00000000e+00  0.00000000e+00\n",
      "   0.00000000e+00  0.00000000e+00  0.00000000e+00]\n",
      " [ 0.00000000e+00  0.00000000e+00  0.00000000e+00  0.00000000e+00\n",
      "   0.00000000e+00  0.00000000e+00  0.00000000e+00]\n",
      " [ 0.00000000e+00  0.00000000e+00  0.00000000e+00  4.90266560e-01\n",
      "   0.00000000e+00 -4.39486593e-04 -5.41067108e-02]\n",
      " [ 0.00000000e+00  0.00000000e+00  0.00000000e+00  0.00000000e+00\n",
      "   0.00000000e+00  0.00000000e+00  0.00000000e+00]\n",
      " [ 0.00000000e+00  0.00000000e+00  0.00000000e+00 -4.39486593e-04\n",
      "   0.00000000e+00  4.86389587e-01  3.07818599e-02]\n",
      " [ 0.00000000e+00  0.00000000e+00  0.00000000e+00 -5.41067108e-02\n",
      "   0.00000000e+00  3.07818599e-02  1.91740620e+00]]\n",
      "C_xpose_Q_inv_C after:\n",
      "[[ 0.00000000e+00  0.00000000e+00  0.00000000e+00  0.00000000e+00\n",
      "   0.00000000e+00  0.00000000e+00  0.00000000e+00]\n",
      " [ 0.00000000e+00  0.00000000e+00  0.00000000e+00  0.00000000e+00\n",
      "   0.00000000e+00  0.00000000e+00  0.00000000e+00]\n",
      " [ 0.00000000e+00  0.00000000e+00  0.00000000e+00  0.00000000e+00\n",
      "   0.00000000e+00  0.00000000e+00  0.00000000e+00]\n",
      " [ 0.00000000e+00  0.00000000e+00  0.00000000e+00  4.90266560e-01\n",
      "   0.00000000e+00 -4.39486593e-04 -5.41067108e-02]\n",
      " [ 0.00000000e+00  0.00000000e+00  0.00000000e+00  0.00000000e+00\n",
      "   0.00000000e+00  0.00000000e+00  0.00000000e+00]\n",
      " [ 0.00000000e+00  0.00000000e+00  0.00000000e+00 -4.39486593e-04\n",
      "   0.00000000e+00  4.86389587e-01  3.07818599e-02]\n",
      " [ 0.00000000e+00  0.00000000e+00  0.00000000e+00 -5.41067108e-02\n",
      "   0.00000000e+00  3.07818599e-02  1.91740620e+00]]\n"
     ]
    }
   ],
   "source": [
    "num_add_feat = 2\n",
    "(num_old_feats,num_states) = decoder.decoder.filt.C.shape\n",
    "num_new_feats = num_add_feat + num_old_feats\n",
    "\n",
    "#add zero rows to the observation matrix\n",
    "prev_C = decoder.decoder.filt.C\n",
    "new_rows = np.zeros((num_add_feat, num_states))\n",
    "new_C =  np.vstack((prev_C, new_rows))\n",
    "\n",
    "new_C.shape\n",
    "\n",
    "#add rows and columns to the observation matrix\n",
    "prev_Q = decoder.decoder.filt.Q\n",
    "new_rows = np.zeros((num_add_feat, num_old_feats))\n",
    "print(prev_Q.shape)\n",
    "new_Q = np.vstack((prev_Q, new_rows))\n",
    "\n",
    "new_cols = np.zeros((num_new_feats, num_add_feat))\n",
    "new_Q = np.hstack((new_Q, new_cols))\n",
    "\n",
    "# assign back to the \n",
    "change_target_kalman_filter_with_a_C_mat(decoder.decoder.filt, new_C, Q = new_Q)\n",
    "\n",
    "\n",
    "    "
   ]
  },
  {
   "cell_type": "code",
   "execution_count": 19,
   "metadata": {
    "ExecuteTime": {
     "end_time": "2021-04-16T21:36:04.663260Z",
     "start_time": "2021-04-16T21:36:04.659627Z"
    }
   },
   "outputs": [
    {
     "name": "stdout",
     "output_type": "stream",
     "text": [
      "[[ 1.63863066  0.57053166  0.01753904  0.03551428  0.          0.        ]\n",
      " [ 0.57053166  1.51080346 -0.00306715  0.04064861  0.          0.        ]\n",
      " [ 0.01753904 -0.00306715  1.663034    0.64641987  0.          0.        ]\n",
      " [ 0.03551428  0.04064861  0.64641987  1.71429543  0.          0.        ]\n",
      " [ 0.          0.          0.          0.          0.          0.        ]\n",
      " [ 0.          0.          0.          0.          0.          0.        ]]\n"
     ]
    }
   ],
   "source": [
    "print(new_Q)"
   ]
  },
  {
   "cell_type": "code",
   "execution_count": 20,
   "metadata": {
    "ExecuteTime": {
     "end_time": "2021-04-16T21:36:04.674395Z",
     "start_time": "2021-04-16T21:36:04.664701Z"
    }
   },
   "outputs": [
    {
     "data": {
      "text/plain": [
       "array([[0, 1, 2],\n",
       "       [3, 4, 5],\n",
       "       [6, 7, 8]])"
      ]
     },
     "execution_count": 20,
     "metadata": {},
     "output_type": "execute_result"
    }
   ],
   "source": [
    "A = np.arange(9).reshape((3,3,))\n",
    "A"
   ]
  },
  {
   "cell_type": "code",
   "execution_count": 21,
   "metadata": {
    "ExecuteTime": {
     "end_time": "2021-04-16T21:36:04.684571Z",
     "start_time": "2021-04-16T21:36:04.675704Z"
    }
   },
   "outputs": [
    {
     "data": {
      "text/plain": [
       "(4, 7)"
      ]
     },
     "execution_count": 21,
     "metadata": {},
     "output_type": "execute_result"
    }
   ],
   "source": [
    "prev_C.shape"
   ]
  },
  {
   "cell_type": "code",
   "execution_count": 22,
   "metadata": {
    "ExecuteTime": {
     "end_time": "2021-04-16T21:36:04.766733Z",
     "start_time": "2021-04-16T21:36:04.685382Z"
    }
   },
   "outputs": [
    {
     "ename": "NameError",
     "evalue": "name 'num_new_feat' is not defined",
     "output_type": "error",
     "traceback": [
      "\u001b[0;31m---------------------------------------------------------------------------\u001b[0m",
      "\u001b[0;31mNameError\u001b[0m                                 Traceback (most recent call last)",
      "\u001b[0;32m<ipython-input-22-ddb7a867552b>\u001b[0m in \u001b[0;36m<module>\u001b[0;34m\u001b[0m\n\u001b[0;32m----> 1\u001b[0;31m \u001b[0mnew_rows\u001b[0m \u001b[0;34m=\u001b[0m \u001b[0mnp\u001b[0m\u001b[0;34m.\u001b[0m\u001b[0mzeros\u001b[0m\u001b[0;34m(\u001b[0m\u001b[0;34m(\u001b[0m\u001b[0mnum_new_feat\u001b[0m\u001b[0;34m,\u001b[0m \u001b[0mnum_states\u001b[0m\u001b[0;34m)\u001b[0m\u001b[0;34m)\u001b[0m\u001b[0;34m\u001b[0m\u001b[0;34m\u001b[0m\u001b[0m\n\u001b[0m\u001b[1;32m      2\u001b[0m \u001b[0mnew_C\u001b[0m \u001b[0;34m=\u001b[0m  \u001b[0mnp\u001b[0m\u001b[0;34m.\u001b[0m\u001b[0mvstack\u001b[0m\u001b[0;34m(\u001b[0m\u001b[0;34m(\u001b[0m\u001b[0mprev_C\u001b[0m\u001b[0;34m,\u001b[0m \u001b[0mnew_rows\u001b[0m\u001b[0;34m)\u001b[0m\u001b[0;34m)\u001b[0m\u001b[0;34m\u001b[0m\u001b[0;34m\u001b[0m\u001b[0m\n\u001b[1;32m      3\u001b[0m \u001b[0;34m\u001b[0m\u001b[0m\n\u001b[1;32m      4\u001b[0m \u001b[0mnew_C\u001b[0m\u001b[0;34m.\u001b[0m\u001b[0mshape\u001b[0m\u001b[0;34m\u001b[0m\u001b[0;34m\u001b[0m\u001b[0m\n",
      "\u001b[0;31mNameError\u001b[0m: name 'num_new_feat' is not defined"
     ]
    }
   ],
   "source": [
    "new_rows = np.zeros((num_new_feat, num_states))\n",
    "new_C =  np.vstack((prev_C, new_rows))\n",
    "\n",
    "new_C.shape"
   ]
  },
  {
   "cell_type": "markdown",
   "metadata": {},
   "source": [
    "# understand controller"
   ]
  },
  {
   "cell_type": "code",
   "execution_count": null,
   "metadata": {
    "ExecuteTime": {
     "end_time": "2021-04-16T21:36:04.767584Z",
     "start_time": "2021-04-16T21:36:03.685Z"
    }
   },
   "outputs": [],
   "source": [
    "from riglib.bmi.feedback_controllers import LQRController\n",
    "Q = np.mat(np.diag([1., 1, 1, 0, 0, 0, 0]))\n",
    "R = 10000*np.mat(np.diag([1., 1., 1.]))\n",
    "\n",
    "current_state = decoder.decoder.get_state()\n",
    "print('current_state')\n",
    "print(current_state)\n",
    "\n",
    "\n",
    "print('intended state:')\n",
    "print(intended_state)\n",
    "\n",
    "A,B,W = ssm.get_ssm_matrices()\n",
    "fb_ctrl = LQRController(A, B, Q, R)\n",
    "ctrl = fb_ctrl.calc_next_state(current_state, intended_state)\n",
    "print('control input into the state')\n",
    "print(ctrl)\n",
    "\n",
    "print('encoder generate control')\n",
    "print(encoder(ctrl))"
   ]
  },
  {
   "cell_type": "markdown",
   "metadata": {},
   "source": [
    "# change the learner  as well"
   ]
  },
  {
   "cell_type": "code",
   "execution_count": null,
   "metadata": {
    "ExecuteTime": {
     "end_time": "2021-04-16T21:36:04.767968Z",
     "start_time": "2021-04-16T21:36:03.687Z"
    }
   },
   "outputs": [],
   "source": [
    "from riglib.bmi.clda import KFSmoothbatch\n",
    "\n",
    "sb_updater = KFSmoothbatch(batch_time = 20,\n",
    "                          half_life = 10)"
   ]
  },
  {
   "cell_type": "code",
   "execution_count": null,
   "metadata": {},
   "outputs": [],
   "source": []
  }
 ],
 "metadata": {
  "kernelspec": {
   "display_name": "Python 3",
   "language": "python",
   "name": "python3"
  },
  "language_info": {
   "codemirror_mode": {
    "name": "ipython",
    "version": 3
   },
   "file_extension": ".py",
   "mimetype": "text/x-python",
   "name": "python",
   "nbconvert_exporter": "python",
   "pygments_lexer": "ipython3",
   "version": "3.8.5"
  },
  "toc": {
   "base_numbering": 1,
   "nav_menu": {},
   "number_sections": true,
   "sideBar": true,
   "skip_h1_title": false,
   "title_cell": "Table of Contents",
   "title_sidebar": "Contents",
   "toc_cell": false,
   "toc_position": {
    "height": "calc(100% - 180px)",
    "left": "10px",
    "top": "150px",
    "width": "293.112px"
   },
   "toc_section_display": true,
   "toc_window_display": true
  },
  "varInspector": {
   "cols": {
    "lenName": 16,
    "lenType": 16,
    "lenVar": 40
   },
   "kernels_config": {
    "python": {
     "delete_cmd_postfix": "",
     "delete_cmd_prefix": "del ",
     "library": "var_list.py",
     "varRefreshCmd": "print(var_dic_list())"
    },
    "r": {
     "delete_cmd_postfix": ") ",
     "delete_cmd_prefix": "rm(",
     "library": "var_list.r",
     "varRefreshCmd": "cat(var_dic_list()) "
    }
   },
   "types_to_exclude": [
    "module",
    "function",
    "builtin_function_or_method",
    "instance",
    "_Feature"
   ],
   "window_display": false
  }
 },
 "nbformat": 4,
 "nbformat_minor": 4
}
