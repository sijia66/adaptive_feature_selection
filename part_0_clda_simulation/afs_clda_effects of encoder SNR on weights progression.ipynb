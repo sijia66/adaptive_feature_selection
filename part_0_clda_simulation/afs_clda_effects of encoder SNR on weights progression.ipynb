{
 "cells": [
  {
   "cell_type": "markdown",
   "metadata": {},
   "source": [
    "# Purposes of this document\n",
    "\n",
    "the goal is to actually\n",
    "examine the relevance of the features with respect to the estimated intentions.\n",
    "\n",
    "we fit the est. intentions to the features(spike_counts) \n",
    "and test the p_values of the reg. coefficients. \n",
    "\n",
    "we expect to see:\n",
    "1. for each row,  it should similar to the encoder C matrix\n",
    "2. the non-relevant features or non-encoding features would have close to 1 p-values. \n",
    "\n",
    "in the end, \n",
    "we will demonstrate the mismatch through\n",
    "1. the rewarded trials and the reward trial rate. \n",
    "2. qualitative comparisions of trajectories. \n",
    "3. the tuning directions of C. and the tracking performance using correlation coefficients"
   ]
  },
  {
   "cell_type": "markdown",
   "metadata": {},
   "source": [
    "# ideas"
   ]
  },
  {
   "cell_type": "markdown",
   "metadata": {},
   "source": [
    "we play with the supervision way\n",
    "\n",
    "\n",
    "\n",
    "do feature selection in unsupervised way\n",
    "don't have\n",
    "little variance features can be dropped. \n",
    "this would be particularly int.\n",
    "\n",
    "why feature selection could be separate? \n",
    "for instance,  change in the neuron recording.\n",
    "thing happen at the background. \n",
    "quickly capture that. \n",
    "\n",
    "finish the simulations\n",
    "1. firing rates\n",
    "2. the convergence is a function of SNR, might be interesing, in the context of feature selection. \n",
    "\n",
    "make a  simulation\n",
    "1. some neurons high SNR, and some neuron low\n",
    "2. the high SNR might be learnt faster. \n",
    "3. train on more higher SNR \n",
    "3. gradually add in features. \n",
    "4. a nice demo of feature selection of sequentially. \n",
    "5. would a scheme that does that be performance beneficial\n",
    "6. the low SNRS are useful but can be added later. \n",
    "\n",
    "connected neural networks.\n",
    "1. big obvious features that explain well. \n",
    "2. some really nice features. \\\n",
    "3. cats and dogs. learn the brightness instead of the animals. \n",
    "4. similar things, we have a distribution "
   ]
  },
  {
   "cell_type": "markdown",
   "metadata": {},
   "source": [
    "# Experimental setup related to the questions\n",
    "\n",
    "this part should be configured to directly test the hypothesis put forward in the previous section\n"
   ]
  },
  {
   "cell_type": "code",
   "execution_count": 2,
   "metadata": {
    "ExecuteTime": {
     "end_time": "2021-03-12T00:58:08.516334Z",
     "start_time": "2021-03-12T00:58:08.510064Z"
    }
   },
   "outputs": [
    {
     "name": "stdout",
     "output_type": "stream",
     "text": [
      "we have experimental conditions ['enc. mean fr 1.0', 'enc. mean fr 2.0', 'enc. mean fr 4.0', 'enc. mean fr 8.0', 'enc. mean fr 16.0', 'enc. mean fr 32.0', 'enc. mean fr 64.0', 'enc. mean fr 128.0', 'enc. mean fr 256.0', 'enc. mean fr 512.0', 'enc. mean fr 1024.0']\n"
     ]
    }
   ],
   "source": [
    "import numpy as np\n",
    "\n",
    "MEAN_FIRING_RATE_START_IN_BASE_2 = 0\n",
    "MEAN_FIRING_RATE_STOP_IN_BASE_2 = 10\n",
    "\n",
    "neuron_firing_rates = np.logspace(MEAN_FIRING_RATE_START_IN_BASE_2, \n",
    "                                  MEAN_FIRING_RATE_STOP_IN_BASE_2, \n",
    "                                  MEAN_FIRING_RATE_STOP_IN_BASE_2  + 1, \n",
    "                                 base = 2)\n",
    "\n",
    "#for comparision\n",
    "exp_conds = [f'enc. mean fr {str(s)}' for s in neuron_firing_rates]\n",
    "print(f'we have experimental conditions {exp_conds}')\n",
    "\n",
    "#setting clda parameters \n",
    "##learner: collects paird data at batch_sizes\n",
    "RHO = 0.5\n",
    "batch_size = 50\n",
    "\n",
    "\n",
    "#assistor set up assist level\n",
    "assist_level = (0.05, 0.0)\n",
    "\n",
    "#learner and updater: actualy set up rho\n",
    "UPDATER_BATCH_TIME = 1\n",
    "UPDATER_HALF_LIFE = np.log(RHO)  * UPDATER_BATCH_TIME / np.log(0.5)\n"
   ]
  },
  {
   "cell_type": "code",
   "execution_count": 3,
   "metadata": {
    "ExecuteTime": {
     "end_time": "2021-03-11T22:01:07.583146Z",
     "start_time": "2021-03-11T22:01:07.573214Z"
    }
   },
   "outputs": [],
   "source": [
    "# CHANGE: game mechanics: generate task params\n",
    "N_TARGETS = 8\n",
    "N_TRIALS = 80\n",
    "\n",
    "NUM_EXP = len(exp_conds) # how many experiments we are running. "
   ]
  },
  {
   "cell_type": "markdown",
   "metadata": {},
   "source": [
    "# Config the experiments\n",
    "\n",
    "this section largely copyied and pasted from   \n",
    "bmi3d-sijia(branch)-bulti_in_experiemnts\n",
    "https://github.com/sijia66/brain-python-interface/blob/master/built_in_tasks/sim_task_KF.py"
   ]
  },
  {
   "cell_type": "markdown",
   "metadata": {},
   "source": [
    "## load dependant libraries"
   ]
  },
  {
   "cell_type": "code",
   "execution_count": 4,
   "metadata": {
    "ExecuteTime": {
     "end_time": "2021-03-11T22:01:08.487618Z",
     "start_time": "2021-03-11T22:01:07.583976Z"
    }
   },
   "outputs": [
    {
     "name": "stderr",
     "output_type": "stream",
     "text": [
      "/home/sijia-aw/BMi3D_my/lab_bmi3d/riglib/blackrock/cerelink.py:13: UserWarning: Unable to import cerebus library. Check if is installed if using the Blackrock NeuroPort system\n",
      "  warnings.warn(\"Unable to import cerebus library. Check if is installed if using the Blackrock NeuroPort system\")\n"
     ]
    }
   ],
   "source": [
    "# import libraries\n",
    "# make sure these directories are in the python path., \n",
    "from bmimultitasks import SimBMIControlMulti, SimBMICosEncKFDec, BMIControlMultiNoWindow\n",
    "from features import SaveHDF\n",
    "from features.simulation_features import get_enc_setup, SimKFDecoderRandom, SimCosineTunedEnc,SimIntentionLQRController, SimClockTick\n",
    "from features.simulation_features import SimHDF, SimTime\n",
    "\n",
    "from riglib import experiment\n",
    "\n",
    "from riglib.stereo_opengl.window import FakeWindow\n",
    "from riglib.bmi import train\n",
    "\n",
    "\n",
    "from behaviour_metrics import calc_inter_wait_times, filter_state, sort_trials\n",
    "\n",
    "from weights import calc_p_values_for_spike_batches_use_intended_kin\n",
    "from weights import calc_single_batch_p_values_by_fitting_kinematics_to_spike_counts\n",
    "import weights\n",
    "\n",
    "import time\n",
    "import copy\n",
    "import numpy as np\n",
    "import matplotlib.pyplot as plt\n",
    "import sympy as sp\n",
    "import itertools #for identical sequences\n",
    "\n",
    "np.set_printoptions(precision=2, suppress=True)\n"
   ]
  },
  {
   "cell_type": "markdown",
   "metadata": {},
   "source": [
    "##  behaviour and task setup"
   ]
  },
  {
   "cell_type": "code",
   "execution_count": 5,
   "metadata": {
    "ExecuteTime": {
     "end_time": "2021-03-11T22:01:08.491405Z",
     "start_time": "2021-03-11T22:01:08.488626Z"
    }
   },
   "outputs": [],
   "source": [
    "seq = SimBMIControlMulti.sim_target_seq_generator_multi(\n",
    "N_TARGETS, N_TRIALS)\n",
    "\n",
    "#create a second version of the tasks\n",
    "seqs = itertools.tee(seq, NUM_EXP + 1)\n",
    "target_seq = list(seqs[NUM_EXP])\n",
    "\n",
    "seqs = seqs[:NUM_EXP]\n",
    "\n",
    "\n",
    "SAVE_HDF = False\n",
    "SAVE_SIM_HDF = True #this makes the task data available as exp.task_data_hist\n",
    "DEBUG_FEATURE = False\n",
    "\n",
    "\n",
    "#base_class = SimBMIControlMulti\n",
    "base_class = BMIControlMultiNoWindow\n",
    "\n",
    "#for adding experimental features such as encoder, decoder\n",
    "feats = []"
   ]
  },
  {
   "cell_type": "markdown",
   "metadata": {},
   "source": [
    "## encoder\n",
    "\n",
    "the cosine tuned encoder uses a poisson process, right\n",
    "https://en.wikipedia.org/wiki/Poisson_distribution\n",
    "so if the lambda is 1, then it's very likely "
   ]
  },
  {
   "cell_type": "code",
   "execution_count": 6,
   "metadata": {
    "ExecuteTime": {
     "end_time": "2021-03-11T22:01:08.506738Z",
     "start_time": "2021-03-11T22:01:08.492625Z"
    }
   },
   "outputs": [
    {
     "name": "stdout",
     "output_type": "stream",
     "text": [
      "features.simulation_features: get_enc_setup has a tuning_level of 1 \n",
      "\n",
      "__main__: selected SimCosineTunedEnc\n",
      "\n"
     ]
    }
   ],
   "source": [
    "ENCODER_TYPE = 'cosine_tuned_encoder'\n",
    "\n",
    "#neuron set up : 'std (20 neurons)' or 'toy (4 neurons)' \n",
    "N_NEURONS, N_STATES, sim_C = get_enc_setup(sim_mode = 'toy')\n",
    "\n",
    "\n",
    "#actually multiply out the firing rates. \n",
    "sim_C_all = [sim_C * nfr for nfr in neuron_firing_rates]\n",
    "\n",
    "\n",
    "#set up intention feedbackcontroller\n",
    "#this ideally set before the encoder\n",
    "feats.append(SimIntentionLQRController)\n",
    "\n",
    "#set up the encoder\n",
    "if ENCODER_TYPE == 'cosine_tuned_encoder' :\n",
    "    feats.append(SimCosineTunedEnc)\n",
    "    print(f'{__name__}: selected SimCosineTunedEnc\\n')"
   ]
  },
  {
   "cell_type": "markdown",
   "metadata": {},
   "source": [
    "## decoder setup"
   ]
  },
  {
   "cell_type": "code",
   "execution_count": 7,
   "metadata": {
    "ExecuteTime": {
     "end_time": "2021-03-11T22:01:08.516877Z",
     "start_time": "2021-03-11T22:01:08.507711Z"
    }
   },
   "outputs": [
    {
     "name": "stdout",
     "output_type": "stream",
     "text": [
      "__main__: set base class \n",
      "__main__: selected SimKFDecoderRandom \n",
      "\n"
     ]
    }
   ],
   "source": [
    "#clda on random \n",
    "DECODER_MODE = 'random' # random \n",
    "\n",
    "   #take care the decoder setup\n",
    "if DECODER_MODE == 'random':\n",
    "    feats.append(SimKFDecoderRandom)\n",
    "    print(f'{__name__}: set base class ')\n",
    "    print(f'{__name__}: selected SimKFDecoderRandom \\n')\n",
    "else: #defaul to a cosEnc and a pre-traind KF DEC\n",
    "    from features.simulation_features import SimKFDecoderSup\n",
    "    feats.append(SimKFDecoderSup)\n",
    "    print(f'{__name__}: set decoder to SimKFDecoderSup\\n')"
   ]
  },
  {
   "cell_type": "markdown",
   "metadata": {},
   "source": [
    "##  clda: learner and updater"
   ]
  },
  {
   "cell_type": "code",
   "execution_count": 8,
   "metadata": {
    "ExecuteTime": {
     "end_time": "2021-03-11T22:01:08.527156Z",
     "start_time": "2021-03-11T22:01:08.517746Z"
    }
   },
   "outputs": [],
   "source": [
    "\n",
    "\n",
    "LEARNER_TYPE = 'feedback' # to dumb or not dumb it is a question 'feedback'\n",
    "UPDATER_TYPE = 'smooth_batch' #none or \"smooth_batch\"\n",
    "\n",
    "\n",
    "#you know what? \n",
    "#learner only collects firing rates labeled with estimated estimates\n",
    "#we would also need to use the labeled data\n",
    "#now, we can set up a dumb/or not-dumb learner\n",
    "if LEARNER_TYPE == 'feedback':\n",
    "    from features.simulation_features import SimFeedbackLearner\n",
    "    feats.append(SimFeedbackLearner)\n",
    "else:\n",
    "    from features.simulation_features import SimDumbLearner\n",
    "    feats.append(SimDumbLearner)\n",
    "\n",
    "#to update the decoder.\n",
    "if UPDATER_TYPE == 'smooth_batch':\n",
    "    from features.simulation_features import SimSmoothBatch\n",
    "    feats.append(SimSmoothBatch)\n",
    "else: #defaut to none \n",
    "    print(f'{__name__}: need to specify an updater')\n",
    "    \n",
    "\n"
   ]
  },
  {
   "cell_type": "markdown",
   "metadata": {},
   "source": [
    "## assistor setup"
   ]
  },
  {
   "cell_type": "markdown",
   "metadata": {},
   "source": [
    "## (Check) config the experiment"
   ]
  },
  {
   "cell_type": "code",
   "execution_count": 9,
   "metadata": {
    "ExecuteTime": {
     "end_time": "2021-03-11T22:01:08.544350Z",
     "start_time": "2021-03-11T22:01:08.528042Z"
    }
   },
   "outputs": [
    {
     "data": {
      "text/plain": [
       "[{'assist_level': (0.05, 0.0),\n",
       "  'sim_C': array([[ 0.,  0.,  0.,  1.,  0.,  0.,  0.],\n",
       "         [ 0.,  0.,  0., -1.,  0.,  0.,  0.],\n",
       "         [ 0.,  0.,  0.,  0.,  0.,  1.,  0.],\n",
       "         [ 0.,  0.,  0.,  0.,  0., -1.,  0.]]),\n",
       "  'batch_size': 50,\n",
       "  'batch_time': 1,\n",
       "  'half_life': 1.0},\n",
       " {'assist_level': (0.05, 0.0),\n",
       "  'sim_C': array([[ 0.,  0.,  0.,  2.,  0.,  0.,  0.],\n",
       "         [ 0.,  0.,  0., -2.,  0.,  0.,  0.],\n",
       "         [ 0.,  0.,  0.,  0.,  0.,  2.,  0.],\n",
       "         [ 0.,  0.,  0.,  0.,  0., -2.,  0.]]),\n",
       "  'batch_size': 50,\n",
       "  'batch_time': 1,\n",
       "  'half_life': 1.0},\n",
       " {'assist_level': (0.05, 0.0),\n",
       "  'sim_C': array([[ 0.,  0.,  0.,  4.,  0.,  0.,  0.],\n",
       "         [ 0.,  0.,  0., -4.,  0.,  0.,  0.],\n",
       "         [ 0.,  0.,  0.,  0.,  0.,  4.,  0.],\n",
       "         [ 0.,  0.,  0.,  0.,  0., -4.,  0.]]),\n",
       "  'batch_size': 50,\n",
       "  'batch_time': 1,\n",
       "  'half_life': 1.0},\n",
       " {'assist_level': (0.05, 0.0),\n",
       "  'sim_C': array([[ 0.,  0.,  0.,  8.,  0.,  0.,  0.],\n",
       "         [ 0.,  0.,  0., -8.,  0.,  0.,  0.],\n",
       "         [ 0.,  0.,  0.,  0.,  0.,  8.,  0.],\n",
       "         [ 0.,  0.,  0.,  0.,  0., -8.,  0.]]),\n",
       "  'batch_size': 50,\n",
       "  'batch_time': 1,\n",
       "  'half_life': 1.0},\n",
       " {'assist_level': (0.05, 0.0),\n",
       "  'sim_C': array([[  0.,   0.,   0.,  16.,   0.,   0.,   0.],\n",
       "         [  0.,   0.,   0., -16.,   0.,   0.,   0.],\n",
       "         [  0.,   0.,   0.,   0.,   0.,  16.,   0.],\n",
       "         [  0.,   0.,   0.,   0.,   0., -16.,   0.]]),\n",
       "  'batch_size': 50,\n",
       "  'batch_time': 1,\n",
       "  'half_life': 1.0},\n",
       " {'assist_level': (0.05, 0.0),\n",
       "  'sim_C': array([[  0.,   0.,   0.,  32.,   0.,   0.,   0.],\n",
       "         [  0.,   0.,   0., -32.,   0.,   0.,   0.],\n",
       "         [  0.,   0.,   0.,   0.,   0.,  32.,   0.],\n",
       "         [  0.,   0.,   0.,   0.,   0., -32.,   0.]]),\n",
       "  'batch_size': 50,\n",
       "  'batch_time': 1,\n",
       "  'half_life': 1.0},\n",
       " {'assist_level': (0.05, 0.0),\n",
       "  'sim_C': array([[  0.,   0.,   0.,  64.,   0.,   0.,   0.],\n",
       "         [  0.,   0.,   0., -64.,   0.,   0.,   0.],\n",
       "         [  0.,   0.,   0.,   0.,   0.,  64.,   0.],\n",
       "         [  0.,   0.,   0.,   0.,   0., -64.,   0.]]),\n",
       "  'batch_size': 50,\n",
       "  'batch_time': 1,\n",
       "  'half_life': 1.0},\n",
       " {'assist_level': (0.05, 0.0),\n",
       "  'sim_C': array([[   0.,    0.,    0.,  128.,    0.,    0.,    0.],\n",
       "         [   0.,    0.,    0., -128.,    0.,    0.,    0.],\n",
       "         [   0.,    0.,    0.,    0.,    0.,  128.,    0.],\n",
       "         [   0.,    0.,    0.,    0.,    0., -128.,    0.]]),\n",
       "  'batch_size': 50,\n",
       "  'batch_time': 1,\n",
       "  'half_life': 1.0},\n",
       " {'assist_level': (0.05, 0.0),\n",
       "  'sim_C': array([[   0.,    0.,    0.,  256.,    0.,    0.,    0.],\n",
       "         [   0.,    0.,    0., -256.,    0.,    0.,    0.],\n",
       "         [   0.,    0.,    0.,    0.,    0.,  256.,    0.],\n",
       "         [   0.,    0.,    0.,    0.,    0., -256.,    0.]]),\n",
       "  'batch_size': 50,\n",
       "  'batch_time': 1,\n",
       "  'half_life': 1.0},\n",
       " {'assist_level': (0.05, 0.0),\n",
       "  'sim_C': array([[   0.,    0.,    0.,  512.,    0.,    0.,    0.],\n",
       "         [   0.,    0.,    0., -512.,    0.,    0.,    0.],\n",
       "         [   0.,    0.,    0.,    0.,    0.,  512.,    0.],\n",
       "         [   0.,    0.,    0.,    0.,    0., -512.,    0.]]),\n",
       "  'batch_size': 50,\n",
       "  'batch_time': 1,\n",
       "  'half_life': 1.0},\n",
       " {'assist_level': (0.05, 0.0),\n",
       "  'sim_C': array([[    0.,     0.,     0.,  1024.,     0.,     0.,     0.],\n",
       "         [    0.,     0.,     0., -1024.,     0.,     0.,     0.],\n",
       "         [    0.,     0.,     0.,     0.,     0.,  1024.,     0.],\n",
       "         [    0.,     0.,     0.,     0.,     0., -1024.,     0.]]),\n",
       "  'batch_size': 50,\n",
       "  'batch_time': 1,\n",
       "  'half_life': 1.0}]"
      ]
     },
     "execution_count": 9,
     "metadata": {},
     "output_type": "execute_result"
    }
   ],
   "source": [
    "if DEBUG_FEATURE: \n",
    "    from features.simulation_features import DebugFeature\n",
    "    feats.append(DebugFeature)\n",
    "    \n",
    "if SAVE_HDF: feats.append(SaveHDF)\n",
    "if SAVE_SIM_HDF: feats.append(SimHDF)\n",
    "    \n",
    "    \n",
    "#pass the real time limit on clock\n",
    "feats.append(SimClockTick)\n",
    "feats.append(SimTime)\n",
    "\n",
    "\n",
    "kwargs_exps = list()\n",
    "\n",
    "for i in range(NUM_EXP):\n",
    "    d = dict()\n",
    "    \n",
    "    d['assist_level'] = assist_level\n",
    "    d['sim_C'] = sim_C_all[i]\n",
    "    d['batch_size'] = batch_size\n",
    "    \n",
    "    d['batch_time'] = UPDATER_BATCH_TIME\n",
    "    d['half_life'] = UPDATER_HALF_LIFE\n",
    "    \n",
    "    kwargs_exps.append(d)\n",
    "\n",
    "\n",
    "kwargs_exps"
   ]
  },
  {
   "cell_type": "markdown",
   "metadata": {},
   "source": [
    "## make and initalize experiment instances"
   ]
  },
  {
   "cell_type": "code",
   "execution_count": 10,
   "metadata": {
    "ExecuteTime": {
     "end_time": "2021-03-11T22:01:08.661896Z",
     "start_time": "2021-03-11T22:01:08.545280Z"
    }
   },
   "outputs": [
    {
     "name": "stdout",
     "output_type": "stream",
     "text": [
      "metaclass constructor\n",
      "(<class 'features.simulation_features.SimIntentionLQRController'>, <class 'features.simulation_features.SimCosineTunedEnc'>, <class 'features.simulation_features.SimKFDecoderRandom'>, <class 'features.simulation_features.SimFeedbackLearner'>, <class 'features.simulation_features.SimSmoothBatch'>, <class 'features.simulation_features.SimHDF'>, <class 'features.simulation_features.SimClockTick'>, <class 'features.simulation_features.SimTime'>, <class 'bmimultitasks.BMIControlMultiNoWindow'>)\n",
      "[<class 'features.simulation_features.SimIntentionLQRController'>, <class 'features.simulation_features.SimCosineTunedEnc'>, <class 'features.simulation_features.SimKFDecoderRandom'>, <class 'features.simulation_features.SimFeedbackLearner'>, <class 'features.simulation_features.SimSmoothBatch'>, <class 'features.simulation_features.SimHDF'>, <class 'features.simulation_features.SimClockTick'>, <class 'features.simulation_features.SimTime'>]\n",
      "\n",
      "features.simulation_features.SimIntentionLQRController: LQRController used \n",
      "\n",
      "\n",
      " features.simulation_features.SimFeedbackLearner: start to create a sim leaner with a batchsize of 50\n",
      "features.simulation_features.SimSmoothBatch: rho in this simulation is  0.5\n",
      "\n",
      "finished executing Experiment.__init__\n",
      "\n",
      "features.simulation_features.SimIntentionLQRController: LQRController used \n",
      "\n",
      "\n",
      " features.simulation_features.SimFeedbackLearner: start to create a sim leaner with a batchsize of 50\n",
      "features.simulation_features.SimSmoothBatch: rho in this simulation is  0.5\n",
      "\n",
      "finished executing Experiment.__init__\n",
      "\n",
      "features.simulation_features.SimIntentionLQRController: LQRController used \n",
      "\n",
      "\n",
      " features.simulation_features.SimFeedbackLearner: start to create a sim leaner with a batchsize of 50\n",
      "features.simulation_features.SimSmoothBatch: rho in this simulation is  0.5\n",
      "\n",
      "finished executing Experiment.__init__\n",
      "\n",
      "features.simulation_features.SimIntentionLQRController: LQRController used \n",
      "\n",
      "\n",
      " features.simulation_features.SimFeedbackLearner: start to create a sim leaner with a batchsize of 50\n",
      "features.simulation_features.SimSmoothBatch: rho in this simulation is  0.5\n",
      "\n",
      "finished executing Experiment.__init__\n",
      "\n",
      "features.simulation_features.SimIntentionLQRController: LQRController used \n",
      "\n",
      "\n",
      " features.simulation_features.SimFeedbackLearner: start to create a sim leaner with a batchsize of 50\n",
      "features.simulation_features.SimSmoothBatch: rho in this simulation is  0.5\n",
      "\n",
      "finished executing Experiment.__init__\n",
      "\n",
      "features.simulation_features.SimIntentionLQRController: LQRController used \n",
      "\n",
      "\n",
      " features.simulation_features.SimFeedbackLearner: start to create a sim leaner with a batchsize of 50\n",
      "features.simulation_features.SimSmoothBatch: rho in this simulation is  0.5\n",
      "\n",
      "finished executing Experiment.__init__\n",
      "\n",
      "features.simulation_features.SimIntentionLQRController: LQRController used \n",
      "\n",
      "\n",
      " features.simulation_features.SimFeedbackLearner: start to create a sim leaner with a batchsize of 50\n",
      "features.simulation_features.SimSmoothBatch: rho in this simulation is  0.5\n",
      "\n",
      "finished executing Experiment.__init__\n",
      "\n",
      "features.simulation_features.SimIntentionLQRController: LQRController used \n",
      "\n",
      "\n",
      " features.simulation_features.SimFeedbackLearner: start to create a sim leaner with a batchsize of 50\n",
      "features.simulation_features.SimSmoothBatch: rho in this simulation is  0.5\n",
      "\n",
      "finished executing Experiment.__init__\n",
      "\n",
      "features.simulation_features.SimIntentionLQRController: LQRController used \n",
      "\n",
      "\n",
      " features.simulation_features.SimFeedbackLearner: start to create a sim leaner with a batchsize of 50\n",
      "features.simulation_features.SimSmoothBatch: rho in this simulation is  0.5\n",
      "\n",
      "finished executing Experiment.__init__\n",
      "\n",
      "features.simulation_features.SimIntentionLQRController: LQRController used \n",
      "\n",
      "\n",
      " features.simulation_features.SimFeedbackLearner: start to create a sim leaner with a batchsize of 50\n",
      "features.simulation_features.SimSmoothBatch: rho in this simulation is  0.5\n",
      "\n",
      "finished executing Experiment.__init__\n",
      "\n",
      "features.simulation_features.SimIntentionLQRController: LQRController used \n",
      "\n",
      "\n",
      " features.simulation_features.SimFeedbackLearner: start to create a sim leaner with a batchsize of 50\n",
      "features.simulation_features.SimSmoothBatch: rho in this simulation is  0.5\n",
      "\n",
      "finished executing Experiment.__init__\n",
      "\n",
      "SimCosineTunedEnc SSM: State space: ['hand_px', 'hand_py', 'hand_pz', 'hand_vx', 'hand_vy', 'hand_vz', 'offset'] \n",
      "\n",
      "neural encoder init function  <BMIControlMultiNoWindow(Thread-4, initial)>\n",
      "features.simulation_features: added tracking of K matrix\n",
      "<bmimultitasks.SimpleEndpointAssister object at 0x7fcf65ebbd90>\n",
      "features.simulation_features: batch size is 50\n",
      "Reset states for learner: \n",
      "[]\n",
      "Done states for learner: \n",
      "[]\n",
      "\n",
      "features.simulation_features.SimFeedbackLearner: flip the self.learn_flag to true\n",
      "features.simulation_features.SimFeedbackLearner: succussfully created a feedback controller learner\n",
      "\n",
      "\n",
      "SimSmoothBatch: created an updater with a batch time of 1 and a half_life of 1.0 \n",
      "\n",
      "\n",
      "SimCosineTunedEnc SSM: State space: ['hand_px', 'hand_py', 'hand_pz', 'hand_vx', 'hand_vy', 'hand_vz', 'offset'] \n",
      "\n",
      "neural encoder init function  <BMIControlMultiNoWindow(Thread-5, initial)>\n",
      "features.simulation_features: added tracking of K matrix\n",
      "<bmimultitasks.SimpleEndpointAssister object at 0x7fcf65ee9d30>\n",
      "features.simulation_features: batch size is 50\n",
      "Reset states for learner: \n",
      "[]\n",
      "Done states for learner: \n",
      "[]\n",
      "\n",
      "features.simulation_features.SimFeedbackLearner: flip the self.learn_flag to true\n",
      "features.simulation_features.SimFeedbackLearner: succussfully created a feedback controller learner\n",
      "\n",
      "\n",
      "SimSmoothBatch: created an updater with a batch time of 1 and a half_life of 1.0 \n",
      "\n",
      "\n",
      "SimCosineTunedEnc SSM: State space: ['hand_px', 'hand_py', 'hand_pz', 'hand_vx', 'hand_vy', 'hand_vz', 'offset'] \n",
      "\n",
      "neural encoder init function  <BMIControlMultiNoWindow(Thread-6, initial)>\n",
      "features.simulation_features: added tracking of K matrix\n",
      "<bmimultitasks.SimpleEndpointAssister object at 0x7fcf65ed3e80>\n",
      "features.simulation_features: batch size is 50\n",
      "Reset states for learner: \n",
      "[]\n",
      "Done states for learner: \n",
      "[]\n",
      "\n",
      "features.simulation_features.SimFeedbackLearner: flip the self.learn_flag to true\n",
      "features.simulation_features.SimFeedbackLearner: succussfully created a feedback controller learner\n",
      "\n",
      "\n",
      "SimSmoothBatch: created an updater with a batch time of 1 and a half_life of 1.0 \n",
      "\n",
      "\n",
      "SimCosineTunedEnc SSM: State space: ['hand_px', 'hand_py', 'hand_pz', 'hand_vx', 'hand_vy', 'hand_vz', 'offset'] \n",
      "\n",
      "neural encoder init function  <BMIControlMultiNoWindow(Thread-7, initial)>\n",
      "features.simulation_features: added tracking of K matrix\n",
      "<bmimultitasks.SimpleEndpointAssister object at 0x7fcf65edceb0>\n",
      "features.simulation_features: batch size is 50\n",
      "Reset states for learner: \n",
      "[]\n",
      "Done states for learner: \n",
      "[]\n",
      "\n",
      "features.simulation_features.SimFeedbackLearner: flip the self.learn_flag to true\n",
      "features.simulation_features.SimFeedbackLearner: succussfully created a feedback controller learner\n",
      "\n",
      "\n",
      "SimSmoothBatch: created an updater with a batch time of 1 and a half_life of 1.0 \n",
      "\n",
      "\n",
      "SimCosineTunedEnc SSM: State space: ['hand_px', 'hand_py', 'hand_pz', 'hand_vx', 'hand_vy', 'hand_vz', 'offset'] \n",
      "\n",
      "neural encoder init function  <BMIControlMultiNoWindow(Thread-8, initial)>\n",
      "features.simulation_features: added tracking of K matrix\n",
      "<bmimultitasks.SimpleEndpointAssister object at 0x7fcf65ed31f0>\n",
      "features.simulation_features: batch size is 50\n",
      "Reset states for learner: \n",
      "[]\n",
      "Done states for learner: \n",
      "[]\n",
      "\n",
      "features.simulation_features.SimFeedbackLearner: flip the self.learn_flag to true\n",
      "features.simulation_features.SimFeedbackLearner: succussfully created a feedback controller learner\n",
      "\n",
      "\n",
      "SimSmoothBatch: created an updater with a batch time of 1 and a half_life of 1.0 \n",
      "\n",
      "\n",
      "SimCosineTunedEnc SSM: State space: ['hand_px', 'hand_py', 'hand_pz', 'hand_vx', 'hand_vy', 'hand_vz', 'offset'] \n",
      "\n",
      "neural encoder init function  <BMIControlMultiNoWindow(Thread-9, initial)>\n",
      "features.simulation_features: added tracking of K matrix\n",
      "<bmimultitasks.SimpleEndpointAssister object at 0x7fcf65ee3d00>\n",
      "features.simulation_features: batch size is 50\n",
      "Reset states for learner: \n",
      "[]\n",
      "Done states for learner: \n",
      "[]\n",
      "\n",
      "features.simulation_features.SimFeedbackLearner: flip the self.learn_flag to true\n",
      "features.simulation_features.SimFeedbackLearner: succussfully created a feedback controller learner\n",
      "\n",
      "\n",
      "SimSmoothBatch: created an updater with a batch time of 1 and a half_life of 1.0 \n",
      "\n",
      "\n",
      "SimCosineTunedEnc SSM: State space: ['hand_px', 'hand_py', 'hand_pz', 'hand_vx', 'hand_vy', 'hand_vz', 'offset'] \n",
      "\n",
      "neural encoder init function  <BMIControlMultiNoWindow(Thread-10, initial)>\n",
      "features.simulation_features: added tracking of K matrix\n",
      "<bmimultitasks.SimpleEndpointAssister object at 0x7fcf65edcf10>\n",
      "features.simulation_features: batch size is 50\n",
      "Reset states for learner: \n",
      "[]\n",
      "Done states for learner: \n",
      "[]\n",
      "\n",
      "features.simulation_features.SimFeedbackLearner: flip the self.learn_flag to true\n",
      "features.simulation_features.SimFeedbackLearner: succussfully created a feedback controller learner\n",
      "\n",
      "\n",
      "SimSmoothBatch: created an updater with a batch time of 1 and a half_life of 1.0 \n",
      "\n",
      "\n",
      "SimCosineTunedEnc SSM: State space: ['hand_px', 'hand_py', 'hand_pz', 'hand_vx', 'hand_vy', 'hand_vz', 'offset'] \n",
      "\n",
      "neural encoder init function  <BMIControlMultiNoWindow(Thread-11, initial)>\n",
      "features.simulation_features: added tracking of K matrix\n",
      "<bmimultitasks.SimpleEndpointAssister object at 0x7fcf65eea490>\n",
      "features.simulation_features: batch size is 50\n",
      "Reset states for learner: \n",
      "[]\n",
      "Done states for learner: \n",
      "[]\n",
      "\n",
      "features.simulation_features.SimFeedbackLearner: flip the self.learn_flag to true\n",
      "features.simulation_features.SimFeedbackLearner: succussfully created a feedback controller learner\n",
      "\n",
      "\n",
      "SimSmoothBatch: created an updater with a batch time of 1 and a half_life of 1.0 \n",
      "\n",
      "\n",
      "SimCosineTunedEnc SSM: State space: ['hand_px', 'hand_py', 'hand_pz', 'hand_vx', 'hand_vy', 'hand_vz', 'offset'] \n",
      "\n",
      "neural encoder init function  <BMIControlMultiNoWindow(Thread-12, initial)>\n",
      "features.simulation_features: added tracking of K matrix\n",
      "<bmimultitasks.SimpleEndpointAssister object at 0x7fcf656a6e20>\n",
      "features.simulation_features: batch size is 50\n",
      "Reset states for learner: \n",
      "[]\n",
      "Done states for learner: \n",
      "[]\n",
      "\n",
      "features.simulation_features.SimFeedbackLearner: flip the self.learn_flag to true\n",
      "features.simulation_features.SimFeedbackLearner: succussfully created a feedback controller learner\n",
      "\n",
      "\n",
      "SimSmoothBatch: created an updater with a batch time of 1 and a half_life of 1.0 \n",
      "\n",
      "\n",
      "SimCosineTunedEnc SSM: State space: ['hand_px', 'hand_py', 'hand_pz', 'hand_vx', 'hand_vy', 'hand_vz', 'offset'] \n",
      "\n",
      "neural encoder init function  <BMIControlMultiNoWindow(Thread-13, initial)>\n",
      "features.simulation_features: added tracking of K matrix\n",
      "<bmimultitasks.SimpleEndpointAssister object at 0x7fcf65696fd0>\n",
      "features.simulation_features: batch size is 50\n",
      "Reset states for learner: \n",
      "[]\n",
      "Done states for learner: \n",
      "[]\n",
      "\n",
      "features.simulation_features.SimFeedbackLearner: flip the self.learn_flag to true\n",
      "features.simulation_features.SimFeedbackLearner: succussfully created a feedback controller learner\n",
      "\n",
      "\n",
      "SimSmoothBatch: created an updater with a batch time of 1 and a half_life of 1.0 \n",
      "\n",
      "\n",
      "SimCosineTunedEnc SSM: State space: ['hand_px', 'hand_py', 'hand_pz', 'hand_vx', 'hand_vy', 'hand_vz', 'offset'] \n",
      "\n",
      "neural encoder init function  <BMIControlMultiNoWindow(Thread-14, initial)>\n",
      "features.simulation_features: added tracking of K matrix\n",
      "<bmimultitasks.SimpleEndpointAssister object at 0x7fcf65eeae80>\n",
      "features.simulation_features: batch size is 50\n",
      "Reset states for learner: \n",
      "[]\n",
      "Done states for learner: \n",
      "[]\n",
      "\n",
      "features.simulation_features.SimFeedbackLearner: flip the self.learn_flag to true\n",
      "features.simulation_features.SimFeedbackLearner: succussfully created a feedback controller learner\n",
      "\n",
      "\n",
      "SimSmoothBatch: created an updater with a batch time of 1 and a half_life of 1.0 \n",
      "\n"
     ]
    }
   ],
   "source": [
    "#seed the experiment\n",
    "np.random.seed(0)\n",
    "\n",
    "#spawn the task\n",
    "Exp = experiment.make(base_class, feats=feats)\n",
    "\n",
    "exps = list()#create a list of experiment\n",
    "\n",
    "for i,s in enumerate(seqs):\n",
    "    e = Exp(s, **kwargs_exps[i])\n",
    "    exps.append(e)\n",
    "\n",
    "#run the ini\n",
    "for e in exps: e.init()"
   ]
  },
  {
   "cell_type": "markdown",
   "metadata": {},
   "source": [
    "# Pre-experiment check: check the Kalman filter before training"
   ]
  },
  {
   "cell_type": "code",
   "execution_count": 11,
   "metadata": {
    "ExecuteTime": {
     "end_time": "2021-03-11T22:01:09.585161Z",
     "start_time": "2021-03-11T22:01:08.662658Z"
    }
   },
   "outputs": [
    {
     "name": "stdout",
     "output_type": "stream",
     "text": [
      "we replace the encoder using the weights\n",
      "assume, they are all randomly initialized get the first decoder\n",
      "get a handle to the first decoder\n",
      "we check the new decoder C matrix:\n"
     ]
    },
    {
     "data": {
      "image/png": "[encoded data removed]",
      "text/plain": [
       "<Figure size 864x288 with 11 Axes>"
      ]
     },
     "metadata": {
      "needs_background": "light"
     },
     "output_type": "display_data"
    }
   ],
   "source": [
    "print('we replace the encoder using the weights')\n",
    "print('assume, they are all randomly initialized get the first decoder')\n",
    "print('get a handle to the first decoder')\n",
    "first_decoder = exps[0].decoder\n",
    "target_C = first_decoder.filt.C\n",
    "    \n",
    "#replace the decoder\n",
    "for i,e in enumerate(exps):\n",
    "    weights.change_target_kalman_filter_with_a_C_mat(e.decoder.filt, target_C, debug=False)\n",
    "    \n",
    "print('we check the new decoder C matrix:')\n",
    "\n",
    "decoder_c_figure, axs = plt.subplots(nrows=1, \n",
    "                               ncols=NUM_EXP, figsize = [12,4])\n",
    "decoder_c_figure.suptitle('Decoder C matrix ')\n",
    "\n",
    "for i,e in enumerate(exps):\n",
    "    e.decoder.plot_C(ax = axs[i])\n",
    "    axs[i].set_title(exp_conds[i])"
   ]
  },
  {
   "cell_type": "markdown",
   "metadata": {},
   "source": [
    "# Experiment run: assemble into a complete loop"
   ]
  },
  {
   "cell_type": "markdown",
   "metadata": {},
   "source": [
    "##  define the function"
   ]
  },
  {
   "cell_type": "code",
   "execution_count": 12,
   "metadata": {
    "ExecuteTime": {
     "end_time": "2021-03-11T22:01:09.596382Z",
     "start_time": "2021-03-11T22:01:09.586098Z"
    },
    "scrolled": true
   },
   "outputs": [],
   "source": [
    "#make this into a loop\n",
    "\n",
    "def run_exp_loop(exp,  **kwargs):\n",
    "        # riglib.experiment: line 597 - 601\n",
    "    #exp.next_trial = next(exp.gen)\n",
    "    # -+exp._parse_next_trial()np.arraynp.array\n",
    "\n",
    "\n",
    "    # we need to set the initial state\n",
    "    # per fsm.run:  line 138\n",
    "\n",
    "\n",
    "    # Initialize the FSM before the loop\n",
    "    exp.set_state(exp.state)\n",
    "    \n",
    "    finished_trials = exp.calc_state_occurrences('wait')\n",
    "    print(f'finished: {finished_trials}')\n",
    "\n",
    "\n",
    "    while exp.state is not None:\n",
    "\n",
    "        # exp.fsm_tick()\n",
    "\n",
    "        ### Execute commands#####\n",
    "        exp.exec_state_specific_actions(exp.state)\n",
    "\n",
    "        ###run the bmi loop #####\n",
    "        # _cycle\n",
    "\n",
    "        # bmi feature extraction, eh\n",
    "        #riglib.bmi: 1202\n",
    "        feature_data = exp.get_features()\n",
    "\n",
    "        # Determine the target_state and save to file\n",
    "        current_assist_level = exp.get_current_assist_level()\n",
    "        target_state = exp.get_target_BMI_state(exp.decoder.states)\n",
    "\n",
    "        # Determine the assistive control inputs to the Decoder\n",
    "        #update assistive control level\n",
    "        exp.update_level()\n",
    "        if np.any(current_assist_level) > 0:\n",
    "            current_state = exp.get_current_state()\n",
    "\n",
    "            if target_state.shape[1] > 1:\n",
    "                assist_kwargs = exp.assister(current_state, \n",
    "                                             target_state[:,0].reshape(-1,1), \n",
    "                                             current_assist_level, mode= exp.state)\n",
    "            else:\n",
    "                assist_kwargs = exp.assister(current_state, \n",
    "                                              target_state, \n",
    "                                              current_assist_level, \n",
    "                                              mode= exp.state)\n",
    "\n",
    "            kwargs.update(assist_kwargs)\n",
    "            \n",
    "        \n",
    "\n",
    "        # decode the new features\n",
    "        # riglib.bmi.bmiloop: line 1245\n",
    "        neural_features = feature_data[exp.extractor.feature_type]\n",
    "\n",
    "        # call decoder.\n",
    "        #tmp = exp.call_decoder(neural_features, target_state, **kwargs)\n",
    "        neural_obs = neural_features\n",
    "        learn_flag = exp.learn_flag\n",
    "        task_state = exp.state\n",
    "\n",
    "        n_units, n_obs = neural_obs.shape\n",
    "        # If the target is specified as a 1D position, tile to match\n",
    "        # the number of dimensions as the neural features\n",
    "        if np.ndim(target_state) == 1 or (target_state.shape[1] == 1 and n_obs > 1):\n",
    "            target_state = np.tile(target_state, [1, n_obs])\n",
    "\n",
    "        decoded_states = np.zeros([exp.bmi_system.decoder.n_states, n_obs])\n",
    "        update_flag = False\n",
    "\n",
    "        for k in range(n_obs):\n",
    "            neural_obs_k = neural_obs[:, k].reshape(-1, 1)\n",
    "            target_state_k = target_state[:, k]\n",
    "\n",
    "            # NOTE: the conditional below is *only* for compatibility with older Carmena\n",
    "            # lab data collected using a different MATLAB-based system. In all python cases,\n",
    "            # the task_state should never contain NaN values.\n",
    "            if np.any(np.isnan(target_state_k)):\n",
    "                task_state = 'no_target'\n",
    "\n",
    "            #################################\n",
    "            # Decode the current observation\n",
    "            #################################\n",
    "            decodable_obs, decode = exp.bmi_system.feature_accumulator(\n",
    "                neural_obs_k)\n",
    "            if decode:  # if a new decodable observation is available from the feature accumulator\n",
    "                prev_state = exp.bmi_system.decoder.get_state()\n",
    "\n",
    "                exp.bmi_system.decoder(decodable_obs, **kwargs)\n",
    "                # Determine whether the current state or previous state should be given to the learner\n",
    "                if exp.bmi_system.learner.input_state_index == 0:\n",
    "                    learner_state = exp.bmi_system.decoder.get_state()\n",
    "                elif exp.bmi_system.learner.input_state_index == -1:\n",
    "                    learner_state = prev_state\n",
    "                else:\n",
    "                    print((\"Not implemented yet: %d\" %\n",
    "                           exp.bmi_system.learner.input_state_index))\n",
    "                    learner_state = prev_state\n",
    "\n",
    "                if learn_flag:\n",
    "                    exp.bmi_system.learner(decodable_obs.copy(), learner_state, target_state_k, exp.bmi_system.decoder.get_state(\n",
    "                    ), task_state, state_order=exp.bmi_system.decoder.ssm.state_order)\n",
    "\n",
    "            decoded_states[:, k] = exp.bmi_system.decoder.get_state()\n",
    "\n",
    "            ############################\n",
    "            # Update decoder parameters\n",
    "            ############################\n",
    "            if exp.bmi_system.learner.is_ready():\n",
    "                batch_data = exp.bmi_system.learner.get_batch()\n",
    "                batch_data['decoder'] = exp.bmi_system.decoder\n",
    "                kwargs.update(batch_data)\n",
    "                exp.bmi_system.updater(**kwargs)\n",
    "                exp.bmi_system.learner.disable()\n",
    "\n",
    "            new_params = None  # by default, no new parameters are available\n",
    "            if exp.bmi_system.has_updater:\n",
    "                new_params = copy.deepcopy(exp.bmi_system.updater.get_result())\n",
    "\n",
    "            # Update the decoder if new parameters are available\n",
    "            if not (new_params is None):\n",
    "                exp.bmi_system.decoder.update_params(\n",
    "                    new_params, **exp.bmi_system.updater.update_kwargs)\n",
    "                new_params['intended_kin'] = batch_data['intended_kin']\n",
    "                new_params['spike_counts_batch'] = batch_data['spike_counts']\n",
    "\n",
    "                exp.bmi_system.learner.enable()\n",
    "                update_flag = True\n",
    "\n",
    "                # Save new parameters to parameter history\n",
    "                exp.bmi_system.param_hist.append(new_params)\n",
    "\n",
    "\n",
    "\n",
    "        # saved as task data\n",
    "        # return decoded_states, update_flag\n",
    "        tmp = decoded_states\n",
    "        exp.task_data['internal_decoder_state'] = tmp\n",
    "\n",
    "        # reset the plant position\n",
    "        # @riglib.bmi.BMILoop.move_plant  line:1254\n",
    "        exp.plant.drive(exp.decoder)\n",
    "\n",
    "        # check state transitions and run the FSM.\n",
    "        current_state = exp.state\n",
    "\n",
    "        # iterate over the possible events which could move the task out of the current state\n",
    "        for event in exp.status[current_state]:\n",
    "            # if the event has occurred\n",
    "            if exp.test_state_transition_event(event):\n",
    "                # execute commands to end the current state\n",
    "                exp.end_state(current_state)\n",
    "\n",
    "                # trigger the transition for the event\n",
    "                exp.trigger_event(event)\n",
    "\n",
    "                # stop searching for transition events (transition events must be\n",
    "                # mutually exclusive for this FSM to function properly)\n",
    "                break\n",
    "\n",
    "        # sort out the loop params.\n",
    "        # inc cycle count\n",
    "        exp.cycle_count += 1\n",
    "\n",
    "        # save target data as was done in manualControlTasks._cycle\n",
    "        exp.task_data['target'] = exp.target_location.copy()\n",
    "        exp.task_data['target_index'] = exp.target_index\n",
    "\n",
    "        #done in bmi:_cycle after move_plant\n",
    "        exp.task_data['loop_time'] = exp.iter_time()\n",
    "\n",
    "\n",
    "        #fb_controller data\n",
    "        exp.task_data['target_state'] = target_state\n",
    "\n",
    "        #encoder data\n",
    "        #input to this is actually extractor\n",
    "        exp.task_data['ctrl_input'] = np.reshape(exp.extractor.sim_ctrl, (1,-1))\n",
    "\n",
    "        #actually output\n",
    "        exp.task_data['spike_counts'] = feature_data['spike_counts']\n",
    "\n",
    "\n",
    "        #save the decoder_state\n",
    "        #from BMILoop.move_plant\n",
    "        exp.task_data['decoder_state'] = exp.decoder.get_state(shape=(-1,1))\n",
    "        \n",
    "        #save bmi_data\n",
    "        exp.task_data['update_bmi'] = update_flag\n",
    "\n",
    "\n",
    "        # as well as plant data.\n",
    "        plant_data = exp.plant.get_data_to_save()\n",
    "        for key in plant_data:\n",
    "            exp.task_data[key] = plant_data[key]\n",
    "\n",
    "        # clda data handled in the above call.\n",
    "\n",
    "        # save to the list hisory of data.\n",
    "        exp.task_data_hist.append(exp.task_data.copy())\n",
    "        \n",
    "        #print out the trial update whenever wait count changes, alright. \n",
    "        if finished_trials != exp.calc_state_occurrences('wait'):\n",
    "            finished_trials = exp.calc_state_occurrences('wait')\n",
    "            print(f'finished trials :{finished_trials} with a current assist level of {exp.get_current_assist_level()}')\n",
    "\n",
    "\n",
    "    if exp.verbose:\n",
    "        print(\"end of FSM.run, task state is\", exp.state)\n",
    "    \n",
    "    \n"
   ]
  },
  {
   "cell_type": "markdown",
   "metadata": {},
   "source": [
    "## actually running the experiments"
   ]
  },
  {
   "cell_type": "code",
   "execution_count": 13,
   "metadata": {
    "ExecuteTime": {
     "end_time": "2021-03-11T22:02:38.869441Z",
     "start_time": "2021-03-11T22:01:09.597361Z"
    },
    "scrolled": true
   },
   "outputs": [
    {
     "name": "stdout",
     "output_type": "stream",
     "text": [
      "runseq\n",
      "finished: 1\n",
      "assist_level:  0.05\n"
     ]
    },
    {
     "name": "stderr",
     "output_type": "stream",
     "text": [
      "/home/sijia-aw/BMi3D_my/lab_bmi3d/riglib/bmi/kfdecoder.py:372: FutureWarning: `rcond` parameter will change to the default of machine precision times ``max(M, N)`` where M and N are the input matrix dimensions.\n",
      "To use the future default and silence this warning we advise to pass `rcond=None`, to keep using the old, explicitly pass `rcond=-1`.\n",
      "  C = np.mat(np.linalg.lstsq(X.T, Y.T)[0].T)\n"
     ]
    },
    {
     "name": "stdout",
     "output_type": "stream",
     "text": [
      "assist_level:  0.045\n",
      "finished trials :2 with a current assist level of 0.04346666666666667\n",
      "finished trials :3 with a current assist level of 0.04307222222222223\n",
      "finished trials :4 with a current assist level of 0.04253055555555556\n",
      "finished trials :5 with a current assist level of 0.04216666666666667\n",
      "finished trials :6 with a current assist level of 0.04085833333333334\n",
      "assist_level:  0.04\n",
      "finished trials :7 with a current assist level of 0.03914166666666667\n",
      "finished trials :8 with a current assist level of 0.038615277777777776\n",
      "finished trials :9 with a current assist level of 0.038205555555555555\n",
      "finished trials :10 with a current assist level of 0.0376\n",
      "finished trials :11 with a current assist level of 0.03730833333333333\n",
      "finished trials :12 with a current assist level of 0.03683055555555556\n",
      "finished trials :13 with a current assist level of 0.03646666666666667\n",
      "finished trials :14 with a current assist level of 0.03610694444444445\n",
      "finished trials :15 with a current assist level of 0.03558055555555556\n",
      "finished trials :16 with a current assist level of 0.03509166666666667\n",
      "assist_level:  0.035\n",
      "finished trials :17 with a current assist level of 0.03462222222222223\n",
      "finished trials :18 with a current assist level of 0.03272361111111111\n",
      "finished trials :19 with a current assist level of 0.03224027777777778\n",
      "finished trials :20 with a current assist level of 0.03109861111111111\n",
      "finished trials :21 with a current assist level of 0.030690277777777778\n",
      "finished trials :22 with a current assist level of 0.03038333333333333\n",
      "finished trials :23 with a current assist level of 0.03001527777777778\n",
      "assist_level:  0.03\n",
      "finished trials :24 with a current assist level of 0.02952361111111111\n",
      "finished trials :25 with a current assist level of 0.029098611111111113\n",
      "finished trials :26 with a current assist level of 0.02861388888888889\n",
      "finished trials :27 with a current assist level of 0.028263888888888894\n",
      "finished trials :28 with a current assist level of 0.027648611111111113\n",
      "finished trials :29 with a current assist level of 0.02709027777777778\n",
      "finished trials :30 with a current assist level of 0.026138888888888892\n",
      "finished trials :31 with a current assist level of 0.025280555555555556\n",
      "assist_level:  0.025\n",
      "finished trials :32 with a current assist level of 0.024881944444444443\n",
      "finished trials :33 with a current assist level of 0.024523611111111118\n",
      "finished trials :34 with a current assist level of 0.023830555555555563\n",
      "finished trials :35 with a current assist level of 0.022523611111111116\n",
      "finished trials :36 with a current assist level of 0.021715277777777778\n",
      "finished trials :37 with a current assist level of 0.020722222222222225\n",
      "finished trials :38 with a current assist level of 0.020256944444444442\n",
      "assist_level:  0.020000000000000004\n",
      "finished trials :39 with a current assist level of 0.01931527777777778\n",
      "finished trials :40 with a current assist level of 0.018930555555555558\n",
      "finished trials :41 with a current assist level of 0.018565277777777778\n",
      "finished trials :42 with a current assist level of 0.017981944444444446\n",
      "finished trials :43 with a current assist level of 0.017155555555555556\n",
      "finished trials :44 with a current assist level of 0.016856944444444452\n",
      "finished trials :45 with a current assist level of 0.01613888888888889\n",
      "finished trials :46 with a current assist level of 0.015690277777777782\n",
      "finished trials :47 with a current assist level of 0.01542361111111111\n",
      "finished trials :48 with a current assist level of 0.015097222222222227\n",
      "assist_level:  0.015000000000000006\n",
      "finished trials :49 with a current assist level of 0.014472222222222227\n",
      "finished trials :50 with a current assist level of 0.014090277777777778\n",
      "finished trials :51 with a current assist level of 0.013697222222222222\n",
      "finished trials :52 with a current assist level of 0.013273611111111111\n",
      "finished trials :53 with a current assist level of 0.012663888888888891\n",
      "finished trials :54 with a current assist level of 0.012256944444444445\n",
      "finished trials :55 with a current assist level of 0.011131944444444444\n",
      "finished trials :56 with a current assist level of 0.010731944444444447\n",
      "finished trials :57 with a current assist level of 0.010030555555555556\n",
      "assist_level:  0.009999999999999995\n",
      "finished trials :58 with a current assist level of 0.00968055555555556\n",
      "finished trials :59 with a current assist level of 0.009356944444444446\n",
      "finished trials :60 with a current assist level of 0.008523611111111114\n",
      "finished trials :61 with a current assist level of 0.006908333333333336\n",
      "finished trials :62 with a current assist level of 0.006441666666666665\n",
      "finished trials :63 with a current assist level of 0.0058999999999999955\n",
      "finished trials :64 with a current assist level of 0.005431944444444448\n",
      "assist_level:  0.0049999999999999975\n",
      "finished trials :65 with a current assist level of 0.004255555555555561\n",
      "finished trials :66 with a current assist level of 0.0019986111111111177\n",
      "finished trials :67 with a current assist level of 0.0014986111111111172\n",
      "finished trials :68 with a current assist level of 0.0004833333333333287\n",
      "finished trials :69 with a current assist level of 0.0001166666666666677\n",
      "assist_level at final value after 68 successful trials\n",
      "finished trials :70 with a current assist level of 0.0\n",
      "finished trials :71 with a current assist level of 0.0\n",
      "finished trials :72 with a current assist level of 0.0\n",
      "finished trials :73 with a current assist level of 0.0\n",
      "finished trials :74 with a current assist level of 0.0\n",
      "finished trials :75 with a current assist level of 0.0\n",
      "finished trials :76 with a current assist level of 0.0\n",
      "finished trials :77 with a current assist level of 0.0\n",
      "finished trials :78 with a current assist level of 0.0\n",
      "finished trials :79 with a current assist level of 0.0\n",
      "finished trials :80 with a current assist level of 0.0\n",
      "finished trials :81 with a current assist level of 0.0\n",
      "end of FSM.run, task state is None\n",
      "Finished running  enc. mean FR:1.0 Hz\n",
      "runseq\n",
      "finished: 1\n",
      "finished trials :2 with a current assist level of 0.04631666666666667\n",
      "finished trials :3 with a current assist level of 0.045858333333333334\n",
      "finished trials :4 with a current assist level of 0.04547361111111112\n",
      "finished trials :5 with a current assist level of 0.04518194444444445\n",
      "finished trials :6 with a current assist level of 0.04480694444444445\n",
      "finished trials :7 with a current assist level of 0.04453055555555556\n",
      "finished trials :8 with a current assist level of 0.04419166666666667\n",
      "finished trials :9 with a current assist level of 0.04389166666666667\n",
      "finished trials :10 with a current assist level of 0.04348333333333333\n",
      "finished trials :11 with a current assist level of 0.04307222222222223\n",
      "finished trials :12 with a current assist level of 0.04275\n",
      "finished trials :13 with a current assist level of 0.04240555555555556\n",
      "finished trials :14 with a current assist level of 0.042091666666666666\n",
      "finished trials :15 with a current assist level of 0.041833333333333333\n",
      "finished trials :16 with a current assist level of 0.04154166666666667\n",
      "finished trials :17 with a current assist level of 0.041125\n",
      "finished trials :18 with a current assist level of 0.04088194444444444\n",
      "finished trials :19 with a current assist level of 0.04046527777777778\n",
      "finished trials :20 with a current assist level of 0.040100000000000004\n",
      "finished trials :21 with a current assist level of 0.03979861111111111\n",
      "finished trials :22 with a current assist level of 0.03938194444444445\n",
      "finished trials :23 with a current assist level of 0.03852361111111111\n",
      "finished trials :24 with a current assist level of 0.037675\n",
      "finished trials :25 with a current assist level of 0.03720555555555556\n",
      "finished trials :26 with a current assist level of 0.03694027777777778\n",
      "finished trials :27 with a current assist level of 0.03663333333333334\n",
      "finished trials :28 with a current assist level of 0.03626666666666667\n",
      "finished trials :29 with a current assist level of 0.035925\n",
      "finished trials :30 with a current assist level of 0.03536527777777778\n",
      "finished trials :31 with a current assist level of 0.035008333333333336\n",
      "finished trials :32 with a current assist level of 0.03470555555555556\n",
      "finished trials :33 with a current assist level of 0.03445555555555556\n",
      "finished trials :34 with a current assist level of 0.03414166666666667\n"
     ]
    },
    {
     "name": "stdout",
     "output_type": "stream",
     "text": [
      "finished trials :35 with a current assist level of 0.033481944444444446\n",
      "finished trials :36 with a current assist level of 0.03319861111111111\n",
      "finished trials :37 with a current assist level of 0.03283055555555556\n",
      "finished trials :38 with a current assist level of 0.032556944444444444\n",
      "finished trials :39 with a current assist level of 0.032273611111111114\n",
      "finished trials :40 with a current assist level of 0.03207361111111111\n",
      "finished trials :41 with a current assist level of 0.031705555555555556\n",
      "finished trials :42 with a current assist level of 0.031181944444444446\n",
      "finished trials :43 with a current assist level of 0.030747222222222224\n",
      "finished trials :44 with a current assist level of 0.03044861111111111\n",
      "finished trials :45 with a current assist level of 0.03014027777777778\n",
      "finished trials :46 with a current assist level of 0.029856944444444446\n",
      "finished trials :47 with a current assist level of 0.02951527777777778\n",
      "finished trials :48 with a current assist level of 0.029133333333333334\n",
      "finished trials :49 with a current assist level of 0.02845555555555556\n",
      "finished trials :50 with a current assist level of 0.02798888888888889\n",
      "finished trials :51 with a current assist level of 0.027488888888888893\n",
      "finished trials :52 with a current assist level of 0.02696527777777778\n",
      "finished trials :53 with a current assist level of 0.026680555555555558\n",
      "finished trials :54 with a current assist level of 0.026288888888888893\n",
      "finished trials :55 with a current assist level of 0.025780555555555557\n",
      "finished trials :56 with a current assist level of 0.025023611111111115\n",
      "finished trials :57 with a current assist level of 0.024606944444444445\n",
      "finished trials :58 with a current assist level of 0.024363888888888893\n",
      "finished trials :59 with a current assist level of 0.023872222222222225\n",
      "finished trials :60 with a current assist level of 0.023430555555555555\n",
      "finished trials :61 with a current assist level of 0.023180555555555562\n",
      "finished trials :62 with a current assist level of 0.02281527777777778\n",
      "finished trials :63 with a current assist level of 0.022580555555555562\n",
      "finished trials :64 with a current assist level of 0.022256944444444444\n",
      "finished trials :65 with a current assist level of 0.021840277777777778\n",
      "finished trials :66 with a current assist level of 0.02098888888888889\n",
      "finished trials :67 with a current assist level of 0.02035694444444445\n",
      "finished trials :68 with a current assist level of 0.020163888888888894\n",
      "finished trials :69 with a current assist level of 0.019905555555555555\n",
      "finished trials :70 with a current assist level of 0.019572222222222227\n",
      "finished trials :71 with a current assist level of 0.019173611111111113\n",
      "finished trials :72 with a current assist level of 0.018840277777777775\n",
      "finished trials :73 with a current assist level of 0.018481944444444447\n",
      "finished trials :74 with a current assist level of 0.018155555555555557\n",
      "finished trials :75 with a current assist level of 0.017856944444444446\n",
      "finished trials :76 with a current assist level of 0.017113888888888894\n",
      "finished trials :77 with a current assist level of 0.016697222222222224\n",
      "finished trials :78 with a current assist level of 0.016155555555555555\n",
      "finished trials :79 with a current assist level of 0.01579861111111111\n",
      "finished trials :80 with a current assist level of 0.015481944444444444\n",
      "finished trials :81 with a current assist level of 0.015205555555555555\n",
      "end of FSM.run, task state is None\n",
      "Finished running  enc. mean FR:2.0 Hz\n",
      "runseq\n",
      "finished: 1\n",
      "finished trials :2 with a current assist level of 0.04747222222222222\n",
      "finished trials :3 with a current assist level of 0.04705694444444445\n",
      "finished trials :4 with a current assist level of 0.04659861111111111\n",
      "finished trials :5 with a current assist level of 0.04629027777777778\n",
      "finished trials :6 with a current assist level of 0.04589027777777778\n",
      "finished trials :7 with a current assist level of 0.04555694444444445\n",
      "finished trials :8 with a current assist level of 0.04534861111111112\n",
      "finished trials :9 with a current assist level of 0.045005555555555556\n",
      "finished trials :10 with a current assist level of 0.04479027777777778\n",
      "finished trials :11 with a current assist level of 0.0444\n",
      "finished trials :12 with a current assist level of 0.04413333333333334\n",
      "finished trials :13 with a current assist level of 0.0439\n",
      "finished trials :14 with a current assist level of 0.043675000000000005\n",
      "finished trials :15 with a current assist level of 0.04343333333333334\n",
      "finished trials :16 with a current assist level of 0.04315\n",
      "finished trials :17 with a current assist level of 0.04269722222222223\n",
      "finished trials :18 with a current assist level of 0.042341666666666666\n",
      "finished trials :19 with a current assist level of 0.042091666666666666\n",
      "finished trials :20 with a current assist level of 0.04165555555555556\n",
      "finished trials :21 with a current assist level of 0.04142361111111111\n",
      "finished trials :22 with a current assist level of 0.04108333333333333\n",
      "finished trials :23 with a current assist level of 0.04088194444444444\n",
      "finished trials :24 with a current assist level of 0.04069166666666667\n",
      "finished trials :25 with a current assist level of 0.040433333333333335\n",
      "finished trials :26 with a current assist level of 0.04014166666666667\n",
      "finished trials :27 with a current assist level of 0.03956666666666667\n",
      "finished trials :28 with a current assist level of 0.03928888888888889\n",
      "finished trials :29 with a current assist level of 0.03839166666666667\n",
      "finished trials :30 with a current assist level of 0.03801666666666667\n",
      "finished trials :31 with a current assist level of 0.03769027777777778\n",
      "finished trials :32 with a current assist level of 0.03739166666666667\n",
      "finished trials :33 with a current assist level of 0.03707361111111111\n",
      "finished trials :34 with a current assist level of 0.03683055555555556\n",
      "finished trials :35 with a current assist level of 0.03653194444444445\n",
      "finished trials :36 with a current assist level of 0.03601666666666667\n",
      "finished trials :37 with a current assist level of 0.035633333333333336\n",
      "finished trials :38 with a current assist level of 0.03531527777777778\n",
      "finished trials :39 with a current assist level of 0.03496666666666667\n",
      "finished trials :40 with a current assist level of 0.034633333333333335\n",
      "finished trials :41 with a current assist level of 0.03436527777777778\n",
      "finished trials :42 with a current assist level of 0.03409166666666667\n",
      "finished trials :43 with a current assist level of 0.033675\n",
      "finished trials :44 with a current assist level of 0.03331527777777778\n",
      "finished trials :45 with a current assist level of 0.03305833333333333\n",
      "finished trials :46 with a current assist level of 0.03278194444444445\n",
      "finished trials :47 with a current assist level of 0.032523611111111114\n",
      "finished trials :48 with a current assist level of 0.031955555555555556\n",
      "finished trials :49 with a current assist level of 0.031606944444444444\n",
      "finished trials :50 with a current assist level of 0.03130694444444444\n",
      "finished trials :51 with a current assist level of 0.030997222222222225\n",
      "finished trials :52 with a current assist level of 0.030633333333333332\n",
      "finished trials :53 with a current assist level of 0.030372222222222224\n",
      "finished trials :54 with a current assist level of 0.030038888888888893\n",
      "finished trials :55 with a current assist level of 0.029633333333333334\n",
      "finished trials :56 with a current assist level of 0.02939027777777778\n",
      "finished trials :57 with a current assist level of 0.028913888888888892\n",
      "finished trials :58 with a current assist level of 0.02858055555555556\n",
      "finished trials :59 with a current assist level of 0.027840277777777776\n",
      "finished trials :60 with a current assist level of 0.027597222222222224\n",
      "finished trials :61 with a current assist level of 0.027315277777777782\n",
      "finished trials :62 with a current assist level of 0.026763888888888893\n",
      "finished trials :63 with a current assist level of 0.02648888888888889\n",
      "finished trials :64 with a current assist level of 0.026222222222222227\n",
      "finished trials :65 with a current assist level of 0.025947222222222222\n",
      "finished trials :66 with a current assist level of 0.025690277777777784\n",
      "finished trials :67 with a current assist level of 0.02508055555555556\n",
      "finished trials :68 with a current assist level of 0.02466388888888889\n",
      "finished trials :69 with a current assist level of 0.024398611111111114\n",
      "finished trials :70 with a current assist level of 0.024097222222222228\n"
     ]
    },
    {
     "name": "stdout",
     "output_type": "stream",
     "text": [
      "finished trials :71 with a current assist level of 0.023756944444444445\n",
      "finished trials :72 with a current assist level of 0.023447222222222227\n",
      "finished trials :73 with a current assist level of 0.022738888888888892\n",
      "finished trials :74 with a current assist level of 0.022405555555555557\n",
      "finished trials :75 with a current assist level of 0.02206527777777778\n",
      "finished trials :76 with a current assist level of 0.021655555555555556\n",
      "finished trials :77 with a current assist level of 0.02138888888888889\n",
      "finished trials :78 with a current assist level of 0.021163888888888895\n",
      "finished trials :79 with a current assist level of 0.020872222222222226\n",
      "finished trials :80 with a current assist level of 0.02053888888888889\n",
      "finished trials :81 with a current assist level of 0.02031527777777778\n",
      "end of FSM.run, task state is None\n",
      "Finished running  enc. mean FR:4.0 Hz\n",
      "runseq\n",
      "finished: 1\n",
      "finished trials :2 with a current assist level of 0.047905555555555555\n",
      "finished trials :3 with a current assist level of 0.04756527777777778\n",
      "finished trials :4 with a current assist level of 0.047200000000000006\n",
      "finished trials :5 with a current assist level of 0.046858333333333335\n",
      "finished trials :6 with a current assist level of 0.046588888888888895\n",
      "finished trials :7 with a current assist level of 0.04624166666666667\n",
      "finished trials :8 with a current assist level of 0.04566527777777778\n",
      "finished trials :9 with a current assist level of 0.04539027777777778\n",
      "finished trials :10 with a current assist level of 0.04510694444444445\n",
      "finished trials :11 with a current assist level of 0.04481527777777778\n",
      "finished trials :12 with a current assist level of 0.04454166666666667\n",
      "finished trials :13 with a current assist level of 0.04434166666666667\n",
      "finished trials :14 with a current assist level of 0.04405833333333334\n",
      "finished trials :15 with a current assist level of 0.04380833333333334\n",
      "finished trials :16 with a current assist level of 0.04353055555555556\n",
      "finished trials :17 with a current assist level of 0.04319722222222223\n",
      "finished trials :18 with a current assist level of 0.04291666666666667\n",
      "finished trials :19 with a current assist level of 0.04260833333333333\n",
      "finished trials :20 with a current assist level of 0.04231666666666667\n",
      "finished trials :21 with a current assist level of 0.042083333333333334\n",
      "finished trials :22 with a current assist level of 0.04140555555555556\n",
      "finished trials :23 with a current assist level of 0.041100000000000005\n",
      "finished trials :24 with a current assist level of 0.04083333333333333\n",
      "finished trials :25 with a current assist level of 0.04059027777777778\n",
      "finished trials :26 with a current assist level of 0.040363888888888894\n",
      "finished trials :27 with a current assist level of 0.04013194444444444\n",
      "finished trials :28 with a current assist level of 0.03989166666666667\n",
      "finished trials :29 with a current assist level of 0.03969166666666667\n",
      "finished trials :30 with a current assist level of 0.039405555555555555\n",
      "finished trials :31 with a current assist level of 0.038865277777777776\n",
      "finished trials :32 with a current assist level of 0.038497222222222224\n",
      "finished trials :33 with a current assist level of 0.03823194444444444\n",
      "finished trials :34 with a current assist level of 0.03795555555555556\n",
      "finished trials :35 with a current assist level of 0.03773194444444444\n",
      "finished trials :36 with a current assist level of 0.03746666666666667\n",
      "finished trials :37 with a current assist level of 0.036975\n",
      "finished trials :38 with a current assist level of 0.03670555555555556\n",
      "finished trials :39 with a current assist level of 0.036225\n",
      "finished trials :40 with a current assist level of 0.03590694444444445\n",
      "finished trials :41 with a current assist level of 0.03566388888888889\n",
      "finished trials :42 with a current assist level of 0.03533055555555556\n",
      "finished trials :43 with a current assist level of 0.03508055555555556\n",
      "finished trials :44 with a current assist level of 0.03483055555555556\n",
      "finished trials :45 with a current assist level of 0.03458055555555556\n",
      "finished trials :46 with a current assist level of 0.034350000000000006\n",
      "finished trials :47 with a current assist level of 0.03410694444444445\n",
      "finished trials :48 with a current assist level of 0.03382361111111111\n",
      "finished trials :49 with a current assist level of 0.03356527777777778\n",
      "finished trials :50 with a current assist level of 0.03333055555555556\n",
      "finished trials :51 with a current assist level of 0.033100000000000004\n",
      "finished trials :52 with a current assist level of 0.03286527777777778\n",
      "finished trials :53 with a current assist level of 0.032681944444444444\n",
      "finished trials :54 with a current assist level of 0.03247361111111111\n",
      "finished trials :55 with a current assist level of 0.03222361111111111\n",
      "finished trials :56 with a current assist level of 0.031955555555555556\n",
      "finished trials :57 with a current assist level of 0.03159166666666667\n",
      "finished trials :58 with a current assist level of 0.03134861111111111\n",
      "finished trials :59 with a current assist level of 0.030815277777777778\n",
      "finished trials :60 with a current assist level of 0.030531944444444445\n",
      "finished trials :61 with a current assist level of 0.030247222222222224\n",
      "finished trials :62 with a current assist level of 0.02999027777777778\n",
      "finished trials :63 with a current assist level of 0.029758333333333335\n",
      "finished trials :64 with a current assist level of 0.029473611111111114\n",
      "finished trials :65 with a current assist level of 0.029175\n",
      "finished trials :66 with a current assist level of 0.02894027777777778\n",
      "finished trials :67 with a current assist level of 0.028675000000000003\n",
      "finished trials :68 with a current assist level of 0.02833055555555556\n",
      "finished trials :69 with a current assist level of 0.02810694444444445\n",
      "finished trials :70 with a current assist level of 0.027898611111111114\n",
      "finished trials :71 with a current assist level of 0.027606944444444448\n",
      "finished trials :72 with a current assist level of 0.027322222222222223\n",
      "finished trials :73 with a current assist level of 0.027023611111111113\n",
      "finished trials :74 with a current assist level of 0.02670555555555556\n",
      "finished trials :75 with a current assist level of 0.026447222222222223\n",
      "finished trials :76 with a current assist level of 0.02611388888888889\n",
      "finished trials :77 with a current assist level of 0.025913888888888893\n",
      "finished trials :78 with a current assist level of 0.025715277777777778\n",
      "finished trials :79 with a current assist level of 0.025430555555555557\n",
      "finished trials :80 with a current assist level of 0.025231944444444446\n",
      "finished trials :81 with a current assist level of 0.025038888888888892\n",
      "end of FSM.run, task state is None\n",
      "Finished running  enc. mean FR:8.0 Hz\n",
      "runseq\n",
      "finished: 1\n",
      "finished trials :2 with a current assist level of 0.04938194444444445\n",
      "finished trials :3 with a current assist level of 0.04881527777777778\n",
      "finished trials :4 with a current assist level of 0.048497222222222226\n",
      "finished trials :5 with a current assist level of 0.04826388888888889\n",
      "finished trials :6 with a current assist level of 0.047997222222222226\n",
      "finished trials :7 with a current assist level of 0.04776388888888889\n",
      "finished trials :8 with a current assist level of 0.047523611111111114\n",
      "finished trials :9 with a current assist level of 0.04729027777777778\n",
      "finished trials :10 with a current assist level of 0.04705694444444445\n",
      "finished trials :11 with a current assist level of 0.046816666666666666\n",
      "finished trials :12 with a current assist level of 0.046575000000000005\n",
      "finished trials :13 with a current assist level of 0.046325000000000005\n",
      "finished trials :14 with a current assist level of 0.04611666666666667\n",
      "finished trials :15 with a current assist level of 0.045908333333333336\n",
      "finished trials :16 with a current assist level of 0.04568194444444445\n",
      "finished trials :17 with a current assist level of 0.045456944444444446\n",
      "finished trials :18 with a current assist level of 0.04523194444444445\n",
      "finished trials :19 with a current assist level of 0.044998611111111114\n",
      "finished trials :20 with a current assist level of 0.04476527777777778\n",
      "finished trials :21 with a current assist level of 0.044525\n",
      "finished trials :22 with a current assist level of 0.044275\n",
      "finished trials :23 with a current assist level of 0.04406666666666667\n",
      "finished trials :24 with a current assist level of 0.04384166666666667\n",
      "finished trials :25 with a current assist level of 0.04361388888888889\n",
      "finished trials :26 with a current assist level of 0.0434\n"
     ]
    },
    {
     "name": "stdout",
     "output_type": "stream",
     "text": [
      "finished trials :27 with a current assist level of 0.04319166666666667\n",
      "finished trials :28 with a current assist level of 0.04294722222222223\n",
      "finished trials :29 with a current assist level of 0.042625\n",
      "finished trials :30 with a current assist level of 0.0424\n",
      "finished trials :31 with a current assist level of 0.04216666666666667\n",
      "finished trials :32 with a current assist level of 0.041947222222222226\n",
      "finished trials :33 with a current assist level of 0.04170833333333333\n",
      "finished trials :34 with a current assist level of 0.04148333333333334\n",
      "finished trials :35 with a current assist level of 0.041225000000000005\n",
      "finished trials :36 with a current assist level of 0.040933333333333335\n",
      "finished trials :37 with a current assist level of 0.04054166666666667\n",
      "finished trials :38 with a current assist level of 0.04033333333333333\n",
      "finished trials :39 with a current assist level of 0.04008333333333333\n",
      "finished trials :40 with a current assist level of 0.03984027777777778\n",
      "finished trials :41 with a current assist level of 0.03959027777777778\n",
      "finished trials :42 with a current assist level of 0.03919027777777778\n",
      "finished trials :43 with a current assist level of 0.038948611111111114\n",
      "finished trials :44 with a current assist level of 0.038747222222222225\n",
      "finished trials :45 with a current assist level of 0.038455555555555555\n",
      "finished trials :46 with a current assist level of 0.038225\n",
      "finished trials :47 with a current assist level of 0.037997222222222224\n",
      "finished trials :48 with a current assist level of 0.03778888888888889\n",
      "finished trials :49 with a current assist level of 0.03756527777777778\n",
      "finished trials :50 with a current assist level of 0.03736527777777778\n",
      "finished trials :51 with a current assist level of 0.03714861111111111\n",
      "finished trials :52 with a current assist level of 0.03693333333333333\n",
      "finished trials :53 with a current assist level of 0.03668333333333333\n",
      "finished trials :54 with a current assist level of 0.036475\n",
      "finished trials :55 with a current assist level of 0.03620555555555556\n",
      "finished trials :56 with a current assist level of 0.035925\n",
      "finished trials :57 with a current assist level of 0.03568333333333334\n",
      "finished trials :58 with a current assist level of 0.035425\n",
      "finished trials :59 with a current assist level of 0.03518333333333334\n",
      "finished trials :60 with a current assist level of 0.034925000000000005\n",
      "finished trials :61 with a current assist level of 0.03469861111111111\n",
      "finished trials :62 with a current assist level of 0.03449027777777778\n",
      "finished trials :63 with a current assist level of 0.034258333333333335\n",
      "finished trials :64 with a current assist level of 0.03405833333333333\n",
      "finished trials :65 with a current assist level of 0.03380833333333333\n",
      "finished trials :66 with a current assist level of 0.03358055555555556\n",
      "finished trials :67 with a current assist level of 0.03333055555555556\n",
      "finished trials :68 with a current assist level of 0.033106944444444446\n",
      "finished trials :69 with a current assist level of 0.032913888888888895\n",
      "finished trials :70 with a current assist level of 0.032663888888888895\n",
      "finished trials :71 with a current assist level of 0.032440277777777776\n",
      "finished trials :72 with a current assist level of 0.032181944444444444\n",
      "finished trials :73 with a current assist level of 0.031940277777777776\n",
      "finished trials :74 with a current assist level of 0.03172361111111111\n",
      "finished trials :75 with a current assist level of 0.031413888888888894\n",
      "finished trials :76 with a current assist level of 0.031175\n",
      "finished trials :77 with a current assist level of 0.030872222222222225\n",
      "finished trials :78 with a current assist level of 0.030656944444444445\n",
      "finished trials :79 with a current assist level of 0.030440277777777778\n",
      "finished trials :80 with a current assist level of 0.03024027777777778\n",
      "finished trials :81 with a current assist level of 0.030023611111111112\n",
      "end of FSM.run, task state is None\n",
      "Finished running  enc. mean FR:16.0 Hz\n",
      "runseq\n",
      "finished: 1\n",
      "finished trials :2 with a current assist level of 0.04874027777777778\n",
      "finished trials :3 with a current assist level of 0.04851388888888889\n",
      "finished trials :4 with a current assist level of 0.04831527777777778\n",
      "finished trials :5 with a current assist level of 0.04809722222222222\n",
      "finished trials :6 with a current assist level of 0.04788194444444445\n",
      "finished trials :7 with a current assist level of 0.047648611111111114\n",
      "finished trials :8 with a current assist level of 0.04744027777777778\n",
      "finished trials :9 with a current assist level of 0.04724166666666667\n",
      "finished trials :10 with a current assist level of 0.047025000000000004\n",
      "finished trials :11 with a current assist level of 0.046816666666666666\n",
      "finished trials :12 with a current assist level of 0.04659861111111111\n",
      "finished trials :13 with a current assist level of 0.04636666666666667\n",
      "finished trials :14 with a current assist level of 0.046150000000000004\n",
      "finished trials :15 with a current assist level of 0.04593194444444445\n",
      "finished trials :16 with a current assist level of 0.045700000000000005\n",
      "finished trials :17 with a current assist level of 0.045450000000000004\n",
      "finished trials :18 with a current assist level of 0.045213888888888894\n",
      "finished trials :19 with a current assist level of 0.044998611111111114\n",
      "finished trials :20 with a current assist level of 0.04476527777777778\n",
      "finished trials :21 with a current assist level of 0.04455\n",
      "finished trials :22 with a current assist level of 0.04426666666666667\n",
      "finished trials :23 with a current assist level of 0.044041666666666666\n",
      "finished trials :24 with a current assist level of 0.043833333333333335\n",
      "finished trials :25 with a current assist level of 0.04361388888888889\n",
      "finished trials :26 with a current assist level of 0.04341666666666667\n",
      "finished trials :27 with a current assist level of 0.04319722222222223\n",
      "finished trials :28 with a current assist level of 0.04293333333333334\n",
      "finished trials :29 with a current assist level of 0.04269722222222223\n",
      "finished trials :30 with a current assist level of 0.042466666666666666\n",
      "finished trials :31 with a current assist level of 0.042258333333333335\n",
      "finished trials :32 with a current assist level of 0.042050000000000004\n",
      "finished trials :33 with a current assist level of 0.041841666666666666\n",
      "finished trials :34 with a current assist level of 0.041633333333333335\n",
      "finished trials :35 with a current assist level of 0.04141666666666667\n",
      "finished trials :36 with a current assist level of 0.04120833333333333\n",
      "finished trials :37 with a current assist level of 0.04095833333333333\n",
      "finished trials :38 with a current assist level of 0.04071527777777778\n",
      "finished trials :39 with a current assist level of 0.040483333333333336\n",
      "finished trials :40 with a current assist level of 0.03996527777777778\n",
      "finished trials :41 with a current assist level of 0.039733333333333336\n",
      "finished trials :42 with a current assist level of 0.03950694444444445\n",
      "finished trials :43 with a current assist level of 0.039308333333333334\n",
      "finished trials :44 with a current assist level of 0.03909166666666667\n",
      "finished trials :45 with a current assist level of 0.03888333333333333\n",
      "finished trials :46 with a current assist level of 0.038675\n",
      "finished trials :47 with a current assist level of 0.038448611111111114\n",
      "finished trials :48 with a current assist level of 0.038225\n",
      "finished trials :49 with a current assist level of 0.037997222222222224\n",
      "finished trials :50 with a current assist level of 0.03776666666666667\n",
      "finished trials :51 with a current assist level of 0.03755\n",
      "finished trials :52 with a current assist level of 0.03735\n",
      "finished trials :53 with a current assist level of 0.03712222222222222\n",
      "finished trials :54 with a current assist level of 0.03687222222222222\n",
      "finished trials :55 with a current assist level of 0.03664166666666667\n",
      "finished trials :56 with a current assist level of 0.03635\n",
      "finished trials :57 with a current assist level of 0.03611527777777778\n",
      "finished trials :58 with a current assist level of 0.03589166666666667\n",
      "finished trials :59 with a current assist level of 0.03564166666666667\n",
      "finished trials :60 with a current assist level of 0.035425\n",
      "finished trials :61 with a current assist level of 0.035133333333333336\n",
      "finished trials :62 with a current assist level of 0.03491388888888889\n",
      "finished trials :63 with a current assist level of 0.03469861111111111\n",
      "finished trials :64 with a current assist level of 0.034466666666666666\n"
     ]
    },
    {
     "name": "stdout",
     "output_type": "stream",
     "text": [
      "finished trials :65 with a current assist level of 0.034225000000000005\n",
      "finished trials :66 with a current assist level of 0.03399722222222222\n",
      "finished trials :67 with a current assist level of 0.0338\n",
      "finished trials :68 with a current assist level of 0.03358055555555556\n",
      "finished trials :69 with a current assist level of 0.033356944444444446\n",
      "finished trials :70 with a current assist level of 0.033148611111111115\n",
      "finished trials :71 with a current assist level of 0.03294861111111111\n",
      "finished trials :72 with a current assist level of 0.032731944444444445\n",
      "finished trials :73 with a current assist level of 0.03249027777777778\n",
      "finished trials :74 with a current assist level of 0.032231944444444445\n",
      "finished trials :75 with a current assist level of 0.03199027777777778\n",
      "finished trials :76 with a current assist level of 0.031781944444444446\n",
      "finished trials :77 with a current assist level of 0.03151527777777778\n",
      "finished trials :78 with a current assist level of 0.0313\n",
      "finished trials :79 with a current assist level of 0.031080555555555556\n",
      "finished trials :80 with a current assist level of 0.03086527777777778\n",
      "finished trials :81 with a current assist level of 0.03064027777777778\n",
      "end of FSM.run, task state is None\n",
      "Finished running  enc. mean FR:32.0 Hz\n",
      "runseq\n",
      "finished: 1\n",
      "finished trials :2 with a current assist level of 0.04891388888888889\n",
      "finished trials :3 with a current assist level of 0.04872361111111111\n",
      "finished trials :4 with a current assist level of 0.048538888888888895\n",
      "finished trials :5 with a current assist level of 0.04833055555555556\n",
      "finished trials :6 with a current assist level of 0.048122222222222226\n",
      "finished trials :7 with a current assist level of 0.047905555555555555\n",
      "finished trials :8 with a current assist level of 0.04770555555555556\n",
      "finished trials :9 with a current assist level of 0.047481944444444445\n",
      "finished trials :10 with a current assist level of 0.047248611111111116\n",
      "finished trials :11 with a current assist level of 0.04703333333333334\n",
      "finished trials :12 with a current assist level of 0.04680694444444445\n",
      "finished trials :13 with a current assist level of 0.046608333333333335\n",
      "finished trials :14 with a current assist level of 0.046400000000000004\n",
      "finished trials :15 with a current assist level of 0.04618194444444445\n",
      "finished trials :16 with a current assist level of 0.045950000000000005\n",
      "finished trials :17 with a current assist level of 0.04572361111111112\n",
      "finished trials :18 with a current assist level of 0.045505555555555556\n",
      "finished trials :19 with a current assist level of 0.045248611111111114\n",
      "finished trials :20 with a current assist level of 0.044915277777777776\n",
      "finished trials :21 with a current assist level of 0.044656944444444444\n",
      "finished trials :22 with a current assist level of 0.04438333333333334\n",
      "finished trials :23 with a current assist level of 0.04416666666666667\n",
      "finished trials :24 with a current assist level of 0.043875000000000004\n",
      "finished trials :25 with a current assist level of 0.04364166666666667\n",
      "finished trials :26 with a current assist level of 0.04344166666666667\n",
      "finished trials :27 with a current assist level of 0.04323333333333333\n",
      "finished trials :28 with a current assist level of 0.04291666666666667\n",
      "finished trials :29 with a current assist level of 0.04257222222222223\n",
      "finished trials :30 with a current assist level of 0.042275\n",
      "finished trials :31 with a current assist level of 0.04203055555555556\n",
      "finished trials :32 with a current assist level of 0.04181666666666667\n",
      "finished trials :33 with a current assist level of 0.041600000000000005\n",
      "finished trials :34 with a current assist level of 0.0414\n",
      "finished trials :35 with a current assist level of 0.04119166666666667\n",
      "finished trials :36 with a current assist level of 0.04096527777777778\n",
      "finished trials :37 with a current assist level of 0.04075694444444444\n",
      "finished trials :38 with a current assist level of 0.04054166666666667\n",
      "finished trials :39 with a current assist level of 0.040308333333333335\n",
      "finished trials :40 with a current assist level of 0.040100000000000004\n",
      "finished trials :41 with a current assist level of 0.03989166666666667\n",
      "finished trials :42 with a current assist level of 0.03967361111111111\n",
      "finished trials :43 with a current assist level of 0.03945833333333333\n",
      "finished trials :44 with a current assist level of 0.03924027777777778\n",
      "finished trials :45 with a current assist level of 0.03902361111111111\n",
      "finished trials :46 with a current assist level of 0.03881527777777778\n",
      "finished trials :47 with a current assist level of 0.038606944444444444\n",
      "finished trials :48 with a current assist level of 0.038372222222222224\n",
      "finished trials :49 with a current assist level of 0.038175\n",
      "finished trials :50 with a current assist level of 0.03795555555555556\n",
      "finished trials :51 with a current assist level of 0.037740277777777775\n",
      "finished trials :52 with a current assist level of 0.03751666666666667\n",
      "finished trials :53 with a current assist level of 0.03728888888888889\n",
      "finished trials :54 with a current assist level of 0.03708055555555556\n",
      "finished trials :55 with a current assist level of 0.03684166666666667\n",
      "finished trials :56 with a current assist level of 0.03660694444444445\n",
      "finished trials :57 with a current assist level of 0.03628888888888889\n",
      "finished trials :58 with a current assist level of 0.03606527777777778\n",
      "finished trials :59 with a current assist level of 0.03585\n",
      "finished trials :60 with a current assist level of 0.03560694444444445\n",
      "finished trials :61 with a current assist level of 0.03539166666666667\n",
      "finished trials :62 with a current assist level of 0.03519861111111111\n",
      "finished trials :63 with a current assist level of 0.03498194444444445\n",
      "finished trials :64 with a current assist level of 0.03476666666666667\n",
      "finished trials :65 with a current assist level of 0.03453888888888889\n",
      "finished trials :66 with a current assist level of 0.03434166666666667\n",
      "finished trials :67 with a current assist level of 0.03412222222222222\n",
      "finished trials :68 with a current assist level of 0.03391388888888889\n",
      "finished trials :69 with a current assist level of 0.03370555555555556\n",
      "finished trials :70 with a current assist level of 0.03349722222222222\n",
      "finished trials :71 with a current assist level of 0.03328194444444445\n",
      "finished trials :72 with a current assist level of 0.03307361111111111\n",
      "finished trials :73 with a current assist level of 0.032856944444444446\n",
      "finished trials :74 with a current assist level of 0.032648611111111114\n",
      "finished trials :75 with a current assist level of 0.03244861111111111\n",
      "finished trials :76 with a current assist level of 0.03221666666666667\n",
      "finished trials :77 with a current assist level of 0.03199722222222222\n",
      "finished trials :78 with a current assist level of 0.031788888888888894\n",
      "finished trials :79 with a current assist level of 0.031580555555555556\n",
      "finished trials :80 with a current assist level of 0.031372222222222225\n",
      "finished trials :81 with a current assist level of 0.03116388888888889\n",
      "end of FSM.run, task state is None\n",
      "Finished running  enc. mean FR:64.0 Hz\n",
      "runseq\n",
      "finished: 1\n",
      "finished trials :2 with a current assist level of 0.048606944444444446\n",
      "finished trials :3 with a current assist level of 0.048405555555555556\n",
      "finished trials :4 with a current assist level of 0.04820555555555556\n",
      "finished trials :5 with a current assist level of 0.04800694444444445\n",
      "finished trials :6 with a current assist level of 0.04780555555555556\n",
      "finished trials :7 with a current assist level of 0.04759722222222222\n",
      "finished trials :8 with a current assist level of 0.04738194444444445\n",
      "finished trials :9 with a current assist level of 0.04716527777777778\n",
      "finished trials :10 with a current assist level of 0.046950000000000006\n",
      "finished trials :11 with a current assist level of 0.04674166666666667\n",
      "finished trials :12 with a current assist level of 0.046525000000000004\n",
      "finished trials :13 with a current assist level of 0.046297222222222226\n",
      "finished trials :14 with a current assist level of 0.046088888888888895\n",
      "finished trials :15 with a current assist level of 0.045873611111111115\n",
      "finished trials :16 with a current assist level of 0.045672222222222225\n",
      "finished trials :17 with a current assist level of 0.04547361111111112\n",
      "finished trials :18 with a current assist level of 0.04526527777777778\n",
      "finished trials :19 with a current assist level of 0.045040277777777776\n",
      "finished trials :20 with a current assist level of 0.044825000000000004\n",
      "finished trials :21 with a current assist level of 0.04461388888888889\n"
     ]
    },
    {
     "name": "stdout",
     "output_type": "stream",
     "text": [
      "finished trials :22 with a current assist level of 0.04441666666666667\n",
      "finished trials :23 with a current assist level of 0.04419722222222223\n",
      "finished trials :24 with a current assist level of 0.04398888888888889\n",
      "finished trials :25 with a current assist level of 0.043775\n",
      "finished trials :26 with a current assist level of 0.04357222222222223\n",
      "finished trials :27 with a current assist level of 0.04335\n",
      "finished trials :28 with a current assist level of 0.043083333333333335\n",
      "finished trials :29 with a current assist level of 0.042758333333333336\n",
      "finished trials :30 with a current assist level of 0.0425\n",
      "finished trials :31 with a current assist level of 0.04228055555555556\n",
      "finished trials :32 with a current assist level of 0.042050000000000004\n",
      "finished trials :33 with a current assist level of 0.041841666666666666\n",
      "finished trials :34 with a current assist level of 0.041633333333333335\n",
      "finished trials :35 with a current assist level of 0.0414\n",
      "finished trials :36 with a current assist level of 0.041183333333333336\n",
      "finished trials :37 with a current assist level of 0.04095833333333333\n",
      "finished trials :38 with a current assist level of 0.04075\n",
      "finished trials :39 with a current assist level of 0.040530555555555556\n",
      "finished trials :40 with a current assist level of 0.04034027777777778\n",
      "finished trials :41 with a current assist level of 0.04004861111111111\n",
      "finished trials :42 with a current assist level of 0.03981666666666667\n",
      "finished trials :43 with a current assist level of 0.03961388888888889\n",
      "finished trials :44 with a current assist level of 0.03941666666666667\n",
      "finished trials :45 with a current assist level of 0.03921666666666667\n",
      "finished trials :46 with a current assist level of 0.038997222222222225\n",
      "finished trials :47 with a current assist level of 0.038781944444444445\n",
      "finished trials :48 with a current assist level of 0.03856527777777778\n",
      "finished trials :49 with a current assist level of 0.038356944444444444\n",
      "finished trials :50 with a current assist level of 0.03814861111111111\n",
      "finished trials :51 with a current assist level of 0.03793333333333333\n",
      "finished trials :52 with a current assist level of 0.03773194444444444\n",
      "finished trials :53 with a current assist level of 0.03752361111111111\n",
      "finished trials :54 with a current assist level of 0.03728888888888889\n",
      "finished trials :55 with a current assist level of 0.03699722222222222\n",
      "finished trials :56 with a current assist level of 0.03669861111111111\n",
      "finished trials :57 with a current assist level of 0.03649722222222222\n",
      "finished trials :58 with a current assist level of 0.03628194444444445\n",
      "finished trials :59 with a current assist level of 0.03608055555555556\n",
      "finished trials :60 with a current assist level of 0.03586527777777778\n",
      "finished trials :61 with a current assist level of 0.03564166666666667\n",
      "finished trials :62 with a current assist level of 0.035425\n",
      "finished trials :63 with a current assist level of 0.03519027777777778\n",
      "finished trials :64 with a current assist level of 0.034975\n",
      "finished trials :65 with a current assist level of 0.03474722222222222\n",
      "finished trials :66 with a current assist level of 0.03453194444444445\n",
      "finished trials :67 with a current assist level of 0.03431527777777778\n",
      "finished trials :68 with a current assist level of 0.03410694444444445\n",
      "finished trials :69 with a current assist level of 0.033898611111111115\n",
      "finished trials :70 with a current assist level of 0.03368333333333333\n",
      "finished trials :71 with a current assist level of 0.033481944444444446\n",
      "finished trials :72 with a current assist level of 0.033273611111111115\n",
      "finished trials :73 with a current assist level of 0.03305833333333333\n",
      "finished trials :74 with a current assist level of 0.03284166666666667\n",
      "finished trials :75 with a current assist level of 0.032633333333333334\n",
      "finished trials :76 with a current assist level of 0.032413888888888895\n",
      "finished trials :77 with a current assist level of 0.032190277777777776\n",
      "finished trials :78 with a current assist level of 0.031981944444444445\n",
      "finished trials :79 with a current assist level of 0.031773611111111114\n",
      "finished trials :80 with a current assist level of 0.03157361111111111\n",
      "finished trials :81 with a current assist level of 0.03135694444444445\n",
      "end of FSM.run, task state is None\n",
      "Finished running  enc. mean FR:128.0 Hz\n",
      "runseq\n",
      "finished: 1\n",
      "observations have counts >> 1000 \n",
      "observations have counts >> 1000 \n",
      "observations have counts >> 1000 \n",
      "observations have counts >> 1000 \n",
      "observations have counts >> 1000 \n",
      "finished trials :2 with a current assist level of 0.048613888888888894\n",
      "finished trials :3 with a current assist level of 0.048413888888888895\n",
      "finished trials :4 with a current assist level of 0.04820555555555556\n",
      "finished trials :5 with a current assist level of 0.04800694444444445\n",
      "finished trials :6 with a current assist level of 0.047788888888888895\n",
      "finished trials :7 with a current assist level of 0.047580555555555556\n",
      "finished trials :8 with a current assist level of 0.04736388888888889\n",
      "finished trials :9 with a current assist level of 0.04715833333333334\n",
      "finished trials :10 with a current assist level of 0.046950000000000006\n",
      "finished trials :11 with a current assist level of 0.046733333333333335\n",
      "finished trials :12 with a current assist level of 0.04651527777777778\n",
      "finished trials :13 with a current assist level of 0.04630694444444445\n",
      "finished trials :14 with a current assist level of 0.046108333333333335\n",
      "finished trials :15 with a current assist level of 0.04589027777777778\n",
      "finished trials :16 with a current assist level of 0.04568194444444445\n",
      "finished trials :17 with a current assist level of 0.045463888888888894\n",
      "finished trials :18 with a current assist level of 0.045248611111111114\n",
      "finished trials :19 with a current assist level of 0.045040277777777776\n",
      "finished trials :20 with a current assist level of 0.044825000000000004\n",
      "finished trials :21 with a current assist level of 0.044625000000000005\n",
      "finished trials :22 with a current assist level of 0.04440555555555556\n",
      "finished trials :23 with a current assist level of 0.04419166666666667\n",
      "finished trials :24 with a current assist level of 0.04398333333333333\n",
      "finished trials :25 with a current assist level of 0.04378055555555556\n",
      "finished trials :26 with a current assist level of 0.04357222222222223\n",
      "finished trials :27 with a current assist level of 0.04335833333333333\n",
      "finished trials :28 with a current assist level of 0.04276666666666667\n",
      "finished trials :29 with a current assist level of 0.042175000000000004\n",
      "finished trials :30 with a current assist level of 0.04151666666666667\n",
      "finished trials :31 with a current assist level of 0.041275\n",
      "finished trials :32 with a current assist level of 0.041025000000000006\n",
      "finished trials :33 with a current assist level of 0.04083333333333333\n",
      "finished trials :34 with a current assist level of 0.04063194444444444\n",
      "finished trials :35 with a current assist level of 0.040405555555555556\n",
      "finished trials :36 with a current assist level of 0.04016666666666667\n",
      "finished trials :37 with a current assist level of 0.03992361111111111\n",
      "finished trials :38 with a current assist level of 0.03969166666666667\n",
      "finished trials :39 with a current assist level of 0.03946527777777778\n",
      "finished trials :40 with a current assist level of 0.03925833333333333\n",
      "finished trials :41 with a current assist level of 0.03905\n",
      "finished trials :42 with a current assist level of 0.038823611111111114\n",
      "finished trials :43 with a current assist level of 0.0386\n",
      "finished trials :44 with a current assist level of 0.03839861111111111\n",
      "finished trials :45 with a current assist level of 0.03818333333333333\n",
      "finished trials :46 with a current assist level of 0.03798194444444444\n",
      "finished trials :47 with a current assist level of 0.03776666666666667\n",
      "finished trials :48 with a current assist level of 0.03752361111111111\n",
      "finished trials :49 with a current assist level of 0.03730833333333333\n",
      "finished trials :50 with a current assist level of 0.0371\n",
      "finished trials :51 with a current assist level of 0.03689166666666667\n",
      "finished trials :52 with a current assist level of 0.03668333333333333\n",
      "finished trials :53 with a current assist level of 0.03646666666666667\n",
      "finished trials :54 with a current assist level of 0.03624027777777778\n",
      "finished trials :55 with a current assist level of 0.035975\n"
     ]
    },
    {
     "name": "stdout",
     "output_type": "stream",
     "text": [
      "finished trials :56 with a current assist level of 0.03569861111111111\n",
      "finished trials :57 with a current assist level of 0.035023611111111116\n",
      "finished trials :58 with a current assist level of 0.03480833333333334\n",
      "finished trials :59 with a current assist level of 0.034600000000000006\n",
      "finished trials :60 with a current assist level of 0.03436527777777778\n",
      "finished trials :61 with a current assist level of 0.03416388888888889\n",
      "finished trials :62 with a current assist level of 0.03394861111111111\n",
      "finished trials :63 with a current assist level of 0.03374722222222222\n",
      "finished trials :64 with a current assist level of 0.033538888888888896\n",
      "finished trials :65 with a current assist level of 0.03332361111111111\n",
      "finished trials :66 with a current assist level of 0.033106944444444446\n",
      "finished trials :67 with a current assist level of 0.032898611111111115\n",
      "finished trials :68 with a current assist level of 0.032674999999999996\n",
      "finished trials :69 with a current assist level of 0.03245555555555556\n",
      "finished trials :70 with a current assist level of 0.03224722222222222\n",
      "finished trials :71 with a current assist level of 0.032038888888888895\n",
      "finished trials :72 with a current assist level of 0.031830555555555556\n",
      "finished trials :73 with a current assist level of 0.03163333333333333\n",
      "finished trials :74 with a current assist level of 0.031413888888888894\n",
      "finished trials :75 with a current assist level of 0.03119861111111111\n",
      "finished trials :76 with a current assist level of 0.03099027777777778\n",
      "finished trials :77 with a current assist level of 0.030773611111111113\n",
      "finished trials :78 with a current assist level of 0.030565277777777778\n",
      "finished trials :79 with a current assist level of 0.030348611111111114\n",
      "finished trials :80 with a current assist level of 0.030133333333333335\n",
      "finished trials :81 with a current assist level of 0.029925\n",
      "end of FSM.run, task state is None\n",
      "Finished running  enc. mean FR:256.0 Hz\n",
      "runseq\n",
      "finished: 1\n",
      "observations have counts >> 1000 \n",
      "observations have counts >> 1000 \n",
      "observations have counts >> 1000 \n",
      "observations have counts >> 1000 \n",
      "observations have counts >> 1000 \n",
      "observations have counts >> 1000 \n",
      "observations have counts >> 1000 \n",
      "observations have counts >> 1000 \n",
      "observations have counts >> 1000 \n",
      "observations have counts >> 1000 \n",
      "observations have counts >> 1000 \n",
      "observations have counts >> 1000 \n",
      "observations have counts >> 1000 \n",
      "observations have counts >> 1000 \n",
      "observations have counts >> 1000 \n",
      "observations have counts >> 1000 \n",
      "observations have counts >> 1000 \n",
      "observations have counts >> 1000 \n",
      "observations have counts >> 1000 \n",
      "observations have counts >> 1000 \n",
      "observations have counts >> 1000 \n",
      "observations have counts >> 1000 \n",
      "observations have counts >> 1000 \n",
      "observations have counts >> 1000 \n",
      "observations have counts >> 1000 \n",
      "observations have counts >> 1000 \n",
      "observations have counts >> 1000 \n",
      "observations have counts >> 1000 \n",
      "observations have counts >> 1000 \n",
      "observations have counts >> 1000 \n",
      "observations have counts >> 1000 \n",
      "observations have counts >> 1000 \n",
      "observations have counts >> 1000 \n",
      "observations have counts >> 1000 \n",
      "observations have counts >> 1000 \n",
      "observations have counts >> 1000 \n",
      "observations have counts >> 1000 \n",
      "observations have counts >> 1000 \n",
      "observations have counts >> 1000 \n",
      "observations have counts >> 1000 \n",
      "observations have counts >> 1000 \n",
      "observations have counts >> 1000 \n",
      "observations have counts >> 1000 \n",
      "observations have counts >> 1000 \n",
      "observations have counts >> 1000 \n",
      "observations have counts >> 1000 \n",
      "observations have counts >> 1000 \n",
      "observations have counts >> 1000 \n",
      "observations have counts >> 1000 \n",
      "observations have counts >> 1000 \n",
      "observations have counts >> 1000 \n",
      "observations have counts >> 1000 \n",
      "observations have counts >> 1000 \n",
      "observations have counts >> 1000 \n",
      "observations have counts >> 1000 \n",
      "observations have counts >> 1000 \n",
      "observations have counts >> 1000 \n",
      "observations have counts >> 1000 \n",
      "finished trials :2 with a current assist level of 0.048883333333333334\n",
      "finished trials :3 with a current assist level of 0.04871666666666667\n",
      "finished trials :4 with a current assist level of 0.048523611111111115\n",
      "finished trials :5 with a current assist level of 0.04833055555555556\n",
      "finished trials :6 with a current assist level of 0.04813194444444445\n",
      "finished trials :7 with a current assist level of 0.04792361111111111\n",
      "finished trials :8 with a current assist level of 0.04772222222222223\n",
      "finished trials :9 with a current assist level of 0.04751388888888889\n",
      "finished trials :10 with a current assist level of 0.04730694444444445\n",
      "finished trials :11 with a current assist level of 0.04708888888888889\n",
      "finished trials :12 with a current assist level of 0.04688055555555556\n",
      "finished trials :13 with a current assist level of 0.046672222222222226\n",
      "finished trials :14 with a current assist level of 0.04647361111111111\n",
      "finished trials :15 with a current assist level of 0.04625555555555556\n",
      "finished trials :16 with a current assist level of 0.046047222222222225\n",
      "finished trials :17 with a current assist level of 0.045838888888888894\n",
      "finished trials :18 with a current assist level of 0.045630555555555556\n",
      "finished trials :19 with a current assist level of 0.04543194444444445\n",
      "finished trials :20 with a current assist level of 0.045213888888888894\n",
      "finished trials :21 with a current assist level of 0.044991666666666666\n",
      "finished trials :22 with a current assist level of 0.044700000000000004\n",
      "finished trials :23 with a current assist level of 0.044500000000000005\n",
      "finished trials :24 with a current assist level of 0.04423888888888889\n",
      "finished trials :25 with a current assist level of 0.04400833333333334\n",
      "finished trials :26 with a current assist level of 0.043800000000000006\n",
      "finished trials :27 with a current assist level of 0.043583333333333335\n",
      "finished trials :28 with a current assist level of 0.04335\n",
      "finished trials :29 with a current assist level of 0.04314166666666667\n",
      "finished trials :30 with a current assist level of 0.04293333333333334\n",
      "finished trials :31 with a current assist level of 0.042725\n",
      "finished trials :32 with a current assist level of 0.042508333333333335\n",
      "finished trials :33 with a current assist level of 0.042300000000000004\n",
      "finished trials :34 with a current assist level of 0.042091666666666666\n",
      "finished trials :35 with a current assist level of 0.04189166666666667\n",
      "finished trials :36 with a current assist level of 0.041675000000000004\n",
      "finished trials :37 with a current assist level of 0.041475000000000005\n",
      "finished trials :38 with a current assist level of 0.041197222222222225\n",
      "finished trials :39 with a current assist level of 0.04098333333333334\n",
      "finished trials :40 with a current assist level of 0.040766666666666666\n",
      "finished trials :41 with a current assist level of 0.040530555555555556\n",
      "finished trials :42 with a current assist level of 0.04033333333333333\n",
      "finished trials :43 with a current assist level of 0.040125\n",
      "finished trials :44 with a current assist level of 0.03991666666666667\n",
      "finished trials :45 with a current assist level of 0.039697222222222224\n",
      "finished trials :46 with a current assist level of 0.0395\n",
      "finished trials :47 with a current assist level of 0.03928888888888889\n",
      "finished trials :48 with a current assist level of 0.039073611111111115\n",
      "finished trials :49 with a current assist level of 0.038865277777777776\n",
      "finished trials :50 with a current assist level of 0.03864861111111111\n",
      "finished trials :51 with a current assist level of 0.03844027777777778\n",
      "finished trials :52 with a current assist level of 0.038225\n",
      "finished trials :53 with a current assist level of 0.03801666666666667\n",
      "finished trials :54 with a current assist level of 0.03777361111111111\n",
      "finished trials :55 with a current assist level of 0.03749722222222222\n",
      "finished trials :56 with a current assist level of 0.03710694444444445\n",
      "finished trials :57 with a current assist level of 0.03690694444444445\n",
      "finished trials :58 with a current assist level of 0.03669027777777778\n",
      "finished trials :59 with a current assist level of 0.036425\n",
      "finished trials :60 with a current assist level of 0.03618333333333333\n",
      "finished trials :61 with a current assist level of 0.03591388888888889\n",
      "finished trials :62 with a current assist level of 0.03569861111111111\n",
      "finished trials :63 with a current assist level of 0.03548194444444445\n",
      "finished trials :64 with a current assist level of 0.03526666666666667\n"
     ]
    },
    {
     "name": "stdout",
     "output_type": "stream",
     "text": [
      "finished trials :65 with a current assist level of 0.03506527777777778\n",
      "finished trials :66 with a current assist level of 0.03484166666666667\n",
      "finished trials :67 with a current assist level of 0.03462222222222223\n",
      "finished trials :68 with a current assist level of 0.03440694444444445\n",
      "finished trials :69 with a current assist level of 0.03419861111111111\n",
      "finished trials :70 with a current assist level of 0.03399027777777778\n",
      "finished trials :71 with a current assist level of 0.03378888888888889\n",
      "finished trials :72 with a current assist level of 0.03357361111111111\n",
      "finished trials :73 with a current assist level of 0.033356944444444446\n",
      "finished trials :74 with a current assist level of 0.033141666666666666\n",
      "finished trials :75 with a current assist level of 0.03293333333333333\n",
      "finished trials :76 with a current assist level of 0.032731944444444445\n",
      "finished trials :77 with a current assist level of 0.032523611111111114\n",
      "finished trials :78 with a current assist level of 0.032306944444444444\n",
      "finished trials :79 with a current assist level of 0.03209166666666667\n",
      "finished trials :80 with a current assist level of 0.03188333333333333\n",
      "finished trials :81 with a current assist level of 0.031675\n",
      "end of FSM.run, task state is None\n",
      "Finished running  enc. mean FR:512.0 Hz\n",
      "runseq\n",
      "finished: 1\n",
      "observations have counts >> 1000 \n",
      "observations have counts >> 1000 \n",
      "observations have counts >> 1000 \n",
      "observations have counts >> 1000 \n",
      "observations have counts >> 1000 \n",
      "observations have counts >> 1000 \n",
      "observations have counts >> 1000 \n",
      "observations have counts >> 1000 \n",
      "observations have counts >> 1000 \n",
      "observations have counts >> 1000 \n",
      "observations have counts >> 1000 \n",
      "observations have counts >> 1000 \n",
      "observations have counts >> 1000 \n",
      "observations have counts >> 1000 \n",
      "observations have counts >> 1000 \n",
      "observations have counts >> 1000 \n",
      "observations have counts >> 1000 \n",
      "observations have counts >> 1000 \n",
      "observations have counts >> 1000 \n",
      "observations have counts >> 1000 \n",
      "observations have counts >> 1000 \n",
      "observations have counts >> 1000 \n",
      "observations have counts >> 1000 \n",
      "observations have counts >> 1000 \n",
      "observations have counts >> 1000 \n",
      "observations have counts >> 1000 \n",
      "observations have counts >> 1000 \n",
      "observations have counts >> 1000 \n",
      "observations have counts >> 1000 \n",
      "observations have counts >> 1000 \n",
      "observations have counts >> 1000 \n",
      "observations have counts >> 1000 \n",
      "observations have counts >> 1000 \n",
      "observations have counts >> 1000 \n",
      "observations have counts >> 1000 \n",
      "observations have counts >> 1000 \n",
      "observations have counts >> 1000 \n",
      "observations have counts >> 1000 \n",
      "observations have counts >> 1000 \n",
      "observations have counts >> 1000 \n",
      "observations have counts >> 1000 \n",
      "observations have counts >> 1000 \n",
      "observations have counts >> 1000 \n",
      "observations have counts >> 1000 \n",
      "observations have counts >> 1000 \n",
      "observations have counts >> 1000 \n",
      "observations have counts >> 1000 \n",
      "observations have counts >> 1000 \n",
      "observations have counts >> 1000 \n",
      "observations have counts >> 1000 \n",
      "observations have counts >> 1000 \n",
      "observations have counts >> 1000 \n",
      "observations have counts >> 1000 \n",
      "observations have counts >> 1000 \n",
      "observations have counts >> 1000 \n",
      "observations have counts >> 1000 \n",
      "observations have counts >> 1000 \n",
      "observations have counts >> 1000 \n",
      "observations have counts >> 1000 \n",
      "observations have counts >> 1000 \n",
      "observations have counts >> 1000 \n",
      "observations have counts >> 1000 \n",
      "observations have counts >> 1000 \n",
      "observations have counts >> 1000 \n",
      "observations have counts >> 1000 \n",
      "observations have counts >> 1000 \n",
      "observations have counts >> 1000 \n",
      "observations have counts >> 1000 \n",
      "observations have counts >> 1000 \n",
      "observations have counts >> 1000 \n",
      "observations have counts >> 1000 \n",
      "observations have counts >> 1000 \n",
      "observations have counts >> 1000 \n",
      "observations have counts >> 1000 \n",
      "observations have counts >> 1000 \n",
      "observations have counts >> 1000 \n",
      "observations have counts >> 1000 \n",
      "observations have counts >> 1000 \n",
      "observations have counts >> 1000 \n",
      "observations have counts >> 1000 \n",
      "observations have counts >> 1000 \n",
      "observations have counts >> 1000 \n",
      "observations have counts >> 1000 \n",
      "observations have counts >> 1000 \n",
      "observations have counts >> 1000 \n",
      "observations have counts >> 1000 \n",
      "observations have counts >> 1000 \n",
      "observations have counts >> 1000 \n",
      "observations have counts >> 1000 \n",
      "observations have counts >> 1000 \n",
      "observations have counts >> 1000 \n",
      "observations have counts >> 1000 \n",
      "observations have counts >> 1000 \n",
      "observations have counts >> 1000 \n",
      "observations have counts >> 1000 \n",
      "observations have counts >> 1000 \n",
      "observations have counts >> 1000 \n",
      "observations have counts >> 1000 \n",
      "observations have counts >> 1000 \n",
      "observations have counts >> 1000 \n",
      "observations have counts >> 1000 \n",
      "observations have counts >> 1000 \n",
      "observations have counts >> 1000 \n",
      "observations have counts >> 1000 \n",
      "observations have counts >> 1000 \n",
      "observations have counts >> 1000 \n",
      "observations have counts >> 1000 \n",
      "observations have counts >> 1000 \n",
      "observations have counts >> 1000 \n",
      "observations have counts >> 1000 \n",
      "observations have counts >> 1000 \n",
      "observations have counts >> 1000 \n",
      "observations have counts >> 1000 \n",
      "observations have counts >> 1000 \n",
      "observations have counts >> 1000 \n",
      "observations have counts >> 1000 \n",
      "observations have counts >> 1000 \n",
      "observations have counts >> 1000 \n",
      "observations have counts >> 1000 \n",
      "observations have counts >> 1000 \n",
      "observations have counts >> 1000 \n",
      "observations have counts >> 1000 \n",
      "finished trials :2 with a current assist level of 0.04863194444444445\n",
      "observations have counts >> 1000 \n",
      "observations have counts >> 1000 \n",
      "observations have counts >> 1000 \n",
      "observations have counts >> 1000 \n",
      "finished trials :3 with a current assist level of 0.04843055555555556\n",
      "observations have counts >> 1000 \n",
      "observations have counts >> 1000 \n",
      "observations have counts >> 1000 \n",
      "observations have counts >> 1000 \n",
      "finished trials :4 with a current assist level of 0.048231944444444445\n",
      "observations have counts >> 1000 \n",
      "observations have counts >> 1000 \n",
      "observations have counts >> 1000 \n",
      "observations have counts >> 1000 \n",
      "finished trials :5 with a current assist level of 0.048038888888888895\n",
      "observations have counts >> 1000 \n",
      "observations have counts >> 1000 \n",
      "observations have counts >> 1000 \n",
      "finished trials :6 with a current assist level of 0.04784027777777778\n",
      "observations have counts >> 1000 \n",
      "observations have counts >> 1000 \n",
      "observations have counts >> 1000 \n",
      "observations have counts >> 1000 \n",
      "finished trials :7 with a current assist level of 0.047622222222222226\n",
      "observations have counts >> 1000 \n",
      "observations have counts >> 1000 \n",
      "finished trials :8 with a current assist level of 0.04740555555555556\n",
      "observations have counts >> 1000 \n",
      "observations have counts >> 1000 \n",
      "observations have counts >> 1000 \n",
      "observations have counts >> 1000 \n",
      "finished trials :9 with a current assist level of 0.04720694444444445\n",
      "observations have counts >> 1000 \n",
      "observations have counts >> 1000 \n",
      "observations have counts >> 1000 \n",
      "finished trials :10 with a current assist level of 0.04700555555555556\n",
      "observations have counts >> 1000 \n",
      "observations have counts >> 1000 \n",
      "observations have counts >> 1000 \n",
      "finished trials :11 with a current assist level of 0.046797222222222226\n",
      "observations have counts >> 1000 \n",
      "observations have counts >> 1000 \n",
      "observations have counts >> 1000 \n",
      "finished trials :12 with a current assist level of 0.04658194444444445\n",
      "observations have counts >> 1000 \n",
      "observations have counts >> 1000 \n",
      "finished trials :13 with a current assist level of 0.046373611111111115\n",
      "finished trials :14 with a current assist level of 0.046172222222222226\n",
      "observations have counts >> 1000 \n",
      "observations have counts >> 1000 \n",
      "observations have counts >> 1000 \n",
      "finished trials :15 with a current assist level of 0.045963888888888894\n",
      "observations have counts >> 1000 \n",
      "observations have counts >> 1000 \n",
      "observations have counts >> 1000 \n",
      "observations have counts >> 1000 \n",
      "observations have counts >> 1000 \n",
      "finished trials :16 with a current assist level of 0.045755555555555556\n",
      "observations have counts >> 1000 \n",
      "observations have counts >> 1000 \n",
      "observations have counts >> 1000 \n",
      "observations have counts >> 1000 \n",
      "finished trials :17 with a current assist level of 0.045547222222222225\n"
     ]
    },
    {
     "name": "stdout",
     "output_type": "stream",
     "text": [
      "finished trials :18 with a current assist level of 0.04534861111111112\n",
      "finished trials :19 with a current assist level of 0.04514027777777778\n",
      "finished trials :20 with a current assist level of 0.04493194444444445\n",
      "observations have counts >> 1000 \n",
      "observations have counts >> 1000 \n",
      "observations have counts >> 1000 \n",
      "finished trials :21 with a current assist level of 0.04471388888888889\n",
      "observations have counts >> 1000 \n",
      "observations have counts >> 1000 \n",
      "observations have counts >> 1000 \n",
      "observations have counts >> 1000 \n",
      "observations have counts >> 1000 \n",
      "finished trials :22 with a current assist level of 0.04450833333333334\n",
      "observations have counts >> 1000 \n",
      "observations have counts >> 1000 \n",
      "observations have counts >> 1000 \n",
      "observations have counts >> 1000 \n",
      "observations have counts >> 1000 \n",
      "observations have counts >> 1000 \n",
      "finished trials :23 with a current assist level of 0.044300000000000006\n",
      "observations have counts >> 1000 \n",
      "observations have counts >> 1000 \n",
      "observations have counts >> 1000 \n",
      "observations have counts >> 1000 \n",
      "observations have counts >> 1000 \n",
      "finished trials :24 with a current assist level of 0.044083333333333335\n",
      "observations have counts >> 1000 \n",
      "observations have counts >> 1000 \n",
      "observations have counts >> 1000 \n",
      "observations have counts >> 1000 \n",
      "observations have counts >> 1000 \n",
      "observations have counts >> 1000 \n",
      "finished trials :25 with a current assist level of 0.04386388888888889\n",
      "observations have counts >> 1000 \n",
      "observations have counts >> 1000 \n",
      "observations have counts >> 1000 \n",
      "observations have counts >> 1000 \n",
      "observations have counts >> 1000 \n",
      "observations have counts >> 1000 \n",
      "finished trials :26 with a current assist level of 0.04365555555555556\n",
      "observations have counts >> 1000 \n",
      "observations have counts >> 1000 \n",
      "observations have counts >> 1000 \n",
      "observations have counts >> 1000 \n",
      "observations have counts >> 1000 \n",
      "finished trials :27 with a current assist level of 0.04344722222222223\n",
      "observations have counts >> 1000 \n",
      "observations have counts >> 1000 \n",
      "observations have counts >> 1000 \n",
      "observations have counts >> 1000 \n",
      "observations have counts >> 1000 \n",
      "observations have counts >> 1000 \n",
      "observations have counts >> 1000 \n",
      "observations have counts >> 1000 \n",
      "finished trials :28 with a current assist level of 0.043258333333333336\n",
      "observations have counts >> 1000 \n",
      "observations have counts >> 1000 \n",
      "observations have counts >> 1000 \n",
      "observations have counts >> 1000 \n",
      "observations have counts >> 1000 \n",
      "observations have counts >> 1000 \n",
      "observations have counts >> 1000 \n",
      "observations have counts >> 1000 \n",
      "observations have counts >> 1000 \n",
      "observations have counts >> 1000 \n",
      "observations have counts >> 1000 \n",
      "observations have counts >> 1000 \n",
      "observations have counts >> 1000 \n",
      "observations have counts >> 1000 \n",
      "observations have counts >> 1000 \n",
      "observations have counts >> 1000 \n",
      "observations have counts >> 1000 \n",
      "observations have counts >> 1000 \n",
      "observations have counts >> 1000 \n",
      "observations have counts >> 1000 \n",
      "finished trials :29 with a current assist level of 0.042833333333333334\n",
      "observations have counts >> 1000 \n",
      "observations have counts >> 1000 \n",
      "observations have counts >> 1000 \n",
      "observations have counts >> 1000 \n",
      "finished trials :30 with a current assist level of 0.042583333333333334\n",
      "finished trials :31 with a current assist level of 0.04235833333333333\n",
      "observations have counts >> 1000 \n",
      "observations have counts >> 1000 \n",
      "observations have counts >> 1000 \n",
      "finished trials :32 with a current assist level of 0.04215555555555556\n",
      "observations have counts >> 1000 \n",
      "observations have counts >> 1000 \n",
      "observations have counts >> 1000 \n",
      "observations have counts >> 1000 \n",
      "observations have counts >> 1000 \n",
      "finished trials :33 with a current assist level of 0.041947222222222226\n",
      "observations have counts >> 1000 \n",
      "observations have counts >> 1000 \n",
      "observations have counts >> 1000 \n",
      "observations have counts >> 1000 \n",
      "observations have counts >> 1000 \n",
      "observations have counts >> 1000 \n",
      "observations have counts >> 1000 \n",
      "observations have counts >> 1000 \n",
      "finished trials :34 with a current assist level of 0.041738888888888895\n",
      "observations have counts >> 1000 \n",
      "observations have counts >> 1000 \n",
      "observations have counts >> 1000 \n",
      "observations have counts >> 1000 \n",
      "observations have counts >> 1000 \n",
      "observations have counts >> 1000 \n",
      "observations have counts >> 1000 \n",
      "observations have counts >> 1000 \n",
      "finished trials :35 with a current assist level of 0.04153055555555556\n",
      "observations have counts >> 1000 \n",
      "observations have counts >> 1000 \n",
      "observations have counts >> 1000 \n",
      "observations have counts >> 1000 \n",
      "observations have counts >> 1000 \n",
      "observations have counts >> 1000 \n",
      "observations have counts >> 1000 \n",
      "finished trials :36 with a current assist level of 0.041322222222222225\n",
      "observations have counts >> 1000 \n",
      "observations have counts >> 1000 \n",
      "observations have counts >> 1000 \n",
      "observations have counts >> 1000 \n",
      "observations have counts >> 1000 \n",
      "finished trials :37 with a current assist level of 0.041100000000000005\n",
      "observations have counts >> 1000 \n",
      "observations have counts >> 1000 \n",
      "finished trials :38 with a current assist level of 0.040822222222222225\n",
      "finished trials :39 with a current assist level of 0.04060833333333334\n",
      "finished trials :40 with a current assist level of 0.040375\n",
      "observations have counts >> 1000 \n",
      "observations have counts >> 1000 \n",
      "observations have counts >> 1000 \n",
      "observations have counts >> 1000 \n",
      "finished trials :41 with a current assist level of 0.04016666666666667\n",
      "observations have counts >> 1000 \n",
      "observations have counts >> 1000 \n",
      "observations have counts >> 1000 \n",
      "observations have counts >> 1000 \n",
      "observations have counts >> 1000 \n",
      "observations have counts >> 1000 \n",
      "observations have counts >> 1000 \n",
      "observations have counts >> 1000 \n",
      "finished trials :42 with a current assist level of 0.03995833333333333\n",
      "observations have counts >> 1000 \n",
      "observations have counts >> 1000 \n",
      "observations have counts >> 1000 \n",
      "observations have counts >> 1000 \n",
      "finished trials :43 with a current assist level of 0.039733333333333336\n",
      "observations have counts >> 1000 \n",
      "observations have counts >> 1000 \n",
      "observations have counts >> 1000 \n",
      "finished trials :44 with a current assist level of 0.039525000000000005\n",
      "observations have counts >> 1000 \n",
      "observations have counts >> 1000 \n",
      "observations have counts >> 1000 \n",
      "observations have counts >> 1000 \n",
      "finished trials :45 with a current assist level of 0.0393\n",
      "finished trials :46 with a current assist level of 0.03909166666666667\n",
      "finished trials :47 with a current assist level of 0.038872222222222225\n",
      "finished trials :48 with a current assist level of 0.03866388888888889\n",
      "finished trials :49 with a current assist level of 0.038448611111111114\n",
      "finished trials :50 with a current assist level of 0.03823194444444444\n",
      "finished trials :51 with a current assist level of 0.038031944444444445\n",
      "finished trials :52 with a current assist level of 0.03782361111111111\n",
      "finished trials :53 with a current assist level of 0.037615277777777775\n",
      "observations have counts >> 1000 \n",
      "observations have counts >> 1000 \n",
      "observations have counts >> 1000 \n",
      "observations have counts >> 1000 \n",
      "finished trials :54 with a current assist level of 0.03741388888888889\n",
      "observations have counts >> 1000 \n",
      "observations have counts >> 1000 \n",
      "observations have counts >> 1000 \n",
      "observations have counts >> 1000 \n",
      "observations have counts >> 1000 \n",
      "observations have counts >> 1000 \n",
      "observations have counts >> 1000 \n",
      "observations have counts >> 1000 \n",
      "observations have counts >> 1000 \n",
      "finished trials :55 with a current assist level of 0.03716388888888889\n",
      "observations have counts >> 1000 \n",
      "observations have counts >> 1000 \n",
      "observations have counts >> 1000 \n",
      "observations have counts >> 1000 \n",
      "observations have counts >> 1000 \n",
      "observations have counts >> 1000 \n",
      "finished trials :56 with a current assist level of 0.03683055555555556\n",
      "finished trials :57 with a current assist level of 0.03619861111111111\n",
      "finished trials :58 with a current assist level of 0.03596666666666667\n",
      "finished trials :59 with a current assist level of 0.03574722222222222\n",
      "observations have counts >> 1000 \n",
      "observations have counts >> 1000 \n",
      "observations have counts >> 1000 \n",
      "finished trials :60 with a current assist level of 0.03552361111111112\n",
      "observations have counts >> 1000 \n",
      "observations have counts >> 1000 \n",
      "observations have counts >> 1000 \n",
      "observations have counts >> 1000 \n",
      "finished trials :61 with a current assist level of 0.03532361111111111\n",
      "finished trials :62 with a current assist level of 0.03512222222222222\n",
      "finished trials :63 with a current assist level of 0.03491388888888889\n"
     ]
    },
    {
     "name": "stdout",
     "output_type": "stream",
     "text": [
      "finished trials :64 with a current assist level of 0.034716666666666667\n",
      "observations have counts >> 1000 \n",
      "observations have counts >> 1000 \n",
      "observations have counts >> 1000 \n",
      "observations have counts >> 1000 \n",
      "finished trials :65 with a current assist level of 0.03449722222222223\n",
      "observations have counts >> 1000 \n",
      "observations have counts >> 1000 \n",
      "observations have counts >> 1000 \n",
      "finished trials :66 with a current assist level of 0.0343\n",
      "observations have counts >> 1000 \n",
      "observations have counts >> 1000 \n",
      "observations have counts >> 1000 \n",
      "finished trials :67 with a current assist level of 0.03409166666666667\n",
      "observations have counts >> 1000 \n",
      "observations have counts >> 1000 \n",
      "observations have counts >> 1000 \n",
      "observations have counts >> 1000 \n",
      "finished trials :68 with a current assist level of 0.03389166666666667\n",
      "observations have counts >> 1000 \n",
      "observations have counts >> 1000 \n",
      "observations have counts >> 1000 \n",
      "finished trials :69 with a current assist level of 0.03368333333333333\n",
      "observations have counts >> 1000 \n",
      "observations have counts >> 1000 \n",
      "observations have counts >> 1000 \n",
      "observations have counts >> 1000 \n",
      "observations have counts >> 1000 \n",
      "finished trials :70 with a current assist level of 0.033475000000000005\n",
      "observations have counts >> 1000 \n",
      "observations have counts >> 1000 \n",
      "observations have counts >> 1000 \n",
      "observations have counts >> 1000 \n",
      "finished trials :71 with a current assist level of 0.033258333333333334\n",
      "observations have counts >> 1000 \n",
      "observations have counts >> 1000 \n",
      "observations have counts >> 1000 \n",
      "observations have counts >> 1000 \n",
      "finished trials :72 with a current assist level of 0.033049999999999996\n",
      "observations have counts >> 1000 \n",
      "observations have counts >> 1000 \n",
      "observations have counts >> 1000 \n",
      "observations have counts >> 1000 \n",
      "finished trials :73 with a current assist level of 0.03283055555555556\n",
      "finished trials :74 with a current assist level of 0.03261527777777778\n",
      "observations have counts >> 1000 \n",
      "observations have counts >> 1000 \n",
      "observations have counts >> 1000 \n",
      "observations have counts >> 1000 \n",
      "finished trials :75 with a current assist level of 0.032424999999999995\n",
      "observations have counts >> 1000 \n",
      "observations have counts >> 1000 \n",
      "observations have counts >> 1000 \n",
      "observations have counts >> 1000 \n",
      "observations have counts >> 1000 \n",
      "finished trials :76 with a current assist level of 0.03214027777777778\n",
      "observations have counts >> 1000 \n",
      "observations have counts >> 1000 \n",
      "observations have counts >> 1000 \n",
      "observations have counts >> 1000 \n",
      "finished trials :77 with a current assist level of 0.031940277777777776\n",
      "observations have counts >> 1000 \n",
      "observations have counts >> 1000 \n",
      "observations have counts >> 1000 \n",
      "observations have counts >> 1000 \n",
      "finished trials :78 with a current assist level of 0.03174722222222222\n",
      "observations have counts >> 1000 \n",
      "observations have counts >> 1000 \n",
      "observations have counts >> 1000 \n",
      "observations have counts >> 1000 \n",
      "finished trials :79 with a current assist level of 0.031538888888888894\n",
      "observations have counts >> 1000 \n",
      "observations have counts >> 1000 \n",
      "observations have counts >> 1000 \n",
      "observations have counts >> 1000 \n",
      "observations have counts >> 1000 \n",
      "observations have counts >> 1000 \n",
      "observations have counts >> 1000 \n",
      "observations have counts >> 1000 \n",
      "finished trials :80 with a current assist level of 0.03134166666666667\n",
      "observations have counts >> 1000 \n",
      "observations have counts >> 1000 \n",
      "observations have counts >> 1000 \n",
      "observations have counts >> 1000 \n",
      "finished trials :81 with a current assist level of 0.03111527777777778\n",
      "end of FSM.run, task state is None\n",
      "Finished running  enc. mean FR:1024.0 Hz\n"
     ]
    }
   ],
   "source": [
    "for i,e in enumerate(exps):\n",
    "    run_exp_loop(e, **kwargs_exps[i])\n",
    "    print(f'Finished running  {exp_conds[i]}')"
   ]
  },
  {
   "cell_type": "markdown",
   "metadata": {
    "ExecuteTime": {
     "end_time": "2021-01-25T01:00:26.027506Z",
     "start_time": "2021-01-25T01:00:26.024320Z"
    }
   },
   "source": [
    "# Postprocessing the data for loading"
   ]
  },
  {
   "cell_type": "code",
   "execution_count": 14,
   "metadata": {
    "ExecuteTime": {
     "end_time": "2021-03-11T22:02:38.873316Z",
     "start_time": "2021-03-11T22:02:38.870336Z"
    }
   },
   "outputs": [
    {
     "name": "stdout",
     "output_type": "stream",
     "text": [
      "80\n",
      "80\n",
      "80\n",
      "80\n",
      "80\n",
      "80\n",
      "80\n",
      "80\n",
      "80\n",
      "80\n",
      "80\n"
     ]
    }
   ],
   "source": [
    "for e in  exps: print(e.calc_state_occurrences('reward'))"
   ]
  },
  {
   "cell_type": "markdown",
   "metadata": {},
   "source": [
    "## declare defs and conventions"
   ]
  },
  {
   "cell_type": "code",
   "execution_count": 15,
   "metadata": {
    "ExecuteTime": {
     "end_time": "2021-03-11T22:02:38.885061Z",
     "start_time": "2021-03-11T22:02:38.874162Z"
    }
   },
   "outputs": [],
   "source": [
    "FRAME_RATE = 60\n",
    "INT_WINDOW_TIME = 10 # s for looking at sample raw data\n",
    "\n",
    "# some conventions as we go down the loop\n",
    "X_VEL_STATE_IND = 3\n",
    "Y_VEL_STATE_IND = 5\n",
    "X_POS_STATE_IND = 0\n",
    "Y_POS_STATE_IND = 2\n",
    "\n",
    "state_indices = [X_POS_STATE_IND,\n",
    "                 Y_POS_STATE_IND,\n",
    "                 X_VEL_STATE_IND,\n",
    "                 Y_VEL_STATE_IND]\n",
    "state_names = ['x pos ', 'y pos', 'x vel', 'y vel']\n",
    "\n",
    "\n",
    "INT_WIN_SAMPLES = INT_WINDOW_TIME * FRAME_RATE\n",
    "\n"
   ]
  },
  {
   "cell_type": "markdown",
   "metadata": {},
   "source": [
    "## Refactor out the data"
   ]
  },
  {
   "cell_type": "code",
   "execution_count": 16,
   "metadata": {
    "ExecuteTime": {
     "end_time": "2021-03-11T22:02:39.158572Z",
     "start_time": "2021-03-11T22:02:38.886247Z"
    }
   },
   "outputs": [
    {
     "data": {
      "text/plain": [
       "dtype([('cursor', '<f8', (3,)), ('obs_t', '<f8', (4, 1)), ('K', '<f8', (7, 4)), ('KC', '<f8', (7, 7)), ('pred_state_mean', '<f8', (7, 1)), ('post_state_mean', '<f8', (7, 1)), ('pred_state_P', '<f8', (7, 7)), ('post_state_P', '<f8', (7, 7)), ('loop_time', '<f8', (1,)), ('decoder_state', '<f8', (7, 1)), ('internal_decoder_state', '<f8', (7, 1)), ('target_state', '<f8', (7, 1)), ('update_bmi', '<f8', (1,)), ('spike_counts', '<f8', (4, 1)), ('bin_edges', '<f8', (2,)), ('ctrl_input', '<f8', (7,)), ('assist_level', '<f8', (1,)), ('target', '<f8', (3,)), ('target_index', '<i4', (1,))])"
      ]
     },
     "execution_count": 16,
     "metadata": {},
     "output_type": "execute_result"
    }
   ],
   "source": [
    "task_data_hist_np_all = [np.array(e.task_data_hist) for e in exps]\n",
    "len(task_data_hist_np_all)\n",
    "task_data_hist_np_all[0].dtype"
   ]
  },
  {
   "cell_type": "markdown",
   "metadata": {},
   "source": [
    "## Finished time in seconds"
   ]
  },
  {
   "cell_type": "code",
   "execution_count": 17,
   "metadata": {
    "ExecuteTime": {
     "end_time": "2021-03-11T22:02:39.162160Z",
     "start_time": "2021-03-11T22:02:39.159501Z"
    }
   },
   "outputs": [
    {
     "data": {
      "text/plain": [
       "[675, 417, 356, 299, 239, 232, 226, 223, 240, 219, 226]"
      ]
     },
     "execution_count": 17,
     "metadata": {},
     "output_type": "execute_result"
    }
   ],
   "source": [
    "finished_times_in_seconds = [int(len(s)/FRAME_RATE) for s in task_data_hist_np_all]\n",
    "finished_times_in_seconds"
   ]
  },
  {
   "cell_type": "code",
   "execution_count": 84,
   "metadata": {
    "ExecuteTime": {
     "end_time": "2021-03-11T22:21:35.306556Z",
     "start_time": "2021-03-11T22:21:35.170148Z"
    }
   },
   "outputs": [
    {
     "data": {
      "text/plain": [
       "Text(0, 0.5, 'Time it takes to finish (s)')"
      ]
     },
     "execution_count": 84,
     "metadata": {},
     "output_type": "execute_result"
    },
    {
     "data": {
      "image/png": "[encoded data removed]",
      "text/plain": [
       "<Figure size 432x288 with 1 Axes>"
      ]
     },
     "metadata": {
      "needs_background": "light"
     },
     "output_type": "display_data"
    }
   ],
   "source": [
    "figure_behaviour, ax_behaviour = plt.subplots()\n",
    "\n",
    "ax_behaviour.semilogx(neuron_firing_rates, finished_times_in_seconds)\n",
    "ax_behaviour.set_xscale('log', basex=2)\n",
    "ax_behaviour.set_title(f'Time takes to finish {N_TRIALS}')\n",
    "ax_behaviour.set_xlabel('Mean firing rates (Hz)')\n",
    "ax_behaviour.set_ylabel('Time it takes to finish (s)')"
   ]
  },
  {
   "cell_type": "markdown",
   "metadata": {},
   "source": [
    "# Post data analysis"
   ]
  },
  {
   "cell_type": "markdown",
   "metadata": {},
   "source": [
    "## Overall  trial statistics succuss rate)"
   ]
  },
  {
   "cell_type": "code",
   "execution_count": null,
   "metadata": {
    "ExecuteTime": {
     "end_time": "2021-03-01T19:59:28.968485Z",
     "start_time": "2021-03-01T19:59:28.961985Z"
    }
   },
   "outputs": [],
   "source": []
  },
  {
   "cell_type": "code",
   "execution_count": 18,
   "metadata": {
    "ExecuteTime": {
     "end_time": "2021-03-11T22:02:39.171255Z",
     "start_time": "2021-03-11T22:02:39.163017Z"
    }
   },
   "outputs": [],
   "source": [
    "state_logs = [e.state_log for e in exps]\n"
   ]
  },
  {
   "cell_type": "code",
   "execution_count": 19,
   "metadata": {
    "ExecuteTime": {
     "end_time": "2021-03-11T22:02:39.182266Z",
     "start_time": "2021-03-11T22:02:39.172184Z"
    }
   },
   "outputs": [],
   "source": [
    "STATE_CUT_NAME =  'wait'\n",
    "#get the state logs\n",
    "wait_logs = [filter_state(s, STATE_CUT_NAME) for s in state_logs]\n",
    "\n",
    "inter_wait_times = [calc_inter_wait_times(w) for w in wait_logs]\n",
    "#this has both start times "
   ]
  },
  {
   "cell_type": "code",
   "execution_count": 20,
   "metadata": {
    "ExecuteTime": {
     "end_time": "2021-03-11T22:02:39.379149Z",
     "start_time": "2021-03-11T22:02:39.184465Z"
    },
    "scrolled": true
   },
   "outputs": [
    {
     "data": {
      "text/plain": [
       "Text(0, 0.5, 'Trial time (s)')"
      ]
     },
     "execution_count": 20,
     "metadata": {},
     "output_type": "execute_result"
    },
    {
     "data": {
      "image/png": "[encoded data removed]",
      "text/plain": [
       "<Figure size 432x288 with 1 Axes>"
      ]
     },
     "metadata": {
      "needs_background": "light"
     },
     "output_type": "display_data"
    }
   ],
   "source": [
    "for i in inter_wait_times:\n",
    "    plt.scatter(i[:,0], i[:,1])\n",
    "\n",
    "plt.legend(exp_conds)\n",
    "plt.xlabel('Training progression(s)')\n",
    "plt.ylabel('Trial time (s)')"
   ]
  },
  {
   "cell_type": "code",
   "execution_count": 21,
   "metadata": {
    "ExecuteTime": {
     "end_time": "2021-03-11T22:02:39.382363Z",
     "start_time": "2021-03-11T22:02:39.380658Z"
    }
   },
   "outputs": [],
   "source": [
    "wait_time = inter_wait_times[0]\n",
    "task_data_hist_np = task_data_hist_np_all[0]\n",
    "\n"
   ]
  },
  {
   "cell_type": "code",
   "execution_count": 22,
   "metadata": {
    "ExecuteTime": {
     "end_time": "2021-03-11T22:02:39.393562Z",
     "start_time": "2021-03-11T22:02:39.383727Z"
    }
   },
   "outputs": [],
   "source": [
    "def sort_trials(wait_time:list, \n",
    "                target_seq:list,\n",
    "                task_data_hist_np:dict, \n",
    "                dict_keys, FRAME_RATE = 60):\n",
    "    trial_dict = list()\n",
    "    \n",
    "    for i,row in enumerate(wait_time):\n",
    "        start_time = row[0]\n",
    "        inter_wait_time = row[1]\n",
    "\n",
    "        start_sample = int(start_time * FRAME_RATE)\n",
    "        inter_wait_sample = int(inter_wait_time * FRAME_RATE)\n",
    "        stop_sample = start_sample + inter_wait_sample\n",
    "\n",
    "        single_trial_dict = dict()\n",
    "\n",
    "        for k in dict_keys:\n",
    "            \n",
    "            requested_type_data = np.squeeze(task_data_hist_np[k])\n",
    "            single_trial_dict[k] =  requested_type_data[start_sample:stop_sample,\n",
    "                                                       :]\n",
    "        #add more info\n",
    "        single_trial_dict['start_time'] = row[0]\n",
    "        single_trial_dict['inter_wait_time'] = row[1]\n",
    "        \n",
    "        #add target info\n",
    "        single_trial_dict['targets'] = target_seq[i]\n",
    "\n",
    "        #add the dictionary to the list\n",
    "        trial_dict.append(single_trial_dict)\n",
    "        \n",
    "    return trial_dict\n",
    "\n"
   ]
  },
  {
   "cell_type": "code",
   "execution_count": 23,
   "metadata": {
    "ExecuteTime": {
     "end_time": "2021-03-11T22:02:39.408818Z",
     "start_time": "2021-03-11T22:02:39.394471Z"
    }
   },
   "outputs": [
    {
     "data": {
      "text/plain": [
       "11"
      ]
     },
     "execution_count": 23,
     "metadata": {},
     "output_type": "execute_result"
    }
   ],
   "source": [
    "\n",
    "\n",
    "trial_dicts_all = []\n",
    "dict_keys = ['cursor', #behaviour\n",
    "             'ctrl_input', 'spike_counts', #encoder translates intended ctrl into spike counts\n",
    "             'decoder_state']\n",
    "\n",
    "for i in range(NUM_EXP):\n",
    "    wait_time = inter_wait_times[i]\n",
    "    task_data_hist_np = task_data_hist_np_all[i]\n",
    "    \n",
    "    trial_dict_0 = sort_trials(wait_time, \n",
    "                               target_seq,\n",
    "                               task_data_hist_np, dict_keys)\n",
    "    \n",
    "    trial_dicts_all.append(trial_dict_0)\n",
    "\n",
    "len(trial_dicts_all)"
   ]
  },
  {
   "cell_type": "markdown",
   "metadata": {},
   "source": [
    "## Trajectory analysis"
   ]
  },
  {
   "cell_type": "code",
   "execution_count": 24,
   "metadata": {
    "ExecuteTime": {
     "end_time": "2021-03-11T22:02:39.519291Z",
     "start_time": "2021-03-11T22:02:39.409725Z"
    }
   },
   "outputs": [
    {
     "data": {
      "image/png": "[encoded data removed]",
      "text/plain": [
       "<Figure size 432x288 with 1 Axes>"
      ]
     },
     "metadata": {
      "needs_background": "light"
     },
     "output_type": "display_data"
    }
   ],
   "source": [
    "n_roi_trials = N_TRIALS - 1\n",
    "unique_targets =  np.unique(target_seq, axis = 0)\n",
    "\n",
    "\n",
    "X_CURSOR = 0\n",
    "Z_CURSOR = 2\n",
    "CIRCL_ALPHA = 0.2\n",
    "\n",
    "\n",
    "\n",
    "RANGE_LIM =  15\n",
    "figure, axes = plt.subplots() \n",
    "\n",
    "axes.set_xlim(-RANGE_LIM, RANGE_LIM)\n",
    "axes.set_ylim(-RANGE_LIM, RANGE_LIM)\n",
    "\n",
    "CIRCLE_RADIUS = exps[0].target_radius\n",
    "\n",
    "#plot the targets\n",
    "\n",
    "#plot the origin\n",
    "\n",
    "cc = plt.Circle((0,0 ), \n",
    "            radius = CIRCLE_RADIUS,\n",
    "            alpha = CIRCL_ALPHA)\n",
    "\n",
    "axes.add_artist( cc ) \n",
    "\n",
    "for origin_t in unique_targets:\n",
    "    origin = origin_t[0]\n",
    "    t = origin_t[1]\n",
    "\n",
    "    cc = plt.Circle((t[X_CURSOR],t[Z_CURSOR] ), \n",
    "                    radius = CIRCLE_RADIUS,\n",
    "                    alpha = CIRCL_ALPHA)\n",
    "                     \n",
    "    axes.set_aspect( 1 ) \n",
    "    axes.add_artist( cc ) \n",
    "    \n",
    "    \n",
    "for trial_dict in trial_dicts_all:\n",
    "    \n",
    "    sample_trial = trial_dict[n_roi_trials]\n",
    "    trial_cursor_trajectory = sample_trial['cursor']\n",
    "    \n",
    "    \n",
    "    axes.plot(trial_cursor_trajectory[:, X_CURSOR], \n",
    "             trial_cursor_trajectory[:, Z_CURSOR])\n",
    "    N_TRIALS = 80\n",
    "\n"
   ]
  },
  {
   "cell_type": "code",
   "execution_count": 25,
   "metadata": {
    "ExecuteTime": {
     "end_time": "2021-03-11T22:02:39.523382Z",
     "start_time": "2021-03-11T22:02:39.520290Z"
    },
    "scrolled": true
   },
   "outputs": [
    {
     "name": "stdout",
     "output_type": "stream",
     "text": [
      "finished trials:\n",
      "enc. mean FR:1.0 Hz: 80 out of 80\n",
      "enc. mean FR:2.0 Hz: 80 out of 80\n",
      "enc. mean FR:4.0 Hz: 80 out of 80\n",
      "enc. mean FR:8.0 Hz: 80 out of 80\n",
      "enc. mean FR:16.0 Hz: 80 out of 80\n",
      "enc. mean FR:32.0 Hz: 80 out of 80\n",
      "enc. mean FR:64.0 Hz: 80 out of 80\n",
      "enc. mean FR:128.0 Hz: 80 out of 80\n",
      "enc. mean FR:256.0 Hz: 80 out of 80\n",
      "enc. mean FR:512.0 Hz: 80 out of 80\n",
      "enc. mean FR:1024.0 Hz: 80 out of 80\n"
     ]
    }
   ],
   "source": [
    "print('finished trials:')\n",
    "\n",
    "for i,e in  enumerate(exps): \n",
    "    reward_num = e.calc_state_occurrences('reward')\n",
    "    print(f'{exp_conds[i]}: {reward_num} out of {N_TRIALS}')"
   ]
  },
  {
   "cell_type": "markdown",
   "metadata": {},
   "source": [
    "## encoder\n",
    "\n",
    "the job of the encoder is to directly encode intention into firing rates\n",
    "the direct measure is just pearson correlation coefficients between \n",
    "the intentions and the firing rates"
   ]
  },
  {
   "cell_type": "code",
   "execution_count": 26,
   "metadata": {
    "ExecuteTime": {
     "end_time": "2021-03-11T22:02:39.536089Z",
     "start_time": "2021-03-11T22:02:39.524228Z"
    }
   },
   "outputs": [
    {
     "name": "stdout",
     "output_type": "stream",
     "text": [
      "the encoder observation Q matrix\n",
      "enc. mean FR:1.0 Hz\n",
      "7\n",
      "enc. mean FR:2.0 Hz\n",
      "7\n",
      "enc. mean FR:4.0 Hz\n",
      "7\n",
      "enc. mean FR:8.0 Hz\n",
      "7\n",
      "enc. mean FR:16.0 Hz\n",
      "7\n",
      "enc. mean FR:32.0 Hz\n",
      "7\n",
      "enc. mean FR:64.0 Hz\n",
      "7\n",
      "enc. mean FR:128.0 Hz\n",
      "7\n",
      "enc. mean FR:256.0 Hz\n",
      "7\n",
      "enc. mean FR:512.0 Hz\n",
      "7\n",
      "enc. mean FR:1024.0 Hz\n",
      "7\n"
     ]
    }
   ],
   "source": [
    "print('the encoder observation Q matrix')\n",
    "for i,e in enumerate(exps):\n",
    "    print(exp_conds[i])\n",
    "    print(e.encoder.ssm.w)"
   ]
  },
  {
   "cell_type": "code",
   "execution_count": 27,
   "metadata": {
    "ExecuteTime": {
     "end_time": "2021-03-11T22:02:39.545718Z",
     "start_time": "2021-03-11T22:02:39.536953Z"
    }
   },
   "outputs": [],
   "source": [
    "n_exp = 0\n",
    "\n",
    "\n",
    "spike_count_sample = trial_dicts_all[n_exp][n_roi_trials]['spike_counts']"
   ]
  },
  {
   "cell_type": "markdown",
   "metadata": {},
   "source": [
    "## decoder"
   ]
  },
  {
   "cell_type": "code",
   "execution_count": 91,
   "metadata": {
    "ExecuteTime": {
     "end_time": "2021-03-11T22:27:23.577958Z",
     "start_time": "2021-03-11T22:27:22.494700Z"
    },
    "scrolled": false
   },
   "outputs": [
    {
     "name": "stdout",
     "output_type": "stream",
     "text": [
      "steady state tuning curves:\n"
     ]
    },
    {
     "data": {
      "text/plain": [
       "Text(0, -0.27999999999999997, 'CLDA rho 0.5')"
      ]
     },
     "execution_count": 91,
     "metadata": {},
     "output_type": "execute_result"
    },
    {
     "data": {
      "image/png": "[encoded data removed]",
      "text/plain": [
       "<Figure size 2880x288 with 11 Axes>"
      ]
     },
     "metadata": {
      "needs_background": "light"
     },
     "output_type": "display_data"
    }
   ],
   "source": [
    "TEXT_OFFSET_VERTICAL = -0.2\n",
    "\n",
    "figure_decoder_c_after,axs = plt.subplots(1, NUM_EXP,\n",
    "                                  figsize = (40,4))\n",
    "\n",
    "figure_decoder_c_after.suptitle('C matrix after')\n",
    "\n",
    "print('steady state tuning curves:')\n",
    "for i,e in enumerate(exps):\n",
    "    e.decoder.plot_C(ax = axs[i])\n",
    "    axs[i].set_title(exp_conds[i])\n",
    "    \n",
    "    #get the lower left coordinate\n",
    "    y_lim_range  = axs[i].get_ylim()[1] - axs[i].get_ylim()[0]\n",
    "    \n",
    "    axs[i].text(0, TEXT_OFFSET_VERTICAL,\n",
    "                f'finished {N_TRIALS} trials in {finished_times_in_seconds[i]} s', \n",
    "               transform = axs[i].transAxes)\n",
    "\n",
    "figure_decoder_c_after.text(0, 1.4 * TEXT_OFFSET_VERTICAL, \n",
    "                     f'CLDA rho {RHO}',\n",
    "                    transform = axs[0].transAxes)\n"
   ]
  },
  {
   "cell_type": "markdown",
   "metadata": {},
   "source": [
    "the convergence time\n",
    "change in the decoder parameter.\n",
    "when the decoder parameter \n",
    "\n",
    "make a plot \n",
    "convergence time on the y axis.\n",
    "more continuous SNR range. \n",
    "parametrically,  \n",
    "\n",
    "error metric\n",
    "what the deocder converges.\n",
    "1. compared to the encoder."
   ]
  },
  {
   "cell_type": "code",
   "execution_count": 29,
   "metadata": {
    "ExecuteTime": {
     "end_time": "2021-03-11T22:02:41.350725Z",
     "start_time": "2021-03-11T22:02:40.623705Z"
    }
   },
   "outputs": [
    {
     "data": {
      "image/png": "[encoded data removed]",
      "text/plain": [
       "<Figure size 864x288 with 11 Axes>"
      ]
     },
     "execution_count": 29,
     "metadata": {},
     "output_type": "execute_result"
    }
   ],
   "source": [
    "decoder_c_figure"
   ]
  },
  {
   "cell_type": "markdown",
   "metadata": {},
   "source": [
    "## compare before and after the training"
   ]
  },
  {
   "cell_type": "code",
   "execution_count": 30,
   "metadata": {
    "ExecuteTime": {
     "end_time": "2021-03-11T22:02:42.473829Z",
     "start_time": "2021-03-11T22:02:41.351674Z"
    }
   },
   "outputs": [
    {
     "data": {
      "image/png": "[encoded data removed]",
      "text/plain": [
       "<Figure size 864x288 with 22 Axes>"
      ]
     },
     "metadata": {
      "needs_background": "light"
     },
     "output_type": "display_data"
    }
   ],
   "source": [
    "\n",
    "\n",
    "N_ROWS = 2 #before and after \n",
    "FIGURE_SIZE_2_by_4 = (12,4)\n",
    "figure_compare_decoder_C_matrix,axs = plt.subplots(2,NUM_EXP, \n",
    "                                                   figsize = (12,4))\n",
    "\n",
    "for i in range(NUM_EXP):\n",
    "    axs[0, i] = decoder_c_figure.get_axes()[i]\n",
    "    axs[1, i] = decoder_c_after.get_axes()[i]\n",
    "    "
   ]
  },
  {
   "cell_type": "markdown",
   "metadata": {},
   "source": [
    "# CLDA updates"
   ]
  },
  {
   "cell_type": "markdown",
   "metadata": {},
   "source": [
    "## clda update frequencies"
   ]
  },
  {
   "cell_type": "code",
   "execution_count": 31,
   "metadata": {
    "ExecuteTime": {
     "end_time": "2021-03-11T22:02:42.478871Z",
     "start_time": "2021-03-11T22:02:42.474916Z"
    }
   },
   "outputs": [
    {
     "name": "stdout",
     "output_type": "stream",
     "text": [
      "did clda for 135 times\n",
      "did clda for 83 times\n",
      "did clda for 71 times\n",
      "did clda for 59 times\n",
      "did clda for 47 times\n",
      "did clda for 46 times\n",
      "did clda for 45 times\n",
      "did clda for 44 times\n",
      "did clda for 48 times\n",
      "did clda for 43 times\n",
      "did clda for 45 times\n"
     ]
    }
   ],
   "source": [
    "\n",
    "clda_params_all = [np.array(e.bmi_system.param_hist) for e in exps]\n",
    "\n",
    "for c in clda_params_all:\n",
    "    print(f'did clda for {len(c)} times')"
   ]
  },
  {
   "cell_type": "code",
   "execution_count": 32,
   "metadata": {
    "ExecuteTime": {
     "end_time": "2021-03-11T22:02:42.488713Z",
     "start_time": "2021-03-11T22:02:42.479836Z"
    }
   },
   "outputs": [],
   "source": [
    "update_bmi_all = np.squeeze(task_data_hist_np_all[0]['update_bmi'])"
   ]
  },
  {
   "cell_type": "code",
   "execution_count": 33,
   "metadata": {
    "ExecuteTime": {
     "end_time": "2021-03-11T22:02:42.589405Z",
     "start_time": "2021-03-11T22:02:42.489754Z"
    }
   },
   "outputs": [
    {
     "data": {
      "text/plain": [
       "Text(0.5, 0, 'frame count')"
      ]
     },
     "execution_count": 33,
     "metadata": {},
     "output_type": "execute_result"
    },
    {
     "data": {
      "image/png": "[encoded data removed]",
      "text/plain": [
       "<Figure size 432x288 with 1 Axes>"
      ]
     },
     "metadata": {
      "needs_background": "light"
     },
     "output_type": "display_data"
    }
   ],
   "source": [
    "plt.plot(update_bmi_all[:240])\n",
    "plt.xlabel('frame count')"
   ]
  },
  {
   "cell_type": "markdown",
   "metadata": {},
   "source": [
    "## reformat the matrix"
   ]
  },
  {
   "cell_type": "code",
   "execution_count": 34,
   "metadata": {
    "ExecuteTime": {
     "end_time": "2021-03-11T22:02:42.597815Z",
     "start_time": "2021-03-11T22:02:42.590305Z"
    }
   },
   "outputs": [
    {
     "data": {
      "text/plain": [
       "11"
      ]
     },
     "execution_count": 34,
     "metadata": {},
     "output_type": "execute_result"
    }
   ],
   "source": [
    "clda_params = clda_params_all[1]\n",
    "\n",
    "clda_params_dict_all = list()\n",
    "\n",
    "for p in clda_params_all:\n",
    "    clda_params_dict = dict()\n",
    "    for param_key in p[0].keys():\n",
    "        clda_params_dict[param_key] = np.array([ record_i[param_key] for record_i in p])\n",
    "    \n",
    "    clda_params_dict_all.append(clda_params_dict)\n",
    "\n",
    "\n",
    "len(clda_params_dict_all)"
   ]
  },
  {
   "cell_type": "markdown",
   "metadata": {},
   "source": [
    "## observation covariance matrix"
   ]
  },
  {
   "cell_type": "code",
   "execution_count": 35,
   "metadata": {
    "ExecuteTime": {
     "end_time": "2021-03-11T22:02:42.606618Z",
     "start_time": "2021-03-11T22:02:42.598814Z"
    }
   },
   "outputs": [
    {
     "name": "stdout",
     "output_type": "stream",
     "text": [
      "enc. mean FR:1.0 Hz\n",
      "[[2.92 0.   0.   0.  ]\n",
      " [0.   2.5  0.   0.  ]\n",
      " [0.   0.   2.79 0.  ]\n",
      " [0.   0.   0.   2.5 ]]\n",
      "\n",
      "enc. mean FR:2.0 Hz\n",
      "[[3.34 0.   0.07 0.  ]\n",
      " [0.   2.5  0.   0.  ]\n",
      " [0.07 0.   3.09 0.  ]\n",
      " [0.   0.   0.   2.5 ]]\n",
      "\n",
      "enc. mean FR:4.0 Hz\n",
      "[[ 4.26  0.    0.19 -0.01]\n",
      " [ 0.    2.5   0.    0.  ]\n",
      " [ 0.19  0.    4.54 -0.  ]\n",
      " [-0.01  0.   -0.    2.51]]\n",
      "\n",
      "enc. mean FR:8.0 Hz\n",
      "[[ 4.84  0.   -0.49  0.03]\n",
      " [ 0.    2.5   0.    0.  ]\n",
      " [-0.49  0.    7.82  0.01]\n",
      " [ 0.03  0.    0.01  2.54]]\n",
      "\n",
      "enc. mean FR:16.0 Hz\n",
      "[[ 8.36  1.35  2.94  2.82]\n",
      " [ 1.35  6.32  2.8   3.17]\n",
      " [ 2.94  2.8  13.78  6.63]\n",
      " [ 2.82  3.17  6.63 11.34]]\n",
      "\n",
      "enc. mean FR:32.0 Hz\n",
      "[[13.14  1.34  2.06  2.58]\n",
      " [ 1.34 10.81  2.62  1.97]\n",
      " [ 2.06  2.62 20.84 11.51]\n",
      " [ 2.58  1.97 11.51 25.2 ]]\n",
      "\n",
      "enc. mean FR:64.0 Hz\n",
      "[[ 49.89  18.07   3.06   9.67]\n",
      " [ 18.07  56.64   3.01  16.98]\n",
      " [  3.06   3.01 296.12 270.83]\n",
      " [  9.67  16.98 270.83 337.89]]\n",
      "\n",
      "enc. mean FR:128.0 Hz\n",
      "[[ 781.26  669.66  216.93  221.28]\n",
      " [ 669.66  675.28  192.62  188.7 ]\n",
      " [ 216.93  192.62 1365.62 1326.3 ]\n",
      " [ 221.28  188.7  1326.3  1442.35]]\n",
      "\n",
      "enc. mean FR:256.0 Hz\n",
      "[[ 2633.13  2350.5   -769.75  -904.47]\n",
      " [ 2350.5   2377.64 -1067.31 -1225.17]\n",
      " [ -769.75 -1067.31  6440.17  6287.07]\n",
      " [ -904.47 -1225.17  6287.07  6450.03]]\n",
      "\n",
      "enc. mean FR:512.0 Hz\n",
      "[[116325.12 116476.87  37780.13  38271.46]\n",
      " [116476.87 117696.03  38443.98  38930.55]\n",
      " [ 37780.13  38443.98  53447.75  53805.15]\n",
      " [ 38271.46  38930.55  53805.15  54985.58]]\n",
      "\n",
      "enc. mean FR:1024.0 Hz\n",
      "[[3127272.77 3173208.78   38574.9    42913.05]\n",
      " [3173208.78 3223497.04   36802.98   41086.81]\n",
      " [  38574.9    36802.98  181552.98  180543.91]\n",
      " [  42913.05   41086.81  180543.91  181873.73]]\n",
      "\n"
     ]
    }
   ],
   "source": [
    "n_sample = 1\n",
    "\n",
    "for i,c in enumerate(clda_params_dict_all):\n",
    "    print(exp_conds[i])\n",
    "    print(c['kf.Q'][n_sample,:,:])\n",
    "    print()"
   ]
  },
  {
   "cell_type": "markdown",
   "metadata": {},
   "source": [
    "## clda K matrix"
   ]
  },
  {
   "cell_type": "code",
   "execution_count": 36,
   "metadata": {
    "ExecuteTime": {
     "end_time": "2021-03-11T22:02:42.617051Z",
     "start_time": "2021-03-11T22:02:42.607497Z"
    }
   },
   "outputs": [],
   "source": [
    "kf_C = clda_params_dict['kf.C']"
   ]
  },
  {
   "cell_type": "code",
   "execution_count": 37,
   "metadata": {
    "ExecuteTime": {
     "end_time": "2021-03-11T22:02:42.628882Z",
     "start_time": "2021-03-11T22:02:42.617919Z"
    }
   },
   "outputs": [
    {
     "name": "stdout",
     "output_type": "stream",
     "text": [
      "K matrix before:\n",
      "[[  0.     0.     0.    43.68   0.    -3.98 557.46]\n",
      " [  0.     0.     0.    -8.4    0.    -3.26 573.71]\n",
      " [  0.     0.     0.     0.58   0.    47.81  82.17]\n",
      " [  0.     0.     0.     1.76   0.    -3.04  86.61]]\n",
      "K matrix after:\n",
      "[[  0.     0.     0.    44.07   0.    75.49 316.1 ]\n",
      " [  0.     0.     0.   -49.03   0.    53.24 309.67]\n",
      " [  0.     0.     0.    -0.13   0.    32.14  82.78]\n",
      " [  0.     0.     0.    -0.36   0.   -67.64  82.65]]\n"
     ]
    }
   ],
   "source": [
    "print('K matrix before:')\n",
    "print(kf_C[0,:,:])\n",
    "print('K matrix after:')\n",
    "print(kf_C[-1,:,:])"
   ]
  },
  {
   "cell_type": "code",
   "execution_count": 38,
   "metadata": {
    "ExecuteTime": {
     "end_time": "2021-03-11T22:02:43.011285Z",
     "start_time": "2021-03-11T22:02:42.629761Z"
    }
   },
   "outputs": [
    {
     "data": {
      "image/png": "[encoded data removed]",
      "text/plain": [
       "<Figure size 1152x288 with 4 Axes>"
      ]
     },
     "metadata": {
      "needs_background": "light"
     },
     "output_type": "display_data"
    }
   ],
   "source": [
    "N_CLDA_ROI_TIME = 800\n",
    "\n",
    "FIGURE_SIZE = (2,10)\n",
    "\n",
    "N_NEURONS\n",
    "\n",
    "f, axs = plt.subplots(1,N_NEURONS,figsize=(16,4))\n",
    "\n",
    "for i in range(N_NEURONS):\n",
    "    axs[i].plot(np.squeeze(kf_C[:N_CLDA_ROI_TIME,i, X_VEL_STATE_IND]))\n",
    "    axs[i].plot(np.squeeze(kf_C[:N_CLDA_ROI_TIME,i, Y_VEL_STATE_IND]))\n",
    "    axs[i].legend(['x vel', 'y_vel'])\n",
    "    axs[i].set_title(f'neuron {i} ')\n",
    "    axs[i].set_xlabel('clda update count ')\n",
    "    axs[i].set_ylabel('Decoder weight value')\n",
    "\n"
   ]
  },
  {
   "cell_type": "code",
   "execution_count": 39,
   "metadata": {
    "ExecuteTime": {
     "end_time": "2021-03-11T22:02:43.016323Z",
     "start_time": "2021-03-11T22:02:43.012255Z"
    }
   },
   "outputs": [
    {
     "data": {
      "text/plain": [
       "array([[ 0.,  0.,  0.,  1.,  0.,  0.,  0.],\n",
       "       [ 0.,  0.,  0., -1.,  0.,  0.,  0.],\n",
       "       [ 0.,  0.,  0.,  0.,  0.,  1.,  0.],\n",
       "       [ 0.,  0.,  0.,  0.,  0., -1.,  0.]])"
      ]
     },
     "execution_count": 39,
     "metadata": {},
     "output_type": "execute_result"
    }
   ],
   "source": [
    "exps[0].encoder.C"
   ]
  },
  {
   "cell_type": "markdown",
   "metadata": {},
   "source": [
    "## examine training batches"
   ]
  },
  {
   "cell_type": "code",
   "execution_count": 40,
   "metadata": {
    "ExecuteTime": {
     "end_time": "2021-03-11T22:02:43.027127Z",
     "start_time": "2021-03-11T22:02:43.017074Z"
    }
   },
   "outputs": [],
   "source": [
    "spike_counts_batch = clda_params_dict['spike_counts_batch'] \n",
    "intended_kin = clda_params_dict['intended_kin']"
   ]
  },
  {
   "cell_type": "code",
   "execution_count": 41,
   "metadata": {
    "ExecuteTime": {
     "end_time": "2021-03-11T22:02:43.040821Z",
     "start_time": "2021-03-11T22:02:43.028173Z"
    }
   },
   "outputs": [
    {
     "name": "stdout",
     "output_type": "stream",
     "text": [
      "intended kinematics:\n",
      "[[  4.29   5.42   6.5    7.44   8.19   8.73   9.03   9.11   9.06   8.92\n",
      "    8.71   8.49   8.29   8.11   7.94   6.97   5.61   4.     2.37   0.88\n",
      "   -0.35  -1.2   -1.68  -1.81  -0.85   0.71   2.63   4.59   6.46   8.06\n",
      "    9.27  10.04  10.4   10.41  10.17   9.7    9.17   8.68   8.27   7.94\n",
      "    7.71   7.56   7.48   7.43   6.52   5.19   3.66   2.15   0.81  -0.28]\n",
      " [  0.     0.     0.     0.     0.     0.     0.     0.     0.     0.\n",
      "    0.     0.     0.     0.     0.     0.     0.     0.     0.     0.\n",
      "    0.     0.     0.     0.     0.     0.     0.     0.     0.     0.\n",
      "    0.     0.     0.     0.     0.     0.     0.     0.     0.     0.\n",
      "    0.     0.     0.     0.     0.     0.     0.     0.     0.     0.  ]\n",
      " [ 11.68   8.68   5.58   2.58   0.16  -1.76  -2.98  -3.57  -3.65  -3.32\n",
      "   -2.72  -2.    -1.25  -0.53   0.01   0.39   0.59   0.67   0.62   0.47\n",
      "    0.28   0.07  -0.09  -0.23  -0.32  -0.34  -0.31  -0.26  -0.17  -0.08\n",
      "    0.02   0.08   0.12   0.12   0.1    0.05  -0.01  -0.07  -0.14  -0.18\n",
      "   -0.21  -0.22  -0.22  -0.22  -0.22  -0.23  -0.25  -0.28  -0.31  -0.31]\n",
      " [  8.89   8.99   7.86   6.25   4.53   2.79   1.08  -0.26  -1.07  -1.57\n",
      "   -1.78  -1.74  -1.44  -8.05  -7.74 -11.35 -12.79 -12.96 -11.85  -9.87\n",
      "   -7.23  -4.34   5.13   7.3   12.75  15.27  16.02  14.76  12.67   9.75\n",
      "    6.43   3.24   0.46  -1.67  -3.04  -4.04  -4.04  -3.48  -2.71  -1.97\n",
      "   -1.22  -0.59  -6.98  -6.58 -10.56 -12.2  -12.21 -10.98  -8.85  -6.44]\n",
      " [  0.     0.     0.     0.     0.     0.     0.     0.     0.     0.\n",
      "    0.     0.     0.     0.     0.     0.     0.     0.     0.     0.\n",
      "    0.     0.     0.     0.     0.     0.     0.     0.     0.     0.\n",
      "    0.     0.     0.     0.     0.     0.     0.     0.     0.     0.\n",
      "    0.     0.     0.     0.     0.     0.     0.     0.     0.     0.  ]\n",
      " [-23.38 -25.39 -23.67 -20.59 -15.18 -10.43  -5.28  -1.02   2.22   4.56\n",
      "    5.72   5.96   5.53   4.79   3.37   2.05   0.81  -0.01  -0.76  -1.23\n",
      "   -1.37  -1.28  -0.94  -0.63  -0.31   0.12   0.41   0.51   0.67   0.64\n",
      "    0.56   0.35   0.15  -0.08  -0.22  -0.31  -0.34  -0.33  -0.28  -0.11\n",
      "   -0.03   0.08   0.16   0.21   0.17   0.16   0.09   0.05   0.08   0.2 ]\n",
      " [  1.     1.     1.     1.     1.     1.     1.     1.     1.     1.\n",
      "    1.     1.     1.     1.     1.     1.     1.     1.     1.     1.\n",
      "    1.     1.     1.     1.     1.     1.     1.     1.     1.     1.\n",
      "    1.     1.     1.     1.     1.     1.     1.     1.     1.     1.\n",
      "    1.     1.     1.     1.     1.     1.     1.     1.     1.     1.  ]]\n",
      "spike counts:\n",
      "[[ 971.  934.  816.  658.  475.  269.   93.    0.    0.    0.    0.    0.\n",
      "     0.    0.    0.    0.    0.    0.    0.    0.    0.    0.    0.  738.\n",
      "  1251. 1572. 1615. 1540. 1317.  998.  663.  334.   52.    0.    0.    0.\n",
      "     0.    0.    0.    0.    0.    0.    0.    0.    0.    0.    0.    0.\n",
      "     0.    0.]\n",
      " [   0.    0.    0.    0.    0.    0.    0.   28.  117.  169.  189.  170.\n",
      "   153.  113.  778. 1129. 1338. 1369. 1261. 1030.  732.  440.  171.    0.\n",
      "     0.    0.    0.    0.    0.    0.    0.    0.    0.  164.  361.  415.\n",
      "   394.  339.  280.  206.  140.   83.    9.  724. 1098. 1272. 1271. 1124.\n",
      "   913.  615.]\n",
      " [   0.    0.    0.    0.    0.    0.    0.    0.  244.  470.  584.  610.\n",
      "   591.  471.  347.  205.  109.    0.    0.    0.    0.    0.    0.    0.\n",
      "     0.    7.   25.   58.   68.   73.   58.   42.   15.    0.    0.    0.\n",
      "     0.    0.    0.    0.    0.    8.   15.   21.   24.   14.    5.    4.\n",
      "    15.   25.]\n",
      " [2483. 2592. 2513. 2034. 1605. 1047.  549.  115.    0.    0.    0.    0.\n",
      "     0.    0.    0.    0.    0.    0.   82.  124.  140.  118.   97.   79.\n",
      "    31.    0.    0.    0.    0.    0.    0.    0.    0.    3.   17.   28.\n",
      "    35.   37.   18.   14.    2.    0.    0.    0.    0.    0.    0.    0.\n",
      "     0.    0.]]\n",
      "trained KF C matrix:\n",
      "[[  0.     0.     0.    56.45   0.    -2.61 430.29]\n",
      " [  0.     0.     0.   -31.36   0.    -2.27 429.66]\n",
      " [  0.     0.     0.     0.89   0.    30.37 414.36]\n",
      " [  0.     0.     0.     1.64   0.   -59.65 408.97]]\n"
     ]
    }
   ],
   "source": [
    "training_sample_point = 2\n",
    "\n",
    "print('intended kinematics:')\n",
    "print(intended_kin[training_sample_point])\n",
    "\n",
    "print('spike counts:')\n",
    "print(spike_counts_batch[training_sample_point])\n",
    "\n",
    "print('trained KF C matrix:')\n",
    "#print(kf_C[training_sample_point])"
   ]
  },
  {
   "cell_type": "markdown",
   "metadata": {},
   "source": []
  },
  {
   "cell_type": "markdown",
   "metadata": {},
   "source": [
    "# feature analyses"
   ]
  },
  {
   "cell_type": "code",
   "execution_count": 42,
   "metadata": {
    "ExecuteTime": {
     "end_time": "2021-03-11T22:02:43.051094Z",
     "start_time": "2021-03-11T22:02:43.041676Z"
    }
   },
   "outputs": [],
   "source": [
    "import statsmodels.api as sm\n"
   ]
  },
  {
   "cell_type": "markdown",
   "metadata": {},
   "source": [
    "## Examine relevance of one neuron from one batch "
   ]
  },
  {
   "cell_type": "markdown",
   "metadata": {},
   "source": [
    "### Select data"
   ]
  },
  {
   "cell_type": "code",
   "execution_count": 43,
   "metadata": {
    "ExecuteTime": {
     "end_time": "2021-03-11T22:02:43.062105Z",
     "start_time": "2021-03-11T22:02:43.052101Z"
    }
   },
   "outputs": [
    {
     "data": {
      "text/plain": [
       "dict_keys(['kf.C', 'kf.Q', 'kf.C_xpose_Q_inv_C', 'kf.C_xpose_Q_inv', 'mFR', 'sdFR', 'rho', 'intended_kin', 'spike_counts_batch'])"
      ]
     },
     "execution_count": 43,
     "metadata": {},
     "output_type": "execute_result"
    }
   ],
   "source": [
    "clda_params_dict.keys() # this is from one experiment"
   ]
  },
  {
   "cell_type": "code",
   "execution_count": 44,
   "metadata": {
    "ExecuteTime": {
     "end_time": "2021-03-11T22:02:43.071925Z",
     "start_time": "2021-03-11T22:02:43.063064Z"
    },
    "scrolled": true
   },
   "outputs": [
    {
     "name": "stdout",
     "output_type": "stream",
     "text": [
      "45\n",
      "45\n"
     ]
    }
   ],
   "source": [
    "spike_counts_batch = clda_params_dict['spike_counts_batch']\n",
    "intended_kin = clda_params_dict['intended_kin']\n",
    "print(f'{len(spike_counts_batch)}')\n",
    "print(f'{len(intended_kin)}')"
   ]
  },
  {
   "cell_type": "code",
   "execution_count": 45,
   "metadata": {
    "ExecuteTime": {
     "end_time": "2021-03-11T22:02:43.086398Z",
     "start_time": "2021-03-11T22:02:43.072810Z"
    }
   },
   "outputs": [
    {
     "name": "stdout",
     "output_type": "stream",
     "text": [
      "look at one batch: batch number 0\n",
      "spike count\n",
      "[[    0.     0.   193.  1694.     0.     0. 67718.     0.     0.  3367.\n",
      "   1871.  1864.  1983.  1985.  1838.  1804.  1891.  1931.  1997.  1972.\n",
      "   1906.  1900.  1889.  1854.  1954.  1950.  2033.  1877.  1882.  1874.\n",
      "   1942.  1945.  1969.  1964.  1934.  1937.  1964.  1934.  1948.  1896.\n",
      "   1894.  1964.  1947.  1994.  2032.  2015.  1916.  1886.  1899.  1876.]\n",
      " [    0.     8.     0.     0.   518. 28092.     0.   517.  2914.     0.\n",
      "      0.     0.     0.     0.     0.     0.     0.     0.     0.     0.\n",
      "      0.     0.     0.     0.     0.     0.     0.     0.     0.     0.\n",
      "      0.     0.     0.     0.     0.     0.     0.     0.     0.     0.\n",
      "      0.     0.     0.     0.     0.     0.     0.     0.     0.     0.]\n",
      " [    0.     0.   184.     0.  9882.  1182.     0.  1238.  1183. 19499.\n",
      "   1331.  1203.  1239.  1249.  1203.  1192.  1179.  1210.  1245.  1233.\n",
      "   1278.  1227.  1201.  1184.  1268.  1191.  1237.  1244.  1186.  1224.\n",
      "   1195.  1296.  1259.  1225.  1206.  1200.  1315.  1212.  1284.  1298.\n",
      "   1197.  1268.  1227.  1232.  1252.  1265.  1258.  1229.  1222.  1196.]\n",
      " [    0.    20.     0.  4337.     0.     0.  1183.     0.     0.     0.\n",
      "      0.     0.     0.     0.     0.     0.     0.     0.     0.     0.\n",
      "      0.     0.     0.     0.     0.     0.     0.     0.     0.     0.\n",
      "      0.     0.     0.     0.     0.     0.     0.     0.     0.     0.\n",
      "      0.     0.     0.     0.     0.     0.     0.     0.     0.     0.]]\n",
      "intended kin\n",
      "[[   0.     -0.03    0.46    2.02   14.    -66.43  127.93   14.      7.09\n",
      "    18.11  -14.    -14.    -14.    -14.    -14.    -14.    -14.    -14.\n",
      "   -14.    -14.    -14.    -14.    -14.    -14.    -14.    -14.    -14.\n",
      "   -14.    -14.    -14.    -14.    -14.    -14.    -14.    -14.    -14.\n",
      "   -14.    -14.    -14.    -14.    -14.    -14.    -14.    -14.    -14.\n",
      "   -14.    -14.    -14.    -14.    -14.  ]\n",
      " [   0.      0.      0.      0.      0.      0.      0.      0.      0.\n",
      "     0.      0.      0.      0.      0.      0.      0.      0.      0.\n",
      "     0.      0.      0.      0.      0.      0.      0.      0.      0.\n",
      "     0.      0.      0.      0.      0.      0.      0.      0.      0.\n",
      "     0.      0.      0.      0.      0.      0.      0.      0.      0.\n",
      "     0.      0.      0.      0.      0.  ]\n",
      " [   0.     -0.05    0.46  -11.35   26.84  -14.     14.    -14.    -14.\n",
      "    40.    -14.    -14.    -14.    -14.    -14.    -14.    -14.    -14.\n",
      "   -14.    -14.    -14.    -14.    -14.    -14.    -14.    -14.    -14.\n",
      "   -14.    -14.    -14.    -14.    -14.    -14.    -14.    -14.    -14.\n",
      "   -14.    -14.    -14.    -14.    -14.    -14.    -14.    -14.    -14.\n",
      "   -14.    -14.    -14.    -14.    -14.  ]\n",
      " [   0.     -0.13    8.99   16.39   -5.16 -271.42  665.49   -5.16  -28.47\n",
      "    33.21   18.92   18.92   18.92   18.92   18.92   18.92   18.92   18.92\n",
      "    18.92   18.92   18.92   18.92   18.92   18.92   18.92   18.92   18.92\n",
      "    18.92   18.92   18.92   18.92   18.92   18.92   18.92   18.92   18.92\n",
      "    18.92   18.92   18.92   18.92   18.92   18.92   18.92   18.92   18.92\n",
      "    18.92   18.92   18.92   18.92   18.92]\n",
      " [   0.      0.      0.      0.      0.      0.      0.      0.      0.\n",
      "     0.      0.      0.      0.      0.      0.      0.      0.      0.\n",
      "     0.      0.      0.      0.      0.      0.      0.      0.      0.\n",
      "     0.      0.      0.      0.      0.      0.      0.      0.      0.\n",
      "     0.      0.      0.      0.      0.      0.      0.      0.      0.\n",
      "     0.      0.      0.      0.      0.  ]\n",
      " [   0.     -0.24    1.84  -41.52   96.2    12.04  -12.04   12.04   12.04\n",
      "   190.41   12.04   12.04   12.04   12.04   12.04   12.04   12.04   12.04\n",
      "    12.04   12.04   12.04   12.04   12.04   12.04   12.04   12.04   12.04\n",
      "    12.04   12.04   12.04   12.04   12.04   12.04   12.04   12.04   12.04\n",
      "    12.04   12.04   12.04   12.04   12.04   12.04   12.04   12.04   12.04\n",
      "    12.04   12.04   12.04   12.04   12.04]\n",
      " [   1.      1.      1.      1.      1.      1.      1.      1.      1.\n",
      "     1.      1.      1.      1.      1.      1.      1.      1.      1.\n",
      "     1.      1.      1.      1.      1.      1.      1.      1.      1.\n",
      "     1.      1.      1.      1.      1.      1.      1.      1.      1.\n",
      "     1.      1.      1.      1.      1.      1.      1.      1.      1.\n",
      "     1.      1.      1.      1.      1.  ]]\n"
     ]
    }
   ],
   "source": [
    "# we just take one batch\n",
    "batch_of_interest = 0\n",
    "spike_count_one_batch = spike_counts_batch[batch_of_interest]\n",
    "intended_kin_one_batch = intended_kin[batch_of_interest]\n",
    "\n",
    "print(f'look at one batch: batch number {batch_of_interest}')\n",
    "print(f'spike count')\n",
    "print(spike_count_one_batch)\n",
    "\n",
    "print(f'intended kin')\n",
    "print(intended_kin_one_batch)"
   ]
  },
  {
   "cell_type": "code",
   "execution_count": 46,
   "metadata": {
    "ExecuteTime": {
     "end_time": "2021-03-11T22:02:43.097381Z",
     "start_time": "2021-03-11T22:02:43.087351Z"
    }
   },
   "outputs": [
    {
     "name": "stdout",
     "output_type": "stream",
     "text": [
      "we are dealing with a velocity decoder\n",
      "we only look at  x vel and y vel:\n",
      "We assume we are only interested how firing rates encode x, y vel\n",
      "after selecting the vels:\n",
      "[[   0.     -0.13    8.99   16.39   -5.16 -271.42  665.49   -5.16  -28.47\n",
      "    33.21   18.92   18.92   18.92   18.92   18.92   18.92   18.92   18.92\n",
      "    18.92   18.92   18.92   18.92   18.92   18.92   18.92   18.92   18.92\n",
      "    18.92   18.92   18.92   18.92   18.92   18.92   18.92   18.92   18.92\n",
      "    18.92   18.92   18.92   18.92   18.92   18.92   18.92   18.92   18.92\n",
      "    18.92   18.92   18.92   18.92   18.92]\n",
      " [   0.     -0.24    1.84  -41.52   96.2    12.04  -12.04   12.04   12.04\n",
      "   190.41   12.04   12.04   12.04   12.04   12.04   12.04   12.04   12.04\n",
      "    12.04   12.04   12.04   12.04   12.04   12.04   12.04   12.04   12.04\n",
      "    12.04   12.04   12.04   12.04   12.04   12.04   12.04   12.04   12.04\n",
      "    12.04   12.04   12.04   12.04   12.04   12.04   12.04   12.04   12.04\n",
      "    12.04   12.04   12.04   12.04   12.04]]\n"
     ]
    }
   ],
   "source": [
    "print('we are dealing with a velocity decoder')\n",
    "print('we only look at  x vel and y vel:')\n",
    "print('We assume we are only interested how firing rates encode x, y vel')\n",
    "\n",
    "intended_kin_one_batch_2D = intended_kin_one_batch[(X_VEL_STATE_IND, Y_VEL_STATE_IND),:]\n",
    "print('after selecting the vels:')\n",
    "print(intended_kin_one_batch_2D)"
   ]
  },
  {
   "cell_type": "code",
   "execution_count": 47,
   "metadata": {
    "ExecuteTime": {
     "end_time": "2021-03-11T22:02:43.108498Z",
     "start_time": "2021-03-11T22:02:43.098196Z"
    }
   },
   "outputs": [
    {
     "name": "stdout",
     "output_type": "stream",
     "text": [
      "we will do  one neuron at a time\n",
      "the neuron that we are interested is neuron 0\n",
      "and selected firing rates:\n",
      "[    0.     0.   193.  1694.     0.     0. 67718.     0.     0.  3367.\n",
      "  1871.  1864.  1983.  1985.  1838.  1804.  1891.  1931.  1997.  1972.\n",
      "  1906.  1900.  1889.  1854.  1954.  1950.  2033.  1877.  1882.  1874.\n",
      "  1942.  1945.  1969.  1964.  1934.  1937.  1964.  1934.  1948.  1896.\n",
      "  1894.  1964.  1947.  1994.  2032.  2015.  1916.  1886.  1899.  1876.]\n"
     ]
    }
   ],
   "source": [
    "print('we will do  one neuron at a time')\n",
    "n_roi_neuron = 0\n",
    "print(f'the neuron that we are interested is neuron {n_roi_neuron}')\n",
    "print('and selected firing rates:')\n",
    "\n",
    "spike_count_one_batch_one_neuron = spike_count_one_batch[n_roi_neuron,:]\n",
    "\n",
    "print(spike_count_one_batch_one_neuron)"
   ]
  },
  {
   "cell_type": "markdown",
   "metadata": {},
   "source": [
    "### OLS model fitting"
   ]
  },
  {
   "cell_type": "code",
   "execution_count": 48,
   "metadata": {
    "ExecuteTime": {
     "end_time": "2021-03-11T22:02:43.122738Z",
     "start_time": "2021-03-11T22:02:43.109434Z"
    }
   },
   "outputs": [
    {
     "name": "stdout",
     "output_type": "stream",
     "text": [
      "we transpose the vector for fitting\n",
      "the independent variables are  the intended kin hence, X\n",
      "[[   0.      0.  ]\n",
      " [  -0.13   -0.24]\n",
      " [   8.99    1.84]\n",
      " [  16.39  -41.52]\n",
      " [  -5.16   96.2 ]\n",
      " [-271.42   12.04]\n",
      " [ 665.49  -12.04]\n",
      " [  -5.16   12.04]\n",
      " [ -28.47   12.04]\n",
      " [  33.21  190.41]\n",
      " [  18.92   12.04]\n",
      " [  18.92   12.04]\n",
      " [  18.92   12.04]\n",
      " [  18.92   12.04]\n",
      " [  18.92   12.04]\n",
      " [  18.92   12.04]\n",
      " [  18.92   12.04]\n",
      " [  18.92   12.04]\n",
      " [  18.92   12.04]\n",
      " [  18.92   12.04]\n",
      " [  18.92   12.04]\n",
      " [  18.92   12.04]\n",
      " [  18.92   12.04]\n",
      " [  18.92   12.04]\n",
      " [  18.92   12.04]\n",
      " [  18.92   12.04]\n",
      " [  18.92   12.04]\n",
      " [  18.92   12.04]\n",
      " [  18.92   12.04]\n",
      " [  18.92   12.04]\n",
      " [  18.92   12.04]\n",
      " [  18.92   12.04]\n",
      " [  18.92   12.04]\n",
      " [  18.92   12.04]\n",
      " [  18.92   12.04]\n",
      " [  18.92   12.04]\n",
      " [  18.92   12.04]\n",
      " [  18.92   12.04]\n",
      " [  18.92   12.04]\n",
      " [  18.92   12.04]\n",
      " [  18.92   12.04]\n",
      " [  18.92   12.04]\n",
      " [  18.92   12.04]\n",
      " [  18.92   12.04]\n",
      " [  18.92   12.04]\n",
      " [  18.92   12.04]\n",
      " [  18.92   12.04]\n",
      " [  18.92   12.04]\n",
      " [  18.92   12.04]\n",
      " [  18.92   12.04]]\n",
      "the dependent variable is the neuron spike connt, hence y\n",
      "[[    0.]\n",
      " [    0.]\n",
      " [  193.]\n",
      " [ 1694.]\n",
      " [    0.]\n",
      " [    0.]\n",
      " [67718.]\n",
      " [    0.]\n",
      " [    0.]\n",
      " [ 3367.]\n",
      " [ 1871.]\n",
      " [ 1864.]\n",
      " [ 1983.]\n",
      " [ 1985.]\n",
      " [ 1838.]\n",
      " [ 1804.]\n",
      " [ 1891.]\n",
      " [ 1931.]\n",
      " [ 1997.]\n",
      " [ 1972.]\n",
      " [ 1906.]\n",
      " [ 1900.]\n",
      " [ 1889.]\n",
      " [ 1854.]\n",
      " [ 1954.]\n",
      " [ 1950.]\n",
      " [ 2033.]\n",
      " [ 1877.]\n",
      " [ 1882.]\n",
      " [ 1874.]\n",
      " [ 1942.]\n",
      " [ 1945.]\n",
      " [ 1969.]\n",
      " [ 1964.]\n",
      " [ 1934.]\n",
      " [ 1937.]\n",
      " [ 1964.]\n",
      " [ 1934.]\n",
      " [ 1948.]\n",
      " [ 1896.]\n",
      " [ 1894.]\n",
      " [ 1964.]\n",
      " [ 1947.]\n",
      " [ 1994.]\n",
      " [ 2032.]\n",
      " [ 2015.]\n",
      " [ 1916.]\n",
      " [ 1886.]\n",
      " [ 1899.]\n",
      " [ 1876.]]\n"
     ]
    }
   ],
   "source": [
    "print('we transpose the vector for fitting')\n",
    "X = intended_kin_one_batch_2D.T\n",
    "y = np.reshape(spike_count_one_batch_one_neuron, (-1,1))\n",
    "\n",
    "\n",
    "print('the independent variables are  the intended kin hence, X')\n",
    "print(X)\n",
    "\n",
    "\n",
    "print('the dependent variable is the neuron spike connt, hence y')\n",
    "print(y)\n"
   ]
  },
  {
   "cell_type": "code",
   "execution_count": 49,
   "metadata": {
    "ExecuteTime": {
     "end_time": "2021-03-11T22:02:43.132391Z",
     "start_time": "2021-03-11T22:02:43.123554Z"
    }
   },
   "outputs": [
    {
     "name": "stdout",
     "output_type": "stream",
     "text": [
      "we add the constant one to the states (X)\n",
      "the new X is\n",
      "[[   1.      0.      0.  ]\n",
      " [   1.     -0.13   -0.24]\n",
      " [   1.      8.99    1.84]\n",
      " [   1.     16.39  -41.52]\n",
      " [   1.     -5.16   96.2 ]\n",
      " [   1.   -271.42   12.04]\n",
      " [   1.    665.49  -12.04]\n",
      " [   1.     -5.16   12.04]\n",
      " [   1.    -28.47   12.04]\n",
      " [   1.     33.21  190.41]\n",
      " [   1.     18.92   12.04]\n",
      " [   1.     18.92   12.04]\n",
      " [   1.     18.92   12.04]\n",
      " [   1.     18.92   12.04]\n",
      " [   1.     18.92   12.04]\n",
      " [   1.     18.92   12.04]\n",
      " [   1.     18.92   12.04]\n",
      " [   1.     18.92   12.04]\n",
      " [   1.     18.92   12.04]\n",
      " [   1.     18.92   12.04]\n",
      " [   1.     18.92   12.04]\n",
      " [   1.     18.92   12.04]\n",
      " [   1.     18.92   12.04]\n",
      " [   1.     18.92   12.04]\n",
      " [   1.     18.92   12.04]\n",
      " [   1.     18.92   12.04]\n",
      " [   1.     18.92   12.04]\n",
      " [   1.     18.92   12.04]\n",
      " [   1.     18.92   12.04]\n",
      " [   1.     18.92   12.04]\n",
      " [   1.     18.92   12.04]\n",
      " [   1.     18.92   12.04]\n",
      " [   1.     18.92   12.04]\n",
      " [   1.     18.92   12.04]\n",
      " [   1.     18.92   12.04]\n",
      " [   1.     18.92   12.04]\n",
      " [   1.     18.92   12.04]\n",
      " [   1.     18.92   12.04]\n",
      " [   1.     18.92   12.04]\n",
      " [   1.     18.92   12.04]\n",
      " [   1.     18.92   12.04]\n",
      " [   1.     18.92   12.04]\n",
      " [   1.     18.92   12.04]\n",
      " [   1.     18.92   12.04]\n",
      " [   1.     18.92   12.04]\n",
      " [   1.     18.92   12.04]\n",
      " [   1.     18.92   12.04]\n",
      " [   1.     18.92   12.04]\n",
      " [   1.     18.92   12.04]\n",
      " [   1.     18.92   12.04]]\n"
     ]
    }
   ],
   "source": [
    "print('we add the constant one to the states (X)')\n",
    "X = sm.add_constant(X, has_constant= 'raise')\n",
    "print('the new X is')\n",
    "print(X)"
   ]
  },
  {
   "cell_type": "code",
   "execution_count": 50,
   "metadata": {
    "ExecuteTime": {
     "end_time": "2021-03-11T22:02:43.147809Z",
     "start_time": "2021-03-11T22:02:43.133263Z"
    }
   },
   "outputs": [
    {
     "name": "stdout",
     "output_type": "stream",
     "text": [
      "now we can fit using statsmodels.ols\n",
      "print results\n",
      "                            OLS Regression Results                            \n",
      "==============================================================================\n",
      "Dep. Variable:                      y   R-squared:                       0.857\n",
      "Model:                            OLS   Adj. R-squared:                  0.851\n",
      "Method:                 Least Squares   F-statistic:                     140.9\n",
      "Date:                Thu, 11 Mar 2021   Prob (F-statistic):           1.41e-20\n",
      "Time:                        14:02:43   Log-Likelihood:                -479.05\n",
      "No. Observations:                  50   AIC:                             964.1\n",
      "Df Residuals:                      47   BIC:                             969.8\n",
      "Df Model:                           2                                         \n",
      "Covariance Type:            nonrobust                                         \n",
      "==============================================================================\n",
      "                 coef    std err          t      P>|t|      [0.025      0.975]\n",
      "------------------------------------------------------------------------------\n",
      "const       1113.9739    594.241      1.875      0.067     -81.486    2309.433\n",
      "x1            85.1114      5.111     16.651      0.000      74.828      95.394\n",
      "x2            -6.9834     17.676     -0.395      0.695     -42.543      28.576\n",
      "==============================================================================\n",
      "Omnibus:                       94.925   Durbin-Watson:                   1.227\n",
      "Prob(Omnibus):                  0.000   Jarque-Bera (JB):             2081.460\n",
      "Skew:                           5.429   Prob(JB):                         0.00\n",
      "Kurtosis:                      32.685   Cond. No.                         120.\n",
      "==============================================================================\n",
      "\n",
      "Warnings:\n",
      "[1] Standard Errors assume that the covariance matrix of the errors is correctly specified.\n"
     ]
    }
   ],
   "source": [
    "print('now we can fit using statsmodels.ols')\n",
    "\n",
    "ols_spike_from_states = sm.OLS(y, X)\n",
    "\n",
    "results_ols_spike_from_states = ols_spike_from_states.fit()\n",
    "\n",
    "print('print results')\n",
    "print(results_ols_spike_from_states.summary())"
   ]
  },
  {
   "cell_type": "code",
   "execution_count": 51,
   "metadata": {
    "ExecuteTime": {
     "end_time": "2021-03-11T22:02:43.154954Z",
     "start_time": "2021-03-11T22:02:43.148670Z"
    }
   },
   "outputs": [
    {
     "name": "stdout",
     "output_type": "stream",
     "text": [
      "the p-values test against if the coefficients are zero\n",
      "the p values for this neuron of index 0\n",
      "[0.07 0.   0.69]\n",
      "the reg. coeff. are \n",
      "[1113.97   85.11   -6.98]\n",
      "\n",
      "at a significance_level of 0.05:\n",
      "this array has the indix of the states that are significantly correlated with the firing rates  \n"
     ]
    },
    {
     "data": {
      "text/plain": [
       "(array([1]),)"
      ]
     },
     "execution_count": 51,
     "metadata": {},
     "output_type": "execute_result"
    }
   ],
   "source": [
    "print('the p-values test against if the coefficients are zero')\n",
    "neuron_batch_pvalue = results_ols_spike_from_states.pvalues\n",
    "\n",
    "print(f'the p values for this neuron of index {n_roi_neuron}')\n",
    "print(neuron_batch_pvalue)\n",
    "\n",
    "neuron_batch_coeff = results_ols_spike_from_states.params\n",
    "\n",
    "print('the reg. coeff. are ')\n",
    "print(neuron_batch_coeff)\n",
    "\n",
    "print()\n",
    "significance_level = 0.05\n",
    "print(f'at a significance_level of {significance_level}:')\n",
    "print('this array has the indix of the states that are significantly correlated with the firing rates  ')\n",
    "\n",
    "np.where(neuron_batch_pvalue < significance_level)"
   ]
  },
  {
   "cell_type": "markdown",
   "metadata": {},
   "source": [
    "## iterate up the model testing procedure"
   ]
  },
  {
   "cell_type": "code",
   "execution_count": 52,
   "metadata": {
    "ExecuteTime": {
     "end_time": "2021-03-11T22:02:43.165271Z",
     "start_time": "2021-03-11T22:02:43.155724Z"
    },
    "code_folding": []
   },
   "outputs": [
    {
     "name": "stdout",
     "output_type": "stream",
     "text": [
      "we write a function that actually  check if any given neuron has a sig state\n"
     ]
    }
   ],
   "source": [
    "print('we write a function that actually  check if any given neuron has a sig state')\n",
    "\n",
    "\n",
    "\n",
    "        \n",
    "\n",
    "\n",
    "\n",
    "\n"
   ]
  },
  {
   "cell_type": "code",
   "execution_count": 53,
   "metadata": {
    "ExecuteTime": {
     "end_time": "2021-03-11T22:02:43.175721Z",
     "start_time": "2021-03-11T22:02:43.166179Z"
    }
   },
   "outputs": [
    {
     "name": "stdout",
     "output_type": "stream",
     "text": [
      "with the functions, we can fit and test the one neuron and against the state\n"
     ]
    }
   ],
   "source": [
    "print('with the functions, we can fit and test the one neuron and against the state')"
   ]
  },
  {
   "cell_type": "code",
   "execution_count": 54,
   "metadata": {
    "ExecuteTime": {
     "end_time": "2021-03-11T22:02:43.185522Z",
     "start_time": "2021-03-11T22:02:43.176549Z"
    }
   },
   "outputs": [],
   "source": [
    "significance_level = 0.05\n",
    "\n",
    "\n",
    "    \n",
    "\n",
    "\n"
   ]
  },
  {
   "cell_type": "code",
   "execution_count": 55,
   "metadata": {
    "ExecuteTime": {
     "end_time": "2021-03-11T22:02:43.198696Z",
     "start_time": "2021-03-11T22:02:43.186658Z"
    },
    "scrolled": true
   },
   "outputs": [
    {
     "name": "stdout",
     "output_type": "stream",
     "text": [
      "we transpose the vector for fitting\n",
      "the independent variables are  the intended kin hence, X\n",
      "[[   0.      0.  ]\n",
      " [  -0.13   -0.24]\n",
      " [   8.99    1.84]\n",
      " [  16.39  -41.52]\n",
      " [  -5.16   96.2 ]\n",
      " [-271.42   12.04]\n",
      " [ 665.49  -12.04]\n",
      " [  -5.16   12.04]\n",
      " [ -28.47   12.04]\n",
      " [  33.21  190.41]\n",
      " [  18.92   12.04]\n",
      " [  18.92   12.04]\n",
      " [  18.92   12.04]\n",
      " [  18.92   12.04]\n",
      " [  18.92   12.04]\n",
      " [  18.92   12.04]\n",
      " [  18.92   12.04]\n",
      " [  18.92   12.04]\n",
      " [  18.92   12.04]\n",
      " [  18.92   12.04]\n",
      " [  18.92   12.04]\n",
      " [  18.92   12.04]\n",
      " [  18.92   12.04]\n",
      " [  18.92   12.04]\n",
      " [  18.92   12.04]\n",
      " [  18.92   12.04]\n",
      " [  18.92   12.04]\n",
      " [  18.92   12.04]\n",
      " [  18.92   12.04]\n",
      " [  18.92   12.04]\n",
      " [  18.92   12.04]\n",
      " [  18.92   12.04]\n",
      " [  18.92   12.04]\n",
      " [  18.92   12.04]\n",
      " [  18.92   12.04]\n",
      " [  18.92   12.04]\n",
      " [  18.92   12.04]\n",
      " [  18.92   12.04]\n",
      " [  18.92   12.04]\n",
      " [  18.92   12.04]\n",
      " [  18.92   12.04]\n",
      " [  18.92   12.04]\n",
      " [  18.92   12.04]\n",
      " [  18.92   12.04]\n",
      " [  18.92   12.04]\n",
      " [  18.92   12.04]\n",
      " [  18.92   12.04]\n",
      " [  18.92   12.04]\n",
      " [  18.92   12.04]\n",
      " [  18.92   12.04]]\n",
      "the dependent variable is the neuron spike connt, hence y\n",
      "[[    0.]\n",
      " [    0.]\n",
      " [  193.]\n",
      " [ 1694.]\n",
      " [    0.]\n",
      " [    0.]\n",
      " [67718.]\n",
      " [    0.]\n",
      " [    0.]\n",
      " [ 3367.]\n",
      " [ 1871.]\n",
      " [ 1864.]\n",
      " [ 1983.]\n",
      " [ 1985.]\n",
      " [ 1838.]\n",
      " [ 1804.]\n",
      " [ 1891.]\n",
      " [ 1931.]\n",
      " [ 1997.]\n",
      " [ 1972.]\n",
      " [ 1906.]\n",
      " [ 1900.]\n",
      " [ 1889.]\n",
      " [ 1854.]\n",
      " [ 1954.]\n",
      " [ 1950.]\n",
      " [ 2033.]\n",
      " [ 1877.]\n",
      " [ 1882.]\n",
      " [ 1874.]\n",
      " [ 1942.]\n",
      " [ 1945.]\n",
      " [ 1969.]\n",
      " [ 1964.]\n",
      " [ 1934.]\n",
      " [ 1937.]\n",
      " [ 1964.]\n",
      " [ 1934.]\n",
      " [ 1948.]\n",
      " [ 1896.]\n",
      " [ 1894.]\n",
      " [ 1964.]\n",
      " [ 1947.]\n",
      " [ 1994.]\n",
      " [ 2032.]\n",
      " [ 2015.]\n",
      " [ 1916.]\n",
      " [ 1886.]\n",
      " [ 1899.]\n",
      " [ 1876.]]\n",
      "fitting_results:\n",
      "(array([1113.97,   85.11,   -6.98]), array([0.07, 0.  , 0.69]), True, array(1))\n"
     ]
    }
   ],
   "source": [
    "from weights import fit_ols\n",
    "\n",
    "print('we transpose the vector for fitting')\n",
    "X = intended_kin_one_batch_2D.T\n",
    "y = np.reshape(spike_count_one_batch_one_neuron, (-1,1))\n",
    "\n",
    "\n",
    "print('the independent variables are  the intended kin hence, X')\n",
    "print(X)\n",
    "\n",
    "\n",
    "print('the dependent variable is the neuron spike connt, hence y')\n",
    "print(y)\n",
    "\n",
    "results = fit_ols(y, X)\n",
    "\n",
    "print('fitting_results:')\n",
    "print(results)\n"
   ]
  },
  {
   "cell_type": "markdown",
   "metadata": {},
   "source": [
    "## test across the neurons in a batch"
   ]
  },
  {
   "cell_type": "code",
   "execution_count": 56,
   "metadata": {
    "ExecuteTime": {
     "end_time": "2021-03-11T22:02:43.211377Z",
     "start_time": "2021-03-11T22:02:43.199609Z"
    }
   },
   "outputs": [
    {
     "data": {
      "text/plain": [
       "(4, 50)"
      ]
     },
     "execution_count": 56,
     "metadata": {},
     "output_type": "execute_result"
    }
   ],
   "source": [
    "spike_count_one_batch.shape"
   ]
  },
  {
   "cell_type": "code",
   "execution_count": 57,
   "metadata": {
    "ExecuteTime": {
     "end_time": "2021-03-11T22:02:43.224061Z",
     "start_time": "2021-03-11T22:02:43.212192Z"
    }
   },
   "outputs": [
    {
     "name": "stdout",
     "output_type": "stream",
     "text": [
      "the pvalue matrix for a batch\n"
     ]
    },
    {
     "name": "stderr",
     "output_type": "stream",
     "text": [
      "/home/sijia-aw/BMi3D_my/lib/python3.8/site-packages/statsmodels/base/model.py:1294: RuntimeWarning: invalid value encountered in true_divide\n",
      "  return self.params / self.bse\n",
      "/home/sijia-aw/BMi3D_my/lib/python3.8/site-packages/scipy/stats/_distn_infrastructure.py:903: RuntimeWarning: invalid value encountered in greater\n",
      "  return (a < x) & (x < b)\n",
      "/home/sijia-aw/BMi3D_my/lib/python3.8/site-packages/scipy/stats/_distn_infrastructure.py:903: RuntimeWarning: invalid value encountered in less\n",
      "  return (a < x) & (x < b)\n",
      "/home/sijia-aw/BMi3D_my/lib/python3.8/site-packages/scipy/stats/_distn_infrastructure.py:1912: RuntimeWarning: invalid value encountered in less_equal\n",
      "  cond2 = cond0 & (x <= _a)\n",
      "/home/sijia-aw/BMi3D_my/operation_funny_chicken/adaptive_feature_selection/weights.py:218: RuntimeWarning: invalid value encountered in less_equal\n",
      "  sig_test_list = np.where(p_value_array <= significance_level)\n"
     ]
    },
    {
     "data": {
      "text/plain": [
       "array([[0.86, 0.35, 0.  , 0.2 , 0.  ,  nan, 0.55, 0.8 ],\n",
       "       [0.23, 0.24, 0.  , 0.98, 0.36,  nan, 0.  , 0.17]])"
      ]
     },
     "execution_count": 57,
     "metadata": {},
     "output_type": "execute_result"
    }
   ],
   "source": [
    "\n",
    "\n",
    "n_roi_neuron = 0\n",
    "\n",
    "#assume spike_count_one_batch has the shape N_NEURONS by N_time points\n",
    "#assume that intended_kin_one_batch_2D has N_states by N_Time_points\n",
    "\n",
    "'''\n",
    "\n",
    "'''\n",
    "#get intended kinematics this is fixed for each neuron\n",
    "intended_kin_one_batch_2D = intended_kin_one_batch[(X_VEL_STATE_IND, Y_VEL_STATE_IND),:]\n",
    "#('we transpose the vector for fitting')\n",
    "intended_kin_one_batch_2D = intended_kin_one_batch_2D.T\n",
    "spike_count_one_batch = intended_kin_one_batch.T\n",
    "\n",
    "neuron_batch_pvalue_matrix = calc_single_batch_p_values_by_fitting_kinematics_to_spike_counts(spike_count_one_batch,\n",
    "                                                                       intended_kin_one_batch_2D)\n",
    "\n",
    "print(f'the pvalue matrix for a batch')\n",
    "neuron_batch_pvalue_matrix"
   ]
  },
  {
   "cell_type": "code",
   "execution_count": 58,
   "metadata": {
    "ExecuteTime": {
     "end_time": "2021-03-11T22:02:43.235273Z",
     "start_time": "2021-03-11T22:02:43.224922Z"
    },
    "scrolled": true
   },
   "outputs": [
    {
     "name": "stdout",
     "output_type": "stream",
     "text": [
      "test out the calculate_p_value_matrix\n",
      "[[0.   0.   0.  ]\n",
      " [ nan  nan  nan]\n",
      " [0.   0.   0.  ]\n",
      " [0.8  0.   0.08]\n",
      " [ nan  nan  nan]\n",
      " [0.53 0.   0.  ]\n",
      " [0.   0.09 0.16]]\n",
      "\n",
      "for comparision, this is what we just calculated\n"
     ]
    },
    {
     "data": {
      "text/plain": [
       "array([[0.86, 0.35, 0.  , 0.2 , 0.  ,  nan, 0.55, 0.8 ],\n",
       "       [0.23, 0.24, 0.  , 0.98, 0.36,  nan, 0.  , 0.17]])"
      ]
     },
     "execution_count": 58,
     "metadata": {},
     "output_type": "execute_result"
    }
   ],
   "source": [
    "\n",
    "\n",
    "print('test out the calculate_p_value_matrix')\n",
    "\n",
    "calc_p_value_matrix_result = calc_single_batch_p_values_by_fitting_kinematics_to_spike_counts(\n",
    "                            intended_kin_one_batch_2D, \n",
    "                            spike_count_one_batch)\n",
    "print(calc_p_value_matrix_result)\n",
    "print()\n",
    "print('for comparision, this is what we just calculated')\n",
    "neuron_batch_pvalue_matrix"
   ]
  },
  {
   "cell_type": "markdown",
   "metadata": {},
   "source": [
    "## calculate p_values for a different batch"
   ]
  },
  {
   "cell_type": "code",
   "execution_count": 59,
   "metadata": {
    "ExecuteTime": {
     "end_time": "2021-03-11T22:02:43.242743Z",
     "start_time": "2021-03-11T22:02:43.236180Z"
    }
   },
   "outputs": [
    {
     "name": "stdout",
     "output_type": "stream",
     "text": [
      "(2, 50)\n"
     ]
    },
    {
     "data": {
      "text/plain": [
       "(4, 50)"
      ]
     },
     "execution_count": 59,
     "metadata": {},
     "output_type": "execute_result"
    }
   ],
   "source": [
    "# we just take one batch\n",
    "batch_of_interest = 1\n",
    "\n",
    "intended_kin_one_batch = intended_kin[batch_of_interest]\n",
    "intended_kin_one_batch_2D = intended_kin_one_batch[(X_VEL_STATE_IND, Y_VEL_STATE_IND),:]\n",
    "spike_count_one_batch = spike_counts_batch[batch_of_interest]\n",
    "\n",
    "print(intended_kin_one_batch_2D.shape)\n",
    "spike_count_one_batch.shape"
   ]
  },
  {
   "cell_type": "code",
   "execution_count": 60,
   "metadata": {
    "ExecuteTime": {
     "end_time": "2021-03-11T22:02:43.254812Z",
     "start_time": "2021-03-11T22:02:43.243514Z"
    },
    "scrolled": true
   },
   "outputs": [
    {
     "name": "stdout",
     "output_type": "stream",
     "text": [
      "[[0.   0.   0.65]\n",
      " [0.   0.   0.7 ]\n",
      " [0.   0.76 0.  ]\n",
      " [0.   0.55 0.  ]]\n",
      "here, the issues are if any of the rows are linearly dependent\n",
      "the fit just does not work\n"
     ]
    }
   ],
   "source": [
    "# we just take one batch\n",
    "batch_of_interest = 1\n",
    "\n",
    "intended_kin_one_batch = intended_kin[batch_of_interest]\n",
    "intended_kin_one_batch_2D = intended_kin_one_batch[(X_VEL_STATE_IND, Y_VEL_STATE_IND),:].T\n",
    "spike_count_one_batch = spike_counts_batch[batch_of_interest].T\n",
    "\n",
    "\n",
    "\n",
    "\n",
    "calc_p_value_matrix_result = calc_single_batch_p_values_by_fitting_kinematics_to_spike_counts(\n",
    "                            intended_kin_one_batch_2D, \n",
    "                            spike_count_one_batch)\n",
    "\n",
    "print(calc_p_value_matrix_result)\n",
    "print('here, the issues are if any of the rows are linearly dependent')\n",
    "print('the fit just does not work')"
   ]
  },
  {
   "cell_type": "markdown",
   "metadata": {},
   "source": [
    "## calculate p_values across the batches"
   ]
  },
  {
   "cell_type": "code",
   "execution_count": 61,
   "metadata": {
    "ExecuteTime": {
     "end_time": "2021-03-11T22:02:43.265011Z",
     "start_time": "2021-03-11T22:02:43.255571Z"
    }
   },
   "outputs": [
    {
     "name": "stdout",
     "output_type": "stream",
     "text": [
      "(45, 4, 50)\n",
      "(45, 7, 50)\n"
     ]
    }
   ],
   "source": [
    "print(spike_counts_batch.shape)\n",
    "print(intended_kin.shape)"
   ]
  },
  {
   "cell_type": "code",
   "execution_count": 62,
   "metadata": {
    "ExecuteTime": {
     "end_time": "2021-03-11T22:02:43.339778Z",
     "start_time": "2021-03-11T22:02:43.267457Z"
    }
   },
   "outputs": [
    {
     "name": "stdout",
     "output_type": "stream",
     "text": [
      "regress on the states index : 3 and 5\n",
      "we can check the type of the design matrix\n"
     ]
    },
    {
     "data": {
      "text/plain": [
       "(45, 4, 3)"
      ]
     },
     "execution_count": 62,
     "metadata": {},
     "output_type": "execute_result"
    }
   ],
   "source": [
    "\n",
    "\n",
    "batch_pvalue_matrix = calc_p_values_for_spike_batches_use_intended_kin(spike_counts_batch, \n",
    "                                                                       intended_kin)\n",
    "    \n",
    "print('we can check the type of the design matrix')\n",
    "batch_pvalue_matrix.shape"
   ]
  },
  {
   "cell_type": "code",
   "execution_count": 63,
   "metadata": {
    "ExecuteTime": {
     "end_time": "2021-03-11T22:02:43.446583Z",
     "start_time": "2021-03-11T22:02:43.340635Z"
    }
   },
   "outputs": [
    {
     "name": "stdout",
     "output_type": "stream",
     "text": [
      "we look at the batched p_value 0\n"
     ]
    },
    {
     "data": {
      "text/plain": [
       "<matplotlib.legend.Legend at 0x7fcf469b45b0>"
      ]
     },
     "execution_count": 63,
     "metadata": {},
     "output_type": "execute_result"
    },
    {
     "data": {
      "image/png": "[encoded data removed]",
      "text/plain": [
       "<Figure size 432x288 with 1 Axes>"
      ]
     },
     "metadata": {
      "needs_background": "light"
     },
     "output_type": "display_data"
    }
   ],
   "source": [
    "n_roi_neuron = 0\n",
    "print(f'we look at the batched p_value {n_roi_neuron}')\n",
    "batch_pvalue_matrix_neuron = np.squeeze(batch_pvalue_matrix[:,n_roi_neuron,:])\n",
    "\n",
    "plt.plot(batch_pvalue_matrix_neuron)\n",
    "plt.xlabel('update count')\n",
    "plt.legend(['X vel', 'Y vel'])"
   ]
  },
  {
   "cell_type": "code",
   "execution_count": 64,
   "metadata": {
    "ExecuteTime": {
     "end_time": "2021-03-11T22:02:43.765220Z",
     "start_time": "2021-03-11T22:02:43.447454Z"
    },
    "scrolled": false
   },
   "outputs": [
    {
     "data": {
      "image/png": "[encoded data removed]",
      "text/plain": [
       "<Figure size 1152x288 with 4 Axes>"
      ]
     },
     "metadata": {
      "needs_background": "light"
     },
     "output_type": "display_data"
    }
   ],
   "source": [
    "\n",
    "\n",
    "\n",
    "fig, axs = plt.subplots(1,N_NEURONS, figsize = (16,4))\n",
    "\n",
    "for n in range(N_NEURONS):\n",
    "    \n",
    "    \n",
    "    \n",
    "    batch_pvalue_matrix_neuron = np.squeeze(batch_pvalue_matrix[:,n,:])\n",
    "    axs[n].plot(batch_pvalue_matrix_neuron[:,1:])\n",
    "    \n",
    "    \n",
    "    if n == 0: axs[n].legend(['X Vel', 'Y vel'])\n",
    "\n",
    "\n"
   ]
  },
  {
   "cell_type": "markdown",
   "metadata": {},
   "source": [
    "the batch time is small\n",
    "a batch should include at least 4 reaches.\n",
    "very linear. all of a sudden, it gets way.\n",
    "\n",
    "inside target, setting the int to zero. \n",
    "the hold vel is zero.  "
   ]
  },
  {
   "cell_type": "markdown",
   "metadata": {},
   "source": [
    "## compare across conditions"
   ]
  },
  {
   "cell_type": "code",
   "execution_count": 65,
   "metadata": {
    "ExecuteTime": {
     "end_time": "2021-03-11T22:02:43.774520Z",
     "start_time": "2021-03-11T22:02:43.766086Z"
    }
   },
   "outputs": [],
   "source": [
    "for n in range(N_NEURONS):\n",
    "    \n",
    "    \n",
    "    \n",
    "    batch_pvalue_matrix_neuron = np.squeeze(batch_pvalue_matrix[:,n,:])\n",
    "    axs[n].plot(batch_pvalue_matrix_neuron[:,1:])\n",
    "    \n",
    "    \n",
    "    if n == 0: axs[n].legend(['X Vel', 'Y vel'])\n"
   ]
  },
  {
   "cell_type": "markdown",
   "metadata": {},
   "source": [
    "# Summary of this analysis"
   ]
  },
  {
   "cell_type": "markdown",
   "metadata": {},
   "source": [
    "## behaviour"
   ]
  },
  {
   "cell_type": "code",
   "execution_count": 89,
   "metadata": {
    "ExecuteTime": {
     "end_time": "2021-03-11T22:26:18.062971Z",
     "start_time": "2021-03-11T22:26:17.942589Z"
    }
   },
   "outputs": [
    {
     "name": "stdout",
     "output_type": "stream",
     "text": [
      "we can look at trial time\n",
      "Please check, because we fix the covariance value\\\n",
      "the SNR is simply the mean firing rates\n",
      "as expected that, as we increase the mean firing rates, we decrease the training time\n"
     ]
    },
    {
     "data": {
      "image/png": "[encoded data removed]",
      "text/plain": [
       "<Figure size 432x288 with 1 Axes>"
      ]
     },
     "execution_count": 89,
     "metadata": {},
     "output_type": "execute_result"
    }
   ],
   "source": [
    "print('we can look at trial time')\n",
    "print('Please check, because we fix the covariance value\\\\')\n",
    "print('the SNR is simply the mean firing rates')\n",
    "print('as expected that, as we increase the mean firing rates, we decrease the training time')\n",
    "\n",
    "figure_behaviour"
   ]
  },
  {
   "cell_type": "markdown",
   "metadata": {},
   "source": [
    "## decoder analysis"
   ]
  },
  {
   "cell_type": "code",
   "execution_count": 92,
   "metadata": {
    "ExecuteTime": {
     "end_time": "2021-03-11T22:27:35.111355Z",
     "start_time": "2021-03-11T22:27:34.217303Z"
    }
   },
   "outputs": [
    {
     "data": {
      "image/png": "[encoded data removed]",
      "text/plain": [
       "<Figure size 2880x288 with 11 Axes>"
      ]
     },
     "execution_count": 92,
     "metadata": {},
     "output_type": "execute_result"
    }
   ],
   "source": [
    "figure_decoder_c_after"
   ]
  }
 ],
 "metadata": {
  "kernelspec": {
   "display_name": "Python 3",
   "language": "python",
   "name": "python3"
  },
  "language_info": {
   "codemirror_mode": {
    "name": "ipython",
    "version": 3
   },
   "file_extension": ".py",
   "mimetype": "text/x-python",
   "name": "python",
   "nbconvert_exporter": "python",
   "pygments_lexer": "ipython3",
   "version": "3.8.5"
  },
  "toc": {
   "base_numbering": 1,
   "nav_menu": {},
   "number_sections": true,
   "sideBar": true,
   "skip_h1_title": false,
   "title_cell": "Table of Contents",
   "title_sidebar": "Contents",
   "toc_cell": false,
   "toc_position": {
    "height": "600.8px",
    "left": "35px",
    "top": "353.8px",
    "width": "293.1px"
   },
   "toc_section_display": true,
   "toc_window_display": true
  },
  "varInspector": {
   "cols": {
    "lenName": 16,
    "lenType": 16,
    "lenVar": 40
   },
   "kernels_config": {
    "python": {
     "delete_cmd_postfix": "",
     "delete_cmd_prefix": "del ",
     "library": "var_list.py",
     "varRefreshCmd": "print(var_dic_list())"
    },
    "r": {
     "delete_cmd_postfix": ") ",
     "delete_cmd_prefix": "rm(",
     "library": "var_list.r",
     "varRefreshCmd": "cat(var_dic_list()) "
    }
   },
   "types_to_exclude": [
    "module",
    "function",
    "builtin_function_or_method",
    "instance",
    "_Feature"
   ],
   "window_display": false
  }
 },
 "nbformat": 4,
 "nbformat_minor": 4
}
