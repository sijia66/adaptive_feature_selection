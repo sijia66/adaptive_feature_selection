{
 "cells": [
  {
   "cell_type": "markdown",
   "metadata": {},
   "source": [
    "# Purposes of this document\n",
    "\n",
    "the BMI3D implements clda in the form of learner and updater with\n",
    "1. learner collect training samples that are paired from collected features and estiamted intentions. \n",
    "2. the updater is then used to update the decoder specifically Kalman filter's observation matrix. \n",
    "\n",
    "in this experiment, we confirm our understanding that\n",
    "with different batch lengths, \n",
    "our updater actually   observation matrix. \n",
    "\n",
    "the main variables in this loop is \n",
    "1. learner's batch size\n",
    "2. and the updater's rho which controls the amount of mixing between old and new decoder parameters. \n",
    "\n",
    "\n",
    "\n",
    "we are gonna set up with three exps with identical trial sequences. \n",
    "3. 1000 sample lengths. \n",
    "\n",
    "in the end, \n",
    "we will demonstrate the mismatch through\n",
    "1. the rewarded trials and the reward trial rate. \n",
    "2. qualitative comparisions of trajectories. \n",
    "3. the tuning directions of C. and the tracking performance using correlation coefficients"
   ]
  },
  {
   "cell_type": "markdown",
   "metadata": {},
   "source": [
    "# General experimental set up\n",
    "\n",
    "24 out of 24 \n",
    "need measure performance as a function time. \n",
    "how many samples per trial?\n",
    "run simulations longer.\n",
    "how many updates are happening? the rates are the same withtin the tests, but run at different periods of time. \n",
    "\n"
   ]
  },
  {
   "cell_type": "code",
   "execution_count": 1,
   "metadata": {
    "ExecuteTime": {
     "end_time": "2021-02-19T02:04:24.727891Z",
     "start_time": "2021-02-19T02:04:24.668249Z"
    }
   },
   "outputs": [
    {
     "name": "stdout",
     "output_type": "stream",
     "text": [
      "the updater half_life is 1.0\n"
     ]
    }
   ],
   "source": [
    "import numpy as np\n",
    "\n",
    "\n",
    "RHO = 0.5\n",
    "batch_sizes = [10]\n",
    "exp_conds = [f'batch length:{b} s' for b in batch_sizes]\n",
    "\n",
    "\n",
    "# set up assist level\n",
    "assist_level = (0.1, 0)\n",
    "\n",
    "\n",
    "UPDATER_BATCH_TIME = 1\n",
    "UPDATER_HALF_LIFE = np.log(RHO)  * UPDATER_BATCH_TIME / np.log(0.5)\n",
    "\n",
    "print(f'the updater half_life is {UPDATER_HALF_LIFE}')"
   ]
  },
  {
   "cell_type": "code",
   "execution_count": 2,
   "metadata": {
    "ExecuteTime": {
     "end_time": "2021-02-19T02:04:24.730913Z",
     "start_time": "2021-02-19T02:04:24.728797Z"
    }
   },
   "outputs": [],
   "source": [
    "NUM_EXP = len(exp_conds) # how many experiments we are running. \n",
    "#generate task params\n",
    "N_TARGETS = 8\n",
    "N_TRIALS = 8"
   ]
  },
  {
   "cell_type": "markdown",
   "metadata": {},
   "source": [
    "# setting up the simulation components\n",
    "\n",
    "this section largely copyied and pasted from   \n",
    "bmi3d-sijia(branch)-bulti_in_experiemnts\n",
    "https://github.com/sijia66/brain-python-interface/blob/master/built_in_tasks/sim_task_KF.py"
   ]
  },
  {
   "cell_type": "code",
   "execution_count": 3,
   "metadata": {
    "ExecuteTime": {
     "end_time": "2021-02-19T02:04:25.506258Z",
     "start_time": "2021-02-19T02:04:24.731645Z"
    }
   },
   "outputs": [
    {
     "name": "stderr",
     "output_type": "stream",
     "text": [
      "/home/sijia-aw/BMi3D_my/lab_bmi3d/riglib/blackrock/cerelink.py:13: UserWarning: Unable to import cerebus library. Check if is installed if using the Blackrock NeuroPort system\n",
      "  warnings.warn(\"Unable to import cerebus library. Check if is installed if using the Blackrock NeuroPort system\")\n"
     ]
    }
   ],
   "source": [
    "# import libraries\n",
    "# make sure these directories are in the python path., \n",
    "from bmimultitasks import SimBMIControlMulti, SimBMICosEncKFDec, BMIControlMultiNoWindow\n",
    "from features import SaveHDF\n",
    "from features.simulation_features import get_enc_setup, SimKFDecoderRandom, SimCosineTunedEnc,SimIntentionLQRController, SimClockTick\n",
    "from features.simulation_features import SimHDF, SimTime\n",
    "\n",
    "from riglib import experiment\n",
    "\n",
    "from riglib.stereo_opengl.window import FakeWindow\n",
    "from riglib.bmi import train\n",
    "\n",
    "from weights import replace_kalman_filter\n",
    "import weights\n",
    "\n",
    "import time\n",
    "import copy\n",
    "import numpy as np\n",
    "import matplotlib.pyplot as plt\n",
    "import sympy as sp\n",
    "import itertools #for identical sequences\n",
    "\n",
    "np.set_printoptions(precision=2, suppress=True)\n"
   ]
  },
  {
   "cell_type": "markdown",
   "metadata": {},
   "source": [
    "##  set up trial seq"
   ]
  },
  {
   "cell_type": "code",
   "execution_count": 4,
   "metadata": {
    "ExecuteTime": {
     "end_time": "2021-02-19T02:04:25.509349Z",
     "start_time": "2021-02-19T02:04:25.507132Z"
    }
   },
   "outputs": [],
   "source": [
    "seq = SimBMIControlMulti.sim_target_seq_generator_multi(\n",
    "N_TARGETS, N_TRIALS)\n",
    "\n",
    "#create a second version of the tasks\n",
    "seqs = itertools.tee(seq, NUM_EXP + 1)\n",
    "target_seq = list(seqs[NUM_EXP])\n",
    "\n",
    "seqs = seqs[:NUM_EXP]"
   ]
  },
  {
   "cell_type": "markdown",
   "metadata": {},
   "source": [
    "##  simulation encoder decoder setup"
   ]
  },
  {
   "cell_type": "code",
   "execution_count": 5,
   "metadata": {
    "ExecuteTime": {
     "end_time": "2021-02-19T02:04:25.519539Z",
     "start_time": "2021-02-19T02:04:25.510096Z"
    }
   },
   "outputs": [
    {
     "name": "stdout",
     "output_type": "stream",
     "text": [
      "features.simulation_features: get_enc_setup has a tuning_level of 1 \n",
      "\n"
     ]
    }
   ],
   "source": [
    "#clda on random \n",
    "DECODER_MODE = 'random' # random \n",
    "ENCODER_TYPE = 'cosine_tuned_encoder'\n",
    "LEARNER_TYPE = 'feedback' # to dumb or not dumb it is a question 'feedback'\n",
    "UPDATER_TYPE = 'smooth_batch' #none or \"smooth_batch\"\n",
    "\n",
    "\n",
    "SAVE_HDF = False\n",
    "SAVE_SIM_HDF = True #this makes the task data available as exp.task_data_hist\n",
    "DEBUG_FEATURE = False\n",
    "\n",
    "#neuron set up : 'std (20 neurons)' or 'toy (4 neurons)' \n",
    "N_NEURONS, N_STATES, sim_C = get_enc_setup(sim_mode = 'toy')"
   ]
  },
  {
   "cell_type": "markdown",
   "metadata": {},
   "source": [
    "## from the setup options, set up experiment"
   ]
  },
  {
   "cell_type": "code",
   "execution_count": 6,
   "metadata": {
    "ExecuteTime": {
     "end_time": "2021-02-19T02:04:25.535856Z",
     "start_time": "2021-02-19T02:04:25.520443Z"
    }
   },
   "outputs": [
    {
     "name": "stdout",
     "output_type": "stream",
     "text": [
      "__main__: selected SimCosineTunedEnc\n",
      "\n",
      "__main__: set base class \n",
      "__main__: selected SimKFDecoderRandom \n",
      "\n"
     ]
    },
    {
     "data": {
      "text/plain": [
       "[{'assist_level': (0.1, 0),\n",
       "  'sim_C': array([[ 0.,  0.,  0.,  1.,  0.,  0.,  0.],\n",
       "         [ 0.,  0.,  0., -1.,  0.,  0.,  0.],\n",
       "         [ 0.,  0.,  0.,  0.,  0.,  1.,  0.],\n",
       "         [ 0.,  0.,  0.,  0.,  0., -1.,  0.]]),\n",
       "  'batch_size': 10}]"
      ]
     },
     "execution_count": 6,
     "metadata": {},
     "output_type": "execute_result"
    }
   ],
   "source": [
    "\n",
    "\n",
    "#base_class = SimBMIControlMulti\n",
    "base_class = BMIControlMultiNoWindow\n",
    "feats = []\n",
    "\n",
    "#set up intention feedbackcontroller\n",
    "#this ideally set before the encoder\n",
    "feats.append(SimIntentionLQRController)\n",
    "\n",
    "#set up the encoder\n",
    "if ENCODER_TYPE == 'cosine_tuned_encoder' :\n",
    "    feats.append(SimCosineTunedEnc)\n",
    "    print(f'{__name__}: selected SimCosineTunedEnc\\n')\n",
    "    \n",
    "    \n",
    "   #take care the decoder setup\n",
    "if DECODER_MODE == 'random':\n",
    "    feats.append(SimKFDecoderRandom)\n",
    "    print(f'{__name__}: set base class ')\n",
    "    print(f'{__name__}: selected SimKFDecoderRandom \\n')\n",
    "else: #defaul to a cosEnc and a pre-traind KF DEC\n",
    "    from features.simulation_features import SimKFDecoderSup\n",
    "    feats.append(SimKFDecoderSup)\n",
    "    print(f'{__name__}: set decoder to SimKFDecoderSup\\n')\n",
    "    \n",
    "    \n",
    "#you know what? \n",
    "#learner only collects firing rates labeled with estimated estimates\n",
    "#we would also need to use the labeled data\n",
    "#now, we can set up a dumb/or not-dumb learner\n",
    "if LEARNER_TYPE == 'feedback':\n",
    "    from features.simulation_features import SimFeedbackLearner\n",
    "    feats.append(SimFeedbackLearner)\n",
    "else:\n",
    "    from features.simulation_features import SimDumbLearner\n",
    "    feats.append(SimDumbLearner)\n",
    "\n",
    "\n",
    "\n",
    "\n",
    "#to update the decoder.\n",
    "if UPDATER_TYPE == 'smooth_batch':\n",
    "    from features.simulation_features import SimSmoothBatch\n",
    "    feats.append(SimSmoothBatch)\n",
    "else: #defaut to none \n",
    "    print(f'{__name__}: need to specify an updater')\n",
    "    \n",
    "if DEBUG_FEATURE: \n",
    "    from features.simulation_features import DebugFeature\n",
    "    feats.append(DebugFeature)\n",
    "    \n",
    "if SAVE_HDF: feats.append(SaveHDF)\n",
    "if SAVE_SIM_HDF: feats.append(SimHDF)\n",
    "    \n",
    "    \n",
    "#pass the real time limit on clock\n",
    "feats.append(SimClockTick)\n",
    "feats.append(SimTime)\n",
    "\n",
    "\n",
    "kwargs_exps = list()\n",
    "\n",
    "for i in range(NUM_EXP):\n",
    "    d = dict()\n",
    "    \n",
    "    d['assist_level'] = assist_level\n",
    "    d['sim_C'] = sim_C\n",
    "    d['batch_size'] = batch_sizes[i]\n",
    "    \n",
    "    kwargs_exps.append(d)\n",
    "\n",
    "kwargs_exps"
   ]
  },
  {
   "cell_type": "markdown",
   "metadata": {},
   "source": [
    "## seed the exp"
   ]
  },
  {
   "cell_type": "code",
   "execution_count": 7,
   "metadata": {
    "ExecuteTime": {
     "end_time": "2021-02-19T02:04:25.547521Z",
     "start_time": "2021-02-19T02:04:25.538245Z"
    }
   },
   "outputs": [],
   "source": [
    "np.random.seed(0)"
   ]
  },
  {
   "cell_type": "markdown",
   "metadata": {},
   "source": []
  },
  {
   "cell_type": "markdown",
   "metadata": {},
   "source": [
    "## make our experiment class"
   ]
  },
  {
   "cell_type": "code",
   "execution_count": 8,
   "metadata": {
    "ExecuteTime": {
     "end_time": "2021-02-19T02:04:25.557929Z",
     "start_time": "2021-02-19T02:04:25.548361Z"
    }
   },
   "outputs": [
    {
     "name": "stdout",
     "output_type": "stream",
     "text": [
      "metaclass constructor\n",
      "(<class 'features.simulation_features.SimIntentionLQRController'>, <class 'features.simulation_features.SimCosineTunedEnc'>, <class 'features.simulation_features.SimKFDecoderRandom'>, <class 'features.simulation_features.SimFeedbackLearner'>, <class 'features.simulation_features.SimSmoothBatch'>, <class 'features.simulation_features.SimHDF'>, <class 'features.simulation_features.SimClockTick'>, <class 'features.simulation_features.SimTime'>, <class 'bmimultitasks.BMIControlMultiNoWindow'>)\n",
      "[<class 'features.simulation_features.SimIntentionLQRController'>, <class 'features.simulation_features.SimCosineTunedEnc'>, <class 'features.simulation_features.SimKFDecoderRandom'>, <class 'features.simulation_features.SimFeedbackLearner'>, <class 'features.simulation_features.SimSmoothBatch'>, <class 'features.simulation_features.SimHDF'>, <class 'features.simulation_features.SimClockTick'>, <class 'features.simulation_features.SimTime'>]\n"
     ]
    }
   ],
   "source": [
    "#spawn the task\n",
    "Exp = experiment.make(base_class, feats=feats)\n"
   ]
  },
  {
   "cell_type": "markdown",
   "metadata": {},
   "source": [
    "# creat experiments with different C batch lengths"
   ]
  },
  {
   "cell_type": "markdown",
   "metadata": {},
   "source": [
    "## create exps"
   ]
  },
  {
   "cell_type": "code",
   "execution_count": 9,
   "metadata": {
    "ExecuteTime": {
     "end_time": "2021-02-19T02:04:25.577750Z",
     "start_time": "2021-02-19T02:04:25.558825Z"
    },
    "scrolled": true
   },
   "outputs": [
    {
     "name": "stdout",
     "output_type": "stream",
     "text": [
      "\n",
      "features.simulation_features.SimIntentionLQRController: LQRController used \n",
      "\n",
      "\n",
      " features.simulation_features.SimFeedbackLearner: start to create a sim leaner with a batchsize of 10\n",
      "features.simulation_features.SimSmoothBatch: rho in this simulation is  0.9885140203528962\n",
      "\n",
      "finished executing Experiment.__init__\n"
     ]
    }
   ],
   "source": [
    "exps = list()#create a list of experiment\n",
    "\n",
    "for i,s in enumerate(seqs):\n",
    "    e = Exp(s, **kwargs_exps[i])\n",
    "    exps.append(e)"
   ]
  },
  {
   "cell_type": "code",
   "execution_count": 10,
   "metadata": {
    "ExecuteTime": {
     "end_time": "2021-02-19T02:04:25.583133Z",
     "start_time": "2021-02-19T02:04:25.578799Z"
    },
    "scrolled": true
   },
   "outputs": [
    {
     "name": "stdout",
     "output_type": "stream",
     "text": [
      "\n",
      "SimCosineTunedEnc SSM: State space: ['hand_px', 'hand_py', 'hand_pz', 'hand_vx', 'hand_vy', 'hand_vz', 'offset'] \n",
      "\n",
      "neural encoder init function  <BMIControlMultiNoWindow(Thread-4, initial)>\n",
      "features.simulation_features: added tracking of K matrix\n",
      "<bmimultitasks.SimpleEndpointAssister object at 0x7f1737fb6760>\n",
      "features.simulation_features: batch size is 10\n",
      "Reset states for learner: \n",
      "[]\n",
      "Done states for learner: \n",
      "[]\n",
      "\n",
      "features.simulation_features.SimFeedbackLearner: flip the self.learn_flag to true\n",
      "features.simulation_features.SimFeedbackLearner: succussfully created a feedback controller learner\n",
      "\n",
      "\n",
      "SimSmoothBatch: created an updater with a batch time of 1 and a half_life of 60 \n",
      "\n"
     ]
    }
   ],
   "source": [
    "for e in exps: e.init()"
   ]
  },
  {
   "cell_type": "markdown",
   "metadata": {},
   "source": [
    "## create the three batch sizes"
   ]
  },
  {
   "cell_type": "code",
   "execution_count": 11,
   "metadata": {
    "ExecuteTime": {
     "end_time": "2021-02-19T02:04:25.591686Z",
     "start_time": "2021-02-19T02:04:25.583955Z"
    }
   },
   "outputs": [
    {
     "name": "stdout",
     "output_type": "stream",
     "text": [
      "10\n"
     ]
    }
   ],
   "source": [
    "#before\n",
    "for i,e in enumerate(exps):\n",
    "    print(e.batch_size)"
   ]
  },
  {
   "cell_type": "markdown",
   "metadata": {},
   "source": [
    "## check the Kalman filter before training"
   ]
  },
  {
   "cell_type": "code",
   "execution_count": 12,
   "metadata": {
    "ExecuteTime": {
     "end_time": "2021-02-19T02:04:25.726538Z",
     "start_time": "2021-02-19T02:04:25.592609Z"
    }
   },
   "outputs": [
    {
     "data": {
      "image/png": "[encoded data removed]",
      "text/plain": [
       "<Figure size 432x288 with 1 Axes>"
      ]
     },
     "metadata": {
      "needs_background": "light"
     },
     "output_type": "display_data"
    }
   ],
   "source": [
    "for e in exps:\n",
    "    e.decoder.plot_K()"
   ]
  },
  {
   "cell_type": "markdown",
   "metadata": {},
   "source": [
    "# assemble into a complete loop"
   ]
  },
  {
   "cell_type": "code",
   "execution_count": 13,
   "metadata": {
    "ExecuteTime": {
     "end_time": "2021-02-19T02:04:25.738190Z",
     "start_time": "2021-02-19T02:04:25.727624Z"
    },
    "scrolled": true
   },
   "outputs": [],
   "source": [
    "#make this into a loop\n",
    "\n",
    "def run_exp_loop(exp,  **kwargs):\n",
    "        # riglib.experiment: line 597 - 601\n",
    "    #exp.next_trial = next(exp.gen)\n",
    "    # -+exp._parse_next_trial()np.arraynp.array\n",
    "\n",
    "\n",
    "    # we need to set the initial state\n",
    "    # per fsm.run:  line 138\n",
    "\n",
    "\n",
    "    # Initialize the FSM before the loop\n",
    "    exp.set_state(exp.state)\n",
    "    \n",
    "    finished_trials = exp.calc_state_occurrences('wait')\n",
    "    print(f'finished: {finished_trials}')\n",
    "\n",
    "\n",
    "    while exp.state is not None:\n",
    "\n",
    "        # exp.fsm_tick()\n",
    "\n",
    "        ### Execute commands#####\n",
    "        exp.exec_state_specific_actions(exp.state)\n",
    "\n",
    "        ###run the bmi loop #####\n",
    "        # _cycle\n",
    "\n",
    "        # bmi feature extraction, eh\n",
    "        #riglib.bmi: 1202\n",
    "        feature_data = exp.get_features()\n",
    "\n",
    "        # Determine the target_state and save to file\n",
    "        current_assist_level = exp.get_current_assist_level()\n",
    "        target_state = exp.get_target_BMI_state(exp.decoder.states)\n",
    "\n",
    "        # Determine the assistive control inputs to the Decoder\n",
    "        #update assistive control level\n",
    "        exp.update_level()\n",
    "        if np.any(current_assist_level) > 0:\n",
    "            current_state = exp.get_current_state()\n",
    "\n",
    "            if target_state.shape[1] > 1:\n",
    "                assist_kwargs = exp.assister(current_state, \n",
    "                                             target_state[:,0].reshape(-1,1), \n",
    "                                             current_assist_level, mode= exp.state)\n",
    "            else:\n",
    "                assist_kwargs = exp.assister(current_state, \n",
    "                                              target_state, \n",
    "                                              current_assist_level, \n",
    "                                              mode= exp.state)\n",
    "\n",
    "            kwargs.update(assist_kwargs)\n",
    "            \n",
    "        \n",
    "\n",
    "        # decode the new features\n",
    "        # riglib.bmi.bmiloop: line 1245\n",
    "        neural_features = feature_data[exp.extractor.feature_type]\n",
    "\n",
    "        # call decoder.\n",
    "        #tmp = exp.call_decoder(neural_features, target_state, **kwargs)\n",
    "        neural_obs = neural_features\n",
    "        learn_flag = exp.learn_flag\n",
    "        task_state = exp.state\n",
    "\n",
    "        n_units, n_obs = neural_obs.shape\n",
    "        # If the target is specified as a 1D position, tile to match\n",
    "        # the number of dimensions as the neural features\n",
    "        if np.ndim(target_state) == 1 or (target_state.shape[1] == 1 and n_obs > 1):\n",
    "            target_state = np.tile(target_state, [1, n_obs])\n",
    "\n",
    "        decoded_states = np.zeros([exp.bmi_system.decoder.n_states, n_obs])\n",
    "        update_flag = False\n",
    "\n",
    "        for k in range(n_obs):\n",
    "            neural_obs_k = neural_obs[:, k].reshape(-1, 1)\n",
    "            target_state_k = target_state[:, k]\n",
    "\n",
    "            # NOTE: the conditional below is *only* for compatibility with older Carmena\n",
    "            # lab data collected using a different MATLAB-based system. In all python cases,\n",
    "            # the task_state should never contain NaN values.\n",
    "            if np.any(np.isnan(target_state_k)):\n",
    "                task_state = 'no_target'\n",
    "\n",
    "            #################################\n",
    "            # Decode the current observation\n",
    "            #################################\n",
    "            decodable_obs, decode = exp.bmi_system.feature_accumulator(\n",
    "                neural_obs_k)\n",
    "            if decode:  # if a new decodable observation is available from the feature accumulator\n",
    "                prev_state = exp.bmi_system.decoder.get_state()\n",
    "\n",
    "                exp.bmi_system.decoder(decodable_obs, **kwargs)\n",
    "                # Determine whether the current state or previous state should be given to the learner\n",
    "                if exp.bmi_system.learner.input_state_index == 0:\n",
    "                    learner_state = exp.bmi_system.decoder.get_state()\n",
    "                elif exp.bmi_system.learner.input_state_index == -1:\n",
    "                    learner_state = prev_state\n",
    "                else:\n",
    "                    print((\"Not implemented yet: %d\" %\n",
    "                           exp.bmi_system.learner.input_state_index))\n",
    "                    learner_state = prev_state\n",
    "\n",
    "                if learn_flag:\n",
    "                    exp.bmi_system.learner(decodable_obs.copy(), learner_state, target_state_k, exp.bmi_system.decoder.get_state(\n",
    "                    ), task_state, state_order=exp.bmi_system.decoder.ssm.state_order)\n",
    "\n",
    "            decoded_states[:, k] = exp.bmi_system.decoder.get_state()\n",
    "\n",
    "            ############################\n",
    "            # Update decoder parameters\n",
    "            ############################\n",
    "            if exp.bmi_system.learner.is_ready():\n",
    "                batch_data = exp.bmi_system.learner.get_batch()\n",
    "                batch_data['decoder'] = exp.bmi_system.decoder\n",
    "                kwargs.update(batch_data)\n",
    "                exp.bmi_system.updater(**kwargs)\n",
    "                exp.bmi_system.learner.disable()\n",
    "\n",
    "            new_params = None  # by default, no new parameters are available\n",
    "            if exp.bmi_system.has_updater:\n",
    "                new_params = copy.deepcopy(exp.bmi_system.updater.get_result())\n",
    "\n",
    "            # Update the decoder if new parameters are available\n",
    "            if not (new_params is None):\n",
    "                exp.bmi_system.decoder.update_params(\n",
    "                    new_params, **exp.bmi_system.updater.update_kwargs)\n",
    "                new_params['intended_kin'] = batch_data['intended_kin']\n",
    "                new_params['spike_counts_batch'] = batch_data['spike_counts']\n",
    "\n",
    "                exp.bmi_system.learner.enable()\n",
    "                update_flag = True\n",
    "\n",
    "                # Save new parameters to parameter history\n",
    "                exp.bmi_system.param_hist.append(new_params)\n",
    "\n",
    "\n",
    "\n",
    "        # saved as task data\n",
    "        # return decoded_states, update_flag\n",
    "        tmp = decoded_states\n",
    "        exp.task_data['internal_decoder_state'] = tmp\n",
    "\n",
    "        # reset the plant position\n",
    "        # @riglib.bmi.BMILoop.move_plant  line:1254\n",
    "        exp.plant.drive(exp.decoder)\n",
    "\n",
    "        # check state transitions and run the FSM.\n",
    "        current_state = exp.state\n",
    "\n",
    "        # iterate over the possible events which could move the task out of the current state\n",
    "        for event in exp.status[current_state]:\n",
    "            # if the event has occurred\n",
    "            if exp.test_state_transition_event(event):\n",
    "                # execute commands to end the current state\n",
    "                exp.end_state(current_state)\n",
    "\n",
    "                # trigger the transition for the event\n",
    "                exp.trigger_event(event)\n",
    "\n",
    "                # stop searching for transition events (transition events must be\n",
    "                # mutually exclusive for this FSM to function properly)\n",
    "                break\n",
    "\n",
    "        # sort out the loop params.\n",
    "        # inc cycle count\n",
    "        exp.cycle_count += 1\n",
    "\n",
    "        # save target data as was done in manualControlTasks._cycle\n",
    "        exp.task_data['target'] = exp.target_location.copy()\n",
    "        exp.task_data['target_index'] = exp.target_index\n",
    "\n",
    "        #done in bmi:_cycle after move_plant\n",
    "        exp.task_data['loop_time'] = exp.iter_time()\n",
    "\n",
    "\n",
    "        #fb_controller data\n",
    "        exp.task_data['target_state'] = target_state\n",
    "\n",
    "        #encoder data\n",
    "        #input to this is actually extractor\n",
    "        exp.task_data['ctrl_input'] = np.reshape(exp.extractor.sim_ctrl, (1,-1))\n",
    "\n",
    "        #actually output\n",
    "        exp.task_data['spike_counts'] = feature_data['spike_counts']\n",
    "\n",
    "\n",
    "        #save the decoder_state\n",
    "        #from BMILoop.move_plant\n",
    "        exp.task_data['decoder_state'] = exp.decoder.get_state(shape=(-1,1))\n",
    "        \n",
    "        #save bmi_data\n",
    "        exp.task_data['update_bmi'] = update_flag\n",
    "\n",
    "\n",
    "        # as well as plant data.\n",
    "        plant_data = exp.plant.get_data_to_save()\n",
    "        for key in plant_data:\n",
    "            exp.task_data[key] = plant_data[key]\n",
    "\n",
    "        # clda data handled in the above call.\n",
    "\n",
    "        # save to the list hisory of data.\n",
    "        exp.task_data_hist.append(exp.task_data.copy())\n",
    "        \n",
    "        #print out the trial update whenever wait count changes, alright. \n",
    "        if finished_trials != exp.calc_state_occurrences('wait'):\n",
    "            finished_trials = exp.calc_state_occurrences('wait')\n",
    "            print(f'finished trials :{finished_trials} with a current assist level of {exp.get_current_assist_level()}')\n",
    "\n",
    "\n",
    "    if exp.verbose:\n",
    "        print(\"end of FSM.run, task state is\", exp.state)\n",
    "    \n",
    "    \n"
   ]
  },
  {
   "cell_type": "code",
   "execution_count": 14,
   "metadata": {
    "ExecuteTime": {
     "end_time": "2021-02-19T02:06:03.511194Z",
     "start_time": "2021-02-19T02:04:25.739180Z"
    }
   },
   "outputs": [
    {
     "name": "stdout",
     "output_type": "stream",
     "text": [
      "runseq\n",
      "finished: 1\n",
      "assist_level:  0.1\n"
     ]
    },
    {
     "name": "stderr",
     "output_type": "stream",
     "text": [
      "/home/sijia-aw/BMi3D_my/lab_bmi3d/riglib/bmi/kfdecoder.py:372: FutureWarning: `rcond` parameter will change to the default of machine precision times ``max(M, N)`` where M and N are the input matrix dimensions.\n",
      "To use the future default and silence this warning we advise to pass `rcond=None`, to keep using the old, explicitly pass `rcond=-1`.\n",
      "  C = np.mat(np.linalg.lstsq(X.T, Y.T)[0].T)\n"
     ]
    },
    {
     "name": "stdout",
     "output_type": "stream",
     "text": [
      "assist_level:  0.09\n",
      "finished trials :2 with a current assist level of 0.08154166666666668\n",
      "assist_level:  0.08\n",
      "assist_level:  0.07\n",
      "finished trials :3 with a current assist level of 0.06313888888888888\n",
      "assist_level:  0.06\n",
      "assist_level:  0.05\n",
      "finished trials :4 with a current assist level of 0.04471944444444445\n",
      "assist_level:  0.04000000000000001\n",
      "assist_level:  0.030000000000000013\n",
      "finished trials :5 with a current assist level of 0.026300000000000004\n",
      "assist_level:  0.01999999999999999\n",
      "assist_level:  0.009999999999999995\n",
      "finished trials :6 with a current assist level of 0.007880555555555543\n",
      "assist_level at final value after 0 successful trials\n",
      "finished trials :7 with a current assist level of 0.0\n",
      "finished trials :8 with a current assist level of 0.0\n",
      "finished trials :9 with a current assist level of 0.0\n",
      "end of FSM.run, task state is None\n",
      "Finished running  batch length:10 s\n"
     ]
    }
   ],
   "source": [
    "for i,e in enumerate(exps):\n",
    "    run_exp_loop(e, **kwargs_exps[i])\n",
    "    print(f'Finished running  {exp_conds[i]}')"
   ]
  },
  {
   "cell_type": "markdown",
   "metadata": {
    "ExecuteTime": {
     "end_time": "2021-01-25T01:00:26.027506Z",
     "start_time": "2021-01-25T01:00:26.024320Z"
    }
   },
   "source": [
    "# Preprocess the data for loading"
   ]
  },
  {
   "cell_type": "code",
   "execution_count": 15,
   "metadata": {
    "ExecuteTime": {
     "end_time": "2021-02-19T02:06:03.513943Z",
     "start_time": "2021-02-19T02:06:03.512025Z"
    }
   },
   "outputs": [
    {
     "name": "stdout",
     "output_type": "stream",
     "text": [
      "0\n"
     ]
    }
   ],
   "source": [
    "for e in  exps: print(e.calc_state_occurrences('reward'))"
   ]
  },
  {
   "cell_type": "markdown",
   "metadata": {},
   "source": [
    "## declare defs and conventions"
   ]
  },
  {
   "cell_type": "code",
   "execution_count": 16,
   "metadata": {
    "ExecuteTime": {
     "end_time": "2021-02-19T02:06:03.523723Z",
     "start_time": "2021-02-19T02:06:03.514723Z"
    }
   },
   "outputs": [],
   "source": [
    "FRAME_RATE = 60\n",
    "INT_WINDOW_TIME = 10 # s for looking at sample raw data\n",
    "\n",
    "# some conventions as we go down the loop\n",
    "X_VEL_STATE_IND = 3\n",
    "Y_VEL_STATE_IND = 5\n",
    "X_POS_STATE_IND = 0\n",
    "Y_POS_STATE_IND = 2\n",
    "\n",
    "state_indices = [X_POS_STATE_IND,\n",
    "                 Y_POS_STATE_IND,\n",
    "                 X_VEL_STATE_IND,\n",
    "                 Y_VEL_STATE_IND]\n",
    "state_names = ['x pos ', 'y pos', 'x vel', 'y vel']\n",
    "\n",
    "\n",
    "INT_WIN_SAMPLES = INT_WINDOW_TIME * FRAME_RATE\n",
    "\n"
   ]
  },
  {
   "cell_type": "markdown",
   "metadata": {},
   "source": [
    "## Quick look at the cursor trajectories"
   ]
  },
  {
   "cell_type": "code",
   "execution_count": 17,
   "metadata": {
    "ExecuteTime": {
     "end_time": "2021-02-19T02:06:03.597396Z",
     "start_time": "2021-02-19T02:06:03.524625Z"
    }
   },
   "outputs": [
    {
     "data": {
      "text/plain": [
       "dtype([('cursor', '<f8', (3,)), ('obs_t', '<f8', (4, 1)), ('K', '<f8', (7, 4)), ('KC', '<f8', (7, 7)), ('pred_state_mean', '<f8', (7, 1)), ('post_state_mean', '<f8', (7, 1)), ('pred_state_P', '<f8', (7, 7)), ('post_state_P', '<f8', (7, 7)), ('loop_time', '<f8', (1,)), ('decoder_state', '<f8', (7, 1)), ('internal_decoder_state', '<f8', (7, 1)), ('target_state', '<f8', (7, 1)), ('update_bmi', '<f8', (1,)), ('spike_counts', '<f8', (4, 1)), ('bin_edges', '<f8', (2,)), ('ctrl_input', '<f8', (7,)), ('assist_level', '<f8', (1,)), ('target', '<f8', (3,)), ('target_index', '<i4', (1,))])"
      ]
     },
     "execution_count": 17,
     "metadata": {},
     "output_type": "execute_result"
    }
   ],
   "source": [
    "task_data_hist_np_all = [np.array(e.task_data_hist) for e in exps]\n",
    "len(task_data_hist_np_all)\n",
    "task_data_hist_np_all[0].dtype"
   ]
  },
  {
   "cell_type": "markdown",
   "metadata": {},
   "source": [
    "## segment data into trials"
   ]
  },
  {
   "cell_type": "code",
   "execution_count": 18,
   "metadata": {
    "ExecuteTime": {
     "end_time": "2021-02-19T02:06:03.601535Z",
     "start_time": "2021-02-19T02:06:03.598320Z"
    }
   },
   "outputs": [],
   "source": [
    "def filter_state(state_log:list, state_to_match:str)->list:\n",
    "    '''#set axis limits of plot (x=0 to 20, y=0 to 20)\n",
    "plt.axis([0, 20, 0, 20])\n",
    "plt.axis(\"equal\")\n",
    "\n",
    "    state_log: a list of tuples (state:string, start_time: float)\n",
    "    state_to_watch\n",
    "    \n",
    "    returns a list of element type\n",
    "    '''\n",
    "    \n",
    "    return list(filter(lambda k: k[0] == state_to_match, state_log) )\n",
    "\n",
    "def calc_inter_wait_times(wait_log: list)-> list:\n",
    "    \"\"\"\n",
    "    state_log: a list of tuples (\"wait\", start_time: float)\n",
    "    return a list of tuples: (\"wait\", start_time: float, diff_time)\n",
    "    \"\"\"\n",
    "    wait_log_with_diff = list()\n",
    "    for i, wait_state in enumerate(wait_log):\n",
    "        if i == len(wait_log)-1: #there is nothing to subtract, just put zero.\n",
    "            wait_log_with_diff.append((wait_state[1],  0))\n",
    "            \n",
    "        else:\n",
    "            finish_time = wait_log[i+1][1]\n",
    "            wait_log_with_diff.append((wait_state[1],  finish_time - wait_state[1]))\n",
    "    \n",
    "    return np.array(wait_log_with_diff[:-1])"
   ]
  },
  {
   "cell_type": "code",
   "execution_count": 19,
   "metadata": {
    "ExecuteTime": {
     "end_time": "2021-02-19T02:06:03.614279Z",
     "start_time": "2021-02-19T02:06:03.602506Z"
    }
   },
   "outputs": [],
   "source": [
    "state_logs = [e.state_log for e in exps]\n"
   ]
  },
  {
   "cell_type": "code",
   "execution_count": 20,
   "metadata": {
    "ExecuteTime": {
     "end_time": "2021-02-19T02:06:03.624240Z",
     "start_time": "2021-02-19T02:06:03.615241Z"
    }
   },
   "outputs": [],
   "source": [
    "STATE_CUT_NAME =  'wait'\n",
    "#get the state logs\n",
    "wait_logs = [filter_state(s, STATE_CUT_NAME) for s in state_logs]\n",
    "\n",
    "inter_wait_times = [calc_inter_wait_times(w) for w in wait_logs]\n",
    "#this has both start times "
   ]
  },
  {
   "cell_type": "code",
   "execution_count": 21,
   "metadata": {
    "ExecuteTime": {
     "end_time": "2021-02-19T02:06:03.739660Z",
     "start_time": "2021-02-19T02:06:03.625085Z"
    },
    "scrolled": true
   },
   "outputs": [
    {
     "data": {
      "text/plain": [
       "Text(0, 0.5, 'Trial time (s)')"
      ]
     },
     "execution_count": 21,
     "metadata": {},
     "output_type": "execute_result"
    },
    {
     "data": {
      "image/png": "[encoded data removed]",
      "text/plain": [
       "<Figure size 432x288 with 1 Axes>"
      ]
     },
     "metadata": {
      "needs_background": "light"
     },
     "output_type": "display_data"
    }
   ],
   "source": [
    "\n",
    "\n",
    "for i in inter_wait_times:\n",
    "    plt.scatter(i[:,0], i[:,1])\n",
    "\n",
    "plt.legend(exp_conds)\n",
    "plt.xlabel('Training progression(s)')\n",
    "plt.ylabel('Trial time (s)')"
   ]
  },
  {
   "cell_type": "code",
   "execution_count": 22,
   "metadata": {
    "ExecuteTime": {
     "end_time": "2021-02-19T02:06:03.742729Z",
     "start_time": "2021-02-19T02:06:03.740499Z"
    }
   },
   "outputs": [
    {
     "data": {
      "text/plain": [
       "60"
      ]
     },
     "execution_count": 22,
     "metadata": {},
     "output_type": "execute_result"
    }
   ],
   "source": [
    "wait_time = inter_wait_times[0]\n",
    "task_data_hist_np = task_data_hist_np_all[0]\n",
    "FRAME_RATE\n"
   ]
  },
  {
   "cell_type": "code",
   "execution_count": 23,
   "metadata": {
    "ExecuteTime": {
     "end_time": "2021-02-19T02:06:03.752290Z",
     "start_time": "2021-02-19T02:06:03.745050Z"
    }
   },
   "outputs": [],
   "source": [
    "def sort_trials(wait_time:list, \n",
    "                target_seq:list,\n",
    "                task_data_hist_np:dict, \n",
    "                dict_keys, FRAME_RATE = 60):\n",
    "    trial_dict = list()\n",
    "    \n",
    "    for i,row in enumerate(wait_time):\n",
    "        start_time = row[0]\n",
    "        inter_wait_time = row[1]\n",
    "\n",
    "        start_sample = int(start_time * FRAME_RATE)\n",
    "        inter_wait_sample = int(inter_wait_time * FRAME_RATE)\n",
    "        stop_sample = start_sample + inter_wait_sample\n",
    "\n",
    "        single_trial_dict = dict()\n",
    "\n",
    "        for k in dict_keys:\n",
    "            \n",
    "            requested_type_data = np.squeeze(task_data_hist_np[k])\n",
    "            single_trial_dict[k] =  requested_type_data[start_sample:stop_sample,\n",
    "                                                       :]\n",
    "        #add more info\n",
    "        single_trial_dict['start_time'] = row[0]\n",
    "        single_trial_dict['inter_wait_time'] = row[1]\n",
    "        \n",
    "        #add target info\n",
    "        single_trial_dict['targets'] = target_seq[i]\n",
    "\n",
    "        #add the dictionary to the list\n",
    "        trial_dict.append(single_trial_dict)\n",
    "        \n",
    "    return trial_dict\n",
    "\n"
   ]
  },
  {
   "cell_type": "code",
   "execution_count": 24,
   "metadata": {
    "ExecuteTime": {
     "end_time": "2021-02-19T02:06:03.765101Z",
     "start_time": "2021-02-19T02:06:03.753738Z"
    }
   },
   "outputs": [
    {
     "data": {
      "text/plain": [
       "1"
      ]
     },
     "execution_count": 24,
     "metadata": {},
     "output_type": "execute_result"
    }
   ],
   "source": [
    "\n",
    "\n",
    "trial_dicts_all = []\n",
    "dict_keys = ['cursor', 'decoder_state', 'ctrl_input']\n",
    "\n",
    "for i in range(NUM_EXP):\n",
    "    wait_time = inter_wait_times[i]\n",
    "    task_data_hist_np = task_data_hist_np_all[i]\n",
    "    \n",
    "    trial_dict_0 = sort_trials(wait_time, \n",
    "                               target_seq,\n",
    "                               task_data_hist_np, dict_keys)\n",
    "    \n",
    "    trial_dicts_all.append(trial_dict_0)\n",
    "\n",
    "len(trial_dicts_all)"
   ]
  },
  {
   "cell_type": "code",
   "execution_count": 25,
   "metadata": {
    "ExecuteTime": {
     "end_time": "2021-02-19T02:06:03.871229Z",
     "start_time": "2021-02-19T02:06:03.765904Z"
    }
   },
   "outputs": [
    {
     "data": {
      "image/png": "[encoded data removed]",
      "text/plain": [
       "<Figure size 432x288 with 1 Axes>"
      ]
     },
     "metadata": {
      "needs_background": "light"
     },
     "output_type": "display_data"
    }
   ],
   "source": [
    "n_roi_trials = 0\n",
    "unique_targets =  np.unique(target_seq, axis = 0)\n",
    "\n",
    "\n",
    "X_CURSOR = 0\n",
    "Z_CURSOR = 2\n",
    "CIRCL_ALPHA = 0.2\n",
    "\n",
    "\n",
    "\n",
    "RANGE_LIM =  15\n",
    "figure, axes = plt.subplots() \n",
    "\n",
    "axes.set_xlim(-RANGE_LIM, RANGE_LIM)\n",
    "axes.set_ylim(-RANGE_LIM, RANGE_LIM)\n",
    "\n",
    "CIRCLE_RADIUS = exps[0].target_radius\n",
    "\n",
    "#plot the targets\n",
    "\n",
    "#plot the origin\n",
    "\n",
    "cc = plt.Circle((0,0 ), \n",
    "            radius = CIRCLE_RADIUS,\n",
    "            alpha = CIRCL_ALPHA)\n",
    "\n",
    "axes.add_artist( cc ) \n",
    "\n",
    "for origin_t in unique_targets:\n",
    "    origin = origin_t[0]\n",
    "    t = origin_t[1]\n",
    "\n",
    "    cc = plt.Circle((t[X_CURSOR],t[Z_CURSOR] ), \n",
    "                    radius = CIRCLE_RADIUS,\n",
    "                    alpha = CIRCL_ALPHA)\n",
    "                     \n",
    "    axes.set_aspect( 1 ) \n",
    "    axes.add_artist( cc ) \n",
    "    \n",
    "    \n",
    "for trial_dict in trial_dicts_all:\n",
    "    \n",
    "    sample_trial = trial_dict[n_roi_trials]\n",
    "    trial_cursor_trajectory = sample_trial['cursor']\n",
    "    \n",
    "    \n",
    "    axes.plot(trial_cursor_trajectory[:, X_CURSOR], \n",
    "             trial_cursor_trajectory[:, Z_CURSOR])\n",
    "    \n",
    "\n"
   ]
  },
  {
   "cell_type": "code",
   "execution_count": 26,
   "metadata": {
    "ExecuteTime": {
     "end_time": "2021-02-19T02:06:03.874252Z",
     "start_time": "2021-02-19T02:06:03.872233Z"
    },
    "scrolled": true
   },
   "outputs": [
    {
     "name": "stdout",
     "output_type": "stream",
     "text": [
      "finished trials \n",
      "batch length:10 s: 0 out of 8\n"
     ]
    }
   ],
   "source": [
    "print('finished trials ')\n",
    "\n",
    "for i,e in  enumerate(exps): \n",
    "    reward_num = e.calc_state_occurrences('reward')\n",
    "    print(f'{exp_conds[i]}: {reward_num} out of {N_TRIALS}')"
   ]
  },
  {
   "cell_type": "code",
   "execution_count": 27,
   "metadata": {
    "ExecuteTime": {
     "end_time": "2021-02-19T02:06:03.886222Z",
     "start_time": "2021-02-19T02:06:03.875071Z"
    }
   },
   "outputs": [
    {
     "data": {
      "text/plain": [
       "{'cursor': array([[-14.  ,   0.  ,  14.  ],\n",
       "        [-14.  ,   0.  ,  14.  ],\n",
       "        [-14.  ,   0.  ,  14.  ],\n",
       "        ...,\n",
       "        [ 14.  ,   0.  ,  -7.65],\n",
       "        [ 14.  ,   0.  ,  -7.51],\n",
       "        [ 14.  ,   0.  ,  -7.51]]),\n",
       " 'decoder_state': array([[-14.  ,   0.  ,  14.  , ...,   0.  ,   0.  ,   1.  ],\n",
       "        [-14.  ,   0.  ,  14.  , ...,   0.  ,   0.  ,   1.  ],\n",
       "        [-14.  ,   0.  ,  14.  , ...,   0.  ,   0.  ,   1.  ],\n",
       "        ...,\n",
       "        [ 14.  ,   0.  ,  -7.65, ...,   0.  ,  -4.1 ,   1.  ],\n",
       "        [ 14.  ,   0.  ,  -7.51, ...,   0.  ,  -2.1 ,   1.  ],\n",
       "        [ 14.  ,   0.  ,  -7.51, ...,   0.  ,  -2.1 ,   1.  ]]),\n",
       " 'ctrl_input': array([[-14.  ,   0.  ,  14.  , ...,   0.  , -12.04,   1.  ],\n",
       "        [-14.  ,   0.  ,  14.  , ...,   0.  , -12.04,   1.  ],\n",
       "        [-14.  ,   0.  ,  14.  , ...,   0.  , -12.04,   1.  ],\n",
       "        ...,\n",
       "        [ 14.  ,   0.  ,  -8.06, ...,   0.  ,   4.51,   1.  ],\n",
       "        [ 14.  ,   0.  ,  -8.06, ...,   0.  ,   4.51,   1.  ],\n",
       "        [ 14.  ,   0.  ,  -7.72, ...,   0.  ,   5.39,   1.  ]]),\n",
       " 'start_time': 769.2166666666667,\n",
       " 'inter_wait_time': 110.51666666666665,\n",
       " 'targets': array([[ 0.  ,  0.  ,  0.  ],\n",
       "        [ 5.66,  0.  , -5.66]])}"
      ]
     },
     "execution_count": 27,
     "metadata": {},
     "output_type": "execute_result"
    }
   ],
   "source": [
    "trial_dicts_all[0][-1]"
   ]
  },
  {
   "cell_type": "markdown",
   "metadata": {},
   "source": [
    "### examine the tuning curves"
   ]
  },
  {
   "cell_type": "code",
   "execution_count": 28,
   "metadata": {
    "ExecuteTime": {
     "end_time": "2021-02-19T02:06:04.017568Z",
     "start_time": "2021-02-19T02:06:03.886980Z"
    },
    "scrolled": false
   },
   "outputs": [
    {
     "name": "stdout",
     "output_type": "stream",
     "text": [
      "steady state tuning curves:\n"
     ]
    },
    {
     "data": {
      "image/png": "[encoded data removed]",
      "text/plain": [
       "<Figure size 432x288 with 1 Axes>"
      ]
     },
     "metadata": {
      "needs_background": "light"
     },
     "output_type": "display_data"
    }
   ],
   "source": [
    "print('steady state tuning curves:')\n",
    "\n",
    "for i,e in enumerate(exps):\n",
    "    e.decoder.plot_C()"
   ]
  },
  {
   "cell_type": "markdown",
   "metadata": {},
   "source": [
    "# CLDA updates"
   ]
  },
  {
   "cell_type": "markdown",
   "metadata": {},
   "source": [
    "## clda update frequencies"
   ]
  },
  {
   "cell_type": "code",
   "execution_count": 29,
   "metadata": {
    "ExecuteTime": {
     "end_time": "2021-02-19T02:06:04.020532Z",
     "start_time": "2021-02-19T02:06:04.018424Z"
    }
   },
   "outputs": [
    {
     "name": "stdout",
     "output_type": "stream",
     "text": [
      "did clda for 879 times\n"
     ]
    }
   ],
   "source": [
    "\n",
    "clda_params_all = [np.array(e.bmi_system.param_hist) for e in exps]\n",
    "\n",
    "for c in clda_params_all:\n",
    "    print(f'did clda for {len(c)} times')"
   ]
  },
  {
   "cell_type": "code",
   "execution_count": 30,
   "metadata": {
    "ExecuteTime": {
     "end_time": "2021-02-19T02:06:04.031894Z",
     "start_time": "2021-02-19T02:06:04.021291Z"
    }
   },
   "outputs": [],
   "source": [
    "update_bmi_all = np.squeeze(task_data_hist_np_all[0]['update_bmi'])"
   ]
  },
  {
   "cell_type": "code",
   "execution_count": 31,
   "metadata": {
    "ExecuteTime": {
     "end_time": "2021-02-19T02:06:04.143252Z",
     "start_time": "2021-02-19T02:06:04.035135Z"
    }
   },
   "outputs": [
    {
     "data": {
      "text/plain": [
       "[<matplotlib.lines.Line2D at 0x7f16fcfd28e0>]"
      ]
     },
     "execution_count": 31,
     "metadata": {},
     "output_type": "execute_result"
    },
    {
     "data": {
      "image/png": "[encoded data removed]",
      "text/plain": [
       "<Figure size 432x288 with 1 Axes>"
      ]
     },
     "metadata": {
      "needs_background": "light"
     },
     "output_type": "display_data"
    }
   ],
   "source": [
    "plt.plot(update_bmi_all[:240])"
   ]
  },
  {
   "cell_type": "code",
   "execution_count": 32,
   "metadata": {
    "ExecuteTime": {
     "end_time": "2021-02-19T02:06:04.152077Z",
     "start_time": "2021-02-19T02:06:04.144241Z"
    }
   },
   "outputs": [
    {
     "data": {
      "text/plain": [
       "dict_keys(['kf.C', 'kf.Q', 'kf.C_xpose_Q_inv_C', 'kf.C_xpose_Q_inv', 'mFR', 'sdFR', 'rho', 'intended_kin', 'spike_counts_batch'])"
      ]
     },
     "execution_count": 32,
     "metadata": {},
     "output_type": "execute_result"
    }
   ],
   "source": [
    "clda_params = clda_params_all[0]\n",
    "\n",
    "clda_params_dict = dict()\n",
    "for param_key in clda_params[0].keys():\n",
    "    clda_params_dict[param_key] = np.array([ record_i[param_key] for record_i in clda_params])\n",
    "\n",
    "\n",
    "\n",
    "clda_params_dict.keys()"
   ]
  },
  {
   "cell_type": "markdown",
   "metadata": {},
   "source": [
    "## clda K matrix"
   ]
  },
  {
   "cell_type": "code",
   "execution_count": 33,
   "metadata": {
    "ExecuteTime": {
     "end_time": "2021-02-19T02:06:04.163238Z",
     "start_time": "2021-02-19T02:06:04.152979Z"
    }
   },
   "outputs": [],
   "source": [
    "kf_C = clda_params_dict['kf.C']"
   ]
  },
  {
   "cell_type": "code",
   "execution_count": 34,
   "metadata": {
    "ExecuteTime": {
     "end_time": "2021-02-19T02:06:04.174978Z",
     "start_time": "2021-02-19T02:06:04.164185Z"
    }
   },
   "outputs": [
    {
     "name": "stdout",
     "output_type": "stream",
     "text": [
      "K matrix before:\n",
      "[[ 0.    0.    0.    2.22  0.   -0.97  0.94]\n",
      " [ 0.    0.    0.    0.14  0.    0.75  0.12]\n",
      " [ 0.    0.    0.   -0.2   0.   -0.84 -2.52]\n",
      " [ 0.    0.    0.    2.24  0.    0.05 -0.19]]\n",
      "K matrix after:\n",
      "[[ 0.    0.    0.   -0.08  0.    0.02 -0.1 ]\n",
      " [ 0.    0.    0.    0.01  0.    0.01  0.24]\n",
      " [ 0.    0.    0.   -0.01  0.    0.08 -0.65]\n",
      " [ 0.    0.    0.    0.1   0.   -0.15 -3.28]]\n"
     ]
    }
   ],
   "source": [
    "print('K matrix before:')\n",
    "print(kf_C[0,:,:])\n",
    "print('K matrix after:')\n",
    "print(kf_C[-1,:,:])"
   ]
  },
  {
   "cell_type": "code",
   "execution_count": 35,
   "metadata": {
    "ExecuteTime": {
     "end_time": "2021-02-19T02:06:04.513376Z",
     "start_time": "2021-02-19T02:06:04.176113Z"
    }
   },
   "outputs": [
    {
     "data": {
      "image/png": "[encoded data removed]",
      "text/plain": [
       "<Figure size 1152x288 with 4 Axes>"
      ]
     },
     "metadata": {
      "needs_background": "light"
     },
     "output_type": "display_data"
    }
   ],
   "source": [
    "N_CLDA_ROI_TIME = 800\n",
    "\n",
    "FIGURE_SIZE = (2,10)\n",
    "\n",
    "N_NEURONS\n",
    "\n",
    "f, axs = plt.subplots(1,N_NEURONS,figsize=(16,4))\n",
    "\n",
    "for i in range(N_NEURONS):\n",
    "    axs[i].plot(np.squeeze(kf_C[:N_CLDA_ROI_TIME,i, X_VEL_STATE_IND]))\n",
    "    axs[i].plot(np.squeeze(kf_C[:N_CLDA_ROI_TIME,i, Y_VEL_STATE_IND]))\n",
    "    axs[i].legend(['x vel', 'y_vel'])\n",
    "    axs[i].set_title(f'neuron {i} ')\n",
    "\n"
   ]
  },
  {
   "cell_type": "code",
   "execution_count": 36,
   "metadata": {
    "ExecuteTime": {
     "end_time": "2021-02-19T02:06:04.517211Z",
     "start_time": "2021-02-19T02:06:04.514482Z"
    }
   },
   "outputs": [
    {
     "data": {
      "text/plain": [
       "array([[ 0.,  0.,  0.,  1.,  0.,  0.,  0.],\n",
       "       [ 0.,  0.,  0., -1.,  0.,  0.,  0.],\n",
       "       [ 0.,  0.,  0.,  0.,  0.,  1.,  0.],\n",
       "       [ 0.,  0.,  0.,  0.,  0., -1.,  0.]])"
      ]
     },
     "execution_count": 36,
     "metadata": {},
     "output_type": "execute_result"
    }
   ],
   "source": [
    "exps[0].encoder.C"
   ]
  },
  {
   "cell_type": "markdown",
   "metadata": {},
   "source": [
    "## examine training batches"
   ]
  },
  {
   "cell_type": "code",
   "execution_count": 37,
   "metadata": {
    "ExecuteTime": {
     "end_time": "2021-02-19T02:06:04.526897Z",
     "start_time": "2021-02-19T02:06:04.518138Z"
    }
   },
   "outputs": [],
   "source": [
    "spike_counts_batch = clda_params_dict['spike_counts_batch'] \n",
    "intended_kin = clda_params_dict['intended_kin']"
   ]
  },
  {
   "cell_type": "code",
   "execution_count": 38,
   "metadata": {
    "ExecuteTime": {
     "end_time": "2021-02-19T02:06:04.538539Z",
     "start_time": "2021-02-19T02:06:04.527840Z"
    }
   },
   "outputs": [
    {
     "name": "stdout",
     "output_type": "stream",
     "text": [
      "intended kinematics:\n",
      "[[ 1.18  1.23  1.29  1.35  1.4   1.47  1.52  1.57  1.63  1.68]\n",
      " [ 0.    0.    0.    0.    0.    0.    0.    0.    0.    0.  ]\n",
      " [-1.35 -1.37 -1.39 -1.43 -1.45 -1.49 -1.5  -1.52 -1.56 -1.57]\n",
      " [ 6.    5.88  5.84  5.86  5.74  5.76  5.64  5.59  5.62  5.5 ]\n",
      " [ 0.    0.    0.    0.    0.    0.    0.    0.    0.    0.  ]\n",
      " [ 0.83  1.01  1.06  0.99  1.1   1.04  1.16  1.19  1.11  1.22]\n",
      " [ 1.    1.    1.    1.    1.    1.    1.    1.    1.    1.  ]]\n",
      "spike counts:\n",
      "[[0. 0. 1. 0. 1. 0. 0. 1. 0. 0.]\n",
      " [0. 0. 0. 0. 0. 0. 0. 0. 0. 0.]\n",
      " [0. 0. 0. 0. 0. 0. 0. 0. 0. 0.]\n",
      " [0. 0. 0. 0. 0. 0. 0. 0. 0. 0.]]\n",
      "trained KF C matrix:\n",
      "[[ 0.    0.    0.    2.09  0.   -0.99  1.39]\n",
      " [ 0.    0.    0.    0.14  0.    0.74  0.12]\n",
      " [ 0.    0.    0.   -0.18  0.   -0.8  -2.56]\n",
      " [ 0.    0.    0.    2.19  0.    0.04 -0.18]]\n"
     ]
    }
   ],
   "source": [
    "training_sample_point = 2\n",
    "\n",
    "print('intended kinematics:')\n",
    "print(intended_kin[training_sample_point])\n",
    "\n",
    "print('spike counts:')\n",
    "print(spike_counts_batch[training_sample_point])\n",
    "\n",
    "print('trained KF C matrix:')\n",
    "print(kf_C[training_sample_point])"
   ]
  }
 ],
 "metadata": {
  "kernelspec": {
   "display_name": "Python 3",
   "language": "python",
   "name": "python3"
  },
  "language_info": {
   "codemirror_mode": {
    "name": "ipython",
    "version": 3
   },
   "file_extension": ".py",
   "mimetype": "text/x-python",
   "name": "python",
   "nbconvert_exporter": "python",
   "pygments_lexer": "ipython3",
   "version": "3.8.5"
  },
  "toc": {
   "base_numbering": 1,
   "nav_menu": {},
   "number_sections": true,
   "sideBar": true,
   "skip_h1_title": false,
   "title_cell": "Table of Contents",
   "title_sidebar": "Contents",
   "toc_cell": false,
   "toc_position": {
    "height": "calc(100% - 180px)",
    "left": "10px",
    "top": "150px",
    "width": "293.115px"
   },
   "toc_section_display": true,
   "toc_window_display": true
  },
  "varInspector": {
   "cols": {
    "lenName": 16,
    "lenType": 16,
    "lenVar": 40
   },
   "kernels_config": {
    "python": {
     "delete_cmd_postfix": "",
     "delete_cmd_prefix": "del ",
     "library": "var_list.py",
     "varRefreshCmd": "print(var_dic_list())"
    },
    "r": {
     "delete_cmd_postfix": ") ",
     "delete_cmd_prefix": "rm(",
     "library": "var_list.r",
     "varRefreshCmd": "cat(var_dic_list()) "
    }
   },
   "types_to_exclude": [
    "module",
    "function",
    "builtin_function_or_method",
    "instance",
    "_Feature"
   ],
   "window_display": false
  }
 },
 "nbformat": 4,
 "nbformat_minor": 4
}
