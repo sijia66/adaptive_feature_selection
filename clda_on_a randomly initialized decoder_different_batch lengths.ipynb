{
 "cells": [
  {
   "cell_type": "markdown",
   "metadata": {},
   "source": [
    "# Purposes of this document\n",
    "\n",
    "the BMI3D implements clda in the form of learner and updater with\n",
    "1. learner collect training samples that are paired from collected features and estiamted intentions. \n",
    "2. the updater is then used to update the decoder specifically Kalman filter's observation matrix. \n",
    "\n",
    "in this experiment, we confirm our understanding that\n",
    "with different batch lengths, \n",
    "our updater actually   observation matrix. \n",
    "\n",
    "the main variables in this loop is \n",
    "1. learner's batch size\n",
    "2. and the updater's rho which controls the amount of mixing between old and new decoder parameters. \n",
    "\n",
    "\n",
    "\n",
    "we are gonna set up with three exps with identical trial sequences. \n",
    "1. 10 sample lengths\n",
    "2. 100 sample lengths \n",
    "3. 1000 sample lengths. \n",
    "\n",
    "in the end, \n",
    "we will demonstrate the mismatch through\n",
    "1. the rewarded trials and the reward trial rate. \n",
    "2. qualitative comparisions of trajectories. \n",
    "3. the tuning directions of C. and the tracking performance using correlation coefficients"
   ]
  },
  {
   "cell_type": "markdown",
   "metadata": {},
   "source": [
    "# comments\n",
    "\n",
    "24 out of 24 \n",
    "need measure performance as a function time. \n",
    "how many samples per trial?\n",
    "run simulations longer.\n",
    "how many updates are happening? the rates are the same withtin the tests, but run at different periods of time. \n",
    "\n"
   ]
  },
  {
   "cell_type": "code",
   "execution_count": 1,
   "metadata": {
    "ExecuteTime": {
     "end_time": "2021-02-17T06:15:52.097531Z",
     "start_time": "2021-02-17T06:15:52.014061Z"
    }
   },
   "outputs": [
    {
     "name": "stdout",
     "output_type": "stream",
     "text": [
      "the updater half_life is 1.0\n"
     ]
    }
   ],
   "source": [
    "import numpy as np\n",
    "\n",
    "\n",
    "RHO = 0.5\n",
    "batch_sizes = [10, 100, 1000]\n",
    "exp_conds = [f'batch length:{b} s' for b in batch_sizes]\n",
    "\n",
    "\n",
    "\n",
    "UPDATER_BATCH_TIME = 1\n",
    "UPDATER_HALF_LIFE = np.log(RHO)  * UPDATER_BATCH_TIME / np.log(0.5)\n",
    "\n",
    "print(f'the updater half_life is {UPDATER_HALF_LIFE}')"
   ]
  },
  {
   "cell_type": "code",
   "execution_count": 2,
   "metadata": {
    "ExecuteTime": {
     "end_time": "2021-02-17T06:15:52.099975Z",
     "start_time": "2021-02-17T06:15:52.098541Z"
    }
   },
   "outputs": [],
   "source": [
    "NUM_EXP = len(exp_conds) # how many experiments we are running. \n",
    "#generate task params\n",
    "N_TARGETS = 8\n",
    "N_TRIALS = 8"
   ]
  },
  {
   "cell_type": "markdown",
   "metadata": {},
   "source": [
    "# setting up the simulation components\n",
    "\n",
    "this section largely copied and pasted from   \n",
    "bmi3d-sijia(branch)-bulti_in_experiemnts\n",
    "https://github.com/sijia66/brain-python-interface/blob/master/built_in_tasks/sim_task_KF.py"
   ]
  },
  {
   "cell_type": "code",
   "execution_count": 3,
   "metadata": {
    "ExecuteTime": {
     "end_time": "2021-02-17T06:15:52.880748Z",
     "start_time": "2021-02-17T06:15:52.100941Z"
    }
   },
   "outputs": [
    {
     "name": "stderr",
     "output_type": "stream",
     "text": [
      "/home/sijia-aw/BMi3D_my/lab_bmi3d/riglib/blackrock/cerelink.py:13: UserWarning: Unable to import cerebus library. Check if is installed if using the Blackrock NeuroPort system\n",
      "  warnings.warn(\"Unable to import cerebus library. Check if is installed if using the Blackrock NeuroPort system\")\n"
     ]
    }
   ],
   "source": [
    "# import libraries\n",
    "# make sure these directories are in the python path., \n",
    "from bmimultitasks import SimBMIControlMulti, SimBMICosEncKFDec, BMIControlMultiNoWindow\n",
    "from features import SaveHDF\n",
    "from features.simulation_features import get_enc_setup, SimKFDecoderRandom, SimCosineTunedEnc,SimIntentionLQRController, SimClockTick\n",
    "from features.simulation_features import SimHDF, SimTime\n",
    "\n",
    "from riglib import experiment\n",
    "\n",
    "from riglib.stereo_opengl.window import FakeWindow\n",
    "from riglib.bmi import train\n",
    "\n",
    "from weights import replace_kalman_filter\n",
    "import weights\n",
    "\n",
    "import time\n",
    "import copy\n",
    "import numpy as np\n",
    "import matplotlib.pyplot as plt\n",
    "import sympy as sp\n",
    "import itertools #for identical sequences\n"
   ]
  },
  {
   "cell_type": "markdown",
   "metadata": {},
   "source": [
    "##  set up trial seq"
   ]
  },
  {
   "cell_type": "code",
   "execution_count": 4,
   "metadata": {
    "ExecuteTime": {
     "end_time": "2021-02-17T06:15:52.883478Z",
     "start_time": "2021-02-17T06:15:52.881635Z"
    }
   },
   "outputs": [],
   "source": [
    "seq = SimBMIControlMulti.sim_target_seq_generator_multi(\n",
    "N_TARGETS, N_TRIALS)\n",
    "\n",
    "#create a second version of the tasks\n",
    "seqs = itertools.tee(seq, NUM_EXP)"
   ]
  },
  {
   "cell_type": "markdown",
   "metadata": {},
   "source": [
    "##  simulation encoder decoder setup"
   ]
  },
  {
   "cell_type": "code",
   "execution_count": 5,
   "metadata": {
    "ExecuteTime": {
     "end_time": "2021-02-17T06:15:52.896536Z",
     "start_time": "2021-02-17T06:15:52.884349Z"
    }
   },
   "outputs": [
    {
     "name": "stdout",
     "output_type": "stream",
     "text": [
      "features.simulation_features: get_enc_setup has a tuning_level of 1 \n",
      "\n"
     ]
    }
   ],
   "source": [
    "#clda on random \n",
    "DECODER_MODE = 'random' # random or trained\n",
    "ENCODER_TYPE = 'cosine_tuned_encoder'\n",
    "LEARNER_TYPE = 'feedback' # to dumb or not dumb it is a question 'feedback'\n",
    "UPDATER_TYPE = 'smooth_batch' #none or \"smooth_batch\"\n",
    "\n",
    "\n",
    "SAVE_HDF = False\n",
    "SAVE_SIM_HDF = True #this makes the task data available as exp.task_data_hist\n",
    "DEBUG_FEATURE = False\n",
    "\n",
    "#neuron set up : 'std (20 neurons)' or 'toy (4 neurons)' \n",
    "N_NEURONS, N_STATES, sim_C = get_enc_setup(sim_mode = 'toy')"
   ]
  },
  {
   "cell_type": "markdown",
   "metadata": {},
   "source": [
    "## from the setup options, set up experiment"
   ]
  },
  {
   "cell_type": "code",
   "execution_count": 6,
   "metadata": {
    "ExecuteTime": {
     "end_time": "2021-02-17T06:15:52.906746Z",
     "start_time": "2021-02-17T06:15:52.899285Z"
    }
   },
   "outputs": [
    {
     "name": "stdout",
     "output_type": "stream",
     "text": [
      "__main__: selected SimCosineTunedEnc\n",
      "\n",
      "__main__: set base class \n",
      "__main__: selected SimKFDecoderRandom \n",
      "\n"
     ]
    }
   ],
   "source": [
    "# set up assist level\n",
    "assist_level = (1, 0)\n",
    "\n",
    "#base_class = SimBMIControlMulti\n",
    "base_class = BMIControlMultiNoWindow\n",
    "feats = []\n",
    "\n",
    "#set up intention feedbackcontroller\n",
    "#this ideally set before the encoder\n",
    "feats.append(SimIntentionLQRController)\n",
    "\n",
    "#set up the encoder\n",
    "if ENCODER_TYPE == 'cosine_tuned_encoder' :\n",
    "    feats.append(SimCosineTunedEnc)\n",
    "    print(f'{__name__}: selected SimCosineTunedEnc\\n')\n",
    "    \n",
    "    \n",
    "   #take care the decoder setup\n",
    "if DECODER_MODE == 'random':\n",
    "    feats.append(SimKFDecoderRandom)\n",
    "    print(f'{__name__}: set base class ')\n",
    "    print(f'{__name__}: selected SimKFDecoderRandom \\n')\n",
    "else: #defaul to a cosEnc and a pre-traind KF DEC\n",
    "    from features.simulation_features import SimKFDecoderSup\n",
    "    feats.append(SimKFDecoderSup)\n",
    "    print(f'{__name__}: set decoder to SimKFDecoderSup\\n')\n",
    "    \n",
    "    \n",
    "#you know what? \n",
    "#learner only collects firing rates labeled with estimated estimates\n",
    "#we would also need to use the labeled data\n",
    "#now, we can set up a dumb/or not-dumb learner\n",
    "if LEARNER_TYPE == 'feedback':\n",
    "    from features.simulation_features import SimFeedbackLearner\n",
    "    feats.append(SimFeedbackLearner)\n",
    "else:\n",
    "    from features.simulation_features import SimDumbLearner\n",
    "    feats.append(SimDumbLearner)\n",
    "\n",
    "\n",
    "\n",
    "\n",
    "#to update the decoder.\n",
    "if UPDATER_TYPE == 'smooth_batch':\n",
    "    from features.simulation_features import SimSmoothBatch\n",
    "    feats.append(SimSmoothBatch)\n",
    "else: #defaut to none \n",
    "    print(f'{__name__}: need to specify an updater')\n",
    "    \n",
    "if DEBUG_FEATURE: \n",
    "    from features.simulation_features import DebugFeature\n",
    "    feats.append(DebugFeature)\n",
    "    \n",
    "if SAVE_HDF: feats.append(SaveHDF)\n",
    "if SAVE_SIM_HDF: feats.append(SimHDF)\n",
    "    \n",
    "    \n",
    "#pass the real time limit on clock\n",
    "feats.append(SimClockTick)\n",
    "feats.append(SimTime)\n",
    "\n",
    "\n",
    "#save everthing in a kw list\n",
    "\n",
    "\n",
    "\n",
    "kwargs_exps = list()\n",
    "\n",
    "for i in range(NUM_EXP):\n",
    "    d = dict()\n",
    "    \n",
    "    d['assist_level'] = assist_level\n",
    "    d['sim_C'] = sim_C\n",
    "    d['batch_size'] = batch_sizes[i]\n",
    "    \n",
    "    kwargs_exps.append(d)\n",
    "    \n"
   ]
  },
  {
   "cell_type": "code",
   "execution_count": 7,
   "metadata": {
    "ExecuteTime": {
     "end_time": "2021-02-17T06:15:52.921006Z",
     "start_time": "2021-02-17T06:15:52.907795Z"
    }
   },
   "outputs": [
    {
     "data": {
      "text/plain": [
       "[{'assist_level': (1, 0),\n",
       "  'sim_C': array([[ 0.,  0.,  0.,  1.,  0.,  0.,  0.],\n",
       "         [ 0.,  0.,  0., -1.,  0.,  0.,  0.],\n",
       "         [ 0.,  0.,  0.,  0.,  0.,  1.,  0.],\n",
       "         [ 0.,  0.,  0.,  0.,  0., -1.,  0.]]),\n",
       "  'batch_size': 10},\n",
       " {'assist_level': (1, 0),\n",
       "  'sim_C': array([[ 0.,  0.,  0.,  1.,  0.,  0.,  0.],\n",
       "         [ 0.,  0.,  0., -1.,  0.,  0.,  0.],\n",
       "         [ 0.,  0.,  0.,  0.,  0.,  1.,  0.],\n",
       "         [ 0.,  0.,  0.,  0.,  0., -1.,  0.]]),\n",
       "  'batch_size': 100},\n",
       " {'assist_level': (1, 0),\n",
       "  'sim_C': array([[ 0.,  0.,  0.,  1.,  0.,  0.,  0.],\n",
       "         [ 0.,  0.,  0., -1.,  0.,  0.,  0.],\n",
       "         [ 0.,  0.,  0.,  0.,  0.,  1.,  0.],\n",
       "         [ 0.,  0.,  0.,  0.,  0., -1.,  0.]]),\n",
       "  'batch_size': 1000}]"
      ]
     },
     "execution_count": 7,
     "metadata": {},
     "output_type": "execute_result"
    }
   ],
   "source": [
    "kwargs_exps"
   ]
  },
  {
   "cell_type": "markdown",
   "metadata": {},
   "source": [
    "## seed the exp"
   ]
  },
  {
   "cell_type": "code",
   "execution_count": 8,
   "metadata": {
    "ExecuteTime": {
     "end_time": "2021-02-17T06:15:52.930328Z",
     "start_time": "2021-02-17T06:15:52.921783Z"
    }
   },
   "outputs": [],
   "source": [
    "np.random.seed(0)"
   ]
  },
  {
   "cell_type": "markdown",
   "metadata": {},
   "source": [
    "## make our experiment class"
   ]
  },
  {
   "cell_type": "code",
   "execution_count": 9,
   "metadata": {
    "ExecuteTime": {
     "end_time": "2021-02-17T06:15:52.940225Z",
     "start_time": "2021-02-17T06:15:52.931214Z"
    }
   },
   "outputs": [
    {
     "name": "stdout",
     "output_type": "stream",
     "text": [
      "metaclass constructor\n",
      "(<class 'features.simulation_features.SimIntentionLQRController'>, <class 'features.simulation_features.SimCosineTunedEnc'>, <class 'features.simulation_features.SimKFDecoderRandom'>, <class 'features.simulation_features.SimFeedbackLearner'>, <class 'features.simulation_features.SimSmoothBatch'>, <class 'features.simulation_features.SimHDF'>, <class 'features.simulation_features.SimClockTick'>, <class 'features.simulation_features.SimTime'>, <class 'bmimultitasks.BMIControlMultiNoWindow'>)\n",
      "[<class 'features.simulation_features.SimIntentionLQRController'>, <class 'features.simulation_features.SimCosineTunedEnc'>, <class 'features.simulation_features.SimKFDecoderRandom'>, <class 'features.simulation_features.SimFeedbackLearner'>, <class 'features.simulation_features.SimSmoothBatch'>, <class 'features.simulation_features.SimHDF'>, <class 'features.simulation_features.SimClockTick'>, <class 'features.simulation_features.SimTime'>]\n"
     ]
    }
   ],
   "source": [
    "#spawn the task\n",
    "Exp = experiment.make(base_class, feats=feats)\n"
   ]
  },
  {
   "cell_type": "markdown",
   "metadata": {},
   "source": [
    "# creat experiments with different C batch lengths"
   ]
  },
  {
   "cell_type": "markdown",
   "metadata": {},
   "source": [
    "## create exps"
   ]
  },
  {
   "cell_type": "code",
   "execution_count": 10,
   "metadata": {
    "ExecuteTime": {
     "end_time": "2021-02-17T06:15:52.980791Z",
     "start_time": "2021-02-17T06:15:52.941103Z"
    },
    "scrolled": true
   },
   "outputs": [
    {
     "name": "stdout",
     "output_type": "stream",
     "text": [
      "\n",
      "features.simulation_features.SimIntentionLQRController: LQRController used \n",
      "\n",
      "\n",
      " features.simulation_features.SimFeedbackLearner: start to create a sim leaner with a batchsize of 10\n",
      "features.simulation_features.SimSmoothBatch: rho in this simulation is  0.9885140203528962\n",
      "\n",
      "finished executing Experiment.__init__\n",
      "\n",
      "features.simulation_features.SimIntentionLQRController: LQRController used \n",
      "\n",
      "\n",
      " features.simulation_features.SimFeedbackLearner: start to create a sim leaner with a batchsize of 100\n",
      "features.simulation_features.SimSmoothBatch: rho in this simulation is  0.9885140203528962\n",
      "\n",
      "finished executing Experiment.__init__\n",
      "\n",
      "features.simulation_features.SimIntentionLQRController: LQRController used \n",
      "\n",
      "\n",
      " features.simulation_features.SimFeedbackLearner: start to create a sim leaner with a batchsize of 1000\n",
      "features.simulation_features.SimSmoothBatch: rho in this simulation is  0.9885140203528962\n",
      "\n",
      "finished executing Experiment.__init__\n"
     ]
    }
   ],
   "source": [
    "exps = list()#create a list of experiment\n",
    "\n",
    "for i,s in enumerate(seqs):\n",
    "    e = Exp(s, **kwargs_exps[i])\n",
    "    exps.append(e)"
   ]
  },
  {
   "cell_type": "code",
   "execution_count": 11,
   "metadata": {
    "ExecuteTime": {
     "end_time": "2021-02-17T06:15:52.988890Z",
     "start_time": "2021-02-17T06:15:52.981767Z"
    },
    "scrolled": true
   },
   "outputs": [
    {
     "name": "stdout",
     "output_type": "stream",
     "text": [
      "\n",
      "SimCosineTunedEnc SSM: State space: ['hand_px', 'hand_py', 'hand_pz', 'hand_vx', 'hand_vy', 'hand_vz', 'offset'] \n",
      "\n",
      "neural encoder init function  <BMIControlMultiNoWindow(Thread-4, initial)>\n",
      "features.simulation_features: added tracking of K matrix\n",
      "<bmimultitasks.SimpleEndpointAssister object at 0x7f5e12fbaf70>\n",
      "features.simulation_features: batch size is 10\n",
      "Reset states for learner: \n",
      "[]\n",
      "Done states for learner: \n",
      "[]\n",
      "\n",
      "features.simulation_features.SimFeedbackLearner: flip the self.learn_flag to true\n",
      "features.simulation_features.SimFeedbackLearner: succussfully created a feedback controller learner\n",
      "\n",
      "\n",
      "SimSmoothBatch: created an updater with a batch time of 1 and a half_life of 60 \n",
      "\n",
      "\n",
      "SimCosineTunedEnc SSM: State space: ['hand_px', 'hand_py', 'hand_pz', 'hand_vx', 'hand_vy', 'hand_vz', 'offset'] \n",
      "\n",
      "neural encoder init function  <BMIControlMultiNoWindow(Thread-5, initial)>\n",
      "features.simulation_features: added tracking of K matrix\n",
      "<bmimultitasks.SimpleEndpointAssister object at 0x7f5e12fb2a60>\n",
      "features.simulation_features: batch size is 100\n",
      "Reset states for learner: \n",
      "[]\n",
      "Done states for learner: \n",
      "[]\n",
      "\n",
      "features.simulation_features.SimFeedbackLearner: flip the self.learn_flag to true\n",
      "features.simulation_features.SimFeedbackLearner: succussfully created a feedback controller learner\n",
      "\n",
      "\n",
      "SimSmoothBatch: created an updater with a batch time of 1 and a half_life of 60 \n",
      "\n",
      "\n",
      "SimCosineTunedEnc SSM: State space: ['hand_px', 'hand_py', 'hand_pz', 'hand_vx', 'hand_vy', 'hand_vz', 'offset'] \n",
      "\n",
      "neural encoder init function  <BMIControlMultiNoWindow(Thread-6, initial)>\n",
      "features.simulation_features: added tracking of K matrix\n",
      "<bmimultitasks.SimpleEndpointAssister object at 0x7f5e12fc0cd0>\n",
      "features.simulation_features: batch size is 1000\n",
      "Reset states for learner: \n",
      "[]\n",
      "Done states for learner: \n",
      "[]\n",
      "\n",
      "features.simulation_features.SimFeedbackLearner: flip the self.learn_flag to true\n",
      "features.simulation_features.SimFeedbackLearner: succussfully created a feedback controller learner\n",
      "\n",
      "\n",
      "SimSmoothBatch: created an updater with a batch time of 1 and a half_life of 60 \n",
      "\n"
     ]
    }
   ],
   "source": [
    "for e in exps: e.init()"
   ]
  },
  {
   "cell_type": "markdown",
   "metadata": {},
   "source": [
    "## control for the same rho"
   ]
  },
  {
   "cell_type": "code",
   "execution_count": 12,
   "metadata": {
    "ExecuteTime": {
     "end_time": "2021-02-17T06:15:52.994641Z",
     "start_time": "2021-02-17T06:15:52.989719Z"
    }
   },
   "outputs": [
    {
     "name": "stdout",
     "output_type": "stream",
     "text": [
      "\n",
      "SimSmoothBatch: created an updater with a batch time of 1 and a half_life of 1.0 \n",
      "\n",
      "\n",
      "SimSmoothBatch: created an updater with a batch time of 1 and a half_life of 1.0 \n",
      "\n",
      "\n",
      "SimSmoothBatch: created an updater with a batch time of 1 and a half_life of 1.0 \n",
      "\n"
     ]
    }
   ],
   "source": [
    "for e in exps:\n",
    "    e.batch_time = UPDATER_BATCH_TIME\n",
    "    e.half_life = UPDATER_HALF_LIFE\n",
    "    e.create_updater()"
   ]
  },
  {
   "cell_type": "markdown",
   "metadata": {},
   "source": [
    "## check the three batchsizes"
   ]
  },
  {
   "cell_type": "code",
   "execution_count": 13,
   "metadata": {
    "ExecuteTime": {
     "end_time": "2021-02-17T06:15:53.004546Z",
     "start_time": "2021-02-17T06:15:52.995481Z"
    }
   },
   "outputs": [
    {
     "name": "stdout",
     "output_type": "stream",
     "text": [
      "10\n",
      "100\n",
      "1000\n"
     ]
    }
   ],
   "source": [
    "#before\n",
    "for i,e in enumerate(exps):\n",
    "    print(e.batch_size)"
   ]
  },
  {
   "cell_type": "code",
   "execution_count": 14,
   "metadata": {
    "ExecuteTime": {
     "end_time": "2021-02-17T06:15:53.390832Z",
     "start_time": "2021-02-17T06:15:53.005362Z"
    }
   },
   "outputs": [
    {
     "data": {
      "image/png": "[encoded data removed]",
      "text/plain": [
       "<Figure size 432x288 with 1 Axes>"
      ]
     },
     "metadata": {
      "needs_background": "light"
     },
     "output_type": "display_data"
    },
    {
     "data": {
      "image/png": "[encoded data removed]",
      "text/plain": [
       "<Figure size 432x288 with 1 Axes>"
      ]
     },
     "metadata": {
      "needs_background": "light"
     },
     "output_type": "display_data"
    },
    {
     "data": {
      "image/png": "[encoded data removed]",
      "text/plain": [
       "<Figure size 432x288 with 1 Axes>"
      ]
     },
     "metadata": {
      "needs_background": "light"
     },
     "output_type": "display_data"
    }
   ],
   "source": [
    "for e in exps:\n",
    "    e.decoder.plot_K()"
   ]
  },
  {
   "cell_type": "markdown",
   "metadata": {},
   "source": [
    "# assemble into a complete loop"
   ]
  },
  {
   "cell_type": "code",
   "execution_count": 15,
   "metadata": {
    "ExecuteTime": {
     "end_time": "2021-02-17T06:15:53.400925Z",
     "start_time": "2021-02-17T06:15:53.391726Z"
    },
    "scrolled": true
   },
   "outputs": [],
   "source": [
    "#make this into a loop\n",
    "\n",
    "def run_exp_loop(exp):\n",
    "        # riglib.experiment: line 597 - 601\n",
    "    #exp.next_trial = next(exp.gen)\n",
    "    # -+exp._parse_next_trial()np.arraynp.array\n",
    "\n",
    "\n",
    "    # we need to set the initial state\n",
    "    # per fsm.run:  line 138\n",
    "\n",
    "\n",
    "    # Initialize the FSM before the loop\n",
    "    exp.set_state(exp.state)\n",
    "    \n",
    "    finished_trials = exp.calc_state_occurrences('wait')\n",
    "    print(f'finished: {finished_trials}')\n",
    "\n",
    "\n",
    "    while exp.state is not None:\n",
    "\n",
    "        # exp.fsm_tick()\n",
    "\n",
    "        ### Execute commands#####\n",
    "        exp.exec_state_specific_actions(exp.state)\n",
    "\n",
    "        ###run the bmi loop #####\n",
    "        # _cycle\n",
    "\n",
    "        # bmi feature extraction, eh\n",
    "        #riglib.bmi: 1202\n",
    "        feature_data = exp.get_features()\n",
    "\n",
    "        # Determine the target_state and save to file\n",
    "        current_assist_level = exp.get_current_assist_level()\n",
    "        '''\n",
    "            if np.any(current_assist_level > 0) or exp.learn_flag:\n",
    "            target_state = exp.get_target_BMI_state(exp.decoder.states)\n",
    "        else:\n",
    "            target_state = np.ones(\n",
    "                [exp.decoder.n_states, exp.decoder.n_subbins]) * np.nan\n",
    "\n",
    "        '''\n",
    "        target_state = exp.get_target_BMI_state(exp.decoder.states)\n",
    "\n",
    "\n",
    "        # decode the new features\n",
    "        # riglib.bmi.bmiloop: line 1245\n",
    "        neural_features = feature_data[exp.extractor.feature_type]\n",
    "\n",
    "        # call decoder.\n",
    "        #tmp = exp.call_decoder(neural_features, target_state, **kwargs)\n",
    "        neural_obs = neural_features\n",
    "        learn_flag = exp.learn_flag\n",
    "        task_state = exp.state\n",
    "\n",
    "        n_units, n_obs = neural_obs.shape\n",
    "        # If the target is specified as a 1D position, tile to match\n",
    "        # the number of dimensions as the neural features\n",
    "        if np.ndim(target_state) == 1 or (target_state.shape[1] == 1 and n_obs > 1):\n",
    "            target_state = np.tile(target_state, [1, n_obs])\n",
    "\n",
    "        decoded_states = np.zeros([exp.bmi_system.decoder.n_states, n_obs])\n",
    "        update_flag = False\n",
    "\n",
    "        for k in range(n_obs):\n",
    "            neural_obs_k = neural_obs[:, k].reshape(-1, 1)\n",
    "            target_state_k = target_state[:, k]\n",
    "\n",
    "            # NOTE: the conditional below is *only* for compatibility with older Carmena\n",
    "            # lab data collected using a different MATLAB-based system. In all python cases,\n",
    "            # the task_state should never contain NaN values.\n",
    "            if np.any(np.isnan(target_state_k)):\n",
    "                task_state = 'no_target'\n",
    "\n",
    "            #################################\n",
    "            # Decode the current observation\n",
    "            #################################\n",
    "            decodable_obs, decode = exp.bmi_system.feature_accumulator(\n",
    "                neural_obs_k)\n",
    "            if decode:  # if a new decodable observation is available from the feature accumulator\n",
    "                prev_state = exp.bmi_system.decoder.get_state()\n",
    "\n",
    "                exp.bmi_system.decoder(decodable_obs, **kwargs)\n",
    "                # Determine whether the current state or previous state should be given to the learner\n",
    "                if exp.bmi_system.learner.input_state_index == 0:\n",
    "                    learner_state = exp.bmi_system.decoder.get_state()\n",
    "                elif exp.bmi_system.learner.input_state_index == -1:\n",
    "                    learner_state = prev_state\n",
    "                else:\n",
    "                    print((\"Not implemented yet: %d\" %\n",
    "                           exp.bmi_system.learner.input_state_index))\n",
    "                    learner_state = prev_state\n",
    "\n",
    "                if learn_flag:\n",
    "                    exp.bmi_system.learner(decodable_obs.copy(), learner_state, target_state_k, exp.bmi_system.decoder.get_state(\n",
    "                    ), task_state, state_order=exp.bmi_system.decoder.ssm.state_order)\n",
    "\n",
    "            decoded_states[:, k] = exp.bmi_system.decoder.get_state()\n",
    "\n",
    "            ############################\n",
    "            # Update decoder parameters\n",
    "            ############################\n",
    "            if exp.bmi_system.learner.is_ready():\n",
    "                batch_data = exp.bmi_system.learner.get_batch()\n",
    "                batch_data['decoder'] = exp.bmi_system.decoder\n",
    "                kwargs.update(batch_data)\n",
    "                exp.bmi_system.updater(**kwargs)\n",
    "                exp.bmi_system.learner.disable()\n",
    "\n",
    "            new_params = None  # by default, no new parameters are available\n",
    "            if exp.bmi_system.has_updater:\n",
    "                new_params = copy.deepcopy(exp.bmi_system.updater.get_result())\n",
    "\n",
    "            # Update the decoder if new parameters are available\n",
    "            if not (new_params is None):\n",
    "                exp.bmi_system.decoder.update_params(\n",
    "                    new_params, **exp.bmi_system.updater.update_kwargs)\n",
    "                new_params['intended_kin'] = batch_data['intended_kin']\n",
    "                new_params['spike_counts_batch'] = batch_data['spike_counts']\n",
    "\n",
    "                exp.bmi_system.learner.enable()\n",
    "                update_flag = True\n",
    "\n",
    "                # Save new parameters to parameter history\n",
    "                exp.bmi_system.param_hist.append(new_params)\n",
    "\n",
    "\n",
    "\n",
    "        # saved as task data\n",
    "        # return decoded_states, update_flag\n",
    "        tmp = decoded_states\n",
    "        exp.task_data['internal_decoder_state'] = tmp\n",
    "\n",
    "        # reset the plant position\n",
    "        # @riglib.bmi.BMILoop.move_plant  line:1254\n",
    "        exp.plant.drive(exp.decoder)\n",
    "\n",
    "        # check state transitions and run the FSM.\n",
    "        current_state = exp.state\n",
    "\n",
    "        # iterate over the possible events which could move the task out of the current state\n",
    "        for event in exp.status[current_state]:\n",
    "            # if the event has occurred\n",
    "            if exp.test_state_transition_event(event):\n",
    "                # execute commands to end the current state\n",
    "                exp.end_state(current_state)\n",
    "\n",
    "                # trigger the transition for the event\n",
    "                exp.trigger_event(event)\n",
    "\n",
    "                # stop searching for transition events (transition events must be\n",
    "                # mutually exclusive for this FSM to function properly)\n",
    "                break\n",
    "\n",
    "        # sort out the loop params.\n",
    "        # inc cycle count\n",
    "        exp.cycle_count += 1\n",
    "\n",
    "        # save target data as was done in manualControlTasks._cycle\n",
    "        exp.task_data['target'] = exp.target_location.copy()\n",
    "        exp.task_data['target_index'] = exp.target_index\n",
    "\n",
    "        #done in bmi:_cycle after move_plant\n",
    "        exp.task_data['loop_time'] = exp.iter_time()\n",
    "\n",
    "\n",
    "        #fb_controller data\n",
    "        exp.task_data['target_state'] = target_state\n",
    "\n",
    "        #encoder data\n",
    "        #input to this is actually extractor\n",
    "        exp.task_data['ctrl_input'] = np.reshape(exp.extractor.sim_ctrl, (1,-1))\n",
    "\n",
    "        #actually output\n",
    "        exp.task_data['spike_counts'] = feature_data['spike_counts']\n",
    "\n",
    "\n",
    "        #save the decoder_state\n",
    "        #from BMILoop.move_plant\n",
    "        exp.task_data['decoder_state'] = exp.decoder.get_state(shape=(-1,1))\n",
    "\n",
    "\n",
    "        # as well as plant data.\n",
    "        plant_data = exp.plant.get_data_to_save()\n",
    "        for key in plant_data:\n",
    "            exp.task_data[key] = plant_data[key]\n",
    "\n",
    "        # clda data handled in the above call.\n",
    "\n",
    "        # save to the list hisory of data.\n",
    "        exp.task_data_hist.append(exp.task_data.copy())\n",
    "        \n",
    "        if finished_trials != exp.calc_state_occurrences('wait'):\n",
    "            finished_trials = exp.calc_state_occurrences('wait')\n",
    "            \n",
    "            print(f'finished trials :{finished_trials}')\n",
    "            print(f'current assist level: {exp.get_current_assist_level()}')\n",
    "            \n",
    "\n",
    "\n",
    "    if exp.verbose:\n",
    "        \n",
    "        print(\"end of FSM.run, task state is\", exp.state)\n",
    "        \n",
    "    \n",
    "    \n"
   ]
  },
  {
   "cell_type": "code",
   "execution_count": 16,
   "metadata": {
    "ExecuteTime": {
     "end_time": "2021-02-17T06:15:53.488659Z",
     "start_time": "2021-02-17T06:15:53.401722Z"
    }
   },
   "outputs": [
    {
     "name": "stdout",
     "output_type": "stream",
     "text": [
      "runseq\n",
      "finished: 1\n"
     ]
    },
    {
     "ename": "NameError",
     "evalue": "name 'kwargs' is not defined",
     "output_type": "error",
     "traceback": [
      "\u001b[0;31m---------------------------------------------------------------------------\u001b[0m",
      "\u001b[0;31mNameError\u001b[0m                                 Traceback (most recent call last)",
      "\u001b[0;32m<ipython-input-16-513b96b8b49e>\u001b[0m in \u001b[0;36m<module>\u001b[0;34m\u001b[0m\n\u001b[1;32m      1\u001b[0m \u001b[0;32mfor\u001b[0m \u001b[0mi\u001b[0m\u001b[0;34m,\u001b[0m\u001b[0me\u001b[0m \u001b[0;32min\u001b[0m \u001b[0menumerate\u001b[0m\u001b[0;34m(\u001b[0m\u001b[0mexps\u001b[0m\u001b[0;34m)\u001b[0m\u001b[0;34m:\u001b[0m\u001b[0;34m\u001b[0m\u001b[0;34m\u001b[0m\u001b[0m\n\u001b[0;32m----> 2\u001b[0;31m     \u001b[0mrun_exp_loop\u001b[0m\u001b[0;34m(\u001b[0m\u001b[0me\u001b[0m\u001b[0;34m)\u001b[0m\u001b[0;34m\u001b[0m\u001b[0;34m\u001b[0m\u001b[0m\n\u001b[0m\u001b[1;32m      3\u001b[0m     \u001b[0mprint\u001b[0m\u001b[0;34m(\u001b[0m\u001b[0;34mf'Finished running  {exp_conds[i]}'\u001b[0m\u001b[0;34m)\u001b[0m\u001b[0;34m\u001b[0m\u001b[0;34m\u001b[0m\u001b[0m\n",
      "\u001b[0;32m<ipython-input-15-0d9bfab5592c>\u001b[0m in \u001b[0;36mrun_exp_loop\u001b[0;34m(exp)\u001b[0m\n\u001b[1;32m     82\u001b[0m                 \u001b[0mprev_state\u001b[0m \u001b[0;34m=\u001b[0m \u001b[0mexp\u001b[0m\u001b[0;34m.\u001b[0m\u001b[0mbmi_system\u001b[0m\u001b[0;34m.\u001b[0m\u001b[0mdecoder\u001b[0m\u001b[0;34m.\u001b[0m\u001b[0mget_state\u001b[0m\u001b[0;34m(\u001b[0m\u001b[0;34m)\u001b[0m\u001b[0;34m\u001b[0m\u001b[0;34m\u001b[0m\u001b[0m\n\u001b[1;32m     83\u001b[0m \u001b[0;34m\u001b[0m\u001b[0m\n\u001b[0;32m---> 84\u001b[0;31m                 \u001b[0mexp\u001b[0m\u001b[0;34m.\u001b[0m\u001b[0mbmi_system\u001b[0m\u001b[0;34m.\u001b[0m\u001b[0mdecoder\u001b[0m\u001b[0;34m(\u001b[0m\u001b[0mdecodable_obs\u001b[0m\u001b[0;34m,\u001b[0m \u001b[0;34m**\u001b[0m\u001b[0mkwargs\u001b[0m\u001b[0;34m)\u001b[0m\u001b[0;34m\u001b[0m\u001b[0;34m\u001b[0m\u001b[0m\n\u001b[0m\u001b[1;32m     85\u001b[0m                 \u001b[0;31m# Determine whether the current state or previous state should be given to the learner\u001b[0m\u001b[0;34m\u001b[0m\u001b[0;34m\u001b[0m\u001b[0;34m\u001b[0m\u001b[0m\n\u001b[1;32m     86\u001b[0m                 \u001b[0;32mif\u001b[0m \u001b[0mexp\u001b[0m\u001b[0;34m.\u001b[0m\u001b[0mbmi_system\u001b[0m\u001b[0;34m.\u001b[0m\u001b[0mlearner\u001b[0m\u001b[0;34m.\u001b[0m\u001b[0minput_state_index\u001b[0m \u001b[0;34m==\u001b[0m \u001b[0;36m0\u001b[0m\u001b[0;34m:\u001b[0m\u001b[0;34m\u001b[0m\u001b[0;34m\u001b[0m\u001b[0m\n",
      "\u001b[0;31mNameError\u001b[0m: name 'kwargs' is not defined"
     ]
    }
   ],
   "source": [
    "for i,e in enumerate(exps):\n",
    "    run_exp_loop(e)\n",
    "    print(f'Finished running  {exp_conds[i]}')"
   ]
  },
  {
   "cell_type": "markdown",
   "metadata": {
    "ExecuteTime": {
     "end_time": "2021-01-25T01:00:26.027506Z",
     "start_time": "2021-01-25T01:00:26.024320Z"
    }
   },
   "source": [
    "# Preprocess the data for loading"
   ]
  },
  {
   "cell_type": "code",
   "execution_count": null,
   "metadata": {
    "ExecuteTime": {
     "end_time": "2021-02-17T06:15:53.493111Z",
     "start_time": "2021-02-17T06:15:52.049Z"
    }
   },
   "outputs": [],
   "source": [
    "for e in  exps: print(e.calc_state_occurrences('reward'))"
   ]
  },
  {
   "cell_type": "markdown",
   "metadata": {},
   "source": [
    "# Walk through the analysis loop"
   ]
  },
  {
   "cell_type": "code",
   "execution_count": null,
   "metadata": {
    "ExecuteTime": {
     "end_time": "2021-02-17T06:15:53.493831Z",
     "start_time": "2021-02-17T06:15:52.051Z"
    }
   },
   "outputs": [],
   "source": [
    "\n",
    "print(exp_conds)\n",
    "\n",
    "INDEX_RANDOM_DECODER = 0\n",
    "INDEX_PRETRAINED = 1\n",
    "INDEX_SAME_ENC = 2"
   ]
  },
  {
   "cell_type": "markdown",
   "metadata": {},
   "source": [
    "## declare defs and conventions"
   ]
  },
  {
   "cell_type": "code",
   "execution_count": null,
   "metadata": {
    "ExecuteTime": {
     "end_time": "2021-02-17T06:15:53.494257Z",
     "start_time": "2021-02-17T06:15:52.053Z"
    }
   },
   "outputs": [],
   "source": [
    "FRAME_RATE = 60\n",
    "INT_WINDOW_TIME = 10 # s for looking at sample raw data\n",
    "\n",
    "# some conventions as we go down the loop\n",
    "X_VEL_STATE_IND = 3\n",
    "Y_VEL_STATE_IND = 5\n",
    "X_POS_STATE_IND = 0\n",
    "Y_POS_STATE_IND = 2\n",
    "\n",
    "state_indices = [X_POS_STATE_IND,\n",
    "                 Y_POS_STATE_IND,\n",
    "                 X_VEL_STATE_IND,\n",
    "                 Y_VEL_STATE_IND]\n",
    "state_names = ['x pos ', 'y pos', 'x vel', 'y vel']\n",
    "\n",
    "\n",
    "INT_WIN_SAMPLES = INT_WINDOW_TIME * FRAME_RATE\n",
    "\n"
   ]
  },
  {
   "cell_type": "markdown",
   "metadata": {},
   "source": [
    "## Quick look at the cursor trajectories"
   ]
  },
  {
   "cell_type": "code",
   "execution_count": null,
   "metadata": {
    "ExecuteTime": {
     "end_time": "2021-02-17T06:15:53.494864Z",
     "start_time": "2021-02-17T06:15:52.056Z"
    }
   },
   "outputs": [],
   "source": [
    "task_data_hist_np_all = [np.array(e.task_data_hist) for e in exps]\n",
    "len(task_data_hist_np_all)"
   ]
  },
  {
   "cell_type": "code",
   "execution_count": null,
   "metadata": {
    "ExecuteTime": {
     "end_time": "2021-02-17T06:15:53.495308Z",
     "start_time": "2021-02-17T06:15:52.058Z"
    },
    "scrolled": true
   },
   "outputs": [],
   "source": [
    "cursor_trajectories = [np.squeeze(task_data_hist_np['cursor']) for task_data_hist_np in task_data_hist_np_all]\n",
    "\n",
    "for cursor_trajectory in cursor_trajectories:\n",
    "    plt.plot(cursor_trajectory[:,0], cursor_trajectory[:,2])\n",
    "    \n",
    "# add cursor trajectories\n",
    "plt.title(f'cursor trajectories in the first {INT_WINDOW_TIME} s')\n",
    "plt.legend(exp_conds)\n",
    "plt.xlabel('x position (cm)')\n",
    "plt.ylabel('y position (cm)')"
   ]
  },
  {
   "cell_type": "markdown",
   "metadata": {},
   "source": [
    "##  General trial based statistics"
   ]
  },
  {
   "cell_type": "code",
   "execution_count": null,
   "metadata": {
    "ExecuteTime": {
     "end_time": "2021-02-17T06:15:53.495764Z",
     "start_time": "2021-02-17T06:15:52.060Z"
    },
    "scrolled": true
   },
   "outputs": [],
   "source": [
    "print('finished trials ')\n",
    "\n",
    "for i,e in  enumerate(exps): \n",
    "    reward_num = e.calc_state_occurrences('reward')\n",
    "    print(f'{exp_conds[i]}: {reward_num} out of {N_TRIALS}')"
   ]
  },
  {
   "cell_type": "markdown",
   "metadata": {},
   "source": [
    "## segment data into trials"
   ]
  },
  {
   "cell_type": "code",
   "execution_count": null,
   "metadata": {
    "ExecuteTime": {
     "end_time": "2021-02-16T03:28:42.826375Z",
     "start_time": "2021-02-16T03:28:42.821490Z"
    },
    "scrolled": true
   },
   "outputs": [],
   "source": [
    "\n",
    "\n",
    "\n"
   ]
  },
  {
   "cell_type": "code",
   "execution_count": null,
   "metadata": {
    "ExecuteTime": {
     "end_time": "2021-02-17T06:15:53.496237Z",
     "start_time": "2021-02-17T06:15:52.064Z"
    }
   },
   "outputs": [],
   "source": [
    "def filter_state(state_log:list, state_to_match:str)->list:\n",
    "    '''\n",
    "    state_log: a list of tuples (state:string, start_time: float)\n",
    "    state_to_watch\n",
    "    \n",
    "    returns a list of element type\n",
    "    '''\n",
    "    \n",
    "    return list(filter(lambda k: k[0] == state_to_match, state_log) )\n",
    "\n",
    "def calc_inter_wait_times(wait_log: list)-> list:\n",
    "    \"\"\"\n",
    "    state_log: a list of tuples (\"wait\", start_time: float)\n",
    "    return a list of tuples: (\"wait\", start_time: float, diff_time)\n",
    "    \"\"\"\n",
    "    wait_log_with_diff = list()\n",
    "    for i, wait_state in enumerate(wait_log):\n",
    "        if i == len(wait_log)-1: #there is nothing to subtract, just put zero.\n",
    "            wait_log_with_diff.append((wait_state[1],  0))\n",
    "            \n",
    "        else:\n",
    "            finish_time = wait_log[i+1][1]\n",
    "            wait_log_with_diff.append((wait_state[1],  finish_time - wait_state[1]))\n",
    "    \n",
    "    return np.array(wait_log_with_diff[:-1])"
   ]
  },
  {
   "cell_type": "code",
   "execution_count": null,
   "metadata": {
    "ExecuteTime": {
     "end_time": "2021-02-17T06:15:53.496686Z",
     "start_time": "2021-02-17T06:15:52.066Z"
    }
   },
   "outputs": [],
   "source": [
    "state_logs = [e.state_log for e in exps]\n"
   ]
  },
  {
   "cell_type": "code",
   "execution_count": null,
   "metadata": {
    "ExecuteTime": {
     "end_time": "2021-02-17T06:15:53.497141Z",
     "start_time": "2021-02-17T06:15:52.070Z"
    }
   },
   "outputs": [],
   "source": [
    "STATE_CUT_NAME =  'wait'\n",
    "#get the state logs\n",
    "wait_logs = [filter_state(s, STATE_CUT_NAME) for s in state_logs]\n",
    "\n",
    "inter_wait_times = [calc_inter_wait_times(w) for w in wait_logs]\n",
    "#this has both start times "
   ]
  },
  {
   "cell_type": "code",
   "execution_count": null,
   "metadata": {
    "ExecuteTime": {
     "end_time": "2021-02-17T06:15:53.497601Z",
     "start_time": "2021-02-17T06:15:52.072Z"
    },
    "scrolled": true
   },
   "outputs": [],
   "source": [
    "\n",
    "\n",
    "for i in inter_wait_times:\n",
    "    plt.scatter(i[:,0], i[:,1])\n",
    "\n",
    "plt.legend(exp_conds)\n",
    "plt.xlabel('Elapsed training time (s)')\n",
    "plt.ylabel('Training time(s)')"
   ]
  },
  {
   "cell_type": "code",
   "execution_count": null,
   "metadata": {
    "ExecuteTime": {
     "end_time": "2021-02-17T06:15:53.498043Z",
     "start_time": "2021-02-17T06:15:52.077Z"
    }
   },
   "outputs": [],
   "source": [
    "wait_time = inter_wait_times[0]\n",
    "task_data_hist_np = task_data_hist_np_all[0]\n",
    "FRAME_RATE\n",
    "dict_keys = ['cursor']"
   ]
  },
  {
   "cell_type": "code",
   "execution_count": null,
   "metadata": {
    "ExecuteTime": {
     "end_time": "2021-02-17T06:15:53.498669Z",
     "start_time": "2021-02-17T06:15:52.079Z"
    }
   },
   "outputs": [],
   "source": [
    "def sort_trials(wait_time:list, task_data_hist_np:dict, dict_keys, FRAME_RATE = 60):\n",
    "    trial_dict = list()\n",
    "    \n",
    "    for row in wait_time:\n",
    "        start_time = row[0]\n",
    "        inter_wait_time = row[1]\n",
    "\n",
    "        start_sample = int(start_time * FRAME_RATE)\n",
    "        inter_wait_sample = int(inter_wait_time * FRAME_RATE)\n",
    "        stop_sample = start_sample + inter_wait_sample\n",
    "\n",
    "        single_trial_dict = dict()\n",
    "\n",
    "        for k in dict_keys:\n",
    "            requested_type_data = np.squeeze(task_data_hist_np['cursor'])\n",
    "\n",
    "            single_trial_dict[k] =  requested_type_data[start_sample:stop_sample,\n",
    "                                                       :]\n",
    "        #add more infor\n",
    "        single_trial_dict['start_time'] = row[0]\n",
    "        single_trial_dict['inter_wait_time'] = row[1]\n",
    "\n",
    "        #add the dictionary to the list\n",
    "        trial_dict.append(single_trial_dict)\n",
    "        \n",
    "    return trial_dict\n",
    "\n",
    "trial_dict_0 = sort_trials(wait_time, task_data_hist_np, dict_keys)"
   ]
  },
  {
   "cell_type": "code",
   "execution_count": null,
   "metadata": {
    "ExecuteTime": {
     "end_time": "2021-02-17T06:15:53.499110Z",
     "start_time": "2021-02-17T06:15:52.080Z"
    }
   },
   "outputs": [],
   "source": [
    "\n",
    "FRAME_RATE\n",
    "dict_keys = ['cursor']\n",
    "\n",
    "trial_dicts_all = []\n",
    "\n",
    "for i in range(NUM_EXP):\n",
    "    wait_time = inter_wait_times[i]\n",
    "    task_data_hist_np = task_data_hist_np_all[i]\n",
    "    \n",
    "    trial_dict_0 = sort_trials(wait_time, task_data_hist_np, dict_keys)\n",
    "    \n",
    "    trial_dicts_all.append(trial_dict_0)\n",
    "\n",
    "len(trial_dicts_all)"
   ]
  },
  {
   "cell_type": "code",
   "execution_count": null,
   "metadata": {
    "ExecuteTime": {
     "end_time": "2021-02-17T06:15:53.499696Z",
     "start_time": "2021-02-17T06:15:52.082Z"
    }
   },
   "outputs": [],
   "source": [
    "n_roi_trials = 22\n",
    "\n",
    "X_CURSOR = 0\n",
    "Z_CURSOR = 2\n",
    "\n",
    "\n",
    "for trial_dict in trial_dicts_all:\n",
    "    \n",
    "    sample_trial = trial_dict[n_roi_trials]\n",
    "    trial_cursor_trajectory = sample_trial['cursor']\n",
    "    \n",
    "    \n",
    "    plt.plot(trial_cursor_trajectory[:, X_CURSOR], \n",
    "             trial_cursor_trajectory[:, Z_CURSOR])\n",
    "\n",
    "    \n",
    "plt.legend(exp_conds)"
   ]
  },
  {
   "cell_type": "markdown",
   "metadata": {},
   "source": [
    "## examine kf tracking"
   ]
  },
  {
   "cell_type": "markdown",
   "metadata": {},
   "source": [
    "### examine the tuning curves"
   ]
  },
  {
   "cell_type": "code",
   "execution_count": null,
   "metadata": {
    "ExecuteTime": {
     "end_time": "2021-02-17T06:15:53.500284Z",
     "start_time": "2021-02-17T06:15:52.084Z"
    }
   },
   "outputs": [],
   "source": [
    "print('steady state tuning curves')\n",
    "\n",
    "for i,e in enumerate(exps):\n",
    "    e.decoder.plot_C()"
   ]
  },
  {
   "cell_type": "markdown",
   "metadata": {},
   "source": [
    "### loading the data"
   ]
  },
  {
   "cell_type": "code",
   "execution_count": null,
   "metadata": {
    "ExecuteTime": {
     "end_time": "2021-02-17T06:15:53.500739Z",
     "start_time": "2021-02-17T06:15:52.086Z"
    }
   },
   "outputs": [],
   "source": [
    "# inputs to the encoder\n",
    "\n",
    "decoder_states_all = [ np.squeeze(task_data_hist_np['decoder_state']) for task_data_hist_np in task_data_hist_np_all]\n",
    "encoder_ctrl_input_all  = [ np.squeeze(task_data_hist_np['ctrl_input']) for task_data_hist_np in task_data_hist_np_all]\n"
   ]
  },
  {
   "cell_type": "markdown",
   "metadata": {},
   "source": [
    "### tracking the velocity encoding"
   ]
  },
  {
   "cell_type": "code",
   "execution_count": null,
   "metadata": {
    "ExecuteTime": {
     "end_time": "2021-02-17T06:15:53.501180Z",
     "start_time": "2021-02-17T06:15:52.089Z"
    }
   },
   "outputs": [],
   "source": [
    "NUM_SUBPLOT_ROWS = 2\n",
    "NUM_SUBPLOT_COLUMNS = NUM_EXP\n",
    "\n",
    "\n",
    "fig, axes = plt.subplots(NUM_SUBPLOT_ROWS,NUM_EXP, figsize=(18, 6), facecolor='w', edgecolor='k')\n",
    "fig.subplots_adjust(hspace = .5, wspace=.001)\n",
    "\n",
    "time_axis = np.arange(INT_WIN_SAMPLES)/FRAME_RATE \n",
    "\n",
    "for i,a in enumerate(axes[0]):\n",
    "    \n",
    "    a.plot(time_axis, encoder_ctrl_input_all[i][:INT_WIN_SAMPLES,X_VEL_STATE_IND])\n",
    "    a.plot(time_axis, decoder_states_all[i][:INT_WIN_SAMPLES,X_VEL_STATE_IND])\n",
    "    a.set_title(exp_conds[i] +  'x vel')\n",
    "    \n",
    "    \n",
    "\n",
    "\n",
    "for i,a in enumerate(axes[1]):\n",
    "    \n",
    "    a.plot(time_axis, encoder_ctrl_input_all[i][:INT_WIN_SAMPLES,Y_VEL_STATE_IND])\n",
    "    a.plot(time_axis, decoder_states_all[i][:INT_WIN_SAMPLES,Y_VEL_STATE_IND])\n",
    "    a.set_title(exp_conds[i] +  ' Y vel')"
   ]
  },
  {
   "cell_type": "code",
   "execution_count": null,
   "metadata": {
    "ExecuteTime": {
     "end_time": "2021-02-17T06:15:53.501727Z",
     "start_time": "2021-02-17T06:15:52.091Z"
    }
   },
   "outputs": [],
   "source": [
    "N_VAR_1 = 0\n",
    "N_VAR_2 = 1\n",
    "\n",
    "corr_coefs = list()\n",
    "N_STATES = 7\n",
    "\n",
    "for i,ee in enumerate(exps):\n",
    "    corr_coef = [np.corrcoef(encoder_ctrl_input_all[i][:INT_WIN_SAMPLES,state_i],\n",
    "                            decoder_states_all[i][:INT_WIN_SAMPLES,state_i])[N_VAR_1,N_VAR_2]  for state_i in range(N_STATES)]\n",
    "    corr_coefs.append(corr_coef)\n",
    "    \n"
   ]
  },
  {
   "cell_type": "code",
   "execution_count": null,
   "metadata": {
    "ExecuteTime": {
     "end_time": "2021-02-17T06:15:53.502724Z",
     "start_time": "2021-02-17T06:15:52.093Z"
    }
   },
   "outputs": [],
   "source": [
    "# look at only one tracking. \n",
    "corrcoef_x_vel_all  = [c[X_VEL_STATE_IND] for c in corr_coefs]\n",
    "\n",
    "\n",
    "plt.plot(corrcoef_x_vel_all)\n",
    "plt.xlabel(f'Kalman filter C matrix in first {INT_WINDOW_TIME} s')\n",
    "plt.ylabel('Corr. coef.')"
   ]
  },
  {
   "cell_type": "markdown",
   "metadata": {},
   "source": [
    "from the analyses above we see that the encoder-decoder mismatch does influence the kalman filter performance\n",
    "from \n",
    "\n",
    "the random decoder failed to finish the tasks. \n",
    "the random decoder's decoder trajectorty\n",
    "low tracking performance."
   ]
  },
  {
   "cell_type": "markdown",
   "metadata": {},
   "source": [
    "# additional analyses"
   ]
  },
  {
   "cell_type": "markdown",
   "metadata": {},
   "source": [
    "## this system starts from feedback_controller"
   ]
  },
  {
   "cell_type": "markdown",
   "metadata": {},
   "source": [
    "feedback controller generates ctrl input matrix   \n",
    "from the difference between the target state and the and current state"
   ]
  },
  {
   "cell_type": "markdown",
   "metadata": {},
   "source": [
    "from LQRcontroller\n",
    "\n",
    " ns = self.A * current_state + self.B * self.F * (target_state - current_state)"
   ]
  },
  {
   "cell_type": "code",
   "execution_count": null,
   "metadata": {
    "ExecuteTime": {
     "end_time": "2021-02-17T06:15:53.503270Z",
     "start_time": "2021-02-17T06:15:52.097Z"
    }
   },
   "outputs": [],
   "source": [
    "for e in exps: \n",
    "    print(e.fb_ctrl.A)\n",
    "    print()"
   ]
  },
  {
   "cell_type": "code",
   "execution_count": null,
   "metadata": {
    "ExecuteTime": {
     "end_time": "2021-02-17T06:15:53.503732Z",
     "start_time": "2021-02-17T06:15:52.099Z"
    }
   },
   "outputs": [],
   "source": [
    "for e in exps: \n",
    "    print(e.fb_ctrl.B)\n",
    "    print()"
   ]
  },
  {
   "cell_type": "markdown",
   "metadata": {},
   "source": [
    "this feedback_controller matrix is calculated using the infinite horizon Linear Quardratic Programming method\n",
    "at the beginining "
   ]
  },
  {
   "cell_type": "markdown",
   "metadata": {},
   "source": [
    "again, from this equation  \n",
    "Bu = B * F * (target_state - current_state)  \n",
    "we get the control input"
   ]
  },
  {
   "cell_type": "markdown",
   "metadata": {},
   "source": [
    "## and the encoder generates the control firing rates from the control Bu vector"
   ]
  },
  {
   "cell_type": "markdown",
   "metadata": {},
   "source": [
    "from GenCosEnc line 130  \n",
    "rates = np.dot(self.C, next_state)  \n",
    "here, the Bu matrix is the next state  \n",
    "\n",
    "the rates are then used to gen spike counts in the same decoder function "
   ]
  },
  {
   "cell_type": "code",
   "execution_count": null,
   "metadata": {
    "ExecuteTime": {
     "end_time": "2021-02-17T06:15:53.504159Z",
     "start_time": "2021-02-17T06:15:52.102Z"
    }
   },
   "outputs": [],
   "source": [
    "\n",
    "\n",
    "for e in encoder_ctrl_input_all:\n",
    "    print(e.shape)"
   ]
  },
  {
   "cell_type": "code",
   "execution_count": null,
   "metadata": {
    "ExecuteTime": {
     "end_time": "2021-02-17T06:15:53.504536Z",
     "start_time": "2021-02-17T06:15:52.104Z"
    }
   },
   "outputs": [],
   "source": [
    "\n",
    "\n",
    "for encoder_ctrl_input in encoder_ctrl_input_all:\n",
    "    time_axis = np.arange(INT_WIN_SAMPLES) / FRAME_RATE\n",
    "    plt.plot(time_axis, encoder_ctrl_input[:INT_WIN_SAMPLES, X_VEL_STATE_IND]  )\n",
    "\n",
    "plt.legend(exp_conds)\n",
    "plt.xlabel('time (s)')\n",
    "plt.ylabel('Velocity')\n",
    "plt.title('Control vectors that go into the encoder')"
   ]
  },
  {
   "cell_type": "code",
   "execution_count": null,
   "metadata": {
    "ExecuteTime": {
     "end_time": "2021-02-17T06:15:53.504941Z",
     "start_time": "2021-02-17T06:15:52.106Z"
    }
   },
   "outputs": [],
   "source": [
    "time_axis = np.arange(INT_WIN_SAMPLES) / FRAME_RATE\n",
    "\n",
    "for encoder_ctrl_input in encoder_ctrl_input_all:\n",
    "    plt.plot(time_axis, \n",
    "             encoder_ctrl_input[:INT_WIN_SAMPLES, (X_VEL_STATE_IND, )])\n",
    "    \n",
    "    \n",
    "plt.xlabel('time (s)')\n",
    "plt.ylabel('Velocity')\n",
    "plt.title('Control vectors that go into the encoder')\n",
    "plt.legend(exp_conds)"
   ]
  },
  {
   "cell_type": "markdown",
   "metadata": {},
   "source": [
    "# compare decoder tracking with encoder"
   ]
  },
  {
   "cell_type": "markdown",
   "metadata": {},
   "source": [
    "we started off with three configurations of the decoder matrix.\n",
    "1. randomly assigned\n",
    "2. pretrained on gaussian generated state-firing pairs, the states were not coupled\n",
    "3. exactly the same as the decoder matrix"
   ]
  },
  {
   "cell_type": "code",
   "execution_count": null,
   "metadata": {
    "ExecuteTime": {
     "end_time": "2021-02-17T06:15:53.505400Z",
     "start_time": "2021-02-17T06:15:52.108Z"
    },
    "scrolled": true
   },
   "outputs": [],
   "source": [
    "for e in exps:\n",
    "    print(f'The tuning angles {exp_conds[i]}')\n",
    "    print(weights.cal_tuning_angle(np.array(e.bmi_system.decoder.filt.C)))"
   ]
  },
  {
   "cell_type": "markdown",
   "metadata": {},
   "source": [
    "yet, they all have the same A matrices\n"
   ]
  },
  {
   "cell_type": "code",
   "execution_count": null,
   "metadata": {
    "ExecuteTime": {
     "end_time": "2021-02-17T06:15:53.505833Z",
     "start_time": "2021-02-17T06:15:52.111Z"
    }
   },
   "outputs": [],
   "source": [
    "for i,e in enumerate(exps):\n",
    "    print(f'the Kalman C matrix for {exp_conds[i]}')\n",
    "    print(e.encoder.C)"
   ]
  },
  {
   "cell_type": "code",
   "execution_count": null,
   "metadata": {
    "ExecuteTime": {
     "end_time": "2021-02-09T04:16:09.071546Z",
     "start_time": "2021-02-09T04:15:18.875Z"
    }
   },
   "outputs": [],
   "source": []
  },
  {
   "cell_type": "markdown",
   "metadata": {},
   "source": [
    "let's look at the firing rates "
   ]
  },
  {
   "cell_type": "code",
   "execution_count": null,
   "metadata": {
    "ExecuteTime": {
     "end_time": "2021-02-17T06:15:53.506256Z",
     "start_time": "2021-02-17T06:15:52.114Z"
    }
   },
   "outputs": [],
   "source": [
    "firing_rates_all = [ np.squeeze(task_data_hist_np['spike_counts']) for task_data_hist_np in task_data_hist_np_all]"
   ]
  },
  {
   "cell_type": "code",
   "execution_count": null,
   "metadata": {
    "ExecuteTime": {
     "end_time": "2021-02-17T06:15:53.506713Z",
     "start_time": "2021-02-17T06:15:52.115Z"
    },
    "scrolled": true
   },
   "outputs": [],
   "source": [
    "NUM_SUBPLOT_ROWS = 1\n",
    "NUM_SUBPLOT_COLUMNS = NUM_EXP\n",
    "\n",
    "\n",
    "fig, axes = plt.subplots(NUM_SUBPLOT_ROWS,NUM_EXP, figsize=(18, 6), facecolor='w', edgecolor='k')\n",
    "fig.subplots_adjust(hspace = .5, wspace=.001)\n",
    "\n",
    "\n",
    "for i,a in enumerate(axes):\n",
    "    \n",
    "    a.plot(time_axis, firing_rates_all[i][:INT_WIN_SAMPLES,:])\n",
    "    a.set_title(exp_conds[i] +  'x pos')"
   ]
  },
  {
   "cell_type": "markdown",
   "metadata": {},
   "source": [
    "they are all really sparse"
   ]
  },
  {
   "cell_type": "code",
   "execution_count": null,
   "metadata": {
    "ExecuteTime": {
     "end_time": "2021-02-17T06:15:53.507566Z",
     "start_time": "2021-02-17T06:15:52.117Z"
    },
    "scrolled": true
   },
   "outputs": [],
   "source": [
    "NUM_SUBPLOT_ROWS = 2\n",
    "NUM_SUBPLOT_COLUMNS = NUM_EXP\n",
    "\n",
    "\n",
    "fig, axes = plt.subplots(NUM_SUBPLOT_ROWS,NUM_EXP, figsize=(18, 6), facecolor='w', edgecolor='k')\n",
    "fig.subplots_adjust(hspace = .5, wspace=.001)\n",
    "\n",
    "time_axis = np.arange(INT_WIN_SAMPLES)/FRAME_RATE \n",
    "\n",
    "for i,a in enumerate(axes[0]):\n",
    "    \n",
    "    a.plot(time_axis, encoder_ctrl_input_all[i][:INT_WIN_SAMPLES,X_POS_STATE_IND])\n",
    "    a.plot(time_axis, decoder_states_all[i][:INT_WIN_SAMPLES,X_POS_STATE_IND])\n",
    "    a.set_title(exp_conds[i] +  'x pos')\n",
    "    \n",
    "    \n",
    "\n",
    "\n",
    "for i,a in enumerate(axes[1]):\n",
    "    \n",
    "    a.plot(time_axis, encoder_ctrl_input_all[i][:INT_WIN_SAMPLES,Y_POS_STATE_IND])\n",
    "    a.plot(time_axis, decoder_states_all[i][:INT_WIN_SAMPLES,Y_POS_STATE_IND])\n",
    "    a.set_title(exp_conds[i] +  ' Y pos')\n",
    "    "
   ]
  },
  {
   "cell_type": "markdown",
   "metadata": {},
   "source": [
    "this tracks really well \n",
    "I think because the Kalman filter does not run on the positions. "
   ]
  },
  {
   "cell_type": "markdown",
   "metadata": {},
   "source": [
    "this is very interesing "
   ]
  },
  {
   "cell_type": "markdown",
   "metadata": {},
   "source": [
    "# summarize the behaviour"
   ]
  },
  {
   "cell_type": "markdown",
   "metadata": {},
   "source": [
    "## get the state log"
   ]
  },
  {
   "cell_type": "code",
   "execution_count": null,
   "metadata": {
    "ExecuteTime": {
     "end_time": "2021-02-16T03:20:25.517775Z",
     "start_time": "2021-02-16T03:20:25.515432Z"
    }
   },
   "outputs": [],
   "source": [
    "\n"
   ]
  },
  {
   "cell_type": "code",
   "execution_count": null,
   "metadata": {
    "ExecuteTime": {
     "end_time": "2021-02-15T01:25:44.136353Z",
     "start_time": "2021-02-15T01:25:44.094017Z"
    }
   },
   "outputs": [],
   "source": []
  },
  {
   "cell_type": "code",
   "execution_count": null,
   "metadata": {
    "ExecuteTime": {
     "end_time": "2021-02-17T06:15:53.508039Z",
     "start_time": "2021-02-17T06:15:52.122Z"
    },
    "scrolled": true
   },
   "outputs": [],
   "source": [
    "\n",
    "    \n",
    "    \n",
    "\n",
    "#wait_seq = filter_state(state_log, 'wait')\n",
    "#wait_seq_diff = np.array(calc_inter_wait_times(wait_seq))\n",
    "#len(wait_seq_diff)"
   ]
  },
  {
   "cell_type": "markdown",
   "metadata": {},
   "source": [
    "# examine tracking by trial"
   ]
  },
  {
   "cell_type": "code",
   "execution_count": null,
   "metadata": {
    "ExecuteTime": {
     "end_time": "2021-02-17T06:15:53.509944Z",
     "start_time": "2021-02-17T06:15:52.124Z"
    },
    "code_folding": [],
    "scrolled": true
   },
   "outputs": [],
   "source": [
    "#get the timings \n",
    "i = 0\n",
    "\n",
    "corre_coef_exp = list()\n",
    "for e_i,e in enumerate(exps):\n",
    "    \n",
    "    \n",
    "    corr_coef_window = list()\n",
    "    for trial_start_time, trial_length in wait_seq_diff:\n",
    "        win_start_sample = int(trial_start_time * FRAME_RATE)\n",
    "        win_finish_sample = int((trial_start_time + trial_length) * FRAME_RATE)\n",
    "\n",
    "        window_range = range(win_start_sample,win_finish_sample)\n",
    "\n",
    "        corr_coef = [np.corrcoef(encoder_ctrl_input_all[i][window_range,state_i],\n",
    "                            decoder_states_all[i][window_range,state_i])[1,1]  for state_i in range(N_STATES)]\n",
    "\n",
    "        corr_coef_window.append(corr_coef)\n",
    "    \n",
    "    corre_coef_exp.append(corr_coef_window)\n",
    "    \n",
    "\n",
    "    \n",
    "corre_coef_exp = np.array(corre_coef_exp)\n",
    "corre_coef_exp.shape"
   ]
  },
  {
   "cell_type": "code",
   "execution_count": null,
   "metadata": {
    "ExecuteTime": {
     "end_time": "2021-02-17T06:15:53.510559Z",
     "start_time": "2021-02-17T06:15:52.126Z"
    }
   },
   "outputs": [],
   "source": [
    "plt.plot(np.squeeze(corre_coef_exp[:,:,X_VEL_STATE_IND]).T)\n"
   ]
  }
 ],
 "metadata": {
  "kernelspec": {
   "display_name": "Python 3",
   "language": "python",
   "name": "python3"
  },
  "language_info": {
   "codemirror_mode": {
    "name": "ipython",
    "version": 3
   },
   "file_extension": ".py",
   "mimetype": "text/x-python",
   "name": "python",
   "nbconvert_exporter": "python",
   "pygments_lexer": "ipython3",
   "version": "3.8.5"
  },
  "toc": {
   "base_numbering": 1,
   "nav_menu": {},
   "number_sections": true,
   "sideBar": true,
   "skip_h1_title": false,
   "title_cell": "Table of Contents",
   "title_sidebar": "Contents",
   "toc_cell": false,
   "toc_position": {
    "height": "calc(100% - 180px)",
    "left": "10px",
    "top": "150px",
    "width": "293.115px"
   },
   "toc_section_display": true,
   "toc_window_display": true
  },
  "varInspector": {
   "cols": {
    "lenName": 16,
    "lenType": 16,
    "lenVar": 40
   },
   "kernels_config": {
    "python": {
     "delete_cmd_postfix": "",
     "delete_cmd_prefix": "del ",
     "library": "var_list.py",
     "varRefreshCmd": "print(var_dic_list())"
    },
    "r": {
     "delete_cmd_postfix": ") ",
     "delete_cmd_prefix": "rm(",
     "library": "var_list.r",
     "varRefreshCmd": "cat(var_dic_list()) "
    }
   },
   "types_to_exclude": [
    "module",
    "function",
    "builtin_function_or_method",
    "instance",
    "_Feature"
   ],
   "window_display": false
  }
 },
 "nbformat": 4,
 "nbformat_minor": 4
}
