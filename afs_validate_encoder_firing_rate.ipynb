{
 "cells": [
  {
   "cell_type": "markdown",
   "metadata": {},
   "source": [
    "make sure the SNR is actually being changed  \n",
    "and test out the new encoder set up  \n",
    "the idea is that we have a bunch of neurons that are gonna fire at the same firing rate\n",
    "then I would then calculate the mean and standard deviation. "
   ]
  },
  {
   "cell_type": "code",
   "execution_count": 1,
   "metadata": {
    "ExecuteTime": {
     "end_time": "2021-04-01T23:19:09.471943Z",
     "start_time": "2021-04-01T23:19:09.412098Z"
    }
   },
   "outputs": [
    {
     "name": "stdout",
     "output_type": "stream",
     "text": [
      "set up the variances in a list:\n",
      "[[0. ]\n",
      " [0.1]\n",
      " [0.2]\n",
      " [0.3]\n",
      " [0.4]\n",
      " [0.5]\n",
      " [0.6]\n",
      " [0.7]\n",
      " [0.8]\n",
      " [0.9]\n",
      " [1. ]\n",
      " [1.1]\n",
      " [1.2]]\n",
      "we therefore know the number of neurons to be 13\n"
     ]
    }
   ],
   "source": [
    "import numpy as np\n",
    "np.set_printoptions(precision=2, suppress=True)\n",
    "\n",
    "\n",
    "percent_of_variance_in_a_list = np.arange(0, 1.3, 0.1)[:, np.newaxis]\n",
    "\n",
    "print(f'set up the variances in a list:')\n",
    "\n",
    "print(percent_of_variance_in_a_list)\n",
    "\n",
    "n_neurons = len(percent_of_variance_in_a_list)\n",
    "\n",
    "print(f'we therefore know the number of neurons to be {n_neurons}')\n"
   ]
  },
  {
   "cell_type": "code",
   "execution_count": 2,
   "metadata": {
    "ExecuteTime": {
     "end_time": "2021-04-01T23:19:10.006135Z",
     "start_time": "2021-04-01T23:19:09.473066Z"
    }
   },
   "outputs": [
    {
     "name": "stdout",
     "output_type": "stream",
     "text": [
      "we need to validate that the generated firing rates, should be different\n",
      "we meed to set up the encoder\n"
     ]
    },
    {
     "name": "stderr",
     "output_type": "stream",
     "text": [
      "/home/sijia-aw/BMi3D_my/lab_bmi3d/riglib/blackrock/cerelink.py:13: UserWarning: Unable to import cerebus library. Check if is installed if using the Blackrock NeuroPort system\n",
      "  warnings.warn(\"Unable to import cerebus library. Check if is installed if using the Blackrock NeuroPort system\")\n"
     ]
    }
   ],
   "source": [
    "from features.simulation_features import get_enc_setup\n",
    "\n",
    "print(f'we need to validate that the generated firing rates, should be different')\n",
    "print(f'we meed to set up the encoder')\n",
    "      \n",
    "ENCODER_TYPE = 'cosine_tuned_encoder'\n",
    "\n",
    "#neuron set up : 'std (20 neurons)' or 'toy (4 neurons)' \n",
    "#N_NEURONS, N_STATES, sim_C = get_enc_setup(sim_mode = 'rot_90',\n",
    "#                                          n_neurons = n_neurons)\n",
    "\n",
    "N_NEURONS = n_neurons\n",
    "N_STATES = 7\n",
    "X_VEL_IND = 3\n",
    "MEAN_FIRING_RATE = 100\n",
    "\n",
    "sim_C = np.zeros((N_NEURONS, N_STATES))\n",
    "\n",
    "sim_C[:,X_VEL_IND] = MEAN_FIRING_RATE"
   ]
  },
  {
   "cell_type": "code",
   "execution_count": 3,
   "metadata": {
    "ExecuteTime": {
     "end_time": "2021-04-01T23:19:10.012042Z",
     "start_time": "2021-04-01T23:19:10.007003Z"
    }
   },
   "outputs": [
    {
     "name": "stdout",
     "output_type": "stream",
     "text": [
      "at the heart of this algorithm is that\n",
      "we are generating poisson spikes at rates determined by sim_C and ssm \n",
      " multiplied by the interval of 0.1 s\n"
     ]
    },
    {
     "data": {
      "text/plain": [
       "array([[11],\n",
       "       [10],\n",
       "       [ 9],\n",
       "       [ 7],\n",
       "       [12],\n",
       "       [10],\n",
       "       [16],\n",
       "       [15],\n",
       "       [ 9],\n",
       "       [14],\n",
       "       [ 6],\n",
       "       [ 8],\n",
       "       [10]])"
      ]
     },
     "execution_count": 3,
     "metadata": {},
     "output_type": "execute_result"
    }
   ],
   "source": [
    "from features.simulation_features import SimCosineTunedEnc\n",
    "from riglib.bmi.state_space_models import StateSpaceEndptVel2D\n",
    "from riglib.bmi.sim_neurons import GenericCosEnc\n",
    "\n",
    "ssm = StateSpaceEndptVel2D()\n",
    "\n",
    "\n",
    "generic_cosine_enc = GenericCosEnc(sim_C, ssm)\n",
    "\n",
    "state_sample = np.array([0,0,0,1,0,0,0])[:,np.newaxis]\n",
    "\n",
    "\n",
    "print(f'at the heart of this algorithm is that')\n",
    "print(f'we are generating poisson spikes at rates determined by sim_C and ssm ')\n",
    "print(f' multiplied by the interval of {generic_cosine_enc.DT} s')\n",
    "\n",
    "generic_cosine_enc(state_sample)"
   ]
  },
  {
   "cell_type": "markdown",
   "metadata": {},
   "source": [
    "# Validate new encoder with added noises"
   ]
  },
  {
   "cell_type": "code",
   "execution_count": 4,
   "metadata": {
    "ExecuteTime": {
     "end_time": "2021-04-01T23:19:10.025709Z",
     "start_time": "2021-04-01T23:19:10.012825Z"
    }
   },
   "outputs": [
    {
     "name": "stdout",
     "output_type": "stream",
     "text": [
      "<bound method GenericCosEncWithNoise._gen_relative_gaussian_noise of <riglib.bmi.sim_neurons.GenericCosEncWithNoise object at 0x7f8579f57e20>>\n"
     ]
    },
    {
     "data": {
      "text/plain": [
       "array([[  0.,   0.,   0., 100.,   0.,   0.,   0.],\n",
       "       [  0.,   0.,   0., 100.,   0.,   0.,   0.],\n",
       "       [  0.,   0.,   0., 100.,   0.,   0.,   0.],\n",
       "       [  0.,   0.,   0., 100.,   0.,   0.,   0.],\n",
       "       [  0.,   0.,   0., 100.,   0.,   0.,   0.],\n",
       "       [  0.,   0.,   0., 100.,   0.,   0.,   0.],\n",
       "       [  0.,   0.,   0., 100.,   0.,   0.,   0.],\n",
       "       [  0.,   0.,   0., 100.,   0.,   0.,   0.],\n",
       "       [  0.,   0.,   0., 100.,   0.,   0.,   0.],\n",
       "       [  0.,   0.,   0., 100.,   0.,   0.,   0.],\n",
       "       [  0.,   0.,   0., 100.,   0.,   0.,   0.],\n",
       "       [  0.,   0.,   0., 100.,   0.,   0.,   0.],\n",
       "       [  0.,   0.,   0., 100.,   0.,   0.,   0.]])"
      ]
     },
     "execution_count": 4,
     "metadata": {},
     "output_type": "execute_result"
    }
   ],
   "source": [
    "from riglib.bmi.sim_neurons import GenericCosEncWithNoise\n",
    "\n",
    "cos_enc_poisson_noise = GenericCosEncWithNoise(sim_C, ssm, noise_mode = 'relative_gaussian',\n",
    "                                                 noise_profile= percent_of_variance_in_a_list)\n",
    "sim_C"
   ]
  },
  {
   "cell_type": "code",
   "execution_count": 18,
   "metadata": {
    "ExecuteTime": {
     "end_time": "2021-04-01T23:19:29.781216Z",
     "start_time": "2021-04-01T23:19:29.777314Z"
    },
    "scrolled": true
   },
   "outputs": [
    {
     "name": "stdout",
     "output_type": "stream",
     "text": [
      "uisng the same state sample\n",
      "[[111]\n",
      " [ 86]\n",
      " [100]\n",
      " [ 78]\n",
      " [110]\n",
      " [ 98]\n",
      " [ 94]\n",
      " [ 85]\n",
      " [102]\n",
      " [ 94]\n",
      " [ 87]\n",
      " [117]\n",
      " [ 90]]\n"
     ]
    },
    {
     "data": {
      "text/plain": [
       "array([[111.  ],\n",
       "       [ 96.  ],\n",
       "       [ 98.91],\n",
       "       [ 70.37],\n",
       "       [127.55],\n",
       "       [ 69.54],\n",
       "       [155.11],\n",
       "       [ 81.17],\n",
       "       [ 86.9 ],\n",
       "       [  0.  ],\n",
       "       [186.79],\n",
       "       [184.04],\n",
       "       [198.45]])"
      ]
     },
     "execution_count": 18,
     "metadata": {},
     "output_type": "execute_result"
    }
   ],
   "source": [
    "print(f'uisng the same state sample')\n",
    "\n",
    "state_sample = np.array([0,0,0,10,0,0,0])[:,np.newaxis]\n",
    "\n",
    "x = cos_enc_poisson_noise(state_sample)\n",
    "x"
   ]
  },
  {
   "cell_type": "markdown",
   "metadata": {},
   "source": [
    "# calculate the residue"
   ]
  },
  {
   "cell_type": "code",
   "execution_count": null,
   "metadata": {},
   "outputs": [],
   "source": []
  }
 ],
 "metadata": {
  "kernelspec": {
   "display_name": "Python 3.8.5 64-bit",
   "language": "python",
   "name": "python38564bit9a5245e0d82745b4b2cc081b2643eb8e"
  },
  "language_info": {
   "codemirror_mode": {
    "name": "ipython",
    "version": 3
   },
   "file_extension": ".py",
   "mimetype": "text/x-python",
   "name": "python",
   "nbconvert_exporter": "python",
   "pygments_lexer": "ipython3",
   "version": "3.8.5"
  },
  "toc": {
   "base_numbering": 1,
   "nav_menu": {},
   "number_sections": true,
   "sideBar": true,
   "skip_h1_title": false,
   "title_cell": "Table of Contents",
   "title_sidebar": "Contents",
   "toc_cell": false,
   "toc_position": {},
   "toc_section_display": true,
   "toc_window_display": true
  }
 },
 "nbformat": 4,
 "nbformat_minor": 4
}
